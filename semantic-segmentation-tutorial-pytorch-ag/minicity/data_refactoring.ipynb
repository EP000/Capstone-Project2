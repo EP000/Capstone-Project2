{
 "cells": [
  {
   "cell_type": "code",
   "execution_count": 23,
   "metadata": {
    "scrolled": true
   },
   "outputs": [
    {
     "name": "stdout",
     "output_type": "stream",
     "text": [
      "/home/ag/semantic-segmentation-tutorial-pytorch-ag/minicity/data/Labeled_data/ \n",
      " /home/ag/semantic-segmentation-tutorial-pytorch-ag/minicity/data/Original_data/\n",
      "['Seq05VD_f00750_L.png', 'Seq05VD_f02880_L.png', '0016E5_08123_L.png', '0001TP_009360_L.png', '0016E5_08041_L.png']\n",
      "['0016E5_08069.png', '0016E5_08045.png', '0016E5_08051.png', '0001TP_006780.png', '0001TP_007680.png']\n",
      "['Seq05VD_f00750_L.png', 'Seq05VD_f02880_L.png', '0016E5_08123_L.png', '0001TP_009360_L.png', '0016E5_08041_L.png']\n",
      "['0016E5_08069.png', '0016E5_08045.png', '0016E5_08051.png', '0001TP_006780.png', '0001TP_007680.png']\n"
     ]
    }
   ],
   "source": [
    "import os\n",
    "\n",
    "label_path = os.getcwd() + '/data/Labeled_data/'\n",
    "origin_path = os.getcwd() + '/data/Original_data/'\n",
    "print(label_path, '\\n',origin_path)\n",
    "\n",
    "label_list = os.listdir(label_path)\n",
    "origin_list = os.listdir(origin_path)\n",
    "\n",
    "print(label_list[0:5])\n",
    "print(origin_list[0:5])\n",
    "      \n",
    "label_list = os.listdir(label_path)\n",
    "origin_list = os.listdir(origin_path)\n",
    "\n",
    "print(label_list[0:5])\n",
    "print(origin_list[0:5])"
   ]
  },
  {
   "cell_type": "code",
   "execution_count": 24,
   "metadata": {},
   "outputs": [],
   "source": [
    "from PIL import Image\n",
    "import numpy as np\n",
    "from tqdm import tqdm"
   ]
  },
  {
   "cell_type": "code",
   "execution_count": 25,
   "metadata": {
    "scrolled": false
   },
   "outputs": [],
   "source": [
    "#print(np.array(Image.open(label_path + label_list[0])).reshape(-1, 3).shape)\n",
    "#img = np.array(Image.open(label_path + label_list[0])).reshape(-1, 3)[0]\n",
    "#print(img)\n",
    "#print([img[0], img[1], img[2]])\n",
    "#print([img[0], img[1], img[2]] == [128, 0, 0])\n",
    "#print(np.array(Image.open(label_path + label_list[0])).reshape(-1, 3)[0])\n",
    "#print(type(np.array(Image.open(label_path + label_list[0])).reshape(-1, 3)[0]))\n",
    "#print(np.array(Image.open(label_path + label_list[0])).shape)\n",
    "#print(np.array(Image.open(label_path + label_list[0]))[0].shape)\n",
    "#print(np.array(Image.open(label_path + label_list[0]))[0][0].shape)\n",
    "#print(np.array(Image.open(label_path + label_list[0]))[0][0])\n",
    "#print(np.array(Image.open(label_path + label_list[0]))[0][0][0])\n",
    "#print(np.array(Image.open(label_path + label_list[0]))[0][0][0] == 128) # 이렇게 픽셀 값 하나씩 다 비교해야됨,,,,?\n",
    "#print([np.array(Image.open(label_path + label_list[0]))[0][0]] == [128,0,0])"
   ]
  },
  {
   "cell_type": "code",
   "execution_count": 26,
   "metadata": {},
   "outputs": [],
   "source": [
    "from collections import namedtuple\n",
    "\n",
    "\n",
    "#--------------------------------------------------------------------------------\n",
    "# Definitions\n",
    "#--------------------------------------------------------------------------------\n",
    "\n",
    "# a label and all meta information\n",
    "Label = namedtuple( 'Label' , [\n",
    "\n",
    "    'name'        , # The identifier of this label, e.g. 'car', 'person', ... .\n",
    "                    # We use them to uniquely name a class\n",
    "\n",
    "    'id'          , # An integer ID that is associated with this label.\n",
    "                    # The IDs are used to represent the label in ground truth images\n",
    "                    # An ID of -1 means that this label does not have an ID and thus\n",
    "                    # is ignored when creating ground truth images (e.g. license plate).\n",
    "                    # Do not modify these IDs, since exactly these IDs are expected by the\n",
    "                    # evaluation server.\n",
    "\n",
    "    'trainId'     , # Feel free to modify these IDs as suitable for your method. Then create\n",
    "                    # ground truth images with train IDs, using the tools provided in the\n",
    "                    # 'preparation' folder. However, make sure to validate or submit results\n",
    "                    # to our evaluation server using the regular IDs above!\n",
    "                    # For trainIds, multiple labels might have the same ID. Then, these labels\n",
    "                    # are mapped to the same class in the ground truth images. For the inverse\n",
    "                    # mapping, we use the label that is defined first in the list below.\n",
    "                    # For example, mapping all void-type classes to the same ID in training,\n",
    "                    # might make sense for some approaches.\n",
    "                    # Max value is 255!\n",
    "\n",
    "    'category'    , # The name of the category that this label belongs to\n",
    "\n",
    "    'categoryId'  , # The ID of this category. Used to create ground truth images\n",
    "                    # on category level.\n",
    "\n",
    "    'hasInstances', # Whether this label distinguishes between single instances or not\n",
    "\n",
    "    'ignoreInEval', # Whether pixels having this class as ground truth label are ignored\n",
    "                    # during evaluations or not\n",
    "\n",
    "    'color'       , # The color of this label\n",
    "    ] )\n",
    "\n",
    "\n",
    "#--------------------------------------------------------------------------------\n",
    "# A list of all labels\n",
    "#--------------------------------------------------------------------------------\n",
    "\n",
    "# Please adapt the train IDs as appropriate for your approach.\n",
    "# Note that you might want to ignore labels with ID 255 during training.\n",
    "# Further note that the current train IDs are only a suggestion. You can use whatever you like.\n",
    "# Make sure to provide your results using the original IDs and not the training IDs.\n",
    "# Note that many IDs are ignored in evaluation and thus you never need to predict these!\n",
    "\n",
    "labels = [\n",
    "    #       name                     id    trainId   category            catId     hasInstances   ignoreInEval   color\n",
    "    \n",
    "    Label(  'Pole'                 ,  0 ,        0 , 'object'          , 0       , False        , True         , (  0,  0, 64) ),\n",
    "    Label(  'Pole'                 ,  1 ,        0 , 'object'          , 0       , False        , True         , (192,192,128) ),\n",
    "    Label(  'SignSymbol'           ,  2 ,        1 , 'object'          , 0       , False        , True         , (128,128, 64) ),\n",
    "    Label(  'SignSymbol'           ,  3 ,        1 , 'object'          , 0       , False        , True         , (192,128,128) ),\n",
    "    Label(  'SignSymbol'           ,  4 ,        1 , 'object'          , 0       , False        , True         , (  0, 64, 64) ),\n",
    "    \n",
    "    Label(  'Bicyclist'            ,  5 ,        2 , 'human'           , 1       , True         , False        , (  0,128,192) ),\n",
    "    Label(  'Bicyclist'            ,  6 ,        2 , 'human'           , 1       , True         , False        , (192,  0,192) ),\n",
    "    Label(  'Pedestrian'           ,  7 ,        3 , 'human'           , 1       , True         , False        , ( 64, 64,  0) ),\n",
    "    Label(  'Pedestrian'           ,  8 ,        3 , 'human'           , 1       , True         , False        , (192,128, 64) ),\n",
    "    Label(  'Pedestrian'           ,  9 ,        3 , 'human'           , 1       , True         , False        , ( 64,128, 64) ),\n",
    "    Label(  'Pedestrian'           , 10 ,        3 , 'human'           , 1       , True         , False        , ( 64,  0,192) ),\n",
    "    \n",
    "    Label(  'Building'             , 11 ,        4 , 'construction'    , 2       , False        , False        , ( 64,  0, 64) ),\n",
    "    Label(  'Building'             , 12 ,        4 , 'construction'    , 2       , False        , False        , (128,  0,  0) ),\n",
    "    Label(  'Building'             , 13 ,        4 , 'construction'    , 2       , False        , False        , (192,  0,128) ),\n",
    "    Label(  'Building'             , 14 ,        4 , 'construction'    , 2       , False        , False        , ( 64,192,  0) ),\n",
    "    Label(  'Building'             , 15 ,        4 , 'construction'    , 2       , False        , False        , (  0,128, 64) ),\n",
    "    Label(  'Fence'                , 16 ,        5 , 'construction'    , 2       , False        , False        , ( 64,128, 64) ),\n",
    "    \n",
    "    Label(  'Pavement'             , 17 ,        6 , 'flat'            , 3       , False        , False        , ( 64,192,128) ),\n",
    "    Label(  'Pavement'             , 18 ,        6 , 'flat'            , 3       , False        , False        , (128,128,192) ),\n",
    "    Label(  'Pavement'             , 19 ,        6 , 'flat'            , 3       , False        , False        , (  0,  0,192) ),\n",
    "    Label(  'Road'                 , 20 ,        7 , 'flat'            , 3       , False        , False        , (192,  0, 64) ),\n",
    "    \n",
    "    Label(  'Car'                  , 21 ,        8 , 'vehicle'         , 4       , True         , False        , ( 64,128,192) ),\n",
    "    Label(  'Car'                  , 22 ,        8 , 'vehicle'         , 4       , True         , False        , (128, 64, 64) ),\n",
    "    Label(  'Car'                  , 23 ,        8 , 'vehicle'         , 4       , True         , False        , (192,128,192) ),\n",
    "    Label(  'Car'                  , 24 ,        8 , 'vehicle'         , 4       , True         , False        , ( 64,  0,128) ),\n",
    "    \n",
    "    Label(  'Sky'                  , 25 ,        9 , 'sky'             , 5       , False        , False        , (128,128,128) ),\n",
    "    \n",
    "    Label(  'Tree'                 , 26 ,       10 , 'nature'          , 6       , False        , False        , (192,192,  0) ),\n",
    "    Label(  'Tree'                 , 27 ,       10 , 'nature'          , 6       , False        , False        , (128,128,  0) ),\n",
    "]"
   ]
  },
  {
   "cell_type": "code",
   "execution_count": 27,
   "metadata": {},
   "outputs": [],
   "source": [
    "pixel2id = {' '.join(map(str, label.color)): label.trainId for label in labels}"
   ]
  },
  {
   "cell_type": "code",
   "execution_count": 28,
   "metadata": {},
   "outputs": [],
   "source": [
    "# pixel2id"
   ]
  },
  {
   "cell_type": "code",
   "execution_count": 29,
   "metadata": {},
   "outputs": [],
   "source": [
    "new_label_path = os.getcwd() + '/data/New/'"
   ]
  },
  {
   "cell_type": "code",
   "execution_count": 31,
   "metadata": {},
   "outputs": [
    {
     "name": "stderr",
     "output_type": "stream",
     "text": [
      "100%|██████████| 701/701 [21:46<00:00,  1.86s/it]\n"
     ]
    }
   ],
   "source": [
    "for p in tqdm(label_list):\n",
    "    img = np.array(Image.open(label_path + p))\n",
    "    ret = np.array([[pixel2id[' '.join(map(str, pixel))] if ' '.join(map(str, pixel)) in pixel2id else 11 for pixel in row] for row in img], dtype=np.uint8)\n",
    "    Image.fromarray(ret).save(new_label_path  + p)"
   ]
  },
  {
   "cell_type": "code",
   "execution_count": 11,
   "metadata": {},
   "outputs": [],
   "source": [
    "import matplotlib.pyplot as plt"
   ]
  },
  {
   "cell_type": "code",
   "execution_count": 12,
   "metadata": {},
   "outputs": [],
   "source": [
    "import matplotlib"
   ]
  },
  {
   "cell_type": "code",
   "execution_count": 15,
   "metadata": {},
   "outputs": [],
   "source": [
    "matplotlib.image.imsave('test.png', ret)"
   ]
  },
  {
   "cell_type": "code",
   "execution_count": 17,
   "metadata": {},
   "outputs": [],
   "source": [
    "Image.fromarray(ret).save(new_label_path  + 'test.png')"
   ]
  },
  {
   "cell_type": "code",
   "execution_count": 18,
   "metadata": {},
   "outputs": [
    {
     "data": {
      "text/plain": [
       "(720, 960)"
      ]
     },
     "execution_count": 18,
     "metadata": {},
     "output_type": "execute_result"
    }
   ],
   "source": [
    "ret.shape"
   ]
  },
  {
   "cell_type": "code",
   "execution_count": 19,
   "metadata": {},
   "outputs": [
    {
     "data": {
      "text/plain": [
       "array([[  4,   4,   4, ...,   4,   4,   4],\n",
       "       [  4,   4,   4, ...,   4,   4,   4],\n",
       "       [  4,   4,   4, ...,   4,   4,   4],\n",
       "       ...,\n",
       "       [255, 255, 255, ..., 255, 255, 255],\n",
       "       [255, 255, 255, ..., 255, 255, 255],\n",
       "       [255, 255, 255, ..., 255, 255, 255]], dtype=uint8)"
      ]
     },
     "execution_count": 19,
     "metadata": {},
     "output_type": "execute_result"
    }
   ],
   "source": [
    "np.array(Image.open(new_label_path  + 'test.png'))"
   ]
  },
  {
   "cell_type": "code",
   "execution_count": 20,
   "metadata": {},
   "outputs": [],
   "source": [
    "new_label_path = os.getcwd() + '/data/New_labeled_data/'\n",
    "Image.fromarray(ret, ).save(new_label_path  + 'test.png')"
   ]
  },
  {
   "cell_type": "code",
   "execution_count": 21,
   "metadata": {},
   "outputs": [
    {
     "data": {
      "text/plain": [
       "<matplotlib.image.AxesImage at 0x7fce656e0690>"
      ]
     },
     "execution_count": 21,
     "metadata": {},
     "output_type": "execute_result"
    },
    {
     "data": {
      "image/png": "[encoded data removed]",
      "text/plain": [
       "<Figure size 432x288 with 1 Axes>"
      ]
     },
     "metadata": {
      "needs_background": "light"
     },
     "output_type": "display_data"
    }
   ],
   "source": [
    "plt.imshow(np.array(ret), cmap='gray')"
   ]
  },
  {
   "cell_type": "code",
   "execution_count": 22,
   "metadata": {
    "scrolled": true
   },
   "outputs": [
    {
     "data": {
      "text/plain": [
       "(720, 960)"
      ]
     },
     "execution_count": 22,
     "metadata": {},
     "output_type": "execute_result"
    }
   ],
   "source": [
    "ret.shape"
   ]
  },
  {
   "cell_type": "code",
   "execution_count": 33,
   "metadata": {},
   "outputs": [
    {
     "data": {
      "text/plain": [
       "'0016E5_07470_L.png'"
      ]
     },
     "execution_count": 33,
     "metadata": {},
     "output_type": "execute_result"
    }
   ],
   "source": []
  },
  {
   "cell_type": "code",
   "execution_count": null,
   "metadata": {},
   "outputs": [],
   "source": [
    "minicity/data/Labeled_data"
   ]
  },
  {
   "cell_type": "code",
   "execution_count": 5,
   "metadata": {},
   "outputs": [
    {
     "data": {
      "text/plain": [
       "'/home/ag/semantic-segmentation-tutorial-pytorch-ag/minicity/data/New/'"
      ]
     },
     "execution_count": 5,
     "metadata": {},
     "output_type": "execute_result"
    }
   ],
   "source": [
    "new_label_path"
   ]
  },
  {
   "cell_type": "code",
   "execution_count": 6,
   "metadata": {},
   "outputs": [],
   "source": [
    "new_label_list = os.listdir(new_label_path)"
   ]
  },
  {
   "cell_type": "code",
   "execution_count": 38,
   "metadata": {},
   "outputs": [
    {
     "data": {
      "text/plain": [
       "array([[  4,   4,   4, ...,  10,  10,  10],\n",
       "       [  4,   4,   4, ...,  10,  10,  10],\n",
       "       [  4,   4,   4, ...,  10,  10,  10],\n",
       "       ...,\n",
       "       [  6,   6,   6, ..., 255, 255, 255],\n",
       "       [  6,   6,   6, ..., 255, 255, 255],\n",
       "       [  6,   6,   6, ..., 255, 255, 255]], dtype=uint8)"
      ]
     },
     "execution_count": 38,
     "metadata": {},
     "output_type": "execute_result"
    }
   ],
   "source": [
    "np.array(Image.open('./gtFine/train/0016E5_08069_L.png'))"
   ]
  },
  {
   "cell_type": "code",
   "execution_count": 22,
   "metadata": {
    "scrolled": true
   },
   "outputs": [
    {
     "data": {
      "text/plain": [
       "<matplotlib.image.AxesImage at 0x7f92ac370710>"
      ]
     },
     "execution_count": 22,
     "metadata": {},
     "output_type": "execute_result"
    },
    {
     "data": {
      "image/png": "[encoded data removed]",
      "text/plain": [
       "<Figure size 432x288 with 1 Axes>"
      ]
     },
     "metadata": {
      "needs_background": "light"
     },
     "output_type": "display_data"
    }
   ],
   "source": [
    "plt.imshow(np.array(Image.open(new_label_path  + new_label_list[0])), cmap='gray')"
   ]
  },
  {
   "cell_type": "code",
   "execution_count": 21,
   "metadata": {},
   "outputs": [
    {
     "data": {
      "text/plain": [
       "<matplotlib.image.AxesImage at 0x7f92ac3fd910>"
      ]
     },
     "execution_count": 21,
     "metadata": {},
     "output_type": "execute_result"
    },
    {
     "data": {
      "image/png": "[encoded data removed]",
      "text/plain": [
       "<Figure size 432x288 with 1 Axes>"
      ]
     },
     "metadata": {
      "needs_background": "light"
     },
     "output_type": "display_data"
    }
   ],
   "source": [
    "plt.imshow(np.array(Image.open(label_path  + label_list[0])))"
   ]
  },
  {
   "cell_type": "code",
   "execution_count": null,
   "metadata": {},
   "outputs": [],
   "source": []
  }
 ],
 "metadata": {
  "kernelspec": {
   "display_name": "AG Capstone",
   "language": "python",
   "name": "venv_capstone"
  },
  "language_info": {
   "codemirror_mode": {
    "name": "ipython",
    "version": 3
   },
   "file_extension": ".py",
   "mimetype": "text/x-python",
   "name": "python",
   "nbconvert_exporter": "python",
   "pygments_lexer": "ipython3",
   "version": "3.7.5"
  }
 },
 "nbformat": 4,
 "nbformat_minor": 4
}
