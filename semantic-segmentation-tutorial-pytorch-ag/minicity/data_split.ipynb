{
 "cells": [
  {
   "cell_type": "code",
   "execution_count": 6,
   "metadata": {},
   "outputs": [
    {
     "name": "stdout",
     "output_type": "stream",
     "text": [
      "('/home/ag/semantic-segmentation-tutorial-pytorch-ag/minicity/data/New_labeled_data/', '/home/ag/semantic-segmentation-tutorial-pytorch-ag/minicity/data/Original_data/')\n",
      "['Seq05VD_f00750_L.png', 'Seq05VD_f02880_L.png', '0016E5_08123_L.png', '0001TP_009360_L.png', '0016E5_08041_L.png']\n",
      "['0016E5_08069.png', '0016E5_08045.png', '0016E5_08051.png', '0001TP_006780.png', '0001TP_007680.png']\n"
     ]
    }
   ],
   "source": [
    "import os\n",
    "\n",
    "label_path = os.getcwd() + '/data/New/'\n",
    "origin_path = os.getcwd() + '/data/Original_data/'\n",
    "print(label_path, origin_path)\n",
    "\n",
    "label_list = os.listdir(label_path)\n",
    "origin_list = os.listdir(origin_path)\n",
    "\n",
    "print(label_list[0:5])\n",
    "print(origin_list[0:5])"
   ]
  },
  {
   "cell_type": "code",
   "execution_count": 7,
   "metadata": {},
   "outputs": [
    {
     "name": "stdout",
     "output_type": "stream",
     "text": [
      "('total : ', 701)\n",
      "490\n",
      "70\n",
      "140\n",
      "('train : ', 490)\n",
      "('valid : ', 70)\n",
      "('test : ', 141)\n",
      "('total : ', 701)\n"
     ]
    }
   ],
   "source": [
    "# train 70% / vali 10% / test 20% split\n",
    "\n",
    "from random import *\n",
    "\n",
    "print('total : ',len(origin_list))\n",
    "print(int(len(origin_list)*0.7)) # train\n",
    "print(int(len(origin_list)*0.1)) # valid\n",
    "print(int(len(origin_list)*0.2)) # test\n",
    "\n",
    "# train + valid 80% 뽑고 10%는 valid로 넣고 valid에 없는거 train에 추가\n",
    "import random\n",
    "train_list = random.sample(origin_list, int(len(origin_list)*0.8))\n",
    "valid_fname = random.sample(train_list, int(len(train_list)*0.125)) # train 중에서 12.5% 전체의 10%\n",
    "\n",
    "train_fname = []\n",
    "for fname in train_list:\n",
    "    if fname not in valid_fname:\n",
    "        train_fname.append(fname)\n",
    "\n",
    "test_fname = []\n",
    "for fname in origin_list:\n",
    "    if fname not in train_list:\n",
    "        test_fname.append(fname)\n",
    "        \n",
    "print('train : ', len(train_fname))\n",
    "print('valid : ',len(valid_fname))\n",
    "print('test : ', len(test_fname))\n",
    "print('total : ', len(train_fname) + len(valid_fname) + len(test_fname))"
   ]
  },
  {
   "cell_type": "code",
   "execution_count": 8,
   "metadata": {},
   "outputs": [],
   "source": [
    "# Original_data -> leftlmg8bit  train/val/test\n",
    "# Labeled_data -> gtFine train/val\n",
    "\n",
    "# for train in train_fname:\n",
    "#     os.system('cp ./data/Original_data/train ./leftImg8bit/train')\n",
    "#     os.system('cp ./data/New_labeled_data/train ./gtFine/train')\n",
    "# \n",
    "# for val in valid_fname:\n",
    "#     os.system('cp ./data/Original_data/val ./leftImg8bit/val')\n",
    "#     os.system('cp ./data/New_labeled_data/val ./gtFine/val')\n",
    "# \n",
    "# for test in test_fname:\n",
    "#     os.system('cp ./data/Original_data/test ./leftImg8bit/test')\n",
    "#     \n",
    "# print(os.getcwd())\n",
    "# \n",
    "# train_fname[0]\n",
    "\n",
    "\n",
    "# os.system('cp file1.avi file2.avi')"
   ]
  },
  {
   "cell_type": "code",
   "execution_count": 9,
   "metadata": {},
   "outputs": [
    {
     "data": {
      "text/plain": [
       "490"
      ]
     },
     "execution_count": 9,
     "metadata": {},
     "output_type": "execute_result"
    }
   ],
   "source": [
    "len(train_fname)"
   ]
  },
  {
   "cell_type": "code",
   "execution_count": 15,
   "metadata": {},
   "outputs": [],
   "source": [
    "import shutil \n",
    "\n",
    "# Original_data -> leftlmg8bit  train/val/test\n",
    "# Labeled_data -> gtFine train/val\n",
    "\n",
    "for train in train_fname:\n",
    "    from_ = './data/Original_data/' + train\n",
    "    to_ = './leftImg8bit/train/'\n",
    "    shutil.copy(from_, to_)\n",
    "    \n",
    "    from_ = './data/New/' + train[:-4] + '_L.png'\n",
    "    to_ = './gtFine/train/'\n",
    "    shutil.copy(from_, to_)\n",
    "\n",
    "for val in valid_fname:\n",
    "    from_ = './data/Original_data/' + val\n",
    "    to_ = './leftImg8bit/val/'\n",
    "    shutil.copy(from_, to_)\n",
    "    \n",
    "    from_ = './data/New/' + val[:-4] + '_L.png'\n",
    "    to_ = './gtFine/val/'\n",
    "    shutil.copy(from_, to_)\n",
    "\n",
    "for test in test_fname:\n",
    "    from_ = './data/Original_data/' + test\n",
    "    to_ = './leftImg8bit/test/'\n",
    "    shutil.copy(from_, to_)"
   ]
  },
  {
   "cell_type": "code",
   "execution_count": 14,
   "metadata": {
    "scrolled": true
   },
   "outputs": [
    {
     "data": {
      "text/plain": [
       "True"
      ]
     },
     "execution_count": 14,
     "metadata": {},
     "output_type": "execute_result"
    }
   ],
   "source": [
    "'0016E5_08069.png' in valid_fname"
   ]
  }
 ],
 "metadata": {
  "kernelspec": {
   "display_name": "capstone2",
   "language": "python",
   "name": "venv_capstone2"
  },
  "language_info": {
   "codemirror_mode": {
    "name": "ipython",
    "version": 2
   },
   "file_extension": ".py",
   "mimetype": "text/x-python",
   "name": "python",
   "nbconvert_exporter": "python",
   "pygments_lexer": "ipython2",
   "version": "2.7.17"
  }
 },
 "nbformat": 4,
 "nbformat_minor": 5
}
