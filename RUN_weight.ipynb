{
 "cells": [
  {
   "cell_type": "markdown",
   "metadata": {},
   "source": [
    "# Model"
   ]
  },
  {
   "cell_type": "markdown",
   "metadata": {},
   "source": [
    "### package load"
   ]
  },
  {
   "cell_type": "code",
   "execution_count": 1,
   "metadata": {},
   "outputs": [],
   "source": [
    "import datetime\n",
    "import numpy as np\n",
    "from PIL import Image\n",
    "import pandas as pd\n",
    "import matplotlib.pyplot as plt\n",
    "\n",
    "import os\n",
    "import sys\n",
    "import time\n",
    "from tqdm import tqdm\n",
    "import numpy as np\n",
    "import warnings\n",
    "import random\n",
    "import torch\n",
    "import torch.nn as nn\n",
    "import torch.optim as optim\n",
    "import torchvision\n",
    "import torchvision.transforms.functional as TF\n",
    "import torch.nn.functional as F\n",
    "from torch.autograd import Variable\n",
    "\n",
    "from model import convert_bn_to_instancenorm, convert_bn_to_evonorm, convert_bn_to_groupnorm, DeepLabHead \n",
    "from helpers import AverageMeter, ProgressMeter, iouCalc, visim, vislbl\n",
    "from labels import labels"
   ]
  },
  {
   "cell_type": "markdown",
   "metadata": {},
   "source": [
    "### device"
   ]
  },
  {
   "cell_type": "code",
   "execution_count": 2,
   "metadata": {},
   "outputs": [],
   "source": [
    "device = torch.device('cuda' if torch.cuda.is_available() else 'cpu')"
   ]
  },
  {
   "cell_type": "code",
   "execution_count": 2,
   "metadata": {},
   "outputs": [],
   "source": [
    "#device = 'cpu'"
   ]
  },
  {
   "cell_type": "markdown",
   "metadata": {},
   "source": [
    "### data load"
   ]
  },
  {
   "cell_type": "code",
   "execution_count": 3,
   "metadata": {},
   "outputs": [],
   "source": [
    "npzfile = np.load('data_origin.npz')\n",
    "\n",
    "train_x = npzfile['train_x']\n",
    "train_y = npzfile['train_y']\n",
    "val_x = npzfile['val_x']\n",
    "val_y = npzfile['val_y']\n",
    "test_x = npzfile['test_x']\n",
    "test_y = npzfile['test_y']\n",
    "\n",
    "npzfile.close()"
   ]
  },
  {
   "cell_type": "markdown",
   "metadata": {},
   "source": [
    "### DeepLab v3 ResNet50 "
   ]
  },
  {
   "cell_type": "code",
   "execution_count": 4,
   "metadata": {},
   "outputs": [],
   "source": [
    "model = torchvision.models.segmentation.deeplabv3_resnet50(pretrained=False).to(device)\n",
    "         # dlv3 backbone resnoet 50 :: output chnnel: 2048 --> DL input channel :: 2048\n",
    "model.classifier = DeepLabHead(2048, 12).to(device) # 12 = class num\n",
    "\n",
    "optimizer = torch.optim.SGD(model.parameters(), lr=0.01, momentum=0.9)\n",
    "scheduler = optim.lr_scheduler.CosineAnnealingLR(optimizer, T_max=2) "
   ]
  },
  {
   "cell_type": "code",
   "execution_count": 5,
   "metadata": {},
   "outputs": [],
   "source": [
    "# Initialize metrics\n",
    "best_miou = 0.0\n",
    "metrics = {'train_loss' : [],\n",
    "           'train_acc' : [],\n",
    "           'test_acc' : [],\n",
    "           'test_loss' : [],\n",
    "           'miou' : []}\n",
    "start_epoch = 0"
   ]
  },
  {
   "cell_type": "markdown",
   "metadata": {},
   "source": [
    "### Label "
   ]
  },
  {
   "cell_type": "code",
   "execution_count": 6,
   "metadata": {},
   "outputs": [],
   "source": [
    "# Create list of class names\n",
    "  # classLabels: label명\n",
    "  # validClasses: label에 해당하는 id값\n",
    "\n",
    "classLabels = []\n",
    "for label in labels:\n",
    "    if label.name not in classLabels:\n",
    "        classLabels.append(label.name)\n",
    "classLabels.append('void')\n",
    "\n",
    "validClasses = list(\n",
    "    np.unique(\n",
    "        [label.id for label in labels \n",
    "         if label.id >= 0\n",
    "        ] + [11]\n",
    "    )\n",
    ")"
   ]
  },
  {
   "cell_type": "markdown",
   "metadata": {},
   "source": [
    "### train"
   ]
  },
  {
   "cell_type": "code",
   "execution_count": 7,
   "metadata": {},
   "outputs": [],
   "source": [
    "## parameter\n",
    "\n",
    "batch_size = 2\n",
    "num_epoch = 50\n",
    "\n",
    "result_dir = os.getcwd() + '/result/' + 'only_weight/'"
   ]
  },
  {
   "cell_type": "code",
   "execution_count": 10,
   "metadata": {},
   "outputs": [],
   "source": [
    "from torch.utils.data import TensorDataset, DataLoader\n",
    "\n",
    "   # X: 0~255, RGB값 가지는 이미지 데이터 (560, 720, 960, 3)\n",
    "   # Y: 0~11 label값 가지는 픽셀당 클래스 데이터 (560, 720, 960)\n",
    "X = torch.tensor(train_x, dtype=torch.float32)\n",
    "Y = torch.tensor(train_y, dtype=torch.long)\n",
    "\n",
    "data = TensorDataset(X.permute(dims=(0, 3, 1, 2)), Y)\n",
    "train_data = DataLoader(data, batch_size=batch_size, shuffle=True)"
   ]
  },
  {
   "cell_type": "code",
   "execution_count": 11,
   "metadata": {},
   "outputs": [
    {
     "data": {
      "text/plain": [
       "{'0': 3350644,\n",
       " '1': 3682379,\n",
       " '2': 1888603,\n",
       " '3': 2478108,\n",
       " '4': 81471634,\n",
       " '5': 4996800,\n",
       " '6': 23813698,\n",
       " '7': 98899475,\n",
       " '8': 16468486,\n",
       " '9': 53441175,\n",
       " '10': 37943059,\n",
       " '11': 10253939}"
      ]
     },
     "execution_count": 11,
     "metadata": {},
     "output_type": "execute_result"
    }
   ],
   "source": [
    "# Create class weight\n",
    "label_num = {str(_id): 0 for _id in validClasses}\n",
    "label_num\n",
    "\n",
    "for y in train_y.flatten():\n",
    "    label_num[str(y)] += 1\n",
    "label_num"
   ]
  },
  {
   "cell_type": "code",
   "execution_count": 9,
   "metadata": {},
   "outputs": [],
   "source": [
    "# delete void -- max value\n",
    "max_num = max([v for k, v in label_num.items() if k != '11'])\n",
    "weights = [max_num/num for key, num in label_num.items()]\n",
    "\n",
    "class_weights = torch.FloatTensor(weights).to(device)\n",
    "criterion = nn.CrossEntropyLoss(weight = class_weights, ignore_index=12) # weight 파라미터에 class_weight 추가"
   ]
  },
  {
   "cell_type": "code",
   "execution_count": 13,
   "metadata": {},
   "outputs": [
    {
     "data": {
      "text/plain": [
       "tensor([29.5166, 26.8575, 52.3665, 39.9093,  1.2139, 19.7926,  4.1530,  1.0000,\n",
       "         6.0054,  1.8506,  2.6065,  9.6450])"
      ]
     },
     "execution_count": 13,
     "metadata": {},
     "output_type": "execute_result"
    }
   ],
   "source": [
    "class_weights"
   ]
  },
  {
   "cell_type": "code",
   "execution_count": 19,
   "metadata": {
    "scrolled": true
   },
   "outputs": [
    {
     "name": "stderr",
     "output_type": "stream",
     "text": [
      "  0%|▎                                                                               | 1/245 [00:15<1:04:46, 15.93s/it]"
     ]
    },
    {
     "name": "stdout",
     "output_type": "stream",
     "text": [
      "Train, epoch: [0][  0/245]\tLoss 2.4294e+00 (2.4294e+00)\tAccuracy 0.355 (0.355)\n"
     ]
    },
    {
     "name": "stderr",
     "output_type": "stream",
     "text": [
      "\r",
      "  1%|▋                                                                               | 2/245 [00:32<1:05:07, 16.08s/it]"
     ]
    },
    {
     "name": "stdout",
     "output_type": "stream",
     "text": [
      "Train, epoch: [0][  0/245]\tLoss 2.2819e+00 (2.3557e+00)\tAccuracy 0.422 (0.388)\n"
     ]
    },
    {
     "name": "stderr",
     "output_type": "stream",
     "text": [
      "\r",
      "  1%|▉                                                                               | 3/245 [00:48<1:05:05, 16.14s/it]"
     ]
    },
    {
     "name": "stdout",
     "output_type": "stream",
     "text": [
      "Train, epoch: [0][  0/245]\tLoss 2.2505e+00 (2.3206e+00)\tAccuracy 0.535 (0.437)\n"
     ]
    },
    {
     "name": "stderr",
     "output_type": "stream",
     "text": [
      "\r",
      "  2%|█▎                                                                              | 4/245 [01:04<1:05:33, 16.32s/it]"
     ]
    },
    {
     "name": "stdout",
     "output_type": "stream",
     "text": [
      "Train, epoch: [0][  0/245]\tLoss 2.1018e+00 (2.2659e+00)\tAccuracy 0.514 (0.456)\n"
     ]
    },
    {
     "name": "stderr",
     "output_type": "stream",
     "text": [
      "\r",
      "  2%|█▋                                                                              | 5/245 [01:21<1:05:30, 16.38s/it]"
     ]
    },
    {
     "name": "stdout",
     "output_type": "stream",
     "text": [
      "Train, epoch: [0][  0/245]\tLoss 1.9945e+00 (2.2116e+00)\tAccuracy 0.509 (0.467)\n"
     ]
    },
    {
     "name": "stderr",
     "output_type": "stream",
     "text": [
      "\r",
      "  2%|█▉                                                                              | 6/245 [01:37<1:05:14, 16.38s/it]"
     ]
    },
    {
     "name": "stdout",
     "output_type": "stream",
     "text": [
      "Train, epoch: [0][  0/245]\tLoss 1.9325e+00 (2.1651e+00)\tAccuracy 0.534 (0.478)\n"
     ]
    },
    {
     "name": "stderr",
     "output_type": "stream",
     "text": [
      "\r",
      "  3%|██▎                                                                             | 7/245 [01:54<1:04:57, 16.38s/it]"
     ]
    },
    {
     "name": "stdout",
     "output_type": "stream",
     "text": [
      "Train, epoch: [0][  0/245]\tLoss 2.0186e+00 (2.1442e+00)\tAccuracy 0.565 (0.491)\n"
     ]
    },
    {
     "name": "stderr",
     "output_type": "stream",
     "text": [
      "\r",
      "  3%|██▌                                                                             | 8/245 [02:10<1:04:35, 16.35s/it]"
     ]
    },
    {
     "name": "stdout",
     "output_type": "stream",
     "text": [
      "Train, epoch: [0][  0/245]\tLoss 2.1281e+00 (2.1422e+00)\tAccuracy 0.480 (0.489)\n"
     ]
    },
    {
     "name": "stderr",
     "output_type": "stream",
     "text": [
      "\r",
      "  4%|██▉                                                                             | 9/245 [02:26<1:04:28, 16.39s/it]"
     ]
    },
    {
     "name": "stdout",
     "output_type": "stream",
     "text": [
      "Train, epoch: [0][  0/245]\tLoss 1.9587e+00 (2.1218e+00)\tAccuracy 0.517 (0.492)\n"
     ]
    },
    {
     "name": "stderr",
     "output_type": "stream",
     "text": [
      "\r",
      "  4%|███▏                                                                           | 10/245 [02:43<1:03:56, 16.33s/it]"
     ]
    },
    {
     "name": "stdout",
     "output_type": "stream",
     "text": [
      "Train, epoch: [0][  0/245]\tLoss 1.4433e+00 (2.0539e+00)\tAccuracy 0.570 (0.500)\n"
     ]
    },
    {
     "name": "stderr",
     "output_type": "stream",
     "text": [
      "\r",
      "  4%|███▌                                                                           | 11/245 [02:59<1:03:58, 16.40s/it]"
     ]
    },
    {
     "name": "stdout",
     "output_type": "stream",
     "text": [
      "Train, epoch: [0][  0/245]\tLoss 1.6017e+00 (2.0128e+00)\tAccuracy 0.556 (0.505)\n"
     ]
    },
    {
     "name": "stderr",
     "output_type": "stream",
     "text": [
      "\r",
      "  5%|███▊                                                                           | 12/245 [03:16<1:03:59, 16.48s/it]"
     ]
    },
    {
     "name": "stdout",
     "output_type": "stream",
     "text": [
      "Train, epoch: [0][  0/245]\tLoss 1.6219e+00 (1.9802e+00)\tAccuracy 0.533 (0.507)\n"
     ]
    },
    {
     "name": "stderr",
     "output_type": "stream",
     "text": [
      "\r",
      "  5%|████▏                                                                          | 13/245 [03:33<1:04:07, 16.58s/it]"
     ]
    },
    {
     "name": "stdout",
     "output_type": "stream",
     "text": [
      "Train, epoch: [0][  0/245]\tLoss 1.4292e+00 (1.9379e+00)\tAccuracy 0.644 (0.518)\n"
     ]
    },
    {
     "name": "stderr",
     "output_type": "stream",
     "text": [
      "\r",
      "  6%|████▌                                                                          | 14/245 [03:49<1:03:18, 16.45s/it]"
     ]
    },
    {
     "name": "stdout",
     "output_type": "stream",
     "text": [
      "Train, epoch: [0][  0/245]\tLoss 1.4964e+00 (1.9063e+00)\tAccuracy 0.599 (0.524)\n"
     ]
    },
    {
     "name": "stderr",
     "output_type": "stream",
     "text": [
      "\r",
      "  6%|████▊                                                                          | 15/245 [04:05<1:03:01, 16.44s/it]"
     ]
    },
    {
     "name": "stdout",
     "output_type": "stream",
     "text": [
      "Train, epoch: [0][  0/245]\tLoss 1.5261e+00 (1.8810e+00)\tAccuracy 0.643 (0.532)\n"
     ]
    },
    {
     "name": "stderr",
     "output_type": "stream",
     "text": [
      "\r",
      "  7%|█████▏                                                                         | 16/245 [04:22<1:02:42, 16.43s/it]"
     ]
    },
    {
     "name": "stdout",
     "output_type": "stream",
     "text": [
      "Train, epoch: [0][  0/245]\tLoss 1.5745e+00 (1.8618e+00)\tAccuracy 0.570 (0.534)\n"
     ]
    },
    {
     "name": "stderr",
     "output_type": "stream",
     "text": [
      "\r",
      "  7%|█████▍                                                                         | 17/245 [04:38<1:02:46, 16.52s/it]"
     ]
    },
    {
     "name": "stdout",
     "output_type": "stream",
     "text": [
      "Train, epoch: [0][  0/245]\tLoss 1.5628e+00 (1.8442e+00)\tAccuracy 0.546 (0.535)\n"
     ]
    },
    {
     "name": "stderr",
     "output_type": "stream",
     "text": [
      "\r",
      "  7%|█████▊                                                                         | 18/245 [04:55<1:02:28, 16.51s/it]"
     ]
    },
    {
     "name": "stdout",
     "output_type": "stream",
     "text": [
      "Train, epoch: [0][  0/245]\tLoss 1.5431e+00 (1.8275e+00)\tAccuracy 0.650 (0.541)\n"
     ]
    },
    {
     "name": "stderr",
     "output_type": "stream",
     "text": [
      "\r",
      "  8%|██████▏                                                                        | 19/245 [05:12<1:02:25, 16.57s/it]"
     ]
    },
    {
     "name": "stdout",
     "output_type": "stream",
     "text": [
      "Train, epoch: [0][  0/245]\tLoss 1.2469e+00 (1.7969e+00)\tAccuracy 0.723 (0.551)\n"
     ]
    },
    {
     "name": "stderr",
     "output_type": "stream",
     "text": [
      "\r",
      "  8%|██████▍                                                                        | 20/245 [05:28<1:02:32, 16.68s/it]"
     ]
    },
    {
     "name": "stdout",
     "output_type": "stream",
     "text": [
      "Train, epoch: [0][  0/245]\tLoss 1.7027e+00 (1.7922e+00)\tAccuracy 0.684 (0.557)\n"
     ]
    },
    {
     "name": "stderr",
     "output_type": "stream",
     "text": [
      "\r",
      "  9%|██████▊                                                                        | 21/245 [05:45<1:02:08, 16.65s/it]"
     ]
    },
    {
     "name": "stdout",
     "output_type": "stream",
     "text": [
      "Train, epoch: [0][  0/245]\tLoss 1.3917e+00 (1.7732e+00)\tAccuracy 0.653 (0.562)\n"
     ]
    },
    {
     "name": "stderr",
     "output_type": "stream",
     "text": [
      "\r",
      "  9%|███████                                                                        | 22/245 [06:02<1:01:48, 16.63s/it]"
     ]
    },
    {
     "name": "stdout",
     "output_type": "stream",
     "text": [
      "Train, epoch: [0][  0/245]\tLoss 1.3123e+00 (1.7522e+00)\tAccuracy 0.728 (0.570)\n"
     ]
    },
    {
     "name": "stderr",
     "output_type": "stream",
     "text": [
      "\r",
      "  9%|███████▍                                                                       | 23/245 [06:18<1:01:19, 16.57s/it]"
     ]
    },
    {
     "name": "stdout",
     "output_type": "stream",
     "text": [
      "Train, epoch: [0][  0/245]\tLoss 1.1367e+00 (1.7255e+00)\tAccuracy 0.760 (0.578)\n"
     ]
    },
    {
     "name": "stderr",
     "output_type": "stream",
     "text": [
      "\r",
      " 10%|███████▋                                                                       | 24/245 [06:35<1:01:13, 16.62s/it]"
     ]
    },
    {
     "name": "stdout",
     "output_type": "stream",
     "text": [
      "Train, epoch: [0][  0/245]\tLoss 9.3293e-01 (1.6924e+00)\tAccuracy 0.771 (0.586)\n"
     ]
    },
    {
     "name": "stderr",
     "output_type": "stream",
     "text": [
      "\r",
      " 10%|████████                                                                       | 25/245 [06:51<1:00:36, 16.53s/it]"
     ]
    },
    {
     "name": "stdout",
     "output_type": "stream",
     "text": [
      "Train, epoch: [0][  0/245]\tLoss 1.3039e+00 (1.6769e+00)\tAccuracy 0.742 (0.592)\n"
     ]
    },
    {
     "name": "stderr",
     "output_type": "stream",
     "text": [
      "\r",
      " 11%|████████▍                                                                      | 26/245 [07:08<1:00:09, 16.48s/it]"
     ]
    },
    {
     "name": "stdout",
     "output_type": "stream",
     "text": [
      "Train, epoch: [0][  0/245]\tLoss 1.2101e+00 (1.6589e+00)\tAccuracy 0.722 (0.597)\n"
     ]
    },
    {
     "name": "stderr",
     "output_type": "stream",
     "text": [
      "\r",
      " 11%|████████▋                                                                      | 27/245 [07:24<1:00:06, 16.54s/it]"
     ]
    },
    {
     "name": "stdout",
     "output_type": "stream",
     "text": [
      "Train, epoch: [0][  0/245]\tLoss 1.0066e+00 (1.6348e+00)\tAccuracy 0.718 (0.602)\n"
     ]
    },
    {
     "name": "stderr",
     "output_type": "stream",
     "text": [
      "\r",
      " 11%|█████████                                                                      | 28/245 [07:41<1:00:00, 16.59s/it]"
     ]
    },
    {
     "name": "stdout",
     "output_type": "stream",
     "text": [
      "Train, epoch: [0][  0/245]\tLoss 8.3340e-01 (1.6062e+00)\tAccuracy 0.791 (0.608)\n"
     ]
    },
    {
     "name": "stderr",
     "output_type": "stream",
     "text": [
      "\r",
      " 12%|█████████▌                                                                       | 29/245 [07:58<59:58, 16.66s/it]"
     ]
    },
    {
     "name": "stdout",
     "output_type": "stream",
     "text": [
      "Train, epoch: [0][  0/245]\tLoss 9.9247e-01 (1.5850e+00)\tAccuracy 0.765 (0.614)\n"
     ]
    },
    {
     "name": "stderr",
     "output_type": "stream",
     "text": [
      "\r",
      " 12%|█████████▋                                                                     | 30/245 [08:15<1:00:01, 16.75s/it]"
     ]
    },
    {
     "name": "stdout",
     "output_type": "stream",
     "text": [
      "Train, epoch: [0][  0/245]\tLoss 9.7428e-01 (1.5646e+00)\tAccuracy 0.766 (0.619)\n"
     ]
    },
    {
     "name": "stderr",
     "output_type": "stream",
     "text": [
      "\r",
      " 13%|█████████▉                                                                     | 31/245 [08:33<1:01:16, 17.18s/it]"
     ]
    },
    {
     "name": "stdout",
     "output_type": "stream",
     "text": [
      "Train, epoch: [0][  0/245]\tLoss 9.4128e-01 (1.5445e+00)\tAccuracy 0.754 (0.623)\n"
     ]
    },
    {
     "name": "stderr",
     "output_type": "stream",
     "text": [
      "\r",
      " 13%|██████████▎                                                                    | 32/245 [08:50<1:00:33, 17.06s/it]"
     ]
    },
    {
     "name": "stdout",
     "output_type": "stream",
     "text": [
      "Train, epoch: [0][  0/245]\tLoss 8.5382e-01 (1.5229e+00)\tAccuracy 0.757 (0.627)\n"
     ]
    },
    {
     "name": "stderr",
     "output_type": "stream",
     "text": [
      "\r",
      " 13%|██████████▋                                                                    | 33/245 [09:07<1:00:07, 17.02s/it]"
     ]
    },
    {
     "name": "stdout",
     "output_type": "stream",
     "text": [
      "Train, epoch: [0][  0/245]\tLoss 9.5998e-01 (1.5059e+00)\tAccuracy 0.737 (0.631)\n"
     ]
    },
    {
     "name": "stderr",
     "output_type": "stream",
     "text": [
      "\r",
      " 14%|███████████▏                                                                     | 34/245 [09:24<59:58, 17.06s/it]"
     ]
    },
    {
     "name": "stdout",
     "output_type": "stream",
     "text": [
      "Train, epoch: [0][  0/245]\tLoss 1.0601e+00 (1.4928e+00)\tAccuracy 0.720 (0.633)\n"
     ]
    },
    {
     "name": "stderr",
     "output_type": "stream",
     "text": [
      "\r",
      " 14%|███████████▌                                                                     | 35/245 [09:40<59:20, 16.96s/it]"
     ]
    },
    {
     "name": "stdout",
     "output_type": "stream",
     "text": [
      "Train, epoch: [0][  0/245]\tLoss 8.1564e-01 (1.4734e+00)\tAccuracy 0.775 (0.637)\n"
     ]
    },
    {
     "name": "stderr",
     "output_type": "stream",
     "text": [
      "\r",
      " 15%|███████████▉                                                                     | 36/245 [09:57<58:58, 16.93s/it]"
     ]
    },
    {
     "name": "stdout",
     "output_type": "stream",
     "text": [
      "Train, epoch: [0][  0/245]\tLoss 7.7408e-01 (1.4540e+00)\tAccuracy 0.776 (0.641)\n"
     ]
    },
    {
     "name": "stderr",
     "output_type": "stream",
     "text": [
      "\r",
      " 15%|████████████▏                                                                    | 37/245 [10:14<58:33, 16.89s/it]"
     ]
    },
    {
     "name": "stdout",
     "output_type": "stream",
     "text": [
      "Train, epoch: [0][  0/245]\tLoss 1.1350e+00 (1.4454e+00)\tAccuracy 0.704 (0.643)\n"
     ]
    },
    {
     "name": "stderr",
     "output_type": "stream",
     "text": [
      "\r",
      " 16%|████████████▌                                                                    | 38/245 [10:31<58:10, 16.86s/it]"
     ]
    },
    {
     "name": "stdout",
     "output_type": "stream",
     "text": [
      "Train, epoch: [0][  0/245]\tLoss 7.1167e-01 (1.4261e+00)\tAccuracy 0.785 (0.647)\n"
     ]
    },
    {
     "name": "stderr",
     "output_type": "stream",
     "text": [
      "\r",
      " 16%|████████████▉                                                                    | 39/245 [10:48<57:55, 16.87s/it]"
     ]
    },
    {
     "name": "stdout",
     "output_type": "stream",
     "text": [
      "Train, epoch: [0][  0/245]\tLoss 1.1678e+00 (1.4194e+00)\tAccuracy 0.755 (0.649)\n"
     ]
    },
    {
     "name": "stderr",
     "output_type": "stream",
     "text": [
      "\r",
      " 16%|█████████████▏                                                                   | 40/245 [11:04<57:22, 16.79s/it]"
     ]
    },
    {
     "name": "stdout",
     "output_type": "stream",
     "text": [
      "Train, epoch: [0][  0/245]\tLoss 8.5169e-01 (1.4052e+00)\tAccuracy 0.739 (0.652)\n"
     ]
    },
    {
     "name": "stderr",
     "output_type": "stream",
     "text": [
      "\r",
      " 17%|█████████████▌                                                                   | 41/245 [11:21<57:15, 16.84s/it]"
     ]
    },
    {
     "name": "stdout",
     "output_type": "stream",
     "text": [
      "Train, epoch: [0][  0/245]\tLoss 1.2216e+00 (1.4008e+00)\tAccuracy 0.699 (0.653)\n"
     ]
    },
    {
     "name": "stderr",
     "output_type": "stream",
     "text": [
      "\r",
      " 17%|█████████████▉                                                                   | 42/245 [11:38<57:02, 16.86s/it]"
     ]
    },
    {
     "name": "stdout",
     "output_type": "stream",
     "text": [
      "Train, epoch: [0][  0/245]\tLoss 8.7589e-01 (1.3883e+00)\tAccuracy 0.769 (0.656)\n"
     ]
    },
    {
     "name": "stderr",
     "output_type": "stream",
     "text": [
      "\r",
      " 18%|██████████████▏                                                                  | 43/245 [11:55<56:52, 16.89s/it]"
     ]
    },
    {
     "name": "stdout",
     "output_type": "stream",
     "text": [
      "Train, epoch: [0][  0/245]\tLoss 1.0322e+00 (1.3800e+00)\tAccuracy 0.698 (0.657)\n"
     ]
    },
    {
     "name": "stderr",
     "output_type": "stream",
     "text": [
      "\r",
      " 18%|██████████████▌                                                                  | 44/245 [12:12<56:36, 16.90s/it]"
     ]
    },
    {
     "name": "stdout",
     "output_type": "stream",
     "text": [
      "Train, epoch: [0][  0/245]\tLoss 1.3721e+00 (1.3798e+00)\tAccuracy 0.707 (0.658)\n"
     ]
    },
    {
     "name": "stderr",
     "output_type": "stream",
     "text": [
      "\r",
      " 18%|██████████████▉                                                                  | 45/245 [12:29<56:28, 16.94s/it]"
     ]
    },
    {
     "name": "stdout",
     "output_type": "stream",
     "text": [
      "Train, epoch: [0][  0/245]\tLoss 6.6026e-01 (1.3638e+00)\tAccuracy 0.796 (0.661)\n"
     ]
    },
    {
     "name": "stderr",
     "output_type": "stream",
     "text": [
      "\r",
      " 19%|███████████████▏                                                                 | 46/245 [12:46<55:56, 16.87s/it]"
     ]
    },
    {
     "name": "stdout",
     "output_type": "stream",
     "text": [
      "Train, epoch: [0][  0/245]\tLoss 1.1567e+00 (1.3593e+00)\tAccuracy 0.699 (0.662)\n"
     ]
    },
    {
     "name": "stderr",
     "output_type": "stream",
     "text": [
      "\r",
      " 19%|███████████████▌                                                                 | 47/245 [13:03<55:29, 16.81s/it]"
     ]
    },
    {
     "name": "stdout",
     "output_type": "stream",
     "text": [
      "Train, epoch: [0][  0/245]\tLoss 9.8100e-01 (1.3513e+00)\tAccuracy 0.802 (0.665)\n"
     ]
    },
    {
     "name": "stderr",
     "output_type": "stream",
     "text": [
      "\r",
      " 20%|███████████████▊                                                                 | 48/245 [13:19<55:16, 16.83s/it]"
     ]
    },
    {
     "name": "stdout",
     "output_type": "stream",
     "text": [
      "Train, epoch: [0][  0/245]\tLoss 7.5298e-01 (1.3388e+00)\tAccuracy 0.795 (0.667)\n"
     ]
    },
    {
     "name": "stderr",
     "output_type": "stream",
     "text": [
      "\r",
      " 20%|████████████████▏                                                                | 49/245 [13:37<55:37, 17.03s/it]"
     ]
    },
    {
     "name": "stdout",
     "output_type": "stream",
     "text": [
      "Train, epoch: [0][  0/245]\tLoss 1.1815e+00 (1.3356e+00)\tAccuracy 0.757 (0.669)\n"
     ]
    },
    {
     "name": "stderr",
     "output_type": "stream",
     "text": [
      "\r",
      " 20%|████████████████▌                                                                | 50/245 [13:54<55:12, 16.99s/it]"
     ]
    },
    {
     "name": "stdout",
     "output_type": "stream",
     "text": [
      "Train, epoch: [0][  0/245]\tLoss 8.3507e-01 (1.3256e+00)\tAccuracy 0.824 (0.672)\n"
     ]
    },
    {
     "name": "stderr",
     "output_type": "stream",
     "text": [
      "\r",
      " 21%|████████████████▊                                                                | 51/245 [14:11<55:13, 17.08s/it]"
     ]
    },
    {
     "name": "stdout",
     "output_type": "stream",
     "text": [
      "Train, epoch: [0][  0/245]\tLoss 8.0475e-01 (1.3154e+00)\tAccuracy 0.779 (0.674)\n"
     ]
    },
    {
     "name": "stderr",
     "output_type": "stream",
     "text": [
      "\r",
      " 21%|█████████████████▏                                                               | 52/245 [14:28<54:56, 17.08s/it]"
     ]
    },
    {
     "name": "stdout",
     "output_type": "stream",
     "text": [
      "Train, epoch: [0][  0/245]\tLoss 6.3926e-01 (1.3024e+00)\tAccuracy 0.828 (0.677)\n"
     ]
    },
    {
     "name": "stderr",
     "output_type": "stream",
     "text": [
      "\r",
      " 22%|█████████████████▌                                                               | 53/245 [14:45<54:30, 17.03s/it]"
     ]
    },
    {
     "name": "stdout",
     "output_type": "stream",
     "text": [
      "Train, epoch: [0][  0/245]\tLoss 9.6366e-01 (1.2960e+00)\tAccuracy 0.791 (0.679)\n"
     ]
    },
    {
     "name": "stderr",
     "output_type": "stream",
     "text": [
      "\r",
      " 22%|█████████████████▊                                                               | 54/245 [15:02<54:16, 17.05s/it]"
     ]
    },
    {
     "name": "stdout",
     "output_type": "stream",
     "text": [
      "Train, epoch: [0][  0/245]\tLoss 9.5259e-01 (1.2896e+00)\tAccuracy 0.774 (0.681)\n"
     ]
    },
    {
     "name": "stderr",
     "output_type": "stream",
     "text": [
      "\r",
      " 22%|██████████████████▏                                                              | 55/245 [15:19<53:40, 16.95s/it]"
     ]
    },
    {
     "name": "stdout",
     "output_type": "stream",
     "text": [
      "Train, epoch: [0][  0/245]\tLoss 6.1820e-01 (1.2774e+00)\tAccuracy 0.796 (0.683)\n"
     ]
    },
    {
     "name": "stderr",
     "output_type": "stream",
     "text": [
      "\r",
      " 23%|██████████████████▌                                                              | 56/245 [15:36<53:39, 17.03s/it]"
     ]
    },
    {
     "name": "stdout",
     "output_type": "stream",
     "text": [
      "Train, epoch: [0][  0/245]\tLoss 7.9032e-01 (1.2687e+00)\tAccuracy 0.790 (0.685)\n"
     ]
    },
    {
     "name": "stderr",
     "output_type": "stream",
     "text": [
      "\r",
      " 23%|██████████████████▊                                                              | 57/245 [15:53<53:13, 16.99s/it]"
     ]
    },
    {
     "name": "stdout",
     "output_type": "stream",
     "text": [
      "Train, epoch: [0][  0/245]\tLoss 1.1837e+00 (1.2672e+00)\tAccuracy 0.671 (0.685)\n"
     ]
    },
    {
     "name": "stderr",
     "output_type": "stream",
     "text": [
      "\r",
      " 24%|███████████████████▏                                                             | 58/245 [16:10<52:57, 16.99s/it]"
     ]
    },
    {
     "name": "stdout",
     "output_type": "stream",
     "text": [
      "Train, epoch: [0][  0/245]\tLoss 7.6760e-01 (1.2586e+00)\tAccuracy 0.775 (0.686)\n"
     ]
    },
    {
     "name": "stderr",
     "output_type": "stream",
     "text": [
      "\r",
      " 24%|███████████████████▌                                                             | 59/245 [16:27<52:50, 17.04s/it]"
     ]
    },
    {
     "name": "stdout",
     "output_type": "stream",
     "text": [
      "Train, epoch: [0][  0/245]\tLoss 7.3567e-01 (1.2497e+00)\tAccuracy 0.738 (0.687)\n"
     ]
    },
    {
     "name": "stderr",
     "output_type": "stream",
     "text": [
      "\r",
      " 24%|███████████████████▊                                                             | 60/245 [16:44<52:21, 16.98s/it]"
     ]
    },
    {
     "name": "stdout",
     "output_type": "stream",
     "text": [
      "Train, epoch: [0][  0/245]\tLoss 9.7752e-01 (1.2452e+00)\tAccuracy 0.771 (0.689)\n"
     ]
    },
    {
     "name": "stderr",
     "output_type": "stream",
     "text": [
      "\r",
      " 25%|████████████████████▏                                                            | 61/245 [17:01<52:04, 16.98s/it]"
     ]
    },
    {
     "name": "stdout",
     "output_type": "stream",
     "text": [
      "Train, epoch: [0][  0/245]\tLoss 7.6022e-01 (1.2373e+00)\tAccuracy 0.767 (0.690)\n"
     ]
    },
    {
     "name": "stderr",
     "output_type": "stream",
     "text": [
      "\r",
      " 25%|████████████████████▍                                                            | 62/245 [17:18<51:48, 16.99s/it]"
     ]
    },
    {
     "name": "stdout",
     "output_type": "stream",
     "text": [
      "Train, epoch: [0][  0/245]\tLoss 7.5632e-01 (1.2295e+00)\tAccuracy 0.789 (0.692)\n"
     ]
    },
    {
     "name": "stderr",
     "output_type": "stream",
     "text": [
      "\r",
      " 26%|████████████████████▊                                                            | 63/245 [17:35<51:35, 17.01s/it]"
     ]
    },
    {
     "name": "stdout",
     "output_type": "stream",
     "text": [
      "Train, epoch: [0][  0/245]\tLoss 9.4515e-01 (1.2250e+00)\tAccuracy 0.743 (0.692)\n"
     ]
    },
    {
     "name": "stderr",
     "output_type": "stream",
     "text": [
      "\r",
      " 26%|█████████████████████▏                                                           | 64/245 [17:52<51:37, 17.11s/it]"
     ]
    },
    {
     "name": "stdout",
     "output_type": "stream",
     "text": [
      "Train, epoch: [0][  0/245]\tLoss 1.0457e+00 (1.2222e+00)\tAccuracy 0.738 (0.693)\n"
     ]
    },
    {
     "name": "stderr",
     "output_type": "stream",
     "text": [
      "\r",
      " 27%|█████████████████████▍                                                           | 65/245 [18:10<51:29, 17.16s/it]"
     ]
    },
    {
     "name": "stdout",
     "output_type": "stream",
     "text": [
      "Train, epoch: [0][  0/245]\tLoss 1.4193e+00 (1.2252e+00)\tAccuracy 0.741 (0.694)\n"
     ]
    },
    {
     "name": "stderr",
     "output_type": "stream",
     "text": [
      "\r",
      " 27%|█████████████████████▊                                                           | 66/245 [18:27<51:38, 17.31s/it]"
     ]
    },
    {
     "name": "stdout",
     "output_type": "stream",
     "text": [
      "Train, epoch: [0][  0/245]\tLoss 8.5046e-01 (1.2195e+00)\tAccuracy 0.747 (0.695)\n"
     ]
    },
    {
     "name": "stderr",
     "output_type": "stream",
     "text": [
      "\r",
      " 27%|██████████████████████▏                                                          | 67/245 [18:44<51:00, 17.20s/it]"
     ]
    },
    {
     "name": "stdout",
     "output_type": "stream",
     "text": [
      "Train, epoch: [0][  0/245]\tLoss 8.2344e-01 (1.2136e+00)\tAccuracy 0.790 (0.696)\n"
     ]
    },
    {
     "name": "stderr",
     "output_type": "stream",
     "text": [
      "\r",
      " 28%|██████████████████████▍                                                          | 68/245 [19:01<50:29, 17.12s/it]"
     ]
    },
    {
     "name": "stdout",
     "output_type": "stream",
     "text": [
      "Train, epoch: [0][  0/245]\tLoss 9.6010e-01 (1.2099e+00)\tAccuracy 0.742 (0.697)\n"
     ]
    },
    {
     "name": "stderr",
     "output_type": "stream",
     "text": [
      "\r",
      " 28%|██████████████████████▊                                                          | 69/245 [19:18<50:05, 17.08s/it]"
     ]
    },
    {
     "name": "stdout",
     "output_type": "stream",
     "text": [
      "Train, epoch: [0][  0/245]\tLoss 8.9935e-01 (1.2054e+00)\tAccuracy 0.807 (0.698)\n"
     ]
    },
    {
     "name": "stderr",
     "output_type": "stream",
     "text": [
      "\r",
      " 29%|███████████████████████▏                                                         | 70/245 [19:35<49:53, 17.10s/it]"
     ]
    },
    {
     "name": "stdout",
     "output_type": "stream",
     "text": [
      "Train, epoch: [0][  0/245]\tLoss 6.1846e-01 (1.1970e+00)\tAccuracy 0.794 (0.700)\n"
     ]
    },
    {
     "name": "stderr",
     "output_type": "stream",
     "text": [
      "\r",
      " 29%|███████████████████████▍                                                         | 71/245 [19:53<49:43, 17.15s/it]"
     ]
    },
    {
     "name": "stdout",
     "output_type": "stream",
     "text": [
      "Train, epoch: [0][  0/245]\tLoss 7.4820e-01 (1.1907e+00)\tAccuracy 0.780 (0.701)\n"
     ]
    },
    {
     "name": "stderr",
     "output_type": "stream",
     "text": [
      "\r",
      " 29%|███████████████████████▊                                                         | 72/245 [20:10<49:31, 17.18s/it]"
     ]
    },
    {
     "name": "stdout",
     "output_type": "stream",
     "text": [
      "Train, epoch: [0][  0/245]\tLoss 7.8827e-01 (1.1851e+00)\tAccuracy 0.762 (0.702)\n"
     ]
    },
    {
     "name": "stderr",
     "output_type": "stream",
     "text": [
      "\r",
      " 30%|████████████████████████▏                                                        | 73/245 [20:27<49:17, 17.19s/it]"
     ]
    },
    {
     "name": "stdout",
     "output_type": "stream",
     "text": [
      "Train, epoch: [0][  0/245]\tLoss 7.4783e-01 (1.1791e+00)\tAccuracy 0.778 (0.703)\n"
     ]
    },
    {
     "name": "stderr",
     "output_type": "stream",
     "text": [
      "\r",
      " 30%|████████████████████████▍                                                        | 74/245 [20:44<48:44, 17.10s/it]"
     ]
    },
    {
     "name": "stdout",
     "output_type": "stream",
     "text": [
      "Train, epoch: [0][  0/245]\tLoss 7.4954e-01 (1.1733e+00)\tAccuracy 0.797 (0.704)\n"
     ]
    },
    {
     "name": "stderr",
     "output_type": "stream",
     "text": [
      "\r",
      " 31%|████████████████████████▊                                                        | 75/245 [21:01<48:15, 17.03s/it]"
     ]
    },
    {
     "name": "stdout",
     "output_type": "stream",
     "text": [
      "Train, epoch: [0][  0/245]\tLoss 6.2164e-01 (1.1660e+00)\tAccuracy 0.739 (0.705)\n"
     ]
    },
    {
     "name": "stderr",
     "output_type": "stream",
     "text": [
      "\r",
      " 31%|█████████████████████████▏                                                       | 76/245 [21:18<48:09, 17.10s/it]"
     ]
    },
    {
     "name": "stdout",
     "output_type": "stream",
     "text": [
      "Train, epoch: [0][  0/245]\tLoss 1.0065e+00 (1.1639e+00)\tAccuracy 0.748 (0.705)\n"
     ]
    },
    {
     "name": "stderr",
     "output_type": "stream",
     "text": [
      "\r",
      " 31%|█████████████████████████▍                                                       | 77/245 [21:35<47:46, 17.06s/it]"
     ]
    },
    {
     "name": "stdout",
     "output_type": "stream",
     "text": [
      "Train, epoch: [0][  0/245]\tLoss 1.0136e+00 (1.1619e+00)\tAccuracy 0.715 (0.705)\n"
     ]
    },
    {
     "name": "stderr",
     "output_type": "stream",
     "text": [
      "\r",
      " 32%|█████████████████████████▊                                                       | 78/245 [21:52<47:27, 17.05s/it]"
     ]
    },
    {
     "name": "stdout",
     "output_type": "stream",
     "text": [
      "Train, epoch: [0][  0/245]\tLoss 1.1092e+00 (1.1612e+00)\tAccuracy 0.685 (0.705)\n"
     ]
    },
    {
     "name": "stderr",
     "output_type": "stream",
     "text": [
      "\r",
      " 32%|██████████████████████████                                                       | 79/245 [22:09<47:04, 17.01s/it]"
     ]
    },
    {
     "name": "stdout",
     "output_type": "stream",
     "text": [
      "Train, epoch: [0][  0/245]\tLoss 5.4592e-01 (1.1534e+00)\tAccuracy 0.772 (0.706)\n"
     ]
    },
    {
     "name": "stderr",
     "output_type": "stream",
     "text": [
      "\r",
      " 33%|██████████████████████████▍                                                      | 80/245 [22:26<46:47, 17.01s/it]"
     ]
    },
    {
     "name": "stdout",
     "output_type": "stream",
     "text": [
      "Train, epoch: [0][  0/245]\tLoss 8.4722e-01 (1.1496e+00)\tAccuracy 0.714 (0.706)\n"
     ]
    },
    {
     "name": "stderr",
     "output_type": "stream",
     "text": [
      "\r",
      " 33%|██████████████████████████▊                                                      | 81/245 [22:43<46:35, 17.05s/it]"
     ]
    },
    {
     "name": "stdout",
     "output_type": "stream",
     "text": [
      "Train, epoch: [0][  0/245]\tLoss 6.2346e-01 (1.1431e+00)\tAccuracy 0.806 (0.707)\n"
     ]
    },
    {
     "name": "stderr",
     "output_type": "stream",
     "text": [
      "\r",
      " 33%|███████████████████████████                                                      | 82/245 [23:00<46:20, 17.06s/it]"
     ]
    },
    {
     "name": "stdout",
     "output_type": "stream",
     "text": [
      "Train, epoch: [0][  0/245]\tLoss 5.9200e-01 (1.1364e+00)\tAccuracy 0.806 (0.708)\n"
     ]
    },
    {
     "name": "stderr",
     "output_type": "stream",
     "text": [
      "\r",
      " 34%|███████████████████████████▍                                                     | 83/245 [23:17<45:57, 17.02s/it]"
     ]
    },
    {
     "name": "stdout",
     "output_type": "stream",
     "text": [
      "Train, epoch: [0][  0/245]\tLoss 7.2307e-01 (1.1314e+00)\tAccuracy 0.781 (0.709)\n"
     ]
    },
    {
     "name": "stderr",
     "output_type": "stream",
     "text": [
      "\r",
      " 34%|███████████████████████████▊                                                     | 84/245 [23:36<46:45, 17.42s/it]"
     ]
    },
    {
     "name": "stdout",
     "output_type": "stream",
     "text": [
      "Train, epoch: [0][  0/245]\tLoss 4.9671e-01 (1.1239e+00)\tAccuracy 0.853 (0.711)\n"
     ]
    },
    {
     "name": "stderr",
     "output_type": "stream",
     "text": [
      "\r",
      " 35%|████████████████████████████                                                     | 85/245 [23:54<47:29, 17.81s/it]"
     ]
    },
    {
     "name": "stdout",
     "output_type": "stream",
     "text": [
      "Train, epoch: [0][  0/245]\tLoss 7.6870e-01 (1.1197e+00)\tAccuracy 0.773 (0.712)\n"
     ]
    },
    {
     "name": "stderr",
     "output_type": "stream",
     "text": [
      "\r",
      " 35%|████████████████████████████▍                                                    | 86/245 [24:12<47:10, 17.80s/it]"
     ]
    },
    {
     "name": "stdout",
     "output_type": "stream",
     "text": [
      "Train, epoch: [0][  0/245]\tLoss 5.6775e-01 (1.1133e+00)\tAccuracy 0.805 (0.713)\n"
     ]
    },
    {
     "name": "stderr",
     "output_type": "stream",
     "text": [
      "\r",
      " 36%|████████████████████████████▊                                                    | 87/245 [24:29<46:28, 17.65s/it]"
     ]
    },
    {
     "name": "stdout",
     "output_type": "stream",
     "text": [
      "Train, epoch: [0][  0/245]\tLoss 5.4127e-01 (1.1067e+00)\tAccuracy 0.847 (0.714)\n"
     ]
    },
    {
     "name": "stderr",
     "output_type": "stream",
     "text": [
      "\r",
      " 36%|█████████████████████████████                                                    | 88/245 [24:47<45:50, 17.52s/it]"
     ]
    },
    {
     "name": "stdout",
     "output_type": "stream",
     "text": [
      "Train, epoch: [0][  0/245]\tLoss 1.3694e+00 (1.1097e+00)\tAccuracy 0.779 (0.715)\n"
     ]
    },
    {
     "name": "stderr",
     "output_type": "stream",
     "text": [
      "\r",
      " 36%|█████████████████████████████▍                                                   | 89/245 [25:04<45:09, 17.37s/it]"
     ]
    },
    {
     "name": "stdout",
     "output_type": "stream",
     "text": [
      "Train, epoch: [0][  0/245]\tLoss 7.2552e-01 (1.1054e+00)\tAccuracy 0.761 (0.716)\n"
     ]
    },
    {
     "name": "stderr",
     "output_type": "stream",
     "text": [
      "\r",
      " 37%|█████████████████████████████▊                                                   | 90/245 [25:21<44:40, 17.29s/it]"
     ]
    },
    {
     "name": "stdout",
     "output_type": "stream",
     "text": [
      "Train, epoch: [0][  0/245]\tLoss 6.5766e-01 (1.1004e+00)\tAccuracy 0.781 (0.716)\n"
     ]
    },
    {
     "name": "stderr",
     "output_type": "stream",
     "text": [
      "\r",
      " 37%|██████████████████████████████                                                   | 91/245 [25:38<44:15, 17.24s/it]"
     ]
    },
    {
     "name": "stdout",
     "output_type": "stream",
     "text": [
      "Train, epoch: [0][  0/245]\tLoss 5.9519e-01 (1.0948e+00)\tAccuracy 0.863 (0.718)\n"
     ]
    },
    {
     "name": "stderr",
     "output_type": "stream",
     "text": [
      "\r",
      " 38%|██████████████████████████████▍                                                  | 92/245 [25:55<43:48, 17.18s/it]"
     ]
    },
    {
     "name": "stdout",
     "output_type": "stream",
     "text": [
      "Train, epoch: [0][  0/245]\tLoss 7.2359e-01 (1.0908e+00)\tAccuracy 0.805 (0.719)\n"
     ]
    },
    {
     "name": "stderr",
     "output_type": "stream",
     "text": [
      "\r",
      " 38%|██████████████████████████████▋                                                  | 93/245 [26:12<43:23, 17.13s/it]"
     ]
    },
    {
     "name": "stdout",
     "output_type": "stream",
     "text": [
      "Train, epoch: [0][  0/245]\tLoss 5.2629e-01 (1.0847e+00)\tAccuracy 0.864 (0.720)\n"
     ]
    },
    {
     "name": "stderr",
     "output_type": "stream",
     "text": [
      "\r",
      " 38%|███████████████████████████████                                                  | 94/245 [26:29<43:00, 17.09s/it]"
     ]
    },
    {
     "name": "stdout",
     "output_type": "stream",
     "text": [
      "Train, epoch: [0][  0/245]\tLoss 8.8669e-01 (1.0826e+00)\tAccuracy 0.770 (0.721)\n"
     ]
    },
    {
     "name": "stderr",
     "output_type": "stream",
     "text": [
      "\r",
      " 39%|███████████████████████████████▍                                                 | 95/245 [26:46<42:32, 17.01s/it]"
     ]
    },
    {
     "name": "stdout",
     "output_type": "stream",
     "text": [
      "Train, epoch: [0][  0/245]\tLoss 5.4480e-01 (1.0770e+00)\tAccuracy 0.831 (0.722)\n"
     ]
    },
    {
     "name": "stderr",
     "output_type": "stream",
     "text": [
      "\r",
      " 39%|███████████████████████████████▋                                                 | 96/245 [27:03<42:11, 16.99s/it]"
     ]
    },
    {
     "name": "stdout",
     "output_type": "stream",
     "text": [
      "Train, epoch: [0][  0/245]\tLoss 7.4509e-01 (1.0735e+00)\tAccuracy 0.831 (0.723)\n"
     ]
    },
    {
     "name": "stderr",
     "output_type": "stream",
     "text": [
      "\r",
      " 40%|████████████████████████████████                                                 | 97/245 [27:20<41:52, 16.98s/it]"
     ]
    },
    {
     "name": "stdout",
     "output_type": "stream",
     "text": [
      "Train, epoch: [0][  0/245]\tLoss 6.4224e-01 (1.0691e+00)\tAccuracy 0.814 (0.724)\n"
     ]
    },
    {
     "name": "stderr",
     "output_type": "stream",
     "text": [
      "\r",
      " 40%|████████████████████████████████▍                                                | 98/245 [27:37<41:33, 16.96s/it]"
     ]
    },
    {
     "name": "stdout",
     "output_type": "stream",
     "text": [
      "Train, epoch: [0][  0/245]\tLoss 8.5817e-01 (1.0669e+00)\tAccuracy 0.798 (0.725)\n"
     ]
    },
    {
     "name": "stderr",
     "output_type": "stream",
     "text": [
      "\r",
      " 40%|████████████████████████████████▋                                                | 99/245 [27:54<41:22, 17.00s/it]"
     ]
    },
    {
     "name": "stdout",
     "output_type": "stream",
     "text": [
      "Train, epoch: [0][  0/245]\tLoss 6.6333e-01 (1.0628e+00)\tAccuracy 0.842 (0.726)\n"
     ]
    },
    {
     "name": "stderr",
     "output_type": "stream",
     "text": [
      "\r",
      " 41%|████████████████████████████████▋                                               | 100/245 [28:11<41:02, 16.98s/it]"
     ]
    },
    {
     "name": "stdout",
     "output_type": "stream",
     "text": [
      "Train, epoch: [0][  0/245]\tLoss 6.8833e-01 (1.0591e+00)\tAccuracy 0.796 (0.727)\n"
     ]
    },
    {
     "name": "stderr",
     "output_type": "stream",
     "text": [
      "\r",
      " 41%|████████████████████████████████▉                                               | 101/245 [28:28<40:51, 17.03s/it]"
     ]
    },
    {
     "name": "stdout",
     "output_type": "stream",
     "text": [
      "Train, epoch: [0][  0/245]\tLoss 6.3514e-01 (1.0549e+00)\tAccuracy 0.826 (0.728)\n"
     ]
    },
    {
     "name": "stderr",
     "output_type": "stream",
     "text": [
      "\r",
      " 42%|█████████████████████████████████▎                                              | 102/245 [28:45<41:06, 17.25s/it]"
     ]
    },
    {
     "name": "stdout",
     "output_type": "stream",
     "text": [
      "Train, epoch: [0][  0/245]\tLoss 5.5336e-01 (1.0500e+00)\tAccuracy 0.829 (0.729)\n"
     ]
    },
    {
     "name": "stderr",
     "output_type": "stream",
     "text": [
      "\r",
      " 42%|█████████████████████████████████▋                                              | 103/245 [29:02<40:39, 17.18s/it]"
     ]
    },
    {
     "name": "stdout",
     "output_type": "stream",
     "text": [
      "Train, epoch: [0][  0/245]\tLoss 4.8011e-01 (1.0444e+00)\tAccuracy 0.826 (0.730)\n"
     ]
    },
    {
     "name": "stderr",
     "output_type": "stream",
     "text": [
      "\r",
      " 42%|█████████████████████████████████▉                                              | 104/245 [29:20<40:21, 17.18s/it]"
     ]
    },
    {
     "name": "stdout",
     "output_type": "stream",
     "text": [
      "Train, epoch: [0][  0/245]\tLoss 8.2087e-01 (1.0423e+00)\tAccuracy 0.749 (0.730)\n"
     ]
    },
    {
     "name": "stderr",
     "output_type": "stream",
     "text": [
      "\r",
      " 43%|██████████████████████████████████▎                                             | 105/245 [29:37<40:02, 17.16s/it]"
     ]
    },
    {
     "name": "stdout",
     "output_type": "stream",
     "text": [
      "Train, epoch: [0][  0/245]\tLoss 9.5215e-01 (1.0414e+00)\tAccuracy 0.776 (0.730)\n"
     ]
    },
    {
     "name": "stderr",
     "output_type": "stream",
     "text": [
      "\r",
      " 43%|██████████████████████████████████▌                                             | 106/245 [29:54<39:36, 17.10s/it]"
     ]
    },
    {
     "name": "stdout",
     "output_type": "stream",
     "text": [
      "Train, epoch: [0][  0/245]\tLoss 1.1452e+00 (1.0424e+00)\tAccuracy 0.732 (0.730)\n"
     ]
    },
    {
     "name": "stderr",
     "output_type": "stream",
     "text": [
      "\r",
      " 44%|██████████████████████████████████▉                                             | 107/245 [30:11<39:14, 17.06s/it]"
     ]
    },
    {
     "name": "stdout",
     "output_type": "stream",
     "text": [
      "Train, epoch: [0][  0/245]\tLoss 4.8627e-01 (1.0372e+00)\tAccuracy 0.831 (0.731)\n"
     ]
    },
    {
     "name": "stderr",
     "output_type": "stream",
     "text": [
      "\r",
      " 44%|███████████████████████████████████▎                                            | 108/245 [30:28<39:03, 17.11s/it]"
     ]
    },
    {
     "name": "stdout",
     "output_type": "stream",
     "text": [
      "Train, epoch: [0][  0/245]\tLoss 6.4088e-01 (1.0335e+00)\tAccuracy 0.814 (0.732)\n"
     ]
    },
    {
     "name": "stderr",
     "output_type": "stream",
     "text": [
      "\r",
      " 44%|███████████████████████████████████▌                                            | 109/245 [30:45<38:44, 17.09s/it]"
     ]
    },
    {
     "name": "stdout",
     "output_type": "stream",
     "text": [
      "Train, epoch: [0][  0/245]\tLoss 8.0271e-01 (1.0314e+00)\tAccuracy 0.775 (0.732)\n"
     ]
    },
    {
     "name": "stderr",
     "output_type": "stream",
     "text": [
      "\r",
      " 45%|███████████████████████████████████▉                                            | 110/245 [31:02<38:30, 17.11s/it]"
     ]
    },
    {
     "name": "stdout",
     "output_type": "stream",
     "text": [
      "Train, epoch: [0][  0/245]\tLoss 1.1139e+00 (1.0322e+00)\tAccuracy 0.689 (0.732)\n"
     ]
    },
    {
     "name": "stderr",
     "output_type": "stream",
     "text": [
      "\r",
      " 45%|████████████████████████████████████▏                                           | 111/245 [31:19<38:10, 17.09s/it]"
     ]
    },
    {
     "name": "stdout",
     "output_type": "stream",
     "text": [
      "Train, epoch: [0][  0/245]\tLoss 9.1399e-01 (1.0311e+00)\tAccuracy 0.759 (0.732)\n"
     ]
    },
    {
     "name": "stderr",
     "output_type": "stream",
     "text": [
      "\r",
      " 46%|████████████████████████████████████▌                                           | 112/245 [31:36<37:56, 17.11s/it]"
     ]
    },
    {
     "name": "stdout",
     "output_type": "stream",
     "text": [
      "Train, epoch: [0][  0/245]\tLoss 5.7868e-01 (1.0271e+00)\tAccuracy 0.816 (0.733)\n"
     ]
    },
    {
     "name": "stderr",
     "output_type": "stream",
     "text": [
      "\r",
      " 46%|████████████████████████████████████▉                                           | 113/245 [31:53<37:37, 17.10s/it]"
     ]
    },
    {
     "name": "stdout",
     "output_type": "stream",
     "text": [
      "Train, epoch: [0][  0/245]\tLoss 4.8215e-01 (1.0222e+00)\tAccuracy 0.850 (0.734)\n"
     ]
    },
    {
     "name": "stderr",
     "output_type": "stream",
     "text": [
      "\r",
      " 47%|█████████████████████████████████████▏                                          | 114/245 [32:10<37:13, 17.05s/it]"
     ]
    },
    {
     "name": "stdout",
     "output_type": "stream",
     "text": [
      "Train, epoch: [0][  0/245]\tLoss 6.8652e-01 (1.0193e+00)\tAccuracy 0.789 (0.735)\n"
     ]
    },
    {
     "name": "stderr",
     "output_type": "stream",
     "text": [
      "\r",
      " 47%|█████████████████████████████████████▌                                          | 115/245 [32:28<37:11, 17.16s/it]"
     ]
    },
    {
     "name": "stdout",
     "output_type": "stream",
     "text": [
      "Train, epoch: [0][  0/245]\tLoss 8.1614e-01 (1.0175e+00)\tAccuracy 0.732 (0.735)\n"
     ]
    },
    {
     "name": "stderr",
     "output_type": "stream",
     "text": [
      "\r",
      " 47%|█████████████████████████████████████▉                                          | 116/245 [32:45<36:45, 17.10s/it]"
     ]
    },
    {
     "name": "stdout",
     "output_type": "stream",
     "text": [
      "Train, epoch: [0][  0/245]\tLoss 7.5702e-01 (1.0153e+00)\tAccuracy 0.817 (0.735)\n"
     ]
    },
    {
     "name": "stderr",
     "output_type": "stream",
     "text": [
      "\r",
      " 48%|██████████████████████████████████████▏                                         | 117/245 [33:02<36:24, 17.07s/it]"
     ]
    },
    {
     "name": "stdout",
     "output_type": "stream",
     "text": [
      "Train, epoch: [0][  0/245]\tLoss 6.2556e-01 (1.0120e+00)\tAccuracy 0.789 (0.736)\n"
     ]
    },
    {
     "name": "stderr",
     "output_type": "stream",
     "text": [
      "\r",
      " 48%|██████████████████████████████████████▌                                         | 118/245 [33:19<36:09, 17.08s/it]"
     ]
    },
    {
     "name": "stdout",
     "output_type": "stream",
     "text": [
      "Train, epoch: [0][  0/245]\tLoss 7.0604e-01 (1.0094e+00)\tAccuracy 0.771 (0.736)\n"
     ]
    },
    {
     "name": "stderr",
     "output_type": "stream",
     "text": [
      "\r",
      " 49%|██████████████████████████████████████▊                                         | 119/245 [33:36<35:58, 17.13s/it]"
     ]
    },
    {
     "name": "stdout",
     "output_type": "stream",
     "text": [
      "Train, epoch: [0][  0/245]\tLoss 5.1712e-01 (1.0052e+00)\tAccuracy 0.831 (0.737)\n"
     ]
    },
    {
     "name": "stderr",
     "output_type": "stream",
     "text": [
      "\r",
      " 49%|███████████████████████████████████████▏                                        | 120/245 [33:53<35:44, 17.16s/it]"
     ]
    },
    {
     "name": "stdout",
     "output_type": "stream",
     "text": [
      "Train, epoch: [0][  0/245]\tLoss 5.5908e-01 (1.0015e+00)\tAccuracy 0.802 (0.737)\n"
     ]
    },
    {
     "name": "stderr",
     "output_type": "stream",
     "text": [
      "\r",
      " 49%|███████████████████████████████████████▌                                        | 121/245 [34:10<35:29, 17.17s/it]"
     ]
    },
    {
     "name": "stdout",
     "output_type": "stream",
     "text": [
      "Train, epoch: [0][  0/245]\tLoss 8.6336e-01 (1.0004e+00)\tAccuracy 0.772 (0.738)\n"
     ]
    },
    {
     "name": "stderr",
     "output_type": "stream",
     "text": [
      "\r",
      " 50%|███████████████████████████████████████▊                                        | 122/245 [34:27<35:06, 17.13s/it]"
     ]
    },
    {
     "name": "stdout",
     "output_type": "stream",
     "text": [
      "Train, epoch: [0][  0/245]\tLoss 5.1115e-01 (9.9636e-01)\tAccuracy 0.851 (0.739)\n"
     ]
    },
    {
     "name": "stderr",
     "output_type": "stream",
     "text": [
      "\r",
      " 50%|████████████████████████████████████████▏                                       | 123/245 [34:45<34:50, 17.13s/it]"
     ]
    },
    {
     "name": "stdout",
     "output_type": "stream",
     "text": [
      "Train, epoch: [0][  0/245]\tLoss 7.4737e-01 (9.9433e-01)\tAccuracy 0.781 (0.739)\n"
     ]
    },
    {
     "name": "stderr",
     "output_type": "stream",
     "text": [
      "\r",
      " 51%|████████████████████████████████████████▍                                       | 124/245 [35:02<34:26, 17.08s/it]"
     ]
    },
    {
     "name": "stdout",
     "output_type": "stream",
     "text": [
      "Train, epoch: [0][  0/245]\tLoss 8.1613e-01 (9.9290e-01)\tAccuracy 0.796 (0.739)\n"
     ]
    },
    {
     "name": "stderr",
     "output_type": "stream",
     "text": [
      "\r",
      " 51%|████████████████████████████████████████▊                                       | 125/245 [35:19<34:06, 17.06s/it]"
     ]
    },
    {
     "name": "stdout",
     "output_type": "stream",
     "text": [
      "Train, epoch: [0][  0/245]\tLoss 3.9775e-01 (9.8814e-01)\tAccuracy 0.883 (0.741)\n"
     ]
    },
    {
     "name": "stderr",
     "output_type": "stream",
     "text": [
      "\r",
      " 51%|█████████████████████████████████████████▏                                      | 126/245 [35:36<33:46, 17.03s/it]"
     ]
    },
    {
     "name": "stdout",
     "output_type": "stream",
     "text": [
      "Train, epoch: [0][  0/245]\tLoss 8.6538e-01 (9.8716e-01)\tAccuracy 0.804 (0.741)\n"
     ]
    },
    {
     "name": "stderr",
     "output_type": "stream",
     "text": [
      "\r",
      " 52%|█████████████████████████████████████████▍                                      | 127/245 [35:53<33:31, 17.04s/it]"
     ]
    },
    {
     "name": "stdout",
     "output_type": "stream",
     "text": [
      "Train, epoch: [0][  0/245]\tLoss 5.4236e-01 (9.8366e-01)\tAccuracy 0.849 (0.742)\n"
     ]
    },
    {
     "name": "stderr",
     "output_type": "stream",
     "text": [
      "\r",
      " 52%|█████████████████████████████████████████▊                                      | 128/245 [36:10<33:17, 17.08s/it]"
     ]
    },
    {
     "name": "stdout",
     "output_type": "stream",
     "text": [
      "Train, epoch: [0][  0/245]\tLoss 5.1133e-01 (9.7997e-01)\tAccuracy 0.848 (0.743)\n"
     ]
    },
    {
     "name": "stderr",
     "output_type": "stream",
     "text": [
      "\r",
      " 53%|██████████████████████████████████████████                                      | 129/245 [36:27<33:00, 17.07s/it]"
     ]
    },
    {
     "name": "stdout",
     "output_type": "stream",
     "text": [
      "Train, epoch: [0][  0/245]\tLoss 7.1872e-01 (9.7794e-01)\tAccuracy 0.820 (0.743)\n"
     ]
    },
    {
     "name": "stderr",
     "output_type": "stream",
     "text": [
      "\r",
      " 53%|██████████████████████████████████████████▍                                     | 130/245 [36:44<32:42, 17.06s/it]"
     ]
    },
    {
     "name": "stdout",
     "output_type": "stream",
     "text": [
      "Train, epoch: [0][  0/245]\tLoss 8.1780e-01 (9.7671e-01)\tAccuracy 0.801 (0.744)\n"
     ]
    },
    {
     "name": "stderr",
     "output_type": "stream",
     "text": [
      "\r",
      " 53%|██████████████████████████████████████████▊                                     | 131/245 [37:01<32:24, 17.05s/it]"
     ]
    },
    {
     "name": "stdout",
     "output_type": "stream",
     "text": [
      "Train, epoch: [0][  0/245]\tLoss 6.5494e-01 (9.7426e-01)\tAccuracy 0.809 (0.744)\n"
     ]
    },
    {
     "name": "stderr",
     "output_type": "stream",
     "text": [
      "\r",
      " 54%|███████████████████████████████████████████                                     | 132/245 [37:18<32:03, 17.02s/it]"
     ]
    },
    {
     "name": "stdout",
     "output_type": "stream",
     "text": [
      "Train, epoch: [0][  0/245]\tLoss 8.0272e-01 (9.7296e-01)\tAccuracy 0.854 (0.745)\n"
     ]
    },
    {
     "name": "stderr",
     "output_type": "stream",
     "text": [
      "\r",
      " 54%|███████████████████████████████████████████▍                                    | 133/245 [37:35<31:40, 16.97s/it]"
     ]
    },
    {
     "name": "stdout",
     "output_type": "stream",
     "text": [
      "Train, epoch: [0][  0/245]\tLoss 7.1610e-01 (9.7102e-01)\tAccuracy 0.765 (0.745)\n"
     ]
    },
    {
     "name": "stderr",
     "output_type": "stream",
     "text": [
      "\r",
      " 55%|███████████████████████████████████████████▊                                    | 134/245 [37:52<31:28, 17.02s/it]"
     ]
    },
    {
     "name": "stdout",
     "output_type": "stream",
     "text": [
      "Train, epoch: [0][  0/245]\tLoss 7.9716e-01 (9.6973e-01)\tAccuracy 0.763 (0.745)\n"
     ]
    },
    {
     "name": "stderr",
     "output_type": "stream",
     "text": [
      "\r",
      " 55%|████████████████████████████████████████████                                    | 135/245 [38:09<31:18, 17.08s/it]"
     ]
    },
    {
     "name": "stdout",
     "output_type": "stream",
     "text": [
      "Train, epoch: [0][  0/245]\tLoss 5.9989e-01 (9.6699e-01)\tAccuracy 0.765 (0.745)\n"
     ]
    },
    {
     "name": "stderr",
     "output_type": "stream",
     "text": [
      "\r",
      " 56%|████████████████████████████████████████████▍                                   | 136/245 [38:26<31:02, 17.09s/it]"
     ]
    },
    {
     "name": "stdout",
     "output_type": "stream",
     "text": [
      "Train, epoch: [0][  0/245]\tLoss 7.2695e-01 (9.6522e-01)\tAccuracy 0.797 (0.746)\n"
     ]
    },
    {
     "name": "stderr",
     "output_type": "stream",
     "text": [
      "\r",
      " 56%|████████████████████████████████████████████▋                                   | 137/245 [38:43<30:43, 17.07s/it]"
     ]
    },
    {
     "name": "stdout",
     "output_type": "stream",
     "text": [
      "Train, epoch: [0][  0/245]\tLoss 6.2023e-01 (9.6270e-01)\tAccuracy 0.798 (0.746)\n"
     ]
    },
    {
     "name": "stderr",
     "output_type": "stream",
     "text": [
      "\r",
      " 56%|█████████████████████████████████████████████                                   | 138/245 [39:00<30:26, 17.07s/it]"
     ]
    },
    {
     "name": "stdout",
     "output_type": "stream",
     "text": [
      "Train, epoch: [0][  0/245]\tLoss 7.7040e-01 (9.6131e-01)\tAccuracy 0.806 (0.747)\n"
     ]
    },
    {
     "name": "stderr",
     "output_type": "stream",
     "text": [
      "\r",
      " 57%|█████████████████████████████████████████████▍                                  | 139/245 [39:17<30:06, 17.05s/it]"
     ]
    },
    {
     "name": "stdout",
     "output_type": "stream",
     "text": [
      "Train, epoch: [0][  0/245]\tLoss 1.1826e+00 (9.6290e-01)\tAccuracy 0.754 (0.747)\n"
     ]
    },
    {
     "name": "stderr",
     "output_type": "stream",
     "text": [
      "\r",
      " 57%|█████████████████████████████████████████████▋                                  | 140/245 [39:34<29:54, 17.09s/it]"
     ]
    },
    {
     "name": "stdout",
     "output_type": "stream",
     "text": [
      "Train, epoch: [0][  0/245]\tLoss 8.7811e-01 (9.6230e-01)\tAccuracy 0.804 (0.747)\n"
     ]
    },
    {
     "name": "stderr",
     "output_type": "stream",
     "text": [
      "\r",
      " 58%|██████████████████████████████████████████████                                  | 141/245 [39:52<29:36, 17.08s/it]"
     ]
    },
    {
     "name": "stdout",
     "output_type": "stream",
     "text": [
      "Train, epoch: [0][  0/245]\tLoss 7.2004e-01 (9.6058e-01)\tAccuracy 0.814 (0.748)\n"
     ]
    },
    {
     "name": "stderr",
     "output_type": "stream",
     "text": [
      "\r",
      " 58%|██████████████████████████████████████████████▎                                 | 142/245 [40:08<29:11, 17.01s/it]"
     ]
    },
    {
     "name": "stdout",
     "output_type": "stream",
     "text": [
      "Train, epoch: [0][  0/245]\tLoss 6.1111e-01 (9.5812e-01)\tAccuracy 0.838 (0.748)\n"
     ]
    },
    {
     "name": "stderr",
     "output_type": "stream",
     "text": [
      "\r",
      " 58%|██████████████████████████████████████████████▋                                 | 143/245 [40:26<29:01, 17.07s/it]"
     ]
    },
    {
     "name": "stdout",
     "output_type": "stream",
     "text": [
      "Train, epoch: [0][  0/245]\tLoss 1.1738e+00 (9.5963e-01)\tAccuracy 0.747 (0.748)\n"
     ]
    },
    {
     "name": "stderr",
     "output_type": "stream",
     "text": [
      "\r",
      " 59%|███████████████████████████████████████████████                                 | 144/245 [40:43<28:51, 17.14s/it]"
     ]
    },
    {
     "name": "stdout",
     "output_type": "stream",
     "text": [
      "Train, epoch: [0][  0/245]\tLoss 4.9096e-01 (9.5637e-01)\tAccuracy 0.840 (0.749)\n"
     ]
    },
    {
     "name": "stderr",
     "output_type": "stream",
     "text": [
      "\r",
      " 59%|███████████████████████████████████████████████▎                                | 145/245 [41:00<28:27, 17.07s/it]"
     ]
    },
    {
     "name": "stdout",
     "output_type": "stream",
     "text": [
      "Train, epoch: [0][  0/245]\tLoss 6.7844e-01 (9.5446e-01)\tAccuracy 0.799 (0.749)\n"
     ]
    },
    {
     "name": "stderr",
     "output_type": "stream",
     "text": [
      "\r",
      " 60%|███████████████████████████████████████████████▋                                | 146/245 [41:17<28:09, 17.07s/it]"
     ]
    },
    {
     "name": "stdout",
     "output_type": "stream",
     "text": [
      "Train, epoch: [0][  0/245]\tLoss 6.1831e-01 (9.5215e-01)\tAccuracy 0.818 (0.750)\n"
     ]
    },
    {
     "name": "stderr",
     "output_type": "stream",
     "text": [
      "\r",
      " 60%|████████████████████████████████████████████████                                | 147/245 [41:34<27:48, 17.03s/it]"
     ]
    },
    {
     "name": "stdout",
     "output_type": "stream",
     "text": [
      "Train, epoch: [0][  0/245]\tLoss 6.0819e-01 (9.4981e-01)\tAccuracy 0.786 (0.750)\n"
     ]
    },
    {
     "name": "stderr",
     "output_type": "stream",
     "text": [
      "\r",
      " 60%|████████████████████████████████████████████████▎                               | 148/245 [41:51<27:30, 17.02s/it]"
     ]
    },
    {
     "name": "stdout",
     "output_type": "stream",
     "text": [
      "Train, epoch: [0][  0/245]\tLoss 8.5305e-01 (9.4916e-01)\tAccuracy 0.743 (0.750)\n"
     ]
    },
    {
     "name": "stderr",
     "output_type": "stream",
     "text": [
      "\r",
      " 61%|████████████████████████████████████████████████▋                               | 149/245 [42:08<27:11, 16.99s/it]"
     ]
    },
    {
     "name": "stdout",
     "output_type": "stream",
     "text": [
      "Train, epoch: [0][  0/245]\tLoss 7.1966e-01 (9.4762e-01)\tAccuracy 0.761 (0.750)\n"
     ]
    },
    {
     "name": "stderr",
     "output_type": "stream",
     "text": [
      "\r",
      " 61%|████████████████████████████████████████████████▉                               | 150/245 [42:25<26:57, 17.02s/it]"
     ]
    },
    {
     "name": "stdout",
     "output_type": "stream",
     "text": [
      "Train, epoch: [0][  0/245]\tLoss 6.4371e-01 (9.4559e-01)\tAccuracy 0.758 (0.750)\n"
     ]
    },
    {
     "name": "stderr",
     "output_type": "stream",
     "text": [
      "\r",
      " 62%|█████████████████████████████████████████████████▎                              | 151/245 [42:42<26:39, 17.01s/it]"
     ]
    },
    {
     "name": "stdout",
     "output_type": "stream",
     "text": [
      "Train, epoch: [0][  0/245]\tLoss 5.0901e-01 (9.4270e-01)\tAccuracy 0.816 (0.750)\n"
     ]
    },
    {
     "name": "stderr",
     "output_type": "stream",
     "text": [
      "\r",
      " 62%|█████████████████████████████████████████████████▋                              | 152/245 [42:59<26:21, 17.01s/it]"
     ]
    },
    {
     "name": "stdout",
     "output_type": "stream",
     "text": [
      "Train, epoch: [0][  0/245]\tLoss 9.8937e-01 (9.4301e-01)\tAccuracy 0.763 (0.751)\n"
     ]
    },
    {
     "name": "stderr",
     "output_type": "stream",
     "text": [
      "\r",
      " 62%|█████████████████████████████████████████████████▉                              | 153/245 [43:16<26:12, 17.09s/it]"
     ]
    },
    {
     "name": "stdout",
     "output_type": "stream",
     "text": [
      "Train, epoch: [0][  0/245]\tLoss 9.9269e-01 (9.4333e-01)\tAccuracy 0.768 (0.751)\n"
     ]
    },
    {
     "name": "stderr",
     "output_type": "stream",
     "text": [
      "\r",
      " 63%|██████████████████████████████████████████████████▎                             | 154/245 [43:33<25:57, 17.12s/it]"
     ]
    },
    {
     "name": "stdout",
     "output_type": "stream",
     "text": [
      "Train, epoch: [0][  0/245]\tLoss 5.7672e-01 (9.4095e-01)\tAccuracy 0.756 (0.751)\n"
     ]
    },
    {
     "name": "stderr",
     "output_type": "stream",
     "text": [
      "\r",
      " 63%|██████████████████████████████████████████████████▌                             | 155/245 [43:50<25:34, 17.05s/it]"
     ]
    },
    {
     "name": "stdout",
     "output_type": "stream",
     "text": [
      "Train, epoch: [0][  0/245]\tLoss 6.3012e-01 (9.3895e-01)\tAccuracy 0.796 (0.751)\n"
     ]
    },
    {
     "name": "stderr",
     "output_type": "stream",
     "text": [
      "\r",
      " 64%|██████████████████████████████████████████████████▉                             | 156/245 [44:07<25:22, 17.10s/it]"
     ]
    },
    {
     "name": "stdout",
     "output_type": "stream",
     "text": [
      "Train, epoch: [0][  0/245]\tLoss 3.4286e-01 (9.3513e-01)\tAccuracy 0.862 (0.752)\n"
     ]
    },
    {
     "name": "stderr",
     "output_type": "stream",
     "text": [
      "\r",
      " 64%|███████████████████████████████████████████████████▎                            | 157/245 [44:25<25:06, 17.12s/it]"
     ]
    },
    {
     "name": "stdout",
     "output_type": "stream",
     "text": [
      "Train, epoch: [0][  0/245]\tLoss 7.9780e-01 (9.3425e-01)\tAccuracy 0.790 (0.752)\n"
     ]
    },
    {
     "name": "stderr",
     "output_type": "stream",
     "text": [
      "\r",
      " 64%|███████████████████████████████████████████████████▌                            | 158/245 [44:42<24:47, 17.10s/it]"
     ]
    },
    {
     "name": "stdout",
     "output_type": "stream",
     "text": [
      "Train, epoch: [0][  0/245]\tLoss 9.3334e-01 (9.3425e-01)\tAccuracy 0.739 (0.752)\n"
     ]
    },
    {
     "name": "stderr",
     "output_type": "stream",
     "text": [
      "\r",
      " 65%|███████████████████████████████████████████████████▉                            | 159/245 [44:59<24:29, 17.08s/it]"
     ]
    },
    {
     "name": "stdout",
     "output_type": "stream",
     "text": [
      "Train, epoch: [0][  0/245]\tLoss 7.1751e-01 (9.3288e-01)\tAccuracy 0.816 (0.752)\n"
     ]
    },
    {
     "name": "stderr",
     "output_type": "stream",
     "text": [
      "\r",
      " 65%|████████████████████████████████████████████████████▏                           | 160/245 [45:16<24:21, 17.19s/it]"
     ]
    },
    {
     "name": "stdout",
     "output_type": "stream",
     "text": [
      "Train, epoch: [0][  0/245]\tLoss 7.5444e-01 (9.3177e-01)\tAccuracy 0.821 (0.753)\n"
     ]
    },
    {
     "name": "stderr",
     "output_type": "stream",
     "text": [
      "\r",
      " 66%|████████████████████████████████████████████████████▌                           | 161/245 [45:33<24:00, 17.15s/it]"
     ]
    },
    {
     "name": "stdout",
     "output_type": "stream",
     "text": [
      "Train, epoch: [0][  0/245]\tLoss 7.6718e-01 (9.3075e-01)\tAccuracy 0.774 (0.753)\n"
     ]
    },
    {
     "name": "stderr",
     "output_type": "stream",
     "text": [
      "\r",
      " 66%|████████████████████████████████████████████████████▉                           | 162/245 [45:50<23:42, 17.14s/it]"
     ]
    },
    {
     "name": "stdout",
     "output_type": "stream",
     "text": [
      "Train, epoch: [0][  0/245]\tLoss 7.7082e-01 (9.2976e-01)\tAccuracy 0.739 (0.753)\n"
     ]
    },
    {
     "name": "stderr",
     "output_type": "stream",
     "text": [
      "\r",
      " 67%|█████████████████████████████████████████████████████▏                          | 163/245 [46:08<23:28, 17.18s/it]"
     ]
    },
    {
     "name": "stdout",
     "output_type": "stream",
     "text": [
      "Train, epoch: [0][  0/245]\tLoss 9.2694e-01 (9.2974e-01)\tAccuracy 0.830 (0.753)\n"
     ]
    },
    {
     "name": "stderr",
     "output_type": "stream",
     "text": [
      "\r",
      " 67%|█████████████████████████████████████████████████████▌                          | 164/245 [46:25<23:06, 17.12s/it]"
     ]
    },
    {
     "name": "stdout",
     "output_type": "stream",
     "text": [
      "Train, epoch: [0][  0/245]\tLoss 1.2799e+00 (9.3188e-01)\tAccuracy 0.812 (0.754)\n"
     ]
    },
    {
     "name": "stderr",
     "output_type": "stream",
     "text": [
      "\r",
      " 67%|█████████████████████████████████████████████████████▉                          | 165/245 [46:42<22:47, 17.10s/it]"
     ]
    },
    {
     "name": "stdout",
     "output_type": "stream",
     "text": [
      "Train, epoch: [0][  0/245]\tLoss 5.2240e-01 (9.2939e-01)\tAccuracy 0.867 (0.754)\n"
     ]
    },
    {
     "name": "stderr",
     "output_type": "stream",
     "text": [
      "\r",
      " 68%|██████████████████████████████████████████████████████▏                         | 166/245 [46:59<22:30, 17.09s/it]"
     ]
    },
    {
     "name": "stdout",
     "output_type": "stream",
     "text": [
      "Train, epoch: [0][  0/245]\tLoss 8.2065e-01 (9.2874e-01)\tAccuracy 0.854 (0.755)\n"
     ]
    },
    {
     "name": "stderr",
     "output_type": "stream",
     "text": [
      "\r",
      " 68%|██████████████████████████████████████████████████████▌                         | 167/245 [47:16<22:13, 17.09s/it]"
     ]
    },
    {
     "name": "stdout",
     "output_type": "stream",
     "text": [
      "Train, epoch: [0][  0/245]\tLoss 1.0258e+00 (9.2932e-01)\tAccuracy 0.790 (0.755)\n"
     ]
    },
    {
     "name": "stderr",
     "output_type": "stream",
     "text": [
      "\r",
      " 69%|██████████████████████████████████████████████████████▊                         | 168/245 [47:33<21:54, 17.07s/it]"
     ]
    },
    {
     "name": "stdout",
     "output_type": "stream",
     "text": [
      "Train, epoch: [0][  0/245]\tLoss 1.3062e+00 (9.3156e-01)\tAccuracy 0.830 (0.756)\n"
     ]
    },
    {
     "name": "stderr",
     "output_type": "stream",
     "text": [
      "\r",
      " 69%|███████████████████████████████████████████████████████▏                        | 169/245 [47:50<21:34, 17.03s/it]"
     ]
    },
    {
     "name": "stdout",
     "output_type": "stream",
     "text": [
      "Train, epoch: [0][  0/245]\tLoss 9.7118e-01 (9.3180e-01)\tAccuracy 0.795 (0.756)\n"
     ]
    },
    {
     "name": "stderr",
     "output_type": "stream",
     "text": [
      "\r",
      " 69%|███████████████████████████████████████████████████████▌                        | 170/245 [48:07<21:16, 17.02s/it]"
     ]
    },
    {
     "name": "stdout",
     "output_type": "stream",
     "text": [
      "Train, epoch: [0][  0/245]\tLoss 4.6918e-01 (9.2908e-01)\tAccuracy 0.873 (0.756)\n"
     ]
    },
    {
     "name": "stderr",
     "output_type": "stream",
     "text": [
      "\r",
      " 70%|███████████████████████████████████████████████████████▊                        | 171/245 [48:24<20:59, 17.02s/it]"
     ]
    },
    {
     "name": "stdout",
     "output_type": "stream",
     "text": [
      "Train, epoch: [0][  0/245]\tLoss 9.8068e-01 (9.2938e-01)\tAccuracy 0.837 (0.757)\n"
     ]
    },
    {
     "name": "stderr",
     "output_type": "stream",
     "text": [
      "\r",
      " 70%|████████████████████████████████████████████████████████▏                       | 172/245 [48:41<20:51, 17.14s/it]"
     ]
    },
    {
     "name": "stdout",
     "output_type": "stream",
     "text": [
      "Train, epoch: [0][  0/245]\tLoss 8.5041e-01 (9.2892e-01)\tAccuracy 0.770 (0.757)\n"
     ]
    },
    {
     "name": "stderr",
     "output_type": "stream",
     "text": [
      "\r",
      " 71%|████████████████████████████████████████████████████████▍                       | 173/245 [48:58<20:32, 17.11s/it]"
     ]
    },
    {
     "name": "stdout",
     "output_type": "stream",
     "text": [
      "Train, epoch: [0][  0/245]\tLoss 1.1797e+00 (9.3037e-01)\tAccuracy 0.738 (0.757)\n"
     ]
    },
    {
     "name": "stderr",
     "output_type": "stream",
     "text": [
      "\r",
      " 71%|████████████████████████████████████████████████████████▊                       | 174/245 [49:15<20:12, 17.08s/it]"
     ]
    },
    {
     "name": "stdout",
     "output_type": "stream",
     "text": [
      "Train, epoch: [0][  0/245]\tLoss 7.4450e-01 (9.2930e-01)\tAccuracy 0.760 (0.757)\n"
     ]
    },
    {
     "name": "stderr",
     "output_type": "stream",
     "text": [
      "\r",
      " 71%|█████████████████████████████████████████████████████████▏                      | 175/245 [49:32<19:56, 17.09s/it]"
     ]
    },
    {
     "name": "stdout",
     "output_type": "stream",
     "text": [
      "Train, epoch: [0][  0/245]\tLoss 6.7520e-01 (9.2785e-01)\tAccuracy 0.786 (0.757)\n"
     ]
    },
    {
     "name": "stderr",
     "output_type": "stream",
     "text": [
      "\r",
      " 72%|█████████████████████████████████████████████████████████▍                      | 176/245 [49:50<19:43, 17.15s/it]"
     ]
    },
    {
     "name": "stdout",
     "output_type": "stream",
     "text": [
      "Train, epoch: [0][  0/245]\tLoss 7.0042e-01 (9.2656e-01)\tAccuracy 0.824 (0.757)\n"
     ]
    },
    {
     "name": "stderr",
     "output_type": "stream",
     "text": [
      "\r",
      " 72%|█████████████████████████████████████████████████████████▊                      | 177/245 [50:07<19:25, 17.15s/it]"
     ]
    },
    {
     "name": "stdout",
     "output_type": "stream",
     "text": [
      "Train, epoch: [0][  0/245]\tLoss 5.2592e-01 (9.2429e-01)\tAccuracy 0.833 (0.758)\n"
     ]
    },
    {
     "name": "stderr",
     "output_type": "stream",
     "text": [
      "\r",
      " 73%|██████████████████████████████████████████████████████████                      | 178/245 [50:24<19:04, 17.08s/it]"
     ]
    },
    {
     "name": "stdout",
     "output_type": "stream",
     "text": [
      "Train, epoch: [0][  0/245]\tLoss 7.0531e-01 (9.2306e-01)\tAccuracy 0.804 (0.758)\n"
     ]
    },
    {
     "name": "stderr",
     "output_type": "stream",
     "text": [
      "\r",
      " 73%|██████████████████████████████████████████████████████████▍                     | 179/245 [50:41<18:45, 17.05s/it]"
     ]
    },
    {
     "name": "stdout",
     "output_type": "stream",
     "text": [
      "Train, epoch: [0][  0/245]\tLoss 6.0264e-01 (9.2127e-01)\tAccuracy 0.771 (0.758)\n"
     ]
    },
    {
     "name": "stderr",
     "output_type": "stream",
     "text": [
      "\r",
      " 73%|██████████████████████████████████████████████████████████▊                     | 180/245 [50:58<18:26, 17.03s/it]"
     ]
    },
    {
     "name": "stdout",
     "output_type": "stream",
     "text": [
      "Train, epoch: [0][  0/245]\tLoss 6.9570e-01 (9.2002e-01)\tAccuracy 0.800 (0.758)\n"
     ]
    },
    {
     "name": "stderr",
     "output_type": "stream",
     "text": [
      "\r",
      " 74%|███████████████████████████████████████████████████████████                     | 181/245 [51:15<18:10, 17.04s/it]"
     ]
    },
    {
     "name": "stdout",
     "output_type": "stream",
     "text": [
      "Train, epoch: [0][  0/245]\tLoss 5.6622e-01 (9.1806e-01)\tAccuracy 0.812 (0.759)\n"
     ]
    },
    {
     "name": "stderr",
     "output_type": "stream",
     "text": [
      "\r",
      " 74%|███████████████████████████████████████████████████████████▍                    | 182/245 [51:32<17:54, 17.06s/it]"
     ]
    },
    {
     "name": "stdout",
     "output_type": "stream",
     "text": [
      "Train, epoch: [0][  0/245]\tLoss 7.5859e-01 (9.1719e-01)\tAccuracy 0.779 (0.759)\n"
     ]
    },
    {
     "name": "stderr",
     "output_type": "stream",
     "text": [
      "\r",
      " 75%|███████████████████████████████████████████████████████████▊                    | 183/245 [51:49<17:35, 17.02s/it]"
     ]
    },
    {
     "name": "stdout",
     "output_type": "stream",
     "text": [
      "Train, epoch: [0][  0/245]\tLoss 5.0272e-01 (9.1492e-01)\tAccuracy 0.816 (0.759)\n"
     ]
    },
    {
     "name": "stderr",
     "output_type": "stream",
     "text": [
      "\r",
      " 75%|████████████████████████████████████████████████████████████                    | 184/245 [52:06<17:15, 16.97s/it]"
     ]
    },
    {
     "name": "stdout",
     "output_type": "stream",
     "text": [
      "Train, epoch: [0][  0/245]\tLoss 3.8304e-01 (9.1203e-01)\tAccuracy 0.877 (0.760)\n"
     ]
    },
    {
     "name": "stderr",
     "output_type": "stream",
     "text": [
      "\r",
      " 76%|████████████████████████████████████████████████████████████▍                   | 185/245 [52:22<16:56, 16.93s/it]"
     ]
    },
    {
     "name": "stdout",
     "output_type": "stream",
     "text": [
      "Train, epoch: [0][  0/245]\tLoss 7.7721e-01 (9.1130e-01)\tAccuracy 0.815 (0.760)\n"
     ]
    },
    {
     "name": "stderr",
     "output_type": "stream",
     "text": [
      "\r",
      " 76%|████████████████████████████████████████████████████████████▋                   | 186/245 [52:39<16:41, 16.97s/it]"
     ]
    },
    {
     "name": "stdout",
     "output_type": "stream",
     "text": [
      "Train, epoch: [0][  0/245]\tLoss 8.6194e-01 (9.1104e-01)\tAccuracy 0.810 (0.760)\n"
     ]
    },
    {
     "name": "stderr",
     "output_type": "stream",
     "text": [
      "\r",
      " 76%|█████████████████████████████████████████████████████████████                   | 187/245 [52:56<16:24, 16.98s/it]"
     ]
    },
    {
     "name": "stdout",
     "output_type": "stream",
     "text": [
      "Train, epoch: [0][  0/245]\tLoss 4.2601e-01 (9.0845e-01)\tAccuracy 0.861 (0.761)\n"
     ]
    },
    {
     "name": "stderr",
     "output_type": "stream",
     "text": [
      "\r",
      " 77%|█████████████████████████████████████████████████████████████▍                  | 188/245 [53:14<16:11, 17.04s/it]"
     ]
    },
    {
     "name": "stdout",
     "output_type": "stream",
     "text": [
      "Train, epoch: [0][  0/245]\tLoss 8.0323e-01 (9.0789e-01)\tAccuracy 0.830 (0.761)\n"
     ]
    },
    {
     "name": "stderr",
     "output_type": "stream",
     "text": [
      "\r",
      " 77%|█████████████████████████████████████████████████████████████▋                  | 189/245 [53:31<15:56, 17.09s/it]"
     ]
    },
    {
     "name": "stdout",
     "output_type": "stream",
     "text": [
      "Train, epoch: [0][  0/245]\tLoss 7.9217e-01 (9.0727e-01)\tAccuracy 0.824 (0.762)\n"
     ]
    },
    {
     "name": "stderr",
     "output_type": "stream",
     "text": [
      "\r",
      " 78%|██████████████████████████████████████████████████████████████                  | 190/245 [53:48<15:40, 17.09s/it]"
     ]
    },
    {
     "name": "stdout",
     "output_type": "stream",
     "text": [
      "Train, epoch: [0][  0/245]\tLoss 5.9754e-01 (9.0564e-01)\tAccuracy 0.852 (0.762)\n"
     ]
    },
    {
     "name": "stderr",
     "output_type": "stream",
     "text": [
      "\r",
      " 78%|██████████████████████████████████████████████████████████████▎                 | 191/245 [54:05<15:18, 17.00s/it]"
     ]
    },
    {
     "name": "stdout",
     "output_type": "stream",
     "text": [
      "Train, epoch: [0][  0/245]\tLoss 3.6192e-01 (9.0280e-01)\tAccuracy 0.869 (0.763)\n"
     ]
    },
    {
     "name": "stderr",
     "output_type": "stream",
     "text": [
      "\r",
      " 78%|██████████████████████████████████████████████████████████████▋                 | 192/245 [54:22<15:04, 17.06s/it]"
     ]
    },
    {
     "name": "stdout",
     "output_type": "stream",
     "text": [
      "Train, epoch: [0][  0/245]\tLoss 8.0278e-01 (9.0228e-01)\tAccuracy 0.797 (0.763)\n"
     ]
    },
    {
     "name": "stderr",
     "output_type": "stream",
     "text": [
      "\r",
      " 79%|███████████████████████████████████████████████████████████████                 | 193/245 [54:39<14:46, 17.05s/it]"
     ]
    },
    {
     "name": "stdout",
     "output_type": "stream",
     "text": [
      "Train, epoch: [0][  0/245]\tLoss 9.4150e-01 (9.0248e-01)\tAccuracy 0.778 (0.763)\n"
     ]
    },
    {
     "name": "stderr",
     "output_type": "stream",
     "text": [
      "\r",
      " 79%|███████████████████████████████████████████████████████████████▎                | 194/245 [54:56<14:34, 17.15s/it]"
     ]
    },
    {
     "name": "stdout",
     "output_type": "stream",
     "text": [
      "Train, epoch: [0][  0/245]\tLoss 6.7481e-01 (9.0131e-01)\tAccuracy 0.831 (0.763)\n"
     ]
    },
    {
     "name": "stderr",
     "output_type": "stream",
     "text": [
      "\r",
      " 80%|███████████████████████████████████████████████████████████████▋                | 195/245 [55:13<14:13, 17.07s/it]"
     ]
    },
    {
     "name": "stdout",
     "output_type": "stream",
     "text": [
      "Train, epoch: [0][  0/245]\tLoss 6.1912e-01 (8.9986e-01)\tAccuracy 0.824 (0.764)\n"
     ]
    },
    {
     "name": "stderr",
     "output_type": "stream",
     "text": [
      "\r",
      " 80%|████████████████████████████████████████████████████████████████                | 196/245 [55:30<13:57, 17.10s/it]"
     ]
    },
    {
     "name": "stdout",
     "output_type": "stream",
     "text": [
      "Train, epoch: [0][  0/245]\tLoss 1.1584e+00 (9.0118e-01)\tAccuracy 0.762 (0.764)\n"
     ]
    },
    {
     "name": "stderr",
     "output_type": "stream",
     "text": [
      "\r",
      " 80%|████████████████████████████████████████████████████████████████▎               | 197/245 [55:47<13:40, 17.10s/it]"
     ]
    },
    {
     "name": "stdout",
     "output_type": "stream",
     "text": [
      "Train, epoch: [0][  0/245]\tLoss 6.2816e-01 (8.9979e-01)\tAccuracy 0.778 (0.764)\n"
     ]
    },
    {
     "name": "stderr",
     "output_type": "stream",
     "text": [
      "\r",
      " 81%|████████████████████████████████████████████████████████████████▋               | 198/245 [56:05<13:23, 17.10s/it]"
     ]
    },
    {
     "name": "stdout",
     "output_type": "stream",
     "text": [
      "Train, epoch: [0][  0/245]\tLoss 4.4660e-01 (8.9750e-01)\tAccuracy 0.845 (0.764)\n"
     ]
    },
    {
     "name": "stderr",
     "output_type": "stream",
     "text": [
      "\r",
      " 81%|████████████████████████████████████████████████████████████████▉               | 199/245 [56:22<13:10, 17.18s/it]"
     ]
    },
    {
     "name": "stdout",
     "output_type": "stream",
     "text": [
      "Train, epoch: [0][  0/245]\tLoss 9.0320e-01 (8.9753e-01)\tAccuracy 0.712 (0.764)\n"
     ]
    },
    {
     "name": "stderr",
     "output_type": "stream",
     "text": [
      "\r",
      " 82%|█████████████████████████████████████████████████████████████████▎              | 200/245 [56:39<12:51, 17.15s/it]"
     ]
    },
    {
     "name": "stdout",
     "output_type": "stream",
     "text": [
      "Train, epoch: [0][  0/245]\tLoss 6.3482e-01 (8.9622e-01)\tAccuracy 0.740 (0.764)\n"
     ]
    },
    {
     "name": "stderr",
     "output_type": "stream",
     "text": [
      "\r",
      " 82%|█████████████████████████████████████████████████████████████████▋              | 201/245 [56:56<12:38, 17.23s/it]"
     ]
    },
    {
     "name": "stdout",
     "output_type": "stream",
     "text": [
      "Train, epoch: [0][  0/245]\tLoss 1.3599e+00 (8.9852e-01)\tAccuracy 0.702 (0.763)\n"
     ]
    },
    {
     "name": "stderr",
     "output_type": "stream",
     "text": [
      "\r",
      " 82%|█████████████████████████████████████████████████████████████████▉              | 202/245 [57:14<12:26, 17.36s/it]"
     ]
    },
    {
     "name": "stdout",
     "output_type": "stream",
     "text": [
      "Train, epoch: [0][  0/245]\tLoss 8.8569e-01 (8.9846e-01)\tAccuracy 0.779 (0.763)\n"
     ]
    },
    {
     "name": "stderr",
     "output_type": "stream",
     "text": [
      "\r",
      " 83%|██████████████████████████████████████████████████████████████████▎             | 203/245 [57:32<12:11, 17.41s/it]"
     ]
    },
    {
     "name": "stdout",
     "output_type": "stream",
     "text": [
      "Train, epoch: [0][  0/245]\tLoss 6.6886e-01 (8.9733e-01)\tAccuracy 0.810 (0.764)\n"
     ]
    },
    {
     "name": "stderr",
     "output_type": "stream",
     "text": [
      "\r",
      " 83%|██████████████████████████████████████████████████████████████████▌             | 204/245 [57:49<11:49, 17.31s/it]"
     ]
    },
    {
     "name": "stdout",
     "output_type": "stream",
     "text": [
      "Train, epoch: [0][  0/245]\tLoss 5.2173e-01 (8.9549e-01)\tAccuracy 0.806 (0.764)\n"
     ]
    },
    {
     "name": "stderr",
     "output_type": "stream",
     "text": [
      "\r",
      " 84%|██████████████████████████████████████████████████████████████████▉             | 205/245 [58:06<11:31, 17.28s/it]"
     ]
    },
    {
     "name": "stdout",
     "output_type": "stream",
     "text": [
      "Train, epoch: [0][  0/245]\tLoss 9.4067e-01 (8.9571e-01)\tAccuracy 0.745 (0.764)\n"
     ]
    },
    {
     "name": "stderr",
     "output_type": "stream",
     "text": [
      "\r",
      " 84%|███████████████████████████████████████████████████████████████████▎            | 206/245 [58:23<11:11, 17.21s/it]"
     ]
    },
    {
     "name": "stdout",
     "output_type": "stream",
     "text": [
      "Train, epoch: [0][  0/245]\tLoss 7.8454e-01 (8.9517e-01)\tAccuracy 0.761 (0.764)\n"
     ]
    },
    {
     "name": "stderr",
     "output_type": "stream",
     "text": [
      "\r",
      " 84%|███████████████████████████████████████████████████████████████████▌            | 207/245 [58:40<10:53, 17.19s/it]"
     ]
    },
    {
     "name": "stdout",
     "output_type": "stream",
     "text": [
      "Train, epoch: [0][  0/245]\tLoss 5.3668e-01 (8.9344e-01)\tAccuracy 0.810 (0.764)\n"
     ]
    },
    {
     "name": "stderr",
     "output_type": "stream",
     "text": [
      "\r",
      " 85%|███████████████████████████████████████████████████████████████████▉            | 208/245 [58:57<10:32, 17.10s/it]"
     ]
    },
    {
     "name": "stdout",
     "output_type": "stream",
     "text": [
      "Train, epoch: [0][  0/245]\tLoss 9.9385e-01 (8.9392e-01)\tAccuracy 0.753 (0.764)\n"
     ]
    },
    {
     "name": "stderr",
     "output_type": "stream",
     "text": [
      "\r",
      " 85%|████████████████████████████████████████████████████████████████████▏           | 209/245 [59:14<10:13, 17.05s/it]"
     ]
    },
    {
     "name": "stdout",
     "output_type": "stream",
     "text": [
      "Train, epoch: [0][  0/245]\tLoss 8.7618e-01 (8.9384e-01)\tAccuracy 0.753 (0.764)\n"
     ]
    },
    {
     "name": "stderr",
     "output_type": "stream",
     "text": [
      "\r",
      " 86%|████████████████████████████████████████████████████████████████████▌           | 210/245 [59:31<09:55, 17.00s/it]"
     ]
    },
    {
     "name": "stdout",
     "output_type": "stream",
     "text": [
      "Train, epoch: [0][  0/245]\tLoss 4.4327e-01 (8.9169e-01)\tAccuracy 0.818 (0.764)\n"
     ]
    },
    {
     "name": "stderr",
     "output_type": "stream",
     "text": [
      "\r",
      " 86%|████████████████████████████████████████████████████████████████████▉           | 211/245 [59:48<09:40, 17.08s/it]"
     ]
    },
    {
     "name": "stdout",
     "output_type": "stream",
     "text": [
      "Train, epoch: [0][  0/245]\tLoss 8.3185e-01 (8.9141e-01)\tAccuracy 0.793 (0.764)\n"
     ]
    },
    {
     "name": "stderr",
     "output_type": "stream",
     "text": [
      "\r",
      " 87%|███████████████████████████████████████████████████████████████████▍          | 212/245 [1:00:05<09:23, 17.08s/it]"
     ]
    },
    {
     "name": "stdout",
     "output_type": "stream",
     "text": [
      "Train, epoch: [0][  0/245]\tLoss 7.0028e-01 (8.9050e-01)\tAccuracy 0.794 (0.764)\n"
     ]
    },
    {
     "name": "stderr",
     "output_type": "stream",
     "text": [
      "\r",
      " 87%|███████████████████████████████████████████████████████████████████▊          | 213/245 [1:00:22<09:07, 17.10s/it]"
     ]
    },
    {
     "name": "stdout",
     "output_type": "stream",
     "text": [
      "Train, epoch: [0][  0/245]\tLoss 6.2728e-01 (8.8927e-01)\tAccuracy 0.836 (0.765)\n"
     ]
    },
    {
     "name": "stderr",
     "output_type": "stream",
     "text": [
      "\r",
      " 87%|████████████████████████████████████████████████████████████████████▏         | 214/245 [1:00:39<08:48, 17.06s/it]"
     ]
    },
    {
     "name": "stdout",
     "output_type": "stream",
     "text": [
      "Train, epoch: [0][  0/245]\tLoss 6.1617e-01 (8.8799e-01)\tAccuracy 0.824 (0.765)\n"
     ]
    },
    {
     "name": "stderr",
     "output_type": "stream",
     "text": [
      "\r",
      " 88%|████████████████████████████████████████████████████████████████████▍         | 215/245 [1:00:56<08:31, 17.04s/it]"
     ]
    },
    {
     "name": "stdout",
     "output_type": "stream",
     "text": [
      "Train, epoch: [0][  0/245]\tLoss 8.4468e-01 (8.8779e-01)\tAccuracy 0.816 (0.765)\n"
     ]
    },
    {
     "name": "stderr",
     "output_type": "stream",
     "text": [
      "\r",
      " 88%|████████████████████████████████████████████████████████████████████▊         | 216/245 [1:01:13<08:13, 17.03s/it]"
     ]
    },
    {
     "name": "stdout",
     "output_type": "stream",
     "text": [
      "Train, epoch: [0][  0/245]\tLoss 5.7435e-01 (8.8634e-01)\tAccuracy 0.825 (0.766)\n"
     ]
    },
    {
     "name": "stderr",
     "output_type": "stream",
     "text": [
      "\r",
      " 89%|█████████████████████████████████████████████████████████████████████         | 217/245 [1:01:30<07:56, 17.02s/it]"
     ]
    },
    {
     "name": "stdout",
     "output_type": "stream",
     "text": [
      "Train, epoch: [0][  0/245]\tLoss 4.7069e-01 (8.8442e-01)\tAccuracy 0.863 (0.766)\n"
     ]
    },
    {
     "name": "stderr",
     "output_type": "stream",
     "text": [
      "\r",
      " 89%|█████████████████████████████████████████████████████████████████████▍        | 218/245 [1:01:47<07:40, 17.06s/it]"
     ]
    },
    {
     "name": "stdout",
     "output_type": "stream",
     "text": [
      "Train, epoch: [0][  0/245]\tLoss 9.6771e-01 (8.8481e-01)\tAccuracy 0.732 (0.766)\n"
     ]
    },
    {
     "name": "stderr",
     "output_type": "stream",
     "text": [
      "\r",
      " 89%|█████████████████████████████████████████████████████████████████████▋        | 219/245 [1:02:04<07:23, 17.05s/it]"
     ]
    },
    {
     "name": "stdout",
     "output_type": "stream",
     "text": [
      "Train, epoch: [0][  0/245]\tLoss 5.2863e-01 (8.8318e-01)\tAccuracy 0.842 (0.766)\n"
     ]
    },
    {
     "name": "stderr",
     "output_type": "stream",
     "text": [
      "\r",
      " 90%|██████████████████████████████████████████████████████████████████████        | 220/245 [1:02:22<07:08, 17.15s/it]"
     ]
    },
    {
     "name": "stdout",
     "output_type": "stream",
     "text": [
      "Train, epoch: [0][  0/245]\tLoss 5.7905e-01 (8.8180e-01)\tAccuracy 0.787 (0.766)\n"
     ]
    },
    {
     "name": "stderr",
     "output_type": "stream",
     "text": [
      "\r",
      " 90%|██████████████████████████████████████████████████████████████████████▎       | 221/245 [1:02:39<06:50, 17.12s/it]"
     ]
    },
    {
     "name": "stdout",
     "output_type": "stream",
     "text": [
      "Train, epoch: [0][  0/245]\tLoss 7.2905e-01 (8.8111e-01)\tAccuracy 0.788 (0.766)\n"
     ]
    },
    {
     "name": "stderr",
     "output_type": "stream",
     "text": [
      "\r",
      " 91%|██████████████████████████████████████████████████████████████████████▋       | 222/245 [1:02:56<06:34, 17.15s/it]"
     ]
    },
    {
     "name": "stdout",
     "output_type": "stream",
     "text": [
      "Train, epoch: [0][  0/245]\tLoss 5.8288e-01 (8.7976e-01)\tAccuracy 0.823 (0.767)\n"
     ]
    },
    {
     "name": "stderr",
     "output_type": "stream",
     "text": [
      "\r",
      " 91%|██████████████████████████████████████████████████████████████████████▉       | 223/245 [1:03:13<06:17, 17.17s/it]"
     ]
    },
    {
     "name": "stdout",
     "output_type": "stream",
     "text": [
      "Train, epoch: [0][  0/245]\tLoss 4.1766e-01 (8.7769e-01)\tAccuracy 0.857 (0.767)\n"
     ]
    },
    {
     "name": "stderr",
     "output_type": "stream",
     "text": [
      "\r",
      " 91%|███████████████████████████████████████████████████████████████████████▎      | 224/245 [1:03:30<05:59, 17.13s/it]"
     ]
    },
    {
     "name": "stdout",
     "output_type": "stream",
     "text": [
      "Train, epoch: [0][  0/245]\tLoss 4.6890e-01 (8.7587e-01)\tAccuracy 0.863 (0.767)\n"
     ]
    },
    {
     "name": "stderr",
     "output_type": "stream",
     "text": [
      "\r",
      " 92%|███████████████████████████████████████████████████████████████████████▋      | 225/245 [1:03:48<05:42, 17.15s/it]"
     ]
    },
    {
     "name": "stdout",
     "output_type": "stream",
     "text": [
      "Train, epoch: [0][  0/245]\tLoss 8.6621e-01 (8.7582e-01)\tAccuracy 0.844 (0.768)\n"
     ]
    },
    {
     "name": "stderr",
     "output_type": "stream",
     "text": [
      "\r",
      " 92%|███████████████████████████████████████████████████████████████████████▉      | 226/245 [1:04:05<05:26, 17.17s/it]"
     ]
    },
    {
     "name": "stdout",
     "output_type": "stream",
     "text": [
      "Train, epoch: [0][  0/245]\tLoss 6.5160e-01 (8.7483e-01)\tAccuracy 0.755 (0.768)\n"
     ]
    },
    {
     "name": "stderr",
     "output_type": "stream",
     "text": [
      "\r",
      " 93%|████████████████████████████████████████████████████████████████████████▎     | 227/245 [1:04:22<05:09, 17.18s/it]"
     ]
    },
    {
     "name": "stdout",
     "output_type": "stream",
     "text": [
      "Train, epoch: [0][  0/245]\tLoss 3.6836e-01 (8.7260e-01)\tAccuracy 0.833 (0.768)\n"
     ]
    },
    {
     "name": "stderr",
     "output_type": "stream",
     "text": [
      "\r",
      " 93%|████████████████████████████████████████████████████████████████████████▌     | 228/245 [1:04:39<04:51, 17.17s/it]"
     ]
    },
    {
     "name": "stdout",
     "output_type": "stream",
     "text": [
      "Train, epoch: [0][  0/245]\tLoss 5.9310e-01 (8.7137e-01)\tAccuracy 0.812 (0.768)\n"
     ]
    },
    {
     "name": "stderr",
     "output_type": "stream",
     "text": [
      "\r",
      " 93%|████████████████████████████████████████████████████████████████████████▉     | 229/245 [1:04:56<04:34, 17.13s/it]"
     ]
    },
    {
     "name": "stdout",
     "output_type": "stream",
     "text": [
      "Train, epoch: [0][  0/245]\tLoss 9.7938e-01 (8.7185e-01)\tAccuracy 0.716 (0.768)\n"
     ]
    },
    {
     "name": "stderr",
     "output_type": "stream",
     "text": [
      "\r",
      " 94%|█████████████████████████████████████████████████████████████████████████▏    | 230/245 [1:05:13<04:17, 17.15s/it]"
     ]
    },
    {
     "name": "stdout",
     "output_type": "stream",
     "text": [
      "Train, epoch: [0][  0/245]\tLoss 9.8301e-01 (8.7233e-01)\tAccuracy 0.737 (0.768)\n"
     ]
    },
    {
     "name": "stderr",
     "output_type": "stream",
     "text": [
      "\r",
      " 94%|█████████████████████████████████████████████████████████████████████████▌    | 231/245 [1:05:31<03:59, 17.14s/it]"
     ]
    },
    {
     "name": "stdout",
     "output_type": "stream",
     "text": [
      "Train, epoch: [0][  0/245]\tLoss 8.6164e-01 (8.7228e-01)\tAccuracy 0.767 (0.768)\n"
     ]
    },
    {
     "name": "stderr",
     "output_type": "stream",
     "text": [
      "\r",
      " 95%|█████████████████████████████████████████████████████████████████████████▊    | 232/245 [1:05:48<03:43, 17.16s/it]"
     ]
    },
    {
     "name": "stdout",
     "output_type": "stream",
     "text": [
      "Train, epoch: [0][  0/245]\tLoss 7.3799e-01 (8.7170e-01)\tAccuracy 0.740 (0.768)\n"
     ]
    },
    {
     "name": "stderr",
     "output_type": "stream",
     "text": [
      "\r",
      " 95%|██████████████████████████████████████████████████████████████████████████▏   | 233/245 [1:06:05<03:25, 17.13s/it]"
     ]
    },
    {
     "name": "stdout",
     "output_type": "stream",
     "text": [
      "Train, epoch: [0][  0/245]\tLoss 5.8241e-01 (8.7046e-01)\tAccuracy 0.781 (0.768)\n"
     ]
    },
    {
     "name": "stderr",
     "output_type": "stream",
     "text": [
      "\r",
      " 96%|██████████████████████████████████████████████████████████████████████████▍   | 234/245 [1:06:22<03:08, 17.15s/it]"
     ]
    },
    {
     "name": "stdout",
     "output_type": "stream",
     "text": [
      "Train, epoch: [0][  0/245]\tLoss 4.1612e-01 (8.6852e-01)\tAccuracy 0.822 (0.768)\n"
     ]
    },
    {
     "name": "stderr",
     "output_type": "stream",
     "text": [
      "\r",
      " 96%|██████████████████████████████████████████████████████████████████████████▊   | 235/245 [1:06:39<02:51, 17.15s/it]"
     ]
    },
    {
     "name": "stdout",
     "output_type": "stream",
     "text": [
      "Train, epoch: [0][  0/245]\tLoss 5.9739e-01 (8.6737e-01)\tAccuracy 0.803 (0.768)\n"
     ]
    },
    {
     "name": "stderr",
     "output_type": "stream",
     "text": [
      "\r",
      " 96%|███████████████████████████████████████████████████████████████████████████▏  | 236/245 [1:06:56<02:34, 17.14s/it]"
     ]
    },
    {
     "name": "stdout",
     "output_type": "stream",
     "text": [
      "Train, epoch: [0][  0/245]\tLoss 8.0963e-01 (8.6712e-01)\tAccuracy 0.787 (0.768)\n"
     ]
    },
    {
     "name": "stderr",
     "output_type": "stream",
     "text": [
      "\r",
      " 97%|███████████████████████████████████████████████████████████████████████████▍  | 237/245 [1:07:13<02:17, 17.17s/it]"
     ]
    },
    {
     "name": "stdout",
     "output_type": "stream",
     "text": [
      "Train, epoch: [0][  0/245]\tLoss 4.5366e-01 (8.6538e-01)\tAccuracy 0.862 (0.769)\n"
     ]
    },
    {
     "name": "stderr",
     "output_type": "stream",
     "text": [
      "\r",
      " 97%|███████████████████████████████████████████████████████████████████████████▊  | 238/245 [1:07:31<02:00, 17.15s/it]"
     ]
    },
    {
     "name": "stdout",
     "output_type": "stream",
     "text": [
      "Train, epoch: [0][  0/245]\tLoss 4.4951e-01 (8.6363e-01)\tAccuracy 0.860 (0.769)\n"
     ]
    },
    {
     "name": "stderr",
     "output_type": "stream",
     "text": [
      "\r",
      " 98%|████████████████████████████████████████████████████████████████████████████  | 239/245 [1:07:48<01:42, 17.15s/it]"
     ]
    },
    {
     "name": "stdout",
     "output_type": "stream",
     "text": [
      "Train, epoch: [0][  0/245]\tLoss 4.6582e-01 (8.6197e-01)\tAccuracy 0.854 (0.769)\n"
     ]
    },
    {
     "name": "stderr",
     "output_type": "stream",
     "text": [
      "\r",
      " 98%|████████████████████████████████████████████████████████████████████████████▍ | 240/245 [1:08:05<01:25, 17.15s/it]"
     ]
    },
    {
     "name": "stdout",
     "output_type": "stream",
     "text": [
      "Train, epoch: [0][  0/245]\tLoss 7.5166e-01 (8.6151e-01)\tAccuracy 0.826 (0.770)\n"
     ]
    },
    {
     "name": "stderr",
     "output_type": "stream",
     "text": [
      "\r",
      " 98%|████████████████████████████████████████████████████████████████████████████▋ | 241/245 [1:08:22<01:08, 17.14s/it]"
     ]
    },
    {
     "name": "stdout",
     "output_type": "stream",
     "text": [
      "Train, epoch: [0][  0/245]\tLoss 4.4781e-01 (8.5979e-01)\tAccuracy 0.860 (0.770)\n"
     ]
    },
    {
     "name": "stderr",
     "output_type": "stream",
     "text": [
      "\r",
      " 99%|█████████████████████████████████████████████████████████████████████████████ | 242/245 [1:08:39<00:51, 17.19s/it]"
     ]
    },
    {
     "name": "stdout",
     "output_type": "stream",
     "text": [
      "Train, epoch: [0][  0/245]\tLoss 4.5958e-01 (8.5814e-01)\tAccuracy 0.844 (0.770)\n"
     ]
    },
    {
     "name": "stderr",
     "output_type": "stream",
     "text": [
      "\r",
      " 99%|█████████████████████████████████████████████████████████████████████████████▎| 243/245 [1:08:56<00:34, 17.14s/it]"
     ]
    },
    {
     "name": "stdout",
     "output_type": "stream",
     "text": [
      "Train, epoch: [0][  0/245]\tLoss 6.9683e-01 (8.5747e-01)\tAccuracy 0.835 (0.771)\n"
     ]
    },
    {
     "name": "stderr",
     "output_type": "stream",
     "text": [
      "\r",
      "100%|█████████████████████████████████████████████████████████████████████████████▋| 244/245 [1:09:13<00:17, 17.10s/it]"
     ]
    },
    {
     "name": "stdout",
     "output_type": "stream",
     "text": [
      "Train, epoch: [0][  0/245]\tLoss 5.5520e-01 (8.5623e-01)\tAccuracy 0.815 (0.771)\n"
     ]
    },
    {
     "name": "stderr",
     "output_type": "stream",
     "text": [
      "100%|██████████████████████████████████████████████████████████████████████████████| 245/245 [1:09:30<00:00, 17.02s/it]"
     ]
    },
    {
     "name": "stdout",
     "output_type": "stream",
     "text": [
      "Train, epoch: [0][  0/245]\tLoss 5.1228e-01 (8.5483e-01)\tAccuracy 0.865 (0.771)\n",
      "classes           IoU\n",
      "---------------------\n",
      "Pole          : 0.146\n",
      "SignSymbol    : 0.225\n",
      "Bicyclist     : 0.302\n",
      "Pedestrian    : 0.286\n",
      "Building      : 0.593\n",
      "Fence         : 0.290\n",
      "Pavement      : 0.600\n",
      "Road          : 0.859\n",
      "Car           : 0.627\n",
      "Sky           : 0.814\n",
      "Tree          : 0.640\n",
      "---------------------\n",
      "Mean IoU      : 0.489\n",
      "---------------------\n"
     ]
    },
    {
     "name": "stderr",
     "output_type": "stream",
     "text": [
      "\n",
      "C:\\Users\\user\\anaconda3\\envs\\yooso_venv\\lib\\site-packages\\torch\\optim\\lr_scheduler.py:154: UserWarning: The epoch parameter in `scheduler.step()` was not necessary and is being deprecated where possible. Please use `scheduler.step()` to step the scheduler. During the deprecation, if epoch is different from None, the closed form is used instead of the new chainable form, where available. Please open an issue if you are unable to replicate your use case: https://github.com/pytorch/pytorch/issues/new/choose.\n",
      "  warnings.warn(EPOCH_DEPRECATION_WARNING, UserWarning)\n",
      "  0%|                                                                                          | 0/245 [00:00<?, ?it/s]"
     ]
    },
    {
     "name": "stdout",
     "output_type": "stream",
     "text": [
      "mIoU improved from 0.0000 to 0.4893.\n",
      "epoch  0\n",
      "loss : 0.8548   acc : 0.7711   miou : 0.4893\n"
     ]
    },
    {
     "name": "stderr",
     "output_type": "stream",
     "text": [
      "\r",
      "  0%|▎                                                                               | 1/245 [00:17<1:11:29, 17.58s/it]"
     ]
    },
    {
     "name": "stdout",
     "output_type": "stream",
     "text": [
      "Train, epoch: [1][  1/245]\tLoss 4.8428e-01 (4.8428e-01)\tAccuracy 0.882 (0.882)\n"
     ]
    },
    {
     "name": "stderr",
     "output_type": "stream",
     "text": [
      "\r",
      "  1%|▋                                                                               | 2/245 [00:34<1:10:16, 17.35s/it]"
     ]
    },
    {
     "name": "stdout",
     "output_type": "stream",
     "text": [
      "Train, epoch: [1][  1/245]\tLoss 8.4080e-01 (6.6254e-01)\tAccuracy 0.808 (0.845)\n"
     ]
    },
    {
     "name": "stderr",
     "output_type": "stream",
     "text": [
      "\r",
      "  1%|▉                                                                               | 3/245 [00:52<1:09:54, 17.33s/it]"
     ]
    },
    {
     "name": "stdout",
     "output_type": "stream",
     "text": [
      "Train, epoch: [1][  1/245]\tLoss 6.6353e-01 (6.6287e-01)\tAccuracy 0.812 (0.834)\n"
     ]
    },
    {
     "name": "stderr",
     "output_type": "stream",
     "text": [
      "\r",
      "  2%|█▎                                                                              | 4/245 [01:09<1:09:12, 17.23s/it]"
     ]
    },
    {
     "name": "stdout",
     "output_type": "stream",
     "text": [
      "Train, epoch: [1][  1/245]\tLoss 5.9733e-01 (6.4648e-01)\tAccuracy 0.793 (0.824)\n"
     ]
    },
    {
     "name": "stderr",
     "output_type": "stream",
     "text": [
      "\r",
      "  2%|█▋                                                                              | 5/245 [01:26<1:09:12, 17.30s/it]"
     ]
    },
    {
     "name": "stdout",
     "output_type": "stream",
     "text": [
      "Train, epoch: [1][  1/245]\tLoss 6.0553e-01 (6.3829e-01)\tAccuracy 0.792 (0.817)\n"
     ]
    },
    {
     "name": "stderr",
     "output_type": "stream",
     "text": [
      "\r",
      "  2%|█▉                                                                              | 6/245 [01:43<1:08:38, 17.23s/it]"
     ]
    },
    {
     "name": "stdout",
     "output_type": "stream",
     "text": [
      "Train, epoch: [1][  1/245]\tLoss 6.6393e-01 (6.4257e-01)\tAccuracy 0.792 (0.813)\n"
     ]
    },
    {
     "name": "stderr",
     "output_type": "stream",
     "text": [
      "\r",
      "  3%|██▎                                                                             | 7/245 [02:01<1:08:35, 17.29s/it]"
     ]
    },
    {
     "name": "stdout",
     "output_type": "stream",
     "text": [
      "Train, epoch: [1][  1/245]\tLoss 3.3803e-01 (5.9906e-01)\tAccuracy 0.875 (0.822)\n"
     ]
    },
    {
     "name": "stderr",
     "output_type": "stream",
     "text": [
      "\r",
      "  3%|██▌                                                                             | 8/245 [02:18<1:07:59, 17.21s/it]"
     ]
    },
    {
     "name": "stdout",
     "output_type": "stream",
     "text": [
      "Train, epoch: [1][  1/245]\tLoss 5.1882e-01 (5.8903e-01)\tAccuracy 0.877 (0.829)\n"
     ]
    },
    {
     "name": "stderr",
     "output_type": "stream",
     "text": [
      "\r",
      "  4%|██▉                                                                             | 9/245 [02:35<1:07:43, 17.22s/it]"
     ]
    },
    {
     "name": "stdout",
     "output_type": "stream",
     "text": [
      "Train, epoch: [1][  1/245]\tLoss 5.2466e-01 (5.8188e-01)\tAccuracy 0.840 (0.830)\n"
     ]
    },
    {
     "name": "stderr",
     "output_type": "stream",
     "text": [
      "\r",
      "  4%|███▏                                                                           | 10/245 [02:52<1:07:13, 17.16s/it]"
     ]
    },
    {
     "name": "stdout",
     "output_type": "stream",
     "text": [
      "Train, epoch: [1][  1/245]\tLoss 6.6320e-01 (5.9001e-01)\tAccuracy 0.823 (0.829)\n"
     ]
    },
    {
     "name": "stderr",
     "output_type": "stream",
     "text": [
      "\r",
      "  4%|███▌                                                                           | 11/245 [03:09<1:06:56, 17.16s/it]"
     ]
    },
    {
     "name": "stdout",
     "output_type": "stream",
     "text": [
      "Train, epoch: [1][  1/245]\tLoss 2.9721e-01 (5.6339e-01)\tAccuracy 0.868 (0.833)\n"
     ]
    },
    {
     "name": "stderr",
     "output_type": "stream",
     "text": [
      "\r",
      "  5%|███▊                                                                           | 12/245 [03:26<1:06:25, 17.11s/it]"
     ]
    },
    {
     "name": "stdout",
     "output_type": "stream",
     "text": [
      "Train, epoch: [1][  1/245]\tLoss 5.5607e-01 (5.6278e-01)\tAccuracy 0.832 (0.833)\n"
     ]
    },
    {
     "name": "stderr",
     "output_type": "stream",
     "text": [
      "\r",
      "  5%|████▏                                                                          | 13/245 [03:43<1:06:22, 17.17s/it]"
     ]
    },
    {
     "name": "stdout",
     "output_type": "stream",
     "text": [
      "Train, epoch: [1][  1/245]\tLoss 4.7832e-01 (5.5629e-01)\tAccuracy 0.869 (0.836)\n"
     ]
    },
    {
     "name": "stderr",
     "output_type": "stream",
     "text": [
      "\r",
      "  6%|████▌                                                                          | 14/245 [04:00<1:05:58, 17.13s/it]"
     ]
    },
    {
     "name": "stdout",
     "output_type": "stream",
     "text": [
      "Train, epoch: [1][  1/245]\tLoss 4.4989e-01 (5.4869e-01)\tAccuracy 0.841 (0.836)\n"
     ]
    },
    {
     "name": "stderr",
     "output_type": "stream",
     "text": [
      "\r",
      "  6%|████▊                                                                          | 15/245 [04:18<1:05:48, 17.17s/it]"
     ]
    },
    {
     "name": "stdout",
     "output_type": "stream",
     "text": [
      "Train, epoch: [1][  1/245]\tLoss 6.3639e-01 (5.5453e-01)\tAccuracy 0.826 (0.835)\n"
     ]
    },
    {
     "name": "stderr",
     "output_type": "stream",
     "text": [
      "\r",
      "  7%|█████▏                                                                         | 16/245 [04:35<1:05:18, 17.11s/it]"
     ]
    },
    {
     "name": "stdout",
     "output_type": "stream",
     "text": [
      "Train, epoch: [1][  1/245]\tLoss 4.8609e-01 (5.5026e-01)\tAccuracy 0.888 (0.839)\n"
     ]
    },
    {
     "name": "stderr",
     "output_type": "stream",
     "text": [
      "\r",
      "  7%|█████▍                                                                         | 17/245 [04:52<1:04:57, 17.09s/it]"
     ]
    },
    {
     "name": "stdout",
     "output_type": "stream",
     "text": [
      "Train, epoch: [1][  1/245]\tLoss 7.8681e-01 (5.6417e-01)\tAccuracy 0.772 (0.835)\n"
     ]
    },
    {
     "name": "stderr",
     "output_type": "stream",
     "text": [
      "\r",
      "  7%|█████▊                                                                         | 18/245 [05:09<1:04:38, 17.09s/it]"
     ]
    },
    {
     "name": "stdout",
     "output_type": "stream",
     "text": [
      "Train, epoch: [1][  1/245]\tLoss 5.1327e-01 (5.6134e-01)\tAccuracy 0.851 (0.836)\n"
     ]
    },
    {
     "name": "stderr",
     "output_type": "stream",
     "text": [
      "\r",
      "  8%|██████▏                                                                        | 19/245 [05:26<1:04:28, 17.12s/it]"
     ]
    },
    {
     "name": "stdout",
     "output_type": "stream",
     "text": [
      "Train, epoch: [1][  1/245]\tLoss 8.8742e-01 (5.7850e-01)\tAccuracy 0.833 (0.835)\n"
     ]
    },
    {
     "name": "stderr",
     "output_type": "stream",
     "text": [
      "\r",
      "  8%|██████▍                                                                        | 20/245 [05:43<1:03:52, 17.03s/it]"
     ]
    },
    {
     "name": "stdout",
     "output_type": "stream",
     "text": [
      "Train, epoch: [1][  1/245]\tLoss 2.9277e-01 (5.6422e-01)\tAccuracy 0.879 (0.838)\n"
     ]
    },
    {
     "name": "stderr",
     "output_type": "stream",
     "text": [
      "\r",
      "  9%|██████▊                                                                        | 21/245 [06:00<1:03:49, 17.10s/it]"
     ]
    },
    {
     "name": "stdout",
     "output_type": "stream",
     "text": [
      "Train, epoch: [1][  1/245]\tLoss 5.7136e-01 (5.6456e-01)\tAccuracy 0.815 (0.837)\n"
     ]
    },
    {
     "name": "stderr",
     "output_type": "stream",
     "text": [
      "\r",
      "  9%|███████                                                                        | 22/245 [06:17<1:03:40, 17.13s/it]"
     ]
    },
    {
     "name": "stdout",
     "output_type": "stream",
     "text": [
      "Train, epoch: [1][  1/245]\tLoss 4.0966e-01 (5.5752e-01)\tAccuracy 0.874 (0.838)\n"
     ]
    },
    {
     "name": "stderr",
     "output_type": "stream",
     "text": [
      "\r",
      "  9%|███████▍                                                                       | 23/245 [06:35<1:03:35, 17.19s/it]"
     ]
    },
    {
     "name": "stdout",
     "output_type": "stream",
     "text": [
      "Train, epoch: [1][  1/245]\tLoss 5.7108e-01 (5.5811e-01)\tAccuracy 0.854 (0.839)\n"
     ]
    },
    {
     "name": "stderr",
     "output_type": "stream",
     "text": [
      "\r",
      " 10%|███████▋                                                                       | 24/245 [06:52<1:03:32, 17.25s/it]"
     ]
    },
    {
     "name": "stdout",
     "output_type": "stream",
     "text": [
      "Train, epoch: [1][  1/245]\tLoss 3.3351e-01 (5.4875e-01)\tAccuracy 0.866 (0.840)\n"
     ]
    },
    {
     "name": "stderr",
     "output_type": "stream",
     "text": [
      "\r",
      " 10%|████████                                                                       | 25/245 [07:09<1:02:52, 17.15s/it]"
     ]
    },
    {
     "name": "stdout",
     "output_type": "stream",
     "text": [
      "Train, epoch: [1][  1/245]\tLoss 3.9471e-01 (5.4259e-01)\tAccuracy 0.863 (0.841)\n"
     ]
    },
    {
     "name": "stderr",
     "output_type": "stream",
     "text": [
      "\r",
      " 11%|████████▍                                                                      | 26/245 [07:26<1:02:33, 17.14s/it]"
     ]
    },
    {
     "name": "stdout",
     "output_type": "stream",
     "text": [
      "Train, epoch: [1][  1/245]\tLoss 4.4343e-01 (5.3877e-01)\tAccuracy 0.883 (0.843)\n"
     ]
    },
    {
     "name": "stderr",
     "output_type": "stream",
     "text": [
      "\r",
      " 11%|████████▋                                                                      | 27/245 [07:43<1:02:15, 17.14s/it]"
     ]
    },
    {
     "name": "stdout",
     "output_type": "stream",
     "text": [
      "Train, epoch: [1][  1/245]\tLoss 4.3248e-01 (5.3484e-01)\tAccuracy 0.850 (0.843)\n"
     ]
    },
    {
     "name": "stderr",
     "output_type": "stream",
     "text": [
      "\r",
      " 11%|█████████                                                                      | 28/245 [08:00<1:02:12, 17.20s/it]"
     ]
    },
    {
     "name": "stdout",
     "output_type": "stream",
     "text": [
      "Train, epoch: [1][  1/245]\tLoss 4.1259e-01 (5.3047e-01)\tAccuracy 0.824 (0.842)\n"
     ]
    },
    {
     "name": "stderr",
     "output_type": "stream",
     "text": [
      "\r",
      " 12%|█████████▎                                                                     | 29/245 [08:17<1:01:40, 17.13s/it]"
     ]
    },
    {
     "name": "stdout",
     "output_type": "stream",
     "text": [
      "Train, epoch: [1][  1/245]\tLoss 4.5951e-01 (5.2802e-01)\tAccuracy 0.823 (0.842)\n"
     ]
    },
    {
     "name": "stderr",
     "output_type": "stream",
     "text": [
      "\r",
      " 12%|█████████▋                                                                     | 30/245 [08:35<1:01:30, 17.17s/it]"
     ]
    },
    {
     "name": "stdout",
     "output_type": "stream",
     "text": [
      "Train, epoch: [1][  1/245]\tLoss 6.1854e-01 (5.3104e-01)\tAccuracy 0.810 (0.840)\n"
     ]
    },
    {
     "name": "stderr",
     "output_type": "stream",
     "text": [
      "\r",
      " 13%|█████████▉                                                                     | 31/245 [08:52<1:01:02, 17.12s/it]"
     ]
    },
    {
     "name": "stdout",
     "output_type": "stream",
     "text": [
      "Train, epoch: [1][  1/245]\tLoss 2.8251e-01 (5.2302e-01)\tAccuracy 0.888 (0.842)\n"
     ]
    },
    {
     "name": "stderr",
     "output_type": "stream",
     "text": [
      "\r",
      " 13%|██████████▎                                                                    | 32/245 [09:09<1:01:06, 17.21s/it]"
     ]
    },
    {
     "name": "stdout",
     "output_type": "stream",
     "text": [
      "Train, epoch: [1][  1/245]\tLoss 7.3304e-01 (5.2959e-01)\tAccuracy 0.811 (0.841)\n"
     ]
    },
    {
     "name": "stderr",
     "output_type": "stream",
     "text": [
      "\r",
      " 13%|██████████▋                                                                    | 33/245 [09:26<1:00:38, 17.16s/it]"
     ]
    },
    {
     "name": "stdout",
     "output_type": "stream",
     "text": [
      "Train, epoch: [1][  1/245]\tLoss 2.7440e-01 (5.2185e-01)\tAccuracy 0.921 (0.843)\n"
     ]
    },
    {
     "name": "stderr",
     "output_type": "stream",
     "text": [
      "\r",
      " 14%|██████████▉                                                                    | 34/245 [09:43<1:00:23, 17.17s/it]"
     ]
    },
    {
     "name": "stdout",
     "output_type": "stream",
     "text": [
      "Train, epoch: [1][  1/245]\tLoss 7.7222e-01 (5.2922e-01)\tAccuracy 0.831 (0.843)\n"
     ]
    },
    {
     "name": "stderr",
     "output_type": "stream",
     "text": [
      "\r",
      " 14%|███████████▌                                                                     | 35/245 [10:00<59:51, 17.10s/it]"
     ]
    },
    {
     "name": "stdout",
     "output_type": "stream",
     "text": [
      "Train, epoch: [1][  1/245]\tLoss 3.3965e-01 (5.2380e-01)\tAccuracy 0.891 (0.844)\n"
     ]
    },
    {
     "name": "stderr",
     "output_type": "stream",
     "text": [
      "\r",
      " 15%|███████████▉                                                                     | 36/245 [10:17<59:39, 17.13s/it]"
     ]
    },
    {
     "name": "stdout",
     "output_type": "stream",
     "text": [
      "Train, epoch: [1][  1/245]\tLoss 4.1157e-01 (5.2068e-01)\tAccuracy 0.854 (0.845)\n"
     ]
    },
    {
     "name": "stderr",
     "output_type": "stream",
     "text": [
      "\r",
      " 15%|████████████▏                                                                    | 37/245 [10:35<59:32, 17.18s/it]"
     ]
    },
    {
     "name": "stdout",
     "output_type": "stream",
     "text": [
      "Train, epoch: [1][  1/245]\tLoss 3.7222e-01 (5.1667e-01)\tAccuracy 0.857 (0.845)\n"
     ]
    },
    {
     "name": "stderr",
     "output_type": "stream",
     "text": [
      "\r",
      " 16%|████████████▌                                                                    | 38/245 [10:52<58:57, 17.09s/it]"
     ]
    },
    {
     "name": "stdout",
     "output_type": "stream",
     "text": [
      "Train, epoch: [1][  1/245]\tLoss 3.1923e-01 (5.1147e-01)\tAccuracy 0.880 (0.846)\n"
     ]
    },
    {
     "name": "stderr",
     "output_type": "stream",
     "text": [
      "\r",
      " 16%|████████████▉                                                                    | 39/245 [11:09<58:44, 17.11s/it]"
     ]
    },
    {
     "name": "stdout",
     "output_type": "stream",
     "text": [
      "Train, epoch: [1][  1/245]\tLoss 5.3920e-01 (5.1219e-01)\tAccuracy 0.850 (0.846)\n"
     ]
    },
    {
     "name": "stderr",
     "output_type": "stream",
     "text": [
      "\r",
      " 16%|█████████████▏                                                                   | 40/245 [11:26<58:23, 17.09s/it]"
     ]
    },
    {
     "name": "stdout",
     "output_type": "stream",
     "text": [
      "Train, epoch: [1][  1/245]\tLoss 2.9789e-01 (5.0683e-01)\tAccuracy 0.892 (0.847)\n"
     ]
    },
    {
     "name": "stderr",
     "output_type": "stream",
     "text": [
      "\r",
      " 17%|█████████████▌                                                                   | 41/245 [11:43<58:14, 17.13s/it]"
     ]
    },
    {
     "name": "stdout",
     "output_type": "stream",
     "text": [
      "Train, epoch: [1][  1/245]\tLoss 2.8098e-01 (5.0132e-01)\tAccuracy 0.896 (0.848)\n"
     ]
    },
    {
     "name": "stderr",
     "output_type": "stream",
     "text": [
      "\r",
      " 17%|█████████████▉                                                                   | 42/245 [12:01<58:16, 17.22s/it]"
     ]
    },
    {
     "name": "stdout",
     "output_type": "stream",
     "text": [
      "Train, epoch: [1][  1/245]\tLoss 4.6088e-01 (5.0036e-01)\tAccuracy 0.840 (0.848)\n"
     ]
    },
    {
     "name": "stderr",
     "output_type": "stream",
     "text": [
      "\r",
      " 18%|██████████████▏                                                                  | 43/245 [12:18<57:49, 17.18s/it]"
     ]
    },
    {
     "name": "stdout",
     "output_type": "stream",
     "text": [
      "Train, epoch: [1][  1/245]\tLoss 6.1313e-01 (5.0298e-01)\tAccuracy 0.811 (0.847)\n"
     ]
    },
    {
     "name": "stderr",
     "output_type": "stream",
     "text": [
      "\r",
      " 18%|██████████████▌                                                                  | 44/245 [12:35<57:33, 17.18s/it]"
     ]
    },
    {
     "name": "stdout",
     "output_type": "stream",
     "text": [
      "Train, epoch: [1][  1/245]\tLoss 4.1964e-01 (5.0109e-01)\tAccuracy 0.858 (0.848)\n"
     ]
    },
    {
     "name": "stderr",
     "output_type": "stream",
     "text": [
      "\r",
      " 18%|██████████████▉                                                                  | 45/245 [12:52<57:12, 17.16s/it]"
     ]
    },
    {
     "name": "stdout",
     "output_type": "stream",
     "text": [
      "Train, epoch: [1][  1/245]\tLoss 3.7866e-01 (4.9836e-01)\tAccuracy 0.844 (0.847)\n"
     ]
    },
    {
     "name": "stderr",
     "output_type": "stream",
     "text": [
      "\r",
      " 19%|███████████████▏                                                                 | 46/245 [13:09<56:53, 17.15s/it]"
     ]
    },
    {
     "name": "stdout",
     "output_type": "stream",
     "text": [
      "Train, epoch: [1][  1/245]\tLoss 2.3593e-01 (4.9266e-01)\tAccuracy 0.884 (0.848)\n"
     ]
    },
    {
     "name": "stderr",
     "output_type": "stream",
     "text": [
      "\r",
      " 19%|███████████████▌                                                                 | 47/245 [13:26<56:27, 17.11s/it]"
     ]
    },
    {
     "name": "stdout",
     "output_type": "stream",
     "text": [
      "Train, epoch: [1][  1/245]\tLoss 2.9347e-01 (4.8842e-01)\tAccuracy 0.868 (0.849)\n"
     ]
    },
    {
     "name": "stderr",
     "output_type": "stream",
     "text": [
      "\r",
      " 20%|███████████████▊                                                                 | 48/245 [13:43<56:16, 17.14s/it]"
     ]
    },
    {
     "name": "stdout",
     "output_type": "stream",
     "text": [
      "Train, epoch: [1][  1/245]\tLoss 4.3869e-01 (4.8739e-01)\tAccuracy 0.856 (0.849)\n"
     ]
    },
    {
     "name": "stderr",
     "output_type": "stream",
     "text": [
      "\r",
      " 20%|████████████████▏                                                                | 49/245 [14:01<56:19, 17.24s/it]"
     ]
    },
    {
     "name": "stdout",
     "output_type": "stream",
     "text": [
      "Train, epoch: [1][  1/245]\tLoss 7.8451e-01 (4.9345e-01)\tAccuracy 0.780 (0.847)\n"
     ]
    },
    {
     "name": "stderr",
     "output_type": "stream",
     "text": [
      "\r",
      " 20%|████████████████▌                                                                | 50/245 [14:18<55:56, 17.22s/it]"
     ]
    },
    {
     "name": "stdout",
     "output_type": "stream",
     "text": [
      "Train, epoch: [1][  1/245]\tLoss 5.2438e-01 (4.9407e-01)\tAccuracy 0.852 (0.848)\n"
     ]
    },
    {
     "name": "stderr",
     "output_type": "stream",
     "text": [
      "\r",
      " 21%|████████████████▊                                                                | 51/245 [14:35<55:25, 17.14s/it]"
     ]
    },
    {
     "name": "stdout",
     "output_type": "stream",
     "text": [
      "Train, epoch: [1][  1/245]\tLoss 3.9726e-01 (4.9217e-01)\tAccuracy 0.868 (0.848)\n"
     ]
    },
    {
     "name": "stderr",
     "output_type": "stream",
     "text": [
      "\r",
      " 21%|█████████████████▏                                                               | 52/245 [14:52<55:10, 17.15s/it]"
     ]
    },
    {
     "name": "stdout",
     "output_type": "stream",
     "text": [
      "Train, epoch: [1][  1/245]\tLoss 4.4704e-01 (4.9130e-01)\tAccuracy 0.886 (0.849)\n"
     ]
    },
    {
     "name": "stderr",
     "output_type": "stream",
     "text": [
      "\r",
      " 22%|█████████████████▌                                                               | 53/245 [15:09<54:44, 17.11s/it]"
     ]
    },
    {
     "name": "stdout",
     "output_type": "stream",
     "text": [
      "Train, epoch: [1][  1/245]\tLoss 5.0353e-01 (4.9153e-01)\tAccuracy 0.869 (0.849)\n"
     ]
    },
    {
     "name": "stderr",
     "output_type": "stream",
     "text": [
      "\r",
      " 22%|█████████████████▊                                                               | 54/245 [15:26<54:34, 17.15s/it]"
     ]
    },
    {
     "name": "stdout",
     "output_type": "stream",
     "text": [
      "Train, epoch: [1][  1/245]\tLoss 4.1191e-01 (4.9006e-01)\tAccuracy 0.844 (0.849)\n"
     ]
    },
    {
     "name": "stderr",
     "output_type": "stream",
     "text": [
      "\r",
      " 22%|██████████████████▏                                                              | 55/245 [15:43<54:18, 17.15s/it]"
     ]
    },
    {
     "name": "stdout",
     "output_type": "stream",
     "text": [
      "Train, epoch: [1][  1/245]\tLoss 4.6493e-01 (4.8960e-01)\tAccuracy 0.853 (0.849)\n"
     ]
    },
    {
     "name": "stderr",
     "output_type": "stream",
     "text": [
      "\r",
      " 23%|██████████████████▌                                                              | 56/245 [16:00<53:49, 17.09s/it]"
     ]
    },
    {
     "name": "stdout",
     "output_type": "stream",
     "text": [
      "Train, epoch: [1][  1/245]\tLoss 4.8469e-01 (4.8951e-01)\tAccuracy 0.862 (0.849)\n"
     ]
    },
    {
     "name": "stderr",
     "output_type": "stream",
     "text": [
      "\r",
      " 23%|██████████████████▊                                                              | 57/245 [16:18<53:47, 17.17s/it]"
     ]
    },
    {
     "name": "stdout",
     "output_type": "stream",
     "text": [
      "Train, epoch: [1][  1/245]\tLoss 5.1625e-01 (4.8998e-01)\tAccuracy 0.864 (0.850)\n"
     ]
    },
    {
     "name": "stderr",
     "output_type": "stream",
     "text": [
      "\r",
      " 24%|███████████████████▏                                                             | 58/245 [16:35<53:19, 17.11s/it]"
     ]
    },
    {
     "name": "stdout",
     "output_type": "stream",
     "text": [
      "Train, epoch: [1][  1/245]\tLoss 5.0261e-01 (4.9020e-01)\tAccuracy 0.848 (0.850)\n"
     ]
    },
    {
     "name": "stderr",
     "output_type": "stream",
     "text": [
      "\r",
      " 24%|███████████████████▌                                                             | 59/245 [16:52<53:00, 17.10s/it]"
     ]
    },
    {
     "name": "stdout",
     "output_type": "stream",
     "text": [
      "Train, epoch: [1][  1/245]\tLoss 3.8157e-01 (4.8836e-01)\tAccuracy 0.889 (0.850)\n"
     ]
    },
    {
     "name": "stderr",
     "output_type": "stream",
     "text": [
      "\r",
      " 24%|███████████████████▊                                                             | 60/245 [17:09<52:51, 17.14s/it]"
     ]
    },
    {
     "name": "stdout",
     "output_type": "stream",
     "text": [
      "Train, epoch: [1][  1/245]\tLoss 3.7329e-01 (4.8644e-01)\tAccuracy 0.840 (0.850)\n"
     ]
    },
    {
     "name": "stderr",
     "output_type": "stream",
     "text": [
      "\r",
      " 25%|████████████████████▏                                                            | 61/245 [17:26<52:33, 17.14s/it]"
     ]
    },
    {
     "name": "stdout",
     "output_type": "stream",
     "text": [
      "Train, epoch: [1][  1/245]\tLoss 5.7650e-01 (4.8792e-01)\tAccuracy 0.823 (0.850)\n"
     ]
    },
    {
     "name": "stderr",
     "output_type": "stream",
     "text": [
      "\r",
      " 25%|████████████████████▍                                                            | 62/245 [17:43<52:03, 17.07s/it]"
     ]
    },
    {
     "name": "stdout",
     "output_type": "stream",
     "text": [
      "Train, epoch: [1][  1/245]\tLoss 4.7120e-01 (4.8765e-01)\tAccuracy 0.833 (0.849)\n"
     ]
    },
    {
     "name": "stderr",
     "output_type": "stream",
     "text": [
      "\r",
      " 26%|████████████████████▊                                                            | 63/245 [18:00<51:51, 17.09s/it]"
     ]
    },
    {
     "name": "stdout",
     "output_type": "stream",
     "text": [
      "Train, epoch: [1][  1/245]\tLoss 4.6450e-01 (4.8728e-01)\tAccuracy 0.837 (0.849)\n"
     ]
    },
    {
     "name": "stderr",
     "output_type": "stream",
     "text": [
      "\r",
      " 26%|█████████████████████▏                                                           | 64/245 [18:17<51:29, 17.07s/it]"
     ]
    },
    {
     "name": "stdout",
     "output_type": "stream",
     "text": [
      "Train, epoch: [1][  1/245]\tLoss 4.4737e-01 (4.8666e-01)\tAccuracy 0.874 (0.849)\n"
     ]
    },
    {
     "name": "stderr",
     "output_type": "stream",
     "text": [
      "\r",
      " 27%|█████████████████████▍                                                           | 65/245 [18:34<51:11, 17.06s/it]"
     ]
    },
    {
     "name": "stdout",
     "output_type": "stream",
     "text": [
      "Train, epoch: [1][  1/245]\tLoss 4.2339e-01 (4.8568e-01)\tAccuracy 0.861 (0.850)\n"
     ]
    },
    {
     "name": "stderr",
     "output_type": "stream",
     "text": [
      "\r",
      " 27%|█████████████████████▊                                                           | 66/245 [18:51<51:03, 17.11s/it]"
     ]
    },
    {
     "name": "stdout",
     "output_type": "stream",
     "text": [
      "Train, epoch: [1][  1/245]\tLoss 6.7832e-01 (4.8860e-01)\tAccuracy 0.837 (0.849)\n"
     ]
    },
    {
     "name": "stderr",
     "output_type": "stream",
     "text": [
      "\r",
      " 27%|██████████████████████▏                                                          | 67/245 [19:09<51:14, 17.27s/it]"
     ]
    },
    {
     "name": "stdout",
     "output_type": "stream",
     "text": [
      "Train, epoch: [1][  1/245]\tLoss 6.2416e-01 (4.9063e-01)\tAccuracy 0.813 (0.849)\n"
     ]
    },
    {
     "name": "stderr",
     "output_type": "stream",
     "text": [
      "\r",
      " 28%|██████████████████████▍                                                          | 68/245 [19:26<50:46, 17.21s/it]"
     ]
    },
    {
     "name": "stdout",
     "output_type": "stream",
     "text": [
      "Train, epoch: [1][  1/245]\tLoss 6.6635e-01 (4.9321e-01)\tAccuracy 0.841 (0.849)\n"
     ]
    },
    {
     "name": "stderr",
     "output_type": "stream",
     "text": [
      "\r",
      " 28%|██████████████████████▊                                                          | 69/245 [19:43<50:27, 17.20s/it]"
     ]
    },
    {
     "name": "stdout",
     "output_type": "stream",
     "text": [
      "Train, epoch: [1][  1/245]\tLoss 5.5450e-01 (4.9410e-01)\tAccuracy 0.859 (0.849)\n"
     ]
    },
    {
     "name": "stderr",
     "output_type": "stream",
     "text": [
      "\r",
      " 29%|███████████████████████▏                                                         | 70/245 [20:00<49:59, 17.14s/it]"
     ]
    },
    {
     "name": "stdout",
     "output_type": "stream",
     "text": [
      "Train, epoch: [1][  1/245]\tLoss 5.4427e-01 (4.9481e-01)\tAccuracy 0.839 (0.849)\n"
     ]
    },
    {
     "name": "stderr",
     "output_type": "stream",
     "text": [
      "\r",
      " 29%|███████████████████████▍                                                         | 71/245 [20:18<49:43, 17.14s/it]"
     ]
    },
    {
     "name": "stdout",
     "output_type": "stream",
     "text": [
      "Train, epoch: [1][  1/245]\tLoss 4.8141e-01 (4.9463e-01)\tAccuracy 0.874 (0.849)\n"
     ]
    },
    {
     "name": "stderr",
     "output_type": "stream",
     "text": [
      "\r",
      " 29%|███████████████████████▊                                                         | 72/245 [20:35<49:28, 17.16s/it]"
     ]
    },
    {
     "name": "stdout",
     "output_type": "stream",
     "text": [
      "Train, epoch: [1][  1/245]\tLoss 3.7999e-01 (4.9303e-01)\tAccuracy 0.883 (0.850)\n"
     ]
    },
    {
     "name": "stderr",
     "output_type": "stream",
     "text": [
      "\r",
      " 30%|████████████████████████▏                                                        | 73/245 [20:52<49:03, 17.11s/it]"
     ]
    },
    {
     "name": "stdout",
     "output_type": "stream",
     "text": [
      "Train, epoch: [1][  1/245]\tLoss 4.9387e-01 (4.9305e-01)\tAccuracy 0.881 (0.850)\n"
     ]
    },
    {
     "name": "stderr",
     "output_type": "stream",
     "text": [
      "\r",
      " 30%|████████████████████████▍                                                        | 74/245 [21:09<48:43, 17.10s/it]"
     ]
    },
    {
     "name": "stdout",
     "output_type": "stream",
     "text": [
      "Train, epoch: [1][  1/245]\tLoss 3.6651e-01 (4.9134e-01)\tAccuracy 0.893 (0.851)\n"
     ]
    },
    {
     "name": "stderr",
     "output_type": "stream",
     "text": [
      "\r",
      " 31%|████████████████████████▊                                                        | 75/245 [21:26<48:20, 17.06s/it]"
     ]
    },
    {
     "name": "stdout",
     "output_type": "stream",
     "text": [
      "Train, epoch: [1][  1/245]\tLoss 6.2772e-01 (4.9315e-01)\tAccuracy 0.871 (0.851)\n"
     ]
    },
    {
     "name": "stderr",
     "output_type": "stream",
     "text": [
      "\r",
      " 31%|█████████████████████████▏                                                       | 76/245 [21:43<47:55, 17.02s/it]"
     ]
    },
    {
     "name": "stdout",
     "output_type": "stream",
     "text": [
      "Train, epoch: [1][  1/245]\tLoss 3.1869e-01 (4.9086e-01)\tAccuracy 0.882 (0.851)\n"
     ]
    },
    {
     "name": "stderr",
     "output_type": "stream",
     "text": [
      "\r",
      " 31%|█████████████████████████▍                                                       | 77/245 [22:00<47:40, 17.03s/it]"
     ]
    },
    {
     "name": "stdout",
     "output_type": "stream",
     "text": [
      "Train, epoch: [1][  1/245]\tLoss 3.0302e-01 (4.8842e-01)\tAccuracy 0.850 (0.851)\n"
     ]
    },
    {
     "name": "stderr",
     "output_type": "stream",
     "text": [
      "\r",
      " 32%|█████████████████████████▊                                                       | 78/245 [22:17<47:32, 17.08s/it]"
     ]
    },
    {
     "name": "stdout",
     "output_type": "stream",
     "text": [
      "Train, epoch: [1][  1/245]\tLoss 4.0293e-01 (4.8732e-01)\tAccuracy 0.841 (0.851)\n"
     ]
    },
    {
     "name": "stderr",
     "output_type": "stream",
     "text": [
      "\r",
      " 32%|██████████████████████████                                                       | 79/245 [22:34<47:12, 17.06s/it]"
     ]
    },
    {
     "name": "stdout",
     "output_type": "stream",
     "text": [
      "Train, epoch: [1][  1/245]\tLoss 2.8848e-01 (4.8481e-01)\tAccuracy 0.898 (0.852)\n"
     ]
    },
    {
     "name": "stderr",
     "output_type": "stream",
     "text": [
      "\r",
      " 33%|██████████████████████████▍                                                      | 80/245 [22:51<47:02, 17.11s/it]"
     ]
    },
    {
     "name": "stdout",
     "output_type": "stream",
     "text": [
      "Train, epoch: [1][  1/245]\tLoss 2.4216e-01 (4.8177e-01)\tAccuracy 0.915 (0.853)\n"
     ]
    },
    {
     "name": "stderr",
     "output_type": "stream",
     "text": [
      "\r",
      " 33%|██████████████████████████▊                                                      | 81/245 [23:08<46:53, 17.16s/it]"
     ]
    },
    {
     "name": "stdout",
     "output_type": "stream",
     "text": [
      "Train, epoch: [1][  1/245]\tLoss 4.4245e-01 (4.8129e-01)\tAccuracy 0.863 (0.853)\n"
     ]
    },
    {
     "name": "stderr",
     "output_type": "stream",
     "text": [
      "\r",
      " 33%|███████████████████████████                                                      | 82/245 [23:26<46:34, 17.14s/it]"
     ]
    },
    {
     "name": "stdout",
     "output_type": "stream",
     "text": [
      "Train, epoch: [1][  1/245]\tLoss 5.7505e-01 (4.8243e-01)\tAccuracy 0.866 (0.853)\n"
     ]
    },
    {
     "name": "stderr",
     "output_type": "stream",
     "text": [
      "\r",
      " 34%|███████████████████████████▍                                                     | 83/245 [23:43<46:19, 17.16s/it]"
     ]
    },
    {
     "name": "stdout",
     "output_type": "stream",
     "text": [
      "Train, epoch: [1][  1/245]\tLoss 5.5678e-01 (4.8333e-01)\tAccuracy 0.833 (0.853)\n"
     ]
    },
    {
     "name": "stderr",
     "output_type": "stream",
     "text": [
      "\r",
      " 34%|███████████████████████████▊                                                     | 84/245 [24:00<46:03, 17.17s/it]"
     ]
    },
    {
     "name": "stdout",
     "output_type": "stream",
     "text": [
      "Train, epoch: [1][  1/245]\tLoss 7.5073e-01 (4.8651e-01)\tAccuracy 0.837 (0.852)\n"
     ]
    },
    {
     "name": "stderr",
     "output_type": "stream",
     "text": [
      "\r",
      " 35%|████████████████████████████                                                     | 85/245 [24:17<45:42, 17.14s/it]"
     ]
    },
    {
     "name": "stdout",
     "output_type": "stream",
     "text": [
      "Train, epoch: [1][  1/245]\tLoss 4.5012e-01 (4.8608e-01)\tAccuracy 0.890 (0.853)\n"
     ]
    },
    {
     "name": "stderr",
     "output_type": "stream",
     "text": [
      "\r",
      " 35%|████████████████████████████▍                                                    | 86/245 [24:34<45:16, 17.08s/it]"
     ]
    },
    {
     "name": "stdout",
     "output_type": "stream",
     "text": [
      "Train, epoch: [1][  1/245]\tLoss 4.0643e-01 (4.8516e-01)\tAccuracy 0.889 (0.853)\n"
     ]
    },
    {
     "name": "stderr",
     "output_type": "stream",
     "text": [
      "\r",
      " 36%|████████████████████████████▊                                                    | 87/245 [24:51<45:00, 17.09s/it]"
     ]
    },
    {
     "name": "stdout",
     "output_type": "stream",
     "text": [
      "Train, epoch: [1][  1/245]\tLoss 5.0766e-01 (4.8541e-01)\tAccuracy 0.872 (0.853)\n"
     ]
    },
    {
     "name": "stderr",
     "output_type": "stream",
     "text": [
      "\r",
      " 36%|█████████████████████████████                                                    | 88/245 [25:08<44:45, 17.10s/it]"
     ]
    },
    {
     "name": "stdout",
     "output_type": "stream",
     "text": [
      "Train, epoch: [1][  1/245]\tLoss 7.0432e-01 (4.8790e-01)\tAccuracy 0.815 (0.853)\n"
     ]
    },
    {
     "name": "stderr",
     "output_type": "stream",
     "text": [
      "\r",
      " 36%|█████████████████████████████▍                                                   | 89/245 [25:25<44:33, 17.14s/it]"
     ]
    },
    {
     "name": "stdout",
     "output_type": "stream",
     "text": [
      "Train, epoch: [1][  1/245]\tLoss 4.4993e-01 (4.8747e-01)\tAccuracy 0.861 (0.853)\n"
     ]
    },
    {
     "name": "stderr",
     "output_type": "stream",
     "text": [
      "\r",
      " 37%|█████████████████████████████▊                                                   | 90/245 [25:43<44:23, 17.19s/it]"
     ]
    },
    {
     "name": "stdout",
     "output_type": "stream",
     "text": [
      "Train, epoch: [1][  1/245]\tLoss 2.8796e-01 (4.8526e-01)\tAccuracy 0.881 (0.853)\n"
     ]
    },
    {
     "name": "stderr",
     "output_type": "stream",
     "text": [
      "\r",
      " 37%|██████████████████████████████                                                   | 91/245 [26:00<44:05, 17.18s/it]"
     ]
    },
    {
     "name": "stdout",
     "output_type": "stream",
     "text": [
      "Train, epoch: [1][  1/245]\tLoss 5.6213e-01 (4.8610e-01)\tAccuracy 0.867 (0.854)\n"
     ]
    },
    {
     "name": "stderr",
     "output_type": "stream",
     "text": [
      "\r",
      " 38%|██████████████████████████████▍                                                  | 92/245 [26:17<43:51, 17.20s/it]"
     ]
    },
    {
     "name": "stdout",
     "output_type": "stream",
     "text": [
      "Train, epoch: [1][  1/245]\tLoss 2.9816e-01 (4.8406e-01)\tAccuracy 0.908 (0.854)\n"
     ]
    },
    {
     "name": "stderr",
     "output_type": "stream",
     "text": [
      "\r",
      " 38%|██████████████████████████████▋                                                  | 93/245 [26:34<43:25, 17.14s/it]"
     ]
    },
    {
     "name": "stdout",
     "output_type": "stream",
     "text": [
      "Train, epoch: [1][  1/245]\tLoss 3.4971e-01 (4.8262e-01)\tAccuracy 0.855 (0.854)\n"
     ]
    },
    {
     "name": "stderr",
     "output_type": "stream",
     "text": [
      "\r",
      " 38%|███████████████████████████████                                                  | 94/245 [26:51<43:09, 17.15s/it]"
     ]
    },
    {
     "name": "stdout",
     "output_type": "stream",
     "text": [
      "Train, epoch: [1][  1/245]\tLoss 5.6902e-01 (4.8353e-01)\tAccuracy 0.840 (0.854)\n"
     ]
    },
    {
     "name": "stderr",
     "output_type": "stream",
     "text": [
      "\r",
      " 39%|███████████████████████████████▍                                                 | 95/245 [27:08<42:49, 17.13s/it]"
     ]
    },
    {
     "name": "stdout",
     "output_type": "stream",
     "text": [
      "Train, epoch: [1][  1/245]\tLoss 4.8250e-01 (4.8352e-01)\tAccuracy 0.814 (0.854)\n"
     ]
    },
    {
     "name": "stderr",
     "output_type": "stream",
     "text": [
      "\r",
      " 39%|███████████████████████████████▋                                                 | 96/245 [27:26<42:41, 17.19s/it]"
     ]
    },
    {
     "name": "stdout",
     "output_type": "stream",
     "text": [
      "Train, epoch: [1][  1/245]\tLoss 5.8911e-01 (4.8462e-01)\tAccuracy 0.851 (0.854)\n"
     ]
    },
    {
     "name": "stderr",
     "output_type": "stream",
     "text": [
      "\r",
      " 40%|████████████████████████████████                                                 | 97/245 [27:43<42:14, 17.12s/it]"
     ]
    },
    {
     "name": "stdout",
     "output_type": "stream",
     "text": [
      "Train, epoch: [1][  1/245]\tLoss 6.0487e-01 (4.8586e-01)\tAccuracy 0.837 (0.853)\n"
     ]
    },
    {
     "name": "stderr",
     "output_type": "stream",
     "text": [
      "\r",
      " 40%|████████████████████████████████▍                                                | 98/245 [28:00<41:55, 17.11s/it]"
     ]
    },
    {
     "name": "stdout",
     "output_type": "stream",
     "text": [
      "Train, epoch: [1][  1/245]\tLoss 4.5276e-01 (4.8553e-01)\tAccuracy 0.847 (0.853)\n"
     ]
    },
    {
     "name": "stderr",
     "output_type": "stream",
     "text": [
      "\r",
      " 40%|████████████████████████████████▋                                                | 99/245 [28:17<41:35, 17.09s/it]"
     ]
    },
    {
     "name": "stdout",
     "output_type": "stream",
     "text": [
      "Train, epoch: [1][  1/245]\tLoss 6.1634e-01 (4.8685e-01)\tAccuracy 0.836 (0.853)\n"
     ]
    },
    {
     "name": "stderr",
     "output_type": "stream",
     "text": [
      "\r",
      " 41%|████████████████████████████████▋                                               | 100/245 [28:34<41:13, 17.06s/it]"
     ]
    },
    {
     "name": "stdout",
     "output_type": "stream",
     "text": [
      "Train, epoch: [1][  1/245]\tLoss 4.8781e-01 (4.8686e-01)\tAccuracy 0.842 (0.853)\n"
     ]
    },
    {
     "name": "stderr",
     "output_type": "stream",
     "text": [
      "\r",
      " 41%|████████████████████████████████▉                                               | 101/245 [28:51<40:59, 17.08s/it]"
     ]
    },
    {
     "name": "stdout",
     "output_type": "stream",
     "text": [
      "Train, epoch: [1][  1/245]\tLoss 7.3196e-01 (4.8928e-01)\tAccuracy 0.822 (0.853)\n"
     ]
    },
    {
     "name": "stderr",
     "output_type": "stream",
     "text": [
      "\r",
      " 42%|█████████████████████████████████▎                                              | 102/245 [29:08<40:48, 17.12s/it]"
     ]
    },
    {
     "name": "stdout",
     "output_type": "stream",
     "text": [
      "Train, epoch: [1][  1/245]\tLoss 4.1432e-01 (4.8855e-01)\tAccuracy 0.863 (0.853)\n"
     ]
    },
    {
     "name": "stderr",
     "output_type": "stream",
     "text": [
      "\r",
      " 42%|█████████████████████████████████▋                                              | 103/245 [29:25<40:32, 17.13s/it]"
     ]
    },
    {
     "name": "stdout",
     "output_type": "stream",
     "text": [
      "Train, epoch: [1][  1/245]\tLoss 4.6069e-01 (4.8828e-01)\tAccuracy 0.847 (0.853)\n"
     ]
    },
    {
     "name": "stderr",
     "output_type": "stream",
     "text": [
      "\r",
      " 42%|█████████████████████████████████▉                                              | 104/245 [29:42<40:13, 17.12s/it]"
     ]
    },
    {
     "name": "stdout",
     "output_type": "stream",
     "text": [
      "Train, epoch: [1][  1/245]\tLoss 5.4418e-01 (4.8882e-01)\tAccuracy 0.834 (0.853)\n"
     ]
    },
    {
     "name": "stderr",
     "output_type": "stream",
     "text": [
      "\r",
      " 43%|██████████████████████████████████▎                                             | 105/245 [30:00<39:57, 17.12s/it]"
     ]
    },
    {
     "name": "stdout",
     "output_type": "stream",
     "text": [
      "Train, epoch: [1][  1/245]\tLoss 3.6327e-01 (4.8762e-01)\tAccuracy 0.872 (0.853)\n"
     ]
    },
    {
     "name": "stderr",
     "output_type": "stream",
     "text": [
      "\r",
      " 43%|██████████████████████████████████▌                                             | 106/245 [30:17<39:36, 17.10s/it]"
     ]
    },
    {
     "name": "stdout",
     "output_type": "stream",
     "text": [
      "Train, epoch: [1][  1/245]\tLoss 6.0188e-01 (4.8870e-01)\tAccuracy 0.811 (0.852)\n"
     ]
    },
    {
     "name": "stderr",
     "output_type": "stream",
     "text": [
      "\r",
      " 44%|██████████████████████████████████▉                                             | 107/245 [30:34<39:21, 17.11s/it]"
     ]
    },
    {
     "name": "stdout",
     "output_type": "stream",
     "text": [
      "Train, epoch: [1][  1/245]\tLoss 5.7022e-01 (4.8946e-01)\tAccuracy 0.834 (0.852)\n"
     ]
    },
    {
     "name": "stderr",
     "output_type": "stream",
     "text": [
      "\r",
      " 44%|███████████████████████████████████▎                                            | 108/245 [30:51<38:55, 17.05s/it]"
     ]
    },
    {
     "name": "stdout",
     "output_type": "stream",
     "text": [
      "Train, epoch: [1][  1/245]\tLoss 3.9634e-01 (4.8860e-01)\tAccuracy 0.863 (0.852)\n"
     ]
    },
    {
     "name": "stderr",
     "output_type": "stream",
     "text": [
      "\r",
      " 44%|███████████████████████████████████▌                                            | 109/245 [31:08<38:42, 17.08s/it]"
     ]
    },
    {
     "name": "stdout",
     "output_type": "stream",
     "text": [
      "Train, epoch: [1][  1/245]\tLoss 3.0318e-01 (4.8690e-01)\tAccuracy 0.858 (0.852)\n"
     ]
    },
    {
     "name": "stderr",
     "output_type": "stream",
     "text": [
      "\r",
      " 45%|███████████████████████████████████▉                                            | 110/245 [31:25<38:23, 17.06s/it]"
     ]
    },
    {
     "name": "stdout",
     "output_type": "stream",
     "text": [
      "Train, epoch: [1][  1/245]\tLoss 3.6052e-01 (4.8575e-01)\tAccuracy 0.869 (0.853)\n"
     ]
    },
    {
     "name": "stderr",
     "output_type": "stream",
     "text": [
      "\r",
      " 45%|████████████████████████████████████▏                                           | 111/245 [31:42<38:09, 17.08s/it]"
     ]
    },
    {
     "name": "stdout",
     "output_type": "stream",
     "text": [
      "Train, epoch: [1][  1/245]\tLoss 6.8147e-01 (4.8751e-01)\tAccuracy 0.826 (0.852)\n"
     ]
    },
    {
     "name": "stderr",
     "output_type": "stream",
     "text": [
      "\r",
      " 46%|████████████████████████████████████▌                                           | 112/245 [31:59<37:52, 17.09s/it]"
     ]
    },
    {
     "name": "stdout",
     "output_type": "stream",
     "text": [
      "Train, epoch: [1][  1/245]\tLoss 5.1344e-01 (4.8774e-01)\tAccuracy 0.853 (0.852)\n"
     ]
    },
    {
     "name": "stderr",
     "output_type": "stream",
     "text": [
      "\r",
      " 46%|████████████████████████████████████▉                                           | 113/245 [32:16<37:35, 17.09s/it]"
     ]
    },
    {
     "name": "stdout",
     "output_type": "stream",
     "text": [
      "Train, epoch: [1][  1/245]\tLoss 4.0579e-01 (4.8702e-01)\tAccuracy 0.879 (0.853)\n"
     ]
    },
    {
     "name": "stderr",
     "output_type": "stream",
     "text": [
      "\r",
      " 47%|█████████████████████████████████████▏                                          | 114/245 [32:33<37:21, 17.11s/it]"
     ]
    },
    {
     "name": "stdout",
     "output_type": "stream",
     "text": [
      "Train, epoch: [1][  1/245]\tLoss 3.0108e-01 (4.8539e-01)\tAccuracy 0.876 (0.853)\n"
     ]
    },
    {
     "name": "stderr",
     "output_type": "stream",
     "text": [
      "\r",
      " 47%|█████████████████████████████████████▌                                          | 115/245 [32:50<37:05, 17.12s/it]"
     ]
    },
    {
     "name": "stdout",
     "output_type": "stream",
     "text": [
      "Train, epoch: [1][  1/245]\tLoss 4.2208e-01 (4.8484e-01)\tAccuracy 0.867 (0.853)\n"
     ]
    },
    {
     "name": "stderr",
     "output_type": "stream",
     "text": [
      "\r",
      " 47%|█████████████████████████████████████▉                                          | 116/245 [33:08<36:56, 17.18s/it]"
     ]
    },
    {
     "name": "stdout",
     "output_type": "stream",
     "text": [
      "Train, epoch: [1][  1/245]\tLoss 3.3560e-01 (4.8355e-01)\tAccuracy 0.882 (0.853)\n"
     ]
    },
    {
     "name": "stderr",
     "output_type": "stream",
     "text": [
      "\r",
      " 48%|██████████████████████████████████████▏                                         | 117/245 [33:25<36:40, 17.20s/it]"
     ]
    },
    {
     "name": "stdout",
     "output_type": "stream",
     "text": [
      "Train, epoch: [1][  1/245]\tLoss 3.5456e-01 (4.8245e-01)\tAccuracy 0.874 (0.853)\n"
     ]
    },
    {
     "name": "stderr",
     "output_type": "stream",
     "text": [
      "\r",
      " 48%|██████████████████████████████████████▌                                         | 118/245 [33:42<36:14, 17.12s/it]"
     ]
    },
    {
     "name": "stdout",
     "output_type": "stream",
     "text": [
      "Train, epoch: [1][  1/245]\tLoss 3.9480e-01 (4.8170e-01)\tAccuracy 0.854 (0.853)\n"
     ]
    },
    {
     "name": "stderr",
     "output_type": "stream",
     "text": [
      "\r",
      " 49%|██████████████████████████████████████▊                                         | 119/245 [33:59<35:52, 17.09s/it]"
     ]
    },
    {
     "name": "stdout",
     "output_type": "stream",
     "text": [
      "Train, epoch: [1][  1/245]\tLoss 4.7329e-01 (4.8163e-01)\tAccuracy 0.886 (0.854)\n"
     ]
    },
    {
     "name": "stderr",
     "output_type": "stream",
     "text": [
      "\r",
      " 49%|███████████████████████████████████████▏                                        | 120/245 [34:16<35:38, 17.11s/it]"
     ]
    },
    {
     "name": "stdout",
     "output_type": "stream",
     "text": [
      "Train, epoch: [1][  1/245]\tLoss 2.4353e-01 (4.7965e-01)\tAccuracy 0.898 (0.854)\n"
     ]
    },
    {
     "name": "stderr",
     "output_type": "stream",
     "text": [
      "\r",
      " 49%|███████████████████████████████████████▌                                        | 121/245 [34:33<35:21, 17.11s/it]"
     ]
    },
    {
     "name": "stdout",
     "output_type": "stream",
     "text": [
      "Train, epoch: [1][  1/245]\tLoss 1.9360e-01 (4.7728e-01)\tAccuracy 0.906 (0.854)\n"
     ]
    },
    {
     "name": "stderr",
     "output_type": "stream",
     "text": [
      "\r",
      " 50%|███████████████████████████████████████▊                                        | 122/245 [34:50<35:06, 17.12s/it]"
     ]
    },
    {
     "name": "stdout",
     "output_type": "stream",
     "text": [
      "Train, epoch: [1][  1/245]\tLoss 5.7016e-01 (4.7805e-01)\tAccuracy 0.858 (0.854)\n"
     ]
    },
    {
     "name": "stderr",
     "output_type": "stream",
     "text": [
      "\r",
      " 50%|████████████████████████████████████████▏                                       | 123/245 [35:07<34:49, 17.13s/it]"
     ]
    },
    {
     "name": "stdout",
     "output_type": "stream",
     "text": [
      "Train, epoch: [1][  1/245]\tLoss 7.0142e-01 (4.7986e-01)\tAccuracy 0.798 (0.854)\n"
     ]
    },
    {
     "name": "stderr",
     "output_type": "stream",
     "text": [
      "\r",
      " 51%|████████████████████████████████████████▍                                       | 124/245 [35:25<34:38, 17.18s/it]"
     ]
    },
    {
     "name": "stdout",
     "output_type": "stream",
     "text": [
      "Train, epoch: [1][  1/245]\tLoss 7.8161e-01 (4.8230e-01)\tAccuracy 0.731 (0.853)\n"
     ]
    },
    {
     "name": "stderr",
     "output_type": "stream",
     "text": [
      "\r",
      " 51%|████████████████████████████████████████▊                                       | 125/245 [35:42<34:20, 17.17s/it]"
     ]
    },
    {
     "name": "stdout",
     "output_type": "stream",
     "text": [
      "Train, epoch: [1][  1/245]\tLoss 4.1804e-01 (4.8178e-01)\tAccuracy 0.887 (0.853)\n"
     ]
    },
    {
     "name": "stderr",
     "output_type": "stream",
     "text": [
      "\r",
      " 51%|█████████████████████████████████████████▏                                      | 126/245 [36:00<34:32, 17.42s/it]"
     ]
    },
    {
     "name": "stdout",
     "output_type": "stream",
     "text": [
      "Train, epoch: [1][  1/245]\tLoss 5.3406e-01 (4.8220e-01)\tAccuracy 0.874 (0.853)\n"
     ]
    },
    {
     "name": "stderr",
     "output_type": "stream",
     "text": [
      "\r",
      " 52%|█████████████████████████████████████████▍                                      | 127/245 [36:17<34:14, 17.41s/it]"
     ]
    },
    {
     "name": "stdout",
     "output_type": "stream",
     "text": [
      "Train, epoch: [1][  1/245]\tLoss 4.5039e-01 (4.8195e-01)\tAccuracy 0.869 (0.854)\n"
     ]
    },
    {
     "name": "stderr",
     "output_type": "stream",
     "text": [
      "\r",
      " 52%|█████████████████████████████████████████▊                                      | 128/245 [36:35<34:08, 17.51s/it]"
     ]
    },
    {
     "name": "stdout",
     "output_type": "stream",
     "text": [
      "Train, epoch: [1][  1/245]\tLoss 3.7646e-01 (4.8112e-01)\tAccuracy 0.866 (0.854)\n"
     ]
    },
    {
     "name": "stderr",
     "output_type": "stream",
     "text": [
      "\r",
      " 53%|██████████████████████████████████████████                                      | 129/245 [36:52<33:45, 17.46s/it]"
     ]
    },
    {
     "name": "stdout",
     "output_type": "stream",
     "text": [
      "Train, epoch: [1][  1/245]\tLoss 2.3996e-01 (4.7925e-01)\tAccuracy 0.895 (0.854)\n"
     ]
    },
    {
     "name": "stderr",
     "output_type": "stream",
     "text": [
      "\r",
      " 53%|██████████████████████████████████████████▍                                     | 130/245 [37:09<33:12, 17.33s/it]"
     ]
    },
    {
     "name": "stdout",
     "output_type": "stream",
     "text": [
      "Train, epoch: [1][  1/245]\tLoss 6.1225e-01 (4.8028e-01)\tAccuracy 0.850 (0.854)\n"
     ]
    },
    {
     "name": "stderr",
     "output_type": "stream",
     "text": [
      "\r",
      " 53%|██████████████████████████████████████████▊                                     | 131/245 [37:26<32:43, 17.22s/it]"
     ]
    },
    {
     "name": "stdout",
     "output_type": "stream",
     "text": [
      "Train, epoch: [1][  1/245]\tLoss 3.6244e-01 (4.7938e-01)\tAccuracy 0.877 (0.854)\n"
     ]
    },
    {
     "name": "stderr",
     "output_type": "stream",
     "text": [
      "\r",
      " 54%|███████████████████████████████████████████                                     | 132/245 [37:44<32:24, 17.21s/it]"
     ]
    },
    {
     "name": "stdout",
     "output_type": "stream",
     "text": [
      "Train, epoch: [1][  1/245]\tLoss 4.9352e-01 (4.7948e-01)\tAccuracy 0.819 (0.854)\n"
     ]
    },
    {
     "name": "stderr",
     "output_type": "stream",
     "text": [
      "\r",
      " 54%|███████████████████████████████████████████▍                                    | 133/245 [38:01<32:08, 17.22s/it]"
     ]
    },
    {
     "name": "stdout",
     "output_type": "stream",
     "text": [
      "Train, epoch: [1][  1/245]\tLoss 6.9682e-01 (4.8112e-01)\tAccuracy 0.808 (0.853)\n"
     ]
    },
    {
     "name": "stderr",
     "output_type": "stream",
     "text": [
      "\r",
      " 55%|███████████████████████████████████████████▊                                    | 134/245 [38:18<32:01, 17.31s/it]"
     ]
    },
    {
     "name": "stdout",
     "output_type": "stream",
     "text": [
      "Train, epoch: [1][  1/245]\tLoss 4.2797e-01 (4.8072e-01)\tAccuracy 0.866 (0.854)\n"
     ]
    },
    {
     "name": "stderr",
     "output_type": "stream",
     "text": [
      "\r",
      " 55%|████████████████████████████████████████████                                    | 135/245 [38:36<31:56, 17.42s/it]"
     ]
    },
    {
     "name": "stdout",
     "output_type": "stream",
     "text": [
      "Train, epoch: [1][  1/245]\tLoss 5.4429e-01 (4.8119e-01)\tAccuracy 0.859 (0.854)\n"
     ]
    },
    {
     "name": "stderr",
     "output_type": "stream",
     "text": [
      "\r",
      " 56%|████████████████████████████████████████████▍                                   | 136/245 [38:54<31:41, 17.44s/it]"
     ]
    },
    {
     "name": "stdout",
     "output_type": "stream",
     "text": [
      "Train, epoch: [1][  1/245]\tLoss 4.3614e-01 (4.8086e-01)\tAccuracy 0.875 (0.854)\n"
     ]
    },
    {
     "name": "stderr",
     "output_type": "stream",
     "text": [
      "\r",
      " 56%|████████████████████████████████████████████▋                                   | 137/245 [39:11<31:22, 17.43s/it]"
     ]
    },
    {
     "name": "stdout",
     "output_type": "stream",
     "text": [
      "Train, epoch: [1][  1/245]\tLoss 3.7661e-01 (4.8010e-01)\tAccuracy 0.866 (0.854)\n"
     ]
    },
    {
     "name": "stderr",
     "output_type": "stream",
     "text": [
      "\r",
      " 56%|█████████████████████████████████████████████                                   | 138/245 [39:29<31:11, 17.49s/it]"
     ]
    },
    {
     "name": "stdout",
     "output_type": "stream",
     "text": [
      "Train, epoch: [1][  1/245]\tLoss 2.0503e-01 (4.7811e-01)\tAccuracy 0.911 (0.854)\n"
     ]
    },
    {
     "name": "stderr",
     "output_type": "stream",
     "text": [
      "\r",
      " 57%|█████████████████████████████████████████████▍                                  | 139/245 [39:46<30:54, 17.50s/it]"
     ]
    },
    {
     "name": "stdout",
     "output_type": "stream",
     "text": [
      "Train, epoch: [1][  1/245]\tLoss 4.7786e-01 (4.7810e-01)\tAccuracy 0.869 (0.854)\n"
     ]
    },
    {
     "name": "stderr",
     "output_type": "stream",
     "text": [
      "\r",
      " 57%|█████████████████████████████████████████████▋                                  | 140/245 [40:03<30:20, 17.34s/it]"
     ]
    },
    {
     "name": "stdout",
     "output_type": "stream",
     "text": [
      "Train, epoch: [1][  1/245]\tLoss 4.1305e-01 (4.7764e-01)\tAccuracy 0.878 (0.855)\n"
     ]
    },
    {
     "name": "stderr",
     "output_type": "stream",
     "text": [
      "\r",
      " 58%|██████████████████████████████████████████████                                  | 141/245 [40:20<29:54, 17.26s/it]"
     ]
    },
    {
     "name": "stdout",
     "output_type": "stream",
     "text": [
      "Train, epoch: [1][  1/245]\tLoss 5.0290e-01 (4.7782e-01)\tAccuracy 0.875 (0.855)\n"
     ]
    },
    {
     "name": "stderr",
     "output_type": "stream",
     "text": [
      "\r",
      " 58%|██████████████████████████████████████████████▎                                 | 142/245 [40:37<29:37, 17.25s/it]"
     ]
    },
    {
     "name": "stdout",
     "output_type": "stream",
     "text": [
      "Train, epoch: [1][  1/245]\tLoss 3.0117e-01 (4.7657e-01)\tAccuracy 0.899 (0.855)\n"
     ]
    },
    {
     "name": "stderr",
     "output_type": "stream",
     "text": [
      "\r",
      " 58%|██████████████████████████████████████████████▋                                 | 143/245 [40:54<29:16, 17.23s/it]"
     ]
    },
    {
     "name": "stdout",
     "output_type": "stream",
     "text": [
      "Train, epoch: [1][  1/245]\tLoss 3.8768e-01 (4.7595e-01)\tAccuracy 0.867 (0.855)\n"
     ]
    },
    {
     "name": "stderr",
     "output_type": "stream",
     "text": [
      "\r",
      " 59%|███████████████████████████████████████████████                                 | 144/245 [41:12<28:56, 17.19s/it]"
     ]
    },
    {
     "name": "stdout",
     "output_type": "stream",
     "text": [
      "Train, epoch: [1][  1/245]\tLoss 3.6942e-01 (4.7521e-01)\tAccuracy 0.851 (0.855)\n"
     ]
    },
    {
     "name": "stderr",
     "output_type": "stream",
     "text": [
      "\r",
      " 59%|███████████████████████████████████████████████▎                                | 145/245 [41:29<28:32, 17.13s/it]"
     ]
    },
    {
     "name": "stdout",
     "output_type": "stream",
     "text": [
      "Train, epoch: [1][  1/245]\tLoss 4.9843e-01 (4.7537e-01)\tAccuracy 0.838 (0.855)\n"
     ]
    },
    {
     "name": "stderr",
     "output_type": "stream",
     "text": [
      "\r",
      " 60%|███████████████████████████████████████████████▋                                | 146/245 [41:46<28:19, 17.17s/it]"
     ]
    },
    {
     "name": "stdout",
     "output_type": "stream",
     "text": [
      "Train, epoch: [1][  1/245]\tLoss 5.6953e-01 (4.7602e-01)\tAccuracy 0.831 (0.855)\n"
     ]
    },
    {
     "name": "stderr",
     "output_type": "stream",
     "text": [
      "\r",
      " 60%|████████████████████████████████████████████████                                | 147/245 [42:03<28:04, 17.19s/it]"
     ]
    },
    {
     "name": "stdout",
     "output_type": "stream",
     "text": [
      "Train, epoch: [1][  1/245]\tLoss 3.8984e-01 (4.7543e-01)\tAccuracy 0.847 (0.855)\n"
     ]
    },
    {
     "name": "stderr",
     "output_type": "stream",
     "text": [
      "\r",
      " 60%|████████████████████████████████████████████████▎                               | 148/245 [42:20<27:43, 17.15s/it]"
     ]
    },
    {
     "name": "stdout",
     "output_type": "stream",
     "text": [
      "Train, epoch: [1][  1/245]\tLoss 4.2411e-01 (4.7509e-01)\tAccuracy 0.841 (0.855)\n"
     ]
    },
    {
     "name": "stderr",
     "output_type": "stream",
     "text": [
      "\r",
      " 61%|████████████████████████████████████████████████▋                               | 149/245 [42:37<27:22, 17.11s/it]"
     ]
    },
    {
     "name": "stdout",
     "output_type": "stream",
     "text": [
      "Train, epoch: [1][  1/245]\tLoss 3.9210e-01 (4.7453e-01)\tAccuracy 0.847 (0.855)\n"
     ]
    },
    {
     "name": "stderr",
     "output_type": "stream",
     "text": [
      "\r",
      " 61%|████████████████████████████████████████████████▉                               | 150/245 [42:54<27:01, 17.06s/it]"
     ]
    },
    {
     "name": "stdout",
     "output_type": "stream",
     "text": [
      "Train, epoch: [1][  1/245]\tLoss 4.0068e-01 (4.7404e-01)\tAccuracy 0.881 (0.855)\n"
     ]
    },
    {
     "name": "stderr",
     "output_type": "stream",
     "text": [
      "\r",
      " 62%|█████████████████████████████████████████████████▎                              | 151/245 [43:11<26:42, 17.04s/it]"
     ]
    },
    {
     "name": "stdout",
     "output_type": "stream",
     "text": [
      "Train, epoch: [1][  1/245]\tLoss 3.0437e-01 (4.7291e-01)\tAccuracy 0.900 (0.855)\n"
     ]
    },
    {
     "name": "stderr",
     "output_type": "stream",
     "text": [
      "\r",
      " 62%|█████████████████████████████████████████████████▋                              | 152/245 [43:28<26:22, 17.02s/it]"
     ]
    },
    {
     "name": "stdout",
     "output_type": "stream",
     "text": [
      "Train, epoch: [1][  1/245]\tLoss 4.8225e-01 (4.7297e-01)\tAccuracy 0.830 (0.855)\n"
     ]
    },
    {
     "name": "stderr",
     "output_type": "stream",
     "text": [
      "\r",
      " 62%|█████████████████████████████████████████████████▉                              | 153/245 [43:45<26:06, 17.02s/it]"
     ]
    },
    {
     "name": "stdout",
     "output_type": "stream",
     "text": [
      "Train, epoch: [1][  1/245]\tLoss 5.3940e-01 (4.7341e-01)\tAccuracy 0.805 (0.855)\n"
     ]
    },
    {
     "name": "stderr",
     "output_type": "stream",
     "text": [
      "\r",
      " 63%|██████████████████████████████████████████████████▎                             | 154/245 [44:02<25:57, 17.12s/it]"
     ]
    },
    {
     "name": "stdout",
     "output_type": "stream",
     "text": [
      "Train, epoch: [1][  1/245]\tLoss 3.2833e-01 (4.7247e-01)\tAccuracy 0.870 (0.855)\n"
     ]
    },
    {
     "name": "stderr",
     "output_type": "stream",
     "text": [
      "\r",
      " 63%|██████████████████████████████████████████████████▌                             | 155/245 [44:20<25:46, 17.18s/it]"
     ]
    },
    {
     "name": "stdout",
     "output_type": "stream",
     "text": [
      "Train, epoch: [1][  1/245]\tLoss 4.0383e-01 (4.7202e-01)\tAccuracy 0.850 (0.855)\n"
     ]
    },
    {
     "name": "stderr",
     "output_type": "stream",
     "text": [
      "\r",
      " 64%|██████████████████████████████████████████████████▉                             | 156/245 [44:37<25:28, 17.17s/it]"
     ]
    },
    {
     "name": "stdout",
     "output_type": "stream",
     "text": [
      "Train, epoch: [1][  1/245]\tLoss 4.4244e-01 (4.7183e-01)\tAccuracy 0.836 (0.855)\n"
     ]
    },
    {
     "name": "stderr",
     "output_type": "stream",
     "text": [
      "\r",
      " 64%|███████████████████████████████████████████████████▎                            | 157/245 [44:54<25:10, 17.17s/it]"
     ]
    },
    {
     "name": "stdout",
     "output_type": "stream",
     "text": [
      "Train, epoch: [1][  1/245]\tLoss 7.5879e-01 (4.7366e-01)\tAccuracy 0.837 (0.854)\n"
     ]
    },
    {
     "name": "stderr",
     "output_type": "stream",
     "text": [
      "\r",
      " 64%|███████████████████████████████████████████████████▌                            | 158/245 [45:11<24:49, 17.13s/it]"
     ]
    },
    {
     "name": "stdout",
     "output_type": "stream",
     "text": [
      "Train, epoch: [1][  1/245]\tLoss 4.2429e-01 (4.7335e-01)\tAccuracy 0.851 (0.854)\n"
     ]
    },
    {
     "name": "stderr",
     "output_type": "stream",
     "text": [
      "\r",
      " 65%|███████████████████████████████████████████████████▉                            | 159/245 [45:28<24:34, 17.15s/it]"
     ]
    },
    {
     "name": "stdout",
     "output_type": "stream",
     "text": [
      "Train, epoch: [1][  1/245]\tLoss 4.0092e-01 (4.7289e-01)\tAccuracy 0.885 (0.855)\n"
     ]
    },
    {
     "name": "stderr",
     "output_type": "stream",
     "text": [
      "\r",
      " 65%|████████████████████████████████████████████████████▏                           | 160/245 [45:45<24:19, 17.17s/it]"
     ]
    },
    {
     "name": "stdout",
     "output_type": "stream",
     "text": [
      "Train, epoch: [1][  1/245]\tLoss 2.7609e-01 (4.7166e-01)\tAccuracy 0.907 (0.855)\n"
     ]
    },
    {
     "name": "stderr",
     "output_type": "stream",
     "text": [
      "\r",
      " 66%|████████████████████████████████████████████████████▌                           | 161/245 [46:03<24:01, 17.16s/it]"
     ]
    },
    {
     "name": "stdout",
     "output_type": "stream",
     "text": [
      "Train, epoch: [1][  1/245]\tLoss 3.7581e-01 (4.7107e-01)\tAccuracy 0.879 (0.855)\n"
     ]
    },
    {
     "name": "stderr",
     "output_type": "stream",
     "text": [
      "\r",
      " 66%|████████████████████████████████████████████████████▉                           | 162/245 [46:20<23:42, 17.14s/it]"
     ]
    },
    {
     "name": "stdout",
     "output_type": "stream",
     "text": [
      "Train, epoch: [1][  1/245]\tLoss 5.1495e-01 (4.7134e-01)\tAccuracy 0.846 (0.855)\n"
     ]
    },
    {
     "name": "stderr",
     "output_type": "stream",
     "text": [
      "\r",
      " 67%|█████████████████████████████████████████████████████▏                          | 163/245 [46:37<23:24, 17.13s/it]"
     ]
    },
    {
     "name": "stdout",
     "output_type": "stream",
     "text": [
      "Train, epoch: [1][  1/245]\tLoss 4.3678e-01 (4.7113e-01)\tAccuracy 0.864 (0.855)\n"
     ]
    },
    {
     "name": "stderr",
     "output_type": "stream",
     "text": [
      "\r",
      " 67%|█████████████████████████████████████████████████████▌                          | 164/245 [46:54<23:03, 17.09s/it]"
     ]
    },
    {
     "name": "stdout",
     "output_type": "stream",
     "text": [
      "Train, epoch: [1][  1/245]\tLoss 4.5566e-01 (4.7103e-01)\tAccuracy 0.897 (0.855)\n"
     ]
    },
    {
     "name": "stderr",
     "output_type": "stream",
     "text": [
      "\r",
      " 67%|█████████████████████████████████████████████████████▉                          | 165/245 [47:11<22:50, 17.13s/it]"
     ]
    },
    {
     "name": "stdout",
     "output_type": "stream",
     "text": [
      "Train, epoch: [1][  1/245]\tLoss 9.6461e-01 (4.7402e-01)\tAccuracy 0.788 (0.855)\n"
     ]
    },
    {
     "name": "stderr",
     "output_type": "stream",
     "text": [
      "\r",
      " 68%|██████████████████████████████████████████████████████▏                         | 166/245 [47:28<22:33, 17.13s/it]"
     ]
    },
    {
     "name": "stdout",
     "output_type": "stream",
     "text": [
      "Train, epoch: [1][  1/245]\tLoss 2.6502e-01 (4.7276e-01)\tAccuracy 0.885 (0.855)\n"
     ]
    },
    {
     "name": "stderr",
     "output_type": "stream",
     "text": [
      "\r",
      " 68%|██████████████████████████████████████████████████████▌                         | 167/245 [47:45<22:16, 17.14s/it]"
     ]
    },
    {
     "name": "stdout",
     "output_type": "stream",
     "text": [
      "Train, epoch: [1][  1/245]\tLoss 3.3766e-01 (4.7196e-01)\tAccuracy 0.897 (0.855)\n"
     ]
    },
    {
     "name": "stderr",
     "output_type": "stream",
     "text": [
      "\r",
      " 69%|██████████████████████████████████████████████████████▊                         | 168/245 [48:02<21:57, 17.11s/it]"
     ]
    },
    {
     "name": "stdout",
     "output_type": "stream",
     "text": [
      "Train, epoch: [1][  1/245]\tLoss 3.3827e-01 (4.7116e-01)\tAccuracy 0.892 (0.856)\n"
     ]
    },
    {
     "name": "stderr",
     "output_type": "stream",
     "text": [
      "\r",
      " 69%|███████████████████████████████████████████████████████▏                        | 169/245 [48:20<21:43, 17.15s/it]"
     ]
    },
    {
     "name": "stdout",
     "output_type": "stream",
     "text": [
      "Train, epoch: [1][  1/245]\tLoss 3.8289e-01 (4.7064e-01)\tAccuracy 0.868 (0.856)\n"
     ]
    },
    {
     "name": "stderr",
     "output_type": "stream",
     "text": [
      "\r",
      " 69%|███████████████████████████████████████████████████████▌                        | 170/245 [48:37<21:29, 17.19s/it]"
     ]
    },
    {
     "name": "stdout",
     "output_type": "stream",
     "text": [
      "Train, epoch: [1][  1/245]\tLoss 6.1260e-01 (4.7147e-01)\tAccuracy 0.841 (0.856)\n"
     ]
    },
    {
     "name": "stderr",
     "output_type": "stream",
     "text": [
      "\r",
      " 70%|███████████████████████████████████████████████████████▊                        | 171/245 [48:54<21:10, 17.18s/it]"
     ]
    },
    {
     "name": "stdout",
     "output_type": "stream",
     "text": [
      "Train, epoch: [1][  1/245]\tLoss 5.8242e-01 (4.7212e-01)\tAccuracy 0.848 (0.855)\n"
     ]
    },
    {
     "name": "stderr",
     "output_type": "stream",
     "text": [
      "\r",
      " 70%|████████████████████████████████████████████████████████▏                       | 172/245 [49:11<20:51, 17.15s/it]"
     ]
    },
    {
     "name": "stdout",
     "output_type": "stream",
     "text": [
      "Train, epoch: [1][  1/245]\tLoss 4.8347e-01 (4.7219e-01)\tAccuracy 0.862 (0.856)\n"
     ]
    },
    {
     "name": "stderr",
     "output_type": "stream",
     "text": [
      "\r",
      " 71%|████████████████████████████████████████████████████████▍                       | 173/245 [49:28<20:34, 17.15s/it]"
     ]
    },
    {
     "name": "stdout",
     "output_type": "stream",
     "text": [
      "Train, epoch: [1][  1/245]\tLoss 3.8622e-01 (4.7169e-01)\tAccuracy 0.866 (0.856)\n"
     ]
    },
    {
     "name": "stderr",
     "output_type": "stream",
     "text": [
      "\r",
      " 71%|████████████████████████████████████████████████████████▊                       | 174/245 [49:45<20:18, 17.16s/it]"
     ]
    },
    {
     "name": "stdout",
     "output_type": "stream",
     "text": [
      "Train, epoch: [1][  1/245]\tLoss 3.7633e-01 (4.7114e-01)\tAccuracy 0.858 (0.856)\n"
     ]
    },
    {
     "name": "stderr",
     "output_type": "stream",
     "text": [
      "\r",
      " 71%|█████████████████████████████████████████████████████████▏                      | 175/245 [50:03<20:02, 17.18s/it]"
     ]
    },
    {
     "name": "stdout",
     "output_type": "stream",
     "text": [
      "Train, epoch: [1][  1/245]\tLoss 4.0904e-01 (4.7079e-01)\tAccuracy 0.856 (0.856)\n"
     ]
    },
    {
     "name": "stderr",
     "output_type": "stream",
     "text": [
      "\r",
      " 72%|█████████████████████████████████████████████████████████▍                      | 176/245 [50:20<19:42, 17.14s/it]"
     ]
    },
    {
     "name": "stdout",
     "output_type": "stream",
     "text": [
      "Train, epoch: [1][  1/245]\tLoss 5.0251e-01 (4.7097e-01)\tAccuracy 0.850 (0.856)\n"
     ]
    },
    {
     "name": "stderr",
     "output_type": "stream",
     "text": [
      "\r",
      " 72%|█████████████████████████████████████████████████████████▊                      | 177/245 [50:37<19:24, 17.13s/it]"
     ]
    },
    {
     "name": "stdout",
     "output_type": "stream",
     "text": [
      "Train, epoch: [1][  1/245]\tLoss 5.3943e-01 (4.7135e-01)\tAccuracy 0.852 (0.856)\n"
     ]
    },
    {
     "name": "stderr",
     "output_type": "stream",
     "text": [
      "\r",
      " 73%|██████████████████████████████████████████████████████████                      | 178/245 [50:54<19:06, 17.11s/it]"
     ]
    },
    {
     "name": "stdout",
     "output_type": "stream",
     "text": [
      "Train, epoch: [1][  1/245]\tLoss 3.4584e-01 (4.7065e-01)\tAccuracy 0.891 (0.856)\n"
     ]
    },
    {
     "name": "stderr",
     "output_type": "stream",
     "text": [
      "\r",
      " 73%|██████████████████████████████████████████████████████████▍                     | 179/245 [51:11<18:52, 17.16s/it]"
     ]
    },
    {
     "name": "stdout",
     "output_type": "stream",
     "text": [
      "Train, epoch: [1][  1/245]\tLoss 4.9350e-01 (4.7078e-01)\tAccuracy 0.899 (0.856)\n"
     ]
    },
    {
     "name": "stderr",
     "output_type": "stream",
     "text": [
      "\r",
      " 73%|██████████████████████████████████████████████████████████▊                     | 180/245 [51:28<18:32, 17.12s/it]"
     ]
    },
    {
     "name": "stdout",
     "output_type": "stream",
     "text": [
      "Train, epoch: [1][  1/245]\tLoss 3.9809e-01 (4.7037e-01)\tAccuracy 0.882 (0.856)\n"
     ]
    },
    {
     "name": "stderr",
     "output_type": "stream",
     "text": [
      "\r",
      " 74%|███████████████████████████████████████████████████████████                     | 181/245 [51:45<18:11, 17.05s/it]"
     ]
    },
    {
     "name": "stdout",
     "output_type": "stream",
     "text": [
      "Train, epoch: [1][  1/245]\tLoss 3.8958e-01 (4.6993e-01)\tAccuracy 0.881 (0.856)\n"
     ]
    },
    {
     "name": "stderr",
     "output_type": "stream",
     "text": [
      "\r",
      " 74%|███████████████████████████████████████████████████████████▍                    | 182/245 [52:02<17:59, 17.13s/it]"
     ]
    },
    {
     "name": "stdout",
     "output_type": "stream",
     "text": [
      "Train, epoch: [1][  1/245]\tLoss 4.0198e-01 (4.6955e-01)\tAccuracy 0.857 (0.856)\n"
     ]
    },
    {
     "name": "stderr",
     "output_type": "stream",
     "text": [
      "\r",
      " 75%|███████████████████████████████████████████████████████████▊                    | 183/245 [52:20<17:43, 17.15s/it]"
     ]
    },
    {
     "name": "stdout",
     "output_type": "stream",
     "text": [
      "Train, epoch: [1][  1/245]\tLoss 2.9130e-01 (4.6858e-01)\tAccuracy 0.902 (0.857)\n"
     ]
    },
    {
     "name": "stderr",
     "output_type": "stream",
     "text": [
      "\r",
      " 75%|████████████████████████████████████████████████████████████                    | 184/245 [52:37<17:31, 17.24s/it]"
     ]
    },
    {
     "name": "stdout",
     "output_type": "stream",
     "text": [
      "Train, epoch: [1][  1/245]\tLoss 3.2050e-01 (4.6777e-01)\tAccuracy 0.893 (0.857)\n"
     ]
    },
    {
     "name": "stderr",
     "output_type": "stream",
     "text": [
      "\r",
      " 76%|████████████████████████████████████████████████████████████▍                   | 185/245 [52:54<17:13, 17.22s/it]"
     ]
    },
    {
     "name": "stdout",
     "output_type": "stream",
     "text": [
      "Train, epoch: [1][  1/245]\tLoss 2.9683e-01 (4.6685e-01)\tAccuracy 0.914 (0.857)\n"
     ]
    },
    {
     "name": "stderr",
     "output_type": "stream",
     "text": [
      "\r",
      " 76%|████████████████████████████████████████████████████████████▋                   | 186/245 [53:11<16:52, 17.16s/it]"
     ]
    },
    {
     "name": "stdout",
     "output_type": "stream",
     "text": [
      "Train, epoch: [1][  1/245]\tLoss 5.9251e-01 (4.6753e-01)\tAccuracy 0.875 (0.857)\n"
     ]
    },
    {
     "name": "stderr",
     "output_type": "stream",
     "text": [
      "\r",
      " 76%|█████████████████████████████████████████████████████████████                   | 187/245 [53:28<16:33, 17.13s/it]"
     ]
    },
    {
     "name": "stdout",
     "output_type": "stream",
     "text": [
      "Train, epoch: [1][  1/245]\tLoss 2.2978e-01 (4.6625e-01)\tAccuracy 0.888 (0.857)\n"
     ]
    },
    {
     "name": "stderr",
     "output_type": "stream",
     "text": [
      "\r",
      " 77%|█████████████████████████████████████████████████████████████▍                  | 188/245 [53:45<16:11, 17.04s/it]"
     ]
    },
    {
     "name": "stdout",
     "output_type": "stream",
     "text": [
      "Train, epoch: [1][  1/245]\tLoss 6.6309e-01 (4.6730e-01)\tAccuracy 0.844 (0.857)\n"
     ]
    },
    {
     "name": "stderr",
     "output_type": "stream",
     "text": [
      "\r",
      " 77%|█████████████████████████████████████████████████████████████▋                  | 189/245 [54:03<16:02, 17.19s/it]"
     ]
    },
    {
     "name": "stdout",
     "output_type": "stream",
     "text": [
      "Train, epoch: [1][  1/245]\tLoss 4.7767e-01 (4.6736e-01)\tAccuracy 0.837 (0.857)\n"
     ]
    },
    {
     "name": "stderr",
     "output_type": "stream",
     "text": [
      "\r",
      " 78%|██████████████████████████████████████████████████████████████                  | 190/245 [54:20<15:45, 17.18s/it]"
     ]
    },
    {
     "name": "stdout",
     "output_type": "stream",
     "text": [
      "Train, epoch: [1][  1/245]\tLoss 6.1299e-01 (4.6812e-01)\tAccuracy 0.840 (0.857)\n"
     ]
    },
    {
     "name": "stderr",
     "output_type": "stream",
     "text": [
      "\r",
      " 78%|██████████████████████████████████████████████████████████████▎                 | 191/245 [54:37<15:28, 17.19s/it]"
     ]
    },
    {
     "name": "stdout",
     "output_type": "stream",
     "text": [
      "Train, epoch: [1][  1/245]\tLoss 4.9469e-01 (4.6826e-01)\tAccuracy 0.862 (0.857)\n"
     ]
    },
    {
     "name": "stderr",
     "output_type": "stream",
     "text": [
      "\r",
      " 78%|██████████████████████████████████████████████████████████████▋                 | 192/245 [54:54<15:09, 17.17s/it]"
     ]
    },
    {
     "name": "stdout",
     "output_type": "stream",
     "text": [
      "Train, epoch: [1][  1/245]\tLoss 4.6865e-01 (4.6826e-01)\tAccuracy 0.854 (0.857)\n"
     ]
    },
    {
     "name": "stderr",
     "output_type": "stream",
     "text": [
      "\r",
      " 79%|███████████████████████████████████████████████████████████████                 | 193/245 [55:11<14:50, 17.12s/it]"
     ]
    },
    {
     "name": "stdout",
     "output_type": "stream",
     "text": [
      "Train, epoch: [1][  1/245]\tLoss 3.8126e-01 (4.6781e-01)\tAccuracy 0.909 (0.857)\n"
     ]
    },
    {
     "name": "stderr",
     "output_type": "stream",
     "text": [
      "\r",
      " 79%|███████████████████████████████████████████████████████████████▎                | 194/245 [55:28<14:30, 17.06s/it]"
     ]
    },
    {
     "name": "stdout",
     "output_type": "stream",
     "text": [
      "Train, epoch: [1][  1/245]\tLoss 3.4848e-01 (4.6720e-01)\tAccuracy 0.887 (0.857)\n"
     ]
    },
    {
     "name": "stderr",
     "output_type": "stream",
     "text": [
      "\r",
      " 80%|███████████████████████████████████████████████████████████████▋                | 195/245 [55:45<14:14, 17.10s/it]"
     ]
    },
    {
     "name": "stdout",
     "output_type": "stream",
     "text": [
      "Train, epoch: [1][  1/245]\tLoss 4.1149e-01 (4.6691e-01)\tAccuracy 0.885 (0.858)\n"
     ]
    },
    {
     "name": "stderr",
     "output_type": "stream",
     "text": [
      "\r",
      " 80%|████████████████████████████████████████████████████████████████                | 196/245 [56:02<13:57, 17.09s/it]"
     ]
    },
    {
     "name": "stdout",
     "output_type": "stream",
     "text": [
      "Train, epoch: [1][  1/245]\tLoss 2.9909e-01 (4.6606e-01)\tAccuracy 0.876 (0.858)\n"
     ]
    },
    {
     "name": "stderr",
     "output_type": "stream",
     "text": [
      "\r",
      " 80%|████████████████████████████████████████████████████████████████▎               | 197/245 [56:19<13:39, 17.07s/it]"
     ]
    },
    {
     "name": "stdout",
     "output_type": "stream",
     "text": [
      "Train, epoch: [1][  1/245]\tLoss 4.7777e-01 (4.6612e-01)\tAccuracy 0.802 (0.857)\n"
     ]
    },
    {
     "name": "stderr",
     "output_type": "stream",
     "text": [
      "\r",
      " 81%|████████████████████████████████████████████████████████████████▋               | 198/245 [56:37<13:23, 17.10s/it]"
     ]
    },
    {
     "name": "stdout",
     "output_type": "stream",
     "text": [
      "Train, epoch: [1][  1/245]\tLoss 5.7515e-01 (4.6667e-01)\tAccuracy 0.875 (0.858)\n"
     ]
    },
    {
     "name": "stderr",
     "output_type": "stream",
     "text": [
      "\r",
      " 81%|████████████████████████████████████████████████████████████████▉               | 199/245 [56:54<13:06, 17.10s/it]"
     ]
    },
    {
     "name": "stdout",
     "output_type": "stream",
     "text": [
      "Train, epoch: [1][  1/245]\tLoss 3.6027e-01 (4.6613e-01)\tAccuracy 0.881 (0.858)\n"
     ]
    },
    {
     "name": "stderr",
     "output_type": "stream",
     "text": [
      "\r",
      " 82%|█████████████████████████████████████████████████████████████████▎              | 200/245 [57:11<12:47, 17.07s/it]"
     ]
    },
    {
     "name": "stdout",
     "output_type": "stream",
     "text": [
      "Train, epoch: [1][  1/245]\tLoss 3.2127e-01 (4.6541e-01)\tAccuracy 0.904 (0.858)\n"
     ]
    },
    {
     "name": "stderr",
     "output_type": "stream",
     "text": [
      "\r",
      " 82%|█████████████████████████████████████████████████████████████████▋              | 201/245 [57:28<12:30, 17.06s/it]"
     ]
    },
    {
     "name": "stdout",
     "output_type": "stream",
     "text": [
      "Train, epoch: [1][  1/245]\tLoss 5.5893e-01 (4.6587e-01)\tAccuracy 0.845 (0.858)\n"
     ]
    },
    {
     "name": "stderr",
     "output_type": "stream",
     "text": [
      "\r",
      " 82%|█████████████████████████████████████████████████████████████████▉              | 202/245 [57:45<12:15, 17.11s/it]"
     ]
    },
    {
     "name": "stdout",
     "output_type": "stream",
     "text": [
      "Train, epoch: [1][  1/245]\tLoss 4.5644e-01 (4.6583e-01)\tAccuracy 0.872 (0.858)\n"
     ]
    },
    {
     "name": "stderr",
     "output_type": "stream",
     "text": [
      "\r",
      " 83%|██████████████████████████████████████████████████████████████████▎             | 203/245 [58:02<12:00, 17.15s/it]"
     ]
    },
    {
     "name": "stdout",
     "output_type": "stream",
     "text": [
      "Train, epoch: [1][  1/245]\tLoss 4.6693e-01 (4.6583e-01)\tAccuracy 0.862 (0.858)\n"
     ]
    },
    {
     "name": "stderr",
     "output_type": "stream",
     "text": [
      "\r",
      " 83%|██████████████████████████████████████████████████████████████████▌             | 204/245 [58:19<11:43, 17.15s/it]"
     ]
    },
    {
     "name": "stdout",
     "output_type": "stream",
     "text": [
      "Train, epoch: [1][  1/245]\tLoss 3.9810e-01 (4.6550e-01)\tAccuracy 0.843 (0.858)\n"
     ]
    },
    {
     "name": "stderr",
     "output_type": "stream",
     "text": [
      "\r",
      " 84%|██████████████████████████████████████████████████████████████████▉             | 205/245 [58:36<11:25, 17.13s/it]"
     ]
    },
    {
     "name": "stdout",
     "output_type": "stream",
     "text": [
      "Train, epoch: [1][  1/245]\tLoss 4.1541e-01 (4.6526e-01)\tAccuracy 0.871 (0.858)\n"
     ]
    },
    {
     "name": "stderr",
     "output_type": "stream",
     "text": [
      "\r",
      " 84%|███████████████████████████████████████████████████████████████████▎            | 206/245 [58:54<11:09, 17.18s/it]"
     ]
    },
    {
     "name": "stdout",
     "output_type": "stream",
     "text": [
      "Train, epoch: [1][  1/245]\tLoss 4.7375e-01 (4.6530e-01)\tAccuracy 0.884 (0.858)\n"
     ]
    },
    {
     "name": "stderr",
     "output_type": "stream",
     "text": [
      "\r",
      " 84%|███████████████████████████████████████████████████████████████████▌            | 207/245 [59:11<10:55, 17.26s/it]"
     ]
    },
    {
     "name": "stdout",
     "output_type": "stream",
     "text": [
      "Train, epoch: [1][  1/245]\tLoss 3.1221e-01 (4.6456e-01)\tAccuracy 0.889 (0.858)\n"
     ]
    },
    {
     "name": "stderr",
     "output_type": "stream",
     "text": [
      "\r",
      " 85%|███████████████████████████████████████████████████████████████████▉            | 208/245 [59:28<10:39, 17.28s/it]"
     ]
    },
    {
     "name": "stdout",
     "output_type": "stream",
     "text": [
      "Train, epoch: [1][  1/245]\tLoss 5.8542e-01 (4.6514e-01)\tAccuracy 0.816 (0.858)\n"
     ]
    },
    {
     "name": "stderr",
     "output_type": "stream",
     "text": [
      "\r",
      " 85%|████████████████████████████████████████████████████████████████████▏           | 209/245 [59:46<10:20, 17.23s/it]"
     ]
    },
    {
     "name": "stdout",
     "output_type": "stream",
     "text": [
      "Train, epoch: [1][  1/245]\tLoss 2.7247e-01 (4.6422e-01)\tAccuracy 0.892 (0.858)\n"
     ]
    },
    {
     "name": "stderr",
     "output_type": "stream",
     "text": [
      "\r",
      " 86%|██████████████████████████████████████████████████████████████████▊           | 210/245 [1:00:03<10:01, 17.18s/it]"
     ]
    },
    {
     "name": "stdout",
     "output_type": "stream",
     "text": [
      "Train, epoch: [1][  1/245]\tLoss 5.5705e-01 (4.6466e-01)\tAccuracy 0.848 (0.858)\n"
     ]
    },
    {
     "name": "stderr",
     "output_type": "stream",
     "text": [
      "\r",
      " 86%|███████████████████████████████████████████████████████████████████▏          | 211/245 [1:00:20<09:46, 17.24s/it]"
     ]
    },
    {
     "name": "stdout",
     "output_type": "stream",
     "text": [
      "Train, epoch: [1][  1/245]\tLoss 3.8261e-01 (4.6427e-01)\tAccuracy 0.893 (0.858)\n"
     ]
    },
    {
     "name": "stderr",
     "output_type": "stream",
     "text": [
      "\r",
      " 87%|███████████████████████████████████████████████████████████████████▍          | 212/245 [1:00:37<09:29, 17.26s/it]"
     ]
    },
    {
     "name": "stdout",
     "output_type": "stream",
     "text": [
      "Train, epoch: [1][  1/245]\tLoss 6.4428e-01 (4.6512e-01)\tAccuracy 0.759 (0.858)\n"
     ]
    },
    {
     "name": "stderr",
     "output_type": "stream",
     "text": [
      "\r",
      " 87%|███████████████████████████████████████████████████████████████████▊          | 213/245 [1:00:55<09:15, 17.35s/it]"
     ]
    },
    {
     "name": "stdout",
     "output_type": "stream",
     "text": [
      "Train, epoch: [1][  1/245]\tLoss 5.7108e-01 (4.6562e-01)\tAccuracy 0.861 (0.858)\n"
     ]
    },
    {
     "name": "stderr",
     "output_type": "stream",
     "text": [
      "\r",
      " 87%|████████████████████████████████████████████████████████████████████▏         | 214/245 [1:01:12<08:57, 17.35s/it]"
     ]
    },
    {
     "name": "stdout",
     "output_type": "stream",
     "text": [
      "Train, epoch: [1][  1/245]\tLoss 4.0766e-01 (4.6535e-01)\tAccuracy 0.862 (0.858)\n"
     ]
    },
    {
     "name": "stderr",
     "output_type": "stream",
     "text": [
      "\r",
      " 88%|████████████████████████████████████████████████████████████████████▍         | 215/245 [1:01:29<08:39, 17.32s/it]"
     ]
    },
    {
     "name": "stdout",
     "output_type": "stream",
     "text": [
      "Train, epoch: [1][  1/245]\tLoss 4.3388e-01 (4.6520e-01)\tAccuracy 0.869 (0.858)\n"
     ]
    },
    {
     "name": "stderr",
     "output_type": "stream",
     "text": [
      "\r",
      " 88%|████████████████████████████████████████████████████████████████████▊         | 216/245 [1:01:47<08:21, 17.31s/it]"
     ]
    },
    {
     "name": "stdout",
     "output_type": "stream",
     "text": [
      "Train, epoch: [1][  1/245]\tLoss 5.6828e-01 (4.6568e-01)\tAccuracy 0.844 (0.858)\n"
     ]
    },
    {
     "name": "stderr",
     "output_type": "stream",
     "text": [
      "\r",
      " 89%|█████████████████████████████████████████████████████████████████████         | 217/245 [1:02:04<08:05, 17.34s/it]"
     ]
    },
    {
     "name": "stdout",
     "output_type": "stream",
     "text": [
      "Train, epoch: [1][  1/245]\tLoss 2.5444e-01 (4.6470e-01)\tAccuracy 0.902 (0.858)\n"
     ]
    },
    {
     "name": "stderr",
     "output_type": "stream",
     "text": [
      "\r",
      " 89%|█████████████████████████████████████████████████████████████████████▍        | 218/245 [1:02:21<07:46, 17.29s/it]"
     ]
    },
    {
     "name": "stdout",
     "output_type": "stream",
     "text": [
      "Train, epoch: [1][  1/245]\tLoss 3.4195e-01 (4.6414e-01)\tAccuracy 0.904 (0.858)\n"
     ]
    },
    {
     "name": "stderr",
     "output_type": "stream",
     "text": [
      "\r",
      " 89%|█████████████████████████████████████████████████████████████████████▋        | 219/245 [1:02:38<07:27, 17.23s/it]"
     ]
    },
    {
     "name": "stdout",
     "output_type": "stream",
     "text": [
      "Train, epoch: [1][  1/245]\tLoss 2.6318e-01 (4.6322e-01)\tAccuracy 0.918 (0.858)\n"
     ]
    },
    {
     "name": "stderr",
     "output_type": "stream",
     "text": [
      "\r",
      " 90%|██████████████████████████████████████████████████████████████████████        | 220/245 [1:02:56<07:10, 17.21s/it]"
     ]
    },
    {
     "name": "stdout",
     "output_type": "stream",
     "text": [
      "Train, epoch: [1][  1/245]\tLoss 4.0477e-01 (4.6296e-01)\tAccuracy 0.865 (0.859)\n"
     ]
    },
    {
     "name": "stderr",
     "output_type": "stream",
     "text": [
      "\r",
      " 90%|██████████████████████████████████████████████████████████████████████▎       | 221/245 [1:03:13<06:51, 17.15s/it]"
     ]
    },
    {
     "name": "stdout",
     "output_type": "stream",
     "text": [
      "Train, epoch: [1][  1/245]\tLoss 5.8297e-01 (4.6350e-01)\tAccuracy 0.876 (0.859)\n"
     ]
    },
    {
     "name": "stderr",
     "output_type": "stream",
     "text": [
      "\r",
      " 91%|██████████████████████████████████████████████████████████████████████▋       | 222/245 [1:03:30<06:36, 17.22s/it]"
     ]
    },
    {
     "name": "stdout",
     "output_type": "stream",
     "text": [
      "Train, epoch: [1][  1/245]\tLoss 5.2078e-01 (4.6376e-01)\tAccuracy 0.879 (0.859)\n"
     ]
    },
    {
     "name": "stderr",
     "output_type": "stream",
     "text": [
      "\r",
      " 91%|██████████████████████████████████████████████████████████████████████▉       | 223/245 [1:03:47<06:17, 17.17s/it]"
     ]
    },
    {
     "name": "stdout",
     "output_type": "stream",
     "text": [
      "Train, epoch: [1][  1/245]\tLoss 2.9283e-01 (4.6299e-01)\tAccuracy 0.912 (0.859)\n"
     ]
    },
    {
     "name": "stderr",
     "output_type": "stream",
     "text": [
      "\r",
      " 91%|███████████████████████████████████████████████████████████████████████▎      | 224/245 [1:04:04<06:00, 17.16s/it]"
     ]
    },
    {
     "name": "stdout",
     "output_type": "stream",
     "text": [
      "Train, epoch: [1][  1/245]\tLoss 5.8058e-01 (4.6352e-01)\tAccuracy 0.842 (0.859)\n"
     ]
    },
    {
     "name": "stderr",
     "output_type": "stream",
     "text": [
      "\r",
      " 92%|███████████████████████████████████████████████████████████████████████▋      | 225/245 [1:04:21<05:43, 17.17s/it]"
     ]
    },
    {
     "name": "stdout",
     "output_type": "stream",
     "text": [
      "Train, epoch: [1][  1/245]\tLoss 2.5954e-01 (4.6261e-01)\tAccuracy 0.900 (0.859)\n"
     ]
    },
    {
     "name": "stderr",
     "output_type": "stream",
     "text": [
      "\r",
      " 92%|███████████████████████████████████████████████████████████████████████▉      | 226/245 [1:04:39<05:26, 17.16s/it]"
     ]
    },
    {
     "name": "stdout",
     "output_type": "stream",
     "text": [
      "Train, epoch: [1][  1/245]\tLoss 3.0763e-01 (4.6192e-01)\tAccuracy 0.902 (0.859)\n"
     ]
    },
    {
     "name": "stderr",
     "output_type": "stream",
     "text": [
      "\r",
      " 93%|████████████████████████████████████████████████████████████████████████▎     | 227/245 [1:04:56<05:08, 17.15s/it]"
     ]
    },
    {
     "name": "stdout",
     "output_type": "stream",
     "text": [
      "Train, epoch: [1][  1/245]\tLoss 3.2419e-01 (4.6132e-01)\tAccuracy 0.888 (0.859)\n"
     ]
    },
    {
     "name": "stderr",
     "output_type": "stream",
     "text": [
      "\r",
      " 93%|████████████████████████████████████████████████████████████████████████▌     | 228/245 [1:05:13<04:51, 17.17s/it]"
     ]
    },
    {
     "name": "stdout",
     "output_type": "stream",
     "text": [
      "Train, epoch: [1][  1/245]\tLoss 6.2709e-01 (4.6204e-01)\tAccuracy 0.853 (0.859)\n"
     ]
    },
    {
     "name": "stderr",
     "output_type": "stream",
     "text": [
      "\r",
      " 93%|████████████████████████████████████████████████████████████████████████▉     | 229/245 [1:05:30<04:34, 17.15s/it]"
     ]
    },
    {
     "name": "stdout",
     "output_type": "stream",
     "text": [
      "Train, epoch: [1][  1/245]\tLoss 7.1012e-01 (4.6313e-01)\tAccuracy 0.821 (0.859)\n"
     ]
    },
    {
     "name": "stderr",
     "output_type": "stream",
     "text": [
      "\r",
      " 94%|█████████████████████████████████████████████████████████████████████████▏    | 230/245 [1:05:47<04:17, 17.14s/it]"
     ]
    },
    {
     "name": "stdout",
     "output_type": "stream",
     "text": [
      "Train, epoch: [1][  1/245]\tLoss 4.6079e-01 (4.6312e-01)\tAccuracy 0.858 (0.859)\n"
     ]
    },
    {
     "name": "stderr",
     "output_type": "stream",
     "text": [
      "\r",
      " 94%|█████████████████████████████████████████████████████████████████████████▌    | 231/245 [1:06:04<04:00, 17.16s/it]"
     ]
    },
    {
     "name": "stdout",
     "output_type": "stream",
     "text": [
      "Train, epoch: [1][  1/245]\tLoss 3.1663e-01 (4.6248e-01)\tAccuracy 0.910 (0.859)\n"
     ]
    },
    {
     "name": "stderr",
     "output_type": "stream",
     "text": [
      "\r",
      " 95%|█████████████████████████████████████████████████████████████████████████▊    | 232/245 [1:06:21<03:42, 17.14s/it]"
     ]
    },
    {
     "name": "stdout",
     "output_type": "stream",
     "text": [
      "Train, epoch: [1][  1/245]\tLoss 4.1432e-01 (4.6228e-01)\tAccuracy 0.886 (0.859)\n"
     ]
    },
    {
     "name": "stderr",
     "output_type": "stream",
     "text": [
      "\r",
      " 95%|██████████████████████████████████████████████████████████████████████████▏   | 233/245 [1:06:39<03:26, 17.17s/it]"
     ]
    },
    {
     "name": "stdout",
     "output_type": "stream",
     "text": [
      "Train, epoch: [1][  1/245]\tLoss 2.1328e-01 (4.6121e-01)\tAccuracy 0.934 (0.860)\n"
     ]
    },
    {
     "name": "stderr",
     "output_type": "stream",
     "text": [
      "\r",
      " 96%|██████████████████████████████████████████████████████████████████████████▍   | 234/245 [1:06:56<03:09, 17.23s/it]"
     ]
    },
    {
     "name": "stdout",
     "output_type": "stream",
     "text": [
      "Train, epoch: [1][  1/245]\tLoss 7.4481e-01 (4.6242e-01)\tAccuracy 0.846 (0.860)\n"
     ]
    },
    {
     "name": "stderr",
     "output_type": "stream",
     "text": [
      "\r",
      " 96%|██████████████████████████████████████████████████████████████████████████▊   | 235/245 [1:07:13<02:51, 17.20s/it]"
     ]
    },
    {
     "name": "stdout",
     "output_type": "stream",
     "text": [
      "Train, epoch: [1][  1/245]\tLoss 5.1625e-01 (4.6265e-01)\tAccuracy 0.888 (0.860)\n"
     ]
    },
    {
     "name": "stderr",
     "output_type": "stream",
     "text": [
      "\r",
      " 96%|███████████████████████████████████████████████████████████████████████████▏  | 236/245 [1:07:30<02:34, 17.20s/it]"
     ]
    },
    {
     "name": "stdout",
     "output_type": "stream",
     "text": [
      "Train, epoch: [1][  1/245]\tLoss 3.1463e-01 (4.6202e-01)\tAccuracy 0.883 (0.860)\n"
     ]
    },
    {
     "name": "stderr",
     "output_type": "stream",
     "text": [
      "\r",
      " 97%|███████████████████████████████████████████████████████████████████████████▍  | 237/245 [1:07:47<02:17, 17.13s/it]"
     ]
    },
    {
     "name": "stdout",
     "output_type": "stream",
     "text": [
      "Train, epoch: [1][  1/245]\tLoss 2.8993e-01 (4.6129e-01)\tAccuracy 0.915 (0.860)\n"
     ]
    },
    {
     "name": "stderr",
     "output_type": "stream",
     "text": [
      "\r",
      " 97%|███████████████████████████████████████████████████████████████████████████▊  | 238/245 [1:08:04<01:59, 17.14s/it]"
     ]
    },
    {
     "name": "stdout",
     "output_type": "stream",
     "text": [
      "Train, epoch: [1][  1/245]\tLoss 3.3310e-01 (4.6076e-01)\tAccuracy 0.880 (0.860)\n"
     ]
    },
    {
     "name": "stderr",
     "output_type": "stream",
     "text": [
      "\r",
      " 98%|████████████████████████████████████████████████████████████████████████████  | 239/245 [1:08:22<01:42, 17.11s/it]"
     ]
    },
    {
     "name": "stdout",
     "output_type": "stream",
     "text": [
      "Train, epoch: [1][  1/245]\tLoss 6.7513e-01 (4.6165e-01)\tAccuracy 0.798 (0.860)\n"
     ]
    },
    {
     "name": "stderr",
     "output_type": "stream",
     "text": [
      "\r",
      " 98%|████████████████████████████████████████████████████████████████████████████▍ | 240/245 [1:08:39<01:25, 17.16s/it]"
     ]
    },
    {
     "name": "stdout",
     "output_type": "stream",
     "text": [
      "Train, epoch: [1][  1/245]\tLoss 4.6204e-01 (4.6165e-01)\tAccuracy 0.857 (0.860)\n"
     ]
    },
    {
     "name": "stderr",
     "output_type": "stream",
     "text": [
      "\r",
      " 98%|████████████████████████████████████████████████████████████████████████████▋ | 241/245 [1:08:56<01:08, 17.14s/it]"
     ]
    },
    {
     "name": "stdout",
     "output_type": "stream",
     "text": [
      "Train, epoch: [1][  1/245]\tLoss 2.1030e-01 (4.6061e-01)\tAccuracy 0.924 (0.860)\n"
     ]
    },
    {
     "name": "stderr",
     "output_type": "stream",
     "text": [
      "\r",
      " 99%|█████████████████████████████████████████████████████████████████████████████ | 242/245 [1:09:13<00:51, 17.22s/it]"
     ]
    },
    {
     "name": "stdout",
     "output_type": "stream",
     "text": [
      "Train, epoch: [1][  1/245]\tLoss 2.8981e-01 (4.5991e-01)\tAccuracy 0.875 (0.860)\n"
     ]
    },
    {
     "name": "stderr",
     "output_type": "stream",
     "text": [
      "\r",
      " 99%|█████████████████████████████████████████████████████████████████████████████▎| 243/245 [1:09:30<00:34, 17.14s/it]"
     ]
    },
    {
     "name": "stdout",
     "output_type": "stream",
     "text": [
      "Train, epoch: [1][  1/245]\tLoss 3.7649e-01 (4.5956e-01)\tAccuracy 0.897 (0.860)\n"
     ]
    },
    {
     "name": "stderr",
     "output_type": "stream",
     "text": [
      "\r",
      "100%|█████████████████████████████████████████████████████████████████████████████▋| 244/245 [1:09:47<00:17, 17.15s/it]"
     ]
    },
    {
     "name": "stdout",
     "output_type": "stream",
     "text": [
      "Train, epoch: [1][  1/245]\tLoss 6.9114e-01 (4.6051e-01)\tAccuracy 0.806 (0.860)\n"
     ]
    },
    {
     "name": "stderr",
     "output_type": "stream",
     "text": [
      "100%|██████████████████████████████████████████████████████████████████████████████| 245/245 [1:10:05<00:00, 17.16s/it]"
     ]
    },
    {
     "name": "stdout",
     "output_type": "stream",
     "text": [
      "Train, epoch: [1][  1/245]\tLoss 2.4749e-01 (4.5964e-01)\tAccuracy 0.912 (0.860)\n",
      "classes           IoU\n",
      "---------------------\n",
      "Pole          : 0.267\n",
      "SignSymbol    : 0.416\n",
      "Bicyclist     : 0.555\n",
      "Pedestrian    : 0.471\n",
      "Building      : 0.748\n",
      "Fence         : 0.541\n",
      "Pavement      : 0.730\n",
      "Road          : 0.917\n",
      "Car           : 0.796\n",
      "Sky           : 0.883\n",
      "Tree          : 0.752\n",
      "---------------------\n",
      "Mean IoU      : 0.643\n",
      "---------------------\n"
     ]
    },
    {
     "name": "stderr",
     "output_type": "stream",
     "text": [
      "\n"
     ]
    },
    {
     "name": "stdout",
     "output_type": "stream",
     "text": [
      "mIoU improved from 0.4893 to 0.6433.\n",
      "epoch  1\n",
      "loss : 0.4596   acc : 0.8605   miou : 0.6433\n"
     ]
    }
   ],
   "source": [
    "model.train()\n",
    "res = X.shape[1] * X.shape[2] # 720 * 960\n",
    "\n",
    "for epoch in range(num_epoch):\n",
    "    \n",
    "    loss_running = AverageMeter('Loss', ':.4e')\n",
    "    acc_running = AverageMeter('Accuracy', ':.3f')\n",
    "    \n",
    "    iou = iouCalc(classLabels, validClasses, voidClass = 11)\n",
    "    progress = ProgressMeter(\n",
    "        len(train_data),\n",
    "        [loss_running, acc_running],\n",
    "        prefix=\"Train, epoch: [{}]\".format(epoch))\n",
    "    \n",
    "    batch_loss = 0.0\n",
    "    for batch, (x, y) in enumerate(tqdm(train_data, total=len(train_data))):\n",
    "        x = x.to(device)\n",
    "        y = y.to(device)\n",
    "        \n",
    "        # zero the parameter gradients\n",
    "        optimizer.zero_grad()\n",
    "        \n",
    "        # forward pass\n",
    "        outputs = model(x)\n",
    "        outputs = outputs['out']\n",
    "        preds = torch.argmax(outputs, 1)\n",
    "        \n",
    "        # cross-entropy loss\n",
    "        loss = criterion(outputs, y)\n",
    "\n",
    "        # backward pass\n",
    "        loss.backward()\n",
    "        optimizer.step()\n",
    "        \n",
    "        # Statistics\n",
    "        bs = x.size(0)\n",
    "        loss = loss.item()\n",
    "        loss_running.update(loss, bs)\n",
    "        corrects = torch.sum((preds == y) & (y != 12))\n",
    "        \n",
    "        nvoid = int((y==12).sum()) \n",
    "        acc = corrects.double()/(bs*res-nvoid)\n",
    "        acc_running.update(acc, bs)\n",
    "        \n",
    "        # Calculate IoU scores of current batch\n",
    "        iou.evaluateBatch(preds, y)\n",
    "        \n",
    "        progress.display(epoch)\n",
    "        \n",
    "        \n",
    "    scheduler.step(loss_running.avg)\n",
    "    miou = iou.outputScores()\n",
    "    \n",
    "    # save checkpoint\n",
    "    now = datetime.datetime.now()\n",
    "    now_time = now.strftime('%y%m%d%H')\n",
    "    \n",
    "    # save path\n",
    "    if not os.path.isdir(result_dir):\n",
    "        os.makedirs(result_dir)\n",
    "    \n",
    "    save_path = result_dir\n",
    "    \n",
    "    with open(save_path + 'train_logs.csv', 'a') as epochs:\n",
    "            epochs.write('{}, {:.4f}, {:.4f}, {:.4f}\\n'.format(\n",
    "                    epoch+1, loss_running.avg, acc_running.avg, miou))\n",
    "            \n",
    "    # Save model to file\n",
    "    torch.save({\n",
    "        'epoch' : epoch + 1,\n",
    "        'model_state_dict' : model.state_dict(),\n",
    "        'optimizer_state_dict': optimizer.state_dict(),\n",
    "        'best_miou': best_miou,\n",
    "        'metrics': metrics,\n",
    "        }, save_path + now_time + '_E' + str(epoch+1) + '_checkpoint.pth.tar')\n",
    "    \n",
    "    # Save best model to file\n",
    "    if miou > best_miou:\n",
    "        print('mIoU improved from {:.4f} to {:.4f}.'.format(best_miou, miou))\n",
    "        best_miou = miou\n",
    "        \n",
    "    print('epoch ', epoch)\n",
    "    print('loss : {:.4f}   acc : {:.4f}   miou : {:.4f}'.format(loss_running.avg, acc_running.avg, miou))"
   ]
  },
  {
   "cell_type": "markdown",
   "metadata": {},
   "source": [
    "### val"
   ]
  },
  {
   "cell_type": "code",
   "execution_count": 31,
   "metadata": {},
   "outputs": [],
   "source": [
    "X = torch.tensor(val_x, dtype=torch.float32)\n",
    "Y = torch.tensor(val_y, dtype=torch.long)\n",
    "\n",
    "data = torch.utils.data.TensorDataset(X.permute(dims=(0, 3, 1, 2)), Y)\n",
    "\n",
    "val_data = torch.utils.data.DataLoader(data, batch_size=batch_size, shuffle=True)\n",
    "\n",
    "save_path = result_dir\n",
    "result = sorted(os.listdir(save_path), reverse=True)"
   ]
  },
  {
   "cell_type": "code",
   "execution_count": 21,
   "metadata": {},
   "outputs": [
    {
     "data": {
      "text/plain": [
       "['train_logs.csv',\n",
       " '21060718_E2_checkpoint.pth.tar',\n",
       " '21060717_E1_checkpoint.pth.tar']"
      ]
     },
     "execution_count": 21,
     "metadata": {},
     "output_type": "execute_result"
    }
   ],
   "source": [
    "result"
   ]
  },
  {
   "cell_type": "code",
   "execution_count": 33,
   "metadata": {},
   "outputs": [
    {
     "name": "stderr",
     "output_type": "stream",
     "text": [
      "100%|██████████████████████████████████████████████████████████████████████████████████| 35/35 [03:22<00:00,  5.79s/it]\n",
      "  0%|                                                                                           | 0/35 [00:00<?, ?it/s]"
     ]
    },
    {
     "name": "stdout",
     "output_type": "stream",
     "text": [
      "classes           IoU\n",
      "---------------------\n",
      "Pole          : 0.289\n",
      "SignSymbol    : 0.399\n",
      "Bicyclist     : 0.556\n",
      "Pedestrian    : 0.396\n",
      "Building      : 0.765\n",
      "Fence         : 0.334\n",
      "Pavement      : 0.722\n",
      "Road          : 0.915\n",
      "Car           : 0.697\n",
      "Sky           : 0.901\n",
      "Tree          : 0.772\n",
      "---------------------\n",
      "Mean IoU      : 0.613\n",
      "---------------------\n",
      "val- epoch: 1\n",
      "loss : 0.4963 acc : 0.8624 miou : 0.6132\n"
     ]
    },
    {
     "name": "stderr",
     "output_type": "stream",
     "text": [
      "100%|██████████████████████████████████████████████████████████████████████████████████| 35/35 [03:26<00:00,  5.90s/it]"
     ]
    },
    {
     "name": "stdout",
     "output_type": "stream",
     "text": [
      "classes           IoU\n",
      "---------------------\n",
      "Pole          : 0.231\n",
      "SignSymbol    : 0.335\n",
      "Bicyclist     : 0.299\n",
      "Pedestrian    : 0.397\n",
      "Building      : 0.669\n",
      "Fence         : 0.181\n",
      "Pavement      : 0.629\n",
      "Road          : 0.890\n",
      "Car           : 0.655\n",
      "Sky           : 0.859\n",
      "Tree          : 0.724\n",
      "---------------------\n",
      "Mean IoU      : 0.534\n",
      "---------------------\n",
      "val- epoch: 2\n",
      "loss : 0.6950 acc : 0.8147 miou : 0.5337\n"
     ]
    },
    {
     "name": "stderr",
     "output_type": "stream",
     "text": [
      "\n"
     ]
    }
   ],
   "source": [
    "for epoch, file in enumerate(result[1:]):\n",
    "    checkpoint = torch.load(save_path + file)\n",
    "    model.load_state_dict(checkpoint['model_state_dict'], strict=True)\n",
    "    \n",
    "    model.eval()\n",
    "    \n",
    "    loss_running = AverageMeter('Loss', ':.4e')\n",
    "    acc_running = AverageMeter('Accuracy', ':.3f')\n",
    "    \n",
    "    iou = iouCalc(classLabels, validClasses, voidClass = 11)\n",
    "    \n",
    "    batch_loss = 0.0\n",
    "    \n",
    "    for batch, (x, y) in enumerate(tqdm(val_data, total=len(val_data))):\n",
    "\n",
    "        x = x.to(device)\n",
    "        y = y.to(device)\n",
    "\n",
    "        # forward\n",
    "        outputs = model(x)\n",
    "        outputs = outputs['out']\n",
    "\n",
    "        preds = torch.argmax(outputs, 1)\n",
    "\n",
    "        # cross-entropy loss\n",
    "        loss = criterion(outputs, y)\n",
    "\n",
    "        # Statistics\n",
    "        bs = x.size(0)\n",
    "        loss = loss.item()\n",
    "        loss_running.update(loss, bs)\n",
    "        corrects = torch.sum((preds == y) & (y != 12))\n",
    "\n",
    "        nvoid = int((y==12).sum())\n",
    "        acc = corrects.double()/(bs*res-nvoid)\n",
    "        acc_running.update(acc, bs)\n",
    "    \n",
    "        # Calculate IoU scores of current batch\n",
    "        iou.evaluateBatch(preds, y)\n",
    "\n",
    "    miou = iou.outputScores()\n",
    "    \n",
    "    with open(save_path + 'val_logs.csv', 'a') as epochs:\n",
    "            epochs.write('{}, {:.4f}, {:.4f}, {:.4f}\\n'.format(\n",
    "                    epoch+1, loss_running.avg, acc_running.avg, miou))\n",
    "    \n",
    "    print('val- epoch: {}'.format(epoch+1))\n",
    "    print('loss : {:.4f} acc : {:.4f} miou : {:.4f}'.format(loss_running.avg, acc_running.avg, miou)) "
   ]
  },
  {
   "cell_type": "markdown",
   "metadata": {},
   "source": [
    "### plot"
   ]
  },
  {
   "cell_type": "code",
   "execution_count": null,
   "metadata": {},
   "outputs": [],
   "source": [
    "save_path = result_dir\n",
    "\n",
    "train_logs = pd.read_csv(save_path + 'train_logs.csv', names = ['epoch', 'loss', 'accuracy', 'miou'])\n",
    "val_logs = pd.read_csv(save_path + 'val_logs.csv', names = ['epoch', 'loss', 'accuracy', 'miou'])\n",
    "\n",
    "plt.figure(figsize=(15, 5))\n",
    "plt.plot(train_logs['epoch'], train_logs['miou'], label = 'train_miou')\n",
    "plt.plot(train_logs['epoch'], train_logs['accuracy'], label = 'train_accuracy')\n",
    "\n",
    "plt.plot(val_logs['epoch'], val_logs['miou'], label = 'val_miou')\n",
    "plt.plot(val_logs['epoch'], val_logs['accuracy'], label = 'val_accuracy')\n",
    "\n",
    "plt.xticks([i for i in range(1, train_logs.shape[0]+1)])\n",
    "plt.title(\"Performances of train, val dataset\")\n",
    "plt.xlabel(\"epoch\")\n",
    "plt.ylabel(\"\")\n",
    "plt.legend()\n",
    "plt.show()"
   ]
  },
  {
   "cell_type": "markdown",
   "metadata": {},
   "source": [
    "### test"
   ]
  },
  {
   "cell_type": "code",
   "execution_count": 12,
   "metadata": {},
   "outputs": [],
   "source": [
    "X = torch.tensor(test_x, dtype=torch.float32)\n",
    "Y = torch.tensor(test_y, dtype=torch.long)\n",
    "\n",
    "data = torch.utils.data.TensorDataset(X.permute(dims=(0, 3, 1, 2)), Y)\n",
    "\n",
    "test_data = torch.utils.data.DataLoader(data, batch_size=batch_size, shuffle=True)\n",
    "\n",
    "save_path = result_dir\n",
    "result = sorted(os.listdir(save_path), reverse=True)"
   ]
  },
  {
   "cell_type": "code",
   "execution_count": 15,
   "metadata": {},
   "outputs": [
    {
     "data": {
      "text/plain": [
       "<All keys matched successfully>"
      ]
     },
     "execution_count": 15,
     "metadata": {},
     "output_type": "execute_result"
    }
   ],
   "source": [
    "checkpoint = torch.load(save_path + result[2]) # train, val 결과보고 결정 (overfitting 시작되기 전)\n",
    "model.load_state_dict(checkpoint['model_state_dict'], strict=True)"
   ]
  },
  {
   "cell_type": "code",
   "execution_count": null,
   "metadata": {},
   "outputs": [],
   "source": []
  }
 ],
 "metadata": {
  "kernelspec": {
   "display_name": "yooso",
   "language": "python",
   "name": "yooso_venv"
  },
  "language_info": {
   "codemirror_mode": {
    "name": "ipython",
    "version": 3
   },
   "file_extension": ".py",
   "mimetype": "text/x-python",
   "name": "python",
   "nbconvert_exporter": "python",
   "pygments_lexer": "ipython3",
   "version": "3.6.6"
  }
 },
 "nbformat": 4,
 "nbformat_minor": 5
}
