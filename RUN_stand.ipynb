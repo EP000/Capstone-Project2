{
 "cells": [
  {
   "cell_type": "markdown",
   "metadata": {},
   "source": [
    "# Model"
   ]
  },
  {
   "cell_type": "markdown",
   "metadata": {},
   "source": [
    "### package load"
   ]
  },
  {
   "cell_type": "code",
   "execution_count": 1,
   "metadata": {},
   "outputs": [],
   "source": [
    "import datetime\n",
    "import numpy as np\n",
    "from PIL import Image\n",
    "\n",
    "import os\n",
    "import sys\n",
    "import time\n",
    "from tqdm import tqdm\n",
    "import numpy as np\n",
    "import warnings\n",
    "import random\n",
    "import torch\n",
    "import torch.nn as nn\n",
    "import torch.optim as optim\n",
    "import torchvision\n",
    "import torchvision.transforms.functional as TF\n",
    "import torch.nn.functional as F\n",
    "from torch.autograd import Variable\n",
    "\n",
    "from model import convert_bn_to_instancenorm, convert_bn_to_evonorm, convert_bn_to_groupnorm, DeepLabHead \n",
    "from helpers import AverageMeter, ProgressMeter, iouCalc, visim, vislbl\n",
    "from labels import labels"
   ]
  },
  {
   "cell_type": "markdown",
   "metadata": {},
   "source": [
    "### device"
   ]
  },
  {
   "cell_type": "code",
   "execution_count": 2,
   "metadata": {},
   "outputs": [],
   "source": [
    "device = torch.device('cuda' if torch.cuda.is_available() else 'cpu')"
   ]
  },
  {
   "cell_type": "markdown",
   "metadata": {},
   "source": [
    "### data load"
   ]
  },
  {
   "cell_type": "code",
   "execution_count": 3,
   "metadata": {},
   "outputs": [],
   "source": [
    "npzfile = np.load('data_stand_v1.npz')\n",
    "\n",
    "train_x = npzfile['train_x']\n",
    "train_y = npzfile['train_y']\n",
    "test_x = npzfile['test_x']\n",
    "test_y = npzfile['test_y']\n",
    "\n",
    "npzfile.close()"
   ]
  },
  {
   "cell_type": "markdown",
   "metadata": {},
   "source": [
    "### DeepLab v3 ResNet50 "
   ]
  },
  {
   "cell_type": "code",
   "execution_count": 4,
   "metadata": {},
   "outputs": [],
   "source": [
    "model = torchvision.models.segmentation.deeplabv3_resnet50(pretrained=False).to(device)\n",
    "         # dlv3 backbone resnoet 50 :: output chnnel: 2048 --> DL input channel :: 2048\n",
    "model.classifier = DeepLabHead(2048, 12).to(device) # 12 = class num\n",
    "\n",
    "optimizer = torch.optim.SGD(model.parameters(), lr=0.01, momentum=0.9)\n",
    "scheduler = optim.lr_scheduler.CosineAnnealingLR(optimizer, T_max=2) "
   ]
  },
  {
   "cell_type": "code",
   "execution_count": 5,
   "metadata": {},
   "outputs": [],
   "source": [
    "# Initialize metrics\n",
    "best_miou = 0.0\n",
    "metrics = {'train_loss' : [],\n",
    "           'train_acc' : [],\n",
    "           'test_acc' : [],\n",
    "           'test_loss' : [],\n",
    "           'miou' : []}\n",
    "start_epoch = 0"
   ]
  },
  {
   "cell_type": "markdown",
   "metadata": {},
   "source": [
    "### Label "
   ]
  },
  {
   "cell_type": "code",
   "execution_count": 6,
   "metadata": {},
   "outputs": [],
   "source": [
    "# Create list of class names\n",
    "  # classLabels: label명\n",
    "  # validClasses: label에 해당하는 id값\n",
    "\n",
    "classLabels = []\n",
    "for label in labels:\n",
    "    if label.name not in classLabels:\n",
    "        classLabels.append(label.name)\n",
    "classLabels.append('void')\n",
    "\n",
    "validClasses = list(\n",
    "    np.unique(\n",
    "        [label.id for label in labels \n",
    "         if label.id >= 0\n",
    "        ] + [11]\n",
    "    )\n",
    ")"
   ]
  },
  {
   "cell_type": "markdown",
   "metadata": {},
   "source": [
    "### train"
   ]
  },
  {
   "cell_type": "code",
   "execution_count": 7,
   "metadata": {},
   "outputs": [],
   "source": [
    "## parameter\n",
    "\n",
    "batch_size = 2\n",
    "num_epoch = 5\n",
    "\n",
    "result_dir = os.getcwd() + '/result/' + 'stand1/'"
   ]
  },
  {
   "cell_type": "code",
   "execution_count": 8,
   "metadata": {},
   "outputs": [],
   "source": [
    "from torch.utils.data import TensorDataset, DataLoader\n",
    "\n",
    "X = torch.tensor(train_x, dtype=torch.float32)\n",
    "Y = torch.tensor(train_y, dtype=torch.long)\n",
    "\n",
    "data = TensorDataset(X.permute(dims=(0, 3, 1, 2)), Y)\n",
    "train_data = DataLoader(data, batch_size=batch_size, shuffle=True)\n",
    "\n",
    "criterion = nn.CrossEntropyLoss(weight = None, ignore_index=12) "
   ]
  },
  {
   "cell_type": "code",
   "execution_count": 9,
   "metadata": {
    "scrolled": true
   },
   "outputs": [
    {
     "name": "stderr",
     "output_type": "stream",
     "text": [
      "  0%|▎                                                                               | 1/280 [00:17<1:21:08, 17.45s/it]"
     ]
    },
    {
     "name": "stdout",
     "output_type": "stream",
     "text": [
      "Train, epoch: [0][  0/280]\tLoss 2.5040e+00 (2.5040e+00)\tAccuracy 0.065 (0.065)\n"
     ]
    },
    {
     "name": "stderr",
     "output_type": "stream",
     "text": [
      "\r",
      "  1%|▌                                                                               | 2/280 [00:34<1:20:32, 17.38s/it]"
     ]
    },
    {
     "name": "stdout",
     "output_type": "stream",
     "text": [
      "Train, epoch: [0][  0/280]\tLoss 2.3713e+00 (2.4376e+00)\tAccuracy 0.098 (0.082)\n"
     ]
    },
    {
     "name": "stderr",
     "output_type": "stream",
     "text": [
      "\r",
      "  1%|▊                                                                               | 3/280 [00:51<1:19:50, 17.29s/it]"
     ]
    },
    {
     "name": "stdout",
     "output_type": "stream",
     "text": [
      "Train, epoch: [0][  0/280]\tLoss 2.2357e+00 (2.3703e+00)\tAccuracy 0.270 (0.144)\n"
     ]
    },
    {
     "name": "stderr",
     "output_type": "stream",
     "text": [
      "\r",
      "  1%|█▏                                                                              | 4/280 [01:09<1:19:20, 17.25s/it]"
     ]
    },
    {
     "name": "stdout",
     "output_type": "stream",
     "text": [
      "Train, epoch: [0][  0/280]\tLoss 1.9914e+00 (2.2756e+00)\tAccuracy 0.478 (0.228)\n"
     ]
    },
    {
     "name": "stderr",
     "output_type": "stream",
     "text": [
      "\r",
      "  2%|█▍                                                                              | 5/280 [01:26<1:19:16, 17.30s/it]"
     ]
    },
    {
     "name": "stdout",
     "output_type": "stream",
     "text": [
      "Train, epoch: [0][  0/280]\tLoss 1.7354e+00 (2.1675e+00)\tAccuracy 0.585 (0.299)\n"
     ]
    },
    {
     "name": "stderr",
     "output_type": "stream",
     "text": [
      "\r",
      "  2%|█▋                                                                              | 6/280 [01:43<1:19:14, 17.35s/it]"
     ]
    },
    {
     "name": "stdout",
     "output_type": "stream",
     "text": [
      "Train, epoch: [0][  0/280]\tLoss 1.4876e+00 (2.0542e+00)\tAccuracy 0.633 (0.355)\n"
     ]
    },
    {
     "name": "stderr",
     "output_type": "stream",
     "text": [
      "\r",
      "  2%|██                                                                              | 7/280 [02:01<1:19:08, 17.39s/it]"
     ]
    },
    {
     "name": "stdout",
     "output_type": "stream",
     "text": [
      "Train, epoch: [0][  0/280]\tLoss 1.2546e+00 (1.9400e+00)\tAccuracy 0.670 (0.400)\n"
     ]
    },
    {
     "name": "stderr",
     "output_type": "stream",
     "text": [
      "\r",
      "  3%|██▎                                                                             | 8/280 [02:19<1:19:02, 17.44s/it]"
     ]
    },
    {
     "name": "stdout",
     "output_type": "stream",
     "text": [
      "Train, epoch: [0][  0/280]\tLoss 1.1469e+00 (1.8409e+00)\tAccuracy 0.719 (0.440)\n"
     ]
    },
    {
     "name": "stderr",
     "output_type": "stream",
     "text": [
      "\r",
      "  3%|██▌                                                                             | 9/280 [02:36<1:19:05, 17.51s/it]"
     ]
    },
    {
     "name": "stdout",
     "output_type": "stream",
     "text": [
      "Train, epoch: [0][  0/280]\tLoss 1.0402e+00 (1.7519e+00)\tAccuracy 0.701 (0.469)\n"
     ]
    },
    {
     "name": "stderr",
     "output_type": "stream",
     "text": [
      "\r",
      "  4%|██▊                                                                            | 10/280 [02:54<1:18:34, 17.46s/it]"
     ]
    },
    {
     "name": "stdout",
     "output_type": "stream",
     "text": [
      "Train, epoch: [0][  0/280]\tLoss 9.3950e-01 (1.6707e+00)\tAccuracy 0.744 (0.496)\n"
     ]
    },
    {
     "name": "stderr",
     "output_type": "stream",
     "text": [
      "\r",
      "  4%|███                                                                            | 11/280 [03:11<1:18:09, 17.43s/it]"
     ]
    },
    {
     "name": "stdout",
     "output_type": "stream",
     "text": [
      "Train, epoch: [0][  0/280]\tLoss 1.0276e+00 (1.6122e+00)\tAccuracy 0.715 (0.516)\n"
     ]
    },
    {
     "name": "stderr",
     "output_type": "stream",
     "text": [
      "\r",
      "  4%|███▍                                                                           | 12/280 [03:28<1:17:56, 17.45s/it]"
     ]
    },
    {
     "name": "stdout",
     "output_type": "stream",
     "text": [
      "Train, epoch: [0][  0/280]\tLoss 1.5952e+00 (1.6108e+00)\tAccuracy 0.509 (0.516)\n"
     ]
    },
    {
     "name": "stderr",
     "output_type": "stream",
     "text": [
      "\r",
      "  5%|███▋                                                                           | 13/280 [03:46<1:17:54, 17.51s/it]"
     ]
    },
    {
     "name": "stdout",
     "output_type": "stream",
     "text": [
      "Train, epoch: [0][  0/280]\tLoss 1.0636e+00 (1.5687e+00)\tAccuracy 0.654 (0.526)\n"
     ]
    },
    {
     "name": "stderr",
     "output_type": "stream",
     "text": [
      "\r",
      "  5%|███▉                                                                           | 14/280 [04:03<1:17:33, 17.49s/it]"
     ]
    },
    {
     "name": "stdout",
     "output_type": "stream",
     "text": [
      "Train, epoch: [0][  0/280]\tLoss 1.3309e+00 (1.5517e+00)\tAccuracy 0.550 (0.528)\n"
     ]
    },
    {
     "name": "stderr",
     "output_type": "stream",
     "text": [
      "\r",
      "  5%|████▏                                                                          | 15/280 [04:21<1:17:28, 17.54s/it]"
     ]
    },
    {
     "name": "stdout",
     "output_type": "stream",
     "text": [
      "Train, epoch: [0][  0/280]\tLoss 1.0544e+00 (1.5185e+00)\tAccuracy 0.702 (0.540)\n"
     ]
    },
    {
     "name": "stderr",
     "output_type": "stream",
     "text": [
      "\r",
      "  6%|████▌                                                                          | 16/280 [04:39<1:17:11, 17.54s/it]"
     ]
    },
    {
     "name": "stdout",
     "output_type": "stream",
     "text": [
      "Train, epoch: [0][  0/280]\tLoss 7.6147e-01 (1.4712e+00)\tAccuracy 0.771 (0.554)\n"
     ]
    },
    {
     "name": "stderr",
     "output_type": "stream",
     "text": [
      "\r",
      "  6%|████▊                                                                          | 17/280 [04:56<1:16:43, 17.50s/it]"
     ]
    },
    {
     "name": "stdout",
     "output_type": "stream",
     "text": [
      "Train, epoch: [0][  0/280]\tLoss 8.6337e-01 (1.4355e+00)\tAccuracy 0.722 (0.564)\n"
     ]
    },
    {
     "name": "stderr",
     "output_type": "stream",
     "text": [
      "\r",
      "  6%|█████                                                                          | 18/280 [05:14<1:16:21, 17.49s/it]"
     ]
    },
    {
     "name": "stdout",
     "output_type": "stream",
     "text": [
      "Train, epoch: [0][  0/280]\tLoss 9.0001e-01 (1.4057e+00)\tAccuracy 0.734 (0.573)\n"
     ]
    },
    {
     "name": "stderr",
     "output_type": "stream",
     "text": [
      "\r",
      "  7%|█████▎                                                                         | 19/280 [05:31<1:16:14, 17.53s/it]"
     ]
    },
    {
     "name": "stdout",
     "output_type": "stream",
     "text": [
      "Train, epoch: [0][  0/280]\tLoss 7.1496e-01 (1.3694e+00)\tAccuracy 0.798 (0.585)\n"
     ]
    },
    {
     "name": "stderr",
     "output_type": "stream",
     "text": [
      "\r",
      "  7%|█████▋                                                                         | 20/280 [05:49<1:15:58, 17.53s/it]"
     ]
    },
    {
     "name": "stdout",
     "output_type": "stream",
     "text": [
      "Train, epoch: [0][  0/280]\tLoss 8.0680e-01 (1.3412e+00)\tAccuracy 0.794 (0.596)\n"
     ]
    },
    {
     "name": "stderr",
     "output_type": "stream",
     "text": [
      "\r",
      "  8%|█████▉                                                                         | 21/280 [06:06<1:15:38, 17.52s/it]"
     ]
    },
    {
     "name": "stdout",
     "output_type": "stream",
     "text": [
      "Train, epoch: [0][  0/280]\tLoss 8.1611e-01 (1.3162e+00)\tAccuracy 0.787 (0.605)\n"
     ]
    },
    {
     "name": "stderr",
     "output_type": "stream",
     "text": [
      "\r",
      "  8%|██████▏                                                                        | 22/280 [06:24<1:15:41, 17.60s/it]"
     ]
    },
    {
     "name": "stdout",
     "output_type": "stream",
     "text": [
      "Train, epoch: [0][  0/280]\tLoss 7.5929e-01 (1.2909e+00)\tAccuracy 0.794 (0.613)\n"
     ]
    },
    {
     "name": "stderr",
     "output_type": "stream",
     "text": [
      "\r",
      "  8%|██████▍                                                                        | 23/280 [06:41<1:15:05, 17.53s/it]"
     ]
    },
    {
     "name": "stdout",
     "output_type": "stream",
     "text": [
      "Train, epoch: [0][  0/280]\tLoss 8.3792e-01 (1.2712e+00)\tAccuracy 0.726 (0.618)\n"
     ]
    },
    {
     "name": "stderr",
     "output_type": "stream",
     "text": [
      "\r",
      "  9%|██████▊                                                                        | 24/280 [06:59<1:14:34, 17.48s/it]"
     ]
    },
    {
     "name": "stdout",
     "output_type": "stream",
     "text": [
      "Train, epoch: [0][  0/280]\tLoss 9.6644e-01 (1.2585e+00)\tAccuracy 0.698 (0.622)\n"
     ]
    },
    {
     "name": "stderr",
     "output_type": "stream",
     "text": [
      "\r",
      "  9%|███████                                                                        | 25/280 [07:16<1:14:20, 17.49s/it]"
     ]
    },
    {
     "name": "stdout",
     "output_type": "stream",
     "text": [
      "Train, epoch: [0][  0/280]\tLoss 7.0952e-01 (1.2366e+00)\tAccuracy 0.778 (0.628)\n"
     ]
    },
    {
     "name": "stderr",
     "output_type": "stream",
     "text": [
      "\r",
      "  9%|███████▎                                                                       | 26/280 [07:34<1:14:04, 17.50s/it]"
     ]
    },
    {
     "name": "stdout",
     "output_type": "stream",
     "text": [
      "Train, epoch: [0][  0/280]\tLoss 1.1431e+00 (1.2330e+00)\tAccuracy 0.628 (0.628)\n"
     ]
    },
    {
     "name": "stderr",
     "output_type": "stream",
     "text": [
      "\r",
      " 10%|███████▌                                                                       | 27/280 [07:51<1:13:41, 17.48s/it]"
     ]
    },
    {
     "name": "stdout",
     "output_type": "stream",
     "text": [
      "Train, epoch: [0][  0/280]\tLoss 6.8287e-01 (1.2126e+00)\tAccuracy 0.836 (0.636)\n"
     ]
    },
    {
     "name": "stderr",
     "output_type": "stream",
     "text": [
      "\r",
      " 10%|███████▉                                                                       | 28/280 [08:09<1:13:22, 17.47s/it]"
     ]
    },
    {
     "name": "stdout",
     "output_type": "stream",
     "text": [
      "Train, epoch: [0][  0/280]\tLoss 1.0644e+00 (1.2073e+00)\tAccuracy 0.649 (0.636)\n"
     ]
    },
    {
     "name": "stderr",
     "output_type": "stream",
     "text": [
      "\r",
      " 10%|████████▏                                                                      | 29/280 [08:26<1:13:10, 17.49s/it]"
     ]
    },
    {
     "name": "stdout",
     "output_type": "stream",
     "text": [
      "Train, epoch: [0][  0/280]\tLoss 5.8389e-01 (1.1858e+00)\tAccuracy 0.836 (0.643)\n"
     ]
    },
    {
     "name": "stderr",
     "output_type": "stream",
     "text": [
      "\r",
      " 11%|████████▍                                                                      | 30/280 [08:44<1:12:40, 17.44s/it]"
     ]
    },
    {
     "name": "stdout",
     "output_type": "stream",
     "text": [
      "Train, epoch: [0][  0/280]\tLoss 1.1508e+00 (1.1846e+00)\tAccuracy 0.668 (0.644)\n"
     ]
    },
    {
     "name": "stderr",
     "output_type": "stream",
     "text": [
      "\r",
      " 11%|████████▋                                                                      | 31/280 [09:01<1:12:40, 17.51s/it]"
     ]
    },
    {
     "name": "stdout",
     "output_type": "stream",
     "text": [
      "Train, epoch: [0][  0/280]\tLoss 4.4455e-01 (1.1608e+00)\tAccuracy 0.881 (0.651)\n"
     ]
    },
    {
     "name": "stderr",
     "output_type": "stream",
     "text": [
      "\r",
      " 11%|█████████                                                                      | 32/280 [09:19<1:12:17, 17.49s/it]"
     ]
    },
    {
     "name": "stdout",
     "output_type": "stream",
     "text": [
      "Train, epoch: [0][  0/280]\tLoss 7.9893e-01 (1.1495e+00)\tAccuracy 0.775 (0.655)\n"
     ]
    },
    {
     "name": "stderr",
     "output_type": "stream",
     "text": [
      "\r",
      " 12%|█████████▎                                                                     | 33/280 [09:36<1:12:12, 17.54s/it]"
     ]
    },
    {
     "name": "stdout",
     "output_type": "stream",
     "text": [
      "Train, epoch: [0][  0/280]\tLoss 4.5478e-01 (1.1284e+00)\tAccuracy 0.877 (0.662)\n"
     ]
    },
    {
     "name": "stderr",
     "output_type": "stream",
     "text": [
      "\r",
      " 12%|█████████▌                                                                     | 34/280 [09:54<1:11:48, 17.52s/it]"
     ]
    },
    {
     "name": "stdout",
     "output_type": "stream",
     "text": [
      "Train, epoch: [0][  0/280]\tLoss 5.8663e-01 (1.1125e+00)\tAccuracy 0.846 (0.667)\n"
     ]
    },
    {
     "name": "stderr",
     "output_type": "stream",
     "text": [
      "\r",
      " 12%|█████████▉                                                                     | 35/280 [10:11<1:11:32, 17.52s/it]"
     ]
    },
    {
     "name": "stdout",
     "output_type": "stream",
     "text": [
      "Train, epoch: [0][  0/280]\tLoss 5.4850e-01 (1.0964e+00)\tAccuracy 0.849 (0.673)\n"
     ]
    },
    {
     "name": "stderr",
     "output_type": "stream",
     "text": [
      "\r",
      " 13%|██████████▏                                                                    | 36/280 [10:29<1:11:03, 17.47s/it]"
     ]
    },
    {
     "name": "stdout",
     "output_type": "stream",
     "text": [
      "Train, epoch: [0][  0/280]\tLoss 4.4189e-01 (1.0782e+00)\tAccuracy 0.881 (0.678)\n"
     ]
    },
    {
     "name": "stderr",
     "output_type": "stream",
     "text": [
      "\r",
      " 13%|██████████▍                                                                    | 37/280 [10:46<1:10:58, 17.52s/it]"
     ]
    },
    {
     "name": "stdout",
     "output_type": "stream",
     "text": [
      "Train, epoch: [0][  0/280]\tLoss 9.6376e-01 (1.0751e+00)\tAccuracy 0.664 (0.678)\n"
     ]
    },
    {
     "name": "stderr",
     "output_type": "stream",
     "text": [
      "\r",
      " 14%|██████████▋                                                                    | 38/280 [11:04<1:10:39, 17.52s/it]"
     ]
    },
    {
     "name": "stdout",
     "output_type": "stream",
     "text": [
      "Train, epoch: [0][  0/280]\tLoss 7.3155e-01 (1.0660e+00)\tAccuracy 0.776 (0.681)\n"
     ]
    },
    {
     "name": "stderr",
     "output_type": "stream",
     "text": [
      "\r",
      " 14%|███████████                                                                    | 39/280 [11:21<1:10:21, 17.52s/it]"
     ]
    },
    {
     "name": "stdout",
     "output_type": "stream",
     "text": [
      "Train, epoch: [0][  0/280]\tLoss 5.6974e-01 (1.0533e+00)\tAccuracy 0.861 (0.685)\n"
     ]
    },
    {
     "name": "stderr",
     "output_type": "stream",
     "text": [
      "\r",
      " 14%|███████████▎                                                                   | 40/280 [11:39<1:10:06, 17.53s/it]"
     ]
    },
    {
     "name": "stdout",
     "output_type": "stream",
     "text": [
      "Train, epoch: [0][  0/280]\tLoss 4.2617e-01 (1.0376e+00)\tAccuracy 0.886 (0.690)\n"
     ]
    },
    {
     "name": "stderr",
     "output_type": "stream",
     "text": [
      "\r",
      " 15%|███████████▌                                                                   | 41/280 [11:56<1:09:46, 17.52s/it]"
     ]
    },
    {
     "name": "stdout",
     "output_type": "stream",
     "text": [
      "Train, epoch: [0][  0/280]\tLoss 4.7953e-01 (1.0240e+00)\tAccuracy 0.867 (0.695)\n"
     ]
    },
    {
     "name": "stderr",
     "output_type": "stream",
     "text": [
      "\r",
      " 15%|███████████▊                                                                   | 42/280 [12:14<1:09:17, 17.47s/it]"
     ]
    },
    {
     "name": "stdout",
     "output_type": "stream",
     "text": [
      "Train, epoch: [0][  0/280]\tLoss 6.6423e-01 (1.0155e+00)\tAccuracy 0.784 (0.697)\n"
     ]
    },
    {
     "name": "stderr",
     "output_type": "stream",
     "text": [
      "\r",
      " 15%|████████████▏                                                                  | 43/280 [12:31<1:08:58, 17.46s/it]"
     ]
    },
    {
     "name": "stdout",
     "output_type": "stream",
     "text": [
      "Train, epoch: [0][  0/280]\tLoss 8.6189e-01 (1.0119e+00)\tAccuracy 0.756 (0.698)\n"
     ]
    },
    {
     "name": "stderr",
     "output_type": "stream",
     "text": [
      "\r",
      " 16%|████████████▍                                                                  | 44/280 [12:49<1:08:47, 17.49s/it]"
     ]
    },
    {
     "name": "stdout",
     "output_type": "stream",
     "text": [
      "Train, epoch: [0][  0/280]\tLoss 6.2902e-01 (1.0032e+00)\tAccuracy 0.806 (0.700)\n"
     ]
    },
    {
     "name": "stderr",
     "output_type": "stream",
     "text": [
      "\r",
      " 16%|████████████▋                                                                  | 45/280 [13:06<1:08:29, 17.49s/it]"
     ]
    },
    {
     "name": "stdout",
     "output_type": "stream",
     "text": [
      "Train, epoch: [0][  0/280]\tLoss 5.5724e-01 (9.9328e-01)\tAccuracy 0.838 (0.704)\n"
     ]
    },
    {
     "name": "stderr",
     "output_type": "stream",
     "text": [
      "\r",
      " 16%|████████████▉                                                                  | 46/280 [13:24<1:08:06, 17.46s/it]"
     ]
    },
    {
     "name": "stdout",
     "output_type": "stream",
     "text": [
      "Train, epoch: [0][  0/280]\tLoss 4.7227e-01 (9.8195e-01)\tAccuracy 0.860 (0.707)\n"
     ]
    },
    {
     "name": "stderr",
     "output_type": "stream",
     "text": [
      "\r",
      " 17%|█████████████▎                                                                 | 47/280 [13:41<1:07:33, 17.40s/it]"
     ]
    },
    {
     "name": "stdout",
     "output_type": "stream",
     "text": [
      "Train, epoch: [0][  0/280]\tLoss 4.8028e-01 (9.7128e-01)\tAccuracy 0.870 (0.710)\n"
     ]
    },
    {
     "name": "stderr",
     "output_type": "stream",
     "text": [
      "\r",
      " 17%|█████████████▌                                                                 | 48/280 [13:58<1:07:27, 17.45s/it]"
     ]
    },
    {
     "name": "stdout",
     "output_type": "stream",
     "text": [
      "Train, epoch: [0][  0/280]\tLoss 6.5281e-01 (9.6465e-01)\tAccuracy 0.818 (0.713)\n"
     ]
    },
    {
     "name": "stderr",
     "output_type": "stream",
     "text": [
      "\r",
      " 18%|█████████████▊                                                                 | 49/280 [14:16<1:07:18, 17.48s/it]"
     ]
    },
    {
     "name": "stdout",
     "output_type": "stream",
     "text": [
      "Train, epoch: [0][  0/280]\tLoss 5.6143e-01 (9.5642e-01)\tAccuracy 0.823 (0.715)\n"
     ]
    },
    {
     "name": "stderr",
     "output_type": "stream",
     "text": [
      "\r",
      " 18%|██████████████                                                                 | 50/280 [14:33<1:07:02, 17.49s/it]"
     ]
    },
    {
     "name": "stdout",
     "output_type": "stream",
     "text": [
      "Train, epoch: [0][  0/280]\tLoss 6.3430e-01 (9.4997e-01)\tAccuracy 0.807 (0.717)\n"
     ]
    },
    {
     "name": "stderr",
     "output_type": "stream",
     "text": [
      "\r",
      " 18%|██████████████▍                                                                | 51/280 [14:51<1:06:50, 17.51s/it]"
     ]
    },
    {
     "name": "stdout",
     "output_type": "stream",
     "text": [
      "Train, epoch: [0][  0/280]\tLoss 6.0722e-01 (9.4325e-01)\tAccuracy 0.818 (0.719)\n"
     ]
    },
    {
     "name": "stderr",
     "output_type": "stream",
     "text": [
      "\r",
      " 19%|██████████████▋                                                                | 52/280 [15:09<1:06:34, 17.52s/it]"
     ]
    },
    {
     "name": "stdout",
     "output_type": "stream",
     "text": [
      "Train, epoch: [0][  0/280]\tLoss 4.2063e-01 (9.3320e-01)\tAccuracy 0.897 (0.722)\n"
     ]
    },
    {
     "name": "stderr",
     "output_type": "stream",
     "text": [
      "\r",
      " 19%|██████████████▉                                                                | 53/280 [15:26<1:06:10, 17.49s/it]"
     ]
    },
    {
     "name": "stdout",
     "output_type": "stream",
     "text": [
      "Train, epoch: [0][  0/280]\tLoss 4.5023e-01 (9.2409e-01)\tAccuracy 0.877 (0.725)\n"
     ]
    },
    {
     "name": "stderr",
     "output_type": "stream",
     "text": [
      "\r",
      " 19%|███████████████▏                                                               | 54/280 [15:44<1:05:59, 17.52s/it]"
     ]
    },
    {
     "name": "stdout",
     "output_type": "stream",
     "text": [
      "Train, epoch: [0][  0/280]\tLoss 3.7608e-01 (9.1394e-01)\tAccuracy 0.895 (0.728)\n"
     ]
    },
    {
     "name": "stderr",
     "output_type": "stream",
     "text": [
      "\r",
      " 20%|███████████████▌                                                               | 55/280 [16:01<1:05:39, 17.51s/it]"
     ]
    },
    {
     "name": "stdout",
     "output_type": "stream",
     "text": [
      "Train, epoch: [0][  0/280]\tLoss 7.0139e-01 (9.1008e-01)\tAccuracy 0.780 (0.729)\n"
     ]
    },
    {
     "name": "stderr",
     "output_type": "stream",
     "text": [
      "\r",
      " 20%|███████████████▊                                                               | 56/280 [16:19<1:05:22, 17.51s/it]"
     ]
    },
    {
     "name": "stdout",
     "output_type": "stream",
     "text": [
      "Train, epoch: [0][  0/280]\tLoss 4.8614e-01 (9.0251e-01)\tAccuracy 0.857 (0.731)\n"
     ]
    },
    {
     "name": "stderr",
     "output_type": "stream",
     "text": [
      "\r",
      " 20%|████████████████                                                               | 57/280 [16:36<1:04:46, 17.43s/it]"
     ]
    },
    {
     "name": "stdout",
     "output_type": "stream",
     "text": [
      "Train, epoch: [0][  0/280]\tLoss 4.3519e-01 (8.9431e-01)\tAccuracy 0.877 (0.734)\n"
     ]
    },
    {
     "name": "stderr",
     "output_type": "stream",
     "text": [
      "\r",
      " 21%|████████████████▎                                                              | 58/280 [16:54<1:04:49, 17.52s/it]"
     ]
    },
    {
     "name": "stdout",
     "output_type": "stream",
     "text": [
      "Train, epoch: [0][  0/280]\tLoss 3.7805e-01 (8.8541e-01)\tAccuracy 0.894 (0.737)\n"
     ]
    },
    {
     "name": "stderr",
     "output_type": "stream",
     "text": [
      "\r",
      " 21%|████████████████▋                                                              | 59/280 [17:11<1:04:37, 17.55s/it]"
     ]
    },
    {
     "name": "stdout",
     "output_type": "stream",
     "text": [
      "Train, epoch: [0][  0/280]\tLoss 5.5738e-01 (8.7985e-01)\tAccuracy 0.831 (0.738)\n"
     ]
    },
    {
     "name": "stderr",
     "output_type": "stream",
     "text": [
      "\r",
      " 21%|████████████████▉                                                              | 60/280 [17:29<1:04:19, 17.54s/it]"
     ]
    },
    {
     "name": "stdout",
     "output_type": "stream",
     "text": [
      "Train, epoch: [0][  0/280]\tLoss 4.2692e-01 (8.7230e-01)\tAccuracy 0.879 (0.741)\n"
     ]
    },
    {
     "name": "stderr",
     "output_type": "stream",
     "text": [
      "\r",
      " 22%|█████████████████▏                                                             | 61/280 [17:46<1:04:01, 17.54s/it]"
     ]
    },
    {
     "name": "stdout",
     "output_type": "stream",
     "text": [
      "Train, epoch: [0][  0/280]\tLoss 5.4824e-01 (8.6699e-01)\tAccuracy 0.853 (0.743)\n"
     ]
    },
    {
     "name": "stderr",
     "output_type": "stream",
     "text": [
      "\r",
      " 22%|█████████████████▍                                                             | 62/280 [18:04<1:03:47, 17.56s/it]"
     ]
    },
    {
     "name": "stdout",
     "output_type": "stream",
     "text": [
      "Train, epoch: [0][  0/280]\tLoss 4.3483e-01 (8.6002e-01)\tAccuracy 0.864 (0.745)\n"
     ]
    },
    {
     "name": "stderr",
     "output_type": "stream",
     "text": [
      "\r",
      " 22%|█████████████████▊                                                             | 63/280 [18:22<1:03:42, 17.61s/it]"
     ]
    },
    {
     "name": "stdout",
     "output_type": "stream",
     "text": [
      "Train, epoch: [0][  0/280]\tLoss 4.6334e-01 (8.5372e-01)\tAccuracy 0.859 (0.746)\n"
     ]
    },
    {
     "name": "stderr",
     "output_type": "stream",
     "text": [
      "\r",
      " 23%|██████████████████                                                             | 64/280 [18:39<1:03:15, 17.57s/it]"
     ]
    },
    {
     "name": "stdout",
     "output_type": "stream",
     "text": [
      "Train, epoch: [0][  0/280]\tLoss 6.4276e-01 (8.5042e-01)\tAccuracy 0.810 (0.747)\n"
     ]
    },
    {
     "name": "stderr",
     "output_type": "stream",
     "text": [
      "\r",
      " 23%|██████████████████▎                                                            | 65/280 [18:57<1:02:52, 17.55s/it]"
     ]
    },
    {
     "name": "stdout",
     "output_type": "stream",
     "text": [
      "Train, epoch: [0][  0/280]\tLoss 5.6456e-01 (8.4603e-01)\tAccuracy 0.835 (0.749)\n"
     ]
    },
    {
     "name": "stderr",
     "output_type": "stream",
     "text": [
      "\r",
      " 24%|██████████████████▌                                                            | 66/280 [19:14<1:02:28, 17.52s/it]"
     ]
    },
    {
     "name": "stdout",
     "output_type": "stream",
     "text": [
      "Train, epoch: [0][  0/280]\tLoss 5.5739e-01 (8.4165e-01)\tAccuracy 0.853 (0.750)\n"
     ]
    },
    {
     "name": "stderr",
     "output_type": "stream",
     "text": [
      "\r",
      " 24%|██████████████████▉                                                            | 67/280 [19:32<1:02:12, 17.53s/it]"
     ]
    },
    {
     "name": "stdout",
     "output_type": "stream",
     "text": [
      "Train, epoch: [0][  0/280]\tLoss 4.8185e-01 (8.3628e-01)\tAccuracy 0.858 (0.752)\n"
     ]
    },
    {
     "name": "stderr",
     "output_type": "stream",
     "text": [
      "\r",
      " 24%|███████████████████▏                                                           | 68/280 [19:49<1:01:46, 17.49s/it]"
     ]
    },
    {
     "name": "stdout",
     "output_type": "stream",
     "text": [
      "Train, epoch: [0][  0/280]\tLoss 5.4089e-01 (8.3194e-01)\tAccuracy 0.836 (0.753)\n"
     ]
    },
    {
     "name": "stderr",
     "output_type": "stream",
     "text": [
      "\r",
      " 25%|███████████████████▍                                                           | 69/280 [20:06<1:01:34, 17.51s/it]"
     ]
    },
    {
     "name": "stdout",
     "output_type": "stream",
     "text": [
      "Train, epoch: [0][  0/280]\tLoss 4.7988e-01 (8.2684e-01)\tAccuracy 0.850 (0.754)\n"
     ]
    },
    {
     "name": "stderr",
     "output_type": "stream",
     "text": [
      "\r",
      " 25%|███████████████████▊                                                           | 70/280 [20:24<1:01:11, 17.48s/it]"
     ]
    },
    {
     "name": "stdout",
     "output_type": "stream",
     "text": [
      "Train, epoch: [0][  0/280]\tLoss 4.7743e-01 (8.2184e-01)\tAccuracy 0.863 (0.756)\n"
     ]
    },
    {
     "name": "stderr",
     "output_type": "stream",
     "text": [
      "\r",
      " 25%|████████████████████                                                           | 71/280 [20:41<1:00:52, 17.48s/it]"
     ]
    },
    {
     "name": "stdout",
     "output_type": "stream",
     "text": [
      "Train, epoch: [0][  0/280]\tLoss 4.5339e-01 (8.1665e-01)\tAccuracy 0.870 (0.758)\n"
     ]
    },
    {
     "name": "stderr",
     "output_type": "stream",
     "text": [
      "\r",
      " 26%|████████████████████▎                                                          | 72/280 [20:59<1:00:32, 17.47s/it]"
     ]
    },
    {
     "name": "stdout",
     "output_type": "stream",
     "text": [
      "Train, epoch: [0][  0/280]\tLoss 4.9471e-01 (8.1218e-01)\tAccuracy 0.858 (0.759)\n"
     ]
    },
    {
     "name": "stderr",
     "output_type": "stream",
     "text": [
      "\r",
      " 26%|████████████████████▌                                                          | 73/280 [21:16<1:00:11, 17.45s/it]"
     ]
    },
    {
     "name": "stdout",
     "output_type": "stream",
     "text": [
      "Train, epoch: [0][  0/280]\tLoss 4.5204e-01 (8.0725e-01)\tAccuracy 0.854 (0.760)\n"
     ]
    },
    {
     "name": "stderr",
     "output_type": "stream",
     "text": [
      "\r",
      " 26%|█████████████████████▍                                                           | 74/280 [21:34<59:52, 17.44s/it]"
     ]
    },
    {
     "name": "stdout",
     "output_type": "stream",
     "text": [
      "Train, epoch: [0][  0/280]\tLoss 3.4320e-01 (8.0098e-01)\tAccuracy 0.913 (0.762)\n"
     ]
    },
    {
     "name": "stderr",
     "output_type": "stream",
     "text": [
      "\r",
      " 27%|█████████████████████▋                                                           | 75/280 [21:51<59:42, 17.47s/it]"
     ]
    },
    {
     "name": "stdout",
     "output_type": "stream",
     "text": [
      "Train, epoch: [0][  0/280]\tLoss 4.6910e-01 (7.9655e-01)\tAccuracy 0.857 (0.764)\n"
     ]
    },
    {
     "name": "stderr",
     "output_type": "stream",
     "text": [
      "\r",
      " 27%|█████████████████████▉                                                           | 76/280 [22:09<59:25, 17.48s/it]"
     ]
    },
    {
     "name": "stdout",
     "output_type": "stream",
     "text": [
      "Train, epoch: [0][  0/280]\tLoss 5.2171e-01 (7.9294e-01)\tAccuracy 0.840 (0.765)\n"
     ]
    },
    {
     "name": "stderr",
     "output_type": "stream",
     "text": [
      "\r",
      " 28%|██████████████████████▎                                                          | 77/280 [22:26<59:01, 17.45s/it]"
     ]
    },
    {
     "name": "stdout",
     "output_type": "stream",
     "text": [
      "Train, epoch: [0][  0/280]\tLoss 7.4208e-01 (7.9228e-01)\tAccuracy 0.763 (0.765)\n"
     ]
    },
    {
     "name": "stderr",
     "output_type": "stream",
     "text": [
      "\r",
      " 28%|██████████████████████▌                                                          | 78/280 [22:44<58:51, 17.48s/it]"
     ]
    },
    {
     "name": "stdout",
     "output_type": "stream",
     "text": [
      "Train, epoch: [0][  0/280]\tLoss 5.2557e-01 (7.8886e-01)\tAccuracy 0.825 (0.765)\n"
     ]
    },
    {
     "name": "stderr",
     "output_type": "stream",
     "text": [
      "\r",
      " 28%|██████████████████████▊                                                          | 79/280 [23:01<58:40, 17.51s/it]"
     ]
    },
    {
     "name": "stdout",
     "output_type": "stream",
     "text": [
      "Train, epoch: [0][  0/280]\tLoss 3.6736e-01 (7.8352e-01)\tAccuracy 0.891 (0.767)\n"
     ]
    },
    {
     "name": "stderr",
     "output_type": "stream",
     "text": [
      "\r",
      " 29%|███████████████████████▏                                                         | 80/280 [23:19<58:19, 17.50s/it]"
     ]
    },
    {
     "name": "stdout",
     "output_type": "stream",
     "text": [
      "Train, epoch: [0][  0/280]\tLoss 9.9778e-01 (7.8620e-01)\tAccuracy 0.726 (0.766)\n"
     ]
    },
    {
     "name": "stderr",
     "output_type": "stream",
     "text": [
      "\r",
      " 29%|███████████████████████▍                                                         | 81/280 [23:36<57:56, 17.47s/it]"
     ]
    },
    {
     "name": "stdout",
     "output_type": "stream",
     "text": [
      "Train, epoch: [0][  0/280]\tLoss 4.6158e-01 (7.8219e-01)\tAccuracy 0.861 (0.768)\n"
     ]
    },
    {
     "name": "stderr",
     "output_type": "stream",
     "text": [
      "\r",
      " 29%|███████████████████████▋                                                         | 82/280 [23:53<57:37, 17.46s/it]"
     ]
    },
    {
     "name": "stdout",
     "output_type": "stream",
     "text": [
      "Train, epoch: [0][  0/280]\tLoss 6.6885e-01 (7.8081e-01)\tAccuracy 0.830 (0.768)\n"
     ]
    },
    {
     "name": "stderr",
     "output_type": "stream",
     "text": [
      "\r",
      " 30%|████████████████████████                                                         | 83/280 [24:11<57:24, 17.49s/it]"
     ]
    },
    {
     "name": "stdout",
     "output_type": "stream",
     "text": [
      "Train, epoch: [0][  0/280]\tLoss 3.9769e-01 (7.7619e-01)\tAccuracy 0.886 (0.770)\n"
     ]
    },
    {
     "name": "stderr",
     "output_type": "stream",
     "text": [
      "\r",
      " 30%|████████████████████████▎                                                        | 84/280 [24:29<57:08, 17.49s/it]"
     ]
    },
    {
     "name": "stdout",
     "output_type": "stream",
     "text": [
      "Train, epoch: [0][  0/280]\tLoss 4.4334e-01 (7.7223e-01)\tAccuracy 0.860 (0.771)\n"
     ]
    },
    {
     "name": "stderr",
     "output_type": "stream",
     "text": [
      "\r",
      " 30%|████████████████████████▌                                                        | 85/280 [24:46<56:51, 17.50s/it]"
     ]
    },
    {
     "name": "stdout",
     "output_type": "stream",
     "text": [
      "Train, epoch: [0][  0/280]\tLoss 6.6481e-01 (7.7097e-01)\tAccuracy 0.780 (0.771)\n"
     ]
    },
    {
     "name": "stderr",
     "output_type": "stream",
     "text": [
      "\r",
      " 31%|████████████████████████▉                                                        | 86/280 [25:04<56:35, 17.50s/it]"
     ]
    },
    {
     "name": "stdout",
     "output_type": "stream",
     "text": [
      "Train, epoch: [0][  0/280]\tLoss 3.4528e-01 (7.6602e-01)\tAccuracy 0.903 (0.773)\n"
     ]
    },
    {
     "name": "stderr",
     "output_type": "stream",
     "text": [
      "\r",
      " 31%|█████████████████████████▏                                                       | 87/280 [25:21<56:15, 17.49s/it]"
     ]
    },
    {
     "name": "stdout",
     "output_type": "stream",
     "text": [
      "Train, epoch: [0][  0/280]\tLoss 4.4575e-01 (7.6234e-01)\tAccuracy 0.866 (0.774)\n"
     ]
    },
    {
     "name": "stderr",
     "output_type": "stream",
     "text": [
      "\r",
      " 31%|█████████████████████████▍                                                       | 88/280 [25:38<55:52, 17.46s/it]"
     ]
    },
    {
     "name": "stdout",
     "output_type": "stream",
     "text": [
      "Train, epoch: [0][  0/280]\tLoss 3.5165e-01 (7.5767e-01)\tAccuracy 0.911 (0.775)\n"
     ]
    },
    {
     "name": "stderr",
     "output_type": "stream",
     "text": [
      "\r",
      " 32%|█████████████████████████▋                                                       | 89/280 [25:56<55:34, 17.46s/it]"
     ]
    },
    {
     "name": "stdout",
     "output_type": "stream",
     "text": [
      "Train, epoch: [0][  0/280]\tLoss 4.7777e-01 (7.5453e-01)\tAccuracy 0.870 (0.776)\n"
     ]
    },
    {
     "name": "stderr",
     "output_type": "stream",
     "text": [
      "\r",
      " 32%|██████████████████████████                                                       | 90/280 [26:13<55:16, 17.46s/it]"
     ]
    },
    {
     "name": "stdout",
     "output_type": "stream",
     "text": [
      "Train, epoch: [0][  0/280]\tLoss 3.7437e-01 (7.5030e-01)\tAccuracy 0.894 (0.778)\n"
     ]
    },
    {
     "name": "stderr",
     "output_type": "stream",
     "text": [
      "\r",
      " 32%|██████████████████████████▎                                                      | 91/280 [26:31<55:03, 17.48s/it]"
     ]
    },
    {
     "name": "stdout",
     "output_type": "stream",
     "text": [
      "Train, epoch: [0][  0/280]\tLoss 5.3320e-01 (7.4792e-01)\tAccuracy 0.835 (0.778)\n"
     ]
    },
    {
     "name": "stderr",
     "output_type": "stream",
     "text": [
      "\r",
      " 33%|██████████████████████████▌                                                      | 92/280 [26:48<54:36, 17.43s/it]"
     ]
    },
    {
     "name": "stdout",
     "output_type": "stream",
     "text": [
      "Train, epoch: [0][  0/280]\tLoss 3.9888e-01 (7.4412e-01)\tAccuracy 0.884 (0.779)\n"
     ]
    },
    {
     "name": "stderr",
     "output_type": "stream",
     "text": [
      "\r",
      " 33%|██████████████████████████▉                                                      | 93/280 [27:06<54:19, 17.43s/it]"
     ]
    },
    {
     "name": "stdout",
     "output_type": "stream",
     "text": [
      "Train, epoch: [0][  0/280]\tLoss 7.5440e-01 (7.4423e-01)\tAccuracy 0.750 (0.779)\n"
     ]
    },
    {
     "name": "stderr",
     "output_type": "stream",
     "text": [
      "\r",
      " 34%|███████████████████████████▏                                                     | 94/280 [27:23<53:57, 17.41s/it]"
     ]
    },
    {
     "name": "stdout",
     "output_type": "stream",
     "text": [
      "Train, epoch: [0][  0/280]\tLoss 5.9535e-01 (7.4265e-01)\tAccuracy 0.812 (0.779)\n"
     ]
    },
    {
     "name": "stderr",
     "output_type": "stream",
     "text": [
      "\r",
      " 34%|███████████████████████████▍                                                     | 95/280 [27:41<54:01, 17.52s/it]"
     ]
    },
    {
     "name": "stdout",
     "output_type": "stream",
     "text": [
      "Train, epoch: [0][  0/280]\tLoss 4.1305e-01 (7.3918e-01)\tAccuracy 0.900 (0.781)\n"
     ]
    },
    {
     "name": "stderr",
     "output_type": "stream",
     "text": [
      "\r",
      " 34%|███████████████████████████▊                                                     | 96/280 [27:58<53:35, 17.48s/it]"
     ]
    },
    {
     "name": "stdout",
     "output_type": "stream",
     "text": [
      "Train, epoch: [0][  0/280]\tLoss 3.1489e-01 (7.3476e-01)\tAccuracy 0.910 (0.782)\n"
     ]
    },
    {
     "name": "stderr",
     "output_type": "stream",
     "text": [
      "\r",
      " 35%|████████████████████████████                                                     | 97/280 [28:16<53:22, 17.50s/it]"
     ]
    },
    {
     "name": "stdout",
     "output_type": "stream",
     "text": [
      "Train, epoch: [0][  0/280]\tLoss 4.1664e-01 (7.3148e-01)\tAccuracy 0.869 (0.783)\n"
     ]
    },
    {
     "name": "stderr",
     "output_type": "stream",
     "text": [
      "\r",
      " 35%|████████████████████████████▎                                                    | 98/280 [28:33<53:09, 17.52s/it]"
     ]
    },
    {
     "name": "stdout",
     "output_type": "stream",
     "text": [
      "Train, epoch: [0][  0/280]\tLoss 5.2953e-01 (7.2942e-01)\tAccuracy 0.826 (0.783)\n"
     ]
    },
    {
     "name": "stderr",
     "output_type": "stream",
     "text": [
      "\r",
      " 35%|████████████████████████████▋                                                    | 99/280 [28:51<52:51, 17.52s/it]"
     ]
    },
    {
     "name": "stdout",
     "output_type": "stream",
     "text": [
      "Train, epoch: [0][  0/280]\tLoss 4.3713e-01 (7.2647e-01)\tAccuracy 0.857 (0.784)\n"
     ]
    },
    {
     "name": "stderr",
     "output_type": "stream",
     "text": [
      "\r",
      " 36%|████████████████████████████▌                                                   | 100/280 [29:08<52:31, 17.51s/it]"
     ]
    },
    {
     "name": "stdout",
     "output_type": "stream",
     "text": [
      "Train, epoch: [0][  0/280]\tLoss 3.8111e-01 (7.2301e-01)\tAccuracy 0.877 (0.785)\n"
     ]
    },
    {
     "name": "stderr",
     "output_type": "stream",
     "text": [
      "\r",
      " 36%|████████████████████████████▊                                                   | 101/280 [29:26<52:10, 17.49s/it]"
     ]
    },
    {
     "name": "stdout",
     "output_type": "stream",
     "text": [
      "Train, epoch: [0][  0/280]\tLoss 4.1412e-01 (7.1995e-01)\tAccuracy 0.880 (0.786)\n"
     ]
    },
    {
     "name": "stderr",
     "output_type": "stream",
     "text": [
      "\r",
      " 36%|█████████████████████████████▏                                                  | 102/280 [29:43<51:57, 17.51s/it]"
     ]
    },
    {
     "name": "stdout",
     "output_type": "stream",
     "text": [
      "Train, epoch: [0][  0/280]\tLoss 4.0251e-01 (7.1684e-01)\tAccuracy 0.883 (0.787)\n"
     ]
    },
    {
     "name": "stderr",
     "output_type": "stream",
     "text": [
      "\r",
      " 37%|█████████████████████████████▍                                                  | 103/280 [30:01<51:42, 17.53s/it]"
     ]
    },
    {
     "name": "stdout",
     "output_type": "stream",
     "text": [
      "Train, epoch: [0][  0/280]\tLoss 3.1012e-01 (7.1289e-01)\tAccuracy 0.903 (0.788)\n"
     ]
    },
    {
     "name": "stderr",
     "output_type": "stream",
     "text": [
      "\r",
      " 37%|█████████████████████████████▋                                                  | 104/280 [30:18<51:25, 17.53s/it]"
     ]
    },
    {
     "name": "stdout",
     "output_type": "stream",
     "text": [
      "Train, epoch: [0][  0/280]\tLoss 6.7942e-01 (7.1257e-01)\tAccuracy 0.775 (0.788)\n"
     ]
    },
    {
     "name": "stderr",
     "output_type": "stream",
     "text": [
      "\r",
      " 38%|██████████████████████████████                                                  | 105/280 [30:36<51:04, 17.51s/it]"
     ]
    },
    {
     "name": "stdout",
     "output_type": "stream",
     "text": [
      "Train, epoch: [0][  0/280]\tLoss 3.8009e-01 (7.0941e-01)\tAccuracy 0.886 (0.789)\n"
     ]
    },
    {
     "name": "stderr",
     "output_type": "stream",
     "text": [
      "\r",
      " 38%|██████████████████████████████▎                                                 | 106/280 [30:53<50:48, 17.52s/it]"
     ]
    },
    {
     "name": "stdout",
     "output_type": "stream",
     "text": [
      "Train, epoch: [0][  0/280]\tLoss 4.9175e-01 (7.0735e-01)\tAccuracy 0.850 (0.789)\n"
     ]
    },
    {
     "name": "stderr",
     "output_type": "stream",
     "text": [
      "\r",
      " 38%|██████████████████████████████▌                                                 | 107/280 [31:11<50:33, 17.54s/it]"
     ]
    },
    {
     "name": "stdout",
     "output_type": "stream",
     "text": [
      "Train, epoch: [0][  0/280]\tLoss 3.9563e-01 (7.0444e-01)\tAccuracy 0.892 (0.790)\n"
     ]
    },
    {
     "name": "stderr",
     "output_type": "stream",
     "text": [
      "\r",
      " 39%|██████████████████████████████▊                                                 | 108/280 [31:28<50:15, 17.53s/it]"
     ]
    },
    {
     "name": "stdout",
     "output_type": "stream",
     "text": [
      "Train, epoch: [0][  0/280]\tLoss 5.1414e-01 (7.0268e-01)\tAccuracy 0.832 (0.791)\n"
     ]
    },
    {
     "name": "stderr",
     "output_type": "stream",
     "text": [
      "\r",
      " 39%|███████████████████████████████▏                                                | 109/280 [31:46<49:56, 17.52s/it]"
     ]
    },
    {
     "name": "stdout",
     "output_type": "stream",
     "text": [
      "Train, epoch: [0][  0/280]\tLoss 3.7007e-01 (6.9963e-01)\tAccuracy 0.896 (0.792)\n"
     ]
    },
    {
     "name": "stderr",
     "output_type": "stream",
     "text": [
      "\r",
      " 39%|███████████████████████████████▍                                                | 110/280 [32:03<49:35, 17.51s/it]"
     ]
    },
    {
     "name": "stdout",
     "output_type": "stream",
     "text": [
      "Train, epoch: [0][  0/280]\tLoss 3.9219e-01 (6.9683e-01)\tAccuracy 0.875 (0.792)\n"
     ]
    },
    {
     "name": "stderr",
     "output_type": "stream",
     "text": [
      "\r",
      " 40%|███████████████████████████████▋                                                | 111/280 [32:21<49:07, 17.44s/it]"
     ]
    },
    {
     "name": "stdout",
     "output_type": "stream",
     "text": [
      "Train, epoch: [0][  0/280]\tLoss 4.8766e-01 (6.9495e-01)\tAccuracy 0.861 (0.793)\n"
     ]
    },
    {
     "name": "stderr",
     "output_type": "stream",
     "text": [
      "\r",
      " 40%|████████████████████████████████                                                | 112/280 [32:38<48:51, 17.45s/it]"
     ]
    },
    {
     "name": "stdout",
     "output_type": "stream",
     "text": [
      "Train, epoch: [0][  0/280]\tLoss 4.3658e-01 (6.9264e-01)\tAccuracy 0.867 (0.794)\n"
     ]
    },
    {
     "name": "stderr",
     "output_type": "stream",
     "text": [
      "\r",
      " 40%|████████████████████████████████▎                                               | 113/280 [32:56<48:42, 17.50s/it]"
     ]
    },
    {
     "name": "stdout",
     "output_type": "stream",
     "text": [
      "Train, epoch: [0][  0/280]\tLoss 6.2476e-01 (6.9204e-01)\tAccuracy 0.835 (0.794)\n"
     ]
    },
    {
     "name": "stderr",
     "output_type": "stream",
     "text": [
      "\r",
      " 41%|████████████████████████████████▌                                               | 114/280 [33:13<48:27, 17.51s/it]"
     ]
    },
    {
     "name": "stdout",
     "output_type": "stream",
     "text": [
      "Train, epoch: [0][  0/280]\tLoss 4.4351e-01 (6.8986e-01)\tAccuracy 0.868 (0.795)\n"
     ]
    },
    {
     "name": "stderr",
     "output_type": "stream",
     "text": [
      "\r",
      " 41%|████████████████████████████████▊                                               | 115/280 [33:31<48:08, 17.50s/it]"
     ]
    },
    {
     "name": "stdout",
     "output_type": "stream",
     "text": [
      "Train, epoch: [0][  0/280]\tLoss 3.9228e-01 (6.8727e-01)\tAccuracy 0.884 (0.796)\n"
     ]
    },
    {
     "name": "stderr",
     "output_type": "stream",
     "text": [
      "\r",
      " 41%|█████████████████████████████████▏                                              | 116/280 [33:48<47:43, 17.46s/it]"
     ]
    },
    {
     "name": "stdout",
     "output_type": "stream",
     "text": [
      "Train, epoch: [0][  0/280]\tLoss 4.8468e-01 (6.8552e-01)\tAccuracy 0.838 (0.796)\n"
     ]
    },
    {
     "name": "stderr",
     "output_type": "stream",
     "text": [
      "\r",
      " 42%|█████████████████████████████████▍                                              | 117/280 [34:06<47:30, 17.49s/it]"
     ]
    },
    {
     "name": "stdout",
     "output_type": "stream",
     "text": [
      "Train, epoch: [0][  0/280]\tLoss 4.9307e-01 (6.8388e-01)\tAccuracy 0.839 (0.796)\n"
     ]
    },
    {
     "name": "stderr",
     "output_type": "stream",
     "text": [
      "\r",
      " 42%|█████████████████████████████████▋                                              | 118/280 [34:23<47:15, 17.50s/it]"
     ]
    },
    {
     "name": "stdout",
     "output_type": "stream",
     "text": [
      "Train, epoch: [0][  0/280]\tLoss 3.5253e-01 (6.8107e-01)\tAccuracy 0.895 (0.797)\n"
     ]
    },
    {
     "name": "stderr",
     "output_type": "stream",
     "text": [
      "\r",
      " 42%|██████████████████████████████████                                              | 119/280 [34:41<46:46, 17.43s/it]"
     ]
    },
    {
     "name": "stdout",
     "output_type": "stream",
     "text": [
      "Train, epoch: [0][  0/280]\tLoss 3.2125e-01 (6.7805e-01)\tAccuracy 0.909 (0.798)\n"
     ]
    },
    {
     "name": "stderr",
     "output_type": "stream",
     "text": [
      "\r",
      " 43%|██████████████████████████████████▎                                             | 120/280 [34:58<46:30, 17.44s/it]"
     ]
    },
    {
     "name": "stdout",
     "output_type": "stream",
     "text": [
      "Train, epoch: [0][  0/280]\tLoss 4.2200e-01 (6.7591e-01)\tAccuracy 0.859 (0.799)\n"
     ]
    },
    {
     "name": "stderr",
     "output_type": "stream",
     "text": [
      "\r",
      " 43%|██████████████████████████████████▌                                             | 121/280 [35:16<46:20, 17.49s/it]"
     ]
    },
    {
     "name": "stdout",
     "output_type": "stream",
     "text": [
      "Train, epoch: [0][  0/280]\tLoss 4.2464e-01 (6.7384e-01)\tAccuracy 0.856 (0.799)\n"
     ]
    },
    {
     "name": "stderr",
     "output_type": "stream",
     "text": [
      "\r",
      " 44%|██████████████████████████████████▊                                             | 122/280 [35:33<46:06, 17.51s/it]"
     ]
    },
    {
     "name": "stdout",
     "output_type": "stream",
     "text": [
      "Train, epoch: [0][  0/280]\tLoss 3.8688e-01 (6.7149e-01)\tAccuracy 0.883 (0.800)\n"
     ]
    },
    {
     "name": "stderr",
     "output_type": "stream",
     "text": [
      "\r",
      " 44%|███████████████████████████████████▏                                            | 123/280 [35:51<45:48, 17.51s/it]"
     ]
    },
    {
     "name": "stdout",
     "output_type": "stream",
     "text": [
      "Train, epoch: [0][  0/280]\tLoss 4.9376e-01 (6.7004e-01)\tAccuracy 0.842 (0.800)\n"
     ]
    },
    {
     "name": "stderr",
     "output_type": "stream",
     "text": [
      "\r",
      " 44%|███████████████████████████████████▍                                            | 124/280 [36:08<45:27, 17.48s/it]"
     ]
    },
    {
     "name": "stdout",
     "output_type": "stream",
     "text": [
      "Train, epoch: [0][  0/280]\tLoss 2.9646e-01 (6.6703e-01)\tAccuracy 0.917 (0.801)\n"
     ]
    },
    {
     "name": "stderr",
     "output_type": "stream",
     "text": [
      "\r",
      " 45%|███████████████████████████████████▋                                            | 125/280 [36:26<45:23, 17.57s/it]"
     ]
    },
    {
     "name": "stdout",
     "output_type": "stream",
     "text": [
      "Train, epoch: [0][  0/280]\tLoss 5.0892e-01 (6.6576e-01)\tAccuracy 0.841 (0.801)\n"
     ]
    },
    {
     "name": "stderr",
     "output_type": "stream",
     "text": [
      "\r",
      " 45%|████████████████████████████████████                                            | 126/280 [36:43<45:04, 17.56s/it]"
     ]
    },
    {
     "name": "stdout",
     "output_type": "stream",
     "text": [
      "Train, epoch: [0][  0/280]\tLoss 4.4909e-01 (6.6404e-01)\tAccuracy 0.861 (0.802)\n"
     ]
    },
    {
     "name": "stderr",
     "output_type": "stream",
     "text": [
      "\r",
      " 45%|████████████████████████████████████▎                                           | 127/280 [37:01<44:41, 17.52s/it]"
     ]
    },
    {
     "name": "stdout",
     "output_type": "stream",
     "text": [
      "Train, epoch: [0][  0/280]\tLoss 3.2881e-01 (6.6140e-01)\tAccuracy 0.896 (0.803)\n"
     ]
    },
    {
     "name": "stderr",
     "output_type": "stream",
     "text": [
      "\r",
      " 46%|████████████████████████████████████▌                                           | 128/280 [37:18<44:21, 17.51s/it]"
     ]
    },
    {
     "name": "stdout",
     "output_type": "stream",
     "text": [
      "Train, epoch: [0][  0/280]\tLoss 5.4057e-01 (6.6046e-01)\tAccuracy 0.846 (0.803)\n"
     ]
    },
    {
     "name": "stderr",
     "output_type": "stream",
     "text": [
      "\r",
      " 46%|████████████████████████████████████▊                                           | 129/280 [37:36<44:03, 17.51s/it]"
     ]
    },
    {
     "name": "stdout",
     "output_type": "stream",
     "text": [
      "Train, epoch: [0][  0/280]\tLoss 4.6571e-01 (6.5895e-01)\tAccuracy 0.861 (0.803)\n"
     ]
    },
    {
     "name": "stderr",
     "output_type": "stream",
     "text": [
      "\r",
      " 46%|█████████████████████████████████████▏                                          | 130/280 [37:53<43:36, 17.44s/it]"
     ]
    },
    {
     "name": "stdout",
     "output_type": "stream",
     "text": [
      "Train, epoch: [0][  0/280]\tLoss 3.1906e-01 (6.5634e-01)\tAccuracy 0.910 (0.804)\n"
     ]
    },
    {
     "name": "stderr",
     "output_type": "stream",
     "text": [
      "\r",
      " 47%|█████████████████████████████████████▍                                          | 131/280 [38:11<43:23, 17.47s/it]"
     ]
    },
    {
     "name": "stdout",
     "output_type": "stream",
     "text": [
      "Train, epoch: [0][  0/280]\tLoss 3.7024e-01 (6.5415e-01)\tAccuracy 0.886 (0.805)\n"
     ]
    },
    {
     "name": "stderr",
     "output_type": "stream",
     "text": [
      "\r",
      " 47%|█████████████████████████████████████▋                                          | 132/280 [38:28<43:13, 17.53s/it]"
     ]
    },
    {
     "name": "stdout",
     "output_type": "stream",
     "text": [
      "Train, epoch: [0][  0/280]\tLoss 5.4692e-01 (6.5334e-01)\tAccuracy 0.838 (0.805)\n"
     ]
    },
    {
     "name": "stderr",
     "output_type": "stream",
     "text": [
      "\r",
      " 48%|██████████████████████████████████████                                          | 133/280 [38:46<42:47, 17.47s/it]"
     ]
    },
    {
     "name": "stdout",
     "output_type": "stream",
     "text": [
      "Train, epoch: [0][  0/280]\tLoss 3.2146e-01 (6.5084e-01)\tAccuracy 0.903 (0.806)\n"
     ]
    },
    {
     "name": "stderr",
     "output_type": "stream",
     "text": [
      "\r",
      " 48%|██████████████████████████████████████▎                                         | 134/280 [39:03<42:28, 17.46s/it]"
     ]
    },
    {
     "name": "stdout",
     "output_type": "stream",
     "text": [
      "Train, epoch: [0][  0/280]\tLoss 4.9070e-01 (6.4965e-01)\tAccuracy 0.867 (0.806)\n"
     ]
    },
    {
     "name": "stderr",
     "output_type": "stream",
     "text": [
      "\r",
      " 48%|██████████████████████████████████████▌                                         | 135/280 [39:20<42:08, 17.44s/it]"
     ]
    },
    {
     "name": "stdout",
     "output_type": "stream",
     "text": [
      "Train, epoch: [0][  0/280]\tLoss 2.7641e-01 (6.4688e-01)\tAccuracy 0.918 (0.807)\n"
     ]
    },
    {
     "name": "stderr",
     "output_type": "stream",
     "text": [
      "\r",
      " 49%|██████████████████████████████████████▊                                         | 136/280 [39:38<41:53, 17.46s/it]"
     ]
    },
    {
     "name": "stdout",
     "output_type": "stream",
     "text": [
      "Train, epoch: [0][  0/280]\tLoss 3.0435e-01 (6.4437e-01)\tAccuracy 0.897 (0.808)\n"
     ]
    },
    {
     "name": "stderr",
     "output_type": "stream",
     "text": [
      "\r",
      " 49%|███████████████████████████████████████▏                                        | 137/280 [39:55<41:35, 17.45s/it]"
     ]
    },
    {
     "name": "stdout",
     "output_type": "stream",
     "text": [
      "Train, epoch: [0][  0/280]\tLoss 4.0502e-01 (6.4262e-01)\tAccuracy 0.862 (0.808)\n"
     ]
    },
    {
     "name": "stderr",
     "output_type": "stream",
     "text": [
      "\r",
      " 49%|███████████████████████████████████████▍                                        | 138/280 [40:13<41:18, 17.46s/it]"
     ]
    },
    {
     "name": "stdout",
     "output_type": "stream",
     "text": [
      "Train, epoch: [0][  0/280]\tLoss 3.4344e-01 (6.4045e-01)\tAccuracy 0.895 (0.809)\n"
     ]
    },
    {
     "name": "stderr",
     "output_type": "stream",
     "text": [
      "\r",
      " 50%|███████████████████████████████████████▋                                        | 139/280 [40:30<41:05, 17.48s/it]"
     ]
    },
    {
     "name": "stdout",
     "output_type": "stream",
     "text": [
      "Train, epoch: [0][  0/280]\tLoss 6.7610e-01 (6.4071e-01)\tAccuracy 0.769 (0.808)\n"
     ]
    },
    {
     "name": "stderr",
     "output_type": "stream",
     "text": [
      "\r",
      " 50%|████████████████████████████████████████                                        | 140/280 [40:48<40:49, 17.50s/it]"
     ]
    },
    {
     "name": "stdout",
     "output_type": "stream",
     "text": [
      "Train, epoch: [0][  0/280]\tLoss 4.0431e-01 (6.3902e-01)\tAccuracy 0.871 (0.809)\n"
     ]
    },
    {
     "name": "stderr",
     "output_type": "stream",
     "text": [
      "\r",
      " 50%|████████████████████████████████████████▎                                       | 141/280 [41:05<40:30, 17.49s/it]"
     ]
    },
    {
     "name": "stdout",
     "output_type": "stream",
     "text": [
      "Train, epoch: [0][  0/280]\tLoss 6.9879e-01 (6.3944e-01)\tAccuracy 0.782 (0.809)\n"
     ]
    },
    {
     "name": "stderr",
     "output_type": "stream",
     "text": [
      "\r",
      " 51%|████████████████████████████████████████▌                                       | 142/280 [41:23<40:12, 17.48s/it]"
     ]
    },
    {
     "name": "stdout",
     "output_type": "stream",
     "text": [
      "Train, epoch: [0][  0/280]\tLoss 3.4475e-01 (6.3737e-01)\tAccuracy 0.889 (0.809)\n"
     ]
    },
    {
     "name": "stderr",
     "output_type": "stream",
     "text": [
      "\r",
      " 51%|████████████████████████████████████████▊                                       | 143/280 [41:40<39:59, 17.51s/it]"
     ]
    },
    {
     "name": "stdout",
     "output_type": "stream",
     "text": [
      "Train, epoch: [0][  0/280]\tLoss 4.8421e-01 (6.3630e-01)\tAccuracy 0.853 (0.810)\n"
     ]
    },
    {
     "name": "stderr",
     "output_type": "stream",
     "text": [
      "\r",
      " 51%|█████████████████████████████████████████▏                                      | 144/280 [41:58<39:50, 17.57s/it]"
     ]
    },
    {
     "name": "stdout",
     "output_type": "stream",
     "text": [
      "Train, epoch: [0][  0/280]\tLoss 2.9300e-01 (6.3391e-01)\tAccuracy 0.918 (0.810)\n"
     ]
    },
    {
     "name": "stderr",
     "output_type": "stream",
     "text": [
      "\r",
      " 52%|█████████████████████████████████████████▍                                      | 145/280 [42:16<39:32, 17.57s/it]"
     ]
    },
    {
     "name": "stdout",
     "output_type": "stream",
     "text": [
      "Train, epoch: [0][  0/280]\tLoss 4.5621e-01 (6.3269e-01)\tAccuracy 0.862 (0.811)\n"
     ]
    },
    {
     "name": "stderr",
     "output_type": "stream",
     "text": [
      "\r",
      " 52%|█████████████████████████████████████████▋                                      | 146/280 [42:33<39:18, 17.60s/it]"
     ]
    },
    {
     "name": "stdout",
     "output_type": "stream",
     "text": [
      "Train, epoch: [0][  0/280]\tLoss 2.9048e-01 (6.3034e-01)\tAccuracy 0.919 (0.811)\n"
     ]
    },
    {
     "name": "stderr",
     "output_type": "stream",
     "text": [
      "\r",
      " 52%|██████████████████████████████████████████                                      | 147/280 [42:51<38:48, 17.51s/it]"
     ]
    },
    {
     "name": "stdout",
     "output_type": "stream",
     "text": [
      "Train, epoch: [0][  0/280]\tLoss 4.3113e-01 (6.2899e-01)\tAccuracy 0.861 (0.812)\n"
     ]
    },
    {
     "name": "stderr",
     "output_type": "stream",
     "text": [
      "\r",
      " 53%|██████████████████████████████████████████▎                                     | 148/280 [43:08<38:36, 17.55s/it]"
     ]
    },
    {
     "name": "stdout",
     "output_type": "stream",
     "text": [
      "Train, epoch: [0][  0/280]\tLoss 4.4884e-01 (6.2777e-01)\tAccuracy 0.852 (0.812)\n"
     ]
    },
    {
     "name": "stderr",
     "output_type": "stream",
     "text": [
      "\r",
      " 53%|██████████████████████████████████████████▌                                     | 149/280 [43:26<38:19, 17.56s/it]"
     ]
    },
    {
     "name": "stdout",
     "output_type": "stream",
     "text": [
      "Train, epoch: [0][  0/280]\tLoss 4.2247e-01 (6.2639e-01)\tAccuracy 0.875 (0.812)\n"
     ]
    },
    {
     "name": "stderr",
     "output_type": "stream",
     "text": [
      "\r",
      " 54%|██████████████████████████████████████████▊                                     | 150/280 [43:44<38:03, 17.56s/it]"
     ]
    },
    {
     "name": "stdout",
     "output_type": "stream",
     "text": [
      "Train, epoch: [0][  0/280]\tLoss 3.1005e-01 (6.2428e-01)\tAccuracy 0.910 (0.813)\n"
     ]
    },
    {
     "name": "stderr",
     "output_type": "stream",
     "text": [
      "\r",
      " 54%|███████████████████████████████████████████▏                                    | 151/280 [44:01<37:37, 17.50s/it]"
     ]
    },
    {
     "name": "stdout",
     "output_type": "stream",
     "text": [
      "Train, epoch: [0][  0/280]\tLoss 3.9069e-01 (6.2274e-01)\tAccuracy 0.910 (0.814)\n"
     ]
    },
    {
     "name": "stderr",
     "output_type": "stream",
     "text": [
      "\r",
      " 54%|███████████████████████████████████████████▍                                    | 152/280 [44:18<37:24, 17.53s/it]"
     ]
    },
    {
     "name": "stdout",
     "output_type": "stream",
     "text": [
      "Train, epoch: [0][  0/280]\tLoss 2.6743e-01 (6.2040e-01)\tAccuracy 0.918 (0.814)\n"
     ]
    },
    {
     "name": "stderr",
     "output_type": "stream",
     "text": [
      "\r",
      " 55%|███████████████████████████████████████████▋                                    | 153/280 [44:36<37:01, 17.49s/it]"
     ]
    },
    {
     "name": "stdout",
     "output_type": "stream",
     "text": [
      "Train, epoch: [0][  0/280]\tLoss 4.5461e-01 (6.1931e-01)\tAccuracy 0.859 (0.815)\n"
     ]
    },
    {
     "name": "stderr",
     "output_type": "stream",
     "text": [
      "\r",
      " 55%|████████████████████████████████████████████                                    | 154/280 [44:53<36:42, 17.48s/it]"
     ]
    },
    {
     "name": "stdout",
     "output_type": "stream",
     "text": [
      "Train, epoch: [0][  0/280]\tLoss 3.2683e-01 (6.1742e-01)\tAccuracy 0.895 (0.815)\n"
     ]
    },
    {
     "name": "stderr",
     "output_type": "stream",
     "text": [
      "\r",
      " 55%|████████████████████████████████████████████▎                                   | 155/280 [45:11<36:21, 17.45s/it]"
     ]
    },
    {
     "name": "stdout",
     "output_type": "stream",
     "text": [
      "Train, epoch: [0][  0/280]\tLoss 6.1774e-01 (6.1742e-01)\tAccuracy 0.812 (0.815)\n"
     ]
    },
    {
     "name": "stderr",
     "output_type": "stream",
     "text": [
      "\r",
      " 56%|████████████████████████████████████████████▌                                   | 156/280 [45:28<36:03, 17.45s/it]"
     ]
    },
    {
     "name": "stdout",
     "output_type": "stream",
     "text": [
      "Train, epoch: [0][  0/280]\tLoss 4.7670e-01 (6.1652e-01)\tAccuracy 0.859 (0.816)\n"
     ]
    },
    {
     "name": "stderr",
     "output_type": "stream",
     "text": [
      "\r",
      " 56%|████████████████████████████████████████████▊                                   | 157/280 [45:46<35:45, 17.44s/it]"
     ]
    },
    {
     "name": "stdout",
     "output_type": "stream",
     "text": [
      "Train, epoch: [0][  0/280]\tLoss 4.8142e-01 (6.1566e-01)\tAccuracy 0.862 (0.816)\n"
     ]
    },
    {
     "name": "stderr",
     "output_type": "stream",
     "text": [
      "\r",
      " 56%|█████████████████████████████████████████████▏                                  | 158/280 [46:03<35:27, 17.44s/it]"
     ]
    },
    {
     "name": "stdout",
     "output_type": "stream",
     "text": [
      "Train, epoch: [0][  0/280]\tLoss 7.8783e-01 (6.1674e-01)\tAccuracy 0.771 (0.816)\n"
     ]
    },
    {
     "name": "stderr",
     "output_type": "stream",
     "text": [
      "\r",
      " 57%|█████████████████████████████████████████████▍                                  | 159/280 [46:20<35:05, 17.40s/it]"
     ]
    },
    {
     "name": "stdout",
     "output_type": "stream",
     "text": [
      "Train, epoch: [0][  0/280]\tLoss 3.0857e-01 (6.1481e-01)\tAccuracy 0.901 (0.816)\n"
     ]
    },
    {
     "name": "stderr",
     "output_type": "stream",
     "text": [
      "\r",
      " 57%|█████████████████████████████████████████████▋                                  | 160/280 [46:38<34:44, 17.37s/it]"
     ]
    },
    {
     "name": "stdout",
     "output_type": "stream",
     "text": [
      "Train, epoch: [0][  0/280]\tLoss 3.4077e-01 (6.1309e-01)\tAccuracy 0.888 (0.817)\n"
     ]
    },
    {
     "name": "stderr",
     "output_type": "stream",
     "text": [
      "\r",
      " 57%|██████████████████████████████████████████████                                  | 161/280 [46:55<34:40, 17.48s/it]"
     ]
    },
    {
     "name": "stdout",
     "output_type": "stream",
     "text": [
      "Train, epoch: [0][  0/280]\tLoss 2.9493e-01 (6.1112e-01)\tAccuracy 0.909 (0.817)\n"
     ]
    },
    {
     "name": "stderr",
     "output_type": "stream",
     "text": [
      "\r",
      " 58%|██████████████████████████████████████████████▎                                 | 162/280 [47:13<34:24, 17.49s/it]"
     ]
    },
    {
     "name": "stdout",
     "output_type": "stream",
     "text": [
      "Train, epoch: [0][  0/280]\tLoss 4.5167e-01 (6.1013e-01)\tAccuracy 0.858 (0.817)\n"
     ]
    },
    {
     "name": "stderr",
     "output_type": "stream",
     "text": [
      "\r",
      " 58%|██████████████████████████████████████████████▌                                 | 163/280 [47:31<34:12, 17.54s/it]"
     ]
    },
    {
     "name": "stdout",
     "output_type": "stream",
     "text": [
      "Train, epoch: [0][  0/280]\tLoss 3.2984e-01 (6.0841e-01)\tAccuracy 0.898 (0.818)\n"
     ]
    },
    {
     "name": "stderr",
     "output_type": "stream",
     "text": [
      "\r",
      " 59%|██████████████████████████████████████████████▊                                 | 164/280 [47:48<33:50, 17.51s/it]"
     ]
    },
    {
     "name": "stdout",
     "output_type": "stream",
     "text": [
      "Train, epoch: [0][  0/280]\tLoss 3.5553e-01 (6.0687e-01)\tAccuracy 0.877 (0.818)\n"
     ]
    },
    {
     "name": "stderr",
     "output_type": "stream",
     "text": [
      "\r",
      " 59%|███████████████████████████████████████████████▏                                | 165/280 [48:06<33:36, 17.53s/it]"
     ]
    },
    {
     "name": "stdout",
     "output_type": "stream",
     "text": [
      "Train, epoch: [0][  0/280]\tLoss 4.0854e-01 (6.0567e-01)\tAccuracy 0.873 (0.819)\n"
     ]
    },
    {
     "name": "stderr",
     "output_type": "stream",
     "text": [
      "\r",
      " 59%|███████████████████████████████████████████████▍                                | 166/280 [48:23<33:16, 17.52s/it]"
     ]
    },
    {
     "name": "stdout",
     "output_type": "stream",
     "text": [
      "Train, epoch: [0][  0/280]\tLoss 4.6905e-01 (6.0485e-01)\tAccuracy 0.856 (0.819)\n"
     ]
    },
    {
     "name": "stderr",
     "output_type": "stream",
     "text": [
      "\r",
      " 60%|███████████████████████████████████████████████▋                                | 167/280 [48:41<32:58, 17.51s/it]"
     ]
    },
    {
     "name": "stdout",
     "output_type": "stream",
     "text": [
      "Train, epoch: [0][  0/280]\tLoss 5.1891e-01 (6.0433e-01)\tAccuracy 0.840 (0.819)\n"
     ]
    },
    {
     "name": "stderr",
     "output_type": "stream",
     "text": [
      "\r",
      " 60%|████████████████████████████████████████████████                                | 168/280 [48:58<32:40, 17.50s/it]"
     ]
    },
    {
     "name": "stdout",
     "output_type": "stream",
     "text": [
      "Train, epoch: [0][  0/280]\tLoss 3.4005e-01 (6.0276e-01)\tAccuracy 0.903 (0.819)\n"
     ]
    },
    {
     "name": "stderr",
     "output_type": "stream",
     "text": [
      "\r",
      " 60%|████████████████████████████████████████████████▎                               | 169/280 [49:15<32:20, 17.48s/it]"
     ]
    },
    {
     "name": "stdout",
     "output_type": "stream",
     "text": [
      "Train, epoch: [0][  0/280]\tLoss 2.9788e-01 (6.0096e-01)\tAccuracy 0.912 (0.820)\n"
     ]
    },
    {
     "name": "stderr",
     "output_type": "stream",
     "text": [
      "\r",
      " 61%|████████████████████████████████████████████████▌                               | 170/280 [49:33<32:04, 17.50s/it]"
     ]
    },
    {
     "name": "stdout",
     "output_type": "stream",
     "text": [
      "Train, epoch: [0][  0/280]\tLoss 4.7001e-01 (6.0019e-01)\tAccuracy 0.853 (0.820)\n"
     ]
    },
    {
     "name": "stderr",
     "output_type": "stream",
     "text": [
      "\r",
      " 61%|████████████████████████████████████████████████▊                               | 171/280 [49:50<31:46, 17.49s/it]"
     ]
    },
    {
     "name": "stdout",
     "output_type": "stream",
     "text": [
      "Train, epoch: [0][  0/280]\tLoss 3.3027e-01 (5.9861e-01)\tAccuracy 0.898 (0.821)\n"
     ]
    },
    {
     "name": "stderr",
     "output_type": "stream",
     "text": [
      "\r",
      " 61%|█████████████████████████████████████████████████▏                              | 172/280 [50:08<31:23, 17.44s/it]"
     ]
    },
    {
     "name": "stdout",
     "output_type": "stream",
     "text": [
      "Train, epoch: [0][  0/280]\tLoss 3.5363e-01 (5.9718e-01)\tAccuracy 0.896 (0.821)\n"
     ]
    },
    {
     "name": "stderr",
     "output_type": "stream",
     "text": [
      "\r",
      " 62%|█████████████████████████████████████████████████▍                              | 173/280 [50:25<31:04, 17.43s/it]"
     ]
    },
    {
     "name": "stdout",
     "output_type": "stream",
     "text": [
      "Train, epoch: [0][  0/280]\tLoss 3.1145e-01 (5.9553e-01)\tAccuracy 0.904 (0.822)\n"
     ]
    },
    {
     "name": "stderr",
     "output_type": "stream",
     "text": [
      "\r",
      " 62%|█████████████████████████████████████████████████▋                              | 174/280 [50:43<30:49, 17.45s/it]"
     ]
    },
    {
     "name": "stdout",
     "output_type": "stream",
     "text": [
      "Train, epoch: [0][  0/280]\tLoss 3.1360e-01 (5.9391e-01)\tAccuracy 0.908 (0.822)\n"
     ]
    },
    {
     "name": "stderr",
     "output_type": "stream",
     "text": [
      "\r",
      " 62%|██████████████████████████████████████████████████                              | 175/280 [51:00<30:33, 17.47s/it]"
     ]
    },
    {
     "name": "stdout",
     "output_type": "stream",
     "text": [
      "Train, epoch: [0][  0/280]\tLoss 3.7994e-01 (5.9269e-01)\tAccuracy 0.880 (0.822)\n"
     ]
    },
    {
     "name": "stderr",
     "output_type": "stream",
     "text": [
      "\r",
      " 63%|██████████████████████████████████████████████████▎                             | 176/280 [51:17<30:12, 17.42s/it]"
     ]
    },
    {
     "name": "stdout",
     "output_type": "stream",
     "text": [
      "Train, epoch: [0][  0/280]\tLoss 4.5453e-01 (5.9190e-01)\tAccuracy 0.850 (0.822)\n"
     ]
    },
    {
     "name": "stderr",
     "output_type": "stream",
     "text": [
      "\r",
      " 63%|██████████████████████████████████████████████████▌                             | 177/280 [51:35<29:59, 17.47s/it]"
     ]
    },
    {
     "name": "stdout",
     "output_type": "stream",
     "text": [
      "Train, epoch: [0][  0/280]\tLoss 3.1182e-01 (5.9032e-01)\tAccuracy 0.899 (0.823)\n"
     ]
    },
    {
     "name": "stderr",
     "output_type": "stream",
     "text": [
      "\r",
      " 64%|██████████████████████████████████████████████████▊                             | 178/280 [51:53<29:41, 17.47s/it]"
     ]
    },
    {
     "name": "stdout",
     "output_type": "stream",
     "text": [
      "Train, epoch: [0][  0/280]\tLoss 6.2013e-01 (5.9049e-01)\tAccuracy 0.826 (0.823)\n"
     ]
    },
    {
     "name": "stderr",
     "output_type": "stream",
     "text": [
      "\r",
      " 64%|███████████████████████████████████████████████████▏                            | 179/280 [52:10<29:19, 17.42s/it]"
     ]
    },
    {
     "name": "stdout",
     "output_type": "stream",
     "text": [
      "Train, epoch: [0][  0/280]\tLoss 2.9789e-01 (5.8885e-01)\tAccuracy 0.906 (0.823)\n"
     ]
    },
    {
     "name": "stderr",
     "output_type": "stream",
     "text": [
      "\r",
      " 64%|███████████████████████████████████████████████████▍                            | 180/280 [52:27<29:05, 17.46s/it]"
     ]
    },
    {
     "name": "stdout",
     "output_type": "stream",
     "text": [
      "Train, epoch: [0][  0/280]\tLoss 5.1021e-01 (5.8842e-01)\tAccuracy 0.837 (0.823)\n"
     ]
    },
    {
     "name": "stderr",
     "output_type": "stream",
     "text": [
      "\r",
      " 65%|███████████████████████████████████████████████████▋                            | 181/280 [52:45<28:53, 17.51s/it]"
     ]
    },
    {
     "name": "stdout",
     "output_type": "stream",
     "text": [
      "Train, epoch: [0][  0/280]\tLoss 3.7590e-01 (5.8724e-01)\tAccuracy 0.878 (0.824)\n"
     ]
    },
    {
     "name": "stderr",
     "output_type": "stream",
     "text": [
      "\r",
      " 65%|████████████████████████████████████████████████████                            | 182/280 [53:03<28:35, 17.51s/it]"
     ]
    },
    {
     "name": "stdout",
     "output_type": "stream",
     "text": [
      "Train, epoch: [0][  0/280]\tLoss 4.2724e-01 (5.8636e-01)\tAccuracy 0.862 (0.824)\n"
     ]
    },
    {
     "name": "stderr",
     "output_type": "stream",
     "text": [
      "\r",
      " 65%|████████████████████████████████████████████████████▎                           | 183/280 [53:20<28:22, 17.56s/it]"
     ]
    },
    {
     "name": "stdout",
     "output_type": "stream",
     "text": [
      "Train, epoch: [0][  0/280]\tLoss 6.5137e-01 (5.8672e-01)\tAccuracy 0.781 (0.824)\n"
     ]
    },
    {
     "name": "stderr",
     "output_type": "stream",
     "text": [
      "\r",
      " 66%|████████████████████████████████████████████████████▌                           | 184/280 [53:38<28:06, 17.57s/it]"
     ]
    },
    {
     "name": "stdout",
     "output_type": "stream",
     "text": [
      "Train, epoch: [0][  0/280]\tLoss 3.0438e-01 (5.8518e-01)\tAccuracy 0.900 (0.824)\n"
     ]
    },
    {
     "name": "stderr",
     "output_type": "stream",
     "text": [
      "\r",
      " 66%|████████████████████████████████████████████████████▊                           | 185/280 [53:55<27:46, 17.54s/it]"
     ]
    },
    {
     "name": "stdout",
     "output_type": "stream",
     "text": [
      "Train, epoch: [0][  0/280]\tLoss 3.4799e-01 (5.8390e-01)\tAccuracy 0.894 (0.825)\n"
     ]
    },
    {
     "name": "stderr",
     "output_type": "stream",
     "text": [
      "\r",
      " 66%|█████████████████████████████████████████████████████▏                          | 186/280 [54:13<27:22, 17.47s/it]"
     ]
    },
    {
     "name": "stdout",
     "output_type": "stream",
     "text": [
      "Train, epoch: [0][  0/280]\tLoss 5.8619e-01 (5.8391e-01)\tAccuracy 0.808 (0.824)\n"
     ]
    },
    {
     "name": "stderr",
     "output_type": "stream",
     "text": [
      "\r",
      " 67%|█████████████████████████████████████████████████████▍                          | 187/280 [54:30<27:10, 17.53s/it]"
     ]
    },
    {
     "name": "stdout",
     "output_type": "stream",
     "text": [
      "Train, epoch: [0][  0/280]\tLoss 3.7790e-01 (5.8281e-01)\tAccuracy 0.879 (0.825)\n"
     ]
    },
    {
     "name": "stderr",
     "output_type": "stream",
     "text": [
      "\r",
      " 67%|█████████████████████████████████████████████████████▋                          | 188/280 [54:48<26:49, 17.50s/it]"
     ]
    },
    {
     "name": "stdout",
     "output_type": "stream",
     "text": [
      "Train, epoch: [0][  0/280]\tLoss 5.4514e-01 (5.8261e-01)\tAccuracy 0.827 (0.825)\n"
     ]
    },
    {
     "name": "stderr",
     "output_type": "stream",
     "text": [
      "\r",
      " 68%|██████████████████████████████████████████████████████                          | 189/280 [55:05<26:30, 17.48s/it]"
     ]
    },
    {
     "name": "stdout",
     "output_type": "stream",
     "text": [
      "Train, epoch: [0][  0/280]\tLoss 5.9227e-01 (5.8266e-01)\tAccuracy 0.828 (0.825)\n"
     ]
    },
    {
     "name": "stderr",
     "output_type": "stream",
     "text": [
      "\r",
      " 68%|██████████████████████████████████████████████████████▎                         | 190/280 [55:22<26:10, 17.45s/it]"
     ]
    },
    {
     "name": "stdout",
     "output_type": "stream",
     "text": [
      "Train, epoch: [0][  0/280]\tLoss 3.6212e-01 (5.8150e-01)\tAccuracy 0.885 (0.825)\n"
     ]
    },
    {
     "name": "stderr",
     "output_type": "stream",
     "text": [
      "\r",
      " 68%|██████████████████████████████████████████████████████▌                         | 191/280 [55:40<25:52, 17.45s/it]"
     ]
    },
    {
     "name": "stdout",
     "output_type": "stream",
     "text": [
      "Train, epoch: [0][  0/280]\tLoss 3.6231e-01 (5.8035e-01)\tAccuracy 0.856 (0.825)\n"
     ]
    },
    {
     "name": "stderr",
     "output_type": "stream",
     "text": [
      "\r",
      " 69%|██████████████████████████████████████████████████████▊                         | 192/280 [55:57<25:34, 17.44s/it]"
     ]
    },
    {
     "name": "stdout",
     "output_type": "stream",
     "text": [
      "Train, epoch: [0][  0/280]\tLoss 2.9459e-01 (5.7887e-01)\tAccuracy 0.914 (0.826)\n"
     ]
    },
    {
     "name": "stderr",
     "output_type": "stream",
     "text": [
      "\r",
      " 69%|███████████████████████████████████████████████████████▏                        | 193/280 [56:15<25:14, 17.41s/it]"
     ]
    },
    {
     "name": "stdout",
     "output_type": "stream",
     "text": [
      "Train, epoch: [0][  0/280]\tLoss 3.1967e-01 (5.7752e-01)\tAccuracy 0.910 (0.826)\n"
     ]
    },
    {
     "name": "stderr",
     "output_type": "stream",
     "text": [
      "\r",
      " 69%|███████████████████████████████████████████████████████▍                        | 194/280 [56:32<25:02, 17.47s/it]"
     ]
    },
    {
     "name": "stdout",
     "output_type": "stream",
     "text": [
      "Train, epoch: [0][  0/280]\tLoss 3.2686e-01 (5.7623e-01)\tAccuracy 0.898 (0.827)\n"
     ]
    },
    {
     "name": "stderr",
     "output_type": "stream",
     "text": [
      "\r",
      " 70%|███████████████████████████████████████████████████████▋                        | 195/280 [56:50<24:46, 17.49s/it]"
     ]
    },
    {
     "name": "stdout",
     "output_type": "stream",
     "text": [
      "Train, epoch: [0][  0/280]\tLoss 4.0679e-01 (5.7536e-01)\tAccuracy 0.863 (0.827)\n"
     ]
    },
    {
     "name": "stderr",
     "output_type": "stream",
     "text": [
      "\r",
      " 70%|████████████████████████████████████████████████████████                        | 196/280 [57:07<24:31, 17.52s/it]"
     ]
    },
    {
     "name": "stdout",
     "output_type": "stream",
     "text": [
      "Train, epoch: [0][  0/280]\tLoss 6.7327e-01 (5.7586e-01)\tAccuracy 0.839 (0.827)\n"
     ]
    },
    {
     "name": "stderr",
     "output_type": "stream",
     "text": [
      "\r",
      " 70%|████████████████████████████████████████████████████████▎                       | 197/280 [57:25<24:10, 17.48s/it]"
     ]
    },
    {
     "name": "stdout",
     "output_type": "stream",
     "text": [
      "Train, epoch: [0][  0/280]\tLoss 3.7329e-01 (5.7483e-01)\tAccuracy 0.883 (0.827)\n"
     ]
    },
    {
     "name": "stderr",
     "output_type": "stream",
     "text": [
      "\r",
      " 71%|████████████████████████████████████████████████████████▌                       | 198/280 [57:42<23:55, 17.51s/it]"
     ]
    },
    {
     "name": "stdout",
     "output_type": "stream",
     "text": [
      "Train, epoch: [0][  0/280]\tLoss 2.5445e-01 (5.7322e-01)\tAccuracy 0.930 (0.828)\n"
     ]
    },
    {
     "name": "stderr",
     "output_type": "stream",
     "text": [
      "\r",
      " 71%|████████████████████████████████████████████████████████▊                       | 199/280 [58:00<23:35, 17.48s/it]"
     ]
    },
    {
     "name": "stdout",
     "output_type": "stream",
     "text": [
      "Train, epoch: [0][  0/280]\tLoss 3.7111e-01 (5.7220e-01)\tAccuracy 0.883 (0.828)\n"
     ]
    },
    {
     "name": "stderr",
     "output_type": "stream",
     "text": [
      "\r",
      " 71%|█████████████████████████████████████████████████████████▏                      | 200/280 [58:17<23:18, 17.48s/it]"
     ]
    },
    {
     "name": "stdout",
     "output_type": "stream",
     "text": [
      "Train, epoch: [0][  0/280]\tLoss 3.1144e-01 (5.7090e-01)\tAccuracy 0.912 (0.828)\n"
     ]
    },
    {
     "name": "stderr",
     "output_type": "stream",
     "text": [
      "\r",
      " 72%|█████████████████████████████████████████████████████████▍                      | 201/280 [58:35<23:07, 17.56s/it]"
     ]
    },
    {
     "name": "stdout",
     "output_type": "stream",
     "text": [
      "Train, epoch: [0][  0/280]\tLoss 4.0147e-01 (5.7005e-01)\tAccuracy 0.874 (0.829)\n"
     ]
    },
    {
     "name": "stderr",
     "output_type": "stream",
     "text": [
      "\r",
      " 72%|█████████████████████████████████████████████████████████▋                      | 202/280 [58:53<22:55, 17.63s/it]"
     ]
    },
    {
     "name": "stdout",
     "output_type": "stream",
     "text": [
      "Train, epoch: [0][  0/280]\tLoss 4.0938e-01 (5.6926e-01)\tAccuracy 0.866 (0.829)\n"
     ]
    },
    {
     "name": "stderr",
     "output_type": "stream",
     "text": [
      "\r",
      " 72%|██████████████████████████████████████████████████████████                      | 203/280 [59:10<22:34, 17.59s/it]"
     ]
    },
    {
     "name": "stdout",
     "output_type": "stream",
     "text": [
      "Train, epoch: [0][  0/280]\tLoss 3.3309e-01 (5.6809e-01)\tAccuracy 0.907 (0.829)\n"
     ]
    },
    {
     "name": "stderr",
     "output_type": "stream",
     "text": [
      "\r",
      " 73%|██████████████████████████████████████████████████████████▎                     | 204/280 [59:28<22:16, 17.58s/it]"
     ]
    },
    {
     "name": "stdout",
     "output_type": "stream",
     "text": [
      "Train, epoch: [0][  0/280]\tLoss 3.0341e-01 (5.6680e-01)\tAccuracy 0.908 (0.829)\n"
     ]
    },
    {
     "name": "stderr",
     "output_type": "stream",
     "text": [
      "\r",
      " 73%|██████████████████████████████████████████████████████████▌                     | 205/280 [59:46<22:01, 17.62s/it]"
     ]
    },
    {
     "name": "stdout",
     "output_type": "stream",
     "text": [
      "Train, epoch: [0][  0/280]\tLoss 3.4544e-01 (5.6572e-01)\tAccuracy 0.877 (0.830)\n"
     ]
    },
    {
     "name": "stderr",
     "output_type": "stream",
     "text": [
      "\r",
      " 74%|█████████████████████████████████████████████████████████▍                    | 206/280 [1:00:03<21:45, 17.64s/it]"
     ]
    },
    {
     "name": "stdout",
     "output_type": "stream",
     "text": [
      "Train, epoch: [0][  0/280]\tLoss 3.7392e-01 (5.6479e-01)\tAccuracy 0.878 (0.830)\n"
     ]
    },
    {
     "name": "stderr",
     "output_type": "stream",
     "text": [
      "\r",
      " 74%|█████████████████████████████████████████████████████████▋                    | 207/280 [1:00:21<21:25, 17.62s/it]"
     ]
    },
    {
     "name": "stdout",
     "output_type": "stream",
     "text": [
      "Train, epoch: [0][  0/280]\tLoss 5.0124e-01 (5.6448e-01)\tAccuracy 0.855 (0.830)\n"
     ]
    },
    {
     "name": "stderr",
     "output_type": "stream",
     "text": [
      "\r",
      " 74%|█████████████████████████████████████████████████████████▉                    | 208/280 [1:00:38<21:03, 17.55s/it]"
     ]
    },
    {
     "name": "stdout",
     "output_type": "stream",
     "text": [
      "Train, epoch: [0][  0/280]\tLoss 4.6870e-01 (5.6402e-01)\tAccuracy 0.831 (0.830)\n"
     ]
    },
    {
     "name": "stderr",
     "output_type": "stream",
     "text": [
      "\r",
      " 75%|██████████████████████████████████████████████████████████▏                   | 209/280 [1:00:56<20:43, 17.51s/it]"
     ]
    },
    {
     "name": "stdout",
     "output_type": "stream",
     "text": [
      "Train, epoch: [0][  0/280]\tLoss 2.7240e-01 (5.6262e-01)\tAccuracy 0.912 (0.830)\n"
     ]
    },
    {
     "name": "stderr",
     "output_type": "stream",
     "text": [
      "\r",
      " 75%|██████████████████████████████████████████████████████████▌                   | 210/280 [1:01:13<20:25, 17.51s/it]"
     ]
    },
    {
     "name": "stdout",
     "output_type": "stream",
     "text": [
      "Train, epoch: [0][  0/280]\tLoss 4.1661e-01 (5.6193e-01)\tAccuracy 0.889 (0.831)\n"
     ]
    },
    {
     "name": "stderr",
     "output_type": "stream",
     "text": [
      "\r",
      " 75%|██████████████████████████████████████████████████████████▊                   | 211/280 [1:01:31<20:10, 17.54s/it]"
     ]
    },
    {
     "name": "stdout",
     "output_type": "stream",
     "text": [
      "Train, epoch: [0][  0/280]\tLoss 6.3083e-01 (5.6225e-01)\tAccuracy 0.804 (0.831)\n"
     ]
    },
    {
     "name": "stderr",
     "output_type": "stream",
     "text": [
      "\r",
      " 76%|███████████████████████████████████████████████████████████                   | 212/280 [1:01:48<19:55, 17.59s/it]"
     ]
    },
    {
     "name": "stdout",
     "output_type": "stream",
     "text": [
      "Train, epoch: [0][  0/280]\tLoss 4.1662e-01 (5.6157e-01)\tAccuracy 0.865 (0.831)\n"
     ]
    },
    {
     "name": "stderr",
     "output_type": "stream",
     "text": [
      "\r",
      " 76%|███████████████████████████████████████████████████████████▎                  | 213/280 [1:02:06<19:33, 17.52s/it]"
     ]
    },
    {
     "name": "stdout",
     "output_type": "stream",
     "text": [
      "Train, epoch: [0][  0/280]\tLoss 2.4902e-01 (5.6010e-01)\tAccuracy 0.927 (0.831)\n"
     ]
    },
    {
     "name": "stderr",
     "output_type": "stream",
     "text": [
      "\r",
      " 76%|███████████████████████████████████████████████████████████▌                  | 214/280 [1:02:23<19:13, 17.48s/it]"
     ]
    },
    {
     "name": "stdout",
     "output_type": "stream",
     "text": [
      "Train, epoch: [0][  0/280]\tLoss 3.0267e-01 (5.5890e-01)\tAccuracy 0.909 (0.832)\n"
     ]
    },
    {
     "name": "stderr",
     "output_type": "stream",
     "text": [
      "\r",
      " 77%|███████████████████████████████████████████████████████████▉                  | 215/280 [1:02:41<18:58, 17.51s/it]"
     ]
    },
    {
     "name": "stdout",
     "output_type": "stream",
     "text": [
      "Train, epoch: [0][  0/280]\tLoss 3.0710e-01 (5.5773e-01)\tAccuracy 0.897 (0.832)\n"
     ]
    },
    {
     "name": "stderr",
     "output_type": "stream",
     "text": [
      "\r",
      " 77%|████████████████████████████████████████████████████████████▏                 | 216/280 [1:02:58<18:40, 17.51s/it]"
     ]
    },
    {
     "name": "stdout",
     "output_type": "stream",
     "text": [
      "Train, epoch: [0][  0/280]\tLoss 3.3680e-01 (5.5670e-01)\tAccuracy 0.893 (0.832)\n"
     ]
    },
    {
     "name": "stderr",
     "output_type": "stream",
     "text": [
      "\r",
      " 78%|████████████████████████████████████████████████████████████▍                 | 217/280 [1:03:16<18:23, 17.52s/it]"
     ]
    },
    {
     "name": "stdout",
     "output_type": "stream",
     "text": [
      "Train, epoch: [0][  0/280]\tLoss 3.2728e-01 (5.5565e-01)\tAccuracy 0.901 (0.832)\n"
     ]
    },
    {
     "name": "stderr",
     "output_type": "stream",
     "text": [
      "\r",
      " 78%|████████████████████████████████████████████████████████████▋                 | 218/280 [1:03:33<18:05, 17.51s/it]"
     ]
    },
    {
     "name": "stdout",
     "output_type": "stream",
     "text": [
      "Train, epoch: [0][  0/280]\tLoss 3.8276e-01 (5.5485e-01)\tAccuracy 0.868 (0.833)\n"
     ]
    },
    {
     "name": "stderr",
     "output_type": "stream",
     "text": [
      "\r",
      " 78%|█████████████████████████████████████████████████████████████                 | 219/280 [1:03:51<17:48, 17.51s/it]"
     ]
    },
    {
     "name": "stdout",
     "output_type": "stream",
     "text": [
      "Train, epoch: [0][  0/280]\tLoss 6.2679e-01 (5.5518e-01)\tAccuracy 0.793 (0.832)\n"
     ]
    },
    {
     "name": "stderr",
     "output_type": "stream",
     "text": [
      "\r",
      " 79%|█████████████████████████████████████████████████████████████▎                | 220/280 [1:04:08<17:30, 17.51s/it]"
     ]
    },
    {
     "name": "stdout",
     "output_type": "stream",
     "text": [
      "Train, epoch: [0][  0/280]\tLoss 2.2809e-01 (5.5369e-01)\tAccuracy 0.939 (0.833)\n"
     ]
    },
    {
     "name": "stderr",
     "output_type": "stream",
     "text": [
      "\r",
      " 79%|█████████████████████████████████████████████████████████████▌                | 221/280 [1:04:26<17:09, 17.46s/it]"
     ]
    },
    {
     "name": "stdout",
     "output_type": "stream",
     "text": [
      "Train, epoch: [0][  0/280]\tLoss 4.4649e-01 (5.5321e-01)\tAccuracy 0.849 (0.833)\n"
     ]
    },
    {
     "name": "stderr",
     "output_type": "stream",
     "text": [
      "\r",
      " 79%|█████████████████████████████████████████████████████████████▊                | 222/280 [1:04:43<16:54, 17.48s/it]"
     ]
    },
    {
     "name": "stdout",
     "output_type": "stream",
     "text": [
      "Train, epoch: [0][  0/280]\tLoss 3.7500e-01 (5.5241e-01)\tAccuracy 0.880 (0.833)\n"
     ]
    },
    {
     "name": "stderr",
     "output_type": "stream",
     "text": [
      "\r",
      " 80%|██████████████████████████████████████████████████████████████                | 223/280 [1:05:01<16:37, 17.50s/it]"
     ]
    },
    {
     "name": "stdout",
     "output_type": "stream",
     "text": [
      "Train, epoch: [0][  0/280]\tLoss 3.7452e-01 (5.5161e-01)\tAccuracy 0.875 (0.833)\n"
     ]
    },
    {
     "name": "stderr",
     "output_type": "stream",
     "text": [
      "\r",
      " 80%|██████████████████████████████████████████████████████████████▍               | 224/280 [1:05:18<16:17, 17.46s/it]"
     ]
    },
    {
     "name": "stdout",
     "output_type": "stream",
     "text": [
      "Train, epoch: [0][  0/280]\tLoss 2.3408e-01 (5.5019e-01)\tAccuracy 0.937 (0.834)\n"
     ]
    },
    {
     "name": "stderr",
     "output_type": "stream",
     "text": [
      "\r",
      " 80%|██████████████████████████████████████████████████████████████▋               | 225/280 [1:05:36<16:01, 17.48s/it]"
     ]
    },
    {
     "name": "stdout",
     "output_type": "stream",
     "text": [
      "Train, epoch: [0][  0/280]\tLoss 3.3029e-01 (5.4921e-01)\tAccuracy 0.912 (0.834)\n"
     ]
    },
    {
     "name": "stderr",
     "output_type": "stream",
     "text": [
      "\r",
      " 81%|██████████████████████████████████████████████████████████████▉               | 226/280 [1:05:53<15:41, 17.44s/it]"
     ]
    },
    {
     "name": "stdout",
     "output_type": "stream",
     "text": [
      "Train, epoch: [0][  0/280]\tLoss 2.8168e-01 (5.4803e-01)\tAccuracy 0.913 (0.835)\n"
     ]
    },
    {
     "name": "stderr",
     "output_type": "stream",
     "text": [
      "\r",
      " 81%|███████████████████████████████████████████████████████████████▏              | 227/280 [1:06:10<15:23, 17.42s/it]"
     ]
    },
    {
     "name": "stdout",
     "output_type": "stream",
     "text": [
      "Train, epoch: [0][  0/280]\tLoss 4.0536e-01 (5.4740e-01)\tAccuracy 0.867 (0.835)\n"
     ]
    },
    {
     "name": "stderr",
     "output_type": "stream",
     "text": [
      "\r",
      " 81%|███████████████████████████████████████████████████████████████▌              | 228/280 [1:06:28<15:03, 17.38s/it]"
     ]
    },
    {
     "name": "stdout",
     "output_type": "stream",
     "text": [
      "Train, epoch: [0][  0/280]\tLoss 3.1968e-01 (5.4640e-01)\tAccuracy 0.899 (0.835)\n"
     ]
    },
    {
     "name": "stderr",
     "output_type": "stream",
     "text": [
      "\r",
      " 82%|███████████████████████████████████████████████████████████████▊              | 229/280 [1:06:45<14:46, 17.37s/it]"
     ]
    },
    {
     "name": "stdout",
     "output_type": "stream",
     "text": [
      "Train, epoch: [0][  0/280]\tLoss 3.2489e-01 (5.4544e-01)\tAccuracy 0.896 (0.835)\n"
     ]
    },
    {
     "name": "stderr",
     "output_type": "stream",
     "text": [
      "\r",
      " 82%|████████████████████████████████████████████████████████████████              | 230/280 [1:07:03<14:30, 17.40s/it]"
     ]
    },
    {
     "name": "stdout",
     "output_type": "stream",
     "text": [
      "Train, epoch: [0][  0/280]\tLoss 3.9269e-01 (5.4477e-01)\tAccuracy 0.869 (0.835)\n"
     ]
    },
    {
     "name": "stderr",
     "output_type": "stream",
     "text": [
      "\r",
      " 82%|████████████████████████████████████████████████████████████████▎             | 231/280 [1:07:20<14:11, 17.38s/it]"
     ]
    },
    {
     "name": "stdout",
     "output_type": "stream",
     "text": [
      "Train, epoch: [0][  0/280]\tLoss 3.0518e-01 (5.4373e-01)\tAccuracy 0.901 (0.836)\n"
     ]
    },
    {
     "name": "stderr",
     "output_type": "stream",
     "text": [
      "\r",
      " 83%|████████████████████████████████████████████████████████████████▋             | 232/280 [1:07:37<13:55, 17.40s/it]"
     ]
    },
    {
     "name": "stdout",
     "output_type": "stream",
     "text": [
      "Train, epoch: [0][  0/280]\tLoss 2.2789e-01 (5.4237e-01)\tAccuracy 0.930 (0.836)\n"
     ]
    },
    {
     "name": "stderr",
     "output_type": "stream",
     "text": [
      "\r",
      " 83%|████████████████████████████████████████████████████████████████▉             | 233/280 [1:07:55<13:39, 17.43s/it]"
     ]
    },
    {
     "name": "stdout",
     "output_type": "stream",
     "text": [
      "Train, epoch: [0][  0/280]\tLoss 4.0442e-01 (5.4178e-01)\tAccuracy 0.864 (0.836)\n"
     ]
    },
    {
     "name": "stderr",
     "output_type": "stream",
     "text": [
      "\r",
      " 84%|█████████████████████████████████████████████████████████████████▏            | 234/280 [1:08:12<13:21, 17.42s/it]"
     ]
    },
    {
     "name": "stdout",
     "output_type": "stream",
     "text": [
      "Train, epoch: [0][  0/280]\tLoss 2.3611e-01 (5.4047e-01)\tAccuracy 0.927 (0.837)\n"
     ]
    },
    {
     "name": "stderr",
     "output_type": "stream",
     "text": [
      "\r",
      " 84%|█████████████████████████████████████████████████████████████████▍            | 235/280 [1:08:30<13:05, 17.46s/it]"
     ]
    },
    {
     "name": "stdout",
     "output_type": "stream",
     "text": [
      "Train, epoch: [0][  0/280]\tLoss 2.8309e-01 (5.3938e-01)\tAccuracy 0.917 (0.837)\n"
     ]
    },
    {
     "name": "stderr",
     "output_type": "stream",
     "text": [
      "\r",
      " 84%|█████████████████████████████████████████████████████████████████▋            | 236/280 [1:08:47<12:48, 17.48s/it]"
     ]
    },
    {
     "name": "stdout",
     "output_type": "stream",
     "text": [
      "Train, epoch: [0][  0/280]\tLoss 3.2877e-01 (5.3849e-01)\tAccuracy 0.893 (0.837)\n"
     ]
    },
    {
     "name": "stderr",
     "output_type": "stream",
     "text": [
      "\r",
      " 85%|██████████████████████████████████████████████████████████████████            | 237/280 [1:09:05<12:34, 17.56s/it]"
     ]
    },
    {
     "name": "stdout",
     "output_type": "stream",
     "text": [
      "Train, epoch: [0][  0/280]\tLoss 2.2581e-01 (5.3717e-01)\tAccuracy 0.926 (0.838)\n"
     ]
    },
    {
     "name": "stderr",
     "output_type": "stream",
     "text": [
      "\r",
      " 85%|██████████████████████████████████████████████████████████████████▎           | 238/280 [1:09:22<12:16, 17.54s/it]"
     ]
    },
    {
     "name": "stdout",
     "output_type": "stream",
     "text": [
      "Train, epoch: [0][  0/280]\tLoss 2.2083e-01 (5.3584e-01)\tAccuracy 0.929 (0.838)\n"
     ]
    },
    {
     "name": "stderr",
     "output_type": "stream",
     "text": [
      "\r",
      " 85%|██████████████████████████████████████████████████████████████████▌           | 239/280 [1:09:40<11:57, 17.50s/it]"
     ]
    },
    {
     "name": "stdout",
     "output_type": "stream",
     "text": [
      "Train, epoch: [0][  0/280]\tLoss 4.8240e-01 (5.3561e-01)\tAccuracy 0.850 (0.838)\n"
     ]
    },
    {
     "name": "stderr",
     "output_type": "stream",
     "text": [
      "\r",
      " 86%|██████████████████████████████████████████████████████████████████▊           | 240/280 [1:09:57<11:39, 17.48s/it]"
     ]
    },
    {
     "name": "stdout",
     "output_type": "stream",
     "text": [
      "Train, epoch: [0][  0/280]\tLoss 4.1581e-01 (5.3512e-01)\tAccuracy 0.867 (0.838)\n"
     ]
    },
    {
     "name": "stderr",
     "output_type": "stream",
     "text": [
      "\r",
      " 86%|███████████████████████████████████████████████████████████████████▏          | 241/280 [1:10:15<11:22, 17.49s/it]"
     ]
    },
    {
     "name": "stdout",
     "output_type": "stream",
     "text": [
      "Train, epoch: [0][  0/280]\tLoss 2.6254e-01 (5.3398e-01)\tAccuracy 0.916 (0.838)\n"
     ]
    },
    {
     "name": "stderr",
     "output_type": "stream",
     "text": [
      "\r",
      " 86%|███████████████████████████████████████████████████████████████████▍          | 242/280 [1:10:32<11:03, 17.47s/it]"
     ]
    },
    {
     "name": "stdout",
     "output_type": "stream",
     "text": [
      "Train, epoch: [0][  0/280]\tLoss 3.4606e-01 (5.3321e-01)\tAccuracy 0.888 (0.839)\n"
     ]
    },
    {
     "name": "stderr",
     "output_type": "stream",
     "text": [
      "\r",
      " 87%|███████████████████████████████████████████████████████████████████▋          | 243/280 [1:10:50<10:46, 17.47s/it]"
     ]
    },
    {
     "name": "stdout",
     "output_type": "stream",
     "text": [
      "Train, epoch: [0][  0/280]\tLoss 4.8084e-01 (5.3299e-01)\tAccuracy 0.871 (0.839)\n"
     ]
    },
    {
     "name": "stderr",
     "output_type": "stream",
     "text": [
      "\r",
      " 87%|███████████████████████████████████████████████████████████████████▉          | 244/280 [1:11:07<10:29, 17.49s/it]"
     ]
    },
    {
     "name": "stdout",
     "output_type": "stream",
     "text": [
      "Train, epoch: [0][  0/280]\tLoss 3.5546e-01 (5.3226e-01)\tAccuracy 0.884 (0.839)\n"
     ]
    },
    {
     "name": "stderr",
     "output_type": "stream",
     "text": [
      "\r",
      " 88%|████████████████████████████████████████████████████████████████████▎         | 245/280 [1:11:25<10:10, 17.45s/it]"
     ]
    },
    {
     "name": "stdout",
     "output_type": "stream",
     "text": [
      "Train, epoch: [0][  0/280]\tLoss 4.5646e-01 (5.3196e-01)\tAccuracy 0.861 (0.839)\n"
     ]
    },
    {
     "name": "stderr",
     "output_type": "stream",
     "text": [
      "\r",
      " 88%|████████████████████████████████████████████████████████████████████▌         | 246/280 [1:11:42<09:56, 17.54s/it]"
     ]
    },
    {
     "name": "stdout",
     "output_type": "stream",
     "text": [
      "Train, epoch: [0][  0/280]\tLoss 2.8307e-01 (5.3094e-01)\tAccuracy 0.918 (0.839)\n"
     ]
    },
    {
     "name": "stderr",
     "output_type": "stream",
     "text": [
      "\r",
      " 88%|████████████████████████████████████████████████████████████████████▊         | 247/280 [1:12:00<09:39, 17.55s/it]"
     ]
    },
    {
     "name": "stdout",
     "output_type": "stream",
     "text": [
      "Train, epoch: [0][  0/280]\tLoss 3.3834e-01 (5.3016e-01)\tAccuracy 0.890 (0.840)\n"
     ]
    },
    {
     "name": "stderr",
     "output_type": "stream",
     "text": [
      "\r",
      " 89%|█████████████████████████████████████████████████████████████████████         | 248/280 [1:12:18<09:22, 17.58s/it]"
     ]
    },
    {
     "name": "stdout",
     "output_type": "stream",
     "text": [
      "Train, epoch: [0][  0/280]\tLoss 3.0684e-01 (5.2926e-01)\tAccuracy 0.901 (0.840)\n"
     ]
    },
    {
     "name": "stderr",
     "output_type": "stream",
     "text": [
      "\r",
      " 89%|█████████████████████████████████████████████████████████████████████▎        | 249/280 [1:12:35<09:04, 17.55s/it]"
     ]
    },
    {
     "name": "stdout",
     "output_type": "stream",
     "text": [
      "Train, epoch: [0][  0/280]\tLoss 2.2126e-01 (5.2803e-01)\tAccuracy 0.932 (0.840)\n"
     ]
    },
    {
     "name": "stderr",
     "output_type": "stream",
     "text": [
      "\r",
      " 89%|█████████████████████████████████████████████████████████████████████▋        | 250/280 [1:12:53<08:46, 17.57s/it]"
     ]
    },
    {
     "name": "stdout",
     "output_type": "stream",
     "text": [
      "Train, epoch: [0][  0/280]\tLoss 3.6607e-01 (5.2738e-01)\tAccuracy 0.886 (0.840)\n"
     ]
    },
    {
     "name": "stderr",
     "output_type": "stream",
     "text": [
      "\r",
      " 90%|█████████████████████████████████████████████████████████████████████▉        | 251/280 [1:13:10<08:28, 17.52s/it]"
     ]
    },
    {
     "name": "stdout",
     "output_type": "stream",
     "text": [
      "Train, epoch: [0][  0/280]\tLoss 4.6804e-01 (5.2714e-01)\tAccuracy 0.845 (0.840)\n"
     ]
    },
    {
     "name": "stderr",
     "output_type": "stream",
     "text": [
      "\r",
      " 90%|██████████████████████████████████████████████████████████████████████▏       | 252/280 [1:13:28<08:11, 17.54s/it]"
     ]
    },
    {
     "name": "stdout",
     "output_type": "stream",
     "text": [
      "Train, epoch: [0][  0/280]\tLoss 3.3666e-01 (5.2639e-01)\tAccuracy 0.897 (0.841)\n"
     ]
    },
    {
     "name": "stderr",
     "output_type": "stream",
     "text": [
      "\r",
      " 90%|██████████████████████████████████████████████████████████████████████▍       | 253/280 [1:13:45<07:52, 17.52s/it]"
     ]
    },
    {
     "name": "stdout",
     "output_type": "stream",
     "text": [
      "Train, epoch: [0][  0/280]\tLoss 3.6780e-01 (5.2576e-01)\tAccuracy 0.879 (0.841)\n"
     ]
    },
    {
     "name": "stderr",
     "output_type": "stream",
     "text": [
      "\r",
      " 91%|██████████████████████████████████████████████████████████████████████▊       | 254/280 [1:14:03<07:34, 17.50s/it]"
     ]
    },
    {
     "name": "stdout",
     "output_type": "stream",
     "text": [
      "Train, epoch: [0][  0/280]\tLoss 2.1846e-01 (5.2455e-01)\tAccuracy 0.932 (0.841)\n"
     ]
    },
    {
     "name": "stderr",
     "output_type": "stream",
     "text": [
      "\r",
      " 91%|███████████████████████████████████████████████████████████████████████       | 255/280 [1:14:20<07:17, 17.51s/it]"
     ]
    },
    {
     "name": "stdout",
     "output_type": "stream",
     "text": [
      "Train, epoch: [0][  0/280]\tLoss 3.1990e-01 (5.2375e-01)\tAccuracy 0.890 (0.841)\n"
     ]
    },
    {
     "name": "stderr",
     "output_type": "stream",
     "text": [
      "\r",
      " 91%|███████████████████████████████████████████████████████████████████████▎      | 256/280 [1:14:38<07:00, 17.51s/it]"
     ]
    },
    {
     "name": "stdout",
     "output_type": "stream",
     "text": [
      "Train, epoch: [0][  0/280]\tLoss 2.2800e-01 (5.2259e-01)\tAccuracy 0.933 (0.842)\n"
     ]
    },
    {
     "name": "stderr",
     "output_type": "stream",
     "text": [
      "\r",
      " 92%|███████████████████████████████████████████████████████████████████████▌      | 257/280 [1:14:55<06:43, 17.53s/it]"
     ]
    },
    {
     "name": "stdout",
     "output_type": "stream",
     "text": [
      "Train, epoch: [0][  0/280]\tLoss 2.3318e-01 (5.2147e-01)\tAccuracy 0.930 (0.842)\n"
     ]
    },
    {
     "name": "stderr",
     "output_type": "stream",
     "text": [
      "\r",
      " 92%|███████████████████████████████████████████████████████████████████████▊      | 258/280 [1:15:13<06:25, 17.50s/it]"
     ]
    },
    {
     "name": "stdout",
     "output_type": "stream",
     "text": [
      "Train, epoch: [0][  0/280]\tLoss 5.0664e-01 (5.2141e-01)\tAccuracy 0.846 (0.842)\n"
     ]
    },
    {
     "name": "stderr",
     "output_type": "stream",
     "text": [
      "\r",
      " 92%|████████████████████████████████████████████████████████████████████████▏     | 259/280 [1:15:30<06:07, 17.51s/it]"
     ]
    },
    {
     "name": "stdout",
     "output_type": "stream",
     "text": [
      "Train, epoch: [0][  0/280]\tLoss 2.6862e-01 (5.2043e-01)\tAccuracy 0.914 (0.842)\n"
     ]
    },
    {
     "name": "stderr",
     "output_type": "stream",
     "text": [
      "\r",
      " 93%|████████████████████████████████████████████████████████████████████████▍     | 260/280 [1:15:48<05:49, 17.49s/it]"
     ]
    },
    {
     "name": "stdout",
     "output_type": "stream",
     "text": [
      "Train, epoch: [0][  0/280]\tLoss 2.9730e-01 (5.1957e-01)\tAccuracy 0.896 (0.843)\n"
     ]
    },
    {
     "name": "stderr",
     "output_type": "stream",
     "text": [
      "\r",
      " 93%|████████████████████████████████████████████████████████████████████████▋     | 261/280 [1:16:05<05:31, 17.46s/it]"
     ]
    },
    {
     "name": "stdout",
     "output_type": "stream",
     "text": [
      "Train, epoch: [0][  0/280]\tLoss 2.1375e-01 (5.1840e-01)\tAccuracy 0.938 (0.843)\n"
     ]
    },
    {
     "name": "stderr",
     "output_type": "stream",
     "text": [
      "\r",
      " 94%|████████████████████████████████████████████████████████████████████████▉     | 262/280 [1:16:23<05:14, 17.48s/it]"
     ]
    },
    {
     "name": "stdout",
     "output_type": "stream",
     "text": [
      "Train, epoch: [0][  0/280]\tLoss 2.7443e-01 (5.1747e-01)\tAccuracy 0.917 (0.843)\n"
     ]
    },
    {
     "name": "stderr",
     "output_type": "stream",
     "text": [
      "\r",
      " 94%|█████████████████████████████████████████████████████████████████████████▎    | 263/280 [1:16:40<04:57, 17.49s/it]"
     ]
    },
    {
     "name": "stdout",
     "output_type": "stream",
     "text": [
      "Train, epoch: [0][  0/280]\tLoss 2.5347e-01 (5.1647e-01)\tAccuracy 0.927 (0.844)\n"
     ]
    },
    {
     "name": "stderr",
     "output_type": "stream",
     "text": [
      "\r",
      " 94%|█████████████████████████████████████████████████████████████████████████▌    | 264/280 [1:16:58<04:39, 17.47s/it]"
     ]
    },
    {
     "name": "stdout",
     "output_type": "stream",
     "text": [
      "Train, epoch: [0][  0/280]\tLoss 2.2517e-01 (5.1536e-01)\tAccuracy 0.928 (0.844)\n"
     ]
    },
    {
     "name": "stderr",
     "output_type": "stream",
     "text": [
      "\r",
      " 95%|█████████████████████████████████████████████████████████████████████████▊    | 265/280 [1:17:15<04:22, 17.49s/it]"
     ]
    },
    {
     "name": "stdout",
     "output_type": "stream",
     "text": [
      "Train, epoch: [0][  0/280]\tLoss 3.7690e-01 (5.1484e-01)\tAccuracy 0.868 (0.844)\n"
     ]
    },
    {
     "name": "stderr",
     "output_type": "stream",
     "text": [
      "\r",
      " 95%|██████████████████████████████████████████████████████████████████████████    | 266/280 [1:17:33<04:05, 17.51s/it]"
     ]
    },
    {
     "name": "stdout",
     "output_type": "stream",
     "text": [
      "Train, epoch: [0][  0/280]\tLoss 2.9420e-01 (5.1401e-01)\tAccuracy 0.904 (0.844)\n"
     ]
    },
    {
     "name": "stderr",
     "output_type": "stream",
     "text": [
      "\r",
      " 95%|██████████████████████████████████████████████████████████████████████████▍   | 267/280 [1:17:50<03:47, 17.50s/it]"
     ]
    },
    {
     "name": "stdout",
     "output_type": "stream",
     "text": [
      "Train, epoch: [0][  0/280]\tLoss 2.7078e-01 (5.1310e-01)\tAccuracy 0.918 (0.844)\n"
     ]
    },
    {
     "name": "stderr",
     "output_type": "stream",
     "text": [
      "\r",
      " 96%|██████████████████████████████████████████████████████████████████████████▋   | 268/280 [1:18:08<03:30, 17.50s/it]"
     ]
    },
    {
     "name": "stdout",
     "output_type": "stream",
     "text": [
      "Train, epoch: [0][  0/280]\tLoss 4.2184e-01 (5.1276e-01)\tAccuracy 0.861 (0.844)\n"
     ]
    },
    {
     "name": "stderr",
     "output_type": "stream",
     "text": [
      "\r",
      " 96%|██████████████████████████████████████████████████████████████████████████▉   | 269/280 [1:18:25<03:12, 17.48s/it]"
     ]
    },
    {
     "name": "stdout",
     "output_type": "stream",
     "text": [
      "Train, epoch: [0][  0/280]\tLoss 3.0263e-01 (5.1198e-01)\tAccuracy 0.907 (0.845)\n"
     ]
    },
    {
     "name": "stderr",
     "output_type": "stream",
     "text": [
      "\r",
      " 96%|███████████████████████████████████████████████████████████████████████████▏  | 270/280 [1:18:42<02:54, 17.45s/it]"
     ]
    },
    {
     "name": "stdout",
     "output_type": "stream",
     "text": [
      "Train, epoch: [0][  0/280]\tLoss 3.1092e-01 (5.1123e-01)\tAccuracy 0.901 (0.845)\n"
     ]
    },
    {
     "name": "stderr",
     "output_type": "stream",
     "text": [
      "\r",
      " 97%|███████████████████████████████████████████████████████████████████████████▍  | 271/280 [1:19:00<02:36, 17.41s/it]"
     ]
    },
    {
     "name": "stdout",
     "output_type": "stream",
     "text": [
      "Train, epoch: [0][  0/280]\tLoss 3.2432e-01 (5.1054e-01)\tAccuracy 0.884 (0.845)\n"
     ]
    },
    {
     "name": "stderr",
     "output_type": "stream",
     "text": [
      "\r",
      " 97%|███████████████████████████████████████████████████████████████████████████▊  | 272/280 [1:19:17<02:19, 17.39s/it]"
     ]
    },
    {
     "name": "stdout",
     "output_type": "stream",
     "text": [
      "Train, epoch: [0][  0/280]\tLoss 2.5835e-01 (5.0962e-01)\tAccuracy 0.920 (0.845)\n"
     ]
    },
    {
     "name": "stderr",
     "output_type": "stream",
     "text": [
      "\r",
      " 98%|████████████████████████████████████████████████████████████████████████████  | 273/280 [1:19:35<02:02, 17.43s/it]"
     ]
    },
    {
     "name": "stdout",
     "output_type": "stream",
     "text": [
      "Train, epoch: [0][  0/280]\tLoss 2.8595e-01 (5.0880e-01)\tAccuracy 0.913 (0.846)\n"
     ]
    },
    {
     "name": "stderr",
     "output_type": "stream",
     "text": [
      "\r",
      " 98%|████████████████████████████████████████████████████████████████████████████▎ | 274/280 [1:19:52<01:44, 17.43s/it]"
     ]
    },
    {
     "name": "stdout",
     "output_type": "stream",
     "text": [
      "Train, epoch: [0][  0/280]\tLoss 6.2036e-01 (5.0921e-01)\tAccuracy 0.783 (0.845)\n"
     ]
    },
    {
     "name": "stderr",
     "output_type": "stream",
     "text": [
      "\r",
      " 98%|████████████████████████████████████████████████████████████████████████████▌ | 275/280 [1:20:09<01:27, 17.42s/it]"
     ]
    },
    {
     "name": "stdout",
     "output_type": "stream",
     "text": [
      "Train, epoch: [0][  0/280]\tLoss 6.0396e-01 (5.0955e-01)\tAccuracy 0.830 (0.845)\n"
     ]
    },
    {
     "name": "stderr",
     "output_type": "stream",
     "text": [
      "\r",
      " 99%|████████████████████████████████████████████████████████████████████████████▉ | 276/280 [1:20:27<01:09, 17.46s/it]"
     ]
    },
    {
     "name": "stdout",
     "output_type": "stream",
     "text": [
      "Train, epoch: [0][  0/280]\tLoss 2.9495e-01 (5.0877e-01)\tAccuracy 0.905 (0.846)\n"
     ]
    },
    {
     "name": "stderr",
     "output_type": "stream",
     "text": [
      "\r",
      " 99%|█████████████████████████████████████████████████████████████████████████████▏| 277/280 [1:20:44<00:52, 17.46s/it]"
     ]
    },
    {
     "name": "stdout",
     "output_type": "stream",
     "text": [
      "Train, epoch: [0][  0/280]\tLoss 3.0073e-01 (5.0802e-01)\tAccuracy 0.912 (0.846)\n"
     ]
    },
    {
     "name": "stderr",
     "output_type": "stream",
     "text": [
      "\r",
      " 99%|█████████████████████████████████████████████████████████████████████████████▍| 278/280 [1:21:02<00:34, 17.48s/it]"
     ]
    },
    {
     "name": "stdout",
     "output_type": "stream",
     "text": [
      "Train, epoch: [0][  0/280]\tLoss 2.5909e-01 (5.0713e-01)\tAccuracy 0.928 (0.846)\n"
     ]
    },
    {
     "name": "stderr",
     "output_type": "stream",
     "text": [
      "\r",
      "100%|█████████████████████████████████████████████████████████████████████████████▋| 279/280 [1:21:19<00:17, 17.46s/it]"
     ]
    },
    {
     "name": "stdout",
     "output_type": "stream",
     "text": [
      "Train, epoch: [0][  0/280]\tLoss 3.1640e-01 (5.0644e-01)\tAccuracy 0.894 (0.846)\n"
     ]
    },
    {
     "name": "stderr",
     "output_type": "stream",
     "text": [
      "100%|██████████████████████████████████████████████████████████████████████████████| 280/280 [1:21:37<00:00, 17.49s/it]"
     ]
    },
    {
     "name": "stdout",
     "output_type": "stream",
     "text": [
      "Train, epoch: [0][  0/280]\tLoss 2.5257e-01 (5.0554e-01)\tAccuracy 0.920 (0.846)\n",
      "classes           IoU\n",
      "---------------------\n",
      "Pole          : 0.001\n",
      "SignSymbol    : 0.220\n",
      "Bicyclist     : 0.273\n",
      "Pedestrian    : 0.187\n",
      "Building      : 0.766\n",
      "Fence         : 0.253\n",
      "Pavement      : 0.665\n",
      "Road          : 0.904\n",
      "Car           : 0.672\n",
      "Sky           : 0.850\n",
      "Tree          : 0.697\n",
      "---------------------\n",
      "Mean IoU      : 0.499\n",
      "---------------------\n"
     ]
    },
    {
     "name": "stderr",
     "output_type": "stream",
     "text": [
      "\n",
      "C:\\Users\\user\\anaconda3\\envs\\yooso_venv\\lib\\site-packages\\torch\\optim\\lr_scheduler.py:154: UserWarning: The epoch parameter in `scheduler.step()` was not necessary and is being deprecated where possible. Please use `scheduler.step()` to step the scheduler. During the deprecation, if epoch is different from None, the closed form is used instead of the new chainable form, where available. Please open an issue if you are unable to replicate your use case: https://github.com/pytorch/pytorch/issues/new/choose.\n",
      "  warnings.warn(EPOCH_DEPRECATION_WARNING, UserWarning)\n",
      "  0%|                                                                                          | 0/280 [00:00<?, ?it/s]"
     ]
    },
    {
     "name": "stdout",
     "output_type": "stream",
     "text": [
      "mIoU improved from 0.0000 to 0.4991.\n",
      "epoch  0\n",
      "loss : 0.5055   acc : 0.8465   miou : 0.4991\n"
     ]
    },
    {
     "name": "stderr",
     "output_type": "stream",
     "text": [
      "\r",
      "  0%|▎                                                                               | 1/280 [00:17<1:21:04, 17.44s/it]"
     ]
    },
    {
     "name": "stdout",
     "output_type": "stream",
     "text": [
      "Train, epoch: [1][  1/280]\tLoss 2.9797e-01 (2.9797e-01)\tAccuracy 0.910 (0.910)\n"
     ]
    },
    {
     "name": "stderr",
     "output_type": "stream",
     "text": [
      "\r",
      "  1%|▌                                                                               | 2/280 [00:34<1:21:00, 17.49s/it]"
     ]
    },
    {
     "name": "stdout",
     "output_type": "stream",
     "text": [
      "Train, epoch: [1][  1/280]\tLoss 2.9966e-01 (2.9882e-01)\tAccuracy 0.902 (0.906)\n"
     ]
    },
    {
     "name": "stderr",
     "output_type": "stream",
     "text": [
      "\r",
      "  1%|▊                                                                               | 3/280 [00:52<1:20:53, 17.52s/it]"
     ]
    },
    {
     "name": "stdout",
     "output_type": "stream",
     "text": [
      "Train, epoch: [1][  1/280]\tLoss 4.9781e-01 (3.6515e-01)\tAccuracy 0.821 (0.878)\n"
     ]
    },
    {
     "name": "stderr",
     "output_type": "stream",
     "text": [
      "\r",
      "  1%|█▏                                                                              | 4/280 [01:09<1:20:22, 17.47s/it]"
     ]
    },
    {
     "name": "stdout",
     "output_type": "stream",
     "text": [
      "Train, epoch: [1][  1/280]\tLoss 2.7730e-01 (3.4319e-01)\tAccuracy 0.920 (0.888)\n"
     ]
    },
    {
     "name": "stderr",
     "output_type": "stream",
     "text": [
      "\r",
      "  2%|█▍                                                                              | 5/280 [01:27<1:20:08, 17.49s/it]"
     ]
    },
    {
     "name": "stdout",
     "output_type": "stream",
     "text": [
      "Train, epoch: [1][  1/280]\tLoss 3.7576e-01 (3.4970e-01)\tAccuracy 0.891 (0.889)\n"
     ]
    },
    {
     "name": "stderr",
     "output_type": "stream",
     "text": [
      "\r",
      "  2%|█▋                                                                              | 6/280 [01:44<1:19:48, 17.48s/it]"
     ]
    },
    {
     "name": "stdout",
     "output_type": "stream",
     "text": [
      "Train, epoch: [1][  1/280]\tLoss 3.9264e-01 (3.5686e-01)\tAccuracy 0.867 (0.885)\n"
     ]
    },
    {
     "name": "stderr",
     "output_type": "stream",
     "text": [
      "\r",
      "  2%|██                                                                              | 7/280 [02:02<1:19:27, 17.46s/it]"
     ]
    },
    {
     "name": "stdout",
     "output_type": "stream",
     "text": [
      "Train, epoch: [1][  1/280]\tLoss 3.1427e-01 (3.5077e-01)\tAccuracy 0.898 (0.887)\n"
     ]
    },
    {
     "name": "stderr",
     "output_type": "stream",
     "text": [
      "\r",
      "  3%|██▎                                                                             | 8/280 [02:19<1:19:16, 17.49s/it]"
     ]
    },
    {
     "name": "stdout",
     "output_type": "stream",
     "text": [
      "Train, epoch: [1][  1/280]\tLoss 1.8990e-01 (3.3066e-01)\tAccuracy 0.945 (0.894)\n"
     ]
    },
    {
     "name": "stderr",
     "output_type": "stream",
     "text": [
      "\r",
      "  3%|██▌                                                                             | 9/280 [02:37<1:19:00, 17.49s/it]"
     ]
    },
    {
     "name": "stdout",
     "output_type": "stream",
     "text": [
      "Train, epoch: [1][  1/280]\tLoss 2.1836e-01 (3.1818e-01)\tAccuracy 0.928 (0.898)\n"
     ]
    },
    {
     "name": "stderr",
     "output_type": "stream",
     "text": [
      "\r",
      "  4%|██▊                                                                            | 10/280 [02:54<1:18:53, 17.53s/it]"
     ]
    },
    {
     "name": "stdout",
     "output_type": "stream",
     "text": [
      "Train, epoch: [1][  1/280]\tLoss 2.2971e-01 (3.0934e-01)\tAccuracy 0.929 (0.901)\n"
     ]
    },
    {
     "name": "stderr",
     "output_type": "stream",
     "text": [
      "\r",
      "  4%|███                                                                            | 11/280 [03:12<1:18:33, 17.52s/it]"
     ]
    },
    {
     "name": "stdout",
     "output_type": "stream",
     "text": [
      "Train, epoch: [1][  1/280]\tLoss 3.1697e-01 (3.1003e-01)\tAccuracy 0.904 (0.901)\n"
     ]
    },
    {
     "name": "stderr",
     "output_type": "stream",
     "text": [
      "\r",
      "  4%|███▍                                                                           | 12/280 [03:29<1:18:08, 17.49s/it]"
     ]
    },
    {
     "name": "stdout",
     "output_type": "stream",
     "text": [
      "Train, epoch: [1][  1/280]\tLoss 2.1084e-01 (3.0176e-01)\tAccuracy 0.939 (0.905)\n"
     ]
    },
    {
     "name": "stderr",
     "output_type": "stream",
     "text": [
      "\r",
      "  5%|███▋                                                                           | 13/280 [03:47<1:17:51, 17.50s/it]"
     ]
    },
    {
     "name": "stdout",
     "output_type": "stream",
     "text": [
      "Train, epoch: [1][  1/280]\tLoss 3.4611e-01 (3.0518e-01)\tAccuracy 0.887 (0.903)\n"
     ]
    },
    {
     "name": "stderr",
     "output_type": "stream",
     "text": [
      "\r",
      "  5%|███▉                                                                           | 14/280 [04:05<1:17:41, 17.52s/it]"
     ]
    },
    {
     "name": "stdout",
     "output_type": "stream",
     "text": [
      "Train, epoch: [1][  1/280]\tLoss 1.8096e-01 (2.9630e-01)\tAccuracy 0.946 (0.906)\n"
     ]
    },
    {
     "name": "stderr",
     "output_type": "stream",
     "text": [
      "\r",
      "  5%|████▏                                                                          | 15/280 [04:22<1:17:20, 17.51s/it]"
     ]
    },
    {
     "name": "stdout",
     "output_type": "stream",
     "text": [
      "Train, epoch: [1][  1/280]\tLoss 4.4936e-01 (3.0651e-01)\tAccuracy 0.848 (0.902)\n"
     ]
    },
    {
     "name": "stderr",
     "output_type": "stream",
     "text": [
      "\r",
      "  6%|████▌                                                                          | 16/280 [04:40<1:17:03, 17.51s/it]"
     ]
    },
    {
     "name": "stdout",
     "output_type": "stream",
     "text": [
      "Train, epoch: [1][  1/280]\tLoss 2.3383e-01 (3.0196e-01)\tAccuracy 0.923 (0.904)\n"
     ]
    },
    {
     "name": "stderr",
     "output_type": "stream",
     "text": [
      "\r",
      "  6%|████▊                                                                          | 17/280 [04:57<1:16:33, 17.47s/it]"
     ]
    },
    {
     "name": "stdout",
     "output_type": "stream",
     "text": [
      "Train, epoch: [1][  1/280]\tLoss 2.6437e-01 (2.9975e-01)\tAccuracy 0.917 (0.904)\n"
     ]
    },
    {
     "name": "stderr",
     "output_type": "stream",
     "text": [
      "\r",
      "  6%|█████                                                                          | 18/280 [05:14<1:16:14, 17.46s/it]"
     ]
    },
    {
     "name": "stdout",
     "output_type": "stream",
     "text": [
      "Train, epoch: [1][  1/280]\tLoss 2.7607e-01 (2.9844e-01)\tAccuracy 0.912 (0.905)\n"
     ]
    },
    {
     "name": "stderr",
     "output_type": "stream",
     "text": [
      "\r",
      "  7%|█████▎                                                                         | 19/280 [05:32<1:16:10, 17.51s/it]"
     ]
    },
    {
     "name": "stdout",
     "output_type": "stream",
     "text": [
      "Train, epoch: [1][  1/280]\tLoss 2.3806e-01 (2.9526e-01)\tAccuracy 0.923 (0.906)\n"
     ]
    },
    {
     "name": "stderr",
     "output_type": "stream",
     "text": [
      "\r",
      "  7%|█████▋                                                                         | 20/280 [05:49<1:15:40, 17.46s/it]"
     ]
    },
    {
     "name": "stdout",
     "output_type": "stream",
     "text": [
      "Train, epoch: [1][  1/280]\tLoss 3.8528e-01 (2.9976e-01)\tAccuracy 0.873 (0.904)\n"
     ]
    },
    {
     "name": "stderr",
     "output_type": "stream",
     "text": [
      "\r",
      "  8%|█████▉                                                                         | 21/280 [06:07<1:15:19, 17.45s/it]"
     ]
    },
    {
     "name": "stdout",
     "output_type": "stream",
     "text": [
      "Train, epoch: [1][  1/280]\tLoss 4.9323e-01 (3.0897e-01)\tAccuracy 0.829 (0.901)\n"
     ]
    },
    {
     "name": "stderr",
     "output_type": "stream",
     "text": [
      "\r",
      "  8%|██████▏                                                                        | 22/280 [06:24<1:14:49, 17.40s/it]"
     ]
    },
    {
     "name": "stdout",
     "output_type": "stream",
     "text": [
      "Train, epoch: [1][  1/280]\tLoss 1.5379e-01 (3.0192e-01)\tAccuracy 0.953 (0.903)\n"
     ]
    },
    {
     "name": "stderr",
     "output_type": "stream",
     "text": [
      "\r",
      "  8%|██████▍                                                                        | 23/280 [06:41<1:14:32, 17.40s/it]"
     ]
    },
    {
     "name": "stdout",
     "output_type": "stream",
     "text": [
      "Train, epoch: [1][  1/280]\tLoss 3.0554e-01 (3.0208e-01)\tAccuracy 0.894 (0.903)\n"
     ]
    },
    {
     "name": "stderr",
     "output_type": "stream",
     "text": [
      "\r",
      "  9%|██████▊                                                                        | 24/280 [06:59<1:14:21, 17.43s/it]"
     ]
    },
    {
     "name": "stdout",
     "output_type": "stream",
     "text": [
      "Train, epoch: [1][  1/280]\tLoss 2.3775e-01 (2.9940e-01)\tAccuracy 0.921 (0.903)\n"
     ]
    },
    {
     "name": "stderr",
     "output_type": "stream",
     "text": [
      "\r",
      "  9%|███████                                                                        | 25/280 [07:16<1:14:11, 17.46s/it]"
     ]
    },
    {
     "name": "stdout",
     "output_type": "stream",
     "text": [
      "Train, epoch: [1][  1/280]\tLoss 3.2922e-01 (3.0059e-01)\tAccuracy 0.886 (0.903)\n"
     ]
    },
    {
     "name": "stderr",
     "output_type": "stream",
     "text": [
      "\r",
      "  9%|███████▎                                                                       | 26/280 [07:34<1:13:51, 17.45s/it]"
     ]
    },
    {
     "name": "stdout",
     "output_type": "stream",
     "text": [
      "Train, epoch: [1][  1/280]\tLoss 2.9653e-01 (3.0043e-01)\tAccuracy 0.902 (0.903)\n"
     ]
    },
    {
     "name": "stderr",
     "output_type": "stream",
     "text": [
      "\r",
      " 10%|███████▌                                                                       | 27/280 [07:51<1:13:49, 17.51s/it]"
     ]
    },
    {
     "name": "stdout",
     "output_type": "stream",
     "text": [
      "Train, epoch: [1][  1/280]\tLoss 1.7887e-01 (2.9593e-01)\tAccuracy 0.949 (0.904)\n"
     ]
    },
    {
     "name": "stderr",
     "output_type": "stream",
     "text": [
      "\r",
      " 10%|███████▉                                                                       | 28/280 [08:09<1:13:52, 17.59s/it]"
     ]
    },
    {
     "name": "stdout",
     "output_type": "stream",
     "text": [
      "Train, epoch: [1][  1/280]\tLoss 2.5779e-01 (2.9457e-01)\tAccuracy 0.920 (0.905)\n"
     ]
    },
    {
     "name": "stderr",
     "output_type": "stream",
     "text": [
      "\r",
      " 10%|████████▏                                                                      | 29/280 [08:27<1:13:36, 17.60s/it]"
     ]
    },
    {
     "name": "stdout",
     "output_type": "stream",
     "text": [
      "Train, epoch: [1][  1/280]\tLoss 3.3896e-01 (2.9610e-01)\tAccuracy 0.891 (0.904)\n"
     ]
    },
    {
     "name": "stderr",
     "output_type": "stream",
     "text": [
      "\r",
      " 11%|████████▍                                                                      | 30/280 [08:44<1:13:12, 17.57s/it]"
     ]
    },
    {
     "name": "stdout",
     "output_type": "stream",
     "text": [
      "Train, epoch: [1][  1/280]\tLoss 2.2617e-01 (2.9377e-01)\tAccuracy 0.938 (0.906)\n"
     ]
    },
    {
     "name": "stderr",
     "output_type": "stream",
     "text": [
      "\r",
      " 11%|████████▋                                                                      | 31/280 [09:02<1:12:41, 17.52s/it]"
     ]
    },
    {
     "name": "stdout",
     "output_type": "stream",
     "text": [
      "Train, epoch: [1][  1/280]\tLoss 1.8768e-01 (2.9035e-01)\tAccuracy 0.946 (0.907)\n"
     ]
    },
    {
     "name": "stderr",
     "output_type": "stream",
     "text": [
      "\r",
      " 11%|█████████                                                                      | 32/280 [09:19<1:12:16, 17.49s/it]"
     ]
    },
    {
     "name": "stdout",
     "output_type": "stream",
     "text": [
      "Train, epoch: [1][  1/280]\tLoss 2.4930e-01 (2.8906e-01)\tAccuracy 0.929 (0.908)\n"
     ]
    },
    {
     "name": "stderr",
     "output_type": "stream",
     "text": [
      "\r",
      " 12%|█████████▎                                                                     | 33/280 [09:37<1:11:55, 17.47s/it]"
     ]
    },
    {
     "name": "stdout",
     "output_type": "stream",
     "text": [
      "Train, epoch: [1][  1/280]\tLoss 2.0946e-01 (2.8665e-01)\tAccuracy 0.939 (0.908)\n"
     ]
    },
    {
     "name": "stderr",
     "output_type": "stream",
     "text": [
      "\r",
      " 12%|█████████▌                                                                     | 34/280 [09:54<1:11:39, 17.48s/it]"
     ]
    },
    {
     "name": "stdout",
     "output_type": "stream",
     "text": [
      "Train, epoch: [1][  1/280]\tLoss 4.0223e-01 (2.9005e-01)\tAccuracy 0.881 (0.908)\n"
     ]
    },
    {
     "name": "stderr",
     "output_type": "stream",
     "text": [
      "\r",
      " 12%|█████████▉                                                                     | 35/280 [10:12<1:11:32, 17.52s/it]"
     ]
    },
    {
     "name": "stdout",
     "output_type": "stream",
     "text": [
      "Train, epoch: [1][  1/280]\tLoss 3.7774e-01 (2.9256e-01)\tAccuracy 0.879 (0.907)\n"
     ]
    },
    {
     "name": "stderr",
     "output_type": "stream",
     "text": [
      "\r",
      " 13%|██████████▏                                                                    | 36/280 [10:29<1:11:18, 17.54s/it]"
     ]
    },
    {
     "name": "stdout",
     "output_type": "stream",
     "text": [
      "Train, epoch: [1][  1/280]\tLoss 3.3223e-01 (2.9366e-01)\tAccuracy 0.893 (0.906)\n"
     ]
    },
    {
     "name": "stderr",
     "output_type": "stream",
     "text": [
      "\r",
      " 13%|██████████▍                                                                    | 37/280 [10:47<1:11:01, 17.54s/it]"
     ]
    },
    {
     "name": "stdout",
     "output_type": "stream",
     "text": [
      "Train, epoch: [1][  1/280]\tLoss 4.2289e-01 (2.9715e-01)\tAccuracy 0.866 (0.905)\n"
     ]
    },
    {
     "name": "stderr",
     "output_type": "stream",
     "text": [
      "\r",
      " 14%|██████████▋                                                                    | 38/280 [11:04<1:10:40, 17.52s/it]"
     ]
    },
    {
     "name": "stdout",
     "output_type": "stream",
     "text": [
      "Train, epoch: [1][  1/280]\tLoss 2.6118e-01 (2.9620e-01)\tAccuracy 0.917 (0.906)\n"
     ]
    },
    {
     "name": "stderr",
     "output_type": "stream",
     "text": [
      "\r",
      " 14%|███████████                                                                    | 39/280 [11:22<1:10:29, 17.55s/it]"
     ]
    },
    {
     "name": "stdout",
     "output_type": "stream",
     "text": [
      "Train, epoch: [1][  1/280]\tLoss 1.7015e-01 (2.9297e-01)\tAccuracy 0.946 (0.907)\n"
     ]
    },
    {
     "name": "stderr",
     "output_type": "stream",
     "text": [
      "\r",
      " 14%|███████████▎                                                                   | 40/280 [11:39<1:10:00, 17.50s/it]"
     ]
    },
    {
     "name": "stdout",
     "output_type": "stream",
     "text": [
      "Train, epoch: [1][  1/280]\tLoss 2.1811e-01 (2.9110e-01)\tAccuracy 0.930 (0.907)\n"
     ]
    },
    {
     "name": "stderr",
     "output_type": "stream",
     "text": [
      "\r",
      " 15%|███████████▌                                                                   | 41/280 [11:57<1:09:30, 17.45s/it]"
     ]
    },
    {
     "name": "stdout",
     "output_type": "stream",
     "text": [
      "Train, epoch: [1][  1/280]\tLoss 2.9617e-01 (2.9122e-01)\tAccuracy 0.901 (0.907)\n"
     ]
    },
    {
     "name": "stderr",
     "output_type": "stream",
     "text": [
      "\r",
      " 15%|███████████▊                                                                   | 42/280 [12:14<1:09:16, 17.47s/it]"
     ]
    },
    {
     "name": "stdout",
     "output_type": "stream",
     "text": [
      "Train, epoch: [1][  1/280]\tLoss 3.5593e-01 (2.9276e-01)\tAccuracy 0.878 (0.906)\n"
     ]
    },
    {
     "name": "stderr",
     "output_type": "stream",
     "text": [
      "\r",
      " 15%|████████████▏                                                                  | 43/280 [12:32<1:09:10, 17.51s/it]"
     ]
    },
    {
     "name": "stdout",
     "output_type": "stream",
     "text": [
      "Train, epoch: [1][  1/280]\tLoss 2.5851e-01 (2.9197e-01)\tAccuracy 0.912 (0.907)\n"
     ]
    },
    {
     "name": "stderr",
     "output_type": "stream",
     "text": [
      "\r",
      " 16%|████████████▍                                                                  | 44/280 [12:49<1:08:52, 17.51s/it]"
     ]
    },
    {
     "name": "stdout",
     "output_type": "stream",
     "text": [
      "Train, epoch: [1][  1/280]\tLoss 3.6094e-01 (2.9354e-01)\tAccuracy 0.872 (0.906)\n"
     ]
    },
    {
     "name": "stderr",
     "output_type": "stream",
     "text": [
      "\r",
      " 16%|████████████▋                                                                  | 45/280 [13:07<1:08:42, 17.54s/it]"
     ]
    },
    {
     "name": "stdout",
     "output_type": "stream",
     "text": [
      "Train, epoch: [1][  1/280]\tLoss 2.1727e-01 (2.9184e-01)\tAccuracy 0.932 (0.906)\n"
     ]
    },
    {
     "name": "stderr",
     "output_type": "stream",
     "text": [
      "\r",
      " 16%|████████████▉                                                                  | 46/280 [13:24<1:08:13, 17.49s/it]"
     ]
    },
    {
     "name": "stdout",
     "output_type": "stream",
     "text": [
      "Train, epoch: [1][  1/280]\tLoss 2.3686e-01 (2.9065e-01)\tAccuracy 0.929 (0.907)\n"
     ]
    },
    {
     "name": "stderr",
     "output_type": "stream",
     "text": [
      "\r",
      " 17%|█████████████▎                                                                 | 47/280 [13:42<1:07:49, 17.46s/it]"
     ]
    },
    {
     "name": "stdout",
     "output_type": "stream",
     "text": [
      "Train, epoch: [1][  1/280]\tLoss 2.7593e-01 (2.9033e-01)\tAccuracy 0.914 (0.907)\n"
     ]
    },
    {
     "name": "stderr",
     "output_type": "stream",
     "text": [
      "\r",
      " 17%|█████████████▌                                                                 | 48/280 [13:59<1:07:24, 17.44s/it]"
     ]
    },
    {
     "name": "stdout",
     "output_type": "stream",
     "text": [
      "Train, epoch: [1][  1/280]\tLoss 2.1704e-01 (2.8881e-01)\tAccuracy 0.936 (0.908)\n"
     ]
    },
    {
     "name": "stderr",
     "output_type": "stream",
     "text": [
      "\r",
      " 18%|█████████████▊                                                                 | 49/280 [14:16<1:07:06, 17.43s/it]"
     ]
    },
    {
     "name": "stdout",
     "output_type": "stream",
     "text": [
      "Train, epoch: [1][  1/280]\tLoss 1.8125e-01 (2.8661e-01)\tAccuracy 0.947 (0.908)\n"
     ]
    },
    {
     "name": "stderr",
     "output_type": "stream",
     "text": [
      "\r",
      " 18%|██████████████                                                                 | 50/280 [14:34<1:06:55, 17.46s/it]"
     ]
    },
    {
     "name": "stdout",
     "output_type": "stream",
     "text": [
      "Train, epoch: [1][  1/280]\tLoss 2.6418e-01 (2.8616e-01)\tAccuracy 0.911 (0.908)\n"
     ]
    },
    {
     "name": "stderr",
     "output_type": "stream",
     "text": [
      "\r",
      " 18%|██████████████▍                                                                | 51/280 [14:52<1:06:43, 17.48s/it]"
     ]
    },
    {
     "name": "stdout",
     "output_type": "stream",
     "text": [
      "Train, epoch: [1][  1/280]\tLoss 4.4816e-01 (2.8934e-01)\tAccuracy 0.844 (0.907)\n"
     ]
    },
    {
     "name": "stderr",
     "output_type": "stream",
     "text": [
      "\r",
      " 19%|██████████████▋                                                                | 52/280 [15:09<1:06:20, 17.46s/it]"
     ]
    },
    {
     "name": "stdout",
     "output_type": "stream",
     "text": [
      "Train, epoch: [1][  1/280]\tLoss 2.6732e-01 (2.8891e-01)\tAccuracy 0.924 (0.908)\n"
     ]
    },
    {
     "name": "stderr",
     "output_type": "stream",
     "text": [
      "\r",
      " 19%|██████████████▉                                                                | 53/280 [15:26<1:05:53, 17.41s/it]"
     ]
    },
    {
     "name": "stdout",
     "output_type": "stream",
     "text": [
      "Train, epoch: [1][  1/280]\tLoss 5.9535e-01 (2.9470e-01)\tAccuracy 0.855 (0.907)\n"
     ]
    },
    {
     "name": "stderr",
     "output_type": "stream",
     "text": [
      "\r",
      " 19%|███████████████▏                                                               | 54/280 [15:44<1:05:36, 17.42s/it]"
     ]
    },
    {
     "name": "stdout",
     "output_type": "stream",
     "text": [
      "Train, epoch: [1][  1/280]\tLoss 2.0143e-01 (2.9297e-01)\tAccuracy 0.939 (0.907)\n"
     ]
    },
    {
     "name": "stderr",
     "output_type": "stream",
     "text": [
      "\r",
      " 20%|███████████████▌                                                               | 55/280 [16:01<1:05:22, 17.43s/it]"
     ]
    },
    {
     "name": "stdout",
     "output_type": "stream",
     "text": [
      "Train, epoch: [1][  1/280]\tLoss 1.8839e-01 (2.9107e-01)\tAccuracy 0.942 (0.908)\n"
     ]
    },
    {
     "name": "stderr",
     "output_type": "stream",
     "text": [
      "\r",
      " 20%|███████████████▊                                                               | 56/280 [16:19<1:05:03, 17.43s/it]"
     ]
    },
    {
     "name": "stdout",
     "output_type": "stream",
     "text": [
      "Train, epoch: [1][  1/280]\tLoss 2.9836e-01 (2.9120e-01)\tAccuracy 0.895 (0.908)\n"
     ]
    },
    {
     "name": "stderr",
     "output_type": "stream",
     "text": [
      "\r",
      " 20%|████████████████                                                               | 57/280 [16:36<1:04:37, 17.39s/it]"
     ]
    },
    {
     "name": "stdout",
     "output_type": "stream",
     "text": [
      "Train, epoch: [1][  1/280]\tLoss 2.6148e-01 (2.9068e-01)\tAccuracy 0.912 (0.908)\n"
     ]
    },
    {
     "name": "stderr",
     "output_type": "stream",
     "text": [
      "\r",
      " 21%|████████████████▎                                                              | 58/280 [16:53<1:04:18, 17.38s/it]"
     ]
    },
    {
     "name": "stdout",
     "output_type": "stream",
     "text": [
      "Train, epoch: [1][  1/280]\tLoss 2.2519e-01 (2.8955e-01)\tAccuracy 0.925 (0.908)\n"
     ]
    },
    {
     "name": "stderr",
     "output_type": "stream",
     "text": [
      "\r",
      " 21%|████████████████▋                                                              | 59/280 [17:11<1:04:09, 17.42s/it]"
     ]
    },
    {
     "name": "stdout",
     "output_type": "stream",
     "text": [
      "Train, epoch: [1][  1/280]\tLoss 2.0219e-01 (2.8807e-01)\tAccuracy 0.936 (0.908)\n"
     ]
    },
    {
     "name": "stderr",
     "output_type": "stream",
     "text": [
      "\r",
      " 21%|████████████████▉                                                              | 60/280 [17:28<1:03:54, 17.43s/it]"
     ]
    },
    {
     "name": "stdout",
     "output_type": "stream",
     "text": [
      "Train, epoch: [1][  1/280]\tLoss 4.0930e-01 (2.9009e-01)\tAccuracy 0.864 (0.908)\n"
     ]
    },
    {
     "name": "stderr",
     "output_type": "stream",
     "text": [
      "\r",
      " 22%|█████████████████▏                                                             | 61/280 [17:46<1:03:47, 17.48s/it]"
     ]
    },
    {
     "name": "stdout",
     "output_type": "stream",
     "text": [
      "Train, epoch: [1][  1/280]\tLoss 4.2127e-01 (2.9224e-01)\tAccuracy 0.853 (0.907)\n"
     ]
    },
    {
     "name": "stderr",
     "output_type": "stream",
     "text": [
      "\r",
      " 22%|█████████████████▍                                                             | 62/280 [18:03<1:03:39, 17.52s/it]"
     ]
    },
    {
     "name": "stdout",
     "output_type": "stream",
     "text": [
      "Train, epoch: [1][  1/280]\tLoss 2.4101e-01 (2.9141e-01)\tAccuracy 0.927 (0.907)\n"
     ]
    },
    {
     "name": "stderr",
     "output_type": "stream",
     "text": [
      "\r",
      " 22%|█████████████████▊                                                             | 63/280 [18:21<1:03:10, 17.47s/it]"
     ]
    },
    {
     "name": "stdout",
     "output_type": "stream",
     "text": [
      "Train, epoch: [1][  1/280]\tLoss 4.1271e-01 (2.9334e-01)\tAccuracy 0.869 (0.906)\n"
     ]
    },
    {
     "name": "stderr",
     "output_type": "stream",
     "text": [
      "\r",
      " 23%|██████████████████                                                             | 64/280 [18:38<1:02:57, 17.49s/it]"
     ]
    },
    {
     "name": "stdout",
     "output_type": "stream",
     "text": [
      "Train, epoch: [1][  1/280]\tLoss 2.7040e-01 (2.9298e-01)\tAccuracy 0.916 (0.907)\n"
     ]
    },
    {
     "name": "stderr",
     "output_type": "stream",
     "text": [
      "\r",
      " 23%|██████████████████▎                                                            | 65/280 [18:56<1:02:36, 17.47s/it]"
     ]
    },
    {
     "name": "stdout",
     "output_type": "stream",
     "text": [
      "Train, epoch: [1][  1/280]\tLoss 1.9844e-01 (2.9152e-01)\tAccuracy 0.941 (0.907)\n"
     ]
    },
    {
     "name": "stderr",
     "output_type": "stream",
     "text": [
      "\r",
      " 24%|██████████████████▌                                                            | 66/280 [19:13<1:02:12, 17.44s/it]"
     ]
    },
    {
     "name": "stdout",
     "output_type": "stream",
     "text": [
      "Train, epoch: [1][  1/280]\tLoss 3.7480e-01 (2.9279e-01)\tAccuracy 0.876 (0.907)\n"
     ]
    },
    {
     "name": "stderr",
     "output_type": "stream",
     "text": [
      "\r",
      " 24%|██████████████████▉                                                            | 67/280 [19:31<1:02:04, 17.49s/it]"
     ]
    },
    {
     "name": "stdout",
     "output_type": "stream",
     "text": [
      "Train, epoch: [1][  1/280]\tLoss 4.5447e-01 (2.9520e-01)\tAccuracy 0.866 (0.906)\n"
     ]
    },
    {
     "name": "stderr",
     "output_type": "stream",
     "text": [
      "\r",
      " 24%|███████████████████▏                                                           | 68/280 [19:48<1:01:48, 17.49s/it]"
     ]
    },
    {
     "name": "stdout",
     "output_type": "stream",
     "text": [
      "Train, epoch: [1][  1/280]\tLoss 1.8771e-01 (2.9362e-01)\tAccuracy 0.941 (0.907)\n"
     ]
    },
    {
     "name": "stderr",
     "output_type": "stream",
     "text": [
      "\r",
      " 25%|███████████████████▍                                                           | 69/280 [20:06<1:01:39, 17.53s/it]"
     ]
    },
    {
     "name": "stdout",
     "output_type": "stream",
     "text": [
      "Train, epoch: [1][  1/280]\tLoss 2.7609e-01 (2.9336e-01)\tAccuracy 0.912 (0.907)\n"
     ]
    },
    {
     "name": "stderr",
     "output_type": "stream",
     "text": [
      "\r",
      " 25%|███████████████████▊                                                           | 70/280 [20:23<1:01:23, 17.54s/it]"
     ]
    },
    {
     "name": "stdout",
     "output_type": "stream",
     "text": [
      "Train, epoch: [1][  1/280]\tLoss 2.6147e-01 (2.9291e-01)\tAccuracy 0.911 (0.907)\n"
     ]
    },
    {
     "name": "stderr",
     "output_type": "stream",
     "text": [
      "\r",
      " 25%|████████████████████                                                           | 71/280 [20:41<1:01:01, 17.52s/it]"
     ]
    },
    {
     "name": "stdout",
     "output_type": "stream",
     "text": [
      "Train, epoch: [1][  1/280]\tLoss 2.8510e-01 (2.9280e-01)\tAccuracy 0.904 (0.907)\n"
     ]
    },
    {
     "name": "stderr",
     "output_type": "stream",
     "text": [
      "\r",
      " 26%|████████████████████▎                                                          | 72/280 [20:58<1:00:46, 17.53s/it]"
     ]
    },
    {
     "name": "stdout",
     "output_type": "stream",
     "text": [
      "Train, epoch: [1][  1/280]\tLoss 1.6851e-01 (2.9107e-01)\tAccuracy 0.951 (0.907)\n"
     ]
    },
    {
     "name": "stderr",
     "output_type": "stream",
     "text": [
      "\r",
      " 26%|████████████████████▌                                                          | 73/280 [21:16<1:00:39, 17.58s/it]"
     ]
    },
    {
     "name": "stdout",
     "output_type": "stream",
     "text": [
      "Train, epoch: [1][  1/280]\tLoss 1.6909e-01 (2.8940e-01)\tAccuracy 0.948 (0.908)\n"
     ]
    },
    {
     "name": "stderr",
     "output_type": "stream",
     "text": [
      "\r",
      " 26%|████████████████████▉                                                          | 74/280 [21:33<1:00:05, 17.50s/it]"
     ]
    },
    {
     "name": "stdout",
     "output_type": "stream",
     "text": [
      "Train, epoch: [1][  1/280]\tLoss 3.6256e-01 (2.9039e-01)\tAccuracy 0.884 (0.908)\n"
     ]
    },
    {
     "name": "stderr",
     "output_type": "stream",
     "text": [
      "\r",
      " 27%|█████████████████████▋                                                           | 75/280 [21:51<59:48, 17.51s/it]"
     ]
    },
    {
     "name": "stdout",
     "output_type": "stream",
     "text": [
      "Train, epoch: [1][  1/280]\tLoss 4.1670e-01 (2.9207e-01)\tAccuracy 0.875 (0.907)\n"
     ]
    },
    {
     "name": "stderr",
     "output_type": "stream",
     "text": [
      "\r",
      " 27%|█████████████████████▉                                                           | 76/280 [22:08<59:33, 17.52s/it]"
     ]
    },
    {
     "name": "stdout",
     "output_type": "stream",
     "text": [
      "Train, epoch: [1][  1/280]\tLoss 3.5587e-01 (2.9291e-01)\tAccuracy 0.887 (0.907)\n"
     ]
    },
    {
     "name": "stderr",
     "output_type": "stream",
     "text": [
      "\r",
      " 28%|██████████████████████▎                                                          | 77/280 [22:26<59:28, 17.58s/it]"
     ]
    },
    {
     "name": "stdout",
     "output_type": "stream",
     "text": [
      "Train, epoch: [1][  1/280]\tLoss 3.0393e-01 (2.9306e-01)\tAccuracy 0.925 (0.907)\n"
     ]
    },
    {
     "name": "stderr",
     "output_type": "stream",
     "text": [
      "\r",
      " 28%|██████████████████████▌                                                          | 78/280 [22:44<58:59, 17.52s/it]"
     ]
    },
    {
     "name": "stdout",
     "output_type": "stream",
     "text": [
      "Train, epoch: [1][  1/280]\tLoss 2.6053e-01 (2.9264e-01)\tAccuracy 0.914 (0.907)\n"
     ]
    },
    {
     "name": "stderr",
     "output_type": "stream",
     "text": [
      "\r",
      " 28%|██████████████████████▊                                                          | 79/280 [23:01<58:42, 17.52s/it]"
     ]
    },
    {
     "name": "stdout",
     "output_type": "stream",
     "text": [
      "Train, epoch: [1][  1/280]\tLoss 2.5715e-01 (2.9219e-01)\tAccuracy 0.914 (0.907)\n"
     ]
    },
    {
     "name": "stderr",
     "output_type": "stream",
     "text": [
      "\r",
      " 29%|███████████████████████▏                                                         | 80/280 [23:19<58:27, 17.54s/it]"
     ]
    },
    {
     "name": "stdout",
     "output_type": "stream",
     "text": [
      "Train, epoch: [1][  1/280]\tLoss 2.6556e-01 (2.9186e-01)\tAccuracy 0.917 (0.907)\n"
     ]
    },
    {
     "name": "stderr",
     "output_type": "stream",
     "text": [
      "\r",
      " 29%|███████████████████████▍                                                         | 81/280 [23:36<58:07, 17.53s/it]"
     ]
    },
    {
     "name": "stdout",
     "output_type": "stream",
     "text": [
      "Train, epoch: [1][  1/280]\tLoss 2.8831e-01 (2.9181e-01)\tAccuracy 0.904 (0.907)\n"
     ]
    },
    {
     "name": "stderr",
     "output_type": "stream",
     "text": [
      "\r",
      " 29%|███████████████████████▋                                                         | 82/280 [23:54<57:53, 17.54s/it]"
     ]
    },
    {
     "name": "stdout",
     "output_type": "stream",
     "text": [
      "Train, epoch: [1][  1/280]\tLoss 3.5420e-01 (2.9257e-01)\tAccuracy 0.879 (0.907)\n"
     ]
    },
    {
     "name": "stderr",
     "output_type": "stream",
     "text": [
      "\r",
      " 30%|████████████████████████                                                         | 83/280 [24:11<57:32, 17.53s/it]"
     ]
    },
    {
     "name": "stdout",
     "output_type": "stream",
     "text": [
      "Train, epoch: [1][  1/280]\tLoss 3.9035e-01 (2.9375e-01)\tAccuracy 0.867 (0.907)\n"
     ]
    },
    {
     "name": "stderr",
     "output_type": "stream",
     "text": [
      "\r",
      " 30%|████████████████████████▎                                                        | 84/280 [24:29<57:06, 17.48s/it]"
     ]
    },
    {
     "name": "stdout",
     "output_type": "stream",
     "text": [
      "Train, epoch: [1][  1/280]\tLoss 2.8379e-01 (2.9363e-01)\tAccuracy 0.900 (0.906)\n"
     ]
    },
    {
     "name": "stderr",
     "output_type": "stream",
     "text": [
      "\r",
      " 30%|████████████████████████▌                                                        | 85/280 [24:46<56:53, 17.51s/it]"
     ]
    },
    {
     "name": "stdout",
     "output_type": "stream",
     "text": [
      "Train, epoch: [1][  1/280]\tLoss 2.0904e-01 (2.9264e-01)\tAccuracy 0.936 (0.907)\n"
     ]
    },
    {
     "name": "stderr",
     "output_type": "stream",
     "text": [
      "\r",
      " 31%|████████████████████████▉                                                        | 86/280 [25:04<56:32, 17.49s/it]"
     ]
    },
    {
     "name": "stdout",
     "output_type": "stream",
     "text": [
      "Train, epoch: [1][  1/280]\tLoss 2.8689e-01 (2.9257e-01)\tAccuracy 0.908 (0.907)\n"
     ]
    },
    {
     "name": "stderr",
     "output_type": "stream",
     "text": [
      "\r",
      " 31%|█████████████████████████▏                                                       | 87/280 [25:21<56:15, 17.49s/it]"
     ]
    },
    {
     "name": "stdout",
     "output_type": "stream",
     "text": [
      "Train, epoch: [1][  1/280]\tLoss 3.2936e-01 (2.9299e-01)\tAccuracy 0.885 (0.907)\n"
     ]
    },
    {
     "name": "stderr",
     "output_type": "stream",
     "text": [
      "\r",
      " 31%|█████████████████████████▍                                                       | 88/280 [25:39<56:03, 17.52s/it]"
     ]
    },
    {
     "name": "stdout",
     "output_type": "stream",
     "text": [
      "Train, epoch: [1][  1/280]\tLoss 1.5777e-01 (2.9146e-01)\tAccuracy 0.951 (0.907)\n"
     ]
    },
    {
     "name": "stderr",
     "output_type": "stream",
     "text": [
      "\r",
      " 32%|█████████████████████████▋                                                       | 89/280 [25:56<55:43, 17.51s/it]"
     ]
    },
    {
     "name": "stdout",
     "output_type": "stream",
     "text": [
      "Train, epoch: [1][  1/280]\tLoss 2.2730e-01 (2.9074e-01)\tAccuracy 0.922 (0.907)\n"
     ]
    },
    {
     "name": "stderr",
     "output_type": "stream",
     "text": [
      "\r",
      " 32%|██████████████████████████                                                       | 90/280 [26:14<55:24, 17.50s/it]"
     ]
    },
    {
     "name": "stdout",
     "output_type": "stream",
     "text": [
      "Train, epoch: [1][  1/280]\tLoss 2.9924e-01 (2.9083e-01)\tAccuracy 0.897 (0.907)\n"
     ]
    },
    {
     "name": "stderr",
     "output_type": "stream",
     "text": [
      "\r",
      " 32%|██████████████████████████▎                                                      | 91/280 [26:31<54:51, 17.42s/it]"
     ]
    },
    {
     "name": "stdout",
     "output_type": "stream",
     "text": [
      "Train, epoch: [1][  1/280]\tLoss 1.9959e-01 (2.8983e-01)\tAccuracy 0.939 (0.907)\n"
     ]
    },
    {
     "name": "stderr",
     "output_type": "stream",
     "text": [
      "\r",
      " 33%|██████████████████████████▌                                                      | 92/280 [26:48<54:34, 17.42s/it]"
     ]
    },
    {
     "name": "stdout",
     "output_type": "stream",
     "text": [
      "Train, epoch: [1][  1/280]\tLoss 2.8878e-01 (2.8982e-01)\tAccuracy 0.908 (0.907)\n"
     ]
    },
    {
     "name": "stderr",
     "output_type": "stream",
     "text": [
      "\r",
      " 33%|██████████████████████████▉                                                      | 93/280 [27:06<54:13, 17.40s/it]"
     ]
    },
    {
     "name": "stdout",
     "output_type": "stream",
     "text": [
      "Train, epoch: [1][  1/280]\tLoss 3.6812e-01 (2.9066e-01)\tAccuracy 0.877 (0.907)\n"
     ]
    },
    {
     "name": "stderr",
     "output_type": "stream",
     "text": [
      "\r",
      " 34%|███████████████████████████▏                                                     | 94/280 [27:23<54:05, 17.45s/it]"
     ]
    },
    {
     "name": "stdout",
     "output_type": "stream",
     "text": [
      "Train, epoch: [1][  1/280]\tLoss 3.1367e-01 (2.9090e-01)\tAccuracy 0.891 (0.907)\n"
     ]
    },
    {
     "name": "stderr",
     "output_type": "stream",
     "text": [
      "\r",
      " 34%|███████████████████████████▍                                                     | 95/280 [27:41<53:45, 17.44s/it]"
     ]
    },
    {
     "name": "stdout",
     "output_type": "stream",
     "text": [
      "Train, epoch: [1][  1/280]\tLoss 2.9775e-01 (2.9098e-01)\tAccuracy 0.901 (0.907)\n"
     ]
    },
    {
     "name": "stderr",
     "output_type": "stream",
     "text": [
      "\r",
      " 34%|███████████████████████████▊                                                     | 96/280 [27:58<53:24, 17.42s/it]"
     ]
    },
    {
     "name": "stdout",
     "output_type": "stream",
     "text": [
      "Train, epoch: [1][  1/280]\tLoss 2.2504e-01 (2.9029e-01)\tAccuracy 0.931 (0.907)\n"
     ]
    },
    {
     "name": "stderr",
     "output_type": "stream",
     "text": [
      "\r",
      " 35%|████████████████████████████                                                     | 97/280 [28:16<53:13, 17.45s/it]"
     ]
    },
    {
     "name": "stdout",
     "output_type": "stream",
     "text": [
      "Train, epoch: [1][  1/280]\tLoss 2.9314e-01 (2.9032e-01)\tAccuracy 0.904 (0.907)\n"
     ]
    },
    {
     "name": "stderr",
     "output_type": "stream",
     "text": [
      "\r",
      " 35%|████████████████████████████▎                                                    | 98/280 [28:33<52:57, 17.46s/it]"
     ]
    },
    {
     "name": "stdout",
     "output_type": "stream",
     "text": [
      "Train, epoch: [1][  1/280]\tLoss 3.5819e-01 (2.9101e-01)\tAccuracy 0.894 (0.907)\n"
     ]
    },
    {
     "name": "stderr",
     "output_type": "stream",
     "text": [
      "\r",
      " 35%|████████████████████████████▋                                                    | 99/280 [28:51<52:41, 17.47s/it]"
     ]
    },
    {
     "name": "stdout",
     "output_type": "stream",
     "text": [
      "Train, epoch: [1][  1/280]\tLoss 2.2379e-01 (2.9033e-01)\tAccuracy 0.930 (0.907)\n"
     ]
    },
    {
     "name": "stderr",
     "output_type": "stream",
     "text": [
      "\r",
      " 36%|████████████████████████████▌                                                   | 100/280 [29:08<52:41, 17.57s/it]"
     ]
    },
    {
     "name": "stdout",
     "output_type": "stream",
     "text": [
      "Train, epoch: [1][  1/280]\tLoss 2.5339e-01 (2.8996e-01)\tAccuracy 0.922 (0.907)\n"
     ]
    },
    {
     "name": "stderr",
     "output_type": "stream",
     "text": [
      "\r",
      " 36%|████████████████████████████▊                                                   | 101/280 [29:26<52:16, 17.52s/it]"
     ]
    },
    {
     "name": "stdout",
     "output_type": "stream",
     "text": [
      "Train, epoch: [1][  1/280]\tLoss 3.2441e-01 (2.9030e-01)\tAccuracy 0.894 (0.907)\n"
     ]
    },
    {
     "name": "stderr",
     "output_type": "stream",
     "text": [
      "\r",
      " 36%|█████████████████████████████▏                                                  | 102/280 [29:43<51:56, 17.51s/it]"
     ]
    },
    {
     "name": "stdout",
     "output_type": "stream",
     "text": [
      "Train, epoch: [1][  1/280]\tLoss 2.4812e-01 (2.8989e-01)\tAccuracy 0.922 (0.907)\n"
     ]
    },
    {
     "name": "stderr",
     "output_type": "stream",
     "text": [
      "\r",
      " 37%|█████████████████████████████▍                                                  | 103/280 [30:01<51:41, 17.52s/it]"
     ]
    },
    {
     "name": "stdout",
     "output_type": "stream",
     "text": [
      "Train, epoch: [1][  1/280]\tLoss 2.9702e-01 (2.8996e-01)\tAccuracy 0.908 (0.907)\n"
     ]
    },
    {
     "name": "stderr",
     "output_type": "stream",
     "text": [
      "\r",
      " 37%|█████████████████████████████▋                                                  | 104/280 [30:18<51:10, 17.44s/it]"
     ]
    },
    {
     "name": "stdout",
     "output_type": "stream",
     "text": [
      "Train, epoch: [1][  1/280]\tLoss 2.2644e-01 (2.8935e-01)\tAccuracy 0.931 (0.908)\n"
     ]
    },
    {
     "name": "stderr",
     "output_type": "stream",
     "text": [
      "\r",
      " 38%|██████████████████████████████                                                  | 105/280 [30:36<51:06, 17.52s/it]"
     ]
    },
    {
     "name": "stdout",
     "output_type": "stream",
     "text": [
      "Train, epoch: [1][  1/280]\tLoss 3.2066e-01 (2.8965e-01)\tAccuracy 0.889 (0.907)\n"
     ]
    },
    {
     "name": "stderr",
     "output_type": "stream",
     "text": [
      "\r",
      " 38%|██████████████████████████████▎                                                 | 106/280 [30:53<50:36, 17.45s/it]"
     ]
    },
    {
     "name": "stdout",
     "output_type": "stream",
     "text": [
      "Train, epoch: [1][  1/280]\tLoss 2.0371e-01 (2.8884e-01)\tAccuracy 0.940 (0.908)\n"
     ]
    },
    {
     "name": "stderr",
     "output_type": "stream",
     "text": [
      "\r",
      " 38%|██████████████████████████████▌                                                 | 107/280 [31:11<50:26, 17.49s/it]"
     ]
    },
    {
     "name": "stdout",
     "output_type": "stream",
     "text": [
      "Train, epoch: [1][  1/280]\tLoss 2.6006e-01 (2.8857e-01)\tAccuracy 0.918 (0.908)\n"
     ]
    },
    {
     "name": "stderr",
     "output_type": "stream",
     "text": [
      "\r",
      " 39%|██████████████████████████████▊                                                 | 108/280 [31:28<50:12, 17.51s/it]"
     ]
    },
    {
     "name": "stdout",
     "output_type": "stream",
     "text": [
      "Train, epoch: [1][  1/280]\tLoss 2.2980e-01 (2.8802e-01)\tAccuracy 0.921 (0.908)\n"
     ]
    },
    {
     "name": "stderr",
     "output_type": "stream",
     "text": [
      "\r",
      " 39%|███████████████████████████████▏                                                | 109/280 [31:45<49:44, 17.45s/it]"
     ]
    },
    {
     "name": "stdout",
     "output_type": "stream",
     "text": [
      "Train, epoch: [1][  1/280]\tLoss 2.9018e-01 (2.8804e-01)\tAccuracy 0.900 (0.908)\n"
     ]
    },
    {
     "name": "stderr",
     "output_type": "stream",
     "text": [
      "\r",
      " 39%|███████████████████████████████▍                                                | 110/280 [32:03<49:34, 17.50s/it]"
     ]
    },
    {
     "name": "stdout",
     "output_type": "stream",
     "text": [
      "Train, epoch: [1][  1/280]\tLoss 1.9627e-01 (2.8721e-01)\tAccuracy 0.937 (0.908)\n"
     ]
    },
    {
     "name": "stderr",
     "output_type": "stream",
     "text": [
      "\r",
      " 40%|███████████████████████████████▋                                                | 111/280 [32:21<49:14, 17.48s/it]"
     ]
    },
    {
     "name": "stdout",
     "output_type": "stream",
     "text": [
      "Train, epoch: [1][  1/280]\tLoss 2.1951e-01 (2.8660e-01)\tAccuracy 0.937 (0.908)\n"
     ]
    },
    {
     "name": "stderr",
     "output_type": "stream",
     "text": [
      "\r",
      " 40%|████████████████████████████████                                                | 112/280 [32:38<48:56, 17.48s/it]"
     ]
    },
    {
     "name": "stdout",
     "output_type": "stream",
     "text": [
      "Train, epoch: [1][  1/280]\tLoss 3.3027e-01 (2.8699e-01)\tAccuracy 0.888 (0.908)\n"
     ]
    },
    {
     "name": "stderr",
     "output_type": "stream",
     "text": [
      "\r",
      " 40%|████████████████████████████████▎                                               | 113/280 [32:55<48:27, 17.41s/it]"
     ]
    },
    {
     "name": "stdout",
     "output_type": "stream",
     "text": [
      "Train, epoch: [1][  1/280]\tLoss 2.5497e-01 (2.8671e-01)\tAccuracy 0.915 (0.908)\n"
     ]
    },
    {
     "name": "stderr",
     "output_type": "stream",
     "text": [
      "\r",
      " 41%|████████████████████████████████▌                                               | 114/280 [33:13<48:12, 17.42s/it]"
     ]
    },
    {
     "name": "stdout",
     "output_type": "stream",
     "text": [
      "Train, epoch: [1][  1/280]\tLoss 2.2562e-01 (2.8617e-01)\tAccuracy 0.927 (0.908)\n"
     ]
    },
    {
     "name": "stderr",
     "output_type": "stream",
     "text": [
      "\r",
      " 41%|████████████████████████████████▊                                               | 115/280 [33:30<48:03, 17.47s/it]"
     ]
    },
    {
     "name": "stdout",
     "output_type": "stream",
     "text": [
      "Train, epoch: [1][  1/280]\tLoss 2.1932e-01 (2.8559e-01)\tAccuracy 0.936 (0.909)\n"
     ]
    },
    {
     "name": "stderr",
     "output_type": "stream",
     "text": [
      "\r",
      " 41%|█████████████████████████████████▏                                              | 116/280 [33:48<47:48, 17.49s/it]"
     ]
    },
    {
     "name": "stdout",
     "output_type": "stream",
     "text": [
      "Train, epoch: [1][  1/280]\tLoss 1.7638e-01 (2.8465e-01)\tAccuracy 0.945 (0.909)\n"
     ]
    },
    {
     "name": "stderr",
     "output_type": "stream",
     "text": [
      "\r",
      " 42%|█████████████████████████████████▍                                              | 117/280 [34:05<47:25, 17.45s/it]"
     ]
    },
    {
     "name": "stdout",
     "output_type": "stream",
     "text": [
      "Train, epoch: [1][  1/280]\tLoss 3.5464e-01 (2.8525e-01)\tAccuracy 0.919 (0.909)\n"
     ]
    },
    {
     "name": "stderr",
     "output_type": "stream",
     "text": [
      "\r",
      " 42%|█████████████████████████████████▋                                              | 118/280 [34:23<47:10, 17.47s/it]"
     ]
    },
    {
     "name": "stdout",
     "output_type": "stream",
     "text": [
      "Train, epoch: [1][  1/280]\tLoss 2.6061e-01 (2.8504e-01)\tAccuracy 0.914 (0.909)\n"
     ]
    },
    {
     "name": "stderr",
     "output_type": "stream",
     "text": [
      "\r",
      " 42%|██████████████████████████████████                                              | 119/280 [34:40<46:54, 17.48s/it]"
     ]
    },
    {
     "name": "stdout",
     "output_type": "stream",
     "text": [
      "Train, epoch: [1][  1/280]\tLoss 3.2176e-01 (2.8535e-01)\tAccuracy 0.898 (0.909)\n"
     ]
    },
    {
     "name": "stderr",
     "output_type": "stream",
     "text": [
      "\r",
      " 43%|██████████████████████████████████▎                                             | 120/280 [34:58<46:42, 17.51s/it]"
     ]
    },
    {
     "name": "stdout",
     "output_type": "stream",
     "text": [
      "Train, epoch: [1][  1/280]\tLoss 2.7345e-01 (2.8525e-01)\tAccuracy 0.910 (0.909)\n"
     ]
    },
    {
     "name": "stderr",
     "output_type": "stream",
     "text": [
      "\r",
      " 43%|██████████████████████████████████▌                                             | 121/280 [35:15<46:19, 17.48s/it]"
     ]
    },
    {
     "name": "stdout",
     "output_type": "stream",
     "text": [
      "Train, epoch: [1][  1/280]\tLoss 4.3478e-01 (2.8648e-01)\tAccuracy 0.857 (0.909)\n"
     ]
    },
    {
     "name": "stderr",
     "output_type": "stream",
     "text": [
      "\r",
      " 44%|██████████████████████████████████▊                                             | 122/280 [35:33<46:00, 17.47s/it]"
     ]
    },
    {
     "name": "stdout",
     "output_type": "stream",
     "text": [
      "Train, epoch: [1][  1/280]\tLoss 2.2116e-01 (2.8595e-01)\tAccuracy 0.927 (0.909)\n"
     ]
    },
    {
     "name": "stderr",
     "output_type": "stream",
     "text": [
      "\r",
      " 44%|███████████████████████████████████▏                                            | 123/280 [35:50<45:47, 17.50s/it]"
     ]
    },
    {
     "name": "stdout",
     "output_type": "stream",
     "text": [
      "Train, epoch: [1][  1/280]\tLoss 6.3848e-01 (2.8881e-01)\tAccuracy 0.795 (0.908)\n"
     ]
    },
    {
     "name": "stderr",
     "output_type": "stream",
     "text": [
      "\r",
      " 44%|███████████████████████████████████▍                                            | 124/280 [36:08<45:29, 17.50s/it]"
     ]
    },
    {
     "name": "stdout",
     "output_type": "stream",
     "text": [
      "Train, epoch: [1][  1/280]\tLoss 2.4134e-01 (2.8843e-01)\tAccuracy 0.920 (0.908)\n"
     ]
    },
    {
     "name": "stderr",
     "output_type": "stream",
     "text": [
      "\r",
      " 45%|███████████████████████████████████▋                                            | 125/280 [36:25<45:05, 17.45s/it]"
     ]
    },
    {
     "name": "stdout",
     "output_type": "stream",
     "text": [
      "Train, epoch: [1][  1/280]\tLoss 2.5513e-01 (2.8816e-01)\tAccuracy 0.921 (0.908)\n"
     ]
    },
    {
     "name": "stderr",
     "output_type": "stream",
     "text": [
      "\r",
      " 45%|████████████████████████████████████                                            | 126/280 [36:43<44:52, 17.48s/it]"
     ]
    },
    {
     "name": "stdout",
     "output_type": "stream",
     "text": [
      "Train, epoch: [1][  1/280]\tLoss 2.0082e-01 (2.8747e-01)\tAccuracy 0.926 (0.908)\n"
     ]
    },
    {
     "name": "stderr",
     "output_type": "stream",
     "text": [
      "\r",
      " 45%|████████████████████████████████████▎                                           | 127/280 [37:00<44:24, 17.41s/it]"
     ]
    },
    {
     "name": "stdout",
     "output_type": "stream",
     "text": [
      "Train, epoch: [1][  1/280]\tLoss 2.7803e-01 (2.8740e-01)\tAccuracy 0.906 (0.908)\n"
     ]
    },
    {
     "name": "stderr",
     "output_type": "stream",
     "text": [
      "\r",
      " 46%|████████████████████████████████████▌                                           | 128/280 [37:17<44:07, 17.42s/it]"
     ]
    },
    {
     "name": "stdout",
     "output_type": "stream",
     "text": [
      "Train, epoch: [1][  1/280]\tLoss 1.5716e-01 (2.8638e-01)\tAccuracy 0.956 (0.909)\n"
     ]
    },
    {
     "name": "stderr",
     "output_type": "stream",
     "text": [
      "\r",
      " 46%|████████████████████████████████████▊                                           | 129/280 [37:35<43:56, 17.46s/it]"
     ]
    },
    {
     "name": "stdout",
     "output_type": "stream",
     "text": [
      "Train, epoch: [1][  1/280]\tLoss 3.8927e-01 (2.8718e-01)\tAccuracy 0.861 (0.908)\n"
     ]
    },
    {
     "name": "stderr",
     "output_type": "stream",
     "text": [
      "\r",
      " 46%|█████████████████████████████████████▏                                          | 130/280 [37:53<44:01, 17.61s/it]"
     ]
    },
    {
     "name": "stdout",
     "output_type": "stream",
     "text": [
      "Train, epoch: [1][  1/280]\tLoss 3.7392e-01 (2.8784e-01)\tAccuracy 0.872 (0.908)\n"
     ]
    },
    {
     "name": "stderr",
     "output_type": "stream",
     "text": [
      "\r",
      " 47%|█████████████████████████████████████▍                                          | 131/280 [38:10<43:45, 17.62s/it]"
     ]
    },
    {
     "name": "stdout",
     "output_type": "stream",
     "text": [
      "Train, epoch: [1][  1/280]\tLoss 2.9160e-01 (2.8787e-01)\tAccuracy 0.901 (0.908)\n"
     ]
    },
    {
     "name": "stderr",
     "output_type": "stream",
     "text": [
      "\r",
      " 47%|█████████████████████████████████████▋                                          | 132/280 [38:28<43:29, 17.63s/it]"
     ]
    },
    {
     "name": "stdout",
     "output_type": "stream",
     "text": [
      "Train, epoch: [1][  1/280]\tLoss 1.9731e-01 (2.8719e-01)\tAccuracy 0.947 (0.908)\n"
     ]
    },
    {
     "name": "stderr",
     "output_type": "stream",
     "text": [
      "\r",
      " 48%|██████████████████████████████████████                                          | 133/280 [38:46<43:08, 17.61s/it]"
     ]
    },
    {
     "name": "stdout",
     "output_type": "stream",
     "text": [
      "Train, epoch: [1][  1/280]\tLoss 2.4200e-01 (2.8685e-01)\tAccuracy 0.920 (0.908)\n"
     ]
    },
    {
     "name": "stderr",
     "output_type": "stream",
     "text": [
      "\r",
      " 48%|██████████████████████████████████████▎                                         | 134/280 [39:03<42:48, 17.59s/it]"
     ]
    },
    {
     "name": "stdout",
     "output_type": "stream",
     "text": [
      "Train, epoch: [1][  1/280]\tLoss 2.2807e-01 (2.8641e-01)\tAccuracy 0.925 (0.908)\n"
     ]
    },
    {
     "name": "stderr",
     "output_type": "stream",
     "text": [
      "\r",
      " 48%|██████████████████████████████████████▌                                         | 135/280 [39:21<42:19, 17.51s/it]"
     ]
    },
    {
     "name": "stdout",
     "output_type": "stream",
     "text": [
      "Train, epoch: [1][  1/280]\tLoss 2.9475e-01 (2.8647e-01)\tAccuracy 0.906 (0.908)\n"
     ]
    },
    {
     "name": "stderr",
     "output_type": "stream",
     "text": [
      "\r",
      " 49%|██████████████████████████████████████▊                                         | 136/280 [39:38<41:57, 17.48s/it]"
     ]
    },
    {
     "name": "stdout",
     "output_type": "stream",
     "text": [
      "Train, epoch: [1][  1/280]\tLoss 2.6745e-01 (2.8633e-01)\tAccuracy 0.907 (0.908)\n"
     ]
    },
    {
     "name": "stderr",
     "output_type": "stream",
     "text": [
      "\r",
      " 49%|███████████████████████████████████████▏                                        | 137/280 [39:55<41:41, 17.49s/it]"
     ]
    },
    {
     "name": "stdout",
     "output_type": "stream",
     "text": [
      "Train, epoch: [1][  1/280]\tLoss 2.8067e-01 (2.8629e-01)\tAccuracy 0.911 (0.908)\n"
     ]
    },
    {
     "name": "stderr",
     "output_type": "stream",
     "text": [
      "\r",
      " 49%|███████████████████████████████████████▍                                        | 138/280 [40:13<41:25, 17.50s/it]"
     ]
    },
    {
     "name": "stdout",
     "output_type": "stream",
     "text": [
      "Train, epoch: [1][  1/280]\tLoss 2.5379e-01 (2.8605e-01)\tAccuracy 0.920 (0.908)\n"
     ]
    },
    {
     "name": "stderr",
     "output_type": "stream",
     "text": [
      "\r",
      " 50%|███████████████████████████████████████▋                                        | 139/280 [40:30<41:03, 17.47s/it]"
     ]
    },
    {
     "name": "stdout",
     "output_type": "stream",
     "text": [
      "Train, epoch: [1][  1/280]\tLoss 1.8828e-01 (2.8535e-01)\tAccuracy 0.937 (0.909)\n"
     ]
    },
    {
     "name": "stderr",
     "output_type": "stream",
     "text": [
      "\r",
      " 50%|████████████████████████████████████████                                        | 140/280 [40:48<40:42, 17.45s/it]"
     ]
    },
    {
     "name": "stdout",
     "output_type": "stream",
     "text": [
      "Train, epoch: [1][  1/280]\tLoss 2.0561e-01 (2.8478e-01)\tAccuracy 0.931 (0.909)\n"
     ]
    },
    {
     "name": "stderr",
     "output_type": "stream",
     "text": [
      "\r",
      " 50%|████████████████████████████████████████▎                                       | 141/280 [41:05<40:26, 17.46s/it]"
     ]
    },
    {
     "name": "stdout",
     "output_type": "stream",
     "text": [
      "Train, epoch: [1][  1/280]\tLoss 1.5953e-01 (2.8389e-01)\tAccuracy 0.944 (0.909)\n"
     ]
    },
    {
     "name": "stderr",
     "output_type": "stream",
     "text": [
      "\r",
      " 51%|████████████████████████████████████████▌                                       | 142/280 [41:23<40:09, 17.46s/it]"
     ]
    },
    {
     "name": "stdout",
     "output_type": "stream",
     "text": [
      "Train, epoch: [1][  1/280]\tLoss 2.2876e-01 (2.8350e-01)\tAccuracy 0.931 (0.909)\n"
     ]
    },
    {
     "name": "stderr",
     "output_type": "stream",
     "text": [
      "\r",
      " 51%|████████████████████████████████████████▊                                       | 143/280 [41:40<39:50, 17.45s/it]"
     ]
    },
    {
     "name": "stdout",
     "output_type": "stream",
     "text": [
      "Train, epoch: [1][  1/280]\tLoss 4.0324e-01 (2.8434e-01)\tAccuracy 0.872 (0.909)\n"
     ]
    },
    {
     "name": "stderr",
     "output_type": "stream",
     "text": [
      "\r",
      " 51%|█████████████████████████████████████████▏                                      | 144/280 [41:58<39:30, 17.43s/it]"
     ]
    },
    {
     "name": "stdout",
     "output_type": "stream",
     "text": [
      "Train, epoch: [1][  1/280]\tLoss 2.5366e-01 (2.8413e-01)\tAccuracy 0.928 (0.909)\n"
     ]
    },
    {
     "name": "stderr",
     "output_type": "stream",
     "text": [
      "\r",
      " 52%|█████████████████████████████████████████▍                                      | 145/280 [42:15<39:06, 17.38s/it]"
     ]
    },
    {
     "name": "stdout",
     "output_type": "stream",
     "text": [
      "Train, epoch: [1][  1/280]\tLoss 2.5027e-01 (2.8389e-01)\tAccuracy 0.918 (0.909)\n"
     ]
    },
    {
     "name": "stderr",
     "output_type": "stream",
     "text": [
      "\r",
      " 52%|█████████████████████████████████████████▋                                      | 146/280 [42:32<38:50, 17.39s/it]"
     ]
    },
    {
     "name": "stdout",
     "output_type": "stream",
     "text": [
      "Train, epoch: [1][  1/280]\tLoss 2.2330e-01 (2.8348e-01)\tAccuracy 0.927 (0.909)\n"
     ]
    },
    {
     "name": "stderr",
     "output_type": "stream",
     "text": [
      "\r",
      " 52%|██████████████████████████████████████████                                      | 147/280 [42:50<38:40, 17.44s/it]"
     ]
    },
    {
     "name": "stdout",
     "output_type": "stream",
     "text": [
      "Train, epoch: [1][  1/280]\tLoss 3.2985e-01 (2.8379e-01)\tAccuracy 0.897 (0.909)\n"
     ]
    },
    {
     "name": "stderr",
     "output_type": "stream",
     "text": [
      "\r",
      " 53%|██████████████████████████████████████████▎                                     | 148/280 [43:07<38:23, 17.45s/it]"
     ]
    },
    {
     "name": "stdout",
     "output_type": "stream",
     "text": [
      "Train, epoch: [1][  1/280]\tLoss 2.3172e-01 (2.8344e-01)\tAccuracy 0.921 (0.909)\n"
     ]
    },
    {
     "name": "stderr",
     "output_type": "stream",
     "text": [
      "\r",
      " 53%|██████████████████████████████████████████▌                                     | 149/280 [43:25<37:59, 17.40s/it]"
     ]
    },
    {
     "name": "stdout",
     "output_type": "stream",
     "text": [
      "Train, epoch: [1][  1/280]\tLoss 2.3751e-01 (2.8313e-01)\tAccuracy 0.921 (0.909)\n"
     ]
    },
    {
     "name": "stderr",
     "output_type": "stream",
     "text": [
      "\r",
      " 54%|██████████████████████████████████████████▊                                     | 150/280 [43:42<37:48, 17.45s/it]"
     ]
    },
    {
     "name": "stdout",
     "output_type": "stream",
     "text": [
      "Train, epoch: [1][  1/280]\tLoss 2.3998e-01 (2.8285e-01)\tAccuracy 0.926 (0.909)\n"
     ]
    },
    {
     "name": "stderr",
     "output_type": "stream",
     "text": [
      "\r",
      " 54%|███████████████████████████████████████████▏                                    | 151/280 [44:00<37:33, 17.47s/it]"
     ]
    },
    {
     "name": "stdout",
     "output_type": "stream",
     "text": [
      "Train, epoch: [1][  1/280]\tLoss 2.6265e-01 (2.8271e-01)\tAccuracy 0.912 (0.909)\n"
     ]
    },
    {
     "name": "stderr",
     "output_type": "stream",
     "text": [
      "\r",
      " 54%|███████████████████████████████████████████▍                                    | 152/280 [44:17<37:22, 17.52s/it]"
     ]
    },
    {
     "name": "stdout",
     "output_type": "stream",
     "text": [
      "Train, epoch: [1][  1/280]\tLoss 2.1056e-01 (2.8224e-01)\tAccuracy 0.933 (0.910)\n"
     ]
    },
    {
     "name": "stderr",
     "output_type": "stream",
     "text": [
      "\r",
      " 55%|███████████████████████████████████████████▋                                    | 153/280 [44:35<37:02, 17.50s/it]"
     ]
    },
    {
     "name": "stdout",
     "output_type": "stream",
     "text": [
      "Train, epoch: [1][  1/280]\tLoss 2.5129e-01 (2.8204e-01)\tAccuracy 0.918 (0.910)\n"
     ]
    },
    {
     "name": "stderr",
     "output_type": "stream",
     "text": [
      "\r",
      " 55%|████████████████████████████████████████████                                    | 154/280 [44:52<36:45, 17.50s/it]"
     ]
    },
    {
     "name": "stdout",
     "output_type": "stream",
     "text": [
      "Train, epoch: [1][  1/280]\tLoss 2.9276e-01 (2.8211e-01)\tAccuracy 0.911 (0.910)\n"
     ]
    },
    {
     "name": "stderr",
     "output_type": "stream",
     "text": [
      "\r",
      " 55%|████████████████████████████████████████████▎                                   | 155/280 [45:10<36:27, 17.50s/it]"
     ]
    },
    {
     "name": "stdout",
     "output_type": "stream",
     "text": [
      "Train, epoch: [1][  1/280]\tLoss 1.5392e-01 (2.8128e-01)\tAccuracy 0.950 (0.910)\n"
     ]
    },
    {
     "name": "stderr",
     "output_type": "stream",
     "text": [
      "\r",
      " 56%|████████████████████████████████████████████▌                                   | 156/280 [45:27<36:04, 17.45s/it]"
     ]
    },
    {
     "name": "stdout",
     "output_type": "stream",
     "text": [
      "Train, epoch: [1][  1/280]\tLoss 2.0749e-01 (2.8081e-01)\tAccuracy 0.928 (0.910)\n"
     ]
    },
    {
     "name": "stderr",
     "output_type": "stream",
     "text": [
      "\r",
      " 56%|████████████████████████████████████████████▊                                   | 157/280 [45:45<35:52, 17.50s/it]"
     ]
    },
    {
     "name": "stdout",
     "output_type": "stream",
     "text": [
      "Train, epoch: [1][  1/280]\tLoss 1.4516e-01 (2.7994e-01)\tAccuracy 0.957 (0.910)\n"
     ]
    },
    {
     "name": "stderr",
     "output_type": "stream",
     "text": [
      "\r",
      " 56%|█████████████████████████████████████████████▏                                  | 158/280 [46:02<35:36, 17.52s/it]"
     ]
    },
    {
     "name": "stdout",
     "output_type": "stream",
     "text": [
      "Train, epoch: [1][  1/280]\tLoss 1.8348e-01 (2.7933e-01)\tAccuracy 0.939 (0.911)\n"
     ]
    },
    {
     "name": "stderr",
     "output_type": "stream",
     "text": [
      "\r",
      " 57%|█████████████████████████████████████████████▍                                  | 159/280 [46:20<35:19, 17.52s/it]"
     ]
    },
    {
     "name": "stdout",
     "output_type": "stream",
     "text": [
      "Train, epoch: [1][  1/280]\tLoss 4.0993e-01 (2.8015e-01)\tAccuracy 0.859 (0.910)\n"
     ]
    },
    {
     "name": "stderr",
     "output_type": "stream",
     "text": [
      "\r",
      " 57%|█████████████████████████████████████████████▋                                  | 160/280 [46:37<34:58, 17.49s/it]"
     ]
    },
    {
     "name": "stdout",
     "output_type": "stream",
     "text": [
      "Train, epoch: [1][  1/280]\tLoss 2.6281e-01 (2.8004e-01)\tAccuracy 0.907 (0.910)\n"
     ]
    },
    {
     "name": "stderr",
     "output_type": "stream",
     "text": [
      "\r",
      " 57%|██████████████████████████████████████████████                                  | 161/280 [46:55<34:44, 17.52s/it]"
     ]
    },
    {
     "name": "stdout",
     "output_type": "stream",
     "text": [
      "Train, epoch: [1][  1/280]\tLoss 2.9849e-01 (2.8016e-01)\tAccuracy 0.908 (0.910)\n"
     ]
    },
    {
     "name": "stderr",
     "output_type": "stream",
     "text": [
      "\r",
      " 58%|██████████████████████████████████████████████▎                                 | 162/280 [47:12<34:22, 17.47s/it]"
     ]
    },
    {
     "name": "stdout",
     "output_type": "stream",
     "text": [
      "Train, epoch: [1][  1/280]\tLoss 2.3506e-01 (2.7988e-01)\tAccuracy 0.926 (0.910)\n"
     ]
    },
    {
     "name": "stderr",
     "output_type": "stream",
     "text": [
      "\r",
      " 58%|██████████████████████████████████████████████▌                                 | 163/280 [47:30<34:07, 17.50s/it]"
     ]
    },
    {
     "name": "stdout",
     "output_type": "stream",
     "text": [
      "Train, epoch: [1][  1/280]\tLoss 2.1221e-01 (2.7946e-01)\tAccuracy 0.932 (0.910)\n"
     ]
    },
    {
     "name": "stderr",
     "output_type": "stream",
     "text": [
      "\r",
      " 59%|██████████████████████████████████████████████▊                                 | 164/280 [47:47<33:55, 17.55s/it]"
     ]
    },
    {
     "name": "stdout",
     "output_type": "stream",
     "text": [
      "Train, epoch: [1][  1/280]\tLoss 1.9696e-01 (2.7896e-01)\tAccuracy 0.937 (0.911)\n"
     ]
    },
    {
     "name": "stderr",
     "output_type": "stream",
     "text": [
      "\r",
      " 59%|███████████████████████████████████████████████▏                                | 165/280 [48:05<33:27, 17.45s/it]"
     ]
    },
    {
     "name": "stdout",
     "output_type": "stream",
     "text": [
      "Train, epoch: [1][  1/280]\tLoss 2.1782e-01 (2.7859e-01)\tAccuracy 0.926 (0.911)\n"
     ]
    },
    {
     "name": "stderr",
     "output_type": "stream",
     "text": [
      "\r",
      " 59%|███████████████████████████████████████████████▍                                | 166/280 [48:22<33:06, 17.43s/it]"
     ]
    },
    {
     "name": "stdout",
     "output_type": "stream",
     "text": [
      "Train, epoch: [1][  1/280]\tLoss 2.7556e-01 (2.7857e-01)\tAccuracy 0.904 (0.911)\n"
     ]
    },
    {
     "name": "stderr",
     "output_type": "stream",
     "text": [
      "\r",
      " 60%|███████████████████████████████████████████████▋                                | 167/280 [48:39<32:52, 17.46s/it]"
     ]
    },
    {
     "name": "stdout",
     "output_type": "stream",
     "text": [
      "Train, epoch: [1][  1/280]\tLoss 2.7063e-01 (2.7853e-01)\tAccuracy 0.909 (0.911)\n"
     ]
    },
    {
     "name": "stderr",
     "output_type": "stream",
     "text": [
      "\r",
      " 60%|████████████████████████████████████████████████                                | 168/280 [48:57<32:33, 17.45s/it]"
     ]
    },
    {
     "name": "stdout",
     "output_type": "stream",
     "text": [
      "Train, epoch: [1][  1/280]\tLoss 2.1167e-01 (2.7813e-01)\tAccuracy 0.927 (0.911)\n"
     ]
    },
    {
     "name": "stderr",
     "output_type": "stream",
     "text": [
      "\r",
      " 60%|████████████████████████████████████████████████▎                               | 169/280 [49:14<32:14, 17.43s/it]"
     ]
    },
    {
     "name": "stdout",
     "output_type": "stream",
     "text": [
      "Train, epoch: [1][  1/280]\tLoss 2.5069e-01 (2.7797e-01)\tAccuracy 0.918 (0.911)\n"
     ]
    },
    {
     "name": "stderr",
     "output_type": "stream",
     "text": [
      "\r",
      " 61%|████████████████████████████████████████████████▌                               | 170/280 [49:32<31:56, 17.42s/it]"
     ]
    },
    {
     "name": "stdout",
     "output_type": "stream",
     "text": [
      "Train, epoch: [1][  1/280]\tLoss 2.6182e-01 (2.7787e-01)\tAccuracy 0.916 (0.911)\n"
     ]
    },
    {
     "name": "stderr",
     "output_type": "stream",
     "text": [
      "\r",
      " 61%|████████████████████████████████████████████████▊                               | 171/280 [49:49<31:41, 17.44s/it]"
     ]
    },
    {
     "name": "stdout",
     "output_type": "stream",
     "text": [
      "Train, epoch: [1][  1/280]\tLoss 3.3640e-01 (2.7821e-01)\tAccuracy 0.880 (0.911)\n"
     ]
    },
    {
     "name": "stderr",
     "output_type": "stream",
     "text": [
      "\r",
      " 61%|█████████████████████████████████████████████████▏                              | 172/280 [50:07<31:30, 17.50s/it]"
     ]
    },
    {
     "name": "stdout",
     "output_type": "stream",
     "text": [
      "Train, epoch: [1][  1/280]\tLoss 1.2587e-01 (2.7733e-01)\tAccuracy 0.962 (0.911)\n"
     ]
    },
    {
     "name": "stderr",
     "output_type": "stream",
     "text": [
      "\r",
      " 62%|█████████████████████████████████████████████████▍                              | 173/280 [50:24<31:09, 17.47s/it]"
     ]
    },
    {
     "name": "stdout",
     "output_type": "stream",
     "text": [
      "Train, epoch: [1][  1/280]\tLoss 2.3475e-01 (2.7708e-01)\tAccuracy 0.921 (0.911)\n"
     ]
    },
    {
     "name": "stderr",
     "output_type": "stream",
     "text": [
      "\r",
      " 62%|█████████████████████████████████████████████████▋                              | 174/280 [50:42<30:51, 17.47s/it]"
     ]
    },
    {
     "name": "stdout",
     "output_type": "stream",
     "text": [
      "Train, epoch: [1][  1/280]\tLoss 1.3855e-01 (2.7628e-01)\tAccuracy 0.955 (0.911)\n"
     ]
    },
    {
     "name": "stderr",
     "output_type": "stream",
     "text": [
      "\r",
      " 62%|██████████████████████████████████████████████████                              | 175/280 [50:59<30:29, 17.42s/it]"
     ]
    },
    {
     "name": "stdout",
     "output_type": "stream",
     "text": [
      "Train, epoch: [1][  1/280]\tLoss 1.5832e-01 (2.7561e-01)\tAccuracy 0.950 (0.911)\n"
     ]
    },
    {
     "name": "stderr",
     "output_type": "stream",
     "text": [
      "\r",
      " 63%|██████████████████████████████████████████████████▎                             | 176/280 [51:16<30:14, 17.45s/it]"
     ]
    },
    {
     "name": "stdout",
     "output_type": "stream",
     "text": [
      "Train, epoch: [1][  1/280]\tLoss 3.8498e-01 (2.7623e-01)\tAccuracy 0.866 (0.911)\n"
     ]
    },
    {
     "name": "stderr",
     "output_type": "stream",
     "text": [
      "\r",
      " 63%|██████████████████████████████████████████████████▌                             | 177/280 [51:34<29:59, 17.47s/it]"
     ]
    },
    {
     "name": "stdout",
     "output_type": "stream",
     "text": [
      "Train, epoch: [1][  1/280]\tLoss 2.6341e-01 (2.7616e-01)\tAccuracy 0.916 (0.911)\n"
     ]
    },
    {
     "name": "stderr",
     "output_type": "stream",
     "text": [
      "\r",
      " 64%|██████████████████████████████████████████████████▊                             | 178/280 [51:51<29:41, 17.47s/it]"
     ]
    },
    {
     "name": "stdout",
     "output_type": "stream",
     "text": [
      "Train, epoch: [1][  1/280]\tLoss 1.3169e-01 (2.7535e-01)\tAccuracy 0.960 (0.911)\n"
     ]
    },
    {
     "name": "stderr",
     "output_type": "stream",
     "text": [
      "\r",
      " 64%|███████████████████████████████████████████████████▏                            | 179/280 [52:09<29:20, 17.43s/it]"
     ]
    },
    {
     "name": "stdout",
     "output_type": "stream",
     "text": [
      "Train, epoch: [1][  1/280]\tLoss 2.9458e-01 (2.7546e-01)\tAccuracy 0.911 (0.911)\n"
     ]
    },
    {
     "name": "stderr",
     "output_type": "stream",
     "text": [
      "\r",
      " 64%|███████████████████████████████████████████████████▍                            | 180/280 [52:26<29:04, 17.45s/it]"
     ]
    },
    {
     "name": "stdout",
     "output_type": "stream",
     "text": [
      "Train, epoch: [1][  1/280]\tLoss 4.3244e-01 (2.7633e-01)\tAccuracy 0.864 (0.911)\n"
     ]
    },
    {
     "name": "stderr",
     "output_type": "stream",
     "text": [
      "\r",
      " 65%|███████████████████████████████████████████████████▋                            | 181/280 [52:44<28:45, 17.43s/it]"
     ]
    },
    {
     "name": "stdout",
     "output_type": "stream",
     "text": [
      "Train, epoch: [1][  1/280]\tLoss 2.3694e-01 (2.7611e-01)\tAccuracy 0.925 (0.911)\n"
     ]
    },
    {
     "name": "stderr",
     "output_type": "stream",
     "text": [
      "\r",
      " 65%|████████████████████████████████████████████████████                            | 182/280 [53:01<28:28, 17.44s/it]"
     ]
    },
    {
     "name": "stdout",
     "output_type": "stream",
     "text": [
      "Train, epoch: [1][  1/280]\tLoss 3.0195e-01 (2.7625e-01)\tAccuracy 0.892 (0.911)\n"
     ]
    },
    {
     "name": "stderr",
     "output_type": "stream",
     "text": [
      "\r",
      " 65%|████████████████████████████████████████████████████▎                           | 183/280 [53:19<28:19, 17.52s/it]"
     ]
    },
    {
     "name": "stdout",
     "output_type": "stream",
     "text": [
      "Train, epoch: [1][  1/280]\tLoss 2.2969e-01 (2.7600e-01)\tAccuracy 0.924 (0.911)\n"
     ]
    },
    {
     "name": "stderr",
     "output_type": "stream",
     "text": [
      "\r",
      " 66%|████████████████████████████████████████████████████▌                           | 184/280 [53:36<28:00, 17.51s/it]"
     ]
    },
    {
     "name": "stdout",
     "output_type": "stream",
     "text": [
      "Train, epoch: [1][  1/280]\tLoss 2.2379e-01 (2.7571e-01)\tAccuracy 0.925 (0.911)\n"
     ]
    },
    {
     "name": "stderr",
     "output_type": "stream",
     "text": [
      "\r",
      " 66%|████████████████████████████████████████████████████▊                           | 185/280 [53:54<27:41, 17.48s/it]"
     ]
    },
    {
     "name": "stdout",
     "output_type": "stream",
     "text": [
      "Train, epoch: [1][  1/280]\tLoss 3.4467e-01 (2.7609e-01)\tAccuracy 0.885 (0.911)\n"
     ]
    },
    {
     "name": "stderr",
     "output_type": "stream",
     "text": [
      "\r",
      " 66%|█████████████████████████████████████████████████████▏                          | 186/280 [54:11<27:25, 17.51s/it]"
     ]
    },
    {
     "name": "stdout",
     "output_type": "stream",
     "text": [
      "Train, epoch: [1][  1/280]\tLoss 3.2059e-01 (2.7633e-01)\tAccuracy 0.900 (0.911)\n"
     ]
    },
    {
     "name": "stderr",
     "output_type": "stream",
     "text": [
      "\r",
      " 67%|█████████████████████████████████████████████████████▍                          | 187/280 [54:29<27:07, 17.50s/it]"
     ]
    },
    {
     "name": "stdout",
     "output_type": "stream",
     "text": [
      "Train, epoch: [1][  1/280]\tLoss 4.3359e-01 (2.7717e-01)\tAccuracy 0.858 (0.911)\n"
     ]
    },
    {
     "name": "stderr",
     "output_type": "stream",
     "text": [
      "\r",
      " 67%|█████████████████████████████████████████████████████▋                          | 188/280 [54:46<26:48, 17.49s/it]"
     ]
    },
    {
     "name": "stdout",
     "output_type": "stream",
     "text": [
      "Train, epoch: [1][  1/280]\tLoss 1.9446e-01 (2.7673e-01)\tAccuracy 0.939 (0.911)\n"
     ]
    },
    {
     "name": "stderr",
     "output_type": "stream",
     "text": [
      "\r",
      " 68%|██████████████████████████████████████████████████████                          | 189/280 [55:04<26:26, 17.44s/it]"
     ]
    },
    {
     "name": "stdout",
     "output_type": "stream",
     "text": [
      "Train, epoch: [1][  1/280]\tLoss 2.4017e-01 (2.7653e-01)\tAccuracy 0.920 (0.911)\n"
     ]
    },
    {
     "name": "stderr",
     "output_type": "stream",
     "text": [
      "\r",
      " 68%|██████████████████████████████████████████████████████▎                         | 190/280 [55:21<26:13, 17.49s/it]"
     ]
    },
    {
     "name": "stdout",
     "output_type": "stream",
     "text": [
      "Train, epoch: [1][  1/280]\tLoss 2.9592e-01 (2.7664e-01)\tAccuracy 0.901 (0.911)\n"
     ]
    },
    {
     "name": "stderr",
     "output_type": "stream",
     "text": [
      "\r",
      " 68%|██████████████████████████████████████████████████████▌                         | 191/280 [55:39<25:56, 17.49s/it]"
     ]
    },
    {
     "name": "stdout",
     "output_type": "stream",
     "text": [
      "Train, epoch: [1][  1/280]\tLoss 2.1769e-01 (2.7633e-01)\tAccuracy 0.937 (0.911)\n"
     ]
    },
    {
     "name": "stderr",
     "output_type": "stream",
     "text": [
      "\r",
      " 69%|██████████████████████████████████████████████████████▊                         | 192/280 [55:56<25:38, 17.48s/it]"
     ]
    },
    {
     "name": "stdout",
     "output_type": "stream",
     "text": [
      "Train, epoch: [1][  1/280]\tLoss 2.4735e-01 (2.7618e-01)\tAccuracy 0.914 (0.911)\n"
     ]
    },
    {
     "name": "stderr",
     "output_type": "stream",
     "text": [
      "\r",
      " 69%|███████████████████████████████████████████████████████▏                        | 193/280 [56:14<25:20, 17.48s/it]"
     ]
    },
    {
     "name": "stdout",
     "output_type": "stream",
     "text": [
      "Train, epoch: [1][  1/280]\tLoss 2.5178e-01 (2.7605e-01)\tAccuracy 0.915 (0.911)\n"
     ]
    },
    {
     "name": "stderr",
     "output_type": "stream",
     "text": [
      "\r",
      " 69%|███████████████████████████████████████████████████████▍                        | 194/280 [56:31<25:08, 17.54s/it]"
     ]
    },
    {
     "name": "stdout",
     "output_type": "stream",
     "text": [
      "Train, epoch: [1][  1/280]\tLoss 2.1587e-01 (2.7574e-01)\tAccuracy 0.932 (0.911)\n"
     ]
    },
    {
     "name": "stderr",
     "output_type": "stream",
     "text": [
      "\r",
      " 70%|███████████████████████████████████████████████████████▋                        | 195/280 [56:49<24:53, 17.57s/it]"
     ]
    },
    {
     "name": "stdout",
     "output_type": "stream",
     "text": [
      "Train, epoch: [1][  1/280]\tLoss 1.9734e-01 (2.7534e-01)\tAccuracy 0.935 (0.911)\n"
     ]
    },
    {
     "name": "stderr",
     "output_type": "stream",
     "text": [
      "\r",
      " 70%|████████████████████████████████████████████████████████                        | 196/280 [57:06<24:34, 17.56s/it]"
     ]
    },
    {
     "name": "stdout",
     "output_type": "stream",
     "text": [
      "Train, epoch: [1][  1/280]\tLoss 2.1970e-01 (2.7505e-01)\tAccuracy 0.929 (0.911)\n"
     ]
    },
    {
     "name": "stderr",
     "output_type": "stream",
     "text": [
      "\r",
      " 70%|████████████████████████████████████████████████████████▎                       | 197/280 [57:24<24:21, 17.61s/it]"
     ]
    },
    {
     "name": "stdout",
     "output_type": "stream",
     "text": [
      "Train, epoch: [1][  1/280]\tLoss 1.8148e-01 (2.7458e-01)\tAccuracy 0.939 (0.912)\n"
     ]
    },
    {
     "name": "stderr",
     "output_type": "stream",
     "text": [
      "\r",
      " 71%|████████████████████████████████████████████████████████▌                       | 198/280 [57:42<24:02, 17.60s/it]"
     ]
    },
    {
     "name": "stdout",
     "output_type": "stream",
     "text": [
      "Train, epoch: [1][  1/280]\tLoss 3.1670e-01 (2.7479e-01)\tAccuracy 0.881 (0.911)\n"
     ]
    },
    {
     "name": "stderr",
     "output_type": "stream",
     "text": [
      "\r",
      " 71%|████████████████████████████████████████████████████████▊                       | 199/280 [57:59<23:40, 17.54s/it]"
     ]
    },
    {
     "name": "stdout",
     "output_type": "stream",
     "text": [
      "Train, epoch: [1][  1/280]\tLoss 2.8564e-01 (2.7485e-01)\tAccuracy 0.902 (0.911)\n"
     ]
    },
    {
     "name": "stderr",
     "output_type": "stream",
     "text": [
      "\r",
      " 71%|█████████████████████████████████████████████████████████▏                      | 200/280 [58:17<23:22, 17.53s/it]"
     ]
    },
    {
     "name": "stdout",
     "output_type": "stream",
     "text": [
      "Train, epoch: [1][  1/280]\tLoss 1.9845e-01 (2.7446e-01)\tAccuracy 0.936 (0.912)\n"
     ]
    },
    {
     "name": "stderr",
     "output_type": "stream",
     "text": [
      "\r",
      " 72%|█████████████████████████████████████████████████████████▍                      | 201/280 [58:34<23:06, 17.55s/it]"
     ]
    },
    {
     "name": "stdout",
     "output_type": "stream",
     "text": [
      "Train, epoch: [1][  1/280]\tLoss 1.9362e-01 (2.7406e-01)\tAccuracy 0.936 (0.912)\n"
     ]
    },
    {
     "name": "stderr",
     "output_type": "stream",
     "text": [
      "\r",
      " 72%|█████████████████████████████████████████████████████████▋                      | 202/280 [58:52<22:51, 17.58s/it]"
     ]
    },
    {
     "name": "stdout",
     "output_type": "stream",
     "text": [
      "Train, epoch: [1][  1/280]\tLoss 3.1589e-01 (2.7427e-01)\tAccuracy 0.895 (0.912)\n"
     ]
    },
    {
     "name": "stderr",
     "output_type": "stream",
     "text": [
      "\r",
      " 72%|██████████████████████████████████████████████████████████                      | 203/280 [59:09<22:31, 17.55s/it]"
     ]
    },
    {
     "name": "stdout",
     "output_type": "stream",
     "text": [
      "Train, epoch: [1][  1/280]\tLoss 2.0621e-01 (2.7393e-01)\tAccuracy 0.934 (0.912)\n"
     ]
    },
    {
     "name": "stderr",
     "output_type": "stream",
     "text": [
      "\r",
      " 73%|██████████████████████████████████████████████████████████▎                     | 204/280 [59:27<22:11, 17.52s/it]"
     ]
    },
    {
     "name": "stdout",
     "output_type": "stream",
     "text": [
      "Train, epoch: [1][  1/280]\tLoss 2.8055e-01 (2.7397e-01)\tAccuracy 0.903 (0.912)\n"
     ]
    },
    {
     "name": "stderr",
     "output_type": "stream",
     "text": [
      "\r",
      " 73%|██████████████████████████████████████████████████████████▌                     | 205/280 [59:44<21:50, 17.48s/it]"
     ]
    },
    {
     "name": "stdout",
     "output_type": "stream",
     "text": [
      "Train, epoch: [1][  1/280]\tLoss 2.6926e-01 (2.7394e-01)\tAccuracy 0.918 (0.912)\n"
     ]
    },
    {
     "name": "stderr",
     "output_type": "stream",
     "text": [
      "\r",
      " 74%|█████████████████████████████████████████████████████████▍                    | 206/280 [1:00:02<21:32, 17.47s/it]"
     ]
    },
    {
     "name": "stdout",
     "output_type": "stream",
     "text": [
      "Train, epoch: [1][  1/280]\tLoss 1.4017e-01 (2.7329e-01)\tAccuracy 0.956 (0.912)\n"
     ]
    },
    {
     "name": "stderr",
     "output_type": "stream",
     "text": [
      "\r",
      " 74%|█████████████████████████████████████████████████████████▋                    | 207/280 [1:00:19<21:16, 17.49s/it]"
     ]
    },
    {
     "name": "stdout",
     "output_type": "stream",
     "text": [
      "Train, epoch: [1][  1/280]\tLoss 2.6704e-01 (2.7326e-01)\tAccuracy 0.916 (0.912)\n"
     ]
    },
    {
     "name": "stderr",
     "output_type": "stream",
     "text": [
      "\r",
      " 74%|█████████████████████████████████████████████████████████▉                    | 208/280 [1:00:37<20:55, 17.44s/it]"
     ]
    },
    {
     "name": "stdout",
     "output_type": "stream",
     "text": [
      "Train, epoch: [1][  1/280]\tLoss 3.7317e-01 (2.7374e-01)\tAccuracy 0.877 (0.912)\n"
     ]
    },
    {
     "name": "stderr",
     "output_type": "stream",
     "text": [
      "\r",
      " 75%|██████████████████████████████████████████████████████████▏                   | 209/280 [1:00:54<20:37, 17.43s/it]"
     ]
    },
    {
     "name": "stdout",
     "output_type": "stream",
     "text": [
      "Train, epoch: [1][  1/280]\tLoss 2.6333e-01 (2.7369e-01)\tAccuracy 0.911 (0.912)\n"
     ]
    },
    {
     "name": "stderr",
     "output_type": "stream",
     "text": [
      "\r",
      " 75%|██████████████████████████████████████████████████████████▌                   | 210/280 [1:01:11<20:22, 17.46s/it]"
     ]
    },
    {
     "name": "stdout",
     "output_type": "stream",
     "text": [
      "Train, epoch: [1][  1/280]\tLoss 2.2300e-01 (2.7345e-01)\tAccuracy 0.921 (0.912)\n"
     ]
    },
    {
     "name": "stderr",
     "output_type": "stream",
     "text": [
      "\r",
      " 75%|██████████████████████████████████████████████████████████▊                   | 211/280 [1:01:29<20:07, 17.50s/it]"
     ]
    },
    {
     "name": "stdout",
     "output_type": "stream",
     "text": [
      "Train, epoch: [1][  1/280]\tLoss 1.9645e-01 (2.7309e-01)\tAccuracy 0.939 (0.912)\n"
     ]
    },
    {
     "name": "stderr",
     "output_type": "stream",
     "text": [
      "\r",
      " 76%|███████████████████████████████████████████████████████████                   | 212/280 [1:01:47<19:50, 17.51s/it]"
     ]
    },
    {
     "name": "stdout",
     "output_type": "stream",
     "text": [
      "Train, epoch: [1][  1/280]\tLoss 2.7519e-01 (2.7310e-01)\tAccuracy 0.906 (0.912)\n"
     ]
    },
    {
     "name": "stderr",
     "output_type": "stream",
     "text": [
      "\r",
      " 76%|███████████████████████████████████████████████████████████▎                  | 213/280 [1:02:04<19:34, 17.52s/it]"
     ]
    },
    {
     "name": "stdout",
     "output_type": "stream",
     "text": [
      "Train, epoch: [1][  1/280]\tLoss 3.7850e-01 (2.7359e-01)\tAccuracy 0.881 (0.912)\n"
     ]
    },
    {
     "name": "stderr",
     "output_type": "stream",
     "text": [
      "\r",
      " 76%|███████████████████████████████████████████████████████████▌                  | 214/280 [1:02:22<19:14, 17.50s/it]"
     ]
    },
    {
     "name": "stdout",
     "output_type": "stream",
     "text": [
      "Train, epoch: [1][  1/280]\tLoss 3.0141e-01 (2.7372e-01)\tAccuracy 0.897 (0.912)\n"
     ]
    },
    {
     "name": "stderr",
     "output_type": "stream",
     "text": [
      "\r",
      " 77%|███████████████████████████████████████████████████████████▉                  | 215/280 [1:02:39<18:54, 17.46s/it]"
     ]
    },
    {
     "name": "stdout",
     "output_type": "stream",
     "text": [
      "Train, epoch: [1][  1/280]\tLoss 3.9342e-01 (2.7428e-01)\tAccuracy 0.881 (0.912)\n"
     ]
    },
    {
     "name": "stderr",
     "output_type": "stream",
     "text": [
      "\r",
      " 77%|████████████████████████████████████████████████████████████▏                 | 216/280 [1:02:56<18:38, 17.47s/it]"
     ]
    },
    {
     "name": "stdout",
     "output_type": "stream",
     "text": [
      "Train, epoch: [1][  1/280]\tLoss 4.0508e-01 (2.7488e-01)\tAccuracy 0.874 (0.911)\n"
     ]
    },
    {
     "name": "stderr",
     "output_type": "stream",
     "text": [
      "\r",
      " 78%|████████████████████████████████████████████████████████████▍                 | 217/280 [1:03:14<18:20, 17.47s/it]"
     ]
    },
    {
     "name": "stdout",
     "output_type": "stream",
     "text": [
      "Train, epoch: [1][  1/280]\tLoss 2.2322e-01 (2.7465e-01)\tAccuracy 0.923 (0.911)\n"
     ]
    },
    {
     "name": "stderr",
     "output_type": "stream",
     "text": [
      "\r",
      " 78%|████████████████████████████████████████████████████████████▋                 | 218/280 [1:03:31<18:03, 17.48s/it]"
     ]
    },
    {
     "name": "stdout",
     "output_type": "stream",
     "text": [
      "Train, epoch: [1][  1/280]\tLoss 2.5726e-01 (2.7457e-01)\tAccuracy 0.910 (0.911)\n"
     ]
    },
    {
     "name": "stderr",
     "output_type": "stream",
     "text": [
      "\r",
      " 78%|█████████████████████████████████████████████████████████████                 | 219/280 [1:03:49<17:44, 17.45s/it]"
     ]
    },
    {
     "name": "stdout",
     "output_type": "stream",
     "text": [
      "Train, epoch: [1][  1/280]\tLoss 1.8333e-01 (2.7415e-01)\tAccuracy 0.941 (0.912)\n"
     ]
    },
    {
     "name": "stderr",
     "output_type": "stream",
     "text": [
      "\r",
      " 79%|█████████████████████████████████████████████████████████████▎                | 220/280 [1:04:06<17:23, 17.40s/it]"
     ]
    },
    {
     "name": "stdout",
     "output_type": "stream",
     "text": [
      "Train, epoch: [1][  1/280]\tLoss 2.3205e-01 (2.7396e-01)\tAccuracy 0.917 (0.912)\n"
     ]
    },
    {
     "name": "stderr",
     "output_type": "stream",
     "text": [
      "\r",
      " 79%|█████████████████████████████████████████████████████████████▌                | 221/280 [1:04:23<17:06, 17.39s/it]"
     ]
    },
    {
     "name": "stdout",
     "output_type": "stream",
     "text": [
      "Train, epoch: [1][  1/280]\tLoss 3.6675e-01 (2.7438e-01)\tAccuracy 0.878 (0.911)\n"
     ]
    },
    {
     "name": "stderr",
     "output_type": "stream",
     "text": [
      "\r",
      " 79%|█████████████████████████████████████████████████████████████▊                | 222/280 [1:04:41<16:47, 17.37s/it]"
     ]
    },
    {
     "name": "stdout",
     "output_type": "stream",
     "text": [
      "Train, epoch: [1][  1/280]\tLoss 1.5978e-01 (2.7386e-01)\tAccuracy 0.949 (0.912)\n"
     ]
    },
    {
     "name": "stderr",
     "output_type": "stream",
     "text": [
      "\r",
      " 80%|██████████████████████████████████████████████████████████████                | 223/280 [1:04:58<16:31, 17.40s/it]"
     ]
    },
    {
     "name": "stdout",
     "output_type": "stream",
     "text": [
      "Train, epoch: [1][  1/280]\tLoss 2.1130e-01 (2.7358e-01)\tAccuracy 0.929 (0.912)\n"
     ]
    },
    {
     "name": "stderr",
     "output_type": "stream",
     "text": [
      "\r",
      " 80%|██████████████████████████████████████████████████████████████▍               | 224/280 [1:05:16<16:15, 17.42s/it]"
     ]
    },
    {
     "name": "stdout",
     "output_type": "stream",
     "text": [
      "Train, epoch: [1][  1/280]\tLoss 2.2768e-01 (2.7338e-01)\tAccuracy 0.925 (0.912)\n"
     ]
    },
    {
     "name": "stderr",
     "output_type": "stream",
     "text": [
      "\r",
      " 80%|██████████████████████████████████████████████████████████████▋               | 225/280 [1:05:33<16:00, 17.46s/it]"
     ]
    },
    {
     "name": "stdout",
     "output_type": "stream",
     "text": [
      "Train, epoch: [1][  1/280]\tLoss 1.5764e-01 (2.7286e-01)\tAccuracy 0.948 (0.912)\n"
     ]
    },
    {
     "name": "stderr",
     "output_type": "stream",
     "text": [
      "\r",
      " 81%|██████████████████████████████████████████████████████████████▉               | 226/280 [1:05:51<15:43, 17.48s/it]"
     ]
    },
    {
     "name": "stdout",
     "output_type": "stream",
     "text": [
      "Train, epoch: [1][  1/280]\tLoss 1.4802e-01 (2.7231e-01)\tAccuracy 0.953 (0.912)\n"
     ]
    },
    {
     "name": "stderr",
     "output_type": "stream",
     "text": [
      "\r",
      " 81%|███████████████████████████████████████████████████████████████▏              | 227/280 [1:06:08<15:26, 17.49s/it]"
     ]
    },
    {
     "name": "stdout",
     "output_type": "stream",
     "text": [
      "Train, epoch: [1][  1/280]\tLoss 3.0202e-01 (2.7244e-01)\tAccuracy 0.900 (0.912)\n"
     ]
    },
    {
     "name": "stderr",
     "output_type": "stream",
     "text": [
      "\r",
      " 81%|███████████████████████████████████████████████████████████████▌              | 228/280 [1:06:26<15:09, 17.50s/it]"
     ]
    },
    {
     "name": "stdout",
     "output_type": "stream",
     "text": [
      "Train, epoch: [1][  1/280]\tLoss 2.5921e-01 (2.7238e-01)\tAccuracy 0.914 (0.912)\n"
     ]
    },
    {
     "name": "stderr",
     "output_type": "stream",
     "text": [
      "\r",
      " 82%|███████████████████████████████████████████████████████████████▊              | 229/280 [1:06:43<14:51, 17.48s/it]"
     ]
    },
    {
     "name": "stdout",
     "output_type": "stream",
     "text": [
      "Train, epoch: [1][  1/280]\tLoss 1.6718e-01 (2.7192e-01)\tAccuracy 0.945 (0.912)\n"
     ]
    },
    {
     "name": "stderr",
     "output_type": "stream",
     "text": [
      "\r",
      " 82%|████████████████████████████████████████████████████████████████              | 230/280 [1:07:01<14:33, 17.48s/it]"
     ]
    },
    {
     "name": "stdout",
     "output_type": "stream",
     "text": [
      "Train, epoch: [1][  1/280]\tLoss 2.1926e-01 (2.7169e-01)\tAccuracy 0.925 (0.912)\n"
     ]
    },
    {
     "name": "stderr",
     "output_type": "stream",
     "text": [
      "\r",
      " 82%|████████████████████████████████████████████████████████████████▎             | 231/280 [1:07:18<14:16, 17.49s/it]"
     ]
    },
    {
     "name": "stdout",
     "output_type": "stream",
     "text": [
      "Train, epoch: [1][  1/280]\tLoss 1.4743e-01 (2.7116e-01)\tAccuracy 0.956 (0.912)\n"
     ]
    },
    {
     "name": "stderr",
     "output_type": "stream",
     "text": [
      "\r",
      " 83%|████████████████████████████████████████████████████████████████▋             | 232/280 [1:07:36<13:55, 17.42s/it]"
     ]
    },
    {
     "name": "stdout",
     "output_type": "stream",
     "text": [
      "Train, epoch: [1][  1/280]\tLoss 2.6105e-01 (2.7111e-01)\tAccuracy 0.913 (0.912)\n"
     ]
    },
    {
     "name": "stderr",
     "output_type": "stream",
     "text": [
      "\r",
      " 83%|████████████████████████████████████████████████████████████████▉             | 233/280 [1:07:53<13:39, 17.44s/it]"
     ]
    },
    {
     "name": "stdout",
     "output_type": "stream",
     "text": [
      "Train, epoch: [1][  1/280]\tLoss 2.0688e-01 (2.7084e-01)\tAccuracy 0.926 (0.912)\n"
     ]
    },
    {
     "name": "stderr",
     "output_type": "stream",
     "text": [
      "\r",
      " 84%|█████████████████████████████████████████████████████████████████▏            | 234/280 [1:08:11<13:24, 17.50s/it]"
     ]
    },
    {
     "name": "stdout",
     "output_type": "stream",
     "text": [
      "Train, epoch: [1][  1/280]\tLoss 2.9705e-01 (2.7095e-01)\tAccuracy 0.894 (0.912)\n"
     ]
    },
    {
     "name": "stderr",
     "output_type": "stream",
     "text": [
      "\r",
      " 84%|█████████████████████████████████████████████████████████████████▍            | 235/280 [1:08:28<13:06, 17.48s/it]"
     ]
    },
    {
     "name": "stdout",
     "output_type": "stream",
     "text": [
      "Train, epoch: [1][  1/280]\tLoss 1.4825e-01 (2.7043e-01)\tAccuracy 0.951 (0.913)\n"
     ]
    },
    {
     "name": "stderr",
     "output_type": "stream",
     "text": [
      "\r",
      " 84%|█████████████████████████████████████████████████████████████████▋            | 236/280 [1:08:46<12:48, 17.47s/it]"
     ]
    },
    {
     "name": "stdout",
     "output_type": "stream",
     "text": [
      "Train, epoch: [1][  1/280]\tLoss 3.4017e-01 (2.7072e-01)\tAccuracy 0.888 (0.912)\n"
     ]
    },
    {
     "name": "stderr",
     "output_type": "stream",
     "text": [
      "\r",
      " 85%|██████████████████████████████████████████████████████████████████            | 237/280 [1:09:03<12:30, 17.45s/it]"
     ]
    },
    {
     "name": "stdout",
     "output_type": "stream",
     "text": [
      "Train, epoch: [1][  1/280]\tLoss 2.4061e-01 (2.7060e-01)\tAccuracy 0.919 (0.912)\n"
     ]
    },
    {
     "name": "stderr",
     "output_type": "stream",
     "text": [
      "\r",
      " 85%|██████████████████████████████████████████████████████████████████▎           | 238/280 [1:09:20<12:12, 17.44s/it]"
     ]
    },
    {
     "name": "stdout",
     "output_type": "stream",
     "text": [
      "Train, epoch: [1][  1/280]\tLoss 2.0538e-01 (2.7032e-01)\tAccuracy 0.929 (0.913)\n"
     ]
    },
    {
     "name": "stderr",
     "output_type": "stream",
     "text": [
      "\r",
      " 85%|██████████████████████████████████████████████████████████████████▌           | 239/280 [1:09:38<11:52, 17.39s/it]"
     ]
    },
    {
     "name": "stdout",
     "output_type": "stream",
     "text": [
      "Train, epoch: [1][  1/280]\tLoss 2.3554e-01 (2.7018e-01)\tAccuracy 0.920 (0.913)\n"
     ]
    },
    {
     "name": "stderr",
     "output_type": "stream",
     "text": [
      "\r",
      " 86%|██████████████████████████████████████████████████████████████████▊           | 240/280 [1:09:55<11:34, 17.36s/it]"
     ]
    },
    {
     "name": "stdout",
     "output_type": "stream",
     "text": [
      "Train, epoch: [1][  1/280]\tLoss 2.5489e-01 (2.7011e-01)\tAccuracy 0.916 (0.913)\n"
     ]
    },
    {
     "name": "stderr",
     "output_type": "stream",
     "text": [
      "\r",
      " 86%|███████████████████████████████████████████████████████████████████▏          | 241/280 [1:10:12<11:19, 17.42s/it]"
     ]
    },
    {
     "name": "stdout",
     "output_type": "stream",
     "text": [
      "Train, epoch: [1][  1/280]\tLoss 3.0207e-01 (2.7024e-01)\tAccuracy 0.893 (0.913)\n"
     ]
    },
    {
     "name": "stderr",
     "output_type": "stream",
     "text": [
      "\r",
      " 86%|███████████████████████████████████████████████████████████████████▍          | 242/280 [1:10:30<11:03, 17.45s/it]"
     ]
    },
    {
     "name": "stdout",
     "output_type": "stream",
     "text": [
      "Train, epoch: [1][  1/280]\tLoss 1.9494e-01 (2.6993e-01)\tAccuracy 0.941 (0.913)\n"
     ]
    },
    {
     "name": "stderr",
     "output_type": "stream",
     "text": [
      "\r",
      " 87%|███████████████████████████████████████████████████████████████████▋          | 243/280 [1:10:47<10:45, 17.43s/it]"
     ]
    },
    {
     "name": "stdout",
     "output_type": "stream",
     "text": [
      "Train, epoch: [1][  1/280]\tLoss 1.6968e-01 (2.6952e-01)\tAccuracy 0.946 (0.913)\n"
     ]
    },
    {
     "name": "stderr",
     "output_type": "stream",
     "text": [
      "\r",
      " 87%|███████████████████████████████████████████████████████████████████▉          | 244/280 [1:11:05<10:27, 17.44s/it]"
     ]
    },
    {
     "name": "stdout",
     "output_type": "stream",
     "text": [
      "Train, epoch: [1][  1/280]\tLoss 1.3332e-01 (2.6896e-01)\tAccuracy 0.957 (0.913)\n"
     ]
    },
    {
     "name": "stderr",
     "output_type": "stream",
     "text": [
      "\r",
      " 88%|████████████████████████████████████████████████████████████████████▎         | 245/280 [1:11:22<10:10, 17.43s/it]"
     ]
    },
    {
     "name": "stdout",
     "output_type": "stream",
     "text": [
      "Train, epoch: [1][  1/280]\tLoss 3.4068e-01 (2.6926e-01)\tAccuracy 0.879 (0.913)\n"
     ]
    },
    {
     "name": "stderr",
     "output_type": "stream",
     "text": [
      "\r",
      " 88%|████████████████████████████████████████████████████████████████████▌         | 246/280 [1:11:40<09:51, 17.39s/it]"
     ]
    },
    {
     "name": "stdout",
     "output_type": "stream",
     "text": [
      "Train, epoch: [1][  1/280]\tLoss 2.1901e-01 (2.6905e-01)\tAccuracy 0.931 (0.913)\n"
     ]
    },
    {
     "name": "stderr",
     "output_type": "stream",
     "text": [
      "\r",
      " 88%|████████████████████████████████████████████████████████████████████▊         | 247/280 [1:11:57<09:33, 17.37s/it]"
     ]
    },
    {
     "name": "stdout",
     "output_type": "stream",
     "text": [
      "Train, epoch: [1][  1/280]\tLoss 3.0657e-01 (2.6920e-01)\tAccuracy 0.916 (0.913)\n"
     ]
    },
    {
     "name": "stderr",
     "output_type": "stream",
     "text": [
      "\r",
      " 89%|█████████████████████████████████████████████████████████████████████         | 248/280 [1:12:14<09:17, 17.42s/it]"
     ]
    },
    {
     "name": "stdout",
     "output_type": "stream",
     "text": [
      "Train, epoch: [1][  1/280]\tLoss 3.7206e-01 (2.6962e-01)\tAccuracy 0.877 (0.913)\n"
     ]
    },
    {
     "name": "stderr",
     "output_type": "stream",
     "text": [
      "\r",
      " 89%|█████████████████████████████████████████████████████████████████████▎        | 249/280 [1:12:32<09:01, 17.46s/it]"
     ]
    },
    {
     "name": "stdout",
     "output_type": "stream",
     "text": [
      "Train, epoch: [1][  1/280]\tLoss 1.4124e-01 (2.6910e-01)\tAccuracy 0.953 (0.913)\n"
     ]
    },
    {
     "name": "stderr",
     "output_type": "stream",
     "text": [
      "\r",
      " 89%|█████████████████████████████████████████████████████████████████████▋        | 250/280 [1:12:49<08:42, 17.40s/it]"
     ]
    },
    {
     "name": "stdout",
     "output_type": "stream",
     "text": [
      "Train, epoch: [1][  1/280]\tLoss 2.1950e-01 (2.6890e-01)\tAccuracy 0.928 (0.913)\n"
     ]
    },
    {
     "name": "stderr",
     "output_type": "stream",
     "text": [
      "\r",
      " 90%|█████████████████████████████████████████████████████████████████████▉        | 251/280 [1:13:07<08:25, 17.44s/it]"
     ]
    },
    {
     "name": "stdout",
     "output_type": "stream",
     "text": [
      "Train, epoch: [1][  1/280]\tLoss 3.0838e-01 (2.6906e-01)\tAccuracy 0.897 (0.913)\n"
     ]
    },
    {
     "name": "stderr",
     "output_type": "stream",
     "text": [
      "\r",
      " 90%|██████████████████████████████████████████████████████████████████████▏       | 252/280 [1:13:24<08:08, 17.44s/it]"
     ]
    },
    {
     "name": "stdout",
     "output_type": "stream",
     "text": [
      "Train, epoch: [1][  1/280]\tLoss 2.0161e-01 (2.6879e-01)\tAccuracy 0.933 (0.913)\n"
     ]
    },
    {
     "name": "stderr",
     "output_type": "stream",
     "text": [
      "\r",
      " 90%|██████████████████████████████████████████████████████████████████████▍       | 253/280 [1:13:42<07:51, 17.47s/it]"
     ]
    },
    {
     "name": "stdout",
     "output_type": "stream",
     "text": [
      "Train, epoch: [1][  1/280]\tLoss 1.7866e-01 (2.6844e-01)\tAccuracy 0.943 (0.913)\n"
     ]
    },
    {
     "name": "stderr",
     "output_type": "stream",
     "text": [
      "\r",
      " 91%|██████████████████████████████████████████████████████████████████████▊       | 254/280 [1:13:59<07:34, 17.47s/it]"
     ]
    },
    {
     "name": "stdout",
     "output_type": "stream",
     "text": [
      "Train, epoch: [1][  1/280]\tLoss 2.4207e-01 (2.6833e-01)\tAccuracy 0.920 (0.913)\n"
     ]
    },
    {
     "name": "stderr",
     "output_type": "stream",
     "text": [
      "\r",
      " 91%|███████████████████████████████████████████████████████████████████████       | 255/280 [1:14:17<07:17, 17.50s/it]"
     ]
    },
    {
     "name": "stdout",
     "output_type": "stream",
     "text": [
      "Train, epoch: [1][  1/280]\tLoss 2.1681e-01 (2.6813e-01)\tAccuracy 0.926 (0.913)\n"
     ]
    },
    {
     "name": "stderr",
     "output_type": "stream",
     "text": [
      "\r",
      " 91%|███████████████████████████████████████████████████████████████████████▎      | 256/280 [1:14:34<06:58, 17.46s/it]"
     ]
    },
    {
     "name": "stdout",
     "output_type": "stream",
     "text": [
      "Train, epoch: [1][  1/280]\tLoss 1.7467e-01 (2.6777e-01)\tAccuracy 0.939 (0.913)\n"
     ]
    },
    {
     "name": "stderr",
     "output_type": "stream",
     "text": [
      "\r",
      " 92%|███████████████████████████████████████████████████████████████████████▌      | 257/280 [1:14:52<06:42, 17.49s/it]"
     ]
    },
    {
     "name": "stdout",
     "output_type": "stream",
     "text": [
      "Train, epoch: [1][  1/280]\tLoss 8.4597e-01 (2.7002e-01)\tAccuracy 0.763 (0.913)\n"
     ]
    },
    {
     "name": "stderr",
     "output_type": "stream",
     "text": [
      "\r",
      " 92%|███████████████████████████████████████████████████████████████████████▊      | 258/280 [1:15:09<06:25, 17.52s/it]"
     ]
    },
    {
     "name": "stdout",
     "output_type": "stream",
     "text": [
      "Train, epoch: [1][  1/280]\tLoss 2.7406e-01 (2.7003e-01)\tAccuracy 0.906 (0.913)\n"
     ]
    },
    {
     "name": "stderr",
     "output_type": "stream",
     "text": [
      "\r",
      " 92%|████████████████████████████████████████████████████████████████████████▏     | 259/280 [1:15:27<06:08, 17.57s/it]"
     ]
    },
    {
     "name": "stdout",
     "output_type": "stream",
     "text": [
      "Train, epoch: [1][  1/280]\tLoss 2.4583e-01 (2.6994e-01)\tAccuracy 0.910 (0.913)\n"
     ]
    },
    {
     "name": "stderr",
     "output_type": "stream",
     "text": [
      "\r",
      " 93%|████████████████████████████████████████████████████████████████████████▍     | 260/280 [1:15:44<05:50, 17.54s/it]"
     ]
    },
    {
     "name": "stdout",
     "output_type": "stream",
     "text": [
      "Train, epoch: [1][  1/280]\tLoss 3.0827e-01 (2.7009e-01)\tAccuracy 0.899 (0.913)\n"
     ]
    },
    {
     "name": "stderr",
     "output_type": "stream",
     "text": [
      "\r",
      " 93%|████████████████████████████████████████████████████████████████████████▋     | 261/280 [1:16:02<05:33, 17.54s/it]"
     ]
    },
    {
     "name": "stdout",
     "output_type": "stream",
     "text": [
      "Train, epoch: [1][  1/280]\tLoss 2.7921e-01 (2.7012e-01)\tAccuracy 0.909 (0.913)\n"
     ]
    },
    {
     "name": "stderr",
     "output_type": "stream",
     "text": [
      "\r",
      " 94%|████████████████████████████████████████████████████████████████████████▉     | 262/280 [1:16:20<05:15, 17.54s/it]"
     ]
    },
    {
     "name": "stdout",
     "output_type": "stream",
     "text": [
      "Train, epoch: [1][  1/280]\tLoss 2.1326e-01 (2.6990e-01)\tAccuracy 0.929 (0.913)\n"
     ]
    },
    {
     "name": "stderr",
     "output_type": "stream",
     "text": [
      "\r",
      " 94%|█████████████████████████████████████████████████████████████████████████▎    | 263/280 [1:16:37<04:57, 17.53s/it]"
     ]
    },
    {
     "name": "stdout",
     "output_type": "stream",
     "text": [
      "Train, epoch: [1][  1/280]\tLoss 2.7802e-01 (2.6993e-01)\tAccuracy 0.906 (0.913)\n"
     ]
    },
    {
     "name": "stderr",
     "output_type": "stream",
     "text": [
      "\r",
      " 94%|█████████████████████████████████████████████████████████████████████████▌    | 264/280 [1:16:55<04:40, 17.53s/it]"
     ]
    },
    {
     "name": "stdout",
     "output_type": "stream",
     "text": [
      "Train, epoch: [1][  1/280]\tLoss 1.8600e-01 (2.6962e-01)\tAccuracy 0.942 (0.913)\n"
     ]
    },
    {
     "name": "stderr",
     "output_type": "stream",
     "text": [
      "\r",
      " 95%|█████████████████████████████████████████████████████████████████████████▊    | 265/280 [1:17:12<04:22, 17.51s/it]"
     ]
    },
    {
     "name": "stdout",
     "output_type": "stream",
     "text": [
      "Train, epoch: [1][  1/280]\tLoss 2.1506e-01 (2.6941e-01)\tAccuracy 0.925 (0.913)\n"
     ]
    },
    {
     "name": "stderr",
     "output_type": "stream",
     "text": [
      "\r",
      " 95%|██████████████████████████████████████████████████████████████████████████    | 266/280 [1:17:29<04:04, 17.48s/it]"
     ]
    },
    {
     "name": "stdout",
     "output_type": "stream",
     "text": [
      "Train, epoch: [1][  1/280]\tLoss 2.1781e-01 (2.6922e-01)\tAccuracy 0.928 (0.913)\n"
     ]
    },
    {
     "name": "stderr",
     "output_type": "stream",
     "text": [
      "\r",
      " 95%|██████████████████████████████████████████████████████████████████████████▍   | 267/280 [1:17:47<03:47, 17.49s/it]"
     ]
    },
    {
     "name": "stdout",
     "output_type": "stream",
     "text": [
      "Train, epoch: [1][  1/280]\tLoss 3.2812e-01 (2.6944e-01)\tAccuracy 0.882 (0.913)\n"
     ]
    },
    {
     "name": "stderr",
     "output_type": "stream",
     "text": [
      "\r",
      " 96%|██████████████████████████████████████████████████████████████████████████▋   | 268/280 [1:18:05<03:30, 17.53s/it]"
     ]
    },
    {
     "name": "stdout",
     "output_type": "stream",
     "text": [
      "Train, epoch: [1][  1/280]\tLoss 2.3074e-01 (2.6929e-01)\tAccuracy 0.926 (0.913)\n"
     ]
    },
    {
     "name": "stderr",
     "output_type": "stream",
     "text": [
      "\r",
      " 96%|██████████████████████████████████████████████████████████████████████████▉   | 269/280 [1:18:22<03:12, 17.48s/it]"
     ]
    },
    {
     "name": "stdout",
     "output_type": "stream",
     "text": [
      "Train, epoch: [1][  1/280]\tLoss 1.8221e-01 (2.6897e-01)\tAccuracy 0.939 (0.913)\n"
     ]
    },
    {
     "name": "stderr",
     "output_type": "stream",
     "text": [
      "\r",
      " 96%|███████████████████████████████████████████████████████████████████████████▏  | 270/280 [1:18:40<02:55, 17.51s/it]"
     ]
    },
    {
     "name": "stdout",
     "output_type": "stream",
     "text": [
      "Train, epoch: [1][  1/280]\tLoss 1.5491e-01 (2.6855e-01)\tAccuracy 0.947 (0.913)\n"
     ]
    },
    {
     "name": "stderr",
     "output_type": "stream",
     "text": [
      "\r",
      " 97%|███████████████████████████████████████████████████████████████████████████▍  | 271/280 [1:18:57<02:37, 17.50s/it]"
     ]
    },
    {
     "name": "stdout",
     "output_type": "stream",
     "text": [
      "Train, epoch: [1][  1/280]\tLoss 3.4290e-01 (2.6882e-01)\tAccuracy 0.883 (0.913)\n"
     ]
    },
    {
     "name": "stderr",
     "output_type": "stream",
     "text": [
      "\r",
      " 97%|███████████████████████████████████████████████████████████████████████████▊  | 272/280 [1:19:14<02:19, 17.48s/it]"
     ]
    },
    {
     "name": "stdout",
     "output_type": "stream",
     "text": [
      "Train, epoch: [1][  1/280]\tLoss 2.5590e-01 (2.6877e-01)\tAccuracy 0.922 (0.913)\n"
     ]
    },
    {
     "name": "stderr",
     "output_type": "stream",
     "text": [
      "\r",
      " 98%|████████████████████████████████████████████████████████████████████████████  | 273/280 [1:19:32<02:02, 17.46s/it]"
     ]
    },
    {
     "name": "stdout",
     "output_type": "stream",
     "text": [
      "Train, epoch: [1][  1/280]\tLoss 2.3264e-01 (2.6864e-01)\tAccuracy 0.916 (0.913)\n"
     ]
    },
    {
     "name": "stderr",
     "output_type": "stream",
     "text": [
      "\r",
      " 98%|████████████████████████████████████████████████████████████████████████████▎ | 274/280 [1:19:49<01:44, 17.48s/it]"
     ]
    },
    {
     "name": "stdout",
     "output_type": "stream",
     "text": [
      "Train, epoch: [1][  1/280]\tLoss 3.4810e-01 (2.6893e-01)\tAccuracy 0.891 (0.913)\n"
     ]
    },
    {
     "name": "stderr",
     "output_type": "stream",
     "text": [
      "\r",
      " 98%|████████████████████████████████████████████████████████████████████████████▌ | 275/280 [1:20:07<01:27, 17.44s/it]"
     ]
    },
    {
     "name": "stdout",
     "output_type": "stream",
     "text": [
      "Train, epoch: [1][  1/280]\tLoss 1.5529e-01 (2.6852e-01)\tAccuracy 0.950 (0.913)\n"
     ]
    },
    {
     "name": "stderr",
     "output_type": "stream",
     "text": [
      "\r",
      " 99%|████████████████████████████████████████████████████████████████████████████▉ | 276/280 [1:20:24<01:09, 17.43s/it]"
     ]
    },
    {
     "name": "stdout",
     "output_type": "stream",
     "text": [
      "Train, epoch: [1][  1/280]\tLoss 2.7356e-01 (2.6854e-01)\tAccuracy 0.907 (0.913)\n"
     ]
    },
    {
     "name": "stderr",
     "output_type": "stream",
     "text": [
      "\r",
      " 99%|█████████████████████████████████████████████████████████████████████████████▏| 277/280 [1:20:42<00:52, 17.46s/it]"
     ]
    },
    {
     "name": "stdout",
     "output_type": "stream",
     "text": [
      "Train, epoch: [1][  1/280]\tLoss 4.1440e-01 (2.6906e-01)\tAccuracy 0.850 (0.913)\n"
     ]
    },
    {
     "name": "stderr",
     "output_type": "stream",
     "text": [
      "\r",
      " 99%|█████████████████████████████████████████████████████████████████████████████▍| 278/280 [1:20:59<00:35, 17.51s/it]"
     ]
    },
    {
     "name": "stdout",
     "output_type": "stream",
     "text": [
      "Train, epoch: [1][  1/280]\tLoss 2.9868e-01 (2.6917e-01)\tAccuracy 0.894 (0.913)\n"
     ]
    },
    {
     "name": "stderr",
     "output_type": "stream",
     "text": [
      "\r",
      "100%|█████████████████████████████████████████████████████████████████████████████▋| 279/280 [1:21:17<00:17, 17.49s/it]"
     ]
    },
    {
     "name": "stdout",
     "output_type": "stream",
     "text": [
      "Train, epoch: [1][  1/280]\tLoss 3.8541e-01 (2.6959e-01)\tAccuracy 0.879 (0.913)\n"
     ]
    },
    {
     "name": "stderr",
     "output_type": "stream",
     "text": [
      "100%|██████████████████████████████████████████████████████████████████████████████| 280/280 [1:21:34<00:00, 17.48s/it]"
     ]
    },
    {
     "name": "stdout",
     "output_type": "stream",
     "text": [
      "Train, epoch: [1][  1/280]\tLoss 3.0568e-01 (2.6972e-01)\tAccuracy 0.904 (0.913)\n",
      "classes           IoU\n",
      "---------------------\n",
      "Pole          : 0.079\n",
      "SignSymbol    : 0.509\n",
      "Bicyclist     : 0.676\n",
      "Pedestrian    : 0.508\n",
      "Building      : 0.877\n",
      "Fence         : 0.644\n",
      "Pavement      : 0.814\n",
      "Road          : 0.957\n",
      "Car           : 0.835\n",
      "Sky           : 0.914\n",
      "Tree          : 0.807\n",
      "---------------------\n",
      "Mean IoU      : 0.693\n",
      "---------------------\n"
     ]
    },
    {
     "name": "stderr",
     "output_type": "stream",
     "text": [
      "\n",
      "  0%|                                                                                          | 0/280 [00:00<?, ?it/s]"
     ]
    },
    {
     "name": "stdout",
     "output_type": "stream",
     "text": [
      "mIoU improved from 0.4991 to 0.6927.\n",
      "epoch  1\n",
      "loss : 0.2697   acc : 0.9125   miou : 0.6927\n"
     ]
    },
    {
     "name": "stderr",
     "output_type": "stream",
     "text": [
      "\r",
      "  0%|▎                                                                               | 1/280 [00:17<1:20:50, 17.39s/it]"
     ]
    },
    {
     "name": "stdout",
     "output_type": "stream",
     "text": [
      "Train, epoch: [2][  2/280]\tLoss 1.7522e-01 (1.7522e-01)\tAccuracy 0.946 (0.946)\n"
     ]
    },
    {
     "name": "stderr",
     "output_type": "stream",
     "text": [
      "\r",
      "  1%|▌                                                                               | 2/280 [00:34<1:20:35, 17.40s/it]"
     ]
    },
    {
     "name": "stdout",
     "output_type": "stream",
     "text": [
      "Train, epoch: [2][  2/280]\tLoss 2.5131e-01 (2.1327e-01)\tAccuracy 0.920 (0.933)\n"
     ]
    },
    {
     "name": "stderr",
     "output_type": "stream",
     "text": [
      "\r",
      "  1%|▊                                                                               | 3/280 [00:52<1:20:40, 17.48s/it]"
     ]
    },
    {
     "name": "stdout",
     "output_type": "stream",
     "text": [
      "Train, epoch: [2][  2/280]\tLoss 2.1909e-01 (2.1521e-01)\tAccuracy 0.927 (0.931)\n"
     ]
    },
    {
     "name": "stderr",
     "output_type": "stream",
     "text": [
      "\r",
      "  1%|█▏                                                                              | 4/280 [01:09<1:20:19, 17.46s/it]"
     ]
    },
    {
     "name": "stdout",
     "output_type": "stream",
     "text": [
      "Train, epoch: [2][  2/280]\tLoss 2.8301e-01 (2.3216e-01)\tAccuracy 0.913 (0.927)\n"
     ]
    },
    {
     "name": "stderr",
     "output_type": "stream",
     "text": [
      "\r",
      "  2%|█▍                                                                              | 5/280 [01:27<1:19:49, 17.42s/it]"
     ]
    },
    {
     "name": "stdout",
     "output_type": "stream",
     "text": [
      "Train, epoch: [2][  2/280]\tLoss 2.2737e-01 (2.3120e-01)\tAccuracy 0.932 (0.928)\n"
     ]
    },
    {
     "name": "stderr",
     "output_type": "stream",
     "text": [
      "\r",
      "  2%|█▋                                                                              | 6/280 [01:44<1:19:40, 17.45s/it]"
     ]
    },
    {
     "name": "stdout",
     "output_type": "stream",
     "text": [
      "Train, epoch: [2][  2/280]\tLoss 1.3634e-01 (2.1539e-01)\tAccuracy 0.955 (0.932)\n"
     ]
    },
    {
     "name": "stderr",
     "output_type": "stream",
     "text": [
      "\r",
      "  2%|██                                                                              | 7/280 [02:02<1:19:29, 17.47s/it]"
     ]
    },
    {
     "name": "stdout",
     "output_type": "stream",
     "text": [
      "Train, epoch: [2][  2/280]\tLoss 2.8437e-01 (2.2524e-01)\tAccuracy 0.896 (0.927)\n"
     ]
    },
    {
     "name": "stderr",
     "output_type": "stream",
     "text": [
      "\r",
      "  3%|██▎                                                                             | 8/280 [02:19<1:19:11, 17.47s/it]"
     ]
    },
    {
     "name": "stdout",
     "output_type": "stream",
     "text": [
      "Train, epoch: [2][  2/280]\tLoss 2.6208e-01 (2.2985e-01)\tAccuracy 0.920 (0.926)\n"
     ]
    },
    {
     "name": "stderr",
     "output_type": "stream",
     "text": [
      "\r",
      "  3%|██▌                                                                             | 9/280 [02:37<1:18:56, 17.48s/it]"
     ]
    },
    {
     "name": "stdout",
     "output_type": "stream",
     "text": [
      "Train, epoch: [2][  2/280]\tLoss 2.6880e-01 (2.3418e-01)\tAccuracy 0.912 (0.925)\n"
     ]
    },
    {
     "name": "stderr",
     "output_type": "stream",
     "text": [
      "\r",
      "  4%|██▊                                                                            | 10/280 [02:54<1:18:36, 17.47s/it]"
     ]
    },
    {
     "name": "stdout",
     "output_type": "stream",
     "text": [
      "Train, epoch: [2][  2/280]\tLoss 2.6726e-01 (2.3749e-01)\tAccuracy 0.909 (0.923)\n"
     ]
    },
    {
     "name": "stderr",
     "output_type": "stream",
     "text": [
      "\r",
      "  4%|███                                                                            | 11/280 [03:11<1:18:14, 17.45s/it]"
     ]
    },
    {
     "name": "stdout",
     "output_type": "stream",
     "text": [
      "Train, epoch: [2][  2/280]\tLoss 1.1135e-01 (2.2602e-01)\tAccuracy 0.967 (0.927)\n"
     ]
    },
    {
     "name": "stderr",
     "output_type": "stream",
     "text": [
      "\r",
      "  4%|███▍                                                                           | 12/280 [03:29<1:17:59, 17.46s/it]"
     ]
    },
    {
     "name": "stdout",
     "output_type": "stream",
     "text": [
      "Train, epoch: [2][  2/280]\tLoss 3.2385e-01 (2.3417e-01)\tAccuracy 0.889 (0.924)\n"
     ]
    },
    {
     "name": "stderr",
     "output_type": "stream",
     "text": [
      "\r",
      "  5%|███▋                                                                           | 13/280 [03:46<1:17:35, 17.44s/it]"
     ]
    },
    {
     "name": "stdout",
     "output_type": "stream",
     "text": [
      "Train, epoch: [2][  2/280]\tLoss 3.0416e-01 (2.3956e-01)\tAccuracy 0.902 (0.922)\n"
     ]
    },
    {
     "name": "stderr",
     "output_type": "stream",
     "text": [
      "\r",
      "  5%|███▉                                                                           | 14/280 [04:04<1:17:33, 17.49s/it]"
     ]
    },
    {
     "name": "stdout",
     "output_type": "stream",
     "text": [
      "Train, epoch: [2][  2/280]\tLoss 2.2057e-01 (2.3820e-01)\tAccuracy 0.928 (0.923)\n"
     ]
    },
    {
     "name": "stderr",
     "output_type": "stream",
     "text": [
      "\r",
      "  5%|████▏                                                                          | 15/280 [04:22<1:17:20, 17.51s/it]"
     ]
    },
    {
     "name": "stdout",
     "output_type": "stream",
     "text": [
      "Train, epoch: [2][  2/280]\tLoss 2.9612e-01 (2.4206e-01)\tAccuracy 0.893 (0.921)\n"
     ]
    },
    {
     "name": "stderr",
     "output_type": "stream",
     "text": [
      "\r",
      "  6%|████▌                                                                          | 16/280 [04:39<1:17:06, 17.53s/it]"
     ]
    },
    {
     "name": "stdout",
     "output_type": "stream",
     "text": [
      "Train, epoch: [2][  2/280]\tLoss 4.0558e-01 (2.5228e-01)\tAccuracy 0.901 (0.920)\n"
     ]
    },
    {
     "name": "stderr",
     "output_type": "stream",
     "text": [
      "\r",
      "  6%|████▊                                                                          | 17/280 [04:57<1:16:51, 17.53s/it]"
     ]
    },
    {
     "name": "stdout",
     "output_type": "stream",
     "text": [
      "Train, epoch: [2][  2/280]\tLoss 1.8820e-01 (2.4851e-01)\tAccuracy 0.938 (0.921)\n"
     ]
    },
    {
     "name": "stderr",
     "output_type": "stream",
     "text": [
      "\r",
      "  6%|█████                                                                          | 18/280 [05:14<1:16:40, 17.56s/it]"
     ]
    },
    {
     "name": "stdout",
     "output_type": "stream",
     "text": [
      "Train, epoch: [2][  2/280]\tLoss 2.5461e-01 (2.4885e-01)\tAccuracy 0.914 (0.920)\n"
     ]
    },
    {
     "name": "stderr",
     "output_type": "stream",
     "text": [
      "\r",
      "  7%|█████▎                                                                         | 19/280 [05:32<1:16:19, 17.55s/it]"
     ]
    },
    {
     "name": "stdout",
     "output_type": "stream",
     "text": [
      "Train, epoch: [2][  2/280]\tLoss 2.3006e-01 (2.4786e-01)\tAccuracy 0.923 (0.920)\n"
     ]
    },
    {
     "name": "stderr",
     "output_type": "stream",
     "text": [
      "\r",
      "  7%|█████▋                                                                         | 20/280 [05:49<1:15:52, 17.51s/it]"
     ]
    },
    {
     "name": "stdout",
     "output_type": "stream",
     "text": [
      "Train, epoch: [2][  2/280]\tLoss 2.6967e-01 (2.4895e-01)\tAccuracy 0.904 (0.920)\n"
     ]
    },
    {
     "name": "stderr",
     "output_type": "stream",
     "text": [
      "\r",
      "  8%|█████▉                                                                         | 21/280 [06:07<1:15:35, 17.51s/it]"
     ]
    },
    {
     "name": "stdout",
     "output_type": "stream",
     "text": [
      "Train, epoch: [2][  2/280]\tLoss 2.5226e-01 (2.4911e-01)\tAccuracy 0.910 (0.919)\n"
     ]
    },
    {
     "name": "stderr",
     "output_type": "stream",
     "text": [
      "\r",
      "  8%|██████▏                                                                        | 22/280 [06:24<1:15:16, 17.51s/it]"
     ]
    },
    {
     "name": "stdout",
     "output_type": "stream",
     "text": [
      "Train, epoch: [2][  2/280]\tLoss 1.5483e-01 (2.4482e-01)\tAccuracy 0.954 (0.921)\n"
     ]
    },
    {
     "name": "stderr",
     "output_type": "stream",
     "text": [
      "\r",
      "  8%|██████▍                                                                        | 23/280 [06:42<1:14:48, 17.46s/it]"
     ]
    },
    {
     "name": "stdout",
     "output_type": "stream",
     "text": [
      "Train, epoch: [2][  2/280]\tLoss 2.6750e-01 (2.4581e-01)\tAccuracy 0.914 (0.920)\n"
     ]
    },
    {
     "name": "stderr",
     "output_type": "stream",
     "text": [
      "\r",
      "  9%|██████▊                                                                        | 24/280 [06:59<1:14:38, 17.49s/it]"
     ]
    },
    {
     "name": "stdout",
     "output_type": "stream",
     "text": [
      "Train, epoch: [2][  2/280]\tLoss 1.8155e-01 (2.4313e-01)\tAccuracy 0.940 (0.921)\n"
     ]
    },
    {
     "name": "stderr",
     "output_type": "stream",
     "text": [
      "\r",
      "  9%|███████                                                                        | 25/280 [07:17<1:14:22, 17.50s/it]"
     ]
    },
    {
     "name": "stdout",
     "output_type": "stream",
     "text": [
      "Train, epoch: [2][  2/280]\tLoss 1.4564e-01 (2.3923e-01)\tAccuracy 0.957 (0.923)\n"
     ]
    },
    {
     "name": "stderr",
     "output_type": "stream",
     "text": [
      "\r",
      "  9%|███████▎                                                                       | 26/280 [07:34<1:14:09, 17.52s/it]"
     ]
    },
    {
     "name": "stdout",
     "output_type": "stream",
     "text": [
      "Train, epoch: [2][  2/280]\tLoss 2.5874e-01 (2.3998e-01)\tAccuracy 0.911 (0.922)\n"
     ]
    },
    {
     "name": "stderr",
     "output_type": "stream",
     "text": [
      "\r",
      " 10%|███████▌                                                                       | 27/280 [07:52<1:13:39, 17.47s/it]"
     ]
    },
    {
     "name": "stdout",
     "output_type": "stream",
     "text": [
      "Train, epoch: [2][  2/280]\tLoss 2.4199e-01 (2.4006e-01)\tAccuracy 0.912 (0.922)\n"
     ]
    },
    {
     "name": "stderr",
     "output_type": "stream",
     "text": [
      "\r",
      " 10%|███████▉                                                                       | 28/280 [08:09<1:13:31, 17.51s/it]"
     ]
    },
    {
     "name": "stdout",
     "output_type": "stream",
     "text": [
      "Train, epoch: [2][  2/280]\tLoss 2.4938e-01 (2.4039e-01)\tAccuracy 0.915 (0.922)\n"
     ]
    },
    {
     "name": "stderr",
     "output_type": "stream",
     "text": [
      "\r",
      " 10%|████████▏                                                                      | 29/280 [08:27<1:13:06, 17.48s/it]"
     ]
    },
    {
     "name": "stdout",
     "output_type": "stream",
     "text": [
      "Train, epoch: [2][  2/280]\tLoss 2.3343e-01 (2.4015e-01)\tAccuracy 0.921 (0.922)\n"
     ]
    },
    {
     "name": "stderr",
     "output_type": "stream",
     "text": [
      "\r",
      " 11%|████████▍                                                                      | 30/280 [08:44<1:12:56, 17.51s/it]"
     ]
    },
    {
     "name": "stdout",
     "output_type": "stream",
     "text": [
      "Train, epoch: [2][  2/280]\tLoss 2.3733e-01 (2.4006e-01)\tAccuracy 0.918 (0.921)\n"
     ]
    },
    {
     "name": "stderr",
     "output_type": "stream",
     "text": [
      "\r",
      " 11%|████████▋                                                                      | 31/280 [09:02<1:12:29, 17.47s/it]"
     ]
    },
    {
     "name": "stdout",
     "output_type": "stream",
     "text": [
      "Train, epoch: [2][  2/280]\tLoss 1.7381e-01 (2.3792e-01)\tAccuracy 0.948 (0.922)\n"
     ]
    },
    {
     "name": "stderr",
     "output_type": "stream",
     "text": [
      "\r",
      " 11%|█████████                                                                      | 32/280 [09:19<1:12:10, 17.46s/it]"
     ]
    },
    {
     "name": "stdout",
     "output_type": "stream",
     "text": [
      "Train, epoch: [2][  2/280]\tLoss 1.2552e-01 (2.3441e-01)\tAccuracy 0.959 (0.923)\n"
     ]
    },
    {
     "name": "stderr",
     "output_type": "stream",
     "text": [
      "\r",
      " 12%|█████████▎                                                                     | 33/280 [09:36<1:11:53, 17.46s/it]"
     ]
    },
    {
     "name": "stdout",
     "output_type": "stream",
     "text": [
      "Train, epoch: [2][  2/280]\tLoss 1.2267e-01 (2.3102e-01)\tAccuracy 0.960 (0.925)\n"
     ]
    },
    {
     "name": "stderr",
     "output_type": "stream",
     "text": [
      "\r",
      " 12%|█████████▌                                                                     | 34/280 [09:54<1:11:52, 17.53s/it]"
     ]
    },
    {
     "name": "stdout",
     "output_type": "stream",
     "text": [
      "Train, epoch: [2][  2/280]\tLoss 2.2448e-01 (2.3083e-01)\tAccuracy 0.930 (0.925)\n"
     ]
    },
    {
     "name": "stderr",
     "output_type": "stream",
     "text": [
      "\r",
      " 12%|█████████▉                                                                     | 35/280 [10:12<1:11:35, 17.53s/it]"
     ]
    },
    {
     "name": "stdout",
     "output_type": "stream",
     "text": [
      "Train, epoch: [2][  2/280]\tLoss 2.8149e-01 (2.3228e-01)\tAccuracy 0.905 (0.924)\n"
     ]
    },
    {
     "name": "stderr",
     "output_type": "stream",
     "text": [
      "\r",
      " 13%|██████████▏                                                                    | 36/280 [10:29<1:11:13, 17.51s/it]"
     ]
    },
    {
     "name": "stdout",
     "output_type": "stream",
     "text": [
      "Train, epoch: [2][  2/280]\tLoss 2.3880e-01 (2.3246e-01)\tAccuracy 0.915 (0.924)\n"
     ]
    },
    {
     "name": "stderr",
     "output_type": "stream",
     "text": [
      "\r",
      " 13%|██████████▍                                                                    | 37/280 [10:47<1:10:56, 17.52s/it]"
     ]
    },
    {
     "name": "stdout",
     "output_type": "stream",
     "text": [
      "Train, epoch: [2][  2/280]\tLoss 1.5321e-01 (2.3032e-01)\tAccuracy 0.947 (0.925)\n"
     ]
    },
    {
     "name": "stderr",
     "output_type": "stream",
     "text": [
      "\r",
      " 14%|██████████▋                                                                    | 38/280 [11:04<1:10:38, 17.51s/it]"
     ]
    },
    {
     "name": "stdout",
     "output_type": "stream",
     "text": [
      "Train, epoch: [2][  2/280]\tLoss 1.7554e-01 (2.2887e-01)\tAccuracy 0.946 (0.925)\n"
     ]
    },
    {
     "name": "stderr",
     "output_type": "stream",
     "text": [
      "\r",
      " 14%|███████████                                                                    | 39/280 [11:22<1:10:10, 17.47s/it]"
     ]
    },
    {
     "name": "stdout",
     "output_type": "stream",
     "text": [
      "Train, epoch: [2][  2/280]\tLoss 2.6420e-01 (2.2978e-01)\tAccuracy 0.908 (0.925)\n"
     ]
    },
    {
     "name": "stderr",
     "output_type": "stream",
     "text": [
      "\r",
      " 14%|███████████▎                                                                   | 40/280 [11:39<1:09:47, 17.45s/it]"
     ]
    },
    {
     "name": "stdout",
     "output_type": "stream",
     "text": [
      "Train, epoch: [2][  2/280]\tLoss 1.7831e-01 (2.2849e-01)\tAccuracy 0.942 (0.925)\n"
     ]
    },
    {
     "name": "stderr",
     "output_type": "stream",
     "text": [
      "\r",
      " 15%|███████████▌                                                                   | 41/280 [11:56<1:09:35, 17.47s/it]"
     ]
    },
    {
     "name": "stdout",
     "output_type": "stream",
     "text": [
      "Train, epoch: [2][  2/280]\tLoss 2.2464e-01 (2.2840e-01)\tAccuracy 0.921 (0.925)\n"
     ]
    },
    {
     "name": "stderr",
     "output_type": "stream",
     "text": [
      "\r",
      " 15%|███████████▊                                                                   | 42/280 [12:14<1:09:27, 17.51s/it]"
     ]
    },
    {
     "name": "stdout",
     "output_type": "stream",
     "text": [
      "Train, epoch: [2][  2/280]\tLoss 2.6759e-01 (2.2933e-01)\tAccuracy 0.909 (0.925)\n"
     ]
    },
    {
     "name": "stderr",
     "output_type": "stream",
     "text": [
      "\r",
      " 15%|████████████▏                                                                  | 43/280 [12:32<1:09:07, 17.50s/it]"
     ]
    },
    {
     "name": "stdout",
     "output_type": "stream",
     "text": [
      "Train, epoch: [2][  2/280]\tLoss 1.7344e-01 (2.2803e-01)\tAccuracy 0.940 (0.925)\n"
     ]
    },
    {
     "name": "stderr",
     "output_type": "stream",
     "text": [
      "\r",
      " 16%|████████████▍                                                                  | 44/280 [12:49<1:08:51, 17.51s/it]"
     ]
    },
    {
     "name": "stdout",
     "output_type": "stream",
     "text": [
      "Train, epoch: [2][  2/280]\tLoss 1.7685e-01 (2.2687e-01)\tAccuracy 0.939 (0.925)\n"
     ]
    },
    {
     "name": "stderr",
     "output_type": "stream",
     "text": [
      "\r",
      " 16%|████████████▋                                                                  | 45/280 [13:07<1:08:39, 17.53s/it]"
     ]
    },
    {
     "name": "stdout",
     "output_type": "stream",
     "text": [
      "Train, epoch: [2][  2/280]\tLoss 1.8755e-01 (2.2600e-01)\tAccuracy 0.936 (0.926)\n"
     ]
    },
    {
     "name": "stderr",
     "output_type": "stream",
     "text": [
      "\r",
      " 16%|████████████▉                                                                  | 46/280 [13:24<1:08:12, 17.49s/it]"
     ]
    },
    {
     "name": "stdout",
     "output_type": "stream",
     "text": [
      "Train, epoch: [2][  2/280]\tLoss 1.9149e-01 (2.2525e-01)\tAccuracy 0.941 (0.926)\n"
     ]
    },
    {
     "name": "stderr",
     "output_type": "stream",
     "text": [
      "\r",
      " 17%|█████████████▎                                                                 | 47/280 [13:42<1:08:05, 17.53s/it]"
     ]
    },
    {
     "name": "stdout",
     "output_type": "stream",
     "text": [
      "Train, epoch: [2][  2/280]\tLoss 2.1734e-01 (2.2508e-01)\tAccuracy 0.924 (0.926)\n"
     ]
    },
    {
     "name": "stderr",
     "output_type": "stream",
     "text": [
      "\r",
      " 17%|█████████████▌                                                                 | 48/280 [13:59<1:07:44, 17.52s/it]"
     ]
    },
    {
     "name": "stdout",
     "output_type": "stream",
     "text": [
      "Train, epoch: [2][  2/280]\tLoss 2.1056e-01 (2.2477e-01)\tAccuracy 0.926 (0.926)\n"
     ]
    },
    {
     "name": "stderr",
     "output_type": "stream",
     "text": [
      "\r",
      " 18%|█████████████▊                                                                 | 49/280 [14:16<1:07:08, 17.44s/it]"
     ]
    },
    {
     "name": "stdout",
     "output_type": "stream",
     "text": [
      "Train, epoch: [2][  2/280]\tLoss 1.3672e-01 (2.2298e-01)\tAccuracy 0.958 (0.926)\n"
     ]
    },
    {
     "name": "stderr",
     "output_type": "stream",
     "text": [
      "\r",
      " 18%|██████████████                                                                 | 50/280 [14:34<1:06:57, 17.47s/it]"
     ]
    },
    {
     "name": "stdout",
     "output_type": "stream",
     "text": [
      "Train, epoch: [2][  2/280]\tLoss 2.4875e-01 (2.2349e-01)\tAccuracy 0.919 (0.926)\n"
     ]
    },
    {
     "name": "stderr",
     "output_type": "stream",
     "text": [
      "\r",
      " 18%|██████████████▍                                                                | 51/280 [14:51<1:06:40, 17.47s/it]"
     ]
    },
    {
     "name": "stdout",
     "output_type": "stream",
     "text": [
      "Train, epoch: [2][  2/280]\tLoss 1.7693e-01 (2.2258e-01)\tAccuracy 0.939 (0.927)\n"
     ]
    },
    {
     "name": "stderr",
     "output_type": "stream",
     "text": [
      "\r",
      " 19%|██████████████▋                                                                | 52/280 [15:09<1:06:34, 17.52s/it]"
     ]
    },
    {
     "name": "stdout",
     "output_type": "stream",
     "text": [
      "Train, epoch: [2][  2/280]\tLoss 1.9532e-01 (2.2206e-01)\tAccuracy 0.931 (0.927)\n"
     ]
    },
    {
     "name": "stderr",
     "output_type": "stream",
     "text": [
      "\r",
      " 19%|██████████████▉                                                                | 53/280 [15:26<1:06:01, 17.45s/it]"
     ]
    },
    {
     "name": "stdout",
     "output_type": "stream",
     "text": [
      "Train, epoch: [2][  2/280]\tLoss 2.8867e-01 (2.2331e-01)\tAccuracy 0.899 (0.926)\n"
     ]
    },
    {
     "name": "stderr",
     "output_type": "stream",
     "text": [
      "\r",
      " 19%|███████████████▏                                                               | 54/280 [15:44<1:05:45, 17.46s/it]"
     ]
    },
    {
     "name": "stdout",
     "output_type": "stream",
     "text": [
      "Train, epoch: [2][  2/280]\tLoss 3.2482e-01 (2.2519e-01)\tAccuracy 0.889 (0.925)\n"
     ]
    },
    {
     "name": "stderr",
     "output_type": "stream",
     "text": [
      "\r",
      " 20%|███████████████▌                                                               | 55/280 [16:01<1:05:23, 17.44s/it]"
     ]
    },
    {
     "name": "stdout",
     "output_type": "stream",
     "text": [
      "Train, epoch: [2][  2/280]\tLoss 1.3432e-01 (2.2354e-01)\tAccuracy 0.953 (0.926)\n"
     ]
    },
    {
     "name": "stderr",
     "output_type": "stream",
     "text": [
      "\r",
      " 20%|███████████████▊                                                               | 56/280 [16:19<1:05:23, 17.52s/it]"
     ]
    },
    {
     "name": "stdout",
     "output_type": "stream",
     "text": [
      "Train, epoch: [2][  2/280]\tLoss 1.7522e-01 (2.2268e-01)\tAccuracy 0.942 (0.926)\n"
     ]
    },
    {
     "name": "stderr",
     "output_type": "stream",
     "text": [
      "\r",
      " 20%|████████████████                                                               | 57/280 [16:37<1:05:13, 17.55s/it]"
     ]
    },
    {
     "name": "stdout",
     "output_type": "stream",
     "text": [
      "Train, epoch: [2][  2/280]\tLoss 1.6310e-01 (2.2163e-01)\tAccuracy 0.942 (0.926)\n"
     ]
    },
    {
     "name": "stderr",
     "output_type": "stream",
     "text": [
      "\r",
      " 21%|████████████████▎                                                              | 58/280 [16:54<1:04:43, 17.49s/it]"
     ]
    },
    {
     "name": "stdout",
     "output_type": "stream",
     "text": [
      "Train, epoch: [2][  2/280]\tLoss 2.2835e-01 (2.2175e-01)\tAccuracy 0.922 (0.926)\n"
     ]
    },
    {
     "name": "stderr",
     "output_type": "stream",
     "text": [
      "\r",
      " 21%|████████████████▋                                                              | 59/280 [17:11<1:04:17, 17.46s/it]"
     ]
    },
    {
     "name": "stdout",
     "output_type": "stream",
     "text": [
      "Train, epoch: [2][  2/280]\tLoss 2.2333e-01 (2.2177e-01)\tAccuracy 0.931 (0.926)\n"
     ]
    },
    {
     "name": "stderr",
     "output_type": "stream",
     "text": [
      "\r",
      " 21%|████████████████▉                                                              | 60/280 [17:29<1:03:57, 17.44s/it]"
     ]
    },
    {
     "name": "stdout",
     "output_type": "stream",
     "text": [
      "Train, epoch: [2][  2/280]\tLoss 1.2149e-01 (2.2010e-01)\tAccuracy 0.959 (0.927)\n"
     ]
    },
    {
     "name": "stderr",
     "output_type": "stream",
     "text": [
      "\r",
      " 22%|█████████████████▏                                                             | 61/280 [17:46<1:03:52, 17.50s/it]"
     ]
    },
    {
     "name": "stdout",
     "output_type": "stream",
     "text": [
      "Train, epoch: [2][  2/280]\tLoss 2.1937e-01 (2.2009e-01)\tAccuracy 0.927 (0.927)\n"
     ]
    },
    {
     "name": "stderr",
     "output_type": "stream",
     "text": [
      "\r",
      " 22%|█████████████████▍                                                             | 62/280 [18:04<1:03:25, 17.45s/it]"
     ]
    },
    {
     "name": "stdout",
     "output_type": "stream",
     "text": [
      "Train, epoch: [2][  2/280]\tLoss 1.1761e-01 (2.1844e-01)\tAccuracy 0.965 (0.928)\n"
     ]
    },
    {
     "name": "stderr",
     "output_type": "stream",
     "text": [
      "\r",
      " 22%|█████████████████▊                                                             | 63/280 [18:21<1:03:05, 17.44s/it]"
     ]
    },
    {
     "name": "stdout",
     "output_type": "stream",
     "text": [
      "Train, epoch: [2][  2/280]\tLoss 2.5145e-01 (2.1896e-01)\tAccuracy 0.932 (0.928)\n"
     ]
    },
    {
     "name": "stderr",
     "output_type": "stream",
     "text": [
      "\r",
      " 23%|██████████████████                                                             | 64/280 [18:39<1:02:49, 17.45s/it]"
     ]
    },
    {
     "name": "stdout",
     "output_type": "stream",
     "text": [
      "Train, epoch: [2][  2/280]\tLoss 2.0497e-01 (2.1874e-01)\tAccuracy 0.934 (0.928)\n"
     ]
    },
    {
     "name": "stderr",
     "output_type": "stream",
     "text": [
      "\r",
      " 23%|██████████████████▎                                                            | 65/280 [18:56<1:02:34, 17.46s/it]"
     ]
    },
    {
     "name": "stdout",
     "output_type": "stream",
     "text": [
      "Train, epoch: [2][  2/280]\tLoss 2.2802e-01 (2.1889e-01)\tAccuracy 0.925 (0.928)\n"
     ]
    },
    {
     "name": "stderr",
     "output_type": "stream",
     "text": [
      "\r",
      " 24%|██████████████████▌                                                            | 66/280 [19:14<1:02:17, 17.47s/it]"
     ]
    },
    {
     "name": "stdout",
     "output_type": "stream",
     "text": [
      "Train, epoch: [2][  2/280]\tLoss 1.3458e-01 (2.1761e-01)\tAccuracy 0.957 (0.928)\n"
     ]
    },
    {
     "name": "stderr",
     "output_type": "stream",
     "text": [
      "\r",
      " 24%|██████████████████▉                                                            | 67/280 [19:31<1:02:07, 17.50s/it]"
     ]
    },
    {
     "name": "stdout",
     "output_type": "stream",
     "text": [
      "Train, epoch: [2][  2/280]\tLoss 2.0518e-01 (2.1742e-01)\tAccuracy 0.933 (0.928)\n"
     ]
    },
    {
     "name": "stderr",
     "output_type": "stream",
     "text": [
      "\r",
      " 24%|███████████████████▏                                                           | 68/280 [19:49<1:01:46, 17.49s/it]"
     ]
    },
    {
     "name": "stdout",
     "output_type": "stream",
     "text": [
      "Train, epoch: [2][  2/280]\tLoss 1.4658e-01 (2.1638e-01)\tAccuracy 0.951 (0.929)\n"
     ]
    },
    {
     "name": "stderr",
     "output_type": "stream",
     "text": [
      "\r",
      " 25%|███████████████████▍                                                           | 69/280 [20:06<1:01:33, 17.50s/it]"
     ]
    },
    {
     "name": "stdout",
     "output_type": "stream",
     "text": [
      "Train, epoch: [2][  2/280]\tLoss 2.8384e-01 (2.1736e-01)\tAccuracy 0.900 (0.928)\n"
     ]
    },
    {
     "name": "stderr",
     "output_type": "stream",
     "text": [
      "\r",
      " 25%|███████████████████▊                                                           | 70/280 [20:24<1:01:34, 17.59s/it]"
     ]
    },
    {
     "name": "stdout",
     "output_type": "stream",
     "text": [
      "Train, epoch: [2][  2/280]\tLoss 1.5934e-01 (2.1653e-01)\tAccuracy 0.948 (0.928)\n"
     ]
    },
    {
     "name": "stderr",
     "output_type": "stream",
     "text": [
      "\r",
      " 25%|████████████████████                                                           | 71/280 [20:41<1:01:09, 17.56s/it]"
     ]
    },
    {
     "name": "stdout",
     "output_type": "stream",
     "text": [
      "Train, epoch: [2][  2/280]\tLoss 2.4747e-01 (2.1697e-01)\tAccuracy 0.914 (0.928)\n"
     ]
    },
    {
     "name": "stderr",
     "output_type": "stream",
     "text": [
      "\r",
      " 26%|████████████████████▎                                                          | 72/280 [20:59<1:00:47, 17.54s/it]"
     ]
    },
    {
     "name": "stdout",
     "output_type": "stream",
     "text": [
      "Train, epoch: [2][  2/280]\tLoss 2.2372e-01 (2.1706e-01)\tAccuracy 0.923 (0.928)\n"
     ]
    },
    {
     "name": "stderr",
     "output_type": "stream",
     "text": [
      "\r",
      " 26%|████████████████████▌                                                          | 73/280 [21:16<1:00:35, 17.56s/it]"
     ]
    },
    {
     "name": "stdout",
     "output_type": "stream",
     "text": [
      "Train, epoch: [2][  2/280]\tLoss 2.5679e-01 (2.1760e-01)\tAccuracy 0.913 (0.928)\n"
     ]
    },
    {
     "name": "stderr",
     "output_type": "stream",
     "text": [
      "\r",
      " 26%|████████████████████▉                                                          | 74/280 [21:34<1:00:17, 17.56s/it]"
     ]
    },
    {
     "name": "stdout",
     "output_type": "stream",
     "text": [
      "Train, epoch: [2][  2/280]\tLoss 2.1417e-01 (2.1756e-01)\tAccuracy 0.930 (0.928)\n"
     ]
    },
    {
     "name": "stderr",
     "output_type": "stream",
     "text": [
      "\r",
      " 27%|█████████████████████▋                                                           | 75/280 [21:52<59:59, 17.56s/it]"
     ]
    },
    {
     "name": "stdout",
     "output_type": "stream",
     "text": [
      "Train, epoch: [2][  2/280]\tLoss 3.2393e-01 (2.1898e-01)\tAccuracy 0.894 (0.928)\n"
     ]
    },
    {
     "name": "stderr",
     "output_type": "stream",
     "text": [
      "\r",
      " 27%|█████████████████████▉                                                           | 76/280 [22:09<59:25, 17.48s/it]"
     ]
    },
    {
     "name": "stdout",
     "output_type": "stream",
     "text": [
      "Train, epoch: [2][  2/280]\tLoss 1.4579e-01 (2.1801e-01)\tAccuracy 0.950 (0.928)\n"
     ]
    },
    {
     "name": "stderr",
     "output_type": "stream",
     "text": [
      "\r",
      " 28%|██████████████████████▎                                                          | 77/280 [22:26<58:54, 17.41s/it]"
     ]
    },
    {
     "name": "stdout",
     "output_type": "stream",
     "text": [
      "Train, epoch: [2][  2/280]\tLoss 2.3972e-01 (2.1829e-01)\tAccuracy 0.911 (0.928)\n"
     ]
    },
    {
     "name": "stderr",
     "output_type": "stream",
     "text": [
      "\r",
      " 28%|██████████████████████▌                                                          | 78/280 [22:43<58:32, 17.39s/it]"
     ]
    },
    {
     "name": "stdout",
     "output_type": "stream",
     "text": [
      "Train, epoch: [2][  2/280]\tLoss 2.1510e-01 (2.1825e-01)\tAccuracy 0.929 (0.928)\n"
     ]
    },
    {
     "name": "stderr",
     "output_type": "stream",
     "text": [
      "\r",
      " 28%|██████████████████████▊                                                          | 79/280 [23:01<58:17, 17.40s/it]"
     ]
    },
    {
     "name": "stdout",
     "output_type": "stream",
     "text": [
      "Train, epoch: [2][  2/280]\tLoss 2.4753e-01 (2.1862e-01)\tAccuracy 0.909 (0.927)\n"
     ]
    },
    {
     "name": "stderr",
     "output_type": "stream",
     "text": [
      "\r",
      " 29%|███████████████████████▏                                                         | 80/280 [23:18<57:57, 17.39s/it]"
     ]
    },
    {
     "name": "stdout",
     "output_type": "stream",
     "text": [
      "Train, epoch: [2][  2/280]\tLoss 3.1141e-01 (2.1978e-01)\tAccuracy 0.898 (0.927)\n"
     ]
    },
    {
     "name": "stderr",
     "output_type": "stream",
     "text": [
      "\r",
      " 29%|███████████████████████▍                                                         | 81/280 [23:36<57:53, 17.46s/it]"
     ]
    },
    {
     "name": "stdout",
     "output_type": "stream",
     "text": [
      "Train, epoch: [2][  2/280]\tLoss 1.5856e-01 (2.1903e-01)\tAccuracy 0.945 (0.927)\n"
     ]
    },
    {
     "name": "stderr",
     "output_type": "stream",
     "text": [
      "\r",
      " 29%|███████████████████████▋                                                         | 82/280 [23:53<57:35, 17.45s/it]"
     ]
    },
    {
     "name": "stdout",
     "output_type": "stream",
     "text": [
      "Train, epoch: [2][  2/280]\tLoss 1.3795e-01 (2.1804e-01)\tAccuracy 0.958 (0.928)\n"
     ]
    },
    {
     "name": "stderr",
     "output_type": "stream",
     "text": [
      "\r",
      " 30%|████████████████████████                                                         | 83/280 [24:11<57:16, 17.44s/it]"
     ]
    },
    {
     "name": "stdout",
     "output_type": "stream",
     "text": [
      "Train, epoch: [2][  2/280]\tLoss 1.4127e-01 (2.1711e-01)\tAccuracy 0.953 (0.928)\n"
     ]
    },
    {
     "name": "stderr",
     "output_type": "stream",
     "text": [
      "\r",
      " 30%|████████████████████████▎                                                        | 84/280 [24:28<57:02, 17.46s/it]"
     ]
    },
    {
     "name": "stdout",
     "output_type": "stream",
     "text": [
      "Train, epoch: [2][  2/280]\tLoss 2.0725e-01 (2.1700e-01)\tAccuracy 0.930 (0.928)\n"
     ]
    },
    {
     "name": "stderr",
     "output_type": "stream",
     "text": [
      "\r",
      " 30%|████████████████████████▌                                                        | 85/280 [24:46<56:45, 17.47s/it]"
     ]
    },
    {
     "name": "stdout",
     "output_type": "stream",
     "text": [
      "Train, epoch: [2][  2/280]\tLoss 2.6175e-01 (2.1752e-01)\tAccuracy 0.913 (0.928)\n"
     ]
    },
    {
     "name": "stderr",
     "output_type": "stream",
     "text": [
      "\r",
      " 31%|████████████████████████▉                                                        | 86/280 [25:03<56:20, 17.43s/it]"
     ]
    },
    {
     "name": "stdout",
     "output_type": "stream",
     "text": [
      "Train, epoch: [2][  2/280]\tLoss 2.6162e-01 (2.1804e-01)\tAccuracy 0.908 (0.928)\n"
     ]
    },
    {
     "name": "stderr",
     "output_type": "stream",
     "text": [
      "\r",
      " 31%|█████████████████████████▏                                                       | 87/280 [25:21<56:07, 17.45s/it]"
     ]
    },
    {
     "name": "stdout",
     "output_type": "stream",
     "text": [
      "Train, epoch: [2][  2/280]\tLoss 1.9217e-01 (2.1774e-01)\tAccuracy 0.933 (0.928)\n"
     ]
    },
    {
     "name": "stderr",
     "output_type": "stream",
     "text": [
      "\r",
      " 31%|█████████████████████████▍                                                       | 88/280 [25:38<55:54, 17.47s/it]"
     ]
    },
    {
     "name": "stdout",
     "output_type": "stream",
     "text": [
      "Train, epoch: [2][  2/280]\tLoss 2.3013e-01 (2.1788e-01)\tAccuracy 0.918 (0.928)\n"
     ]
    },
    {
     "name": "stderr",
     "output_type": "stream",
     "text": [
      "\r",
      " 32%|█████████████████████████▋                                                       | 89/280 [25:56<55:42, 17.50s/it]"
     ]
    },
    {
     "name": "stdout",
     "output_type": "stream",
     "text": [
      "Train, epoch: [2][  2/280]\tLoss 2.3786e-01 (2.1810e-01)\tAccuracy 0.917 (0.927)\n"
     ]
    },
    {
     "name": "stderr",
     "output_type": "stream",
     "text": [
      "\r",
      " 32%|██████████████████████████                                                       | 90/280 [26:13<55:14, 17.44s/it]"
     ]
    },
    {
     "name": "stdout",
     "output_type": "stream",
     "text": [
      "Train, epoch: [2][  2/280]\tLoss 1.7416e-01 (2.1762e-01)\tAccuracy 0.937 (0.928)\n"
     ]
    },
    {
     "name": "stderr",
     "output_type": "stream",
     "text": [
      "\r",
      " 32%|██████████████████████████▎                                                      | 91/280 [26:31<55:07, 17.50s/it]"
     ]
    },
    {
     "name": "stdout",
     "output_type": "stream",
     "text": [
      "Train, epoch: [2][  2/280]\tLoss 3.6159e-01 (2.1920e-01)\tAccuracy 0.876 (0.927)\n"
     ]
    },
    {
     "name": "stderr",
     "output_type": "stream",
     "text": [
      "\r",
      " 33%|██████████████████████████▌                                                      | 92/280 [26:48<54:45, 17.47s/it]"
     ]
    },
    {
     "name": "stdout",
     "output_type": "stream",
     "text": [
      "Train, epoch: [2][  2/280]\tLoss 1.7641e-01 (2.1873e-01)\tAccuracy 0.943 (0.927)\n"
     ]
    },
    {
     "name": "stderr",
     "output_type": "stream",
     "text": [
      "\r",
      " 33%|██████████████████████████▉                                                      | 93/280 [27:06<54:29, 17.48s/it]"
     ]
    },
    {
     "name": "stdout",
     "output_type": "stream",
     "text": [
      "Train, epoch: [2][  2/280]\tLoss 1.6688e-01 (2.1818e-01)\tAccuracy 0.942 (0.927)\n"
     ]
    },
    {
     "name": "stderr",
     "output_type": "stream",
     "text": [
      "\r",
      " 34%|███████████████████████████▏                                                     | 94/280 [27:23<54:13, 17.49s/it]"
     ]
    },
    {
     "name": "stdout",
     "output_type": "stream",
     "text": [
      "Train, epoch: [2][  2/280]\tLoss 2.0879e-01 (2.1808e-01)\tAccuracy 0.930 (0.927)\n"
     ]
    },
    {
     "name": "stderr",
     "output_type": "stream",
     "text": [
      "\r",
      " 34%|███████████████████████████▍                                                     | 95/280 [27:41<54:07, 17.56s/it]"
     ]
    },
    {
     "name": "stdout",
     "output_type": "stream",
     "text": [
      "Train, epoch: [2][  2/280]\tLoss 2.3440e-01 (2.1825e-01)\tAccuracy 0.916 (0.927)\n"
     ]
    },
    {
     "name": "stderr",
     "output_type": "stream",
     "text": [
      "\r",
      " 34%|███████████████████████████▊                                                     | 96/280 [27:58<53:46, 17.54s/it]"
     ]
    },
    {
     "name": "stdout",
     "output_type": "stream",
     "text": [
      "Train, epoch: [2][  2/280]\tLoss 2.5256e-01 (2.1861e-01)\tAccuracy 0.915 (0.927)\n"
     ]
    },
    {
     "name": "stderr",
     "output_type": "stream",
     "text": [
      "\r",
      " 35%|████████████████████████████                                                     | 97/280 [28:16<53:31, 17.55s/it]"
     ]
    },
    {
     "name": "stdout",
     "output_type": "stream",
     "text": [
      "Train, epoch: [2][  2/280]\tLoss 1.4372e-01 (2.1783e-01)\tAccuracy 0.952 (0.927)\n"
     ]
    },
    {
     "name": "stderr",
     "output_type": "stream",
     "text": [
      "\r",
      " 35%|████████████████████████████▎                                                    | 98/280 [28:33<53:17, 17.57s/it]"
     ]
    },
    {
     "name": "stdout",
     "output_type": "stream",
     "text": [
      "Train, epoch: [2][  2/280]\tLoss 1.9211e-01 (2.1757e-01)\tAccuracy 0.934 (0.927)\n"
     ]
    },
    {
     "name": "stderr",
     "output_type": "stream",
     "text": [
      "\r",
      " 35%|████████████████████████████▋                                                    | 99/280 [28:51<52:43, 17.48s/it]"
     ]
    },
    {
     "name": "stdout",
     "output_type": "stream",
     "text": [
      "Train, epoch: [2][  2/280]\tLoss 1.3280e-01 (2.1671e-01)\tAccuracy 0.956 (0.928)\n"
     ]
    },
    {
     "name": "stderr",
     "output_type": "stream",
     "text": [
      "\r",
      " 36%|████████████████████████████▌                                                   | 100/280 [29:08<52:09, 17.38s/it]"
     ]
    },
    {
     "name": "stdout",
     "output_type": "stream",
     "text": [
      "Train, epoch: [2][  2/280]\tLoss 1.9703e-01 (2.1652e-01)\tAccuracy 0.934 (0.928)\n"
     ]
    },
    {
     "name": "stderr",
     "output_type": "stream",
     "text": [
      "\r",
      " 36%|████████████████████████████▊                                                   | 101/280 [29:25<51:54, 17.40s/it]"
     ]
    },
    {
     "name": "stdout",
     "output_type": "stream",
     "text": [
      "Train, epoch: [2][  2/280]\tLoss 1.0609e-01 (2.1542e-01)\tAccuracy 0.965 (0.928)\n"
     ]
    },
    {
     "name": "stderr",
     "output_type": "stream",
     "text": [
      "\r",
      " 36%|█████████████████████████████▏                                                  | 102/280 [29:43<51:36, 17.40s/it]"
     ]
    },
    {
     "name": "stdout",
     "output_type": "stream",
     "text": [
      "Train, epoch: [2][  2/280]\tLoss 1.7886e-01 (2.1507e-01)\tAccuracy 0.937 (0.928)\n"
     ]
    },
    {
     "name": "stderr",
     "output_type": "stream",
     "text": [
      "\r",
      " 37%|█████████████████████████████▍                                                  | 103/280 [30:00<51:23, 17.42s/it]"
     ]
    },
    {
     "name": "stdout",
     "output_type": "stream",
     "text": [
      "Train, epoch: [2][  2/280]\tLoss 1.9711e-01 (2.1489e-01)\tAccuracy 0.930 (0.928)\n"
     ]
    },
    {
     "name": "stderr",
     "output_type": "stream",
     "text": [
      "\r",
      " 37%|█████████████████████████████▋                                                  | 104/280 [30:18<51:06, 17.42s/it]"
     ]
    },
    {
     "name": "stdout",
     "output_type": "stream",
     "text": [
      "Train, epoch: [2][  2/280]\tLoss 1.6666e-01 (2.1443e-01)\tAccuracy 0.942 (0.928)\n"
     ]
    },
    {
     "name": "stderr",
     "output_type": "stream",
     "text": [
      "\r",
      " 38%|██████████████████████████████                                                  | 105/280 [30:35<50:52, 17.44s/it]"
     ]
    },
    {
     "name": "stdout",
     "output_type": "stream",
     "text": [
      "Train, epoch: [2][  2/280]\tLoss 1.9394e-01 (2.1423e-01)\tAccuracy 0.926 (0.928)\n"
     ]
    },
    {
     "name": "stderr",
     "output_type": "stream",
     "text": [
      "\r",
      " 38%|██████████████████████████████▎                                                 | 106/280 [30:52<50:29, 17.41s/it]"
     ]
    },
    {
     "name": "stdout",
     "output_type": "stream",
     "text": [
      "Train, epoch: [2][  2/280]\tLoss 1.2773e-01 (2.1342e-01)\tAccuracy 0.954 (0.929)\n"
     ]
    },
    {
     "name": "stderr",
     "output_type": "stream",
     "text": [
      "\r",
      " 38%|██████████████████████████████▌                                                 | 107/280 [31:10<50:08, 17.39s/it]"
     ]
    },
    {
     "name": "stdout",
     "output_type": "stream",
     "text": [
      "Train, epoch: [2][  2/280]\tLoss 1.6307e-01 (2.1295e-01)\tAccuracy 0.944 (0.929)\n"
     ]
    },
    {
     "name": "stderr",
     "output_type": "stream",
     "text": [
      "\r",
      " 39%|██████████████████████████████▊                                                 | 108/280 [31:27<49:45, 17.36s/it]"
     ]
    },
    {
     "name": "stdout",
     "output_type": "stream",
     "text": [
      "Train, epoch: [2][  2/280]\tLoss 2.0712e-01 (2.1289e-01)\tAccuracy 0.927 (0.929)\n"
     ]
    },
    {
     "name": "stderr",
     "output_type": "stream",
     "text": [
      "\r",
      " 39%|███████████████████████████████▏                                                | 109/280 [31:45<49:36, 17.40s/it]"
     ]
    },
    {
     "name": "stdout",
     "output_type": "stream",
     "text": [
      "Train, epoch: [2][  2/280]\tLoss 1.5168e-01 (2.1233e-01)\tAccuracy 0.952 (0.929)\n"
     ]
    },
    {
     "name": "stderr",
     "output_type": "stream",
     "text": [
      "\r",
      " 39%|███████████████████████████████▍                                                | 110/280 [32:02<49:23, 17.43s/it]"
     ]
    },
    {
     "name": "stdout",
     "output_type": "stream",
     "text": [
      "Train, epoch: [2][  2/280]\tLoss 1.4764e-01 (2.1174e-01)\tAccuracy 0.949 (0.929)\n"
     ]
    },
    {
     "name": "stderr",
     "output_type": "stream",
     "text": [
      "\r",
      " 40%|███████████████████████████████▋                                                | 111/280 [32:20<49:11, 17.47s/it]"
     ]
    },
    {
     "name": "stdout",
     "output_type": "stream",
     "text": [
      "Train, epoch: [2][  2/280]\tLoss 2.0228e-01 (2.1166e-01)\tAccuracy 0.938 (0.929)\n"
     ]
    },
    {
     "name": "stderr",
     "output_type": "stream",
     "text": [
      "\r",
      " 40%|████████████████████████████████                                                | 112/280 [32:37<48:59, 17.50s/it]"
     ]
    },
    {
     "name": "stdout",
     "output_type": "stream",
     "text": [
      "Train, epoch: [2][  2/280]\tLoss 1.2287e-01 (2.1086e-01)\tAccuracy 0.958 (0.929)\n"
     ]
    },
    {
     "name": "stderr",
     "output_type": "stream",
     "text": [
      "\r",
      " 40%|████████████████████████████████▎                                               | 113/280 [32:55<48:38, 17.47s/it]"
     ]
    },
    {
     "name": "stdout",
     "output_type": "stream",
     "text": [
      "Train, epoch: [2][  2/280]\tLoss 2.0737e-01 (2.1083e-01)\tAccuracy 0.931 (0.929)\n"
     ]
    },
    {
     "name": "stderr",
     "output_type": "stream",
     "text": [
      "\r",
      " 41%|████████████████████████████████▌                                               | 114/280 [33:12<48:16, 17.45s/it]"
     ]
    },
    {
     "name": "stdout",
     "output_type": "stream",
     "text": [
      "Train, epoch: [2][  2/280]\tLoss 2.5923e-01 (2.1126e-01)\tAccuracy 0.908 (0.929)\n"
     ]
    },
    {
     "name": "stderr",
     "output_type": "stream",
     "text": [
      "\r",
      " 41%|████████████████████████████████▊                                               | 115/280 [33:29<47:55, 17.43s/it]"
     ]
    },
    {
     "name": "stdout",
     "output_type": "stream",
     "text": [
      "Train, epoch: [2][  2/280]\tLoss 2.0448e-01 (2.1120e-01)\tAccuracy 0.929 (0.929)\n"
     ]
    },
    {
     "name": "stderr",
     "output_type": "stream",
     "text": [
      "\r",
      " 41%|█████████████████████████████████▏                                              | 116/280 [33:47<47:39, 17.44s/it]"
     ]
    },
    {
     "name": "stdout",
     "output_type": "stream",
     "text": [
      "Train, epoch: [2][  2/280]\tLoss 1.2664e-01 (2.1047e-01)\tAccuracy 0.958 (0.930)\n"
     ]
    },
    {
     "name": "stderr",
     "output_type": "stream",
     "text": [
      "\r",
      " 42%|█████████████████████████████████▍                                              | 117/280 [34:04<47:16, 17.40s/it]"
     ]
    },
    {
     "name": "stdout",
     "output_type": "stream",
     "text": [
      "Train, epoch: [2][  2/280]\tLoss 1.9713e-01 (2.1036e-01)\tAccuracy 0.926 (0.929)\n"
     ]
    },
    {
     "name": "stderr",
     "output_type": "stream",
     "text": [
      "\r",
      " 42%|█████████████████████████████████▋                                              | 118/280 [34:22<46:59, 17.41s/it]"
     ]
    },
    {
     "name": "stdout",
     "output_type": "stream",
     "text": [
      "Train, epoch: [2][  2/280]\tLoss 2.2876e-01 (2.1051e-01)\tAccuracy 0.921 (0.929)\n"
     ]
    },
    {
     "name": "stderr",
     "output_type": "stream",
     "text": [
      "\r",
      " 42%|██████████████████████████████████                                              | 119/280 [34:39<46:39, 17.39s/it]"
     ]
    },
    {
     "name": "stdout",
     "output_type": "stream",
     "text": [
      "Train, epoch: [2][  2/280]\tLoss 1.8825e-01 (2.1033e-01)\tAccuracy 0.937 (0.929)\n"
     ]
    },
    {
     "name": "stderr",
     "output_type": "stream",
     "text": [
      "\r",
      " 43%|██████████████████████████████████▎                                             | 120/280 [34:56<46:20, 17.38s/it]"
     ]
    },
    {
     "name": "stdout",
     "output_type": "stream",
     "text": [
      "Train, epoch: [2][  2/280]\tLoss 1.7750e-01 (2.1005e-01)\tAccuracy 0.939 (0.930)\n"
     ]
    },
    {
     "name": "stderr",
     "output_type": "stream",
     "text": [
      "\r",
      " 43%|██████████████████████████████████▌                                             | 121/280 [35:14<46:12, 17.44s/it]"
     ]
    },
    {
     "name": "stdout",
     "output_type": "stream",
     "text": [
      "Train, epoch: [2][  2/280]\tLoss 2.5700e-01 (2.1044e-01)\tAccuracy 0.911 (0.929)\n"
     ]
    },
    {
     "name": "stderr",
     "output_type": "stream",
     "text": [
      "\r",
      " 44%|██████████████████████████████████▊                                             | 122/280 [35:31<45:52, 17.42s/it]"
     ]
    },
    {
     "name": "stdout",
     "output_type": "stream",
     "text": [
      "Train, epoch: [2][  2/280]\tLoss 2.9340e-01 (2.1112e-01)\tAccuracy 0.897 (0.929)\n"
     ]
    },
    {
     "name": "stderr",
     "output_type": "stream",
     "text": [
      "\r",
      " 44%|███████████████████████████████████▏                                            | 123/280 [35:49<45:32, 17.40s/it]"
     ]
    },
    {
     "name": "stdout",
     "output_type": "stream",
     "text": [
      "Train, epoch: [2][  2/280]\tLoss 2.0925e-01 (2.1110e-01)\tAccuracy 0.931 (0.929)\n"
     ]
    },
    {
     "name": "stderr",
     "output_type": "stream",
     "text": [
      "\r",
      " 44%|███████████████████████████████████▍                                            | 124/280 [36:06<45:22, 17.45s/it]"
     ]
    },
    {
     "name": "stdout",
     "output_type": "stream",
     "text": [
      "Train, epoch: [2][  2/280]\tLoss 1.4742e-01 (2.1059e-01)\tAccuracy 0.948 (0.929)\n"
     ]
    },
    {
     "name": "stderr",
     "output_type": "stream",
     "text": [
      "\r",
      " 45%|███████████████████████████████████▋                                            | 125/280 [36:23<45:01, 17.43s/it]"
     ]
    },
    {
     "name": "stdout",
     "output_type": "stream",
     "text": [
      "Train, epoch: [2][  2/280]\tLoss 1.5929e-01 (2.1018e-01)\tAccuracy 0.947 (0.929)\n"
     ]
    },
    {
     "name": "stderr",
     "output_type": "stream",
     "text": [
      "\r",
      " 45%|████████████████████████████████████                                            | 126/280 [36:41<44:44, 17.43s/it]"
     ]
    },
    {
     "name": "stdout",
     "output_type": "stream",
     "text": [
      "Train, epoch: [2][  2/280]\tLoss 2.6552e-01 (2.1062e-01)\tAccuracy 0.928 (0.929)\n"
     ]
    },
    {
     "name": "stderr",
     "output_type": "stream",
     "text": [
      "\r",
      " 45%|████████████████████████████████████▎                                           | 127/280 [36:58<44:23, 17.41s/it]"
     ]
    },
    {
     "name": "stdout",
     "output_type": "stream",
     "text": [
      "Train, epoch: [2][  2/280]\tLoss 1.9114e-01 (2.1047e-01)\tAccuracy 0.932 (0.929)\n"
     ]
    },
    {
     "name": "stderr",
     "output_type": "stream",
     "text": [
      "\r",
      " 46%|████████████████████████████████████▌                                           | 128/280 [37:16<44:04, 17.40s/it]"
     ]
    },
    {
     "name": "stdout",
     "output_type": "stream",
     "text": [
      "Train, epoch: [2][  2/280]\tLoss 3.4111e-01 (2.1149e-01)\tAccuracy 0.886 (0.929)\n"
     ]
    },
    {
     "name": "stderr",
     "output_type": "stream",
     "text": [
      "\r",
      " 46%|████████████████████████████████████▊                                           | 129/280 [37:33<43:52, 17.44s/it]"
     ]
    },
    {
     "name": "stdout",
     "output_type": "stream",
     "text": [
      "Train, epoch: [2][  2/280]\tLoss 1.2526e-01 (2.1082e-01)\tAccuracy 0.959 (0.929)\n"
     ]
    },
    {
     "name": "stderr",
     "output_type": "stream",
     "text": [
      "\r",
      " 46%|█████████████████████████████████████▏                                          | 130/280 [37:51<43:37, 17.45s/it]"
     ]
    },
    {
     "name": "stdout",
     "output_type": "stream",
     "text": [
      "Train, epoch: [2][  2/280]\tLoss 1.9967e-01 (2.1073e-01)\tAccuracy 0.929 (0.929)\n"
     ]
    },
    {
     "name": "stderr",
     "output_type": "stream",
     "text": [
      "\r",
      " 47%|█████████████████████████████████████▍                                          | 131/280 [38:08<43:15, 17.42s/it]"
     ]
    },
    {
     "name": "stdout",
     "output_type": "stream",
     "text": [
      "Train, epoch: [2][  2/280]\tLoss 2.2107e-01 (2.1081e-01)\tAccuracy 0.921 (0.929)\n"
     ]
    },
    {
     "name": "stderr",
     "output_type": "stream",
     "text": [
      "\r",
      " 47%|█████████████████████████████████████▋                                          | 132/280 [38:26<43:05, 17.47s/it]"
     ]
    },
    {
     "name": "stdout",
     "output_type": "stream",
     "text": [
      "Train, epoch: [2][  2/280]\tLoss 1.4310e-01 (2.1030e-01)\tAccuracy 0.951 (0.929)\n"
     ]
    },
    {
     "name": "stderr",
     "output_type": "stream",
     "text": [
      "\r",
      " 48%|██████████████████████████████████████                                          | 133/280 [38:43<42:52, 17.50s/it]"
     ]
    },
    {
     "name": "stdout",
     "output_type": "stream",
     "text": [
      "Train, epoch: [2][  2/280]\tLoss 2.1435e-01 (2.1033e-01)\tAccuracy 0.922 (0.929)\n"
     ]
    },
    {
     "name": "stderr",
     "output_type": "stream",
     "text": [
      "\r",
      " 48%|██████████████████████████████████████▎                                         | 134/280 [39:01<42:32, 17.48s/it]"
     ]
    },
    {
     "name": "stdout",
     "output_type": "stream",
     "text": [
      "Train, epoch: [2][  2/280]\tLoss 2.0086e-01 (2.1026e-01)\tAccuracy 0.930 (0.929)\n"
     ]
    },
    {
     "name": "stderr",
     "output_type": "stream",
     "text": [
      "\r",
      " 48%|██████████████████████████████████████▌                                         | 135/280 [39:18<42:21, 17.53s/it]"
     ]
    },
    {
     "name": "stdout",
     "output_type": "stream",
     "text": [
      "Train, epoch: [2][  2/280]\tLoss 2.5930e-01 (2.1062e-01)\tAccuracy 0.909 (0.929)\n"
     ]
    },
    {
     "name": "stderr",
     "output_type": "stream",
     "text": [
      "\r",
      " 49%|██████████████████████████████████████▊                                         | 136/280 [39:36<41:56, 17.47s/it]"
     ]
    },
    {
     "name": "stdout",
     "output_type": "stream",
     "text": [
      "Train, epoch: [2][  2/280]\tLoss 2.5009e-01 (2.1091e-01)\tAccuracy 0.914 (0.929)\n"
     ]
    },
    {
     "name": "stderr",
     "output_type": "stream",
     "text": [
      "\r",
      " 49%|███████████████████████████████████████▏                                        | 137/280 [39:53<41:38, 17.47s/it]"
     ]
    },
    {
     "name": "stdout",
     "output_type": "stream",
     "text": [
      "Train, epoch: [2][  2/280]\tLoss 1.9717e-01 (2.1081e-01)\tAccuracy 0.930 (0.929)\n"
     ]
    },
    {
     "name": "stderr",
     "output_type": "stream",
     "text": [
      "\r",
      " 49%|███████████████████████████████████████▍                                        | 138/280 [40:11<41:21, 17.48s/it]"
     ]
    },
    {
     "name": "stdout",
     "output_type": "stream",
     "text": [
      "Train, epoch: [2][  2/280]\tLoss 1.5668e-01 (2.1042e-01)\tAccuracy 0.949 (0.929)\n"
     ]
    },
    {
     "name": "stderr",
     "output_type": "stream",
     "text": [
      "\r",
      " 50%|███████████████████████████████████████▋                                        | 139/280 [40:28<41:09, 17.52s/it]"
     ]
    },
    {
     "name": "stdout",
     "output_type": "stream",
     "text": [
      "Train, epoch: [2][  2/280]\tLoss 1.4931e-01 (2.0998e-01)\tAccuracy 0.953 (0.929)\n"
     ]
    },
    {
     "name": "stderr",
     "output_type": "stream",
     "text": [
      "\r",
      " 50%|████████████████████████████████████████                                        | 140/280 [40:46<40:47, 17.48s/it]"
     ]
    },
    {
     "name": "stdout",
     "output_type": "stream",
     "text": [
      "Train, epoch: [2][  2/280]\tLoss 1.8746e-01 (2.0982e-01)\tAccuracy 0.933 (0.929)\n"
     ]
    },
    {
     "name": "stderr",
     "output_type": "stream",
     "text": [
      "\r",
      " 50%|████████████████████████████████████████▎                                       | 141/280 [41:03<40:24, 17.44s/it]"
     ]
    },
    {
     "name": "stdout",
     "output_type": "stream",
     "text": [
      "Train, epoch: [2][  2/280]\tLoss 2.1038e-01 (2.0982e-01)\tAccuracy 0.928 (0.929)\n"
     ]
    },
    {
     "name": "stderr",
     "output_type": "stream",
     "text": [
      "\r",
      " 51%|████████████████████████████████████████▌                                       | 142/280 [41:20<40:06, 17.44s/it]"
     ]
    },
    {
     "name": "stdout",
     "output_type": "stream",
     "text": [
      "Train, epoch: [2][  2/280]\tLoss 1.4947e-01 (2.0940e-01)\tAccuracy 0.950 (0.930)\n"
     ]
    },
    {
     "name": "stderr",
     "output_type": "stream",
     "text": [
      "\r",
      " 51%|████████████████████████████████████████▊                                       | 143/280 [41:38<39:47, 17.43s/it]"
     ]
    },
    {
     "name": "stdout",
     "output_type": "stream",
     "text": [
      "Train, epoch: [2][  2/280]\tLoss 1.6738e-01 (2.0910e-01)\tAccuracy 0.942 (0.930)\n"
     ]
    },
    {
     "name": "stderr",
     "output_type": "stream",
     "text": [
      "\r",
      " 51%|█████████████████████████████████████████▏                                      | 144/280 [41:55<39:25, 17.39s/it]"
     ]
    },
    {
     "name": "stdout",
     "output_type": "stream",
     "text": [
      "Train, epoch: [2][  2/280]\tLoss 6.3275e-01 (2.1205e-01)\tAccuracy 0.830 (0.929)\n"
     ]
    },
    {
     "name": "stderr",
     "output_type": "stream",
     "text": [
      "\r",
      " 52%|█████████████████████████████████████████▍                                      | 145/280 [42:12<39:05, 17.38s/it]"
     ]
    },
    {
     "name": "stdout",
     "output_type": "stream",
     "text": [
      "Train, epoch: [2][  2/280]\tLoss 2.3375e-01 (2.1220e-01)\tAccuracy 0.920 (0.929)\n"
     ]
    },
    {
     "name": "stderr",
     "output_type": "stream",
     "text": [
      "\r",
      " 52%|█████████████████████████████████████████▋                                      | 146/280 [42:30<38:43, 17.34s/it]"
     ]
    },
    {
     "name": "stdout",
     "output_type": "stream",
     "text": [
      "Train, epoch: [2][  2/280]\tLoss 3.1780e-01 (2.1292e-01)\tAccuracy 0.885 (0.929)\n"
     ]
    },
    {
     "name": "stderr",
     "output_type": "stream",
     "text": [
      "\r",
      " 52%|██████████████████████████████████████████                                      | 147/280 [42:47<38:32, 17.39s/it]"
     ]
    },
    {
     "name": "stdout",
     "output_type": "stream",
     "text": [
      "Train, epoch: [2][  2/280]\tLoss 1.7457e-01 (2.1266e-01)\tAccuracy 0.942 (0.929)\n"
     ]
    },
    {
     "name": "stderr",
     "output_type": "stream",
     "text": [
      "\r",
      " 53%|██████████████████████████████████████████▎                                     | 148/280 [43:05<38:18, 17.41s/it]"
     ]
    },
    {
     "name": "stdout",
     "output_type": "stream",
     "text": [
      "Train, epoch: [2][  2/280]\tLoss 1.9579e-01 (2.1254e-01)\tAccuracy 0.936 (0.929)\n"
     ]
    },
    {
     "name": "stderr",
     "output_type": "stream",
     "text": [
      "\r",
      " 53%|██████████████████████████████████████████▌                                     | 149/280 [43:22<38:01, 17.41s/it]"
     ]
    },
    {
     "name": "stdout",
     "output_type": "stream",
     "text": [
      "Train, epoch: [2][  2/280]\tLoss 2.6125e-01 (2.1287e-01)\tAccuracy 0.906 (0.929)\n"
     ]
    },
    {
     "name": "stderr",
     "output_type": "stream",
     "text": [
      "\r",
      " 54%|██████████████████████████████████████████▊                                     | 150/280 [43:39<37:40, 17.39s/it]"
     ]
    },
    {
     "name": "stdout",
     "output_type": "stream",
     "text": [
      "Train, epoch: [2][  2/280]\tLoss 1.6181e-01 (2.1253e-01)\tAccuracy 0.945 (0.929)\n"
     ]
    },
    {
     "name": "stderr",
     "output_type": "stream",
     "text": [
      "\r",
      " 54%|███████████████████████████████████████████▏                                    | 151/280 [43:57<37:24, 17.40s/it]"
     ]
    },
    {
     "name": "stdout",
     "output_type": "stream",
     "text": [
      "Train, epoch: [2][  2/280]\tLoss 1.8655e-01 (2.1236e-01)\tAccuracy 0.937 (0.929)\n"
     ]
    },
    {
     "name": "stderr",
     "output_type": "stream",
     "text": [
      "\r",
      " 54%|███████████████████████████████████████████▍                                    | 152/280 [44:14<37:02, 17.37s/it]"
     ]
    },
    {
     "name": "stdout",
     "output_type": "stream",
     "text": [
      "Train, epoch: [2][  2/280]\tLoss 1.9563e-01 (2.1225e-01)\tAccuracy 0.932 (0.929)\n"
     ]
    },
    {
     "name": "stderr",
     "output_type": "stream",
     "text": [
      "\r",
      " 55%|███████████████████████████████████████████▋                                    | 153/280 [44:32<36:50, 17.41s/it]"
     ]
    },
    {
     "name": "stdout",
     "output_type": "stream",
     "text": [
      "Train, epoch: [2][  2/280]\tLoss 2.3321e-01 (2.1239e-01)\tAccuracy 0.921 (0.929)\n"
     ]
    },
    {
     "name": "stderr",
     "output_type": "stream",
     "text": [
      "\r",
      " 55%|████████████████████████████████████████████                                    | 154/280 [44:49<36:33, 17.41s/it]"
     ]
    },
    {
     "name": "stdout",
     "output_type": "stream",
     "text": [
      "Train, epoch: [2][  2/280]\tLoss 2.7636e-01 (2.1280e-01)\tAccuracy 0.909 (0.929)\n"
     ]
    },
    {
     "name": "stderr",
     "output_type": "stream",
     "text": [
      "\r",
      " 55%|████████████████████████████████████████████▎                                   | 155/280 [45:06<36:16, 17.41s/it]"
     ]
    },
    {
     "name": "stdout",
     "output_type": "stream",
     "text": [
      "Train, epoch: [2][  2/280]\tLoss 2.7770e-01 (2.1322e-01)\tAccuracy 0.898 (0.928)\n"
     ]
    },
    {
     "name": "stderr",
     "output_type": "stream",
     "text": [
      "\r",
      " 56%|████████████████████████████████████████████▌                                   | 156/280 [45:24<36:01, 17.43s/it]"
     ]
    },
    {
     "name": "stdout",
     "output_type": "stream",
     "text": [
      "Train, epoch: [2][  2/280]\tLoss 2.6171e-01 (2.1353e-01)\tAccuracy 0.909 (0.928)\n"
     ]
    },
    {
     "name": "stderr",
     "output_type": "stream",
     "text": [
      "\r",
      " 56%|████████████████████████████████████████████▊                                   | 157/280 [45:41<35:44, 17.44s/it]"
     ]
    },
    {
     "name": "stdout",
     "output_type": "stream",
     "text": [
      "Train, epoch: [2][  2/280]\tLoss 1.2730e-01 (2.1298e-01)\tAccuracy 0.957 (0.928)\n"
     ]
    },
    {
     "name": "stderr",
     "output_type": "stream",
     "text": [
      "\r",
      " 56%|█████████████████████████████████████████████▏                                  | 158/280 [45:59<35:25, 17.42s/it]"
     ]
    },
    {
     "name": "stdout",
     "output_type": "stream",
     "text": [
      "Train, epoch: [2][  2/280]\tLoss 1.8584e-01 (2.1281e-01)\tAccuracy 0.940 (0.929)\n"
     ]
    },
    {
     "name": "stderr",
     "output_type": "stream",
     "text": [
      "\r",
      " 57%|█████████████████████████████████████████████▍                                  | 159/280 [46:16<35:04, 17.39s/it]"
     ]
    },
    {
     "name": "stdout",
     "output_type": "stream",
     "text": [
      "Train, epoch: [2][  2/280]\tLoss 1.7004e-01 (2.1254e-01)\tAccuracy 0.943 (0.929)\n"
     ]
    },
    {
     "name": "stderr",
     "output_type": "stream",
     "text": [
      "\r",
      " 57%|█████████████████████████████████████████████▋                                  | 160/280 [46:34<34:57, 17.48s/it]"
     ]
    },
    {
     "name": "stdout",
     "output_type": "stream",
     "text": [
      "Train, epoch: [2][  2/280]\tLoss 1.4181e-01 (2.1210e-01)\tAccuracy 0.956 (0.929)\n"
     ]
    },
    {
     "name": "stderr",
     "output_type": "stream",
     "text": [
      "\r",
      " 57%|██████████████████████████████████████████████                                  | 161/280 [46:51<34:38, 17.47s/it]"
     ]
    },
    {
     "name": "stdout",
     "output_type": "stream",
     "text": [
      "Train, epoch: [2][  2/280]\tLoss 2.0968e-01 (2.1208e-01)\tAccuracy 0.935 (0.929)\n"
     ]
    },
    {
     "name": "stderr",
     "output_type": "stream",
     "text": [
      "\r",
      " 58%|██████████████████████████████████████████████▎                                 | 162/280 [47:09<34:26, 17.51s/it]"
     ]
    },
    {
     "name": "stdout",
     "output_type": "stream",
     "text": [
      "Train, epoch: [2][  2/280]\tLoss 2.0609e-01 (2.1205e-01)\tAccuracy 0.930 (0.929)\n"
     ]
    },
    {
     "name": "stderr",
     "output_type": "stream",
     "text": [
      "\r",
      " 58%|██████████████████████████████████████████████▌                                 | 163/280 [47:26<34:03, 17.46s/it]"
     ]
    },
    {
     "name": "stdout",
     "output_type": "stream",
     "text": [
      "Train, epoch: [2][  2/280]\tLoss 1.8103e-01 (2.1186e-01)\tAccuracy 0.937 (0.929)\n"
     ]
    },
    {
     "name": "stderr",
     "output_type": "stream",
     "text": [
      "\r",
      " 59%|██████████████████████████████████████████████▊                                 | 164/280 [47:44<33:43, 17.45s/it]"
     ]
    },
    {
     "name": "stdout",
     "output_type": "stream",
     "text": [
      "Train, epoch: [2][  2/280]\tLoss 3.1415e-01 (2.1248e-01)\tAccuracy 0.889 (0.929)\n"
     ]
    },
    {
     "name": "stderr",
     "output_type": "stream",
     "text": [
      "\r",
      " 59%|███████████████████████████████████████████████▏                                | 165/280 [48:01<33:27, 17.46s/it]"
     ]
    },
    {
     "name": "stdout",
     "output_type": "stream",
     "text": [
      "Train, epoch: [2][  2/280]\tLoss 2.3051e-01 (2.1259e-01)\tAccuracy 0.919 (0.929)\n"
     ]
    },
    {
     "name": "stderr",
     "output_type": "stream",
     "text": [
      "\r",
      " 59%|███████████████████████████████████████████████▍                                | 166/280 [48:18<33:09, 17.45s/it]"
     ]
    },
    {
     "name": "stdout",
     "output_type": "stream",
     "text": [
      "Train, epoch: [2][  2/280]\tLoss 2.2788e-01 (2.1268e-01)\tAccuracy 0.922 (0.929)\n"
     ]
    },
    {
     "name": "stderr",
     "output_type": "stream",
     "text": [
      "\r",
      " 60%|███████████████████████████████████████████████▋                                | 167/280 [48:36<32:51, 17.44s/it]"
     ]
    },
    {
     "name": "stdout",
     "output_type": "stream",
     "text": [
      "Train, epoch: [2][  2/280]\tLoss 1.7778e-01 (2.1247e-01)\tAccuracy 0.944 (0.929)\n"
     ]
    },
    {
     "name": "stderr",
     "output_type": "stream",
     "text": [
      "\r",
      " 60%|████████████████████████████████████████████████                                | 168/280 [48:53<32:31, 17.42s/it]"
     ]
    },
    {
     "name": "stdout",
     "output_type": "stream",
     "text": [
      "Train, epoch: [2][  2/280]\tLoss 4.4346e-01 (2.1385e-01)\tAccuracy 0.864 (0.928)\n"
     ]
    },
    {
     "name": "stderr",
     "output_type": "stream",
     "text": [
      "\r",
      " 60%|████████████████████████████████████████████████▎                               | 169/280 [49:11<32:14, 17.43s/it]"
     ]
    },
    {
     "name": "stdout",
     "output_type": "stream",
     "text": [
      "Train, epoch: [2][  2/280]\tLoss 1.7253e-01 (2.1360e-01)\tAccuracy 0.942 (0.928)\n"
     ]
    },
    {
     "name": "stderr",
     "output_type": "stream",
     "text": [
      "\r",
      " 61%|████████████████████████████████████████████████▌                               | 170/280 [49:28<31:59, 17.45s/it]"
     ]
    },
    {
     "name": "stdout",
     "output_type": "stream",
     "text": [
      "Train, epoch: [2][  2/280]\tLoss 3.4788e-01 (2.1439e-01)\tAccuracy 0.891 (0.928)\n"
     ]
    },
    {
     "name": "stderr",
     "output_type": "stream",
     "text": [
      "\r",
      " 61%|████████████████████████████████████████████████▊                               | 171/280 [49:46<31:42, 17.45s/it]"
     ]
    },
    {
     "name": "stdout",
     "output_type": "stream",
     "text": [
      "Train, epoch: [2][  2/280]\tLoss 2.3257e-01 (2.1450e-01)\tAccuracy 0.917 (0.928)\n"
     ]
    },
    {
     "name": "stderr",
     "output_type": "stream",
     "text": [
      "\r",
      " 61%|█████████████████████████████████████████████████▏                              | 172/280 [50:03<31:24, 17.45s/it]"
     ]
    },
    {
     "name": "stdout",
     "output_type": "stream",
     "text": [
      "Train, epoch: [2][  2/280]\tLoss 2.4008e-01 (2.1465e-01)\tAccuracy 0.921 (0.928)\n"
     ]
    },
    {
     "name": "stderr",
     "output_type": "stream",
     "text": [
      "\r",
      " 62%|█████████████████████████████████████████████████▍                              | 173/280 [50:21<31:06, 17.44s/it]"
     ]
    },
    {
     "name": "stdout",
     "output_type": "stream",
     "text": [
      "Train, epoch: [2][  2/280]\tLoss 2.8237e-01 (2.1504e-01)\tAccuracy 0.901 (0.928)\n"
     ]
    },
    {
     "name": "stderr",
     "output_type": "stream",
     "text": [
      "\r",
      " 62%|█████████████████████████████████████████████████▋                              | 174/280 [50:38<30:50, 17.46s/it]"
     ]
    },
    {
     "name": "stdout",
     "output_type": "stream",
     "text": [
      "Train, epoch: [2][  2/280]\tLoss 3.1624e-01 (2.1562e-01)\tAccuracy 0.890 (0.928)\n"
     ]
    },
    {
     "name": "stderr",
     "output_type": "stream",
     "text": [
      "\r",
      " 62%|██████████████████████████████████████████████████                              | 175/280 [50:55<30:32, 17.45s/it]"
     ]
    },
    {
     "name": "stdout",
     "output_type": "stream",
     "text": [
      "Train, epoch: [2][  2/280]\tLoss 1.8771e-01 (2.1546e-01)\tAccuracy 0.938 (0.928)\n"
     ]
    },
    {
     "name": "stderr",
     "output_type": "stream",
     "text": [
      "\r",
      " 63%|██████████████████████████████████████████████████▎                             | 176/280 [51:13<30:23, 17.53s/it]"
     ]
    },
    {
     "name": "stdout",
     "output_type": "stream",
     "text": [
      "Train, epoch: [2][  2/280]\tLoss 2.2261e-01 (2.1550e-01)\tAccuracy 0.923 (0.928)\n"
     ]
    },
    {
     "name": "stderr",
     "output_type": "stream",
     "text": [
      "\r",
      " 63%|██████████████████████████████████████████████████▌                             | 177/280 [51:31<30:02, 17.50s/it]"
     ]
    },
    {
     "name": "stdout",
     "output_type": "stream",
     "text": [
      "Train, epoch: [2][  2/280]\tLoss 2.5707e-01 (2.1574e-01)\tAccuracy 0.910 (0.928)\n"
     ]
    },
    {
     "name": "stderr",
     "output_type": "stream",
     "text": [
      "\r",
      " 64%|██████████████████████████████████████████████████▊                             | 178/280 [51:48<29:46, 17.51s/it]"
     ]
    },
    {
     "name": "stdout",
     "output_type": "stream",
     "text": [
      "Train, epoch: [2][  2/280]\tLoss 2.4769e-01 (2.1592e-01)\tAccuracy 0.916 (0.928)\n"
     ]
    },
    {
     "name": "stderr",
     "output_type": "stream",
     "text": [
      "\r",
      " 64%|███████████████████████████████████████████████████▏                            | 179/280 [52:06<29:26, 17.49s/it]"
     ]
    },
    {
     "name": "stdout",
     "output_type": "stream",
     "text": [
      "Train, epoch: [2][  2/280]\tLoss 3.2044e-01 (2.1650e-01)\tAccuracy 0.884 (0.927)\n"
     ]
    },
    {
     "name": "stderr",
     "output_type": "stream",
     "text": [
      "\r",
      " 64%|███████████████████████████████████████████████████▍                            | 180/280 [52:23<29:10, 17.50s/it]"
     ]
    },
    {
     "name": "stdout",
     "output_type": "stream",
     "text": [
      "Train, epoch: [2][  2/280]\tLoss 1.6274e-01 (2.1620e-01)\tAccuracy 0.942 (0.927)\n"
     ]
    },
    {
     "name": "stderr",
     "output_type": "stream",
     "text": [
      "\r",
      " 65%|███████████████████████████████████████████████████▋                            | 181/280 [52:41<28:54, 17.52s/it]"
     ]
    },
    {
     "name": "stdout",
     "output_type": "stream",
     "text": [
      "Train, epoch: [2][  2/280]\tLoss 2.9030e-01 (2.1661e-01)\tAccuracy 0.901 (0.927)\n"
     ]
    },
    {
     "name": "stderr",
     "output_type": "stream",
     "text": [
      "\r",
      " 65%|████████████████████████████████████████████████████                            | 182/280 [52:58<28:36, 17.52s/it]"
     ]
    },
    {
     "name": "stdout",
     "output_type": "stream",
     "text": [
      "Train, epoch: [2][  2/280]\tLoss 1.7008e-01 (2.1636e-01)\tAccuracy 0.942 (0.927)\n"
     ]
    },
    {
     "name": "stderr",
     "output_type": "stream",
     "text": [
      "\r",
      " 65%|████████████████████████████████████████████████████▎                           | 183/280 [53:16<28:16, 17.49s/it]"
     ]
    },
    {
     "name": "stdout",
     "output_type": "stream",
     "text": [
      "Train, epoch: [2][  2/280]\tLoss 2.2639e-01 (2.1641e-01)\tAccuracy 0.917 (0.927)\n"
     ]
    },
    {
     "name": "stderr",
     "output_type": "stream",
     "text": [
      "\r",
      " 66%|████████████████████████████████████████████████████▌                           | 184/280 [53:33<27:57, 17.48s/it]"
     ]
    },
    {
     "name": "stdout",
     "output_type": "stream",
     "text": [
      "Train, epoch: [2][  2/280]\tLoss 2.0218e-01 (2.1633e-01)\tAccuracy 0.932 (0.927)\n"
     ]
    },
    {
     "name": "stderr",
     "output_type": "stream",
     "text": [
      "\r",
      " 66%|████████████████████████████████████████████████████▊                           | 185/280 [53:51<27:41, 17.49s/it]"
     ]
    },
    {
     "name": "stdout",
     "output_type": "stream",
     "text": [
      "Train, epoch: [2][  2/280]\tLoss 2.0578e-01 (2.1628e-01)\tAccuracy 0.931 (0.927)\n"
     ]
    },
    {
     "name": "stderr",
     "output_type": "stream",
     "text": [
      "\r",
      " 66%|█████████████████████████████████████████████████████▏                          | 186/280 [54:08<27:19, 17.44s/it]"
     ]
    },
    {
     "name": "stdout",
     "output_type": "stream",
     "text": [
      "Train, epoch: [2][  2/280]\tLoss 1.4862e-01 (2.1591e-01)\tAccuracy 0.952 (0.927)\n"
     ]
    },
    {
     "name": "stderr",
     "output_type": "stream",
     "text": [
      "\r",
      " 67%|█████████████████████████████████████████████████████▍                          | 187/280 [54:25<27:01, 17.43s/it]"
     ]
    },
    {
     "name": "stdout",
     "output_type": "stream",
     "text": [
      "Train, epoch: [2][  2/280]\tLoss 1.9692e-01 (2.1581e-01)\tAccuracy 0.934 (0.927)\n"
     ]
    },
    {
     "name": "stderr",
     "output_type": "stream",
     "text": [
      "\r",
      " 67%|█████████████████████████████████████████████████████▋                          | 188/280 [54:43<26:41, 17.41s/it]"
     ]
    },
    {
     "name": "stdout",
     "output_type": "stream",
     "text": [
      "Train, epoch: [2][  2/280]\tLoss 1.4375e-01 (2.1543e-01)\tAccuracy 0.952 (0.928)\n"
     ]
    },
    {
     "name": "stderr",
     "output_type": "stream",
     "text": [
      "\r",
      " 68%|██████████████████████████████████████████████████████                          | 189/280 [55:00<26:28, 17.46s/it]"
     ]
    },
    {
     "name": "stdout",
     "output_type": "stream",
     "text": [
      "Train, epoch: [2][  2/280]\tLoss 3.0718e-01 (2.1591e-01)\tAccuracy 0.889 (0.927)\n"
     ]
    },
    {
     "name": "stderr",
     "output_type": "stream",
     "text": [
      "\r",
      " 68%|██████████████████████████████████████████████████████▎                         | 190/280 [55:18<26:10, 17.45s/it]"
     ]
    },
    {
     "name": "stdout",
     "output_type": "stream",
     "text": [
      "Train, epoch: [2][  2/280]\tLoss 2.0301e-01 (2.1584e-01)\tAccuracy 0.928 (0.927)\n"
     ]
    },
    {
     "name": "stderr",
     "output_type": "stream",
     "text": [
      "\r",
      " 68%|██████████████████████████████████████████████████████▌                         | 191/280 [55:35<25:54, 17.46s/it]"
     ]
    },
    {
     "name": "stdout",
     "output_type": "stream",
     "text": [
      "Train, epoch: [2][  2/280]\tLoss 1.7537e-01 (2.1563e-01)\tAccuracy 0.940 (0.927)\n"
     ]
    },
    {
     "name": "stderr",
     "output_type": "stream",
     "text": [
      "\r",
      " 69%|██████████████████████████████████████████████████████▊                         | 192/280 [55:53<25:34, 17.44s/it]"
     ]
    },
    {
     "name": "stdout",
     "output_type": "stream",
     "text": [
      "Train, epoch: [2][  2/280]\tLoss 1.0298e-01 (2.1505e-01)\tAccuracy 0.966 (0.928)\n"
     ]
    },
    {
     "name": "stderr",
     "output_type": "stream",
     "text": [
      "\r",
      " 69%|███████████████████████████████████████████████████████▏                        | 193/280 [56:10<25:20, 17.47s/it]"
     ]
    },
    {
     "name": "stdout",
     "output_type": "stream",
     "text": [
      "Train, epoch: [2][  2/280]\tLoss 2.3300e-01 (2.1514e-01)\tAccuracy 0.922 (0.928)\n"
     ]
    },
    {
     "name": "stderr",
     "output_type": "stream",
     "text": [
      "\r",
      " 69%|███████████████████████████████████████████████████████▍                        | 194/280 [56:28<25:02, 17.47s/it]"
     ]
    },
    {
     "name": "stdout",
     "output_type": "stream",
     "text": [
      "Train, epoch: [2][  2/280]\tLoss 2.3280e-01 (2.1523e-01)\tAccuracy 0.920 (0.928)\n"
     ]
    },
    {
     "name": "stderr",
     "output_type": "stream",
     "text": [
      "\r",
      " 70%|███████████████████████████████████████████████████████▋                        | 195/280 [56:45<24:42, 17.44s/it]"
     ]
    },
    {
     "name": "stdout",
     "output_type": "stream",
     "text": [
      "Train, epoch: [2][  2/280]\tLoss 1.6231e-01 (2.1496e-01)\tAccuracy 0.943 (0.928)\n"
     ]
    },
    {
     "name": "stderr",
     "output_type": "stream",
     "text": [
      "\r",
      " 70%|████████████████████████████████████████████████████████                        | 196/280 [57:03<24:31, 17.51s/it]"
     ]
    },
    {
     "name": "stdout",
     "output_type": "stream",
     "text": [
      "Train, epoch: [2][  2/280]\tLoss 2.6384e-01 (2.1521e-01)\tAccuracy 0.905 (0.928)\n"
     ]
    },
    {
     "name": "stderr",
     "output_type": "stream",
     "text": [
      "\r",
      " 70%|████████████████████████████████████████████████████████▎                       | 197/280 [57:20<24:09, 17.46s/it]"
     ]
    },
    {
     "name": "stdout",
     "output_type": "stream",
     "text": [
      "Train, epoch: [2][  2/280]\tLoss 1.9212e-01 (2.1509e-01)\tAccuracy 0.940 (0.928)\n"
     ]
    },
    {
     "name": "stderr",
     "output_type": "stream",
     "text": [
      "\r",
      " 71%|████████████████████████████████████████████████████████▌                       | 198/280 [57:37<23:48, 17.42s/it]"
     ]
    },
    {
     "name": "stdout",
     "output_type": "stream",
     "text": [
      "Train, epoch: [2][  2/280]\tLoss 3.3512e-01 (2.1570e-01)\tAccuracy 0.891 (0.927)\n"
     ]
    },
    {
     "name": "stderr",
     "output_type": "stream",
     "text": [
      "\r",
      " 71%|████████████████████████████████████████████████████████▊                       | 199/280 [57:55<23:29, 17.40s/it]"
     ]
    },
    {
     "name": "stdout",
     "output_type": "stream",
     "text": [
      "Train, epoch: [2][  2/280]\tLoss 1.6743e-01 (2.1545e-01)\tAccuracy 0.943 (0.928)\n"
     ]
    },
    {
     "name": "stderr",
     "output_type": "stream",
     "text": [
      "\r",
      " 71%|█████████████████████████████████████████████████████████▏                      | 200/280 [58:12<23:15, 17.44s/it]"
     ]
    },
    {
     "name": "stdout",
     "output_type": "stream",
     "text": [
      "Train, epoch: [2][  2/280]\tLoss 1.6798e-01 (2.1522e-01)\tAccuracy 0.939 (0.928)\n"
     ]
    },
    {
     "name": "stderr",
     "output_type": "stream",
     "text": [
      "\r",
      " 72%|█████████████████████████████████████████████████████████▍                      | 201/280 [58:30<22:56, 17.43s/it]"
     ]
    },
    {
     "name": "stdout",
     "output_type": "stream",
     "text": [
      "Train, epoch: [2][  2/280]\tLoss 2.0127e-01 (2.1515e-01)\tAccuracy 0.932 (0.928)\n"
     ]
    },
    {
     "name": "stderr",
     "output_type": "stream",
     "text": [
      "\r",
      " 72%|█████████████████████████████████████████████████████████▋                      | 202/280 [58:47<22:41, 17.45s/it]"
     ]
    },
    {
     "name": "stdout",
     "output_type": "stream",
     "text": [
      "Train, epoch: [2][  2/280]\tLoss 1.7812e-01 (2.1496e-01)\tAccuracy 0.939 (0.928)\n"
     ]
    },
    {
     "name": "stderr",
     "output_type": "stream",
     "text": [
      "\r",
      " 72%|██████████████████████████████████████████████████████████                      | 203/280 [59:04<22:19, 17.39s/it]"
     ]
    },
    {
     "name": "stdout",
     "output_type": "stream",
     "text": [
      "Train, epoch: [2][  2/280]\tLoss 2.1354e-01 (2.1496e-01)\tAccuracy 0.926 (0.928)\n"
     ]
    },
    {
     "name": "stderr",
     "output_type": "stream",
     "text": [
      "\r",
      " 73%|██████████████████████████████████████████████████████████▎                     | 204/280 [59:22<22:04, 17.43s/it]"
     ]
    },
    {
     "name": "stdout",
     "output_type": "stream",
     "text": [
      "Train, epoch: [2][  2/280]\tLoss 1.8352e-01 (2.1480e-01)\tAccuracy 0.940 (0.928)\n"
     ]
    },
    {
     "name": "stderr",
     "output_type": "stream",
     "text": [
      "\r",
      " 73%|██████████████████████████████████████████████████████████▌                     | 205/280 [59:39<21:45, 17.40s/it]"
     ]
    },
    {
     "name": "stdout",
     "output_type": "stream",
     "text": [
      "Train, epoch: [2][  2/280]\tLoss 2.3581e-01 (2.1491e-01)\tAccuracy 0.924 (0.928)\n"
     ]
    },
    {
     "name": "stderr",
     "output_type": "stream",
     "text": [
      "\r",
      " 74%|██████████████████████████████████████████████████████████▊                     | 206/280 [59:57<21:27, 17.40s/it]"
     ]
    },
    {
     "name": "stdout",
     "output_type": "stream",
     "text": [
      "Train, epoch: [2][  2/280]\tLoss 3.6391e-01 (2.1563e-01)\tAccuracy 0.894 (0.928)\n"
     ]
    },
    {
     "name": "stderr",
     "output_type": "stream",
     "text": [
      "\r",
      " 74%|█████████████████████████████████████████████████████████▋                    | 207/280 [1:00:14<21:13, 17.44s/it]"
     ]
    },
    {
     "name": "stdout",
     "output_type": "stream",
     "text": [
      "Train, epoch: [2][  2/280]\tLoss 3.1329e-01 (2.1610e-01)\tAccuracy 0.889 (0.927)\n"
     ]
    },
    {
     "name": "stderr",
     "output_type": "stream",
     "text": [
      "\r",
      " 74%|█████████████████████████████████████████████████████████▉                    | 208/280 [1:00:32<20:56, 17.45s/it]"
     ]
    },
    {
     "name": "stdout",
     "output_type": "stream",
     "text": [
      "Train, epoch: [2][  2/280]\tLoss 2.1661e-01 (2.1610e-01)\tAccuracy 0.921 (0.927)\n"
     ]
    },
    {
     "name": "stderr",
     "output_type": "stream",
     "text": [
      "\r",
      " 75%|██████████████████████████████████████████████████████████▏                   | 209/280 [1:00:49<20:39, 17.46s/it]"
     ]
    },
    {
     "name": "stdout",
     "output_type": "stream",
     "text": [
      "Train, epoch: [2][  2/280]\tLoss 2.3586e-01 (2.1620e-01)\tAccuracy 0.930 (0.927)\n"
     ]
    },
    {
     "name": "stderr",
     "output_type": "stream",
     "text": [
      "\r",
      " 75%|██████████████████████████████████████████████████████████▌                   | 210/280 [1:01:06<20:16, 17.38s/it]"
     ]
    },
    {
     "name": "stdout",
     "output_type": "stream",
     "text": [
      "Train, epoch: [2][  2/280]\tLoss 2.1345e-01 (2.1618e-01)\tAccuracy 0.927 (0.927)\n"
     ]
    },
    {
     "name": "stderr",
     "output_type": "stream",
     "text": [
      "\r",
      " 75%|██████████████████████████████████████████████████████████▊                   | 211/280 [1:01:24<20:04, 17.45s/it]"
     ]
    },
    {
     "name": "stdout",
     "output_type": "stream",
     "text": [
      "Train, epoch: [2][  2/280]\tLoss 2.0675e-01 (2.1614e-01)\tAccuracy 0.930 (0.927)\n"
     ]
    },
    {
     "name": "stderr",
     "output_type": "stream",
     "text": [
      "\r",
      " 76%|███████████████████████████████████████████████████████████                   | 212/280 [1:01:41<19:44, 17.41s/it]"
     ]
    },
    {
     "name": "stdout",
     "output_type": "stream",
     "text": [
      "Train, epoch: [2][  2/280]\tLoss 1.9789e-01 (2.1605e-01)\tAccuracy 0.934 (0.927)\n"
     ]
    },
    {
     "name": "stderr",
     "output_type": "stream",
     "text": [
      "\r",
      " 76%|███████████████████████████████████████████████████████████▎                  | 213/280 [1:01:59<19:28, 17.45s/it]"
     ]
    },
    {
     "name": "stdout",
     "output_type": "stream",
     "text": [
      "Train, epoch: [2][  2/280]\tLoss 1.9458e-01 (2.1595e-01)\tAccuracy 0.934 (0.927)\n"
     ]
    },
    {
     "name": "stderr",
     "output_type": "stream",
     "text": [
      "\r",
      " 76%|███████████████████████████████████████████████████████████▌                  | 214/280 [1:02:16<19:09, 17.42s/it]"
     ]
    },
    {
     "name": "stdout",
     "output_type": "stream",
     "text": [
      "Train, epoch: [2][  2/280]\tLoss 1.7889e-01 (2.1578e-01)\tAccuracy 0.944 (0.927)\n"
     ]
    },
    {
     "name": "stderr",
     "output_type": "stream",
     "text": [
      "\r",
      " 77%|███████████████████████████████████████████████████████████▉                  | 215/280 [1:02:34<18:54, 17.46s/it]"
     ]
    },
    {
     "name": "stdout",
     "output_type": "stream",
     "text": [
      "Train, epoch: [2][  2/280]\tLoss 1.6042e-01 (2.1552e-01)\tAccuracy 0.944 (0.928)\n"
     ]
    },
    {
     "name": "stderr",
     "output_type": "stream",
     "text": [
      "\r",
      " 77%|████████████████████████████████████████████████████████████▏                 | 216/280 [1:02:51<18:38, 17.48s/it]"
     ]
    },
    {
     "name": "stdout",
     "output_type": "stream",
     "text": [
      "Train, epoch: [2][  2/280]\tLoss 2.3715e-01 (2.1562e-01)\tAccuracy 0.919 (0.928)\n"
     ]
    },
    {
     "name": "stderr",
     "output_type": "stream",
     "text": [
      "\r",
      " 78%|████████████████████████████████████████████████████████████▍                 | 217/280 [1:03:09<18:22, 17.50s/it]"
     ]
    },
    {
     "name": "stdout",
     "output_type": "stream",
     "text": [
      "Train, epoch: [2][  2/280]\tLoss 1.3758e-01 (2.1526e-01)\tAccuracy 0.954 (0.928)\n"
     ]
    },
    {
     "name": "stderr",
     "output_type": "stream",
     "text": [
      "\r",
      " 78%|████████████████████████████████████████████████████████████▋                 | 218/280 [1:03:26<18:06, 17.52s/it]"
     ]
    },
    {
     "name": "stdout",
     "output_type": "stream",
     "text": [
      "Train, epoch: [2][  2/280]\tLoss 2.0952e-01 (2.1524e-01)\tAccuracy 0.922 (0.928)\n"
     ]
    },
    {
     "name": "stderr",
     "output_type": "stream",
     "text": [
      "\r",
      " 78%|█████████████████████████████████████████████████████████████                 | 219/280 [1:03:44<17:46, 17.48s/it]"
     ]
    },
    {
     "name": "stdout",
     "output_type": "stream",
     "text": [
      "Train, epoch: [2][  2/280]\tLoss 2.2244e-01 (2.1527e-01)\tAccuracy 0.925 (0.928)\n"
     ]
    },
    {
     "name": "stderr",
     "output_type": "stream",
     "text": [
      "\r",
      " 79%|█████████████████████████████████████████████████████████████▎                | 220/280 [1:04:01<17:26, 17.44s/it]"
     ]
    },
    {
     "name": "stdout",
     "output_type": "stream",
     "text": [
      "Train, epoch: [2][  2/280]\tLoss 1.9421e-01 (2.1517e-01)\tAccuracy 0.936 (0.928)\n"
     ]
    },
    {
     "name": "stderr",
     "output_type": "stream",
     "text": [
      "\r",
      " 79%|█████████████████████████████████████████████████████████████▌                | 221/280 [1:04:18<17:06, 17.40s/it]"
     ]
    },
    {
     "name": "stdout",
     "output_type": "stream",
     "text": [
      "Train, epoch: [2][  2/280]\tLoss 2.8769e-01 (2.1550e-01)\tAccuracy 0.903 (0.928)\n"
     ]
    },
    {
     "name": "stderr",
     "output_type": "stream",
     "text": [
      "\r",
      " 79%|█████████████████████████████████████████████████████████████▊                | 222/280 [1:04:36<16:52, 17.46s/it]"
     ]
    },
    {
     "name": "stdout",
     "output_type": "stream",
     "text": [
      "Train, epoch: [2][  2/280]\tLoss 1.3760e-01 (2.1515e-01)\tAccuracy 0.951 (0.928)\n"
     ]
    },
    {
     "name": "stderr",
     "output_type": "stream",
     "text": [
      "\r",
      " 80%|██████████████████████████████████████████████████████████████                | 223/280 [1:04:53<16:36, 17.48s/it]"
     ]
    },
    {
     "name": "stdout",
     "output_type": "stream",
     "text": [
      "Train, epoch: [2][  2/280]\tLoss 1.5045e-01 (2.1486e-01)\tAccuracy 0.946 (0.928)\n"
     ]
    },
    {
     "name": "stderr",
     "output_type": "stream",
     "text": [
      "\r",
      " 80%|██████████████████████████████████████████████████████████████▍               | 224/280 [1:05:11<16:19, 17.50s/it]"
     ]
    },
    {
     "name": "stdout",
     "output_type": "stream",
     "text": [
      "Train, epoch: [2][  2/280]\tLoss 3.5094e-01 (2.1547e-01)\tAccuracy 0.877 (0.927)\n"
     ]
    },
    {
     "name": "stderr",
     "output_type": "stream",
     "text": [
      "\r",
      " 80%|██████████████████████████████████████████████████████████████▋               | 225/280 [1:05:28<16:00, 17.46s/it]"
     ]
    },
    {
     "name": "stdout",
     "output_type": "stream",
     "text": [
      "Train, epoch: [2][  2/280]\tLoss 1.3755e-01 (2.1512e-01)\tAccuracy 0.954 (0.928)\n"
     ]
    },
    {
     "name": "stderr",
     "output_type": "stream",
     "text": [
      "\r",
      " 81%|██████████████████████████████████████████████████████████████▉               | 226/280 [1:05:46<15:41, 17.44s/it]"
     ]
    },
    {
     "name": "stdout",
     "output_type": "stream",
     "text": [
      "Train, epoch: [2][  2/280]\tLoss 2.7120e-01 (2.1537e-01)\tAccuracy 0.907 (0.928)\n"
     ]
    },
    {
     "name": "stderr",
     "output_type": "stream",
     "text": [
      "\r",
      " 81%|███████████████████████████████████████████████████████████████▏              | 227/280 [1:06:03<15:24, 17.44s/it]"
     ]
    },
    {
     "name": "stdout",
     "output_type": "stream",
     "text": [
      "Train, epoch: [2][  2/280]\tLoss 1.6717e-01 (2.1516e-01)\tAccuracy 0.949 (0.928)\n"
     ]
    },
    {
     "name": "stderr",
     "output_type": "stream",
     "text": [
      "\r",
      " 81%|███████████████████████████████████████████████████████████████▌              | 228/280 [1:06:20<15:04, 17.40s/it]"
     ]
    },
    {
     "name": "stdout",
     "output_type": "stream",
     "text": [
      "Train, epoch: [2][  2/280]\tLoss 2.1188e-01 (2.1514e-01)\tAccuracy 0.927 (0.928)\n"
     ]
    },
    {
     "name": "stderr",
     "output_type": "stream",
     "text": [
      "\r",
      " 82%|███████████████████████████████████████████████████████████████▊              | 229/280 [1:06:38<14:48, 17.41s/it]"
     ]
    },
    {
     "name": "stdout",
     "output_type": "stream",
     "text": [
      "Train, epoch: [2][  2/280]\tLoss 1.9542e-01 (2.1506e-01)\tAccuracy 0.934 (0.928)\n"
     ]
    },
    {
     "name": "stderr",
     "output_type": "stream",
     "text": [
      "\r",
      " 82%|████████████████████████████████████████████████████████████████              | 230/280 [1:06:55<14:30, 17.40s/it]"
     ]
    },
    {
     "name": "stdout",
     "output_type": "stream",
     "text": [
      "Train, epoch: [2][  2/280]\tLoss 1.7382e-01 (2.1488e-01)\tAccuracy 0.940 (0.928)\n"
     ]
    },
    {
     "name": "stderr",
     "output_type": "stream",
     "text": [
      "\r",
      " 82%|████████████████████████████████████████████████████████████████▎             | 231/280 [1:07:13<14:14, 17.45s/it]"
     ]
    },
    {
     "name": "stdout",
     "output_type": "stream",
     "text": [
      "Train, epoch: [2][  2/280]\tLoss 1.6453e-01 (2.1466e-01)\tAccuracy 0.947 (0.928)\n"
     ]
    },
    {
     "name": "stderr",
     "output_type": "stream",
     "text": [
      "\r",
      " 83%|████████████████████████████████████████████████████████████████▋             | 232/280 [1:07:30<13:56, 17.43s/it]"
     ]
    },
    {
     "name": "stdout",
     "output_type": "stream",
     "text": [
      "Train, epoch: [2][  2/280]\tLoss 2.0243e-01 (2.1461e-01)\tAccuracy 0.932 (0.928)\n"
     ]
    },
    {
     "name": "stderr",
     "output_type": "stream",
     "text": [
      "\r",
      " 83%|████████████████████████████████████████████████████████████████▉             | 233/280 [1:07:48<13:39, 17.44s/it]"
     ]
    },
    {
     "name": "stdout",
     "output_type": "stream",
     "text": [
      "Train, epoch: [2][  2/280]\tLoss 1.4653e-01 (2.1432e-01)\tAccuracy 0.949 (0.928)\n"
     ]
    },
    {
     "name": "stderr",
     "output_type": "stream",
     "text": [
      "\r",
      " 84%|█████████████████████████████████████████████████████████████████▏            | 234/280 [1:08:05<13:22, 17.45s/it]"
     ]
    },
    {
     "name": "stdout",
     "output_type": "stream",
     "text": [
      "Train, epoch: [2][  2/280]\tLoss 2.3588e-01 (2.1441e-01)\tAccuracy 0.918 (0.928)\n"
     ]
    },
    {
     "name": "stderr",
     "output_type": "stream",
     "text": [
      "\r",
      " 84%|█████████████████████████████████████████████████████████████████▍            | 235/280 [1:08:23<13:06, 17.49s/it]"
     ]
    },
    {
     "name": "stdout",
     "output_type": "stream",
     "text": [
      "Train, epoch: [2][  2/280]\tLoss 1.6921e-01 (2.1422e-01)\tAccuracy 0.946 (0.928)\n"
     ]
    },
    {
     "name": "stderr",
     "output_type": "stream",
     "text": [
      "\r",
      " 84%|█████████████████████████████████████████████████████████████████▋            | 236/280 [1:08:40<12:49, 17.48s/it]"
     ]
    },
    {
     "name": "stdout",
     "output_type": "stream",
     "text": [
      "Train, epoch: [2][  2/280]\tLoss 1.8733e-01 (2.1410e-01)\tAccuracy 0.938 (0.928)\n"
     ]
    },
    {
     "name": "stderr",
     "output_type": "stream",
     "text": [
      "\r",
      " 85%|██████████████████████████████████████████████████████████████████            | 237/280 [1:08:58<12:32, 17.50s/it]"
     ]
    },
    {
     "name": "stdout",
     "output_type": "stream",
     "text": [
      "Train, epoch: [2][  2/280]\tLoss 2.2613e-01 (2.1415e-01)\tAccuracy 0.923 (0.928)\n"
     ]
    },
    {
     "name": "stderr",
     "output_type": "stream",
     "text": [
      "\r",
      " 85%|██████████████████████████████████████████████████████████████████▎           | 238/280 [1:09:15<12:15, 17.51s/it]"
     ]
    },
    {
     "name": "stdout",
     "output_type": "stream",
     "text": [
      "Train, epoch: [2][  2/280]\tLoss 3.6630e-01 (2.1479e-01)\tAccuracy 0.870 (0.928)\n"
     ]
    },
    {
     "name": "stderr",
     "output_type": "stream",
     "text": [
      "\r",
      " 85%|██████████████████████████████████████████████████████████████████▌           | 239/280 [1:09:33<11:56, 17.47s/it]"
     ]
    },
    {
     "name": "stdout",
     "output_type": "stream",
     "text": [
      "Train, epoch: [2][  2/280]\tLoss 1.3403e-01 (2.1445e-01)\tAccuracy 0.953 (0.928)\n"
     ]
    },
    {
     "name": "stderr",
     "output_type": "stream",
     "text": [
      "\r",
      " 86%|██████████████████████████████████████████████████████████████████▊           | 240/280 [1:09:50<11:36, 17.42s/it]"
     ]
    },
    {
     "name": "stdout",
     "output_type": "stream",
     "text": [
      "Train, epoch: [2][  2/280]\tLoss 1.9896e-01 (2.1439e-01)\tAccuracy 0.929 (0.928)\n"
     ]
    },
    {
     "name": "stderr",
     "output_type": "stream",
     "text": [
      "\r",
      " 86%|███████████████████████████████████████████████████████████████████▏          | 241/280 [1:10:07<11:18, 17.40s/it]"
     ]
    },
    {
     "name": "stdout",
     "output_type": "stream",
     "text": [
      "Train, epoch: [2][  2/280]\tLoss 2.2225e-01 (2.1442e-01)\tAccuracy 0.919 (0.928)\n"
     ]
    },
    {
     "name": "stderr",
     "output_type": "stream",
     "text": [
      "\r",
      " 86%|███████████████████████████████████████████████████████████████████▍          | 242/280 [1:10:25<11:05, 17.50s/it]"
     ]
    },
    {
     "name": "stdout",
     "output_type": "stream",
     "text": [
      "Train, epoch: [2][  2/280]\tLoss 1.7431e-01 (2.1426e-01)\tAccuracy 0.940 (0.928)\n"
     ]
    },
    {
     "name": "stderr",
     "output_type": "stream",
     "text": [
      "\r",
      " 87%|███████████████████████████████████████████████████████████████████▋          | 243/280 [1:10:42<10:46, 17.48s/it]"
     ]
    },
    {
     "name": "stdout",
     "output_type": "stream",
     "text": [
      "Train, epoch: [2][  2/280]\tLoss 1.5855e-01 (2.1403e-01)\tAccuracy 0.945 (0.928)\n"
     ]
    },
    {
     "name": "stderr",
     "output_type": "stream",
     "text": [
      "\r",
      " 87%|███████████████████████████████████████████████████████████████████▉          | 244/280 [1:11:00<10:29, 17.49s/it]"
     ]
    },
    {
     "name": "stdout",
     "output_type": "stream",
     "text": [
      "Train, epoch: [2][  2/280]\tLoss 1.7320e-01 (2.1386e-01)\tAccuracy 0.938 (0.928)\n"
     ]
    },
    {
     "name": "stderr",
     "output_type": "stream",
     "text": [
      "\r",
      " 88%|████████████████████████████████████████████████████████████████████▎         | 245/280 [1:11:17<10:10, 17.43s/it]"
     ]
    },
    {
     "name": "stdout",
     "output_type": "stream",
     "text": [
      "Train, epoch: [2][  2/280]\tLoss 2.7323e-01 (2.1410e-01)\tAccuracy 0.893 (0.928)\n"
     ]
    },
    {
     "name": "stderr",
     "output_type": "stream",
     "text": [
      "\r",
      " 88%|████████████████████████████████████████████████████████████████████▌         | 246/280 [1:11:35<09:51, 17.39s/it]"
     ]
    },
    {
     "name": "stdout",
     "output_type": "stream",
     "text": [
      "Train, epoch: [2][  2/280]\tLoss 2.3554e-01 (2.1419e-01)\tAccuracy 0.920 (0.928)\n"
     ]
    },
    {
     "name": "stderr",
     "output_type": "stream",
     "text": [
      "\r",
      " 88%|████████████████████████████████████████████████████████████████████▊         | 247/280 [1:11:52<09:33, 17.37s/it]"
     ]
    },
    {
     "name": "stdout",
     "output_type": "stream",
     "text": [
      "Train, epoch: [2][  2/280]\tLoss 1.8925e-01 (2.1409e-01)\tAccuracy 0.939 (0.928)\n"
     ]
    },
    {
     "name": "stderr",
     "output_type": "stream",
     "text": [
      "\r",
      " 89%|█████████████████████████████████████████████████████████████████████         | 248/280 [1:12:09<09:16, 17.39s/it]"
     ]
    },
    {
     "name": "stdout",
     "output_type": "stream",
     "text": [
      "Train, epoch: [2][  2/280]\tLoss 2.0801e-01 (2.1406e-01)\tAccuracy 0.931 (0.928)\n"
     ]
    },
    {
     "name": "stderr",
     "output_type": "stream",
     "text": [
      "\r",
      " 89%|█████████████████████████████████████████████████████████████████████▎        | 249/280 [1:12:27<08:59, 17.40s/it]"
     ]
    },
    {
     "name": "stdout",
     "output_type": "stream",
     "text": [
      "Train, epoch: [2][  2/280]\tLoss 3.3147e-01 (2.1453e-01)\tAccuracy 0.886 (0.928)\n"
     ]
    },
    {
     "name": "stderr",
     "output_type": "stream",
     "text": [
      "\r",
      " 89%|█████████████████████████████████████████████████████████████████████▋        | 250/280 [1:12:44<08:42, 17.43s/it]"
     ]
    },
    {
     "name": "stdout",
     "output_type": "stream",
     "text": [
      "Train, epoch: [2][  2/280]\tLoss 2.0181e-01 (2.1448e-01)\tAccuracy 0.932 (0.928)\n"
     ]
    },
    {
     "name": "stderr",
     "output_type": "stream",
     "text": [
      "\r",
      " 90%|█████████████████████████████████████████████████████████████████████▉        | 251/280 [1:13:02<08:25, 17.45s/it]"
     ]
    },
    {
     "name": "stdout",
     "output_type": "stream",
     "text": [
      "Train, epoch: [2][  2/280]\tLoss 2.4418e-01 (2.1460e-01)\tAccuracy 0.914 (0.928)\n"
     ]
    },
    {
     "name": "stderr",
     "output_type": "stream",
     "text": [
      "\r",
      " 90%|██████████████████████████████████████████████████████████████████████▏       | 252/280 [1:13:19<08:08, 17.44s/it]"
     ]
    },
    {
     "name": "stdout",
     "output_type": "stream",
     "text": [
      "Train, epoch: [2][  2/280]\tLoss 2.6630e-01 (2.1481e-01)\tAccuracy 0.902 (0.927)\n"
     ]
    },
    {
     "name": "stderr",
     "output_type": "stream",
     "text": [
      "\r",
      " 90%|██████████████████████████████████████████████████████████████████████▍       | 253/280 [1:13:37<07:51, 17.46s/it]"
     ]
    },
    {
     "name": "stdout",
     "output_type": "stream",
     "text": [
      "Train, epoch: [2][  2/280]\tLoss 2.5028e-01 (2.1495e-01)\tAccuracy 0.909 (0.927)\n"
     ]
    },
    {
     "name": "stderr",
     "output_type": "stream",
     "text": [
      "\r",
      " 91%|██████████████████████████████████████████████████████████████████████▊       | 254/280 [1:13:54<07:33, 17.43s/it]"
     ]
    },
    {
     "name": "stdout",
     "output_type": "stream",
     "text": [
      "Train, epoch: [2][  2/280]\tLoss 2.2072e-01 (2.1497e-01)\tAccuracy 0.923 (0.927)\n"
     ]
    },
    {
     "name": "stderr",
     "output_type": "stream",
     "text": [
      "\r",
      " 91%|███████████████████████████████████████████████████████████████████████       | 255/280 [1:14:12<07:16, 17.44s/it]"
     ]
    },
    {
     "name": "stdout",
     "output_type": "stream",
     "text": [
      "Train, epoch: [2][  2/280]\tLoss 1.4660e-01 (2.1470e-01)\tAccuracy 0.952 (0.928)\n"
     ]
    },
    {
     "name": "stderr",
     "output_type": "stream",
     "text": [
      "\r",
      " 91%|███████████████████████████████████████████████████████████████████████▎      | 256/280 [1:14:29<06:59, 17.46s/it]"
     ]
    },
    {
     "name": "stdout",
     "output_type": "stream",
     "text": [
      "Train, epoch: [2][  2/280]\tLoss 1.4411e-01 (2.1443e-01)\tAccuracy 0.950 (0.928)\n"
     ]
    },
    {
     "name": "stderr",
     "output_type": "stream",
     "text": [
      "\r",
      " 92%|███████████████████████████████████████████████████████████████████████▌      | 257/280 [1:14:46<06:41, 17.44s/it]"
     ]
    },
    {
     "name": "stdout",
     "output_type": "stream",
     "text": [
      "Train, epoch: [2][  2/280]\tLoss 1.7547e-01 (2.1427e-01)\tAccuracy 0.940 (0.928)\n"
     ]
    },
    {
     "name": "stderr",
     "output_type": "stream",
     "text": [
      "\r",
      " 92%|███████████████████████████████████████████████████████████████████████▊      | 258/280 [1:15:04<06:23, 17.45s/it]"
     ]
    },
    {
     "name": "stdout",
     "output_type": "stream",
     "text": [
      "Train, epoch: [2][  2/280]\tLoss 1.3571e-01 (2.1397e-01)\tAccuracy 0.952 (0.928)\n"
     ]
    },
    {
     "name": "stderr",
     "output_type": "stream",
     "text": [
      "\r",
      " 92%|████████████████████████████████████████████████████████████████████████▏     | 259/280 [1:15:21<06:05, 17.40s/it]"
     ]
    },
    {
     "name": "stdout",
     "output_type": "stream",
     "text": [
      "Train, epoch: [2][  2/280]\tLoss 1.4585e-01 (2.1371e-01)\tAccuracy 0.949 (0.928)\n"
     ]
    },
    {
     "name": "stderr",
     "output_type": "stream",
     "text": [
      "\r",
      " 93%|████████████████████████████████████████████████████████████████████████▍     | 260/280 [1:15:39<05:49, 17.46s/it]"
     ]
    },
    {
     "name": "stdout",
     "output_type": "stream",
     "text": [
      "Train, epoch: [2][  2/280]\tLoss 4.0248e-01 (2.1443e-01)\tAccuracy 0.873 (0.928)\n"
     ]
    },
    {
     "name": "stderr",
     "output_type": "stream",
     "text": [
      "\r",
      " 93%|████████████████████████████████████████████████████████████████████████▋     | 261/280 [1:15:56<05:31, 17.43s/it]"
     ]
    },
    {
     "name": "stdout",
     "output_type": "stream",
     "text": [
      "Train, epoch: [2][  2/280]\tLoss 2.2399e-01 (2.1447e-01)\tAccuracy 0.929 (0.928)\n"
     ]
    },
    {
     "name": "stderr",
     "output_type": "stream",
     "text": [
      "\r",
      " 94%|████████████████████████████████████████████████████████████████████████▉     | 262/280 [1:16:14<05:13, 17.44s/it]"
     ]
    },
    {
     "name": "stdout",
     "output_type": "stream",
     "text": [
      "Train, epoch: [2][  2/280]\tLoss 1.5357e-01 (2.1424e-01)\tAccuracy 0.949 (0.928)\n"
     ]
    },
    {
     "name": "stderr",
     "output_type": "stream",
     "text": [
      "\r",
      " 94%|█████████████████████████████████████████████████████████████████████████▎    | 263/280 [1:16:31<04:57, 17.49s/it]"
     ]
    },
    {
     "name": "stdout",
     "output_type": "stream",
     "text": [
      "Train, epoch: [2][  2/280]\tLoss 1.5337e-01 (2.1401e-01)\tAccuracy 0.946 (0.928)\n"
     ]
    },
    {
     "name": "stderr",
     "output_type": "stream",
     "text": [
      "\r",
      " 94%|█████████████████████████████████████████████████████████████████████████▌    | 264/280 [1:16:49<04:40, 17.51s/it]"
     ]
    },
    {
     "name": "stdout",
     "output_type": "stream",
     "text": [
      "Train, epoch: [2][  2/280]\tLoss 2.1985e-01 (2.1403e-01)\tAccuracy 0.921 (0.928)\n"
     ]
    },
    {
     "name": "stderr",
     "output_type": "stream",
     "text": [
      "\r",
      " 95%|█████████████████████████████████████████████████████████████████████████▊    | 265/280 [1:17:06<04:22, 17.49s/it]"
     ]
    },
    {
     "name": "stdout",
     "output_type": "stream",
     "text": [
      "Train, epoch: [2][  2/280]\tLoss 1.9518e-01 (2.1396e-01)\tAccuracy 0.930 (0.928)\n"
     ]
    },
    {
     "name": "stderr",
     "output_type": "stream",
     "text": [
      "\r",
      " 95%|██████████████████████████████████████████████████████████████████████████    | 266/280 [1:17:24<04:04, 17.47s/it]"
     ]
    },
    {
     "name": "stdout",
     "output_type": "stream",
     "text": [
      "Train, epoch: [2][  2/280]\tLoss 2.6959e-01 (2.1417e-01)\tAccuracy 0.909 (0.928)\n"
     ]
    },
    {
     "name": "stderr",
     "output_type": "stream",
     "text": [
      "\r",
      " 95%|██████████████████████████████████████████████████████████████████████████▍   | 267/280 [1:17:41<03:46, 17.45s/it]"
     ]
    },
    {
     "name": "stdout",
     "output_type": "stream",
     "text": [
      "Train, epoch: [2][  2/280]\tLoss 2.4374e-01 (2.1428e-01)\tAccuracy 0.915 (0.928)\n"
     ]
    },
    {
     "name": "stderr",
     "output_type": "stream",
     "text": [
      "\r",
      " 96%|██████████████████████████████████████████████████████████████████████████▋   | 268/280 [1:17:58<03:29, 17.43s/it]"
     ]
    },
    {
     "name": "stdout",
     "output_type": "stream",
     "text": [
      "Train, epoch: [2][  2/280]\tLoss 2.1940e-01 (2.1430e-01)\tAccuracy 0.926 (0.928)\n"
     ]
    },
    {
     "name": "stderr",
     "output_type": "stream",
     "text": [
      "\r",
      " 96%|██████████████████████████████████████████████████████████████████████████▉   | 269/280 [1:18:16<03:11, 17.37s/it]"
     ]
    },
    {
     "name": "stdout",
     "output_type": "stream",
     "text": [
      "Train, epoch: [2][  2/280]\tLoss 2.2517e-01 (2.1434e-01)\tAccuracy 0.920 (0.928)\n"
     ]
    },
    {
     "name": "stderr",
     "output_type": "stream",
     "text": [
      "\r",
      " 96%|███████████████████████████████████████████████████████████████████████████▏  | 270/280 [1:18:33<02:54, 17.43s/it]"
     ]
    },
    {
     "name": "stdout",
     "output_type": "stream",
     "text": [
      "Train, epoch: [2][  2/280]\tLoss 3.2166e-01 (2.1473e-01)\tAccuracy 0.884 (0.927)\n"
     ]
    },
    {
     "name": "stderr",
     "output_type": "stream",
     "text": [
      "\r",
      " 97%|███████████████████████████████████████████████████████████████████████████▍  | 271/280 [1:18:51<02:37, 17.46s/it]"
     ]
    },
    {
     "name": "stdout",
     "output_type": "stream",
     "text": [
      "Train, epoch: [2][  2/280]\tLoss 2.3034e-01 (2.1479e-01)\tAccuracy 0.922 (0.927)\n"
     ]
    },
    {
     "name": "stderr",
     "output_type": "stream",
     "text": [
      "\r",
      " 97%|███████████████████████████████████████████████████████████████████████████▊  | 272/280 [1:19:08<02:19, 17.42s/it]"
     ]
    },
    {
     "name": "stdout",
     "output_type": "stream",
     "text": [
      "Train, epoch: [2][  2/280]\tLoss 1.6121e-01 (2.1459e-01)\tAccuracy 0.947 (0.927)\n"
     ]
    },
    {
     "name": "stderr",
     "output_type": "stream",
     "text": [
      "\r",
      " 98%|████████████████████████████████████████████████████████████████████████████  | 273/280 [1:19:26<02:02, 17.46s/it]"
     ]
    },
    {
     "name": "stdout",
     "output_type": "stream",
     "text": [
      "Train, epoch: [2][  2/280]\tLoss 1.7234e-01 (2.1444e-01)\tAccuracy 0.943 (0.928)\n"
     ]
    },
    {
     "name": "stderr",
     "output_type": "stream",
     "text": [
      "\r",
      " 98%|████████████████████████████████████████████████████████████████████████████▎ | 274/280 [1:19:43<01:45, 17.51s/it]"
     ]
    },
    {
     "name": "stdout",
     "output_type": "stream",
     "text": [
      "Train, epoch: [2][  2/280]\tLoss 1.7057e-01 (2.1428e-01)\tAccuracy 0.943 (0.928)\n"
     ]
    },
    {
     "name": "stderr",
     "output_type": "stream",
     "text": [
      "\r",
      " 98%|████████████████████████████████████████████████████████████████████████████▌ | 275/280 [1:20:01<01:27, 17.44s/it]"
     ]
    },
    {
     "name": "stdout",
     "output_type": "stream",
     "text": [
      "Train, epoch: [2][  2/280]\tLoss 2.2642e-01 (2.1432e-01)\tAccuracy 0.920 (0.928)\n"
     ]
    },
    {
     "name": "stderr",
     "output_type": "stream",
     "text": [
      "\r",
      " 99%|████████████████████████████████████████████████████████████████████████████▉ | 276/280 [1:20:18<01:09, 17.44s/it]"
     ]
    },
    {
     "name": "stdout",
     "output_type": "stream",
     "text": [
      "Train, epoch: [2][  2/280]\tLoss 1.8144e-01 (2.1420e-01)\tAccuracy 0.937 (0.928)\n"
     ]
    },
    {
     "name": "stderr",
     "output_type": "stream",
     "text": [
      "\r",
      " 99%|█████████████████████████████████████████████████████████████████████████████▏| 277/280 [1:20:35<00:52, 17.41s/it]"
     ]
    },
    {
     "name": "stdout",
     "output_type": "stream",
     "text": [
      "Train, epoch: [2][  2/280]\tLoss 1.7862e-01 (2.1408e-01)\tAccuracy 0.941 (0.928)\n"
     ]
    },
    {
     "name": "stderr",
     "output_type": "stream",
     "text": [
      "\r",
      " 99%|█████████████████████████████████████████████████████████████████████████████▍| 278/280 [1:20:53<00:34, 17.41s/it]"
     ]
    },
    {
     "name": "stdout",
     "output_type": "stream",
     "text": [
      "Train, epoch: [2][  2/280]\tLoss 3.6068e-01 (2.1460e-01)\tAccuracy 0.874 (0.927)\n"
     ]
    },
    {
     "name": "stderr",
     "output_type": "stream",
     "text": [
      "\r",
      "100%|█████████████████████████████████████████████████████████████████████████████▋| 279/280 [1:21:10<00:17, 17.39s/it]"
     ]
    },
    {
     "name": "stdout",
     "output_type": "stream",
     "text": [
      "Train, epoch: [2][  2/280]\tLoss 1.1923e-01 (2.1426e-01)\tAccuracy 0.962 (0.928)\n"
     ]
    },
    {
     "name": "stderr",
     "output_type": "stream",
     "text": [
      "100%|██████████████████████████████████████████████████████████████████████████████| 280/280 [1:21:28<00:00, 17.46s/it]"
     ]
    },
    {
     "name": "stdout",
     "output_type": "stream",
     "text": [
      "Train, epoch: [2][  2/280]\tLoss 1.5821e-01 (2.1406e-01)\tAccuracy 0.940 (0.928)\n",
      "classes           IoU\n",
      "---------------------\n",
      "Pole          : 0.204\n",
      "SignSymbol    : 0.615\n",
      "Bicyclist     : 0.752\n",
      "Pedestrian    : 0.586\n",
      "Building      : 0.902\n",
      "Fence         : 0.731\n",
      "Pavement      : 0.853\n",
      "Road          : 0.967\n",
      "Car           : 0.869\n",
      "Sky           : 0.921\n",
      "Tree          : 0.836\n",
      "---------------------\n",
      "Mean IoU      : 0.749\n",
      "---------------------\n"
     ]
    },
    {
     "name": "stderr",
     "output_type": "stream",
     "text": [
      "\n",
      "  0%|                                                                                          | 0/280 [00:00<?, ?it/s]"
     ]
    },
    {
     "name": "stdout",
     "output_type": "stream",
     "text": [
      "mIoU improved from 0.6927 to 0.7487.\n",
      "epoch  2\n",
      "loss : 0.2141   acc : 0.9276   miou : 0.7487\n"
     ]
    },
    {
     "name": "stderr",
     "output_type": "stream",
     "text": [
      "\r",
      "  0%|▎                                                                               | 1/280 [00:17<1:21:13, 17.47s/it]"
     ]
    },
    {
     "name": "stdout",
     "output_type": "stream",
     "text": [
      "Train, epoch: [3][  3/280]\tLoss 1.4802e-01 (1.4802e-01)\tAccuracy 0.947 (0.947)\n"
     ]
    },
    {
     "name": "stderr",
     "output_type": "stream",
     "text": [
      "\r",
      "  1%|▌                                                                               | 2/280 [00:35<1:21:10, 17.52s/it]"
     ]
    },
    {
     "name": "stdout",
     "output_type": "stream",
     "text": [
      "Train, epoch: [3][  3/280]\tLoss 2.1631e-01 (1.8216e-01)\tAccuracy 0.923 (0.935)\n"
     ]
    },
    {
     "name": "stderr",
     "output_type": "stream",
     "text": [
      "\r",
      "  1%|▊                                                                               | 3/280 [00:52<1:20:38, 17.47s/it]"
     ]
    },
    {
     "name": "stdout",
     "output_type": "stream",
     "text": [
      "Train, epoch: [3][  3/280]\tLoss 3.3932e-01 (2.3455e-01)\tAccuracy 0.887 (0.919)\n"
     ]
    },
    {
     "name": "stderr",
     "output_type": "stream",
     "text": [
      "\r",
      "  1%|█▏                                                                              | 4/280 [01:09<1:20:15, 17.45s/it]"
     ]
    },
    {
     "name": "stdout",
     "output_type": "stream",
     "text": [
      "Train, epoch: [3][  3/280]\tLoss 1.7589e-01 (2.1988e-01)\tAccuracy 0.946 (0.926)\n"
     ]
    },
    {
     "name": "stderr",
     "output_type": "stream",
     "text": [
      "\r",
      "  2%|█▍                                                                              | 5/280 [01:27<1:20:05, 17.47s/it]"
     ]
    },
    {
     "name": "stdout",
     "output_type": "stream",
     "text": [
      "Train, epoch: [3][  3/280]\tLoss 1.9927e-01 (2.1576e-01)\tAccuracy 0.933 (0.927)\n"
     ]
    },
    {
     "name": "stderr",
     "output_type": "stream",
     "text": [
      "\r",
      "  2%|█▋                                                                              | 6/280 [01:45<1:20:02, 17.53s/it]"
     ]
    },
    {
     "name": "stdout",
     "output_type": "stream",
     "text": [
      "Train, epoch: [3][  3/280]\tLoss 1.5977e-01 (2.0643e-01)\tAccuracy 0.945 (0.930)\n"
     ]
    },
    {
     "name": "stderr",
     "output_type": "stream",
     "text": [
      "\r",
      "  2%|██                                                                              | 7/280 [02:02<1:19:17, 17.43s/it]"
     ]
    },
    {
     "name": "stdout",
     "output_type": "stream",
     "text": [
      "Train, epoch: [3][  3/280]\tLoss 1.7527e-01 (2.0198e-01)\tAccuracy 0.942 (0.932)\n"
     ]
    },
    {
     "name": "stderr",
     "output_type": "stream",
     "text": [
      "\r",
      "  3%|██▎                                                                             | 8/280 [02:19<1:19:08, 17.46s/it]"
     ]
    },
    {
     "name": "stdout",
     "output_type": "stream",
     "text": [
      "Train, epoch: [3][  3/280]\tLoss 2.1627e-01 (2.0376e-01)\tAccuracy 0.926 (0.931)\n"
     ]
    },
    {
     "name": "stderr",
     "output_type": "stream",
     "text": [
      "\r",
      "  3%|██▌                                                                             | 9/280 [02:37<1:18:55, 17.48s/it]"
     ]
    },
    {
     "name": "stdout",
     "output_type": "stream",
     "text": [
      "Train, epoch: [3][  3/280]\tLoss 1.5282e-01 (1.9810e-01)\tAccuracy 0.948 (0.933)\n"
     ]
    },
    {
     "name": "stderr",
     "output_type": "stream",
     "text": [
      "\r",
      "  4%|██▊                                                                            | 10/280 [02:54<1:18:47, 17.51s/it]"
     ]
    },
    {
     "name": "stdout",
     "output_type": "stream",
     "text": [
      "Train, epoch: [3][  3/280]\tLoss 2.5263e-01 (2.0356e-01)\tAccuracy 0.914 (0.931)\n"
     ]
    },
    {
     "name": "stderr",
     "output_type": "stream",
     "text": [
      "\r",
      "  4%|███                                                                            | 11/280 [03:12<1:18:21, 17.48s/it]"
     ]
    },
    {
     "name": "stdout",
     "output_type": "stream",
     "text": [
      "Train, epoch: [3][  3/280]\tLoss 1.8278e-01 (2.0167e-01)\tAccuracy 0.938 (0.932)\n"
     ]
    },
    {
     "name": "stderr",
     "output_type": "stream",
     "text": [
      "\r",
      "  4%|███▍                                                                           | 12/280 [03:29<1:18:08, 17.49s/it]"
     ]
    },
    {
     "name": "stdout",
     "output_type": "stream",
     "text": [
      "Train, epoch: [3][  3/280]\tLoss 2.0345e-01 (2.0182e-01)\tAccuracy 0.930 (0.932)\n"
     ]
    },
    {
     "name": "stderr",
     "output_type": "stream",
     "text": [
      "\r",
      "  5%|███▋                                                                           | 13/280 [03:47<1:18:06, 17.55s/it]"
     ]
    },
    {
     "name": "stdout",
     "output_type": "stream",
     "text": [
      "Train, epoch: [3][  3/280]\tLoss 2.6333e-01 (2.0655e-01)\tAccuracy 0.909 (0.930)\n"
     ]
    },
    {
     "name": "stderr",
     "output_type": "stream",
     "text": [
      "\r",
      "  5%|███▉                                                                           | 14/280 [04:05<1:18:10, 17.63s/it]"
     ]
    },
    {
     "name": "stdout",
     "output_type": "stream",
     "text": [
      "Train, epoch: [3][  3/280]\tLoss 3.0338e-01 (2.1346e-01)\tAccuracy 0.888 (0.927)\n"
     ]
    },
    {
     "name": "stderr",
     "output_type": "stream",
     "text": [
      "\r",
      "  5%|████▏                                                                          | 15/280 [04:22<1:17:35, 17.57s/it]"
     ]
    },
    {
     "name": "stdout",
     "output_type": "stream",
     "text": [
      "Train, epoch: [3][  3/280]\tLoss 1.7068e-01 (2.1061e-01)\tAccuracy 0.940 (0.928)\n"
     ]
    },
    {
     "name": "stderr",
     "output_type": "stream",
     "text": [
      "\r",
      "  6%|████▌                                                                          | 16/280 [04:40<1:17:25, 17.60s/it]"
     ]
    },
    {
     "name": "stdout",
     "output_type": "stream",
     "text": [
      "Train, epoch: [3][  3/280]\tLoss 1.7206e-01 (2.0820e-01)\tAccuracy 0.939 (0.928)\n"
     ]
    },
    {
     "name": "stderr",
     "output_type": "stream",
     "text": [
      "\r",
      "  6%|████▊                                                                          | 17/280 [04:57<1:16:59, 17.56s/it]"
     ]
    },
    {
     "name": "stdout",
     "output_type": "stream",
     "text": [
      "Train, epoch: [3][  3/280]\tLoss 2.2640e-01 (2.0927e-01)\tAccuracy 0.923 (0.928)\n"
     ]
    },
    {
     "name": "stderr",
     "output_type": "stream",
     "text": [
      "\r",
      "  6%|█████                                                                          | 18/280 [05:15<1:16:38, 17.55s/it]"
     ]
    },
    {
     "name": "stdout",
     "output_type": "stream",
     "text": [
      "Train, epoch: [3][  3/280]\tLoss 1.7825e-01 (2.0755e-01)\tAccuracy 0.938 (0.929)\n"
     ]
    },
    {
     "name": "stderr",
     "output_type": "stream",
     "text": [
      "\r",
      "  7%|█████▎                                                                         | 19/280 [05:32<1:16:13, 17.52s/it]"
     ]
    },
    {
     "name": "stdout",
     "output_type": "stream",
     "text": [
      "Train, epoch: [3][  3/280]\tLoss 1.7161e-01 (2.0566e-01)\tAccuracy 0.940 (0.929)\n"
     ]
    },
    {
     "name": "stderr",
     "output_type": "stream",
     "text": [
      "\r",
      "  7%|█████▋                                                                         | 20/280 [05:50<1:15:51, 17.51s/it]"
     ]
    },
    {
     "name": "stdout",
     "output_type": "stream",
     "text": [
      "Train, epoch: [3][  3/280]\tLoss 1.2676e-01 (2.0171e-01)\tAccuracy 0.957 (0.931)\n"
     ]
    },
    {
     "name": "stderr",
     "output_type": "stream",
     "text": [
      "\r",
      "  8%|█████▉                                                                         | 21/280 [06:07<1:15:31, 17.50s/it]"
     ]
    },
    {
     "name": "stdout",
     "output_type": "stream",
     "text": [
      "Train, epoch: [3][  3/280]\tLoss 4.7589e-01 (2.1477e-01)\tAccuracy 0.844 (0.927)\n"
     ]
    },
    {
     "name": "stderr",
     "output_type": "stream",
     "text": [
      "\r",
      "  8%|██████▏                                                                        | 22/280 [06:25<1:15:11, 17.49s/it]"
     ]
    },
    {
     "name": "stdout",
     "output_type": "stream",
     "text": [
      "Train, epoch: [3][  3/280]\tLoss 1.4312e-01 (2.1151e-01)\tAccuracy 0.951 (0.928)\n"
     ]
    },
    {
     "name": "stderr",
     "output_type": "stream",
     "text": [
      "\r",
      "  8%|██████▍                                                                        | 23/280 [06:42<1:14:39, 17.43s/it]"
     ]
    },
    {
     "name": "stdout",
     "output_type": "stream",
     "text": [
      "Train, epoch: [3][  3/280]\tLoss 1.9952e-01 (2.1099e-01)\tAccuracy 0.940 (0.928)\n"
     ]
    },
    {
     "name": "stderr",
     "output_type": "stream",
     "text": [
      "\r",
      "  9%|██████▊                                                                        | 24/280 [07:00<1:14:36, 17.49s/it]"
     ]
    },
    {
     "name": "stdout",
     "output_type": "stream",
     "text": [
      "Train, epoch: [3][  3/280]\tLoss 1.6054e-01 (2.0889e-01)\tAccuracy 0.941 (0.929)\n"
     ]
    },
    {
     "name": "stderr",
     "output_type": "stream",
     "text": [
      "\r",
      "  9%|███████                                                                        | 25/280 [07:17<1:14:24, 17.51s/it]"
     ]
    },
    {
     "name": "stdout",
     "output_type": "stream",
     "text": [
      "Train, epoch: [3][  3/280]\tLoss 2.8943e-01 (2.1211e-01)\tAccuracy 0.897 (0.927)\n"
     ]
    },
    {
     "name": "stderr",
     "output_type": "stream",
     "text": [
      "\r",
      "  9%|███████▎                                                                       | 26/280 [07:35<1:14:15, 17.54s/it]"
     ]
    },
    {
     "name": "stdout",
     "output_type": "stream",
     "text": [
      "Train, epoch: [3][  3/280]\tLoss 2.1056e-01 (2.1205e-01)\tAccuracy 0.924 (0.927)\n"
     ]
    },
    {
     "name": "stderr",
     "output_type": "stream",
     "text": [
      "\r",
      " 10%|███████▌                                                                       | 27/280 [07:52<1:13:36, 17.45s/it]"
     ]
    },
    {
     "name": "stdout",
     "output_type": "stream",
     "text": [
      "Train, epoch: [3][  3/280]\tLoss 2.3031e-01 (2.1273e-01)\tAccuracy 0.920 (0.927)\n"
     ]
    },
    {
     "name": "stderr",
     "output_type": "stream",
     "text": [
      "\r",
      " 10%|███████▉                                                                       | 28/280 [08:09<1:13:07, 17.41s/it]"
     ]
    },
    {
     "name": "stdout",
     "output_type": "stream",
     "text": [
      "Train, epoch: [3][  3/280]\tLoss 2.2127e-01 (2.1303e-01)\tAccuracy 0.921 (0.927)\n"
     ]
    },
    {
     "name": "stderr",
     "output_type": "stream",
     "text": [
      "\r",
      " 10%|████████▏                                                                      | 29/280 [08:27<1:12:49, 17.41s/it]"
     ]
    },
    {
     "name": "stdout",
     "output_type": "stream",
     "text": [
      "Train, epoch: [3][  3/280]\tLoss 2.5411e-01 (2.1445e-01)\tAccuracy 0.913 (0.926)\n"
     ]
    },
    {
     "name": "stderr",
     "output_type": "stream",
     "text": [
      "\r",
      " 11%|████████▍                                                                      | 30/280 [08:44<1:12:32, 17.41s/it]"
     ]
    },
    {
     "name": "stdout",
     "output_type": "stream",
     "text": [
      "Train, epoch: [3][  3/280]\tLoss 1.1219e-01 (2.1104e-01)\tAccuracy 0.963 (0.928)\n"
     ]
    },
    {
     "name": "stderr",
     "output_type": "stream",
     "text": [
      "\r",
      " 11%|████████▋                                                                      | 31/280 [09:02<1:12:34, 17.49s/it]"
     ]
    },
    {
     "name": "stdout",
     "output_type": "stream",
     "text": [
      "Train, epoch: [3][  3/280]\tLoss 2.1338e-01 (2.1111e-01)\tAccuracy 0.929 (0.928)\n"
     ]
    },
    {
     "name": "stderr",
     "output_type": "stream",
     "text": [
      "\r",
      " 11%|█████████                                                                      | 32/280 [09:19<1:12:21, 17.50s/it]"
     ]
    },
    {
     "name": "stdout",
     "output_type": "stream",
     "text": [
      "Train, epoch: [3][  3/280]\tLoss 2.2333e-01 (2.1150e-01)\tAccuracy 0.917 (0.927)\n"
     ]
    },
    {
     "name": "stderr",
     "output_type": "stream",
     "text": [
      "\r",
      " 12%|█████████▎                                                                     | 33/280 [09:37<1:12:06, 17.52s/it]"
     ]
    },
    {
     "name": "stdout",
     "output_type": "stream",
     "text": [
      "Train, epoch: [3][  3/280]\tLoss 1.5420e-01 (2.0976e-01)\tAccuracy 0.952 (0.928)\n"
     ]
    },
    {
     "name": "stderr",
     "output_type": "stream",
     "text": [
      "\r",
      " 12%|█████████▌                                                                     | 34/280 [09:55<1:11:55, 17.54s/it]"
     ]
    },
    {
     "name": "stdout",
     "output_type": "stream",
     "text": [
      "Train, epoch: [3][  3/280]\tLoss 2.6007e-01 (2.1124e-01)\tAccuracy 0.915 (0.928)\n"
     ]
    },
    {
     "name": "stderr",
     "output_type": "stream",
     "text": [
      "\r",
      " 12%|█████████▉                                                                     | 35/280 [10:12<1:11:40, 17.55s/it]"
     ]
    },
    {
     "name": "stdout",
     "output_type": "stream",
     "text": [
      "Train, epoch: [3][  3/280]\tLoss 2.0099e-01 (2.1095e-01)\tAccuracy 0.932 (0.928)\n"
     ]
    },
    {
     "name": "stderr",
     "output_type": "stream",
     "text": [
      "\r",
      " 13%|██████████▏                                                                    | 36/280 [10:30<1:11:35, 17.61s/it]"
     ]
    },
    {
     "name": "stdout",
     "output_type": "stream",
     "text": [
      "Train, epoch: [3][  3/280]\tLoss 1.7465e-01 (2.0994e-01)\tAccuracy 0.939 (0.928)\n"
     ]
    },
    {
     "name": "stderr",
     "output_type": "stream",
     "text": [
      "\r",
      " 13%|██████████▍                                                                    | 37/280 [10:47<1:11:16, 17.60s/it]"
     ]
    },
    {
     "name": "stdout",
     "output_type": "stream",
     "text": [
      "Train, epoch: [3][  3/280]\tLoss 1.6110e-01 (2.0862e-01)\tAccuracy 0.946 (0.929)\n"
     ]
    },
    {
     "name": "stderr",
     "output_type": "stream",
     "text": [
      "\r",
      " 14%|██████████▋                                                                    | 38/280 [11:05<1:11:02, 17.61s/it]"
     ]
    },
    {
     "name": "stdout",
     "output_type": "stream",
     "text": [
      "Train, epoch: [3][  3/280]\tLoss 1.4436e-01 (2.0693e-01)\tAccuracy 0.951 (0.929)\n"
     ]
    },
    {
     "name": "stderr",
     "output_type": "stream",
     "text": [
      "\r",
      " 14%|███████████                                                                    | 39/280 [11:23<1:10:34, 17.57s/it]"
     ]
    },
    {
     "name": "stdout",
     "output_type": "stream",
     "text": [
      "Train, epoch: [3][  3/280]\tLoss 2.3501e-01 (2.0765e-01)\tAccuracy 0.913 (0.929)\n"
     ]
    },
    {
     "name": "stderr",
     "output_type": "stream",
     "text": [
      "\r",
      " 14%|███████████▎                                                                   | 40/280 [11:40<1:10:08, 17.53s/it]"
     ]
    },
    {
     "name": "stdout",
     "output_type": "stream",
     "text": [
      "Train, epoch: [3][  3/280]\tLoss 2.2572e-01 (2.0810e-01)\tAccuracy 0.917 (0.928)\n"
     ]
    },
    {
     "name": "stderr",
     "output_type": "stream",
     "text": [
      "\r",
      " 15%|███████████▌                                                                   | 41/280 [11:57<1:09:40, 17.49s/it]"
     ]
    },
    {
     "name": "stdout",
     "output_type": "stream",
     "text": [
      "Train, epoch: [3][  3/280]\tLoss 2.4894e-01 (2.0910e-01)\tAccuracy 0.911 (0.928)\n"
     ]
    },
    {
     "name": "stderr",
     "output_type": "stream",
     "text": [
      "\r",
      " 15%|███████████▊                                                                   | 42/280 [12:15<1:09:16, 17.46s/it]"
     ]
    },
    {
     "name": "stdout",
     "output_type": "stream",
     "text": [
      "Train, epoch: [3][  3/280]\tLoss 1.1876e-01 (2.0694e-01)\tAccuracy 0.958 (0.929)\n"
     ]
    },
    {
     "name": "stderr",
     "output_type": "stream",
     "text": [
      "\r",
      " 15%|████████████▏                                                                  | 43/280 [12:32<1:09:09, 17.51s/it]"
     ]
    },
    {
     "name": "stdout",
     "output_type": "stream",
     "text": [
      "Train, epoch: [3][  3/280]\tLoss 1.8612e-01 (2.0646e-01)\tAccuracy 0.935 (0.929)\n"
     ]
    },
    {
     "name": "stderr",
     "output_type": "stream",
     "text": [
      "\r",
      " 16%|████████████▍                                                                  | 44/280 [12:50<1:08:49, 17.50s/it]"
     ]
    },
    {
     "name": "stdout",
     "output_type": "stream",
     "text": [
      "Train, epoch: [3][  3/280]\tLoss 1.5172e-01 (2.0522e-01)\tAccuracy 0.953 (0.929)\n"
     ]
    },
    {
     "name": "stderr",
     "output_type": "stream",
     "text": [
      "\r",
      " 16%|████████████▋                                                                  | 45/280 [13:08<1:08:44, 17.55s/it]"
     ]
    },
    {
     "name": "stdout",
     "output_type": "stream",
     "text": [
      "Train, epoch: [3][  3/280]\tLoss 1.6503e-01 (2.0432e-01)\tAccuracy 0.946 (0.930)\n"
     ]
    },
    {
     "name": "stderr",
     "output_type": "stream",
     "text": [
      "\r",
      " 16%|████████████▉                                                                  | 46/280 [13:25<1:08:12, 17.49s/it]"
     ]
    },
    {
     "name": "stdout",
     "output_type": "stream",
     "text": [
      "Train, epoch: [3][  3/280]\tLoss 1.8907e-01 (2.0399e-01)\tAccuracy 0.932 (0.930)\n"
     ]
    },
    {
     "name": "stderr",
     "output_type": "stream",
     "text": [
      "\r",
      " 17%|█████████████▎                                                                 | 47/280 [13:42<1:07:53, 17.48s/it]"
     ]
    },
    {
     "name": "stdout",
     "output_type": "stream",
     "text": [
      "Train, epoch: [3][  3/280]\tLoss 1.1845e-01 (2.0217e-01)\tAccuracy 0.961 (0.931)\n"
     ]
    },
    {
     "name": "stderr",
     "output_type": "stream",
     "text": [
      "\r",
      " 17%|█████████████▌                                                                 | 48/280 [14:00<1:07:38, 17.49s/it]"
     ]
    },
    {
     "name": "stdout",
     "output_type": "stream",
     "text": [
      "Train, epoch: [3][  3/280]\tLoss 1.8777e-01 (2.0187e-01)\tAccuracy 0.936 (0.931)\n"
     ]
    },
    {
     "name": "stderr",
     "output_type": "stream",
     "text": [
      "\r",
      " 18%|█████████████▊                                                                 | 49/280 [14:17<1:07:14, 17.47s/it]"
     ]
    },
    {
     "name": "stdout",
     "output_type": "stream",
     "text": [
      "Train, epoch: [3][  3/280]\tLoss 1.0370e-01 (1.9987e-01)\tAccuracy 0.963 (0.931)\n"
     ]
    },
    {
     "name": "stderr",
     "output_type": "stream",
     "text": [
      "\r",
      " 18%|██████████████                                                                 | 50/280 [14:35<1:06:47, 17.42s/it]"
     ]
    },
    {
     "name": "stdout",
     "output_type": "stream",
     "text": [
      "Train, epoch: [3][  3/280]\tLoss 2.6523e-01 (2.0118e-01)\tAccuracy 0.912 (0.931)\n"
     ]
    },
    {
     "name": "stderr",
     "output_type": "stream",
     "text": [
      "\r",
      " 18%|██████████████▍                                                                | 51/280 [14:52<1:06:47, 17.50s/it]"
     ]
    },
    {
     "name": "stdout",
     "output_type": "stream",
     "text": [
      "Train, epoch: [3][  3/280]\tLoss 1.6154e-01 (2.0040e-01)\tAccuracy 0.946 (0.931)\n"
     ]
    },
    {
     "name": "stderr",
     "output_type": "stream",
     "text": [
      "\r",
      " 19%|██████████████▋                                                                | 52/280 [15:10<1:06:35, 17.53s/it]"
     ]
    },
    {
     "name": "stdout",
     "output_type": "stream",
     "text": [
      "Train, epoch: [3][  3/280]\tLoss 2.1563e-01 (2.0069e-01)\tAccuracy 0.919 (0.931)\n"
     ]
    },
    {
     "name": "stderr",
     "output_type": "stream",
     "text": [
      "\r",
      " 19%|██████████████▉                                                                | 53/280 [15:27<1:06:19, 17.53s/it]"
     ]
    },
    {
     "name": "stdout",
     "output_type": "stream",
     "text": [
      "Train, epoch: [3][  3/280]\tLoss 1.5466e-01 (1.9982e-01)\tAccuracy 0.942 (0.931)\n"
     ]
    },
    {
     "name": "stderr",
     "output_type": "stream",
     "text": [
      "\r",
      " 19%|███████████████▏                                                               | 54/280 [15:45<1:05:59, 17.52s/it]"
     ]
    },
    {
     "name": "stdout",
     "output_type": "stream",
     "text": [
      "Train, epoch: [3][  3/280]\tLoss 1.7228e-01 (1.9931e-01)\tAccuracy 0.940 (0.931)\n"
     ]
    },
    {
     "name": "stderr",
     "output_type": "stream",
     "text": [
      "\r",
      " 20%|███████████████▌                                                               | 55/280 [16:02<1:05:40, 17.51s/it]"
     ]
    },
    {
     "name": "stdout",
     "output_type": "stream",
     "text": [
      "Train, epoch: [3][  3/280]\tLoss 1.7979e-01 (1.9896e-01)\tAccuracy 0.942 (0.932)\n"
     ]
    },
    {
     "name": "stderr",
     "output_type": "stream",
     "text": [
      "\r",
      " 20%|███████████████▊                                                               | 56/280 [16:20<1:05:14, 17.47s/it]"
     ]
    },
    {
     "name": "stdout",
     "output_type": "stream",
     "text": [
      "Train, epoch: [3][  3/280]\tLoss 2.0332e-01 (1.9904e-01)\tAccuracy 0.928 (0.931)\n"
     ]
    },
    {
     "name": "stderr",
     "output_type": "stream",
     "text": [
      "\r",
      " 20%|████████████████                                                               | 57/280 [16:37<1:05:01, 17.50s/it]"
     ]
    },
    {
     "name": "stdout",
     "output_type": "stream",
     "text": [
      "Train, epoch: [3][  3/280]\tLoss 2.5160e-01 (1.9996e-01)\tAccuracy 0.910 (0.931)\n"
     ]
    },
    {
     "name": "stderr",
     "output_type": "stream",
     "text": [
      "\r",
      " 21%|████████████████▎                                                              | 58/280 [16:55<1:04:46, 17.51s/it]"
     ]
    },
    {
     "name": "stdout",
     "output_type": "stream",
     "text": [
      "Train, epoch: [3][  3/280]\tLoss 2.0059e-01 (1.9997e-01)\tAccuracy 0.925 (0.931)\n"
     ]
    },
    {
     "name": "stderr",
     "output_type": "stream",
     "text": [
      "\r",
      " 21%|████████████████▋                                                              | 59/280 [17:12<1:04:29, 17.51s/it]"
     ]
    },
    {
     "name": "stdout",
     "output_type": "stream",
     "text": [
      "Train, epoch: [3][  3/280]\tLoss 1.2951e-01 (1.9877e-01)\tAccuracy 0.956 (0.931)\n"
     ]
    },
    {
     "name": "stderr",
     "output_type": "stream",
     "text": [
      "\r",
      " 21%|████████████████▉                                                              | 60/280 [17:30<1:04:07, 17.49s/it]"
     ]
    },
    {
     "name": "stdout",
     "output_type": "stream",
     "text": [
      "Train, epoch: [3][  3/280]\tLoss 2.3530e-01 (1.9938e-01)\tAccuracy 0.920 (0.931)\n"
     ]
    },
    {
     "name": "stderr",
     "output_type": "stream",
     "text": [
      "\r",
      " 22%|█████████████████▏                                                             | 61/280 [17:47<1:03:44, 17.47s/it]"
     ]
    },
    {
     "name": "stdout",
     "output_type": "stream",
     "text": [
      "Train, epoch: [3][  3/280]\tLoss 1.4745e-01 (1.9853e-01)\tAccuracy 0.948 (0.931)\n"
     ]
    },
    {
     "name": "stderr",
     "output_type": "stream",
     "text": [
      "\r",
      " 22%|█████████████████▍                                                             | 62/280 [18:05<1:03:37, 17.51s/it]"
     ]
    },
    {
     "name": "stdout",
     "output_type": "stream",
     "text": [
      "Train, epoch: [3][  3/280]\tLoss 2.7595e-01 (1.9978e-01)\tAccuracy 0.905 (0.931)\n"
     ]
    },
    {
     "name": "stderr",
     "output_type": "stream",
     "text": [
      "\r",
      " 22%|█████████████████▊                                                             | 63/280 [18:22<1:03:22, 17.52s/it]"
     ]
    },
    {
     "name": "stdout",
     "output_type": "stream",
     "text": [
      "Train, epoch: [3][  3/280]\tLoss 1.2002e-01 (1.9851e-01)\tAccuracy 0.957 (0.931)\n"
     ]
    },
    {
     "name": "stderr",
     "output_type": "stream",
     "text": [
      "\r",
      " 23%|██████████████████                                                             | 64/280 [18:40<1:03:00, 17.50s/it]"
     ]
    },
    {
     "name": "stdout",
     "output_type": "stream",
     "text": [
      "Train, epoch: [3][  3/280]\tLoss 1.9813e-01 (1.9851e-01)\tAccuracy 0.934 (0.931)\n"
     ]
    },
    {
     "name": "stderr",
     "output_type": "stream",
     "text": [
      "\r",
      " 23%|██████████████████▎                                                            | 65/280 [18:57<1:02:41, 17.49s/it]"
     ]
    },
    {
     "name": "stdout",
     "output_type": "stream",
     "text": [
      "Train, epoch: [3][  3/280]\tLoss 1.8304e-01 (1.9827e-01)\tAccuracy 0.936 (0.932)\n"
     ]
    },
    {
     "name": "stderr",
     "output_type": "stream",
     "text": [
      "\r",
      " 24%|██████████████████▌                                                            | 66/280 [19:15<1:02:24, 17.50s/it]"
     ]
    },
    {
     "name": "stdout",
     "output_type": "stream",
     "text": [
      "Train, epoch: [3][  3/280]\tLoss 1.3554e-01 (1.9732e-01)\tAccuracy 0.955 (0.932)\n"
     ]
    },
    {
     "name": "stderr",
     "output_type": "stream",
     "text": [
      "\r",
      " 24%|██████████████████▉                                                            | 67/280 [19:32<1:02:01, 17.47s/it]"
     ]
    },
    {
     "name": "stdout",
     "output_type": "stream",
     "text": [
      "Train, epoch: [3][  3/280]\tLoss 1.6049e-01 (1.9677e-01)\tAccuracy 0.945 (0.932)\n"
     ]
    },
    {
     "name": "stderr",
     "output_type": "stream",
     "text": [
      "\r",
      " 24%|███████████████████▏                                                           | 68/280 [19:50<1:01:51, 17.51s/it]"
     ]
    },
    {
     "name": "stdout",
     "output_type": "stream",
     "text": [
      "Train, epoch: [3][  3/280]\tLoss 9.8345e-02 (1.9532e-01)\tAccuracy 0.965 (0.933)\n"
     ]
    },
    {
     "name": "stderr",
     "output_type": "stream",
     "text": [
      "\r",
      " 25%|███████████████████▍                                                           | 69/280 [20:07<1:01:17, 17.43s/it]"
     ]
    },
    {
     "name": "stdout",
     "output_type": "stream",
     "text": [
      "Train, epoch: [3][  3/280]\tLoss 1.3260e-01 (1.9441e-01)\tAccuracy 0.956 (0.933)\n"
     ]
    },
    {
     "name": "stderr",
     "output_type": "stream",
     "text": [
      "\r",
      " 25%|███████████████████▊                                                           | 70/280 [20:25<1:01:12, 17.49s/it]"
     ]
    },
    {
     "name": "stdout",
     "output_type": "stream",
     "text": [
      "Train, epoch: [3][  3/280]\tLoss 2.9961e-01 (1.9592e-01)\tAccuracy 0.895 (0.932)\n"
     ]
    },
    {
     "name": "stderr",
     "output_type": "stream",
     "text": [
      "\r",
      " 25%|████████████████████                                                           | 71/280 [20:42<1:01:10, 17.56s/it]"
     ]
    },
    {
     "name": "stdout",
     "output_type": "stream",
     "text": [
      "Train, epoch: [3][  3/280]\tLoss 1.5554e-01 (1.9535e-01)\tAccuracy 0.942 (0.933)\n"
     ]
    },
    {
     "name": "stderr",
     "output_type": "stream",
     "text": [
      "\r",
      " 26%|████████████████████▎                                                          | 72/280 [21:00<1:00:43, 17.52s/it]"
     ]
    },
    {
     "name": "stdout",
     "output_type": "stream",
     "text": [
      "Train, epoch: [3][  3/280]\tLoss 2.0713e-01 (1.9551e-01)\tAccuracy 0.931 (0.932)\n"
     ]
    },
    {
     "name": "stderr",
     "output_type": "stream",
     "text": [
      "\r",
      " 26%|████████████████████▌                                                          | 73/280 [21:17<1:00:26, 17.52s/it]"
     ]
    },
    {
     "name": "stdout",
     "output_type": "stream",
     "text": [
      "Train, epoch: [3][  3/280]\tLoss 1.8654e-01 (1.9539e-01)\tAccuracy 0.935 (0.933)\n"
     ]
    },
    {
     "name": "stderr",
     "output_type": "stream",
     "text": [
      "\r",
      " 26%|████████████████████▉                                                          | 74/280 [21:35<1:00:19, 17.57s/it]"
     ]
    },
    {
     "name": "stdout",
     "output_type": "stream",
     "text": [
      "Train, epoch: [3][  3/280]\tLoss 1.0150e-01 (1.9412e-01)\tAccuracy 0.967 (0.933)\n"
     ]
    },
    {
     "name": "stderr",
     "output_type": "stream",
     "text": [
      "\r",
      " 27%|█████████████████████▋                                                           | 75/280 [21:53<59:57, 17.55s/it]"
     ]
    },
    {
     "name": "stdout",
     "output_type": "stream",
     "text": [
      "Train, epoch: [3][  3/280]\tLoss 1.9799e-01 (1.9417e-01)\tAccuracy 0.933 (0.933)\n"
     ]
    },
    {
     "name": "stderr",
     "output_type": "stream",
     "text": [
      "\r",
      " 27%|█████████████████████▉                                                           | 76/280 [22:10<59:28, 17.49s/it]"
     ]
    },
    {
     "name": "stdout",
     "output_type": "stream",
     "text": [
      "Train, epoch: [3][  3/280]\tLoss 1.0731e-01 (1.9303e-01)\tAccuracy 0.969 (0.933)\n"
     ]
    },
    {
     "name": "stderr",
     "output_type": "stream",
     "text": [
      "\r",
      " 28%|██████████████████████▎                                                          | 77/280 [22:28<59:25, 17.56s/it]"
     ]
    },
    {
     "name": "stdout",
     "output_type": "stream",
     "text": [
      "Train, epoch: [3][  3/280]\tLoss 1.8985e-01 (1.9299e-01)\tAccuracy 0.935 (0.933)\n"
     ]
    },
    {
     "name": "stderr",
     "output_type": "stream",
     "text": [
      "\r",
      " 28%|██████████████████████▌                                                          | 78/280 [22:45<59:08, 17.57s/it]"
     ]
    },
    {
     "name": "stdout",
     "output_type": "stream",
     "text": [
      "Train, epoch: [3][  3/280]\tLoss 1.8023e-01 (1.9282e-01)\tAccuracy 0.943 (0.934)\n"
     ]
    },
    {
     "name": "stderr",
     "output_type": "stream",
     "text": [
      "\r",
      " 28%|██████████████████████▊                                                          | 79/280 [23:03<58:45, 17.54s/it]"
     ]
    },
    {
     "name": "stdout",
     "output_type": "stream",
     "text": [
      "Train, epoch: [3][  3/280]\tLoss 1.4320e-01 (1.9220e-01)\tAccuracy 0.951 (0.934)\n"
     ]
    },
    {
     "name": "stderr",
     "output_type": "stream",
     "text": [
      "\r",
      " 29%|███████████████████████▏                                                         | 80/280 [23:20<58:15, 17.48s/it]"
     ]
    },
    {
     "name": "stdout",
     "output_type": "stream",
     "text": [
      "Train, epoch: [3][  3/280]\tLoss 1.5826e-01 (1.9177e-01)\tAccuracy 0.943 (0.934)\n"
     ]
    },
    {
     "name": "stderr",
     "output_type": "stream",
     "text": [
      "\r",
      " 29%|███████████████████████▍                                                         | 81/280 [23:38<58:04, 17.51s/it]"
     ]
    },
    {
     "name": "stdout",
     "output_type": "stream",
     "text": [
      "Train, epoch: [3][  3/280]\tLoss 1.3231e-01 (1.9104e-01)\tAccuracy 0.955 (0.934)\n"
     ]
    },
    {
     "name": "stderr",
     "output_type": "stream",
     "text": [
      "\r",
      " 29%|███████████████████████▋                                                         | 82/280 [23:55<57:42, 17.49s/it]"
     ]
    },
    {
     "name": "stdout",
     "output_type": "stream",
     "text": [
      "Train, epoch: [3][  3/280]\tLoss 1.4360e-01 (1.9046e-01)\tAccuracy 0.954 (0.934)\n"
     ]
    },
    {
     "name": "stderr",
     "output_type": "stream",
     "text": [
      "\r",
      " 30%|████████████████████████                                                         | 83/280 [24:13<57:25, 17.49s/it]"
     ]
    },
    {
     "name": "stdout",
     "output_type": "stream",
     "text": [
      "Train, epoch: [3][  3/280]\tLoss 1.4570e-01 (1.8992e-01)\tAccuracy 0.953 (0.935)\n"
     ]
    },
    {
     "name": "stderr",
     "output_type": "stream",
     "text": [
      "\r",
      " 30%|████████████████████████▎                                                        | 84/280 [24:30<57:12, 17.51s/it]"
     ]
    },
    {
     "name": "stdout",
     "output_type": "stream",
     "text": [
      "Train, epoch: [3][  3/280]\tLoss 2.1432e-01 (1.9021e-01)\tAccuracy 0.922 (0.935)\n"
     ]
    },
    {
     "name": "stderr",
     "output_type": "stream",
     "text": [
      "\r",
      " 30%|████████████████████████▌                                                        | 85/280 [24:48<56:57, 17.53s/it]"
     ]
    },
    {
     "name": "stdout",
     "output_type": "stream",
     "text": [
      "Train, epoch: [3][  3/280]\tLoss 2.2400e-01 (1.9061e-01)\tAccuracy 0.928 (0.934)\n"
     ]
    },
    {
     "name": "stderr",
     "output_type": "stream",
     "text": [
      "\r",
      " 31%|████████████████████████▉                                                        | 86/280 [25:05<56:44, 17.55s/it]"
     ]
    },
    {
     "name": "stdout",
     "output_type": "stream",
     "text": [
      "Train, epoch: [3][  3/280]\tLoss 1.7881e-01 (1.9047e-01)\tAccuracy 0.939 (0.934)\n"
     ]
    },
    {
     "name": "stderr",
     "output_type": "stream",
     "text": [
      "\r",
      " 31%|█████████████████████████▏                                                       | 87/280 [25:23<56:20, 17.52s/it]"
     ]
    },
    {
     "name": "stdout",
     "output_type": "stream",
     "text": [
      "Train, epoch: [3][  3/280]\tLoss 1.9973e-01 (1.9058e-01)\tAccuracy 0.929 (0.934)\n"
     ]
    },
    {
     "name": "stderr",
     "output_type": "stream",
     "text": [
      "\r",
      " 31%|█████████████████████████▍                                                       | 88/280 [25:40<56:00, 17.50s/it]"
     ]
    },
    {
     "name": "stdout",
     "output_type": "stream",
     "text": [
      "Train, epoch: [3][  3/280]\tLoss 2.0255e-01 (1.9071e-01)\tAccuracy 0.934 (0.934)\n"
     ]
    },
    {
     "name": "stderr",
     "output_type": "stream",
     "text": [
      "\r",
      " 32%|█████████████████████████▋                                                       | 89/280 [25:58<55:40, 17.49s/it]"
     ]
    },
    {
     "name": "stdout",
     "output_type": "stream",
     "text": [
      "Train, epoch: [3][  3/280]\tLoss 1.3543e-01 (1.9009e-01)\tAccuracy 0.950 (0.935)\n"
     ]
    },
    {
     "name": "stderr",
     "output_type": "stream",
     "text": [
      "\r",
      " 32%|██████████████████████████                                                       | 90/280 [26:15<55:23, 17.49s/it]"
     ]
    },
    {
     "name": "stdout",
     "output_type": "stream",
     "text": [
      "Train, epoch: [3][  3/280]\tLoss 1.5250e-01 (1.8967e-01)\tAccuracy 0.946 (0.935)\n"
     ]
    },
    {
     "name": "stderr",
     "output_type": "stream",
     "text": [
      "\r",
      " 32%|██████████████████████████▎                                                      | 91/280 [26:33<55:10, 17.52s/it]"
     ]
    },
    {
     "name": "stdout",
     "output_type": "stream",
     "text": [
      "Train, epoch: [3][  3/280]\tLoss 2.8078e-01 (1.9068e-01)\tAccuracy 0.902 (0.934)\n"
     ]
    },
    {
     "name": "stderr",
     "output_type": "stream",
     "text": [
      "\r",
      " 33%|██████████████████████████▌                                                      | 92/280 [26:50<54:46, 17.48s/it]"
     ]
    },
    {
     "name": "stdout",
     "output_type": "stream",
     "text": [
      "Train, epoch: [3][  3/280]\tLoss 1.5698e-01 (1.9031e-01)\tAccuracy 0.944 (0.934)\n"
     ]
    },
    {
     "name": "stderr",
     "output_type": "stream",
     "text": [
      "\r",
      " 33%|██████████████████████████▉                                                      | 93/280 [27:08<54:32, 17.50s/it]"
     ]
    },
    {
     "name": "stdout",
     "output_type": "stream",
     "text": [
      "Train, epoch: [3][  3/280]\tLoss 1.3954e-01 (1.8976e-01)\tAccuracy 0.951 (0.935)\n"
     ]
    },
    {
     "name": "stderr",
     "output_type": "stream",
     "text": [
      "\r",
      " 34%|███████████████████████████▏                                                     | 94/280 [27:25<54:12, 17.49s/it]"
     ]
    },
    {
     "name": "stdout",
     "output_type": "stream",
     "text": [
      "Train, epoch: [3][  3/280]\tLoss 2.1414e-01 (1.9002e-01)\tAccuracy 0.927 (0.935)\n"
     ]
    },
    {
     "name": "stderr",
     "output_type": "stream",
     "text": [
      "\r",
      " 34%|███████████████████████████▍                                                     | 95/280 [27:43<53:57, 17.50s/it]"
     ]
    },
    {
     "name": "stdout",
     "output_type": "stream",
     "text": [
      "Train, epoch: [3][  3/280]\tLoss 1.4389e-01 (1.8954e-01)\tAccuracy 0.950 (0.935)\n"
     ]
    },
    {
     "name": "stderr",
     "output_type": "stream",
     "text": [
      "\r",
      " 34%|███████████████████████████▊                                                     | 96/280 [28:00<53:49, 17.55s/it]"
     ]
    },
    {
     "name": "stdout",
     "output_type": "stream",
     "text": [
      "Train, epoch: [3][  3/280]\tLoss 1.8199e-01 (1.8946e-01)\tAccuracy 0.936 (0.935)\n"
     ]
    },
    {
     "name": "stderr",
     "output_type": "stream",
     "text": [
      "\r",
      " 35%|████████████████████████████                                                     | 97/280 [28:18<53:27, 17.53s/it]"
     ]
    },
    {
     "name": "stdout",
     "output_type": "stream",
     "text": [
      "Train, epoch: [3][  3/280]\tLoss 1.7678e-01 (1.8933e-01)\tAccuracy 0.932 (0.935)\n"
     ]
    },
    {
     "name": "stderr",
     "output_type": "stream",
     "text": [
      "\r",
      " 35%|████████████████████████████▎                                                    | 98/280 [28:36<53:21, 17.59s/it]"
     ]
    },
    {
     "name": "stdout",
     "output_type": "stream",
     "text": [
      "Train, epoch: [3][  3/280]\tLoss 1.0577e-01 (1.8847e-01)\tAccuracy 0.967 (0.935)\n"
     ]
    },
    {
     "name": "stderr",
     "output_type": "stream",
     "text": [
      "\r",
      " 35%|████████████████████████████▋                                                    | 99/280 [28:53<53:01, 17.58s/it]"
     ]
    },
    {
     "name": "stdout",
     "output_type": "stream",
     "text": [
      "Train, epoch: [3][  3/280]\tLoss 2.4260e-01 (1.8902e-01)\tAccuracy 0.913 (0.935)\n"
     ]
    },
    {
     "name": "stderr",
     "output_type": "stream",
     "text": [
      "\r",
      " 36%|████████████████████████████▌                                                   | 100/280 [29:10<52:32, 17.52s/it]"
     ]
    },
    {
     "name": "stdout",
     "output_type": "stream",
     "text": [
      "Train, epoch: [3][  3/280]\tLoss 1.5140e-01 (1.8865e-01)\tAccuracy 0.943 (0.935)\n"
     ]
    },
    {
     "name": "stderr",
     "output_type": "stream",
     "text": [
      "\r",
      " 36%|████████████████████████████▊                                                   | 101/280 [29:28<52:14, 17.51s/it]"
     ]
    },
    {
     "name": "stdout",
     "output_type": "stream",
     "text": [
      "Train, epoch: [3][  3/280]\tLoss 1.5015e-01 (1.8826e-01)\tAccuracy 0.944 (0.935)\n"
     ]
    },
    {
     "name": "stderr",
     "output_type": "stream",
     "text": [
      "\r",
      " 36%|█████████████████████████████▏                                                  | 102/280 [29:45<51:57, 17.51s/it]"
     ]
    },
    {
     "name": "stdout",
     "output_type": "stream",
     "text": [
      "Train, epoch: [3][  3/280]\tLoss 1.4362e-01 (1.8783e-01)\tAccuracy 0.950 (0.935)\n"
     ]
    },
    {
     "name": "stderr",
     "output_type": "stream",
     "text": [
      "\r",
      " 37%|█████████████████████████████▍                                                  | 103/280 [30:03<51:39, 17.51s/it]"
     ]
    },
    {
     "name": "stdout",
     "output_type": "stream",
     "text": [
      "Train, epoch: [3][  3/280]\tLoss 1.1784e-01 (1.8715e-01)\tAccuracy 0.959 (0.935)\n"
     ]
    },
    {
     "name": "stderr",
     "output_type": "stream",
     "text": [
      "\r",
      " 37%|█████████████████████████████▋                                                  | 104/280 [30:21<51:22, 17.52s/it]"
     ]
    },
    {
     "name": "stdout",
     "output_type": "stream",
     "text": [
      "Train, epoch: [3][  3/280]\tLoss 1.7237e-01 (1.8701e-01)\tAccuracy 0.941 (0.935)\n"
     ]
    },
    {
     "name": "stderr",
     "output_type": "stream",
     "text": [
      "\r",
      " 38%|██████████████████████████████                                                  | 105/280 [30:38<50:56, 17.47s/it]"
     ]
    },
    {
     "name": "stdout",
     "output_type": "stream",
     "text": [
      "Train, epoch: [3][  3/280]\tLoss 1.3629e-01 (1.8652e-01)\tAccuracy 0.953 (0.936)\n"
     ]
    },
    {
     "name": "stderr",
     "output_type": "stream",
     "text": [
      "\r",
      " 38%|██████████████████████████████▎                                                 | 106/280 [30:56<50:50, 17.53s/it]"
     ]
    },
    {
     "name": "stdout",
     "output_type": "stream",
     "text": [
      "Train, epoch: [3][  3/280]\tLoss 1.4713e-01 (1.8615e-01)\tAccuracy 0.950 (0.936)\n"
     ]
    },
    {
     "name": "stderr",
     "output_type": "stream",
     "text": [
      "\r",
      " 38%|██████████████████████████████▌                                                 | 107/280 [31:13<50:30, 17.52s/it]"
     ]
    },
    {
     "name": "stdout",
     "output_type": "stream",
     "text": [
      "Train, epoch: [3][  3/280]\tLoss 1.0322e-01 (1.8538e-01)\tAccuracy 0.964 (0.936)\n"
     ]
    },
    {
     "name": "stderr",
     "output_type": "stream",
     "text": [
      "\r",
      " 39%|██████████████████████████████▊                                                 | 108/280 [31:31<50:15, 17.53s/it]"
     ]
    },
    {
     "name": "stdout",
     "output_type": "stream",
     "text": [
      "Train, epoch: [3][  3/280]\tLoss 1.8594e-01 (1.8538e-01)\tAccuracy 0.933 (0.936)\n"
     ]
    },
    {
     "name": "stderr",
     "output_type": "stream",
     "text": [
      "\r",
      " 39%|███████████████████████████████▏                                                | 109/280 [31:48<49:58, 17.54s/it]"
     ]
    },
    {
     "name": "stdout",
     "output_type": "stream",
     "text": [
      "Train, epoch: [3][  3/280]\tLoss 1.4240e-01 (1.8499e-01)\tAccuracy 0.949 (0.936)\n"
     ]
    },
    {
     "name": "stderr",
     "output_type": "stream",
     "text": [
      "\r",
      " 39%|███████████████████████████████▍                                                | 110/280 [32:06<49:42, 17.54s/it]"
     ]
    },
    {
     "name": "stdout",
     "output_type": "stream",
     "text": [
      "Train, epoch: [3][  3/280]\tLoss 2.2556e-01 (1.8535e-01)\tAccuracy 0.922 (0.936)\n"
     ]
    },
    {
     "name": "stderr",
     "output_type": "stream",
     "text": [
      "\r",
      " 40%|███████████████████████████████▋                                                | 111/280 [32:23<49:17, 17.50s/it]"
     ]
    },
    {
     "name": "stdout",
     "output_type": "stream",
     "text": [
      "Train, epoch: [3][  3/280]\tLoss 2.7605e-01 (1.8617e-01)\tAccuracy 0.905 (0.936)\n"
     ]
    },
    {
     "name": "stderr",
     "output_type": "stream",
     "text": [
      "\r",
      " 40%|████████████████████████████████                                                | 112/280 [32:41<49:05, 17.54s/it]"
     ]
    },
    {
     "name": "stdout",
     "output_type": "stream",
     "text": [
      "Train, epoch: [3][  3/280]\tLoss 1.3293e-01 (1.8570e-01)\tAccuracy 0.955 (0.936)\n"
     ]
    },
    {
     "name": "stderr",
     "output_type": "stream",
     "text": [
      "\r",
      " 40%|████████████████████████████████▎                                               | 113/280 [32:58<48:42, 17.50s/it]"
     ]
    },
    {
     "name": "stdout",
     "output_type": "stream",
     "text": [
      "Train, epoch: [3][  3/280]\tLoss 1.6811e-01 (1.8554e-01)\tAccuracy 0.944 (0.936)\n"
     ]
    },
    {
     "name": "stderr",
     "output_type": "stream",
     "text": [
      "\r",
      " 41%|████████████████████████████████▌                                               | 114/280 [33:16<48:24, 17.50s/it]"
     ]
    },
    {
     "name": "stdout",
     "output_type": "stream",
     "text": [
      "Train, epoch: [3][  3/280]\tLoss 1.3642e-01 (1.8511e-01)\tAccuracy 0.954 (0.936)\n"
     ]
    },
    {
     "name": "stderr",
     "output_type": "stream",
     "text": [
      "\r",
      " 41%|████████████████████████████████▊                                               | 115/280 [33:33<48:14, 17.54s/it]"
     ]
    },
    {
     "name": "stdout",
     "output_type": "stream",
     "text": [
      "Train, epoch: [3][  3/280]\tLoss 2.7054e-01 (1.8585e-01)\tAccuracy 0.905 (0.936)\n"
     ]
    },
    {
     "name": "stderr",
     "output_type": "stream",
     "text": [
      "\r",
      " 41%|█████████████████████████████████▏                                              | 116/280 [33:51<47:47, 17.48s/it]"
     ]
    },
    {
     "name": "stdout",
     "output_type": "stream",
     "text": [
      "Train, epoch: [3][  3/280]\tLoss 1.6573e-01 (1.8568e-01)\tAccuracy 0.942 (0.936)\n"
     ]
    },
    {
     "name": "stderr",
     "output_type": "stream",
     "text": [
      "\r",
      " 42%|█████████████████████████████████▍                                              | 117/280 [34:08<47:27, 17.47s/it]"
     ]
    },
    {
     "name": "stdout",
     "output_type": "stream",
     "text": [
      "Train, epoch: [3][  3/280]\tLoss 2.9773e-01 (1.8664e-01)\tAccuracy 0.915 (0.936)\n"
     ]
    },
    {
     "name": "stderr",
     "output_type": "stream",
     "text": [
      "\r",
      " 42%|█████████████████████████████████▋                                              | 118/280 [34:26<47:09, 17.47s/it]"
     ]
    },
    {
     "name": "stdout",
     "output_type": "stream",
     "text": [
      "Train, epoch: [3][  3/280]\tLoss 1.2512e-01 (1.8612e-01)\tAccuracy 0.955 (0.936)\n"
     ]
    },
    {
     "name": "stderr",
     "output_type": "stream",
     "text": [
      "\r",
      " 42%|██████████████████████████████████                                              | 119/280 [34:43<46:56, 17.50s/it]"
     ]
    },
    {
     "name": "stdout",
     "output_type": "stream",
     "text": [
      "Train, epoch: [3][  3/280]\tLoss 1.5333e-01 (1.8584e-01)\tAccuracy 0.955 (0.936)\n"
     ]
    },
    {
     "name": "stderr",
     "output_type": "stream",
     "text": [
      "\r",
      " 43%|██████████████████████████████████▎                                             | 120/280 [35:01<46:41, 17.51s/it]"
     ]
    },
    {
     "name": "stdout",
     "output_type": "stream",
     "text": [
      "Train, epoch: [3][  3/280]\tLoss 1.7118e-01 (1.8572e-01)\tAccuracy 0.943 (0.936)\n"
     ]
    },
    {
     "name": "stderr",
     "output_type": "stream",
     "text": [
      "\r",
      " 43%|██████████████████████████████████▌                                             | 121/280 [35:18<46:20, 17.49s/it]"
     ]
    },
    {
     "name": "stdout",
     "output_type": "stream",
     "text": [
      "Train, epoch: [3][  3/280]\tLoss 3.2512e-01 (1.8687e-01)\tAccuracy 0.887 (0.936)\n"
     ]
    },
    {
     "name": "stderr",
     "output_type": "stream",
     "text": [
      "\r",
      " 44%|██████████████████████████████████▊                                             | 122/280 [35:36<46:05, 17.50s/it]"
     ]
    },
    {
     "name": "stdout",
     "output_type": "stream",
     "text": [
      "Train, epoch: [3][  3/280]\tLoss 1.4350e-01 (1.8651e-01)\tAccuracy 0.950 (0.936)\n"
     ]
    },
    {
     "name": "stderr",
     "output_type": "stream",
     "text": [
      "\r",
      " 44%|███████████████████████████████████▏                                            | 123/280 [35:53<45:41, 17.46s/it]"
     ]
    },
    {
     "name": "stdout",
     "output_type": "stream",
     "text": [
      "Train, epoch: [3][  3/280]\tLoss 2.0931e-01 (1.8670e-01)\tAccuracy 0.929 (0.936)\n"
     ]
    },
    {
     "name": "stderr",
     "output_type": "stream",
     "text": [
      "\r",
      " 44%|███████████████████████████████████▍                                            | 124/280 [36:11<45:26, 17.48s/it]"
     ]
    },
    {
     "name": "stdout",
     "output_type": "stream",
     "text": [
      "Train, epoch: [3][  3/280]\tLoss 1.3852e-01 (1.8631e-01)\tAccuracy 0.950 (0.936)\n"
     ]
    },
    {
     "name": "stderr",
     "output_type": "stream",
     "text": [
      "\r",
      " 45%|███████████████████████████████████▋                                            | 125/280 [36:28<45:01, 17.43s/it]"
     ]
    },
    {
     "name": "stdout",
     "output_type": "stream",
     "text": [
      "Train, epoch: [3][  3/280]\tLoss 1.8960e-01 (1.8634e-01)\tAccuracy 0.937 (0.936)\n"
     ]
    },
    {
     "name": "stderr",
     "output_type": "stream",
     "text": [
      "\r",
      " 45%|████████████████████████████████████                                            | 126/280 [36:45<44:50, 17.47s/it]"
     ]
    },
    {
     "name": "stdout",
     "output_type": "stream",
     "text": [
      "Train, epoch: [3][  3/280]\tLoss 1.1330e-01 (1.8576e-01)\tAccuracy 0.961 (0.936)\n"
     ]
    },
    {
     "name": "stderr",
     "output_type": "stream",
     "text": [
      "\r",
      " 45%|████████████████████████████████████▎                                           | 127/280 [37:03<44:38, 17.50s/it]"
     ]
    },
    {
     "name": "stdout",
     "output_type": "stream",
     "text": [
      "Train, epoch: [3][  3/280]\tLoss 1.6301e-01 (1.8558e-01)\tAccuracy 0.946 (0.936)\n"
     ]
    },
    {
     "name": "stderr",
     "output_type": "stream",
     "text": [
      "\r",
      " 46%|████████████████████████████████████▌                                           | 128/280 [37:21<44:24, 17.53s/it]"
     ]
    },
    {
     "name": "stdout",
     "output_type": "stream",
     "text": [
      "Train, epoch: [3][  3/280]\tLoss 1.5937e-01 (1.8537e-01)\tAccuracy 0.947 (0.936)\n"
     ]
    },
    {
     "name": "stderr",
     "output_type": "stream",
     "text": [
      "\r",
      " 46%|████████████████████████████████████▊                                           | 129/280 [37:38<44:02, 17.50s/it]"
     ]
    },
    {
     "name": "stdout",
     "output_type": "stream",
     "text": [
      "Train, epoch: [3][  3/280]\tLoss 2.2854e-01 (1.8571e-01)\tAccuracy 0.920 (0.936)\n"
     ]
    },
    {
     "name": "stderr",
     "output_type": "stream",
     "text": [
      "\r",
      " 46%|█████████████████████████████████████▏                                          | 130/280 [37:55<43:37, 17.45s/it]"
     ]
    },
    {
     "name": "stdout",
     "output_type": "stream",
     "text": [
      "Train, epoch: [3][  3/280]\tLoss 8.3555e-02 (1.8492e-01)\tAccuracy 0.972 (0.936)\n"
     ]
    },
    {
     "name": "stderr",
     "output_type": "stream",
     "text": [
      "\r",
      " 47%|█████████████████████████████████████▍                                          | 131/280 [38:13<43:22, 17.47s/it]"
     ]
    },
    {
     "name": "stdout",
     "output_type": "stream",
     "text": [
      "Train, epoch: [3][  3/280]\tLoss 2.7054e-01 (1.8558e-01)\tAccuracy 0.908 (0.936)\n"
     ]
    },
    {
     "name": "stderr",
     "output_type": "stream",
     "text": [
      "\r",
      " 47%|█████████████████████████████████████▋                                          | 132/280 [38:30<43:03, 17.46s/it]"
     ]
    },
    {
     "name": "stdout",
     "output_type": "stream",
     "text": [
      "Train, epoch: [3][  3/280]\tLoss 2.0540e-01 (1.8573e-01)\tAccuracy 0.929 (0.936)\n"
     ]
    },
    {
     "name": "stderr",
     "output_type": "stream",
     "text": [
      "\r",
      " 48%|██████████████████████████████████████                                          | 133/280 [38:48<42:50, 17.49s/it]"
     ]
    },
    {
     "name": "stdout",
     "output_type": "stream",
     "text": [
      "Train, epoch: [3][  3/280]\tLoss 1.2435e-01 (1.8527e-01)\tAccuracy 0.956 (0.936)\n"
     ]
    },
    {
     "name": "stderr",
     "output_type": "stream",
     "text": [
      "\r",
      " 48%|██████████████████████████████████████▎                                         | 134/280 [39:05<42:32, 17.48s/it]"
     ]
    },
    {
     "name": "stdout",
     "output_type": "stream",
     "text": [
      "Train, epoch: [3][  3/280]\tLoss 1.5166e-01 (1.8501e-01)\tAccuracy 0.948 (0.936)\n"
     ]
    },
    {
     "name": "stderr",
     "output_type": "stream",
     "text": [
      "\r",
      " 48%|██████████████████████████████████████▌                                         | 135/280 [39:23<42:11, 17.46s/it]"
     ]
    },
    {
     "name": "stdout",
     "output_type": "stream",
     "text": [
      "Train, epoch: [3][  3/280]\tLoss 1.6812e-01 (1.8489e-01)\tAccuracy 0.940 (0.936)\n"
     ]
    },
    {
     "name": "stderr",
     "output_type": "stream",
     "text": [
      "\r",
      " 49%|██████████████████████████████████████▊                                         | 136/280 [39:40<41:50, 17.43s/it]"
     ]
    },
    {
     "name": "stdout",
     "output_type": "stream",
     "text": [
      "Train, epoch: [3][  3/280]\tLoss 1.6339e-01 (1.8473e-01)\tAccuracy 0.941 (0.936)\n"
     ]
    },
    {
     "name": "stderr",
     "output_type": "stream",
     "text": [
      "\r",
      " 49%|███████████████████████████████████████▏                                        | 137/280 [39:57<41:31, 17.42s/it]"
     ]
    },
    {
     "name": "stdout",
     "output_type": "stream",
     "text": [
      "Train, epoch: [3][  3/280]\tLoss 1.5790e-01 (1.8454e-01)\tAccuracy 0.943 (0.936)\n"
     ]
    },
    {
     "name": "stderr",
     "output_type": "stream",
     "text": [
      "\r",
      " 49%|███████████████████████████████████████▍                                        | 138/280 [40:15<41:25, 17.51s/it]"
     ]
    },
    {
     "name": "stdout",
     "output_type": "stream",
     "text": [
      "Train, epoch: [3][  3/280]\tLoss 2.4316e-01 (1.8496e-01)\tAccuracy 0.911 (0.936)\n"
     ]
    },
    {
     "name": "stderr",
     "output_type": "stream",
     "text": [
      "\r",
      " 50%|███████████████████████████████████████▋                                        | 139/280 [40:33<41:03, 17.47s/it]"
     ]
    },
    {
     "name": "stdout",
     "output_type": "stream",
     "text": [
      "Train, epoch: [3][  3/280]\tLoss 2.3748e-01 (1.8534e-01)\tAccuracy 0.927 (0.936)\n"
     ]
    },
    {
     "name": "stderr",
     "output_type": "stream",
     "text": [
      "\r",
      " 50%|████████████████████████████████████████                                        | 140/280 [40:50<40:42, 17.45s/it]"
     ]
    },
    {
     "name": "stdout",
     "output_type": "stream",
     "text": [
      "Train, epoch: [3][  3/280]\tLoss 1.6851e-01 (1.8522e-01)\tAccuracy 0.940 (0.936)\n"
     ]
    },
    {
     "name": "stderr",
     "output_type": "stream",
     "text": [
      "\r",
      " 50%|████████████████████████████████████████▎                                       | 141/280 [41:08<40:32, 17.50s/it]"
     ]
    },
    {
     "name": "stdout",
     "output_type": "stream",
     "text": [
      "Train, epoch: [3][  3/280]\tLoss 2.9941e-01 (1.8603e-01)\tAccuracy 0.904 (0.936)\n"
     ]
    },
    {
     "name": "stderr",
     "output_type": "stream",
     "text": [
      "\r",
      " 51%|████████████████████████████████████████▌                                       | 142/280 [41:25<40:14, 17.50s/it]"
     ]
    },
    {
     "name": "stdout",
     "output_type": "stream",
     "text": [
      "Train, epoch: [3][  3/280]\tLoss 1.5726e-01 (1.8583e-01)\tAccuracy 0.946 (0.936)\n"
     ]
    },
    {
     "name": "stderr",
     "output_type": "stream",
     "text": [
      "\r",
      " 51%|████████████████████████████████████████▊                                       | 143/280 [41:43<39:55, 17.49s/it]"
     ]
    },
    {
     "name": "stdout",
     "output_type": "stream",
     "text": [
      "Train, epoch: [3][  3/280]\tLoss 2.1066e-01 (1.8600e-01)\tAccuracy 0.931 (0.936)\n"
     ]
    },
    {
     "name": "stderr",
     "output_type": "stream",
     "text": [
      "\r",
      " 51%|█████████████████████████████████████████▏                                      | 144/280 [42:00<39:40, 17.50s/it]"
     ]
    },
    {
     "name": "stdout",
     "output_type": "stream",
     "text": [
      "Train, epoch: [3][  3/280]\tLoss 2.0573e-01 (1.8614e-01)\tAccuracy 0.925 (0.936)\n"
     ]
    },
    {
     "name": "stderr",
     "output_type": "stream",
     "text": [
      "\r",
      " 52%|█████████████████████████████████████████▍                                      | 145/280 [42:18<39:25, 17.52s/it]"
     ]
    },
    {
     "name": "stdout",
     "output_type": "stream",
     "text": [
      "Train, epoch: [3][  3/280]\tLoss 1.7770e-01 (1.8608e-01)\tAccuracy 0.934 (0.936)\n"
     ]
    },
    {
     "name": "stderr",
     "output_type": "stream",
     "text": [
      "\r",
      " 52%|█████████████████████████████████████████▋                                      | 146/280 [42:35<39:15, 17.58s/it]"
     ]
    },
    {
     "name": "stdout",
     "output_type": "stream",
     "text": [
      "Train, epoch: [3][  3/280]\tLoss 1.1751e-01 (1.8561e-01)\tAccuracy 0.960 (0.936)\n"
     ]
    },
    {
     "name": "stderr",
     "output_type": "stream",
     "text": [
      "\r",
      " 52%|██████████████████████████████████████████                                      | 147/280 [42:53<38:58, 17.58s/it]"
     ]
    },
    {
     "name": "stdout",
     "output_type": "stream",
     "text": [
      "Train, epoch: [3][  3/280]\tLoss 1.6249e-01 (1.8545e-01)\tAccuracy 0.952 (0.936)\n"
     ]
    },
    {
     "name": "stderr",
     "output_type": "stream",
     "text": [
      "\r",
      " 53%|██████████████████████████████████████████▎                                     | 148/280 [43:11<38:47, 17.63s/it]"
     ]
    },
    {
     "name": "stdout",
     "output_type": "stream",
     "text": [
      "Train, epoch: [3][  3/280]\tLoss 1.3798e-01 (1.8513e-01)\tAccuracy 0.948 (0.936)\n"
     ]
    },
    {
     "name": "stderr",
     "output_type": "stream",
     "text": [
      "\r",
      " 53%|██████████████████████████████████████████▌                                     | 149/280 [43:28<38:19, 17.55s/it]"
     ]
    },
    {
     "name": "stdout",
     "output_type": "stream",
     "text": [
      "Train, epoch: [3][  3/280]\tLoss 9.8174e-02 (1.8455e-01)\tAccuracy 0.967 (0.936)\n"
     ]
    },
    {
     "name": "stderr",
     "output_type": "stream",
     "text": [
      "\r",
      " 54%|██████████████████████████████████████████▊                                     | 150/280 [43:45<37:55, 17.50s/it]"
     ]
    },
    {
     "name": "stdout",
     "output_type": "stream",
     "text": [
      "Train, epoch: [3][  3/280]\tLoss 2.1102e-01 (1.8472e-01)\tAccuracy 0.924 (0.936)\n"
     ]
    },
    {
     "name": "stderr",
     "output_type": "stream",
     "text": [
      "\r",
      " 54%|███████████████████████████████████████████▏                                    | 151/280 [44:03<37:37, 17.50s/it]"
     ]
    },
    {
     "name": "stdout",
     "output_type": "stream",
     "text": [
      "Train, epoch: [3][  3/280]\tLoss 1.8577e-01 (1.8473e-01)\tAccuracy 0.930 (0.936)\n"
     ]
    },
    {
     "name": "stderr",
     "output_type": "stream",
     "text": [
      "\r",
      " 54%|███████████████████████████████████████████▍                                    | 152/280 [44:21<37:23, 17.53s/it]"
     ]
    },
    {
     "name": "stdout",
     "output_type": "stream",
     "text": [
      "Train, epoch: [3][  3/280]\tLoss 2.0078e-01 (1.8484e-01)\tAccuracy 0.928 (0.936)\n"
     ]
    },
    {
     "name": "stderr",
     "output_type": "stream",
     "text": [
      "\r",
      " 55%|███████████████████████████████████████████▋                                    | 153/280 [44:38<37:04, 17.52s/it]"
     ]
    },
    {
     "name": "stdout",
     "output_type": "stream",
     "text": [
      "Train, epoch: [3][  3/280]\tLoss 1.8134e-01 (1.8481e-01)\tAccuracy 0.937 (0.936)\n"
     ]
    },
    {
     "name": "stderr",
     "output_type": "stream",
     "text": [
      "\r",
      " 55%|████████████████████████████████████████████                                    | 154/280 [44:56<36:55, 17.59s/it]"
     ]
    },
    {
     "name": "stdout",
     "output_type": "stream",
     "text": [
      "Train, epoch: [3][  3/280]\tLoss 1.6542e-01 (1.8469e-01)\tAccuracy 0.943 (0.936)\n"
     ]
    },
    {
     "name": "stderr",
     "output_type": "stream",
     "text": [
      "\r",
      " 55%|████████████████████████████████████████████▎                                   | 155/280 [45:13<36:40, 17.60s/it]"
     ]
    },
    {
     "name": "stdout",
     "output_type": "stream",
     "text": [
      "Train, epoch: [3][  3/280]\tLoss 2.3035e-01 (1.8498e-01)\tAccuracy 0.920 (0.936)\n"
     ]
    },
    {
     "name": "stderr",
     "output_type": "stream",
     "text": [
      "\r",
      " 56%|████████████████████████████████████████████▌                                   | 156/280 [45:31<36:21, 17.59s/it]"
     ]
    },
    {
     "name": "stdout",
     "output_type": "stream",
     "text": [
      "Train, epoch: [3][  3/280]\tLoss 1.4601e-01 (1.8473e-01)\tAccuracy 0.946 (0.936)\n"
     ]
    },
    {
     "name": "stderr",
     "output_type": "stream",
     "text": [
      "\r",
      " 56%|████████████████████████████████████████████▊                                   | 157/280 [45:49<36:04, 17.59s/it]"
     ]
    },
    {
     "name": "stdout",
     "output_type": "stream",
     "text": [
      "Train, epoch: [3][  3/280]\tLoss 1.7342e-01 (1.8466e-01)\tAccuracy 0.938 (0.936)\n"
     ]
    },
    {
     "name": "stderr",
     "output_type": "stream",
     "text": [
      "\r",
      " 56%|█████████████████████████████████████████████▏                                  | 158/280 [46:06<35:41, 17.56s/it]"
     ]
    },
    {
     "name": "stdout",
     "output_type": "stream",
     "text": [
      "Train, epoch: [3][  3/280]\tLoss 1.7297e-01 (1.8459e-01)\tAccuracy 0.940 (0.936)\n"
     ]
    },
    {
     "name": "stderr",
     "output_type": "stream",
     "text": [
      "\r",
      " 57%|█████████████████████████████████████████████▍                                  | 159/280 [46:24<35:22, 17.54s/it]"
     ]
    },
    {
     "name": "stdout",
     "output_type": "stream",
     "text": [
      "Train, epoch: [3][  3/280]\tLoss 2.1183e-01 (1.8476e-01)\tAccuracy 0.923 (0.936)\n"
     ]
    },
    {
     "name": "stderr",
     "output_type": "stream",
     "text": [
      "\r",
      " 57%|█████████████████████████████████████████████▋                                  | 160/280 [46:41<34:56, 17.47s/it]"
     ]
    },
    {
     "name": "stdout",
     "output_type": "stream",
     "text": [
      "Train, epoch: [3][  3/280]\tLoss 2.7578e-01 (1.8533e-01)\tAccuracy 0.902 (0.936)\n"
     ]
    },
    {
     "name": "stderr",
     "output_type": "stream",
     "text": [
      "\r",
      " 57%|██████████████████████████████████████████████                                  | 161/280 [46:58<34:43, 17.51s/it]"
     ]
    },
    {
     "name": "stdout",
     "output_type": "stream",
     "text": [
      "Train, epoch: [3][  3/280]\tLoss 1.5782e-01 (1.8515e-01)\tAccuracy 0.947 (0.936)\n"
     ]
    },
    {
     "name": "stderr",
     "output_type": "stream",
     "text": [
      "\r",
      " 58%|██████████████████████████████████████████████▎                                 | 162/280 [47:16<34:26, 17.51s/it]"
     ]
    },
    {
     "name": "stdout",
     "output_type": "stream",
     "text": [
      "Train, epoch: [3][  3/280]\tLoss 2.8809e-01 (1.8579e-01)\tAccuracy 0.907 (0.936)\n"
     ]
    },
    {
     "name": "stderr",
     "output_type": "stream",
     "text": [
      "\r",
      " 58%|██████████████████████████████████████████████▌                                 | 163/280 [47:33<34:07, 17.50s/it]"
     ]
    },
    {
     "name": "stdout",
     "output_type": "stream",
     "text": [
      "Train, epoch: [3][  3/280]\tLoss 1.0082e-01 (1.8527e-01)\tAccuracy 0.962 (0.936)\n"
     ]
    },
    {
     "name": "stderr",
     "output_type": "stream",
     "text": [
      "\r",
      " 59%|██████████████████████████████████████████████▊                                 | 164/280 [47:51<33:50, 17.50s/it]"
     ]
    },
    {
     "name": "stdout",
     "output_type": "stream",
     "text": [
      "Train, epoch: [3][  3/280]\tLoss 1.5476e-01 (1.8508e-01)\tAccuracy 0.945 (0.936)\n"
     ]
    },
    {
     "name": "stderr",
     "output_type": "stream",
     "text": [
      "\r",
      " 59%|███████████████████████████████████████████████▏                                | 165/280 [48:08<33:28, 17.46s/it]"
     ]
    },
    {
     "name": "stdout",
     "output_type": "stream",
     "text": [
      "Train, epoch: [3][  3/280]\tLoss 2.3832e-01 (1.8541e-01)\tAccuracy 0.917 (0.936)\n"
     ]
    },
    {
     "name": "stderr",
     "output_type": "stream",
     "text": [
      "\r",
      " 59%|███████████████████████████████████████████████▍                                | 166/280 [48:26<33:16, 17.51s/it]"
     ]
    },
    {
     "name": "stdout",
     "output_type": "stream",
     "text": [
      "Train, epoch: [3][  3/280]\tLoss 2.0100e-01 (1.8550e-01)\tAccuracy 0.927 (0.936)\n"
     ]
    },
    {
     "name": "stderr",
     "output_type": "stream",
     "text": [
      "\r",
      " 60%|███████████████████████████████████████████████▋                                | 167/280 [48:43<32:57, 17.50s/it]"
     ]
    },
    {
     "name": "stdout",
     "output_type": "stream",
     "text": [
      "Train, epoch: [3][  3/280]\tLoss 2.0965e-01 (1.8564e-01)\tAccuracy 0.926 (0.936)\n"
     ]
    },
    {
     "name": "stderr",
     "output_type": "stream",
     "text": [
      "\r",
      " 60%|████████████████████████████████████████████████                                | 168/280 [49:01<32:38, 17.49s/it]"
     ]
    },
    {
     "name": "stdout",
     "output_type": "stream",
     "text": [
      "Train, epoch: [3][  3/280]\tLoss 1.2077e-01 (1.8526e-01)\tAccuracy 0.957 (0.936)\n"
     ]
    },
    {
     "name": "stderr",
     "output_type": "stream",
     "text": [
      "\r",
      " 60%|████████████████████████████████████████████████▎                               | 169/280 [49:18<32:25, 17.52s/it]"
     ]
    },
    {
     "name": "stdout",
     "output_type": "stream",
     "text": [
      "Train, epoch: [3][  3/280]\tLoss 1.4446e-01 (1.8502e-01)\tAccuracy 0.950 (0.936)\n"
     ]
    },
    {
     "name": "stderr",
     "output_type": "stream",
     "text": [
      "\r",
      " 61%|████████████████████████████████████████████████▌                               | 170/280 [49:36<32:02, 17.47s/it]"
     ]
    },
    {
     "name": "stdout",
     "output_type": "stream",
     "text": [
      "Train, epoch: [3][  3/280]\tLoss 1.7444e-01 (1.8495e-01)\tAccuracy 0.948 (0.936)\n"
     ]
    },
    {
     "name": "stderr",
     "output_type": "stream",
     "text": [
      "\r",
      " 61%|████████████████████████████████████████████████▊                               | 171/280 [49:53<31:40, 17.44s/it]"
     ]
    },
    {
     "name": "stdout",
     "output_type": "stream",
     "text": [
      "Train, epoch: [3][  3/280]\tLoss 2.1423e-01 (1.8513e-01)\tAccuracy 0.922 (0.936)\n"
     ]
    },
    {
     "name": "stderr",
     "output_type": "stream",
     "text": [
      "\r",
      " 61%|█████████████████████████████████████████████████▏                              | 172/280 [50:11<31:23, 17.44s/it]"
     ]
    },
    {
     "name": "stdout",
     "output_type": "stream",
     "text": [
      "Train, epoch: [3][  3/280]\tLoss 1.2894e-01 (1.8480e-01)\tAccuracy 0.953 (0.936)\n"
     ]
    },
    {
     "name": "stderr",
     "output_type": "stream",
     "text": [
      "\r",
      " 62%|█████████████████████████████████████████████████▍                              | 173/280 [50:28<31:08, 17.46s/it]"
     ]
    },
    {
     "name": "stdout",
     "output_type": "stream",
     "text": [
      "Train, epoch: [3][  3/280]\tLoss 1.5623e-01 (1.8463e-01)\tAccuracy 0.945 (0.936)\n"
     ]
    },
    {
     "name": "stderr",
     "output_type": "stream",
     "text": [
      "\r",
      " 62%|█████████████████████████████████████████████████▋                              | 174/280 [50:46<30:53, 17.49s/it]"
     ]
    },
    {
     "name": "stdout",
     "output_type": "stream",
     "text": [
      "Train, epoch: [3][  3/280]\tLoss 3.8919e-01 (1.8581e-01)\tAccuracy 0.870 (0.936)\n"
     ]
    },
    {
     "name": "stderr",
     "output_type": "stream",
     "text": [
      "\r",
      " 62%|██████████████████████████████████████████████████                              | 175/280 [51:03<30:37, 17.50s/it]"
     ]
    },
    {
     "name": "stdout",
     "output_type": "stream",
     "text": [
      "Train, epoch: [3][  3/280]\tLoss 2.2368e-01 (1.8603e-01)\tAccuracy 0.922 (0.936)\n"
     ]
    },
    {
     "name": "stderr",
     "output_type": "stream",
     "text": [
      "\r",
      " 63%|██████████████████████████████████████████████████▎                             | 176/280 [51:21<30:18, 17.48s/it]"
     ]
    },
    {
     "name": "stdout",
     "output_type": "stream",
     "text": [
      "Train, epoch: [3][  3/280]\tLoss 2.0026e-01 (1.8611e-01)\tAccuracy 0.928 (0.936)\n"
     ]
    },
    {
     "name": "stderr",
     "output_type": "stream",
     "text": [
      "\r",
      " 63%|██████████████████████████████████████████████████▌                             | 177/280 [51:38<29:56, 17.44s/it]"
     ]
    },
    {
     "name": "stdout",
     "output_type": "stream",
     "text": [
      "Train, epoch: [3][  3/280]\tLoss 2.9550e-01 (1.8672e-01)\tAccuracy 0.895 (0.936)\n"
     ]
    },
    {
     "name": "stderr",
     "output_type": "stream",
     "text": [
      "\r",
      " 64%|██████████████████████████████████████████████████▊                             | 178/280 [51:55<29:40, 17.45s/it]"
     ]
    },
    {
     "name": "stdout",
     "output_type": "stream",
     "text": [
      "Train, epoch: [3][  3/280]\tLoss 1.2303e-01 (1.8637e-01)\tAccuracy 0.958 (0.936)\n"
     ]
    },
    {
     "name": "stderr",
     "output_type": "stream",
     "text": [
      "\r",
      " 64%|███████████████████████████████████████████████████▏                            | 179/280 [52:13<29:26, 17.49s/it]"
     ]
    },
    {
     "name": "stdout",
     "output_type": "stream",
     "text": [
      "Train, epoch: [3][  3/280]\tLoss 1.7107e-01 (1.8628e-01)\tAccuracy 0.940 (0.936)\n"
     ]
    },
    {
     "name": "stderr",
     "output_type": "stream",
     "text": [
      "\r",
      " 64%|███████████████████████████████████████████████████▍                            | 180/280 [52:31<29:08, 17.49s/it]"
     ]
    },
    {
     "name": "stdout",
     "output_type": "stream",
     "text": [
      "Train, epoch: [3][  3/280]\tLoss 1.1839e-01 (1.8590e-01)\tAccuracy 0.960 (0.936)\n"
     ]
    },
    {
     "name": "stderr",
     "output_type": "stream",
     "text": [
      "\r",
      " 65%|███████████████████████████████████████████████████▋                            | 181/280 [52:48<28:47, 17.45s/it]"
     ]
    },
    {
     "name": "stdout",
     "output_type": "stream",
     "text": [
      "Train, epoch: [3][  3/280]\tLoss 1.2067e-01 (1.8554e-01)\tAccuracy 0.959 (0.936)\n"
     ]
    },
    {
     "name": "stderr",
     "output_type": "stream",
     "text": [
      "\r",
      " 65%|████████████████████████████████████████████████████                            | 182/280 [53:05<28:32, 17.48s/it]"
     ]
    },
    {
     "name": "stdout",
     "output_type": "stream",
     "text": [
      "Train, epoch: [3][  3/280]\tLoss 1.9651e-01 (1.8560e-01)\tAccuracy 0.937 (0.936)\n"
     ]
    },
    {
     "name": "stderr",
     "output_type": "stream",
     "text": [
      "\r",
      " 65%|████████████████████████████████████████████████████▎                           | 183/280 [53:23<28:18, 17.51s/it]"
     ]
    },
    {
     "name": "stdout",
     "output_type": "stream",
     "text": [
      "Train, epoch: [3][  3/280]\tLoss 1.5585e-01 (1.8544e-01)\tAccuracy 0.944 (0.936)\n"
     ]
    },
    {
     "name": "stderr",
     "output_type": "stream",
     "text": [
      "\r",
      " 66%|████████████████████████████████████████████████████▌                           | 184/280 [53:40<27:59, 17.49s/it]"
     ]
    },
    {
     "name": "stdout",
     "output_type": "stream",
     "text": [
      "Train, epoch: [3][  3/280]\tLoss 1.2884e-01 (1.8513e-01)\tAccuracy 0.955 (0.936)\n"
     ]
    },
    {
     "name": "stderr",
     "output_type": "stream",
     "text": [
      "\r",
      " 66%|████████████████████████████████████████████████████▊                           | 185/280 [53:58<27:43, 17.51s/it]"
     ]
    },
    {
     "name": "stdout",
     "output_type": "stream",
     "text": [
      "Train, epoch: [3][  3/280]\tLoss 1.7963e-01 (1.8510e-01)\tAccuracy 0.937 (0.936)\n"
     ]
    },
    {
     "name": "stderr",
     "output_type": "stream",
     "text": [
      "\r",
      " 66%|█████████████████████████████████████████████████████▏                          | 186/280 [54:16<27:24, 17.50s/it]"
     ]
    },
    {
     "name": "stdout",
     "output_type": "stream",
     "text": [
      "Train, epoch: [3][  3/280]\tLoss 1.9949e-01 (1.8518e-01)\tAccuracy 0.926 (0.936)\n"
     ]
    },
    {
     "name": "stderr",
     "output_type": "stream",
     "text": [
      "\r",
      " 67%|█████████████████████████████████████████████████████▍                          | 187/280 [54:33<27:08, 17.51s/it]"
     ]
    },
    {
     "name": "stdout",
     "output_type": "stream",
     "text": [
      "Train, epoch: [3][  3/280]\tLoss 1.7444e-01 (1.8512e-01)\tAccuracy 0.937 (0.936)\n"
     ]
    },
    {
     "name": "stderr",
     "output_type": "stream",
     "text": [
      "\r",
      " 67%|█████████████████████████████████████████████████████▋                          | 188/280 [54:51<26:55, 17.56s/it]"
     ]
    },
    {
     "name": "stdout",
     "output_type": "stream",
     "text": [
      "Train, epoch: [3][  3/280]\tLoss 1.3977e-01 (1.8488e-01)\tAccuracy 0.951 (0.936)\n"
     ]
    },
    {
     "name": "stderr",
     "output_type": "stream",
     "text": [
      "\r",
      " 68%|██████████████████████████████████████████████████████                          | 189/280 [55:08<26:39, 17.57s/it]"
     ]
    },
    {
     "name": "stdout",
     "output_type": "stream",
     "text": [
      "Train, epoch: [3][  3/280]\tLoss 1.8235e-01 (1.8487e-01)\tAccuracy 0.938 (0.936)\n"
     ]
    },
    {
     "name": "stderr",
     "output_type": "stream",
     "text": [
      "\r",
      " 68%|██████████████████████████████████████████████████████▎                         | 190/280 [55:26<26:25, 17.61s/it]"
     ]
    },
    {
     "name": "stdout",
     "output_type": "stream",
     "text": [
      "Train, epoch: [3][  3/280]\tLoss 1.4370e-01 (1.8465e-01)\tAccuracy 0.947 (0.936)\n"
     ]
    },
    {
     "name": "stderr",
     "output_type": "stream",
     "text": [
      "\r",
      " 68%|██████████████████████████████████████████████████████▌                         | 191/280 [55:44<26:09, 17.64s/it]"
     ]
    },
    {
     "name": "stdout",
     "output_type": "stream",
     "text": [
      "Train, epoch: [3][  3/280]\tLoss 1.3680e-01 (1.8440e-01)\tAccuracy 0.953 (0.936)\n"
     ]
    },
    {
     "name": "stderr",
     "output_type": "stream",
     "text": [
      "\r",
      " 69%|██████████████████████████████████████████████████████▊                         | 192/280 [56:01<25:51, 17.63s/it]"
     ]
    },
    {
     "name": "stdout",
     "output_type": "stream",
     "text": [
      "Train, epoch: [3][  3/280]\tLoss 1.9307e-01 (1.8445e-01)\tAccuracy 0.932 (0.936)\n"
     ]
    },
    {
     "name": "stderr",
     "output_type": "stream",
     "text": [
      "\r",
      " 69%|███████████████████████████████████████████████████████▏                        | 193/280 [56:19<25:29, 17.58s/it]"
     ]
    },
    {
     "name": "stdout",
     "output_type": "stream",
     "text": [
      "Train, epoch: [3][  3/280]\tLoss 1.9184e-01 (1.8449e-01)\tAccuracy 0.936 (0.936)\n"
     ]
    },
    {
     "name": "stderr",
     "output_type": "stream",
     "text": [
      "\r",
      " 69%|███████████████████████████████████████████████████████▍                        | 194/280 [56:36<25:09, 17.55s/it]"
     ]
    },
    {
     "name": "stdout",
     "output_type": "stream",
     "text": [
      "Train, epoch: [3][  3/280]\tLoss 1.4203e-01 (1.8427e-01)\tAccuracy 0.950 (0.936)\n"
     ]
    },
    {
     "name": "stderr",
     "output_type": "stream",
     "text": [
      "\r",
      " 70%|███████████████████████████████████████████████████████▋                        | 195/280 [56:54<24:51, 17.55s/it]"
     ]
    },
    {
     "name": "stdout",
     "output_type": "stream",
     "text": [
      "Train, epoch: [3][  3/280]\tLoss 1.0744e-01 (1.8387e-01)\tAccuracy 0.962 (0.936)\n"
     ]
    },
    {
     "name": "stderr",
     "output_type": "stream",
     "text": [
      "\r",
      " 70%|████████████████████████████████████████████████████████                        | 196/280 [57:11<24:32, 17.53s/it]"
     ]
    },
    {
     "name": "stdout",
     "output_type": "stream",
     "text": [
      "Train, epoch: [3][  3/280]\tLoss 1.0872e-01 (1.8349e-01)\tAccuracy 0.961 (0.937)\n"
     ]
    },
    {
     "name": "stderr",
     "output_type": "stream",
     "text": [
      "\r",
      " 70%|████████████████████████████████████████████████████████▎                       | 197/280 [57:29<24:15, 17.54s/it]"
     ]
    },
    {
     "name": "stdout",
     "output_type": "stream",
     "text": [
      "Train, epoch: [3][  3/280]\tLoss 1.6495e-01 (1.8340e-01)\tAccuracy 0.946 (0.937)\n"
     ]
    },
    {
     "name": "stderr",
     "output_type": "stream",
     "text": [
      "\r",
      " 71%|████████████████████████████████████████████████████████▌                       | 198/280 [57:46<23:56, 17.52s/it]"
     ]
    },
    {
     "name": "stdout",
     "output_type": "stream",
     "text": [
      "Train, epoch: [3][  3/280]\tLoss 1.4916e-01 (1.8322e-01)\tAccuracy 0.947 (0.937)\n"
     ]
    },
    {
     "name": "stderr",
     "output_type": "stream",
     "text": [
      "\r",
      " 71%|████████████████████████████████████████████████████████▊                       | 199/280 [58:04<23:38, 17.51s/it]"
     ]
    },
    {
     "name": "stdout",
     "output_type": "stream",
     "text": [
      "Train, epoch: [3][  3/280]\tLoss 2.4355e-01 (1.8353e-01)\tAccuracy 0.911 (0.937)\n"
     ]
    },
    {
     "name": "stderr",
     "output_type": "stream",
     "text": [
      "\r",
      " 71%|█████████████████████████████████████████████████████████▏                      | 200/280 [58:21<23:17, 17.46s/it]"
     ]
    },
    {
     "name": "stdout",
     "output_type": "stream",
     "text": [
      "Train, epoch: [3][  3/280]\tLoss 1.8400e-01 (1.8353e-01)\tAccuracy 0.937 (0.937)\n"
     ]
    },
    {
     "name": "stderr",
     "output_type": "stream",
     "text": [
      "\r",
      " 72%|█████████████████████████████████████████████████████████▍                      | 201/280 [58:39<22:58, 17.45s/it]"
     ]
    },
    {
     "name": "stdout",
     "output_type": "stream",
     "text": [
      "Train, epoch: [3][  3/280]\tLoss 2.0125e-01 (1.8362e-01)\tAccuracy 0.932 (0.937)\n"
     ]
    },
    {
     "name": "stderr",
     "output_type": "stream",
     "text": [
      "\r",
      " 72%|█████████████████████████████████████████████████████████▋                      | 202/280 [58:56<22:40, 17.44s/it]"
     ]
    },
    {
     "name": "stdout",
     "output_type": "stream",
     "text": [
      "Train, epoch: [3][  3/280]\tLoss 2.2877e-01 (1.8384e-01)\tAccuracy 0.921 (0.936)\n"
     ]
    },
    {
     "name": "stderr",
     "output_type": "stream",
     "text": [
      "\r",
      " 72%|██████████████████████████████████████████████████████████                      | 203/280 [59:14<22:27, 17.49s/it]"
     ]
    },
    {
     "name": "stdout",
     "output_type": "stream",
     "text": [
      "Train, epoch: [3][  3/280]\tLoss 1.2162e-01 (1.8353e-01)\tAccuracy 0.958 (0.937)\n"
     ]
    },
    {
     "name": "stderr",
     "output_type": "stream",
     "text": [
      "\r",
      " 73%|██████████████████████████████████████████████████████████▎                     | 204/280 [59:31<22:09, 17.49s/it]"
     ]
    },
    {
     "name": "stdout",
     "output_type": "stream",
     "text": [
      "Train, epoch: [3][  3/280]\tLoss 1.7873e-01 (1.8351e-01)\tAccuracy 0.936 (0.937)\n"
     ]
    },
    {
     "name": "stderr",
     "output_type": "stream",
     "text": [
      "\r",
      " 73%|██████████████████████████████████████████████████████████▌                     | 205/280 [59:49<21:51, 17.49s/it]"
     ]
    },
    {
     "name": "stdout",
     "output_type": "stream",
     "text": [
      "Train, epoch: [3][  3/280]\tLoss 1.1157e-01 (1.8316e-01)\tAccuracy 0.960 (0.937)\n"
     ]
    },
    {
     "name": "stderr",
     "output_type": "stream",
     "text": [
      "\r",
      " 74%|█████████████████████████████████████████████████████████▍                    | 206/280 [1:00:06<21:31, 17.45s/it]"
     ]
    },
    {
     "name": "stdout",
     "output_type": "stream",
     "text": [
      "Train, epoch: [3][  3/280]\tLoss 1.6762e-01 (1.8308e-01)\tAccuracy 0.955 (0.937)\n"
     ]
    },
    {
     "name": "stderr",
     "output_type": "stream",
     "text": [
      "\r",
      " 74%|█████████████████████████████████████████████████████████▋                    | 207/280 [1:00:24<21:19, 17.53s/it]"
     ]
    },
    {
     "name": "stdout",
     "output_type": "stream",
     "text": [
      "Train, epoch: [3][  3/280]\tLoss 1.5328e-01 (1.8294e-01)\tAccuracy 0.947 (0.937)\n"
     ]
    },
    {
     "name": "stderr",
     "output_type": "stream",
     "text": [
      "\r",
      " 74%|█████████████████████████████████████████████████████████▉                    | 208/280 [1:00:41<20:59, 17.49s/it]"
     ]
    },
    {
     "name": "stdout",
     "output_type": "stream",
     "text": [
      "Train, epoch: [3][  3/280]\tLoss 2.4036e-01 (1.8322e-01)\tAccuracy 0.922 (0.937)\n"
     ]
    },
    {
     "name": "stderr",
     "output_type": "stream",
     "text": [
      "\r",
      " 75%|██████████████████████████████████████████████████████████▏                   | 209/280 [1:00:59<20:42, 17.50s/it]"
     ]
    },
    {
     "name": "stdout",
     "output_type": "stream",
     "text": [
      "Train, epoch: [3][  3/280]\tLoss 1.8498e-01 (1.8322e-01)\tAccuracy 0.937 (0.937)\n"
     ]
    },
    {
     "name": "stderr",
     "output_type": "stream",
     "text": [
      "\r",
      " 75%|██████████████████████████████████████████████████████████▌                   | 210/280 [1:01:16<20:24, 17.50s/it]"
     ]
    },
    {
     "name": "stdout",
     "output_type": "stream",
     "text": [
      "Train, epoch: [3][  3/280]\tLoss 2.2496e-01 (1.8342e-01)\tAccuracy 0.919 (0.937)\n"
     ]
    },
    {
     "name": "stderr",
     "output_type": "stream",
     "text": [
      "\r",
      " 75%|██████████████████████████████████████████████████████████▊                   | 211/280 [1:01:34<20:11, 17.56s/it]"
     ]
    },
    {
     "name": "stdout",
     "output_type": "stream",
     "text": [
      "Train, epoch: [3][  3/280]\tLoss 1.4450e-01 (1.8324e-01)\tAccuracy 0.951 (0.937)\n"
     ]
    },
    {
     "name": "stderr",
     "output_type": "stream",
     "text": [
      "\r",
      " 76%|███████████████████████████████████████████████████████████                   | 212/280 [1:01:51<19:50, 17.51s/it]"
     ]
    },
    {
     "name": "stdout",
     "output_type": "stream",
     "text": [
      "Train, epoch: [3][  3/280]\tLoss 1.3589e-01 (1.8301e-01)\tAccuracy 0.951 (0.937)\n"
     ]
    },
    {
     "name": "stderr",
     "output_type": "stream",
     "text": [
      "\r",
      " 76%|███████████████████████████████████████████████████████████▎                  | 213/280 [1:02:09<19:35, 17.55s/it]"
     ]
    },
    {
     "name": "stdout",
     "output_type": "stream",
     "text": [
      "Train, epoch: [3][  3/280]\tLoss 1.4565e-01 (1.8284e-01)\tAccuracy 0.948 (0.937)\n"
     ]
    },
    {
     "name": "stderr",
     "output_type": "stream",
     "text": [
      "\r",
      " 76%|███████████████████████████████████████████████████████████▌                  | 214/280 [1:02:26<19:13, 17.47s/it]"
     ]
    },
    {
     "name": "stdout",
     "output_type": "stream",
     "text": [
      "Train, epoch: [3][  3/280]\tLoss 1.3771e-01 (1.8263e-01)\tAccuracy 0.950 (0.937)\n"
     ]
    },
    {
     "name": "stderr",
     "output_type": "stream",
     "text": [
      "\r",
      " 77%|███████████████████████████████████████████████████████████▉                  | 215/280 [1:02:44<18:57, 17.49s/it]"
     ]
    },
    {
     "name": "stdout",
     "output_type": "stream",
     "text": [
      "Train, epoch: [3][  3/280]\tLoss 1.9775e-01 (1.8270e-01)\tAccuracy 0.929 (0.937)\n"
     ]
    },
    {
     "name": "stderr",
     "output_type": "stream",
     "text": [
      "\r",
      " 77%|████████████████████████████████████████████████████████████▏                 | 216/280 [1:03:01<18:40, 17.50s/it]"
     ]
    },
    {
     "name": "stdout",
     "output_type": "stream",
     "text": [
      "Train, epoch: [3][  3/280]\tLoss 1.0140e-01 (1.8232e-01)\tAccuracy 0.970 (0.937)\n"
     ]
    },
    {
     "name": "stderr",
     "output_type": "stream",
     "text": [
      "\r",
      " 78%|████████████████████████████████████████████████████████████▍                 | 217/280 [1:03:19<18:23, 17.52s/it]"
     ]
    },
    {
     "name": "stdout",
     "output_type": "stream",
     "text": [
      "Train, epoch: [3][  3/280]\tLoss 1.8166e-01 (1.8232e-01)\tAccuracy 0.943 (0.937)\n"
     ]
    },
    {
     "name": "stderr",
     "output_type": "stream",
     "text": [
      "\r",
      " 78%|████████████████████████████████████████████████████████████▋                 | 218/280 [1:03:36<18:02, 17.46s/it]"
     ]
    },
    {
     "name": "stdout",
     "output_type": "stream",
     "text": [
      "Train, epoch: [3][  3/280]\tLoss 1.8692e-01 (1.8234e-01)\tAccuracy 0.935 (0.937)\n"
     ]
    },
    {
     "name": "stderr",
     "output_type": "stream",
     "text": [
      "\r",
      " 78%|█████████████████████████████████████████████████████████████                 | 219/280 [1:03:53<17:41, 17.40s/it]"
     ]
    },
    {
     "name": "stdout",
     "output_type": "stream",
     "text": [
      "Train, epoch: [3][  3/280]\tLoss 2.0272e-01 (1.8243e-01)\tAccuracy 0.926 (0.937)\n"
     ]
    },
    {
     "name": "stderr",
     "output_type": "stream",
     "text": [
      "\r",
      " 79%|█████████████████████████████████████████████████████████████▎                | 220/280 [1:04:11<17:27, 17.46s/it]"
     ]
    },
    {
     "name": "stdout",
     "output_type": "stream",
     "text": [
      "Train, epoch: [3][  3/280]\tLoss 1.8503e-01 (1.8245e-01)\tAccuracy 0.934 (0.937)\n"
     ]
    },
    {
     "name": "stderr",
     "output_type": "stream",
     "text": [
      "\r",
      " 79%|█████████████████████████████████████████████████████████████▌                | 221/280 [1:04:28<17:11, 17.48s/it]"
     ]
    },
    {
     "name": "stdout",
     "output_type": "stream",
     "text": [
      "Train, epoch: [3][  3/280]\tLoss 2.5903e-01 (1.8279e-01)\tAccuracy 0.908 (0.937)\n"
     ]
    },
    {
     "name": "stderr",
     "output_type": "stream",
     "text": [
      "\r",
      " 79%|█████████████████████████████████████████████████████████████▊                | 222/280 [1:04:46<16:55, 17.51s/it]"
     ]
    },
    {
     "name": "stdout",
     "output_type": "stream",
     "text": [
      "Train, epoch: [3][  3/280]\tLoss 1.1382e-01 (1.8248e-01)\tAccuracy 0.960 (0.937)\n"
     ]
    },
    {
     "name": "stderr",
     "output_type": "stream",
     "text": [
      "\r",
      " 80%|██████████████████████████████████████████████████████████████                | 223/280 [1:05:04<16:39, 17.54s/it]"
     ]
    },
    {
     "name": "stdout",
     "output_type": "stream",
     "text": [
      "Train, epoch: [3][  3/280]\tLoss 1.6148e-01 (1.8239e-01)\tAccuracy 0.942 (0.937)\n"
     ]
    },
    {
     "name": "stderr",
     "output_type": "stream",
     "text": [
      "\r",
      " 80%|██████████████████████████████████████████████████████████████▍               | 224/280 [1:05:21<16:19, 17.50s/it]"
     ]
    },
    {
     "name": "stdout",
     "output_type": "stream",
     "text": [
      "Train, epoch: [3][  3/280]\tLoss 2.3414e-01 (1.8262e-01)\tAccuracy 0.918 (0.937)\n"
     ]
    },
    {
     "name": "stderr",
     "output_type": "stream",
     "text": [
      "\r",
      " 80%|██████████████████████████████████████████████████████████████▋               | 225/280 [1:05:38<16:01, 17.48s/it]"
     ]
    },
    {
     "name": "stdout",
     "output_type": "stream",
     "text": [
      "Train, epoch: [3][  3/280]\tLoss 1.0080e-01 (1.8225e-01)\tAccuracy 0.964 (0.937)\n"
     ]
    },
    {
     "name": "stderr",
     "output_type": "stream",
     "text": [
      "\r",
      " 81%|██████████████████████████████████████████████████████████████▉               | 226/280 [1:05:56<15:43, 17.47s/it]"
     ]
    },
    {
     "name": "stdout",
     "output_type": "stream",
     "text": [
      "Train, epoch: [3][  3/280]\tLoss 2.1441e-01 (1.8240e-01)\tAccuracy 0.920 (0.937)\n"
     ]
    },
    {
     "name": "stderr",
     "output_type": "stream",
     "text": [
      "\r",
      " 81%|███████████████████████████████████████████████████████████████▏              | 227/280 [1:06:14<15:29, 17.53s/it]"
     ]
    },
    {
     "name": "stdout",
     "output_type": "stream",
     "text": [
      "Train, epoch: [3][  3/280]\tLoss 1.5295e-01 (1.8227e-01)\tAccuracy 0.946 (0.937)\n"
     ]
    },
    {
     "name": "stderr",
     "output_type": "stream",
     "text": [
      "\r",
      " 81%|███████████████████████████████████████████████████████████████▌              | 228/280 [1:06:31<15:10, 17.50s/it]"
     ]
    },
    {
     "name": "stdout",
     "output_type": "stream",
     "text": [
      "Train, epoch: [3][  3/280]\tLoss 1.2953e-01 (1.8204e-01)\tAccuracy 0.955 (0.937)\n"
     ]
    },
    {
     "name": "stderr",
     "output_type": "stream",
     "text": [
      "\r",
      " 82%|███████████████████████████████████████████████████████████████▊              | 229/280 [1:06:49<14:51, 17.49s/it]"
     ]
    },
    {
     "name": "stdout",
     "output_type": "stream",
     "text": [
      "Train, epoch: [3][  3/280]\tLoss 2.1020e-01 (1.8216e-01)\tAccuracy 0.924 (0.937)\n"
     ]
    },
    {
     "name": "stderr",
     "output_type": "stream",
     "text": [
      "\r",
      " 82%|████████████████████████████████████████████████████████████████              | 230/280 [1:07:06<14:34, 17.50s/it]"
     ]
    },
    {
     "name": "stdout",
     "output_type": "stream",
     "text": [
      "Train, epoch: [3][  3/280]\tLoss 1.5513e-01 (1.8204e-01)\tAccuracy 0.945 (0.937)\n"
     ]
    },
    {
     "name": "stderr",
     "output_type": "stream",
     "text": [
      "\r",
      " 82%|████████████████████████████████████████████████████████████████▎             | 231/280 [1:07:24<14:18, 17.51s/it]"
     ]
    },
    {
     "name": "stdout",
     "output_type": "stream",
     "text": [
      "Train, epoch: [3][  3/280]\tLoss 1.6586e-01 (1.8197e-01)\tAccuracy 0.940 (0.937)\n"
     ]
    },
    {
     "name": "stderr",
     "output_type": "stream",
     "text": [
      "\r",
      " 83%|████████████████████████████████████████████████████████████████▋             | 232/280 [1:07:41<13:59, 17.49s/it]"
     ]
    },
    {
     "name": "stdout",
     "output_type": "stream",
     "text": [
      "Train, epoch: [3][  3/280]\tLoss 1.9144e-01 (1.8201e-01)\tAccuracy 0.933 (0.937)\n"
     ]
    },
    {
     "name": "stderr",
     "output_type": "stream",
     "text": [
      "\r",
      " 83%|████████████████████████████████████████████████████████████████▉             | 233/280 [1:07:59<13:44, 17.55s/it]"
     ]
    },
    {
     "name": "stdout",
     "output_type": "stream",
     "text": [
      "Train, epoch: [3][  3/280]\tLoss 1.8673e-01 (1.8203e-01)\tAccuracy 0.934 (0.937)\n"
     ]
    },
    {
     "name": "stderr",
     "output_type": "stream",
     "text": [
      "\r",
      " 84%|█████████████████████████████████████████████████████████████████▏            | 234/280 [1:08:16<13:27, 17.56s/it]"
     ]
    },
    {
     "name": "stdout",
     "output_type": "stream",
     "text": [
      "Train, epoch: [3][  3/280]\tLoss 1.4781e-01 (1.8189e-01)\tAccuracy 0.950 (0.937)\n"
     ]
    },
    {
     "name": "stderr",
     "output_type": "stream",
     "text": [
      "\r",
      " 84%|█████████████████████████████████████████████████████████████████▍            | 235/280 [1:08:34<13:09, 17.54s/it]"
     ]
    },
    {
     "name": "stdout",
     "output_type": "stream",
     "text": [
      "Train, epoch: [3][  3/280]\tLoss 1.9015e-01 (1.8192e-01)\tAccuracy 0.932 (0.937)\n"
     ]
    },
    {
     "name": "stderr",
     "output_type": "stream",
     "text": [
      "\r",
      " 84%|█████████████████████████████████████████████████████████████████▋            | 236/280 [1:08:51<12:51, 17.54s/it]"
     ]
    },
    {
     "name": "stdout",
     "output_type": "stream",
     "text": [
      "Train, epoch: [3][  3/280]\tLoss 1.7941e-01 (1.8191e-01)\tAccuracy 0.935 (0.937)\n"
     ]
    },
    {
     "name": "stderr",
     "output_type": "stream",
     "text": [
      "\r",
      " 85%|██████████████████████████████████████████████████████████████████            | 237/280 [1:09:09<12:33, 17.53s/it]"
     ]
    },
    {
     "name": "stdout",
     "output_type": "stream",
     "text": [
      "Train, epoch: [3][  3/280]\tLoss 8.7426e-02 (1.8151e-01)\tAccuracy 0.970 (0.937)\n"
     ]
    },
    {
     "name": "stderr",
     "output_type": "stream",
     "text": [
      "\r",
      " 85%|██████████████████████████████████████████████████████████████████▎           | 238/280 [1:09:26<12:17, 17.56s/it]"
     ]
    },
    {
     "name": "stdout",
     "output_type": "stream",
     "text": [
      "Train, epoch: [3][  3/280]\tLoss 1.3376e-01 (1.8131e-01)\tAccuracy 0.953 (0.937)\n"
     ]
    },
    {
     "name": "stderr",
     "output_type": "stream",
     "text": [
      "\r",
      " 85%|██████████████████████████████████████████████████████████████████▌           | 239/280 [1:09:44<11:57, 17.50s/it]"
     ]
    },
    {
     "name": "stdout",
     "output_type": "stream",
     "text": [
      "Train, epoch: [3][  3/280]\tLoss 1.8466e-01 (1.8132e-01)\tAccuracy 0.937 (0.937)\n"
     ]
    },
    {
     "name": "stderr",
     "output_type": "stream",
     "text": [
      "\r",
      " 86%|██████████████████████████████████████████████████████████████████▊           | 240/280 [1:10:01<11:38, 17.46s/it]"
     ]
    },
    {
     "name": "stdout",
     "output_type": "stream",
     "text": [
      "Train, epoch: [3][  3/280]\tLoss 1.9529e-01 (1.8138e-01)\tAccuracy 0.926 (0.937)\n"
     ]
    },
    {
     "name": "stderr",
     "output_type": "stream",
     "text": [
      "\r",
      " 86%|███████████████████████████████████████████████████████████████████▏          | 241/280 [1:10:19<11:22, 17.51s/it]"
     ]
    },
    {
     "name": "stdout",
     "output_type": "stream",
     "text": [
      "Train, epoch: [3][  3/280]\tLoss 1.8258e-01 (1.8139e-01)\tAccuracy 0.940 (0.937)\n"
     ]
    },
    {
     "name": "stderr",
     "output_type": "stream",
     "text": [
      "\r",
      " 86%|███████████████████████████████████████████████████████████████████▍          | 242/280 [1:10:36<11:04, 17.49s/it]"
     ]
    },
    {
     "name": "stdout",
     "output_type": "stream",
     "text": [
      "Train, epoch: [3][  3/280]\tLoss 2.1035e-01 (1.8151e-01)\tAccuracy 0.926 (0.937)\n"
     ]
    },
    {
     "name": "stderr",
     "output_type": "stream",
     "text": [
      "\r",
      " 87%|███████████████████████████████████████████████████████████████████▋          | 243/280 [1:10:54<10:47, 17.50s/it]"
     ]
    },
    {
     "name": "stdout",
     "output_type": "stream",
     "text": [
      "Train, epoch: [3][  3/280]\tLoss 1.3623e-01 (1.8132e-01)\tAccuracy 0.949 (0.937)\n"
     ]
    },
    {
     "name": "stderr",
     "output_type": "stream",
     "text": [
      "\r",
      " 87%|███████████████████████████████████████████████████████████████████▉          | 244/280 [1:11:11<10:31, 17.54s/it]"
     ]
    },
    {
     "name": "stdout",
     "output_type": "stream",
     "text": [
      "Train, epoch: [3][  3/280]\tLoss 1.6524e-01 (1.8126e-01)\tAccuracy 0.945 (0.937)\n"
     ]
    },
    {
     "name": "stderr",
     "output_type": "stream",
     "text": [
      "\r",
      " 88%|████████████████████████████████████████████████████████████████████▎         | 245/280 [1:11:29<10:13, 17.52s/it]"
     ]
    },
    {
     "name": "stdout",
     "output_type": "stream",
     "text": [
      "Train, epoch: [3][  3/280]\tLoss 1.5823e-01 (1.8116e-01)\tAccuracy 0.950 (0.937)\n"
     ]
    },
    {
     "name": "stderr",
     "output_type": "stream",
     "text": [
      "\r",
      " 88%|████████████████████████████████████████████████████████████████████▌         | 246/280 [1:11:46<09:54, 17.49s/it]"
     ]
    },
    {
     "name": "stdout",
     "output_type": "stream",
     "text": [
      "Train, epoch: [3][  3/280]\tLoss 2.0514e-01 (1.8126e-01)\tAccuracy 0.928 (0.937)\n"
     ]
    },
    {
     "name": "stderr",
     "output_type": "stream",
     "text": [
      "\r",
      " 88%|████████████████████████████████████████████████████████████████████▊         | 247/280 [1:12:04<09:37, 17.49s/it]"
     ]
    },
    {
     "name": "stdout",
     "output_type": "stream",
     "text": [
      "Train, epoch: [3][  3/280]\tLoss 1.5956e-01 (1.8117e-01)\tAccuracy 0.942 (0.937)\n"
     ]
    },
    {
     "name": "stderr",
     "output_type": "stream",
     "text": [
      "\r",
      " 89%|█████████████████████████████████████████████████████████████████████         | 248/280 [1:12:21<09:18, 17.45s/it]"
     ]
    },
    {
     "name": "stdout",
     "output_type": "stream",
     "text": [
      "Train, epoch: [3][  3/280]\tLoss 1.2325e-01 (1.8094e-01)\tAccuracy 0.957 (0.937)\n"
     ]
    },
    {
     "name": "stderr",
     "output_type": "stream",
     "text": [
      "\r",
      " 89%|█████████████████████████████████████████████████████████████████████▎        | 249/280 [1:12:39<09:00, 17.44s/it]"
     ]
    },
    {
     "name": "stdout",
     "output_type": "stream",
     "text": [
      "Train, epoch: [3][  3/280]\tLoss 1.5150e-01 (1.8082e-01)\tAccuracy 0.945 (0.937)\n"
     ]
    },
    {
     "name": "stderr",
     "output_type": "stream",
     "text": [
      "\r",
      " 89%|█████████████████████████████████████████████████████████████████████▋        | 250/280 [1:12:56<08:43, 17.47s/it]"
     ]
    },
    {
     "name": "stdout",
     "output_type": "stream",
     "text": [
      "Train, epoch: [3][  3/280]\tLoss 1.3475e-01 (1.8064e-01)\tAccuracy 0.950 (0.937)\n"
     ]
    },
    {
     "name": "stderr",
     "output_type": "stream",
     "text": [
      "\r",
      " 90%|█████████████████████████████████████████████████████████████████████▉        | 251/280 [1:13:14<08:27, 17.50s/it]"
     ]
    },
    {
     "name": "stdout",
     "output_type": "stream",
     "text": [
      "Train, epoch: [3][  3/280]\tLoss 2.0940e-01 (1.8075e-01)\tAccuracy 0.927 (0.937)\n"
     ]
    },
    {
     "name": "stderr",
     "output_type": "stream",
     "text": [
      "\r",
      " 90%|██████████████████████████████████████████████████████████████████████▏       | 252/280 [1:13:31<08:10, 17.52s/it]"
     ]
    },
    {
     "name": "stdout",
     "output_type": "stream",
     "text": [
      "Train, epoch: [3][  3/280]\tLoss 1.6097e-01 (1.8067e-01)\tAccuracy 0.944 (0.937)\n"
     ]
    },
    {
     "name": "stderr",
     "output_type": "stream",
     "text": [
      "\r",
      " 90%|██████████████████████████████████████████████████████████████████████▍       | 253/280 [1:13:49<07:53, 17.54s/it]"
     ]
    },
    {
     "name": "stdout",
     "output_type": "stream",
     "text": [
      "Train, epoch: [3][  3/280]\tLoss 2.3572e-01 (1.8089e-01)\tAccuracy 0.924 (0.937)\n"
     ]
    },
    {
     "name": "stderr",
     "output_type": "stream",
     "text": [
      "\r",
      " 91%|██████████████████████████████████████████████████████████████████████▊       | 254/280 [1:14:06<07:33, 17.46s/it]"
     ]
    },
    {
     "name": "stdout",
     "output_type": "stream",
     "text": [
      "Train, epoch: [3][  3/280]\tLoss 1.1835e-01 (1.8064e-01)\tAccuracy 0.956 (0.937)\n"
     ]
    },
    {
     "name": "stderr",
     "output_type": "stream",
     "text": [
      "\r",
      " 91%|███████████████████████████████████████████████████████████████████████       | 255/280 [1:14:24<07:16, 17.45s/it]"
     ]
    },
    {
     "name": "stdout",
     "output_type": "stream",
     "text": [
      "Train, epoch: [3][  3/280]\tLoss 1.3939e-01 (1.8048e-01)\tAccuracy 0.950 (0.937)\n"
     ]
    },
    {
     "name": "stderr",
     "output_type": "stream",
     "text": [
      "\r",
      " 91%|███████████████████████████████████████████████████████████████████████▎      | 256/280 [1:14:41<06:59, 17.48s/it]"
     ]
    },
    {
     "name": "stdout",
     "output_type": "stream",
     "text": [
      "Train, epoch: [3][  3/280]\tLoss 2.5433e-01 (1.8077e-01)\tAccuracy 0.922 (0.937)\n"
     ]
    },
    {
     "name": "stderr",
     "output_type": "stream",
     "text": [
      "\r",
      " 92%|███████████████████████████████████████████████████████████████████████▌      | 257/280 [1:14:59<06:43, 17.53s/it]"
     ]
    },
    {
     "name": "stdout",
     "output_type": "stream",
     "text": [
      "Train, epoch: [3][  3/280]\tLoss 1.6376e-01 (1.8070e-01)\tAccuracy 0.947 (0.937)\n"
     ]
    },
    {
     "name": "stderr",
     "output_type": "stream",
     "text": [
      "\r",
      " 92%|███████████████████████████████████████████████████████████████████████▊      | 258/280 [1:15:16<06:24, 17.49s/it]"
     ]
    },
    {
     "name": "stdout",
     "output_type": "stream",
     "text": [
      "Train, epoch: [3][  3/280]\tLoss 1.7022e-01 (1.8066e-01)\tAccuracy 0.939 (0.937)\n"
     ]
    },
    {
     "name": "stderr",
     "output_type": "stream",
     "text": [
      "\r",
      " 92%|████████████████████████████████████████████████████████████████████████▏     | 259/280 [1:15:34<06:07, 17.48s/it]"
     ]
    },
    {
     "name": "stdout",
     "output_type": "stream",
     "text": [
      "Train, epoch: [3][  3/280]\tLoss 1.9822e-01 (1.8073e-01)\tAccuracy 0.932 (0.937)\n"
     ]
    },
    {
     "name": "stderr",
     "output_type": "stream",
     "text": [
      "\r",
      " 93%|████████████████████████████████████████████████████████████████████████▍     | 260/280 [1:15:51<05:50, 17.52s/it]"
     ]
    },
    {
     "name": "stdout",
     "output_type": "stream",
     "text": [
      "Train, epoch: [3][  3/280]\tLoss 1.9864e-01 (1.8080e-01)\tAccuracy 0.931 (0.937)\n"
     ]
    },
    {
     "name": "stderr",
     "output_type": "stream",
     "text": [
      "\r",
      " 93%|████████████████████████████████████████████████████████████████████████▋     | 261/280 [1:16:09<05:32, 17.50s/it]"
     ]
    },
    {
     "name": "stdout",
     "output_type": "stream",
     "text": [
      "Train, epoch: [3][  3/280]\tLoss 1.2373e-01 (1.8058e-01)\tAccuracy 0.955 (0.937)\n"
     ]
    },
    {
     "name": "stderr",
     "output_type": "stream",
     "text": [
      "\r",
      " 94%|████████████████████████████████████████████████████████████████████████▉     | 262/280 [1:16:26<05:14, 17.50s/it]"
     ]
    },
    {
     "name": "stdout",
     "output_type": "stream",
     "text": [
      "Train, epoch: [3][  3/280]\tLoss 1.0345e-01 (1.8029e-01)\tAccuracy 0.962 (0.938)\n"
     ]
    },
    {
     "name": "stderr",
     "output_type": "stream",
     "text": [
      "\r",
      " 94%|█████████████████████████████████████████████████████████████████████████▎    | 263/280 [1:16:44<04:57, 17.48s/it]"
     ]
    },
    {
     "name": "stdout",
     "output_type": "stream",
     "text": [
      "Train, epoch: [3][  3/280]\tLoss 1.2784e-01 (1.8009e-01)\tAccuracy 0.955 (0.938)\n"
     ]
    },
    {
     "name": "stderr",
     "output_type": "stream",
     "text": [
      "\r",
      " 94%|█████████████████████████████████████████████████████████████████████████▌    | 264/280 [1:17:01<04:39, 17.47s/it]"
     ]
    },
    {
     "name": "stdout",
     "output_type": "stream",
     "text": [
      "Train, epoch: [3][  3/280]\tLoss 1.2895e-01 (1.7989e-01)\tAccuracy 0.956 (0.938)\n"
     ]
    },
    {
     "name": "stderr",
     "output_type": "stream",
     "text": [
      "\r",
      " 95%|█████████████████████████████████████████████████████████████████████████▊    | 265/280 [1:17:18<04:22, 17.47s/it]"
     ]
    },
    {
     "name": "stdout",
     "output_type": "stream",
     "text": [
      "Train, epoch: [3][  3/280]\tLoss 1.2953e-01 (1.7970e-01)\tAccuracy 0.957 (0.938)\n"
     ]
    },
    {
     "name": "stderr",
     "output_type": "stream",
     "text": [
      "\r",
      " 95%|██████████████████████████████████████████████████████████████████████████    | 266/280 [1:17:36<04:05, 17.52s/it]"
     ]
    },
    {
     "name": "stdout",
     "output_type": "stream",
     "text": [
      "Train, epoch: [3][  3/280]\tLoss 1.8757e-01 (1.7973e-01)\tAccuracy 0.931 (0.938)\n"
     ]
    },
    {
     "name": "stderr",
     "output_type": "stream",
     "text": [
      "\r",
      " 95%|██████████████████████████████████████████████████████████████████████████▍   | 267/280 [1:17:53<03:46, 17.44s/it]"
     ]
    },
    {
     "name": "stdout",
     "output_type": "stream",
     "text": [
      "Train, epoch: [3][  3/280]\tLoss 1.4964e-01 (1.7962e-01)\tAccuracy 0.948 (0.938)\n"
     ]
    },
    {
     "name": "stderr",
     "output_type": "stream",
     "text": [
      "\r",
      " 96%|██████████████████████████████████████████████████████████████████████████▋   | 268/280 [1:18:11<03:29, 17.48s/it]"
     ]
    },
    {
     "name": "stdout",
     "output_type": "stream",
     "text": [
      "Train, epoch: [3][  3/280]\tLoss 1.0802e-01 (1.7935e-01)\tAccuracy 0.960 (0.938)\n"
     ]
    },
    {
     "name": "stderr",
     "output_type": "stream",
     "text": [
      "\r",
      " 96%|██████████████████████████████████████████████████████████████████████████▉   | 269/280 [1:18:29<03:12, 17.51s/it]"
     ]
    },
    {
     "name": "stdout",
     "output_type": "stream",
     "text": [
      "Train, epoch: [3][  3/280]\tLoss 2.1843e-01 (1.7950e-01)\tAccuracy 0.924 (0.938)\n"
     ]
    },
    {
     "name": "stderr",
     "output_type": "stream",
     "text": [
      "\r",
      " 96%|███████████████████████████████████████████████████████████████████████████▏  | 270/280 [1:18:46<02:55, 17.57s/it]"
     ]
    },
    {
     "name": "stdout",
     "output_type": "stream",
     "text": [
      "Train, epoch: [3][  3/280]\tLoss 2.1162e-01 (1.7962e-01)\tAccuracy 0.926 (0.938)\n"
     ]
    },
    {
     "name": "stderr",
     "output_type": "stream",
     "text": [
      "\r",
      " 97%|███████████████████████████████████████████████████████████████████████████▍  | 271/280 [1:19:04<02:38, 17.58s/it]"
     ]
    },
    {
     "name": "stdout",
     "output_type": "stream",
     "text": [
      "Train, epoch: [3][  3/280]\tLoss 1.6009e-01 (1.7954e-01)\tAccuracy 0.951 (0.938)\n"
     ]
    },
    {
     "name": "stderr",
     "output_type": "stream",
     "text": [
      "\r",
      " 97%|███████████████████████████████████████████████████████████████████████████▊  | 272/280 [1:19:21<02:20, 17.55s/it]"
     ]
    },
    {
     "name": "stdout",
     "output_type": "stream",
     "text": [
      "Train, epoch: [3][  3/280]\tLoss 1.4553e-01 (1.7942e-01)\tAccuracy 0.949 (0.938)\n"
     ]
    },
    {
     "name": "stderr",
     "output_type": "stream",
     "text": [
      "\r",
      " 98%|████████████████████████████████████████████████████████████████████████████  | 273/280 [1:19:39<02:02, 17.53s/it]"
     ]
    },
    {
     "name": "stdout",
     "output_type": "stream",
     "text": [
      "Train, epoch: [3][  3/280]\tLoss 1.5139e-01 (1.7932e-01)\tAccuracy 0.947 (0.938)\n"
     ]
    },
    {
     "name": "stderr",
     "output_type": "stream",
     "text": [
      "\r",
      " 98%|████████████████████████████████████████████████████████████████████████████▎ | 274/280 [1:19:56<01:44, 17.45s/it]"
     ]
    },
    {
     "name": "stdout",
     "output_type": "stream",
     "text": [
      "Train, epoch: [3][  3/280]\tLoss 1.8578e-01 (1.7934e-01)\tAccuracy 0.936 (0.938)\n"
     ]
    },
    {
     "name": "stderr",
     "output_type": "stream",
     "text": [
      "\r",
      " 98%|████████████████████████████████████████████████████████████████████████████▌ | 275/280 [1:20:13<01:27, 17.43s/it]"
     ]
    },
    {
     "name": "stdout",
     "output_type": "stream",
     "text": [
      "Train, epoch: [3][  3/280]\tLoss 1.0390e-01 (1.7907e-01)\tAccuracy 0.963 (0.938)\n"
     ]
    },
    {
     "name": "stderr",
     "output_type": "stream",
     "text": [
      "\r",
      " 99%|████████████████████████████████████████████████████████████████████████████▉ | 276/280 [1:20:31<01:09, 17.44s/it]"
     ]
    },
    {
     "name": "stdout",
     "output_type": "stream",
     "text": [
      "Train, epoch: [3][  3/280]\tLoss 1.3002e-01 (1.7889e-01)\tAccuracy 0.954 (0.938)\n"
     ]
    },
    {
     "name": "stderr",
     "output_type": "stream",
     "text": [
      "\r",
      " 99%|█████████████████████████████████████████████████████████████████████████████▏| 277/280 [1:20:48<00:52, 17.47s/it]"
     ]
    },
    {
     "name": "stdout",
     "output_type": "stream",
     "text": [
      "Train, epoch: [3][  3/280]\tLoss 1.6837e-01 (1.7885e-01)\tAccuracy 0.941 (0.938)\n"
     ]
    },
    {
     "name": "stderr",
     "output_type": "stream",
     "text": [
      "\r",
      " 99%|█████████████████████████████████████████████████████████████████████████████▍| 278/280 [1:21:06<00:35, 17.51s/it]"
     ]
    },
    {
     "name": "stdout",
     "output_type": "stream",
     "text": [
      "Train, epoch: [3][  3/280]\tLoss 1.4993e-01 (1.7875e-01)\tAccuracy 0.953 (0.938)\n"
     ]
    },
    {
     "name": "stderr",
     "output_type": "stream",
     "text": [
      "\r",
      "100%|█████████████████████████████████████████████████████████████████████████████▋| 279/280 [1:21:24<00:17, 17.53s/it]"
     ]
    },
    {
     "name": "stdout",
     "output_type": "stream",
     "text": [
      "Train, epoch: [3][  3/280]\tLoss 2.9437e-01 (1.7916e-01)\tAccuracy 0.899 (0.938)\n"
     ]
    },
    {
     "name": "stderr",
     "output_type": "stream",
     "text": [
      "100%|██████████████████████████████████████████████████████████████████████████████| 280/280 [1:21:41<00:00, 17.51s/it]"
     ]
    },
    {
     "name": "stdout",
     "output_type": "stream",
     "text": [
      "Train, epoch: [3][  3/280]\tLoss 1.5766e-01 (1.7908e-01)\tAccuracy 0.946 (0.938)\n",
      "classes           IoU\n",
      "---------------------\n",
      "Pole          : 0.302\n",
      "SignSymbol    : 0.668\n",
      "Bicyclist     : 0.788\n",
      "Pedestrian    : 0.628\n",
      "Building      : 0.917\n",
      "Fence         : 0.777\n",
      "Pavement      : 0.877\n",
      "Road          : 0.973\n",
      "Car           : 0.890\n",
      "Sky           : 0.927\n",
      "Tree          : 0.853\n",
      "---------------------\n",
      "Mean IoU      : 0.782\n",
      "---------------------\n"
     ]
    },
    {
     "name": "stderr",
     "output_type": "stream",
     "text": [
      "\n",
      "  0%|                                                                                          | 0/280 [00:00<?, ?it/s]"
     ]
    },
    {
     "name": "stdout",
     "output_type": "stream",
     "text": [
      "mIoU improved from 0.7487 to 0.7818.\n",
      "epoch  3\n",
      "loss : 0.1791   acc : 0.9380   miou : 0.7818\n"
     ]
    },
    {
     "name": "stderr",
     "output_type": "stream",
     "text": [
      "\r",
      "  0%|▎                                                                               | 1/280 [00:17<1:22:25, 17.73s/it]"
     ]
    },
    {
     "name": "stdout",
     "output_type": "stream",
     "text": [
      "Train, epoch: [4][  4/280]\tLoss 1.3441e-01 (1.3441e-01)\tAccuracy 0.952 (0.952)\n"
     ]
    },
    {
     "name": "stderr",
     "output_type": "stream",
     "text": [
      "\r",
      "  1%|▌                                                                               | 2/280 [00:35<1:21:30, 17.59s/it]"
     ]
    },
    {
     "name": "stdout",
     "output_type": "stream",
     "text": [
      "Train, epoch: [4][  4/280]\tLoss 1.0479e-01 (1.1960e-01)\tAccuracy 0.963 (0.957)\n"
     ]
    },
    {
     "name": "stderr",
     "output_type": "stream",
     "text": [
      "\r",
      "  1%|▊                                                                               | 3/280 [00:52<1:20:57, 17.54s/it]"
     ]
    },
    {
     "name": "stdout",
     "output_type": "stream",
     "text": [
      "Train, epoch: [4][  4/280]\tLoss 1.8046e-01 (1.3988e-01)\tAccuracy 0.935 (0.950)\n"
     ]
    },
    {
     "name": "stderr",
     "output_type": "stream",
     "text": [
      "\r",
      "  1%|█▏                                                                              | 4/280 [01:10<1:20:35, 17.52s/it]"
     ]
    },
    {
     "name": "stdout",
     "output_type": "stream",
     "text": [
      "Train, epoch: [4][  4/280]\tLoss 2.4243e-01 (1.6552e-01)\tAccuracy 0.913 (0.940)\n"
     ]
    },
    {
     "name": "stderr",
     "output_type": "stream",
     "text": [
      "\r",
      "  2%|█▍                                                                              | 5/280 [01:27<1:20:16, 17.51s/it]"
     ]
    },
    {
     "name": "stdout",
     "output_type": "stream",
     "text": [
      "Train, epoch: [4][  4/280]\tLoss 1.1242e-01 (1.5490e-01)\tAccuracy 0.960 (0.944)\n"
     ]
    },
    {
     "name": "stderr",
     "output_type": "stream",
     "text": [
      "\r",
      "  2%|█▋                                                                              | 6/280 [01:45<1:20:12, 17.57s/it]"
     ]
    },
    {
     "name": "stdout",
     "output_type": "stream",
     "text": [
      "Train, epoch: [4][  4/280]\tLoss 1.2847e-01 (1.5049e-01)\tAccuracy 0.953 (0.946)\n"
     ]
    },
    {
     "name": "stderr",
     "output_type": "stream",
     "text": [
      "\r",
      "  2%|██                                                                              | 7/280 [02:02<1:19:58, 17.58s/it]"
     ]
    },
    {
     "name": "stdout",
     "output_type": "stream",
     "text": [
      "Train, epoch: [4][  4/280]\tLoss 2.1019e-01 (1.5902e-01)\tAccuracy 0.924 (0.943)\n"
     ]
    },
    {
     "name": "stderr",
     "output_type": "stream",
     "text": [
      "\r",
      "  3%|██▎                                                                             | 8/280 [02:20<1:19:27, 17.53s/it]"
     ]
    },
    {
     "name": "stdout",
     "output_type": "stream",
     "text": [
      "Train, epoch: [4][  4/280]\tLoss 1.5371e-01 (1.5836e-01)\tAccuracy 0.943 (0.943)\n"
     ]
    },
    {
     "name": "stderr",
     "output_type": "stream",
     "text": [
      "\r",
      "  3%|██▌                                                                             | 9/280 [02:37<1:19:13, 17.54s/it]"
     ]
    },
    {
     "name": "stdout",
     "output_type": "stream",
     "text": [
      "Train, epoch: [4][  4/280]\tLoss 9.8493e-02 (1.5171e-01)\tAccuracy 0.965 (0.945)\n"
     ]
    },
    {
     "name": "stderr",
     "output_type": "stream",
     "text": [
      "\r",
      "  4%|██▊                                                                            | 10/280 [02:55<1:18:48, 17.51s/it]"
     ]
    },
    {
     "name": "stdout",
     "output_type": "stream",
     "text": [
      "Train, epoch: [4][  4/280]\tLoss 2.1759e-01 (1.5830e-01)\tAccuracy 0.923 (0.943)\n"
     ]
    },
    {
     "name": "stderr",
     "output_type": "stream",
     "text": [
      "\r",
      "  4%|███                                                                            | 11/280 [03:12<1:18:35, 17.53s/it]"
     ]
    },
    {
     "name": "stdout",
     "output_type": "stream",
     "text": [
      "Train, epoch: [4][  4/280]\tLoss 2.2256e-01 (1.6414e-01)\tAccuracy 0.923 (0.941)\n"
     ]
    },
    {
     "name": "stderr",
     "output_type": "stream",
     "text": [
      "\r",
      "  4%|███▍                                                                           | 12/280 [03:30<1:18:30, 17.58s/it]"
     ]
    },
    {
     "name": "stdout",
     "output_type": "stream",
     "text": [
      "Train, epoch: [4][  4/280]\tLoss 9.3405e-02 (1.5824e-01)\tAccuracy 0.967 (0.943)\n"
     ]
    },
    {
     "name": "stderr",
     "output_type": "stream",
     "text": [
      "\r",
      "  5%|███▋                                                                           | 13/280 [03:48<1:18:08, 17.56s/it]"
     ]
    },
    {
     "name": "stdout",
     "output_type": "stream",
     "text": [
      "Train, epoch: [4][  4/280]\tLoss 1.6221e-01 (1.5855e-01)\tAccuracy 0.943 (0.943)\n"
     ]
    },
    {
     "name": "stderr",
     "output_type": "stream",
     "text": [
      "\r",
      "  5%|███▉                                                                           | 14/280 [04:05<1:17:47, 17.55s/it]"
     ]
    },
    {
     "name": "stdout",
     "output_type": "stream",
     "text": [
      "Train, epoch: [4][  4/280]\tLoss 1.4700e-01 (1.5772e-01)\tAccuracy 0.948 (0.944)\n"
     ]
    },
    {
     "name": "stderr",
     "output_type": "stream",
     "text": [
      "\r",
      "  5%|████▏                                                                          | 15/280 [04:23<1:17:27, 17.54s/it]"
     ]
    },
    {
     "name": "stdout",
     "output_type": "stream",
     "text": [
      "Train, epoch: [4][  4/280]\tLoss 1.2144e-01 (1.5531e-01)\tAccuracy 0.961 (0.945)\n"
     ]
    },
    {
     "name": "stderr",
     "output_type": "stream",
     "text": [
      "\r",
      "  6%|████▌                                                                          | 16/280 [04:40<1:17:07, 17.53s/it]"
     ]
    },
    {
     "name": "stdout",
     "output_type": "stream",
     "text": [
      "Train, epoch: [4][  4/280]\tLoss 9.5752e-02 (1.5158e-01)\tAccuracy 0.964 (0.946)\n"
     ]
    },
    {
     "name": "stderr",
     "output_type": "stream",
     "text": [
      "\r",
      "  6%|████▊                                                                          | 17/280 [04:58<1:16:48, 17.52s/it]"
     ]
    },
    {
     "name": "stdout",
     "output_type": "stream",
     "text": [
      "Train, epoch: [4][  4/280]\tLoss 1.0102e-01 (1.4861e-01)\tAccuracy 0.963 (0.947)\n"
     ]
    },
    {
     "name": "stderr",
     "output_type": "stream",
     "text": [
      "\r",
      "  6%|█████                                                                          | 18/280 [05:15<1:16:33, 17.53s/it]"
     ]
    },
    {
     "name": "stdout",
     "output_type": "stream",
     "text": [
      "Train, epoch: [4][  4/280]\tLoss 1.9521e-01 (1.5120e-01)\tAccuracy 0.930 (0.946)\n"
     ]
    },
    {
     "name": "stderr",
     "output_type": "stream",
     "text": [
      "\r",
      "  7%|█████▎                                                                         | 19/280 [05:33<1:16:07, 17.50s/it]"
     ]
    },
    {
     "name": "stdout",
     "output_type": "stream",
     "text": [
      "Train, epoch: [4][  4/280]\tLoss 1.5089e-01 (1.5118e-01)\tAccuracy 0.943 (0.946)\n"
     ]
    },
    {
     "name": "stderr",
     "output_type": "stream",
     "text": [
      "\r",
      "  7%|█████▋                                                                         | 20/280 [05:50<1:15:44, 17.48s/it]"
     ]
    },
    {
     "name": "stdout",
     "output_type": "stream",
     "text": [
      "Train, epoch: [4][  4/280]\tLoss 1.1776e-01 (1.4951e-01)\tAccuracy 0.958 (0.947)\n"
     ]
    },
    {
     "name": "stderr",
     "output_type": "stream",
     "text": [
      "\r",
      "  8%|█████▉                                                                         | 21/280 [06:08<1:15:39, 17.53s/it]"
     ]
    },
    {
     "name": "stdout",
     "output_type": "stream",
     "text": [
      "Train, epoch: [4][  4/280]\tLoss 8.7098e-02 (1.4654e-01)\tAccuracy 0.969 (0.948)\n"
     ]
    },
    {
     "name": "stderr",
     "output_type": "stream",
     "text": [
      "\r",
      "  8%|██████▏                                                                        | 22/280 [06:25<1:15:26, 17.54s/it]"
     ]
    },
    {
     "name": "stdout",
     "output_type": "stream",
     "text": [
      "Train, epoch: [4][  4/280]\tLoss 1.6926e-01 (1.4757e-01)\tAccuracy 0.934 (0.947)\n"
     ]
    },
    {
     "name": "stderr",
     "output_type": "stream",
     "text": [
      "\r",
      "  8%|██████▍                                                                        | 23/280 [06:43<1:15:10, 17.55s/it]"
     ]
    },
    {
     "name": "stdout",
     "output_type": "stream",
     "text": [
      "Train, epoch: [4][  4/280]\tLoss 1.5707e-01 (1.4798e-01)\tAccuracy 0.945 (0.947)\n"
     ]
    },
    {
     "name": "stderr",
     "output_type": "stream",
     "text": [
      "\r",
      "  9%|██████▊                                                                        | 24/280 [07:00<1:14:49, 17.54s/it]"
     ]
    },
    {
     "name": "stdout",
     "output_type": "stream",
     "text": [
      "Train, epoch: [4][  4/280]\tLoss 1.2996e-01 (1.4723e-01)\tAccuracy 0.953 (0.947)\n"
     ]
    },
    {
     "name": "stderr",
     "output_type": "stream",
     "text": [
      "\r",
      "  9%|███████                                                                        | 25/280 [07:18<1:14:36, 17.56s/it]"
     ]
    },
    {
     "name": "stdout",
     "output_type": "stream",
     "text": [
      "Train, epoch: [4][  4/280]\tLoss 2.4269e-01 (1.5105e-01)\tAccuracy 0.912 (0.946)\n"
     ]
    },
    {
     "name": "stderr",
     "output_type": "stream",
     "text": [
      "\r",
      "  9%|███████▎                                                                       | 26/280 [07:36<1:14:14, 17.54s/it]"
     ]
    },
    {
     "name": "stdout",
     "output_type": "stream",
     "text": [
      "Train, epoch: [4][  4/280]\tLoss 1.1533e-01 (1.4968e-01)\tAccuracy 0.959 (0.946)\n"
     ]
    },
    {
     "name": "stderr",
     "output_type": "stream",
     "text": [
      "\r",
      " 10%|███████▌                                                                       | 27/280 [07:53<1:14:06, 17.57s/it]"
     ]
    },
    {
     "name": "stdout",
     "output_type": "stream",
     "text": [
      "Train, epoch: [4][  4/280]\tLoss 2.3982e-01 (1.5302e-01)\tAccuracy 0.914 (0.945)\n"
     ]
    },
    {
     "name": "stderr",
     "output_type": "stream",
     "text": [
      "\r",
      " 10%|███████▉                                                                       | 28/280 [08:11<1:13:50, 17.58s/it]"
     ]
    },
    {
     "name": "stdout",
     "output_type": "stream",
     "text": [
      "Train, epoch: [4][  4/280]\tLoss 2.0679e-01 (1.5494e-01)\tAccuracy 0.925 (0.944)\n"
     ]
    },
    {
     "name": "stderr",
     "output_type": "stream",
     "text": [
      "\r",
      " 10%|████████▏                                                                      | 29/280 [08:28<1:13:25, 17.55s/it]"
     ]
    },
    {
     "name": "stdout",
     "output_type": "stream",
     "text": [
      "Train, epoch: [4][  4/280]\tLoss 1.5434e-01 (1.5492e-01)\tAccuracy 0.945 (0.944)\n"
     ]
    },
    {
     "name": "stderr",
     "output_type": "stream",
     "text": [
      "\r",
      " 11%|████████▍                                                                      | 30/280 [08:46<1:12:58, 17.51s/it]"
     ]
    },
    {
     "name": "stdout",
     "output_type": "stream",
     "text": [
      "Train, epoch: [4][  4/280]\tLoss 1.0980e-01 (1.5341e-01)\tAccuracy 0.958 (0.945)\n"
     ]
    },
    {
     "name": "stderr",
     "output_type": "stream",
     "text": [
      "\r",
      " 11%|████████▋                                                                      | 31/280 [09:03<1:12:42, 17.52s/it]"
     ]
    },
    {
     "name": "stdout",
     "output_type": "stream",
     "text": [
      "Train, epoch: [4][  4/280]\tLoss 1.8006e-01 (1.5427e-01)\tAccuracy 0.939 (0.945)\n"
     ]
    },
    {
     "name": "stderr",
     "output_type": "stream",
     "text": [
      "\r",
      " 11%|█████████                                                                      | 32/280 [09:21<1:12:28, 17.53s/it]"
     ]
    },
    {
     "name": "stdout",
     "output_type": "stream",
     "text": [
      "Train, epoch: [4][  4/280]\tLoss 1.7198e-01 (1.5483e-01)\tAccuracy 0.939 (0.944)\n"
     ]
    },
    {
     "name": "stderr",
     "output_type": "stream",
     "text": [
      "\r",
      " 12%|█████████▎                                                                     | 33/280 [09:38<1:12:07, 17.52s/it]"
     ]
    },
    {
     "name": "stdout",
     "output_type": "stream",
     "text": [
      "Train, epoch: [4][  4/280]\tLoss 1.5366e-01 (1.5479e-01)\tAccuracy 0.946 (0.944)\n"
     ]
    },
    {
     "name": "stderr",
     "output_type": "stream",
     "text": [
      "\r",
      " 12%|█████████▌                                                                     | 34/280 [09:56<1:11:49, 17.52s/it]"
     ]
    },
    {
     "name": "stdout",
     "output_type": "stream",
     "text": [
      "Train, epoch: [4][  4/280]\tLoss 1.2186e-01 (1.5382e-01)\tAccuracy 0.959 (0.945)\n"
     ]
    },
    {
     "name": "stderr",
     "output_type": "stream",
     "text": [
      "\r",
      " 12%|█████████▉                                                                     | 35/280 [10:13<1:11:32, 17.52s/it]"
     ]
    },
    {
     "name": "stdout",
     "output_type": "stream",
     "text": [
      "Train, epoch: [4][  4/280]\tLoss 1.3039e-01 (1.5315e-01)\tAccuracy 0.953 (0.945)\n"
     ]
    },
    {
     "name": "stderr",
     "output_type": "stream",
     "text": [
      "\r",
      " 13%|██████████▏                                                                    | 36/280 [10:31<1:11:06, 17.49s/it]"
     ]
    },
    {
     "name": "stdout",
     "output_type": "stream",
     "text": [
      "Train, epoch: [4][  4/280]\tLoss 1.3477e-01 (1.5264e-01)\tAccuracy 0.953 (0.945)\n"
     ]
    },
    {
     "name": "stderr",
     "output_type": "stream",
     "text": [
      "\r",
      " 13%|██████████▍                                                                    | 37/280 [10:49<1:11:20, 17.62s/it]"
     ]
    },
    {
     "name": "stdout",
     "output_type": "stream",
     "text": [
      "Train, epoch: [4][  4/280]\tLoss 1.3879e-01 (1.5227e-01)\tAccuracy 0.951 (0.946)\n"
     ]
    },
    {
     "name": "stderr",
     "output_type": "stream",
     "text": [
      "\r",
      " 14%|██████████▋                                                                    | 38/280 [11:06<1:11:07, 17.64s/it]"
     ]
    },
    {
     "name": "stdout",
     "output_type": "stream",
     "text": [
      "Train, epoch: [4][  4/280]\tLoss 2.7865e-01 (1.5559e-01)\tAccuracy 0.904 (0.944)\n"
     ]
    },
    {
     "name": "stderr",
     "output_type": "stream",
     "text": [
      "\r",
      " 14%|███████████                                                                    | 39/280 [11:24<1:10:33, 17.57s/it]"
     ]
    },
    {
     "name": "stdout",
     "output_type": "stream",
     "text": [
      "Train, epoch: [4][  4/280]\tLoss 1.7645e-01 (1.5613e-01)\tAccuracy 0.933 (0.944)\n"
     ]
    },
    {
     "name": "stderr",
     "output_type": "stream",
     "text": [
      "\r",
      " 14%|███████████▎                                                                   | 40/280 [11:41<1:10:17, 17.57s/it]"
     ]
    },
    {
     "name": "stdout",
     "output_type": "stream",
     "text": [
      "Train, epoch: [4][  4/280]\tLoss 1.6617e-01 (1.5638e-01)\tAccuracy 0.941 (0.944)\n"
     ]
    },
    {
     "name": "stderr",
     "output_type": "stream",
     "text": [
      "\r",
      " 15%|███████████▌                                                                   | 41/280 [11:59<1:09:47, 17.52s/it]"
     ]
    },
    {
     "name": "stdout",
     "output_type": "stream",
     "text": [
      "Train, epoch: [4][  4/280]\tLoss 1.3027e-01 (1.5574e-01)\tAccuracy 0.955 (0.944)\n"
     ]
    },
    {
     "name": "stderr",
     "output_type": "stream",
     "text": [
      "\r",
      " 15%|███████████▊                                                                   | 42/280 [12:16<1:09:29, 17.52s/it]"
     ]
    },
    {
     "name": "stdout",
     "output_type": "stream",
     "text": [
      "Train, epoch: [4][  4/280]\tLoss 2.5454e-01 (1.5809e-01)\tAccuracy 0.913 (0.944)\n"
     ]
    },
    {
     "name": "stderr",
     "output_type": "stream",
     "text": [
      "\r",
      " 15%|████████████▏                                                                  | 43/280 [12:34<1:09:09, 17.51s/it]"
     ]
    },
    {
     "name": "stdout",
     "output_type": "stream",
     "text": [
      "Train, epoch: [4][  4/280]\tLoss 1.3304e-01 (1.5751e-01)\tAccuracy 0.951 (0.944)\n"
     ]
    },
    {
     "name": "stderr",
     "output_type": "stream",
     "text": [
      "\r",
      " 16%|████████████▍                                                                  | 44/280 [12:51<1:08:30, 17.42s/it]"
     ]
    },
    {
     "name": "stdout",
     "output_type": "stream",
     "text": [
      "Train, epoch: [4][  4/280]\tLoss 1.8187e-01 (1.5807e-01)\tAccuracy 0.936 (0.944)\n"
     ]
    },
    {
     "name": "stderr",
     "output_type": "stream",
     "text": [
      "\r",
      " 16%|████████████▋                                                                  | 45/280 [13:08<1:08:14, 17.42s/it]"
     ]
    },
    {
     "name": "stdout",
     "output_type": "stream",
     "text": [
      "Train, epoch: [4][  4/280]\tLoss 2.1230e-01 (1.5927e-01)\tAccuracy 0.940 (0.943)\n"
     ]
    },
    {
     "name": "stderr",
     "output_type": "stream",
     "text": [
      "\r",
      " 16%|████████████▉                                                                  | 46/280 [13:26<1:08:08, 17.47s/it]"
     ]
    },
    {
     "name": "stdout",
     "output_type": "stream",
     "text": [
      "Train, epoch: [4][  4/280]\tLoss 1.3823e-01 (1.5881e-01)\tAccuracy 0.954 (0.944)\n"
     ]
    },
    {
     "name": "stderr",
     "output_type": "stream",
     "text": [
      "\r",
      " 17%|█████████████▎                                                                 | 47/280 [13:43<1:07:49, 17.46s/it]"
     ]
    },
    {
     "name": "stdout",
     "output_type": "stream",
     "text": [
      "Train, epoch: [4][  4/280]\tLoss 1.6842e-01 (1.5902e-01)\tAccuracy 0.940 (0.944)\n"
     ]
    },
    {
     "name": "stderr",
     "output_type": "stream",
     "text": [
      "\r",
      " 17%|█████████████▌                                                                 | 48/280 [14:01<1:07:28, 17.45s/it]"
     ]
    },
    {
     "name": "stdout",
     "output_type": "stream",
     "text": [
      "Train, epoch: [4][  4/280]\tLoss 1.8171e-01 (1.5949e-01)\tAccuracy 0.940 (0.944)\n"
     ]
    },
    {
     "name": "stderr",
     "output_type": "stream",
     "text": [
      "\r",
      " 18%|█████████████▊                                                                 | 49/280 [14:18<1:07:15, 17.47s/it]"
     ]
    },
    {
     "name": "stdout",
     "output_type": "stream",
     "text": [
      "Train, epoch: [4][  4/280]\tLoss 1.4994e-01 (1.5930e-01)\tAccuracy 0.945 (0.944)\n"
     ]
    },
    {
     "name": "stderr",
     "output_type": "stream",
     "text": [
      "\r",
      " 18%|██████████████                                                                 | 50/280 [14:36<1:07:00, 17.48s/it]"
     ]
    },
    {
     "name": "stdout",
     "output_type": "stream",
     "text": [
      "Train, epoch: [4][  4/280]\tLoss 1.3982e-01 (1.5891e-01)\tAccuracy 0.950 (0.944)\n"
     ]
    },
    {
     "name": "stderr",
     "output_type": "stream",
     "text": [
      "\r",
      " 18%|██████████████▍                                                                | 51/280 [14:53<1:06:50, 17.51s/it]"
     ]
    },
    {
     "name": "stdout",
     "output_type": "stream",
     "text": [
      "Train, epoch: [4][  4/280]\tLoss 1.2140e-01 (1.5817e-01)\tAccuracy 0.956 (0.944)\n"
     ]
    },
    {
     "name": "stderr",
     "output_type": "stream",
     "text": [
      "\r",
      " 19%|██████████████▋                                                                | 52/280 [15:11<1:06:33, 17.52s/it]"
     ]
    },
    {
     "name": "stdout",
     "output_type": "stream",
     "text": [
      "Train, epoch: [4][  4/280]\tLoss 2.2837e-01 (1.5952e-01)\tAccuracy 0.916 (0.943)\n"
     ]
    },
    {
     "name": "stderr",
     "output_type": "stream",
     "text": [
      "\r",
      " 19%|██████████████▉                                                                | 53/280 [15:28<1:06:04, 17.47s/it]"
     ]
    },
    {
     "name": "stdout",
     "output_type": "stream",
     "text": [
      "Train, epoch: [4][  4/280]\tLoss 1.9713e-01 (1.6023e-01)\tAccuracy 0.931 (0.943)\n"
     ]
    },
    {
     "name": "stderr",
     "output_type": "stream",
     "text": [
      "\r",
      " 19%|███████████████▏                                                               | 54/280 [15:46<1:05:59, 17.52s/it]"
     ]
    },
    {
     "name": "stdout",
     "output_type": "stream",
     "text": [
      "Train, epoch: [4][  4/280]\tLoss 1.1520e-01 (1.5940e-01)\tAccuracy 0.959 (0.943)\n"
     ]
    },
    {
     "name": "stderr",
     "output_type": "stream",
     "text": [
      "\r",
      " 20%|███████████████▌                                                               | 55/280 [16:03<1:05:34, 17.49s/it]"
     ]
    },
    {
     "name": "stdout",
     "output_type": "stream",
     "text": [
      "Train, epoch: [4][  4/280]\tLoss 8.9460e-02 (1.5812e-01)\tAccuracy 0.966 (0.944)\n"
     ]
    },
    {
     "name": "stderr",
     "output_type": "stream",
     "text": [
      "\r",
      " 20%|███████████████▊                                                               | 56/280 [16:21<1:05:11, 17.46s/it]"
     ]
    },
    {
     "name": "stdout",
     "output_type": "stream",
     "text": [
      "Train, epoch: [4][  4/280]\tLoss 1.5596e-01 (1.5809e-01)\tAccuracy 0.950 (0.944)\n"
     ]
    },
    {
     "name": "stderr",
     "output_type": "stream",
     "text": [
      "\r",
      " 20%|████████████████                                                               | 57/280 [16:38<1:04:55, 17.47s/it]"
     ]
    },
    {
     "name": "stdout",
     "output_type": "stream",
     "text": [
      "Train, epoch: [4][  4/280]\tLoss 1.7280e-01 (1.5834e-01)\tAccuracy 0.946 (0.944)\n"
     ]
    },
    {
     "name": "stderr",
     "output_type": "stream",
     "text": [
      "\r",
      " 21%|████████████████▎                                                              | 58/280 [16:56<1:04:40, 17.48s/it]"
     ]
    },
    {
     "name": "stdout",
     "output_type": "stream",
     "text": [
      "Train, epoch: [4][  4/280]\tLoss 1.1963e-01 (1.5768e-01)\tAccuracy 0.958 (0.944)\n"
     ]
    },
    {
     "name": "stderr",
     "output_type": "stream",
     "text": [
      "\r",
      " 21%|████████████████▋                                                              | 59/280 [17:13<1:04:26, 17.50s/it]"
     ]
    },
    {
     "name": "stdout",
     "output_type": "stream",
     "text": [
      "Train, epoch: [4][  4/280]\tLoss 1.3086e-01 (1.5722e-01)\tAccuracy 0.954 (0.944)\n"
     ]
    },
    {
     "name": "stderr",
     "output_type": "stream",
     "text": [
      "\r",
      " 21%|████████████████▉                                                              | 60/280 [17:31<1:04:01, 17.46s/it]"
     ]
    },
    {
     "name": "stdout",
     "output_type": "stream",
     "text": [
      "Train, epoch: [4][  4/280]\tLoss 1.9253e-01 (1.5781e-01)\tAccuracy 0.934 (0.944)\n"
     ]
    },
    {
     "name": "stderr",
     "output_type": "stream",
     "text": [
      "\r",
      " 22%|█████████████████▏                                                             | 61/280 [17:48<1:03:51, 17.50s/it]"
     ]
    },
    {
     "name": "stdout",
     "output_type": "stream",
     "text": [
      "Train, epoch: [4][  4/280]\tLoss 1.0226e-01 (1.5690e-01)\tAccuracy 0.964 (0.945)\n"
     ]
    },
    {
     "name": "stderr",
     "output_type": "stream",
     "text": [
      "\r",
      " 22%|█████████████████▍                                                             | 62/280 [18:05<1:03:17, 17.42s/it]"
     ]
    },
    {
     "name": "stdout",
     "output_type": "stream",
     "text": [
      "Train, epoch: [4][  4/280]\tLoss 1.8238e-01 (1.5731e-01)\tAccuracy 0.936 (0.944)\n"
     ]
    },
    {
     "name": "stderr",
     "output_type": "stream",
     "text": [
      "\r",
      " 22%|█████████████████▊                                                             | 63/280 [18:23<1:03:07, 17.46s/it]"
     ]
    },
    {
     "name": "stdout",
     "output_type": "stream",
     "text": [
      "Train, epoch: [4][  4/280]\tLoss 1.0287e-01 (1.5645e-01)\tAccuracy 0.964 (0.945)\n"
     ]
    },
    {
     "name": "stderr",
     "output_type": "stream",
     "text": [
      "\r",
      " 23%|██████████████████                                                             | 64/280 [18:41<1:02:56, 17.48s/it]"
     ]
    },
    {
     "name": "stdout",
     "output_type": "stream",
     "text": [
      "Train, epoch: [4][  4/280]\tLoss 1.0830e-01 (1.5569e-01)\tAccuracy 0.962 (0.945)\n"
     ]
    },
    {
     "name": "stderr",
     "output_type": "stream",
     "text": [
      "\r",
      " 23%|██████████████████▎                                                            | 65/280 [18:58<1:02:30, 17.44s/it]"
     ]
    },
    {
     "name": "stdout",
     "output_type": "stream",
     "text": [
      "Train, epoch: [4][  4/280]\tLoss 1.3427e-01 (1.5537e-01)\tAccuracy 0.956 (0.945)\n"
     ]
    },
    {
     "name": "stderr",
     "output_type": "stream",
     "text": [
      "\r",
      " 24%|██████████████████▌                                                            | 66/280 [19:16<1:02:29, 17.52s/it]"
     ]
    },
    {
     "name": "stdout",
     "output_type": "stream",
     "text": [
      "Train, epoch: [4][  4/280]\tLoss 3.0603e-01 (1.5765e-01)\tAccuracy 0.898 (0.944)\n"
     ]
    },
    {
     "name": "stderr",
     "output_type": "stream",
     "text": [
      "\r",
      " 24%|██████████████████▉                                                            | 67/280 [19:33<1:02:08, 17.50s/it]"
     ]
    },
    {
     "name": "stdout",
     "output_type": "stream",
     "text": [
      "Train, epoch: [4][  4/280]\tLoss 1.1113e-01 (1.5695e-01)\tAccuracy 0.961 (0.945)\n"
     ]
    },
    {
     "name": "stderr",
     "output_type": "stream",
     "text": [
      "\r",
      " 24%|███████████████████▏                                                           | 68/280 [19:51<1:01:55, 17.52s/it]"
     ]
    },
    {
     "name": "stdout",
     "output_type": "stream",
     "text": [
      "Train, epoch: [4][  4/280]\tLoss 1.2559e-01 (1.5649e-01)\tAccuracy 0.953 (0.945)\n"
     ]
    },
    {
     "name": "stderr",
     "output_type": "stream",
     "text": [
      "\r",
      " 25%|███████████████████▍                                                           | 69/280 [20:08<1:01:40, 17.54s/it]"
     ]
    },
    {
     "name": "stdout",
     "output_type": "stream",
     "text": [
      "Train, epoch: [4][  4/280]\tLoss 2.6843e-01 (1.5811e-01)\tAccuracy 0.908 (0.944)\n"
     ]
    },
    {
     "name": "stderr",
     "output_type": "stream",
     "text": [
      "\r",
      " 25%|███████████████████▊                                                           | 70/280 [20:26<1:01:28, 17.57s/it]"
     ]
    },
    {
     "name": "stdout",
     "output_type": "stream",
     "text": [
      "Train, epoch: [4][  4/280]\tLoss 1.3504e-01 (1.5778e-01)\tAccuracy 0.955 (0.944)\n"
     ]
    },
    {
     "name": "stderr",
     "output_type": "stream",
     "text": [
      "\r",
      " 25%|████████████████████                                                           | 71/280 [20:43<1:01:15, 17.58s/it]"
     ]
    },
    {
     "name": "stdout",
     "output_type": "stream",
     "text": [
      "Train, epoch: [4][  4/280]\tLoss 1.4456e-01 (1.5760e-01)\tAccuracy 0.951 (0.945)\n"
     ]
    },
    {
     "name": "stderr",
     "output_type": "stream",
     "text": [
      "\r",
      " 26%|████████████████████▎                                                          | 72/280 [21:01<1:00:56, 17.58s/it]"
     ]
    },
    {
     "name": "stdout",
     "output_type": "stream",
     "text": [
      "Train, epoch: [4][  4/280]\tLoss 1.5951e-01 (1.5763e-01)\tAccuracy 0.945 (0.945)\n"
     ]
    },
    {
     "name": "stderr",
     "output_type": "stream",
     "text": [
      "\r",
      " 26%|████████████████████▌                                                          | 73/280 [21:19<1:00:46, 17.62s/it]"
     ]
    },
    {
     "name": "stdout",
     "output_type": "stream",
     "text": [
      "Train, epoch: [4][  4/280]\tLoss 1.9135e-01 (1.5809e-01)\tAccuracy 0.932 (0.944)\n"
     ]
    },
    {
     "name": "stderr",
     "output_type": "stream",
     "text": [
      "\r",
      " 26%|████████████████████▉                                                          | 74/280 [21:36<1:00:05, 17.50s/it]"
     ]
    },
    {
     "name": "stdout",
     "output_type": "stream",
     "text": [
      "Train, epoch: [4][  4/280]\tLoss 1.6998e-01 (1.5825e-01)\tAccuracy 0.942 (0.944)\n"
     ]
    },
    {
     "name": "stderr",
     "output_type": "stream",
     "text": [
      "\r",
      " 27%|█████████████████████▋                                                           | 75/280 [21:54<59:52, 17.53s/it]"
     ]
    },
    {
     "name": "stdout",
     "output_type": "stream",
     "text": [
      "Train, epoch: [4][  4/280]\tLoss 2.5597e-01 (1.5955e-01)\tAccuracy 0.921 (0.944)\n"
     ]
    },
    {
     "name": "stderr",
     "output_type": "stream",
     "text": [
      "\r",
      " 27%|█████████████████████▉                                                           | 76/280 [22:11<59:26, 17.48s/it]"
     ]
    },
    {
     "name": "stdout",
     "output_type": "stream",
     "text": [
      "Train, epoch: [4][  4/280]\tLoss 9.1219e-02 (1.5865e-01)\tAccuracy 0.970 (0.944)\n"
     ]
    },
    {
     "name": "stderr",
     "output_type": "stream",
     "text": [
      "\r",
      " 28%|██████████████████████▎                                                          | 77/280 [22:28<59:09, 17.48s/it]"
     ]
    },
    {
     "name": "stdout",
     "output_type": "stream",
     "text": [
      "Train, epoch: [4][  4/280]\tLoss 1.6171e-01 (1.5869e-01)\tAccuracy 0.945 (0.944)\n"
     ]
    },
    {
     "name": "stderr",
     "output_type": "stream",
     "text": [
      "\r",
      " 28%|██████████████████████▌                                                          | 78/280 [22:46<58:52, 17.49s/it]"
     ]
    },
    {
     "name": "stdout",
     "output_type": "stream",
     "text": [
      "Train, epoch: [4][  4/280]\tLoss 1.5818e-01 (1.5869e-01)\tAccuracy 0.947 (0.944)\n"
     ]
    },
    {
     "name": "stderr",
     "output_type": "stream",
     "text": [
      "\r",
      " 28%|██████████████████████▊                                                          | 79/280 [23:03<58:27, 17.45s/it]"
     ]
    },
    {
     "name": "stdout",
     "output_type": "stream",
     "text": [
      "Train, epoch: [4][  4/280]\tLoss 1.4767e-01 (1.5855e-01)\tAccuracy 0.947 (0.944)\n"
     ]
    },
    {
     "name": "stderr",
     "output_type": "stream",
     "text": [
      "\r",
      " 29%|███████████████████████▏                                                         | 80/280 [23:21<58:11, 17.46s/it]"
     ]
    },
    {
     "name": "stdout",
     "output_type": "stream",
     "text": [
      "Train, epoch: [4][  4/280]\tLoss 2.1223e-01 (1.5922e-01)\tAccuracy 0.928 (0.944)\n"
     ]
    },
    {
     "name": "stderr",
     "output_type": "stream",
     "text": [
      "\r",
      " 29%|███████████████████████▍                                                         | 81/280 [23:38<57:52, 17.45s/it]"
     ]
    },
    {
     "name": "stdout",
     "output_type": "stream",
     "text": [
      "Train, epoch: [4][  4/280]\tLoss 1.6282e-01 (1.5926e-01)\tAccuracy 0.942 (0.944)\n"
     ]
    },
    {
     "name": "stderr",
     "output_type": "stream",
     "text": [
      "\r",
      " 29%|███████████████████████▋                                                         | 82/280 [23:56<57:41, 17.48s/it]"
     ]
    },
    {
     "name": "stdout",
     "output_type": "stream",
     "text": [
      "Train, epoch: [4][  4/280]\tLoss 1.1534e-01 (1.5873e-01)\tAccuracy 0.960 (0.944)\n"
     ]
    },
    {
     "name": "stderr",
     "output_type": "stream",
     "text": [
      "\r",
      " 30%|████████████████████████                                                         | 83/280 [24:13<57:24, 17.48s/it]"
     ]
    },
    {
     "name": "stdout",
     "output_type": "stream",
     "text": [
      "Train, epoch: [4][  4/280]\tLoss 1.9321e-01 (1.5914e-01)\tAccuracy 0.936 (0.944)\n"
     ]
    },
    {
     "name": "stderr",
     "output_type": "stream",
     "text": [
      "\r",
      " 30%|████████████████████████▎                                                        | 84/280 [24:31<57:07, 17.49s/it]"
     ]
    },
    {
     "name": "stdout",
     "output_type": "stream",
     "text": [
      "Train, epoch: [4][  4/280]\tLoss 1.8465e-01 (1.5944e-01)\tAccuracy 0.930 (0.944)\n"
     ]
    },
    {
     "name": "stderr",
     "output_type": "stream",
     "text": [
      "\r",
      " 30%|████████████████████████▌                                                        | 85/280 [24:48<56:58, 17.53s/it]"
     ]
    },
    {
     "name": "stdout",
     "output_type": "stream",
     "text": [
      "Train, epoch: [4][  4/280]\tLoss 1.8696e-01 (1.5977e-01)\tAccuracy 0.938 (0.944)\n"
     ]
    },
    {
     "name": "stderr",
     "output_type": "stream",
     "text": [
      "\r",
      " 31%|████████████████████████▉                                                        | 86/280 [25:06<56:40, 17.53s/it]"
     ]
    },
    {
     "name": "stdout",
     "output_type": "stream",
     "text": [
      "Train, epoch: [4][  4/280]\tLoss 1.5050e-01 (1.5966e-01)\tAccuracy 0.953 (0.944)\n"
     ]
    },
    {
     "name": "stderr",
     "output_type": "stream",
     "text": [
      "\r",
      " 31%|█████████████████████████▏                                                       | 87/280 [25:24<56:32, 17.58s/it]"
     ]
    },
    {
     "name": "stdout",
     "output_type": "stream",
     "text": [
      "Train, epoch: [4][  4/280]\tLoss 1.1465e-01 (1.5914e-01)\tAccuracy 0.959 (0.944)\n"
     ]
    },
    {
     "name": "stderr",
     "output_type": "stream",
     "text": [
      "\r",
      " 31%|█████████████████████████▍                                                       | 88/280 [25:41<56:08, 17.55s/it]"
     ]
    },
    {
     "name": "stdout",
     "output_type": "stream",
     "text": [
      "Train, epoch: [4][  4/280]\tLoss 2.1692e-01 (1.5980e-01)\tAccuracy 0.921 (0.944)\n"
     ]
    },
    {
     "name": "stderr",
     "output_type": "stream",
     "text": [
      "\r",
      " 32%|█████████████████████████▋                                                       | 89/280 [25:58<55:40, 17.49s/it]"
     ]
    },
    {
     "name": "stdout",
     "output_type": "stream",
     "text": [
      "Train, epoch: [4][  4/280]\tLoss 1.5493e-01 (1.5975e-01)\tAccuracy 0.945 (0.944)\n"
     ]
    },
    {
     "name": "stderr",
     "output_type": "stream",
     "text": [
      "\r",
      " 32%|██████████████████████████                                                       | 90/280 [26:16<55:26, 17.51s/it]"
     ]
    },
    {
     "name": "stdout",
     "output_type": "stream",
     "text": [
      "Train, epoch: [4][  4/280]\tLoss 1.4450e-01 (1.5958e-01)\tAccuracy 0.951 (0.944)\n"
     ]
    },
    {
     "name": "stderr",
     "output_type": "stream",
     "text": [
      "\r",
      " 32%|██████████████████████████▎                                                      | 91/280 [26:33<55:03, 17.48s/it]"
     ]
    },
    {
     "name": "stdout",
     "output_type": "stream",
     "text": [
      "Train, epoch: [4][  4/280]\tLoss 2.3424e-01 (1.6040e-01)\tAccuracy 0.916 (0.944)\n"
     ]
    },
    {
     "name": "stderr",
     "output_type": "stream",
     "text": [
      "\r",
      " 33%|██████████████████████████▌                                                      | 92/280 [26:51<54:47, 17.49s/it]"
     ]
    },
    {
     "name": "stdout",
     "output_type": "stream",
     "text": [
      "Train, epoch: [4][  4/280]\tLoss 2.0552e-01 (1.6089e-01)\tAccuracy 0.927 (0.944)\n"
     ]
    },
    {
     "name": "stderr",
     "output_type": "stream",
     "text": [
      "\r",
      " 33%|██████████████████████████▉                                                      | 93/280 [27:08<54:24, 17.46s/it]"
     ]
    },
    {
     "name": "stdout",
     "output_type": "stream",
     "text": [
      "Train, epoch: [4][  4/280]\tLoss 1.5565e-01 (1.6083e-01)\tAccuracy 0.945 (0.944)\n"
     ]
    },
    {
     "name": "stderr",
     "output_type": "stream",
     "text": [
      "\r",
      " 34%|███████████████████████████▏                                                     | 94/280 [27:26<54:09, 17.47s/it]"
     ]
    },
    {
     "name": "stdout",
     "output_type": "stream",
     "text": [
      "Train, epoch: [4][  4/280]\tLoss 8.0646e-02 (1.5998e-01)\tAccuracy 0.972 (0.944)\n"
     ]
    },
    {
     "name": "stderr",
     "output_type": "stream",
     "text": [
      "\r",
      " 34%|███████████████████████████▍                                                     | 95/280 [27:43<53:54, 17.48s/it]"
     ]
    },
    {
     "name": "stdout",
     "output_type": "stream",
     "text": [
      "Train, epoch: [4][  4/280]\tLoss 1.6306e-01 (1.6001e-01)\tAccuracy 0.945 (0.944)\n"
     ]
    },
    {
     "name": "stderr",
     "output_type": "stream",
     "text": [
      "\r",
      " 34%|███████████████████████████▊                                                     | 96/280 [28:01<53:44, 17.52s/it]"
     ]
    },
    {
     "name": "stdout",
     "output_type": "stream",
     "text": [
      "Train, epoch: [4][  4/280]\tLoss 1.8004e-01 (1.6022e-01)\tAccuracy 0.936 (0.944)\n"
     ]
    },
    {
     "name": "stderr",
     "output_type": "stream",
     "text": [
      "\r",
      " 35%|████████████████████████████                                                     | 97/280 [28:18<53:23, 17.50s/it]"
     ]
    },
    {
     "name": "stdout",
     "output_type": "stream",
     "text": [
      "Train, epoch: [4][  4/280]\tLoss 1.1799e-01 (1.5978e-01)\tAccuracy 0.963 (0.944)\n"
     ]
    },
    {
     "name": "stderr",
     "output_type": "stream",
     "text": [
      "\r",
      " 35%|████████████████████████████▎                                                    | 98/280 [28:36<52:55, 17.45s/it]"
     ]
    },
    {
     "name": "stdout",
     "output_type": "stream",
     "text": [
      "Train, epoch: [4][  4/280]\tLoss 1.9337e-01 (1.6013e-01)\tAccuracy 0.931 (0.944)\n"
     ]
    },
    {
     "name": "stderr",
     "output_type": "stream",
     "text": [
      "\r",
      " 35%|████████████████████████████▋                                                    | 99/280 [28:53<52:50, 17.52s/it]"
     ]
    },
    {
     "name": "stdout",
     "output_type": "stream",
     "text": [
      "Train, epoch: [4][  4/280]\tLoss 1.2646e-01 (1.5979e-01)\tAccuracy 0.956 (0.944)\n"
     ]
    },
    {
     "name": "stderr",
     "output_type": "stream",
     "text": [
      "\r",
      " 36%|████████████████████████████▌                                                   | 100/280 [29:11<52:31, 17.51s/it]"
     ]
    },
    {
     "name": "stdout",
     "output_type": "stream",
     "text": [
      "Train, epoch: [4][  4/280]\tLoss 1.5605e-01 (1.5975e-01)\tAccuracy 0.949 (0.944)\n"
     ]
    },
    {
     "name": "stderr",
     "output_type": "stream",
     "text": [
      "\r",
      " 36%|████████████████████████████▊                                                   | 101/280 [29:28<52:11, 17.49s/it]"
     ]
    },
    {
     "name": "stdout",
     "output_type": "stream",
     "text": [
      "Train, epoch: [4][  4/280]\tLoss 1.8855e-01 (1.6003e-01)\tAccuracy 0.933 (0.944)\n"
     ]
    },
    {
     "name": "stderr",
     "output_type": "stream",
     "text": [
      "\r",
      " 36%|█████████████████████████████▏                                                  | 102/280 [29:46<51:55, 17.51s/it]"
     ]
    },
    {
     "name": "stdout",
     "output_type": "stream",
     "text": [
      "Train, epoch: [4][  4/280]\tLoss 9.1165e-02 (1.5936e-01)\tAccuracy 0.968 (0.944)\n"
     ]
    },
    {
     "name": "stderr",
     "output_type": "stream",
     "text": [
      "\r",
      " 37%|█████████████████████████████▍                                                  | 103/280 [30:03<51:37, 17.50s/it]"
     ]
    },
    {
     "name": "stdout",
     "output_type": "stream",
     "text": [
      "Train, epoch: [4][  4/280]\tLoss 1.9309e-01 (1.5969e-01)\tAccuracy 0.926 (0.944)\n"
     ]
    },
    {
     "name": "stderr",
     "output_type": "stream",
     "text": [
      "\r",
      " 37%|█████████████████████████████▋                                                  | 104/280 [30:21<51:15, 17.48s/it]"
     ]
    },
    {
     "name": "stdout",
     "output_type": "stream",
     "text": [
      "Train, epoch: [4][  4/280]\tLoss 1.6626e-01 (1.5975e-01)\tAccuracy 0.939 (0.944)\n"
     ]
    },
    {
     "name": "stderr",
     "output_type": "stream",
     "text": [
      "\r",
      " 38%|██████████████████████████████                                                  | 105/280 [30:38<51:07, 17.53s/it]"
     ]
    },
    {
     "name": "stdout",
     "output_type": "stream",
     "text": [
      "Train, epoch: [4][  4/280]\tLoss 1.5197e-01 (1.5968e-01)\tAccuracy 0.947 (0.944)\n"
     ]
    },
    {
     "name": "stderr",
     "output_type": "stream",
     "text": [
      "\r",
      " 38%|██████████████████████████████▎                                                 | 106/280 [30:56<50:52, 17.54s/it]"
     ]
    },
    {
     "name": "stdout",
     "output_type": "stream",
     "text": [
      "Train, epoch: [4][  4/280]\tLoss 1.1728e-01 (1.5928e-01)\tAccuracy 0.958 (0.944)\n"
     ]
    },
    {
     "name": "stderr",
     "output_type": "stream",
     "text": [
      "\r",
      " 38%|██████████████████████████████▌                                                 | 107/280 [31:13<50:34, 17.54s/it]"
     ]
    },
    {
     "name": "stdout",
     "output_type": "stream",
     "text": [
      "Train, epoch: [4][  4/280]\tLoss 1.3555e-01 (1.5905e-01)\tAccuracy 0.951 (0.944)\n"
     ]
    },
    {
     "name": "stderr",
     "output_type": "stream",
     "text": [
      "\r",
      " 39%|██████████████████████████████▊                                                 | 108/280 [31:31<50:09, 17.50s/it]"
     ]
    },
    {
     "name": "stdout",
     "output_type": "stream",
     "text": [
      "Train, epoch: [4][  4/280]\tLoss 2.7958e-01 (1.6017e-01)\tAccuracy 0.910 (0.944)\n"
     ]
    },
    {
     "name": "stderr",
     "output_type": "stream",
     "text": [
      "\r",
      " 39%|███████████████████████████████▏                                                | 109/280 [31:48<49:44, 17.45s/it]"
     ]
    },
    {
     "name": "stdout",
     "output_type": "stream",
     "text": [
      "Train, epoch: [4][  4/280]\tLoss 1.6823e-01 (1.6024e-01)\tAccuracy 0.944 (0.944)\n"
     ]
    },
    {
     "name": "stderr",
     "output_type": "stream",
     "text": [
      "\r",
      " 39%|███████████████████████████████▍                                                | 110/280 [32:06<49:22, 17.42s/it]"
     ]
    },
    {
     "name": "stdout",
     "output_type": "stream",
     "text": [
      "Train, epoch: [4][  4/280]\tLoss 1.4863e-01 (1.6014e-01)\tAccuracy 0.946 (0.944)\n"
     ]
    },
    {
     "name": "stderr",
     "output_type": "stream",
     "text": [
      "\r",
      " 40%|███████████████████████████████▋                                                | 111/280 [32:23<49:13, 17.47s/it]"
     ]
    },
    {
     "name": "stdout",
     "output_type": "stream",
     "text": [
      "Train, epoch: [4][  4/280]\tLoss 1.7881e-01 (1.6031e-01)\tAccuracy 0.937 (0.944)\n"
     ]
    },
    {
     "name": "stderr",
     "output_type": "stream",
     "text": [
      "\r",
      " 40%|████████████████████████████████                                                | 112/280 [32:41<48:58, 17.49s/it]"
     ]
    },
    {
     "name": "stdout",
     "output_type": "stream",
     "text": [
      "Train, epoch: [4][  4/280]\tLoss 1.4277e-01 (1.6015e-01)\tAccuracy 0.950 (0.944)\n"
     ]
    },
    {
     "name": "stderr",
     "output_type": "stream",
     "text": [
      "\r",
      " 40%|████████████████████████████████▎                                               | 113/280 [32:58<48:44, 17.51s/it]"
     ]
    },
    {
     "name": "stdout",
     "output_type": "stream",
     "text": [
      "Train, epoch: [4][  4/280]\tLoss 1.6761e-01 (1.6022e-01)\tAccuracy 0.943 (0.944)\n"
     ]
    },
    {
     "name": "stderr",
     "output_type": "stream",
     "text": [
      "\r",
      " 41%|████████████████████████████████▌                                               | 114/280 [33:16<48:30, 17.53s/it]"
     ]
    },
    {
     "name": "stdout",
     "output_type": "stream",
     "text": [
      "Train, epoch: [4][  4/280]\tLoss 1.0473e-01 (1.5973e-01)\tAccuracy 0.963 (0.944)\n"
     ]
    },
    {
     "name": "stderr",
     "output_type": "stream",
     "text": [
      "\r",
      " 41%|████████████████████████████████▊                                               | 115/280 [33:34<48:22, 17.59s/it]"
     ]
    },
    {
     "name": "stdout",
     "output_type": "stream",
     "text": [
      "Train, epoch: [4][  4/280]\tLoss 1.5743e-01 (1.5971e-01)\tAccuracy 0.946 (0.944)\n"
     ]
    },
    {
     "name": "stderr",
     "output_type": "stream",
     "text": [
      "\r",
      " 41%|█████████████████████████████████▏                                              | 116/280 [33:51<47:54, 17.53s/it]"
     ]
    },
    {
     "name": "stdout",
     "output_type": "stream",
     "text": [
      "Train, epoch: [4][  4/280]\tLoss 1.3222e-01 (1.5947e-01)\tAccuracy 0.959 (0.944)\n"
     ]
    },
    {
     "name": "stderr",
     "output_type": "stream",
     "text": [
      "\r",
      " 42%|█████████████████████████████████▍                                              | 117/280 [34:09<47:38, 17.54s/it]"
     ]
    },
    {
     "name": "stdout",
     "output_type": "stream",
     "text": [
      "Train, epoch: [4][  4/280]\tLoss 1.7042e-01 (1.5957e-01)\tAccuracy 0.940 (0.944)\n"
     ]
    },
    {
     "name": "stderr",
     "output_type": "stream",
     "text": [
      "\r",
      " 42%|█████████████████████████████████▋                                              | 118/280 [34:26<47:22, 17.55s/it]"
     ]
    },
    {
     "name": "stdout",
     "output_type": "stream",
     "text": [
      "Train, epoch: [4][  4/280]\tLoss 1.9733e-01 (1.5989e-01)\tAccuracy 0.935 (0.944)\n"
     ]
    },
    {
     "name": "stderr",
     "output_type": "stream",
     "text": [
      "\r",
      " 42%|██████████████████████████████████                                              | 119/280 [34:43<46:57, 17.50s/it]"
     ]
    },
    {
     "name": "stdout",
     "output_type": "stream",
     "text": [
      "Train, epoch: [4][  4/280]\tLoss 1.8377e-01 (1.6009e-01)\tAccuracy 0.934 (0.944)\n"
     ]
    },
    {
     "name": "stderr",
     "output_type": "stream",
     "text": [
      "\r",
      " 43%|██████████████████████████████████▎                                             | 120/280 [35:01<46:37, 17.49s/it]"
     ]
    },
    {
     "name": "stdout",
     "output_type": "stream",
     "text": [
      "Train, epoch: [4][  4/280]\tLoss 1.3053e-01 (1.5984e-01)\tAccuracy 0.957 (0.944)\n"
     ]
    },
    {
     "name": "stderr",
     "output_type": "stream",
     "text": [
      "\r",
      " 43%|██████████████████████████████████▌                                             | 121/280 [35:19<46:26, 17.52s/it]"
     ]
    },
    {
     "name": "stdout",
     "output_type": "stream",
     "text": [
      "Train, epoch: [4][  4/280]\tLoss 1.8441e-01 (1.6004e-01)\tAccuracy 0.935 (0.944)\n"
     ]
    },
    {
     "name": "stderr",
     "output_type": "stream",
     "text": [
      "\r",
      " 44%|██████████████████████████████████▊                                             | 122/280 [35:36<46:08, 17.52s/it]"
     ]
    },
    {
     "name": "stdout",
     "output_type": "stream",
     "text": [
      "Train, epoch: [4][  4/280]\tLoss 1.1923e-01 (1.5971e-01)\tAccuracy 0.957 (0.944)\n"
     ]
    },
    {
     "name": "stderr",
     "output_type": "stream",
     "text": [
      "\r",
      " 44%|███████████████████████████████████▏                                            | 123/280 [35:54<45:50, 17.52s/it]"
     ]
    },
    {
     "name": "stdout",
     "output_type": "stream",
     "text": [
      "Train, epoch: [4][  4/280]\tLoss 2.4728e-01 (1.6042e-01)\tAccuracy 0.909 (0.944)\n"
     ]
    },
    {
     "name": "stderr",
     "output_type": "stream",
     "text": [
      "\r",
      " 44%|███████████████████████████████████▍                                            | 124/280 [36:11<45:42, 17.58s/it]"
     ]
    },
    {
     "name": "stdout",
     "output_type": "stream",
     "text": [
      "Train, epoch: [4][  4/280]\tLoss 1.4098e-01 (1.6026e-01)\tAccuracy 0.953 (0.944)\n"
     ]
    },
    {
     "name": "stderr",
     "output_type": "stream",
     "text": [
      "\r",
      " 45%|███████████████████████████████████▋                                            | 125/280 [36:29<45:26, 17.59s/it]"
     ]
    },
    {
     "name": "stdout",
     "output_type": "stream",
     "text": [
      "Train, epoch: [4][  4/280]\tLoss 1.5050e-01 (1.6019e-01)\tAccuracy 0.945 (0.944)\n"
     ]
    },
    {
     "name": "stderr",
     "output_type": "stream",
     "text": [
      "\r",
      " 45%|████████████████████████████████████                                            | 126/280 [36:46<44:58, 17.52s/it]"
     ]
    },
    {
     "name": "stdout",
     "output_type": "stream",
     "text": [
      "Train, epoch: [4][  4/280]\tLoss 1.4515e-01 (1.6007e-01)\tAccuracy 0.948 (0.944)\n"
     ]
    },
    {
     "name": "stderr",
     "output_type": "stream",
     "text": [
      "\r",
      " 45%|████████████████████████████████████▎                                           | 127/280 [37:04<44:41, 17.53s/it]"
     ]
    },
    {
     "name": "stdout",
     "output_type": "stream",
     "text": [
      "Train, epoch: [4][  4/280]\tLoss 9.2135e-02 (1.5953e-01)\tAccuracy 0.968 (0.944)\n"
     ]
    },
    {
     "name": "stderr",
     "output_type": "stream",
     "text": [
      "\r",
      " 46%|████████████████████████████████████▌                                           | 128/280 [37:21<44:25, 17.54s/it]"
     ]
    },
    {
     "name": "stdout",
     "output_type": "stream",
     "text": [
      "Train, epoch: [4][  4/280]\tLoss 1.3779e-01 (1.5936e-01)\tAccuracy 0.947 (0.944)\n"
     ]
    },
    {
     "name": "stderr",
     "output_type": "stream",
     "text": [
      "\r",
      " 46%|████████████████████████████████████▊                                           | 129/280 [37:39<44:11, 17.56s/it]"
     ]
    },
    {
     "name": "stdout",
     "output_type": "stream",
     "text": [
      "Train, epoch: [4][  4/280]\tLoss 1.7513e-01 (1.5948e-01)\tAccuracy 0.938 (0.944)\n"
     ]
    },
    {
     "name": "stderr",
     "output_type": "stream",
     "text": [
      "\r",
      " 46%|█████████████████████████████████████▏                                          | 130/280 [37:57<43:56, 17.57s/it]"
     ]
    },
    {
     "name": "stdout",
     "output_type": "stream",
     "text": [
      "Train, epoch: [4][  4/280]\tLoss 1.3607e-01 (1.5930e-01)\tAccuracy 0.953 (0.944)\n"
     ]
    },
    {
     "name": "stderr",
     "output_type": "stream",
     "text": [
      "\r",
      " 47%|█████████████████████████████████████▍                                          | 131/280 [38:14<43:31, 17.53s/it]"
     ]
    },
    {
     "name": "stdout",
     "output_type": "stream",
     "text": [
      "Train, epoch: [4][  4/280]\tLoss 1.7007e-01 (1.5939e-01)\tAccuracy 0.937 (0.944)\n"
     ]
    },
    {
     "name": "stderr",
     "output_type": "stream",
     "text": [
      "\r",
      " 47%|█████████████████████████████████████▋                                          | 132/280 [38:31<43:05, 17.47s/it]"
     ]
    },
    {
     "name": "stdout",
     "output_type": "stream",
     "text": [
      "Train, epoch: [4][  4/280]\tLoss 1.2592e-01 (1.5913e-01)\tAccuracy 0.955 (0.944)\n"
     ]
    },
    {
     "name": "stderr",
     "output_type": "stream",
     "text": [
      "\r",
      " 48%|██████████████████████████████████████                                          | 133/280 [38:49<42:41, 17.43s/it]"
     ]
    },
    {
     "name": "stdout",
     "output_type": "stream",
     "text": [
      "Train, epoch: [4][  4/280]\tLoss 1.7599e-01 (1.5926e-01)\tAccuracy 0.936 (0.944)\n"
     ]
    },
    {
     "name": "stderr",
     "output_type": "stream",
     "text": [
      "\r",
      " 48%|██████████████████████████████████████▎                                         | 134/280 [39:06<42:22, 17.41s/it]"
     ]
    },
    {
     "name": "stdout",
     "output_type": "stream",
     "text": [
      "Train, epoch: [4][  4/280]\tLoss 1.5214e-01 (1.5921e-01)\tAccuracy 0.945 (0.944)\n"
     ]
    },
    {
     "name": "stderr",
     "output_type": "stream",
     "text": [
      "\r",
      " 48%|██████████████████████████████████████▌                                         | 135/280 [39:24<42:09, 17.44s/it]"
     ]
    },
    {
     "name": "stdout",
     "output_type": "stream",
     "text": [
      "Train, epoch: [4][  4/280]\tLoss 1.1620e-01 (1.5889e-01)\tAccuracy 0.959 (0.944)\n"
     ]
    },
    {
     "name": "stderr",
     "output_type": "stream",
     "text": [
      "\r",
      " 49%|██████████████████████████████████████▊                                         | 136/280 [39:41<41:56, 17.47s/it]"
     ]
    },
    {
     "name": "stdout",
     "output_type": "stream",
     "text": [
      "Train, epoch: [4][  4/280]\tLoss 1.0406e-01 (1.5848e-01)\tAccuracy 0.963 (0.944)\n"
     ]
    },
    {
     "name": "stderr",
     "output_type": "stream",
     "text": [
      "\r",
      " 49%|███████████████████████████████████████▏                                        | 137/280 [39:59<41:42, 17.50s/it]"
     ]
    },
    {
     "name": "stdout",
     "output_type": "stream",
     "text": [
      "Train, epoch: [4][  4/280]\tLoss 1.2294e-01 (1.5822e-01)\tAccuracy 0.957 (0.945)\n"
     ]
    },
    {
     "name": "stderr",
     "output_type": "stream",
     "text": [
      "\r",
      " 49%|███████████████████████████████████████▍                                        | 138/280 [40:16<41:27, 17.52s/it]"
     ]
    },
    {
     "name": "stdout",
     "output_type": "stream",
     "text": [
      "Train, epoch: [4][  4/280]\tLoss 1.2927e-01 (1.5801e-01)\tAccuracy 0.955 (0.945)\n"
     ]
    },
    {
     "name": "stderr",
     "output_type": "stream",
     "text": [
      "\r",
      " 50%|███████████████████████████████████████▋                                        | 139/280 [40:34<41:10, 17.52s/it]"
     ]
    },
    {
     "name": "stdout",
     "output_type": "stream",
     "text": [
      "Train, epoch: [4][  4/280]\tLoss 2.1246e-01 (1.5841e-01)\tAccuracy 0.922 (0.944)\n"
     ]
    },
    {
     "name": "stderr",
     "output_type": "stream",
     "text": [
      "\r",
      " 50%|████████████████████████████████████████                                        | 140/280 [40:51<40:37, 17.41s/it]"
     ]
    },
    {
     "name": "stdout",
     "output_type": "stream",
     "text": [
      "Train, epoch: [4][  4/280]\tLoss 1.3611e-01 (1.5825e-01)\tAccuracy 0.949 (0.944)\n"
     ]
    },
    {
     "name": "stderr",
     "output_type": "stream",
     "text": [
      "\r",
      " 50%|████████████████████████████████████████▎                                       | 141/280 [41:08<40:23, 17.43s/it]"
     ]
    },
    {
     "name": "stdout",
     "output_type": "stream",
     "text": [
      "Train, epoch: [4][  4/280]\tLoss 1.4501e-01 (1.5815e-01)\tAccuracy 0.945 (0.944)\n"
     ]
    },
    {
     "name": "stderr",
     "output_type": "stream",
     "text": [
      "\r",
      " 51%|████████████████████████████████████████▌                                       | 142/280 [41:26<40:12, 17.48s/it]"
     ]
    },
    {
     "name": "stdout",
     "output_type": "stream",
     "text": [
      "Train, epoch: [4][  4/280]\tLoss 1.8187e-01 (1.5832e-01)\tAccuracy 0.940 (0.944)\n"
     ]
    },
    {
     "name": "stderr",
     "output_type": "stream",
     "text": [
      "\r",
      " 51%|████████████████████████████████████████▊                                       | 143/280 [41:43<39:50, 17.45s/it]"
     ]
    },
    {
     "name": "stdout",
     "output_type": "stream",
     "text": [
      "Train, epoch: [4][  4/280]\tLoss 1.9395e-01 (1.5857e-01)\tAccuracy 0.932 (0.944)\n"
     ]
    },
    {
     "name": "stderr",
     "output_type": "stream",
     "text": [
      "\r",
      " 51%|█████████████████████████████████████████▏                                      | 144/280 [42:01<39:35, 17.47s/it]"
     ]
    },
    {
     "name": "stdout",
     "output_type": "stream",
     "text": [
      "Train, epoch: [4][  4/280]\tLoss 1.0149e-01 (1.5817e-01)\tAccuracy 0.966 (0.945)\n"
     ]
    },
    {
     "name": "stderr",
     "output_type": "stream",
     "text": [
      "\r",
      " 52%|█████████████████████████████████████████▍                                      | 145/280 [42:18<39:19, 17.48s/it]"
     ]
    },
    {
     "name": "stdout",
     "output_type": "stream",
     "text": [
      "Train, epoch: [4][  4/280]\tLoss 1.8884e-01 (1.5838e-01)\tAccuracy 0.931 (0.944)\n"
     ]
    },
    {
     "name": "stderr",
     "output_type": "stream",
     "text": [
      "\r",
      " 52%|█████████████████████████████████████████▋                                      | 146/280 [42:36<39:04, 17.49s/it]"
     ]
    },
    {
     "name": "stdout",
     "output_type": "stream",
     "text": [
      "Train, epoch: [4][  4/280]\tLoss 1.8249e-01 (1.5855e-01)\tAccuracy 0.934 (0.944)\n"
     ]
    },
    {
     "name": "stderr",
     "output_type": "stream",
     "text": [
      "\r",
      " 52%|██████████████████████████████████████████                                      | 147/280 [42:53<38:45, 17.49s/it]"
     ]
    },
    {
     "name": "stdout",
     "output_type": "stream",
     "text": [
      "Train, epoch: [4][  4/280]\tLoss 9.4736e-02 (1.5812e-01)\tAccuracy 0.967 (0.945)\n"
     ]
    },
    {
     "name": "stderr",
     "output_type": "stream",
     "text": [
      "\r",
      " 53%|██████████████████████████████████████████▎                                     | 148/280 [43:11<38:28, 17.49s/it]"
     ]
    },
    {
     "name": "stdout",
     "output_type": "stream",
     "text": [
      "Train, epoch: [4][  4/280]\tLoss 1.9747e-01 (1.5838e-01)\tAccuracy 0.931 (0.944)\n"
     ]
    },
    {
     "name": "stderr",
     "output_type": "stream",
     "text": [
      "\r",
      " 53%|██████████████████████████████████████████▌                                     | 149/280 [43:28<38:07, 17.46s/it]"
     ]
    },
    {
     "name": "stdout",
     "output_type": "stream",
     "text": [
      "Train, epoch: [4][  4/280]\tLoss 1.6965e-01 (1.5846e-01)\tAccuracy 0.938 (0.944)\n"
     ]
    },
    {
     "name": "stderr",
     "output_type": "stream",
     "text": [
      "\r",
      " 54%|██████████████████████████████████████████▊                                     | 150/280 [43:46<37:51, 17.48s/it]"
     ]
    },
    {
     "name": "stdout",
     "output_type": "stream",
     "text": [
      "Train, epoch: [4][  4/280]\tLoss 1.4200e-01 (1.5835e-01)\tAccuracy 0.946 (0.944)\n"
     ]
    },
    {
     "name": "stderr",
     "output_type": "stream",
     "text": [
      "\r",
      " 54%|███████████████████████████████████████████▏                                    | 151/280 [44:03<37:30, 17.44s/it]"
     ]
    },
    {
     "name": "stdout",
     "output_type": "stream",
     "text": [
      "Train, epoch: [4][  4/280]\tLoss 9.5587e-02 (1.5793e-01)\tAccuracy 0.966 (0.945)\n"
     ]
    },
    {
     "name": "stderr",
     "output_type": "stream",
     "text": [
      "\r",
      " 54%|███████████████████████████████████████████▍                                    | 152/280 [44:21<37:16, 17.48s/it]"
     ]
    },
    {
     "name": "stdout",
     "output_type": "stream",
     "text": [
      "Train, epoch: [4][  4/280]\tLoss 1.7351e-01 (1.5803e-01)\tAccuracy 0.938 (0.944)\n"
     ]
    },
    {
     "name": "stderr",
     "output_type": "stream",
     "text": [
      "\r",
      " 55%|███████████████████████████████████████████▋                                    | 153/280 [44:38<36:54, 17.44s/it]"
     ]
    },
    {
     "name": "stdout",
     "output_type": "stream",
     "text": [
      "Train, epoch: [4][  4/280]\tLoss 1.2429e-01 (1.5781e-01)\tAccuracy 0.956 (0.945)\n"
     ]
    },
    {
     "name": "stderr",
     "output_type": "stream",
     "text": [
      "\r",
      " 55%|████████████████████████████████████████████                                    | 154/280 [44:55<36:36, 17.43s/it]"
     ]
    },
    {
     "name": "stdout",
     "output_type": "stream",
     "text": [
      "Train, epoch: [4][  4/280]\tLoss 1.8980e-01 (1.5802e-01)\tAccuracy 0.932 (0.944)\n"
     ]
    },
    {
     "name": "stderr",
     "output_type": "stream",
     "text": [
      "\r",
      " 55%|████████████████████████████████████████████▎                                   | 155/280 [45:13<36:21, 17.45s/it]"
     ]
    },
    {
     "name": "stdout",
     "output_type": "stream",
     "text": [
      "Train, epoch: [4][  4/280]\tLoss 2.0223e-01 (1.5831e-01)\tAccuracy 0.926 (0.944)\n"
     ]
    },
    {
     "name": "stderr",
     "output_type": "stream",
     "text": [
      "\r",
      " 56%|████████████████████████████████████████████▌                                   | 156/280 [45:30<36:03, 17.45s/it]"
     ]
    },
    {
     "name": "stdout",
     "output_type": "stream",
     "text": [
      "Train, epoch: [4][  4/280]\tLoss 1.4654e-01 (1.5823e-01)\tAccuracy 0.946 (0.944)\n"
     ]
    },
    {
     "name": "stderr",
     "output_type": "stream",
     "text": [
      "\r",
      " 56%|████████████████████████████████████████████▊                                   | 157/280 [45:48<35:42, 17.42s/it]"
     ]
    },
    {
     "name": "stdout",
     "output_type": "stream",
     "text": [
      "Train, epoch: [4][  4/280]\tLoss 1.2325e-01 (1.5801e-01)\tAccuracy 0.956 (0.944)\n"
     ]
    },
    {
     "name": "stderr",
     "output_type": "stream",
     "text": [
      "\r",
      " 56%|█████████████████████████████████████████████▏                                  | 158/280 [46:05<35:33, 17.49s/it]"
     ]
    },
    {
     "name": "stdout",
     "output_type": "stream",
     "text": [
      "Train, epoch: [4][  4/280]\tLoss 1.0731e-01 (1.5769e-01)\tAccuracy 0.961 (0.945)\n"
     ]
    },
    {
     "name": "stderr",
     "output_type": "stream",
     "text": [
      "\r",
      " 57%|█████████████████████████████████████████████▍                                  | 159/280 [46:23<35:17, 17.50s/it]"
     ]
    },
    {
     "name": "stdout",
     "output_type": "stream",
     "text": [
      "Train, epoch: [4][  4/280]\tLoss 1.3257e-01 (1.5753e-01)\tAccuracy 0.954 (0.945)\n"
     ]
    },
    {
     "name": "stderr",
     "output_type": "stream",
     "text": [
      "\r",
      " 57%|█████████████████████████████████████████████▋                                  | 160/280 [46:40<34:55, 17.46s/it]"
     ]
    },
    {
     "name": "stdout",
     "output_type": "stream",
     "text": [
      "Train, epoch: [4][  4/280]\tLoss 1.1834e-01 (1.5728e-01)\tAccuracy 0.958 (0.945)\n"
     ]
    },
    {
     "name": "stderr",
     "output_type": "stream",
     "text": [
      "\r",
      " 57%|██████████████████████████████████████████████                                  | 161/280 [46:58<34:38, 17.47s/it]"
     ]
    },
    {
     "name": "stdout",
     "output_type": "stream",
     "text": [
      "Train, epoch: [4][  4/280]\tLoss 2.0628e-01 (1.5759e-01)\tAccuracy 0.927 (0.945)\n"
     ]
    },
    {
     "name": "stderr",
     "output_type": "stream",
     "text": [
      "\r",
      " 58%|██████████████████████████████████████████████▎                                 | 162/280 [47:15<34:22, 17.48s/it]"
     ]
    },
    {
     "name": "stdout",
     "output_type": "stream",
     "text": [
      "Train, epoch: [4][  4/280]\tLoss 2.2148e-01 (1.5798e-01)\tAccuracy 0.922 (0.944)\n"
     ]
    },
    {
     "name": "stderr",
     "output_type": "stream",
     "text": [
      "\r",
      " 58%|██████████████████████████████████████████████▌                                 | 163/280 [47:33<34:03, 17.47s/it]"
     ]
    },
    {
     "name": "stdout",
     "output_type": "stream",
     "text": [
      "Train, epoch: [4][  4/280]\tLoss 2.0397e-01 (1.5827e-01)\tAccuracy 0.927 (0.944)\n"
     ]
    },
    {
     "name": "stderr",
     "output_type": "stream",
     "text": [
      "\r",
      " 59%|██████████████████████████████████████████████▊                                 | 164/280 [47:50<33:45, 17.46s/it]"
     ]
    },
    {
     "name": "stdout",
     "output_type": "stream",
     "text": [
      "Train, epoch: [4][  4/280]\tLoss 1.7780e-01 (1.5838e-01)\tAccuracy 0.940 (0.944)\n"
     ]
    },
    {
     "name": "stderr",
     "output_type": "stream",
     "text": [
      "\r",
      " 59%|███████████████████████████████████████████████▏                                | 165/280 [48:08<33:29, 17.47s/it]"
     ]
    },
    {
     "name": "stdout",
     "output_type": "stream",
     "text": [
      "Train, epoch: [4][  4/280]\tLoss 1.1319e-01 (1.5811e-01)\tAccuracy 0.959 (0.944)\n"
     ]
    },
    {
     "name": "stderr",
     "output_type": "stream",
     "text": [
      "\r",
      " 59%|███████████████████████████████████████████████▍                                | 166/280 [48:25<33:17, 17.52s/it]"
     ]
    },
    {
     "name": "stdout",
     "output_type": "stream",
     "text": [
      "Train, epoch: [4][  4/280]\tLoss 1.4372e-01 (1.5802e-01)\tAccuracy 0.949 (0.944)\n"
     ]
    },
    {
     "name": "stderr",
     "output_type": "stream",
     "text": [
      "\r",
      " 60%|███████████████████████████████████████████████▋                                | 167/280 [48:43<33:01, 17.54s/it]"
     ]
    },
    {
     "name": "stdout",
     "output_type": "stream",
     "text": [
      "Train, epoch: [4][  4/280]\tLoss 1.1026e-01 (1.5774e-01)\tAccuracy 0.960 (0.945)\n"
     ]
    },
    {
     "name": "stderr",
     "output_type": "stream",
     "text": [
      "\r",
      " 60%|████████████████████████████████████████████████                                | 168/280 [49:00<32:40, 17.50s/it]"
     ]
    },
    {
     "name": "stdout",
     "output_type": "stream",
     "text": [
      "Train, epoch: [4][  4/280]\tLoss 1.7589e-01 (1.5785e-01)\tAccuracy 0.938 (0.944)\n"
     ]
    },
    {
     "name": "stderr",
     "output_type": "stream",
     "text": [
      "\r",
      " 60%|████████████████████████████████████████████████▎                               | 169/280 [49:18<32:22, 17.50s/it]"
     ]
    },
    {
     "name": "stdout",
     "output_type": "stream",
     "text": [
      "Train, epoch: [4][  4/280]\tLoss 1.3117e-01 (1.5769e-01)\tAccuracy 0.952 (0.945)\n"
     ]
    },
    {
     "name": "stderr",
     "output_type": "stream",
     "text": [
      "\r",
      " 61%|████████████████████████████████████████████████▌                               | 170/280 [49:35<32:05, 17.50s/it]"
     ]
    },
    {
     "name": "stdout",
     "output_type": "stream",
     "text": [
      "Train, epoch: [4][  4/280]\tLoss 2.0545e-01 (1.5797e-01)\tAccuracy 0.929 (0.944)\n"
     ]
    },
    {
     "name": "stderr",
     "output_type": "stream",
     "text": [
      "\r",
      " 61%|████████████████████████████████████████████████▊                               | 171/280 [49:53<31:50, 17.52s/it]"
     ]
    },
    {
     "name": "stdout",
     "output_type": "stream",
     "text": [
      "Train, epoch: [4][  4/280]\tLoss 1.1516e-01 (1.5772e-01)\tAccuracy 0.957 (0.945)\n"
     ]
    },
    {
     "name": "stderr",
     "output_type": "stream",
     "text": [
      "\r",
      " 61%|█████████████████████████████████████████████████▏                              | 172/280 [50:10<31:30, 17.50s/it]"
     ]
    },
    {
     "name": "stdout",
     "output_type": "stream",
     "text": [
      "Train, epoch: [4][  4/280]\tLoss 1.7327e-01 (1.5781e-01)\tAccuracy 0.942 (0.945)\n"
     ]
    },
    {
     "name": "stderr",
     "output_type": "stream",
     "text": [
      "\r",
      " 62%|█████████████████████████████████████████████████▍                              | 173/280 [50:28<31:10, 17.48s/it]"
     ]
    },
    {
     "name": "stdout",
     "output_type": "stream",
     "text": [
      "Train, epoch: [4][  4/280]\tLoss 1.9742e-01 (1.5804e-01)\tAccuracy 0.928 (0.944)\n"
     ]
    },
    {
     "name": "stderr",
     "output_type": "stream",
     "text": [
      "\r",
      " 62%|█████████████████████████████████████████████████▋                              | 174/280 [50:45<30:56, 17.51s/it]"
     ]
    },
    {
     "name": "stdout",
     "output_type": "stream",
     "text": [
      "Train, epoch: [4][  4/280]\tLoss 1.5083e-01 (1.5800e-01)\tAccuracy 0.945 (0.944)\n"
     ]
    },
    {
     "name": "stderr",
     "output_type": "stream",
     "text": [
      "\r",
      " 62%|██████████████████████████████████████████████████                              | 175/280 [51:03<30:38, 17.51s/it]"
     ]
    },
    {
     "name": "stdout",
     "output_type": "stream",
     "text": [
      "Train, epoch: [4][  4/280]\tLoss 1.1867e-01 (1.5777e-01)\tAccuracy 0.958 (0.944)\n"
     ]
    },
    {
     "name": "stderr",
     "output_type": "stream",
     "text": [
      "\r",
      " 63%|██████████████████████████████████████████████████▎                             | 176/280 [51:20<30:20, 17.51s/it]"
     ]
    },
    {
     "name": "stdout",
     "output_type": "stream",
     "text": [
      "Train, epoch: [4][  4/280]\tLoss 1.2873e-01 (1.5761e-01)\tAccuracy 0.952 (0.945)\n"
     ]
    },
    {
     "name": "stderr",
     "output_type": "stream",
     "text": [
      "\r",
      " 63%|██████████████████████████████████████████████████▌                             | 177/280 [51:38<30:08, 17.56s/it]"
     ]
    },
    {
     "name": "stdout",
     "output_type": "stream",
     "text": [
      "Train, epoch: [4][  4/280]\tLoss 2.5780e-01 (1.5817e-01)\tAccuracy 0.908 (0.944)\n"
     ]
    },
    {
     "name": "stderr",
     "output_type": "stream",
     "text": [
      "\r",
      " 64%|██████████████████████████████████████████████████▊                             | 178/280 [51:56<29:56, 17.61s/it]"
     ]
    },
    {
     "name": "stdout",
     "output_type": "stream",
     "text": [
      "Train, epoch: [4][  4/280]\tLoss 1.8550e-01 (1.5833e-01)\tAccuracy 0.930 (0.944)\n"
     ]
    },
    {
     "name": "stderr",
     "output_type": "stream",
     "text": [
      "\r",
      " 64%|███████████████████████████████████████████████████▏                            | 179/280 [52:13<29:38, 17.60s/it]"
     ]
    },
    {
     "name": "stdout",
     "output_type": "stream",
     "text": [
      "Train, epoch: [4][  4/280]\tLoss 1.6650e-01 (1.5837e-01)\tAccuracy 0.941 (0.944)\n"
     ]
    },
    {
     "name": "stderr",
     "output_type": "stream",
     "text": [
      "\r",
      " 64%|███████████████████████████████████████████████████▍                            | 180/280 [52:31<29:15, 17.55s/it]"
     ]
    },
    {
     "name": "stdout",
     "output_type": "stream",
     "text": [
      "Train, epoch: [4][  4/280]\tLoss 1.0619e-01 (1.5808e-01)\tAccuracy 0.961 (0.944)\n"
     ]
    },
    {
     "name": "stderr",
     "output_type": "stream",
     "text": [
      "\r",
      " 65%|███████████████████████████████████████████████████▋                            | 181/280 [52:48<28:53, 17.51s/it]"
     ]
    },
    {
     "name": "stdout",
     "output_type": "stream",
     "text": [
      "Train, epoch: [4][  4/280]\tLoss 2.1416e-01 (1.5839e-01)\tAccuracy 0.929 (0.944)\n"
     ]
    },
    {
     "name": "stderr",
     "output_type": "stream",
     "text": [
      "\r",
      " 65%|████████████████████████████████████████████████████                            | 182/280 [53:06<28:37, 17.53s/it]"
     ]
    },
    {
     "name": "stdout",
     "output_type": "stream",
     "text": [
      "Train, epoch: [4][  4/280]\tLoss 1.1444e-01 (1.5815e-01)\tAccuracy 0.961 (0.944)\n"
     ]
    },
    {
     "name": "stderr",
     "output_type": "stream",
     "text": [
      "\r",
      " 65%|████████████████████████████████████████████████████▎                           | 183/280 [53:23<28:24, 17.57s/it]"
     ]
    },
    {
     "name": "stdout",
     "output_type": "stream",
     "text": [
      "Train, epoch: [4][  4/280]\tLoss 1.9317e-01 (1.5834e-01)\tAccuracy 0.934 (0.944)\n"
     ]
    },
    {
     "name": "stderr",
     "output_type": "stream",
     "text": [
      "\r",
      " 66%|████████████████████████████████████████████████████▌                           | 184/280 [53:41<28:04, 17.55s/it]"
     ]
    },
    {
     "name": "stdout",
     "output_type": "stream",
     "text": [
      "Train, epoch: [4][  4/280]\tLoss 1.4241e-01 (1.5826e-01)\tAccuracy 0.947 (0.944)\n"
     ]
    },
    {
     "name": "stderr",
     "output_type": "stream",
     "text": [
      "\r",
      " 66%|████████████████████████████████████████████████████▊                           | 185/280 [53:58<27:44, 17.52s/it]"
     ]
    },
    {
     "name": "stdout",
     "output_type": "stream",
     "text": [
      "Train, epoch: [4][  4/280]\tLoss 1.9605e-01 (1.5846e-01)\tAccuracy 0.931 (0.944)\n"
     ]
    },
    {
     "name": "stderr",
     "output_type": "stream",
     "text": [
      "\r",
      " 66%|█████████████████████████████████████████████████████▏                          | 186/280 [54:16<27:28, 17.54s/it]"
     ]
    },
    {
     "name": "stdout",
     "output_type": "stream",
     "text": [
      "Train, epoch: [4][  4/280]\tLoss 1.9315e-01 (1.5865e-01)\tAccuracy 0.934 (0.944)\n"
     ]
    },
    {
     "name": "stderr",
     "output_type": "stream",
     "text": [
      "\r",
      " 67%|█████████████████████████████████████████████████████▍                          | 187/280 [54:34<27:15, 17.58s/it]"
     ]
    },
    {
     "name": "stdout",
     "output_type": "stream",
     "text": [
      "Train, epoch: [4][  4/280]\tLoss 1.4138e-01 (1.5855e-01)\tAccuracy 0.947 (0.944)\n"
     ]
    },
    {
     "name": "stderr",
     "output_type": "stream",
     "text": [
      "\r",
      " 67%|█████████████████████████████████████████████████████▋                          | 188/280 [54:51<26:56, 17.57s/it]"
     ]
    },
    {
     "name": "stdout",
     "output_type": "stream",
     "text": [
      "Train, epoch: [4][  4/280]\tLoss 8.1558e-02 (1.5814e-01)\tAccuracy 0.970 (0.944)\n"
     ]
    },
    {
     "name": "stderr",
     "output_type": "stream",
     "text": [
      "\r",
      " 68%|██████████████████████████████████████████████████████                          | 189/280 [55:09<26:34, 17.52s/it]"
     ]
    },
    {
     "name": "stdout",
     "output_type": "stream",
     "text": [
      "Train, epoch: [4][  4/280]\tLoss 1.3589e-01 (1.5803e-01)\tAccuracy 0.951 (0.944)\n"
     ]
    },
    {
     "name": "stderr",
     "output_type": "stream",
     "text": [
      "\r",
      " 68%|██████████████████████████████████████████████████████▎                         | 190/280 [55:26<26:16, 17.51s/it]"
     ]
    },
    {
     "name": "stdout",
     "output_type": "stream",
     "text": [
      "Train, epoch: [4][  4/280]\tLoss 1.4306e-01 (1.5795e-01)\tAccuracy 0.947 (0.944)\n"
     ]
    },
    {
     "name": "stderr",
     "output_type": "stream",
     "text": [
      "\r",
      " 68%|██████████████████████████████████████████████████████▌                         | 191/280 [55:44<25:57, 17.50s/it]"
     ]
    },
    {
     "name": "stdout",
     "output_type": "stream",
     "text": [
      "Train, epoch: [4][  4/280]\tLoss 1.1401e-01 (1.5772e-01)\tAccuracy 0.958 (0.944)\n"
     ]
    },
    {
     "name": "stderr",
     "output_type": "stream",
     "text": [
      "\r",
      " 69%|██████████████████████████████████████████████████████▊                         | 192/280 [56:01<25:36, 17.46s/it]"
     ]
    },
    {
     "name": "stdout",
     "output_type": "stream",
     "text": [
      "Train, epoch: [4][  4/280]\tLoss 1.7638e-01 (1.5782e-01)\tAccuracy 0.937 (0.944)\n"
     ]
    },
    {
     "name": "stderr",
     "output_type": "stream",
     "text": [
      "\r",
      " 69%|███████████████████████████████████████████████████████▏                        | 193/280 [56:18<25:17, 17.44s/it]"
     ]
    },
    {
     "name": "stdout",
     "output_type": "stream",
     "text": [
      "Train, epoch: [4][  4/280]\tLoss 1.3283e-01 (1.5769e-01)\tAccuracy 0.952 (0.944)\n"
     ]
    },
    {
     "name": "stderr",
     "output_type": "stream",
     "text": [
      "\r",
      " 69%|███████████████████████████████████████████████████████▍                        | 194/280 [56:36<25:03, 17.48s/it]"
     ]
    },
    {
     "name": "stdout",
     "output_type": "stream",
     "text": [
      "Train, epoch: [4][  4/280]\tLoss 1.9348e-01 (1.5787e-01)\tAccuracy 0.947 (0.944)\n"
     ]
    },
    {
     "name": "stderr",
     "output_type": "stream",
     "text": [
      "\r",
      " 70%|███████████████████████████████████████████████████████▋                        | 195/280 [56:53<24:44, 17.46s/it]"
     ]
    },
    {
     "name": "stdout",
     "output_type": "stream",
     "text": [
      "Train, epoch: [4][  4/280]\tLoss 1.9113e-01 (1.5804e-01)\tAccuracy 0.937 (0.944)\n"
     ]
    },
    {
     "name": "stderr",
     "output_type": "stream",
     "text": [
      "\r",
      " 70%|████████████████████████████████████████████████████████                        | 196/280 [57:11<24:30, 17.50s/it]"
     ]
    },
    {
     "name": "stdout",
     "output_type": "stream",
     "text": [
      "Train, epoch: [4][  4/280]\tLoss 1.1184e-01 (1.5781e-01)\tAccuracy 0.962 (0.945)\n"
     ]
    },
    {
     "name": "stderr",
     "output_type": "stream",
     "text": [
      "\r",
      " 70%|████████████████████████████████████████████████████████▎                       | 197/280 [57:28<24:11, 17.49s/it]"
     ]
    },
    {
     "name": "stdout",
     "output_type": "stream",
     "text": [
      "Train, epoch: [4][  4/280]\tLoss 1.8404e-01 (1.5794e-01)\tAccuracy 0.932 (0.944)\n"
     ]
    },
    {
     "name": "stderr",
     "output_type": "stream",
     "text": [
      "\r",
      " 71%|████████████████████████████████████████████████████████▌                       | 198/280 [57:46<23:51, 17.46s/it]"
     ]
    },
    {
     "name": "stdout",
     "output_type": "stream",
     "text": [
      "Train, epoch: [4][  4/280]\tLoss 1.5944e-01 (1.5795e-01)\tAccuracy 0.942 (0.944)\n"
     ]
    },
    {
     "name": "stderr",
     "output_type": "stream",
     "text": [
      "\r",
      " 71%|████████████████████████████████████████████████████████▊                       | 199/280 [58:03<23:36, 17.48s/it]"
     ]
    },
    {
     "name": "stdout",
     "output_type": "stream",
     "text": [
      "Train, epoch: [4][  4/280]\tLoss 1.4337e-01 (1.5787e-01)\tAccuracy 0.948 (0.944)\n"
     ]
    },
    {
     "name": "stderr",
     "output_type": "stream",
     "text": [
      "\r",
      " 71%|█████████████████████████████████████████████████████████▏                      | 200/280 [58:21<23:14, 17.43s/it]"
     ]
    },
    {
     "name": "stdout",
     "output_type": "stream",
     "text": [
      "Train, epoch: [4][  4/280]\tLoss 1.3919e-01 (1.5778e-01)\tAccuracy 0.951 (0.944)\n"
     ]
    },
    {
     "name": "stderr",
     "output_type": "stream",
     "text": [
      "\r",
      " 72%|█████████████████████████████████████████████████████████▍                      | 201/280 [58:38<22:55, 17.41s/it]"
     ]
    },
    {
     "name": "stdout",
     "output_type": "stream",
     "text": [
      "Train, epoch: [4][  4/280]\tLoss 2.1612e-01 (1.5807e-01)\tAccuracy 0.916 (0.944)\n"
     ]
    },
    {
     "name": "stderr",
     "output_type": "stream",
     "text": [
      "\r",
      " 72%|█████████████████████████████████████████████████████████▋                      | 202/280 [58:56<22:42, 17.47s/it]"
     ]
    },
    {
     "name": "stdout",
     "output_type": "stream",
     "text": [
      "Train, epoch: [4][  4/280]\tLoss 1.1950e-01 (1.5788e-01)\tAccuracy 0.958 (0.944)\n"
     ]
    },
    {
     "name": "stderr",
     "output_type": "stream",
     "text": [
      "\r",
      " 72%|██████████████████████████████████████████████████████████                      | 203/280 [59:13<22:31, 17.55s/it]"
     ]
    },
    {
     "name": "stdout",
     "output_type": "stream",
     "text": [
      "Train, epoch: [4][  4/280]\tLoss 1.9329e-01 (1.5805e-01)\tAccuracy 0.933 (0.944)\n"
     ]
    },
    {
     "name": "stderr",
     "output_type": "stream",
     "text": [
      "\r",
      " 73%|██████████████████████████████████████████████████████████▎                     | 204/280 [59:31<22:10, 17.51s/it]"
     ]
    },
    {
     "name": "stdout",
     "output_type": "stream",
     "text": [
      "Train, epoch: [4][  4/280]\tLoss 1.9547e-01 (1.5824e-01)\tAccuracy 0.931 (0.944)\n"
     ]
    },
    {
     "name": "stderr",
     "output_type": "stream",
     "text": [
      "\r",
      " 73%|██████████████████████████████████████████████████████████▌                     | 205/280 [59:48<21:52, 17.50s/it]"
     ]
    },
    {
     "name": "stdout",
     "output_type": "stream",
     "text": [
      "Train, epoch: [4][  4/280]\tLoss 1.3141e-01 (1.5811e-01)\tAccuracy 0.950 (0.944)\n"
     ]
    },
    {
     "name": "stderr",
     "output_type": "stream",
     "text": [
      "\r",
      " 74%|█████████████████████████████████████████████████████████▍                    | 206/280 [1:00:06<21:32, 17.46s/it]"
     ]
    },
    {
     "name": "stdout",
     "output_type": "stream",
     "text": [
      "Train, epoch: [4][  4/280]\tLoss 1.3160e-01 (1.5798e-01)\tAccuracy 0.951 (0.944)\n"
     ]
    },
    {
     "name": "stderr",
     "output_type": "stream",
     "text": [
      "\r",
      " 74%|█████████████████████████████████████████████████████████▋                    | 207/280 [1:00:23<21:15, 17.47s/it]"
     ]
    },
    {
     "name": "stdout",
     "output_type": "stream",
     "text": [
      "Train, epoch: [4][  4/280]\tLoss 1.5555e-01 (1.5797e-01)\tAccuracy 0.944 (0.944)\n"
     ]
    },
    {
     "name": "stderr",
     "output_type": "stream",
     "text": [
      "\r",
      " 74%|█████████████████████████████████████████████████████████▉                    | 208/280 [1:00:41<21:01, 17.52s/it]"
     ]
    },
    {
     "name": "stdout",
     "output_type": "stream",
     "text": [
      "Train, epoch: [4][  4/280]\tLoss 1.5683e-01 (1.5796e-01)\tAccuracy 0.944 (0.944)\n"
     ]
    },
    {
     "name": "stderr",
     "output_type": "stream",
     "text": [
      "\r",
      " 75%|██████████████████████████████████████████████████████████▏                   | 209/280 [1:00:58<20:41, 17.49s/it]"
     ]
    },
    {
     "name": "stdout",
     "output_type": "stream",
     "text": [
      "Train, epoch: [4][  4/280]\tLoss 1.7521e-01 (1.5804e-01)\tAccuracy 0.935 (0.944)\n"
     ]
    },
    {
     "name": "stderr",
     "output_type": "stream",
     "text": [
      "\r",
      " 75%|██████████████████████████████████████████████████████████▌                   | 210/280 [1:01:16<20:22, 17.46s/it]"
     ]
    },
    {
     "name": "stdout",
     "output_type": "stream",
     "text": [
      "Train, epoch: [4][  4/280]\tLoss 2.1886e-01 (1.5833e-01)\tAccuracy 0.922 (0.944)\n"
     ]
    },
    {
     "name": "stderr",
     "output_type": "stream",
     "text": [
      "\r",
      " 75%|██████████████████████████████████████████████████████████▊                   | 211/280 [1:01:33<20:03, 17.45s/it]"
     ]
    },
    {
     "name": "stdout",
     "output_type": "stream",
     "text": [
      "Train, epoch: [4][  4/280]\tLoss 1.3263e-01 (1.5821e-01)\tAccuracy 0.954 (0.944)\n"
     ]
    },
    {
     "name": "stderr",
     "output_type": "stream",
     "text": [
      "\r",
      " 76%|███████████████████████████████████████████████████████████                   | 212/280 [1:01:51<19:50, 17.51s/it]"
     ]
    },
    {
     "name": "stdout",
     "output_type": "stream",
     "text": [
      "Train, epoch: [4][  4/280]\tLoss 2.1554e-01 (1.5848e-01)\tAccuracy 0.922 (0.944)\n"
     ]
    },
    {
     "name": "stderr",
     "output_type": "stream",
     "text": [
      "\r",
      " 76%|███████████████████████████████████████████████████████████▎                  | 213/280 [1:02:08<19:31, 17.48s/it]"
     ]
    },
    {
     "name": "stdout",
     "output_type": "stream",
     "text": [
      "Train, epoch: [4][  4/280]\tLoss 1.2638e-01 (1.5833e-01)\tAccuracy 0.953 (0.944)\n"
     ]
    },
    {
     "name": "stderr",
     "output_type": "stream",
     "text": [
      "\r",
      " 76%|███████████████████████████████████████████████████████████▌                  | 214/280 [1:02:26<19:15, 17.51s/it]"
     ]
    },
    {
     "name": "stdout",
     "output_type": "stream",
     "text": [
      "Train, epoch: [4][  4/280]\tLoss 1.1497e-01 (1.5813e-01)\tAccuracy 0.958 (0.944)\n"
     ]
    },
    {
     "name": "stderr",
     "output_type": "stream",
     "text": [
      "\r",
      " 77%|███████████████████████████████████████████████████████████▉                  | 215/280 [1:02:43<18:58, 17.51s/it]"
     ]
    },
    {
     "name": "stdout",
     "output_type": "stream",
     "text": [
      "Train, epoch: [4][  4/280]\tLoss 1.3813e-01 (1.5803e-01)\tAccuracy 0.949 (0.944)\n"
     ]
    },
    {
     "name": "stderr",
     "output_type": "stream",
     "text": [
      "\r",
      " 77%|████████████████████████████████████████████████████████████▏                 | 216/280 [1:03:01<18:44, 17.56s/it]"
     ]
    },
    {
     "name": "stdout",
     "output_type": "stream",
     "text": [
      "Train, epoch: [4][  4/280]\tLoss 9.5563e-02 (1.5774e-01)\tAccuracy 0.966 (0.944)\n"
     ]
    },
    {
     "name": "stderr",
     "output_type": "stream",
     "text": [
      "\r",
      " 78%|████████████████████████████████████████████████████████████▍                 | 217/280 [1:03:18<18:26, 17.57s/it]"
     ]
    },
    {
     "name": "stdout",
     "output_type": "stream",
     "text": [
      "Train, epoch: [4][  4/280]\tLoss 1.0767e-01 (1.5751e-01)\tAccuracy 0.964 (0.944)\n"
     ]
    },
    {
     "name": "stderr",
     "output_type": "stream",
     "text": [
      "\r",
      " 78%|████████████████████████████████████████████████████████████▋                 | 218/280 [1:03:36<18:09, 17.57s/it]"
     ]
    },
    {
     "name": "stdout",
     "output_type": "stream",
     "text": [
      "Train, epoch: [4][  4/280]\tLoss 2.1710e-01 (1.5779e-01)\tAccuracy 0.921 (0.944)\n"
     ]
    },
    {
     "name": "stderr",
     "output_type": "stream",
     "text": [
      "\r",
      " 78%|█████████████████████████████████████████████████████████████                 | 219/280 [1:03:54<17:51, 17.57s/it]"
     ]
    },
    {
     "name": "stdout",
     "output_type": "stream",
     "text": [
      "Train, epoch: [4][  4/280]\tLoss 1.4744e-01 (1.5774e-01)\tAccuracy 0.948 (0.944)\n"
     ]
    },
    {
     "name": "stderr",
     "output_type": "stream",
     "text": [
      "\r",
      " 79%|█████████████████████████████████████████████████████████████▎                | 220/280 [1:04:11<17:30, 17.50s/it]"
     ]
    },
    {
     "name": "stdout",
     "output_type": "stream",
     "text": [
      "Train, epoch: [4][  4/280]\tLoss 1.7525e-01 (1.5782e-01)\tAccuracy 0.938 (0.944)\n"
     ]
    },
    {
     "name": "stderr",
     "output_type": "stream",
     "text": [
      "\r",
      " 79%|█████████████████████████████████████████████████████████████▌                | 221/280 [1:04:28<17:10, 17.47s/it]"
     ]
    },
    {
     "name": "stdout",
     "output_type": "stream",
     "text": [
      "Train, epoch: [4][  4/280]\tLoss 1.6865e-01 (1.5787e-01)\tAccuracy 0.943 (0.944)\n"
     ]
    },
    {
     "name": "stderr",
     "output_type": "stream",
     "text": [
      "\r",
      " 79%|█████████████████████████████████████████████████████████████▊                | 222/280 [1:04:46<16:56, 17.52s/it]"
     ]
    },
    {
     "name": "stdout",
     "output_type": "stream",
     "text": [
      "Train, epoch: [4][  4/280]\tLoss 1.3971e-01 (1.5779e-01)\tAccuracy 0.950 (0.944)\n"
     ]
    },
    {
     "name": "stderr",
     "output_type": "stream",
     "text": [
      "\r",
      " 80%|██████████████████████████████████████████████████████████████                | 223/280 [1:05:03<16:36, 17.47s/it]"
     ]
    },
    {
     "name": "stdout",
     "output_type": "stream",
     "text": [
      "Train, epoch: [4][  4/280]\tLoss 1.7277e-01 (1.5785e-01)\tAccuracy 0.939 (0.944)\n"
     ]
    },
    {
     "name": "stderr",
     "output_type": "stream",
     "text": [
      "\r",
      " 80%|██████████████████████████████████████████████████████████████▍               | 224/280 [1:05:21<16:18, 17.48s/it]"
     ]
    },
    {
     "name": "stdout",
     "output_type": "stream",
     "text": [
      "Train, epoch: [4][  4/280]\tLoss 1.4545e-01 (1.5780e-01)\tAccuracy 0.950 (0.944)\n"
     ]
    },
    {
     "name": "stderr",
     "output_type": "stream",
     "text": [
      "\r",
      " 80%|██████████████████████████████████████████████████████████████▋               | 225/280 [1:05:38<16:01, 17.49s/it]"
     ]
    },
    {
     "name": "stdout",
     "output_type": "stream",
     "text": [
      "Train, epoch: [4][  4/280]\tLoss 1.5346e-01 (1.5778e-01)\tAccuracy 0.946 (0.944)\n"
     ]
    },
    {
     "name": "stderr",
     "output_type": "stream",
     "text": [
      "\r",
      " 81%|██████████████████████████████████████████████████████████████▉               | 226/280 [1:05:56<15:44, 17.48s/it]"
     ]
    },
    {
     "name": "stdout",
     "output_type": "stream",
     "text": [
      "Train, epoch: [4][  4/280]\tLoss 1.4997e-01 (1.5774e-01)\tAccuracy 0.947 (0.944)\n"
     ]
    },
    {
     "name": "stderr",
     "output_type": "stream",
     "text": [
      "\r",
      " 81%|███████████████████████████████████████████████████████████████▏              | 227/280 [1:06:13<15:29, 17.53s/it]"
     ]
    },
    {
     "name": "stdout",
     "output_type": "stream",
     "text": [
      "Train, epoch: [4][  4/280]\tLoss 1.6675e-01 (1.5778e-01)\tAccuracy 0.945 (0.944)\n"
     ]
    },
    {
     "name": "stderr",
     "output_type": "stream",
     "text": [
      "\r",
      " 81%|███████████████████████████████████████████████████████████████▌              | 228/280 [1:06:31<15:10, 17.52s/it]"
     ]
    },
    {
     "name": "stdout",
     "output_type": "stream",
     "text": [
      "Train, epoch: [4][  4/280]\tLoss 1.2360e-01 (1.5763e-01)\tAccuracy 0.956 (0.944)\n"
     ]
    },
    {
     "name": "stderr",
     "output_type": "stream",
     "text": [
      "\r",
      " 82%|███████████████████████████████████████████████████████████████▊              | 229/280 [1:06:49<14:56, 17.58s/it]"
     ]
    },
    {
     "name": "stdout",
     "output_type": "stream",
     "text": [
      "Train, epoch: [4][  4/280]\tLoss 1.4997e-01 (1.5760e-01)\tAccuracy 0.948 (0.944)\n"
     ]
    },
    {
     "name": "stderr",
     "output_type": "stream",
     "text": [
      "\r",
      " 82%|████████████████████████████████████████████████████████████████              | 230/280 [1:07:06<14:37, 17.55s/it]"
     ]
    },
    {
     "name": "stdout",
     "output_type": "stream",
     "text": [
      "Train, epoch: [4][  4/280]\tLoss 2.0915e-01 (1.5783e-01)\tAccuracy 0.924 (0.944)\n"
     ]
    },
    {
     "name": "stderr",
     "output_type": "stream",
     "text": [
      "\r",
      " 82%|████████████████████████████████████████████████████████████████▎             | 231/280 [1:07:24<14:21, 17.58s/it]"
     ]
    },
    {
     "name": "stdout",
     "output_type": "stream",
     "text": [
      "Train, epoch: [4][  4/280]\tLoss 2.2688e-01 (1.5812e-01)\tAccuracy 0.918 (0.944)\n"
     ]
    },
    {
     "name": "stderr",
     "output_type": "stream",
     "text": [
      "\r",
      " 83%|████████████████████████████████████████████████████████████████▋             | 232/280 [1:07:41<14:02, 17.56s/it]"
     ]
    },
    {
     "name": "stdout",
     "output_type": "stream",
     "text": [
      "Train, epoch: [4][  4/280]\tLoss 9.9881e-02 (1.5787e-01)\tAccuracy 0.965 (0.944)\n"
     ]
    },
    {
     "name": "stderr",
     "output_type": "stream",
     "text": [
      "\r",
      " 83%|████████████████████████████████████████████████████████████████▉             | 233/280 [1:07:59<13:48, 17.63s/it]"
     ]
    },
    {
     "name": "stdout",
     "output_type": "stream",
     "text": [
      "Train, epoch: [4][  4/280]\tLoss 1.4681e-01 (1.5783e-01)\tAccuracy 0.948 (0.944)\n"
     ]
    },
    {
     "name": "stderr",
     "output_type": "stream",
     "text": [
      "\r",
      " 84%|█████████████████████████████████████████████████████████████████▏            | 234/280 [1:08:17<13:30, 17.62s/it]"
     ]
    },
    {
     "name": "stdout",
     "output_type": "stream",
     "text": [
      "Train, epoch: [4][  4/280]\tLoss 4.1625e-01 (1.5893e-01)\tAccuracy 0.870 (0.944)\n"
     ]
    },
    {
     "name": "stderr",
     "output_type": "stream",
     "text": [
      "\r",
      " 84%|█████████████████████████████████████████████████████████████████▍            | 235/280 [1:08:34<13:11, 17.59s/it]"
     ]
    },
    {
     "name": "stdout",
     "output_type": "stream",
     "text": [
      "Train, epoch: [4][  4/280]\tLoss 1.8403e-01 (1.5904e-01)\tAccuracy 0.933 (0.944)\n"
     ]
    },
    {
     "name": "stderr",
     "output_type": "stream",
     "text": [
      "\r",
      " 84%|█████████████████████████████████████████████████████████████████▋            | 236/280 [1:08:52<12:56, 17.65s/it]"
     ]
    },
    {
     "name": "stdout",
     "output_type": "stream",
     "text": [
      "Train, epoch: [4][  4/280]\tLoss 1.1214e-01 (1.5884e-01)\tAccuracy 0.959 (0.944)\n"
     ]
    },
    {
     "name": "stderr",
     "output_type": "stream",
     "text": [
      "\r",
      " 85%|██████████████████████████████████████████████████████████████████            | 237/280 [1:09:09<12:36, 17.60s/it]"
     ]
    },
    {
     "name": "stdout",
     "output_type": "stream",
     "text": [
      "Train, epoch: [4][  4/280]\tLoss 9.5627e-02 (1.5857e-01)\tAccuracy 0.968 (0.944)\n"
     ]
    },
    {
     "name": "stderr",
     "output_type": "stream",
     "text": [
      "\r",
      " 85%|██████████████████████████████████████████████████████████████████▎           | 238/280 [1:09:27<12:18, 17.58s/it]"
     ]
    },
    {
     "name": "stdout",
     "output_type": "stream",
     "text": [
      "Train, epoch: [4][  4/280]\tLoss 1.3297e-01 (1.5846e-01)\tAccuracy 0.952 (0.944)\n"
     ]
    },
    {
     "name": "stderr",
     "output_type": "stream",
     "text": [
      "\r",
      " 85%|██████████████████████████████████████████████████████████████████▌           | 239/280 [1:09:44<11:59, 17.54s/it]"
     ]
    },
    {
     "name": "stdout",
     "output_type": "stream",
     "text": [
      "Train, epoch: [4][  4/280]\tLoss 1.3778e-01 (1.5838e-01)\tAccuracy 0.953 (0.944)\n"
     ]
    },
    {
     "name": "stderr",
     "output_type": "stream",
     "text": [
      "\r",
      " 86%|██████████████████████████████████████████████████████████████████▊           | 240/280 [1:10:02<11:41, 17.54s/it]"
     ]
    },
    {
     "name": "stdout",
     "output_type": "stream",
     "text": [
      "Train, epoch: [4][  4/280]\tLoss 1.3407e-01 (1.5828e-01)\tAccuracy 0.954 (0.944)\n"
     ]
    },
    {
     "name": "stderr",
     "output_type": "stream",
     "text": [
      "\r",
      " 86%|███████████████████████████████████████████████████████████████████▏          | 241/280 [1:10:20<11:24, 17.56s/it]"
     ]
    },
    {
     "name": "stdout",
     "output_type": "stream",
     "text": [
      "Train, epoch: [4][  4/280]\tLoss 2.5965e-01 (1.5870e-01)\tAccuracy 0.911 (0.944)\n"
     ]
    },
    {
     "name": "stderr",
     "output_type": "stream",
     "text": [
      "\r",
      " 86%|███████████████████████████████████████████████████████████████████▍          | 242/280 [1:10:37<11:06, 17.53s/it]"
     ]
    },
    {
     "name": "stdout",
     "output_type": "stream",
     "text": [
      "Train, epoch: [4][  4/280]\tLoss 1.5412e-01 (1.5868e-01)\tAccuracy 0.945 (0.944)\n"
     ]
    },
    {
     "name": "stderr",
     "output_type": "stream",
     "text": [
      "\r",
      " 87%|███████████████████████████████████████████████████████████████████▋          | 243/280 [1:10:54<10:45, 17.45s/it]"
     ]
    },
    {
     "name": "stdout",
     "output_type": "stream",
     "text": [
      "Train, epoch: [4][  4/280]\tLoss 1.0977e-01 (1.5848e-01)\tAccuracy 0.962 (0.944)\n"
     ]
    },
    {
     "name": "stderr",
     "output_type": "stream",
     "text": [
      "\r",
      " 87%|███████████████████████████████████████████████████████████████████▉          | 244/280 [1:11:12<10:29, 17.49s/it]"
     ]
    },
    {
     "name": "stdout",
     "output_type": "stream",
     "text": [
      "Train, epoch: [4][  4/280]\tLoss 1.5219e-01 (1.5845e-01)\tAccuracy 0.943 (0.944)\n"
     ]
    },
    {
     "name": "stderr",
     "output_type": "stream",
     "text": [
      "\r",
      " 88%|████████████████████████████████████████████████████████████████████▎         | 245/280 [1:11:29<10:11, 17.48s/it]"
     ]
    },
    {
     "name": "stdout",
     "output_type": "stream",
     "text": [
      "Train, epoch: [4][  4/280]\tLoss 1.1939e-01 (1.5829e-01)\tAccuracy 0.960 (0.944)\n"
     ]
    },
    {
     "name": "stderr",
     "output_type": "stream",
     "text": [
      "\r",
      " 88%|████████████████████████████████████████████████████████████████████▌         | 246/280 [1:11:47<09:55, 17.52s/it]"
     ]
    },
    {
     "name": "stdout",
     "output_type": "stream",
     "text": [
      "Train, epoch: [4][  4/280]\tLoss 1.3872e-01 (1.5821e-01)\tAccuracy 0.951 (0.944)\n"
     ]
    },
    {
     "name": "stderr",
     "output_type": "stream",
     "text": [
      "\r",
      " 88%|████████████████████████████████████████████████████████████████████▊         | 247/280 [1:12:04<09:38, 17.52s/it]"
     ]
    },
    {
     "name": "stdout",
     "output_type": "stream",
     "text": [
      "Train, epoch: [4][  4/280]\tLoss 2.2260e-01 (1.5847e-01)\tAccuracy 0.921 (0.944)\n"
     ]
    },
    {
     "name": "stderr",
     "output_type": "stream",
     "text": [
      "\r",
      " 89%|█████████████████████████████████████████████████████████████████████         | 248/280 [1:12:22<09:21, 17.55s/it]"
     ]
    },
    {
     "name": "stdout",
     "output_type": "stream",
     "text": [
      "Train, epoch: [4][  4/280]\tLoss 1.4958e-01 (1.5844e-01)\tAccuracy 0.947 (0.944)\n"
     ]
    },
    {
     "name": "stderr",
     "output_type": "stream",
     "text": [
      "\r",
      " 89%|█████████████████████████████████████████████████████████████████████▎        | 249/280 [1:12:40<09:04, 17.55s/it]"
     ]
    },
    {
     "name": "stdout",
     "output_type": "stream",
     "text": [
      "Train, epoch: [4][  4/280]\tLoss 2.1976e-01 (1.5868e-01)\tAccuracy 0.922 (0.944)\n"
     ]
    },
    {
     "name": "stderr",
     "output_type": "stream",
     "text": [
      "\r",
      " 89%|█████████████████████████████████████████████████████████████████████▋        | 250/280 [1:12:57<08:44, 17.49s/it]"
     ]
    },
    {
     "name": "stdout",
     "output_type": "stream",
     "text": [
      "Train, epoch: [4][  4/280]\tLoss 1.8081e-01 (1.5877e-01)\tAccuracy 0.935 (0.944)\n"
     ]
    },
    {
     "name": "stderr",
     "output_type": "stream",
     "text": [
      "\r",
      " 90%|█████████████████████████████████████████████████████████████████████▉        | 251/280 [1:13:14<08:27, 17.49s/it]"
     ]
    },
    {
     "name": "stdout",
     "output_type": "stream",
     "text": [
      "Train, epoch: [4][  4/280]\tLoss 1.1797e-01 (1.5861e-01)\tAccuracy 0.960 (0.944)\n"
     ]
    },
    {
     "name": "stderr",
     "output_type": "stream",
     "text": [
      "\r",
      " 90%|██████████████████████████████████████████████████████████████████████▏       | 252/280 [1:13:32<08:10, 17.52s/it]"
     ]
    },
    {
     "name": "stdout",
     "output_type": "stream",
     "text": [
      "Train, epoch: [4][  4/280]\tLoss 1.5676e-01 (1.5860e-01)\tAccuracy 0.945 (0.944)\n"
     ]
    },
    {
     "name": "stderr",
     "output_type": "stream",
     "text": [
      "\r",
      " 90%|██████████████████████████████████████████████████████████████████████▍       | 253/280 [1:13:49<07:52, 17.49s/it]"
     ]
    },
    {
     "name": "stdout",
     "output_type": "stream",
     "text": [
      "Train, epoch: [4][  4/280]\tLoss 1.6841e-01 (1.5864e-01)\tAccuracy 0.937 (0.944)\n"
     ]
    },
    {
     "name": "stderr",
     "output_type": "stream",
     "text": [
      "\r",
      " 91%|██████████████████████████████████████████████████████████████████████▊       | 254/280 [1:14:07<07:36, 17.54s/it]"
     ]
    },
    {
     "name": "stdout",
     "output_type": "stream",
     "text": [
      "Train, epoch: [4][  4/280]\tLoss 4.4476e-01 (1.5977e-01)\tAccuracy 0.854 (0.944)\n"
     ]
    },
    {
     "name": "stderr",
     "output_type": "stream",
     "text": [
      "\r",
      " 91%|███████████████████████████████████████████████████████████████████████       | 255/280 [1:14:24<07:17, 17.49s/it]"
     ]
    },
    {
     "name": "stdout",
     "output_type": "stream",
     "text": [
      "Train, epoch: [4][  4/280]\tLoss 1.7808e-01 (1.5984e-01)\tAccuracy 0.934 (0.944)\n"
     ]
    },
    {
     "name": "stderr",
     "output_type": "stream",
     "text": [
      "\r",
      " 91%|███████████████████████████████████████████████████████████████████████▎      | 256/280 [1:14:42<07:00, 17.52s/it]"
     ]
    },
    {
     "name": "stdout",
     "output_type": "stream",
     "text": [
      "Train, epoch: [4][  4/280]\tLoss 1.7351e-01 (1.5989e-01)\tAccuracy 0.940 (0.944)\n"
     ]
    },
    {
     "name": "stderr",
     "output_type": "stream",
     "text": [
      "\r",
      " 92%|███████████████████████████████████████████████████████████████████████▌      | 257/280 [1:15:00<06:43, 17.56s/it]"
     ]
    },
    {
     "name": "stdout",
     "output_type": "stream",
     "text": [
      "Train, epoch: [4][  4/280]\tLoss 1.3537e-01 (1.5980e-01)\tAccuracy 0.951 (0.944)\n"
     ]
    },
    {
     "name": "stderr",
     "output_type": "stream",
     "text": [
      "\r",
      " 92%|███████████████████████████████████████████████████████████████████████▊      | 258/280 [1:15:17<06:25, 17.52s/it]"
     ]
    },
    {
     "name": "stdout",
     "output_type": "stream",
     "text": [
      "Train, epoch: [4][  4/280]\tLoss 1.7996e-01 (1.5987e-01)\tAccuracy 0.935 (0.944)\n"
     ]
    },
    {
     "name": "stderr",
     "output_type": "stream",
     "text": [
      "\r",
      " 92%|████████████████████████████████████████████████████████████████████████▏     | 259/280 [1:15:35<06:07, 17.51s/it]"
     ]
    },
    {
     "name": "stdout",
     "output_type": "stream",
     "text": [
      "Train, epoch: [4][  4/280]\tLoss 2.6493e-01 (1.6028e-01)\tAccuracy 0.905 (0.944)\n"
     ]
    },
    {
     "name": "stderr",
     "output_type": "stream",
     "text": [
      "\r",
      " 93%|████████████████████████████████████████████████████████████████████████▍     | 260/280 [1:15:52<05:49, 17.46s/it]"
     ]
    },
    {
     "name": "stdout",
     "output_type": "stream",
     "text": [
      "Train, epoch: [4][  4/280]\tLoss 2.0942e-01 (1.6047e-01)\tAccuracy 0.926 (0.943)\n"
     ]
    },
    {
     "name": "stderr",
     "output_type": "stream",
     "text": [
      "\r",
      " 93%|████████████████████████████████████████████████████████████████████████▋     | 261/280 [1:16:10<05:32, 17.51s/it]"
     ]
    },
    {
     "name": "stdout",
     "output_type": "stream",
     "text": [
      "Train, epoch: [4][  4/280]\tLoss 2.1178e-01 (1.6067e-01)\tAccuracy 0.929 (0.943)\n"
     ]
    },
    {
     "name": "stderr",
     "output_type": "stream",
     "text": [
      "\r",
      " 94%|████████████████████████████████████████████████████████████████████████▉     | 262/280 [1:16:27<05:15, 17.51s/it]"
     ]
    },
    {
     "name": "stdout",
     "output_type": "stream",
     "text": [
      "Train, epoch: [4][  4/280]\tLoss 1.6964e-01 (1.6070e-01)\tAccuracy 0.942 (0.943)\n"
     ]
    },
    {
     "name": "stderr",
     "output_type": "stream",
     "text": [
      "\r",
      " 94%|█████████████████████████████████████████████████████████████████████████▎    | 263/280 [1:16:45<04:57, 17.53s/it]"
     ]
    },
    {
     "name": "stdout",
     "output_type": "stream",
     "text": [
      "Train, epoch: [4][  4/280]\tLoss 1.9749e-01 (1.6084e-01)\tAccuracy 0.931 (0.943)\n"
     ]
    },
    {
     "name": "stderr",
     "output_type": "stream",
     "text": [
      "\r",
      " 94%|█████████████████████████████████████████████████████████████████████████▌    | 264/280 [1:17:02<04:39, 17.46s/it]"
     ]
    },
    {
     "name": "stdout",
     "output_type": "stream",
     "text": [
      "Train, epoch: [4][  4/280]\tLoss 1.8836e-01 (1.6094e-01)\tAccuracy 0.936 (0.943)\n"
     ]
    },
    {
     "name": "stderr",
     "output_type": "stream",
     "text": [
      "\r",
      " 95%|█████████████████████████████████████████████████████████████████████████▊    | 265/280 [1:17:20<04:22, 17.51s/it]"
     ]
    },
    {
     "name": "stdout",
     "output_type": "stream",
     "text": [
      "Train, epoch: [4][  4/280]\tLoss 7.3482e-02 (1.6061e-01)\tAccuracy 0.976 (0.943)\n"
     ]
    },
    {
     "name": "stderr",
     "output_type": "stream",
     "text": [
      "\r",
      " 95%|██████████████████████████████████████████████████████████████████████████    | 266/280 [1:17:37<04:04, 17.46s/it]"
     ]
    },
    {
     "name": "stdout",
     "output_type": "stream",
     "text": [
      "Train, epoch: [4][  4/280]\tLoss 1.5643e-01 (1.6060e-01)\tAccuracy 0.946 (0.943)\n"
     ]
    },
    {
     "name": "stderr",
     "output_type": "stream",
     "text": [
      "\r",
      " 95%|██████████████████████████████████████████████████████████████████████████▍   | 267/280 [1:17:55<03:47, 17.52s/it]"
     ]
    },
    {
     "name": "stdout",
     "output_type": "stream",
     "text": [
      "Train, epoch: [4][  4/280]\tLoss 1.8218e-01 (1.6068e-01)\tAccuracy 0.935 (0.943)\n"
     ]
    },
    {
     "name": "stderr",
     "output_type": "stream",
     "text": [
      "\r",
      " 96%|██████████████████████████████████████████████████████████████████████████▋   | 268/280 [1:18:12<03:30, 17.53s/it]"
     ]
    },
    {
     "name": "stdout",
     "output_type": "stream",
     "text": [
      "Train, epoch: [4][  4/280]\tLoss 9.8772e-02 (1.6045e-01)\tAccuracy 0.964 (0.944)\n"
     ]
    },
    {
     "name": "stderr",
     "output_type": "stream",
     "text": [
      "\r",
      " 96%|██████████████████████████████████████████████████████████████████████████▉   | 269/280 [1:18:30<03:13, 17.55s/it]"
     ]
    },
    {
     "name": "stdout",
     "output_type": "stream",
     "text": [
      "Train, epoch: [4][  4/280]\tLoss 1.7154e-01 (1.6049e-01)\tAccuracy 0.940 (0.944)\n"
     ]
    },
    {
     "name": "stderr",
     "output_type": "stream",
     "text": [
      "\r",
      " 96%|███████████████████████████████████████████████████████████████████████████▏  | 270/280 [1:18:47<02:55, 17.56s/it]"
     ]
    },
    {
     "name": "stdout",
     "output_type": "stream",
     "text": [
      "Train, epoch: [4][  4/280]\tLoss 2.2519e-01 (1.6073e-01)\tAccuracy 0.928 (0.943)\n"
     ]
    },
    {
     "name": "stderr",
     "output_type": "stream",
     "text": [
      "\r",
      " 97%|███████████████████████████████████████████████████████████████████████████▍  | 271/280 [1:19:05<02:37, 17.55s/it]"
     ]
    },
    {
     "name": "stdout",
     "output_type": "stream",
     "text": [
      "Train, epoch: [4][  4/280]\tLoss 2.3623e-01 (1.6101e-01)\tAccuracy 0.914 (0.943)\n"
     ]
    },
    {
     "name": "stderr",
     "output_type": "stream",
     "text": [
      "\r",
      " 97%|███████████████████████████████████████████████████████████████████████████▊  | 272/280 [1:19:23<02:20, 17.59s/it]"
     ]
    },
    {
     "name": "stdout",
     "output_type": "stream",
     "text": [
      "Train, epoch: [4][  4/280]\tLoss 1.3634e-01 (1.6092e-01)\tAccuracy 0.949 (0.943)\n"
     ]
    },
    {
     "name": "stderr",
     "output_type": "stream",
     "text": [
      "\r",
      " 98%|████████████████████████████████████████████████████████████████████████████  | 273/280 [1:19:40<02:02, 17.56s/it]"
     ]
    },
    {
     "name": "stdout",
     "output_type": "stream",
     "text": [
      "Train, epoch: [4][  4/280]\tLoss 1.1114e-01 (1.6073e-01)\tAccuracy 0.963 (0.943)\n"
     ]
    },
    {
     "name": "stderr",
     "output_type": "stream",
     "text": [
      "\r",
      " 98%|████████████████████████████████████████████████████████████████████████████▎ | 274/280 [1:19:57<01:44, 17.46s/it]"
     ]
    },
    {
     "name": "stdout",
     "output_type": "stream",
     "text": [
      "Train, epoch: [4][  4/280]\tLoss 2.1697e-01 (1.6094e-01)\tAccuracy 0.924 (0.943)\n"
     ]
    },
    {
     "name": "stderr",
     "output_type": "stream",
     "text": [
      "\r",
      " 98%|████████████████████████████████████████████████████████████████████████████▌ | 275/280 [1:20:15<01:27, 17.47s/it]"
     ]
    },
    {
     "name": "stdout",
     "output_type": "stream",
     "text": [
      "Train, epoch: [4][  4/280]\tLoss 1.8852e-01 (1.6104e-01)\tAccuracy 0.931 (0.943)\n"
     ]
    },
    {
     "name": "stderr",
     "output_type": "stream",
     "text": [
      "\r",
      " 99%|████████████████████████████████████████████████████████████████████████████▉ | 276/280 [1:20:32<01:09, 17.48s/it]"
     ]
    },
    {
     "name": "stdout",
     "output_type": "stream",
     "text": [
      "Train, epoch: [4][  4/280]\tLoss 1.2072e-01 (1.6089e-01)\tAccuracy 0.959 (0.943)\n"
     ]
    },
    {
     "name": "stderr",
     "output_type": "stream",
     "text": [
      "\r",
      " 99%|█████████████████████████████████████████████████████████████████████████████▏| 277/280 [1:20:50<00:52, 17.47s/it]"
     ]
    },
    {
     "name": "stdout",
     "output_type": "stream",
     "text": [
      "Train, epoch: [4][  4/280]\tLoss 2.2691e-01 (1.6113e-01)\tAccuracy 0.921 (0.943)\n"
     ]
    },
    {
     "name": "stderr",
     "output_type": "stream",
     "text": [
      "\r",
      " 99%|█████████████████████████████████████████████████████████████████████████████▍| 278/280 [1:21:07<00:34, 17.46s/it]"
     ]
    },
    {
     "name": "stdout",
     "output_type": "stream",
     "text": [
      "Train, epoch: [4][  4/280]\tLoss 1.6459e-01 (1.6115e-01)\tAccuracy 0.941 (0.943)\n"
     ]
    },
    {
     "name": "stderr",
     "output_type": "stream",
     "text": [
      "\r",
      "100%|█████████████████████████████████████████████████████████████████████████████▋| 279/280 [1:21:25<00:17, 17.45s/it]"
     ]
    },
    {
     "name": "stdout",
     "output_type": "stream",
     "text": [
      "Train, epoch: [4][  4/280]\tLoss 1.7919e-01 (1.6121e-01)\tAccuracy 0.940 (0.943)\n"
     ]
    },
    {
     "name": "stderr",
     "output_type": "stream",
     "text": [
      "100%|██████████████████████████████████████████████████████████████████████████████| 280/280 [1:21:42<00:00, 17.51s/it]"
     ]
    },
    {
     "name": "stdout",
     "output_type": "stream",
     "text": [
      "Train, epoch: [4][  4/280]\tLoss 7.2208e-02 (1.6089e-01)\tAccuracy 0.976 (0.943)\n",
      "classes           IoU\n",
      "---------------------\n",
      "Pole          : 0.360\n",
      "SignSymbol    : 0.699\n",
      "Bicyclist     : 0.820\n",
      "Pedestrian    : 0.664\n",
      "Building      : 0.924\n",
      "Fence         : 0.810\n",
      "Pavement      : 0.892\n",
      "Road          : 0.976\n",
      "Car           : 0.900\n",
      "Sky           : 0.930\n",
      "Tree          : 0.861\n",
      "---------------------\n",
      "Mean IoU      : 0.803\n",
      "---------------------\n"
     ]
    },
    {
     "name": "stderr",
     "output_type": "stream",
     "text": [
      "\n"
     ]
    },
    {
     "name": "stdout",
     "output_type": "stream",
     "text": [
      "mIoU improved from 0.7818 to 0.8033.\n",
      "epoch  4\n",
      "loss : 0.1609   acc : 0.9434   miou : 0.8033\n"
     ]
    }
   ],
   "source": [
    "model.train()\n",
    "res = X.shape[1] * X.shape[2] # 720 * 960\n",
    "\n",
    "for epoch in range(num_epoch):\n",
    "    \n",
    "    loss_running = AverageMeter('Loss', ':.4e')\n",
    "    acc_running = AverageMeter('Accuracy', ':.3f')\n",
    "    \n",
    "    iou = iouCalc(classLabels, validClasses, voidClass = 11)\n",
    "    progress = ProgressMeter(\n",
    "        len(train_data),\n",
    "        [loss_running, acc_running],\n",
    "        prefix=\"Train, epoch: [{}]\".format(epoch))\n",
    "    \n",
    "    batch_loss = 0.0\n",
    "    for batch, (x, y) in enumerate(tqdm(train_data, total=len(train_data))):\n",
    "        x = x.to(device)\n",
    "        y = y.to(device)\n",
    "        \n",
    "        # zero the parameter gradients\n",
    "        optimizer.zero_grad()\n",
    "        \n",
    "        # forward pass\n",
    "        outputs = model(x)\n",
    "        outputs = outputs['out']\n",
    "        preds = torch.argmax(outputs, 1)\n",
    "        \n",
    "        # cross-entropy loss\n",
    "        loss = criterion(outputs, y)\n",
    "\n",
    "        # backward pass\n",
    "        loss.backward()\n",
    "        optimizer.step()\n",
    "        \n",
    "        # Statistics\n",
    "        bs = x.size(0)\n",
    "        loss = loss.item()\n",
    "        loss_running.update(loss, bs)\n",
    "        corrects = torch.sum((preds == y) & (y != 12))\n",
    "        \n",
    "        nvoid = int((y==12).sum()) \n",
    "        acc = corrects.double()/(bs*res-nvoid)\n",
    "        acc_running.update(acc, bs)\n",
    "        \n",
    "        # Calculate IoU scores of current batch\n",
    "        iou.evaluateBatch(preds, y)\n",
    "        \n",
    "        progress.display(epoch)\n",
    "        \n",
    "        \n",
    "    scheduler.step(loss_running.avg)\n",
    "    miou = iou.outputScores()\n",
    "    \n",
    "    # save checkpoint\n",
    "    now = datetime.datetime.now()\n",
    "    now_time = now.strftime('%y%m%d%H')\n",
    "    \n",
    "    # save path\n",
    "    if not os.path.isdir(result_dir):\n",
    "        os.makedirs(result_dir)\n",
    "    \n",
    "    save_path = result_dir\n",
    "    \n",
    "    with open(save_path + 'train_logs.csv', 'a') as epochs:\n",
    "            epochs.write('{}, {:.4f}, {:.4f}, {:.4f}\\n'.format(\n",
    "                    epoch+1, loss_running.avg, acc_running.avg, miou))\n",
    "            \n",
    "    # Save model to file\n",
    "    torch.save({\n",
    "        'epoch' : epoch + 1,\n",
    "        'model_state_dict' : model.state_dict(),\n",
    "        'optimizer_state_dict': optimizer.state_dict(),\n",
    "        'best_miou': best_miou,\n",
    "        'metrics': metrics,\n",
    "        }, save_path + now_time + '_E' + str(epoch+1) + '_checkpoint.pth.tar')\n",
    "    \n",
    "    # Save best model to file\n",
    "    if miou > best_miou:\n",
    "        print('mIoU improved from {:.4f} to {:.4f}.'.format(best_miou, miou))\n",
    "        best_miou = miou\n",
    "        \n",
    "    print('epoch ', epoch)\n",
    "    print('loss : {:.4f}   acc : {:.4f}   miou : {:.4f}'.format(loss_running.avg, acc_running.avg, miou))"
   ]
  },
  {
   "cell_type": "markdown",
   "metadata": {},
   "source": [
    "### test"
   ]
  },
  {
   "cell_type": "code",
   "execution_count": 10,
   "metadata": {},
   "outputs": [],
   "source": [
    "X = torch.tensor(test_x, dtype=torch.float32)\n",
    "Y = torch.tensor(test_y, dtype=torch.long)\n",
    "\n",
    "data = torch.utils.data.TensorDataset(X.permute(dims=(0, 3, 1, 2)), Y)\n",
    "\n",
    "test_data = torch.utils.data.DataLoader(data, batch_size=batch_size, shuffle=True)\n",
    "\n",
    "save_path = result_dir\n",
    "result = sorted(os.listdir(save_path), reverse=True)"
   ]
  },
  {
   "cell_type": "code",
   "execution_count": 46,
   "metadata": {},
   "outputs": [
    {
     "data": {
      "text/plain": [
       "['0605_best_weights.pth.tar']"
      ]
     },
     "execution_count": 46,
     "metadata": {},
     "output_type": "execute_result"
    }
   ],
   "source": [
    "result"
   ]
  },
  {
   "cell_type": "code",
   "execution_count": 11,
   "metadata": {},
   "outputs": [
    {
     "data": {
      "text/plain": [
       "<All keys matched successfully>"
      ]
     },
     "execution_count": 11,
     "metadata": {},
     "output_type": "execute_result"
    }
   ],
   "source": [
    "checkpoint = torch.load(save_path + result[1]) # train, val 결과보고 결정 (overfitting 시작되기 전)\n",
    "model.load_state_dict(checkpoint['model_state_dict'], strict=True)"
   ]
  },
  {
   "cell_type": "code",
   "execution_count": 12,
   "metadata": {},
   "outputs": [
    {
     "name": "stderr",
     "output_type": "stream",
     "text": [
      "100%|██████████████████████████████████████████████████████████████████████████████████| 71/71 [07:12<00:00,  6.08s/it]"
     ]
    },
    {
     "name": "stdout",
     "output_type": "stream",
     "text": [
      "classes           IoU\n",
      "---------------------\n",
      "Pole          : 0.329\n",
      "SignSymbol    : 0.628\n",
      "Bicyclist     : 0.786\n",
      "Pedestrian    : 0.644\n",
      "Building      : 0.905\n",
      "Fence         : 0.732\n",
      "Pavement      : 0.859\n",
      "Road          : 0.971\n",
      "Car           : 0.887\n",
      "Sky           : 0.927\n",
      "Tree          : 0.837\n",
      "---------------------\n",
      "Mean IoU      : 0.773\n",
      "---------------------\n",
      "loss : 0.2018 acc : 0.9318 miou : 0.7732\n"
     ]
    },
    {
     "name": "stderr",
     "output_type": "stream",
     "text": [
      "\n"
     ]
    }
   ],
   "source": [
    "batch_time = AverageMeter('Time', ':6.3f')\n",
    "data_time = AverageMeter('Data', ':6.3f')\n",
    "progress = ProgressMeter(\n",
    "    len(test_data),\n",
    "    [batch_time, data_time],\n",
    "    prefix='Predict: ')\n",
    "loss_running = AverageMeter('Loss', ':.4e')\n",
    "acc_running = AverageMeter('Accuracy', ':.3f')\n",
    "    \n",
    "iou = iouCalc(classLabels, validClasses, voidClass = 11)\n",
    "\n",
    "model.eval()\n",
    "\n",
    "batch_loss = 0.0\n",
    "for batch, (x, y) in enumerate(tqdm(test_data, total=len(test_data))):\n",
    "\n",
    "    x = x.to(device)\n",
    "    y = y.to(device)\n",
    "\n",
    "    # forward\n",
    "    outputs = model(x)\n",
    "    outputs = outputs['out']\n",
    "\n",
    "    preds = torch.argmax(outputs, 1)\n",
    "\n",
    "    # cross-entropy loss\n",
    "    loss = criterion(outputs, y)\n",
    "\n",
    "    # Statistics\n",
    "    bs = x.size(0)\n",
    "    loss = loss.item()\n",
    "    loss_running.update(loss, bs)\n",
    "    corrects = torch.sum((preds == y) & (y != 12))\n",
    "\n",
    "    nvoid = int((y==12).sum())\n",
    "    acc = corrects.double()/(bs*res-nvoid)\n",
    "    acc_running.update(acc, bs)\n",
    "\n",
    "    # Calculate IoU scores of current batch\n",
    "    iou.evaluateBatch(preds, y)\n",
    "\n",
    "miou = iou.outputScores()\n",
    "\n",
    "print('loss : {:.4f} acc : {:.4f} miou : {:.4f}'.format(loss_running.avg, acc_running.avg, miou))"
   ]
  },
  {
   "cell_type": "code",
   "execution_count": null,
   "metadata": {},
   "outputs": [],
   "source": []
  }
 ],
 "metadata": {
  "kernelspec": {
   "display_name": "yooso",
   "language": "python",
   "name": "yooso_venv"
  },
  "language_info": {
   "codemirror_mode": {
    "name": "ipython",
    "version": 3
   },
   "file_extension": ".py",
   "mimetype": "text/x-python",
   "name": "python",
   "nbconvert_exporter": "python",
   "pygments_lexer": "ipython3",
   "version": "3.6.6"
  }
 },
 "nbformat": 4,
 "nbformat_minor": 5
}
