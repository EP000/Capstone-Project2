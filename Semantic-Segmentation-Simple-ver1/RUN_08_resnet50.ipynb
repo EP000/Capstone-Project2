{
 "cells": [
  {
   "cell_type": "code",
   "execution_count": 1,
   "id": "2f2a6992",
   "metadata": {
    "scrolled": true
   },
   "outputs": [],
   "source": [
    "import os\n",
    "import time\n",
    "import datetime\n",
    "import numpy as np\n",
    "import warnings\n",
    "import random\n",
    "from PIL import Image\n",
    "from tqdm import tqdm\n",
    "\n",
    "from labels import labels"
   ]
  },
  {
   "cell_type": "code",
   "execution_count": 2,
   "id": "5811de7a",
   "metadata": {},
   "outputs": [],
   "source": [
    "# 데이터 경로\n",
    "#  os.getcwd() :'/home/ag/Capstone2/DeepLab_V3_ver1'\n",
    "origin_data_path = os.getcwd() + '/data/Original_data/'\n",
    "labeled_data_path = os.getcwd() + '/data/Labeled_data/'\n",
    "\n",
    "origin_data_list = os.listdir(origin_data_path) # x\n",
    "labeled_data_list = os.listdir(labeled_data_path) # y\n",
    "\n",
    "# 파일명 랜덤\n",
    "random.shuffle(origin_data_list)\n",
    "random.shuffle(labeled_data_list)\n",
    "\n",
    "# train, test / x, y \n",
    "train_x_file = origin_data_list[:int(len(origin_data_list)*0.8)]\n",
    "train_y_file = [file_name[:-4] + '_L.png' for file_name in train_x_file]\n",
    "\n",
    "test_x_file = [file_name for file_name in origin_data_list if file_name not in train_x_file]\n",
    "test_y_file = [file_name[:-4] + '_L.png' for file_name in test_x_file]"
   ]
  },
  {
   "cell_type": "code",
   "execution_count": 3,
   "id": "ca295aa2",
   "metadata": {},
   "outputs": [
    {
     "name": "stdout",
     "output_type": "stream",
     "text": [
      "560 141 560 141\n"
     ]
    }
   ],
   "source": [
    "print(len(train_x_file), len(test_x_file), len(train_y_file), len(test_y_file))"
   ]
  },
  {
   "cell_type": "code",
   "execution_count": 4,
   "id": "a2b80b82",
   "metadata": {},
   "outputs": [
    {
     "name": "stdout",
     "output_type": "stream",
     "text": [
      "Seq05VD_f02220.png 0016E5_08107.png Seq05VD_f02220_L.png 0016E5_08107_L.png\n"
     ]
    }
   ],
   "source": [
    "print(train_x_file[0], test_x_file[0], train_y_file[0], test_y_file[0])"
   ]
  },
  {
   "cell_type": "markdown",
   "id": "7b67ed5e",
   "metadata": {},
   "source": [
    "### X"
   ]
  },
  {
   "cell_type": "code",
   "execution_count": 5,
   "id": "62db6fd8",
   "metadata": {},
   "outputs": [],
   "source": [
    "train_x = [np.array(Image.open(origin_data_path + train)) for train in train_x_file]\n",
    "test_x = [np.array(Image.open(origin_data_path + test)) for test in test_x_file]"
   ]
  },
  {
   "cell_type": "markdown",
   "id": "8bbd0109",
   "metadata": {},
   "source": [
    "### Y"
   ]
  },
  {
   "cell_type": "code",
   "execution_count": 6,
   "id": "351dbc19",
   "metadata": {},
   "outputs": [],
   "source": [
    "# color to label catId\n",
    "color2label = { label.color   : label.id for label in labels}"
   ]
  },
  {
   "cell_type": "code",
   "execution_count": 7,
   "id": "a95c59a6",
   "metadata": {
    "scrolled": true
   },
   "outputs": [
    {
     "name": "stderr",
     "output_type": "stream",
     "text": [
      "100%|██████████| 560/560 [21:43<00:00,  2.33s/it]\n"
     ]
    }
   ],
   "source": [
    "train_y = []\n",
    "for file_name in tqdm(train_y_file):\n",
    "    image = np.array(Image.open(labeled_data_path + file_name))\n",
    "    ret = [[color2label[tuple([r[0], r[1], r[2]])] \n",
    "            if tuple([r[0], r[1], r[2]]) in color2label else 11\n",
    "            for r in row] \n",
    "           for row in image]\n",
    "    train_y.append(ret)"
   ]
  },
  {
   "cell_type": "code",
   "execution_count": 8,
   "id": "38587377",
   "metadata": {
    "scrolled": false
   },
   "outputs": [
    {
     "name": "stderr",
     "output_type": "stream",
     "text": [
      "100%|██████████| 141/141 [05:28<00:00,  2.33s/it]\n"
     ]
    }
   ],
   "source": [
    "test_y = []\n",
    "for file_name in tqdm(test_y_file):\n",
    "    image = np.array(Image.open(labeled_data_path + file_name))\n",
    "    ret = [[color2label[tuple([r[0], r[1], r[2]])] \n",
    "            if tuple([r[0], r[1], r[2]]) in color2label else 11\n",
    "            for r in row] \n",
    "           for row in image]\n",
    "    test_y.append(ret)"
   ]
  },
  {
   "cell_type": "code",
   "execution_count": 9,
   "id": "15fa0577",
   "metadata": {
    "scrolled": false
   },
   "outputs": [
    {
     "data": {
      "text/plain": [
       "((560, 720, 960), (141, 720, 960))"
      ]
     },
     "execution_count": 9,
     "metadata": {},
     "output_type": "execute_result"
    }
   ],
   "source": [
    "np.array(train_y).shape, np.array(test_y).shape"
   ]
  },
  {
   "cell_type": "code",
   "execution_count": 10,
   "id": "88c21514",
   "metadata": {},
   "outputs": [],
   "source": [
    "train_x = np.array(train_x)\n",
    "train_y = np.array(train_y)\n",
    "test_x = np.array(test_x)\n",
    "test_y = np.array(test_y)"
   ]
  },
  {
   "cell_type": "markdown",
   "id": "2b2d5781",
   "metadata": {},
   "source": [
    "### data save"
   ]
  },
  {
   "cell_type": "code",
   "execution_count": 11,
   "id": "b2642672",
   "metadata": {
    "scrolled": true
   },
   "outputs": [],
   "source": [
    "np.savez('data.npz', train_x=train_x, train_y=train_y, test_x=test_x, test_y=test_y)"
   ]
  },
  {
   "cell_type": "markdown",
   "id": "236b974d",
   "metadata": {},
   "source": [
    "# Model"
   ]
  },
  {
   "cell_type": "markdown",
   "id": "ada08c10",
   "metadata": {},
   "source": [
    "### package load"
   ]
  },
  {
   "cell_type": "code",
   "execution_count": 1,
   "id": "db262e5b",
   "metadata": {},
   "outputs": [],
   "source": [
    "import os\n",
    "import sys\n",
    "import time\n",
    "import datetime\n",
    "from tqdm import tqdm\n",
    "import numpy as np\n",
    "import warnings\n",
    "import random\n",
    "import torch\n",
    "import torch.nn as nn\n",
    "import torch.nn.functional as F\n",
    "import torch.optim as optim\n",
    "from torch.autograd import Variable\n",
    "import torchvision\n",
    "import torchvision.transforms.functional as TF\n",
    "import pandas as pd\n",
    "import matplotlib.pyplot as plt"
   ]
  },
  {
   "cell_type": "code",
   "execution_count": 2,
   "id": "6a7374e4",
   "metadata": {},
   "outputs": [],
   "source": [
    "from model import convert_bn_to_instancenorm, convert_bn_to_evonorm, convert_bn_to_groupnorm, DeepLabHead, UNet\n",
    "from helpers import AverageMeter, ProgressMeter, iouCalc, visim, vislbl\n",
    "from labels import labels"
   ]
  },
  {
   "cell_type": "markdown",
   "id": "0755a101",
   "metadata": {},
   "source": [
    "### file name for save model log"
   ]
  },
  {
   "cell_type": "code",
   "execution_count": 3,
   "id": "99d99b9e",
   "metadata": {},
   "outputs": [],
   "source": [
    "filename = '08_resnet_50'"
   ]
  },
  {
   "cell_type": "markdown",
   "id": "3e531816",
   "metadata": {},
   "source": [
    "### CPU or GPU\n",
    "#### 아래 코드에서 True이면 GPU 사용, False 이면 CPU 사용됨."
   ]
  },
  {
   "cell_type": "code",
   "execution_count": 4,
   "id": "95e11a2b",
   "metadata": {},
   "outputs": [],
   "source": [
    "USE_CUDA = torch.cuda.is_available() and True \n",
    "device = torch.device('cuda' if USE_CUDA else 'cpu')"
   ]
  },
  {
   "cell_type": "markdown",
   "id": "5f26ad9e",
   "metadata": {},
   "source": [
    "### data load"
   ]
  },
  {
   "cell_type": "code",
   "execution_count": 5,
   "id": "295e0bb2",
   "metadata": {},
   "outputs": [],
   "source": [
    "npzfile = np.load('data.npz')\n",
    "\n",
    "train_x = npzfile['train_x']\n",
    "train_y = npzfile['train_y']\n",
    "test_x = npzfile['test_x']\n",
    "test_y = npzfile['test_y']\n",
    "\n",
    "npzfile.close()"
   ]
  },
  {
   "cell_type": "markdown",
   "id": "b684bea5",
   "metadata": {},
   "source": [
    "### DeepLab v3 ResNet50 "
   ]
  },
  {
   "cell_type": "code",
   "execution_count": 6,
   "id": "ce7757fc",
   "metadata": {},
   "outputs": [],
   "source": [
    "model = torchvision.models.segmentation.deeplabv3_resnet50(pretrained=False).to(device)\n",
    "model.classifier = DeepLabHead(2048, 12).to(device) # 12 = class num"
   ]
  },
  {
   "cell_type": "code",
   "execution_count": 7,
   "id": "202574db",
   "metadata": {},
   "outputs": [],
   "source": [
    "optimizer = torch.optim.SGD(model.parameters(), lr=0.01, momentum=0.9)\n",
    "scheduler = optim.lr_scheduler.CosineAnnealingLR(optimizer, T_max=2) # 파라미터 학습속도 조절"
   ]
  },
  {
   "cell_type": "code",
   "execution_count": 8,
   "id": "09ea1336",
   "metadata": {},
   "outputs": [],
   "source": [
    "# Initialize metrics\n",
    "best_miou = 0.0\n",
    "metrics = {'train_loss' : [],\n",
    "           'train_acc' : [],\n",
    "           'test_acc' : [],\n",
    "           'test_loss' : [],\n",
    "           'miou' : []}\n",
    "start_epoch = 0"
   ]
  },
  {
   "cell_type": "markdown",
   "id": "0c71edf0",
   "metadata": {},
   "source": [
    "### Label "
   ]
  },
  {
   "cell_type": "code",
   "execution_count": 9,
   "id": "61074ec9",
   "metadata": {},
   "outputs": [],
   "source": [
    "# Create list of class names\n",
    "classLabels = []\n",
    "for label in labels:\n",
    "    if label.name not in classLabels:\n",
    "        classLabels.append(label.name)\n",
    "classLabels.append('void')"
   ]
  },
  {
   "cell_type": "code",
   "execution_count": 10,
   "id": "84d3f8f6",
   "metadata": {
    "scrolled": true
   },
   "outputs": [],
   "source": [
    "validClasses = list(np.unique([label.id for label in labels if label.id >= 0] + [11]))"
   ]
  },
  {
   "cell_type": "markdown",
   "id": "08dc84a4",
   "metadata": {},
   "source": [
    "### train"
   ]
  },
  {
   "cell_type": "code",
   "execution_count": 11,
   "id": "79ef0c62",
   "metadata": {},
   "outputs": [],
   "source": [
    "train_X = torch.tensor(train_x, dtype=torch.float32)\n",
    "train_Y = torch.tensor(train_y, dtype=torch.long)\n",
    "\n",
    "train_data = torch.utils.data.TensorDataset(train_X.permute(dims=(0, 3, 1, 2)), train_Y)\n",
    "\n",
    "train_data = torch.utils.data.DataLoader(train_data, batch_size=2, shuffle=True)"
   ]
  },
  {
   "cell_type": "code",
   "execution_count": 12,
   "id": "df632881",
   "metadata": {},
   "outputs": [],
   "source": [
    "dist = {i:(train_Y == i).sum().tolist() for i in range(12)}\n",
    "\n",
    "weights = [1/dist[i] for i in range(12)]\n",
    "total_weights = sum(weights)\n",
    "\n",
    "class_weight = torch.FloatTensor([w/total_weights for w in weights]).to(device)\n",
    "criterion = nn.CrossEntropyLoss(weight = class_weight, ignore_index=12) # weight 파라미터에 class_weight 추가"
   ]
  },
  {
   "cell_type": "code",
   "execution_count": 36,
   "id": "07d3d0bf",
   "metadata": {},
   "outputs": [],
   "source": [
    "num_epoch = 80\n",
    "res = train_X.shape[1] * train_X.shape[2]"
   ]
  },
  {
   "cell_type": "code",
   "execution_count": 38,
   "id": "61026c27",
   "metadata": {
    "scrolled": true
   },
   "outputs": [
    {
     "name": "stderr",
     "output_type": "stream",
     "text": [
      "100%|██████████| 280/280 [04:40<00:00,  1.00s/it]\n"
     ]
    },
    {
     "name": "stdout",
     "output_type": "stream",
     "text": [
      "classes           IoU\n",
      "---------------------\n",
      "Pole          : 0.638\n",
      "SignSymbol    : 0.863\n",
      "Bicyclist     : 0.877\n",
      "Pedestrian    : 0.810\n",
      "Building      : 0.953\n",
      "Fence         : 0.934\n",
      "Pavement      : 0.945\n",
      "Road          : 0.984\n",
      "Car           : 0.953\n",
      "Sky           : 0.937\n",
      "Tree          : 0.925\n",
      "---------------------\n",
      "Mean IoU      : 0.893\n",
      "---------------------\n",
      "train epoch  62\n",
      "loss : 0.0792   acc : 0.9667   miou : 0.8926\n",
      "mIoU improved from 0.8914 to 0.8926.\n"
     ]
    },
    {
     "name": "stderr",
     "output_type": "stream",
     "text": [
      "100%|██████████| 280/280 [04:41<00:00,  1.00s/it]\n"
     ]
    },
    {
     "name": "stdout",
     "output_type": "stream",
     "text": [
      "classes           IoU\n",
      "---------------------\n",
      "Pole          : 0.638\n",
      "SignSymbol    : 0.864\n",
      "Bicyclist     : 0.878\n",
      "Pedestrian    : 0.811\n",
      "Building      : 0.953\n",
      "Fence         : 0.934\n",
      "Pavement      : 0.945\n",
      "Road          : 0.984\n",
      "Car           : 0.953\n",
      "Sky           : 0.937\n",
      "Tree          : 0.926\n",
      "---------------------\n",
      "Mean IoU      : 0.893\n",
      "---------------------\n",
      "train epoch  63\n",
      "loss : 0.0789   acc : 0.9669   miou : 0.8930\n",
      "mIoU improved from 0.8926 to 0.8930.\n"
     ]
    },
    {
     "name": "stderr",
     "output_type": "stream",
     "text": [
      "100%|██████████| 280/280 [04:41<00:00,  1.00s/it]\n",
      "  0%|          | 0/280 [00:00<?, ?it/s]"
     ]
    },
    {
     "name": "stdout",
     "output_type": "stream",
     "text": [
      "classes           IoU\n",
      "---------------------\n",
      "Pole          : 0.637\n",
      "SignSymbol    : 0.863\n",
      "Bicyclist     : 0.878\n",
      "Pedestrian    : 0.811\n",
      "Building      : 0.953\n",
      "Fence         : 0.934\n",
      "Pavement      : 0.945\n",
      "Road          : 0.984\n",
      "Car           : 0.954\n",
      "Sky           : 0.937\n",
      "Tree          : 0.926\n",
      "---------------------\n",
      "Mean IoU      : 0.893\n",
      "---------------------\n",
      "train epoch  64\n",
      "loss : 0.0787   acc : 0.9669   miou : 0.8930\n"
     ]
    },
    {
     "name": "stderr",
     "output_type": "stream",
     "text": [
      "100%|██████████| 280/280 [04:41<00:00,  1.00s/it]\n"
     ]
    },
    {
     "name": "stdout",
     "output_type": "stream",
     "text": [
      "classes           IoU\n",
      "---------------------\n",
      "Pole          : 0.639\n",
      "SignSymbol    : 0.865\n",
      "Bicyclist     : 0.878\n",
      "Pedestrian    : 0.810\n",
      "Building      : 0.953\n",
      "Fence         : 0.935\n",
      "Pavement      : 0.945\n",
      "Road          : 0.984\n",
      "Car           : 0.954\n",
      "Sky           : 0.937\n",
      "Tree          : 0.926\n",
      "---------------------\n",
      "Mean IoU      : 0.893\n",
      "---------------------\n",
      "train epoch  65\n",
      "loss : 0.0785   acc : 0.9670   miou : 0.8934\n",
      "mIoU improved from 0.8930 to 0.8934.\n"
     ]
    },
    {
     "name": "stderr",
     "output_type": "stream",
     "text": [
      "100%|██████████| 280/280 [04:41<00:00,  1.00s/it]\n"
     ]
    },
    {
     "name": "stdout",
     "output_type": "stream",
     "text": [
      "classes           IoU\n",
      "---------------------\n",
      "Pole          : 0.640\n",
      "SignSymbol    : 0.866\n",
      "Bicyclist     : 0.878\n",
      "Pedestrian    : 0.812\n",
      "Building      : 0.954\n",
      "Fence         : 0.935\n",
      "Pavement      : 0.946\n",
      "Road          : 0.984\n",
      "Car           : 0.954\n",
      "Sky           : 0.937\n",
      "Tree          : 0.926\n",
      "---------------------\n",
      "Mean IoU      : 0.894\n",
      "---------------------\n",
      "train epoch  66\n",
      "loss : 0.0781   acc : 0.9671   miou : 0.8938\n",
      "mIoU improved from 0.8934 to 0.8938.\n"
     ]
    },
    {
     "name": "stderr",
     "output_type": "stream",
     "text": [
      "100%|██████████| 280/280 [04:40<00:00,  1.00s/it]\n"
     ]
    },
    {
     "name": "stdout",
     "output_type": "stream",
     "text": [
      "classes           IoU\n",
      "---------------------\n",
      "Pole          : 0.641\n",
      "SignSymbol    : 0.866\n",
      "Bicyclist     : 0.880\n",
      "Pedestrian    : 0.813\n",
      "Building      : 0.954\n",
      "Fence         : 0.935\n",
      "Pavement      : 0.946\n",
      "Road          : 0.984\n",
      "Car           : 0.954\n",
      "Sky           : 0.937\n",
      "Tree          : 0.927\n",
      "---------------------\n",
      "Mean IoU      : 0.894\n",
      "---------------------\n",
      "train epoch  67\n",
      "loss : 0.0778   acc : 0.9672   miou : 0.8942\n",
      "mIoU improved from 0.8938 to 0.8942.\n"
     ]
    },
    {
     "name": "stderr",
     "output_type": "stream",
     "text": [
      "100%|██████████| 280/280 [04:40<00:00,  1.00s/it]\n"
     ]
    },
    {
     "name": "stdout",
     "output_type": "stream",
     "text": [
      "classes           IoU\n",
      "---------------------\n",
      "Pole          : 0.642\n",
      "SignSymbol    : 0.867\n",
      "Bicyclist     : 0.880\n",
      "Pedestrian    : 0.814\n",
      "Building      : 0.954\n",
      "Fence         : 0.937\n",
      "Pavement      : 0.947\n",
      "Road          : 0.984\n",
      "Car           : 0.954\n",
      "Sky           : 0.938\n",
      "Tree          : 0.927\n",
      "---------------------\n",
      "Mean IoU      : 0.895\n",
      "---------------------\n",
      "train epoch  68\n",
      "loss : 0.0769   acc : 0.9675   miou : 0.8951\n",
      "mIoU improved from 0.8942 to 0.8951.\n"
     ]
    },
    {
     "name": "stderr",
     "output_type": "stream",
     "text": [
      "100%|██████████| 280/280 [04:41<00:00,  1.00s/it]\n"
     ]
    },
    {
     "name": "stdout",
     "output_type": "stream",
     "text": [
      "classes           IoU\n",
      "---------------------\n",
      "Pole          : 0.642\n",
      "SignSymbol    : 0.868\n",
      "Bicyclist     : 0.881\n",
      "Pedestrian    : 0.815\n",
      "Building      : 0.954\n",
      "Fence         : 0.937\n",
      "Pavement      : 0.946\n",
      "Road          : 0.984\n",
      "Car           : 0.954\n",
      "Sky           : 0.937\n",
      "Tree          : 0.927\n",
      "---------------------\n",
      "Mean IoU      : 0.895\n",
      "---------------------\n",
      "train epoch  69\n",
      "loss : 0.0769   acc : 0.9674   miou : 0.8951\n",
      "mIoU improved from 0.8951 to 0.8951.\n"
     ]
    },
    {
     "name": "stderr",
     "output_type": "stream",
     "text": [
      "100%|██████████| 280/280 [04:41<00:00,  1.00s/it]\n"
     ]
    },
    {
     "name": "stdout",
     "output_type": "stream",
     "text": [
      "classes           IoU\n",
      "---------------------\n",
      "Pole          : 0.644\n",
      "SignSymbol    : 0.868\n",
      "Bicyclist     : 0.882\n",
      "Pedestrian    : 0.815\n",
      "Building      : 0.955\n",
      "Fence         : 0.936\n",
      "Pavement      : 0.947\n",
      "Road          : 0.985\n",
      "Car           : 0.955\n",
      "Sky           : 0.938\n",
      "Tree          : 0.928\n",
      "---------------------\n",
      "Mean IoU      : 0.896\n",
      "---------------------\n",
      "train epoch  70\n",
      "loss : 0.0765   acc : 0.9677   miou : 0.8956\n",
      "mIoU improved from 0.8951 to 0.8956.\n"
     ]
    },
    {
     "name": "stderr",
     "output_type": "stream",
     "text": [
      "100%|██████████| 280/280 [04:41<00:00,  1.00s/it]\n"
     ]
    },
    {
     "name": "stdout",
     "output_type": "stream",
     "text": [
      "classes           IoU\n",
      "---------------------\n",
      "Pole          : 0.645\n",
      "SignSymbol    : 0.868\n",
      "Bicyclist     : 0.882\n",
      "Pedestrian    : 0.816\n",
      "Building      : 0.955\n",
      "Fence         : 0.936\n",
      "Pavement      : 0.947\n",
      "Road          : 0.984\n",
      "Car           : 0.955\n",
      "Sky           : 0.938\n",
      "Tree          : 0.928\n",
      "---------------------\n",
      "Mean IoU      : 0.896\n",
      "---------------------\n",
      "train epoch  71\n",
      "loss : 0.0762   acc : 0.9678   miou : 0.8959\n",
      "mIoU improved from 0.8956 to 0.8959.\n"
     ]
    },
    {
     "name": "stderr",
     "output_type": "stream",
     "text": [
      "100%|██████████| 280/280 [04:41<00:00,  1.00s/it]\n"
     ]
    },
    {
     "name": "stdout",
     "output_type": "stream",
     "text": [
      "classes           IoU\n",
      "---------------------\n",
      "Pole          : 0.647\n",
      "SignSymbol    : 0.870\n",
      "Bicyclist     : 0.881\n",
      "Pedestrian    : 0.817\n",
      "Building      : 0.956\n",
      "Fence         : 0.938\n",
      "Pavement      : 0.947\n",
      "Road          : 0.985\n",
      "Car           : 0.955\n",
      "Sky           : 0.938\n",
      "Tree          : 0.929\n",
      "---------------------\n",
      "Mean IoU      : 0.897\n",
      "---------------------\n",
      "train epoch  72\n",
      "loss : 0.0757   acc : 0.9680   miou : 0.8966\n",
      "mIoU improved from 0.8959 to 0.8966.\n"
     ]
    },
    {
     "name": "stderr",
     "output_type": "stream",
     "text": [
      "100%|██████████| 280/280 [04:41<00:00,  1.00s/it]\n"
     ]
    },
    {
     "name": "stdout",
     "output_type": "stream",
     "text": [
      "classes           IoU\n",
      "---------------------\n",
      "Pole          : 0.647\n",
      "SignSymbol    : 0.871\n",
      "Bicyclist     : 0.883\n",
      "Pedestrian    : 0.818\n",
      "Building      : 0.956\n",
      "Fence         : 0.938\n",
      "Pavement      : 0.948\n",
      "Road          : 0.985\n",
      "Car           : 0.956\n",
      "Sky           : 0.938\n",
      "Tree          : 0.929\n",
      "---------------------\n",
      "Mean IoU      : 0.897\n",
      "---------------------\n",
      "train epoch  73\n",
      "loss : 0.0752   acc : 0.9682   miou : 0.8971\n",
      "mIoU improved from 0.8966 to 0.8971.\n"
     ]
    },
    {
     "name": "stderr",
     "output_type": "stream",
     "text": [
      "100%|██████████| 280/280 [04:40<00:00,  1.00s/it]\n"
     ]
    },
    {
     "name": "stdout",
     "output_type": "stream",
     "text": [
      "classes           IoU\n",
      "---------------------\n",
      "Pole          : 0.648\n",
      "SignSymbol    : 0.871\n",
      "Bicyclist     : 0.883\n",
      "Pedestrian    : 0.820\n",
      "Building      : 0.956\n",
      "Fence         : 0.938\n",
      "Pavement      : 0.948\n",
      "Road          : 0.985\n",
      "Car           : 0.956\n",
      "Sky           : 0.939\n",
      "Tree          : 0.929\n",
      "---------------------\n",
      "Mean IoU      : 0.898\n",
      "---------------------\n",
      "train epoch  74\n",
      "loss : 0.0746   acc : 0.9684   miou : 0.8976\n",
      "mIoU improved from 0.8971 to 0.8976.\n"
     ]
    },
    {
     "name": "stderr",
     "output_type": "stream",
     "text": [
      "100%|██████████| 280/280 [04:41<00:00,  1.00s/it]\n"
     ]
    },
    {
     "name": "stdout",
     "output_type": "stream",
     "text": [
      "classes           IoU\n",
      "---------------------\n",
      "Pole          : 0.648\n",
      "SignSymbol    : 0.871\n",
      "Bicyclist     : 0.884\n",
      "Pedestrian    : 0.819\n",
      "Building      : 0.956\n",
      "Fence         : 0.938\n",
      "Pavement      : 0.949\n",
      "Road          : 0.985\n",
      "Car           : 0.956\n",
      "Sky           : 0.938\n",
      "Tree          : 0.929\n",
      "---------------------\n",
      "Mean IoU      : 0.898\n",
      "---------------------\n",
      "train epoch  75\n",
      "loss : 0.0744   acc : 0.9684   miou : 0.8977\n",
      "mIoU improved from 0.8976 to 0.8977.\n"
     ]
    },
    {
     "name": "stderr",
     "output_type": "stream",
     "text": [
      "100%|██████████| 280/280 [04:40<00:00,  1.00s/it]\n"
     ]
    },
    {
     "name": "stdout",
     "output_type": "stream",
     "text": [
      "classes           IoU\n",
      "---------------------\n",
      "Pole          : 0.650\n",
      "SignSymbol    : 0.872\n",
      "Bicyclist     : 0.883\n",
      "Pedestrian    : 0.819\n",
      "Building      : 0.956\n",
      "Fence         : 0.938\n",
      "Pavement      : 0.948\n",
      "Road          : 0.985\n",
      "Car           : 0.956\n",
      "Sky           : 0.938\n",
      "Tree          : 0.929\n",
      "---------------------\n",
      "Mean IoU      : 0.898\n",
      "---------------------\n",
      "train epoch  76\n",
      "loss : 0.0742   acc : 0.9685   miou : 0.8979\n",
      "mIoU improved from 0.8977 to 0.8979.\n"
     ]
    },
    {
     "name": "stderr",
     "output_type": "stream",
     "text": [
      "100%|██████████| 280/280 [04:40<00:00,  1.00s/it]\n"
     ]
    },
    {
     "name": "stdout",
     "output_type": "stream",
     "text": [
      "classes           IoU\n",
      "---------------------\n",
      "Pole          : 0.651\n",
      "SignSymbol    : 0.873\n",
      "Bicyclist     : 0.884\n",
      "Pedestrian    : 0.821\n",
      "Building      : 0.956\n",
      "Fence         : 0.938\n",
      "Pavement      : 0.949\n",
      "Road          : 0.985\n",
      "Car           : 0.956\n",
      "Sky           : 0.938\n",
      "Tree          : 0.929\n",
      "---------------------\n",
      "Mean IoU      : 0.898\n",
      "---------------------\n",
      "train epoch  77\n",
      "loss : 0.0741   acc : 0.9686   miou : 0.8984\n",
      "mIoU improved from 0.8979 to 0.8984.\n"
     ]
    },
    {
     "name": "stderr",
     "output_type": "stream",
     "text": [
      "100%|██████████| 280/280 [04:41<00:00,  1.00s/it]\n"
     ]
    },
    {
     "name": "stdout",
     "output_type": "stream",
     "text": [
      "classes           IoU\n",
      "---------------------\n",
      "Pole          : 0.651\n",
      "SignSymbol    : 0.874\n",
      "Bicyclist     : 0.885\n",
      "Pedestrian    : 0.821\n",
      "Building      : 0.957\n",
      "Fence         : 0.940\n",
      "Pavement      : 0.949\n",
      "Road          : 0.985\n",
      "Car           : 0.957\n",
      "Sky           : 0.939\n",
      "Tree          : 0.930\n",
      "---------------------\n",
      "Mean IoU      : 0.899\n",
      "---------------------\n",
      "train epoch  78\n",
      "loss : 0.0735   acc : 0.9687   miou : 0.8989\n",
      "mIoU improved from 0.8984 to 0.8989.\n"
     ]
    },
    {
     "name": "stderr",
     "output_type": "stream",
     "text": [
      "100%|██████████| 280/280 [04:41<00:00,  1.00s/it]\n",
      "  0%|          | 0/280 [00:00<?, ?it/s]"
     ]
    },
    {
     "name": "stdout",
     "output_type": "stream",
     "text": [
      "classes           IoU\n",
      "---------------------\n",
      "Pole          : 0.652\n",
      "SignSymbol    : 0.873\n",
      "Bicyclist     : 0.885\n",
      "Pedestrian    : 0.821\n",
      "Building      : 0.957\n",
      "Fence         : 0.940\n",
      "Pavement      : 0.949\n",
      "Road          : 0.985\n",
      "Car           : 0.957\n",
      "Sky           : 0.939\n",
      "Tree          : 0.930\n",
      "---------------------\n",
      "Mean IoU      : 0.899\n",
      "---------------------\n",
      "train epoch  79\n",
      "loss : 0.0734   acc : 0.9688   miou : 0.8989\n"
     ]
    },
    {
     "name": "stderr",
     "output_type": "stream",
     "text": [
      "100%|██████████| 280/280 [04:41<00:00,  1.00s/it]\n"
     ]
    },
    {
     "name": "stdout",
     "output_type": "stream",
     "text": [
      "classes           IoU\n",
      "---------------------\n",
      "Pole          : 0.653\n",
      "SignSymbol    : 0.874\n",
      "Bicyclist     : 0.886\n",
      "Pedestrian    : 0.821\n",
      "Building      : 0.957\n",
      "Fence         : 0.940\n",
      "Pavement      : 0.949\n",
      "Road          : 0.985\n",
      "Car           : 0.957\n",
      "Sky           : 0.939\n",
      "Tree          : 0.931\n",
      "---------------------\n",
      "Mean IoU      : 0.899\n",
      "---------------------\n",
      "train epoch  80\n",
      "loss : 0.0734   acc : 0.9689   miou : 0.8994\n",
      "mIoU improved from 0.8989 to 0.8994.\n"
     ]
    }
   ],
   "source": [
    "for epoch in range(num_epoch):\n",
    "    model.train()\n",
    "\n",
    "    loss_running = AverageMeter('Loss', ':.4e')\n",
    "    acc_running = AverageMeter('Accuracy', ':.3f')  \n",
    "    iou = iouCalc(classLabels, validClasses, voidClass = 11)\n",
    "    progress = ProgressMeter(\n",
    "        len(train_data),\n",
    "        [loss_running, acc_running],\n",
    "        prefix=\"Train, epoch: [{}]\".format(epoch))\n",
    "\n",
    "    for batch, (x, y) in enumerate(tqdm(train_data, total=len(train_data))):\n",
    "        \n",
    "        x = x.to(device)\n",
    "        y = y.to(device)\n",
    "        # zero the parameter gradients\n",
    "        optimizer.zero_grad()\n",
    "        # forward pass\n",
    "        outputs = model(x)\n",
    "        outputs = outputs['out']\n",
    "        preds = torch.argmax(outputs, 1)\n",
    "        \n",
    "        # cross-entropy loss\n",
    "        loss = criterion(outputs, y)\n",
    "\n",
    "        # backward pass\n",
    "        loss.backward()\n",
    "        optimizer.step()\n",
    "        \n",
    "        # Statistics\n",
    "        bs = x.size(0)\n",
    "        loss = loss.item()\n",
    "        loss_running.update(loss, bs)\n",
    "        corrects = torch.sum((preds == y) & (y != 12))\n",
    "        \n",
    "        nvoid = int((y==12).sum())\n",
    "        acc = corrects.double()/(bs*res-nvoid)\n",
    "        acc_running.update(acc, bs)\n",
    "        \n",
    "        # Calculate IoU scores of current batch\n",
    "        iou.evaluateBatch(preds, y)\n",
    "        \n",
    "#         progress.display(batch)\n",
    "        \n",
    "     \n",
    "    scheduler.step(loss_running.avg)\n",
    "    miou = iou.outputScores()\n",
    "    \n",
    "    print('train epoch ', epoch+1)\n",
    "    print('loss : {:.4f}   acc : {:.4f}   miou : {:.4f}'.format(loss_running.avg, acc_running.avg, miou))\n",
    "    \n",
    "    # save checkpoint per epoch\n",
    "    now = datetime.datetime.now()\n",
    "    now_time = now.strftime('%y%m%d_%H:%M')\n",
    "    \n",
    "    # save checkpoint per epoch\n",
    "    now = datetime.datetime.now()\n",
    "    now_time = now.strftime('%y%m%d_%H:%M')\n",
    "\n",
    "    \n",
    "    # save path\n",
    "    if not os.path.isdir(os.getcwd() + '/result/' + filename):\n",
    "        os.makedirs(os.getcwd() + '/result/' + filename)\n",
    "    \n",
    "    save_path = os.getcwd() + '/result/' + filename + '/'\n",
    "    \n",
    "    with open(save_path + 'train_log_epoch.csv', 'a') as epoch_log:\n",
    "            epoch_log.write('{}, {:.5f}, {:.5f}, {:.5f}\\n'.format(\n",
    "                    epoch+1, loss_running.avg, acc_running.avg, miou))\n",
    "    \n",
    "    # Save best model to file\n",
    "    torch.save({\n",
    "        'epoch' : epoch+1,\n",
    "        'model_state_dict' : model.state_dict(),\n",
    "        'optimizer_state_dict': optimizer.state_dict(),\n",
    "        'best_miou': best_miou,\n",
    "        'metrics': metrics,\n",
    "        }, save_path + now_time + '_checkpoint.pth.tar')\n",
    "    \n",
    "    # Save best model to file\n",
    "    if miou > best_miou:\n",
    "        print('mIoU improved from {:.4f} to {:.4f}.'.format(best_miou, miou))\n",
    "        best_miou = miou\n",
    "        torch.save({\n",
    "            'epoch': epoch+1,\n",
    "            'model_state_dict': model.state_dict(),\n",
    "            }, save_path + 'best_weights.pth.tar')\n"
   ]
  },
  {
   "cell_type": "code",
   "execution_count": 39,
   "id": "897532fe",
   "metadata": {},
   "outputs": [
    {
     "data": {
      "image/png": "[encoded data removed]",
      "text/plain": [
       "<Figure size 1440x360 with 1 Axes>"
      ]
     },
     "metadata": {
      "needs_background": "light"
     },
     "output_type": "display_data"
    }
   ],
   "source": [
    "log_epoch = pd.read_csv('result/' + filename + '/train_log_epoch.csv', names = ['epoch', 'loss', 'accuracy', 'miou'])\n",
    "\n",
    "plt.figure(figsize=(20, 5))\n",
    "plt.plot(log_epoch['epoch'], log_epoch['miou'], label = 'miou')\n",
    "plt.plot(log_epoch['epoch'], log_epoch['accuracy'], label = 'accuracy')\n",
    "plt.plot(log_epoch['epoch'], log_epoch['loss'], label = 'loss')\n",
    "plt.xticks([i for i in range(1, log_epoch.shape[0]+1)])\n",
    "plt.title(\"DeepLab V3 resnet50\")\n",
    "plt.xlabel(\"epoch\")\n",
    "plt.ylabel(\"\")\n",
    "plt.legend()\n",
    "plt.show()"
   ]
  },
  {
   "cell_type": "markdown",
   "id": "99899f98",
   "metadata": {},
   "source": [
    "### test"
   ]
  },
  {
   "cell_type": "code",
   "execution_count": 40,
   "id": "cf16deac",
   "metadata": {},
   "outputs": [],
   "source": [
    "X = torch.tensor(test_x, dtype=torch.float32)\n",
    "Y = torch.tensor(test_y, dtype=torch.long)\n",
    "\n",
    "data = torch.utils.data.TensorDataset(X.permute(dims=(0, 3, 1, 2)), Y)\n",
    "\n",
    "test_data = torch.utils.data.DataLoader(data, batch_size=1, shuffle=True)"
   ]
  },
  {
   "cell_type": "code",
   "execution_count": 45,
   "id": "5b47707c",
   "metadata": {
    "scrolled": true
   },
   "outputs": [],
   "source": [
    "# Load best model\n",
    "\n",
    "save_path = os.getcwd() + '/result/' + filename + '/'\n",
    "result = [file for file in sorted(os.listdir(save_path), reverse=True) if file == 'best_weights.pth.tar' ]"
   ]
  },
  {
   "cell_type": "code",
   "execution_count": 47,
   "id": "2a0ec6a3",
   "metadata": {},
   "outputs": [],
   "source": [
    "bestmodel = result[0]"
   ]
  },
  {
   "cell_type": "code",
   "execution_count": 48,
   "id": "d1213154",
   "metadata": {},
   "outputs": [
    {
     "name": "stdout",
     "output_type": "stream",
     "text": [
      "Loaded best model weights (epoch 80) from /home/ag/Capstone2/TEST/result/08_resnet_50/best_weights.pth.tar\n"
     ]
    }
   ],
   "source": [
    "checkpoint = torch.load(save_path + bestmodel) # 가장 최신 best_weights 파일 가져옴\n",
    "model.load_state_dict(checkpoint['model_state_dict'], strict=True)\n",
    "print('Loaded best model weights (epoch {}) from {}'.format(checkpoint['epoch'], save_path + bestmodel))"
   ]
  },
  {
   "cell_type": "code",
   "execution_count": 49,
   "id": "b3ff5133",
   "metadata": {},
   "outputs": [
    {
     "name": "stderr",
     "output_type": "stream",
     "text": [
      "100%|██████████| 141/141 [00:15<00:00,  9.36it/s]"
     ]
    },
    {
     "name": "stdout",
     "output_type": "stream",
     "text": [
      "classes           IoU\n",
      "---------------------\n",
      "Pole          : 0.622\n",
      "SignSymbol    : 0.840\n",
      "Bicyclist     : 0.871\n",
      "Pedestrian    : 0.797\n",
      "Building      : 0.950\n",
      "Fence         : 0.917\n",
      "Pavement      : 0.934\n",
      "Road          : 0.983\n",
      "Car           : 0.947\n",
      "Sky           : 0.937\n",
      "Tree          : 0.916\n",
      "---------------------\n",
      "Mean IoU      : 0.883\n",
      "---------------------\n",
      "loss : 0.1769 acc : 0.9629 miou : 0.8829\n"
     ]
    },
    {
     "name": "stderr",
     "output_type": "stream",
     "text": [
      "\n"
     ]
    }
   ],
   "source": [
    "batch_time = AverageMeter('Time', ':6.3f')\n",
    "data_time = AverageMeter('Data', ':6.3f')\n",
    "progress = ProgressMeter(\n",
    "    len(test_data),\n",
    "    [batch_time, data_time],\n",
    "    prefix='Predict: ')\n",
    "\n",
    "model.eval()\n",
    "\n",
    "for batch, (x, y) in enumerate(tqdm(test_data, total=len(test_data))):\n",
    "\n",
    "    x = x.to(device)\n",
    "    y = y.to(device)\n",
    "\n",
    "    # forward\n",
    "    outputs = model(x)\n",
    "    outputs = outputs['out']\n",
    "\n",
    "    preds = torch.argmax(outputs, 1)\n",
    "\n",
    "    # cross-entropy loss\n",
    "    loss = criterion(outputs, y)\n",
    "\n",
    "    # Statistics\n",
    "    bs = x.size(0)\n",
    "    loss = loss.item()\n",
    "    loss_running.update(loss, bs)\n",
    "    corrects = torch.sum((preds == y) & (y != 12))\n",
    "\n",
    "    nvoid = int((y==12).sum())\n",
    "    acc = corrects.double()/(bs*res-nvoid)\n",
    "    acc_running.update(acc, bs)\n",
    "\n",
    "    # Calculate IoU scores of current batch\n",
    "    iou.evaluateBatch(preds, y)\n",
    "\n",
    "miou = iou.outputScores()\n",
    "scheduler.step(loss_running.avg)\n",
    "\n",
    "print('loss : {:.4f} acc : {:.4f} miou : {:.4f}'.format(loss_running.avg, acc_running.avg, miou))"
   ]
  },
  {
   "cell_type": "code",
   "execution_count": null,
   "id": "f6a512f1",
   "metadata": {},
   "outputs": [],
   "source": []
  }
 ],
 "metadata": {
  "kernelspec": {
   "display_name": "venv_cap",
   "language": "python",
   "name": "venv_cap"
  },
  "language_info": {
   "codemirror_mode": {
    "name": "ipython",
    "version": 3
   },
   "file_extension": ".py",
   "mimetype": "text/x-python",
   "name": "python",
   "nbconvert_exporter": "python",
   "pygments_lexer": "ipython3",
   "version": "3.7.5"
  }
 },
 "nbformat": 4,
 "nbformat_minor": 5
}
