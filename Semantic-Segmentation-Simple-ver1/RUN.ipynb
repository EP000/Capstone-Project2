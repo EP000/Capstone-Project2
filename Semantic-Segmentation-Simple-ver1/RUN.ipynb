{
 "cells": [
  {
   "cell_type": "code",
   "execution_count": 1,
   "metadata": {
    "scrolled": true
   },
   "outputs": [],
   "source": [
    "import os\n",
    "import time\n",
    "import datetime\n",
    "import numpy as np\n",
    "import warnings\n",
    "import random\n",
    "from PIL import Image\n",
    "from tqdm import tqdm\n",
    "\n",
    "from labels import labels"
   ]
  },
  {
   "cell_type": "code",
   "execution_count": 2,
   "metadata": {},
   "outputs": [],
   "source": [
    "# 데이터 경로\n",
    "#  os.getcwd() :'/home/ag/Capstone2/DeepLab_V3_ver1'\n",
    "origin_data_path = os.getcwd() + '/data/Original_data/'\n",
    "labeled_data_path = os.getcwd() + '/data/Labeled_data/'\n",
    "\n",
    "origin_data_list = os.listdir(origin_data_path) # x\n",
    "labeled_data_list = os.listdir(labeled_data_path) # y\n",
    "\n",
    "# 파일명 랜덤\n",
    "random.shuffle(origin_data_list)\n",
    "random.shuffle(labeled_data_list)\n",
    "\n",
    "# train, test / x, y \n",
    "train_x_file = origin_data_list[:int(len(origin_data_list)*0.8)]\n",
    "train_y_file = [file_name[:-4] + '_L.png' for file_name in train_x_file]\n",
    "\n",
    "test_x_file = [file_name for file_name in origin_data_list if file_name not in train_x_file]\n",
    "test_y_file = [file_name[:-4] + '_L.png' for file_name in test_x_file]"
   ]
  },
  {
   "cell_type": "code",
   "execution_count": 3,
   "metadata": {},
   "outputs": [
    {
     "name": "stdout",
     "output_type": "stream",
     "text": [
      "560 141 560 141\n"
     ]
    }
   ],
   "source": [
    "print(len(train_x_file), len(test_x_file), len(train_y_file), len(test_y_file))"
   ]
  },
  {
   "cell_type": "code",
   "execution_count": 4,
   "metadata": {},
   "outputs": [
    {
     "name": "stdout",
     "output_type": "stream",
     "text": [
      "Seq05VD_f02220.png 0016E5_08107.png Seq05VD_f02220_L.png 0016E5_08107_L.png\n"
     ]
    }
   ],
   "source": [
    "print(train_x_file[0], test_x_file[0], train_y_file[0], test_y_file[0])"
   ]
  },
  {
   "cell_type": "markdown",
   "metadata": {},
   "source": [
    "### X"
   ]
  },
  {
   "cell_type": "code",
   "execution_count": 5,
   "metadata": {},
   "outputs": [],
   "source": [
    "train_x = [np.array(Image.open(origin_data_path + train)) for train in train_x_file]\n",
    "test_x = [np.array(Image.open(origin_data_path + test)) for test in test_x_file]"
   ]
  },
  {
   "cell_type": "markdown",
   "metadata": {},
   "source": [
    "### Y"
   ]
  },
  {
   "cell_type": "code",
   "execution_count": 6,
   "metadata": {},
   "outputs": [],
   "source": [
    "# color to label catId\n",
    "color2label = { label.color   : label.id for label in labels}"
   ]
  },
  {
   "cell_type": "code",
   "execution_count": 7,
   "metadata": {
    "scrolled": true
   },
   "outputs": [
    {
     "name": "stderr",
     "output_type": "stream",
     "text": [
      "100%|██████████| 560/560 [21:43<00:00,  2.33s/it]\n"
     ]
    }
   ],
   "source": [
    "train_y = []\n",
    "for file_name in tqdm(train_y_file):\n",
    "    image = np.array(Image.open(labeled_data_path + file_name))\n",
    "    ret = [[color2label[tuple([r[0], r[1], r[2]])] \n",
    "            if tuple([r[0], r[1], r[2]]) in color2label else 11\n",
    "            for r in row] \n",
    "           for row in image]\n",
    "    train_y.append(ret)"
   ]
  },
  {
   "cell_type": "code",
   "execution_count": 8,
   "metadata": {
    "scrolled": false
   },
   "outputs": [
    {
     "name": "stderr",
     "output_type": "stream",
     "text": [
      "100%|██████████| 141/141 [05:28<00:00,  2.33s/it]\n"
     ]
    }
   ],
   "source": [
    "test_y = []\n",
    "for file_name in tqdm(test_y_file):\n",
    "    image = np.array(Image.open(labeled_data_path + file_name))\n",
    "    ret = [[color2label[tuple([r[0], r[1], r[2]])] \n",
    "            if tuple([r[0], r[1], r[2]]) in color2label else 11\n",
    "            for r in row] \n",
    "           for row in image]\n",
    "    test_y.append(ret)"
   ]
  },
  {
   "cell_type": "code",
   "execution_count": 9,
   "metadata": {
    "scrolled": false
   },
   "outputs": [
    {
     "data": {
      "text/plain": [
       "((560, 720, 960), (141, 720, 960))"
      ]
     },
     "execution_count": 9,
     "metadata": {},
     "output_type": "execute_result"
    }
   ],
   "source": [
    "np.array(train_y).shape, np.array(test_y).shape"
   ]
  },
  {
   "cell_type": "code",
   "execution_count": 10,
   "metadata": {},
   "outputs": [],
   "source": [
    "train_x = np.array(train_x)\n",
    "train_y = np.array(train_y)\n",
    "test_x = np.array(test_x)\n",
    "test_y = np.array(test_y)"
   ]
  },
  {
   "cell_type": "markdown",
   "metadata": {},
   "source": [
    "### data save"
   ]
  },
  {
   "cell_type": "code",
   "execution_count": 11,
   "metadata": {
    "scrolled": true
   },
   "outputs": [],
   "source": [
    "np.savez('data.npz', train_x=train_x, train_y=train_y, test_x=test_x, test_y=test_y)"
   ]
  },
  {
   "cell_type": "markdown",
   "metadata": {},
   "source": [
    "# Model"
   ]
  },
  {
   "cell_type": "markdown",
   "metadata": {},
   "source": [
    "### package load"
   ]
  },
  {
   "cell_type": "code",
   "execution_count": 12,
   "metadata": {},
   "outputs": [],
   "source": [
    "import os\n",
    "import sys\n",
    "import time\n",
    "from tqdm import tqdm\n",
    "import numpy as np\n",
    "import warnings\n",
    "import random\n",
    "import torch\n",
    "import torch.nn as nn\n",
    "import torch.optim as optim\n",
    "import torchvision\n",
    "import torchvision.transforms.functional as TF\n",
    "import torch.nn.functional as F\n",
    "from torch.autograd import Variable"
   ]
  },
  {
   "cell_type": "code",
   "execution_count": 13,
   "metadata": {},
   "outputs": [],
   "source": [
    "from model import convert_bn_to_instancenorm, convert_bn_to_evonorm, convert_bn_to_groupnorm, DeepLabHead, UNet\n",
    "from helpers import AverageMeter, ProgressMeter, iouCalc, visim, vislbl\n",
    "from labels import labels"
   ]
  },
  {
   "cell_type": "markdown",
   "metadata": {},
   "source": [
    "### gpu"
   ]
  },
  {
   "cell_type": "code",
   "execution_count": 14,
   "metadata": {},
   "outputs": [],
   "source": [
    "device = torch.device('cuda' if torch.cuda.is_available() else 'cpu')"
   ]
  },
  {
   "cell_type": "markdown",
   "metadata": {},
   "source": [
    "### data load"
   ]
  },
  {
   "cell_type": "code",
   "execution_count": 15,
   "metadata": {},
   "outputs": [],
   "source": [
    "npzfile = np.load('data.npz')\n",
    "\n",
    "train_x = npzfile['train_x']\n",
    "train_y = npzfile['train_y']\n",
    "test_x = npzfile['test_x']\n",
    "test_y = npzfile['test_y']\n",
    "\n",
    "npzfile.close()"
   ]
  },
  {
   "cell_type": "markdown",
   "metadata": {},
   "source": [
    "### DeepLab v3 ResNet50 "
   ]
  },
  {
   "cell_type": "code",
   "execution_count": 16,
   "metadata": {},
   "outputs": [],
   "source": [
    "model = torchvision.models.segmentation.deeplabv3_resnet50(pretrained=False).to(device)\n",
    "model.classifier = DeepLabHead(2048, 12).to(device) # 12 = class num"
   ]
  },
  {
   "cell_type": "code",
   "execution_count": 17,
   "metadata": {},
   "outputs": [],
   "source": [
    "optimizer = torch.optim.SGD(model.parameters(), lr=0.01, momentum=0.9)\n",
    "scheduler = optim.lr_scheduler.CosineAnnealingLR(optimizer, T_max=2) # 파라미터 학습속도 조절"
   ]
  },
  {
   "cell_type": "code",
   "execution_count": 18,
   "metadata": {},
   "outputs": [],
   "source": [
    "# Initialize metrics\n",
    "best_miou = 0.0\n",
    "metrics = {'train_loss' : [],\n",
    "           'train_acc' : [],\n",
    "           'test_acc' : [],\n",
    "           'test_loss' : [],\n",
    "           'miou' : []}\n",
    "start_epoch = 0"
   ]
  },
  {
   "cell_type": "markdown",
   "metadata": {},
   "source": [
    "### Label "
   ]
  },
  {
   "cell_type": "code",
   "execution_count": 19,
   "metadata": {},
   "outputs": [],
   "source": [
    "# Create list of class names\n",
    "classLabels = []\n",
    "for label in labels:\n",
    "    if label.name not in classLabels:\n",
    "        classLabels.append(label.name)\n",
    "classLabels.append('void')"
   ]
  },
  {
   "cell_type": "code",
   "execution_count": 20,
   "metadata": {
    "scrolled": true
   },
   "outputs": [],
   "source": [
    "validClasses = list(np.unique([label.id for label in labels if label.id >= 0] + [11]))"
   ]
  },
  {
   "cell_type": "markdown",
   "metadata": {},
   "source": [
    "### train"
   ]
  },
  {
   "cell_type": "code",
   "execution_count": 21,
   "metadata": {},
   "outputs": [
    {
     "name": "stdout",
     "output_type": "stream",
     "text": [
      "\n"
     ]
    }
   ],
   "source": [
    "model.train()\n",
    "print()"
   ]
  },
  {
   "cell_type": "code",
   "execution_count": 22,
   "metadata": {},
   "outputs": [],
   "source": [
    "X = torch.tensor(train_x, dtype=torch.float32)\n",
    "Y = torch.tensor(train_y, dtype=torch.long)\n",
    "\n",
    "data = torch.utils.data.TensorDataset(X.permute(dims=(0, 3, 1, 2)), Y)\n",
    "\n",
    "train_data = torch.utils.data.DataLoader(data, batch_size=2, shuffle=True)"
   ]
  },
  {
   "cell_type": "code",
   "execution_count": 23,
   "metadata": {
    "scrolled": true
   },
   "outputs": [
    {
     "data": {
      "text/plain": [
       "(torch.Size([560, 720, 960, 3]), torch.Size([560, 720, 960]))"
      ]
     },
     "execution_count": 23,
     "metadata": {},
     "output_type": "execute_result"
    }
   ],
   "source": [
    "X.shape, Y.shape"
   ]
  },
  {
   "cell_type": "code",
   "execution_count": 24,
   "metadata": {},
   "outputs": [],
   "source": [
    "class_weight = torch.tensor([0.5, 0.5, 0.5, 0.5, 0.5, 0.5, 0.5, 0], dtype=torch.float32) # 아직 반영안함\n",
    "criterion = nn.CrossEntropyLoss(weight = None, ignore_index=12) # weight 파라미터에 class_weight 추가"
   ]
  },
  {
   "cell_type": "code",
   "execution_count": 25,
   "metadata": {},
   "outputs": [],
   "source": [
    "num_epoch = 1\n",
    "res = X.shape[1] * X.shape[2]"
   ]
  },
  {
   "cell_type": "code",
   "execution_count": 26,
   "metadata": {
    "scrolled": true
   },
   "outputs": [
    {
     "name": "stderr",
     "output_type": "stream",
     "text": [
      "  0%|          | 1/280 [00:00<04:37,  1.00it/s]"
     ]
    },
    {
     "name": "stdout",
     "output_type": "stream",
     "text": [
      "Train, epoch: [0][  0/280]\tLoss 2.5986e+00 (2.5986e+00)\tAccuracy 0.037 (0.037)\n"
     ]
    },
    {
     "name": "stderr",
     "output_type": "stream",
     "text": [
      "\r",
      "  1%|          | 2/280 [00:01<04:35,  1.01it/s]"
     ]
    },
    {
     "name": "stdout",
     "output_type": "stream",
     "text": [
      "Train, epoch: [0][  0/280]\tLoss 2.4881e+00 (2.5433e+00)\tAccuracy 0.133 (0.085)\n"
     ]
    },
    {
     "name": "stderr",
     "output_type": "stream",
     "text": [
      "\r",
      "  1%|          | 3/280 [00:02<04:32,  1.01it/s]"
     ]
    },
    {
     "name": "stdout",
     "output_type": "stream",
     "text": [
      "Train, epoch: [0][  0/280]\tLoss 2.1452e+00 (2.4106e+00)\tAccuracy 0.481 (0.217)\n"
     ]
    },
    {
     "name": "stderr",
     "output_type": "stream",
     "text": [
      "\r",
      "  1%|▏         | 4/280 [00:03<04:31,  1.02it/s]"
     ]
    },
    {
     "name": "stdout",
     "output_type": "stream",
     "text": [
      "Train, epoch: [0][  0/280]\tLoss 1.9164e+00 (2.2871e+00)\tAccuracy 0.544 (0.299)\n"
     ]
    },
    {
     "name": "stderr",
     "output_type": "stream",
     "text": [
      "\r",
      "  2%|▏         | 5/280 [00:04<04:29,  1.02it/s]"
     ]
    },
    {
     "name": "stdout",
     "output_type": "stream",
     "text": [
      "Train, epoch: [0][  0/280]\tLoss 1.7230e+00 (2.1742e+00)\tAccuracy 0.554 (0.350)\n"
     ]
    },
    {
     "name": "stderr",
     "output_type": "stream",
     "text": [
      "\r",
      "  2%|▏         | 6/280 [00:05<04:28,  1.02it/s]"
     ]
    },
    {
     "name": "stdout",
     "output_type": "stream",
     "text": [
      "Train, epoch: [0][  0/280]\tLoss 1.5029e+00 (2.0624e+00)\tAccuracy 0.576 (0.387)\n"
     ]
    },
    {
     "name": "stderr",
     "output_type": "stream",
     "text": [
      "\r",
      "  2%|▎         | 7/280 [00:06<04:27,  1.02it/s]"
     ]
    },
    {
     "name": "stdout",
     "output_type": "stream",
     "text": [
      "Train, epoch: [0][  0/280]\tLoss 1.3082e+00 (1.9546e+00)\tAccuracy 0.605 (0.419)\n"
     ]
    },
    {
     "name": "stderr",
     "output_type": "stream",
     "text": [
      "\r",
      "  3%|▎         | 8/280 [00:07<04:25,  1.02it/s]"
     ]
    },
    {
     "name": "stdout",
     "output_type": "stream",
     "text": [
      "Train, epoch: [0][  0/280]\tLoss 1.3105e+00 (1.8741e+00)\tAccuracy 0.566 (0.437)\n"
     ]
    },
    {
     "name": "stderr",
     "output_type": "stream",
     "text": [
      "\r",
      "  3%|▎         | 9/280 [00:08<04:24,  1.02it/s]"
     ]
    },
    {
     "name": "stdout",
     "output_type": "stream",
     "text": [
      "Train, epoch: [0][  0/280]\tLoss 1.2141e+00 (1.8008e+00)\tAccuracy 0.574 (0.452)\n"
     ]
    },
    {
     "name": "stderr",
     "output_type": "stream",
     "text": [
      "\r",
      "  4%|▎         | 10/280 [00:09<04:23,  1.03it/s]"
     ]
    },
    {
     "name": "stdout",
     "output_type": "stream",
     "text": [
      "Train, epoch: [0][  0/280]\tLoss 9.6761e-01 (1.7175e+00)\tAccuracy 0.691 (0.476)\n"
     ]
    },
    {
     "name": "stderr",
     "output_type": "stream",
     "text": [
      "\r",
      "  4%|▍         | 11/280 [00:10<04:22,  1.03it/s]"
     ]
    },
    {
     "name": "stdout",
     "output_type": "stream",
     "text": [
      "Train, epoch: [0][  0/280]\tLoss 1.1757e+00 (1.6682e+00)\tAccuracy 0.667 (0.493)\n"
     ]
    },
    {
     "name": "stderr",
     "output_type": "stream",
     "text": [
      "\r",
      "  4%|▍         | 12/280 [00:11<04:21,  1.03it/s]"
     ]
    },
    {
     "name": "stdout",
     "output_type": "stream",
     "text": [
      "Train, epoch: [0][  0/280]\tLoss 9.5714e-01 (1.6089e+00)\tAccuracy 0.702 (0.511)\n"
     ]
    },
    {
     "name": "stderr",
     "output_type": "stream",
     "text": [
      "\r",
      "  5%|▍         | 13/280 [00:12<04:20,  1.03it/s]"
     ]
    },
    {
     "name": "stdout",
     "output_type": "stream",
     "text": [
      "Train, epoch: [0][  0/280]\tLoss 7.6908e-01 (1.5443e+00)\tAccuracy 0.782 (0.532)\n"
     ]
    },
    {
     "name": "stderr",
     "output_type": "stream",
     "text": [
      "\r",
      "  5%|▌         | 14/280 [00:13<04:19,  1.03it/s]"
     ]
    },
    {
     "name": "stdout",
     "output_type": "stream",
     "text": [
      "Train, epoch: [0][  0/280]\tLoss 8.1252e-01 (1.4921e+00)\tAccuracy 0.766 (0.548)\n"
     ]
    },
    {
     "name": "stderr",
     "output_type": "stream",
     "text": [
      "\r",
      "  5%|▌         | 15/280 [00:14<04:18,  1.03it/s]"
     ]
    },
    {
     "name": "stdout",
     "output_type": "stream",
     "text": [
      "Train, epoch: [0][  0/280]\tLoss 9.9428e-01 (1.4589e+00)\tAccuracy 0.689 (0.558)\n"
     ]
    },
    {
     "name": "stderr",
     "output_type": "stream",
     "text": [
      "\r",
      "  6%|▌         | 16/280 [00:15<04:17,  1.03it/s]"
     ]
    },
    {
     "name": "stdout",
     "output_type": "stream",
     "text": [
      "Train, epoch: [0][  0/280]\tLoss 1.0671e+00 (1.4344e+00)\tAccuracy 0.655 (0.564)\n"
     ]
    },
    {
     "name": "stderr",
     "output_type": "stream",
     "text": [
      "\r",
      "  6%|▌         | 17/280 [00:16<04:16,  1.03it/s]"
     ]
    },
    {
     "name": "stdout",
     "output_type": "stream",
     "text": [
      "Train, epoch: [0][  0/280]\tLoss 5.7329e-01 (1.3837e+00)\tAccuracy 0.831 (0.580)\n"
     ]
    },
    {
     "name": "stderr",
     "output_type": "stream",
     "text": [
      "\r",
      "  6%|▋         | 18/280 [00:17<04:15,  1.03it/s]"
     ]
    },
    {
     "name": "stdout",
     "output_type": "stream",
     "text": [
      "Train, epoch: [0][  0/280]\tLoss 5.8206e-01 (1.3392e+00)\tAccuracy 0.853 (0.595)\n"
     ]
    },
    {
     "name": "stderr",
     "output_type": "stream",
     "text": [
      "\r",
      "  7%|▋         | 19/280 [00:18<04:14,  1.03it/s]"
     ]
    },
    {
     "name": "stdout",
     "output_type": "stream",
     "text": [
      "Train, epoch: [0][  0/280]\tLoss 1.0715e+00 (1.3251e+00)\tAccuracy 0.662 (0.598)\n"
     ]
    },
    {
     "name": "stderr",
     "output_type": "stream",
     "text": [
      "\r",
      "  7%|▋         | 20/280 [00:19<04:13,  1.03it/s]"
     ]
    },
    {
     "name": "stdout",
     "output_type": "stream",
     "text": [
      "Train, epoch: [0][  0/280]\tLoss 7.0480e-01 (1.2941e+00)\tAccuracy 0.768 (0.607)\n"
     ]
    },
    {
     "name": "stderr",
     "output_type": "stream",
     "text": [
      "\r",
      "  8%|▊         | 21/280 [00:20<04:12,  1.02it/s]"
     ]
    },
    {
     "name": "stdout",
     "output_type": "stream",
     "text": [
      "Train, epoch: [0][  0/280]\tLoss 6.9876e-01 (1.2658e+00)\tAccuracy 0.810 (0.616)\n"
     ]
    },
    {
     "name": "stderr",
     "output_type": "stream",
     "text": [
      "\r",
      "  8%|▊         | 22/280 [00:21<04:12,  1.02it/s]"
     ]
    },
    {
     "name": "stdout",
     "output_type": "stream",
     "text": [
      "Train, epoch: [0][  0/280]\tLoss 7.0827e-01 (1.2404e+00)\tAccuracy 0.802 (0.625)\n"
     ]
    },
    {
     "name": "stderr",
     "output_type": "stream",
     "text": [
      "\r",
      "  8%|▊         | 23/280 [00:22<04:11,  1.02it/s]"
     ]
    },
    {
     "name": "stdout",
     "output_type": "stream",
     "text": [
      "Train, epoch: [0][  0/280]\tLoss 7.4501e-01 (1.2189e+00)\tAccuracy 0.747 (0.630)\n"
     ]
    },
    {
     "name": "stderr",
     "output_type": "stream",
     "text": [
      "\r",
      "  9%|▊         | 24/280 [00:23<04:10,  1.02it/s]"
     ]
    },
    {
     "name": "stdout",
     "output_type": "stream",
     "text": [
      "Train, epoch: [0][  0/280]\tLoss 8.6959e-01 (1.2043e+00)\tAccuracy 0.739 (0.635)\n"
     ]
    },
    {
     "name": "stderr",
     "output_type": "stream",
     "text": [
      "\r",
      "  9%|▉         | 25/280 [00:24<04:09,  1.02it/s]"
     ]
    },
    {
     "name": "stdout",
     "output_type": "stream",
     "text": [
      "Train, epoch: [0][  0/280]\tLoss 6.3514e-01 (1.1816e+00)\tAccuracy 0.818 (0.642)\n"
     ]
    },
    {
     "name": "stderr",
     "output_type": "stream",
     "text": [
      "\r",
      "  9%|▉         | 26/280 [00:25<04:08,  1.02it/s]"
     ]
    },
    {
     "name": "stdout",
     "output_type": "stream",
     "text": [
      "Train, epoch: [0][  0/280]\tLoss 7.9487e-01 (1.1667e+00)\tAccuracy 0.752 (0.646)\n"
     ]
    },
    {
     "name": "stderr",
     "output_type": "stream",
     "text": [
      "\r",
      " 10%|▉         | 27/280 [00:26<04:07,  1.02it/s]"
     ]
    },
    {
     "name": "stdout",
     "output_type": "stream",
     "text": [
      "Train, epoch: [0][  0/280]\tLoss 7.2138e-01 (1.1502e+00)\tAccuracy 0.798 (0.652)\n"
     ]
    },
    {
     "name": "stderr",
     "output_type": "stream",
     "text": [
      "\r",
      " 10%|█         | 28/280 [00:27<04:06,  1.02it/s]"
     ]
    },
    {
     "name": "stdout",
     "output_type": "stream",
     "text": [
      "Train, epoch: [0][  0/280]\tLoss 5.9167e-01 (1.1302e+00)\tAccuracy 0.806 (0.657)\n"
     ]
    },
    {
     "name": "stderr",
     "output_type": "stream",
     "text": [
      "\r",
      " 10%|█         | 29/280 [00:28<04:05,  1.02it/s]"
     ]
    },
    {
     "name": "stdout",
     "output_type": "stream",
     "text": [
      "Train, epoch: [0][  0/280]\tLoss 7.2352e-01 (1.1162e+00)\tAccuracy 0.753 (0.661)\n"
     ]
    },
    {
     "name": "stderr",
     "output_type": "stream",
     "text": [
      "\r",
      " 11%|█         | 30/280 [00:29<04:05,  1.02it/s]"
     ]
    },
    {
     "name": "stdout",
     "output_type": "stream",
     "text": [
      "Train, epoch: [0][  0/280]\tLoss 5.7988e-01 (1.0983e+00)\tAccuracy 0.824 (0.666)\n"
     ]
    },
    {
     "name": "stderr",
     "output_type": "stream",
     "text": [
      "\r",
      " 11%|█         | 31/280 [00:30<04:04,  1.02it/s]"
     ]
    },
    {
     "name": "stdout",
     "output_type": "stream",
     "text": [
      "Train, epoch: [0][  0/280]\tLoss 5.4227e-01 (1.0804e+00)\tAccuracy 0.831 (0.672)\n"
     ]
    },
    {
     "name": "stderr",
     "output_type": "stream",
     "text": [
      "\r",
      " 11%|█▏        | 32/280 [00:31<04:03,  1.02it/s]"
     ]
    },
    {
     "name": "stdout",
     "output_type": "stream",
     "text": [
      "Train, epoch: [0][  0/280]\tLoss 6.9257e-01 (1.0683e+00)\tAccuracy 0.780 (0.675)\n"
     ]
    },
    {
     "name": "stderr",
     "output_type": "stream",
     "text": [
      "\r",
      " 12%|█▏        | 33/280 [00:32<04:02,  1.02it/s]"
     ]
    },
    {
     "name": "stdout",
     "output_type": "stream",
     "text": [
      "Train, epoch: [0][  0/280]\tLoss 4.7183e-01 (1.0502e+00)\tAccuracy 0.850 (0.680)\n"
     ]
    },
    {
     "name": "stderr",
     "output_type": "stream",
     "text": [
      "\r",
      " 12%|█▏        | 34/280 [00:33<04:01,  1.02it/s]"
     ]
    },
    {
     "name": "stdout",
     "output_type": "stream",
     "text": [
      "Train, epoch: [0][  0/280]\tLoss 6.1874e-01 (1.0375e+00)\tAccuracy 0.824 (0.684)\n"
     ]
    },
    {
     "name": "stderr",
     "output_type": "stream",
     "text": [
      "\r",
      " 12%|█▎        | 35/280 [00:34<04:00,  1.02it/s]"
     ]
    },
    {
     "name": "stdout",
     "output_type": "stream",
     "text": [
      "Train, epoch: [0][  0/280]\tLoss 4.4545e-01 (1.0206e+00)\tAccuracy 0.873 (0.690)\n"
     ]
    },
    {
     "name": "stderr",
     "output_type": "stream",
     "text": [
      "\r",
      " 13%|█▎        | 36/280 [00:35<03:59,  1.02it/s]"
     ]
    },
    {
     "name": "stdout",
     "output_type": "stream",
     "text": [
      "Train, epoch: [0][  0/280]\tLoss 5.9901e-01 (1.0089e+00)\tAccuracy 0.802 (0.693)\n"
     ]
    },
    {
     "name": "stderr",
     "output_type": "stream",
     "text": [
      "\r",
      " 13%|█▎        | 37/280 [00:36<03:58,  1.02it/s]"
     ]
    },
    {
     "name": "stdout",
     "output_type": "stream",
     "text": [
      "Train, epoch: [0][  0/280]\tLoss 7.0157e-01 (1.0006e+00)\tAccuracy 0.762 (0.695)\n"
     ]
    },
    {
     "name": "stderr",
     "output_type": "stream",
     "text": [
      "\r",
      " 14%|█▎        | 38/280 [00:37<03:57,  1.02it/s]"
     ]
    },
    {
     "name": "stdout",
     "output_type": "stream",
     "text": [
      "Train, epoch: [0][  0/280]\tLoss 6.6690e-01 (9.9180e-01)\tAccuracy 0.804 (0.698)\n"
     ]
    },
    {
     "name": "stderr",
     "output_type": "stream",
     "text": [
      "\r",
      " 14%|█▍        | 39/280 [00:38<03:56,  1.02it/s]"
     ]
    },
    {
     "name": "stdout",
     "output_type": "stream",
     "text": [
      "Train, epoch: [0][  0/280]\tLoss 5.9725e-01 (9.8168e-01)\tAccuracy 0.821 (0.701)\n"
     ]
    },
    {
     "name": "stderr",
     "output_type": "stream",
     "text": [
      "\r",
      " 14%|█▍        | 40/280 [00:39<03:56,  1.02it/s]"
     ]
    },
    {
     "name": "stdout",
     "output_type": "stream",
     "text": [
      "Train, epoch: [0][  0/280]\tLoss 5.3063e-01 (9.7041e-01)\tAccuracy 0.840 (0.704)\n"
     ]
    },
    {
     "name": "stderr",
     "output_type": "stream",
     "text": [
      "\r",
      " 15%|█▍        | 41/280 [00:40<03:55,  1.02it/s]"
     ]
    },
    {
     "name": "stdout",
     "output_type": "stream",
     "text": [
      "Train, epoch: [0][  0/280]\tLoss 6.2696e-01 (9.6203e-01)\tAccuracy 0.806 (0.707)\n"
     ]
    },
    {
     "name": "stderr",
     "output_type": "stream",
     "text": [
      "\r",
      " 15%|█▌        | 42/280 [00:41<03:54,  1.02it/s]"
     ]
    },
    {
     "name": "stdout",
     "output_type": "stream",
     "text": [
      "Train, epoch: [0][  0/280]\tLoss 5.1528e-01 (9.5139e-01)\tAccuracy 0.844 (0.710)\n"
     ]
    },
    {
     "name": "stderr",
     "output_type": "stream",
     "text": [
      "\r",
      " 15%|█▌        | 43/280 [00:42<03:53,  1.02it/s]"
     ]
    },
    {
     "name": "stdout",
     "output_type": "stream",
     "text": [
      "Train, epoch: [0][  0/280]\tLoss 4.1728e-01 (9.3897e-01)\tAccuracy 0.882 (0.714)\n"
     ]
    },
    {
     "name": "stderr",
     "output_type": "stream",
     "text": [
      "\r",
      " 16%|█▌        | 44/280 [00:43<03:52,  1.01it/s]"
     ]
    },
    {
     "name": "stdout",
     "output_type": "stream",
     "text": [
      "Train, epoch: [0][  0/280]\tLoss 4.5652e-01 (9.2801e-01)\tAccuracy 0.862 (0.717)\n"
     ]
    },
    {
     "name": "stderr",
     "output_type": "stream",
     "text": [
      "\r",
      " 16%|█▌        | 45/280 [00:44<03:51,  1.01it/s]"
     ]
    },
    {
     "name": "stdout",
     "output_type": "stream",
     "text": [
      "Train, epoch: [0][  0/280]\tLoss 5.3588e-01 (9.1929e-01)\tAccuracy 0.845 (0.720)\n"
     ]
    },
    {
     "name": "stderr",
     "output_type": "stream",
     "text": [
      "\r",
      " 16%|█▋        | 46/280 [00:45<03:50,  1.01it/s]"
     ]
    },
    {
     "name": "stdout",
     "output_type": "stream",
     "text": [
      "Train, epoch: [0][  0/280]\tLoss 4.7976e-01 (9.0974e-01)\tAccuracy 0.851 (0.723)\n"
     ]
    },
    {
     "name": "stderr",
     "output_type": "stream",
     "text": [
      "\r",
      " 17%|█▋        | 47/280 [00:46<03:49,  1.02it/s]"
     ]
    },
    {
     "name": "stdout",
     "output_type": "stream",
     "text": [
      "Train, epoch: [0][  0/280]\tLoss 4.7626e-01 (9.0052e-01)\tAccuracy 0.849 (0.726)\n"
     ]
    },
    {
     "name": "stderr",
     "output_type": "stream",
     "text": [
      "\r",
      " 17%|█▋        | 48/280 [00:47<03:48,  1.01it/s]"
     ]
    },
    {
     "name": "stdout",
     "output_type": "stream",
     "text": [
      "Train, epoch: [0][  0/280]\tLoss 4.9403e-01 (8.9205e-01)\tAccuracy 0.857 (0.728)\n"
     ]
    },
    {
     "name": "stderr",
     "output_type": "stream",
     "text": [
      "\r",
      " 18%|█▊        | 49/280 [00:48<03:47,  1.01it/s]"
     ]
    },
    {
     "name": "stdout",
     "output_type": "stream",
     "text": [
      "Train, epoch: [0][  0/280]\tLoss 6.1879e-01 (8.8647e-01)\tAccuracy 0.800 (0.730)\n"
     ]
    },
    {
     "name": "stderr",
     "output_type": "stream",
     "text": [
      "\r",
      " 18%|█▊        | 50/280 [00:49<03:46,  1.01it/s]"
     ]
    },
    {
     "name": "stdout",
     "output_type": "stream",
     "text": [
      "Train, epoch: [0][  0/280]\tLoss 5.3917e-01 (8.7953e-01)\tAccuracy 0.815 (0.732)\n"
     ]
    },
    {
     "name": "stderr",
     "output_type": "stream",
     "text": [
      "\r",
      " 18%|█▊        | 51/280 [00:49<03:45,  1.01it/s]"
     ]
    },
    {
     "name": "stdout",
     "output_type": "stream",
     "text": [
      "Train, epoch: [0][  0/280]\tLoss 5.2093e-01 (8.7249e-01)\tAccuracy 0.852 (0.734)\n"
     ]
    },
    {
     "name": "stderr",
     "output_type": "stream",
     "text": [
      "\r",
      " 19%|█▊        | 52/280 [00:50<03:44,  1.01it/s]"
     ]
    },
    {
     "name": "stdout",
     "output_type": "stream",
     "text": [
      "Train, epoch: [0][  0/280]\tLoss 4.7551e-01 (8.6486e-01)\tAccuracy 0.838 (0.736)\n"
     ]
    },
    {
     "name": "stderr",
     "output_type": "stream",
     "text": [
      "\r",
      " 19%|█▉        | 53/280 [00:51<03:44,  1.01it/s]"
     ]
    },
    {
     "name": "stdout",
     "output_type": "stream",
     "text": [
      "Train, epoch: [0][  0/280]\tLoss 3.4632e-01 (8.5508e-01)\tAccuracy 0.895 (0.739)\n"
     ]
    },
    {
     "name": "stderr",
     "output_type": "stream",
     "text": [
      "\r",
      " 19%|█▉        | 54/280 [00:52<03:43,  1.01it/s]"
     ]
    },
    {
     "name": "stdout",
     "output_type": "stream",
     "text": [
      "Train, epoch: [0][  0/280]\tLoss 7.7066e-01 (8.5351e-01)\tAccuracy 0.792 (0.740)\n"
     ]
    },
    {
     "name": "stderr",
     "output_type": "stream",
     "text": [
      "\r",
      " 20%|█▉        | 55/280 [00:53<03:42,  1.01it/s]"
     ]
    },
    {
     "name": "stdout",
     "output_type": "stream",
     "text": [
      "Train, epoch: [0][  0/280]\tLoss 4.1873e-01 (8.4561e-01)\tAccuracy 0.873 (0.742)\n"
     ]
    },
    {
     "name": "stderr",
     "output_type": "stream",
     "text": [
      "\r",
      " 20%|██        | 56/280 [00:54<03:41,  1.01it/s]"
     ]
    },
    {
     "name": "stdout",
     "output_type": "stream",
     "text": [
      "Train, epoch: [0][  0/280]\tLoss 4.2844e-01 (8.3816e-01)\tAccuracy 0.873 (0.745)\n"
     ]
    },
    {
     "name": "stderr",
     "output_type": "stream",
     "text": [
      "\r",
      " 20%|██        | 57/280 [00:55<03:40,  1.01it/s]"
     ]
    },
    {
     "name": "stdout",
     "output_type": "stream",
     "text": [
      "Train, epoch: [0][  0/280]\tLoss 5.0854e-01 (8.3238e-01)\tAccuracy 0.845 (0.747)\n"
     ]
    },
    {
     "name": "stderr",
     "output_type": "stream",
     "text": [
      "\r",
      " 21%|██        | 58/280 [00:56<03:39,  1.01it/s]"
     ]
    },
    {
     "name": "stdout",
     "output_type": "stream",
     "text": [
      "Train, epoch: [0][  0/280]\tLoss 3.6094e-01 (8.2425e-01)\tAccuracy 0.890 (0.749)\n"
     ]
    },
    {
     "name": "stderr",
     "output_type": "stream",
     "text": [
      "\r",
      " 21%|██        | 59/280 [00:57<03:38,  1.01it/s]"
     ]
    },
    {
     "name": "stdout",
     "output_type": "stream",
     "text": [
      "Train, epoch: [0][  0/280]\tLoss 9.8073e-01 (8.2690e-01)\tAccuracy 0.701 (0.748)\n"
     ]
    },
    {
     "name": "stderr",
     "output_type": "stream",
     "text": [
      "\r",
      " 21%|██▏       | 60/280 [00:58<03:37,  1.01it/s]"
     ]
    },
    {
     "name": "stdout",
     "output_type": "stream",
     "text": [
      "Train, epoch: [0][  0/280]\tLoss 8.4813e-01 (8.2725e-01)\tAccuracy 0.762 (0.748)\n"
     ]
    },
    {
     "name": "stderr",
     "output_type": "stream",
     "text": [
      "\r",
      " 22%|██▏       | 61/280 [00:59<03:36,  1.01it/s]"
     ]
    },
    {
     "name": "stdout",
     "output_type": "stream",
     "text": [
      "Train, epoch: [0][  0/280]\tLoss 6.0195e-01 (8.2356e-01)\tAccuracy 0.820 (0.750)\n"
     ]
    },
    {
     "name": "stderr",
     "output_type": "stream",
     "text": [
      "\r",
      " 22%|██▏       | 62/280 [01:00<03:35,  1.01it/s]"
     ]
    },
    {
     "name": "stdout",
     "output_type": "stream",
     "text": [
      "Train, epoch: [0][  0/280]\tLoss 4.0545e-01 (8.1682e-01)\tAccuracy 0.877 (0.752)\n"
     ]
    },
    {
     "name": "stderr",
     "output_type": "stream",
     "text": [
      "\r",
      " 22%|██▎       | 63/280 [01:01<03:34,  1.01it/s]"
     ]
    },
    {
     "name": "stdout",
     "output_type": "stream",
     "text": [
      "Train, epoch: [0][  0/280]\tLoss 4.3549e-01 (8.1076e-01)\tAccuracy 0.865 (0.753)\n"
     ]
    },
    {
     "name": "stderr",
     "output_type": "stream",
     "text": [
      "\r",
      " 23%|██▎       | 64/280 [01:02<03:33,  1.01it/s]"
     ]
    },
    {
     "name": "stdout",
     "output_type": "stream",
     "text": [
      "Train, epoch: [0][  0/280]\tLoss 4.3622e-01 (8.0491e-01)\tAccuracy 0.857 (0.755)\n"
     ]
    },
    {
     "name": "stderr",
     "output_type": "stream",
     "text": [
      "\r",
      " 23%|██▎       | 65/280 [01:03<03:32,  1.01it/s]"
     ]
    },
    {
     "name": "stdout",
     "output_type": "stream",
     "text": [
      "Train, epoch: [0][  0/280]\tLoss 5.4206e-01 (8.0087e-01)\tAccuracy 0.818 (0.756)\n"
     ]
    },
    {
     "name": "stderr",
     "output_type": "stream",
     "text": [
      "\r",
      " 24%|██▎       | 66/280 [01:04<03:31,  1.01it/s]"
     ]
    },
    {
     "name": "stdout",
     "output_type": "stream",
     "text": [
      "Train, epoch: [0][  0/280]\tLoss 4.1841e-01 (7.9507e-01)\tAccuracy 0.892 (0.758)\n"
     ]
    },
    {
     "name": "stderr",
     "output_type": "stream",
     "text": [
      "\r",
      " 24%|██▍       | 67/280 [01:05<03:30,  1.01it/s]"
     ]
    },
    {
     "name": "stdout",
     "output_type": "stream",
     "text": [
      "Train, epoch: [0][  0/280]\tLoss 4.2924e-01 (7.8961e-01)\tAccuracy 0.868 (0.760)\n"
     ]
    },
    {
     "name": "stderr",
     "output_type": "stream",
     "text": [
      "\r",
      " 24%|██▍       | 68/280 [01:06<03:29,  1.01it/s]"
     ]
    },
    {
     "name": "stdout",
     "output_type": "stream",
     "text": [
      "Train, epoch: [0][  0/280]\tLoss 5.3242e-01 (7.8583e-01)\tAccuracy 0.822 (0.761)\n"
     ]
    },
    {
     "name": "stderr",
     "output_type": "stream",
     "text": [
      "\r",
      " 25%|██▍       | 69/280 [01:07<03:28,  1.01it/s]"
     ]
    },
    {
     "name": "stdout",
     "output_type": "stream",
     "text": [
      "Train, epoch: [0][  0/280]\tLoss 3.6452e-01 (7.7972e-01)\tAccuracy 0.881 (0.762)\n"
     ]
    },
    {
     "name": "stderr",
     "output_type": "stream",
     "text": [
      "\r",
      " 25%|██▌       | 70/280 [01:08<03:27,  1.01it/s]"
     ]
    },
    {
     "name": "stdout",
     "output_type": "stream",
     "text": [
      "Train, epoch: [0][  0/280]\tLoss 4.5654e-01 (7.7511e-01)\tAccuracy 0.833 (0.763)\n"
     ]
    },
    {
     "name": "stderr",
     "output_type": "stream",
     "text": [
      "\r",
      " 25%|██▌       | 71/280 [01:09<03:26,  1.01it/s]"
     ]
    },
    {
     "name": "stdout",
     "output_type": "stream",
     "text": [
      "Train, epoch: [0][  0/280]\tLoss 6.9593e-01 (7.7399e-01)\tAccuracy 0.771 (0.764)\n"
     ]
    },
    {
     "name": "stderr",
     "output_type": "stream",
     "text": [
      "\r",
      " 26%|██▌       | 72/280 [01:10<03:25,  1.01it/s]"
     ]
    },
    {
     "name": "stdout",
     "output_type": "stream",
     "text": [
      "Train, epoch: [0][  0/280]\tLoss 3.6751e-01 (7.6835e-01)\tAccuracy 0.886 (0.765)\n"
     ]
    },
    {
     "name": "stderr",
     "output_type": "stream",
     "text": [
      "\r",
      " 26%|██▌       | 73/280 [01:11<03:24,  1.01it/s]"
     ]
    },
    {
     "name": "stdout",
     "output_type": "stream",
     "text": [
      "Train, epoch: [0][  0/280]\tLoss 4.4636e-01 (7.6394e-01)\tAccuracy 0.854 (0.766)\n"
     ]
    },
    {
     "name": "stderr",
     "output_type": "stream",
     "text": [
      "\r",
      " 26%|██▋       | 74/280 [01:12<03:23,  1.01it/s]"
     ]
    },
    {
     "name": "stdout",
     "output_type": "stream",
     "text": [
      "Train, epoch: [0][  0/280]\tLoss 4.3347e-01 (7.5947e-01)\tAccuracy 0.865 (0.768)\n"
     ]
    },
    {
     "name": "stderr",
     "output_type": "stream",
     "text": [
      "\r",
      " 27%|██▋       | 75/280 [01:13<03:22,  1.01it/s]"
     ]
    },
    {
     "name": "stdout",
     "output_type": "stream",
     "text": [
      "Train, epoch: [0][  0/280]\tLoss 4.0241e-01 (7.5471e-01)\tAccuracy 0.869 (0.769)\n"
     ]
    },
    {
     "name": "stderr",
     "output_type": "stream",
     "text": [
      "\r",
      " 27%|██▋       | 76/280 [01:14<03:21,  1.01it/s]"
     ]
    },
    {
     "name": "stdout",
     "output_type": "stream",
     "text": [
      "Train, epoch: [0][  0/280]\tLoss 5.3901e-01 (7.5187e-01)\tAccuracy 0.835 (0.770)\n"
     ]
    },
    {
     "name": "stderr",
     "output_type": "stream",
     "text": [
      "\r",
      " 28%|██▊       | 77/280 [01:15<03:20,  1.01it/s]"
     ]
    },
    {
     "name": "stdout",
     "output_type": "stream",
     "text": [
      "Train, epoch: [0][  0/280]\tLoss 5.0242e-01 (7.4863e-01)\tAccuracy 0.844 (0.771)\n"
     ]
    },
    {
     "name": "stderr",
     "output_type": "stream",
     "text": [
      "\r",
      " 28%|██▊       | 78/280 [01:16<03:20,  1.01it/s]"
     ]
    },
    {
     "name": "stdout",
     "output_type": "stream",
     "text": [
      "Train, epoch: [0][  0/280]\tLoss 4.6935e-01 (7.4505e-01)\tAccuracy 0.851 (0.772)\n"
     ]
    },
    {
     "name": "stderr",
     "output_type": "stream",
     "text": [
      "\r",
      " 28%|██▊       | 79/280 [01:17<03:19,  1.01it/s]"
     ]
    },
    {
     "name": "stdout",
     "output_type": "stream",
     "text": [
      "Train, epoch: [0][  0/280]\tLoss 3.3373e-01 (7.3984e-01)\tAccuracy 0.899 (0.774)\n"
     ]
    },
    {
     "name": "stderr",
     "output_type": "stream",
     "text": [
      "\r",
      " 29%|██▊       | 80/280 [01:18<03:18,  1.01it/s]"
     ]
    },
    {
     "name": "stdout",
     "output_type": "stream",
     "text": [
      "Train, epoch: [0][  0/280]\tLoss 4.4123e-01 (7.3611e-01)\tAccuracy 0.868 (0.775)\n"
     ]
    },
    {
     "name": "stderr",
     "output_type": "stream",
     "text": [
      "\r",
      " 29%|██▉       | 81/280 [01:19<03:17,  1.01it/s]"
     ]
    },
    {
     "name": "stdout",
     "output_type": "stream",
     "text": [
      "Train, epoch: [0][  0/280]\tLoss 7.0946e-01 (7.3578e-01)\tAccuracy 0.749 (0.774)\n"
     ]
    },
    {
     "name": "stderr",
     "output_type": "stream",
     "text": [
      "\r",
      " 29%|██▉       | 82/280 [01:20<03:16,  1.01it/s]"
     ]
    },
    {
     "name": "stdout",
     "output_type": "stream",
     "text": [
      "Train, epoch: [0][  0/280]\tLoss 4.7400e-01 (7.3259e-01)\tAccuracy 0.863 (0.776)\n"
     ]
    },
    {
     "name": "stderr",
     "output_type": "stream",
     "text": [
      "\r",
      " 30%|██▉       | 83/280 [01:21<03:15,  1.01it/s]"
     ]
    },
    {
     "name": "stdout",
     "output_type": "stream",
     "text": [
      "Train, epoch: [0][  0/280]\tLoss 6.9688e-01 (7.3216e-01)\tAccuracy 0.783 (0.776)\n"
     ]
    },
    {
     "name": "stderr",
     "output_type": "stream",
     "text": [
      "\r",
      " 30%|███       | 84/280 [01:22<03:14,  1.01it/s]"
     ]
    },
    {
     "name": "stdout",
     "output_type": "stream",
     "text": [
      "Train, epoch: [0][  0/280]\tLoss 3.0100e-01 (7.2703e-01)\tAccuracy 0.913 (0.777)\n"
     ]
    },
    {
     "name": "stderr",
     "output_type": "stream",
     "text": [
      "\r",
      " 30%|███       | 85/280 [01:23<03:13,  1.01it/s]"
     ]
    },
    {
     "name": "stdout",
     "output_type": "stream",
     "text": [
      "Train, epoch: [0][  0/280]\tLoss 4.2222e-01 (7.2344e-01)\tAccuracy 0.858 (0.778)\n"
     ]
    },
    {
     "name": "stderr",
     "output_type": "stream",
     "text": [
      "\r",
      " 31%|███       | 86/280 [01:24<03:12,  1.01it/s]"
     ]
    },
    {
     "name": "stdout",
     "output_type": "stream",
     "text": [
      "Train, epoch: [0][  0/280]\tLoss 5.5452e-01 (7.2148e-01)\tAccuracy 0.830 (0.779)\n"
     ]
    },
    {
     "name": "stderr",
     "output_type": "stream",
     "text": [
      "\r",
      " 31%|███       | 87/280 [01:25<03:11,  1.01it/s]"
     ]
    },
    {
     "name": "stdout",
     "output_type": "stream",
     "text": [
      "Train, epoch: [0][  0/280]\tLoss 4.2186e-01 (7.1803e-01)\tAccuracy 0.873 (0.780)\n"
     ]
    },
    {
     "name": "stderr",
     "output_type": "stream",
     "text": [
      "\r",
      " 31%|███▏      | 88/280 [01:26<03:10,  1.01it/s]"
     ]
    },
    {
     "name": "stdout",
     "output_type": "stream",
     "text": [
      "Train, epoch: [0][  0/280]\tLoss 3.1884e-01 (7.1350e-01)\tAccuracy 0.898 (0.781)\n"
     ]
    },
    {
     "name": "stderr",
     "output_type": "stream",
     "text": [
      "\r",
      " 32%|███▏      | 89/280 [01:27<03:09,  1.01it/s]"
     ]
    },
    {
     "name": "stdout",
     "output_type": "stream",
     "text": [
      "Train, epoch: [0][  0/280]\tLoss 4.4978e-01 (7.1053e-01)\tAccuracy 0.863 (0.782)\n"
     ]
    },
    {
     "name": "stderr",
     "output_type": "stream",
     "text": [
      "\r",
      " 32%|███▏      | 90/280 [01:28<03:08,  1.01it/s]"
     ]
    },
    {
     "name": "stdout",
     "output_type": "stream",
     "text": [
      "Train, epoch: [0][  0/280]\tLoss 3.8653e-01 (7.0693e-01)\tAccuracy 0.867 (0.783)\n"
     ]
    },
    {
     "name": "stderr",
     "output_type": "stream",
     "text": [
      "\r",
      " 32%|███▎      | 91/280 [01:29<03:07,  1.01it/s]"
     ]
    },
    {
     "name": "stdout",
     "output_type": "stream",
     "text": [
      "Train, epoch: [0][  0/280]\tLoss 5.0754e-01 (7.0474e-01)\tAccuracy 0.844 (0.784)\n"
     ]
    },
    {
     "name": "stderr",
     "output_type": "stream",
     "text": [
      "\r",
      " 33%|███▎      | 92/280 [01:30<03:06,  1.01it/s]"
     ]
    },
    {
     "name": "stdout",
     "output_type": "stream",
     "text": [
      "Train, epoch: [0][  0/280]\tLoss 3.6015e-01 (7.0100e-01)\tAccuracy 0.882 (0.785)\n"
     ]
    },
    {
     "name": "stderr",
     "output_type": "stream",
     "text": [
      "\r",
      " 33%|███▎      | 93/280 [01:31<03:05,  1.01it/s]"
     ]
    },
    {
     "name": "stdout",
     "output_type": "stream",
     "text": [
      "Train, epoch: [0][  0/280]\tLoss 4.9405e-01 (6.9877e-01)\tAccuracy 0.852 (0.786)\n"
     ]
    },
    {
     "name": "stderr",
     "output_type": "stream",
     "text": [
      "\r",
      " 34%|███▎      | 94/280 [01:32<03:04,  1.01it/s]"
     ]
    },
    {
     "name": "stdout",
     "output_type": "stream",
     "text": [
      "Train, epoch: [0][  0/280]\tLoss 5.1430e-01 (6.9681e-01)\tAccuracy 0.834 (0.786)\n"
     ]
    },
    {
     "name": "stderr",
     "output_type": "stream",
     "text": [
      "\r",
      " 34%|███▍      | 95/280 [01:33<03:03,  1.01it/s]"
     ]
    },
    {
     "name": "stdout",
     "output_type": "stream",
     "text": [
      "Train, epoch: [0][  0/280]\tLoss 7.3276e-01 (6.9719e-01)\tAccuracy 0.749 (0.786)\n"
     ]
    },
    {
     "name": "stderr",
     "output_type": "stream",
     "text": [
      "\r",
      " 34%|███▍      | 96/280 [01:34<03:02,  1.01it/s]"
     ]
    },
    {
     "name": "stdout",
     "output_type": "stream",
     "text": [
      "Train, epoch: [0][  0/280]\tLoss 7.1637e-01 (6.9739e-01)\tAccuracy 0.766 (0.785)\n"
     ]
    },
    {
     "name": "stderr",
     "output_type": "stream",
     "text": [
      "\r",
      " 35%|███▍      | 97/280 [01:35<03:01,  1.01it/s]"
     ]
    },
    {
     "name": "stdout",
     "output_type": "stream",
     "text": [
      "Train, epoch: [0][  0/280]\tLoss 3.8380e-01 (6.9415e-01)\tAccuracy 0.872 (0.786)\n"
     ]
    },
    {
     "name": "stderr",
     "output_type": "stream",
     "text": [
      "\r",
      " 35%|███▌      | 98/280 [01:36<03:00,  1.01it/s]"
     ]
    },
    {
     "name": "stdout",
     "output_type": "stream",
     "text": [
      "Train, epoch: [0][  0/280]\tLoss 3.5892e-01 (6.9073e-01)\tAccuracy 0.893 (0.787)\n"
     ]
    },
    {
     "name": "stderr",
     "output_type": "stream",
     "text": [
      "\r",
      " 35%|███▌      | 99/280 [01:37<02:59,  1.01it/s]"
     ]
    },
    {
     "name": "stdout",
     "output_type": "stream",
     "text": [
      "Train, epoch: [0][  0/280]\tLoss 4.3936e-01 (6.8819e-01)\tAccuracy 0.855 (0.788)\n"
     ]
    },
    {
     "name": "stderr",
     "output_type": "stream",
     "text": [
      "\r",
      " 36%|███▌      | 100/280 [01:38<02:58,  1.01it/s]"
     ]
    },
    {
     "name": "stdout",
     "output_type": "stream",
     "text": [
      "Train, epoch: [0][  0/280]\tLoss 4.2787e-01 (6.8559e-01)\tAccuracy 0.858 (0.789)\n"
     ]
    },
    {
     "name": "stderr",
     "output_type": "stream",
     "text": [
      "\r",
      " 36%|███▌      | 101/280 [01:39<02:57,  1.01it/s]"
     ]
    },
    {
     "name": "stdout",
     "output_type": "stream",
     "text": [
      "Train, epoch: [0][  0/280]\tLoss 3.5104e-01 (6.8228e-01)\tAccuracy 0.899 (0.790)\n"
     ]
    },
    {
     "name": "stderr",
     "output_type": "stream",
     "text": [
      "\r",
      " 36%|███▋      | 102/280 [01:40<02:56,  1.01it/s]"
     ]
    },
    {
     "name": "stdout",
     "output_type": "stream",
     "text": [
      "Train, epoch: [0][  0/280]\tLoss 4.2168e-01 (6.7972e-01)\tAccuracy 0.847 (0.790)\n"
     ]
    },
    {
     "name": "stderr",
     "output_type": "stream",
     "text": [
      "\r",
      " 37%|███▋      | 103/280 [01:41<02:55,  1.01it/s]"
     ]
    },
    {
     "name": "stdout",
     "output_type": "stream",
     "text": [
      "Train, epoch: [0][  0/280]\tLoss 3.9690e-01 (6.7698e-01)\tAccuracy 0.866 (0.791)\n"
     ]
    },
    {
     "name": "stderr",
     "output_type": "stream",
     "text": [
      "\r",
      " 37%|███▋      | 104/280 [01:42<02:55,  1.01it/s]"
     ]
    },
    {
     "name": "stdout",
     "output_type": "stream",
     "text": [
      "Train, epoch: [0][  0/280]\tLoss 4.2229e-01 (6.7453e-01)\tAccuracy 0.873 (0.792)\n"
     ]
    },
    {
     "name": "stderr",
     "output_type": "stream",
     "text": [
      "\r",
      " 38%|███▊      | 105/280 [01:43<02:54,  1.01it/s]"
     ]
    },
    {
     "name": "stdout",
     "output_type": "stream",
     "text": [
      "Train, epoch: [0][  0/280]\tLoss 5.5508e-01 (6.7339e-01)\tAccuracy 0.828 (0.792)\n"
     ]
    },
    {
     "name": "stderr",
     "output_type": "stream",
     "text": [
      "\r",
      " 38%|███▊      | 106/280 [01:44<02:53,  1.01it/s]"
     ]
    },
    {
     "name": "stdout",
     "output_type": "stream",
     "text": [
      "Train, epoch: [0][  0/280]\tLoss 7.1754e-01 (6.7381e-01)\tAccuracy 0.765 (0.792)\n"
     ]
    },
    {
     "name": "stderr",
     "output_type": "stream",
     "text": [
      "\r",
      " 38%|███▊      | 107/280 [01:45<02:52,  1.01it/s]"
     ]
    },
    {
     "name": "stdout",
     "output_type": "stream",
     "text": [
      "Train, epoch: [0][  0/280]\tLoss 4.8136e-01 (6.7201e-01)\tAccuracy 0.857 (0.793)\n"
     ]
    },
    {
     "name": "stderr",
     "output_type": "stream",
     "text": [
      "\r",
      " 39%|███▊      | 108/280 [01:46<02:51,  1.00it/s]"
     ]
    },
    {
     "name": "stdout",
     "output_type": "stream",
     "text": [
      "Train, epoch: [0][  0/280]\tLoss 4.1215e-01 (6.6960e-01)\tAccuracy 0.871 (0.793)\n"
     ]
    },
    {
     "name": "stderr",
     "output_type": "stream",
     "text": [
      "\r",
      " 39%|███▉      | 109/280 [01:47<02:50,  1.00it/s]"
     ]
    },
    {
     "name": "stdout",
     "output_type": "stream",
     "text": [
      "Train, epoch: [0][  0/280]\tLoss 4.3850e-01 (6.6748e-01)\tAccuracy 0.849 (0.794)\n"
     ]
    },
    {
     "name": "stderr",
     "output_type": "stream",
     "text": [
      "\r",
      " 39%|███▉      | 110/280 [01:48<02:49,  1.00it/s]"
     ]
    },
    {
     "name": "stdout",
     "output_type": "stream",
     "text": [
      "Train, epoch: [0][  0/280]\tLoss 3.6255e-01 (6.6471e-01)\tAccuracy 0.898 (0.795)\n"
     ]
    },
    {
     "name": "stderr",
     "output_type": "stream",
     "text": [
      "\r",
      " 40%|███▉      | 111/280 [01:49<02:48,  1.01it/s]"
     ]
    },
    {
     "name": "stdout",
     "output_type": "stream",
     "text": [
      "Train, epoch: [0][  0/280]\tLoss 3.1750e-01 (6.6158e-01)\tAccuracy 0.904 (0.796)\n"
     ]
    },
    {
     "name": "stderr",
     "output_type": "stream",
     "text": [
      "\r",
      " 40%|████      | 112/280 [01:50<02:47,  1.01it/s]"
     ]
    },
    {
     "name": "stdout",
     "output_type": "stream",
     "text": [
      "Train, epoch: [0][  0/280]\tLoss 5.5999e-01 (6.6068e-01)\tAccuracy 0.804 (0.796)\n"
     ]
    },
    {
     "name": "stderr",
     "output_type": "stream",
     "text": [
      "\r",
      " 40%|████      | 113/280 [01:51<02:46,  1.01it/s]"
     ]
    },
    {
     "name": "stdout",
     "output_type": "stream",
     "text": [
      "Train, epoch: [0][  0/280]\tLoss 3.9989e-01 (6.5837e-01)\tAccuracy 0.877 (0.797)\n"
     ]
    },
    {
     "name": "stderr",
     "output_type": "stream",
     "text": [
      "\r",
      " 41%|████      | 114/280 [01:52<02:45,  1.00it/s]"
     ]
    },
    {
     "name": "stdout",
     "output_type": "stream",
     "text": [
      "Train, epoch: [0][  0/280]\tLoss 4.2131e-01 (6.5629e-01)\tAccuracy 0.871 (0.797)\n"
     ]
    },
    {
     "name": "stderr",
     "output_type": "stream",
     "text": [
      "\r",
      " 41%|████      | 115/280 [01:53<02:44,  1.00it/s]"
     ]
    },
    {
     "name": "stdout",
     "output_type": "stream",
     "text": [
      "Train, epoch: [0][  0/280]\tLoss 4.0068e-01 (6.5407e-01)\tAccuracy 0.870 (0.798)\n"
     ]
    },
    {
     "name": "stderr",
     "output_type": "stream",
     "text": [
      "\r",
      " 41%|████▏     | 116/280 [01:54<02:43,  1.00it/s]"
     ]
    },
    {
     "name": "stdout",
     "output_type": "stream",
     "text": [
      "Train, epoch: [0][  0/280]\tLoss 5.0689e-01 (6.5280e-01)\tAccuracy 0.815 (0.798)\n"
     ]
    },
    {
     "name": "stderr",
     "output_type": "stream",
     "text": [
      "\r",
      " 42%|████▏     | 117/280 [01:55<02:42,  1.00it/s]"
     ]
    },
    {
     "name": "stdout",
     "output_type": "stream",
     "text": [
      "Train, epoch: [0][  0/280]\tLoss 3.7803e-01 (6.5045e-01)\tAccuracy 0.881 (0.799)\n"
     ]
    },
    {
     "name": "stderr",
     "output_type": "stream",
     "text": [
      "\r",
      " 42%|████▏     | 118/280 [01:56<02:41,  1.00it/s]"
     ]
    },
    {
     "name": "stdout",
     "output_type": "stream",
     "text": [
      "Train, epoch: [0][  0/280]\tLoss 3.1771e-01 (6.4763e-01)\tAccuracy 0.891 (0.800)\n"
     ]
    },
    {
     "name": "stderr",
     "output_type": "stream",
     "text": [
      "\r",
      " 42%|████▎     | 119/280 [01:57<02:40,  1.00it/s]"
     ]
    },
    {
     "name": "stdout",
     "output_type": "stream",
     "text": [
      "Train, epoch: [0][  0/280]\tLoss 3.1529e-01 (6.4484e-01)\tAccuracy 0.907 (0.800)\n"
     ]
    },
    {
     "name": "stderr",
     "output_type": "stream",
     "text": [
      "\r",
      " 43%|████▎     | 120/280 [01:58<02:39,  1.00it/s]"
     ]
    },
    {
     "name": "stdout",
     "output_type": "stream",
     "text": [
      "Train, epoch: [0][  0/280]\tLoss 3.1122e-01 (6.4206e-01)\tAccuracy 0.903 (0.801)\n"
     ]
    },
    {
     "name": "stderr",
     "output_type": "stream",
     "text": [
      "\r",
      " 43%|████▎     | 121/280 [01:59<02:38,  1.00it/s]"
     ]
    },
    {
     "name": "stdout",
     "output_type": "stream",
     "text": [
      "Train, epoch: [0][  0/280]\tLoss 3.2201e-01 (6.3941e-01)\tAccuracy 0.903 (0.802)\n"
     ]
    },
    {
     "name": "stderr",
     "output_type": "stream",
     "text": [
      "\r",
      " 44%|████▎     | 122/280 [02:00<02:37,  1.00it/s]"
     ]
    },
    {
     "name": "stdout",
     "output_type": "stream",
     "text": [
      "Train, epoch: [0][  0/280]\tLoss 3.2045e-01 (6.3680e-01)\tAccuracy 0.901 (0.803)\n"
     ]
    },
    {
     "name": "stderr",
     "output_type": "stream",
     "text": [
      "\r",
      " 44%|████▍     | 123/280 [02:01<02:36,  1.00it/s]"
     ]
    },
    {
     "name": "stdout",
     "output_type": "stream",
     "text": [
      "Train, epoch: [0][  0/280]\tLoss 2.8498e-01 (6.3394e-01)\tAccuracy 0.912 (0.804)\n"
     ]
    },
    {
     "name": "stderr",
     "output_type": "stream",
     "text": [
      "\r",
      " 44%|████▍     | 124/280 [02:02<02:35,  1.00it/s]"
     ]
    },
    {
     "name": "stdout",
     "output_type": "stream",
     "text": [
      "Train, epoch: [0][  0/280]\tLoss 3.1747e-01 (6.3138e-01)\tAccuracy 0.904 (0.805)\n"
     ]
    },
    {
     "name": "stderr",
     "output_type": "stream",
     "text": [
      "\r",
      " 45%|████▍     | 125/280 [02:03<02:34,  1.00it/s]"
     ]
    },
    {
     "name": "stdout",
     "output_type": "stream",
     "text": [
      "Train, epoch: [0][  0/280]\tLoss 2.6598e-01 (6.2846e-01)\tAccuracy 0.918 (0.806)\n"
     ]
    },
    {
     "name": "stderr",
     "output_type": "stream",
     "text": [
      "\r",
      " 45%|████▌     | 126/280 [02:04<02:33,  1.00it/s]"
     ]
    },
    {
     "name": "stdout",
     "output_type": "stream",
     "text": [
      "Train, epoch: [0][  0/280]\tLoss 2.9336e-01 (6.2580e-01)\tAccuracy 0.910 (0.806)\n"
     ]
    },
    {
     "name": "stderr",
     "output_type": "stream",
     "text": [
      "\r",
      " 45%|████▌     | 127/280 [02:05<02:32,  1.00it/s]"
     ]
    },
    {
     "name": "stdout",
     "output_type": "stream",
     "text": [
      "Train, epoch: [0][  0/280]\tLoss 3.8158e-01 (6.2388e-01)\tAccuracy 0.877 (0.807)\n"
     ]
    },
    {
     "name": "stderr",
     "output_type": "stream",
     "text": [
      "\r",
      " 46%|████▌     | 128/280 [02:06<02:31,  1.00it/s]"
     ]
    },
    {
     "name": "stdout",
     "output_type": "stream",
     "text": [
      "Train, epoch: [0][  0/280]\tLoss 3.8370e-01 (6.2200e-01)\tAccuracy 0.874 (0.807)\n"
     ]
    },
    {
     "name": "stderr",
     "output_type": "stream",
     "text": [
      "\r",
      " 46%|████▌     | 129/280 [02:07<02:30,  1.00it/s]"
     ]
    },
    {
     "name": "stdout",
     "output_type": "stream",
     "text": [
      "Train, epoch: [0][  0/280]\tLoss 4.5569e-01 (6.2071e-01)\tAccuracy 0.842 (0.808)\n"
     ]
    },
    {
     "name": "stderr",
     "output_type": "stream",
     "text": [
      "\r",
      " 46%|████▋     | 130/280 [02:08<02:29,  1.00it/s]"
     ]
    },
    {
     "name": "stdout",
     "output_type": "stream",
     "text": [
      "Train, epoch: [0][  0/280]\tLoss 2.1642e-01 (6.1760e-01)\tAccuracy 0.937 (0.809)\n"
     ]
    },
    {
     "name": "stderr",
     "output_type": "stream",
     "text": [
      "\r",
      " 47%|████▋     | 131/280 [02:09<02:28,  1.00it/s]"
     ]
    },
    {
     "name": "stdout",
     "output_type": "stream",
     "text": [
      "Train, epoch: [0][  0/280]\tLoss 3.1660e-01 (6.1531e-01)\tAccuracy 0.897 (0.809)\n"
     ]
    },
    {
     "name": "stderr",
     "output_type": "stream",
     "text": [
      "\r",
      " 47%|████▋     | 132/280 [02:10<02:27,  1.00it/s]"
     ]
    },
    {
     "name": "stdout",
     "output_type": "stream",
     "text": [
      "Train, epoch: [0][  0/280]\tLoss 6.8364e-01 (6.1582e-01)\tAccuracy 0.786 (0.809)\n"
     ]
    },
    {
     "name": "stderr",
     "output_type": "stream",
     "text": [
      "\r",
      " 48%|████▊     | 133/280 [02:11<02:26,  1.00it/s]"
     ]
    },
    {
     "name": "stdout",
     "output_type": "stream",
     "text": [
      "Train, epoch: [0][  0/280]\tLoss 2.3693e-01 (6.1297e-01)\tAccuracy 0.924 (0.810)\n"
     ]
    },
    {
     "name": "stderr",
     "output_type": "stream",
     "text": [
      "\r",
      " 48%|████▊     | 134/280 [02:12<02:25,  1.00it/s]"
     ]
    },
    {
     "name": "stdout",
     "output_type": "stream",
     "text": [
      "Train, epoch: [0][  0/280]\tLoss 2.9707e-01 (6.1062e-01)\tAccuracy 0.911 (0.811)\n"
     ]
    },
    {
     "name": "stderr",
     "output_type": "stream",
     "text": [
      "\r",
      " 48%|████▊     | 135/280 [02:13<02:24,  1.00it/s]"
     ]
    },
    {
     "name": "stdout",
     "output_type": "stream",
     "text": [
      "Train, epoch: [0][  0/280]\tLoss 3.0449e-01 (6.0835e-01)\tAccuracy 0.905 (0.812)\n"
     ]
    },
    {
     "name": "stderr",
     "output_type": "stream",
     "text": [
      "\r",
      " 49%|████▊     | 136/280 [02:14<02:23,  1.00it/s]"
     ]
    },
    {
     "name": "stdout",
     "output_type": "stream",
     "text": [
      "Train, epoch: [0][  0/280]\tLoss 2.6488e-01 (6.0582e-01)\tAccuracy 0.918 (0.812)\n"
     ]
    },
    {
     "name": "stderr",
     "output_type": "stream",
     "text": [
      "\r",
      " 49%|████▉     | 137/280 [02:15<02:22,  1.00it/s]"
     ]
    },
    {
     "name": "stdout",
     "output_type": "stream",
     "text": [
      "Train, epoch: [0][  0/280]\tLoss 4.9399e-01 (6.0501e-01)\tAccuracy 0.854 (0.813)\n"
     ]
    },
    {
     "name": "stderr",
     "output_type": "stream",
     "text": [
      "\r",
      " 49%|████▉     | 138/280 [02:16<02:21,  1.00it/s]"
     ]
    },
    {
     "name": "stdout",
     "output_type": "stream",
     "text": [
      "Train, epoch: [0][  0/280]\tLoss 4.2228e-01 (6.0368e-01)\tAccuracy 0.851 (0.813)\n"
     ]
    },
    {
     "name": "stderr",
     "output_type": "stream",
     "text": [
      "\r",
      " 50%|████▉     | 139/280 [02:17<02:20,  1.00it/s]"
     ]
    },
    {
     "name": "stdout",
     "output_type": "stream",
     "text": [
      "Train, epoch: [0][  0/280]\tLoss 3.5104e-01 (6.0187e-01)\tAccuracy 0.888 (0.813)\n"
     ]
    },
    {
     "name": "stderr",
     "output_type": "stream",
     "text": [
      "\r",
      " 50%|█████     | 140/280 [02:18<02:19,  1.00it/s]"
     ]
    },
    {
     "name": "stdout",
     "output_type": "stream",
     "text": [
      "Train, epoch: [0][  0/280]\tLoss 5.3832e-01 (6.0141e-01)\tAccuracy 0.821 (0.814)\n"
     ]
    },
    {
     "name": "stderr",
     "output_type": "stream",
     "text": [
      "\r",
      " 50%|█████     | 141/280 [02:19<02:18,  1.00it/s]"
     ]
    },
    {
     "name": "stdout",
     "output_type": "stream",
     "text": [
      "Train, epoch: [0][  0/280]\tLoss 3.5531e-01 (5.9967e-01)\tAccuracy 0.884 (0.814)\n"
     ]
    },
    {
     "name": "stderr",
     "output_type": "stream",
     "text": [
      "\r",
      " 51%|█████     | 142/280 [02:20<02:17,  1.00it/s]"
     ]
    },
    {
     "name": "stdout",
     "output_type": "stream",
     "text": [
      "Train, epoch: [0][  0/280]\tLoss 3.2686e-01 (5.9775e-01)\tAccuracy 0.902 (0.815)\n"
     ]
    },
    {
     "name": "stderr",
     "output_type": "stream",
     "text": [
      "\r",
      " 51%|█████     | 143/280 [02:21<02:16,  1.00it/s]"
     ]
    },
    {
     "name": "stdout",
     "output_type": "stream",
     "text": [
      "Train, epoch: [0][  0/280]\tLoss 3.6518e-01 (5.9612e-01)\tAccuracy 0.876 (0.815)\n"
     ]
    },
    {
     "name": "stderr",
     "output_type": "stream",
     "text": [
      "\r",
      " 51%|█████▏    | 144/280 [02:22<02:15,  1.00it/s]"
     ]
    },
    {
     "name": "stdout",
     "output_type": "stream",
     "text": [
      "Train, epoch: [0][  0/280]\tLoss 3.0041e-01 (5.9407e-01)\tAccuracy 0.906 (0.816)\n"
     ]
    },
    {
     "name": "stderr",
     "output_type": "stream",
     "text": [
      "\r",
      " 52%|█████▏    | 145/280 [02:23<02:14,  1.00it/s]"
     ]
    },
    {
     "name": "stdout",
     "output_type": "stream",
     "text": [
      "Train, epoch: [0][  0/280]\tLoss 2.9230e-01 (5.9198e-01)\tAccuracy 0.903 (0.816)\n"
     ]
    },
    {
     "name": "stderr",
     "output_type": "stream",
     "text": [
      "\r",
      " 52%|█████▏    | 146/280 [02:24<02:13,  1.00it/s]"
     ]
    },
    {
     "name": "stdout",
     "output_type": "stream",
     "text": [
      "Train, epoch: [0][  0/280]\tLoss 5.0479e-01 (5.9139e-01)\tAccuracy 0.828 (0.816)\n"
     ]
    },
    {
     "name": "stderr",
     "output_type": "stream",
     "text": [
      "\r",
      " 52%|█████▎    | 147/280 [02:25<02:12,  1.00it/s]"
     ]
    },
    {
     "name": "stdout",
     "output_type": "stream",
     "text": [
      "Train, epoch: [0][  0/280]\tLoss 2.8712e-01 (5.8932e-01)\tAccuracy 0.917 (0.817)\n"
     ]
    },
    {
     "name": "stderr",
     "output_type": "stream",
     "text": [
      "\r",
      " 53%|█████▎    | 148/280 [02:26<02:11,  1.00it/s]"
     ]
    },
    {
     "name": "stdout",
     "output_type": "stream",
     "text": [
      "Train, epoch: [0][  0/280]\tLoss 3.0418e-01 (5.8739e-01)\tAccuracy 0.904 (0.818)\n"
     ]
    },
    {
     "name": "stderr",
     "output_type": "stream",
     "text": [
      "\r",
      " 53%|█████▎    | 149/280 [02:27<02:10,  1.00it/s]"
     ]
    },
    {
     "name": "stdout",
     "output_type": "stream",
     "text": [
      "Train, epoch: [0][  0/280]\tLoss 4.4758e-01 (5.8645e-01)\tAccuracy 0.853 (0.818)\n"
     ]
    },
    {
     "name": "stderr",
     "output_type": "stream",
     "text": [
      "\r",
      " 54%|█████▎    | 150/280 [02:28<02:09,  1.00it/s]"
     ]
    },
    {
     "name": "stdout",
     "output_type": "stream",
     "text": [
      "Train, epoch: [0][  0/280]\tLoss 2.7028e-01 (5.8434e-01)\tAccuracy 0.916 (0.819)\n"
     ]
    },
    {
     "name": "stderr",
     "output_type": "stream",
     "text": [
      "\r",
      " 54%|█████▍    | 151/280 [02:29<02:08,  1.00it/s]"
     ]
    },
    {
     "name": "stdout",
     "output_type": "stream",
     "text": [
      "Train, epoch: [0][  0/280]\tLoss 3.7114e-01 (5.8293e-01)\tAccuracy 0.879 (0.819)\n"
     ]
    },
    {
     "name": "stderr",
     "output_type": "stream",
     "text": [
      "\r",
      " 54%|█████▍    | 152/280 [02:30<02:07,  1.00it/s]"
     ]
    },
    {
     "name": "stdout",
     "output_type": "stream",
     "text": [
      "Train, epoch: [0][  0/280]\tLoss 4.4887e-01 (5.8205e-01)\tAccuracy 0.864 (0.819)\n"
     ]
    },
    {
     "name": "stderr",
     "output_type": "stream",
     "text": [
      "\r",
      " 55%|█████▍    | 153/280 [02:31<02:06,  1.00it/s]"
     ]
    },
    {
     "name": "stdout",
     "output_type": "stream",
     "text": [
      "Train, epoch: [0][  0/280]\tLoss 5.5404e-01 (5.8187e-01)\tAccuracy 0.831 (0.819)\n"
     ]
    },
    {
     "name": "stderr",
     "output_type": "stream",
     "text": [
      "\r",
      " 55%|█████▌    | 154/280 [02:32<02:05,  1.00it/s]"
     ]
    },
    {
     "name": "stdout",
     "output_type": "stream",
     "text": [
      "Train, epoch: [0][  0/280]\tLoss 3.8438e-01 (5.8058e-01)\tAccuracy 0.866 (0.820)\n"
     ]
    },
    {
     "name": "stderr",
     "output_type": "stream",
     "text": [
      "\r",
      " 55%|█████▌    | 155/280 [02:33<02:04,  1.00it/s]"
     ]
    },
    {
     "name": "stdout",
     "output_type": "stream",
     "text": [
      "Train, epoch: [0][  0/280]\tLoss 3.8885e-01 (5.7935e-01)\tAccuracy 0.872 (0.820)\n"
     ]
    },
    {
     "name": "stderr",
     "output_type": "stream",
     "text": [
      "\r",
      " 56%|█████▌    | 156/280 [02:34<02:03,  1.00it/s]"
     ]
    },
    {
     "name": "stdout",
     "output_type": "stream",
     "text": [
      "Train, epoch: [0][  0/280]\tLoss 2.6120e-01 (5.7731e-01)\tAccuracy 0.915 (0.821)\n"
     ]
    },
    {
     "name": "stderr",
     "output_type": "stream",
     "text": [
      "\r",
      " 56%|█████▌    | 157/280 [02:35<02:02,  1.00it/s]"
     ]
    },
    {
     "name": "stdout",
     "output_type": "stream",
     "text": [
      "Train, epoch: [0][  0/280]\tLoss 4.5709e-01 (5.7654e-01)\tAccuracy 0.842 (0.821)\n"
     ]
    },
    {
     "name": "stderr",
     "output_type": "stream",
     "text": [
      "\r",
      " 56%|█████▋    | 158/280 [02:36<02:01,  1.00it/s]"
     ]
    },
    {
     "name": "stdout",
     "output_type": "stream",
     "text": [
      "Train, epoch: [0][  0/280]\tLoss 3.1316e-01 (5.7488e-01)\tAccuracy 0.908 (0.821)\n"
     ]
    },
    {
     "name": "stderr",
     "output_type": "stream",
     "text": [
      "\r",
      " 57%|█████▋    | 159/280 [02:37<02:00,  1.00it/s]"
     ]
    },
    {
     "name": "stdout",
     "output_type": "stream",
     "text": [
      "Train, epoch: [0][  0/280]\tLoss 2.7686e-01 (5.7300e-01)\tAccuracy 0.913 (0.822)\n"
     ]
    },
    {
     "name": "stderr",
     "output_type": "stream",
     "text": [
      "\r",
      " 57%|█████▋    | 160/280 [02:38<01:59,  1.00it/s]"
     ]
    },
    {
     "name": "stdout",
     "output_type": "stream",
     "text": [
      "Train, epoch: [0][  0/280]\tLoss 3.5924e-01 (5.7167e-01)\tAccuracy 0.878 (0.822)\n"
     ]
    },
    {
     "name": "stderr",
     "output_type": "stream",
     "text": [
      "\r",
      " 57%|█████▊    | 161/280 [02:39<01:58,  1.00it/s]"
     ]
    },
    {
     "name": "stdout",
     "output_type": "stream",
     "text": [
      "Train, epoch: [0][  0/280]\tLoss 3.6030e-01 (5.7035e-01)\tAccuracy 0.885 (0.823)\n"
     ]
    },
    {
     "name": "stderr",
     "output_type": "stream",
     "text": [
      "\r",
      " 58%|█████▊    | 162/280 [02:40<01:57,  1.00it/s]"
     ]
    },
    {
     "name": "stdout",
     "output_type": "stream",
     "text": [
      "Train, epoch: [0][  0/280]\tLoss 2.6744e-01 (5.6848e-01)\tAccuracy 0.925 (0.823)\n"
     ]
    },
    {
     "name": "stderr",
     "output_type": "stream",
     "text": [
      "\r",
      " 58%|█████▊    | 163/280 [02:41<01:56,  1.00it/s]"
     ]
    },
    {
     "name": "stdout",
     "output_type": "stream",
     "text": [
      "Train, epoch: [0][  0/280]\tLoss 3.9837e-01 (5.6744e-01)\tAccuracy 0.867 (0.823)\n"
     ]
    },
    {
     "name": "stderr",
     "output_type": "stream",
     "text": [
      "\r",
      " 59%|█████▊    | 164/280 [02:42<01:55,  1.00it/s]"
     ]
    },
    {
     "name": "stdout",
     "output_type": "stream",
     "text": [
      "Train, epoch: [0][  0/280]\tLoss 4.3467e-01 (5.6663e-01)\tAccuracy 0.851 (0.824)\n"
     ]
    },
    {
     "name": "stderr",
     "output_type": "stream",
     "text": [
      "\r",
      " 59%|█████▉    | 165/280 [02:43<01:54,  1.00it/s]"
     ]
    },
    {
     "name": "stdout",
     "output_type": "stream",
     "text": [
      "Train, epoch: [0][  0/280]\tLoss 2.4299e-01 (5.6467e-01)\tAccuracy 0.927 (0.824)\n"
     ]
    },
    {
     "name": "stderr",
     "output_type": "stream",
     "text": [
      "\r",
      " 59%|█████▉    | 166/280 [02:44<01:53,  1.00it/s]"
     ]
    },
    {
     "name": "stdout",
     "output_type": "stream",
     "text": [
      "Train, epoch: [0][  0/280]\tLoss 3.5838e-01 (5.6343e-01)\tAccuracy 0.884 (0.825)\n"
     ]
    },
    {
     "name": "stderr",
     "output_type": "stream",
     "text": [
      "\r",
      " 60%|█████▉    | 167/280 [02:45<01:52,  1.00it/s]"
     ]
    },
    {
     "name": "stdout",
     "output_type": "stream",
     "text": [
      "Train, epoch: [0][  0/280]\tLoss 4.5598e-01 (5.6278e-01)\tAccuracy 0.849 (0.825)\n"
     ]
    },
    {
     "name": "stderr",
     "output_type": "stream",
     "text": [
      "\r",
      " 60%|██████    | 168/280 [02:46<01:51,  1.00it/s]"
     ]
    },
    {
     "name": "stdout",
     "output_type": "stream",
     "text": [
      "Train, epoch: [0][  0/280]\tLoss 2.7266e-01 (5.6106e-01)\tAccuracy 0.908 (0.825)\n"
     ]
    },
    {
     "name": "stderr",
     "output_type": "stream",
     "text": [
      "\r",
      " 60%|██████    | 169/280 [02:47<01:50,  1.00it/s]"
     ]
    },
    {
     "name": "stdout",
     "output_type": "stream",
     "text": [
      "Train, epoch: [0][  0/280]\tLoss 3.4794e-01 (5.5979e-01)\tAccuracy 0.862 (0.825)\n"
     ]
    },
    {
     "name": "stderr",
     "output_type": "stream",
     "text": [
      "\r",
      " 61%|██████    | 170/280 [02:48<01:49,  1.00it/s]"
     ]
    },
    {
     "name": "stdout",
     "output_type": "stream",
     "text": [
      "Train, epoch: [0][  0/280]\tLoss 2.2979e-01 (5.5785e-01)\tAccuracy 0.930 (0.826)\n"
     ]
    },
    {
     "name": "stderr",
     "output_type": "stream",
     "text": [
      "\r",
      " 61%|██████    | 171/280 [02:49<01:49,  1.00s/it]"
     ]
    },
    {
     "name": "stdout",
     "output_type": "stream",
     "text": [
      "Train, epoch: [0][  0/280]\tLoss 5.6941e-01 (5.5792e-01)\tAccuracy 0.819 (0.826)\n"
     ]
    },
    {
     "name": "stderr",
     "output_type": "stream",
     "text": [
      "\r",
      " 61%|██████▏   | 172/280 [02:50<01:48,  1.00s/it]"
     ]
    },
    {
     "name": "stdout",
     "output_type": "stream",
     "text": [
      "Train, epoch: [0][  0/280]\tLoss 3.1677e-01 (5.5652e-01)\tAccuracy 0.893 (0.826)\n"
     ]
    },
    {
     "name": "stderr",
     "output_type": "stream",
     "text": [
      "\r",
      " 62%|██████▏   | 173/280 [02:51<01:47,  1.00s/it]"
     ]
    },
    {
     "name": "stdout",
     "output_type": "stream",
     "text": [
      "Train, epoch: [0][  0/280]\tLoss 2.2868e-01 (5.5462e-01)\tAccuracy 0.926 (0.827)\n"
     ]
    },
    {
     "name": "stderr",
     "output_type": "stream",
     "text": [
      "\r",
      " 62%|██████▏   | 174/280 [02:52<01:46,  1.00s/it]"
     ]
    },
    {
     "name": "stdout",
     "output_type": "stream",
     "text": [
      "Train, epoch: [0][  0/280]\tLoss 2.3808e-01 (5.5280e-01)\tAccuracy 0.925 (0.828)\n"
     ]
    },
    {
     "name": "stderr",
     "output_type": "stream",
     "text": [
      "\r",
      " 62%|██████▎   | 175/280 [02:53<01:45,  1.00s/it]"
     ]
    },
    {
     "name": "stdout",
     "output_type": "stream",
     "text": [
      "Train, epoch: [0][  0/280]\tLoss 3.9198e-01 (5.5189e-01)\tAccuracy 0.872 (0.828)\n"
     ]
    },
    {
     "name": "stderr",
     "output_type": "stream",
     "text": [
      "\r",
      " 63%|██████▎   | 176/280 [02:54<01:44,  1.00s/it]"
     ]
    },
    {
     "name": "stdout",
     "output_type": "stream",
     "text": [
      "Train, epoch: [0][  0/280]\tLoss 2.8538e-01 (5.5037e-01)\tAccuracy 0.910 (0.828)\n"
     ]
    },
    {
     "name": "stderr",
     "output_type": "stream",
     "text": [
      "\r",
      " 63%|██████▎   | 177/280 [02:55<01:43,  1.00s/it]"
     ]
    },
    {
     "name": "stdout",
     "output_type": "stream",
     "text": [
      "Train, epoch: [0][  0/280]\tLoss 2.6824e-01 (5.4878e-01)\tAccuracy 0.909 (0.829)\n"
     ]
    },
    {
     "name": "stderr",
     "output_type": "stream",
     "text": [
      "\r",
      " 64%|██████▎   | 178/280 [02:56<01:42,  1.00s/it]"
     ]
    },
    {
     "name": "stdout",
     "output_type": "stream",
     "text": [
      "Train, epoch: [0][  0/280]\tLoss 3.3292e-01 (5.4756e-01)\tAccuracy 0.887 (0.829)\n"
     ]
    },
    {
     "name": "stderr",
     "output_type": "stream",
     "text": [
      "\r",
      " 64%|██████▍   | 179/280 [02:57<01:41,  1.00s/it]"
     ]
    },
    {
     "name": "stdout",
     "output_type": "stream",
     "text": [
      "Train, epoch: [0][  0/280]\tLoss 3.3131e-01 (5.4636e-01)\tAccuracy 0.882 (0.829)\n"
     ]
    },
    {
     "name": "stderr",
     "output_type": "stream",
     "text": [
      "\r",
      " 64%|██████▍   | 180/280 [02:58<01:40,  1.00s/it]"
     ]
    },
    {
     "name": "stdout",
     "output_type": "stream",
     "text": [
      "Train, epoch: [0][  0/280]\tLoss 4.6125e-01 (5.4588e-01)\tAccuracy 0.856 (0.830)\n"
     ]
    },
    {
     "name": "stderr",
     "output_type": "stream",
     "text": [
      "\r",
      " 65%|██████▍   | 181/280 [02:59<01:39,  1.00s/it]"
     ]
    },
    {
     "name": "stdout",
     "output_type": "stream",
     "text": [
      "Train, epoch: [0][  0/280]\tLoss 3.1065e-01 (5.4458e-01)\tAccuracy 0.900 (0.830)\n"
     ]
    },
    {
     "name": "stderr",
     "output_type": "stream",
     "text": [
      "\r",
      " 65%|██████▌   | 182/280 [03:00<01:38,  1.00s/it]"
     ]
    },
    {
     "name": "stdout",
     "output_type": "stream",
     "text": [
      "Train, epoch: [0][  0/280]\tLoss 4.1091e-01 (5.4385e-01)\tAccuracy 0.887 (0.830)\n"
     ]
    },
    {
     "name": "stderr",
     "output_type": "stream",
     "text": [
      "\r",
      " 65%|██████▌   | 183/280 [03:01<01:37,  1.00s/it]"
     ]
    },
    {
     "name": "stdout",
     "output_type": "stream",
     "text": [
      "Train, epoch: [0][  0/280]\tLoss 3.8870e-01 (5.4300e-01)\tAccuracy 0.876 (0.830)\n"
     ]
    },
    {
     "name": "stderr",
     "output_type": "stream",
     "text": [
      "\r",
      " 66%|██████▌   | 184/280 [03:02<01:36,  1.00s/it]"
     ]
    },
    {
     "name": "stdout",
     "output_type": "stream",
     "text": [
      "Train, epoch: [0][  0/280]\tLoss 4.7736e-01 (5.4264e-01)\tAccuracy 0.858 (0.831)\n"
     ]
    },
    {
     "name": "stderr",
     "output_type": "stream",
     "text": [
      "\r",
      " 66%|██████▌   | 185/280 [03:03<01:35,  1.00s/it]"
     ]
    },
    {
     "name": "stdout",
     "output_type": "stream",
     "text": [
      "Train, epoch: [0][  0/280]\tLoss 2.4942e-01 (5.4106e-01)\tAccuracy 0.921 (0.831)\n"
     ]
    },
    {
     "name": "stderr",
     "output_type": "stream",
     "text": [
      "\r",
      " 66%|██████▋   | 186/280 [03:04<01:34,  1.00s/it]"
     ]
    },
    {
     "name": "stdout",
     "output_type": "stream",
     "text": [
      "Train, epoch: [0][  0/280]\tLoss 4.0507e-01 (5.4033e-01)\tAccuracy 0.862 (0.831)\n"
     ]
    },
    {
     "name": "stderr",
     "output_type": "stream",
     "text": [
      "\r",
      " 67%|██████▋   | 187/280 [03:05<01:33,  1.00s/it]"
     ]
    },
    {
     "name": "stdout",
     "output_type": "stream",
     "text": [
      "Train, epoch: [0][  0/280]\tLoss 2.9726e-01 (5.3903e-01)\tAccuracy 0.902 (0.832)\n"
     ]
    },
    {
     "name": "stderr",
     "output_type": "stream",
     "text": [
      "\r",
      " 67%|██████▋   | 188/280 [03:06<01:32,  1.00s/it]"
     ]
    },
    {
     "name": "stdout",
     "output_type": "stream",
     "text": [
      "Train, epoch: [0][  0/280]\tLoss 2.5399e-01 (5.3751e-01)\tAccuracy 0.912 (0.832)\n"
     ]
    },
    {
     "name": "stderr",
     "output_type": "stream",
     "text": [
      "\r",
      " 68%|██████▊   | 189/280 [03:07<01:31,  1.00s/it]"
     ]
    },
    {
     "name": "stdout",
     "output_type": "stream",
     "text": [
      "Train, epoch: [0][  0/280]\tLoss 4.0822e-01 (5.3683e-01)\tAccuracy 0.871 (0.832)\n"
     ]
    },
    {
     "name": "stderr",
     "output_type": "stream",
     "text": [
      "\r",
      " 68%|██████▊   | 190/280 [03:08<01:30,  1.00s/it]"
     ]
    },
    {
     "name": "stdout",
     "output_type": "stream",
     "text": [
      "Train, epoch: [0][  0/280]\tLoss 2.7218e-01 (5.3544e-01)\tAccuracy 0.899 (0.833)\n"
     ]
    },
    {
     "name": "stderr",
     "output_type": "stream",
     "text": [
      "\r",
      " 68%|██████▊   | 191/280 [03:09<01:29,  1.00s/it]"
     ]
    },
    {
     "name": "stdout",
     "output_type": "stream",
     "text": [
      "Train, epoch: [0][  0/280]\tLoss 3.3958e-01 (5.3441e-01)\tAccuracy 0.885 (0.833)\n"
     ]
    },
    {
     "name": "stderr",
     "output_type": "stream",
     "text": [
      "\r",
      " 69%|██████▊   | 192/280 [03:10<01:28,  1.00s/it]"
     ]
    },
    {
     "name": "stdout",
     "output_type": "stream",
     "text": [
      "Train, epoch: [0][  0/280]\tLoss 3.4149e-01 (5.3341e-01)\tAccuracy 0.895 (0.833)\n"
     ]
    },
    {
     "name": "stderr",
     "output_type": "stream",
     "text": [
      "\r",
      " 69%|██████▉   | 193/280 [03:11<01:27,  1.00s/it]"
     ]
    },
    {
     "name": "stdout",
     "output_type": "stream",
     "text": [
      "Train, epoch: [0][  0/280]\tLoss 5.3454e-01 (5.3341e-01)\tAccuracy 0.836 (0.833)\n"
     ]
    },
    {
     "name": "stderr",
     "output_type": "stream",
     "text": [
      "\r",
      " 69%|██████▉   | 194/280 [03:12<01:26,  1.00s/it]"
     ]
    },
    {
     "name": "stdout",
     "output_type": "stream",
     "text": [
      "Train, epoch: [0][  0/280]\tLoss 3.2118e-01 (5.3232e-01)\tAccuracy 0.890 (0.834)\n"
     ]
    },
    {
     "name": "stderr",
     "output_type": "stream",
     "text": [
      "\r",
      " 70%|██████▉   | 195/280 [03:13<01:25,  1.00s/it]"
     ]
    },
    {
     "name": "stdout",
     "output_type": "stream",
     "text": [
      "Train, epoch: [0][  0/280]\tLoss 5.5545e-01 (5.3244e-01)\tAccuracy 0.829 (0.834)\n"
     ]
    },
    {
     "name": "stderr",
     "output_type": "stream",
     "text": [
      "\r",
      " 70%|███████   | 196/280 [03:14<01:24,  1.00s/it]"
     ]
    },
    {
     "name": "stdout",
     "output_type": "stream",
     "text": [
      "Train, epoch: [0][  0/280]\tLoss 4.0444e-01 (5.3178e-01)\tAccuracy 0.872 (0.834)\n"
     ]
    },
    {
     "name": "stderr",
     "output_type": "stream",
     "text": [
      "\r",
      " 70%|███████   | 197/280 [03:15<01:23,  1.00s/it]"
     ]
    },
    {
     "name": "stdout",
     "output_type": "stream",
     "text": [
      "Train, epoch: [0][  0/280]\tLoss 3.8036e-01 (5.3101e-01)\tAccuracy 0.879 (0.834)\n"
     ]
    },
    {
     "name": "stderr",
     "output_type": "stream",
     "text": [
      "\r",
      " 71%|███████   | 198/280 [03:16<01:22,  1.00s/it]"
     ]
    },
    {
     "name": "stdout",
     "output_type": "stream",
     "text": [
      "Train, epoch: [0][  0/280]\tLoss 5.2702e-01 (5.3099e-01)\tAccuracy 0.820 (0.834)\n"
     ]
    },
    {
     "name": "stderr",
     "output_type": "stream",
     "text": [
      "\r",
      " 71%|███████   | 199/280 [03:17<01:21,  1.00s/it]"
     ]
    },
    {
     "name": "stdout",
     "output_type": "stream",
     "text": [
      "Train, epoch: [0][  0/280]\tLoss 3.0626e-01 (5.2986e-01)\tAccuracy 0.904 (0.834)\n"
     ]
    },
    {
     "name": "stderr",
     "output_type": "stream",
     "text": [
      "\r",
      " 71%|███████▏  | 200/280 [03:18<01:20,  1.00s/it]"
     ]
    },
    {
     "name": "stdout",
     "output_type": "stream",
     "text": [
      "Train, epoch: [0][  0/280]\tLoss 3.3575e-01 (5.2889e-01)\tAccuracy 0.889 (0.835)\n"
     ]
    },
    {
     "name": "stderr",
     "output_type": "stream",
     "text": [
      "\r",
      " 72%|███████▏  | 201/280 [03:19<01:19,  1.00s/it]"
     ]
    },
    {
     "name": "stdout",
     "output_type": "stream",
     "text": [
      "Train, epoch: [0][  0/280]\tLoss 3.1698e-01 (5.2784e-01)\tAccuracy 0.904 (0.835)\n"
     ]
    },
    {
     "name": "stderr",
     "output_type": "stream",
     "text": [
      "\r",
      " 72%|███████▏  | 202/280 [03:20<01:18,  1.00s/it]"
     ]
    },
    {
     "name": "stdout",
     "output_type": "stream",
     "text": [
      "Train, epoch: [0][  0/280]\tLoss 2.8213e-01 (5.2662e-01)\tAccuracy 0.916 (0.835)\n"
     ]
    },
    {
     "name": "stderr",
     "output_type": "stream",
     "text": [
      "\r",
      " 72%|███████▎  | 203/280 [03:21<01:17,  1.00s/it]"
     ]
    },
    {
     "name": "stdout",
     "output_type": "stream",
     "text": [
      "Train, epoch: [0][  0/280]\tLoss 4.4906e-01 (5.2624e-01)\tAccuracy 0.859 (0.835)\n"
     ]
    },
    {
     "name": "stderr",
     "output_type": "stream",
     "text": [
      "\r",
      " 73%|███████▎  | 204/280 [03:22<01:16,  1.00s/it]"
     ]
    },
    {
     "name": "stdout",
     "output_type": "stream",
     "text": [
      "Train, epoch: [0][  0/280]\tLoss 2.6510e-01 (5.2496e-01)\tAccuracy 0.923 (0.836)\n"
     ]
    },
    {
     "name": "stderr",
     "output_type": "stream",
     "text": [
      "\r",
      " 73%|███████▎  | 205/280 [03:23<01:15,  1.00s/it]"
     ]
    },
    {
     "name": "stdout",
     "output_type": "stream",
     "text": [
      "Train, epoch: [0][  0/280]\tLoss 2.7601e-01 (5.2375e-01)\tAccuracy 0.911 (0.836)\n"
     ]
    },
    {
     "name": "stderr",
     "output_type": "stream",
     "text": [
      "\r",
      " 74%|███████▎  | 206/280 [03:24<01:14,  1.00s/it]"
     ]
    },
    {
     "name": "stdout",
     "output_type": "stream",
     "text": [
      "Train, epoch: [0][  0/280]\tLoss 3.0975e-01 (5.2271e-01)\tAccuracy 0.902 (0.836)\n"
     ]
    },
    {
     "name": "stderr",
     "output_type": "stream",
     "text": [
      "\r",
      " 74%|███████▍  | 207/280 [03:25<01:13,  1.00s/it]"
     ]
    },
    {
     "name": "stdout",
     "output_type": "stream",
     "text": [
      "Train, epoch: [0][  0/280]\tLoss 3.6071e-01 (5.2193e-01)\tAccuracy 0.896 (0.837)\n"
     ]
    },
    {
     "name": "stderr",
     "output_type": "stream",
     "text": [
      "\r",
      " 74%|███████▍  | 208/280 [03:26<01:12,  1.00s/it]"
     ]
    },
    {
     "name": "stdout",
     "output_type": "stream",
     "text": [
      "Train, epoch: [0][  0/280]\tLoss 2.5512e-01 (5.2064e-01)\tAccuracy 0.922 (0.837)\n"
     ]
    },
    {
     "name": "stderr",
     "output_type": "stream",
     "text": [
      "\r",
      " 75%|███████▍  | 209/280 [03:27<01:11,  1.00s/it]"
     ]
    },
    {
     "name": "stdout",
     "output_type": "stream",
     "text": [
      "Train, epoch: [0][  0/280]\tLoss 3.6351e-01 (5.1989e-01)\tAccuracy 0.876 (0.837)\n"
     ]
    },
    {
     "name": "stderr",
     "output_type": "stream",
     "text": [
      "\r",
      " 75%|███████▌  | 210/280 [03:28<01:10,  1.00s/it]"
     ]
    },
    {
     "name": "stdout",
     "output_type": "stream",
     "text": [
      "Train, epoch: [0][  0/280]\tLoss 3.6972e-01 (5.1918e-01)\tAccuracy 0.874 (0.838)\n"
     ]
    },
    {
     "name": "stderr",
     "output_type": "stream",
     "text": [
      "\r",
      " 75%|███████▌  | 211/280 [03:29<01:09,  1.00s/it]"
     ]
    },
    {
     "name": "stdout",
     "output_type": "stream",
     "text": [
      "Train, epoch: [0][  0/280]\tLoss 3.8207e-01 (5.1853e-01)\tAccuracy 0.865 (0.838)\n"
     ]
    },
    {
     "name": "stderr",
     "output_type": "stream",
     "text": [
      "\r",
      " 76%|███████▌  | 212/280 [03:30<01:08,  1.00s/it]"
     ]
    },
    {
     "name": "stdout",
     "output_type": "stream",
     "text": [
      "Train, epoch: [0][  0/280]\tLoss 2.5427e-01 (5.1728e-01)\tAccuracy 0.925 (0.838)\n"
     ]
    },
    {
     "name": "stderr",
     "output_type": "stream",
     "text": [
      "\r",
      " 76%|███████▌  | 213/280 [03:31<01:07,  1.00s/it]"
     ]
    },
    {
     "name": "stdout",
     "output_type": "stream",
     "text": [
      "Train, epoch: [0][  0/280]\tLoss 2.6458e-01 (5.1609e-01)\tAccuracy 0.911 (0.838)\n"
     ]
    },
    {
     "name": "stderr",
     "output_type": "stream",
     "text": [
      "\r",
      " 76%|███████▋  | 214/280 [03:32<01:06,  1.00s/it]"
     ]
    },
    {
     "name": "stdout",
     "output_type": "stream",
     "text": [
      "Train, epoch: [0][  0/280]\tLoss 2.2522e-01 (5.1473e-01)\tAccuracy 0.931 (0.839)\n"
     ]
    },
    {
     "name": "stderr",
     "output_type": "stream",
     "text": [
      "\r",
      " 77%|███████▋  | 215/280 [03:33<01:05,  1.00s/it]"
     ]
    },
    {
     "name": "stdout",
     "output_type": "stream",
     "text": [
      "Train, epoch: [0][  0/280]\tLoss 4.3886e-01 (5.1438e-01)\tAccuracy 0.861 (0.839)\n"
     ]
    },
    {
     "name": "stderr",
     "output_type": "stream",
     "text": [
      "\r",
      " 77%|███████▋  | 216/280 [03:34<01:04,  1.00s/it]"
     ]
    },
    {
     "name": "stdout",
     "output_type": "stream",
     "text": [
      "Train, epoch: [0][  0/280]\tLoss 2.5986e-01 (5.1320e-01)\tAccuracy 0.917 (0.839)\n"
     ]
    },
    {
     "name": "stderr",
     "output_type": "stream",
     "text": [
      "\r",
      " 78%|███████▊  | 217/280 [03:35<01:03,  1.00s/it]"
     ]
    },
    {
     "name": "stdout",
     "output_type": "stream",
     "text": [
      "Train, epoch: [0][  0/280]\tLoss 3.1995e-01 (5.1231e-01)\tAccuracy 0.888 (0.840)\n"
     ]
    },
    {
     "name": "stderr",
     "output_type": "stream",
     "text": [
      "\r",
      " 78%|███████▊  | 218/280 [03:36<01:02,  1.00s/it]"
     ]
    },
    {
     "name": "stdout",
     "output_type": "stream",
     "text": [
      "Train, epoch: [0][  0/280]\tLoss 2.4211e-01 (5.1107e-01)\tAccuracy 0.922 (0.840)\n"
     ]
    },
    {
     "name": "stderr",
     "output_type": "stream",
     "text": [
      "\r",
      " 78%|███████▊  | 219/280 [03:37<01:01,  1.00s/it]"
     ]
    },
    {
     "name": "stdout",
     "output_type": "stream",
     "text": [
      "Train, epoch: [0][  0/280]\tLoss 3.9200e-01 (5.1053e-01)\tAccuracy 0.872 (0.840)\n"
     ]
    },
    {
     "name": "stderr",
     "output_type": "stream",
     "text": [
      "\r",
      " 79%|███████▊  | 220/280 [03:38<01:00,  1.00s/it]"
     ]
    },
    {
     "name": "stdout",
     "output_type": "stream",
     "text": [
      "Train, epoch: [0][  0/280]\tLoss 3.3481e-01 (5.0973e-01)\tAccuracy 0.895 (0.840)\n"
     ]
    },
    {
     "name": "stderr",
     "output_type": "stream",
     "text": [
      "\r",
      " 79%|███████▉  | 221/280 [03:39<00:59,  1.00s/it]"
     ]
    },
    {
     "name": "stdout",
     "output_type": "stream",
     "text": [
      "Train, epoch: [0][  0/280]\tLoss 2.9759e-01 (5.0877e-01)\tAccuracy 0.901 (0.841)\n"
     ]
    },
    {
     "name": "stderr",
     "output_type": "stream",
     "text": [
      "\r",
      " 79%|███████▉  | 222/280 [03:40<00:58,  1.00s/it]"
     ]
    },
    {
     "name": "stdout",
     "output_type": "stream",
     "text": [
      "Train, epoch: [0][  0/280]\tLoss 2.8209e-01 (5.0775e-01)\tAccuracy 0.910 (0.841)\n"
     ]
    },
    {
     "name": "stderr",
     "output_type": "stream",
     "text": [
      "\r",
      " 80%|███████▉  | 223/280 [03:41<00:57,  1.00s/it]"
     ]
    },
    {
     "name": "stdout",
     "output_type": "stream",
     "text": [
      "Train, epoch: [0][  0/280]\tLoss 3.5402e-01 (5.0706e-01)\tAccuracy 0.890 (0.841)\n"
     ]
    },
    {
     "name": "stderr",
     "output_type": "stream",
     "text": [
      "\r",
      " 80%|████████  | 224/280 [03:42<00:56,  1.00s/it]"
     ]
    },
    {
     "name": "stdout",
     "output_type": "stream",
     "text": [
      "Train, epoch: [0][  0/280]\tLoss 4.2791e-01 (5.0671e-01)\tAccuracy 0.853 (0.841)\n"
     ]
    },
    {
     "name": "stderr",
     "output_type": "stream",
     "text": [
      "\r",
      " 80%|████████  | 225/280 [03:43<00:55,  1.00s/it]"
     ]
    },
    {
     "name": "stdout",
     "output_type": "stream",
     "text": [
      "Train, epoch: [0][  0/280]\tLoss 3.1224e-01 (5.0584e-01)\tAccuracy 0.898 (0.841)\n"
     ]
    },
    {
     "name": "stderr",
     "output_type": "stream",
     "text": [
      "\r",
      " 81%|████████  | 226/280 [03:44<00:54,  1.00s/it]"
     ]
    },
    {
     "name": "stdout",
     "output_type": "stream",
     "text": [
      "Train, epoch: [0][  0/280]\tLoss 4.0498e-01 (5.0540e-01)\tAccuracy 0.855 (0.841)\n"
     ]
    },
    {
     "name": "stderr",
     "output_type": "stream",
     "text": [
      "\r",
      " 81%|████████  | 227/280 [03:45<00:53,  1.00s/it]"
     ]
    },
    {
     "name": "stdout",
     "output_type": "stream",
     "text": [
      "Train, epoch: [0][  0/280]\tLoss 2.7894e-01 (5.0440e-01)\tAccuracy 0.910 (0.842)\n"
     ]
    },
    {
     "name": "stderr",
     "output_type": "stream",
     "text": [
      "\r",
      " 81%|████████▏ | 228/280 [03:46<00:52,  1.00s/it]"
     ]
    },
    {
     "name": "stdout",
     "output_type": "stream",
     "text": [
      "Train, epoch: [0][  0/280]\tLoss 4.2369e-01 (5.0404e-01)\tAccuracy 0.861 (0.842)\n"
     ]
    },
    {
     "name": "stderr",
     "output_type": "stream",
     "text": [
      "\r",
      " 82%|████████▏ | 229/280 [03:47<00:51,  1.00s/it]"
     ]
    },
    {
     "name": "stdout",
     "output_type": "stream",
     "text": [
      "Train, epoch: [0][  0/280]\tLoss 2.3286e-01 (5.0286e-01)\tAccuracy 0.928 (0.842)\n"
     ]
    },
    {
     "name": "stderr",
     "output_type": "stream",
     "text": [
      "\r",
      " 82%|████████▏ | 230/280 [03:48<00:50,  1.00s/it]"
     ]
    },
    {
     "name": "stdout",
     "output_type": "stream",
     "text": [
      "Train, epoch: [0][  0/280]\tLoss 4.4446e-01 (5.0261e-01)\tAccuracy 0.857 (0.842)\n"
     ]
    },
    {
     "name": "stderr",
     "output_type": "stream",
     "text": [
      "\r",
      " 82%|████████▎ | 231/280 [03:49<00:49,  1.00s/it]"
     ]
    },
    {
     "name": "stdout",
     "output_type": "stream",
     "text": [
      "Train, epoch: [0][  0/280]\tLoss 2.8728e-01 (5.0167e-01)\tAccuracy 0.907 (0.843)\n"
     ]
    },
    {
     "name": "stderr",
     "output_type": "stream",
     "text": [
      "\r",
      " 83%|████████▎ | 232/280 [03:50<00:48,  1.00s/it]"
     ]
    },
    {
     "name": "stdout",
     "output_type": "stream",
     "text": [
      "Train, epoch: [0][  0/280]\tLoss 2.0561e-01 (5.0040e-01)\tAccuracy 0.935 (0.843)\n"
     ]
    },
    {
     "name": "stderr",
     "output_type": "stream",
     "text": [
      "\r",
      " 83%|████████▎ | 233/280 [03:51<00:47,  1.00s/it]"
     ]
    },
    {
     "name": "stdout",
     "output_type": "stream",
     "text": [
      "Train, epoch: [0][  0/280]\tLoss 2.1451e-01 (4.9917e-01)\tAccuracy 0.936 (0.843)\n"
     ]
    },
    {
     "name": "stderr",
     "output_type": "stream",
     "text": [
      "\r",
      " 84%|████████▎ | 234/280 [03:52<00:46,  1.00s/it]"
     ]
    },
    {
     "name": "stdout",
     "output_type": "stream",
     "text": [
      "Train, epoch: [0][  0/280]\tLoss 2.7647e-01 (4.9822e-01)\tAccuracy 0.915 (0.844)\n"
     ]
    },
    {
     "name": "stderr",
     "output_type": "stream",
     "text": [
      "\r",
      " 84%|████████▍ | 235/280 [03:53<00:45,  1.00s/it]"
     ]
    },
    {
     "name": "stdout",
     "output_type": "stream",
     "text": [
      "Train, epoch: [0][  0/280]\tLoss 2.6649e-01 (4.9723e-01)\tAccuracy 0.921 (0.844)\n"
     ]
    },
    {
     "name": "stderr",
     "output_type": "stream",
     "text": [
      "\r",
      " 84%|████████▍ | 236/280 [03:54<00:44,  1.00s/it]"
     ]
    },
    {
     "name": "stdout",
     "output_type": "stream",
     "text": [
      "Train, epoch: [0][  0/280]\tLoss 3.8654e-01 (4.9676e-01)\tAccuracy 0.869 (0.844)\n"
     ]
    },
    {
     "name": "stderr",
     "output_type": "stream",
     "text": [
      "\r",
      " 85%|████████▍ | 237/280 [03:55<00:43,  1.00s/it]"
     ]
    },
    {
     "name": "stdout",
     "output_type": "stream",
     "text": [
      "Train, epoch: [0][  0/280]\tLoss 3.6334e-01 (4.9620e-01)\tAccuracy 0.880 (0.844)\n"
     ]
    },
    {
     "name": "stderr",
     "output_type": "stream",
     "text": [
      "\r",
      " 85%|████████▌ | 238/280 [03:56<00:42,  1.00s/it]"
     ]
    },
    {
     "name": "stdout",
     "output_type": "stream",
     "text": [
      "Train, epoch: [0][  0/280]\tLoss 2.4440e-01 (4.9514e-01)\tAccuracy 0.920 (0.845)\n"
     ]
    },
    {
     "name": "stderr",
     "output_type": "stream",
     "text": [
      "\r",
      " 85%|████████▌ | 239/280 [03:57<00:41,  1.00s/it]"
     ]
    },
    {
     "name": "stdout",
     "output_type": "stream",
     "text": [
      "Train, epoch: [0][  0/280]\tLoss 2.4244e-01 (4.9409e-01)\tAccuracy 0.918 (0.845)\n"
     ]
    },
    {
     "name": "stderr",
     "output_type": "stream",
     "text": [
      "\r",
      " 86%|████████▌ | 240/280 [03:58<00:40,  1.00s/it]"
     ]
    },
    {
     "name": "stdout",
     "output_type": "stream",
     "text": [
      "Train, epoch: [0][  0/280]\tLoss 2.2700e-01 (4.9297e-01)\tAccuracy 0.927 (0.845)\n"
     ]
    },
    {
     "name": "stderr",
     "output_type": "stream",
     "text": [
      "\r",
      " 86%|████████▌ | 241/280 [03:59<00:39,  1.00s/it]"
     ]
    },
    {
     "name": "stdout",
     "output_type": "stream",
     "text": [
      "Train, epoch: [0][  0/280]\tLoss 2.9855e-01 (4.9217e-01)\tAccuracy 0.899 (0.845)\n"
     ]
    },
    {
     "name": "stderr",
     "output_type": "stream",
     "text": [
      "\r",
      " 86%|████████▋ | 242/280 [04:00<00:38,  1.00s/it]"
     ]
    },
    {
     "name": "stdout",
     "output_type": "stream",
     "text": [
      "Train, epoch: [0][  0/280]\tLoss 2.5182e-01 (4.9117e-01)\tAccuracy 0.918 (0.846)\n"
     ]
    },
    {
     "name": "stderr",
     "output_type": "stream",
     "text": [
      "\r",
      " 87%|████████▋ | 243/280 [04:01<00:37,  1.00s/it]"
     ]
    },
    {
     "name": "stdout",
     "output_type": "stream",
     "text": [
      "Train, epoch: [0][  0/280]\tLoss 2.2566e-01 (4.9008e-01)\tAccuracy 0.928 (0.846)\n"
     ]
    },
    {
     "name": "stderr",
     "output_type": "stream",
     "text": [
      "\r",
      " 87%|████████▋ | 244/280 [04:02<00:36,  1.00s/it]"
     ]
    },
    {
     "name": "stdout",
     "output_type": "stream",
     "text": [
      "Train, epoch: [0][  0/280]\tLoss 2.5082e-01 (4.8910e-01)\tAccuracy 0.915 (0.846)\n"
     ]
    },
    {
     "name": "stderr",
     "output_type": "stream",
     "text": [
      "\r",
      " 88%|████████▊ | 245/280 [04:03<00:35,  1.00s/it]"
     ]
    },
    {
     "name": "stdout",
     "output_type": "stream",
     "text": [
      "Train, epoch: [0][  0/280]\tLoss 2.3063e-01 (4.8804e-01)\tAccuracy 0.922 (0.847)\n"
     ]
    },
    {
     "name": "stderr",
     "output_type": "stream",
     "text": [
      "\r",
      " 88%|████████▊ | 246/280 [04:04<00:34,  1.00s/it]"
     ]
    },
    {
     "name": "stdout",
     "output_type": "stream",
     "text": [
      "Train, epoch: [0][  0/280]\tLoss 2.5428e-01 (4.8709e-01)\tAccuracy 0.922 (0.847)\n"
     ]
    },
    {
     "name": "stderr",
     "output_type": "stream",
     "text": [
      "\r",
      " 88%|████████▊ | 247/280 [04:05<00:33,  1.00s/it]"
     ]
    },
    {
     "name": "stdout",
     "output_type": "stream",
     "text": [
      "Train, epoch: [0][  0/280]\tLoss 6.0507e-01 (4.8757e-01)\tAccuracy 0.831 (0.847)\n"
     ]
    },
    {
     "name": "stderr",
     "output_type": "stream",
     "text": [
      "\r",
      " 89%|████████▊ | 248/280 [04:06<00:32,  1.00s/it]"
     ]
    },
    {
     "name": "stdout",
     "output_type": "stream",
     "text": [
      "Train, epoch: [0][  0/280]\tLoss 2.5875e-01 (4.8665e-01)\tAccuracy 0.912 (0.847)\n"
     ]
    },
    {
     "name": "stderr",
     "output_type": "stream",
     "text": [
      "\r",
      " 89%|████████▉ | 249/280 [04:07<00:31,  1.00s/it]"
     ]
    },
    {
     "name": "stdout",
     "output_type": "stream",
     "text": [
      "Train, epoch: [0][  0/280]\tLoss 3.4163e-01 (4.8607e-01)\tAccuracy 0.891 (0.847)\n"
     ]
    },
    {
     "name": "stderr",
     "output_type": "stream",
     "text": [
      "\r",
      " 89%|████████▉ | 250/280 [04:08<00:30,  1.00s/it]"
     ]
    },
    {
     "name": "stdout",
     "output_type": "stream",
     "text": [
      "Train, epoch: [0][  0/280]\tLoss 2.6865e-01 (4.8520e-01)\tAccuracy 0.912 (0.848)\n"
     ]
    },
    {
     "name": "stderr",
     "output_type": "stream",
     "text": [
      "\r",
      " 90%|████████▉ | 251/280 [04:09<00:29,  1.00s/it]"
     ]
    },
    {
     "name": "stdout",
     "output_type": "stream",
     "text": [
      "Train, epoch: [0][  0/280]\tLoss 3.8485e-01 (4.8480e-01)\tAccuracy 0.882 (0.848)\n"
     ]
    },
    {
     "name": "stderr",
     "output_type": "stream",
     "text": [
      "\r",
      " 90%|█████████ | 252/280 [04:10<00:28,  1.00s/it]"
     ]
    },
    {
     "name": "stdout",
     "output_type": "stream",
     "text": [
      "Train, epoch: [0][  0/280]\tLoss 3.0376e-01 (4.8408e-01)\tAccuracy 0.900 (0.848)\n"
     ]
    },
    {
     "name": "stderr",
     "output_type": "stream",
     "text": [
      "\r",
      " 90%|█████████ | 253/280 [04:11<00:27,  1.00s/it]"
     ]
    },
    {
     "name": "stdout",
     "output_type": "stream",
     "text": [
      "Train, epoch: [0][  0/280]\tLoss 3.2402e-01 (4.8345e-01)\tAccuracy 0.890 (0.848)\n"
     ]
    },
    {
     "name": "stderr",
     "output_type": "stream",
     "text": [
      "\r",
      " 91%|█████████ | 254/280 [04:12<00:26,  1.00s/it]"
     ]
    },
    {
     "name": "stdout",
     "output_type": "stream",
     "text": [
      "Train, epoch: [0][  0/280]\tLoss 2.1982e-01 (4.8241e-01)\tAccuracy 0.924 (0.848)\n"
     ]
    },
    {
     "name": "stderr",
     "output_type": "stream",
     "text": [
      "\r",
      " 91%|█████████ | 255/280 [04:13<00:25,  1.00s/it]"
     ]
    },
    {
     "name": "stdout",
     "output_type": "stream",
     "text": [
      "Train, epoch: [0][  0/280]\tLoss 1.9983e-01 (4.8130e-01)\tAccuracy 0.941 (0.849)\n"
     ]
    },
    {
     "name": "stderr",
     "output_type": "stream",
     "text": [
      "\r",
      " 91%|█████████▏| 256/280 [04:14<00:24,  1.00s/it]"
     ]
    },
    {
     "name": "stdout",
     "output_type": "stream",
     "text": [
      "Train, epoch: [0][  0/280]\tLoss 3.5434e-01 (4.8080e-01)\tAccuracy 0.886 (0.849)\n"
     ]
    },
    {
     "name": "stderr",
     "output_type": "stream",
     "text": [
      "\r",
      " 92%|█████████▏| 257/280 [04:15<00:23,  1.00s/it]"
     ]
    },
    {
     "name": "stdout",
     "output_type": "stream",
     "text": [
      "Train, epoch: [0][  0/280]\tLoss 3.0889e-01 (4.8014e-01)\tAccuracy 0.917 (0.849)\n"
     ]
    },
    {
     "name": "stderr",
     "output_type": "stream",
     "text": [
      "\r",
      " 92%|█████████▏| 258/280 [04:16<00:22,  1.00s/it]"
     ]
    },
    {
     "name": "stdout",
     "output_type": "stream",
     "text": [
      "Train, epoch: [0][  0/280]\tLoss 3.2153e-01 (4.7952e-01)\tAccuracy 0.901 (0.849)\n"
     ]
    },
    {
     "name": "stderr",
     "output_type": "stream",
     "text": [
      "\r",
      " 92%|█████████▎| 259/280 [04:17<00:21,  1.00s/it]"
     ]
    },
    {
     "name": "stdout",
     "output_type": "stream",
     "text": [
      "Train, epoch: [0][  0/280]\tLoss 2.8790e-01 (4.7878e-01)\tAccuracy 0.908 (0.850)\n"
     ]
    },
    {
     "name": "stderr",
     "output_type": "stream",
     "text": [
      "\r",
      " 93%|█████████▎| 260/280 [04:18<00:20,  1.00s/it]"
     ]
    },
    {
     "name": "stdout",
     "output_type": "stream",
     "text": [
      "Train, epoch: [0][  0/280]\tLoss 3.7442e-01 (4.7838e-01)\tAccuracy 0.885 (0.850)\n"
     ]
    },
    {
     "name": "stderr",
     "output_type": "stream",
     "text": [
      "\r",
      " 93%|█████████▎| 261/280 [04:19<00:19,  1.00s/it]"
     ]
    },
    {
     "name": "stdout",
     "output_type": "stream",
     "text": [
      "Train, epoch: [0][  0/280]\tLoss 3.7085e-01 (4.7797e-01)\tAccuracy 0.879 (0.850)\n"
     ]
    },
    {
     "name": "stderr",
     "output_type": "stream",
     "text": [
      "\r",
      " 94%|█████████▎| 262/280 [04:20<00:18,  1.00s/it]"
     ]
    },
    {
     "name": "stdout",
     "output_type": "stream",
     "text": [
      "Train, epoch: [0][  0/280]\tLoss 3.0766e-01 (4.7732e-01)\tAccuracy 0.897 (0.850)\n"
     ]
    },
    {
     "name": "stderr",
     "output_type": "stream",
     "text": [
      "\r",
      " 94%|█████████▍| 263/280 [04:21<00:17,  1.00s/it]"
     ]
    },
    {
     "name": "stdout",
     "output_type": "stream",
     "text": [
      "Train, epoch: [0][  0/280]\tLoss 2.5930e-01 (4.7649e-01)\tAccuracy 0.913 (0.850)\n"
     ]
    },
    {
     "name": "stderr",
     "output_type": "stream",
     "text": [
      "\r",
      " 94%|█████████▍| 264/280 [04:22<00:16,  1.00s/it]"
     ]
    },
    {
     "name": "stdout",
     "output_type": "stream",
     "text": [
      "Train, epoch: [0][  0/280]\tLoss 3.7847e-01 (4.7612e-01)\tAccuracy 0.870 (0.850)\n"
     ]
    },
    {
     "name": "stderr",
     "output_type": "stream",
     "text": [
      "\r",
      " 95%|█████████▍| 265/280 [04:23<00:15,  1.00s/it]"
     ]
    },
    {
     "name": "stdout",
     "output_type": "stream",
     "text": [
      "Train, epoch: [0][  0/280]\tLoss 3.3915e-01 (4.7560e-01)\tAccuracy 0.892 (0.851)\n"
     ]
    },
    {
     "name": "stderr",
     "output_type": "stream",
     "text": [
      "\r",
      " 95%|█████████▌| 266/280 [04:24<00:14,  1.00s/it]"
     ]
    },
    {
     "name": "stdout",
     "output_type": "stream",
     "text": [
      "Train, epoch: [0][  0/280]\tLoss 2.5427e-01 (4.7477e-01)\tAccuracy 0.915 (0.851)\n"
     ]
    },
    {
     "name": "stderr",
     "output_type": "stream",
     "text": [
      "\r",
      " 95%|█████████▌| 267/280 [04:25<00:13,  1.00s/it]"
     ]
    },
    {
     "name": "stdout",
     "output_type": "stream",
     "text": [
      "Train, epoch: [0][  0/280]\tLoss 2.3977e-01 (4.7389e-01)\tAccuracy 0.919 (0.851)\n"
     ]
    },
    {
     "name": "stderr",
     "output_type": "stream",
     "text": [
      "\r",
      " 96%|█████████▌| 268/280 [04:26<00:12,  1.00s/it]"
     ]
    },
    {
     "name": "stdout",
     "output_type": "stream",
     "text": [
      "Train, epoch: [0][  0/280]\tLoss 5.4106e-01 (4.7414e-01)\tAccuracy 0.824 (0.851)\n"
     ]
    },
    {
     "name": "stderr",
     "output_type": "stream",
     "text": [
      "\r",
      " 96%|█████████▌| 269/280 [04:27<00:11,  1.00s/it]"
     ]
    },
    {
     "name": "stdout",
     "output_type": "stream",
     "text": [
      "Train, epoch: [0][  0/280]\tLoss 2.7867e-01 (4.7341e-01)\tAccuracy 0.912 (0.851)\n"
     ]
    },
    {
     "name": "stderr",
     "output_type": "stream",
     "text": [
      "\r",
      " 96%|█████████▋| 270/280 [04:28<00:10,  1.00s/it]"
     ]
    },
    {
     "name": "stdout",
     "output_type": "stream",
     "text": [
      "Train, epoch: [0][  0/280]\tLoss 1.8482e-01 (4.7234e-01)\tAccuracy 0.949 (0.852)\n"
     ]
    },
    {
     "name": "stderr",
     "output_type": "stream",
     "text": [
      "\r",
      " 97%|█████████▋| 271/280 [04:29<00:09,  1.00s/it]"
     ]
    },
    {
     "name": "stdout",
     "output_type": "stream",
     "text": [
      "Train, epoch: [0][  0/280]\tLoss 3.6847e-01 (4.7196e-01)\tAccuracy 0.877 (0.852)\n"
     ]
    },
    {
     "name": "stderr",
     "output_type": "stream",
     "text": [
      "\r",
      " 97%|█████████▋| 272/280 [04:30<00:08,  1.00s/it]"
     ]
    },
    {
     "name": "stdout",
     "output_type": "stream",
     "text": [
      "Train, epoch: [0][  0/280]\tLoss 2.2034e-01 (4.7104e-01)\tAccuracy 0.939 (0.852)\n"
     ]
    },
    {
     "name": "stderr",
     "output_type": "stream",
     "text": [
      "\r",
      " 98%|█████████▊| 273/280 [04:31<00:07,  1.00s/it]"
     ]
    },
    {
     "name": "stdout",
     "output_type": "stream",
     "text": [
      "Train, epoch: [0][  0/280]\tLoss 3.5929e-01 (4.7063e-01)\tAccuracy 0.876 (0.852)\n"
     ]
    },
    {
     "name": "stderr",
     "output_type": "stream",
     "text": [
      "\r",
      " 98%|█████████▊| 274/280 [04:32<00:06,  1.00s/it]"
     ]
    },
    {
     "name": "stdout",
     "output_type": "stream",
     "text": [
      "Train, epoch: [0][  0/280]\tLoss 1.9370e-01 (4.6962e-01)\tAccuracy 0.938 (0.852)\n"
     ]
    },
    {
     "name": "stderr",
     "output_type": "stream",
     "text": [
      "\r",
      " 98%|█████████▊| 275/280 [04:33<00:05,  1.00s/it]"
     ]
    },
    {
     "name": "stdout",
     "output_type": "stream",
     "text": [
      "Train, epoch: [0][  0/280]\tLoss 3.7324e-01 (4.6926e-01)\tAccuracy 0.875 (0.852)\n"
     ]
    },
    {
     "name": "stderr",
     "output_type": "stream",
     "text": [
      "\r",
      " 99%|█████████▊| 276/280 [04:34<00:04,  1.00s/it]"
     ]
    },
    {
     "name": "stdout",
     "output_type": "stream",
     "text": [
      "Train, epoch: [0][  0/280]\tLoss 2.9502e-01 (4.6863e-01)\tAccuracy 0.915 (0.853)\n"
     ]
    },
    {
     "name": "stderr",
     "output_type": "stream",
     "text": [
      "\r",
      " 99%|█████████▉| 277/280 [04:35<00:03,  1.00s/it]"
     ]
    },
    {
     "name": "stdout",
     "output_type": "stream",
     "text": [
      "Train, epoch: [0][  0/280]\tLoss 4.8049e-01 (4.6868e-01)\tAccuracy 0.836 (0.853)\n"
     ]
    },
    {
     "name": "stderr",
     "output_type": "stream",
     "text": [
      "\r",
      " 99%|█████████▉| 278/280 [04:36<00:02,  1.00s/it]"
     ]
    },
    {
     "name": "stdout",
     "output_type": "stream",
     "text": [
      "Train, epoch: [0][  0/280]\tLoss 5.7557e-01 (4.6906e-01)\tAccuracy 0.793 (0.852)\n"
     ]
    },
    {
     "name": "stderr",
     "output_type": "stream",
     "text": [
      "\r",
      "100%|█████████▉| 279/280 [04:37<00:01,  1.00s/it]"
     ]
    },
    {
     "name": "stdout",
     "output_type": "stream",
     "text": [
      "Train, epoch: [0][  0/280]\tLoss 3.3679e-01 (4.6859e-01)\tAccuracy 0.884 (0.853)\n"
     ]
    },
    {
     "name": "stderr",
     "output_type": "stream",
     "text": [
      "100%|██████████| 280/280 [04:38<00:00,  1.01it/s]"
     ]
    },
    {
     "name": "stdout",
     "output_type": "stream",
     "text": [
      "Train, epoch: [0][  0/280]\tLoss 1.7113e-01 (4.6752e-01)\tAccuracy 0.946 (0.853)\n",
      "classes           IoU\n",
      "---------------------\n",
      "Pole          : 0.002\n",
      "SignSymbol    : 0.217\n",
      "Bicyclist     : 0.265\n",
      "Pedestrian    : 0.205\n",
      "Building      : 0.787\n",
      "Fence         : 0.000\n",
      "Pavement      : 0.715\n",
      "Road          : 0.000\n",
      "Car           : 0.693\n",
      "Sky           : 0.853\n",
      "Tree          : 0.708\n",
      "---------------------\n",
      "Mean IoU      : 0.404\n",
      "---------------------\n",
      "mIoU improved from 0.0000 to 0.4042.\n"
     ]
    },
    {
     "name": "stderr",
     "output_type": "stream",
     "text": [
      "\n"
     ]
    },
    {
     "name": "stdout",
     "output_type": "stream",
     "text": [
      "epoch  0\n",
      "loss : 0.4675   acc : 0.8528   miou : 0.4042\n"
     ]
    }
   ],
   "source": [
    "for epoch in range(num_epoch):\n",
    "    \n",
    "    batch_time = AverageMeter('Time', ':6.3f')\n",
    "    data_time = AverageMeter('Data', ':6.3f')\n",
    "    loss_running = AverageMeter('Loss', ':.4e')\n",
    "    acc_running = AverageMeter('Accuracy', ':.3f')\n",
    "    iou = iouCalc(classLabels, validClasses, voidClass = 11)\n",
    "    progress = ProgressMeter(\n",
    "        len(train_data),\n",
    "        [loss_running, acc_running],\n",
    "        prefix=\"Train, epoch: [{}]\".format(epoch))\n",
    "    \n",
    "    batch_loss = 0.0\n",
    "    for batch, (x, y) in enumerate(tqdm(train_data, total=len(train_data))):\n",
    "        x = x.to(device)\n",
    "        y = y.to(device)\n",
    "        # zero the parameter gradients\n",
    "        optimizer.zero_grad()\n",
    "        # forward pass\n",
    "        outputs = model(x)\n",
    "        outputs = outputs['out']\n",
    "        preds = torch.argmax(outputs, 1)\n",
    "        # cross-entropy loss\n",
    "        loss = criterion(outputs, y)\n",
    "\n",
    "        # backward pass\n",
    "        loss.backward()\n",
    "        optimizer.step()\n",
    "        \n",
    "        # Statistics\n",
    "        bs = x.size(0)\n",
    "        loss = loss.item()\n",
    "        loss_running.update(loss, bs)\n",
    "        corrects = torch.sum((preds == y) & (y != 12))\n",
    "        \n",
    "        nvoid = int((y==12).sum())\n",
    "        acc = corrects.double()/(bs*res-nvoid)\n",
    "        acc_running.update(acc, bs)\n",
    "        \n",
    "        # Calculate IoU scores of current batch\n",
    "        iou.evaluateBatch(preds, y)\n",
    "        \n",
    "        progress.display(epoch)\n",
    "        \n",
    "        \n",
    "    scheduler.step(loss_running.avg)\n",
    "    miou = iou.outputScores()\n",
    "    \n",
    "    # save checkpoint\n",
    "    now = datetime.datetime.now()\n",
    "    now_time = now.strftime('%y%m%d_%H:%M')\n",
    "    \n",
    "    # save path\n",
    "    if not os.path.isdir(os.getcwd() + '/result'):\n",
    "        os.makedirs(os.getcwd() + '/result')\n",
    "    \n",
    "    save_path = os.getcwd() + '/result/'\n",
    "    \n",
    "    # Save best model to file\n",
    "    torch.save({\n",
    "        'epoch' : epoch,\n",
    "        'model_state_dict' : model.state_dict(),\n",
    "        'optimizer_state_dict': optimizer.state_dict(),\n",
    "        'best_miou': best_miou,\n",
    "        'metrics': metrics,\n",
    "        }, save_path + now_time + '_checkpoint.pth.tar')\n",
    "    \n",
    "    # Save best model to file\n",
    "    if miou > best_miou:\n",
    "        print('mIoU improved from {:.4f} to {:.4f}.'.format(best_miou, miou))\n",
    "        best_miou = miou\n",
    "        torch.save({\n",
    "            'epoch': epoch,\n",
    "            'model_state_dict': model.state_dict(),\n",
    "            }, save_path + now_time + '_best_weights.pth.tar')\n",
    "\n",
    "        \n",
    "    print('epoch ', epoch)\n",
    "    print('loss : {:.4f}   acc : {:.4f}   miou : {:.4f}'.format(loss_running.avg, acc_running.avg, miou))"
   ]
  },
  {
   "cell_type": "markdown",
   "metadata": {},
   "source": [
    "### test"
   ]
  },
  {
   "cell_type": "code",
   "execution_count": 27,
   "metadata": {},
   "outputs": [],
   "source": [
    "X = torch.tensor(test_x, dtype=torch.float32)\n",
    "Y = torch.tensor(test_y, dtype=torch.long)\n",
    "\n",
    "data = torch.utils.data.TensorDataset(X.permute(dims=(0, 3, 1, 2)), Y)\n",
    "\n",
    "test_data = torch.utils.data.DataLoader(data, batch_size=1, shuffle=True)"
   ]
  },
  {
   "cell_type": "code",
   "execution_count": 28,
   "metadata": {
    "scrolled": true
   },
   "outputs": [],
   "source": [
    "# Load best model\n",
    "\n",
    "# save path\n",
    "if not os.path.isdir(os.getcwd() + '/result'):\n",
    "    os.makedirs(os.getcwd() + '/result')\n",
    "\n",
    "save_path = os.getcwd() + '/result/'\n",
    "result = sorted(os.listdir(save_path), reverse=True)"
   ]
  },
  {
   "cell_type": "code",
   "execution_count": 29,
   "metadata": {},
   "outputs": [
    {
     "name": "stdout",
     "output_type": "stream",
     "text": [
      "Loaded best model weights (epoch 0) from /home/ag/Capstone2/TEST/result/210531_21:37_best_weights.pth.tar\n"
     ]
    }
   ],
   "source": [
    "checkpoint = torch.load(save_path + result[1]) # 가장 최신 best_weights 파일 가져옴\n",
    "model.load_state_dict(checkpoint['model_state_dict'], strict=True)\n",
    "print('Loaded best model weights (epoch {}) from {}'.format(checkpoint['epoch'], save_path + result[1]))"
   ]
  },
  {
   "cell_type": "code",
   "execution_count": 30,
   "metadata": {
    "scrolled": false
   },
   "outputs": [
    {
     "name": "stderr",
     "output_type": "stream",
     "text": [
      "100%|██████████| 141/141 [00:15<00:00,  9.23it/s]"
     ]
    },
    {
     "name": "stdout",
     "output_type": "stream",
     "text": [
      "classes           IoU\n",
      "---------------------\n",
      "Pole          : 0.003\n",
      "SignSymbol    : 0.272\n",
      "Bicyclist     : 0.340\n",
      "Pedestrian    : 0.274\n",
      "Building      : 0.804\n",
      "Fence         : 0.000\n",
      "Pavement      : 0.741\n",
      "Road          : 0.000\n",
      "Car           : 0.716\n",
      "Sky           : 0.862\n",
      "Tree          : 0.727\n",
      "---------------------\n",
      "Mean IoU      : 0.431\n",
      "---------------------\n",
      "loss : 0.4309 acc : 0.8632 miou : 0.4307\n"
     ]
    },
    {
     "name": "stderr",
     "output_type": "stream",
     "text": [
      "\n"
     ]
    }
   ],
   "source": [
    "batch_time = AverageMeter('Time', ':6.3f')\n",
    "data_time = AverageMeter('Data', ':6.3f')\n",
    "progress = ProgressMeter(\n",
    "    len(test_data),\n",
    "    [batch_time, data_time],\n",
    "    prefix='Predict: ')\n",
    "\n",
    "model.eval()\n",
    "\n",
    "batch_loss = 0.0\n",
    "for batch, (x, y) in enumerate(tqdm(test_data, total=len(test_data))):\n",
    "\n",
    "    x = x.to(device)\n",
    "    y = y.to(device)\n",
    "\n",
    "    # forward\n",
    "    outputs = model(x)\n",
    "    outputs = outputs['out']\n",
    "\n",
    "    preds = torch.argmax(outputs, 1)\n",
    "\n",
    "    # cross-entropy loss\n",
    "    loss = criterion(outputs, y)\n",
    "\n",
    "    # Statistics\n",
    "    bs = x.size(0)\n",
    "    loss = loss.item()\n",
    "    loss_running.update(loss, bs)\n",
    "    corrects = torch.sum((preds == y) & (y != 12))\n",
    "\n",
    "    nvoid = int((y==12).sum())\n",
    "    acc = corrects.double()/(bs*res-nvoid)\n",
    "    acc_running.update(acc, bs)\n",
    "\n",
    "    # Calculate IoU scores of current batch\n",
    "    iou.evaluateBatch(preds, y)\n",
    "\n",
    "miou = iou.outputScores()\n",
    "scheduler.step(loss_running.avg)\n",
    "\n",
    "print('loss : {:.4f} acc : {:.4f} miou : {:.4f}'.format(loss_running.avg, acc_running.avg, miou))"
   ]
  },
  {
   "cell_type": "code",
   "execution_count": null,
   "metadata": {},
   "outputs": [],
   "source": []
  }
 ],
 "metadata": {
  "kernelspec": {
   "display_name": "venv_cap",
   "language": "python",
   "name": "venv_cap"
  },
  "language_info": {
   "codemirror_mode": {
    "name": "ipython",
    "version": 3
   },
   "file_extension": ".py",
   "mimetype": "text/x-python",
   "name": "python",
   "nbconvert_exporter": "python",
   "pygments_lexer": "ipython3",
   "version": "3.7.5"
  }
 },
 "nbformat": 4,
 "nbformat_minor": 5
}
