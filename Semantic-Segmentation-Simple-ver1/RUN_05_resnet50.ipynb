{
 "cells": [
  {
   "cell_type": "code",
   "execution_count": 1,
   "id": "2f2a6992",
   "metadata": {
    "scrolled": true
   },
   "outputs": [],
   "source": [
    "import os\n",
    "import time\n",
    "import datetime\n",
    "import numpy as np\n",
    "import warnings\n",
    "import random\n",
    "from PIL import Image\n",
    "from tqdm import tqdm\n",
    "\n",
    "from labels import labels"
   ]
  },
  {
   "cell_type": "code",
   "execution_count": 2,
   "id": "5811de7a",
   "metadata": {},
   "outputs": [],
   "source": [
    "# 데이터 경로\n",
    "#  os.getcwd() :'/home/ag/Capstone2/DeepLab_V3_ver1'\n",
    "origin_data_path = os.getcwd() + '/data/Original_data/'\n",
    "labeled_data_path = os.getcwd() + '/data/Labeled_data/'\n",
    "\n",
    "origin_data_list = os.listdir(origin_data_path) # x\n",
    "labeled_data_list = os.listdir(labeled_data_path) # y\n",
    "\n",
    "# 파일명 랜덤\n",
    "random.shuffle(origin_data_list)\n",
    "random.shuffle(labeled_data_list)\n",
    "\n",
    "# train, test / x, y \n",
    "train_x_file = origin_data_list[:int(len(origin_data_list)*0.8)]\n",
    "train_y_file = [file_name[:-4] + '_L.png' for file_name in train_x_file]\n",
    "\n",
    "test_x_file = [file_name for file_name in origin_data_list if file_name not in train_x_file]\n",
    "test_y_file = [file_name[:-4] + '_L.png' for file_name in test_x_file]"
   ]
  },
  {
   "cell_type": "code",
   "execution_count": 3,
   "id": "ca295aa2",
   "metadata": {},
   "outputs": [
    {
     "name": "stdout",
     "output_type": "stream",
     "text": [
      "560 141 560 141\n"
     ]
    }
   ],
   "source": [
    "print(len(train_x_file), len(test_x_file), len(train_y_file), len(test_y_file))"
   ]
  },
  {
   "cell_type": "code",
   "execution_count": 4,
   "id": "a2b80b82",
   "metadata": {},
   "outputs": [
    {
     "name": "stdout",
     "output_type": "stream",
     "text": [
      "Seq05VD_f02220.png 0016E5_08107.png Seq05VD_f02220_L.png 0016E5_08107_L.png\n"
     ]
    }
   ],
   "source": [
    "print(train_x_file[0], test_x_file[0], train_y_file[0], test_y_file[0])"
   ]
  },
  {
   "cell_type": "markdown",
   "id": "7b67ed5e",
   "metadata": {},
   "source": [
    "### X"
   ]
  },
  {
   "cell_type": "code",
   "execution_count": 5,
   "id": "62db6fd8",
   "metadata": {},
   "outputs": [],
   "source": [
    "train_x = [np.array(Image.open(origin_data_path + train)) for train in train_x_file]\n",
    "test_x = [np.array(Image.open(origin_data_path + test)) for test in test_x_file]"
   ]
  },
  {
   "cell_type": "markdown",
   "id": "8bbd0109",
   "metadata": {},
   "source": [
    "### Y"
   ]
  },
  {
   "cell_type": "code",
   "execution_count": 6,
   "id": "351dbc19",
   "metadata": {},
   "outputs": [],
   "source": [
    "# color to label catId\n",
    "color2label = { label.color   : label.id for label in labels}"
   ]
  },
  {
   "cell_type": "code",
   "execution_count": 7,
   "id": "a95c59a6",
   "metadata": {
    "scrolled": true
   },
   "outputs": [
    {
     "name": "stderr",
     "output_type": "stream",
     "text": [
      "100%|██████████| 560/560 [21:43<00:00,  2.33s/it]\n"
     ]
    }
   ],
   "source": [
    "train_y = []\n",
    "for file_name in tqdm(train_y_file):\n",
    "    image = np.array(Image.open(labeled_data_path + file_name))\n",
    "    ret = [[color2label[tuple([r[0], r[1], r[2]])] \n",
    "            if tuple([r[0], r[1], r[2]]) in color2label else 11\n",
    "            for r in row] \n",
    "           for row in image]\n",
    "    train_y.append(ret)"
   ]
  },
  {
   "cell_type": "code",
   "execution_count": 8,
   "id": "38587377",
   "metadata": {
    "scrolled": false
   },
   "outputs": [
    {
     "name": "stderr",
     "output_type": "stream",
     "text": [
      "100%|██████████| 141/141 [05:28<00:00,  2.33s/it]\n"
     ]
    }
   ],
   "source": [
    "test_y = []\n",
    "for file_name in tqdm(test_y_file):\n",
    "    image = np.array(Image.open(labeled_data_path + file_name))\n",
    "    ret = [[color2label[tuple([r[0], r[1], r[2]])] \n",
    "            if tuple([r[0], r[1], r[2]]) in color2label else 11\n",
    "            for r in row] \n",
    "           for row in image]\n",
    "    test_y.append(ret)"
   ]
  },
  {
   "cell_type": "code",
   "execution_count": 9,
   "id": "15fa0577",
   "metadata": {
    "scrolled": false
   },
   "outputs": [
    {
     "data": {
      "text/plain": [
       "((560, 720, 960), (141, 720, 960))"
      ]
     },
     "execution_count": 9,
     "metadata": {},
     "output_type": "execute_result"
    }
   ],
   "source": [
    "np.array(train_y).shape, np.array(test_y).shape"
   ]
  },
  {
   "cell_type": "code",
   "execution_count": 10,
   "id": "88c21514",
   "metadata": {},
   "outputs": [],
   "source": [
    "train_x = np.array(train_x)\n",
    "train_y = np.array(train_y)\n",
    "test_x = np.array(test_x)\n",
    "test_y = np.array(test_y)"
   ]
  },
  {
   "cell_type": "markdown",
   "id": "2b2d5781",
   "metadata": {},
   "source": [
    "### data save"
   ]
  },
  {
   "cell_type": "code",
   "execution_count": 11,
   "id": "b2642672",
   "metadata": {
    "scrolled": true
   },
   "outputs": [],
   "source": [
    "np.savez('data.npz', train_x=train_x, train_y=train_y, test_x=test_x, test_y=test_y)"
   ]
  },
  {
   "cell_type": "markdown",
   "id": "236b974d",
   "metadata": {},
   "source": [
    "# Model"
   ]
  },
  {
   "cell_type": "markdown",
   "id": "ada08c10",
   "metadata": {},
   "source": [
    "### package load"
   ]
  },
  {
   "cell_type": "code",
   "execution_count": 1,
   "id": "db262e5b",
   "metadata": {},
   "outputs": [],
   "source": [
    "import os\n",
    "import sys\n",
    "import time\n",
    "import datetime\n",
    "from tqdm import tqdm\n",
    "import numpy as np\n",
    "import warnings\n",
    "import random\n",
    "import torch\n",
    "import torch.nn as nn\n",
    "import torch.nn.functional as F\n",
    "import torch.optim as optim\n",
    "from torch.autograd import Variable\n",
    "import torchvision\n",
    "import torchvision.transforms.functional as TF"
   ]
  },
  {
   "cell_type": "code",
   "execution_count": 2,
   "id": "6a7374e4",
   "metadata": {},
   "outputs": [],
   "source": [
    "from model import convert_bn_to_instancenorm, convert_bn_to_evonorm, convert_bn_to_groupnorm, DeepLabHead, UNet\n",
    "from helpers import AverageMeter, ProgressMeter, iouCalc, visim, vislbl\n",
    "from labels import labels"
   ]
  },
  {
   "cell_type": "markdown",
   "id": "3e531816",
   "metadata": {},
   "source": [
    "### CPU or GPU\n",
    "#### 아래 코드에서 True이면 GPU 사용, False 이면 CPU 사용됨."
   ]
  },
  {
   "cell_type": "code",
   "execution_count": 3,
   "id": "95e11a2b",
   "metadata": {},
   "outputs": [],
   "source": [
    "USE_CUDA = torch.cuda.is_available() and True \n",
    "device = torch.device('cuda' if USE_CUDA else 'cpu')"
   ]
  },
  {
   "cell_type": "markdown",
   "id": "5f26ad9e",
   "metadata": {},
   "source": [
    "### data load"
   ]
  },
  {
   "cell_type": "code",
   "execution_count": 4,
   "id": "295e0bb2",
   "metadata": {},
   "outputs": [],
   "source": [
    "npzfile = np.load('data.npz')\n",
    "\n",
    "train_x = npzfile['train_x']\n",
    "train_y = npzfile['train_y']\n",
    "test_x = npzfile['test_x']\n",
    "test_y = npzfile['test_y']\n",
    "\n",
    "npzfile.close()"
   ]
  },
  {
   "cell_type": "markdown",
   "id": "86f1da40",
   "metadata": {},
   "source": [
    "### Cut Mix"
   ]
  },
  {
   "cell_type": "code",
   "execution_count": 5,
   "id": "9d00727d",
   "metadata": {},
   "outputs": [],
   "source": [
    "def cutmix(image_x, image_y, size_x, size_y):\n",
    "    w, h = image_x.shape[0], image_x.shape[1]\n",
    "    \n",
    "    # 복사할 이미지 랜덤 선택\n",
    "    cxs, cys = random.randint(0, w-size_x), random.randint(0, h-size_y) # copy x start / copy y start\n",
    "    cxe, cye = cxs + size_x, cys + size_y # copy x end / copy y end\n",
    "    \n",
    "    # 붙여넣을 위치\n",
    "    xs, ys = random.randint(0, w-size_x), random.randint(0, h-size_y) \n",
    "    xe, ye = xs + size_x, ys + size_y\n",
    "    \n",
    "    result_x = image_x.copy()\n",
    "    result_y = image_y.copy()\n",
    "    result_x[xs:xe, ys:ye] = image_x[cxs:cxe, cys:cye]\n",
    "    result_y[xs:xe, ys:ye] = image_y[cxs:cxe, cys:cye]\n",
    "    \n",
    "    return result_x, result_y"
   ]
  },
  {
   "cell_type": "code",
   "execution_count": 6,
   "id": "81ee5b69",
   "metadata": {},
   "outputs": [],
   "source": [
    "cutmix_index = list(range(len(train_x)))\n",
    "np.random.shuffle(cutmix_index)\n",
    "\n",
    "cutmix_num = 100\n",
    "cutmix_index = cutmix_index[:cutmix_num]\n",
    "\n",
    "append_x = []\n",
    "append_y = []\n",
    "\n",
    "for i in cutmix_index:\n",
    "    app_x, app_y = cutmix(train_x[i], train_y[i], 200, 200)\n",
    "    append_x.append(app_x)\n",
    "    append_y.append(app_y)\n",
    "    \n",
    "train_x = np.append(train_x, append_x, axis=0)\n",
    "train_y = np.append(train_y, append_y, axis=0)"
   ]
  },
  {
   "cell_type": "markdown",
   "id": "b684bea5",
   "metadata": {},
   "source": [
    "### DeepLab v3 ResNet50 "
   ]
  },
  {
   "cell_type": "code",
   "execution_count": 7,
   "id": "ce7757fc",
   "metadata": {},
   "outputs": [],
   "source": [
    "model = torchvision.models.segmentation.deeplabv3_resnet50(pretrained=False).to(device)\n",
    "model.classifier = DeepLabHead(2048, 12).to(device) # 12 = class num"
   ]
  },
  {
   "cell_type": "code",
   "execution_count": 8,
   "id": "202574db",
   "metadata": {},
   "outputs": [],
   "source": [
    "optimizer = torch.optim.SGD(model.parameters(), lr=0.01, momentum=0.9)\n",
    "scheduler = optim.lr_scheduler.CosineAnnealingLR(optimizer, T_max=2) # 파라미터 학습속도 조절"
   ]
  },
  {
   "cell_type": "code",
   "execution_count": 9,
   "id": "09ea1336",
   "metadata": {},
   "outputs": [],
   "source": [
    "# Initialize metrics\n",
    "best_miou = 0.0\n",
    "metrics = {'train_loss' : [],\n",
    "           'train_acc' : [],\n",
    "           'test_acc' : [],\n",
    "           'test_loss' : [],\n",
    "           'miou' : []}\n",
    "start_epoch = 0"
   ]
  },
  {
   "cell_type": "markdown",
   "id": "0c71edf0",
   "metadata": {},
   "source": [
    "### Label "
   ]
  },
  {
   "cell_type": "code",
   "execution_count": 10,
   "id": "61074ec9",
   "metadata": {},
   "outputs": [],
   "source": [
    "# Create list of class names\n",
    "classLabels = []\n",
    "for label in labels:\n",
    "    if label.name not in classLabels:\n",
    "        classLabels.append(label.name)\n",
    "classLabels.append('void')"
   ]
  },
  {
   "cell_type": "code",
   "execution_count": 11,
   "id": "84d3f8f6",
   "metadata": {
    "scrolled": true
   },
   "outputs": [],
   "source": [
    "validClasses = list(np.unique([label.id for label in labels if label.id >= 0] + [11]))"
   ]
  },
  {
   "cell_type": "markdown",
   "id": "08dc84a4",
   "metadata": {},
   "source": [
    "### train"
   ]
  },
  {
   "cell_type": "code",
   "execution_count": 12,
   "id": "79ef0c62",
   "metadata": {},
   "outputs": [],
   "source": [
    "train_X = torch.tensor(train_x, dtype=torch.float32)\n",
    "train_Y = torch.tensor(train_y, dtype=torch.long)\n",
    "\n",
    "train_data = torch.utils.data.TensorDataset(train_X.permute(dims=(0, 3, 1, 2)), train_Y)\n",
    "\n",
    "train_data = torch.utils.data.DataLoader(train_data, batch_size=2, shuffle=True)"
   ]
  },
  {
   "cell_type": "code",
   "execution_count": 14,
   "id": "df632881",
   "metadata": {},
   "outputs": [],
   "source": [
    "# class weight\n",
    "\n",
    "dist = {i:(train_Y == i).sum().tolist() for i in range(12)}\n",
    "\n",
    "weights = [1/dist[i] for i in range(12)]\n",
    "total_weights = sum(weights)\n",
    "\n",
    "class_weight = torch.FloatTensor([w/total_weights for w in weights]).to(device)\n",
    "criterion = nn.CrossEntropyLoss(weight = class_weight, ignore_index=12) # weight 파라미터에 class_weight 추가\n",
    "\n",
    "num_epoch = 40\n",
    "res = train_X.shape[1] * train_X.shape[2]"
   ]
  },
  {
   "cell_type": "code",
   "execution_count": 15,
   "id": "61026c27",
   "metadata": {
    "scrolled": true
   },
   "outputs": [
    {
     "name": "stderr",
     "output_type": "stream",
     "text": [
      "100%|██████████| 330/330 [05:29<00:00,  1.00it/s]\n"
     ]
    },
    {
     "name": "stdout",
     "output_type": "stream",
     "text": [
      "classes           IoU\n",
      "---------------------\n",
      "Pole          : 0.158\n",
      "SignSymbol    : 0.246\n",
      "Bicyclist     : 0.312\n",
      "Pedestrian    : 0.222\n",
      "Building      : 0.586\n",
      "Fence         : 0.302\n",
      "Pavement      : 0.607\n",
      "Road          : 0.845\n",
      "Car           : 0.627\n",
      "Sky           : 0.808\n",
      "Tree          : 0.646\n",
      "---------------------\n",
      "Mean IoU      : 0.487\n",
      "---------------------\n",
      "train epoch  1\n",
      "loss : 0.8274   acc : 0.7677   miou : 0.4871\n",
      "mIoU improved from 0.0000 to 0.4871.\n"
     ]
    },
    {
     "name": "stderr",
     "output_type": "stream",
     "text": [
      "100%|██████████| 330/330 [05:31<00:00,  1.00s/it]\n"
     ]
    },
    {
     "name": "stdout",
     "output_type": "stream",
     "text": [
      "classes           IoU\n",
      "---------------------\n",
      "Pole          : 0.291\n",
      "SignSymbol    : 0.459\n",
      "Bicyclist     : 0.593\n",
      "Pedestrian    : 0.496\n",
      "Building      : 0.773\n",
      "Fence         : 0.572\n",
      "Pavement      : 0.754\n",
      "Road          : 0.920\n",
      "Car           : 0.815\n",
      "Sky           : 0.883\n",
      "Tree          : 0.766\n",
      "---------------------\n",
      "Mean IoU      : 0.666\n",
      "---------------------\n",
      "train epoch  2\n",
      "loss : 0.4145   acc : 0.8713   miou : 0.6657\n",
      "mIoU improved from 0.4871 to 0.6657.\n"
     ]
    },
    {
     "name": "stderr",
     "output_type": "stream",
     "text": [
      "100%|██████████| 330/330 [05:31<00:00,  1.00s/it]\n"
     ]
    },
    {
     "name": "stdout",
     "output_type": "stream",
     "text": [
      "classes           IoU\n",
      "---------------------\n",
      "Pole          : 0.339\n",
      "SignSymbol    : 0.541\n",
      "Bicyclist     : 0.675\n",
      "Pedestrian    : 0.562\n",
      "Building      : 0.813\n",
      "Fence         : 0.657\n",
      "Pavement      : 0.794\n",
      "Road          : 0.935\n",
      "Car           : 0.850\n",
      "Sky           : 0.893\n",
      "Tree          : 0.789\n",
      "---------------------\n",
      "Mean IoU      : 0.713\n",
      "---------------------\n",
      "train epoch  3\n",
      "loss : 0.3263   acc : 0.8922   miou : 0.7134\n",
      "mIoU improved from 0.6657 to 0.7134.\n"
     ]
    },
    {
     "name": "stderr",
     "output_type": "stream",
     "text": [
      "100%|██████████| 330/330 [05:31<00:00,  1.00s/it]\n"
     ]
    },
    {
     "name": "stdout",
     "output_type": "stream",
     "text": [
      "classes           IoU\n",
      "---------------------\n",
      "Pole          : 0.374\n",
      "SignSymbol    : 0.600\n",
      "Bicyclist     : 0.710\n",
      "Pedestrian    : 0.593\n",
      "Building      : 0.844\n",
      "Fence         : 0.709\n",
      "Pavement      : 0.822\n",
      "Road          : 0.947\n",
      "Car           : 0.871\n",
      "Sky           : 0.901\n",
      "Tree          : 0.812\n",
      "---------------------\n",
      "Mean IoU      : 0.744\n",
      "---------------------\n",
      "train epoch  4\n",
      "loss : 0.2759   acc : 0.9078   miou : 0.7439\n",
      "mIoU improved from 0.7134 to 0.7439.\n"
     ]
    },
    {
     "name": "stderr",
     "output_type": "stream",
     "text": [
      "100%|██████████| 330/330 [05:31<00:00,  1.00s/it]\n"
     ]
    },
    {
     "name": "stdout",
     "output_type": "stream",
     "text": [
      "classes           IoU\n",
      "---------------------\n",
      "Pole          : 0.401\n",
      "SignSymbol    : 0.633\n",
      "Bicyclist     : 0.738\n",
      "Pedestrian    : 0.625\n",
      "Building      : 0.862\n",
      "Fence         : 0.759\n",
      "Pavement      : 0.843\n",
      "Road          : 0.953\n",
      "Car           : 0.886\n",
      "Sky           : 0.905\n",
      "Tree          : 0.826\n",
      "---------------------\n",
      "Mean IoU      : 0.766\n",
      "---------------------\n",
      "train epoch  5\n",
      "loss : 0.2365   acc : 0.9175   miou : 0.7664\n",
      "mIoU improved from 0.7439 to 0.7664.\n"
     ]
    },
    {
     "name": "stderr",
     "output_type": "stream",
     "text": [
      "100%|██████████| 330/330 [05:31<00:00,  1.00s/it]\n"
     ]
    },
    {
     "name": "stdout",
     "output_type": "stream",
     "text": [
      "classes           IoU\n",
      "---------------------\n",
      "Pole          : 0.425\n",
      "SignSymbol    : 0.661\n",
      "Bicyclist     : 0.755\n",
      "Pedestrian    : 0.644\n",
      "Building      : 0.876\n",
      "Fence         : 0.789\n",
      "Pavement      : 0.858\n",
      "Road          : 0.961\n",
      "Car           : 0.895\n",
      "Sky           : 0.909\n",
      "Tree          : 0.840\n",
      "---------------------\n",
      "Mean IoU      : 0.783\n",
      "---------------------\n",
      "train epoch  6\n",
      "loss : 0.2103   acc : 0.9256   miou : 0.7831\n",
      "mIoU improved from 0.7664 to 0.7831.\n"
     ]
    },
    {
     "name": "stderr",
     "output_type": "stream",
     "text": [
      "100%|██████████| 330/330 [05:31<00:00,  1.00s/it]\n"
     ]
    },
    {
     "name": "stdout",
     "output_type": "stream",
     "text": [
      "classes           IoU\n",
      "---------------------\n",
      "Pole          : 0.441\n",
      "SignSymbol    : 0.675\n",
      "Bicyclist     : 0.765\n",
      "Pedestrian    : 0.658\n",
      "Building      : 0.883\n",
      "Fence         : 0.812\n",
      "Pavement      : 0.869\n",
      "Road          : 0.962\n",
      "Car           : 0.899\n",
      "Sky           : 0.911\n",
      "Tree          : 0.847\n",
      "---------------------\n",
      "Mean IoU      : 0.793\n",
      "---------------------\n",
      "train epoch  7\n",
      "loss : 0.1958   acc : 0.9292   miou : 0.7930\n",
      "mIoU improved from 0.7831 to 0.7930.\n"
     ]
    },
    {
     "name": "stderr",
     "output_type": "stream",
     "text": [
      "100%|██████████| 330/330 [05:30<00:00,  1.00s/it]\n"
     ]
    },
    {
     "name": "stdout",
     "output_type": "stream",
     "text": [
      "classes           IoU\n",
      "---------------------\n",
      "Pole          : 0.456\n",
      "SignSymbol    : 0.702\n",
      "Bicyclist     : 0.776\n",
      "Pedestrian    : 0.670\n",
      "Building      : 0.892\n",
      "Fence         : 0.823\n",
      "Pavement      : 0.878\n",
      "Road          : 0.966\n",
      "Car           : 0.904\n",
      "Sky           : 0.914\n",
      "Tree          : 0.852\n",
      "---------------------\n",
      "Mean IoU      : 0.803\n",
      "---------------------\n",
      "train epoch  8\n",
      "loss : 0.1820   acc : 0.9342   miou : 0.8032\n",
      "mIoU improved from 0.7930 to 0.8032.\n"
     ]
    },
    {
     "name": "stderr",
     "output_type": "stream",
     "text": [
      "100%|██████████| 330/330 [05:30<00:00,  1.00s/it]\n"
     ]
    },
    {
     "name": "stdout",
     "output_type": "stream",
     "text": [
      "classes           IoU\n",
      "---------------------\n",
      "Pole          : 0.471\n",
      "SignSymbol    : 0.719\n",
      "Bicyclist     : 0.787\n",
      "Pedestrian    : 0.682\n",
      "Building      : 0.898\n",
      "Fence         : 0.832\n",
      "Pavement      : 0.884\n",
      "Road          : 0.969\n",
      "Car           : 0.908\n",
      "Sky           : 0.916\n",
      "Tree          : 0.860\n",
      "---------------------\n",
      "Mean IoU      : 0.811\n",
      "---------------------\n",
      "train epoch  9\n",
      "loss : 0.1711   acc : 0.9373   miou : 0.8114\n",
      "mIoU improved from 0.8032 to 0.8114.\n"
     ]
    },
    {
     "name": "stderr",
     "output_type": "stream",
     "text": [
      "100%|██████████| 330/330 [05:30<00:00,  1.00s/it]\n"
     ]
    },
    {
     "name": "stdout",
     "output_type": "stream",
     "text": [
      "classes           IoU\n",
      "---------------------\n",
      "Pole          : 0.484\n",
      "SignSymbol    : 0.732\n",
      "Bicyclist     : 0.792\n",
      "Pedestrian    : 0.692\n",
      "Building      : 0.904\n",
      "Fence         : 0.845\n",
      "Pavement      : 0.891\n",
      "Road          : 0.970\n",
      "Car           : 0.913\n",
      "Sky           : 0.918\n",
      "Tree          : 0.867\n",
      "---------------------\n",
      "Mean IoU      : 0.819\n",
      "---------------------\n",
      "train epoch  10\n",
      "loss : 0.1592   acc : 0.9407   miou : 0.8189\n",
      "mIoU improved from 0.8114 to 0.8189.\n"
     ]
    },
    {
     "name": "stderr",
     "output_type": "stream",
     "text": [
      "100%|██████████| 330/330 [05:31<00:00,  1.00s/it]\n"
     ]
    },
    {
     "name": "stdout",
     "output_type": "stream",
     "text": [
      "classes           IoU\n",
      "---------------------\n",
      "Pole          : 0.496\n",
      "SignSymbol    : 0.740\n",
      "Bicyclist     : 0.800\n",
      "Pedestrian    : 0.702\n",
      "Building      : 0.908\n",
      "Fence         : 0.849\n",
      "Pavement      : 0.894\n",
      "Road          : 0.971\n",
      "Car           : 0.916\n",
      "Sky           : 0.920\n",
      "Tree          : 0.871\n",
      "---------------------\n",
      "Mean IoU      : 0.824\n",
      "---------------------\n",
      "train epoch  11\n",
      "loss : 0.1520   acc : 0.9428   miou : 0.8243\n",
      "mIoU improved from 0.8189 to 0.8243.\n"
     ]
    },
    {
     "name": "stderr",
     "output_type": "stream",
     "text": [
      "100%|██████████| 330/330 [05:31<00:00,  1.00s/it]\n"
     ]
    },
    {
     "name": "stdout",
     "output_type": "stream",
     "text": [
      "classes           IoU\n",
      "---------------------\n",
      "Pole          : 0.503\n",
      "SignSymbol    : 0.748\n",
      "Bicyclist     : 0.806\n",
      "Pedestrian    : 0.708\n",
      "Building      : 0.911\n",
      "Fence         : 0.857\n",
      "Pavement      : 0.896\n",
      "Road          : 0.972\n",
      "Car           : 0.918\n",
      "Sky           : 0.921\n",
      "Tree          : 0.874\n",
      "---------------------\n",
      "Mean IoU      : 0.828\n",
      "---------------------\n",
      "train epoch  12\n",
      "loss : 0.1483   acc : 0.9442   miou : 0.8284\n",
      "mIoU improved from 0.8243 to 0.8284.\n"
     ]
    },
    {
     "name": "stderr",
     "output_type": "stream",
     "text": [
      "100%|██████████| 330/330 [05:31<00:00,  1.00s/it]\n"
     ]
    },
    {
     "name": "stdout",
     "output_type": "stream",
     "text": [
      "classes           IoU\n",
      "---------------------\n",
      "Pole          : 0.511\n",
      "SignSymbol    : 0.757\n",
      "Bicyclist     : 0.809\n",
      "Pedestrian    : 0.715\n",
      "Building      : 0.914\n",
      "Fence         : 0.863\n",
      "Pavement      : 0.902\n",
      "Road          : 0.973\n",
      "Car           : 0.920\n",
      "Sky           : 0.922\n",
      "Tree          : 0.878\n",
      "---------------------\n",
      "Mean IoU      : 0.833\n",
      "---------------------\n",
      "train epoch  13\n",
      "loss : 0.1413   acc : 0.9461   miou : 0.8331\n",
      "mIoU improved from 0.8284 to 0.8331.\n"
     ]
    },
    {
     "name": "stderr",
     "output_type": "stream",
     "text": [
      "100%|██████████| 330/330 [05:30<00:00,  1.00s/it]\n"
     ]
    },
    {
     "name": "stdout",
     "output_type": "stream",
     "text": [
      "classes           IoU\n",
      "---------------------\n",
      "Pole          : 0.520\n",
      "SignSymbol    : 0.764\n",
      "Bicyclist     : 0.812\n",
      "Pedestrian    : 0.721\n",
      "Building      : 0.918\n",
      "Fence         : 0.870\n",
      "Pavement      : 0.904\n",
      "Road          : 0.974\n",
      "Car           : 0.922\n",
      "Sky           : 0.923\n",
      "Tree          : 0.881\n",
      "---------------------\n",
      "Mean IoU      : 0.837\n",
      "---------------------\n",
      "train epoch  14\n",
      "loss : 0.1363   acc : 0.9477   miou : 0.8371\n",
      "mIoU improved from 0.8331 to 0.8371.\n"
     ]
    },
    {
     "name": "stderr",
     "output_type": "stream",
     "text": [
      "100%|██████████| 330/330 [05:30<00:00,  1.00s/it]\n"
     ]
    },
    {
     "name": "stdout",
     "output_type": "stream",
     "text": [
      "classes           IoU\n",
      "---------------------\n",
      "Pole          : 0.526\n",
      "SignSymbol    : 0.770\n",
      "Bicyclist     : 0.817\n",
      "Pedestrian    : 0.728\n",
      "Building      : 0.920\n",
      "Fence         : 0.873\n",
      "Pavement      : 0.906\n",
      "Road          : 0.975\n",
      "Car           : 0.924\n",
      "Sky           : 0.923\n",
      "Tree          : 0.884\n",
      "---------------------\n",
      "Mean IoU      : 0.841\n",
      "---------------------\n",
      "train epoch  15\n",
      "loss : 0.1325   acc : 0.9490   miou : 0.8406\n",
      "mIoU improved from 0.8371 to 0.8406.\n"
     ]
    },
    {
     "name": "stderr",
     "output_type": "stream",
     "text": [
      "100%|██████████| 330/330 [05:30<00:00,  1.00s/it]\n"
     ]
    },
    {
     "name": "stdout",
     "output_type": "stream",
     "text": [
      "classes           IoU\n",
      "---------------------\n",
      "Pole          : 0.531\n",
      "SignSymbol    : 0.773\n",
      "Bicyclist     : 0.820\n",
      "Pedestrian    : 0.731\n",
      "Building      : 0.922\n",
      "Fence         : 0.873\n",
      "Pavement      : 0.908\n",
      "Road          : 0.975\n",
      "Car           : 0.926\n",
      "Sky           : 0.924\n",
      "Tree          : 0.885\n",
      "---------------------\n",
      "Mean IoU      : 0.843\n",
      "---------------------\n",
      "train epoch  16\n",
      "loss : 0.1302   acc : 0.9497   miou : 0.8425\n",
      "mIoU improved from 0.8406 to 0.8425.\n"
     ]
    },
    {
     "name": "stderr",
     "output_type": "stream",
     "text": [
      "100%|██████████| 330/330 [05:31<00:00,  1.00s/it]\n"
     ]
    },
    {
     "name": "stdout",
     "output_type": "stream",
     "text": [
      "classes           IoU\n",
      "---------------------\n",
      "Pole          : 0.541\n",
      "SignSymbol    : 0.781\n",
      "Bicyclist     : 0.825\n",
      "Pedestrian    : 0.735\n",
      "Building      : 0.924\n",
      "Fence         : 0.880\n",
      "Pavement      : 0.911\n",
      "Road          : 0.976\n",
      "Car           : 0.928\n",
      "Sky           : 0.925\n",
      "Tree          : 0.889\n",
      "---------------------\n",
      "Mean IoU      : 0.847\n",
      "---------------------\n",
      "train epoch  17\n",
      "loss : 0.1255   acc : 0.9512   miou : 0.8468\n",
      "mIoU improved from 0.8425 to 0.8468.\n"
     ]
    },
    {
     "name": "stderr",
     "output_type": "stream",
     "text": [
      "100%|██████████| 330/330 [05:31<00:00,  1.00s/it]\n"
     ]
    },
    {
     "name": "stdout",
     "output_type": "stream",
     "text": [
      "classes           IoU\n",
      "---------------------\n",
      "Pole          : 0.543\n",
      "SignSymbol    : 0.786\n",
      "Bicyclist     : 0.826\n",
      "Pedestrian    : 0.740\n",
      "Building      : 0.926\n",
      "Fence         : 0.885\n",
      "Pavement      : 0.913\n",
      "Road          : 0.976\n",
      "Car           : 0.929\n",
      "Sky           : 0.926\n",
      "Tree          : 0.891\n",
      "---------------------\n",
      "Mean IoU      : 0.849\n",
      "---------------------\n",
      "train epoch  18\n",
      "loss : 0.1225   acc : 0.9521   miou : 0.8491\n"
     ]
    },
    {
     "name": "stderr",
     "output_type": "stream",
     "text": [
      "\r",
      "  0%|          | 0/330 [00:00<?, ?it/s]"
     ]
    },
    {
     "name": "stdout",
     "output_type": "stream",
     "text": [
      "mIoU improved from 0.8468 to 0.8491.\n"
     ]
    },
    {
     "name": "stderr",
     "output_type": "stream",
     "text": [
      "100%|██████████| 330/330 [05:31<00:00,  1.00s/it]\n"
     ]
    },
    {
     "name": "stdout",
     "output_type": "stream",
     "text": [
      "classes           IoU\n",
      "---------------------\n",
      "Pole          : 0.549\n",
      "SignSymbol    : 0.790\n",
      "Bicyclist     : 0.829\n",
      "Pedestrian    : 0.744\n",
      "Building      : 0.927\n",
      "Fence         : 0.888\n",
      "Pavement      : 0.914\n",
      "Road          : 0.976\n",
      "Car           : 0.930\n",
      "Sky           : 0.927\n",
      "Tree          : 0.892\n",
      "---------------------\n",
      "Mean IoU      : 0.852\n",
      "---------------------\n",
      "train epoch  19\n",
      "loss : 0.1194   acc : 0.9528   miou : 0.8515\n",
      "mIoU improved from 0.8491 to 0.8515.\n"
     ]
    },
    {
     "name": "stderr",
     "output_type": "stream",
     "text": [
      "100%|██████████| 330/330 [05:31<00:00,  1.00s/it]\n"
     ]
    },
    {
     "name": "stdout",
     "output_type": "stream",
     "text": [
      "classes           IoU\n",
      "---------------------\n",
      "Pole          : 0.553\n",
      "SignSymbol    : 0.794\n",
      "Bicyclist     : 0.833\n",
      "Pedestrian    : 0.748\n",
      "Building      : 0.929\n",
      "Fence         : 0.889\n",
      "Pavement      : 0.917\n",
      "Road          : 0.977\n",
      "Car           : 0.931\n",
      "Sky           : 0.927\n",
      "Tree          : 0.894\n",
      "---------------------\n",
      "Mean IoU      : 0.854\n",
      "---------------------\n",
      "train epoch  20\n",
      "loss : 0.1176   acc : 0.9537   miou : 0.8539\n",
      "mIoU improved from 0.8515 to 0.8539.\n"
     ]
    },
    {
     "name": "stderr",
     "output_type": "stream",
     "text": [
      "100%|██████████| 330/330 [05:31<00:00,  1.00s/it]\n"
     ]
    },
    {
     "name": "stdout",
     "output_type": "stream",
     "text": [
      "classes           IoU\n",
      "---------------------\n",
      "Pole          : 0.560\n",
      "SignSymbol    : 0.799\n",
      "Bicyclist     : 0.833\n",
      "Pedestrian    : 0.750\n",
      "Building      : 0.931\n",
      "Fence         : 0.892\n",
      "Pavement      : 0.918\n",
      "Road          : 0.977\n",
      "Car           : 0.933\n",
      "Sky           : 0.927\n",
      "Tree          : 0.895\n",
      "---------------------\n",
      "Mean IoU      : 0.856\n",
      "---------------------\n",
      "train epoch  21\n",
      "loss : 0.1147   acc : 0.9543   miou : 0.8559\n"
     ]
    },
    {
     "name": "stderr",
     "output_type": "stream",
     "text": [
      "\r",
      "  0%|          | 0/330 [00:00<?, ?it/s]"
     ]
    },
    {
     "name": "stdout",
     "output_type": "stream",
     "text": [
      "mIoU improved from 0.8539 to 0.8559.\n"
     ]
    },
    {
     "name": "stderr",
     "output_type": "stream",
     "text": [
      "100%|██████████| 330/330 [05:31<00:00,  1.00s/it]\n"
     ]
    },
    {
     "name": "stdout",
     "output_type": "stream",
     "text": [
      "classes           IoU\n",
      "---------------------\n",
      "Pole          : 0.562\n",
      "SignSymbol    : 0.801\n",
      "Bicyclist     : 0.837\n",
      "Pedestrian    : 0.756\n",
      "Building      : 0.932\n",
      "Fence         : 0.896\n",
      "Pavement      : 0.919\n",
      "Road          : 0.978\n",
      "Car           : 0.933\n",
      "Sky           : 0.928\n",
      "Tree          : 0.898\n",
      "---------------------\n",
      "Mean IoU      : 0.858\n",
      "---------------------\n",
      "train epoch  22\n",
      "loss : 0.1127   acc : 0.9552   miou : 0.8582\n",
      "mIoU improved from 0.8559 to 0.8582.\n"
     ]
    },
    {
     "name": "stderr",
     "output_type": "stream",
     "text": [
      "100%|██████████| 330/330 [05:31<00:00,  1.00s/it]\n"
     ]
    },
    {
     "name": "stdout",
     "output_type": "stream",
     "text": [
      "classes           IoU\n",
      "---------------------\n",
      "Pole          : 0.565\n",
      "SignSymbol    : 0.804\n",
      "Bicyclist     : 0.838\n",
      "Pedestrian    : 0.758\n",
      "Building      : 0.933\n",
      "Fence         : 0.894\n",
      "Pavement      : 0.921\n",
      "Road          : 0.978\n",
      "Car           : 0.934\n",
      "Sky           : 0.929\n",
      "Tree          : 0.899\n",
      "---------------------\n",
      "Mean IoU      : 0.859\n",
      "---------------------\n",
      "train epoch  23\n",
      "loss : 0.1111   acc : 0.9559   miou : 0.8595\n",
      "mIoU improved from 0.8582 to 0.8595.\n"
     ]
    },
    {
     "name": "stderr",
     "output_type": "stream",
     "text": [
      "100%|██████████| 330/330 [05:31<00:00,  1.00s/it]\n"
     ]
    },
    {
     "name": "stdout",
     "output_type": "stream",
     "text": [
      "classes           IoU\n",
      "---------------------\n",
      "Pole          : 0.569\n",
      "SignSymbol    : 0.807\n",
      "Bicyclist     : 0.840\n",
      "Pedestrian    : 0.761\n",
      "Building      : 0.934\n",
      "Fence         : 0.898\n",
      "Pavement      : 0.923\n",
      "Road          : 0.978\n",
      "Car           : 0.936\n",
      "Sky           : 0.930\n",
      "Tree          : 0.901\n",
      "---------------------\n",
      "Mean IoU      : 0.861\n",
      "---------------------\n",
      "train epoch  24\n",
      "loss : 0.1087   acc : 0.9566   miou : 0.8615\n",
      "mIoU improved from 0.8595 to 0.8615.\n"
     ]
    },
    {
     "name": "stderr",
     "output_type": "stream",
     "text": [
      "100%|██████████| 330/330 [05:31<00:00,  1.00s/it]\n"
     ]
    },
    {
     "name": "stdout",
     "output_type": "stream",
     "text": [
      "classes           IoU\n",
      "---------------------\n",
      "Pole          : 0.574\n",
      "SignSymbol    : 0.812\n",
      "Bicyclist     : 0.842\n",
      "Pedestrian    : 0.765\n",
      "Building      : 0.936\n",
      "Fence         : 0.901\n",
      "Pavement      : 0.923\n",
      "Road          : 0.979\n",
      "Car           : 0.937\n",
      "Sky           : 0.930\n",
      "Tree          : 0.903\n",
      "---------------------\n",
      "Mean IoU      : 0.864\n",
      "---------------------\n",
      "train epoch  25\n",
      "loss : 0.1068   acc : 0.9572   miou : 0.8636\n",
      "mIoU improved from 0.8615 to 0.8636.\n"
     ]
    },
    {
     "name": "stderr",
     "output_type": "stream",
     "text": [
      "100%|██████████| 330/330 [05:31<00:00,  1.00s/it]\n"
     ]
    },
    {
     "name": "stdout",
     "output_type": "stream",
     "text": [
      "classes           IoU\n",
      "---------------------\n",
      "Pole          : 0.578\n",
      "SignSymbol    : 0.814\n",
      "Bicyclist     : 0.842\n",
      "Pedestrian    : 0.765\n",
      "Building      : 0.936\n",
      "Fence         : 0.904\n",
      "Pavement      : 0.925\n",
      "Road          : 0.979\n",
      "Car           : 0.937\n",
      "Sky           : 0.931\n",
      "Tree          : 0.903\n",
      "---------------------\n",
      "Mean IoU      : 0.865\n",
      "---------------------\n",
      "train epoch  26\n",
      "loss : 0.1051   acc : 0.9577   miou : 0.8649\n",
      "mIoU improved from 0.8636 to 0.8649.\n"
     ]
    },
    {
     "name": "stderr",
     "output_type": "stream",
     "text": [
      "100%|██████████| 330/330 [05:31<00:00,  1.00s/it]\n"
     ]
    },
    {
     "name": "stdout",
     "output_type": "stream",
     "text": [
      "classes           IoU\n",
      "---------------------\n",
      "Pole          : 0.581\n",
      "SignSymbol    : 0.818\n",
      "Bicyclist     : 0.846\n",
      "Pedestrian    : 0.768\n",
      "Building      : 0.938\n",
      "Fence         : 0.904\n",
      "Pavement      : 0.926\n",
      "Road          : 0.979\n",
      "Car           : 0.938\n",
      "Sky           : 0.931\n",
      "Tree          : 0.905\n",
      "---------------------\n",
      "Mean IoU      : 0.867\n",
      "---------------------\n",
      "train epoch  27\n",
      "loss : 0.1036   acc : 0.9584   miou : 0.8668\n",
      "mIoU improved from 0.8649 to 0.8668.\n"
     ]
    },
    {
     "name": "stderr",
     "output_type": "stream",
     "text": [
      "100%|██████████| 330/330 [05:31<00:00,  1.00s/it]\n"
     ]
    },
    {
     "name": "stdout",
     "output_type": "stream",
     "text": [
      "classes           IoU\n",
      "---------------------\n",
      "Pole          : 0.583\n",
      "SignSymbol    : 0.819\n",
      "Bicyclist     : 0.847\n",
      "Pedestrian    : 0.770\n",
      "Building      : 0.939\n",
      "Fence         : 0.905\n",
      "Pavement      : 0.927\n",
      "Road          : 0.979\n",
      "Car           : 0.940\n",
      "Sky           : 0.931\n",
      "Tree          : 0.906\n",
      "---------------------\n",
      "Mean IoU      : 0.868\n",
      "---------------------\n",
      "train epoch  28\n",
      "loss : 0.1023   acc : 0.9587   miou : 0.8679\n",
      "mIoU improved from 0.8668 to 0.8679.\n"
     ]
    },
    {
     "name": "stderr",
     "output_type": "stream",
     "text": [
      "100%|██████████| 330/330 [05:31<00:00,  1.00s/it]\n"
     ]
    },
    {
     "name": "stdout",
     "output_type": "stream",
     "text": [
      "classes           IoU\n",
      "---------------------\n",
      "Pole          : 0.585\n",
      "SignSymbol    : 0.822\n",
      "Bicyclist     : 0.848\n",
      "Pedestrian    : 0.772\n",
      "Building      : 0.939\n",
      "Fence         : 0.908\n",
      "Pavement      : 0.928\n",
      "Road          : 0.980\n",
      "Car           : 0.940\n",
      "Sky           : 0.932\n",
      "Tree          : 0.906\n",
      "---------------------\n",
      "Mean IoU      : 0.869\n",
      "---------------------\n",
      "train epoch  29\n",
      "loss : 0.1010   acc : 0.9592   miou : 0.8691\n",
      "mIoU improved from 0.8679 to 0.8691.\n"
     ]
    },
    {
     "name": "stderr",
     "output_type": "stream",
     "text": [
      "100%|██████████| 330/330 [05:31<00:00,  1.00s/it]\n"
     ]
    },
    {
     "name": "stdout",
     "output_type": "stream",
     "text": [
      "classes           IoU\n",
      "---------------------\n",
      "Pole          : 0.589\n",
      "SignSymbol    : 0.825\n",
      "Bicyclist     : 0.851\n",
      "Pedestrian    : 0.774\n",
      "Building      : 0.940\n",
      "Fence         : 0.907\n",
      "Pavement      : 0.929\n",
      "Road          : 0.980\n",
      "Car           : 0.940\n",
      "Sky           : 0.931\n",
      "Tree          : 0.908\n",
      "---------------------\n",
      "Mean IoU      : 0.870\n",
      "---------------------\n",
      "train epoch  30\n",
      "loss : 0.0998   acc : 0.9595   miou : 0.8704\n",
      "mIoU improved from 0.8691 to 0.8704.\n"
     ]
    },
    {
     "name": "stderr",
     "output_type": "stream",
     "text": [
      "100%|██████████| 330/330 [05:31<00:00,  1.00s/it]\n"
     ]
    },
    {
     "name": "stdout",
     "output_type": "stream",
     "text": [
      "classes           IoU\n",
      "---------------------\n",
      "Pole          : 0.592\n",
      "SignSymbol    : 0.827\n",
      "Bicyclist     : 0.853\n",
      "Pedestrian    : 0.775\n",
      "Building      : 0.941\n",
      "Fence         : 0.909\n",
      "Pavement      : 0.930\n",
      "Road          : 0.980\n",
      "Car           : 0.942\n",
      "Sky           : 0.932\n",
      "Tree          : 0.909\n",
      "---------------------\n",
      "Mean IoU      : 0.872\n",
      "---------------------\n",
      "train epoch  31\n",
      "loss : 0.0987   acc : 0.9602   miou : 0.8718\n",
      "mIoU improved from 0.8704 to 0.8718.\n"
     ]
    },
    {
     "name": "stderr",
     "output_type": "stream",
     "text": [
      "100%|██████████| 330/330 [05:31<00:00,  1.00s/it]\n"
     ]
    },
    {
     "name": "stdout",
     "output_type": "stream",
     "text": [
      "classes           IoU\n",
      "---------------------\n",
      "Pole          : 0.593\n",
      "SignSymbol    : 0.828\n",
      "Bicyclist     : 0.853\n",
      "Pedestrian    : 0.778\n",
      "Building      : 0.942\n",
      "Fence         : 0.910\n",
      "Pavement      : 0.931\n",
      "Road          : 0.980\n",
      "Car           : 0.942\n",
      "Sky           : 0.932\n",
      "Tree          : 0.911\n",
      "---------------------\n",
      "Mean IoU      : 0.873\n",
      "---------------------\n",
      "train epoch  32\n",
      "loss : 0.0967   acc : 0.9606   miou : 0.8728\n",
      "mIoU improved from 0.8718 to 0.8728.\n"
     ]
    },
    {
     "name": "stderr",
     "output_type": "stream",
     "text": [
      "100%|██████████| 330/330 [05:31<00:00,  1.00s/it]\n"
     ]
    },
    {
     "name": "stdout",
     "output_type": "stream",
     "text": [
      "classes           IoU\n",
      "---------------------\n",
      "Pole          : 0.596\n",
      "SignSymbol    : 0.831\n",
      "Bicyclist     : 0.855\n",
      "Pedestrian    : 0.781\n",
      "Building      : 0.943\n",
      "Fence         : 0.912\n",
      "Pavement      : 0.931\n",
      "Road          : 0.981\n",
      "Car           : 0.943\n",
      "Sky           : 0.933\n",
      "Tree          : 0.911\n",
      "---------------------\n",
      "Mean IoU      : 0.874\n",
      "---------------------\n",
      "train epoch  33\n",
      "loss : 0.0958   acc : 0.9609   miou : 0.8744\n",
      "mIoU improved from 0.8728 to 0.8744.\n"
     ]
    },
    {
     "name": "stderr",
     "output_type": "stream",
     "text": [
      "100%|██████████| 330/330 [05:31<00:00,  1.00s/it]\n"
     ]
    },
    {
     "name": "stdout",
     "output_type": "stream",
     "text": [
      "classes           IoU\n",
      "---------------------\n",
      "Pole          : 0.599\n",
      "SignSymbol    : 0.832\n",
      "Bicyclist     : 0.856\n",
      "Pedestrian    : 0.781\n",
      "Building      : 0.943\n",
      "Fence         : 0.914\n",
      "Pavement      : 0.932\n",
      "Road          : 0.981\n",
      "Car           : 0.943\n",
      "Sky           : 0.933\n",
      "Tree          : 0.911\n",
      "---------------------\n",
      "Mean IoU      : 0.875\n",
      "---------------------\n",
      "train epoch  34\n",
      "loss : 0.0953   acc : 0.9611   miou : 0.8750\n",
      "mIoU improved from 0.8744 to 0.8750.\n"
     ]
    },
    {
     "name": "stderr",
     "output_type": "stream",
     "text": [
      "100%|██████████| 330/330 [05:31<00:00,  1.00s/it]\n"
     ]
    },
    {
     "name": "stdout",
     "output_type": "stream",
     "text": [
      "classes           IoU\n",
      "---------------------\n",
      "Pole          : 0.602\n",
      "SignSymbol    : 0.835\n",
      "Bicyclist     : 0.857\n",
      "Pedestrian    : 0.785\n",
      "Building      : 0.944\n",
      "Fence         : 0.915\n",
      "Pavement      : 0.932\n",
      "Road          : 0.981\n",
      "Car           : 0.944\n",
      "Sky           : 0.933\n",
      "Tree          : 0.912\n",
      "---------------------\n",
      "Mean IoU      : 0.876\n",
      "---------------------\n",
      "train epoch  35\n",
      "loss : 0.0937   acc : 0.9616   miou : 0.8765\n",
      "mIoU improved from 0.8750 to 0.8765.\n"
     ]
    },
    {
     "name": "stderr",
     "output_type": "stream",
     "text": [
      "100%|██████████| 330/330 [05:31<00:00,  1.00s/it]\n"
     ]
    },
    {
     "name": "stdout",
     "output_type": "stream",
     "text": [
      "classes           IoU\n",
      "---------------------\n",
      "Pole          : 0.604\n",
      "SignSymbol    : 0.836\n",
      "Bicyclist     : 0.859\n",
      "Pedestrian    : 0.785\n",
      "Building      : 0.944\n",
      "Fence         : 0.917\n",
      "Pavement      : 0.934\n",
      "Road          : 0.981\n",
      "Car           : 0.945\n",
      "Sky           : 0.933\n",
      "Tree          : 0.914\n",
      "---------------------\n",
      "Mean IoU      : 0.878\n",
      "---------------------\n",
      "train epoch  36\n",
      "loss : 0.0922   acc : 0.9621   miou : 0.8776\n",
      "mIoU improved from 0.8765 to 0.8776.\n"
     ]
    },
    {
     "name": "stderr",
     "output_type": "stream",
     "text": [
      "100%|██████████| 330/330 [05:31<00:00,  1.00s/it]\n"
     ]
    },
    {
     "name": "stdout",
     "output_type": "stream",
     "text": [
      "classes           IoU\n",
      "---------------------\n",
      "Pole          : 0.607\n",
      "SignSymbol    : 0.839\n",
      "Bicyclist     : 0.859\n",
      "Pedestrian    : 0.787\n",
      "Building      : 0.945\n",
      "Fence         : 0.917\n",
      "Pavement      : 0.934\n",
      "Road          : 0.981\n",
      "Car           : 0.945\n",
      "Sky           : 0.934\n",
      "Tree          : 0.914\n",
      "---------------------\n",
      "Mean IoU      : 0.878\n",
      "---------------------\n",
      "train epoch  37\n",
      "loss : 0.0918   acc : 0.9624   miou : 0.8785\n",
      "mIoU improved from 0.8776 to 0.8785.\n"
     ]
    },
    {
     "name": "stderr",
     "output_type": "stream",
     "text": [
      "100%|██████████| 330/330 [05:31<00:00,  1.00s/it]\n"
     ]
    },
    {
     "name": "stdout",
     "output_type": "stream",
     "text": [
      "classes           IoU\n",
      "---------------------\n",
      "Pole          : 0.609\n",
      "SignSymbol    : 0.841\n",
      "Bicyclist     : 0.860\n",
      "Pedestrian    : 0.790\n",
      "Building      : 0.946\n",
      "Fence         : 0.918\n",
      "Pavement      : 0.935\n",
      "Road          : 0.982\n",
      "Car           : 0.946\n",
      "Sky           : 0.934\n",
      "Tree          : 0.915\n",
      "---------------------\n",
      "Mean IoU      : 0.880\n",
      "---------------------\n",
      "train epoch  38\n",
      "loss : 0.0901   acc : 0.9627   miou : 0.8796\n",
      "mIoU improved from 0.8785 to 0.8796.\n"
     ]
    },
    {
     "name": "stderr",
     "output_type": "stream",
     "text": [
      "100%|██████████| 330/330 [05:31<00:00,  1.00s/it]\n"
     ]
    },
    {
     "name": "stdout",
     "output_type": "stream",
     "text": [
      "classes           IoU\n",
      "---------------------\n",
      "Pole          : 0.611\n",
      "SignSymbol    : 0.842\n",
      "Bicyclist     : 0.861\n",
      "Pedestrian    : 0.790\n",
      "Building      : 0.947\n",
      "Fence         : 0.921\n",
      "Pavement      : 0.936\n",
      "Road          : 0.982\n",
      "Car           : 0.946\n",
      "Sky           : 0.935\n",
      "Tree          : 0.917\n",
      "---------------------\n",
      "Mean IoU      : 0.881\n",
      "---------------------\n",
      "train epoch  39\n",
      "loss : 0.0895   acc : 0.9632   miou : 0.8807\n",
      "mIoU improved from 0.8796 to 0.8807.\n"
     ]
    },
    {
     "name": "stderr",
     "output_type": "stream",
     "text": [
      "100%|██████████| 330/330 [05:31<00:00,  1.00s/it]\n"
     ]
    },
    {
     "name": "stdout",
     "output_type": "stream",
     "text": [
      "classes           IoU\n",
      "---------------------\n",
      "Pole          : 0.613\n",
      "SignSymbol    : 0.844\n",
      "Bicyclist     : 0.863\n",
      "Pedestrian    : 0.792\n",
      "Building      : 0.947\n",
      "Fence         : 0.921\n",
      "Pavement      : 0.937\n",
      "Road          : 0.982\n",
      "Car           : 0.947\n",
      "Sky           : 0.934\n",
      "Tree          : 0.917\n",
      "---------------------\n",
      "Mean IoU      : 0.881\n",
      "---------------------\n",
      "train epoch  40\n",
      "loss : 0.0885   acc : 0.9633   miou : 0.8814\n",
      "mIoU improved from 0.8807 to 0.8814.\n"
     ]
    }
   ],
   "source": [
    "for epoch in range(num_epoch):\n",
    "\n",
    "    loss_running = AverageMeter('Loss', ':.4e')\n",
    "    acc_running = AverageMeter('Accuracy', ':.3f')  \n",
    "    iou = iouCalc(classLabels, validClasses, voidClass = 11)\n",
    "    progress = ProgressMeter(\n",
    "        len(train_data),\n",
    "        [loss_running, acc_running],\n",
    "        prefix=\"Train, epoch: [{}]\".format(epoch))\n",
    "    \n",
    "    for batch, (x, y) in enumerate(tqdm(train_data, total=len(train_data))):\n",
    "        \n",
    "        model.train()    \n",
    "    \n",
    "        x = x.to(device)\n",
    "        y = y.to(device)\n",
    "        # zero the parameter gradients\n",
    "        optimizer.zero_grad()\n",
    "        # forward pass\n",
    "        outputs = model(x)\n",
    "        outputs = outputs['out']\n",
    "        preds = torch.argmax(outputs, 1)\n",
    "        \n",
    "        # cross-entropy loss\n",
    "        loss = criterion(outputs, y)\n",
    "\n",
    "        # backward pass\n",
    "        loss.backward()\n",
    "        optimizer.step()\n",
    "        \n",
    "        # Statistics\n",
    "        bs = x.size(0)\n",
    "        loss = loss.item()\n",
    "        loss_running.update(loss, bs)\n",
    "        corrects = torch.sum((preds == y) & (y != 12))\n",
    "        \n",
    "        nvoid = int((y==12).sum())\n",
    "        acc = corrects.double()/(bs*res-nvoid)\n",
    "        acc_running.update(acc, bs)\n",
    "        \n",
    "        # Calculate IoU scores of current batch\n",
    "        iou.evaluateBatch(preds, y)\n",
    "        \n",
    "        # progress.display(batch)\n",
    "        \n",
    "     \n",
    "    scheduler.step(loss_running.avg)\n",
    "    miou = iou.outputScores()\n",
    "    \n",
    "    print('train epoch ', epoch+1)\n",
    "    print('loss : {:.4f}   acc : {:.4f}   miou : {:.4f}'.format(loss_running.avg, acc_running.avg, miou))\n",
    "    \n",
    "    # save checkpoint per epoch\n",
    "    now = datetime.datetime.now()\n",
    "    now_time = now.strftime('%y%m%d_%H:%M')\n",
    "    \n",
    "    # save path\n",
    "    if not os.path.isdir(os.getcwd() + '/result'):\n",
    "        os.makedirs(os.getcwd() + '/result')\n",
    "    \n",
    "    save_path = os.getcwd() + '/result/'\n",
    "    \n",
    "    with open(save_path + '05_resnet50_log_epoch.csv', 'a') as epoch_log:\n",
    "            epoch_log.write('{}, {:.5f}, {:.5f}, {:.5f}\\n'.format(\n",
    "                    epoch+1, loss_running.avg, acc_running.avg, miou))\n",
    "    \n",
    "    # Save best model to file\n",
    "    torch.save({\n",
    "        'epoch' : epoch,\n",
    "        'model_state_dict' : model.state_dict(),\n",
    "        'optimizer_state_dict': optimizer.state_dict(),\n",
    "        'best_miou': best_miou,\n",
    "        'metrics': metrics,\n",
    "        }, save_path + now_time + '_checkpoint.pth.tar')\n",
    "    \n",
    "    # Save best model to file\n",
    "    if miou > best_miou:\n",
    "        print('mIoU improved from {:.4f} to {:.4f}.'.format(best_miou, miou))\n",
    "        best_miou = miou\n",
    "        torch.save({\n",
    "            'epoch': epoch,\n",
    "            'model_state_dict': model.state_dict(),\n",
    "            }, save_path + now_time + '_best_weights.pth.tar')\n"
   ]
  },
  {
   "cell_type": "markdown",
   "id": "99899f98",
   "metadata": {},
   "source": [
    "### test"
   ]
  },
  {
   "cell_type": "code",
   "execution_count": 28,
   "id": "cf16deac",
   "metadata": {},
   "outputs": [],
   "source": [
    "X = torch.tensor(test_x, dtype=torch.float32)\n",
    "Y = torch.tensor(test_y, dtype=torch.long)\n",
    "\n",
    "data = torch.utils.data.TensorDataset(X.permute(dims=(0, 3, 1, 2)), Y)\n",
    "\n",
    "test_data = torch.utils.data.DataLoader(data, batch_size=1, shuffle=True)"
   ]
  },
  {
   "cell_type": "code",
   "execution_count": 29,
   "id": "5b47707c",
   "metadata": {
    "scrolled": true
   },
   "outputs": [],
   "source": [
    "# Load best model\n",
    "\n",
    "# save path\n",
    "if not os.path.isdir(os.getcwd() + '/result'):\n",
    "    os.makedirs(os.getcwd() + '/result')\n",
    "\n",
    "save_path = os.getcwd() + '/result/'\n",
    "result = sorted(os.listdir(save_path), reverse=True)"
   ]
  },
  {
   "cell_type": "code",
   "execution_count": 30,
   "id": "d1213154",
   "metadata": {},
   "outputs": [
    {
     "name": "stdout",
     "output_type": "stream",
     "text": [
      "Loaded best model weights (epoch 39) from /home/ag/Capstone2/TEST/result/210604_20:56_best_weights.pth.tar\n"
     ]
    }
   ],
   "source": [
    "checkpoint = torch.load(save_path + result[1]) # 가장 최신 best_weights 파일 가져옴\n",
    "model.load_state_dict(checkpoint['model_state_dict'], strict=True)\n",
    "print('Loaded best model weights (epoch {}) from {}'.format(checkpoint['epoch'], save_path + result[1]))"
   ]
  },
  {
   "cell_type": "code",
   "execution_count": 31,
   "id": "b3ff5133",
   "metadata": {},
   "outputs": [
    {
     "name": "stderr",
     "output_type": "stream",
     "text": [
      "100%|██████████| 141/141 [00:14<00:00,  9.43it/s]"
     ]
    },
    {
     "name": "stdout",
     "output_type": "stream",
     "text": [
      "classes           IoU\n",
      "---------------------\n",
      "Pole          : 0.492\n",
      "SignSymbol    : 0.657\n",
      "Bicyclist     : 0.799\n",
      "Pedestrian    : 0.696\n",
      "Building      : 0.918\n",
      "Fence         : 0.772\n",
      "Pavement      : 0.865\n",
      "Road          : 0.971\n",
      "Car           : 0.902\n",
      "Sky           : 0.929\n",
      "Tree          : 0.848\n",
      "---------------------\n",
      "Mean IoU      : 0.804\n",
      "---------------------\n",
      "loss : 0.4920 acc : 0.9365 miou : 0.8043\n"
     ]
    },
    {
     "name": "stderr",
     "output_type": "stream",
     "text": [
      "\n"
     ]
    }
   ],
   "source": [
    "batch_time = AverageMeter('Time', ':6.3f')\n",
    "data_time = AverageMeter('Data', ':6.3f')\n",
    "loss_running = AverageMeter('Loss', ':.4e')\n",
    "acc_running = AverageMeter('Accuracy', ':.3f')  \n",
    "iou = iouCalc(classLabels, validClasses, voidClass = 11)\n",
    "progress = ProgressMeter(\n",
    "    len(test_data),\n",
    "    [batch_time, data_time],\n",
    "    prefix='Predict: ')\n",
    "\n",
    "model.eval()\n",
    "\n",
    "batch_loss = 0.0\n",
    "for batch, (x, y) in enumerate(tqdm(test_data, total=len(test_data))):\n",
    "\n",
    "    x = x.to(device)\n",
    "    y = y.to(device)\n",
    "\n",
    "    # forward\n",
    "    outputs = model(x)\n",
    "    outputs = outputs['out']\n",
    "\n",
    "    preds = torch.argmax(outputs, 1)\n",
    "\n",
    "    # cross-entropy loss\n",
    "    loss = criterion(outputs, y)\n",
    "\n",
    "    # Statistics\n",
    "    bs = x.size(0)\n",
    "    loss = loss.item()\n",
    "    loss_running.update(loss, bs)\n",
    "    corrects = torch.sum((preds == y) & (y != 12))\n",
    "\n",
    "    nvoid = int((y==12).sum())\n",
    "    acc = corrects.double()/(bs*res-nvoid)\n",
    "    acc_running.update(acc, bs)\n",
    "\n",
    "    # Calculate IoU scores of current batch\n",
    "    iou.evaluateBatch(preds, y)\n",
    "\n",
    "miou = iou.outputScores()\n",
    "scheduler.step(loss_running.avg)\n",
    "\n",
    "print('loss : {:.4f} acc : {:.4f} miou : {:.4f}'.format(loss_running.avg, acc_running.avg, miou))"
   ]
  },
  {
   "cell_type": "markdown",
   "id": "088bcc4e",
   "metadata": {},
   "source": [
    "### visualization"
   ]
  },
  {
   "cell_type": "code",
   "execution_count": 22,
   "id": "1376681e",
   "metadata": {},
   "outputs": [],
   "source": [
    "import pandas as pd\n",
    "log_epoch = pd.read_csv('result/05_resnet50_log_epoch.csv',\n",
    "                       names = ['epoch', 'loss', 'accuracy', 'miou'])"
   ]
  },
  {
   "cell_type": "code",
   "execution_count": 27,
   "id": "5ccd7875",
   "metadata": {},
   "outputs": [
    {
     "data": {
      "image/png": "[encoded data removed]",
      "text/plain": [
       "<Figure size 720x360 with 1 Axes>"
      ]
     },
     "metadata": {
      "needs_background": "light"
     },
     "output_type": "display_data"
    }
   ],
   "source": [
    "import matplotlib.pyplot as plt\n",
    "plt.figure(figsize=(10, 5))\n",
    "plt.plot(log_epoch['epoch'], log_epoch['miou'], label = 'miou')\n",
    "plt.plot(log_epoch['epoch'], log_epoch['accuracy'], label = 'accuracy')\n",
    "plt.plot(log_epoch['epoch'], log_epoch['loss'], label = 'loss')\n",
    "plt.xticks([i for i in range(1, log_epoch.shape[0]+1)])\n",
    "plt.title(\"DeepLab V3 resnet50\")\n",
    "plt.xlabel(\"epoch\")\n",
    "plt.ylabel(\"\")\n",
    "plt.legend()\n",
    "plt.show()"
   ]
  },
  {
   "cell_type": "code",
   "execution_count": null,
   "id": "f6a512f1",
   "metadata": {},
   "outputs": [],
   "source": []
  },
  {
   "cell_type": "code",
   "execution_count": 33,
   "id": "fd399f9b",
   "metadata": {},
   "outputs": [],
   "source": [
    "train_X = torch.tensor(train_x[:int(train_x.shape[0]*0.875)], dtype=torch.float32)\n",
    "train_Y = torch.tensor(train_y[:int(train_y.shape[0]*0.875)], dtype=torch.long)\n",
    "\n",
    "train_data = torch.utils.data.TensorDataset(train_X.permute(dims=(0, 3, 1, 2)), train_Y)\n",
    "\n",
    "train_data = torch.utils.data.DataLoader(train_data, batch_size=2, shuffle=True)"
   ]
  },
  {
   "cell_type": "code",
   "execution_count": null,
   "id": "4cef1cdb",
   "metadata": {},
   "outputs": [],
   "source": [
    "val_X = torch.tensor(train_x[int(train_x.shape[0]*0.875):], dtype=torch.float32)\n",
    "val_Y = torch.tensor(train_y[int(train_x.shape[0]*0.875):], dtype=torch.long)\n",
    "\n",
    "val_data = torch.utils.data.TensorDataset(val_X.permute(dims=(0, 3, 1, 2)), val_Y)\n",
    "\n",
    "val_data = torch.utils.data.DataLoader(val_data, batch_size=2, shuffle=False)"
   ]
  },
  {
   "cell_type": "code",
   "execution_count": null,
   "id": "a16ec38e",
   "metadata": {},
   "outputs": [],
   "source": [
    "# validataion\n",
    "model.eval()\n",
    "\n",
    "loss_running = AverageMeter('Loss', ':.4e')\n",
    "acc_running = AverageMeter('Accuracy', ':.3f')\n",
    "iou = iouCalc(classLabels, validClasses, voidClass = 11)\n",
    "\n",
    "batch_loss = 0.0\n",
    "for batch, (x, y) in enumerate(tqdm(val_data, total=len(val_data))):\n",
    "\n",
    "    x = x.to(device)\n",
    "    y = y.to(device)\n",
    "\n",
    "    # forward\n",
    "    outputs = model(x)\n",
    "    outputs = outputs['out']\n",
    "\n",
    "    preds = torch.argmax(outputs, 1)\n",
    "\n",
    "    # cross-entropy loss\n",
    "    loss = criterion(outputs, y)\n",
    "\n",
    "    # Statistics\n",
    "    bs = x.size(0)\n",
    "    loss = loss.item()\n",
    "    loss_running.update(loss, bs)\n",
    "    corrects = torch.sum((preds == y) & (y != 12))\n",
    "\n",
    "    nvoid = int((y==12).sum())\n",
    "    acc = corrects.double()/(bs*res-nvoid)\n",
    "    acc_running.update(acc, bs)\n",
    "\n",
    "    # Calculate IoU scores of current batch\n",
    "    iou.evaluateBatch(preds, y)\n",
    "\n",
    "miou = iou.outputScores()\n",
    "\n",
    "# Reduce learning rate\n",
    "scheduler.step(loss_running.avg) \n",
    "\n",
    "print('validataion')\n",
    "print('loss : {:.4f}   acc : {:.4f}   miou : {:.4f}'.format(loss_running.avg, acc_running.avg, miou))"
   ]
  }
 ],
 "metadata": {
  "kernelspec": {
   "display_name": "venv_cap",
   "language": "python",
   "name": "venv_cap"
  },
  "language_info": {
   "codemirror_mode": {
    "name": "ipython",
    "version": 3
   },
   "file_extension": ".py",
   "mimetype": "text/x-python",
   "name": "python",
   "nbconvert_exporter": "python",
   "pygments_lexer": "ipython3",
   "version": "3.7.5"
  }
 },
 "nbformat": 4,
 "nbformat_minor": 5
}
