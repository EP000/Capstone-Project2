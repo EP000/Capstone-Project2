{
 "cells": [
  {
   "cell_type": "code",
   "execution_count": 1,
   "id": "2f2a6992",
   "metadata": {
    "scrolled": true
   },
   "outputs": [],
   "source": [
    "import os\n",
    "import time\n",
    "import datetime\n",
    "import numpy as np\n",
    "import warnings\n",
    "import random\n",
    "from PIL import Image\n",
    "from tqdm import tqdm\n",
    "\n",
    "from labels import labels"
   ]
  },
  {
   "cell_type": "code",
   "execution_count": 2,
   "id": "5811de7a",
   "metadata": {},
   "outputs": [],
   "source": [
    "# 데이터 경로\n",
    "#  os.getcwd() :'/home/ag/Capstone2/DeepLab_V3_ver1'\n",
    "origin_data_path = os.getcwd() + '/data/Original_data/'\n",
    "labeled_data_path = os.getcwd() + '/data/Labeled_data/'\n",
    "\n",
    "origin_data_list = os.listdir(origin_data_path) # x\n",
    "labeled_data_list = os.listdir(labeled_data_path) # y\n",
    "\n",
    "# 파일명 랜덤\n",
    "random.shuffle(origin_data_list)\n",
    "random.shuffle(labeled_data_list)\n",
    "\n",
    "# train, test / x, y \n",
    "train_x_file = origin_data_list[:int(len(origin_data_list)*0.8)]\n",
    "train_y_file = [file_name[:-4] + '_L.png' for file_name in train_x_file]\n",
    "\n",
    "test_x_file = [file_name for file_name in origin_data_list if file_name not in train_x_file]\n",
    "test_y_file = [file_name[:-4] + '_L.png' for file_name in test_x_file]"
   ]
  },
  {
   "cell_type": "code",
   "execution_count": 3,
   "id": "ca295aa2",
   "metadata": {},
   "outputs": [
    {
     "name": "stdout",
     "output_type": "stream",
     "text": [
      "560 141 560 141\n"
     ]
    }
   ],
   "source": [
    "print(len(train_x_file), len(test_x_file), len(train_y_file), len(test_y_file))"
   ]
  },
  {
   "cell_type": "code",
   "execution_count": 4,
   "id": "a2b80b82",
   "metadata": {},
   "outputs": [
    {
     "name": "stdout",
     "output_type": "stream",
     "text": [
      "Seq05VD_f02220.png 0016E5_08107.png Seq05VD_f02220_L.png 0016E5_08107_L.png\n"
     ]
    }
   ],
   "source": [
    "print(train_x_file[0], test_x_file[0], train_y_file[0], test_y_file[0])"
   ]
  },
  {
   "cell_type": "markdown",
   "id": "7b67ed5e",
   "metadata": {},
   "source": [
    "### X"
   ]
  },
  {
   "cell_type": "code",
   "execution_count": 5,
   "id": "62db6fd8",
   "metadata": {},
   "outputs": [],
   "source": [
    "train_x = [np.array(Image.open(origin_data_path + train)) for train in train_x_file]\n",
    "test_x = [np.array(Image.open(origin_data_path + test)) for test in test_x_file]"
   ]
  },
  {
   "cell_type": "markdown",
   "id": "8bbd0109",
   "metadata": {},
   "source": [
    "### Y"
   ]
  },
  {
   "cell_type": "code",
   "execution_count": 6,
   "id": "351dbc19",
   "metadata": {},
   "outputs": [],
   "source": [
    "# color to label catId\n",
    "color2label = { label.color   : label.id for label in labels}"
   ]
  },
  {
   "cell_type": "code",
   "execution_count": 7,
   "id": "a95c59a6",
   "metadata": {
    "scrolled": true
   },
   "outputs": [
    {
     "name": "stderr",
     "output_type": "stream",
     "text": [
      "100%|██████████| 560/560 [21:43<00:00,  2.33s/it]\n"
     ]
    }
   ],
   "source": [
    "train_y = []\n",
    "for file_name in tqdm(train_y_file):\n",
    "    image = np.array(Image.open(labeled_data_path + file_name))\n",
    "    ret = [[color2label[tuple([r[0], r[1], r[2]])] \n",
    "            if tuple([r[0], r[1], r[2]]) in color2label else 11\n",
    "            for r in row] \n",
    "           for row in image]\n",
    "    train_y.append(ret)"
   ]
  },
  {
   "cell_type": "code",
   "execution_count": 8,
   "id": "38587377",
   "metadata": {
    "scrolled": false
   },
   "outputs": [
    {
     "name": "stderr",
     "output_type": "stream",
     "text": [
      "100%|██████████| 141/141 [05:28<00:00,  2.33s/it]\n"
     ]
    }
   ],
   "source": [
    "test_y = []\n",
    "for file_name in tqdm(test_y_file):\n",
    "    image = np.array(Image.open(labeled_data_path + file_name))\n",
    "    ret = [[color2label[tuple([r[0], r[1], r[2]])] \n",
    "            if tuple([r[0], r[1], r[2]]) in color2label else 11\n",
    "            for r in row] \n",
    "           for row in image]\n",
    "    test_y.append(ret)"
   ]
  },
  {
   "cell_type": "code",
   "execution_count": 9,
   "id": "15fa0577",
   "metadata": {
    "scrolled": false
   },
   "outputs": [
    {
     "data": {
      "text/plain": [
       "((560, 720, 960), (141, 720, 960))"
      ]
     },
     "execution_count": 9,
     "metadata": {},
     "output_type": "execute_result"
    }
   ],
   "source": [
    "np.array(train_y).shape, np.array(test_y).shape"
   ]
  },
  {
   "cell_type": "code",
   "execution_count": 10,
   "id": "88c21514",
   "metadata": {},
   "outputs": [],
   "source": [
    "train_x = np.array(train_x)\n",
    "train_y = np.array(train_y)\n",
    "test_x = np.array(test_x)\n",
    "test_y = np.array(test_y)"
   ]
  },
  {
   "cell_type": "markdown",
   "id": "2b2d5781",
   "metadata": {},
   "source": [
    "### data save"
   ]
  },
  {
   "cell_type": "code",
   "execution_count": 11,
   "id": "b2642672",
   "metadata": {
    "scrolled": true
   },
   "outputs": [],
   "source": [
    "np.savez('data.npz', train_x=train_x, train_y=train_y, test_x=test_x, test_y=test_y)"
   ]
  },
  {
   "cell_type": "markdown",
   "id": "236b974d",
   "metadata": {},
   "source": [
    "# Model"
   ]
  },
  {
   "cell_type": "markdown",
   "id": "ada08c10",
   "metadata": {},
   "source": [
    "### package load"
   ]
  },
  {
   "cell_type": "code",
   "execution_count": 1,
   "id": "db262e5b",
   "metadata": {},
   "outputs": [],
   "source": [
    "import os\n",
    "import sys\n",
    "import time\n",
    "import datetime\n",
    "from tqdm import tqdm\n",
    "import numpy as np\n",
    "import warnings\n",
    "import random\n",
    "import torch\n",
    "import torch.nn as nn\n",
    "import torch.nn.functional as F\n",
    "import torch.optim as optim\n",
    "from torch.autograd import Variable\n",
    "import torchvision\n",
    "import torchvision.transforms.functional as TF\n",
    "import pandas as pd\n",
    "import matplotlib.pyplot as plt"
   ]
  },
  {
   "cell_type": "code",
   "execution_count": 2,
   "id": "6a7374e4",
   "metadata": {},
   "outputs": [],
   "source": [
    "from model import convert_bn_to_instancenorm, convert_bn_to_evonorm, convert_bn_to_groupnorm, DeepLabHead, UNet\n",
    "from helpers import AverageMeter, ProgressMeter, iouCalc, visim, vislbl\n",
    "from labels import labels"
   ]
  },
  {
   "cell_type": "markdown",
   "id": "22edfb88",
   "metadata": {},
   "source": [
    "### file name for save model log"
   ]
  },
  {
   "cell_type": "code",
   "execution_count": 3,
   "id": "07952e64",
   "metadata": {},
   "outputs": [],
   "source": [
    "filename = '07_resnet_50'"
   ]
  },
  {
   "cell_type": "markdown",
   "id": "3e531816",
   "metadata": {},
   "source": [
    "### CPU or GPU\n",
    "#### 아래 코드에서 True이면 GPU 사용, False 이면 CPU 사용됨."
   ]
  },
  {
   "cell_type": "code",
   "execution_count": 4,
   "id": "95e11a2b",
   "metadata": {},
   "outputs": [],
   "source": [
    "USE_CUDA = torch.cuda.is_available() and True \n",
    "device = torch.device('cuda' if USE_CUDA else 'cpu')"
   ]
  },
  {
   "cell_type": "markdown",
   "id": "5f26ad9e",
   "metadata": {},
   "source": [
    "## data load"
   ]
  },
  {
   "cell_type": "code",
   "execution_count": 5,
   "id": "295e0bb2",
   "metadata": {},
   "outputs": [],
   "source": [
    "npzfile = np.load('data.npz')\n",
    "\n",
    "train_x = npzfile['train_x']\n",
    "train_y = npzfile['train_y']\n",
    "test_x = npzfile['test_x']\n",
    "test_y = npzfile['test_y']\n",
    "\n",
    "npzfile.close()"
   ]
  },
  {
   "cell_type": "code",
   "execution_count": 6,
   "id": "4fff1c6c",
   "metadata": {},
   "outputs": [],
   "source": [
    "train_x = train_x[:int(train_x.shape[0]*0.875)]\n",
    "train_y = train_y[:int(train_y.shape[0]*0.875)]\n",
    "\n",
    "val_x = train_x[int(train_x.shape[0]*0.875):]\n",
    "val_y = train_y[int(train_y.shape[0]*0.875):]"
   ]
  },
  {
   "cell_type": "code",
   "execution_count": 7,
   "id": "3e57e944",
   "metadata": {},
   "outputs": [
    {
     "data": {
      "text/plain": [
       "((490, 720, 960, 3), (490, 720, 960), (62, 720, 960, 3), (62, 720, 960))"
      ]
     },
     "execution_count": 7,
     "metadata": {},
     "output_type": "execute_result"
    }
   ],
   "source": [
    "train_x.shape, train_y.shape, val_x.shape, val_y.shape"
   ]
  },
  {
   "cell_type": "markdown",
   "id": "86f1da40",
   "metadata": {},
   "source": [
    "### Cut Mix"
   ]
  },
  {
   "cell_type": "code",
   "execution_count": 8,
   "id": "9d00727d",
   "metadata": {},
   "outputs": [],
   "source": [
    "def cutmix(image_x, image_y, size_x, size_y):\n",
    "    w, h = image_x.shape[0], image_x.shape[1]\n",
    "    \n",
    "    # 복사할 이미지 랜덤 선택\n",
    "    cxs, cys = random.randint(0, w-size_x), random.randint(0, h-size_y) # copy x start / copy y start\n",
    "    cxe, cye = cxs + size_x, cys + size_y # copy x end / copy y end\n",
    "    \n",
    "    # 붙여넣을 위치\n",
    "    xs, ys = random.randint(0, w-size_x), random.randint(0, h-size_y) \n",
    "    xe, ye = xs + size_x, ys + size_y\n",
    "    \n",
    "    result_x = image_x.copy()\n",
    "    result_y = image_y.copy()\n",
    "    result_x[xs:xe, ys:ye] = image_x[cxs:cxe, cys:cye]\n",
    "    result_y[xs:xe, ys:ye] = image_y[cxs:cxe, cys:cye]\n",
    "    \n",
    "    return result_x, result_y"
   ]
  },
  {
   "cell_type": "code",
   "execution_count": 9,
   "id": "81ee5b69",
   "metadata": {},
   "outputs": [],
   "source": [
    "# cutmix_index = list(range(len(train_x)))\n",
    "# np.random.shuffle(cutmix_index)\n",
    "\n",
    "# cutmix_num = 200\n",
    "# cutmix_index = cutmix_index[:cutmix_num]\n",
    "\n",
    "# append_x = []\n",
    "# append_y = []\n",
    "\n",
    "# for i in cutmix_index:\n",
    "#     app_x, app_y = cutmix(train_x[i], train_y[i], 300, 300)\n",
    "#     append_x.append(app_x)\n",
    "#     append_y.append(app_y)\n",
    "    \n",
    "# train_x = np.append(train_x, append_x, axis=0)\n",
    "# train_y = np.append(train_y, append_y, axis=0)"
   ]
  },
  {
   "cell_type": "code",
   "execution_count": 9,
   "id": "895744b4",
   "metadata": {},
   "outputs": [
    {
     "data": {
      "text/plain": [
       "((490, 720, 960, 3), (490, 720, 960))"
      ]
     },
     "execution_count": 9,
     "metadata": {},
     "output_type": "execute_result"
    }
   ],
   "source": [
    "train_x.shape, train_y.shape"
   ]
  },
  {
   "cell_type": "markdown",
   "id": "b684bea5",
   "metadata": {},
   "source": [
    "### DeepLab v3 ResNet50 "
   ]
  },
  {
   "cell_type": "code",
   "execution_count": 10,
   "id": "ce7757fc",
   "metadata": {},
   "outputs": [],
   "source": [
    "model = torchvision.models.segmentation.deeplabv3_resnet50(pretrained=False).to(device)\n",
    "model.classifier = DeepLabHead(2048, 12).to(device) # 12 = class num"
   ]
  },
  {
   "cell_type": "code",
   "execution_count": 11,
   "id": "202574db",
   "metadata": {},
   "outputs": [],
   "source": [
    "optimizer = torch.optim.SGD(model.parameters(), lr=0.01, momentum=0.9)\n",
    "scheduler = optim.lr_scheduler.CosineAnnealingLR(optimizer, T_max=2) # 파라미터 학습속도 조절"
   ]
  },
  {
   "cell_type": "code",
   "execution_count": 12,
   "id": "09ea1336",
   "metadata": {},
   "outputs": [],
   "source": [
    "# Initialize metrics\n",
    "best_miou = 0.0\n",
    "metrics = {'train_loss' : [],\n",
    "           'train_acc' : [],\n",
    "           'test_acc' : [],\n",
    "           'test_loss' : [],\n",
    "           'miou' : []}\n",
    "start_epoch = 0"
   ]
  },
  {
   "cell_type": "markdown",
   "id": "0c71edf0",
   "metadata": {},
   "source": [
    "### Label "
   ]
  },
  {
   "cell_type": "code",
   "execution_count": 13,
   "id": "61074ec9",
   "metadata": {},
   "outputs": [],
   "source": [
    "# Create list of class names\n",
    "classLabels = []\n",
    "for label in labels:\n",
    "    if label.name not in classLabels:\n",
    "        classLabels.append(label.name)\n",
    "classLabels.append('void')"
   ]
  },
  {
   "cell_type": "code",
   "execution_count": 14,
   "id": "84d3f8f6",
   "metadata": {
    "scrolled": true
   },
   "outputs": [],
   "source": [
    "validClasses = list(np.unique([label.id for label in labels if label.id >= 0] + [11]))"
   ]
  },
  {
   "cell_type": "markdown",
   "id": "08dc84a4",
   "metadata": {},
   "source": [
    "## train"
   ]
  },
  {
   "cell_type": "code",
   "execution_count": 15,
   "id": "79ef0c62",
   "metadata": {},
   "outputs": [],
   "source": [
    "train_X = torch.tensor(train_x, dtype=torch.float32)\n",
    "train_Y = torch.tensor(train_y, dtype=torch.long)\n",
    "\n",
    "train_data = torch.utils.data.TensorDataset(train_X.permute(dims=(0, 3, 1, 2)), train_Y)\n",
    "\n",
    "train_data = torch.utils.data.DataLoader(train_data, batch_size=2, shuffle=True)"
   ]
  },
  {
   "cell_type": "code",
   "execution_count": 16,
   "id": "f19f02b5",
   "metadata": {},
   "outputs": [],
   "source": [
    "# class weight\n",
    "\n",
    "dist = {i:(train_Y == i).sum().tolist() for i in range(12)}\n",
    "\n",
    "weights = [1/dist[i] for i in range(12)]\n",
    "total_weights = sum(weights)\n",
    "\n",
    "class_weight = torch.FloatTensor([w/total_weights for w in weights]).to(device)\n",
    "criterion = nn.CrossEntropyLoss(weight = class_weight, ignore_index=12) # weight 파라미터에 class_weight 추가\n",
    "\n",
    "num_epoch = 100\n",
    "res = train_X.shape[1] * train_X.shape[2]"
   ]
  },
  {
   "cell_type": "code",
   "execution_count": 17,
   "id": "09430848",
   "metadata": {
    "scrolled": true
   },
   "outputs": [
    {
     "name": "stderr",
     "output_type": "stream",
     "text": [
      "100%|██████████| 245/245 [04:04<00:00,  1.00it/s]\n"
     ]
    },
    {
     "name": "stdout",
     "output_type": "stream",
     "text": [
      "classes           IoU\n",
      "---------------------\n",
      "Pole          : 0.140\n",
      "SignSymbol    : 0.207\n",
      "Bicyclist     : 0.220\n",
      "Pedestrian    : 0.205\n",
      "Building      : 0.555\n",
      "Fence         : 0.289\n",
      "Pavement      : 0.573\n",
      "Road          : 0.833\n",
      "Car           : 0.607\n",
      "Sky           : 0.787\n",
      "Tree          : 0.629\n",
      "---------------------\n",
      "Mean IoU      : 0.458\n",
      "---------------------\n",
      "train epoch  1\n",
      "loss : 0.8931   acc : 0.7480   miou : 0.4585\n",
      "mIoU improved from 0.0000 to 0.4585.\n"
     ]
    },
    {
     "name": "stderr",
     "output_type": "stream",
     "text": [
      "100%|██████████| 245/245 [04:05<00:00,  1.00s/it]\n"
     ]
    },
    {
     "name": "stdout",
     "output_type": "stream",
     "text": [
      "classes           IoU\n",
      "---------------------\n",
      "Pole          : 0.276\n",
      "SignSymbol    : 0.449\n",
      "Bicyclist     : 0.593\n",
      "Pedestrian    : 0.490\n",
      "Building      : 0.758\n",
      "Fence         : 0.555\n",
      "Pavement      : 0.750\n",
      "Road          : 0.923\n",
      "Car           : 0.802\n",
      "Sky           : 0.880\n",
      "Tree          : 0.758\n",
      "---------------------\n",
      "Mean IoU      : 0.658\n",
      "---------------------\n",
      "train epoch  2\n",
      "loss : 0.4433   acc : 0.8653   miou : 0.6577\n",
      "mIoU improved from 0.4585 to 0.6577.\n"
     ]
    },
    {
     "name": "stderr",
     "output_type": "stream",
     "text": [
      "100%|██████████| 245/245 [04:06<00:00,  1.00s/it]\n"
     ]
    },
    {
     "name": "stdout",
     "output_type": "stream",
     "text": [
      "classes           IoU\n",
      "---------------------\n",
      "Pole          : 0.319\n",
      "SignSymbol    : 0.519\n",
      "Bicyclist     : 0.652\n",
      "Pedestrian    : 0.539\n",
      "Building      : 0.802\n",
      "Fence         : 0.652\n",
      "Pavement      : 0.786\n",
      "Road          : 0.936\n",
      "Car           : 0.840\n",
      "Sky           : 0.889\n",
      "Tree          : 0.783\n",
      "---------------------\n",
      "Mean IoU      : 0.702\n",
      "---------------------\n",
      "train epoch  3\n",
      "loss : 0.3554   acc : 0.8869   miou : 0.7015\n",
      "mIoU improved from 0.6577 to 0.7015.\n"
     ]
    },
    {
     "name": "stderr",
     "output_type": "stream",
     "text": [
      "100%|██████████| 245/245 [04:06<00:00,  1.00s/it]\n"
     ]
    },
    {
     "name": "stdout",
     "output_type": "stream",
     "text": [
      "classes           IoU\n",
      "---------------------\n",
      "Pole          : 0.356\n",
      "SignSymbol    : 0.572\n",
      "Bicyclist     : 0.698\n",
      "Pedestrian    : 0.581\n",
      "Building      : 0.831\n",
      "Fence         : 0.701\n",
      "Pavement      : 0.814\n",
      "Road          : 0.945\n",
      "Car           : 0.861\n",
      "Sky           : 0.894\n",
      "Tree          : 0.802\n",
      "---------------------\n",
      "Mean IoU      : 0.732\n",
      "---------------------\n",
      "train epoch  4\n",
      "loss : 0.2986   acc : 0.9009   miou : 0.7321\n",
      "mIoU improved from 0.7015 to 0.7321.\n"
     ]
    },
    {
     "name": "stderr",
     "output_type": "stream",
     "text": [
      "100%|██████████| 245/245 [04:06<00:00,  1.00s/it]\n"
     ]
    },
    {
     "name": "stdout",
     "output_type": "stream",
     "text": [
      "classes           IoU\n",
      "---------------------\n",
      "Pole          : 0.379\n",
      "SignSymbol    : 0.608\n",
      "Bicyclist     : 0.720\n",
      "Pedestrian    : 0.609\n",
      "Building      : 0.854\n",
      "Fence         : 0.757\n",
      "Pavement      : 0.836\n",
      "Road          : 0.952\n",
      "Car           : 0.875\n",
      "Sky           : 0.901\n",
      "Tree          : 0.817\n",
      "---------------------\n",
      "Mean IoU      : 0.755\n",
      "---------------------\n",
      "train epoch  5\n",
      "loss : 0.2575   acc : 0.9125   miou : 0.7554\n",
      "mIoU improved from 0.7321 to 0.7554.\n"
     ]
    },
    {
     "name": "stderr",
     "output_type": "stream",
     "text": [
      "100%|██████████| 245/245 [04:06<00:00,  1.00s/it]\n"
     ]
    },
    {
     "name": "stdout",
     "output_type": "stream",
     "text": [
      "classes           IoU\n",
      "---------------------\n",
      "Pole          : 0.409\n",
      "SignSymbol    : 0.642\n",
      "Bicyclist     : 0.731\n",
      "Pedestrian    : 0.627\n",
      "Building      : 0.867\n",
      "Fence         : 0.777\n",
      "Pavement      : 0.851\n",
      "Road          : 0.959\n",
      "Car           : 0.886\n",
      "Sky           : 0.906\n",
      "Tree          : 0.832\n",
      "---------------------\n",
      "Mean IoU      : 0.771\n",
      "---------------------\n",
      "train epoch  6\n",
      "loss : 0.2293   acc : 0.9204   miou : 0.7714\n"
     ]
    },
    {
     "name": "stderr",
     "output_type": "stream",
     "text": [
      "\r",
      "  0%|          | 0/245 [00:00<?, ?it/s]"
     ]
    },
    {
     "name": "stdout",
     "output_type": "stream",
     "text": [
      "mIoU improved from 0.7554 to 0.7714.\n"
     ]
    },
    {
     "name": "stderr",
     "output_type": "stream",
     "text": [
      "100%|██████████| 245/245 [04:06<00:00,  1.00s/it]\n"
     ]
    },
    {
     "name": "stdout",
     "output_type": "stream",
     "text": [
      "classes           IoU\n",
      "---------------------\n",
      "Pole          : 0.424\n",
      "SignSymbol    : 0.666\n",
      "Bicyclist     : 0.749\n",
      "Pedestrian    : 0.637\n",
      "Building      : 0.876\n",
      "Fence         : 0.804\n",
      "Pavement      : 0.863\n",
      "Road          : 0.961\n",
      "Car           : 0.892\n",
      "Sky           : 0.908\n",
      "Tree          : 0.842\n",
      "---------------------\n",
      "Mean IoU      : 0.784\n",
      "---------------------\n",
      "train epoch  7\n",
      "loss : 0.2100   acc : 0.9256   miou : 0.7839\n",
      "mIoU improved from 0.7714 to 0.7839.\n"
     ]
    },
    {
     "name": "stderr",
     "output_type": "stream",
     "text": [
      "100%|██████████| 245/245 [04:06<00:00,  1.01s/it]\n"
     ]
    },
    {
     "name": "stdout",
     "output_type": "stream",
     "text": [
      "classes           IoU\n",
      "---------------------\n",
      "Pole          : 0.441\n",
      "SignSymbol    : 0.681\n",
      "Bicyclist     : 0.758\n",
      "Pedestrian    : 0.656\n",
      "Building      : 0.885\n",
      "Fence         : 0.815\n",
      "Pavement      : 0.871\n",
      "Road          : 0.965\n",
      "Car           : 0.897\n",
      "Sky           : 0.911\n",
      "Tree          : 0.850\n",
      "---------------------\n",
      "Mean IoU      : 0.794\n",
      "---------------------\n",
      "train epoch  8\n",
      "loss : 0.1953   acc : 0.9302   miou : 0.7936\n",
      "mIoU improved from 0.7839 to 0.7936.\n"
     ]
    },
    {
     "name": "stderr",
     "output_type": "stream",
     "text": [
      "100%|██████████| 245/245 [04:06<00:00,  1.01s/it]\n"
     ]
    },
    {
     "name": "stdout",
     "output_type": "stream",
     "text": [
      "classes           IoU\n",
      "---------------------\n",
      "Pole          : 0.456\n",
      "SignSymbol    : 0.696\n",
      "Bicyclist     : 0.768\n",
      "Pedestrian    : 0.668\n",
      "Building      : 0.891\n",
      "Fence         : 0.831\n",
      "Pavement      : 0.877\n",
      "Road          : 0.967\n",
      "Car           : 0.903\n",
      "Sky           : 0.913\n",
      "Tree          : 0.854\n",
      "---------------------\n",
      "Mean IoU      : 0.802\n",
      "---------------------\n",
      "train epoch  9\n",
      "loss : 0.1823   acc : 0.9335   miou : 0.8023\n",
      "mIoU improved from 0.7936 to 0.8023.\n"
     ]
    },
    {
     "name": "stderr",
     "output_type": "stream",
     "text": [
      "100%|██████████| 245/245 [04:06<00:00,  1.00s/it]\n"
     ]
    },
    {
     "name": "stdout",
     "output_type": "stream",
     "text": [
      "classes           IoU\n",
      "---------------------\n",
      "Pole          : 0.469\n",
      "SignSymbol    : 0.715\n",
      "Bicyclist     : 0.778\n",
      "Pedestrian    : 0.679\n",
      "Building      : 0.897\n",
      "Fence         : 0.840\n",
      "Pavement      : 0.884\n",
      "Road          : 0.968\n",
      "Car           : 0.907\n",
      "Sky           : 0.915\n",
      "Tree          : 0.862\n",
      "---------------------\n",
      "Mean IoU      : 0.810\n",
      "---------------------\n",
      "train epoch  10\n",
      "loss : 0.1723   acc : 0.9367   miou : 0.8103\n",
      "mIoU improved from 0.8023 to 0.8103.\n"
     ]
    },
    {
     "name": "stderr",
     "output_type": "stream",
     "text": [
      "100%|██████████| 245/245 [04:06<00:00,  1.01s/it]\n"
     ]
    },
    {
     "name": "stdout",
     "output_type": "stream",
     "text": [
      "classes           IoU\n",
      "---------------------\n",
      "Pole          : 0.480\n",
      "SignSymbol    : 0.722\n",
      "Bicyclist     : 0.784\n",
      "Pedestrian    : 0.688\n",
      "Building      : 0.901\n",
      "Fence         : 0.849\n",
      "Pavement      : 0.885\n",
      "Road          : 0.969\n",
      "Car           : 0.910\n",
      "Sky           : 0.917\n",
      "Tree          : 0.866\n",
      "---------------------\n",
      "Mean IoU      : 0.816\n",
      "---------------------\n",
      "train epoch  11\n",
      "loss : 0.1645   acc : 0.9390   miou : 0.8157\n"
     ]
    },
    {
     "name": "stderr",
     "output_type": "stream",
     "text": [
      "\r",
      "  0%|          | 0/245 [00:00<?, ?it/s]"
     ]
    },
    {
     "name": "stdout",
     "output_type": "stream",
     "text": [
      "mIoU improved from 0.8103 to 0.8157.\n"
     ]
    },
    {
     "name": "stderr",
     "output_type": "stream",
     "text": [
      "100%|██████████| 245/245 [04:06<00:00,  1.01s/it]\n"
     ]
    },
    {
     "name": "stdout",
     "output_type": "stream",
     "text": [
      "classes           IoU\n",
      "---------------------\n",
      "Pole          : 0.488\n",
      "SignSymbol    : 0.732\n",
      "Bicyclist     : 0.790\n",
      "Pedestrian    : 0.696\n",
      "Building      : 0.905\n",
      "Fence         : 0.851\n",
      "Pavement      : 0.891\n",
      "Road          : 0.970\n",
      "Car           : 0.913\n",
      "Sky           : 0.918\n",
      "Tree          : 0.870\n",
      "---------------------\n",
      "Mean IoU      : 0.820\n",
      "---------------------\n",
      "train epoch  12\n",
      "loss : 0.1588   acc : 0.9408   miou : 0.8203\n",
      "mIoU improved from 0.8157 to 0.8203.\n"
     ]
    },
    {
     "name": "stderr",
     "output_type": "stream",
     "text": [
      "100%|██████████| 245/245 [04:06<00:00,  1.01s/it]\n"
     ]
    },
    {
     "name": "stdout",
     "output_type": "stream",
     "text": [
      "classes           IoU\n",
      "---------------------\n",
      "Pole          : 0.497\n",
      "SignSymbol    : 0.744\n",
      "Bicyclist     : 0.797\n",
      "Pedestrian    : 0.704\n",
      "Building      : 0.909\n",
      "Fence         : 0.860\n",
      "Pavement      : 0.894\n",
      "Road          : 0.971\n",
      "Car           : 0.915\n",
      "Sky           : 0.918\n",
      "Tree          : 0.873\n",
      "---------------------\n",
      "Mean IoU      : 0.826\n",
      "---------------------\n",
      "train epoch  13\n",
      "loss : 0.1522   acc : 0.9426   miou : 0.8255\n",
      "mIoU improved from 0.8203 to 0.8255.\n"
     ]
    },
    {
     "name": "stderr",
     "output_type": "stream",
     "text": [
      "100%|██████████| 245/245 [04:06<00:00,  1.00s/it]\n"
     ]
    },
    {
     "name": "stdout",
     "output_type": "stream",
     "text": [
      "classes           IoU\n",
      "---------------------\n",
      "Pole          : 0.505\n",
      "SignSymbol    : 0.745\n",
      "Bicyclist     : 0.803\n",
      "Pedestrian    : 0.711\n",
      "Building      : 0.911\n",
      "Fence         : 0.864\n",
      "Pavement      : 0.899\n",
      "Road          : 0.973\n",
      "Car           : 0.917\n",
      "Sky           : 0.919\n",
      "Tree          : 0.876\n",
      "---------------------\n",
      "Mean IoU      : 0.829\n",
      "---------------------\n",
      "train epoch  14\n",
      "loss : 0.1468   acc : 0.9442   miou : 0.8294\n",
      "mIoU improved from 0.8255 to 0.8294.\n"
     ]
    },
    {
     "name": "stderr",
     "output_type": "stream",
     "text": [
      "100%|██████████| 245/245 [04:06<00:00,  1.00s/it]\n"
     ]
    },
    {
     "name": "stdout",
     "output_type": "stream",
     "text": [
      "classes           IoU\n",
      "---------------------\n",
      "Pole          : 0.513\n",
      "SignSymbol    : 0.756\n",
      "Bicyclist     : 0.805\n",
      "Pedestrian    : 0.711\n",
      "Building      : 0.915\n",
      "Fence         : 0.871\n",
      "Pavement      : 0.901\n",
      "Road          : 0.973\n",
      "Car           : 0.919\n",
      "Sky           : 0.921\n",
      "Tree          : 0.879\n",
      "---------------------\n",
      "Mean IoU      : 0.833\n",
      "---------------------\n",
      "train epoch  15\n",
      "loss : 0.1418   acc : 0.9457   miou : 0.8332\n",
      "mIoU improved from 0.8294 to 0.8332.\n"
     ]
    },
    {
     "name": "stderr",
     "output_type": "stream",
     "text": [
      "100%|██████████| 245/245 [04:06<00:00,  1.01s/it]\n"
     ]
    },
    {
     "name": "stdout",
     "output_type": "stream",
     "text": [
      "classes           IoU\n",
      "---------------------\n",
      "Pole          : 0.520\n",
      "SignSymbol    : 0.761\n",
      "Bicyclist     : 0.813\n",
      "Pedestrian    : 0.718\n",
      "Building      : 0.917\n",
      "Fence         : 0.876\n",
      "Pavement      : 0.904\n",
      "Road          : 0.974\n",
      "Car           : 0.922\n",
      "Sky           : 0.923\n",
      "Tree          : 0.883\n",
      "---------------------\n",
      "Mean IoU      : 0.837\n",
      "---------------------\n",
      "train epoch  16\n",
      "loss : 0.1363   acc : 0.9474   miou : 0.8374\n",
      "mIoU improved from 0.8332 to 0.8374.\n"
     ]
    },
    {
     "name": "stderr",
     "output_type": "stream",
     "text": [
      "100%|██████████| 245/245 [04:06<00:00,  1.00s/it]\n"
     ]
    },
    {
     "name": "stdout",
     "output_type": "stream",
     "text": [
      "classes           IoU\n",
      "---------------------\n",
      "Pole          : 0.524\n",
      "SignSymbol    : 0.770\n",
      "Bicyclist     : 0.812\n",
      "Pedestrian    : 0.727\n",
      "Building      : 0.920\n",
      "Fence         : 0.880\n",
      "Pavement      : 0.906\n",
      "Road          : 0.975\n",
      "Car           : 0.924\n",
      "Sky           : 0.922\n",
      "Tree          : 0.886\n",
      "---------------------\n",
      "Mean IoU      : 0.841\n",
      "---------------------\n",
      "train epoch  17\n",
      "loss : 0.1329   acc : 0.9486   miou : 0.8405\n",
      "mIoU improved from 0.8374 to 0.8405.\n"
     ]
    },
    {
     "name": "stderr",
     "output_type": "stream",
     "text": [
      "100%|██████████| 245/245 [04:05<00:00,  1.00s/it]\n"
     ]
    },
    {
     "name": "stdout",
     "output_type": "stream",
     "text": [
      "classes           IoU\n",
      "---------------------\n",
      "Pole          : 0.531\n",
      "SignSymbol    : 0.771\n",
      "Bicyclist     : 0.814\n",
      "Pedestrian    : 0.731\n",
      "Building      : 0.921\n",
      "Fence         : 0.884\n",
      "Pavement      : 0.908\n",
      "Road          : 0.975\n",
      "Car           : 0.925\n",
      "Sky           : 0.924\n",
      "Tree          : 0.887\n",
      "---------------------\n",
      "Mean IoU      : 0.843\n",
      "---------------------\n",
      "train epoch  18\n",
      "loss : 0.1311   acc : 0.9494   miou : 0.8427\n",
      "mIoU improved from 0.8405 to 0.8427.\n"
     ]
    },
    {
     "name": "stderr",
     "output_type": "stream",
     "text": [
      "100%|██████████| 245/245 [04:05<00:00,  1.00s/it]\n"
     ]
    },
    {
     "name": "stdout",
     "output_type": "stream",
     "text": [
      "classes           IoU\n",
      "---------------------\n",
      "Pole          : 0.537\n",
      "SignSymbol    : 0.775\n",
      "Bicyclist     : 0.819\n",
      "Pedestrian    : 0.736\n",
      "Building      : 0.923\n",
      "Fence         : 0.885\n",
      "Pavement      : 0.909\n",
      "Road          : 0.975\n",
      "Car           : 0.927\n",
      "Sky           : 0.924\n",
      "Tree          : 0.890\n",
      "---------------------\n",
      "Mean IoU      : 0.845\n",
      "---------------------\n",
      "train epoch  19\n",
      "loss : 0.1282   acc : 0.9501   miou : 0.8453\n",
      "mIoU improved from 0.8427 to 0.8453.\n"
     ]
    },
    {
     "name": "stderr",
     "output_type": "stream",
     "text": [
      "100%|██████████| 245/245 [04:05<00:00,  1.00s/it]\n"
     ]
    },
    {
     "name": "stdout",
     "output_type": "stream",
     "text": [
      "classes           IoU\n",
      "---------------------\n",
      "Pole          : 0.542\n",
      "SignSymbol    : 0.782\n",
      "Bicyclist     : 0.824\n",
      "Pedestrian    : 0.735\n",
      "Building      : 0.924\n",
      "Fence         : 0.888\n",
      "Pavement      : 0.911\n",
      "Road          : 0.976\n",
      "Car           : 0.928\n",
      "Sky           : 0.925\n",
      "Tree          : 0.890\n",
      "---------------------\n",
      "Mean IoU      : 0.848\n",
      "---------------------\n",
      "train epoch  20\n",
      "loss : 0.1256   acc : 0.9509   miou : 0.8478\n",
      "mIoU improved from 0.8453 to 0.8478.\n"
     ]
    },
    {
     "name": "stderr",
     "output_type": "stream",
     "text": [
      "100%|██████████| 245/245 [04:05<00:00,  1.00s/it]\n"
     ]
    },
    {
     "name": "stdout",
     "output_type": "stream",
     "text": [
      "classes           IoU\n",
      "---------------------\n",
      "Pole          : 0.546\n",
      "SignSymbol    : 0.785\n",
      "Bicyclist     : 0.824\n",
      "Pedestrian    : 0.742\n",
      "Building      : 0.926\n",
      "Fence         : 0.892\n",
      "Pavement      : 0.913\n",
      "Road          : 0.976\n",
      "Car           : 0.930\n",
      "Sky           : 0.925\n",
      "Tree          : 0.891\n",
      "---------------------\n",
      "Mean IoU      : 0.850\n",
      "---------------------\n",
      "train epoch  21\n",
      "loss : 0.1218   acc : 0.9518   miou : 0.8499\n",
      "mIoU improved from 0.8478 to 0.8499.\n"
     ]
    },
    {
     "name": "stderr",
     "output_type": "stream",
     "text": [
      "100%|██████████| 245/245 [04:05<00:00,  1.00s/it]\n"
     ]
    },
    {
     "name": "stdout",
     "output_type": "stream",
     "text": [
      "classes           IoU\n",
      "---------------------\n",
      "Pole          : 0.550\n",
      "SignSymbol    : 0.788\n",
      "Bicyclist     : 0.827\n",
      "Pedestrian    : 0.743\n",
      "Building      : 0.927\n",
      "Fence         : 0.894\n",
      "Pavement      : 0.915\n",
      "Road          : 0.977\n",
      "Car           : 0.931\n",
      "Sky           : 0.926\n",
      "Tree          : 0.894\n",
      "---------------------\n",
      "Mean IoU      : 0.852\n",
      "---------------------\n",
      "train epoch  22\n",
      "loss : 0.1195   acc : 0.9527   miou : 0.8519\n",
      "mIoU improved from 0.8499 to 0.8519.\n"
     ]
    },
    {
     "name": "stderr",
     "output_type": "stream",
     "text": [
      "100%|██████████| 245/245 [04:05<00:00,  1.00s/it]\n"
     ]
    },
    {
     "name": "stdout",
     "output_type": "stream",
     "text": [
      "classes           IoU\n",
      "---------------------\n",
      "Pole          : 0.555\n",
      "SignSymbol    : 0.794\n",
      "Bicyclist     : 0.832\n",
      "Pedestrian    : 0.748\n",
      "Building      : 0.929\n",
      "Fence         : 0.896\n",
      "Pavement      : 0.917\n",
      "Road          : 0.977\n",
      "Car           : 0.932\n",
      "Sky           : 0.926\n",
      "Tree          : 0.896\n",
      "---------------------\n",
      "Mean IoU      : 0.855\n",
      "---------------------\n",
      "train epoch  23\n",
      "loss : 0.1171   acc : 0.9536   miou : 0.8548\n",
      "mIoU improved from 0.8519 to 0.8548.\n"
     ]
    },
    {
     "name": "stderr",
     "output_type": "stream",
     "text": [
      "100%|██████████| 245/245 [04:05<00:00,  1.00s/it]\n"
     ]
    },
    {
     "name": "stdout",
     "output_type": "stream",
     "text": [
      "classes           IoU\n",
      "---------------------\n",
      "Pole          : 0.559\n",
      "SignSymbol    : 0.799\n",
      "Bicyclist     : 0.834\n",
      "Pedestrian    : 0.751\n",
      "Building      : 0.930\n",
      "Fence         : 0.899\n",
      "Pavement      : 0.917\n",
      "Road          : 0.977\n",
      "Car           : 0.933\n",
      "Sky           : 0.927\n",
      "Tree          : 0.897\n",
      "---------------------\n",
      "Mean IoU      : 0.857\n",
      "---------------------\n",
      "train epoch  24\n",
      "loss : 0.1152   acc : 0.9543   miou : 0.8567\n",
      "mIoU improved from 0.8548 to 0.8567.\n"
     ]
    },
    {
     "name": "stderr",
     "output_type": "stream",
     "text": [
      "100%|██████████| 245/245 [04:05<00:00,  1.00s/it]\n"
     ]
    },
    {
     "name": "stdout",
     "output_type": "stream",
     "text": [
      "classes           IoU\n",
      "---------------------\n",
      "Pole          : 0.561\n",
      "SignSymbol    : 0.801\n",
      "Bicyclist     : 0.833\n",
      "Pedestrian    : 0.752\n",
      "Building      : 0.931\n",
      "Fence         : 0.900\n",
      "Pavement      : 0.920\n",
      "Road          : 0.978\n",
      "Car           : 0.934\n",
      "Sky           : 0.928\n",
      "Tree          : 0.899\n",
      "---------------------\n",
      "Mean IoU      : 0.858\n",
      "---------------------\n",
      "train epoch  25\n",
      "loss : 0.1132   acc : 0.9550   miou : 0.8580\n",
      "mIoU improved from 0.8567 to 0.8580.\n"
     ]
    },
    {
     "name": "stderr",
     "output_type": "stream",
     "text": [
      "100%|██████████| 245/245 [04:05<00:00,  1.00s/it]\n"
     ]
    },
    {
     "name": "stdout",
     "output_type": "stream",
     "text": [
      "classes           IoU\n",
      "---------------------\n",
      "Pole          : 0.564\n",
      "SignSymbol    : 0.805\n",
      "Bicyclist     : 0.836\n",
      "Pedestrian    : 0.753\n",
      "Building      : 0.932\n",
      "Fence         : 0.902\n",
      "Pavement      : 0.920\n",
      "Road          : 0.978\n",
      "Car           : 0.933\n",
      "Sky           : 0.928\n",
      "Tree          : 0.900\n",
      "---------------------\n",
      "Mean IoU      : 0.859\n",
      "---------------------\n",
      "train epoch  26\n",
      "loss : 0.1126   acc : 0.9551   miou : 0.8591\n",
      "mIoU improved from 0.8580 to 0.8591.\n"
     ]
    },
    {
     "name": "stderr",
     "output_type": "stream",
     "text": [
      "100%|██████████| 245/245 [04:05<00:00,  1.00s/it]\n"
     ]
    },
    {
     "name": "stdout",
     "output_type": "stream",
     "text": [
      "classes           IoU\n",
      "---------------------\n",
      "Pole          : 0.567\n",
      "SignSymbol    : 0.805\n",
      "Bicyclist     : 0.837\n",
      "Pedestrian    : 0.758\n",
      "Building      : 0.932\n",
      "Fence         : 0.901\n",
      "Pavement      : 0.920\n",
      "Road          : 0.978\n",
      "Car           : 0.935\n",
      "Sky           : 0.927\n",
      "Tree          : 0.901\n",
      "---------------------\n",
      "Mean IoU      : 0.860\n",
      "---------------------\n",
      "train epoch  27\n",
      "loss : 0.1118   acc : 0.9554   miou : 0.8601\n",
      "mIoU improved from 0.8591 to 0.8601.\n"
     ]
    },
    {
     "name": "stderr",
     "output_type": "stream",
     "text": [
      "100%|██████████| 245/245 [04:05<00:00,  1.00s/it]\n"
     ]
    },
    {
     "name": "stdout",
     "output_type": "stream",
     "text": [
      "classes           IoU\n",
      "---------------------\n",
      "Pole          : 0.571\n",
      "SignSymbol    : 0.809\n",
      "Bicyclist     : 0.839\n",
      "Pedestrian    : 0.759\n",
      "Building      : 0.933\n",
      "Fence         : 0.900\n",
      "Pavement      : 0.922\n",
      "Road          : 0.979\n",
      "Car           : 0.935\n",
      "Sky           : 0.928\n",
      "Tree          : 0.902\n",
      "---------------------\n",
      "Mean IoU      : 0.861\n",
      "---------------------\n",
      "train epoch  28\n",
      "loss : 0.1099   acc : 0.9560   miou : 0.8614\n",
      "mIoU improved from 0.8601 to 0.8614.\n"
     ]
    },
    {
     "name": "stderr",
     "output_type": "stream",
     "text": [
      "100%|██████████| 245/245 [04:05<00:00,  1.00s/it]\n"
     ]
    },
    {
     "name": "stdout",
     "output_type": "stream",
     "text": [
      "classes           IoU\n",
      "---------------------\n",
      "Pole          : 0.577\n",
      "SignSymbol    : 0.811\n",
      "Bicyclist     : 0.842\n",
      "Pedestrian    : 0.763\n",
      "Building      : 0.935\n",
      "Fence         : 0.905\n",
      "Pavement      : 0.924\n",
      "Road          : 0.979\n",
      "Car           : 0.937\n",
      "Sky           : 0.928\n",
      "Tree          : 0.904\n",
      "---------------------\n",
      "Mean IoU      : 0.864\n",
      "---------------------\n",
      "train epoch  29\n",
      "loss : 0.1074   acc : 0.9569   miou : 0.8641\n",
      "mIoU improved from 0.8614 to 0.8641.\n"
     ]
    },
    {
     "name": "stderr",
     "output_type": "stream",
     "text": [
      "100%|██████████| 245/245 [04:05<00:00,  1.00s/it]\n"
     ]
    },
    {
     "name": "stdout",
     "output_type": "stream",
     "text": [
      "classes           IoU\n",
      "---------------------\n",
      "Pole          : 0.578\n",
      "SignSymbol    : 0.814\n",
      "Bicyclist     : 0.843\n",
      "Pedestrian    : 0.764\n",
      "Building      : 0.936\n",
      "Fence         : 0.907\n",
      "Pavement      : 0.925\n",
      "Road          : 0.979\n",
      "Car           : 0.938\n",
      "Sky           : 0.930\n",
      "Tree          : 0.904\n",
      "---------------------\n",
      "Mean IoU      : 0.865\n",
      "---------------------\n",
      "train epoch  30\n",
      "loss : 0.1056   acc : 0.9574   miou : 0.8652\n",
      "mIoU improved from 0.8641 to 0.8652.\n"
     ]
    },
    {
     "name": "stderr",
     "output_type": "stream",
     "text": [
      "100%|██████████| 245/245 [04:05<00:00,  1.00s/it]\n"
     ]
    },
    {
     "name": "stdout",
     "output_type": "stream",
     "text": [
      "classes           IoU\n",
      "---------------------\n",
      "Pole          : 0.581\n",
      "SignSymbol    : 0.817\n",
      "Bicyclist     : 0.845\n",
      "Pedestrian    : 0.766\n",
      "Building      : 0.937\n",
      "Fence         : 0.911\n",
      "Pavement      : 0.925\n",
      "Road          : 0.979\n",
      "Car           : 0.938\n",
      "Sky           : 0.930\n",
      "Tree          : 0.905\n",
      "---------------------\n",
      "Mean IoU      : 0.867\n",
      "---------------------\n",
      "train epoch  31\n",
      "loss : 0.1043   acc : 0.9578   miou : 0.8667\n",
      "mIoU improved from 0.8652 to 0.8667.\n"
     ]
    },
    {
     "name": "stderr",
     "output_type": "stream",
     "text": [
      "100%|██████████| 245/245 [04:05<00:00,  1.00s/it]\n"
     ]
    },
    {
     "name": "stdout",
     "output_type": "stream",
     "text": [
      "classes           IoU\n",
      "---------------------\n",
      "Pole          : 0.584\n",
      "SignSymbol    : 0.818\n",
      "Bicyclist     : 0.847\n",
      "Pedestrian    : 0.768\n",
      "Building      : 0.938\n",
      "Fence         : 0.910\n",
      "Pavement      : 0.926\n",
      "Road          : 0.979\n",
      "Car           : 0.939\n",
      "Sky           : 0.930\n",
      "Tree          : 0.907\n",
      "---------------------\n",
      "Mean IoU      : 0.868\n",
      "---------------------\n",
      "train epoch  32\n",
      "loss : 0.1034   acc : 0.9582   miou : 0.8678\n",
      "mIoU improved from 0.8667 to 0.8678.\n"
     ]
    },
    {
     "name": "stderr",
     "output_type": "stream",
     "text": [
      "100%|██████████| 245/245 [04:05<00:00,  1.00s/it]\n"
     ]
    },
    {
     "name": "stdout",
     "output_type": "stream",
     "text": [
      "classes           IoU\n",
      "---------------------\n",
      "Pole          : 0.586\n",
      "SignSymbol    : 0.822\n",
      "Bicyclist     : 0.849\n",
      "Pedestrian    : 0.772\n",
      "Building      : 0.939\n",
      "Fence         : 0.913\n",
      "Pavement      : 0.928\n",
      "Road          : 0.980\n",
      "Car           : 0.939\n",
      "Sky           : 0.930\n",
      "Tree          : 0.908\n",
      "---------------------\n",
      "Mean IoU      : 0.870\n",
      "---------------------\n",
      "train epoch  33\n",
      "loss : 0.1011   acc : 0.9589   miou : 0.8696\n",
      "mIoU improved from 0.8678 to 0.8696.\n"
     ]
    },
    {
     "name": "stderr",
     "output_type": "stream",
     "text": [
      "100%|██████████| 245/245 [04:05<00:00,  1.00s/it]\n"
     ]
    },
    {
     "name": "stdout",
     "output_type": "stream",
     "text": [
      "classes           IoU\n",
      "---------------------\n",
      "Pole          : 0.590\n",
      "SignSymbol    : 0.823\n",
      "Bicyclist     : 0.847\n",
      "Pedestrian    : 0.773\n",
      "Building      : 0.940\n",
      "Fence         : 0.914\n",
      "Pavement      : 0.929\n",
      "Road          : 0.980\n",
      "Car           : 0.941\n",
      "Sky           : 0.931\n",
      "Tree          : 0.909\n",
      "---------------------\n",
      "Mean IoU      : 0.871\n",
      "---------------------\n",
      "train epoch  34\n",
      "loss : 0.1001   acc : 0.9594   miou : 0.8706\n",
      "mIoU improved from 0.8696 to 0.8706.\n"
     ]
    },
    {
     "name": "stderr",
     "output_type": "stream",
     "text": [
      "100%|██████████| 245/245 [04:05<00:00,  1.00s/it]\n"
     ]
    },
    {
     "name": "stdout",
     "output_type": "stream",
     "text": [
      "classes           IoU\n",
      "---------------------\n",
      "Pole          : 0.592\n",
      "SignSymbol    : 0.825\n",
      "Bicyclist     : 0.849\n",
      "Pedestrian    : 0.775\n",
      "Building      : 0.940\n",
      "Fence         : 0.916\n",
      "Pavement      : 0.929\n",
      "Road          : 0.980\n",
      "Car           : 0.941\n",
      "Sky           : 0.931\n",
      "Tree          : 0.910\n",
      "---------------------\n",
      "Mean IoU      : 0.872\n",
      "---------------------\n",
      "train epoch  35\n",
      "loss : 0.0998   acc : 0.9596   miou : 0.8715\n",
      "mIoU improved from 0.8706 to 0.8715.\n"
     ]
    },
    {
     "name": "stderr",
     "output_type": "stream",
     "text": [
      "100%|██████████| 245/245 [04:05<00:00,  1.00s/it]\n"
     ]
    },
    {
     "name": "stdout",
     "output_type": "stream",
     "text": [
      "classes           IoU\n",
      "---------------------\n",
      "Pole          : 0.593\n",
      "SignSymbol    : 0.826\n",
      "Bicyclist     : 0.850\n",
      "Pedestrian    : 0.778\n",
      "Building      : 0.941\n",
      "Fence         : 0.916\n",
      "Pavement      : 0.930\n",
      "Road          : 0.980\n",
      "Car           : 0.942\n",
      "Sky           : 0.931\n",
      "Tree          : 0.910\n",
      "---------------------\n",
      "Mean IoU      : 0.872\n",
      "---------------------\n",
      "train epoch  36\n",
      "loss : 0.0987   acc : 0.9599   miou : 0.8724\n",
      "mIoU improved from 0.8715 to 0.8724.\n"
     ]
    },
    {
     "name": "stderr",
     "output_type": "stream",
     "text": [
      "100%|██████████| 245/245 [04:05<00:00,  1.00s/it]\n"
     ]
    },
    {
     "name": "stdout",
     "output_type": "stream",
     "text": [
      "classes           IoU\n",
      "---------------------\n",
      "Pole          : 0.596\n",
      "SignSymbol    : 0.827\n",
      "Bicyclist     : 0.853\n",
      "Pedestrian    : 0.777\n",
      "Building      : 0.942\n",
      "Fence         : 0.916\n",
      "Pavement      : 0.931\n",
      "Road          : 0.981\n",
      "Car           : 0.942\n",
      "Sky           : 0.931\n",
      "Tree          : 0.911\n",
      "---------------------\n",
      "Mean IoU      : 0.873\n",
      "---------------------\n",
      "train epoch  37\n",
      "loss : 0.0976   acc : 0.9604   miou : 0.8733\n",
      "mIoU improved from 0.8724 to 0.8733.\n"
     ]
    },
    {
     "name": "stderr",
     "output_type": "stream",
     "text": [
      "100%|██████████| 245/245 [04:05<00:00,  1.00s/it]\n"
     ]
    },
    {
     "name": "stdout",
     "output_type": "stream",
     "text": [
      "classes           IoU\n",
      "---------------------\n",
      "Pole          : 0.598\n",
      "SignSymbol    : 0.831\n",
      "Bicyclist     : 0.852\n",
      "Pedestrian    : 0.778\n",
      "Building      : 0.942\n",
      "Fence         : 0.916\n",
      "Pavement      : 0.932\n",
      "Road          : 0.981\n",
      "Car           : 0.942\n",
      "Sky           : 0.931\n",
      "Tree          : 0.912\n",
      "---------------------\n",
      "Mean IoU      : 0.874\n",
      "---------------------\n",
      "train epoch  38\n",
      "loss : 0.0967   acc : 0.9606   miou : 0.8742\n",
      "mIoU improved from 0.8733 to 0.8742.\n"
     ]
    },
    {
     "name": "stderr",
     "output_type": "stream",
     "text": [
      "100%|██████████| 245/245 [04:05<00:00,  1.00s/it]\n"
     ]
    },
    {
     "name": "stdout",
     "output_type": "stream",
     "text": [
      "classes           IoU\n",
      "---------------------\n",
      "Pole          : 0.601\n",
      "SignSymbol    : 0.833\n",
      "Bicyclist     : 0.854\n",
      "Pedestrian    : 0.781\n",
      "Building      : 0.943\n",
      "Fence         : 0.916\n",
      "Pavement      : 0.933\n",
      "Road          : 0.981\n",
      "Car           : 0.943\n",
      "Sky           : 0.932\n",
      "Tree          : 0.913\n",
      "---------------------\n",
      "Mean IoU      : 0.875\n",
      "---------------------\n",
      "train epoch  39\n",
      "loss : 0.0954   acc : 0.9610   miou : 0.8754\n",
      "mIoU improved from 0.8742 to 0.8754.\n"
     ]
    },
    {
     "name": "stderr",
     "output_type": "stream",
     "text": [
      "100%|██████████| 245/245 [04:05<00:00,  1.00s/it]\n"
     ]
    },
    {
     "name": "stdout",
     "output_type": "stream",
     "text": [
      "classes           IoU\n",
      "---------------------\n",
      "Pole          : 0.603\n",
      "SignSymbol    : 0.833\n",
      "Bicyclist     : 0.856\n",
      "Pedestrian    : 0.782\n",
      "Building      : 0.943\n",
      "Fence         : 0.920\n",
      "Pavement      : 0.933\n",
      "Road          : 0.981\n",
      "Car           : 0.944\n",
      "Sky           : 0.932\n",
      "Tree          : 0.914\n",
      "---------------------\n",
      "Mean IoU      : 0.876\n",
      "---------------------\n",
      "train epoch  40\n",
      "loss : 0.0938   acc : 0.9613   miou : 0.8764\n",
      "mIoU improved from 0.8754 to 0.8764.\n"
     ]
    },
    {
     "name": "stderr",
     "output_type": "stream",
     "text": [
      "100%|██████████| 245/245 [04:05<00:00,  1.00s/it]\n"
     ]
    },
    {
     "name": "stdout",
     "output_type": "stream",
     "text": [
      "classes           IoU\n",
      "---------------------\n",
      "Pole          : 0.605\n",
      "SignSymbol    : 0.836\n",
      "Bicyclist     : 0.857\n",
      "Pedestrian    : 0.784\n",
      "Building      : 0.944\n",
      "Fence         : 0.920\n",
      "Pavement      : 0.933\n",
      "Road          : 0.981\n",
      "Car           : 0.945\n",
      "Sky           : 0.932\n",
      "Tree          : 0.914\n",
      "---------------------\n",
      "Mean IoU      : 0.877\n",
      "---------------------\n",
      "train epoch  41\n",
      "loss : 0.0936   acc : 0.9615   miou : 0.8774\n",
      "mIoU improved from 0.8764 to 0.8774.\n"
     ]
    },
    {
     "name": "stderr",
     "output_type": "stream",
     "text": [
      "100%|██████████| 245/245 [04:05<00:00,  1.00s/it]\n"
     ]
    },
    {
     "name": "stdout",
     "output_type": "stream",
     "text": [
      "classes           IoU\n",
      "---------------------\n",
      "Pole          : 0.607\n",
      "SignSymbol    : 0.838\n",
      "Bicyclist     : 0.859\n",
      "Pedestrian    : 0.786\n",
      "Building      : 0.945\n",
      "Fence         : 0.921\n",
      "Pavement      : 0.934\n",
      "Road          : 0.981\n",
      "Car           : 0.945\n",
      "Sky           : 0.933\n",
      "Tree          : 0.915\n",
      "---------------------\n",
      "Mean IoU      : 0.878\n",
      "---------------------\n",
      "train epoch  42\n",
      "loss : 0.0925   acc : 0.9619   miou : 0.8785\n",
      "mIoU improved from 0.8774 to 0.8785.\n"
     ]
    },
    {
     "name": "stderr",
     "output_type": "stream",
     "text": [
      "100%|██████████| 245/245 [04:05<00:00,  1.00s/it]\n"
     ]
    },
    {
     "name": "stdout",
     "output_type": "stream",
     "text": [
      "classes           IoU\n",
      "---------------------\n",
      "Pole          : 0.610\n",
      "SignSymbol    : 0.840\n",
      "Bicyclist     : 0.858\n",
      "Pedestrian    : 0.786\n",
      "Building      : 0.945\n",
      "Fence         : 0.923\n",
      "Pavement      : 0.935\n",
      "Road          : 0.982\n",
      "Car           : 0.945\n",
      "Sky           : 0.933\n",
      "Tree          : 0.915\n",
      "---------------------\n",
      "Mean IoU      : 0.879\n",
      "---------------------\n",
      "train epoch  43\n",
      "loss : 0.0919   acc : 0.9622   miou : 0.8793\n",
      "mIoU improved from 0.8785 to 0.8793.\n"
     ]
    },
    {
     "name": "stderr",
     "output_type": "stream",
     "text": [
      "100%|██████████| 245/245 [04:05<00:00,  1.00s/it]\n"
     ]
    },
    {
     "name": "stdout",
     "output_type": "stream",
     "text": [
      "classes           IoU\n",
      "---------------------\n",
      "Pole          : 0.609\n",
      "SignSymbol    : 0.840\n",
      "Bicyclist     : 0.861\n",
      "Pedestrian    : 0.787\n",
      "Building      : 0.945\n",
      "Fence         : 0.921\n",
      "Pavement      : 0.935\n",
      "Road          : 0.982\n",
      "Car           : 0.945\n",
      "Sky           : 0.933\n",
      "Tree          : 0.916\n",
      "---------------------\n",
      "Mean IoU      : 0.879\n",
      "---------------------\n",
      "train epoch  44\n",
      "loss : 0.0911   acc : 0.9624   miou : 0.8795\n",
      "mIoU improved from 0.8793 to 0.8795.\n"
     ]
    },
    {
     "name": "stderr",
     "output_type": "stream",
     "text": [
      "100%|██████████| 245/245 [04:05<00:00,  1.00s/it]\n"
     ]
    },
    {
     "name": "stdout",
     "output_type": "stream",
     "text": [
      "classes           IoU\n",
      "---------------------\n",
      "Pole          : 0.613\n",
      "SignSymbol    : 0.841\n",
      "Bicyclist     : 0.861\n",
      "Pedestrian    : 0.789\n",
      "Building      : 0.946\n",
      "Fence         : 0.925\n",
      "Pavement      : 0.935\n",
      "Road          : 0.982\n",
      "Car           : 0.946\n",
      "Sky           : 0.934\n",
      "Tree          : 0.917\n",
      "---------------------\n",
      "Mean IoU      : 0.881\n",
      "---------------------\n",
      "train epoch  45\n",
      "loss : 0.0904   acc : 0.9627   miou : 0.8807\n"
     ]
    },
    {
     "name": "stderr",
     "output_type": "stream",
     "text": [
      "\r",
      "  0%|          | 0/245 [00:00<?, ?it/s]"
     ]
    },
    {
     "name": "stdout",
     "output_type": "stream",
     "text": [
      "mIoU improved from 0.8795 to 0.8807.\n"
     ]
    },
    {
     "name": "stderr",
     "output_type": "stream",
     "text": [
      "100%|██████████| 245/245 [04:05<00:00,  1.00s/it]\n"
     ]
    },
    {
     "name": "stdout",
     "output_type": "stream",
     "text": [
      "classes           IoU\n",
      "---------------------\n",
      "Pole          : 0.614\n",
      "SignSymbol    : 0.844\n",
      "Bicyclist     : 0.862\n",
      "Pedestrian    : 0.792\n",
      "Building      : 0.947\n",
      "Fence         : 0.925\n",
      "Pavement      : 0.936\n",
      "Road          : 0.982\n",
      "Car           : 0.947\n",
      "Sky           : 0.933\n",
      "Tree          : 0.918\n",
      "---------------------\n",
      "Mean IoU      : 0.882\n",
      "---------------------\n",
      "train epoch  46\n",
      "loss : 0.0891   acc : 0.9631   miou : 0.8819\n"
     ]
    },
    {
     "name": "stderr",
     "output_type": "stream",
     "text": [
      "\r",
      "  0%|          | 0/245 [00:00<?, ?it/s]"
     ]
    },
    {
     "name": "stdout",
     "output_type": "stream",
     "text": [
      "mIoU improved from 0.8807 to 0.8819.\n"
     ]
    },
    {
     "name": "stderr",
     "output_type": "stream",
     "text": [
      "100%|██████████| 245/245 [04:05<00:00,  1.00s/it]\n"
     ]
    },
    {
     "name": "stdout",
     "output_type": "stream",
     "text": [
      "classes           IoU\n",
      "---------------------\n",
      "Pole          : 0.616\n",
      "SignSymbol    : 0.846\n",
      "Bicyclist     : 0.862\n",
      "Pedestrian    : 0.793\n",
      "Building      : 0.947\n",
      "Fence         : 0.927\n",
      "Pavement      : 0.938\n",
      "Road          : 0.982\n",
      "Car           : 0.947\n",
      "Sky           : 0.934\n",
      "Tree          : 0.919\n",
      "---------------------\n",
      "Mean IoU      : 0.883\n",
      "---------------------\n",
      "train epoch  47\n",
      "loss : 0.0882   acc : 0.9634   miou : 0.8828\n",
      "mIoU improved from 0.8819 to 0.8828.\n"
     ]
    },
    {
     "name": "stderr",
     "output_type": "stream",
     "text": [
      "100%|██████████| 245/245 [04:05<00:00,  1.00s/it]\n"
     ]
    },
    {
     "name": "stdout",
     "output_type": "stream",
     "text": [
      "classes           IoU\n",
      "---------------------\n",
      "Pole          : 0.616\n",
      "SignSymbol    : 0.845\n",
      "Bicyclist     : 0.862\n",
      "Pedestrian    : 0.793\n",
      "Building      : 0.948\n",
      "Fence         : 0.928\n",
      "Pavement      : 0.937\n",
      "Road          : 0.982\n",
      "Car           : 0.947\n",
      "Sky           : 0.934\n",
      "Tree          : 0.919\n",
      "---------------------\n",
      "Mean IoU      : 0.883\n",
      "---------------------\n",
      "train epoch  48\n",
      "loss : 0.0879   acc : 0.9635   miou : 0.8828\n",
      "mIoU improved from 0.8828 to 0.8828.\n"
     ]
    },
    {
     "name": "stderr",
     "output_type": "stream",
     "text": [
      "100%|██████████| 245/245 [04:05<00:00,  1.00s/it]\n"
     ]
    },
    {
     "name": "stdout",
     "output_type": "stream",
     "text": [
      "classes           IoU\n",
      "---------------------\n",
      "Pole          : 0.620\n",
      "SignSymbol    : 0.848\n",
      "Bicyclist     : 0.863\n",
      "Pedestrian    : 0.795\n",
      "Building      : 0.948\n",
      "Fence         : 0.929\n",
      "Pavement      : 0.938\n",
      "Road          : 0.982\n",
      "Car           : 0.948\n",
      "Sky           : 0.934\n",
      "Tree          : 0.920\n",
      "---------------------\n",
      "Mean IoU      : 0.884\n",
      "---------------------\n",
      "train epoch  49\n",
      "loss : 0.0873   acc : 0.9639   miou : 0.8841\n",
      "mIoU improved from 0.8828 to 0.8841.\n"
     ]
    },
    {
     "name": "stderr",
     "output_type": "stream",
     "text": [
      "100%|██████████| 245/245 [04:05<00:00,  1.00s/it]\n"
     ]
    },
    {
     "name": "stdout",
     "output_type": "stream",
     "text": [
      "classes           IoU\n",
      "---------------------\n",
      "Pole          : 0.621\n",
      "SignSymbol    : 0.849\n",
      "Bicyclist     : 0.865\n",
      "Pedestrian    : 0.796\n",
      "Building      : 0.949\n",
      "Fence         : 0.928\n",
      "Pavement      : 0.938\n",
      "Road          : 0.982\n",
      "Car           : 0.948\n",
      "Sky           : 0.935\n",
      "Tree          : 0.920\n",
      "---------------------\n",
      "Mean IoU      : 0.884\n",
      "---------------------\n",
      "train epoch  50\n",
      "loss : 0.0869   acc : 0.9640   miou : 0.8844\n",
      "mIoU improved from 0.8841 to 0.8844.\n"
     ]
    },
    {
     "name": "stderr",
     "output_type": "stream",
     "text": [
      "100%|██████████| 245/245 [04:05<00:00,  1.00s/it]\n"
     ]
    },
    {
     "name": "stdout",
     "output_type": "stream",
     "text": [
      "classes           IoU\n",
      "---------------------\n",
      "Pole          : 0.622\n",
      "SignSymbol    : 0.849\n",
      "Bicyclist     : 0.866\n",
      "Pedestrian    : 0.795\n",
      "Building      : 0.949\n",
      "Fence         : 0.929\n",
      "Pavement      : 0.939\n",
      "Road          : 0.982\n",
      "Car           : 0.948\n",
      "Sky           : 0.934\n",
      "Tree          : 0.920\n",
      "---------------------\n",
      "Mean IoU      : 0.885\n",
      "---------------------\n",
      "train epoch  51\n",
      "loss : 0.0864   acc : 0.9641   miou : 0.8849\n",
      "mIoU improved from 0.8844 to 0.8849.\n"
     ]
    },
    {
     "name": "stderr",
     "output_type": "stream",
     "text": [
      "100%|██████████| 245/245 [04:05<00:00,  1.00s/it]\n"
     ]
    },
    {
     "name": "stdout",
     "output_type": "stream",
     "text": [
      "classes           IoU\n",
      "---------------------\n",
      "Pole          : 0.623\n",
      "SignSymbol    : 0.851\n",
      "Bicyclist     : 0.866\n",
      "Pedestrian    : 0.798\n",
      "Building      : 0.949\n",
      "Fence         : 0.929\n",
      "Pavement      : 0.940\n",
      "Road          : 0.983\n",
      "Car           : 0.948\n",
      "Sky           : 0.935\n",
      "Tree          : 0.920\n",
      "---------------------\n",
      "Mean IoU      : 0.886\n",
      "---------------------\n",
      "train epoch  52\n",
      "loss : 0.0856   acc : 0.9643   miou : 0.8855\n",
      "mIoU improved from 0.8849 to 0.8855.\n"
     ]
    },
    {
     "name": "stderr",
     "output_type": "stream",
     "text": [
      "100%|██████████| 245/245 [04:05<00:00,  1.00s/it]\n"
     ]
    },
    {
     "name": "stdout",
     "output_type": "stream",
     "text": [
      "classes           IoU\n",
      "---------------------\n",
      "Pole          : 0.624\n",
      "SignSymbol    : 0.850\n",
      "Bicyclist     : 0.868\n",
      "Pedestrian    : 0.799\n",
      "Building      : 0.949\n",
      "Fence         : 0.930\n",
      "Pavement      : 0.940\n",
      "Road          : 0.983\n",
      "Car           : 0.949\n",
      "Sky           : 0.935\n",
      "Tree          : 0.921\n",
      "---------------------\n",
      "Mean IoU      : 0.886\n",
      "---------------------\n",
      "train epoch  53\n",
      "loss : 0.0854   acc : 0.9644   miou : 0.8861\n",
      "mIoU improved from 0.8855 to 0.8861.\n"
     ]
    },
    {
     "name": "stderr",
     "output_type": "stream",
     "text": [
      "100%|██████████| 245/245 [04:05<00:00,  1.00s/it]\n"
     ]
    },
    {
     "name": "stdout",
     "output_type": "stream",
     "text": [
      "classes           IoU\n",
      "---------------------\n",
      "Pole          : 0.626\n",
      "SignSymbol    : 0.852\n",
      "Bicyclist     : 0.867\n",
      "Pedestrian    : 0.798\n",
      "Building      : 0.949\n",
      "Fence         : 0.930\n",
      "Pavement      : 0.939\n",
      "Road          : 0.983\n",
      "Car           : 0.950\n",
      "Sky           : 0.935\n",
      "Tree          : 0.921\n",
      "---------------------\n",
      "Mean IoU      : 0.886\n",
      "---------------------\n",
      "train epoch  54\n",
      "loss : 0.0851   acc : 0.9645   miou : 0.8863\n",
      "mIoU improved from 0.8861 to 0.8863.\n"
     ]
    },
    {
     "name": "stderr",
     "output_type": "stream",
     "text": [
      "100%|██████████| 245/245 [04:05<00:00,  1.00s/it]\n"
     ]
    },
    {
     "name": "stdout",
     "output_type": "stream",
     "text": [
      "classes           IoU\n",
      "---------------------\n",
      "Pole          : 0.628\n",
      "SignSymbol    : 0.854\n",
      "Bicyclist     : 0.868\n",
      "Pedestrian    : 0.799\n",
      "Building      : 0.950\n",
      "Fence         : 0.931\n",
      "Pavement      : 0.941\n",
      "Road          : 0.983\n",
      "Car           : 0.950\n",
      "Sky           : 0.935\n",
      "Tree          : 0.922\n",
      "---------------------\n",
      "Mean IoU      : 0.888\n",
      "---------------------\n",
      "train epoch  55\n",
      "loss : 0.0836   acc : 0.9650   miou : 0.8875\n",
      "mIoU improved from 0.8863 to 0.8875.\n"
     ]
    },
    {
     "name": "stderr",
     "output_type": "stream",
     "text": [
      "100%|██████████| 245/245 [04:05<00:00,  1.00s/it]\n"
     ]
    },
    {
     "name": "stdout",
     "output_type": "stream",
     "text": [
      "classes           IoU\n",
      "---------------------\n",
      "Pole          : 0.628\n",
      "SignSymbol    : 0.854\n",
      "Bicyclist     : 0.870\n",
      "Pedestrian    : 0.803\n",
      "Building      : 0.951\n",
      "Fence         : 0.931\n",
      "Pavement      : 0.941\n",
      "Road          : 0.983\n",
      "Car           : 0.950\n",
      "Sky           : 0.935\n",
      "Tree          : 0.923\n",
      "---------------------\n",
      "Mean IoU      : 0.888\n",
      "---------------------\n",
      "train epoch  56\n",
      "loss : 0.0835   acc : 0.9652   miou : 0.8881\n",
      "mIoU improved from 0.8875 to 0.8881.\n"
     ]
    },
    {
     "name": "stderr",
     "output_type": "stream",
     "text": [
      "100%|██████████| 245/245 [04:05<00:00,  1.00s/it]\n"
     ]
    },
    {
     "name": "stdout",
     "output_type": "stream",
     "text": [
      "classes           IoU\n",
      "---------------------\n",
      "Pole          : 0.629\n",
      "SignSymbol    : 0.855\n",
      "Bicyclist     : 0.871\n",
      "Pedestrian    : 0.802\n",
      "Building      : 0.951\n",
      "Fence         : 0.932\n",
      "Pavement      : 0.941\n",
      "Road          : 0.983\n",
      "Car           : 0.951\n",
      "Sky           : 0.935\n",
      "Tree          : 0.923\n",
      "---------------------\n",
      "Mean IoU      : 0.888\n",
      "---------------------\n",
      "train epoch  57\n",
      "loss : 0.0827   acc : 0.9653   miou : 0.8885\n",
      "mIoU improved from 0.8881 to 0.8885.\n"
     ]
    },
    {
     "name": "stderr",
     "output_type": "stream",
     "text": [
      "100%|██████████| 245/245 [04:05<00:00,  1.00s/it]\n"
     ]
    },
    {
     "name": "stdout",
     "output_type": "stream",
     "text": [
      "classes           IoU\n",
      "---------------------\n",
      "Pole          : 0.632\n",
      "SignSymbol    : 0.857\n",
      "Bicyclist     : 0.872\n",
      "Pedestrian    : 0.804\n",
      "Building      : 0.951\n",
      "Fence         : 0.932\n",
      "Pavement      : 0.942\n",
      "Road          : 0.983\n",
      "Car           : 0.951\n",
      "Sky           : 0.936\n",
      "Tree          : 0.923\n",
      "---------------------\n",
      "Mean IoU      : 0.889\n",
      "---------------------\n",
      "train epoch  58\n",
      "loss : 0.0823   acc : 0.9655   miou : 0.8892\n",
      "mIoU improved from 0.8885 to 0.8892.\n"
     ]
    },
    {
     "name": "stderr",
     "output_type": "stream",
     "text": [
      "100%|██████████| 245/245 [04:05<00:00,  1.00s/it]\n"
     ]
    },
    {
     "name": "stdout",
     "output_type": "stream",
     "text": [
      "classes           IoU\n",
      "---------------------\n",
      "Pole          : 0.633\n",
      "SignSymbol    : 0.858\n",
      "Bicyclist     : 0.872\n",
      "Pedestrian    : 0.804\n",
      "Building      : 0.952\n",
      "Fence         : 0.933\n",
      "Pavement      : 0.942\n",
      "Road          : 0.983\n",
      "Car           : 0.952\n",
      "Sky           : 0.936\n",
      "Tree          : 0.924\n",
      "---------------------\n",
      "Mean IoU      : 0.890\n",
      "---------------------\n",
      "train epoch  59\n",
      "loss : 0.0821   acc : 0.9657   miou : 0.8898\n",
      "mIoU improved from 0.8892 to 0.8898.\n"
     ]
    },
    {
     "name": "stderr",
     "output_type": "stream",
     "text": [
      "100%|██████████| 245/245 [04:05<00:00,  1.00s/it]\n"
     ]
    },
    {
     "name": "stdout",
     "output_type": "stream",
     "text": [
      "classes           IoU\n",
      "---------------------\n",
      "Pole          : 0.634\n",
      "SignSymbol    : 0.860\n",
      "Bicyclist     : 0.872\n",
      "Pedestrian    : 0.805\n",
      "Building      : 0.952\n",
      "Fence         : 0.932\n",
      "Pavement      : 0.943\n",
      "Road          : 0.984\n",
      "Car           : 0.952\n",
      "Sky           : 0.936\n",
      "Tree          : 0.924\n",
      "---------------------\n",
      "Mean IoU      : 0.890\n",
      "---------------------\n",
      "train epoch  60\n",
      "loss : 0.0812   acc : 0.9659   miou : 0.8902\n",
      "mIoU improved from 0.8898 to 0.8902.\n"
     ]
    },
    {
     "name": "stderr",
     "output_type": "stream",
     "text": [
      "100%|██████████| 245/245 [04:06<00:00,  1.00s/it]\n"
     ]
    },
    {
     "name": "stdout",
     "output_type": "stream",
     "text": [
      "classes           IoU\n",
      "---------------------\n",
      "Pole          : 0.636\n",
      "SignSymbol    : 0.860\n",
      "Bicyclist     : 0.873\n",
      "Pedestrian    : 0.806\n",
      "Building      : 0.952\n",
      "Fence         : 0.934\n",
      "Pavement      : 0.943\n",
      "Road          : 0.983\n",
      "Car           : 0.952\n",
      "Sky           : 0.936\n",
      "Tree          : 0.925\n",
      "---------------------\n",
      "Mean IoU      : 0.891\n",
      "---------------------\n",
      "train epoch  61\n",
      "loss : 0.0810   acc : 0.9661   miou : 0.8909\n",
      "mIoU improved from 0.8902 to 0.8909.\n"
     ]
    },
    {
     "name": "stderr",
     "output_type": "stream",
     "text": [
      "100%|██████████| 245/245 [04:06<00:00,  1.00s/it]\n"
     ]
    },
    {
     "name": "stdout",
     "output_type": "stream",
     "text": [
      "classes           IoU\n",
      "---------------------\n",
      "Pole          : 0.636\n",
      "SignSymbol    : 0.861\n",
      "Bicyclist     : 0.874\n",
      "Pedestrian    : 0.807\n",
      "Building      : 0.953\n",
      "Fence         : 0.935\n",
      "Pavement      : 0.944\n",
      "Road          : 0.984\n",
      "Car           : 0.952\n",
      "Sky           : 0.936\n",
      "Tree          : 0.925\n",
      "---------------------\n",
      "Mean IoU      : 0.892\n",
      "---------------------\n",
      "train epoch  62\n",
      "loss : 0.0802   acc : 0.9663   miou : 0.8915\n"
     ]
    },
    {
     "name": "stderr",
     "output_type": "stream",
     "text": [
      "\r",
      "  0%|          | 0/245 [00:00<?, ?it/s]"
     ]
    },
    {
     "name": "stdout",
     "output_type": "stream",
     "text": [
      "mIoU improved from 0.8909 to 0.8915.\n"
     ]
    },
    {
     "name": "stderr",
     "output_type": "stream",
     "text": [
      "100%|██████████| 245/245 [04:05<00:00,  1.00s/it]\n"
     ]
    },
    {
     "name": "stdout",
     "output_type": "stream",
     "text": [
      "classes           IoU\n",
      "---------------------\n",
      "Pole          : 0.637\n",
      "SignSymbol    : 0.861\n",
      "Bicyclist     : 0.874\n",
      "Pedestrian    : 0.808\n",
      "Building      : 0.953\n",
      "Fence         : 0.936\n",
      "Pavement      : 0.944\n",
      "Road          : 0.984\n",
      "Car           : 0.953\n",
      "Sky           : 0.936\n",
      "Tree          : 0.925\n",
      "---------------------\n",
      "Mean IoU      : 0.892\n",
      "---------------------\n",
      "train epoch  63\n",
      "loss : 0.0795   acc : 0.9665   miou : 0.8920\n",
      "mIoU improved from 0.8915 to 0.8920.\n"
     ]
    },
    {
     "name": "stderr",
     "output_type": "stream",
     "text": [
      "100%|██████████| 245/245 [04:05<00:00,  1.00s/it]\n"
     ]
    },
    {
     "name": "stdout",
     "output_type": "stream",
     "text": [
      "classes           IoU\n",
      "---------------------\n",
      "Pole          : 0.638\n",
      "SignSymbol    : 0.862\n",
      "Bicyclist     : 0.875\n",
      "Pedestrian    : 0.809\n",
      "Building      : 0.953\n",
      "Fence         : 0.934\n",
      "Pavement      : 0.944\n",
      "Road          : 0.984\n",
      "Car           : 0.953\n",
      "Sky           : 0.936\n",
      "Tree          : 0.926\n",
      "---------------------\n",
      "Mean IoU      : 0.892\n",
      "---------------------\n",
      "train epoch  64\n",
      "loss : 0.0793   acc : 0.9666   miou : 0.8924\n",
      "mIoU improved from 0.8920 to 0.8924.\n"
     ]
    },
    {
     "name": "stderr",
     "output_type": "stream",
     "text": [
      "100%|██████████| 245/245 [04:05<00:00,  1.00s/it]\n"
     ]
    },
    {
     "name": "stdout",
     "output_type": "stream",
     "text": [
      "classes           IoU\n",
      "---------------------\n",
      "Pole          : 0.639\n",
      "SignSymbol    : 0.864\n",
      "Bicyclist     : 0.875\n",
      "Pedestrian    : 0.809\n",
      "Building      : 0.953\n",
      "Fence         : 0.936\n",
      "Pavement      : 0.945\n",
      "Road          : 0.984\n",
      "Car           : 0.953\n",
      "Sky           : 0.937\n",
      "Tree          : 0.926\n",
      "---------------------\n",
      "Mean IoU      : 0.893\n",
      "---------------------\n",
      "train epoch  65\n",
      "loss : 0.0792   acc : 0.9668   miou : 0.8928\n",
      "mIoU improved from 0.8924 to 0.8928.\n"
     ]
    },
    {
     "name": "stderr",
     "output_type": "stream",
     "text": [
      "100%|██████████| 245/245 [04:06<00:00,  1.00s/it]\n"
     ]
    },
    {
     "name": "stdout",
     "output_type": "stream",
     "text": [
      "classes           IoU\n",
      "---------------------\n",
      "Pole          : 0.640\n",
      "SignSymbol    : 0.863\n",
      "Bicyclist     : 0.876\n",
      "Pedestrian    : 0.811\n",
      "Building      : 0.954\n",
      "Fence         : 0.937\n",
      "Pavement      : 0.945\n",
      "Road          : 0.984\n",
      "Car           : 0.953\n",
      "Sky           : 0.936\n",
      "Tree          : 0.927\n",
      "---------------------\n",
      "Mean IoU      : 0.893\n",
      "---------------------\n",
      "train epoch  66\n",
      "loss : 0.0789   acc : 0.9668   miou : 0.8933\n",
      "mIoU improved from 0.8928 to 0.8933.\n"
     ]
    },
    {
     "name": "stderr",
     "output_type": "stream",
     "text": [
      "100%|██████████| 245/245 [04:05<00:00,  1.00s/it]\n"
     ]
    },
    {
     "name": "stdout",
     "output_type": "stream",
     "text": [
      "classes           IoU\n",
      "---------------------\n",
      "Pole          : 0.640\n",
      "SignSymbol    : 0.864\n",
      "Bicyclist     : 0.877\n",
      "Pedestrian    : 0.811\n",
      "Building      : 0.954\n",
      "Fence         : 0.937\n",
      "Pavement      : 0.945\n",
      "Road          : 0.984\n",
      "Car           : 0.953\n",
      "Sky           : 0.936\n",
      "Tree          : 0.926\n",
      "---------------------\n",
      "Mean IoU      : 0.893\n",
      "---------------------\n",
      "train epoch  67\n",
      "loss : 0.0789   acc : 0.9667   miou : 0.8934\n",
      "mIoU improved from 0.8933 to 0.8934.\n"
     ]
    },
    {
     "name": "stderr",
     "output_type": "stream",
     "text": [
      "100%|██████████| 245/245 [04:06<00:00,  1.00s/it]\n"
     ]
    },
    {
     "name": "stdout",
     "output_type": "stream",
     "text": [
      "classes           IoU\n",
      "---------------------\n",
      "Pole          : 0.641\n",
      "SignSymbol    : 0.865\n",
      "Bicyclist     : 0.877\n",
      "Pedestrian    : 0.810\n",
      "Building      : 0.954\n",
      "Fence         : 0.937\n",
      "Pavement      : 0.945\n",
      "Road          : 0.984\n",
      "Car           : 0.953\n",
      "Sky           : 0.937\n",
      "Tree          : 0.926\n",
      "---------------------\n",
      "Mean IoU      : 0.894\n",
      "---------------------\n",
      "train epoch  68\n",
      "loss : 0.0786   acc : 0.9669   miou : 0.8937\n",
      "mIoU improved from 0.8934 to 0.8937.\n"
     ]
    },
    {
     "name": "stderr",
     "output_type": "stream",
     "text": [
      "100%|██████████| 245/245 [04:05<00:00,  1.00s/it]\n"
     ]
    },
    {
     "name": "stdout",
     "output_type": "stream",
     "text": [
      "classes           IoU\n",
      "---------------------\n",
      "Pole          : 0.643\n",
      "SignSymbol    : 0.867\n",
      "Bicyclist     : 0.879\n",
      "Pedestrian    : 0.812\n",
      "Building      : 0.955\n",
      "Fence         : 0.938\n",
      "Pavement      : 0.946\n",
      "Road          : 0.984\n",
      "Car           : 0.954\n",
      "Sky           : 0.937\n",
      "Tree          : 0.927\n",
      "---------------------\n",
      "Mean IoU      : 0.895\n",
      "---------------------\n",
      "train epoch  69\n",
      "loss : 0.0773   acc : 0.9672   miou : 0.8947\n",
      "mIoU improved from 0.8937 to 0.8947.\n"
     ]
    },
    {
     "name": "stderr",
     "output_type": "stream",
     "text": [
      "100%|██████████| 245/245 [04:06<00:00,  1.00s/it]\n"
     ]
    },
    {
     "name": "stdout",
     "output_type": "stream",
     "text": [
      "classes           IoU\n",
      "---------------------\n",
      "Pole          : 0.644\n",
      "SignSymbol    : 0.868\n",
      "Bicyclist     : 0.880\n",
      "Pedestrian    : 0.813\n",
      "Building      : 0.955\n",
      "Fence         : 0.937\n",
      "Pavement      : 0.946\n",
      "Road          : 0.984\n",
      "Car           : 0.954\n",
      "Sky           : 0.937\n",
      "Tree          : 0.928\n",
      "---------------------\n",
      "Mean IoU      : 0.895\n",
      "---------------------\n",
      "train epoch  70\n",
      "loss : 0.0771   acc : 0.9674   miou : 0.8950\n",
      "mIoU improved from 0.8947 to 0.8950.\n"
     ]
    },
    {
     "name": "stderr",
     "output_type": "stream",
     "text": [
      "100%|██████████| 245/245 [04:06<00:00,  1.00s/it]\n"
     ]
    },
    {
     "name": "stdout",
     "output_type": "stream",
     "text": [
      "classes           IoU\n",
      "---------------------\n",
      "Pole          : 0.646\n",
      "SignSymbol    : 0.868\n",
      "Bicyclist     : 0.879\n",
      "Pedestrian    : 0.813\n",
      "Building      : 0.955\n",
      "Fence         : 0.939\n",
      "Pavement      : 0.946\n",
      "Road          : 0.984\n",
      "Car           : 0.954\n",
      "Sky           : 0.937\n",
      "Tree          : 0.928\n",
      "---------------------\n",
      "Mean IoU      : 0.895\n",
      "---------------------\n",
      "train epoch  71\n",
      "loss : 0.0768   acc : 0.9676   miou : 0.8954\n",
      "mIoU improved from 0.8950 to 0.8954.\n"
     ]
    },
    {
     "name": "stderr",
     "output_type": "stream",
     "text": [
      "100%|██████████| 245/245 [04:06<00:00,  1.00s/it]\n"
     ]
    },
    {
     "name": "stdout",
     "output_type": "stream",
     "text": [
      "classes           IoU\n",
      "---------------------\n",
      "Pole          : 0.646\n",
      "SignSymbol    : 0.868\n",
      "Bicyclist     : 0.880\n",
      "Pedestrian    : 0.814\n",
      "Building      : 0.955\n",
      "Fence         : 0.939\n",
      "Pavement      : 0.946\n",
      "Road          : 0.984\n",
      "Car           : 0.955\n",
      "Sky           : 0.937\n",
      "Tree          : 0.928\n",
      "---------------------\n",
      "Mean IoU      : 0.896\n",
      "---------------------\n",
      "train epoch  72\n",
      "loss : 0.0762   acc : 0.9676   miou : 0.8958\n",
      "mIoU improved from 0.8954 to 0.8958.\n"
     ]
    },
    {
     "name": "stderr",
     "output_type": "stream",
     "text": [
      "100%|██████████| 245/245 [04:05<00:00,  1.00s/it]\n"
     ]
    },
    {
     "name": "stdout",
     "output_type": "stream",
     "text": [
      "classes           IoU\n",
      "---------------------\n",
      "Pole          : 0.647\n",
      "SignSymbol    : 0.869\n",
      "Bicyclist     : 0.881\n",
      "Pedestrian    : 0.815\n",
      "Building      : 0.955\n",
      "Fence         : 0.939\n",
      "Pavement      : 0.947\n",
      "Road          : 0.985\n",
      "Car           : 0.955\n",
      "Sky           : 0.937\n",
      "Tree          : 0.928\n",
      "---------------------\n",
      "Mean IoU      : 0.896\n",
      "---------------------\n",
      "train epoch  73\n",
      "loss : 0.0764   acc : 0.9677   miou : 0.8962\n",
      "mIoU improved from 0.8958 to 0.8962.\n"
     ]
    },
    {
     "name": "stderr",
     "output_type": "stream",
     "text": [
      "100%|██████████| 245/245 [04:06<00:00,  1.00s/it]\n"
     ]
    },
    {
     "name": "stdout",
     "output_type": "stream",
     "text": [
      "classes           IoU\n",
      "---------------------\n",
      "Pole          : 0.649\n",
      "SignSymbol    : 0.869\n",
      "Bicyclist     : 0.882\n",
      "Pedestrian    : 0.816\n",
      "Building      : 0.956\n",
      "Fence         : 0.938\n",
      "Pavement      : 0.947\n",
      "Road          : 0.985\n",
      "Car           : 0.955\n",
      "Sky           : 0.937\n",
      "Tree          : 0.929\n",
      "---------------------\n",
      "Mean IoU      : 0.896\n",
      "---------------------\n",
      "train epoch  74\n",
      "loss : 0.0758   acc : 0.9679   miou : 0.8965\n",
      "mIoU improved from 0.8962 to 0.8965.\n"
     ]
    },
    {
     "name": "stderr",
     "output_type": "stream",
     "text": [
      "100%|██████████| 245/245 [04:06<00:00,  1.00s/it]\n"
     ]
    },
    {
     "name": "stdout",
     "output_type": "stream",
     "text": [
      "classes           IoU\n",
      "---------------------\n",
      "Pole          : 0.648\n",
      "SignSymbol    : 0.870\n",
      "Bicyclist     : 0.881\n",
      "Pedestrian    : 0.816\n",
      "Building      : 0.956\n",
      "Fence         : 0.940\n",
      "Pavement      : 0.947\n",
      "Road          : 0.984\n",
      "Car           : 0.955\n",
      "Sky           : 0.937\n",
      "Tree          : 0.929\n",
      "---------------------\n",
      "Mean IoU      : 0.897\n",
      "---------------------\n",
      "train epoch  75\n",
      "loss : 0.0755   acc : 0.9679   miou : 0.8967\n",
      "mIoU improved from 0.8965 to 0.8967.\n"
     ]
    },
    {
     "name": "stderr",
     "output_type": "stream",
     "text": [
      "100%|██████████| 245/245 [04:06<00:00,  1.00s/it]\n"
     ]
    },
    {
     "name": "stdout",
     "output_type": "stream",
     "text": [
      "classes           IoU\n",
      "---------------------\n",
      "Pole          : 0.650\n",
      "SignSymbol    : 0.871\n",
      "Bicyclist     : 0.882\n",
      "Pedestrian    : 0.816\n",
      "Building      : 0.956\n",
      "Fence         : 0.940\n",
      "Pavement      : 0.948\n",
      "Road          : 0.985\n",
      "Car           : 0.956\n",
      "Sky           : 0.938\n",
      "Tree          : 0.929\n",
      "---------------------\n",
      "Mean IoU      : 0.897\n",
      "---------------------\n",
      "train epoch  76\n",
      "loss : 0.0749   acc : 0.9682   miou : 0.8973\n",
      "mIoU improved from 0.8967 to 0.8973.\n"
     ]
    },
    {
     "name": "stderr",
     "output_type": "stream",
     "text": [
      "100%|██████████| 245/245 [04:06<00:00,  1.00s/it]\n"
     ]
    },
    {
     "name": "stdout",
     "output_type": "stream",
     "text": [
      "classes           IoU\n",
      "---------------------\n",
      "Pole          : 0.651\n",
      "SignSymbol    : 0.872\n",
      "Bicyclist     : 0.883\n",
      "Pedestrian    : 0.817\n",
      "Building      : 0.957\n",
      "Fence         : 0.940\n",
      "Pavement      : 0.948\n",
      "Road          : 0.985\n",
      "Car           : 0.956\n",
      "Sky           : 0.938\n",
      "Tree          : 0.930\n",
      "---------------------\n",
      "Mean IoU      : 0.898\n",
      "---------------------\n",
      "train epoch  77\n",
      "loss : 0.0746   acc : 0.9684   miou : 0.8979\n",
      "mIoU improved from 0.8973 to 0.8979.\n"
     ]
    },
    {
     "name": "stderr",
     "output_type": "stream",
     "text": [
      "100%|██████████| 245/245 [04:06<00:00,  1.00s/it]\n",
      "  0%|          | 0/245 [00:00<?, ?it/s]"
     ]
    },
    {
     "name": "stdout",
     "output_type": "stream",
     "text": [
      "classes           IoU\n",
      "---------------------\n",
      "Pole          : 0.651\n",
      "SignSymbol    : 0.872\n",
      "Bicyclist     : 0.881\n",
      "Pedestrian    : 0.818\n",
      "Building      : 0.956\n",
      "Fence         : 0.941\n",
      "Pavement      : 0.948\n",
      "Road          : 0.985\n",
      "Car           : 0.956\n",
      "Sky           : 0.938\n",
      "Tree          : 0.930\n",
      "---------------------\n",
      "Mean IoU      : 0.898\n",
      "---------------------\n",
      "train epoch  78\n",
      "loss : 0.0747   acc : 0.9684   miou : 0.8978\n"
     ]
    },
    {
     "name": "stderr",
     "output_type": "stream",
     "text": [
      "100%|██████████| 245/245 [04:06<00:00,  1.00s/it]\n"
     ]
    },
    {
     "name": "stdout",
     "output_type": "stream",
     "text": [
      "classes           IoU\n",
      "---------------------\n",
      "Pole          : 0.653\n",
      "SignSymbol    : 0.873\n",
      "Bicyclist     : 0.884\n",
      "Pedestrian    : 0.819\n",
      "Building      : 0.957\n",
      "Fence         : 0.941\n",
      "Pavement      : 0.948\n",
      "Road          : 0.985\n",
      "Car           : 0.956\n",
      "Sky           : 0.938\n",
      "Tree          : 0.930\n",
      "---------------------\n",
      "Mean IoU      : 0.899\n",
      "---------------------\n",
      "train epoch  79\n",
      "loss : 0.0738   acc : 0.9685   miou : 0.8986\n",
      "mIoU improved from 0.8979 to 0.8986.\n"
     ]
    },
    {
     "name": "stderr",
     "output_type": "stream",
     "text": [
      "100%|██████████| 245/245 [04:05<00:00,  1.00s/it]\n"
     ]
    },
    {
     "name": "stdout",
     "output_type": "stream",
     "text": [
      "classes           IoU\n",
      "---------------------\n",
      "Pole          : 0.654\n",
      "SignSymbol    : 0.873\n",
      "Bicyclist     : 0.884\n",
      "Pedestrian    : 0.820\n",
      "Building      : 0.957\n",
      "Fence         : 0.942\n",
      "Pavement      : 0.949\n",
      "Road          : 0.985\n",
      "Car           : 0.957\n",
      "Sky           : 0.938\n",
      "Tree          : 0.931\n",
      "---------------------\n",
      "Mean IoU      : 0.899\n",
      "---------------------\n",
      "train epoch  80\n",
      "loss : 0.0738   acc : 0.9687   miou : 0.8989\n",
      "mIoU improved from 0.8986 to 0.8989.\n"
     ]
    },
    {
     "name": "stderr",
     "output_type": "stream",
     "text": [
      "100%|██████████| 245/245 [04:06<00:00,  1.00s/it]\n"
     ]
    },
    {
     "name": "stdout",
     "output_type": "stream",
     "text": [
      "classes           IoU\n",
      "---------------------\n",
      "Pole          : 0.654\n",
      "SignSymbol    : 0.873\n",
      "Bicyclist     : 0.884\n",
      "Pedestrian    : 0.820\n",
      "Building      : 0.957\n",
      "Fence         : 0.942\n",
      "Pavement      : 0.949\n",
      "Road          : 0.985\n",
      "Car           : 0.957\n",
      "Sky           : 0.938\n",
      "Tree          : 0.931\n",
      "---------------------\n",
      "Mean IoU      : 0.899\n",
      "---------------------\n",
      "train epoch  81\n",
      "loss : 0.0735   acc : 0.9687   miou : 0.8990\n",
      "mIoU improved from 0.8989 to 0.8990.\n"
     ]
    },
    {
     "name": "stderr",
     "output_type": "stream",
     "text": [
      "100%|██████████| 245/245 [04:06<00:00,  1.00s/it]\n"
     ]
    },
    {
     "name": "stdout",
     "output_type": "stream",
     "text": [
      "classes           IoU\n",
      "---------------------\n",
      "Pole          : 0.656\n",
      "SignSymbol    : 0.874\n",
      "Bicyclist     : 0.884\n",
      "Pedestrian    : 0.820\n",
      "Building      : 0.957\n",
      "Fence         : 0.941\n",
      "Pavement      : 0.949\n",
      "Road          : 0.985\n",
      "Car           : 0.957\n",
      "Sky           : 0.938\n",
      "Tree          : 0.931\n",
      "---------------------\n",
      "Mean IoU      : 0.899\n",
      "---------------------\n",
      "train epoch  82\n",
      "loss : 0.0733   acc : 0.9687   miou : 0.8993\n",
      "mIoU improved from 0.8990 to 0.8993.\n"
     ]
    },
    {
     "name": "stderr",
     "output_type": "stream",
     "text": [
      "100%|██████████| 245/245 [04:06<00:00,  1.00s/it]\n"
     ]
    },
    {
     "name": "stdout",
     "output_type": "stream",
     "text": [
      "classes           IoU\n",
      "---------------------\n",
      "Pole          : 0.656\n",
      "SignSymbol    : 0.876\n",
      "Bicyclist     : 0.885\n",
      "Pedestrian    : 0.821\n",
      "Building      : 0.958\n",
      "Fence         : 0.942\n",
      "Pavement      : 0.950\n",
      "Road          : 0.985\n",
      "Car           : 0.957\n",
      "Sky           : 0.938\n",
      "Tree          : 0.931\n",
      "---------------------\n",
      "Mean IoU      : 0.900\n",
      "---------------------\n",
      "train epoch  83\n",
      "loss : 0.0731   acc : 0.9690   miou : 0.8999\n",
      "mIoU improved from 0.8993 to 0.8999.\n"
     ]
    },
    {
     "name": "stderr",
     "output_type": "stream",
     "text": [
      "100%|██████████| 245/245 [04:06<00:00,  1.00s/it]\n",
      "  0%|          | 0/245 [00:00<?, ?it/s]"
     ]
    },
    {
     "name": "stdout",
     "output_type": "stream",
     "text": [
      "classes           IoU\n",
      "---------------------\n",
      "Pole          : 0.656\n",
      "SignSymbol    : 0.875\n",
      "Bicyclist     : 0.886\n",
      "Pedestrian    : 0.821\n",
      "Building      : 0.957\n",
      "Fence         : 0.942\n",
      "Pavement      : 0.950\n",
      "Road          : 0.985\n",
      "Car           : 0.957\n",
      "Sky           : 0.938\n",
      "Tree          : 0.931\n",
      "---------------------\n",
      "Mean IoU      : 0.900\n",
      "---------------------\n",
      "train epoch  84\n",
      "loss : 0.0726   acc : 0.9690   miou : 0.8999\n"
     ]
    },
    {
     "name": "stderr",
     "output_type": "stream",
     "text": [
      "100%|██████████| 245/245 [04:05<00:00,  1.00s/it]\n"
     ]
    },
    {
     "name": "stdout",
     "output_type": "stream",
     "text": [
      "classes           IoU\n",
      "---------------------\n",
      "Pole          : 0.657\n",
      "SignSymbol    : 0.877\n",
      "Bicyclist     : 0.886\n",
      "Pedestrian    : 0.822\n",
      "Building      : 0.958\n",
      "Fence         : 0.943\n",
      "Pavement      : 0.950\n",
      "Road          : 0.985\n",
      "Car           : 0.958\n",
      "Sky           : 0.938\n",
      "Tree          : 0.932\n",
      "---------------------\n",
      "Mean IoU      : 0.901\n",
      "---------------------\n",
      "train epoch  85\n",
      "loss : 0.0721   acc : 0.9692   miou : 0.9005\n",
      "mIoU improved from 0.8999 to 0.9005.\n"
     ]
    },
    {
     "name": "stderr",
     "output_type": "stream",
     "text": [
      "100%|██████████| 245/245 [04:05<00:00,  1.00s/it]\n",
      "  0%|          | 0/245 [00:00<?, ?it/s]"
     ]
    },
    {
     "name": "stdout",
     "output_type": "stream",
     "text": [
      "classes           IoU\n",
      "---------------------\n",
      "Pole          : 0.657\n",
      "SignSymbol    : 0.876\n",
      "Bicyclist     : 0.886\n",
      "Pedestrian    : 0.823\n",
      "Building      : 0.958\n",
      "Fence         : 0.943\n",
      "Pavement      : 0.950\n",
      "Road          : 0.985\n",
      "Car           : 0.958\n",
      "Sky           : 0.938\n",
      "Tree          : 0.931\n",
      "---------------------\n",
      "Mean IoU      : 0.901\n",
      "---------------------\n",
      "train epoch  86\n",
      "loss : 0.0725   acc : 0.9692   miou : 0.9005\n"
     ]
    },
    {
     "name": "stderr",
     "output_type": "stream",
     "text": [
      "100%|██████████| 245/245 [04:06<00:00,  1.00s/it]\n"
     ]
    },
    {
     "name": "stdout",
     "output_type": "stream",
     "text": [
      "classes           IoU\n",
      "---------------------\n",
      "Pole          : 0.659\n",
      "SignSymbol    : 0.877\n",
      "Bicyclist     : 0.887\n",
      "Pedestrian    : 0.824\n",
      "Building      : 0.958\n",
      "Fence         : 0.943\n",
      "Pavement      : 0.950\n",
      "Road          : 0.985\n",
      "Car           : 0.958\n",
      "Sky           : 0.938\n",
      "Tree          : 0.932\n",
      "---------------------\n",
      "Mean IoU      : 0.901\n",
      "---------------------\n",
      "train epoch  87\n",
      "loss : 0.0716   acc : 0.9693   miou : 0.9011\n",
      "mIoU improved from 0.9005 to 0.9011.\n"
     ]
    },
    {
     "name": "stderr",
     "output_type": "stream",
     "text": [
      "100%|██████████| 245/245 [04:05<00:00,  1.00s/it]\n"
     ]
    },
    {
     "name": "stdout",
     "output_type": "stream",
     "text": [
      "classes           IoU\n",
      "---------------------\n",
      "Pole          : 0.659\n",
      "SignSymbol    : 0.877\n",
      "Bicyclist     : 0.887\n",
      "Pedestrian    : 0.823\n",
      "Building      : 0.958\n",
      "Fence         : 0.944\n",
      "Pavement      : 0.951\n",
      "Road          : 0.986\n",
      "Car           : 0.958\n",
      "Sky           : 0.938\n",
      "Tree          : 0.932\n",
      "---------------------\n",
      "Mean IoU      : 0.901\n",
      "---------------------\n",
      "train epoch  88\n",
      "loss : 0.0716   acc : 0.9694   miou : 0.9012\n",
      "mIoU improved from 0.9011 to 0.9012.\n"
     ]
    },
    {
     "name": "stderr",
     "output_type": "stream",
     "text": [
      "100%|██████████| 245/245 [04:05<00:00,  1.00s/it]\n"
     ]
    },
    {
     "name": "stdout",
     "output_type": "stream",
     "text": [
      "classes           IoU\n",
      "---------------------\n",
      "Pole          : 0.660\n",
      "SignSymbol    : 0.878\n",
      "Bicyclist     : 0.887\n",
      "Pedestrian    : 0.824\n",
      "Building      : 0.958\n",
      "Fence         : 0.943\n",
      "Pavement      : 0.951\n",
      "Road          : 0.986\n",
      "Car           : 0.958\n",
      "Sky           : 0.938\n",
      "Tree          : 0.932\n",
      "---------------------\n",
      "Mean IoU      : 0.902\n",
      "---------------------\n",
      "train epoch  89\n",
      "loss : 0.0714   acc : 0.9695   miou : 0.9015\n",
      "mIoU improved from 0.9012 to 0.9015.\n"
     ]
    },
    {
     "name": "stderr",
     "output_type": "stream",
     "text": [
      "100%|██████████| 245/245 [04:06<00:00,  1.00s/it]\n"
     ]
    },
    {
     "name": "stdout",
     "output_type": "stream",
     "text": [
      "classes           IoU\n",
      "---------------------\n",
      "Pole          : 0.660\n",
      "SignSymbol    : 0.879\n",
      "Bicyclist     : 0.888\n",
      "Pedestrian    : 0.823\n",
      "Building      : 0.959\n",
      "Fence         : 0.944\n",
      "Pavement      : 0.951\n",
      "Road          : 0.985\n",
      "Car           : 0.958\n",
      "Sky           : 0.939\n",
      "Tree          : 0.932\n",
      "---------------------\n",
      "Mean IoU      : 0.902\n",
      "---------------------\n",
      "train epoch  90\n",
      "loss : 0.0711   acc : 0.9695   miou : 0.9017\n",
      "mIoU improved from 0.9015 to 0.9017.\n"
     ]
    },
    {
     "name": "stderr",
     "output_type": "stream",
     "text": [
      "100%|██████████| 245/245 [04:06<00:00,  1.00s/it]\n"
     ]
    },
    {
     "name": "stdout",
     "output_type": "stream",
     "text": [
      "classes           IoU\n",
      "---------------------\n",
      "Pole          : 0.662\n",
      "SignSymbol    : 0.879\n",
      "Bicyclist     : 0.888\n",
      "Pedestrian    : 0.825\n",
      "Building      : 0.959\n",
      "Fence         : 0.944\n",
      "Pavement      : 0.951\n",
      "Road          : 0.986\n",
      "Car           : 0.959\n",
      "Sky           : 0.939\n",
      "Tree          : 0.933\n",
      "---------------------\n",
      "Mean IoU      : 0.902\n",
      "---------------------\n",
      "train epoch  91\n",
      "loss : 0.0708   acc : 0.9697   miou : 0.9022\n",
      "mIoU improved from 0.9017 to 0.9022.\n"
     ]
    },
    {
     "name": "stderr",
     "output_type": "stream",
     "text": [
      "100%|██████████| 245/245 [04:06<00:00,  1.00s/it]\n"
     ]
    },
    {
     "name": "stdout",
     "output_type": "stream",
     "text": [
      "classes           IoU\n",
      "---------------------\n",
      "Pole          : 0.662\n",
      "SignSymbol    : 0.880\n",
      "Bicyclist     : 0.889\n",
      "Pedestrian    : 0.826\n",
      "Building      : 0.959\n",
      "Fence         : 0.944\n",
      "Pavement      : 0.951\n",
      "Road          : 0.986\n",
      "Car           : 0.959\n",
      "Sky           : 0.939\n",
      "Tree          : 0.933\n",
      "---------------------\n",
      "Mean IoU      : 0.903\n",
      "---------------------\n",
      "train epoch  92\n",
      "loss : 0.0708   acc : 0.9698   miou : 0.9025\n",
      "mIoU improved from 0.9022 to 0.9025.\n"
     ]
    },
    {
     "name": "stderr",
     "output_type": "stream",
     "text": [
      "100%|██████████| 245/245 [04:06<00:00,  1.00s/it]\n"
     ]
    },
    {
     "name": "stdout",
     "output_type": "stream",
     "text": [
      "classes           IoU\n",
      "---------------------\n",
      "Pole          : 0.662\n",
      "SignSymbol    : 0.880\n",
      "Bicyclist     : 0.890\n",
      "Pedestrian    : 0.826\n",
      "Building      : 0.959\n",
      "Fence         : 0.945\n",
      "Pavement      : 0.951\n",
      "Road          : 0.986\n",
      "Car           : 0.959\n",
      "Sky           : 0.938\n",
      "Tree          : 0.933\n",
      "---------------------\n",
      "Mean IoU      : 0.903\n",
      "---------------------\n",
      "train epoch  93\n",
      "loss : 0.0707   acc : 0.9698   miou : 0.9027\n",
      "mIoU improved from 0.9025 to 0.9027.\n"
     ]
    },
    {
     "name": "stderr",
     "output_type": "stream",
     "text": [
      "100%|██████████| 245/245 [04:05<00:00,  1.00s/it]\n"
     ]
    },
    {
     "name": "stdout",
     "output_type": "stream",
     "text": [
      "classes           IoU\n",
      "---------------------\n",
      "Pole          : 0.663\n",
      "SignSymbol    : 0.881\n",
      "Bicyclist     : 0.889\n",
      "Pedestrian    : 0.827\n",
      "Building      : 0.959\n",
      "Fence         : 0.945\n",
      "Pavement      : 0.951\n",
      "Road          : 0.986\n",
      "Car           : 0.959\n",
      "Sky           : 0.939\n",
      "Tree          : 0.933\n",
      "---------------------\n",
      "Mean IoU      : 0.903\n",
      "---------------------\n",
      "train epoch  94\n",
      "loss : 0.0706   acc : 0.9699   miou : 0.9030\n",
      "mIoU improved from 0.9027 to 0.9030.\n"
     ]
    },
    {
     "name": "stderr",
     "output_type": "stream",
     "text": [
      "100%|██████████| 245/245 [04:06<00:00,  1.00s/it]\n"
     ]
    },
    {
     "name": "stdout",
     "output_type": "stream",
     "text": [
      "classes           IoU\n",
      "---------------------\n",
      "Pole          : 0.664\n",
      "SignSymbol    : 0.881\n",
      "Bicyclist     : 0.890\n",
      "Pedestrian    : 0.827\n",
      "Building      : 0.959\n",
      "Fence         : 0.946\n",
      "Pavement      : 0.952\n",
      "Road          : 0.986\n",
      "Car           : 0.959\n",
      "Sky           : 0.939\n",
      "Tree          : 0.933\n",
      "---------------------\n",
      "Mean IoU      : 0.903\n",
      "---------------------\n",
      "train epoch  95\n",
      "loss : 0.0700   acc : 0.9700   miou : 0.9033\n",
      "mIoU improved from 0.9030 to 0.9033.\n"
     ]
    },
    {
     "name": "stderr",
     "output_type": "stream",
     "text": [
      "100%|██████████| 245/245 [04:05<00:00,  1.00s/it]\n"
     ]
    },
    {
     "name": "stdout",
     "output_type": "stream",
     "text": [
      "classes           IoU\n",
      "---------------------\n",
      "Pole          : 0.665\n",
      "SignSymbol    : 0.881\n",
      "Bicyclist     : 0.891\n",
      "Pedestrian    : 0.827\n",
      "Building      : 0.960\n",
      "Fence         : 0.946\n",
      "Pavement      : 0.952\n",
      "Road          : 0.986\n",
      "Car           : 0.960\n",
      "Sky           : 0.939\n",
      "Tree          : 0.933\n",
      "---------------------\n",
      "Mean IoU      : 0.904\n",
      "---------------------\n",
      "train epoch  96\n",
      "loss : 0.0697   acc : 0.9701   miou : 0.9036\n",
      "mIoU improved from 0.9033 to 0.9036.\n"
     ]
    },
    {
     "name": "stderr",
     "output_type": "stream",
     "text": [
      "100%|██████████| 245/245 [04:06<00:00,  1.00s/it]\n"
     ]
    },
    {
     "name": "stdout",
     "output_type": "stream",
     "text": [
      "classes           IoU\n",
      "---------------------\n",
      "Pole          : 0.666\n",
      "SignSymbol    : 0.882\n",
      "Bicyclist     : 0.891\n",
      "Pedestrian    : 0.829\n",
      "Building      : 0.960\n",
      "Fence         : 0.946\n",
      "Pavement      : 0.952\n",
      "Road          : 0.986\n",
      "Car           : 0.960\n",
      "Sky           : 0.939\n",
      "Tree          : 0.934\n",
      "---------------------\n",
      "Mean IoU      : 0.904\n",
      "---------------------\n",
      "train epoch  97\n",
      "loss : 0.0695   acc : 0.9702   miou : 0.9039\n",
      "mIoU improved from 0.9036 to 0.9039.\n"
     ]
    },
    {
     "name": "stderr",
     "output_type": "stream",
     "text": [
      "100%|██████████| 245/245 [04:05<00:00,  1.00s/it]\n"
     ]
    },
    {
     "name": "stdout",
     "output_type": "stream",
     "text": [
      "classes           IoU\n",
      "---------------------\n",
      "Pole          : 0.666\n",
      "SignSymbol    : 0.882\n",
      "Bicyclist     : 0.891\n",
      "Pedestrian    : 0.828\n",
      "Building      : 0.960\n",
      "Fence         : 0.946\n",
      "Pavement      : 0.952\n",
      "Road          : 0.986\n",
      "Car           : 0.960\n",
      "Sky           : 0.939\n",
      "Tree          : 0.934\n",
      "---------------------\n",
      "Mean IoU      : 0.904\n",
      "---------------------\n",
      "train epoch  98\n",
      "loss : 0.0693   acc : 0.9703   miou : 0.9041\n",
      "mIoU improved from 0.9039 to 0.9041.\n"
     ]
    },
    {
     "name": "stderr",
     "output_type": "stream",
     "text": [
      "100%|██████████| 245/245 [04:06<00:00,  1.00s/it]\n"
     ]
    },
    {
     "name": "stdout",
     "output_type": "stream",
     "text": [
      "classes           IoU\n",
      "---------------------\n",
      "Pole          : 0.666\n",
      "SignSymbol    : 0.882\n",
      "Bicyclist     : 0.892\n",
      "Pedestrian    : 0.828\n",
      "Building      : 0.960\n",
      "Fence         : 0.946\n",
      "Pavement      : 0.953\n",
      "Road          : 0.986\n",
      "Car           : 0.960\n",
      "Sky           : 0.939\n",
      "Tree          : 0.934\n",
      "---------------------\n",
      "Mean IoU      : 0.904\n",
      "---------------------\n",
      "train epoch  99\n",
      "loss : 0.0694   acc : 0.9703   miou : 0.9042\n",
      "mIoU improved from 0.9041 to 0.9042.\n"
     ]
    },
    {
     "name": "stderr",
     "output_type": "stream",
     "text": [
      "100%|██████████| 245/245 [04:06<00:00,  1.00s/it]\n"
     ]
    },
    {
     "name": "stdout",
     "output_type": "stream",
     "text": [
      "classes           IoU\n",
      "---------------------\n",
      "Pole          : 0.667\n",
      "SignSymbol    : 0.883\n",
      "Bicyclist     : 0.891\n",
      "Pedestrian    : 0.829\n",
      "Building      : 0.960\n",
      "Fence         : 0.947\n",
      "Pavement      : 0.953\n",
      "Road          : 0.986\n",
      "Car           : 0.960\n",
      "Sky           : 0.939\n",
      "Tree          : 0.934\n",
      "---------------------\n",
      "Mean IoU      : 0.904\n",
      "---------------------\n",
      "train epoch  100\n",
      "loss : 0.0690   acc : 0.9703   miou : 0.9045\n",
      "mIoU improved from 0.9042 to 0.9045.\n"
     ]
    }
   ],
   "source": [
    "for epoch in range(num_epoch):\n",
    "\n",
    "    loss_running = AverageMeter('Loss', ':.4e')\n",
    "    acc_running = AverageMeter('Accuracy', ':.3f')  \n",
    "    iou = iouCalc(classLabels, validClasses, voidClass = 11)\n",
    "    progress = ProgressMeter(\n",
    "        len(train_data),\n",
    "        [loss_running, acc_running],\n",
    "        prefix=\"Train, epoch: [{}]\".format(epoch))\n",
    "    \n",
    "    for batch, (x, y) in enumerate(tqdm(train_data, total=len(train_data))):\n",
    "        \n",
    "        model.train()    \n",
    "    \n",
    "        x = x.to(device)\n",
    "        y = y.to(device)\n",
    "        # zero the parameter gradients\n",
    "        optimizer.zero_grad()\n",
    "        # forward pass\n",
    "        outputs = model(x)\n",
    "        outputs = outputs['out']\n",
    "        preds = torch.argmax(outputs, 1)\n",
    "        \n",
    "        # cross-entropy loss\n",
    "        loss = criterion(outputs, y)\n",
    "\n",
    "        # backward pass\n",
    "        loss.backward()\n",
    "        optimizer.step()\n",
    "        \n",
    "        # Statistics\n",
    "        bs = x.size(0)\n",
    "        loss = loss.item()\n",
    "        loss_running.update(loss, bs)\n",
    "        corrects = torch.sum((preds == y) & (y != 12))\n",
    "        \n",
    "        nvoid = int((y==12).sum())\n",
    "        acc = corrects.double()/(bs*res-nvoid)\n",
    "        acc_running.update(acc, bs)\n",
    "        \n",
    "        # Calculate IoU scores of current batch\n",
    "        iou.evaluateBatch(preds, y)\n",
    "        \n",
    "        # progress.display(batch)\n",
    "        \n",
    "     \n",
    "    scheduler.step(loss_running.avg)\n",
    "    miou = iou.outputScores()\n",
    "    \n",
    "    print('train epoch ', epoch+1)\n",
    "    print('loss : {:.4f}   acc : {:.4f}   miou : {:.4f}'.format(loss_running.avg, acc_running.avg, miou))\n",
    "    \n",
    "    # save checkpoint per epoch\n",
    "    now = datetime.datetime.now()\n",
    "    now_time = now.strftime('%y%m%d_%H:%M')\n",
    "    \n",
    "    # save path\n",
    "    if not os.path.isdir(os.getcwd() + '/result/' + filename):\n",
    "        os.makedirs(os.getcwd() + '/result/' + filename)\n",
    "    \n",
    "    save_path = os.getcwd() + '/result/' + filename + '/'\n",
    "    \n",
    "    with open(save_path + 'train_log_epoch.csv', 'a') as epoch_log:\n",
    "            epoch_log.write('{}, {:.5f}, {:.5f}, {:.5f}\\n'.format(\n",
    "                    epoch+1, loss_running.avg, acc_running.avg, miou))\n",
    "    \n",
    "    # Save best model to file\n",
    "    torch.save({\n",
    "        'epoch' : epoch+1,\n",
    "        'model_state_dict' : model.state_dict(),\n",
    "        'optimizer_state_dict': optimizer.state_dict(),\n",
    "        'best_miou': best_miou,\n",
    "        'metrics': metrics,\n",
    "        }, save_path + now_time + '_checkpoint.pth.tar')\n",
    "    \n",
    "    # Save best model to file\n",
    "    if miou > best_miou:\n",
    "        print('mIoU improved from {:.4f} to {:.4f}.'.format(best_miou, miou))\n",
    "        best_miou = miou\n",
    "        torch.save({\n",
    "            'epoch': epoch+1,\n",
    "            'model_state_dict': model.state_dict(),\n",
    "            }, save_path + now_time + '_best_weights.pth.tar')\n"
   ]
  },
  {
   "cell_type": "code",
   "execution_count": 18,
   "id": "c2e97486",
   "metadata": {},
   "outputs": [
    {
     "data": {
      "image/png": "[encoded data removed]",
      "text/plain": [
       "<Figure size 1440x360 with 1 Axes>"
      ]
     },
     "metadata": {
      "needs_background": "light"
     },
     "output_type": "display_data"
    }
   ],
   "source": [
    "log_epoch = pd.read_csv('result/' + filename + '/train_log_epoch.csv', names = ['epoch', 'loss', 'accuracy', 'miou'])\n",
    "\n",
    "plt.figure(figsize=(20, 5))\n",
    "plt.plot(log_epoch['epoch'], log_epoch['miou'], label = 'miou')\n",
    "plt.plot(log_epoch['epoch'], log_epoch['accuracy'], label = 'accuracy')\n",
    "plt.plot(log_epoch['epoch'], log_epoch['loss'], label = 'loss')\n",
    "plt.xticks([i for i in range(1, log_epoch.shape[0]+1)])\n",
    "plt.title(\"DeepLab V3 resnet50\")\n",
    "plt.xlabel(\"epoch\")\n",
    "plt.ylabel(\"\")\n",
    "plt.legend()\n",
    "plt.show()"
   ]
  },
  {
   "cell_type": "markdown",
   "id": "308d4208",
   "metadata": {},
   "source": [
    "## validation"
   ]
  },
  {
   "cell_type": "code",
   "execution_count": 19,
   "id": "c44edcd4",
   "metadata": {},
   "outputs": [],
   "source": [
    "val_X = torch.tensor(val_x, dtype=torch.float32)\n",
    "val_Y = torch.tensor(val_y, dtype=torch.long)\n",
    "\n",
    "val_data = torch.utils.data.TensorDataset(val_X.permute(dims=(0, 3, 1, 2)), val_Y)\n",
    "\n",
    "val_data = torch.utils.data.DataLoader(val_data, batch_size=1, shuffle=True)"
   ]
  },
  {
   "cell_type": "code",
   "execution_count": 20,
   "id": "db04a703",
   "metadata": {},
   "outputs": [],
   "source": [
    "# Load best model\n",
    "\n",
    "save_path = os.getcwd() + '/result/' + filename + '/'\n",
    "result = [file for file in sorted(os.listdir(save_path), reverse=False) if file[13:] == 'checkpoint.pth.tar' ]"
   ]
  },
  {
   "cell_type": "code",
   "execution_count": 22,
   "id": "fd61d09e",
   "metadata": {},
   "outputs": [
    {
     "data": {
      "text/plain": [
       "(100, '210606_14:26_checkpoint.pth.tar')"
      ]
     },
     "execution_count": 22,
     "metadata": {},
     "output_type": "execute_result"
    }
   ],
   "source": [
    "len(result), result[0]"
   ]
  },
  {
   "cell_type": "code",
   "execution_count": 23,
   "id": "721e4e9f",
   "metadata": {
    "scrolled": true
   },
   "outputs": [
    {
     "name": "stderr",
     "output_type": "stream",
     "text": [
      "  2%|▏         | 1/62 [00:00<00:07,  7.79it/s]"
     ]
    },
    {
     "name": "stdout",
     "output_type": "stream",
     "text": [
      "Loaded best model weights (epoch 1) from 210606_14:26_checkpoint.pth.tar\n"
     ]
    },
    {
     "name": "stderr",
     "output_type": "stream",
     "text": [
      "100%|██████████| 62/62 [00:06<00:00,  9.39it/s]\n",
      "  0%|          | 0/62 [00:00<?, ?it/s]"
     ]
    },
    {
     "name": "stdout",
     "output_type": "stream",
     "text": [
      "classes           IoU\n",
      "---------------------\n",
      "Pole          : 0.266\n",
      "SignSymbol    : 0.463\n",
      "Bicyclist     : 0.494\n",
      "Pedestrian    : 0.369\n",
      "Building      : 0.725\n",
      "Fence         : 0.508\n",
      "Pavement      : 0.750\n",
      "Road          : 0.899\n",
      "Car           : 0.673\n",
      "Sky           : 0.848\n",
      "Tree          : 0.754\n",
      "---------------------\n",
      "Mean IoU      : 0.614\n",
      "---------------------\n",
      "validataion\n",
      "loss : 0.5019   acc : 0.8450   miou : 0.6135\n",
      "Loaded best model weights (epoch 2) from 210606_14:30_checkpoint.pth.tar\n"
     ]
    },
    {
     "name": "stderr",
     "output_type": "stream",
     "text": [
      "100%|██████████| 62/62 [00:06<00:00,  9.37it/s]\n",
      "  0%|          | 0/62 [00:00<?, ?it/s]"
     ]
    },
    {
     "name": "stdout",
     "output_type": "stream",
     "text": [
      "classes           IoU\n",
      "---------------------\n",
      "Pole          : 0.377\n",
      "SignSymbol    : 0.529\n",
      "Bicyclist     : 0.592\n",
      "Pedestrian    : 0.464\n",
      "Building      : 0.830\n",
      "Fence         : 0.595\n",
      "Pavement      : 0.777\n",
      "Road          : 0.914\n",
      "Car           : 0.811\n",
      "Sky           : 0.888\n",
      "Tree          : 0.788\n",
      "---------------------\n",
      "Mean IoU      : 0.688\n",
      "---------------------\n",
      "validataion\n",
      "loss : 0.3541   acc : 0.8841   miou : 0.6877\n",
      "Loaded best model weights (epoch 3) from 210606_14:34_checkpoint.pth.tar\n"
     ]
    },
    {
     "name": "stderr",
     "output_type": "stream",
     "text": [
      "100%|██████████| 62/62 [00:06<00:00,  9.44it/s]\n",
      "  0%|          | 0/62 [00:00<?, ?it/s]"
     ]
    },
    {
     "name": "stdout",
     "output_type": "stream",
     "text": [
      "classes           IoU\n",
      "---------------------\n",
      "Pole          : 0.401\n",
      "SignSymbol    : 0.553\n",
      "Bicyclist     : 0.644\n",
      "Pedestrian    : 0.564\n",
      "Building      : 0.828\n",
      "Fence         : 0.650\n",
      "Pavement      : 0.783\n",
      "Road          : 0.892\n",
      "Car           : 0.727\n",
      "Sky           : 0.900\n",
      "Tree          : 0.811\n",
      "---------------------\n",
      "Mean IoU      : 0.705\n",
      "---------------------\n",
      "validataion\n",
      "loss : 0.3074   acc : 0.8850   miou : 0.7048\n",
      "Loaded best model weights (epoch 4) from 210606_14:38_checkpoint.pth.tar\n"
     ]
    },
    {
     "name": "stderr",
     "output_type": "stream",
     "text": [
      "100%|██████████| 62/62 [00:06<00:00,  9.41it/s]\n",
      "  0%|          | 0/62 [00:00<?, ?it/s]"
     ]
    },
    {
     "name": "stdout",
     "output_type": "stream",
     "text": [
      "classes           IoU\n",
      "---------------------\n",
      "Pole          : 0.374\n",
      "SignSymbol    : 0.606\n",
      "Bicyclist     : 0.694\n",
      "Pedestrian    : 0.509\n",
      "Building      : 0.839\n",
      "Fence         : 0.715\n",
      "Pavement      : 0.833\n",
      "Road          : 0.938\n",
      "Car           : 0.854\n",
      "Sky           : 0.906\n",
      "Tree          : 0.811\n",
      "---------------------\n",
      "Mean IoU      : 0.734\n",
      "---------------------\n",
      "validataion\n",
      "loss : 0.2622   acc : 0.9019   miou : 0.7345\n",
      "Loaded best model weights (epoch 5) from 210606_14:43_checkpoint.pth.tar\n"
     ]
    },
    {
     "name": "stderr",
     "output_type": "stream",
     "text": [
      "100%|██████████| 62/62 [00:06<00:00,  9.41it/s]\n",
      "  0%|          | 0/62 [00:00<?, ?it/s]"
     ]
    },
    {
     "name": "stdout",
     "output_type": "stream",
     "text": [
      "classes           IoU\n",
      "---------------------\n",
      "Pole          : 0.426\n",
      "SignSymbol    : 0.661\n",
      "Bicyclist     : 0.595\n",
      "Pedestrian    : 0.580\n",
      "Building      : 0.870\n",
      "Fence         : 0.587\n",
      "Pavement      : 0.824\n",
      "Road          : 0.935\n",
      "Car           : 0.873\n",
      "Sky           : 0.913\n",
      "Tree          : 0.826\n",
      "---------------------\n",
      "Mean IoU      : 0.735\n",
      "---------------------\n",
      "validataion\n",
      "loss : 0.2514   acc : 0.9119   miou : 0.7355\n",
      "Loaded best model weights (epoch 6) from 210606_14:47_checkpoint.pth.tar\n"
     ]
    },
    {
     "name": "stderr",
     "output_type": "stream",
     "text": [
      "100%|██████████| 62/62 [00:06<00:00,  9.38it/s]\n",
      "  0%|          | 0/62 [00:00<?, ?it/s]"
     ]
    },
    {
     "name": "stdout",
     "output_type": "stream",
     "text": [
      "classes           IoU\n",
      "---------------------\n",
      "Pole          : 0.370\n",
      "SignSymbol    : 0.618\n",
      "Bicyclist     : 0.678\n",
      "Pedestrian    : 0.612\n",
      "Building      : 0.847\n",
      "Fence         : 0.776\n",
      "Pavement      : 0.863\n",
      "Road          : 0.954\n",
      "Car           : 0.884\n",
      "Sky           : 0.909\n",
      "Tree          : 0.835\n",
      "---------------------\n",
      "Mean IoU      : 0.759\n",
      "---------------------\n",
      "validataion\n",
      "loss : 0.2149   acc : 0.9145   miou : 0.7588\n",
      "Loaded best model weights (epoch 7) from 210606_14:51_checkpoint.pth.tar\n"
     ]
    },
    {
     "name": "stderr",
     "output_type": "stream",
     "text": [
      "100%|██████████| 62/62 [00:06<00:00,  9.39it/s]\n",
      "  0%|          | 0/62 [00:00<?, ?it/s]"
     ]
    },
    {
     "name": "stdout",
     "output_type": "stream",
     "text": [
      "classes           IoU\n",
      "---------------------\n",
      "Pole          : 0.423\n",
      "SignSymbol    : 0.715\n",
      "Bicyclist     : 0.742\n",
      "Pedestrian    : 0.660\n",
      "Building      : 0.878\n",
      "Fence         : 0.761\n",
      "Pavement      : 0.872\n",
      "Road          : 0.948\n",
      "Car           : 0.893\n",
      "Sky           : 0.908\n",
      "Tree          : 0.847\n",
      "---------------------\n",
      "Mean IoU      : 0.786\n",
      "---------------------\n",
      "validataion\n",
      "loss : 0.1987   acc : 0.9224   miou : 0.7861\n",
      "Loaded best model weights (epoch 8) from 210606_14:55_checkpoint.pth.tar\n"
     ]
    },
    {
     "name": "stderr",
     "output_type": "stream",
     "text": [
      "100%|██████████| 62/62 [00:06<00:00,  9.36it/s]\n",
      "  0%|          | 0/62 [00:00<?, ?it/s]"
     ]
    },
    {
     "name": "stdout",
     "output_type": "stream",
     "text": [
      "classes           IoU\n",
      "---------------------\n",
      "Pole          : 0.445\n",
      "SignSymbol    : 0.695\n",
      "Bicyclist     : 0.753\n",
      "Pedestrian    : 0.642\n",
      "Building      : 0.885\n",
      "Fence         : 0.776\n",
      "Pavement      : 0.873\n",
      "Road          : 0.955\n",
      "Car           : 0.888\n",
      "Sky           : 0.911\n",
      "Tree          : 0.858\n",
      "---------------------\n",
      "Mean IoU      : 0.789\n",
      "---------------------\n",
      "validataion\n",
      "loss : 0.1798   acc : 0.9278   miou : 0.7893\n",
      "Loaded best model weights (epoch 9) from 210606_14:59_checkpoint.pth.tar\n"
     ]
    },
    {
     "name": "stderr",
     "output_type": "stream",
     "text": [
      "100%|██████████| 62/62 [00:06<00:00,  9.35it/s]\n",
      "  0%|          | 0/62 [00:00<?, ?it/s]"
     ]
    },
    {
     "name": "stdout",
     "output_type": "stream",
     "text": [
      "classes           IoU\n",
      "---------------------\n",
      "Pole          : 0.453\n",
      "SignSymbol    : 0.723\n",
      "Bicyclist     : 0.768\n",
      "Pedestrian    : 0.681\n",
      "Building      : 0.870\n",
      "Fence         : 0.782\n",
      "Pavement      : 0.881\n",
      "Road          : 0.959\n",
      "Car           : 0.897\n",
      "Sky           : 0.914\n",
      "Tree          : 0.857\n",
      "---------------------\n",
      "Mean IoU      : 0.799\n",
      "---------------------\n",
      "validataion\n",
      "loss : 0.1779   acc : 0.9274   miou : 0.7986\n",
      "Loaded best model weights (epoch 10) from 210606_15:03_checkpoint.pth.tar\n"
     ]
    },
    {
     "name": "stderr",
     "output_type": "stream",
     "text": [
      "100%|██████████| 62/62 [00:06<00:00,  9.33it/s]\n",
      "  0%|          | 0/62 [00:00<?, ?it/s]"
     ]
    },
    {
     "name": "stdout",
     "output_type": "stream",
     "text": [
      "classes           IoU\n",
      "---------------------\n",
      "Pole          : 0.461\n",
      "SignSymbol    : 0.746\n",
      "Bicyclist     : 0.722\n",
      "Pedestrian    : 0.705\n",
      "Building      : 0.895\n",
      "Fence         : 0.809\n",
      "Pavement      : 0.875\n",
      "Road          : 0.959\n",
      "Car           : 0.907\n",
      "Sky           : 0.923\n",
      "Tree          : 0.867\n",
      "---------------------\n",
      "Mean IoU      : 0.806\n",
      "---------------------\n",
      "validataion\n",
      "loss : 0.1651   acc : 0.9346   miou : 0.8063\n",
      "Loaded best model weights (epoch 11) from 210606_15:07_checkpoint.pth.tar\n"
     ]
    },
    {
     "name": "stderr",
     "output_type": "stream",
     "text": [
      "100%|██████████| 62/62 [00:06<00:00,  9.33it/s]\n",
      "  0%|          | 0/62 [00:00<?, ?it/s]"
     ]
    },
    {
     "name": "stdout",
     "output_type": "stream",
     "text": [
      "classes           IoU\n",
      "---------------------\n",
      "Pole          : 0.461\n",
      "SignSymbol    : 0.741\n",
      "Bicyclist     : 0.737\n",
      "Pedestrian    : 0.675\n",
      "Building      : 0.898\n",
      "Fence         : 0.829\n",
      "Pavement      : 0.893\n",
      "Road          : 0.963\n",
      "Car           : 0.902\n",
      "Sky           : 0.922\n",
      "Tree          : 0.870\n",
      "---------------------\n",
      "Mean IoU      : 0.808\n",
      "---------------------\n",
      "validataion\n",
      "loss : 0.1592   acc : 0.9364   miou : 0.8082\n",
      "Loaded best model weights (epoch 12) from 210606_15:11_checkpoint.pth.tar\n"
     ]
    },
    {
     "name": "stderr",
     "output_type": "stream",
     "text": [
      "100%|██████████| 62/62 [00:06<00:00,  9.31it/s]\n",
      "  0%|          | 0/62 [00:00<?, ?it/s]"
     ]
    },
    {
     "name": "stdout",
     "output_type": "stream",
     "text": [
      "classes           IoU\n",
      "---------------------\n",
      "Pole          : 0.508\n",
      "SignSymbol    : 0.768\n",
      "Bicyclist     : 0.781\n",
      "Pedestrian    : 0.717\n",
      "Building      : 0.905\n",
      "Fence         : 0.829\n",
      "Pavement      : 0.895\n",
      "Road          : 0.966\n",
      "Car           : 0.913\n",
      "Sky           : 0.927\n",
      "Tree          : 0.878\n",
      "---------------------\n",
      "Mean IoU      : 0.826\n",
      "---------------------\n",
      "validataion\n",
      "loss : 0.1495   acc : 0.9415   miou : 0.8261\n",
      "Loaded best model weights (epoch 13) from 210606_15:15_checkpoint.pth.tar\n"
     ]
    },
    {
     "name": "stderr",
     "output_type": "stream",
     "text": [
      "100%|██████████| 62/62 [00:06<00:00,  9.31it/s]\n",
      "  0%|          | 0/62 [00:00<?, ?it/s]"
     ]
    },
    {
     "name": "stdout",
     "output_type": "stream",
     "text": [
      "classes           IoU\n",
      "---------------------\n",
      "Pole          : 0.506\n",
      "SignSymbol    : 0.731\n",
      "Bicyclist     : 0.765\n",
      "Pedestrian    : 0.703\n",
      "Building      : 0.912\n",
      "Fence         : 0.847\n",
      "Pavement      : 0.900\n",
      "Road          : 0.966\n",
      "Car           : 0.919\n",
      "Sky           : 0.914\n",
      "Tree          : 0.873\n",
      "---------------------\n",
      "Mean IoU      : 0.821\n",
      "---------------------\n",
      "validataion\n",
      "loss : 0.1436   acc : 0.9408   miou : 0.8215\n",
      "Loaded best model weights (epoch 14) from 210606_15:20_checkpoint.pth.tar\n"
     ]
    },
    {
     "name": "stderr",
     "output_type": "stream",
     "text": [
      "100%|██████████| 62/62 [00:06<00:00,  9.30it/s]\n",
      "  0%|          | 0/62 [00:00<?, ?it/s]"
     ]
    },
    {
     "name": "stdout",
     "output_type": "stream",
     "text": [
      "classes           IoU\n",
      "---------------------\n",
      "Pole          : 0.531\n",
      "SignSymbol    : 0.749\n",
      "Bicyclist     : 0.772\n",
      "Pedestrian    : 0.679\n",
      "Building      : 0.914\n",
      "Fence         : 0.844\n",
      "Pavement      : 0.907\n",
      "Road          : 0.970\n",
      "Car           : 0.919\n",
      "Sky           : 0.928\n",
      "Tree          : 0.878\n",
      "---------------------\n",
      "Mean IoU      : 0.826\n",
      "---------------------\n",
      "validataion\n",
      "loss : 0.1386   acc : 0.9445   miou : 0.8264\n",
      "Loaded best model weights (epoch 15) from 210606_15:24_checkpoint.pth.tar\n"
     ]
    },
    {
     "name": "stderr",
     "output_type": "stream",
     "text": [
      "100%|██████████| 62/62 [00:06<00:00,  9.29it/s]\n",
      "  0%|          | 0/62 [00:00<?, ?it/s]"
     ]
    },
    {
     "name": "stdout",
     "output_type": "stream",
     "text": [
      "classes           IoU\n",
      "---------------------\n",
      "Pole          : 0.527\n",
      "SignSymbol    : 0.751\n",
      "Bicyclist     : 0.755\n",
      "Pedestrian    : 0.722\n",
      "Building      : 0.913\n",
      "Fence         : 0.863\n",
      "Pavement      : 0.903\n",
      "Road          : 0.969\n",
      "Car           : 0.921\n",
      "Sky           : 0.927\n",
      "Tree          : 0.885\n",
      "---------------------\n",
      "Mean IoU      : 0.831\n",
      "---------------------\n",
      "validataion\n",
      "loss : 0.1350   acc : 0.9455   miou : 0.8305\n",
      "Loaded best model weights (epoch 16) from 210606_15:28_checkpoint.pth.tar\n"
     ]
    },
    {
     "name": "stderr",
     "output_type": "stream",
     "text": [
      "100%|██████████| 62/62 [00:06<00:00,  9.30it/s]\n",
      "  0%|          | 0/62 [00:00<?, ?it/s]"
     ]
    },
    {
     "name": "stdout",
     "output_type": "stream",
     "text": [
      "classes           IoU\n",
      "---------------------\n",
      "Pole          : 0.536\n",
      "SignSymbol    : 0.798\n",
      "Bicyclist     : 0.809\n",
      "Pedestrian    : 0.735\n",
      "Building      : 0.926\n",
      "Fence         : 0.851\n",
      "Pavement      : 0.912\n",
      "Road          : 0.971\n",
      "Car           : 0.923\n",
      "Sky           : 0.924\n",
      "Tree          : 0.885\n",
      "---------------------\n",
      "Mean IoU      : 0.843\n",
      "---------------------\n",
      "validataion\n",
      "loss : 0.1314   acc : 0.9488   miou : 0.8429\n",
      "Loaded best model weights (epoch 17) from 210606_15:32_checkpoint.pth.tar\n"
     ]
    },
    {
     "name": "stderr",
     "output_type": "stream",
     "text": [
      "100%|██████████| 62/62 [00:06<00:00,  9.28it/s]\n",
      "  0%|          | 0/62 [00:00<?, ?it/s]"
     ]
    },
    {
     "name": "stdout",
     "output_type": "stream",
     "text": [
      "classes           IoU\n",
      "---------------------\n",
      "Pole          : 0.537\n",
      "SignSymbol    : 0.755\n",
      "Bicyclist     : 0.779\n",
      "Pedestrian    : 0.712\n",
      "Building      : 0.915\n",
      "Fence         : 0.874\n",
      "Pavement      : 0.916\n",
      "Road          : 0.970\n",
      "Car           : 0.915\n",
      "Sky           : 0.928\n",
      "Tree          : 0.887\n",
      "---------------------\n",
      "Mean IoU      : 0.835\n",
      "---------------------\n",
      "validataion\n",
      "loss : 0.1288   acc : 0.9470   miou : 0.8353\n",
      "Loaded best model weights (epoch 18) from 210606_15:36_checkpoint.pth.tar\n"
     ]
    },
    {
     "name": "stderr",
     "output_type": "stream",
     "text": [
      "100%|██████████| 62/62 [00:06<00:00,  9.28it/s]\n",
      "  0%|          | 0/62 [00:00<?, ?it/s]"
     ]
    },
    {
     "name": "stdout",
     "output_type": "stream",
     "text": [
      "classes           IoU\n",
      "---------------------\n",
      "Pole          : 0.533\n",
      "SignSymbol    : 0.819\n",
      "Bicyclist     : 0.810\n",
      "Pedestrian    : 0.752\n",
      "Building      : 0.925\n",
      "Fence         : 0.845\n",
      "Pavement      : 0.910\n",
      "Road          : 0.970\n",
      "Car           : 0.925\n",
      "Sky           : 0.930\n",
      "Tree          : 0.889\n",
      "---------------------\n",
      "Mean IoU      : 0.846\n",
      "---------------------\n",
      "validataion\n",
      "loss : 0.1228   acc : 0.9496   miou : 0.8461\n",
      "Loaded best model weights (epoch 19) from 210606_15:40_checkpoint.pth.tar\n"
     ]
    },
    {
     "name": "stderr",
     "output_type": "stream",
     "text": [
      "100%|██████████| 62/62 [00:06<00:00,  9.28it/s]\n",
      "  0%|          | 0/62 [00:00<?, ?it/s]"
     ]
    },
    {
     "name": "stdout",
     "output_type": "stream",
     "text": [
      "classes           IoU\n",
      "---------------------\n",
      "Pole          : 0.549\n",
      "SignSymbol    : 0.826\n",
      "Bicyclist     : 0.809\n",
      "Pedestrian    : 0.728\n",
      "Building      : 0.917\n",
      "Fence         : 0.869\n",
      "Pavement      : 0.908\n",
      "Road          : 0.967\n",
      "Car           : 0.923\n",
      "Sky           : 0.932\n",
      "Tree          : 0.890\n",
      "---------------------\n",
      "Mean IoU      : 0.847\n",
      "---------------------\n",
      "validataion\n",
      "loss : 0.1239   acc : 0.9479   miou : 0.8470\n",
      "Loaded best model weights (epoch 20) from 210606_15:44_checkpoint.pth.tar\n"
     ]
    },
    {
     "name": "stderr",
     "output_type": "stream",
     "text": [
      "100%|██████████| 62/62 [00:06<00:00,  9.20it/s]\n",
      "  0%|          | 0/62 [00:00<?, ?it/s]"
     ]
    },
    {
     "name": "stdout",
     "output_type": "stream",
     "text": [
      "classes           IoU\n",
      "---------------------\n",
      "Pole          : 0.554\n",
      "SignSymbol    : 0.789\n",
      "Bicyclist     : 0.791\n",
      "Pedestrian    : 0.746\n",
      "Building      : 0.925\n",
      "Fence         : 0.867\n",
      "Pavement      : 0.916\n",
      "Road          : 0.971\n",
      "Car           : 0.925\n",
      "Sky           : 0.927\n",
      "Tree          : 0.895\n",
      "---------------------\n",
      "Mean IoU      : 0.846\n",
      "---------------------\n",
      "validataion\n",
      "loss : 0.1213   acc : 0.9509   miou : 0.8461\n",
      "Loaded best model weights (epoch 21) from 210606_15:48_checkpoint.pth.tar\n"
     ]
    },
    {
     "name": "stderr",
     "output_type": "stream",
     "text": [
      "100%|██████████| 62/62 [00:06<00:00,  9.27it/s]\n",
      "  0%|          | 0/62 [00:00<?, ?it/s]"
     ]
    },
    {
     "name": "stdout",
     "output_type": "stream",
     "text": [
      "classes           IoU\n",
      "---------------------\n",
      "Pole          : 0.555\n",
      "SignSymbol    : 0.792\n",
      "Bicyclist     : 0.790\n",
      "Pedestrian    : 0.744\n",
      "Building      : 0.924\n",
      "Fence         : 0.849\n",
      "Pavement      : 0.910\n",
      "Road          : 0.969\n",
      "Car           : 0.928\n",
      "Sky           : 0.931\n",
      "Tree          : 0.892\n",
      "---------------------\n",
      "Mean IoU      : 0.844\n",
      "---------------------\n",
      "validataion\n",
      "loss : 0.1194   acc : 0.9497   miou : 0.8440\n",
      "Loaded best model weights (epoch 22) from 210606_15:52_checkpoint.pth.tar\n"
     ]
    },
    {
     "name": "stderr",
     "output_type": "stream",
     "text": [
      "100%|██████████| 62/62 [00:06<00:00,  9.25it/s]\n",
      "  0%|          | 0/62 [00:00<?, ?it/s]"
     ]
    },
    {
     "name": "stdout",
     "output_type": "stream",
     "text": [
      "classes           IoU\n",
      "---------------------\n",
      "Pole          : 0.555\n",
      "SignSymbol    : 0.805\n",
      "Bicyclist     : 0.816\n",
      "Pedestrian    : 0.748\n",
      "Building      : 0.926\n",
      "Fence         : 0.868\n",
      "Pavement      : 0.921\n",
      "Road          : 0.973\n",
      "Car           : 0.923\n",
      "Sky           : 0.931\n",
      "Tree          : 0.895\n",
      "---------------------\n",
      "Mean IoU      : 0.851\n",
      "---------------------\n",
      "validataion\n",
      "loss : 0.1158   acc : 0.9519   miou : 0.8509\n",
      "Loaded best model weights (epoch 23) from 210606_15:56_checkpoint.pth.tar\n"
     ]
    },
    {
     "name": "stderr",
     "output_type": "stream",
     "text": [
      "100%|██████████| 62/62 [00:06<00:00,  9.25it/s]\n",
      "  0%|          | 0/62 [00:00<?, ?it/s]"
     ]
    },
    {
     "name": "stdout",
     "output_type": "stream",
     "text": [
      "classes           IoU\n",
      "---------------------\n",
      "Pole          : 0.586\n",
      "SignSymbol    : 0.812\n",
      "Bicyclist     : 0.808\n",
      "Pedestrian    : 0.729\n",
      "Building      : 0.934\n",
      "Fence         : 0.885\n",
      "Pavement      : 0.909\n",
      "Road          : 0.968\n",
      "Car           : 0.927\n",
      "Sky           : 0.930\n",
      "Tree          : 0.902\n",
      "---------------------\n",
      "Mean IoU      : 0.854\n",
      "---------------------\n",
      "validataion\n",
      "loss : 0.1143   acc : 0.9531   miou : 0.8536\n",
      "Loaded best model weights (epoch 24) from 210606_16:01_checkpoint.pth.tar\n"
     ]
    },
    {
     "name": "stderr",
     "output_type": "stream",
     "text": [
      "100%|██████████| 62/62 [00:06<00:00,  9.25it/s]\n",
      "  0%|          | 0/62 [00:00<?, ?it/s]"
     ]
    },
    {
     "name": "stdout",
     "output_type": "stream",
     "text": [
      "classes           IoU\n",
      "---------------------\n",
      "Pole          : 0.572\n",
      "SignSymbol    : 0.815\n",
      "Bicyclist     : 0.808\n",
      "Pedestrian    : 0.764\n",
      "Building      : 0.935\n",
      "Fence         : 0.887\n",
      "Pavement      : 0.922\n",
      "Road          : 0.972\n",
      "Car           : 0.931\n",
      "Sky           : 0.934\n",
      "Tree          : 0.900\n",
      "---------------------\n",
      "Mean IoU      : 0.858\n",
      "---------------------\n",
      "validataion\n",
      "loss : 0.1083   acc : 0.9548   miou : 0.8582\n",
      "Loaded best model weights (epoch 25) from 210606_16:05_checkpoint.pth.tar\n"
     ]
    },
    {
     "name": "stderr",
     "output_type": "stream",
     "text": [
      "100%|██████████| 62/62 [00:06<00:00,  9.25it/s]\n",
      "  0%|          | 0/62 [00:00<?, ?it/s]"
     ]
    },
    {
     "name": "stdout",
     "output_type": "stream",
     "text": [
      "classes           IoU\n",
      "---------------------\n",
      "Pole          : 0.586\n",
      "SignSymbol    : 0.831\n",
      "Bicyclist     : 0.826\n",
      "Pedestrian    : 0.753\n",
      "Building      : 0.931\n",
      "Fence         : 0.877\n",
      "Pavement      : 0.923\n",
      "Road          : 0.971\n",
      "Car           : 0.925\n",
      "Sky           : 0.930\n",
      "Tree          : 0.898\n",
      "---------------------\n",
      "Mean IoU      : 0.859\n",
      "---------------------\n",
      "validataion\n",
      "loss : 0.1105   acc : 0.9524   miou : 0.8591\n",
      "Loaded best model weights (epoch 26) from 210606_16:09_checkpoint.pth.tar\n"
     ]
    },
    {
     "name": "stderr",
     "output_type": "stream",
     "text": [
      "100%|██████████| 62/62 [00:06<00:00,  9.23it/s]\n",
      "  0%|          | 0/62 [00:00<?, ?it/s]"
     ]
    },
    {
     "name": "stdout",
     "output_type": "stream",
     "text": [
      "classes           IoU\n",
      "---------------------\n",
      "Pole          : 0.588\n",
      "SignSymbol    : 0.813\n",
      "Bicyclist     : 0.810\n",
      "Pedestrian    : 0.751\n",
      "Building      : 0.936\n",
      "Fence         : 0.898\n",
      "Pavement      : 0.916\n",
      "Road          : 0.970\n",
      "Car           : 0.933\n",
      "Sky           : 0.932\n",
      "Tree          : 0.904\n",
      "---------------------\n",
      "Mean IoU      : 0.859\n",
      "---------------------\n",
      "validataion\n",
      "loss : 0.1092   acc : 0.9553   miou : 0.8593\n",
      "Loaded best model weights (epoch 27) from 210606_16:13_checkpoint.pth.tar\n"
     ]
    },
    {
     "name": "stderr",
     "output_type": "stream",
     "text": [
      "100%|██████████| 62/62 [00:06<00:00,  9.26it/s]\n",
      "  0%|          | 0/62 [00:00<?, ?it/s]"
     ]
    },
    {
     "name": "stdout",
     "output_type": "stream",
     "text": [
      "classes           IoU\n",
      "---------------------\n",
      "Pole          : 0.576\n",
      "SignSymbol    : 0.836\n",
      "Bicyclist     : 0.811\n",
      "Pedestrian    : 0.765\n",
      "Building      : 0.930\n",
      "Fence         : 0.889\n",
      "Pavement      : 0.908\n",
      "Road          : 0.966\n",
      "Car           : 0.930\n",
      "Sky           : 0.922\n",
      "Tree          : 0.902\n",
      "---------------------\n",
      "Mean IoU      : 0.858\n",
      "---------------------\n",
      "validataion\n",
      "loss : 0.1133   acc : 0.9522   miou : 0.8576\n",
      "Loaded best model weights (epoch 28) from 210606_16:17_checkpoint.pth.tar\n"
     ]
    },
    {
     "name": "stderr",
     "output_type": "stream",
     "text": [
      "100%|██████████| 62/62 [00:06<00:00,  9.24it/s]\n",
      "  0%|          | 0/62 [00:00<?, ?it/s]"
     ]
    },
    {
     "name": "stdout",
     "output_type": "stream",
     "text": [
      "classes           IoU\n",
      "---------------------\n",
      "Pole          : 0.595\n",
      "SignSymbol    : 0.845\n",
      "Bicyclist     : 0.818\n",
      "Pedestrian    : 0.763\n",
      "Building      : 0.932\n",
      "Fence         : 0.885\n",
      "Pavement      : 0.924\n",
      "Road          : 0.974\n",
      "Car           : 0.936\n",
      "Sky           : 0.933\n",
      "Tree          : 0.906\n",
      "---------------------\n",
      "Mean IoU      : 0.865\n",
      "---------------------\n",
      "validataion\n",
      "loss : 0.1041   acc : 0.9556   miou : 0.8645\n",
      "Loaded best model weights (epoch 29) from 210606_16:21_checkpoint.pth.tar\n"
     ]
    },
    {
     "name": "stderr",
     "output_type": "stream",
     "text": [
      "100%|██████████| 62/62 [00:06<00:00,  9.26it/s]\n",
      "  0%|          | 0/62 [00:00<?, ?it/s]"
     ]
    },
    {
     "name": "stdout",
     "output_type": "stream",
     "text": [
      "classes           IoU\n",
      "---------------------\n",
      "Pole          : 0.571\n",
      "SignSymbol    : 0.835\n",
      "Bicyclist     : 0.819\n",
      "Pedestrian    : 0.753\n",
      "Building      : 0.938\n",
      "Fence         : 0.883\n",
      "Pavement      : 0.921\n",
      "Road          : 0.973\n",
      "Car           : 0.937\n",
      "Sky           : 0.929\n",
      "Tree          : 0.902\n",
      "---------------------\n",
      "Mean IoU      : 0.860\n",
      "---------------------\n",
      "validataion\n",
      "loss : 0.1035   acc : 0.9553   miou : 0.8599\n",
      "Loaded best model weights (epoch 30) from 210606_16:25_checkpoint.pth.tar\n"
     ]
    },
    {
     "name": "stderr",
     "output_type": "stream",
     "text": [
      "100%|██████████| 62/62 [00:06<00:00,  9.24it/s]\n",
      "  0%|          | 0/62 [00:00<?, ?it/s]"
     ]
    },
    {
     "name": "stdout",
     "output_type": "stream",
     "text": [
      "classes           IoU\n",
      "---------------------\n",
      "Pole          : 0.578\n",
      "SignSymbol    : 0.839\n",
      "Bicyclist     : 0.840\n",
      "Pedestrian    : 0.783\n",
      "Building      : 0.937\n",
      "Fence         : 0.878\n",
      "Pavement      : 0.929\n",
      "Road          : 0.976\n",
      "Car           : 0.937\n",
      "Sky           : 0.937\n",
      "Tree          : 0.899\n",
      "---------------------\n",
      "Mean IoU      : 0.867\n",
      "---------------------\n",
      "validataion\n",
      "loss : 0.1017   acc : 0.9570   miou : 0.8666\n",
      "Loaded best model weights (epoch 31) from 210606_16:29_checkpoint.pth.tar\n"
     ]
    },
    {
     "name": "stderr",
     "output_type": "stream",
     "text": [
      "100%|██████████| 62/62 [00:06<00:00,  9.25it/s]\n",
      "  0%|          | 0/62 [00:00<?, ?it/s]"
     ]
    },
    {
     "name": "stdout",
     "output_type": "stream",
     "text": [
      "classes           IoU\n",
      "---------------------\n",
      "Pole          : 0.593\n",
      "SignSymbol    : 0.806\n",
      "Bicyclist     : 0.815\n",
      "Pedestrian    : 0.741\n",
      "Building      : 0.933\n",
      "Fence         : 0.889\n",
      "Pavement      : 0.919\n",
      "Road          : 0.971\n",
      "Car           : 0.934\n",
      "Sky           : 0.933\n",
      "Tree          : 0.909\n",
      "---------------------\n",
      "Mean IoU      : 0.858\n",
      "---------------------\n",
      "validataion\n",
      "loss : 0.1022   acc : 0.9551   miou : 0.8584\n",
      "Loaded best model weights (epoch 32) from 210606_16:33_checkpoint.pth.tar\n"
     ]
    },
    {
     "name": "stderr",
     "output_type": "stream",
     "text": [
      "100%|██████████| 62/62 [00:06<00:00,  9.24it/s]\n",
      "  0%|          | 0/62 [00:00<?, ?it/s]"
     ]
    },
    {
     "name": "stdout",
     "output_type": "stream",
     "text": [
      "classes           IoU\n",
      "---------------------\n",
      "Pole          : 0.578\n",
      "SignSymbol    : 0.841\n",
      "Bicyclist     : 0.827\n",
      "Pedestrian    : 0.770\n",
      "Building      : 0.938\n",
      "Fence         : 0.896\n",
      "Pavement      : 0.928\n",
      "Road          : 0.975\n",
      "Car           : 0.934\n",
      "Sky           : 0.932\n",
      "Tree          : 0.910\n",
      "---------------------\n",
      "Mean IoU      : 0.866\n",
      "---------------------\n",
      "validataion\n",
      "loss : 0.0988   acc : 0.9574   miou : 0.8664\n",
      "Loaded best model weights (epoch 33) from 210606_16:37_checkpoint.pth.tar\n"
     ]
    },
    {
     "name": "stderr",
     "output_type": "stream",
     "text": [
      "100%|██████████| 62/62 [00:06<00:00,  9.25it/s]\n",
      "  0%|          | 0/62 [00:00<?, ?it/s]"
     ]
    },
    {
     "name": "stdout",
     "output_type": "stream",
     "text": [
      "classes           IoU\n",
      "---------------------\n",
      "Pole          : 0.596\n",
      "SignSymbol    : 0.835\n",
      "Bicyclist     : 0.816\n",
      "Pedestrian    : 0.762\n",
      "Building      : 0.940\n",
      "Fence         : 0.882\n",
      "Pavement      : 0.926\n",
      "Road          : 0.973\n",
      "Car           : 0.934\n",
      "Sky           : 0.932\n",
      "Tree          : 0.911\n",
      "---------------------\n",
      "Mean IoU      : 0.864\n",
      "---------------------\n",
      "validataion\n",
      "loss : 0.0984   acc : 0.9576   miou : 0.8642\n",
      "Loaded best model weights (epoch 34) from 210606_16:42_checkpoint.pth.tar\n"
     ]
    },
    {
     "name": "stderr",
     "output_type": "stream",
     "text": [
      "100%|██████████| 62/62 [00:06<00:00,  9.25it/s]\n",
      "  0%|          | 0/62 [00:00<?, ?it/s]"
     ]
    },
    {
     "name": "stdout",
     "output_type": "stream",
     "text": [
      "classes           IoU\n",
      "---------------------\n",
      "Pole          : 0.591\n",
      "SignSymbol    : 0.828\n",
      "Bicyclist     : 0.830\n",
      "Pedestrian    : 0.775\n",
      "Building      : 0.943\n",
      "Fence         : 0.902\n",
      "Pavement      : 0.919\n",
      "Road          : 0.969\n",
      "Car           : 0.935\n",
      "Sky           : 0.934\n",
      "Tree          : 0.914\n",
      "---------------------\n",
      "Mean IoU      : 0.867\n",
      "---------------------\n",
      "validataion\n",
      "loss : 0.0990   acc : 0.9575   miou : 0.8671\n",
      "Loaded best model weights (epoch 35) from 210606_16:46_checkpoint.pth.tar\n"
     ]
    },
    {
     "name": "stderr",
     "output_type": "stream",
     "text": [
      "100%|██████████| 62/62 [00:06<00:00,  9.24it/s]\n",
      "  0%|          | 0/62 [00:00<?, ?it/s]"
     ]
    },
    {
     "name": "stdout",
     "output_type": "stream",
     "text": [
      "classes           IoU\n",
      "---------------------\n",
      "Pole          : 0.611\n",
      "SignSymbol    : 0.831\n",
      "Bicyclist     : 0.845\n",
      "Pedestrian    : 0.786\n",
      "Building      : 0.944\n",
      "Fence         : 0.887\n",
      "Pavement      : 0.928\n",
      "Road          : 0.975\n",
      "Car           : 0.941\n",
      "Sky           : 0.930\n",
      "Tree          : 0.908\n",
      "---------------------\n",
      "Mean IoU      : 0.871\n",
      "---------------------\n",
      "validataion\n",
      "loss : 0.0962   acc : 0.9586   miou : 0.8714\n",
      "Loaded best model weights (epoch 36) from 210606_16:50_checkpoint.pth.tar\n"
     ]
    },
    {
     "name": "stderr",
     "output_type": "stream",
     "text": [
      "100%|██████████| 62/62 [00:06<00:00,  9.25it/s]\n",
      "  0%|          | 0/62 [00:00<?, ?it/s]"
     ]
    },
    {
     "name": "stdout",
     "output_type": "stream",
     "text": [
      "classes           IoU\n",
      "---------------------\n",
      "Pole          : 0.594\n",
      "SignSymbol    : 0.849\n",
      "Bicyclist     : 0.841\n",
      "Pedestrian    : 0.792\n",
      "Building      : 0.945\n",
      "Fence         : 0.898\n",
      "Pavement      : 0.928\n",
      "Road          : 0.974\n",
      "Car           : 0.942\n",
      "Sky           : 0.936\n",
      "Tree          : 0.913\n",
      "---------------------\n",
      "Mean IoU      : 0.874\n",
      "---------------------\n",
      "validataion\n",
      "loss : 0.0955   acc : 0.9602   miou : 0.8739\n",
      "Loaded best model weights (epoch 37) from 210606_16:54_checkpoint.pth.tar\n"
     ]
    },
    {
     "name": "stderr",
     "output_type": "stream",
     "text": [
      "100%|██████████| 62/62 [00:06<00:00,  9.25it/s]\n",
      "  0%|          | 0/62 [00:00<?, ?it/s]"
     ]
    },
    {
     "name": "stdout",
     "output_type": "stream",
     "text": [
      "classes           IoU\n",
      "---------------------\n",
      "Pole          : 0.606\n",
      "SignSymbol    : 0.830\n",
      "Bicyclist     : 0.816\n",
      "Pedestrian    : 0.766\n",
      "Building      : 0.941\n",
      "Fence         : 0.915\n",
      "Pavement      : 0.930\n",
      "Road          : 0.976\n",
      "Car           : 0.941\n",
      "Sky           : 0.931\n",
      "Tree          : 0.914\n",
      "---------------------\n",
      "Mean IoU      : 0.870\n",
      "---------------------\n",
      "validataion\n",
      "loss : 0.0948   acc : 0.9591   miou : 0.8696\n",
      "Loaded best model weights (epoch 38) from 210606_16:58_checkpoint.pth.tar\n"
     ]
    },
    {
     "name": "stderr",
     "output_type": "stream",
     "text": [
      "100%|██████████| 62/62 [00:06<00:00,  9.24it/s]\n",
      "  0%|          | 0/62 [00:00<?, ?it/s]"
     ]
    },
    {
     "name": "stdout",
     "output_type": "stream",
     "text": [
      "classes           IoU\n",
      "---------------------\n",
      "Pole          : 0.617\n",
      "SignSymbol    : 0.836\n",
      "Bicyclist     : 0.838\n",
      "Pedestrian    : 0.781\n",
      "Building      : 0.945\n",
      "Fence         : 0.899\n",
      "Pavement      : 0.934\n",
      "Road          : 0.977\n",
      "Car           : 0.938\n",
      "Sky           : 0.931\n",
      "Tree          : 0.912\n",
      "---------------------\n",
      "Mean IoU      : 0.873\n",
      "---------------------\n",
      "validataion\n",
      "loss : 0.0934   acc : 0.9597   miou : 0.8735\n",
      "Loaded best model weights (epoch 39) from 210606_17:02_checkpoint.pth.tar\n"
     ]
    },
    {
     "name": "stderr",
     "output_type": "stream",
     "text": [
      "100%|██████████| 62/62 [00:06<00:00,  9.18it/s]\n",
      "  0%|          | 0/62 [00:00<?, ?it/s]"
     ]
    },
    {
     "name": "stdout",
     "output_type": "stream",
     "text": [
      "classes           IoU\n",
      "---------------------\n",
      "Pole          : 0.602\n",
      "SignSymbol    : 0.850\n",
      "Bicyclist     : 0.834\n",
      "Pedestrian    : 0.775\n",
      "Building      : 0.943\n",
      "Fence         : 0.895\n",
      "Pavement      : 0.931\n",
      "Road          : 0.976\n",
      "Car           : 0.940\n",
      "Sky           : 0.938\n",
      "Tree          : 0.918\n",
      "---------------------\n",
      "Mean IoU      : 0.873\n",
      "---------------------\n",
      "validataion\n",
      "loss : 0.0903   acc : 0.9606   miou : 0.8729\n",
      "Loaded best model weights (epoch 40) from 210606_17:06_checkpoint.pth.tar\n"
     ]
    },
    {
     "name": "stderr",
     "output_type": "stream",
     "text": [
      "100%|██████████| 62/62 [00:06<00:00,  9.25it/s]\n",
      "  0%|          | 0/62 [00:00<?, ?it/s]"
     ]
    },
    {
     "name": "stdout",
     "output_type": "stream",
     "text": [
      "classes           IoU\n",
      "---------------------\n",
      "Pole          : 0.612\n",
      "SignSymbol    : 0.848\n",
      "Bicyclist     : 0.833\n",
      "Pedestrian    : 0.772\n",
      "Building      : 0.947\n",
      "Fence         : 0.900\n",
      "Pavement      : 0.935\n",
      "Road          : 0.975\n",
      "Car           : 0.943\n",
      "Sky           : 0.940\n",
      "Tree          : 0.916\n",
      "---------------------\n",
      "Mean IoU      : 0.875\n",
      "---------------------\n",
      "validataion\n",
      "loss : 0.0924   acc : 0.9613   miou : 0.8748\n",
      "Loaded best model weights (epoch 41) from 210606_17:10_checkpoint.pth.tar\n"
     ]
    },
    {
     "name": "stderr",
     "output_type": "stream",
     "text": [
      "100%|██████████| 62/62 [00:06<00:00,  9.24it/s]\n",
      "  0%|          | 0/62 [00:00<?, ?it/s]"
     ]
    },
    {
     "name": "stdout",
     "output_type": "stream",
     "text": [
      "classes           IoU\n",
      "---------------------\n",
      "Pole          : 0.591\n",
      "SignSymbol    : 0.856\n",
      "Bicyclist     : 0.850\n",
      "Pedestrian    : 0.798\n",
      "Building      : 0.944\n",
      "Fence         : 0.904\n",
      "Pavement      : 0.934\n",
      "Road          : 0.977\n",
      "Car           : 0.945\n",
      "Sky           : 0.938\n",
      "Tree          : 0.919\n",
      "---------------------\n",
      "Mean IoU      : 0.878\n",
      "---------------------\n",
      "validataion\n",
      "loss : 0.0902   acc : 0.9616   miou : 0.8780\n",
      "Loaded best model weights (epoch 42) from 210606_17:14_checkpoint.pth.tar\n"
     ]
    },
    {
     "name": "stderr",
     "output_type": "stream",
     "text": [
      "100%|██████████| 62/62 [00:06<00:00,  9.24it/s]\n",
      "  0%|          | 0/62 [00:00<?, ?it/s]"
     ]
    },
    {
     "name": "stdout",
     "output_type": "stream",
     "text": [
      "classes           IoU\n",
      "---------------------\n",
      "Pole          : 0.612\n",
      "SignSymbol    : 0.835\n",
      "Bicyclist     : 0.834\n",
      "Pedestrian    : 0.789\n",
      "Building      : 0.948\n",
      "Fence         : 0.913\n",
      "Pavement      : 0.934\n",
      "Road          : 0.976\n",
      "Car           : 0.944\n",
      "Sky           : 0.938\n",
      "Tree          : 0.917\n",
      "---------------------\n",
      "Mean IoU      : 0.876\n",
      "---------------------\n",
      "validataion\n",
      "loss : 0.0886   acc : 0.9619   miou : 0.8765\n",
      "Loaded best model weights (epoch 43) from 210606_17:18_checkpoint.pth.tar\n"
     ]
    },
    {
     "name": "stderr",
     "output_type": "stream",
     "text": [
      "100%|██████████| 62/62 [00:06<00:00,  9.25it/s]\n",
      "  0%|          | 0/62 [00:00<?, ?it/s]"
     ]
    },
    {
     "name": "stdout",
     "output_type": "stream",
     "text": [
      "classes           IoU\n",
      "---------------------\n",
      "Pole          : 0.609\n",
      "SignSymbol    : 0.848\n",
      "Bicyclist     : 0.845\n",
      "Pedestrian    : 0.790\n",
      "Building      : 0.942\n",
      "Fence         : 0.904\n",
      "Pavement      : 0.931\n",
      "Road          : 0.976\n",
      "Car           : 0.942\n",
      "Sky           : 0.941\n",
      "Tree          : 0.918\n",
      "---------------------\n",
      "Mean IoU      : 0.877\n",
      "---------------------\n",
      "validataion\n",
      "loss : 0.0890   acc : 0.9612   miou : 0.8767\n",
      "Loaded best model weights (epoch 44) from 210606_17:23_checkpoint.pth.tar\n"
     ]
    },
    {
     "name": "stderr",
     "output_type": "stream",
     "text": [
      "100%|██████████| 62/62 [00:06<00:00,  9.24it/s]\n",
      "  0%|          | 0/62 [00:00<?, ?it/s]"
     ]
    },
    {
     "name": "stdout",
     "output_type": "stream",
     "text": [
      "classes           IoU\n",
      "---------------------\n",
      "Pole          : 0.629\n",
      "SignSymbol    : 0.848\n",
      "Bicyclist     : 0.839\n",
      "Pedestrian    : 0.777\n",
      "Building      : 0.948\n",
      "Fence         : 0.894\n",
      "Pavement      : 0.933\n",
      "Road          : 0.976\n",
      "Car           : 0.943\n",
      "Sky           : 0.938\n",
      "Tree          : 0.918\n",
      "---------------------\n",
      "Mean IoU      : 0.877\n",
      "---------------------\n",
      "validataion\n",
      "loss : 0.0886   acc : 0.9618   miou : 0.8767\n",
      "Loaded best model weights (epoch 45) from 210606_17:27_checkpoint.pth.tar\n"
     ]
    },
    {
     "name": "stderr",
     "output_type": "stream",
     "text": [
      "100%|██████████| 62/62 [00:06<00:00,  9.24it/s]\n",
      "  0%|          | 0/62 [00:00<?, ?it/s]"
     ]
    },
    {
     "name": "stdout",
     "output_type": "stream",
     "text": [
      "classes           IoU\n",
      "---------------------\n",
      "Pole          : 0.621\n",
      "SignSymbol    : 0.850\n",
      "Bicyclist     : 0.847\n",
      "Pedestrian    : 0.793\n",
      "Building      : 0.947\n",
      "Fence         : 0.916\n",
      "Pavement      : 0.939\n",
      "Road          : 0.979\n",
      "Car           : 0.943\n",
      "Sky           : 0.936\n",
      "Tree          : 0.922\n",
      "---------------------\n",
      "Mean IoU      : 0.881\n",
      "---------------------\n",
      "validataion\n",
      "loss : 0.0859   acc : 0.9628   miou : 0.8811\n",
      "Loaded best model weights (epoch 46) from 210606_17:31_checkpoint.pth.tar\n"
     ]
    },
    {
     "name": "stderr",
     "output_type": "stream",
     "text": [
      "100%|██████████| 62/62 [00:06<00:00,  9.25it/s]\n",
      "  0%|          | 0/62 [00:00<?, ?it/s]"
     ]
    },
    {
     "name": "stdout",
     "output_type": "stream",
     "text": [
      "classes           IoU\n",
      "---------------------\n",
      "Pole          : 0.609\n",
      "SignSymbol    : 0.856\n",
      "Bicyclist     : 0.838\n",
      "Pedestrian    : 0.780\n",
      "Building      : 0.948\n",
      "Fence         : 0.907\n",
      "Pavement      : 0.936\n",
      "Road          : 0.978\n",
      "Car           : 0.946\n",
      "Sky           : 0.938\n",
      "Tree          : 0.919\n",
      "---------------------\n",
      "Mean IoU      : 0.878\n",
      "---------------------\n",
      "validataion\n",
      "loss : 0.0867   acc : 0.9627   miou : 0.8777\n",
      "Loaded best model weights (epoch 47) from 210606_17:35_checkpoint.pth.tar\n"
     ]
    },
    {
     "name": "stderr",
     "output_type": "stream",
     "text": [
      "100%|██████████| 62/62 [00:06<00:00,  9.25it/s]\n",
      "  0%|          | 0/62 [00:00<?, ?it/s]"
     ]
    },
    {
     "name": "stdout",
     "output_type": "stream",
     "text": [
      "classes           IoU\n",
      "---------------------\n",
      "Pole          : 0.616\n",
      "SignSymbol    : 0.854\n",
      "Bicyclist     : 0.852\n",
      "Pedestrian    : 0.805\n",
      "Building      : 0.948\n",
      "Fence         : 0.916\n",
      "Pavement      : 0.937\n",
      "Road          : 0.977\n",
      "Car           : 0.947\n",
      "Sky           : 0.937\n",
      "Tree          : 0.923\n",
      "---------------------\n",
      "Mean IoU      : 0.883\n",
      "---------------------\n",
      "validataion\n",
      "loss : 0.0860   acc : 0.9628   miou : 0.8828\n",
      "Loaded best model weights (epoch 48) from 210606_17:39_checkpoint.pth.tar\n"
     ]
    },
    {
     "name": "stderr",
     "output_type": "stream",
     "text": [
      "100%|██████████| 62/62 [00:06<00:00,  9.25it/s]\n",
      "  0%|          | 0/62 [00:00<?, ?it/s]"
     ]
    },
    {
     "name": "stdout",
     "output_type": "stream",
     "text": [
      "classes           IoU\n",
      "---------------------\n",
      "Pole          : 0.630\n",
      "SignSymbol    : 0.865\n",
      "Bicyclist     : 0.856\n",
      "Pedestrian    : 0.799\n",
      "Building      : 0.952\n",
      "Fence         : 0.921\n",
      "Pavement      : 0.939\n",
      "Road          : 0.979\n",
      "Car           : 0.948\n",
      "Sky           : 0.938\n",
      "Tree          : 0.922\n",
      "---------------------\n",
      "Mean IoU      : 0.886\n",
      "---------------------\n",
      "validataion\n",
      "loss : 0.0831   acc : 0.9644   miou : 0.8861\n",
      "Loaded best model weights (epoch 49) from 210606_17:43_checkpoint.pth.tar\n"
     ]
    },
    {
     "name": "stderr",
     "output_type": "stream",
     "text": [
      "100%|██████████| 62/62 [00:06<00:00,  9.24it/s]\n",
      "  0%|          | 0/62 [00:00<?, ?it/s]"
     ]
    },
    {
     "name": "stdout",
     "output_type": "stream",
     "text": [
      "classes           IoU\n",
      "---------------------\n",
      "Pole          : 0.617\n",
      "SignSymbol    : 0.860\n",
      "Bicyclist     : 0.845\n",
      "Pedestrian    : 0.794\n",
      "Building      : 0.947\n",
      "Fence         : 0.917\n",
      "Pavement      : 0.939\n",
      "Road          : 0.979\n",
      "Car           : 0.945\n",
      "Sky           : 0.941\n",
      "Tree          : 0.926\n",
      "---------------------\n",
      "Mean IoU      : 0.883\n",
      "---------------------\n",
      "validataion\n",
      "loss : 0.0839   acc : 0.9638   miou : 0.8826\n",
      "Loaded best model weights (epoch 50) from 210606_17:47_checkpoint.pth.tar\n"
     ]
    },
    {
     "name": "stderr",
     "output_type": "stream",
     "text": [
      "100%|██████████| 62/62 [00:06<00:00,  9.22it/s]\n",
      "  0%|          | 0/62 [00:00<?, ?it/s]"
     ]
    },
    {
     "name": "stdout",
     "output_type": "stream",
     "text": [
      "classes           IoU\n",
      "---------------------\n",
      "Pole          : 0.630\n",
      "SignSymbol    : 0.865\n",
      "Bicyclist     : 0.857\n",
      "Pedestrian    : 0.808\n",
      "Building      : 0.952\n",
      "Fence         : 0.913\n",
      "Pavement      : 0.940\n",
      "Road          : 0.980\n",
      "Car           : 0.947\n",
      "Sky           : 0.940\n",
      "Tree          : 0.922\n",
      "---------------------\n",
      "Mean IoU      : 0.887\n",
      "---------------------\n",
      "validataion\n",
      "loss : 0.0839   acc : 0.9648   miou : 0.8868\n",
      "Loaded best model weights (epoch 51) from 210606_17:51_checkpoint.pth.tar\n"
     ]
    },
    {
     "name": "stderr",
     "output_type": "stream",
     "text": [
      "100%|██████████| 62/62 [00:06<00:00,  9.25it/s]\n",
      "  0%|          | 0/62 [00:00<?, ?it/s]"
     ]
    },
    {
     "name": "stdout",
     "output_type": "stream",
     "text": [
      "classes           IoU\n",
      "---------------------\n",
      "Pole          : 0.622\n",
      "SignSymbol    : 0.856\n",
      "Bicyclist     : 0.853\n",
      "Pedestrian    : 0.799\n",
      "Building      : 0.948\n",
      "Fence         : 0.914\n",
      "Pavement      : 0.941\n",
      "Road          : 0.979\n",
      "Car           : 0.946\n",
      "Sky           : 0.941\n",
      "Tree          : 0.924\n",
      "---------------------\n",
      "Mean IoU      : 0.884\n",
      "---------------------\n",
      "validataion\n",
      "loss : 0.0815   acc : 0.9640   miou : 0.8840\n",
      "Loaded best model weights (epoch 52) from 210606_17:55_checkpoint.pth.tar\n"
     ]
    },
    {
     "name": "stderr",
     "output_type": "stream",
     "text": [
      "100%|██████████| 62/62 [00:06<00:00,  9.24it/s]\n",
      "  0%|          | 0/62 [00:00<?, ?it/s]"
     ]
    },
    {
     "name": "stdout",
     "output_type": "stream",
     "text": [
      "classes           IoU\n",
      "---------------------\n",
      "Pole          : 0.630\n",
      "SignSymbol    : 0.861\n",
      "Bicyclist     : 0.876\n",
      "Pedestrian    : 0.798\n",
      "Building      : 0.946\n",
      "Fence         : 0.915\n",
      "Pavement      : 0.941\n",
      "Road          : 0.981\n",
      "Car           : 0.948\n",
      "Sky           : 0.940\n",
      "Tree          : 0.924\n",
      "---------------------\n",
      "Mean IoU      : 0.887\n",
      "---------------------\n",
      "validataion\n",
      "loss : 0.0813   acc : 0.9640   miou : 0.8872\n",
      "Loaded best model weights (epoch 53) from 210606_17:59_checkpoint.pth.tar\n"
     ]
    },
    {
     "name": "stderr",
     "output_type": "stream",
     "text": [
      "100%|██████████| 62/62 [00:06<00:00,  9.24it/s]\n",
      "  0%|          | 0/62 [00:00<?, ?it/s]"
     ]
    },
    {
     "name": "stdout",
     "output_type": "stream",
     "text": [
      "classes           IoU\n",
      "---------------------\n",
      "Pole          : 0.626\n",
      "SignSymbol    : 0.861\n",
      "Bicyclist     : 0.852\n",
      "Pedestrian    : 0.794\n",
      "Building      : 0.949\n",
      "Fence         : 0.910\n",
      "Pavement      : 0.938\n",
      "Road          : 0.978\n",
      "Car           : 0.949\n",
      "Sky           : 0.937\n",
      "Tree          : 0.923\n",
      "---------------------\n",
      "Mean IoU      : 0.883\n",
      "---------------------\n",
      "validataion\n",
      "loss : 0.0811   acc : 0.9635   miou : 0.8834\n",
      "Loaded best model weights (epoch 54) from 210606_18:04_checkpoint.pth.tar\n"
     ]
    },
    {
     "name": "stderr",
     "output_type": "stream",
     "text": [
      "100%|██████████| 62/62 [00:06<00:00,  9.25it/s]\n",
      "  0%|          | 0/62 [00:00<?, ?it/s]"
     ]
    },
    {
     "name": "stdout",
     "output_type": "stream",
     "text": [
      "classes           IoU\n",
      "---------------------\n",
      "Pole          : 0.633\n",
      "SignSymbol    : 0.877\n",
      "Bicyclist     : 0.862\n",
      "Pedestrian    : 0.802\n",
      "Building      : 0.953\n",
      "Fence         : 0.920\n",
      "Pavement      : 0.941\n",
      "Road          : 0.979\n",
      "Car           : 0.950\n",
      "Sky           : 0.940\n",
      "Tree          : 0.927\n",
      "---------------------\n",
      "Mean IoU      : 0.889\n",
      "---------------------\n",
      "validataion\n",
      "loss : 0.0804   acc : 0.9659   miou : 0.8895\n",
      "Loaded best model weights (epoch 55) from 210606_18:08_checkpoint.pth.tar\n"
     ]
    },
    {
     "name": "stderr",
     "output_type": "stream",
     "text": [
      "100%|██████████| 62/62 [00:06<00:00,  9.25it/s]\n",
      "  0%|          | 0/62 [00:00<?, ?it/s]"
     ]
    },
    {
     "name": "stdout",
     "output_type": "stream",
     "text": [
      "classes           IoU\n",
      "---------------------\n",
      "Pole          : 0.633\n",
      "SignSymbol    : 0.857\n",
      "Bicyclist     : 0.858\n",
      "Pedestrian    : 0.810\n",
      "Building      : 0.953\n",
      "Fence         : 0.922\n",
      "Pavement      : 0.941\n",
      "Road          : 0.979\n",
      "Car           : 0.947\n",
      "Sky           : 0.940\n",
      "Tree          : 0.927\n",
      "---------------------\n",
      "Mean IoU      : 0.888\n",
      "---------------------\n",
      "validataion\n",
      "loss : 0.0797   acc : 0.9654   miou : 0.8879\n",
      "Loaded best model weights (epoch 56) from 210606_18:12_checkpoint.pth.tar\n"
     ]
    },
    {
     "name": "stderr",
     "output_type": "stream",
     "text": [
      "100%|██████████| 62/62 [00:06<00:00,  9.24it/s]\n",
      "  0%|          | 0/62 [00:00<?, ?it/s]"
     ]
    },
    {
     "name": "stdout",
     "output_type": "stream",
     "text": [
      "classes           IoU\n",
      "---------------------\n",
      "Pole          : 0.628\n",
      "SignSymbol    : 0.862\n",
      "Bicyclist     : 0.854\n",
      "Pedestrian    : 0.806\n",
      "Building      : 0.952\n",
      "Fence         : 0.929\n",
      "Pavement      : 0.937\n",
      "Road          : 0.977\n",
      "Car           : 0.947\n",
      "Sky           : 0.941\n",
      "Tree          : 0.927\n",
      "---------------------\n",
      "Mean IoU      : 0.887\n",
      "---------------------\n",
      "validataion\n",
      "loss : 0.0802   acc : 0.9650   miou : 0.8874\n",
      "Loaded best model weights (epoch 57) from 210606_18:16_checkpoint.pth.tar\n"
     ]
    },
    {
     "name": "stderr",
     "output_type": "stream",
     "text": [
      "100%|██████████| 62/62 [00:06<00:00,  9.24it/s]\n",
      "  0%|          | 0/62 [00:00<?, ?it/s]"
     ]
    },
    {
     "name": "stdout",
     "output_type": "stream",
     "text": [
      "classes           IoU\n",
      "---------------------\n",
      "Pole          : 0.631\n",
      "SignSymbol    : 0.850\n",
      "Bicyclist     : 0.858\n",
      "Pedestrian    : 0.817\n",
      "Building      : 0.949\n",
      "Fence         : 0.921\n",
      "Pavement      : 0.942\n",
      "Road          : 0.979\n",
      "Car           : 0.950\n",
      "Sky           : 0.939\n",
      "Tree          : 0.924\n",
      "---------------------\n",
      "Mean IoU      : 0.887\n",
      "---------------------\n",
      "validataion\n",
      "loss : 0.0795   acc : 0.9644   miou : 0.8872\n",
      "Loaded best model weights (epoch 58) from 210606_18:20_checkpoint.pth.tar\n"
     ]
    },
    {
     "name": "stderr",
     "output_type": "stream",
     "text": [
      "100%|██████████| 62/62 [00:06<00:00,  9.16it/s]\n",
      "  0%|          | 0/62 [00:00<?, ?it/s]"
     ]
    },
    {
     "name": "stdout",
     "output_type": "stream",
     "text": [
      "classes           IoU\n",
      "---------------------\n",
      "Pole          : 0.632\n",
      "SignSymbol    : 0.868\n",
      "Bicyclist     : 0.849\n",
      "Pedestrian    : 0.811\n",
      "Building      : 0.951\n",
      "Fence         : 0.924\n",
      "Pavement      : 0.942\n",
      "Road          : 0.979\n",
      "Car           : 0.948\n",
      "Sky           : 0.937\n",
      "Tree          : 0.927\n",
      "---------------------\n",
      "Mean IoU      : 0.888\n",
      "---------------------\n",
      "validataion\n",
      "loss : 0.0788   acc : 0.9651   miou : 0.8881\n",
      "Loaded best model weights (epoch 59) from 210606_18:24_checkpoint.pth.tar\n"
     ]
    },
    {
     "name": "stderr",
     "output_type": "stream",
     "text": [
      "100%|██████████| 62/62 [00:06<00:00,  9.23it/s]\n",
      "  0%|          | 0/62 [00:00<?, ?it/s]"
     ]
    },
    {
     "name": "stdout",
     "output_type": "stream",
     "text": [
      "classes           IoU\n",
      "---------------------\n",
      "Pole          : 0.627\n",
      "SignSymbol    : 0.872\n",
      "Bicyclist     : 0.855\n",
      "Pedestrian    : 0.806\n",
      "Building      : 0.954\n",
      "Fence         : 0.919\n",
      "Pavement      : 0.940\n",
      "Road          : 0.980\n",
      "Car           : 0.952\n",
      "Sky           : 0.942\n",
      "Tree          : 0.928\n",
      "---------------------\n",
      "Mean IoU      : 0.889\n",
      "---------------------\n",
      "validataion\n",
      "loss : 0.0783   acc : 0.9661   miou : 0.8886\n",
      "Loaded best model weights (epoch 60) from 210606_18:28_checkpoint.pth.tar\n"
     ]
    },
    {
     "name": "stderr",
     "output_type": "stream",
     "text": [
      "100%|██████████| 62/62 [00:06<00:00,  9.21it/s]\n",
      "  0%|          | 0/62 [00:00<?, ?it/s]"
     ]
    },
    {
     "name": "stdout",
     "output_type": "stream",
     "text": [
      "classes           IoU\n",
      "---------------------\n",
      "Pole          : 0.639\n",
      "SignSymbol    : 0.866\n",
      "Bicyclist     : 0.860\n",
      "Pedestrian    : 0.810\n",
      "Building      : 0.955\n",
      "Fence         : 0.926\n",
      "Pavement      : 0.938\n",
      "Road          : 0.976\n",
      "Car           : 0.952\n",
      "Sky           : 0.941\n",
      "Tree          : 0.930\n",
      "---------------------\n",
      "Mean IoU      : 0.890\n",
      "---------------------\n",
      "validataion\n",
      "loss : 0.0780   acc : 0.9657   miou : 0.8902\n",
      "Loaded best model weights (epoch 61) from 210606_18:32_checkpoint.pth.tar\n"
     ]
    },
    {
     "name": "stderr",
     "output_type": "stream",
     "text": [
      "100%|██████████| 62/62 [00:06<00:00,  9.25it/s]\n",
      "  0%|          | 0/62 [00:00<?, ?it/s]"
     ]
    },
    {
     "name": "stdout",
     "output_type": "stream",
     "text": [
      "classes           IoU\n",
      "---------------------\n",
      "Pole          : 0.629\n",
      "SignSymbol    : 0.871\n",
      "Bicyclist     : 0.854\n",
      "Pedestrian    : 0.813\n",
      "Building      : 0.953\n",
      "Fence         : 0.919\n",
      "Pavement      : 0.942\n",
      "Road          : 0.980\n",
      "Car           : 0.948\n",
      "Sky           : 0.940\n",
      "Tree          : 0.927\n",
      "---------------------\n",
      "Mean IoU      : 0.889\n",
      "---------------------\n",
      "validataion\n",
      "loss : 0.0789   acc : 0.9656   miou : 0.8888\n",
      "Loaded best model weights (epoch 62) from 210606_18:36_checkpoint.pth.tar\n"
     ]
    },
    {
     "name": "stderr",
     "output_type": "stream",
     "text": [
      "100%|██████████| 62/62 [00:06<00:00,  9.24it/s]\n",
      "  0%|          | 0/62 [00:00<?, ?it/s]"
     ]
    },
    {
     "name": "stdout",
     "output_type": "stream",
     "text": [
      "classes           IoU\n",
      "---------------------\n",
      "Pole          : 0.648\n",
      "SignSymbol    : 0.873\n",
      "Bicyclist     : 0.858\n",
      "Pedestrian    : 0.805\n",
      "Building      : 0.953\n",
      "Fence         : 0.929\n",
      "Pavement      : 0.943\n",
      "Road          : 0.981\n",
      "Car           : 0.953\n",
      "Sky           : 0.942\n",
      "Tree          : 0.929\n",
      "---------------------\n",
      "Mean IoU      : 0.892\n",
      "---------------------\n",
      "validataion\n",
      "loss : 0.0762   acc : 0.9669   miou : 0.8923\n",
      "Loaded best model weights (epoch 63) from 210606_18:40_checkpoint.pth.tar\n"
     ]
    },
    {
     "name": "stderr",
     "output_type": "stream",
     "text": [
      "100%|██████████| 62/62 [00:06<00:00,  9.24it/s]\n",
      "  0%|          | 0/62 [00:00<?, ?it/s]"
     ]
    },
    {
     "name": "stdout",
     "output_type": "stream",
     "text": [
      "classes           IoU\n",
      "---------------------\n",
      "Pole          : 0.636\n",
      "SignSymbol    : 0.873\n",
      "Bicyclist     : 0.855\n",
      "Pedestrian    : 0.808\n",
      "Building      : 0.952\n",
      "Fence         : 0.918\n",
      "Pavement      : 0.945\n",
      "Road          : 0.982\n",
      "Car           : 0.951\n",
      "Sky           : 0.940\n",
      "Tree          : 0.929\n",
      "---------------------\n",
      "Mean IoU      : 0.890\n",
      "---------------------\n",
      "validataion\n",
      "loss : 0.0761   acc : 0.9663   miou : 0.8899\n",
      "Loaded best model weights (epoch 64) from 210606_18:45_checkpoint.pth.tar\n"
     ]
    },
    {
     "name": "stderr",
     "output_type": "stream",
     "text": [
      "100%|██████████| 62/62 [00:06<00:00,  9.24it/s]\n",
      "  0%|          | 0/62 [00:00<?, ?it/s]"
     ]
    },
    {
     "name": "stdout",
     "output_type": "stream",
     "text": [
      "classes           IoU\n",
      "---------------------\n",
      "Pole          : 0.652\n",
      "SignSymbol    : 0.866\n",
      "Bicyclist     : 0.859\n",
      "Pedestrian    : 0.807\n",
      "Building      : 0.954\n",
      "Fence         : 0.918\n",
      "Pavement      : 0.944\n",
      "Road          : 0.979\n",
      "Car           : 0.947\n",
      "Sky           : 0.941\n",
      "Tree          : 0.929\n",
      "---------------------\n",
      "Mean IoU      : 0.890\n",
      "---------------------\n",
      "validataion\n",
      "loss : 0.0763   acc : 0.9661   miou : 0.8905\n",
      "Loaded best model weights (epoch 65) from 210606_18:49_checkpoint.pth.tar\n"
     ]
    },
    {
     "name": "stderr",
     "output_type": "stream",
     "text": [
      "100%|██████████| 62/62 [00:06<00:00,  9.24it/s]\n",
      "  0%|          | 0/62 [00:00<?, ?it/s]"
     ]
    },
    {
     "name": "stdout",
     "output_type": "stream",
     "text": [
      "classes           IoU\n",
      "---------------------\n",
      "Pole          : 0.639\n",
      "SignSymbol    : 0.869\n",
      "Bicyclist     : 0.857\n",
      "Pedestrian    : 0.813\n",
      "Building      : 0.955\n",
      "Fence         : 0.930\n",
      "Pavement      : 0.943\n",
      "Road          : 0.978\n",
      "Car           : 0.950\n",
      "Sky           : 0.937\n",
      "Tree          : 0.931\n",
      "---------------------\n",
      "Mean IoU      : 0.891\n",
      "---------------------\n",
      "validataion\n",
      "loss : 0.0763   acc : 0.9658   miou : 0.8912\n",
      "Loaded best model weights (epoch 66) from 210606_18:53_checkpoint.pth.tar\n"
     ]
    },
    {
     "name": "stderr",
     "output_type": "stream",
     "text": [
      "100%|██████████| 62/62 [00:06<00:00,  9.25it/s]\n",
      "  0%|          | 0/62 [00:00<?, ?it/s]"
     ]
    },
    {
     "name": "stdout",
     "output_type": "stream",
     "text": [
      "classes           IoU\n",
      "---------------------\n",
      "Pole          : 0.625\n",
      "SignSymbol    : 0.878\n",
      "Bicyclist     : 0.868\n",
      "Pedestrian    : 0.805\n",
      "Building      : 0.952\n",
      "Fence         : 0.929\n",
      "Pavement      : 0.942\n",
      "Road          : 0.979\n",
      "Car           : 0.950\n",
      "Sky           : 0.940\n",
      "Tree          : 0.930\n",
      "---------------------\n",
      "Mean IoU      : 0.891\n",
      "---------------------\n",
      "validataion\n",
      "loss : 0.0751   acc : 0.9655   miou : 0.8907\n",
      "Loaded best model weights (epoch 67) from 210606_18:57_checkpoint.pth.tar\n"
     ]
    },
    {
     "name": "stderr",
     "output_type": "stream",
     "text": [
      "100%|██████████| 62/62 [00:06<00:00,  9.25it/s]\n",
      "  0%|          | 0/62 [00:00<?, ?it/s]"
     ]
    },
    {
     "name": "stdout",
     "output_type": "stream",
     "text": [
      "classes           IoU\n",
      "---------------------\n",
      "Pole          : 0.644\n",
      "SignSymbol    : 0.875\n",
      "Bicyclist     : 0.863\n",
      "Pedestrian    : 0.805\n",
      "Building      : 0.955\n",
      "Fence         : 0.928\n",
      "Pavement      : 0.945\n",
      "Road          : 0.981\n",
      "Car           : 0.953\n",
      "Sky           : 0.937\n",
      "Tree          : 0.930\n",
      "---------------------\n",
      "Mean IoU      : 0.892\n",
      "---------------------\n",
      "validataion\n",
      "loss : 0.0753   acc : 0.9666   miou : 0.8923\n",
      "Loaded best model weights (epoch 68) from 210606_19:01_checkpoint.pth.tar\n"
     ]
    },
    {
     "name": "stderr",
     "output_type": "stream",
     "text": [
      "100%|██████████| 62/62 [00:06<00:00,  9.23it/s]\n",
      "  0%|          | 0/62 [00:00<?, ?it/s]"
     ]
    },
    {
     "name": "stdout",
     "output_type": "stream",
     "text": [
      "classes           IoU\n",
      "---------------------\n",
      "Pole          : 0.654\n",
      "SignSymbol    : 0.878\n",
      "Bicyclist     : 0.866\n",
      "Pedestrian    : 0.808\n",
      "Building      : 0.957\n",
      "Fence         : 0.923\n",
      "Pavement      : 0.946\n",
      "Road          : 0.981\n",
      "Car           : 0.952\n",
      "Sky           : 0.937\n",
      "Tree          : 0.929\n",
      "---------------------\n",
      "Mean IoU      : 0.894\n",
      "---------------------\n",
      "validataion\n",
      "loss : 0.0751   acc : 0.9672   miou : 0.8937\n",
      "Loaded best model weights (epoch 69) from 210606_19:05_checkpoint.pth.tar\n"
     ]
    },
    {
     "name": "stderr",
     "output_type": "stream",
     "text": [
      "100%|██████████| 62/62 [00:06<00:00,  9.24it/s]\n",
      "  0%|          | 0/62 [00:00<?, ?it/s]"
     ]
    },
    {
     "name": "stdout",
     "output_type": "stream",
     "text": [
      "classes           IoU\n",
      "---------------------\n",
      "Pole          : 0.653\n",
      "SignSymbol    : 0.878\n",
      "Bicyclist     : 0.869\n",
      "Pedestrian    : 0.813\n",
      "Building      : 0.955\n",
      "Fence         : 0.930\n",
      "Pavement      : 0.949\n",
      "Road          : 0.982\n",
      "Car           : 0.952\n",
      "Sky           : 0.939\n",
      "Tree          : 0.930\n",
      "---------------------\n",
      "Mean IoU      : 0.896\n",
      "---------------------\n",
      "validataion\n",
      "loss : 0.0741   acc : 0.9675   miou : 0.8955\n",
      "Loaded best model weights (epoch 70) from 210606_19:09_checkpoint.pth.tar\n"
     ]
    },
    {
     "name": "stderr",
     "output_type": "stream",
     "text": [
      "100%|██████████| 62/62 [00:06<00:00,  9.25it/s]\n",
      "  0%|          | 0/62 [00:00<?, ?it/s]"
     ]
    },
    {
     "name": "stdout",
     "output_type": "stream",
     "text": [
      "classes           IoU\n",
      "---------------------\n",
      "Pole          : 0.644\n",
      "SignSymbol    : 0.877\n",
      "Bicyclist     : 0.864\n",
      "Pedestrian    : 0.826\n",
      "Building      : 0.955\n",
      "Fence         : 0.931\n",
      "Pavement      : 0.949\n",
      "Road          : 0.982\n",
      "Car           : 0.953\n",
      "Sky           : 0.938\n",
      "Tree          : 0.931\n",
      "---------------------\n",
      "Mean IoU      : 0.896\n",
      "---------------------\n",
      "validataion\n",
      "loss : 0.0735   acc : 0.9675   miou : 0.8956\n",
      "Loaded best model weights (epoch 71) from 210606_19:13_checkpoint.pth.tar\n"
     ]
    },
    {
     "name": "stderr",
     "output_type": "stream",
     "text": [
      "100%|██████████| 62/62 [00:06<00:00,  9.24it/s]\n",
      "  0%|          | 0/62 [00:00<?, ?it/s]"
     ]
    },
    {
     "name": "stdout",
     "output_type": "stream",
     "text": [
      "classes           IoU\n",
      "---------------------\n",
      "Pole          : 0.650\n",
      "SignSymbol    : 0.866\n",
      "Bicyclist     : 0.867\n",
      "Pedestrian    : 0.803\n",
      "Building      : 0.954\n",
      "Fence         : 0.924\n",
      "Pavement      : 0.948\n",
      "Road          : 0.981\n",
      "Car           : 0.951\n",
      "Sky           : 0.941\n",
      "Tree          : 0.932\n",
      "---------------------\n",
      "Mean IoU      : 0.893\n",
      "---------------------\n",
      "validataion\n",
      "loss : 0.0729   acc : 0.9673   miou : 0.8925\n",
      "Loaded best model weights (epoch 72) from 210606_19:17_checkpoint.pth.tar\n"
     ]
    },
    {
     "name": "stderr",
     "output_type": "stream",
     "text": [
      "100%|██████████| 62/62 [00:06<00:00,  9.25it/s]\n",
      "  0%|          | 0/62 [00:00<?, ?it/s]"
     ]
    },
    {
     "name": "stdout",
     "output_type": "stream",
     "text": [
      "classes           IoU\n",
      "---------------------\n",
      "Pole          : 0.660\n",
      "SignSymbol    : 0.882\n",
      "Bicyclist     : 0.865\n",
      "Pedestrian    : 0.809\n",
      "Building      : 0.958\n",
      "Fence         : 0.920\n",
      "Pavement      : 0.944\n",
      "Road          : 0.979\n",
      "Car           : 0.952\n",
      "Sky           : 0.938\n",
      "Tree          : 0.931\n",
      "---------------------\n",
      "Mean IoU      : 0.894\n",
      "---------------------\n",
      "validataion\n",
      "loss : 0.0739   acc : 0.9673   miou : 0.8944\n",
      "Loaded best model weights (epoch 73) from 210606_19:21_checkpoint.pth.tar\n"
     ]
    },
    {
     "name": "stderr",
     "output_type": "stream",
     "text": [
      "100%|██████████| 62/62 [00:06<00:00,  9.25it/s]\n",
      "  0%|          | 0/62 [00:00<?, ?it/s]"
     ]
    },
    {
     "name": "stdout",
     "output_type": "stream",
     "text": [
      "classes           IoU\n",
      "---------------------\n",
      "Pole          : 0.663\n",
      "SignSymbol    : 0.884\n",
      "Bicyclist     : 0.873\n",
      "Pedestrian    : 0.814\n",
      "Building      : 0.955\n",
      "Fence         : 0.915\n",
      "Pavement      : 0.947\n",
      "Road          : 0.983\n",
      "Car           : 0.957\n",
      "Sky           : 0.941\n",
      "Tree          : 0.933\n",
      "---------------------\n",
      "Mean IoU      : 0.897\n",
      "---------------------\n",
      "validataion\n",
      "loss : 0.0748   acc : 0.9682   miou : 0.8968\n",
      "Loaded best model weights (epoch 74) from 210606_19:26_checkpoint.pth.tar\n"
     ]
    },
    {
     "name": "stderr",
     "output_type": "stream",
     "text": [
      "100%|██████████| 62/62 [00:06<00:00,  9.24it/s]\n",
      "  0%|          | 0/62 [00:00<?, ?it/s]"
     ]
    },
    {
     "name": "stdout",
     "output_type": "stream",
     "text": [
      "classes           IoU\n",
      "---------------------\n",
      "Pole          : 0.649\n",
      "SignSymbol    : 0.878\n",
      "Bicyclist     : 0.871\n",
      "Pedestrian    : 0.811\n",
      "Building      : 0.958\n",
      "Fence         : 0.942\n",
      "Pavement      : 0.949\n",
      "Road          : 0.981\n",
      "Car           : 0.954\n",
      "Sky           : 0.942\n",
      "Tree          : 0.935\n",
      "---------------------\n",
      "Mean IoU      : 0.897\n",
      "---------------------\n",
      "validataion\n",
      "loss : 0.0718   acc : 0.9686   miou : 0.8974\n",
      "Loaded best model weights (epoch 75) from 210606_19:30_checkpoint.pth.tar\n"
     ]
    },
    {
     "name": "stderr",
     "output_type": "stream",
     "text": [
      "100%|██████████| 62/62 [00:06<00:00,  9.24it/s]\n",
      "  0%|          | 0/62 [00:00<?, ?it/s]"
     ]
    },
    {
     "name": "stdout",
     "output_type": "stream",
     "text": [
      "classes           IoU\n",
      "---------------------\n",
      "Pole          : 0.665\n",
      "SignSymbol    : 0.890\n",
      "Bicyclist     : 0.870\n",
      "Pedestrian    : 0.822\n",
      "Building      : 0.962\n",
      "Fence         : 0.929\n",
      "Pavement      : 0.946\n",
      "Road          : 0.980\n",
      "Car           : 0.956\n",
      "Sky           : 0.941\n",
      "Tree          : 0.933\n",
      "---------------------\n",
      "Mean IoU      : 0.899\n",
      "---------------------\n",
      "validataion\n",
      "loss : 0.0736   acc : 0.9690   miou : 0.8994\n",
      "Loaded best model weights (epoch 76) from 210606_19:34_checkpoint.pth.tar\n"
     ]
    },
    {
     "name": "stderr",
     "output_type": "stream",
     "text": [
      "100%|██████████| 62/62 [00:06<00:00,  9.23it/s]\n",
      "  0%|          | 0/62 [00:00<?, ?it/s]"
     ]
    },
    {
     "name": "stdout",
     "output_type": "stream",
     "text": [
      "classes           IoU\n",
      "---------------------\n",
      "Pole          : 0.661\n",
      "SignSymbol    : 0.878\n",
      "Bicyclist     : 0.875\n",
      "Pedestrian    : 0.819\n",
      "Building      : 0.960\n",
      "Fence         : 0.930\n",
      "Pavement      : 0.947\n",
      "Road          : 0.981\n",
      "Car           : 0.955\n",
      "Sky           : 0.941\n",
      "Tree          : 0.933\n",
      "---------------------\n",
      "Mean IoU      : 0.898\n",
      "---------------------\n",
      "validataion\n",
      "loss : 0.0709   acc : 0.9687   miou : 0.8982\n",
      "Loaded best model weights (epoch 77) from 210606_19:38_checkpoint.pth.tar\n"
     ]
    },
    {
     "name": "stderr",
     "output_type": "stream",
     "text": [
      "100%|██████████| 62/62 [00:06<00:00,  9.15it/s]\n",
      "  0%|          | 0/62 [00:00<?, ?it/s]"
     ]
    },
    {
     "name": "stdout",
     "output_type": "stream",
     "text": [
      "classes           IoU\n",
      "---------------------\n",
      "Pole          : 0.663\n",
      "SignSymbol    : 0.877\n",
      "Bicyclist     : 0.868\n",
      "Pedestrian    : 0.826\n",
      "Building      : 0.961\n",
      "Fence         : 0.931\n",
      "Pavement      : 0.949\n",
      "Road          : 0.981\n",
      "Car           : 0.955\n",
      "Sky           : 0.942\n",
      "Tree          : 0.932\n",
      "---------------------\n",
      "Mean IoU      : 0.899\n",
      "---------------------\n",
      "validataion\n",
      "loss : 0.0712   acc : 0.9692   miou : 0.8986\n",
      "Loaded best model weights (epoch 78) from 210606_19:42_checkpoint.pth.tar\n"
     ]
    },
    {
     "name": "stderr",
     "output_type": "stream",
     "text": [
      "100%|██████████| 62/62 [00:06<00:00,  9.25it/s]\n",
      "  0%|          | 0/62 [00:00<?, ?it/s]"
     ]
    },
    {
     "name": "stdout",
     "output_type": "stream",
     "text": [
      "classes           IoU\n",
      "---------------------\n",
      "Pole          : 0.653\n",
      "SignSymbol    : 0.867\n",
      "Bicyclist     : 0.878\n",
      "Pedestrian    : 0.819\n",
      "Building      : 0.956\n",
      "Fence         : 0.930\n",
      "Pavement      : 0.946\n",
      "Road          : 0.980\n",
      "Car           : 0.954\n",
      "Sky           : 0.942\n",
      "Tree          : 0.933\n",
      "---------------------\n",
      "Mean IoU      : 0.896\n",
      "---------------------\n",
      "validataion\n",
      "loss : 0.0711   acc : 0.9677   miou : 0.8961\n",
      "Loaded best model weights (epoch 79) from 210606_19:46_checkpoint.pth.tar\n"
     ]
    },
    {
     "name": "stderr",
     "output_type": "stream",
     "text": [
      "100%|██████████| 62/62 [00:06<00:00,  9.24it/s]\n",
      "  0%|          | 0/62 [00:00<?, ?it/s]"
     ]
    },
    {
     "name": "stdout",
     "output_type": "stream",
     "text": [
      "classes           IoU\n",
      "---------------------\n",
      "Pole          : 0.672\n",
      "SignSymbol    : 0.886\n",
      "Bicyclist     : 0.874\n",
      "Pedestrian    : 0.830\n",
      "Building      : 0.961\n",
      "Fence         : 0.931\n",
      "Pavement      : 0.951\n",
      "Road          : 0.983\n",
      "Car           : 0.957\n",
      "Sky           : 0.942\n",
      "Tree          : 0.935\n",
      "---------------------\n",
      "Mean IoU      : 0.902\n",
      "---------------------\n",
      "validataion\n",
      "loss : 0.0705   acc : 0.9700   miou : 0.9021\n",
      "Loaded best model weights (epoch 80) from 210606_19:50_checkpoint.pth.tar\n"
     ]
    },
    {
     "name": "stderr",
     "output_type": "stream",
     "text": [
      "100%|██████████| 62/62 [00:06<00:00,  9.25it/s]\n",
      "  0%|          | 0/62 [00:00<?, ?it/s]"
     ]
    },
    {
     "name": "stdout",
     "output_type": "stream",
     "text": [
      "classes           IoU\n",
      "---------------------\n",
      "Pole          : 0.660\n",
      "SignSymbol    : 0.868\n",
      "Bicyclist     : 0.870\n",
      "Pedestrian    : 0.816\n",
      "Building      : 0.955\n",
      "Fence         : 0.935\n",
      "Pavement      : 0.947\n",
      "Road          : 0.982\n",
      "Car           : 0.957\n",
      "Sky           : 0.938\n",
      "Tree          : 0.932\n",
      "---------------------\n",
      "Mean IoU      : 0.896\n",
      "---------------------\n",
      "validataion\n",
      "loss : 0.0708   acc : 0.9677   miou : 0.8963\n",
      "Loaded best model weights (epoch 81) from 210606_19:54_checkpoint.pth.tar\n"
     ]
    },
    {
     "name": "stderr",
     "output_type": "stream",
     "text": [
      "100%|██████████| 62/62 [00:06<00:00,  9.25it/s]\n",
      "  0%|          | 0/62 [00:00<?, ?it/s]"
     ]
    },
    {
     "name": "stdout",
     "output_type": "stream",
     "text": [
      "classes           IoU\n",
      "---------------------\n",
      "Pole          : 0.667\n",
      "SignSymbol    : 0.875\n",
      "Bicyclist     : 0.869\n",
      "Pedestrian    : 0.817\n",
      "Building      : 0.956\n",
      "Fence         : 0.932\n",
      "Pavement      : 0.950\n",
      "Road          : 0.979\n",
      "Car           : 0.953\n",
      "Sky           : 0.941\n",
      "Tree          : 0.933\n",
      "---------------------\n",
      "Mean IoU      : 0.897\n",
      "---------------------\n",
      "validataion\n",
      "loss : 0.0706   acc : 0.9675   miou : 0.8973\n",
      "Loaded best model weights (epoch 82) from 210606_19:58_checkpoint.pth.tar\n"
     ]
    },
    {
     "name": "stderr",
     "output_type": "stream",
     "text": [
      "100%|██████████| 62/62 [00:06<00:00,  9.24it/s]\n",
      "  0%|          | 0/62 [00:00<?, ?it/s]"
     ]
    },
    {
     "name": "stdout",
     "output_type": "stream",
     "text": [
      "classes           IoU\n",
      "---------------------\n",
      "Pole          : 0.657\n",
      "SignSymbol    : 0.884\n",
      "Bicyclist     : 0.881\n",
      "Pedestrian    : 0.829\n",
      "Building      : 0.960\n",
      "Fence         : 0.931\n",
      "Pavement      : 0.950\n",
      "Road          : 0.982\n",
      "Car           : 0.955\n",
      "Sky           : 0.944\n",
      "Tree          : 0.934\n",
      "---------------------\n",
      "Mean IoU      : 0.901\n",
      "---------------------\n",
      "validataion\n",
      "loss : 0.0693   acc : 0.9695   miou : 0.9006\n",
      "Loaded best model weights (epoch 83) from 210606_20:03_checkpoint.pth.tar\n"
     ]
    },
    {
     "name": "stderr",
     "output_type": "stream",
     "text": [
      "100%|██████████| 62/62 [00:06<00:00,  9.24it/s]\n",
      "  0%|          | 0/62 [00:00<?, ?it/s]"
     ]
    },
    {
     "name": "stdout",
     "output_type": "stream",
     "text": [
      "classes           IoU\n",
      "---------------------\n",
      "Pole          : 0.665\n",
      "SignSymbol    : 0.885\n",
      "Bicyclist     : 0.879\n",
      "Pedestrian    : 0.813\n",
      "Building      : 0.955\n",
      "Fence         : 0.932\n",
      "Pavement      : 0.952\n",
      "Road          : 0.984\n",
      "Car           : 0.955\n",
      "Sky           : 0.939\n",
      "Tree          : 0.932\n",
      "---------------------\n",
      "Mean IoU      : 0.899\n",
      "---------------------\n",
      "validataion\n",
      "loss : 0.0693   acc : 0.9684   miou : 0.8991\n",
      "Loaded best model weights (epoch 84) from 210606_20:07_checkpoint.pth.tar\n"
     ]
    },
    {
     "name": "stderr",
     "output_type": "stream",
     "text": [
      "100%|██████████| 62/62 [00:06<00:00,  9.24it/s]\n",
      "  0%|          | 0/62 [00:00<?, ?it/s]"
     ]
    },
    {
     "name": "stdout",
     "output_type": "stream",
     "text": [
      "classes           IoU\n",
      "---------------------\n",
      "Pole          : 0.663\n",
      "SignSymbol    : 0.897\n",
      "Bicyclist     : 0.870\n",
      "Pedestrian    : 0.823\n",
      "Building      : 0.962\n",
      "Fence         : 0.931\n",
      "Pavement      : 0.950\n",
      "Road          : 0.981\n",
      "Car           : 0.956\n",
      "Sky           : 0.944\n",
      "Tree          : 0.936\n",
      "---------------------\n",
      "Mean IoU      : 0.901\n",
      "---------------------\n",
      "validataion\n",
      "loss : 0.0690   acc : 0.9699   miou : 0.9012\n",
      "Loaded best model weights (epoch 85) from 210606_20:11_checkpoint.pth.tar\n"
     ]
    },
    {
     "name": "stderr",
     "output_type": "stream",
     "text": [
      "100%|██████████| 62/62 [00:06<00:00,  9.24it/s]\n",
      "  0%|          | 0/62 [00:00<?, ?it/s]"
     ]
    },
    {
     "name": "stdout",
     "output_type": "stream",
     "text": [
      "classes           IoU\n",
      "---------------------\n",
      "Pole          : 0.667\n",
      "SignSymbol    : 0.878\n",
      "Bicyclist     : 0.871\n",
      "Pedestrian    : 0.829\n",
      "Building      : 0.959\n",
      "Fence         : 0.934\n",
      "Pavement      : 0.950\n",
      "Road          : 0.982\n",
      "Car           : 0.957\n",
      "Sky           : 0.944\n",
      "Tree          : 0.934\n",
      "---------------------\n",
      "Mean IoU      : 0.900\n",
      "---------------------\n",
      "validataion\n",
      "loss : 0.0690   acc : 0.9695   miou : 0.9005\n",
      "Loaded best model weights (epoch 86) from 210606_20:15_checkpoint.pth.tar\n"
     ]
    },
    {
     "name": "stderr",
     "output_type": "stream",
     "text": [
      "100%|██████████| 62/62 [00:06<00:00,  9.25it/s]\n",
      "  0%|          | 0/62 [00:00<?, ?it/s]"
     ]
    },
    {
     "name": "stdout",
     "output_type": "stream",
     "text": [
      "classes           IoU\n",
      "---------------------\n",
      "Pole          : 0.658\n",
      "SignSymbol    : 0.890\n",
      "Bicyclist     : 0.867\n",
      "Pedestrian    : 0.816\n",
      "Building      : 0.958\n",
      "Fence         : 0.935\n",
      "Pavement      : 0.948\n",
      "Road          : 0.982\n",
      "Car           : 0.958\n",
      "Sky           : 0.940\n",
      "Tree          : 0.935\n",
      "---------------------\n",
      "Mean IoU      : 0.899\n",
      "---------------------\n",
      "validataion\n",
      "loss : 0.0683   acc : 0.9688   miou : 0.8989\n",
      "Loaded best model weights (epoch 87) from 210606_20:19_checkpoint.pth.tar\n"
     ]
    },
    {
     "name": "stderr",
     "output_type": "stream",
     "text": [
      "100%|██████████| 62/62 [00:06<00:00,  9.24it/s]\n",
      "  0%|          | 0/62 [00:00<?, ?it/s]"
     ]
    },
    {
     "name": "stdout",
     "output_type": "stream",
     "text": [
      "classes           IoU\n",
      "---------------------\n",
      "Pole          : 0.658\n",
      "SignSymbol    : 0.890\n",
      "Bicyclist     : 0.867\n",
      "Pedestrian    : 0.812\n",
      "Building      : 0.957\n",
      "Fence         : 0.934\n",
      "Pavement      : 0.951\n",
      "Road          : 0.983\n",
      "Car           : 0.958\n",
      "Sky           : 0.939\n",
      "Tree          : 0.934\n",
      "---------------------\n",
      "Mean IoU      : 0.899\n",
      "---------------------\n",
      "validataion\n",
      "loss : 0.0684   acc : 0.9689   miou : 0.8986\n",
      "Loaded best model weights (epoch 88) from 210606_20:23_checkpoint.pth.tar\n"
     ]
    },
    {
     "name": "stderr",
     "output_type": "stream",
     "text": [
      "100%|██████████| 62/62 [00:06<00:00,  9.25it/s]\n",
      "  0%|          | 0/62 [00:00<?, ?it/s]"
     ]
    },
    {
     "name": "stdout",
     "output_type": "stream",
     "text": [
      "classes           IoU\n",
      "---------------------\n",
      "Pole          : 0.670\n",
      "SignSymbol    : 0.898\n",
      "Bicyclist     : 0.878\n",
      "Pedestrian    : 0.818\n",
      "Building      : 0.960\n",
      "Fence         : 0.937\n",
      "Pavement      : 0.950\n",
      "Road          : 0.982\n",
      "Car           : 0.957\n",
      "Sky           : 0.943\n",
      "Tree          : 0.934\n",
      "---------------------\n",
      "Mean IoU      : 0.902\n",
      "---------------------\n",
      "validataion\n",
      "loss : 0.0678   acc : 0.9695   miou : 0.9024\n",
      "Loaded best model weights (epoch 89) from 210606_20:27_checkpoint.pth.tar\n"
     ]
    },
    {
     "name": "stderr",
     "output_type": "stream",
     "text": [
      "100%|██████████| 62/62 [00:06<00:00,  9.24it/s]\n",
      "  0%|          | 0/62 [00:00<?, ?it/s]"
     ]
    },
    {
     "name": "stdout",
     "output_type": "stream",
     "text": [
      "classes           IoU\n",
      "---------------------\n",
      "Pole          : 0.657\n",
      "SignSymbol    : 0.882\n",
      "Bicyclist     : 0.867\n",
      "Pedestrian    : 0.829\n",
      "Building      : 0.961\n",
      "Fence         : 0.936\n",
      "Pavement      : 0.948\n",
      "Road          : 0.981\n",
      "Car           : 0.957\n",
      "Sky           : 0.942\n",
      "Tree          : 0.936\n",
      "---------------------\n",
      "Mean IoU      : 0.900\n",
      "---------------------\n",
      "validataion\n",
      "loss : 0.0681   acc : 0.9695   miou : 0.8997\n",
      "Loaded best model weights (epoch 90) from 210606_20:31_checkpoint.pth.tar\n"
     ]
    },
    {
     "name": "stderr",
     "output_type": "stream",
     "text": [
      "100%|██████████| 62/62 [00:06<00:00,  9.25it/s]\n",
      "  0%|          | 0/62 [00:00<?, ?it/s]"
     ]
    },
    {
     "name": "stdout",
     "output_type": "stream",
     "text": [
      "classes           IoU\n",
      "---------------------\n",
      "Pole          : 0.672\n",
      "SignSymbol    : 0.895\n",
      "Bicyclist     : 0.883\n",
      "Pedestrian    : 0.834\n",
      "Building      : 0.962\n",
      "Fence         : 0.935\n",
      "Pavement      : 0.953\n",
      "Road          : 0.984\n",
      "Car           : 0.959\n",
      "Sky           : 0.944\n",
      "Tree          : 0.937\n",
      "---------------------\n",
      "Mean IoU      : 0.905\n",
      "---------------------\n",
      "validataion\n",
      "loss : 0.0669   acc : 0.9709   miou : 0.9051\n",
      "Loaded best model weights (epoch 91) from 210606_20:35_checkpoint.pth.tar\n"
     ]
    },
    {
     "name": "stderr",
     "output_type": "stream",
     "text": [
      "100%|██████████| 62/62 [00:06<00:00,  9.25it/s]\n",
      "  0%|          | 0/62 [00:00<?, ?it/s]"
     ]
    },
    {
     "name": "stdout",
     "output_type": "stream",
     "text": [
      "classes           IoU\n",
      "---------------------\n",
      "Pole          : 0.655\n",
      "SignSymbol    : 0.884\n",
      "Bicyclist     : 0.879\n",
      "Pedestrian    : 0.824\n",
      "Building      : 0.956\n",
      "Fence         : 0.932\n",
      "Pavement      : 0.952\n",
      "Road          : 0.983\n",
      "Car           : 0.958\n",
      "Sky           : 0.943\n",
      "Tree          : 0.936\n",
      "---------------------\n",
      "Mean IoU      : 0.900\n",
      "---------------------\n",
      "validataion\n",
      "loss : 0.0676   acc : 0.9692   miou : 0.9001\n",
      "Loaded best model weights (epoch 92) from 210606_20:39_checkpoint.pth.tar\n"
     ]
    },
    {
     "name": "stderr",
     "output_type": "stream",
     "text": [
      "100%|██████████| 62/62 [00:06<00:00,  9.25it/s]\n",
      "  0%|          | 0/62 [00:00<?, ?it/s]"
     ]
    },
    {
     "name": "stdout",
     "output_type": "stream",
     "text": [
      "classes           IoU\n",
      "---------------------\n",
      "Pole          : 0.666\n",
      "SignSymbol    : 0.886\n",
      "Bicyclist     : 0.880\n",
      "Pedestrian    : 0.824\n",
      "Building      : 0.960\n",
      "Fence         : 0.936\n",
      "Pavement      : 0.952\n",
      "Road          : 0.983\n",
      "Car           : 0.958\n",
      "Sky           : 0.940\n",
      "Tree          : 0.934\n",
      "---------------------\n",
      "Mean IoU      : 0.902\n",
      "---------------------\n",
      "validataion\n",
      "loss : 0.0681   acc : 0.9697   miou : 0.9017\n",
      "Loaded best model weights (epoch 93) from 210606_20:44_checkpoint.pth.tar\n"
     ]
    },
    {
     "name": "stderr",
     "output_type": "stream",
     "text": [
      "100%|██████████| 62/62 [00:06<00:00,  9.24it/s]\n",
      "  0%|          | 0/62 [00:00<?, ?it/s]"
     ]
    },
    {
     "name": "stdout",
     "output_type": "stream",
     "text": [
      "classes           IoU\n",
      "---------------------\n",
      "Pole          : 0.684\n",
      "SignSymbol    : 0.887\n",
      "Bicyclist     : 0.871\n",
      "Pedestrian    : 0.819\n",
      "Building      : 0.963\n",
      "Fence         : 0.935\n",
      "Pavement      : 0.947\n",
      "Road          : 0.981\n",
      "Car           : 0.957\n",
      "Sky           : 0.942\n",
      "Tree          : 0.937\n",
      "---------------------\n",
      "Mean IoU      : 0.902\n",
      "---------------------\n",
      "validataion\n",
      "loss : 0.0680   acc : 0.9701   miou : 0.9021\n",
      "Loaded best model weights (epoch 94) from 210606_20:48_checkpoint.pth.tar\n"
     ]
    },
    {
     "name": "stderr",
     "output_type": "stream",
     "text": [
      "100%|██████████| 62/62 [00:06<00:00,  9.24it/s]\n",
      "  0%|          | 0/62 [00:00<?, ?it/s]"
     ]
    },
    {
     "name": "stdout",
     "output_type": "stream",
     "text": [
      "classes           IoU\n",
      "---------------------\n",
      "Pole          : 0.670\n",
      "SignSymbol    : 0.885\n",
      "Bicyclist     : 0.874\n",
      "Pedestrian    : 0.815\n",
      "Building      : 0.963\n",
      "Fence         : 0.938\n",
      "Pavement      : 0.950\n",
      "Road          : 0.981\n",
      "Car           : 0.957\n",
      "Sky           : 0.941\n",
      "Tree          : 0.934\n",
      "---------------------\n",
      "Mean IoU      : 0.901\n",
      "---------------------\n",
      "validataion\n",
      "loss : 0.0672   acc : 0.9694   miou : 0.9007\n",
      "Loaded best model weights (epoch 95) from 210606_20:52_checkpoint.pth.tar\n"
     ]
    },
    {
     "name": "stderr",
     "output_type": "stream",
     "text": [
      "100%|██████████| 62/62 [00:06<00:00,  9.25it/s]\n",
      "  0%|          | 0/62 [00:00<?, ?it/s]"
     ]
    },
    {
     "name": "stdout",
     "output_type": "stream",
     "text": [
      "classes           IoU\n",
      "---------------------\n",
      "Pole          : 0.662\n",
      "SignSymbol    : 0.894\n",
      "Bicyclist     : 0.877\n",
      "Pedestrian    : 0.824\n",
      "Building      : 0.961\n",
      "Fence         : 0.934\n",
      "Pavement      : 0.955\n",
      "Road          : 0.984\n",
      "Car           : 0.960\n",
      "Sky           : 0.943\n",
      "Tree          : 0.938\n",
      "---------------------\n",
      "Mean IoU      : 0.903\n",
      "---------------------\n",
      "validataion\n",
      "loss : 0.0663   acc : 0.9705   miou : 0.9028\n",
      "Loaded best model weights (epoch 96) from 210606_20:56_checkpoint.pth.tar\n"
     ]
    },
    {
     "name": "stderr",
     "output_type": "stream",
     "text": [
      "100%|██████████| 62/62 [00:06<00:00,  9.18it/s]\n",
      "  0%|          | 0/62 [00:00<?, ?it/s]"
     ]
    },
    {
     "name": "stdout",
     "output_type": "stream",
     "text": [
      "classes           IoU\n",
      "---------------------\n",
      "Pole          : 0.672\n",
      "SignSymbol    : 0.882\n",
      "Bicyclist     : 0.873\n",
      "Pedestrian    : 0.824\n",
      "Building      : 0.961\n",
      "Fence         : 0.941\n",
      "Pavement      : 0.951\n",
      "Road          : 0.983\n",
      "Car           : 0.958\n",
      "Sky           : 0.943\n",
      "Tree          : 0.938\n",
      "---------------------\n",
      "Mean IoU      : 0.902\n",
      "---------------------\n",
      "validataion\n",
      "loss : 0.0658   acc : 0.9705   miou : 0.9024\n",
      "Loaded best model weights (epoch 97) from 210606_21:00_checkpoint.pth.tar\n"
     ]
    },
    {
     "name": "stderr",
     "output_type": "stream",
     "text": [
      "100%|██████████| 62/62 [00:06<00:00,  9.23it/s]\n",
      "  0%|          | 0/62 [00:00<?, ?it/s]"
     ]
    },
    {
     "name": "stdout",
     "output_type": "stream",
     "text": [
      "classes           IoU\n",
      "---------------------\n",
      "Pole          : 0.668\n",
      "SignSymbol    : 0.886\n",
      "Bicyclist     : 0.877\n",
      "Pedestrian    : 0.836\n",
      "Building      : 0.961\n",
      "Fence         : 0.939\n",
      "Pavement      : 0.953\n",
      "Road          : 0.983\n",
      "Car           : 0.958\n",
      "Sky           : 0.943\n",
      "Tree          : 0.938\n",
      "---------------------\n",
      "Mean IoU      : 0.904\n",
      "---------------------\n",
      "validataion\n",
      "loss : 0.0658   acc : 0.9703   miou : 0.9039\n",
      "Loaded best model weights (epoch 98) from 210606_21:04_checkpoint.pth.tar\n"
     ]
    },
    {
     "name": "stderr",
     "output_type": "stream",
     "text": [
      "100%|██████████| 62/62 [00:06<00:00,  9.23it/s]\n",
      "  0%|          | 0/62 [00:00<?, ?it/s]"
     ]
    },
    {
     "name": "stdout",
     "output_type": "stream",
     "text": [
      "classes           IoU\n",
      "---------------------\n",
      "Pole          : 0.676\n",
      "SignSymbol    : 0.888\n",
      "Bicyclist     : 0.873\n",
      "Pedestrian    : 0.823\n",
      "Building      : 0.959\n",
      "Fence         : 0.938\n",
      "Pavement      : 0.953\n",
      "Road          : 0.982\n",
      "Car           : 0.960\n",
      "Sky           : 0.943\n",
      "Tree          : 0.937\n",
      "---------------------\n",
      "Mean IoU      : 0.903\n",
      "---------------------\n",
      "validataion\n",
      "loss : 0.0657   acc : 0.9701   miou : 0.9029\n",
      "Loaded best model weights (epoch 99) from 210606_21:08_checkpoint.pth.tar\n"
     ]
    },
    {
     "name": "stderr",
     "output_type": "stream",
     "text": [
      "100%|██████████| 62/62 [00:06<00:00,  9.23it/s]\n",
      "  0%|          | 0/62 [00:00<?, ?it/s]"
     ]
    },
    {
     "name": "stdout",
     "output_type": "stream",
     "text": [
      "classes           IoU\n",
      "---------------------\n",
      "Pole          : 0.671\n",
      "SignSymbol    : 0.879\n",
      "Bicyclist     : 0.870\n",
      "Pedestrian    : 0.831\n",
      "Building      : 0.959\n",
      "Fence         : 0.935\n",
      "Pavement      : 0.948\n",
      "Road          : 0.982\n",
      "Car           : 0.960\n",
      "Sky           : 0.941\n",
      "Tree          : 0.936\n",
      "---------------------\n",
      "Mean IoU      : 0.901\n",
      "---------------------\n",
      "validataion\n",
      "loss : 0.0658   acc : 0.9695   miou : 0.9010\n",
      "Loaded best model weights (epoch 100) from 210606_21:12_checkpoint.pth.tar\n"
     ]
    },
    {
     "name": "stderr",
     "output_type": "stream",
     "text": [
      "100%|██████████| 62/62 [00:06<00:00,  9.24it/s]"
     ]
    },
    {
     "name": "stdout",
     "output_type": "stream",
     "text": [
      "classes           IoU\n",
      "---------------------\n",
      "Pole          : 0.669\n",
      "SignSymbol    : 0.888\n",
      "Bicyclist     : 0.879\n",
      "Pedestrian    : 0.834\n",
      "Building      : 0.962\n",
      "Fence         : 0.933\n",
      "Pavement      : 0.950\n",
      "Road          : 0.982\n",
      "Car           : 0.961\n",
      "Sky           : 0.943\n",
      "Tree          : 0.938\n",
      "---------------------\n",
      "Mean IoU      : 0.903\n",
      "---------------------\n",
      "validataion\n",
      "loss : 0.0656   acc : 0.9703   miou : 0.9034\n"
     ]
    },
    {
     "name": "stderr",
     "output_type": "stream",
     "text": [
      "\n"
     ]
    }
   ],
   "source": [
    "for i, file in enumerate(result):\n",
    "\n",
    "    checkpoint = torch.load(save_path + file) \n",
    "    model.load_state_dict(checkpoint['model_state_dict'], strict=True)\n",
    "    print('Loaded best model weights (epoch {}) from {}'.format(checkpoint['epoch'], file))\n",
    "\n",
    "    model.eval()\n",
    "\n",
    "    loss_running = AverageMeter('Loss', ':.4e')\n",
    "    acc_running = AverageMeter('Accuracy', ':.3f')\n",
    "    iou = iouCalc(classLabels, validClasses, voidClass = 11)\n",
    "\n",
    "    batch_loss = 0.0\n",
    "    for batch, (x, y) in enumerate(tqdm(val_data, total=len(val_data))):\n",
    "\n",
    "        x = x.to(device)\n",
    "        y = y.to(device)\n",
    "\n",
    "        # forward\n",
    "        outputs = model(x)\n",
    "        outputs = outputs['out']\n",
    "\n",
    "        preds = torch.argmax(outputs, 1)\n",
    "\n",
    "        # cross-entropy loss\n",
    "        loss = criterion(outputs, y)\n",
    "\n",
    "        # Statistics\n",
    "        bs = x.size(0)\n",
    "        loss = loss.item()\n",
    "        loss_running.update(loss, bs)\n",
    "        corrects = torch.sum((preds == y) & (y != 12))\n",
    "\n",
    "        nvoid = int((y==12).sum())\n",
    "        acc = corrects.double()/(bs*res-nvoid)\n",
    "        acc_running.update(acc, bs)\n",
    "\n",
    "        # Calculate IoU scores of current batch\n",
    "        iou.evaluateBatch(preds, y)\n",
    "\n",
    "    miou = iou.outputScores()\n",
    "\n",
    "\n",
    "    with open(save_path + 'val_log_epoch.csv', 'a') as epoch_log:\n",
    "        epoch_log.write('{}, {}, {:.5f}, {:.5f}, {:.5f}\\n'.format(\n",
    "                i+1, file, loss_running.avg, acc_running.avg, miou))\n",
    "\n",
    "    print('validataion')\n",
    "    print('loss : {:.4f}   acc : {:.4f}   miou : {:.4f}'.format(loss_running.avg, acc_running.avg, miou))"
   ]
  },
  {
   "cell_type": "code",
   "execution_count": 24,
   "id": "80330e66",
   "metadata": {
    "scrolled": false
   },
   "outputs": [
    {
     "data": {
      "image/png": "[encoded data removed]",
      "text/plain": [
       "<Figure size 1440x360 with 1 Axes>"
      ]
     },
     "metadata": {
      "needs_background": "light"
     },
     "output_type": "display_data"
    }
   ],
   "source": [
    "log_epoch = pd.read_csv('result/' + filename + '/val_log_epoch.csv', names = ['epoch', 'file_name', 'loss', 'accuracy', 'miou'])\n",
    "\n",
    "plt.figure(figsize=(20, 5))\n",
    "plt.plot(log_epoch['epoch'], log_epoch['miou'], label = 'miou')\n",
    "plt.plot(log_epoch['epoch'], log_epoch['accuracy'], label = 'baccuracy')\n",
    "plt.plot(log_epoch['epoch'], log_epoch['loss'], label = 'loss')\n",
    "plt.xticks([i for i in range(1, log_epoch.shape[0]+1)])\n",
    "plt.title(\"DeepLab V3 resnet50\")\n",
    "plt.xlabel(\"epoch\")\n",
    "plt.ylabel(\"\")\n",
    "plt.legend()\n",
    "plt.show()"
   ]
  },
  {
   "cell_type": "code",
   "execution_count": 25,
   "id": "0aa10ce2",
   "metadata": {},
   "outputs": [
    {
     "data": {
      "image/png": "[encoded data removed]",
      "text/plain": [
       "<Figure size 1080x360 with 1 Axes>"
      ]
     },
     "metadata": {
      "needs_background": "light"
     },
     "output_type": "display_data"
    }
   ],
   "source": [
    "train_log_epoch = pd.read_csv('result/' + filename + '/train_log_epoch.csv', names = ['epoch', 'loss', 'accuracy', 'miou'])\n",
    "val_log_epoch = pd.read_csv('result/' + filename + '/val_log_epoch.csv', names = ['epoch', 'file_name', 'loss', 'accuracy', 'miou'])\n",
    "\n",
    "plt.figure(figsize=(15, 5))\n",
    "plt.plot(train_log_epoch['epoch'], train_log_epoch['miou'], label = 'train_miou')\n",
    "plt.plot(train_log_epoch['epoch'], train_log_epoch['accuracy'], label = 'train_accuracy')\n",
    "plt.plot(val_log_epoch['epoch'], val_log_epoch['miou'], label = 'val_miou')\n",
    "plt.plot(val_log_epoch['epoch'], val_log_epoch['accuracy'], label = 'val_accuracy')\n",
    "plt.xticks([i for i in range(1, train_log_epoch.shape[0]+1)])\n",
    "plt.title(\"train / validation\")\n",
    "plt.xlabel(\"epoch\")\n",
    "plt.ylabel(\"\")\n",
    "plt.legend()\n",
    "plt.show()"
   ]
  },
  {
   "cell_type": "markdown",
   "id": "99899f98",
   "metadata": {},
   "source": [
    "## test"
   ]
  },
  {
   "cell_type": "code",
   "execution_count": 26,
   "id": "cf16deac",
   "metadata": {},
   "outputs": [],
   "source": [
    "X = torch.tensor(test_x, dtype=torch.float32)\n",
    "Y = torch.tensor(test_y, dtype=torch.long)\n",
    "\n",
    "data = torch.utils.data.TensorDataset(X.permute(dims=(0, 3, 1, 2)), Y)\n",
    "\n",
    "test_data = torch.utils.data.DataLoader(data, batch_size=1, shuffle=True)"
   ]
  },
  {
   "cell_type": "code",
   "execution_count": 27,
   "id": "2c9aa283",
   "metadata": {},
   "outputs": [],
   "source": [
    "# Load best model\n",
    "\n",
    "save_path = os.getcwd() + '/result/' + filename + '/'\n",
    "result = [file for file in sorted(os.listdir(save_path), reverse=True) if file[13:] == 'checkpoint.pth.tar' ]"
   ]
  },
  {
   "cell_type": "code",
   "execution_count": 28,
   "id": "8566a0dd",
   "metadata": {},
   "outputs": [],
   "source": [
    "bestmodel = result[0] # 최신모델"
   ]
  },
  {
   "cell_type": "code",
   "execution_count": 29,
   "id": "9663c328",
   "metadata": {},
   "outputs": [
    {
     "name": "stdout",
     "output_type": "stream",
     "text": [
      "Loaded best model weights (epoch 100) from 07_resnet_50210606_21:12_checkpoint.pth.tar\n"
     ]
    }
   ],
   "source": [
    "checkpoint = torch.load(save_path + bestmodel) # 가장 최신 best_weights 파일 가져옴\n",
    "model.load_state_dict(checkpoint['model_state_dict'], strict=True)\n",
    "print('Loaded best model weights (epoch {}) from {}'.format(checkpoint['epoch'], filename + bestmodel))"
   ]
  },
  {
   "cell_type": "code",
   "execution_count": 30,
   "id": "5600d06f",
   "metadata": {},
   "outputs": [
    {
     "name": "stderr",
     "output_type": "stream",
     "text": [
      "100%|██████████| 141/141 [00:14<00:00,  9.42it/s]"
     ]
    },
    {
     "name": "stdout",
     "output_type": "stream",
     "text": [
      "classes           IoU\n",
      "---------------------\n",
      "Pole          : 0.500\n",
      "SignSymbol    : 0.647\n",
      "Bicyclist     : 0.827\n",
      "Pedestrian    : 0.711\n",
      "Building      : 0.921\n",
      "Fence         : 0.789\n",
      "Pavement      : 0.859\n",
      "Road          : 0.970\n",
      "Car           : 0.907\n",
      "Sky           : 0.931\n",
      "Tree          : 0.847\n",
      "---------------------\n",
      "Mean IoU      : 0.810\n",
      "---------------------\n",
      "loss : 0.6262 acc : 0.9373 miou : 0.8099\n"
     ]
    },
    {
     "name": "stderr",
     "output_type": "stream",
     "text": [
      "\n"
     ]
    }
   ],
   "source": [
    "batch_time = AverageMeter('Time', ':6.3f')\n",
    "data_time = AverageMeter('Data', ':6.3f')\n",
    "loss_running = AverageMeter('Loss', ':.4e')\n",
    "acc_running = AverageMeter('Accuracy', ':.3f')  \n",
    "iou = iouCalc(classLabels, validClasses, voidClass = 11)\n",
    "progress = ProgressMeter(\n",
    "    len(test_data),\n",
    "    [batch_time, data_time],\n",
    "    prefix='Predict: ')\n",
    "\n",
    "model.eval()\n",
    "\n",
    "batch_loss = 0.0\n",
    "for batch, (x, y) in enumerate(tqdm(test_data, total=len(test_data))):\n",
    "\n",
    "    x = x.to(device)\n",
    "    y = y.to(device)\n",
    "\n",
    "    # forward\n",
    "    outputs = model(x)\n",
    "    outputs = outputs['out']\n",
    "\n",
    "    preds = torch.argmax(outputs, 1)\n",
    "\n",
    "    # cross-entropy loss\n",
    "    loss = criterion(outputs, y)\n",
    "\n",
    "    # Statistics\n",
    "    bs = x.size(0)\n",
    "    loss = loss.item()\n",
    "    loss_running.update(loss, bs)\n",
    "    corrects = torch.sum((preds == y) & (y != 12))\n",
    "\n",
    "    nvoid = int((y==12).sum())\n",
    "    acc = corrects.double()/(bs*res-nvoid)\n",
    "    acc_running.update(acc, bs)\n",
    "\n",
    "    # Calculate IoU scores of current batch\n",
    "    iou.evaluateBatch(preds, y)\n",
    "\n",
    "miou = iou.outputScores()\n",
    "scheduler.step(loss_running.avg)\n",
    "\n",
    "print('loss : {:.4f} acc : {:.4f} miou : {:.4f}'.format(loss_running.avg, acc_running.avg, miou))"
   ]
  },
  {
   "cell_type": "code",
   "execution_count": null,
   "id": "14d86a1f",
   "metadata": {},
   "outputs": [],
   "source": []
  }
 ],
 "metadata": {
  "kernelspec": {
   "display_name": "venv_cap",
   "language": "python",
   "name": "venv_cap"
  },
  "language_info": {
   "codemirror_mode": {
    "name": "ipython",
    "version": 3
   },
   "file_extension": ".py",
   "mimetype": "text/x-python",
   "name": "python",
   "nbconvert_exporter": "python",
   "pygments_lexer": "ipython3",
   "version": "3.7.5"
  }
 },
 "nbformat": 4,
 "nbformat_minor": 5
}
