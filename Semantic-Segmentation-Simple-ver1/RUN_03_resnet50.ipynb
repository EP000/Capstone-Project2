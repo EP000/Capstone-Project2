{
 "cells": [
  {
   "cell_type": "code",
   "execution_count": 1,
   "id": "2f2a6992",
   "metadata": {
    "scrolled": true
   },
   "outputs": [],
   "source": [
    "import os\n",
    "import time\n",
    "import datetime\n",
    "import numpy as np\n",
    "import warnings\n",
    "import random\n",
    "from PIL import Image\n",
    "from tqdm import tqdm\n",
    "\n",
    "from labels import labels"
   ]
  },
  {
   "cell_type": "code",
   "execution_count": 2,
   "id": "5811de7a",
   "metadata": {},
   "outputs": [],
   "source": [
    "# 데이터 경로\n",
    "#  os.getcwd() :'/home/ag/Capstone2/DeepLab_V3_ver1'\n",
    "origin_data_path = os.getcwd() + '/data/Original_data/'\n",
    "labeled_data_path = os.getcwd() + '/data/Labeled_data/'\n",
    "\n",
    "origin_data_list = os.listdir(origin_data_path) # x\n",
    "labeled_data_list = os.listdir(labeled_data_path) # y\n",
    "\n",
    "# 파일명 랜덤\n",
    "random.shuffle(origin_data_list)\n",
    "random.shuffle(labeled_data_list)\n",
    "\n",
    "# train, test / x, y \n",
    "train_x_file = origin_data_list[:int(len(origin_data_list)*0.8)]\n",
    "train_y_file = [file_name[:-4] + '_L.png' for file_name in train_x_file]\n",
    "\n",
    "test_x_file = [file_name for file_name in origin_data_list if file_name not in train_x_file]\n",
    "test_y_file = [file_name[:-4] + '_L.png' for file_name in test_x_file]"
   ]
  },
  {
   "cell_type": "code",
   "execution_count": 3,
   "id": "ca295aa2",
   "metadata": {},
   "outputs": [
    {
     "name": "stdout",
     "output_type": "stream",
     "text": [
      "560 141 560 141\n"
     ]
    }
   ],
   "source": [
    "print(len(train_x_file), len(test_x_file), len(train_y_file), len(test_y_file))"
   ]
  },
  {
   "cell_type": "code",
   "execution_count": 4,
   "id": "a2b80b82",
   "metadata": {},
   "outputs": [
    {
     "name": "stdout",
     "output_type": "stream",
     "text": [
      "Seq05VD_f02220.png 0016E5_08107.png Seq05VD_f02220_L.png 0016E5_08107_L.png\n"
     ]
    }
   ],
   "source": [
    "print(train_x_file[0], test_x_file[0], train_y_file[0], test_y_file[0])"
   ]
  },
  {
   "cell_type": "markdown",
   "id": "7b67ed5e",
   "metadata": {},
   "source": [
    "### X"
   ]
  },
  {
   "cell_type": "code",
   "execution_count": 5,
   "id": "62db6fd8",
   "metadata": {},
   "outputs": [],
   "source": [
    "train_x = [np.array(Image.open(origin_data_path + train)) for train in train_x_file]\n",
    "test_x = [np.array(Image.open(origin_data_path + test)) for test in test_x_file]"
   ]
  },
  {
   "cell_type": "markdown",
   "id": "8bbd0109",
   "metadata": {},
   "source": [
    "### Y"
   ]
  },
  {
   "cell_type": "code",
   "execution_count": 6,
   "id": "351dbc19",
   "metadata": {},
   "outputs": [],
   "source": [
    "# color to label catId\n",
    "color2label = { label.color   : label.id for label in labels}"
   ]
  },
  {
   "cell_type": "code",
   "execution_count": 7,
   "id": "a95c59a6",
   "metadata": {
    "scrolled": true
   },
   "outputs": [
    {
     "name": "stderr",
     "output_type": "stream",
     "text": [
      "100%|██████████| 560/560 [21:43<00:00,  2.33s/it]\n"
     ]
    }
   ],
   "source": [
    "train_y = []\n",
    "for file_name in tqdm(train_y_file):\n",
    "    image = np.array(Image.open(labeled_data_path + file_name))\n",
    "    ret = [[color2label[tuple([r[0], r[1], r[2]])] \n",
    "            if tuple([r[0], r[1], r[2]]) in color2label else 11\n",
    "            for r in row] \n",
    "           for row in image]\n",
    "    train_y.append(ret)"
   ]
  },
  {
   "cell_type": "code",
   "execution_count": 8,
   "id": "38587377",
   "metadata": {
    "scrolled": false
   },
   "outputs": [
    {
     "name": "stderr",
     "output_type": "stream",
     "text": [
      "100%|██████████| 141/141 [05:28<00:00,  2.33s/it]\n"
     ]
    }
   ],
   "source": [
    "test_y = []\n",
    "for file_name in tqdm(test_y_file):\n",
    "    image = np.array(Image.open(labeled_data_path + file_name))\n",
    "    ret = [[color2label[tuple([r[0], r[1], r[2]])] \n",
    "            if tuple([r[0], r[1], r[2]]) in color2label else 11\n",
    "            for r in row] \n",
    "           for row in image]\n",
    "    test_y.append(ret)"
   ]
  },
  {
   "cell_type": "code",
   "execution_count": 9,
   "id": "15fa0577",
   "metadata": {
    "scrolled": false
   },
   "outputs": [
    {
     "data": {
      "text/plain": [
       "((560, 720, 960), (141, 720, 960))"
      ]
     },
     "execution_count": 9,
     "metadata": {},
     "output_type": "execute_result"
    }
   ],
   "source": [
    "np.array(train_y).shape, np.array(test_y).shape"
   ]
  },
  {
   "cell_type": "code",
   "execution_count": 10,
   "id": "88c21514",
   "metadata": {},
   "outputs": [],
   "source": [
    "train_x = np.array(train_x)\n",
    "train_y = np.array(train_y)\n",
    "test_x = np.array(test_x)\n",
    "test_y = np.array(test_y)"
   ]
  },
  {
   "cell_type": "markdown",
   "id": "2b2d5781",
   "metadata": {},
   "source": [
    "### data save"
   ]
  },
  {
   "cell_type": "code",
   "execution_count": 11,
   "id": "b2642672",
   "metadata": {
    "scrolled": true
   },
   "outputs": [],
   "source": [
    "np.savez('data.npz', train_x=train_x, train_y=train_y, test_x=test_x, test_y=test_y)"
   ]
  },
  {
   "cell_type": "markdown",
   "id": "236b974d",
   "metadata": {},
   "source": [
    "# Model"
   ]
  },
  {
   "cell_type": "markdown",
   "id": "ada08c10",
   "metadata": {},
   "source": [
    "### package load"
   ]
  },
  {
   "cell_type": "code",
   "execution_count": 1,
   "id": "db262e5b",
   "metadata": {},
   "outputs": [],
   "source": [
    "import os\n",
    "import sys\n",
    "import time\n",
    "import datetime\n",
    "from tqdm import tqdm\n",
    "import numpy as np\n",
    "import warnings\n",
    "import random\n",
    "import torch\n",
    "import torch.nn as nn\n",
    "import torch.nn.functional as F\n",
    "import torch.optim as optim\n",
    "from torch.autograd import Variable\n",
    "import torchvision\n",
    "import torchvision.transforms.functional as TF"
   ]
  },
  {
   "cell_type": "code",
   "execution_count": 2,
   "id": "6a7374e4",
   "metadata": {},
   "outputs": [],
   "source": [
    "from model import convert_bn_to_instancenorm, convert_bn_to_evonorm, convert_bn_to_groupnorm, DeepLabHead, UNet\n",
    "from helpers import AverageMeter, ProgressMeter, iouCalc, visim, vislbl\n",
    "from labels import labels"
   ]
  },
  {
   "cell_type": "markdown",
   "id": "3e531816",
   "metadata": {},
   "source": [
    "### CPU or GPU\n",
    "#### 아래 코드에서 True이면 GPU 사용, False 이면 CPU 사용됨."
   ]
  },
  {
   "cell_type": "code",
   "execution_count": 3,
   "id": "95e11a2b",
   "metadata": {},
   "outputs": [],
   "source": [
    "USE_CUDA = torch.cuda.is_available() and True \n",
    "device = torch.device('cuda' if USE_CUDA else 'cpu')"
   ]
  },
  {
   "cell_type": "markdown",
   "id": "5f26ad9e",
   "metadata": {},
   "source": [
    "### data load"
   ]
  },
  {
   "cell_type": "code",
   "execution_count": 4,
   "id": "295e0bb2",
   "metadata": {},
   "outputs": [],
   "source": [
    "npzfile = np.load('data.npz')\n",
    "\n",
    "train_x = npzfile['train_x']\n",
    "train_y = npzfile['train_y']\n",
    "test_x = npzfile['test_x']\n",
    "test_y = npzfile['test_y']\n",
    "\n",
    "npzfile.close()"
   ]
  },
  {
   "cell_type": "markdown",
   "id": "b684bea5",
   "metadata": {},
   "source": [
    "### DeepLab v3 ResNet50 "
   ]
  },
  {
   "cell_type": "code",
   "execution_count": 5,
   "id": "ce7757fc",
   "metadata": {},
   "outputs": [],
   "source": [
    "model = torchvision.models.segmentation.deeplabv3_resnet50(pretrained=False).to(device)\n",
    "model.classifier = DeepLabHead(2048, 12).to(device) # 12 = class num"
   ]
  },
  {
   "cell_type": "code",
   "execution_count": 6,
   "id": "202574db",
   "metadata": {},
   "outputs": [],
   "source": [
    "optimizer = torch.optim.SGD(model.parameters(), lr=0.01, momentum=0.9)\n",
    "scheduler = optim.lr_scheduler.CosineAnnealingLR(optimizer, T_max=2) # 파라미터 학습속도 조절"
   ]
  },
  {
   "cell_type": "code",
   "execution_count": 7,
   "id": "09ea1336",
   "metadata": {},
   "outputs": [],
   "source": [
    "# Initialize metrics\n",
    "best_miou = 0.0\n",
    "metrics = {'train_loss' : [],\n",
    "           'train_acc' : [],\n",
    "           'test_acc' : [],\n",
    "           'test_loss' : [],\n",
    "           'miou' : []}\n",
    "start_epoch = 0"
   ]
  },
  {
   "cell_type": "markdown",
   "id": "0c71edf0",
   "metadata": {},
   "source": [
    "### Label "
   ]
  },
  {
   "cell_type": "code",
   "execution_count": 8,
   "id": "61074ec9",
   "metadata": {},
   "outputs": [],
   "source": [
    "# Create list of class names\n",
    "classLabels = []\n",
    "for label in labels:\n",
    "    if label.name not in classLabels:\n",
    "        classLabels.append(label.name)\n",
    "classLabels.append('void')"
   ]
  },
  {
   "cell_type": "code",
   "execution_count": 9,
   "id": "84d3f8f6",
   "metadata": {
    "scrolled": true
   },
   "outputs": [],
   "source": [
    "validClasses = list(np.unique([label.id for label in labels if label.id >= 0] + [11]))"
   ]
  },
  {
   "cell_type": "code",
   "execution_count": 10,
   "id": "755588d9",
   "metadata": {},
   "outputs": [
    {
     "data": {
      "text/plain": [
       "(12, 12, 'Pole', 0)"
      ]
     },
     "execution_count": 10,
     "metadata": {},
     "output_type": "execute_result"
    }
   ],
   "source": [
    "len(classLabels), len(validClasses), classLabels[0], validClasses[0]"
   ]
  },
  {
   "cell_type": "markdown",
   "id": "08dc84a4",
   "metadata": {},
   "source": [
    "### train"
   ]
  },
  {
   "cell_type": "code",
   "execution_count": 11,
   "id": "79ef0c62",
   "metadata": {},
   "outputs": [],
   "source": [
    "train_X = torch.tensor(train_x, dtype=torch.float32)\n",
    "train_Y = torch.tensor(train_y, dtype=torch.long)\n",
    "\n",
    "train_data = torch.utils.data.TensorDataset(train_X.permute(dims=(0, 3, 1, 2)), train_Y)\n",
    "\n",
    "train_data = torch.utils.data.DataLoader(train_data, batch_size=2, shuffle=True)"
   ]
  },
  {
   "cell_type": "code",
   "execution_count": 12,
   "id": "df632881",
   "metadata": {},
   "outputs": [],
   "source": [
    "dist = {i:(train_Y == i).sum().tolist() for i in range(12)}"
   ]
  },
  {
   "cell_type": "code",
   "execution_count": 13,
   "id": "e5183847",
   "metadata": {},
   "outputs": [],
   "source": [
    "weights = [1/dist[i] for i in range(12)]\n",
    "total_weights = sum(weights)"
   ]
  },
  {
   "cell_type": "code",
   "execution_count": 14,
   "id": "97e8d7a0",
   "metadata": {},
   "outputs": [],
   "source": [
    "class_weight = torch.FloatTensor([w/total_weights for w in weights]).to(device)\n",
    "criterion = nn.CrossEntropyLoss(weight = class_weight, ignore_index=12) # weight 파라미터에 class_weight 추가"
   ]
  },
  {
   "cell_type": "code",
   "execution_count": 15,
   "id": "07d3d0bf",
   "metadata": {},
   "outputs": [],
   "source": [
    "num_epoch = 20\n",
    "res = train_X.shape[1] * train_X.shape[2]"
   ]
  },
  {
   "cell_type": "code",
   "execution_count": 16,
   "id": "61026c27",
   "metadata": {
    "scrolled": true
   },
   "outputs": [
    {
     "name": "stderr",
     "output_type": "stream",
     "text": [
      "100%|██████████| 280/280 [04:39<00:00,  1.00it/s]\n"
     ]
    },
    {
     "name": "stdout",
     "output_type": "stream",
     "text": [
      "classes           IoU\n",
      "---------------------\n",
      "Pole          : 0.147\n",
      "SignSymbol    : 0.197\n",
      "Bicyclist     : 0.296\n",
      "Pedestrian    : 0.255\n",
      "Building      : 0.577\n",
      "Fence         : 0.328\n",
      "Pavement      : 0.591\n",
      "Road          : 0.844\n",
      "Car           : 0.632\n",
      "Sky           : 0.808\n",
      "Tree          : 0.637\n",
      "---------------------\n",
      "Mean IoU      : 0.483\n",
      "---------------------\n",
      "train epoch  1\n",
      "loss : 0.8462   acc : 0.7626   miou : 0.4830\n",
      "mIoU improved from 0.0000 to 0.4830.\n"
     ]
    },
    {
     "name": "stderr",
     "output_type": "stream",
     "text": [
      "100%|██████████| 280/280 [04:40<00:00,  1.00s/it]\n"
     ]
    },
    {
     "name": "stdout",
     "output_type": "stream",
     "text": [
      "classes           IoU\n",
      "---------------------\n",
      "Pole          : 0.281\n",
      "SignSymbol    : 0.442\n",
      "Bicyclist     : 0.571\n",
      "Pedestrian    : 0.468\n",
      "Building      : 0.762\n",
      "Fence         : 0.565\n",
      "Pavement      : 0.749\n",
      "Road          : 0.922\n",
      "Car           : 0.810\n",
      "Sky           : 0.879\n",
      "Tree          : 0.766\n",
      "---------------------\n",
      "Mean IoU      : 0.656\n",
      "---------------------\n",
      "train epoch  2\n",
      "loss : 0.4362   acc : 0.8667   miou : 0.6560\n",
      "mIoU improved from 0.4830 to 0.6560.\n"
     ]
    },
    {
     "name": "stderr",
     "output_type": "stream",
     "text": [
      "100%|██████████| 280/280 [04:40<00:00,  1.00s/it]\n"
     ]
    },
    {
     "name": "stdout",
     "output_type": "stream",
     "text": [
      "classes           IoU\n",
      "---------------------\n",
      "Pole          : 0.326\n",
      "SignSymbol    : 0.524\n",
      "Bicyclist     : 0.659\n",
      "Pedestrian    : 0.547\n",
      "Building      : 0.805\n",
      "Fence         : 0.626\n",
      "Pavement      : 0.788\n",
      "Road          : 0.935\n",
      "Car           : 0.841\n",
      "Sky           : 0.890\n",
      "Tree          : 0.786\n",
      "---------------------\n",
      "Mean IoU      : 0.702\n",
      "---------------------\n",
      "train epoch  3\n",
      "loss : 0.3507   acc : 0.8871   miou : 0.7024\n",
      "mIoU improved from 0.6560 to 0.7024.\n"
     ]
    },
    {
     "name": "stderr",
     "output_type": "stream",
     "text": [
      "100%|██████████| 280/280 [04:40<00:00,  1.00s/it]\n"
     ]
    },
    {
     "name": "stdout",
     "output_type": "stream",
     "text": [
      "classes           IoU\n",
      "---------------------\n",
      "Pole          : 0.362\n",
      "SignSymbol    : 0.579\n",
      "Bicyclist     : 0.706\n",
      "Pedestrian    : 0.586\n",
      "Building      : 0.836\n",
      "Fence         : 0.699\n",
      "Pavement      : 0.815\n",
      "Road          : 0.946\n",
      "Car           : 0.868\n",
      "Sky           : 0.897\n",
      "Tree          : 0.808\n",
      "---------------------\n",
      "Mean IoU      : 0.737\n",
      "---------------------\n",
      "train epoch  4\n",
      "loss : 0.2870   acc : 0.9035   miou : 0.7367\n",
      "mIoU improved from 0.7024 to 0.7367.\n"
     ]
    },
    {
     "name": "stderr",
     "output_type": "stream",
     "text": [
      "100%|██████████| 280/280 [04:40<00:00,  1.00s/it]\n"
     ]
    },
    {
     "name": "stdout",
     "output_type": "stream",
     "text": [
      "classes           IoU\n",
      "---------------------\n",
      "Pole          : 0.390\n",
      "SignSymbol    : 0.625\n",
      "Bicyclist     : 0.727\n",
      "Pedestrian    : 0.610\n",
      "Building      : 0.854\n",
      "Fence         : 0.752\n",
      "Pavement      : 0.838\n",
      "Road          : 0.954\n",
      "Car           : 0.880\n",
      "Sky           : 0.905\n",
      "Tree          : 0.824\n",
      "---------------------\n",
      "Mean IoU      : 0.760\n",
      "---------------------\n",
      "train epoch  5\n",
      "loss : 0.2514   acc : 0.9142   miou : 0.7599\n",
      "mIoU improved from 0.7367 to 0.7599.\n"
     ]
    },
    {
     "name": "stderr",
     "output_type": "stream",
     "text": [
      "100%|██████████| 280/280 [04:40<00:00,  1.00s/it]\n"
     ]
    },
    {
     "name": "stdout",
     "output_type": "stream",
     "text": [
      "classes           IoU\n",
      "---------------------\n",
      "Pole          : 0.411\n",
      "SignSymbol    : 0.649\n",
      "Bicyclist     : 0.743\n",
      "Pedestrian    : 0.628\n",
      "Building      : 0.869\n",
      "Fence         : 0.784\n",
      "Pavement      : 0.853\n",
      "Road          : 0.957\n",
      "Car           : 0.887\n",
      "Sky           : 0.906\n",
      "Tree          : 0.834\n",
      "---------------------\n",
      "Mean IoU      : 0.775\n",
      "---------------------\n",
      "train epoch  6\n",
      "loss : 0.2260   acc : 0.9210   miou : 0.7748\n",
      "mIoU improved from 0.7599 to 0.7748.\n"
     ]
    },
    {
     "name": "stderr",
     "output_type": "stream",
     "text": [
      "100%|██████████| 280/280 [04:40<00:00,  1.00s/it]\n"
     ]
    },
    {
     "name": "stdout",
     "output_type": "stream",
     "text": [
      "classes           IoU\n",
      "---------------------\n",
      "Pole          : 0.432\n",
      "SignSymbol    : 0.667\n",
      "Bicyclist     : 0.762\n",
      "Pedestrian    : 0.646\n",
      "Building      : 0.880\n",
      "Fence         : 0.806\n",
      "Pavement      : 0.867\n",
      "Road          : 0.963\n",
      "Car           : 0.897\n",
      "Sky           : 0.910\n",
      "Tree          : 0.845\n",
      "---------------------\n",
      "Mean IoU      : 0.789\n",
      "---------------------\n",
      "train epoch  7\n",
      "loss : 0.2031   acc : 0.9278   miou : 0.7886\n",
      "mIoU improved from 0.7748 to 0.7886.\n"
     ]
    },
    {
     "name": "stderr",
     "output_type": "stream",
     "text": [
      "100%|██████████| 280/280 [04:40<00:00,  1.00s/it]\n"
     ]
    },
    {
     "name": "stdout",
     "output_type": "stream",
     "text": [
      "classes           IoU\n",
      "---------------------\n",
      "Pole          : 0.447\n",
      "SignSymbol    : 0.691\n",
      "Bicyclist     : 0.768\n",
      "Pedestrian    : 0.662\n",
      "Building      : 0.889\n",
      "Fence         : 0.820\n",
      "Pavement      : 0.874\n",
      "Road          : 0.965\n",
      "Car           : 0.900\n",
      "Sky           : 0.912\n",
      "Tree          : 0.850\n",
      "---------------------\n",
      "Mean IoU      : 0.798\n",
      "---------------------\n",
      "train epoch  8\n",
      "loss : 0.1895   acc : 0.9317   miou : 0.7980\n",
      "mIoU improved from 0.7886 to 0.7980.\n"
     ]
    },
    {
     "name": "stderr",
     "output_type": "stream",
     "text": [
      "100%|██████████| 280/280 [04:40<00:00,  1.00s/it]\n"
     ]
    },
    {
     "name": "stdout",
     "output_type": "stream",
     "text": [
      "classes           IoU\n",
      "---------------------\n",
      "Pole          : 0.459\n",
      "SignSymbol    : 0.703\n",
      "Bicyclist     : 0.779\n",
      "Pedestrian    : 0.674\n",
      "Building      : 0.894\n",
      "Fence         : 0.832\n",
      "Pavement      : 0.881\n",
      "Road          : 0.968\n",
      "Car           : 0.905\n",
      "Sky           : 0.914\n",
      "Tree          : 0.855\n",
      "---------------------\n",
      "Mean IoU      : 0.806\n",
      "---------------------\n",
      "train epoch  9\n",
      "loss : 0.1787   acc : 0.9350   miou : 0.8059\n",
      "mIoU improved from 0.7980 to 0.8059.\n"
     ]
    },
    {
     "name": "stderr",
     "output_type": "stream",
     "text": [
      "100%|██████████| 280/280 [04:40<00:00,  1.00s/it]\n"
     ]
    },
    {
     "name": "stdout",
     "output_type": "stream",
     "text": [
      "classes           IoU\n",
      "---------------------\n",
      "Pole          : 0.470\n",
      "SignSymbol    : 0.716\n",
      "Bicyclist     : 0.787\n",
      "Pedestrian    : 0.684\n",
      "Building      : 0.900\n",
      "Fence         : 0.842\n",
      "Pavement      : 0.887\n",
      "Road          : 0.969\n",
      "Car           : 0.908\n",
      "Sky           : 0.915\n",
      "Tree          : 0.863\n",
      "---------------------\n",
      "Mean IoU      : 0.813\n",
      "---------------------\n",
      "train epoch  10\n",
      "loss : 0.1676   acc : 0.9380   miou : 0.8128\n",
      "mIoU improved from 0.8059 to 0.8128.\n"
     ]
    },
    {
     "name": "stderr",
     "output_type": "stream",
     "text": [
      "100%|██████████| 280/280 [04:40<00:00,  1.00s/it]\n"
     ]
    },
    {
     "name": "stdout",
     "output_type": "stream",
     "text": [
      "classes           IoU\n",
      "---------------------\n",
      "Pole          : 0.481\n",
      "SignSymbol    : 0.729\n",
      "Bicyclist     : 0.787\n",
      "Pedestrian    : 0.688\n",
      "Building      : 0.903\n",
      "Fence         : 0.848\n",
      "Pavement      : 0.890\n",
      "Road          : 0.970\n",
      "Car           : 0.912\n",
      "Sky           : 0.917\n",
      "Tree          : 0.867\n",
      "---------------------\n",
      "Mean IoU      : 0.817\n",
      "---------------------\n",
      "train epoch  11\n",
      "loss : 0.1621   acc : 0.9397   miou : 0.8174\n",
      "mIoU improved from 0.8128 to 0.8174.\n"
     ]
    },
    {
     "name": "stderr",
     "output_type": "stream",
     "text": [
      "100%|██████████| 280/280 [04:40<00:00,  1.00s/it]\n"
     ]
    },
    {
     "name": "stdout",
     "output_type": "stream",
     "text": [
      "classes           IoU\n",
      "---------------------\n",
      "Pole          : 0.489\n",
      "SignSymbol    : 0.737\n",
      "Bicyclist     : 0.794\n",
      "Pedestrian    : 0.699\n",
      "Building      : 0.907\n",
      "Fence         : 0.856\n",
      "Pavement      : 0.895\n",
      "Road          : 0.971\n",
      "Car           : 0.914\n",
      "Sky           : 0.919\n",
      "Tree          : 0.870\n",
      "---------------------\n",
      "Mean IoU      : 0.823\n",
      "---------------------\n",
      "train epoch  12\n",
      "loss : 0.1555   acc : 0.9419   miou : 0.8229\n",
      "mIoU improved from 0.8174 to 0.8229.\n"
     ]
    },
    {
     "name": "stderr",
     "output_type": "stream",
     "text": [
      "100%|██████████| 280/280 [04:40<00:00,  1.00s/it]\n"
     ]
    },
    {
     "name": "stdout",
     "output_type": "stream",
     "text": [
      "classes           IoU\n",
      "---------------------\n",
      "Pole          : 0.499\n",
      "SignSymbol    : 0.747\n",
      "Bicyclist     : 0.801\n",
      "Pedestrian    : 0.707\n",
      "Building      : 0.911\n",
      "Fence         : 0.867\n",
      "Pavement      : 0.898\n",
      "Road          : 0.972\n",
      "Car           : 0.916\n",
      "Sky           : 0.920\n",
      "Tree          : 0.875\n",
      "---------------------\n",
      "Mean IoU      : 0.828\n",
      "---------------------\n",
      "train epoch  13\n",
      "loss : 0.1488   acc : 0.9439   miou : 0.8285\n",
      "mIoU improved from 0.8229 to 0.8285.\n"
     ]
    },
    {
     "name": "stderr",
     "output_type": "stream",
     "text": [
      "100%|██████████| 280/280 [04:40<00:00,  1.00s/it]\n"
     ]
    },
    {
     "name": "stdout",
     "output_type": "stream",
     "text": [
      "classes           IoU\n",
      "---------------------\n",
      "Pole          : 0.507\n",
      "SignSymbol    : 0.754\n",
      "Bicyclist     : 0.808\n",
      "Pedestrian    : 0.714\n",
      "Building      : 0.913\n",
      "Fence         : 0.868\n",
      "Pavement      : 0.901\n",
      "Road          : 0.973\n",
      "Car           : 0.919\n",
      "Sky           : 0.922\n",
      "Tree          : 0.878\n",
      "---------------------\n",
      "Mean IoU      : 0.832\n",
      "---------------------\n",
      "train epoch  14\n",
      "loss : 0.1431   acc : 0.9453   miou : 0.8323\n",
      "mIoU improved from 0.8285 to 0.8323.\n"
     ]
    },
    {
     "name": "stderr",
     "output_type": "stream",
     "text": [
      "100%|██████████| 280/280 [04:40<00:00,  1.00s/it]\n"
     ]
    },
    {
     "name": "stdout",
     "output_type": "stream",
     "text": [
      "classes           IoU\n",
      "---------------------\n",
      "Pole          : 0.512\n",
      "SignSymbol    : 0.759\n",
      "Bicyclist     : 0.811\n",
      "Pedestrian    : 0.717\n",
      "Building      : 0.915\n",
      "Fence         : 0.870\n",
      "Pavement      : 0.903\n",
      "Road          : 0.974\n",
      "Car           : 0.921\n",
      "Sky           : 0.922\n",
      "Tree          : 0.880\n",
      "---------------------\n",
      "Mean IoU      : 0.835\n",
      "---------------------\n",
      "train epoch  15\n",
      "loss : 0.1401   acc : 0.9464   miou : 0.8349\n",
      "mIoU improved from 0.8323 to 0.8349.\n"
     ]
    },
    {
     "name": "stderr",
     "output_type": "stream",
     "text": [
      "100%|██████████| 280/280 [04:40<00:00,  1.00s/it]\n"
     ]
    },
    {
     "name": "stdout",
     "output_type": "stream",
     "text": [
      "classes           IoU\n",
      "---------------------\n",
      "Pole          : 0.520\n",
      "SignSymbol    : 0.764\n",
      "Bicyclist     : 0.814\n",
      "Pedestrian    : 0.722\n",
      "Building      : 0.918\n",
      "Fence         : 0.874\n",
      "Pavement      : 0.903\n",
      "Road          : 0.974\n",
      "Car           : 0.922\n",
      "Sky           : 0.923\n",
      "Tree          : 0.882\n",
      "---------------------\n",
      "Mean IoU      : 0.838\n",
      "---------------------\n",
      "train epoch  16\n",
      "loss : 0.1366   acc : 0.9476   miou : 0.8379\n",
      "mIoU improved from 0.8349 to 0.8379.\n"
     ]
    },
    {
     "name": "stderr",
     "output_type": "stream",
     "text": [
      "100%|██████████| 280/280 [04:40<00:00,  1.00s/it]\n"
     ]
    },
    {
     "name": "stdout",
     "output_type": "stream",
     "text": [
      "classes           IoU\n",
      "---------------------\n",
      "Pole          : 0.526\n",
      "SignSymbol    : 0.773\n",
      "Bicyclist     : 0.820\n",
      "Pedestrian    : 0.728\n",
      "Building      : 0.920\n",
      "Fence         : 0.877\n",
      "Pavement      : 0.907\n",
      "Road          : 0.975\n",
      "Car           : 0.924\n",
      "Sky           : 0.924\n",
      "Tree          : 0.884\n",
      "---------------------\n",
      "Mean IoU      : 0.842\n",
      "---------------------\n",
      "train epoch  17\n",
      "loss : 0.1329   acc : 0.9488   miou : 0.8416\n",
      "mIoU improved from 0.8379 to 0.8416.\n"
     ]
    },
    {
     "name": "stderr",
     "output_type": "stream",
     "text": [
      "100%|██████████| 280/280 [04:40<00:00,  1.00s/it]\n"
     ]
    },
    {
     "name": "stdout",
     "output_type": "stream",
     "text": [
      "classes           IoU\n",
      "---------------------\n",
      "Pole          : 0.530\n",
      "SignSymbol    : 0.777\n",
      "Bicyclist     : 0.819\n",
      "Pedestrian    : 0.732\n",
      "Building      : 0.922\n",
      "Fence         : 0.880\n",
      "Pavement      : 0.910\n",
      "Road          : 0.975\n",
      "Car           : 0.926\n",
      "Sky           : 0.925\n",
      "Tree          : 0.888\n",
      "---------------------\n",
      "Mean IoU      : 0.844\n",
      "---------------------\n",
      "train epoch  18\n",
      "loss : 0.1291   acc : 0.9498   miou : 0.8439\n",
      "mIoU improved from 0.8416 to 0.8439.\n"
     ]
    },
    {
     "name": "stderr",
     "output_type": "stream",
     "text": [
      "100%|██████████| 280/280 [04:40<00:00,  1.00s/it]\n"
     ]
    },
    {
     "name": "stdout",
     "output_type": "stream",
     "text": [
      "classes           IoU\n",
      "---------------------\n",
      "Pole          : 0.535\n",
      "SignSymbol    : 0.780\n",
      "Bicyclist     : 0.820\n",
      "Pedestrian    : 0.734\n",
      "Building      : 0.924\n",
      "Fence         : 0.883\n",
      "Pavement      : 0.911\n",
      "Road          : 0.975\n",
      "Car           : 0.926\n",
      "Sky           : 0.925\n",
      "Tree          : 0.889\n",
      "---------------------\n",
      "Mean IoU      : 0.846\n",
      "---------------------\n",
      "train epoch  19\n",
      "loss : 0.1276   acc : 0.9506   miou : 0.8456\n",
      "mIoU improved from 0.8439 to 0.8456.\n"
     ]
    },
    {
     "name": "stderr",
     "output_type": "stream",
     "text": [
      "100%|██████████| 280/280 [04:40<00:00,  1.00s/it]\n"
     ]
    },
    {
     "name": "stdout",
     "output_type": "stream",
     "text": [
      "classes           IoU\n",
      "---------------------\n",
      "Pole          : 0.541\n",
      "SignSymbol    : 0.785\n",
      "Bicyclist     : 0.826\n",
      "Pedestrian    : 0.743\n",
      "Building      : 0.925\n",
      "Fence         : 0.887\n",
      "Pavement      : 0.913\n",
      "Road          : 0.976\n",
      "Car           : 0.928\n",
      "Sky           : 0.926\n",
      "Tree          : 0.892\n",
      "---------------------\n",
      "Mean IoU      : 0.849\n",
      "---------------------\n",
      "train epoch  20\n",
      "loss : 0.1234   acc : 0.9517   miou : 0.8493\n",
      "mIoU improved from 0.8456 to 0.8493.\n"
     ]
    }
   ],
   "source": [
    "for epoch in range(num_epoch):\n",
    "    model.train()\n",
    "    \n",
    "    # batch_time = AverageMeter('Time', ':6.3f')\n",
    "    # data_time = AverageMeter('Data', ':6.3f')\n",
    "    loss_running = AverageMeter('Loss', ':.4e')\n",
    "    acc_running = AverageMeter('Accuracy', ':.3f')  \n",
    "    iou = iouCalc(classLabels, validClasses, voidClass = 11)\n",
    "    progress = ProgressMeter(\n",
    "        len(train_data),\n",
    "        [loss_running, acc_running],\n",
    "        prefix=\"Train, epoch: [{}]\".format(epoch))\n",
    "\n",
    "    batch_loss = 0.0\n",
    "    for batch, (x, y) in enumerate(tqdm(train_data, total=len(train_data))):\n",
    "        x = x.to(device)\n",
    "        y = y.to(device)\n",
    "        # zero the parameter gradients\n",
    "        optimizer.zero_grad()\n",
    "        # forward pass\n",
    "        outputs = model(x)\n",
    "        outputs = outputs['out']\n",
    "        preds = torch.argmax(outputs, 1)\n",
    "        \n",
    "        # cross-entropy loss\n",
    "        loss = criterion(outputs, y)\n",
    "\n",
    "        # backward pass\n",
    "        loss.backward()\n",
    "        optimizer.step()\n",
    "        \n",
    "        # Statistics\n",
    "        bs = x.size(0)\n",
    "        loss = loss.item()\n",
    "        loss_running.update(loss, bs)\n",
    "        corrects = torch.sum((preds == y) & (y != 12))\n",
    "        \n",
    "        nvoid = int((y==12).sum())\n",
    "        acc = corrects.double()/(bs*res-nvoid)\n",
    "        acc_running.update(acc, bs)\n",
    "        \n",
    "        # Calculate IoU scores of current batch\n",
    "        iou.evaluateBatch(preds, y)\n",
    "        \n",
    "#         progress.display(batch)\n",
    "        \n",
    "     \n",
    "    scheduler.step(loss_running.avg)\n",
    "    miou = iou.outputScores()\n",
    "    \n",
    "    print('train epoch ', epoch+1)\n",
    "    print('loss : {:.4f}   acc : {:.4f}   miou : {:.4f}'.format(loss_running.avg, acc_running.avg, miou))\n",
    "    \n",
    "    # save checkpoint per epoch\n",
    "    now = datetime.datetime.now()\n",
    "    now_time = now.strftime('%y%m%d_%H:%M')\n",
    "    \n",
    "    # save path\n",
    "    if not os.path.isdir(os.getcwd() + '/result'):\n",
    "        os.makedirs(os.getcwd() + '/result')\n",
    "    \n",
    "    save_path = os.getcwd() + '/result/'\n",
    "    \n",
    "    with open(save_path + '03_resnet50_log_epoch.csv', 'a') as epoch_log:\n",
    "            epoch_log.write('{}, {:.5f}, {:.5f}, {:.5f}\\n'.format(\n",
    "                    epoch+1, loss_running.avg, acc_running.avg, miou))\n",
    "    \n",
    "    # Save best model to file\n",
    "    torch.save({\n",
    "        'epoch' : epoch,\n",
    "        'model_state_dict' : model.state_dict(),\n",
    "        'optimizer_state_dict': optimizer.state_dict(),\n",
    "        'best_miou': best_miou,\n",
    "        'metrics': metrics,\n",
    "        }, save_path + now_time + '_checkpoint.pth.tar')\n",
    "    \n",
    "    # Save best model to file\n",
    "    if miou > best_miou:\n",
    "        print('mIoU improved from {:.4f} to {:.4f}.'.format(best_miou, miou))\n",
    "        best_miou = miou\n",
    "        torch.save({\n",
    "            'epoch': epoch,\n",
    "            'model_state_dict': model.state_dict(),\n",
    "            }, save_path + now_time + '_best_weights.pth.tar')\n"
   ]
  },
  {
   "cell_type": "markdown",
   "id": "99899f98",
   "metadata": {},
   "source": [
    "### test"
   ]
  },
  {
   "cell_type": "code",
   "execution_count": 17,
   "id": "cf16deac",
   "metadata": {},
   "outputs": [],
   "source": [
    "X = torch.tensor(test_x, dtype=torch.float32)\n",
    "Y = torch.tensor(test_y, dtype=torch.long)\n",
    "\n",
    "data = torch.utils.data.TensorDataset(X.permute(dims=(0, 3, 1, 2)), Y)\n",
    "\n",
    "test_data = torch.utils.data.DataLoader(data, batch_size=1, shuffle=True)"
   ]
  },
  {
   "cell_type": "code",
   "execution_count": 18,
   "id": "5b47707c",
   "metadata": {
    "scrolled": true
   },
   "outputs": [],
   "source": [
    "# Load best model\n",
    "\n",
    "# save path\n",
    "if not os.path.isdir(os.getcwd() + '/result'):\n",
    "    os.makedirs(os.getcwd() + '/result')\n",
    "\n",
    "save_path = os.getcwd() + '/result/'\n",
    "result = sorted(os.listdir(save_path), reverse=True)"
   ]
  },
  {
   "cell_type": "code",
   "execution_count": 19,
   "id": "d1213154",
   "metadata": {},
   "outputs": [
    {
     "name": "stdout",
     "output_type": "stream",
     "text": [
      "Loaded best model weights (epoch 19) from /home/ag/Capstone2/TEST/result/210603_16:44_best_weights.pth.tar\n"
     ]
    }
   ],
   "source": [
    "checkpoint = torch.load(save_path + result[1]) # 가장 최신 best_weights 파일 가져옴\n",
    "model.load_state_dict(checkpoint['model_state_dict'], strict=True)\n",
    "print('Loaded best model weights (epoch {}) from {}'.format(checkpoint['epoch'], save_path + result[1]))"
   ]
  },
  {
   "cell_type": "code",
   "execution_count": 20,
   "id": "b3ff5133",
   "metadata": {},
   "outputs": [
    {
     "name": "stderr",
     "output_type": "stream",
     "text": [
      "100%|██████████| 141/141 [00:14<00:00,  9.42it/s]"
     ]
    },
    {
     "name": "stdout",
     "output_type": "stream",
     "text": [
      "classes           IoU\n",
      "---------------------\n",
      "Pole          : 0.527\n",
      "SignSymbol    : 0.758\n",
      "Bicyclist     : 0.815\n",
      "Pedestrian    : 0.729\n",
      "Building      : 0.922\n",
      "Fence         : 0.869\n",
      "Pavement      : 0.901\n",
      "Road          : 0.974\n",
      "Car           : 0.921\n",
      "Sky           : 0.925\n",
      "Tree          : 0.882\n",
      "---------------------\n",
      "Mean IoU      : 0.838\n",
      "---------------------\n",
      "loss : 0.1774 acc : 0.9477 miou : 0.8384\n"
     ]
    },
    {
     "name": "stderr",
     "output_type": "stream",
     "text": [
      "\n"
     ]
    }
   ],
   "source": [
    "batch_time = AverageMeter('Time', ':6.3f')\n",
    "data_time = AverageMeter('Data', ':6.3f')\n",
    "progress = ProgressMeter(\n",
    "    len(test_data),\n",
    "    [batch_time, data_time],\n",
    "    prefix='Predict: ')\n",
    "\n",
    "model.eval()\n",
    "\n",
    "batch_loss = 0.0\n",
    "for batch, (x, y) in enumerate(tqdm(test_data, total=len(test_data))):\n",
    "\n",
    "    x = x.to(device)\n",
    "    y = y.to(device)\n",
    "\n",
    "    # forward\n",
    "    outputs = model(x)\n",
    "    outputs = outputs['out']\n",
    "\n",
    "    preds = torch.argmax(outputs, 1)\n",
    "\n",
    "    # cross-entropy loss\n",
    "    loss = criterion(outputs, y)\n",
    "\n",
    "    # Statistics\n",
    "    bs = x.size(0)\n",
    "    loss = loss.item()\n",
    "    loss_running.update(loss, bs)\n",
    "    corrects = torch.sum((preds == y) & (y != 12))\n",
    "\n",
    "    nvoid = int((y==12).sum())\n",
    "    acc = corrects.double()/(bs*res-nvoid)\n",
    "    acc_running.update(acc, bs)\n",
    "\n",
    "    # Calculate IoU scores of current batch\n",
    "    iou.evaluateBatch(preds, y)\n",
    "\n",
    "miou = iou.outputScores()\n",
    "scheduler.step(loss_running.avg)\n",
    "\n",
    "print('loss : {:.4f} acc : {:.4f} miou : {:.4f}'.format(loss_running.avg, acc_running.avg, miou))"
   ]
  },
  {
   "cell_type": "markdown",
   "id": "088bcc4e",
   "metadata": {},
   "source": [
    "### visualization"
   ]
  },
  {
   "cell_type": "code",
   "execution_count": 25,
   "id": "1376681e",
   "metadata": {},
   "outputs": [],
   "source": [
    "import pandas as pd\n",
    "log_epoch = pd.read_csv('result/03_resnet50_log_epoch.csv',\n",
    "                       names = ['epoch', 'loss', 'accuracy', 'miou'])"
   ]
  },
  {
   "cell_type": "code",
   "execution_count": 38,
   "id": "5ccd7875",
   "metadata": {},
   "outputs": [
    {
     "data": {
      "image/png": "[encoded data removed]",
      "text/plain": [
       "<Figure size 432x288 with 1 Axes>"
      ]
     },
     "metadata": {
      "needs_background": "light"
     },
     "output_type": "display_data"
    }
   ],
   "source": [
    "import matplotlib.pyplot as plt\n",
    "plt.plot(log_epoch['epoch'], log_epoch['miou'], label = 'miou')\n",
    "plt.plot(log_epoch['epoch'], log_epoch['accuracy'], label = 'accuracy')\n",
    "plt.plot(log_epoch['epoch'], log_epoch['loss'], label = 'loss')\n",
    "plt.xticks([i for i in range(1, log_epoch.shape[0]+1)])\n",
    "plt.title(\"DeepLab V3 resnet50\")\n",
    "plt.xlabel(\"epoch\")\n",
    "plt.ylabel(\"\")\n",
    "plt.legend()\n",
    "plt.show()"
   ]
  },
  {
   "cell_type": "code",
   "execution_count": null,
   "id": "f6a512f1",
   "metadata": {},
   "outputs": [],
   "source": []
  },
  {
   "cell_type": "code",
   "execution_count": 33,
   "id": "fd399f9b",
   "metadata": {},
   "outputs": [],
   "source": [
    "train_X = torch.tensor(train_x[:int(train_x.shape[0]*0.875)], dtype=torch.float32)\n",
    "train_Y = torch.tensor(train_y[:int(train_y.shape[0]*0.875)], dtype=torch.long)\n",
    "\n",
    "train_data = torch.utils.data.TensorDataset(train_X.permute(dims=(0, 3, 1, 2)), train_Y)\n",
    "\n",
    "train_data = torch.utils.data.DataLoader(train_data, batch_size=2, shuffle=True)"
   ]
  },
  {
   "cell_type": "code",
   "execution_count": null,
   "id": "4cef1cdb",
   "metadata": {},
   "outputs": [],
   "source": [
    "val_X = torch.tensor(train_x[int(train_x.shape[0]*0.875):], dtype=torch.float32)\n",
    "val_Y = torch.tensor(train_y[int(train_x.shape[0]*0.875):], dtype=torch.long)\n",
    "\n",
    "val_data = torch.utils.data.TensorDataset(val_X.permute(dims=(0, 3, 1, 2)), val_Y)\n",
    "\n",
    "val_data = torch.utils.data.DataLoader(val_data, batch_size=2, shuffle=False)"
   ]
  },
  {
   "cell_type": "code",
   "execution_count": null,
   "id": "a16ec38e",
   "metadata": {},
   "outputs": [],
   "source": [
    "# validataion\n",
    "model.eval()\n",
    "\n",
    "loss_running = AverageMeter('Loss', ':.4e')\n",
    "acc_running = AverageMeter('Accuracy', ':.3f')\n",
    "iou = iouCalc(classLabels, validClasses, voidClass = 11)\n",
    "\n",
    "batch_loss = 0.0\n",
    "for batch, (x, y) in enumerate(tqdm(val_data, total=len(val_data))):\n",
    "\n",
    "    x = x.to(device)\n",
    "    y = y.to(device)\n",
    "\n",
    "    # forward\n",
    "    outputs = model(x)\n",
    "    outputs = outputs['out']\n",
    "\n",
    "    preds = torch.argmax(outputs, 1)\n",
    "\n",
    "    # cross-entropy loss\n",
    "    loss = criterion(outputs, y)\n",
    "\n",
    "    # Statistics\n",
    "    bs = x.size(0)\n",
    "    loss = loss.item()\n",
    "    loss_running.update(loss, bs)\n",
    "    corrects = torch.sum((preds == y) & (y != 12))\n",
    "\n",
    "    nvoid = int((y==12).sum())\n",
    "    acc = corrects.double()/(bs*res-nvoid)\n",
    "    acc_running.update(acc, bs)\n",
    "\n",
    "    # Calculate IoU scores of current batch\n",
    "    iou.evaluateBatch(preds, y)\n",
    "\n",
    "miou = iou.outputScores()\n",
    "\n",
    "# Reduce learning rate\n",
    "scheduler.step(loss_running.avg) \n",
    "\n",
    "print('validataion')\n",
    "print('loss : {:.4f}   acc : {:.4f}   miou : {:.4f}'.format(loss_running.avg, acc_running.avg, miou))"
   ]
  }
 ],
 "metadata": {
  "kernelspec": {
   "display_name": "venv_cap",
   "language": "python",
   "name": "venv_cap"
  },
  "language_info": {
   "codemirror_mode": {
    "name": "ipython",
    "version": 3
   },
   "file_extension": ".py",
   "mimetype": "text/x-python",
   "name": "python",
   "nbconvert_exporter": "python",
   "pygments_lexer": "ipython3",
   "version": "3.7.5"
  }
 },
 "nbformat": 4,
 "nbformat_minor": 5
}
