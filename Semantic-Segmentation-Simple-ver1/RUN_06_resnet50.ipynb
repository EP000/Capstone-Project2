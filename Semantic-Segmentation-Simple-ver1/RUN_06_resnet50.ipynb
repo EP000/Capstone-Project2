{
 "cells": [
  {
   "cell_type": "code",
   "execution_count": 1,
   "id": "2f2a6992",
   "metadata": {
    "scrolled": true
   },
   "outputs": [],
   "source": [
    "import os\n",
    "import time\n",
    "import datetime\n",
    "import numpy as np\n",
    "import warnings\n",
    "import random\n",
    "from PIL import Image\n",
    "from tqdm import tqdm\n",
    "\n",
    "from labels import labels"
   ]
  },
  {
   "cell_type": "code",
   "execution_count": 2,
   "id": "5811de7a",
   "metadata": {},
   "outputs": [],
   "source": [
    "# 데이터 경로\n",
    "#  os.getcwd() :'/home/ag/Capstone2/DeepLab_V3_ver1'\n",
    "origin_data_path = os.getcwd() + '/data/Original_data/'\n",
    "labeled_data_path = os.getcwd() + '/data/Labeled_data/'\n",
    "\n",
    "origin_data_list = os.listdir(origin_data_path) # x\n",
    "labeled_data_list = os.listdir(labeled_data_path) # y\n",
    "\n",
    "# 파일명 랜덤\n",
    "random.shuffle(origin_data_list)\n",
    "random.shuffle(labeled_data_list)\n",
    "\n",
    "# train, test / x, y \n",
    "train_x_file = origin_data_list[:int(len(origin_data_list)*0.8)]\n",
    "train_y_file = [file_name[:-4] + '_L.png' for file_name in train_x_file]\n",
    "\n",
    "test_x_file = [file_name for file_name in origin_data_list if file_name not in train_x_file]\n",
    "test_y_file = [file_name[:-4] + '_L.png' for file_name in test_x_file]"
   ]
  },
  {
   "cell_type": "code",
   "execution_count": 3,
   "id": "ca295aa2",
   "metadata": {},
   "outputs": [
    {
     "name": "stdout",
     "output_type": "stream",
     "text": [
      "560 141 560 141\n"
     ]
    }
   ],
   "source": [
    "print(len(train_x_file), len(test_x_file), len(train_y_file), len(test_y_file))"
   ]
  },
  {
   "cell_type": "code",
   "execution_count": 4,
   "id": "a2b80b82",
   "metadata": {},
   "outputs": [
    {
     "name": "stdout",
     "output_type": "stream",
     "text": [
      "Seq05VD_f02220.png 0016E5_08107.png Seq05VD_f02220_L.png 0016E5_08107_L.png\n"
     ]
    }
   ],
   "source": [
    "print(train_x_file[0], test_x_file[0], train_y_file[0], test_y_file[0])"
   ]
  },
  {
   "cell_type": "markdown",
   "id": "7b67ed5e",
   "metadata": {},
   "source": [
    "### X"
   ]
  },
  {
   "cell_type": "code",
   "execution_count": 5,
   "id": "62db6fd8",
   "metadata": {},
   "outputs": [],
   "source": [
    "train_x = [np.array(Image.open(origin_data_path + train)) for train in train_x_file]\n",
    "test_x = [np.array(Image.open(origin_data_path + test)) for test in test_x_file]"
   ]
  },
  {
   "cell_type": "markdown",
   "id": "8bbd0109",
   "metadata": {},
   "source": [
    "### Y"
   ]
  },
  {
   "cell_type": "code",
   "execution_count": 6,
   "id": "351dbc19",
   "metadata": {},
   "outputs": [],
   "source": [
    "# color to label catId\n",
    "color2label = { label.color   : label.id for label in labels}"
   ]
  },
  {
   "cell_type": "code",
   "execution_count": 7,
   "id": "a95c59a6",
   "metadata": {
    "scrolled": true
   },
   "outputs": [
    {
     "name": "stderr",
     "output_type": "stream",
     "text": [
      "100%|██████████| 560/560 [21:43<00:00,  2.33s/it]\n"
     ]
    }
   ],
   "source": [
    "train_y = []\n",
    "for file_name in tqdm(train_y_file):\n",
    "    image = np.array(Image.open(labeled_data_path + file_name))\n",
    "    ret = [[color2label[tuple([r[0], r[1], r[2]])] \n",
    "            if tuple([r[0], r[1], r[2]]) in color2label else 11\n",
    "            for r in row] \n",
    "           for row in image]\n",
    "    train_y.append(ret)"
   ]
  },
  {
   "cell_type": "code",
   "execution_count": 8,
   "id": "38587377",
   "metadata": {
    "scrolled": false
   },
   "outputs": [
    {
     "name": "stderr",
     "output_type": "stream",
     "text": [
      "100%|██████████| 141/141 [05:28<00:00,  2.33s/it]\n"
     ]
    }
   ],
   "source": [
    "test_y = []\n",
    "for file_name in tqdm(test_y_file):\n",
    "    image = np.array(Image.open(labeled_data_path + file_name))\n",
    "    ret = [[color2label[tuple([r[0], r[1], r[2]])] \n",
    "            if tuple([r[0], r[1], r[2]]) in color2label else 11\n",
    "            for r in row] \n",
    "           for row in image]\n",
    "    test_y.append(ret)"
   ]
  },
  {
   "cell_type": "code",
   "execution_count": 9,
   "id": "15fa0577",
   "metadata": {
    "scrolled": false
   },
   "outputs": [
    {
     "data": {
      "text/plain": [
       "((560, 720, 960), (141, 720, 960))"
      ]
     },
     "execution_count": 9,
     "metadata": {},
     "output_type": "execute_result"
    }
   ],
   "source": [
    "np.array(train_y).shape, np.array(test_y).shape"
   ]
  },
  {
   "cell_type": "code",
   "execution_count": 10,
   "id": "88c21514",
   "metadata": {},
   "outputs": [],
   "source": [
    "train_x = np.array(train_x)\n",
    "train_y = np.array(train_y)\n",
    "test_x = np.array(test_x)\n",
    "test_y = np.array(test_y)"
   ]
  },
  {
   "cell_type": "markdown",
   "id": "2b2d5781",
   "metadata": {},
   "source": [
    "### data save"
   ]
  },
  {
   "cell_type": "code",
   "execution_count": 11,
   "id": "b2642672",
   "metadata": {
    "scrolled": true
   },
   "outputs": [],
   "source": [
    "np.savez('data.npz', train_x=train_x, train_y=train_y, test_x=test_x, test_y=test_y)"
   ]
  },
  {
   "cell_type": "markdown",
   "id": "236b974d",
   "metadata": {},
   "source": [
    "# Model"
   ]
  },
  {
   "cell_type": "markdown",
   "id": "ada08c10",
   "metadata": {},
   "source": [
    "### package load"
   ]
  },
  {
   "cell_type": "code",
   "execution_count": 1,
   "id": "db262e5b",
   "metadata": {},
   "outputs": [],
   "source": [
    "import os\n",
    "import sys\n",
    "import time\n",
    "import datetime\n",
    "from tqdm import tqdm\n",
    "import numpy as np\n",
    "import warnings\n",
    "import random\n",
    "import torch\n",
    "import torch.nn as nn\n",
    "import torch.nn.functional as F\n",
    "import torch.optim as optim\n",
    "from torch.autograd import Variable\n",
    "import torchvision\n",
    "import torchvision.transforms.functional as TF\n",
    "import pandas as pd\n",
    "import matplotlib.pyplot as plt"
   ]
  },
  {
   "cell_type": "code",
   "execution_count": 2,
   "id": "6a7374e4",
   "metadata": {},
   "outputs": [],
   "source": [
    "from model import convert_bn_to_instancenorm, convert_bn_to_evonorm, convert_bn_to_groupnorm, DeepLabHead, UNet\n",
    "from helpers import AverageMeter, ProgressMeter, iouCalc, visim, vislbl\n",
    "from labels import labels"
   ]
  },
  {
   "cell_type": "markdown",
   "id": "22edfb88",
   "metadata": {},
   "source": [
    "### file name for save model log"
   ]
  },
  {
   "cell_type": "code",
   "execution_count": 3,
   "id": "07952e64",
   "metadata": {},
   "outputs": [],
   "source": [
    "filename = '06_resnet_50'"
   ]
  },
  {
   "cell_type": "markdown",
   "id": "3e531816",
   "metadata": {},
   "source": [
    "### CPU or GPU\n",
    "#### 아래 코드에서 True이면 GPU 사용, False 이면 CPU 사용됨."
   ]
  },
  {
   "cell_type": "code",
   "execution_count": 4,
   "id": "95e11a2b",
   "metadata": {},
   "outputs": [],
   "source": [
    "USE_CUDA = torch.cuda.is_available() and True \n",
    "device = torch.device('cuda' if USE_CUDA else 'cpu')"
   ]
  },
  {
   "cell_type": "markdown",
   "id": "5f26ad9e",
   "metadata": {},
   "source": [
    "## data load"
   ]
  },
  {
   "cell_type": "code",
   "execution_count": 5,
   "id": "295e0bb2",
   "metadata": {},
   "outputs": [],
   "source": [
    "npzfile = np.load('data.npz')\n",
    "\n",
    "train_x = npzfile['train_x']\n",
    "train_y = npzfile['train_y']\n",
    "test_x = npzfile['test_x']\n",
    "test_y = npzfile['test_y']\n",
    "\n",
    "npzfile.close()"
   ]
  },
  {
   "cell_type": "code",
   "execution_count": 6,
   "id": "4fff1c6c",
   "metadata": {},
   "outputs": [],
   "source": [
    "train_x = train_x[:int(train_x.shape[0]*0.875)]\n",
    "train_y = train_y[:int(train_y.shape[0]*0.875)]\n",
    "\n",
    "val_x = train_x[int(train_x.shape[0]*0.875):]\n",
    "val_y = train_y[int(train_y.shape[0]*0.875):]"
   ]
  },
  {
   "cell_type": "code",
   "execution_count": 7,
   "id": "3e57e944",
   "metadata": {},
   "outputs": [
    {
     "data": {
      "text/plain": [
       "((490, 720, 960, 3), (490, 720, 960), (62, 720, 960, 3), (62, 720, 960))"
      ]
     },
     "execution_count": 7,
     "metadata": {},
     "output_type": "execute_result"
    }
   ],
   "source": [
    "train_x.shape, train_y.shape, val_x.shape, val_y.shape"
   ]
  },
  {
   "cell_type": "markdown",
   "id": "86f1da40",
   "metadata": {},
   "source": [
    "### Cut Mix"
   ]
  },
  {
   "cell_type": "code",
   "execution_count": 8,
   "id": "9d00727d",
   "metadata": {},
   "outputs": [],
   "source": [
    "def cutmix(image_x, image_y, size_x, size_y):\n",
    "    w, h = image_x.shape[0], image_x.shape[1]\n",
    "    \n",
    "    # 복사할 이미지 랜덤 선택\n",
    "    cxs, cys = random.randint(0, w-size_x), random.randint(0, h-size_y) # copy x start / copy y start\n",
    "    cxe, cye = cxs + size_x, cys + size_y # copy x end / copy y end\n",
    "    \n",
    "    # 붙여넣을 위치\n",
    "    xs, ys = random.randint(0, w-size_x), random.randint(0, h-size_y) \n",
    "    xe, ye = xs + size_x, ys + size_y\n",
    "    \n",
    "    result_x = image_x.copy()\n",
    "    result_y = image_y.copy()\n",
    "    result_x[xs:xe, ys:ye] = image_x[cxs:cxe, cys:cye]\n",
    "    result_y[xs:xe, ys:ye] = image_y[cxs:cxe, cys:cye]\n",
    "    \n",
    "    return result_x, result_y"
   ]
  },
  {
   "cell_type": "code",
   "execution_count": 9,
   "id": "81ee5b69",
   "metadata": {},
   "outputs": [],
   "source": [
    "cutmix_index = list(range(len(train_x)))\n",
    "np.random.shuffle(cutmix_index)\n",
    "\n",
    "cutmix_num = 200\n",
    "cutmix_index = cutmix_index[:cutmix_num]\n",
    "\n",
    "append_x = []\n",
    "append_y = []\n",
    "\n",
    "for i in cutmix_index:\n",
    "    app_x, app_y = cutmix(train_x[i], train_y[i], 300, 300)\n",
    "    append_x.append(app_x)\n",
    "    append_y.append(app_y)\n",
    "    \n",
    "train_x = np.append(train_x, append_x, axis=0)\n",
    "train_y = np.append(train_y, append_y, axis=0)"
   ]
  },
  {
   "cell_type": "code",
   "execution_count": 10,
   "id": "895744b4",
   "metadata": {},
   "outputs": [
    {
     "data": {
      "text/plain": [
       "((690, 720, 960, 3), (690, 720, 960))"
      ]
     },
     "execution_count": 10,
     "metadata": {},
     "output_type": "execute_result"
    }
   ],
   "source": [
    "train_x.shape, train_y.shape"
   ]
  },
  {
   "cell_type": "markdown",
   "id": "b684bea5",
   "metadata": {},
   "source": [
    "### DeepLab v3 ResNet50 "
   ]
  },
  {
   "cell_type": "code",
   "execution_count": 11,
   "id": "ce7757fc",
   "metadata": {},
   "outputs": [],
   "source": [
    "model = torchvision.models.segmentation.deeplabv3_resnet50(pretrained=False).to(device)\n",
    "model.classifier = DeepLabHead(2048, 12).to(device) # 12 = class num"
   ]
  },
  {
   "cell_type": "code",
   "execution_count": 12,
   "id": "202574db",
   "metadata": {},
   "outputs": [],
   "source": [
    "optimizer = torch.optim.SGD(model.parameters(), lr=0.01, momentum=0.9)\n",
    "scheduler = optim.lr_scheduler.CosineAnnealingLR(optimizer, T_max=2) # 파라미터 학습속도 조절"
   ]
  },
  {
   "cell_type": "code",
   "execution_count": 13,
   "id": "09ea1336",
   "metadata": {},
   "outputs": [],
   "source": [
    "# Initialize metrics\n",
    "best_miou = 0.0\n",
    "metrics = {'train_loss' : [],\n",
    "           'train_acc' : [],\n",
    "           'test_acc' : [],\n",
    "           'test_loss' : [],\n",
    "           'miou' : []}\n",
    "start_epoch = 0"
   ]
  },
  {
   "cell_type": "markdown",
   "id": "0c71edf0",
   "metadata": {},
   "source": [
    "### Label "
   ]
  },
  {
   "cell_type": "code",
   "execution_count": 14,
   "id": "61074ec9",
   "metadata": {},
   "outputs": [],
   "source": [
    "# Create list of class names\n",
    "classLabels = []\n",
    "for label in labels:\n",
    "    if label.name not in classLabels:\n",
    "        classLabels.append(label.name)\n",
    "classLabels.append('void')"
   ]
  },
  {
   "cell_type": "code",
   "execution_count": 15,
   "id": "84d3f8f6",
   "metadata": {
    "scrolled": true
   },
   "outputs": [],
   "source": [
    "validClasses = list(np.unique([label.id for label in labels if label.id >= 0] + [11]))"
   ]
  },
  {
   "cell_type": "markdown",
   "id": "08dc84a4",
   "metadata": {},
   "source": [
    "## train"
   ]
  },
  {
   "cell_type": "code",
   "execution_count": 16,
   "id": "79ef0c62",
   "metadata": {},
   "outputs": [],
   "source": [
    "train_X = torch.tensor(train_x, dtype=torch.float32)\n",
    "train_Y = torch.tensor(train_y, dtype=torch.long)\n",
    "\n",
    "train_data = torch.utils.data.TensorDataset(train_X.permute(dims=(0, 3, 1, 2)), train_Y)\n",
    "\n",
    "train_data = torch.utils.data.DataLoader(train_data, batch_size=2, shuffle=True)"
   ]
  },
  {
   "cell_type": "code",
   "execution_count": 17,
   "id": "f19f02b5",
   "metadata": {},
   "outputs": [],
   "source": [
    "# class weight\n",
    "\n",
    "dist = {i:(train_Y == i).sum().tolist() for i in range(12)}\n",
    "\n",
    "weights = [1/dist[i] for i in range(12)]\n",
    "total_weights = sum(weights)\n",
    "\n",
    "class_weight = torch.FloatTensor([w/total_weights for w in weights]).to(device)\n",
    "criterion = nn.CrossEntropyLoss(weight = class_weight, ignore_index=12) # weight 파라미터에 class_weight 추가\n",
    "\n",
    "num_epoch = 100\n",
    "res = train_X.shape[1] * train_X.shape[2]"
   ]
  },
  {
   "cell_type": "code",
   "execution_count": 18,
   "id": "09430848",
   "metadata": {
    "scrolled": true
   },
   "outputs": [
    {
     "name": "stderr",
     "output_type": "stream",
     "text": [
      "100%|██████████| 345/345 [05:44<00:00,  1.00it/s]\n"
     ]
    },
    {
     "name": "stdout",
     "output_type": "stream",
     "text": [
      "classes           IoU\n",
      "---------------------\n",
      "Pole          : 0.151\n",
      "SignSymbol    : 0.242\n",
      "Bicyclist     : 0.306\n",
      "Pedestrian    : 0.268\n",
      "Building      : 0.588\n",
      "Fence         : 0.323\n",
      "Pavement      : 0.604\n",
      "Road          : 0.842\n",
      "Car           : 0.609\n",
      "Sky           : 0.810\n",
      "Tree          : 0.642\n",
      "---------------------\n",
      "Mean IoU      : 0.490\n",
      "---------------------\n",
      "train epoch  1\n",
      "loss : 0.8287   acc : 0.7667   miou : 0.4896\n",
      "mIoU improved from 0.0000 to 0.4896.\n"
     ]
    },
    {
     "name": "stderr",
     "output_type": "stream",
     "text": [
      "100%|██████████| 345/345 [05:45<00:00,  1.00s/it]\n"
     ]
    },
    {
     "name": "stdout",
     "output_type": "stream",
     "text": [
      "classes           IoU\n",
      "---------------------\n",
      "Pole          : 0.293\n",
      "SignSymbol    : 0.464\n",
      "Bicyclist     : 0.614\n",
      "Pedestrian    : 0.504\n",
      "Building      : 0.768\n",
      "Fence         : 0.584\n",
      "Pavement      : 0.754\n",
      "Road          : 0.920\n",
      "Car           : 0.807\n",
      "Sky           : 0.882\n",
      "Tree          : 0.766\n",
      "---------------------\n",
      "Mean IoU      : 0.669\n",
      "---------------------\n",
      "train epoch  2\n",
      "loss : 0.4098   acc : 0.8697   miou : 0.6686\n",
      "mIoU improved from 0.4896 to 0.6686.\n"
     ]
    },
    {
     "name": "stderr",
     "output_type": "stream",
     "text": [
      "100%|██████████| 345/345 [05:45<00:00,  1.00s/it]\n"
     ]
    },
    {
     "name": "stdout",
     "output_type": "stream",
     "text": [
      "classes           IoU\n",
      "---------------------\n",
      "Pole          : 0.338\n",
      "SignSymbol    : 0.540\n",
      "Bicyclist     : 0.672\n",
      "Pedestrian    : 0.561\n",
      "Building      : 0.813\n",
      "Fence         : 0.676\n",
      "Pavement      : 0.795\n",
      "Road          : 0.936\n",
      "Car           : 0.844\n",
      "Sky           : 0.894\n",
      "Tree          : 0.794\n",
      "---------------------\n",
      "Mean IoU      : 0.715\n",
      "---------------------\n",
      "train epoch  3\n",
      "loss : 0.3301   acc : 0.8922   miou : 0.7150\n",
      "mIoU improved from 0.6686 to 0.7150.\n"
     ]
    },
    {
     "name": "stderr",
     "output_type": "stream",
     "text": [
      "100%|██████████| 345/345 [05:45<00:00,  1.00s/it]\n"
     ]
    },
    {
     "name": "stdout",
     "output_type": "stream",
     "text": [
      "classes           IoU\n",
      "---------------------\n",
      "Pole          : 0.374\n",
      "SignSymbol    : 0.591\n",
      "Bicyclist     : 0.709\n",
      "Pedestrian    : 0.590\n",
      "Building      : 0.841\n",
      "Fence         : 0.728\n",
      "Pavement      : 0.823\n",
      "Road          : 0.944\n",
      "Car           : 0.868\n",
      "Sky           : 0.901\n",
      "Tree          : 0.811\n",
      "---------------------\n",
      "Mean IoU      : 0.744\n",
      "---------------------\n",
      "train epoch  4\n",
      "loss : 0.2751   acc : 0.9059   miou : 0.7436\n",
      "mIoU improved from 0.7150 to 0.7436.\n"
     ]
    },
    {
     "name": "stderr",
     "output_type": "stream",
     "text": [
      "100%|██████████| 345/345 [05:45<00:00,  1.00s/it]\n"
     ]
    },
    {
     "name": "stdout",
     "output_type": "stream",
     "text": [
      "classes           IoU\n",
      "---------------------\n",
      "Pole          : 0.407\n",
      "SignSymbol    : 0.636\n",
      "Bicyclist     : 0.737\n",
      "Pedestrian    : 0.631\n",
      "Building      : 0.865\n",
      "Fence         : 0.778\n",
      "Pavement      : 0.845\n",
      "Road          : 0.954\n",
      "Car           : 0.883\n",
      "Sky           : 0.906\n",
      "Tree          : 0.832\n",
      "---------------------\n",
      "Mean IoU      : 0.770\n",
      "---------------------\n",
      "train epoch  5\n",
      "loss : 0.2301   acc : 0.9189   miou : 0.7703\n",
      "mIoU improved from 0.7436 to 0.7703.\n"
     ]
    },
    {
     "name": "stderr",
     "output_type": "stream",
     "text": [
      "100%|██████████| 345/345 [05:45<00:00,  1.00s/it]\n"
     ]
    },
    {
     "name": "stdout",
     "output_type": "stream",
     "text": [
      "classes           IoU\n",
      "---------------------\n",
      "Pole          : 0.429\n",
      "SignSymbol    : 0.660\n",
      "Bicyclist     : 0.753\n",
      "Pedestrian    : 0.650\n",
      "Building      : 0.876\n",
      "Fence         : 0.806\n",
      "Pavement      : 0.861\n",
      "Road          : 0.958\n",
      "Car           : 0.890\n",
      "Sky           : 0.911\n",
      "Tree          : 0.844\n",
      "---------------------\n",
      "Mean IoU      : 0.785\n",
      "---------------------\n",
      "train epoch  6\n",
      "loss : 0.2060   acc : 0.9255   miou : 0.7853\n",
      "mIoU improved from 0.7703 to 0.7853.\n"
     ]
    },
    {
     "name": "stderr",
     "output_type": "stream",
     "text": [
      "100%|██████████| 345/345 [05:45<00:00,  1.00s/it]\n"
     ]
    },
    {
     "name": "stdout",
     "output_type": "stream",
     "text": [
      "classes           IoU\n",
      "---------------------\n",
      "Pole          : 0.449\n",
      "SignSymbol    : 0.685\n",
      "Bicyclist     : 0.763\n",
      "Pedestrian    : 0.667\n",
      "Building      : 0.886\n",
      "Fence         : 0.821\n",
      "Pavement      : 0.870\n",
      "Road          : 0.962\n",
      "Car           : 0.896\n",
      "Sky           : 0.913\n",
      "Tree          : 0.851\n",
      "---------------------\n",
      "Mean IoU      : 0.796\n",
      "---------------------\n",
      "train epoch  7\n",
      "loss : 0.1912   acc : 0.9303   miou : 0.7964\n",
      "mIoU improved from 0.7853 to 0.7964.\n"
     ]
    },
    {
     "name": "stderr",
     "output_type": "stream",
     "text": [
      "100%|██████████| 345/345 [05:45<00:00,  1.00s/it]\n"
     ]
    },
    {
     "name": "stdout",
     "output_type": "stream",
     "text": [
      "classes           IoU\n",
      "---------------------\n",
      "Pole          : 0.464\n",
      "SignSymbol    : 0.707\n",
      "Bicyclist     : 0.766\n",
      "Pedestrian    : 0.680\n",
      "Building      : 0.894\n",
      "Fence         : 0.839\n",
      "Pavement      : 0.880\n",
      "Road          : 0.966\n",
      "Car           : 0.902\n",
      "Sky           : 0.914\n",
      "Tree          : 0.858\n",
      "---------------------\n",
      "Mean IoU      : 0.806\n",
      "---------------------\n",
      "train epoch  8\n",
      "loss : 0.1768   acc : 0.9349   miou : 0.8063\n",
      "mIoU improved from 0.7964 to 0.8063.\n"
     ]
    },
    {
     "name": "stderr",
     "output_type": "stream",
     "text": [
      "100%|██████████| 345/345 [05:45<00:00,  1.00s/it]\n"
     ]
    },
    {
     "name": "stdout",
     "output_type": "stream",
     "text": [
      "classes           IoU\n",
      "---------------------\n",
      "Pole          : 0.478\n",
      "SignSymbol    : 0.718\n",
      "Bicyclist     : 0.782\n",
      "Pedestrian    : 0.690\n",
      "Building      : 0.900\n",
      "Fence         : 0.845\n",
      "Pavement      : 0.886\n",
      "Road          : 0.967\n",
      "Car           : 0.907\n",
      "Sky           : 0.916\n",
      "Tree          : 0.864\n",
      "---------------------\n",
      "Mean IoU      : 0.814\n",
      "---------------------\n",
      "train epoch  9\n",
      "loss : 0.1674   acc : 0.9379   miou : 0.8140\n",
      "mIoU improved from 0.8063 to 0.8140.\n"
     ]
    },
    {
     "name": "stderr",
     "output_type": "stream",
     "text": [
      "100%|██████████| 345/345 [05:46<00:00,  1.00s/it]\n"
     ]
    },
    {
     "name": "stdout",
     "output_type": "stream",
     "text": [
      "classes           IoU\n",
      "---------------------\n",
      "Pole          : 0.491\n",
      "SignSymbol    : 0.730\n",
      "Bicyclist     : 0.791\n",
      "Pedestrian    : 0.701\n",
      "Building      : 0.904\n",
      "Fence         : 0.855\n",
      "Pavement      : 0.890\n",
      "Road          : 0.969\n",
      "Car           : 0.911\n",
      "Sky           : 0.918\n",
      "Tree          : 0.868\n",
      "---------------------\n",
      "Mean IoU      : 0.821\n",
      "---------------------\n",
      "train epoch  10\n",
      "loss : 0.1583   acc : 0.9403   miou : 0.8209\n",
      "mIoU improved from 0.8140 to 0.8209.\n"
     ]
    },
    {
     "name": "stderr",
     "output_type": "stream",
     "text": [
      "100%|██████████| 345/345 [05:46<00:00,  1.00s/it]\n"
     ]
    },
    {
     "name": "stdout",
     "output_type": "stream",
     "text": [
      "classes           IoU\n",
      "---------------------\n",
      "Pole          : 0.501\n",
      "SignSymbol    : 0.744\n",
      "Bicyclist     : 0.799\n",
      "Pedestrian    : 0.709\n",
      "Building      : 0.909\n",
      "Fence         : 0.865\n",
      "Pavement      : 0.895\n",
      "Road          : 0.971\n",
      "Car           : 0.914\n",
      "Sky           : 0.920\n",
      "Tree          : 0.874\n",
      "---------------------\n",
      "Mean IoU      : 0.827\n",
      "---------------------\n",
      "train epoch  11\n",
      "loss : 0.1492   acc : 0.9431   miou : 0.8274\n",
      "mIoU improved from 0.8209 to 0.8274.\n"
     ]
    },
    {
     "name": "stderr",
     "output_type": "stream",
     "text": [
      "100%|██████████| 345/345 [05:46<00:00,  1.00s/it]\n"
     ]
    },
    {
     "name": "stdout",
     "output_type": "stream",
     "text": [
      "classes           IoU\n",
      "---------------------\n",
      "Pole          : 0.511\n",
      "SignSymbol    : 0.753\n",
      "Bicyclist     : 0.804\n",
      "Pedestrian    : 0.716\n",
      "Building      : 0.912\n",
      "Fence         : 0.871\n",
      "Pavement      : 0.901\n",
      "Road          : 0.972\n",
      "Car           : 0.917\n",
      "Sky           : 0.922\n",
      "Tree          : 0.878\n",
      "---------------------\n",
      "Mean IoU      : 0.832\n",
      "---------------------\n",
      "train epoch  12\n",
      "loss : 0.1431   acc : 0.9450   miou : 0.8325\n",
      "mIoU improved from 0.8274 to 0.8325.\n"
     ]
    },
    {
     "name": "stderr",
     "output_type": "stream",
     "text": [
      "100%|██████████| 345/345 [05:45<00:00,  1.00s/it]\n"
     ]
    },
    {
     "name": "stdout",
     "output_type": "stream",
     "text": [
      "classes           IoU\n",
      "---------------------\n",
      "Pole          : 0.519\n",
      "SignSymbol    : 0.763\n",
      "Bicyclist     : 0.811\n",
      "Pedestrian    : 0.724\n",
      "Building      : 0.915\n",
      "Fence         : 0.875\n",
      "Pavement      : 0.902\n",
      "Road          : 0.972\n",
      "Car           : 0.919\n",
      "Sky           : 0.922\n",
      "Tree          : 0.881\n",
      "---------------------\n",
      "Mean IoU      : 0.837\n",
      "---------------------\n",
      "train epoch  13\n",
      "loss : 0.1388   acc : 0.9463   miou : 0.8367\n",
      "mIoU improved from 0.8325 to 0.8367.\n"
     ]
    },
    {
     "name": "stderr",
     "output_type": "stream",
     "text": [
      "100%|██████████| 345/345 [05:46<00:00,  1.00s/it]\n"
     ]
    },
    {
     "name": "stdout",
     "output_type": "stream",
     "text": [
      "classes           IoU\n",
      "---------------------\n",
      "Pole          : 0.528\n",
      "SignSymbol    : 0.769\n",
      "Bicyclist     : 0.816\n",
      "Pedestrian    : 0.730\n",
      "Building      : 0.919\n",
      "Fence         : 0.882\n",
      "Pavement      : 0.906\n",
      "Road          : 0.973\n",
      "Car           : 0.922\n",
      "Sky           : 0.923\n",
      "Tree          : 0.885\n",
      "---------------------\n",
      "Mean IoU      : 0.841\n",
      "---------------------\n",
      "train epoch  14\n",
      "loss : 0.1337   acc : 0.9482   miou : 0.8412\n",
      "mIoU improved from 0.8367 to 0.8412.\n"
     ]
    },
    {
     "name": "stderr",
     "output_type": "stream",
     "text": [
      "100%|██████████| 345/345 [05:46<00:00,  1.00s/it]\n"
     ]
    },
    {
     "name": "stdout",
     "output_type": "stream",
     "text": [
      "classes           IoU\n",
      "---------------------\n",
      "Pole          : 0.534\n",
      "SignSymbol    : 0.775\n",
      "Bicyclist     : 0.819\n",
      "Pedestrian    : 0.735\n",
      "Building      : 0.921\n",
      "Fence         : 0.883\n",
      "Pavement      : 0.908\n",
      "Road          : 0.974\n",
      "Car           : 0.923\n",
      "Sky           : 0.924\n",
      "Tree          : 0.888\n",
      "---------------------\n",
      "Mean IoU      : 0.844\n",
      "---------------------\n",
      "train epoch  15\n",
      "loss : 0.1293   acc : 0.9493   miou : 0.8440\n",
      "mIoU improved from 0.8412 to 0.8440.\n"
     ]
    },
    {
     "name": "stderr",
     "output_type": "stream",
     "text": [
      "100%|██████████| 345/345 [05:46<00:00,  1.00s/it]\n"
     ]
    },
    {
     "name": "stdout",
     "output_type": "stream",
     "text": [
      "classes           IoU\n",
      "---------------------\n",
      "Pole          : 0.541\n",
      "SignSymbol    : 0.783\n",
      "Bicyclist     : 0.823\n",
      "Pedestrian    : 0.742\n",
      "Building      : 0.924\n",
      "Fence         : 0.892\n",
      "Pavement      : 0.911\n",
      "Road          : 0.974\n",
      "Car           : 0.926\n",
      "Sky           : 0.925\n",
      "Tree          : 0.891\n",
      "---------------------\n",
      "Mean IoU      : 0.848\n",
      "---------------------\n",
      "train epoch  16\n",
      "loss : 0.1243   acc : 0.9509   miou : 0.8483\n",
      "mIoU improved from 0.8440 to 0.8483.\n"
     ]
    },
    {
     "name": "stderr",
     "output_type": "stream",
     "text": [
      "100%|██████████| 345/345 [05:46<00:00,  1.00s/it]\n"
     ]
    },
    {
     "name": "stdout",
     "output_type": "stream",
     "text": [
      "classes           IoU\n",
      "---------------------\n",
      "Pole          : 0.546\n",
      "SignSymbol    : 0.789\n",
      "Bicyclist     : 0.825\n",
      "Pedestrian    : 0.743\n",
      "Building      : 0.926\n",
      "Fence         : 0.894\n",
      "Pavement      : 0.912\n",
      "Road          : 0.975\n",
      "Car           : 0.927\n",
      "Sky           : 0.926\n",
      "Tree          : 0.892\n",
      "---------------------\n",
      "Mean IoU      : 0.850\n",
      "---------------------\n",
      "train epoch  17\n",
      "loss : 0.1226   acc : 0.9516   miou : 0.8504\n",
      "mIoU improved from 0.8483 to 0.8504.\n"
     ]
    },
    {
     "name": "stderr",
     "output_type": "stream",
     "text": [
      "100%|██████████| 345/345 [05:46<00:00,  1.00s/it]\n"
     ]
    },
    {
     "name": "stdout",
     "output_type": "stream",
     "text": [
      "classes           IoU\n",
      "---------------------\n",
      "Pole          : 0.552\n",
      "SignSymbol    : 0.793\n",
      "Bicyclist     : 0.827\n",
      "Pedestrian    : 0.750\n",
      "Building      : 0.928\n",
      "Fence         : 0.896\n",
      "Pavement      : 0.915\n",
      "Road          : 0.976\n",
      "Car           : 0.928\n",
      "Sky           : 0.926\n",
      "Tree          : 0.894\n",
      "---------------------\n",
      "Mean IoU      : 0.853\n",
      "---------------------\n",
      "train epoch  18\n",
      "loss : 0.1191   acc : 0.9528   miou : 0.8532\n",
      "mIoU improved from 0.8504 to 0.8532.\n"
     ]
    },
    {
     "name": "stderr",
     "output_type": "stream",
     "text": [
      "100%|██████████| 345/345 [05:46<00:00,  1.00s/it]\n"
     ]
    },
    {
     "name": "stdout",
     "output_type": "stream",
     "text": [
      "classes           IoU\n",
      "---------------------\n",
      "Pole          : 0.557\n",
      "SignSymbol    : 0.796\n",
      "Bicyclist     : 0.830\n",
      "Pedestrian    : 0.752\n",
      "Building      : 0.929\n",
      "Fence         : 0.897\n",
      "Pavement      : 0.917\n",
      "Road          : 0.976\n",
      "Car           : 0.930\n",
      "Sky           : 0.927\n",
      "Tree          : 0.896\n",
      "---------------------\n",
      "Mean IoU      : 0.855\n",
      "---------------------\n",
      "train epoch  19\n",
      "loss : 0.1171   acc : 0.9534   miou : 0.8551\n",
      "mIoU improved from 0.8532 to 0.8551.\n"
     ]
    },
    {
     "name": "stderr",
     "output_type": "stream",
     "text": [
      "100%|██████████| 345/345 [05:46<00:00,  1.00s/it]\n"
     ]
    },
    {
     "name": "stdout",
     "output_type": "stream",
     "text": [
      "classes           IoU\n",
      "---------------------\n",
      "Pole          : 0.561\n",
      "SignSymbol    : 0.800\n",
      "Bicyclist     : 0.833\n",
      "Pedestrian    : 0.755\n",
      "Building      : 0.930\n",
      "Fence         : 0.900\n",
      "Pavement      : 0.918\n",
      "Road          : 0.976\n",
      "Car           : 0.931\n",
      "Sky           : 0.928\n",
      "Tree          : 0.898\n",
      "---------------------\n",
      "Mean IoU      : 0.857\n",
      "---------------------\n",
      "train epoch  20\n",
      "loss : 0.1144   acc : 0.9542   miou : 0.8573\n",
      "mIoU improved from 0.8551 to 0.8573.\n"
     ]
    },
    {
     "name": "stderr",
     "output_type": "stream",
     "text": [
      "100%|██████████| 345/345 [05:46<00:00,  1.00s/it]\n"
     ]
    },
    {
     "name": "stdout",
     "output_type": "stream",
     "text": [
      "classes           IoU\n",
      "---------------------\n",
      "Pole          : 0.566\n",
      "SignSymbol    : 0.804\n",
      "Bicyclist     : 0.838\n",
      "Pedestrian    : 0.760\n",
      "Building      : 0.932\n",
      "Fence         : 0.904\n",
      "Pavement      : 0.919\n",
      "Road          : 0.977\n",
      "Car           : 0.933\n",
      "Sky           : 0.928\n",
      "Tree          : 0.900\n",
      "---------------------\n",
      "Mean IoU      : 0.860\n",
      "---------------------\n",
      "train epoch  21\n",
      "loss : 0.1119   acc : 0.9550   miou : 0.8601\n",
      "mIoU improved from 0.8573 to 0.8601.\n"
     ]
    },
    {
     "name": "stderr",
     "output_type": "stream",
     "text": [
      "100%|██████████| 345/345 [05:46<00:00,  1.00s/it]\n"
     ]
    },
    {
     "name": "stdout",
     "output_type": "stream",
     "text": [
      "classes           IoU\n",
      "---------------------\n",
      "Pole          : 0.571\n",
      "SignSymbol    : 0.809\n",
      "Bicyclist     : 0.838\n",
      "Pedestrian    : 0.762\n",
      "Building      : 0.933\n",
      "Fence         : 0.905\n",
      "Pavement      : 0.922\n",
      "Road          : 0.977\n",
      "Car           : 0.934\n",
      "Sky           : 0.929\n",
      "Tree          : 0.902\n",
      "---------------------\n",
      "Mean IoU      : 0.862\n",
      "---------------------\n",
      "train epoch  22\n",
      "loss : 0.1094   acc : 0.9559   miou : 0.8620\n",
      "mIoU improved from 0.8601 to 0.8620.\n"
     ]
    },
    {
     "name": "stderr",
     "output_type": "stream",
     "text": [
      "100%|██████████| 345/345 [05:46<00:00,  1.00s/it]\n"
     ]
    },
    {
     "name": "stdout",
     "output_type": "stream",
     "text": [
      "classes           IoU\n",
      "---------------------\n",
      "Pole          : 0.575\n",
      "SignSymbol    : 0.812\n",
      "Bicyclist     : 0.841\n",
      "Pedestrian    : 0.766\n",
      "Building      : 0.935\n",
      "Fence         : 0.907\n",
      "Pavement      : 0.922\n",
      "Road          : 0.978\n",
      "Car           : 0.935\n",
      "Sky           : 0.929\n",
      "Tree          : 0.903\n",
      "---------------------\n",
      "Mean IoU      : 0.864\n",
      "---------------------\n",
      "train epoch  23\n",
      "loss : 0.1077   acc : 0.9565   miou : 0.8638\n",
      "mIoU improved from 0.8620 to 0.8638.\n"
     ]
    },
    {
     "name": "stderr",
     "output_type": "stream",
     "text": [
      "100%|██████████| 345/345 [05:46<00:00,  1.00s/it]\n"
     ]
    },
    {
     "name": "stdout",
     "output_type": "stream",
     "text": [
      "classes           IoU\n",
      "---------------------\n",
      "Pole          : 0.578\n",
      "SignSymbol    : 0.813\n",
      "Bicyclist     : 0.843\n",
      "Pedestrian    : 0.768\n",
      "Building      : 0.936\n",
      "Fence         : 0.910\n",
      "Pavement      : 0.924\n",
      "Road          : 0.978\n",
      "Car           : 0.936\n",
      "Sky           : 0.929\n",
      "Tree          : 0.904\n",
      "---------------------\n",
      "Mean IoU      : 0.865\n",
      "---------------------\n",
      "train epoch  24\n",
      "loss : 0.1061   acc : 0.9570   miou : 0.8653\n",
      "mIoU improved from 0.8638 to 0.8653.\n"
     ]
    },
    {
     "name": "stderr",
     "output_type": "stream",
     "text": [
      "100%|██████████| 345/345 [05:46<00:00,  1.00s/it]\n"
     ]
    },
    {
     "name": "stdout",
     "output_type": "stream",
     "text": [
      "classes           IoU\n",
      "---------------------\n",
      "Pole          : 0.582\n",
      "SignSymbol    : 0.818\n",
      "Bicyclist     : 0.846\n",
      "Pedestrian    : 0.773\n",
      "Building      : 0.937\n",
      "Fence         : 0.912\n",
      "Pavement      : 0.925\n",
      "Road          : 0.978\n",
      "Car           : 0.937\n",
      "Sky           : 0.930\n",
      "Tree          : 0.905\n",
      "---------------------\n",
      "Mean IoU      : 0.868\n",
      "---------------------\n",
      "train epoch  25\n",
      "loss : 0.1038   acc : 0.9577   miou : 0.8676\n",
      "mIoU improved from 0.8653 to 0.8676.\n"
     ]
    },
    {
     "name": "stderr",
     "output_type": "stream",
     "text": [
      "100%|██████████| 345/345 [05:46<00:00,  1.00s/it]\n"
     ]
    },
    {
     "name": "stdout",
     "output_type": "stream",
     "text": [
      "classes           IoU\n",
      "---------------------\n",
      "Pole          : 0.585\n",
      "SignSymbol    : 0.821\n",
      "Bicyclist     : 0.844\n",
      "Pedestrian    : 0.774\n",
      "Building      : 0.938\n",
      "Fence         : 0.911\n",
      "Pavement      : 0.927\n",
      "Road          : 0.979\n",
      "Car           : 0.937\n",
      "Sky           : 0.930\n",
      "Tree          : 0.906\n",
      "---------------------\n",
      "Mean IoU      : 0.868\n",
      "---------------------\n",
      "train epoch  26\n",
      "loss : 0.1029   acc : 0.9580   miou : 0.8681\n",
      "mIoU improved from 0.8676 to 0.8681.\n"
     ]
    },
    {
     "name": "stderr",
     "output_type": "stream",
     "text": [
      "100%|██████████| 345/345 [05:46<00:00,  1.00s/it]\n"
     ]
    },
    {
     "name": "stdout",
     "output_type": "stream",
     "text": [
      "classes           IoU\n",
      "---------------------\n",
      "Pole          : 0.588\n",
      "SignSymbol    : 0.823\n",
      "Bicyclist     : 0.846\n",
      "Pedestrian    : 0.776\n",
      "Building      : 0.938\n",
      "Fence         : 0.914\n",
      "Pavement      : 0.928\n",
      "Road          : 0.979\n",
      "Car           : 0.938\n",
      "Sky           : 0.931\n",
      "Tree          : 0.908\n",
      "---------------------\n",
      "Mean IoU      : 0.870\n",
      "---------------------\n",
      "train epoch  27\n",
      "loss : 0.1013   acc : 0.9586   miou : 0.8699\n",
      "mIoU improved from 0.8681 to 0.8699.\n"
     ]
    },
    {
     "name": "stderr",
     "output_type": "stream",
     "text": [
      "100%|██████████| 345/345 [05:46<00:00,  1.00s/it]\n"
     ]
    },
    {
     "name": "stdout",
     "output_type": "stream",
     "text": [
      "classes           IoU\n",
      "---------------------\n",
      "Pole          : 0.591\n",
      "SignSymbol    : 0.826\n",
      "Bicyclist     : 0.849\n",
      "Pedestrian    : 0.777\n",
      "Building      : 0.940\n",
      "Fence         : 0.916\n",
      "Pavement      : 0.928\n",
      "Road          : 0.979\n",
      "Car           : 0.939\n",
      "Sky           : 0.931\n",
      "Tree          : 0.908\n",
      "---------------------\n",
      "Mean IoU      : 0.871\n",
      "---------------------\n",
      "train epoch  28\n",
      "loss : 0.1000   acc : 0.9591   miou : 0.8713\n",
      "mIoU improved from 0.8699 to 0.8713.\n"
     ]
    },
    {
     "name": "stderr",
     "output_type": "stream",
     "text": [
      "100%|██████████| 345/345 [05:46<00:00,  1.00s/it]\n"
     ]
    },
    {
     "name": "stdout",
     "output_type": "stream",
     "text": [
      "classes           IoU\n",
      "---------------------\n",
      "Pole          : 0.594\n",
      "SignSymbol    : 0.828\n",
      "Bicyclist     : 0.852\n",
      "Pedestrian    : 0.780\n",
      "Building      : 0.941\n",
      "Fence         : 0.916\n",
      "Pavement      : 0.930\n",
      "Road          : 0.980\n",
      "Car           : 0.940\n",
      "Sky           : 0.931\n",
      "Tree          : 0.910\n",
      "---------------------\n",
      "Mean IoU      : 0.873\n",
      "---------------------\n",
      "train epoch  29\n",
      "loss : 0.0979   acc : 0.9597   miou : 0.8729\n",
      "mIoU improved from 0.8713 to 0.8729.\n"
     ]
    },
    {
     "name": "stderr",
     "output_type": "stream",
     "text": [
      "100%|██████████| 345/345 [05:46<00:00,  1.00s/it]\n"
     ]
    },
    {
     "name": "stdout",
     "output_type": "stream",
     "text": [
      "classes           IoU\n",
      "---------------------\n",
      "Pole          : 0.597\n",
      "SignSymbol    : 0.830\n",
      "Bicyclist     : 0.854\n",
      "Pedestrian    : 0.783\n",
      "Building      : 0.941\n",
      "Fence         : 0.919\n",
      "Pavement      : 0.931\n",
      "Road          : 0.980\n",
      "Car           : 0.941\n",
      "Sky           : 0.932\n",
      "Tree          : 0.911\n",
      "---------------------\n",
      "Mean IoU      : 0.874\n",
      "---------------------\n",
      "train epoch  30\n",
      "loss : 0.0969   acc : 0.9601   miou : 0.8744\n",
      "mIoU improved from 0.8729 to 0.8744.\n"
     ]
    },
    {
     "name": "stderr",
     "output_type": "stream",
     "text": [
      "100%|██████████| 345/345 [05:45<00:00,  1.00s/it]\n"
     ]
    },
    {
     "name": "stdout",
     "output_type": "stream",
     "text": [
      "classes           IoU\n",
      "---------------------\n",
      "Pole          : 0.600\n",
      "SignSymbol    : 0.832\n",
      "Bicyclist     : 0.855\n",
      "Pedestrian    : 0.786\n",
      "Building      : 0.942\n",
      "Fence         : 0.920\n",
      "Pavement      : 0.932\n",
      "Road          : 0.980\n",
      "Car           : 0.942\n",
      "Sky           : 0.932\n",
      "Tree          : 0.911\n",
      "---------------------\n",
      "Mean IoU      : 0.876\n",
      "---------------------\n",
      "train epoch  31\n",
      "loss : 0.0951   acc : 0.9606   miou : 0.8756\n",
      "mIoU improved from 0.8744 to 0.8756.\n"
     ]
    },
    {
     "name": "stderr",
     "output_type": "stream",
     "text": [
      "100%|██████████| 345/345 [05:46<00:00,  1.00s/it]\n"
     ]
    },
    {
     "name": "stdout",
     "output_type": "stream",
     "text": [
      "classes           IoU\n",
      "---------------------\n",
      "Pole          : 0.603\n",
      "SignSymbol    : 0.833\n",
      "Bicyclist     : 0.855\n",
      "Pedestrian    : 0.786\n",
      "Building      : 0.943\n",
      "Fence         : 0.921\n",
      "Pavement      : 0.932\n",
      "Road          : 0.980\n",
      "Car           : 0.942\n",
      "Sky           : 0.932\n",
      "Tree          : 0.913\n",
      "---------------------\n",
      "Mean IoU      : 0.876\n",
      "---------------------\n",
      "train epoch  32\n",
      "loss : 0.0952   acc : 0.9609   miou : 0.8765\n",
      "mIoU improved from 0.8756 to 0.8765.\n"
     ]
    },
    {
     "name": "stderr",
     "output_type": "stream",
     "text": [
      "100%|██████████| 345/345 [05:46<00:00,  1.00s/it]\n"
     ]
    },
    {
     "name": "stdout",
     "output_type": "stream",
     "text": [
      "classes           IoU\n",
      "---------------------\n",
      "Pole          : 0.605\n",
      "SignSymbol    : 0.836\n",
      "Bicyclist     : 0.856\n",
      "Pedestrian    : 0.789\n",
      "Building      : 0.944\n",
      "Fence         : 0.922\n",
      "Pavement      : 0.933\n",
      "Road          : 0.980\n",
      "Car           : 0.943\n",
      "Sky           : 0.932\n",
      "Tree          : 0.913\n",
      "---------------------\n",
      "Mean IoU      : 0.878\n",
      "---------------------\n",
      "train epoch  33\n",
      "loss : 0.0933   acc : 0.9613   miou : 0.8777\n",
      "mIoU improved from 0.8765 to 0.8777.\n"
     ]
    },
    {
     "name": "stderr",
     "output_type": "stream",
     "text": [
      "100%|██████████| 345/345 [05:46<00:00,  1.00s/it]\n"
     ]
    },
    {
     "name": "stdout",
     "output_type": "stream",
     "text": [
      "classes           IoU\n",
      "---------------------\n",
      "Pole          : 0.607\n",
      "SignSymbol    : 0.838\n",
      "Bicyclist     : 0.858\n",
      "Pedestrian    : 0.790\n",
      "Building      : 0.944\n",
      "Fence         : 0.923\n",
      "Pavement      : 0.934\n",
      "Road          : 0.981\n",
      "Car           : 0.944\n",
      "Sky           : 0.932\n",
      "Tree          : 0.914\n",
      "---------------------\n",
      "Mean IoU      : 0.879\n",
      "---------------------\n",
      "train epoch  34\n",
      "loss : 0.0925   acc : 0.9615   miou : 0.8787\n",
      "mIoU improved from 0.8777 to 0.8787.\n"
     ]
    },
    {
     "name": "stderr",
     "output_type": "stream",
     "text": [
      "100%|██████████| 345/345 [05:46<00:00,  1.00s/it]\n"
     ]
    },
    {
     "name": "stdout",
     "output_type": "stream",
     "text": [
      "classes           IoU\n",
      "---------------------\n",
      "Pole          : 0.610\n",
      "SignSymbol    : 0.841\n",
      "Bicyclist     : 0.860\n",
      "Pedestrian    : 0.791\n",
      "Building      : 0.945\n",
      "Fence         : 0.925\n",
      "Pavement      : 0.935\n",
      "Road          : 0.981\n",
      "Car           : 0.944\n",
      "Sky           : 0.933\n",
      "Tree          : 0.915\n",
      "---------------------\n",
      "Mean IoU      : 0.880\n",
      "---------------------\n",
      "train epoch  35\n",
      "loss : 0.0912   acc : 0.9621   miou : 0.8800\n",
      "mIoU improved from 0.8787 to 0.8800.\n"
     ]
    },
    {
     "name": "stderr",
     "output_type": "stream",
     "text": [
      "100%|██████████| 345/345 [05:46<00:00,  1.00s/it]\n"
     ]
    },
    {
     "name": "stdout",
     "output_type": "stream",
     "text": [
      "classes           IoU\n",
      "---------------------\n",
      "Pole          : 0.611\n",
      "SignSymbol    : 0.843\n",
      "Bicyclist     : 0.861\n",
      "Pedestrian    : 0.794\n",
      "Building      : 0.946\n",
      "Fence         : 0.927\n",
      "Pavement      : 0.936\n",
      "Road          : 0.981\n",
      "Car           : 0.945\n",
      "Sky           : 0.933\n",
      "Tree          : 0.916\n",
      "---------------------\n",
      "Mean IoU      : 0.881\n",
      "---------------------\n",
      "train epoch  36\n",
      "loss : 0.0904   acc : 0.9623   miou : 0.8810\n",
      "mIoU improved from 0.8800 to 0.8810.\n"
     ]
    },
    {
     "name": "stderr",
     "output_type": "stream",
     "text": [
      "100%|██████████| 345/345 [05:46<00:00,  1.00s/it]\n"
     ]
    },
    {
     "name": "stdout",
     "output_type": "stream",
     "text": [
      "classes           IoU\n",
      "---------------------\n",
      "Pole          : 0.611\n",
      "SignSymbol    : 0.845\n",
      "Bicyclist     : 0.862\n",
      "Pedestrian    : 0.796\n",
      "Building      : 0.946\n",
      "Fence         : 0.927\n",
      "Pavement      : 0.936\n",
      "Road          : 0.981\n",
      "Car           : 0.945\n",
      "Sky           : 0.933\n",
      "Tree          : 0.916\n",
      "---------------------\n",
      "Mean IoU      : 0.882\n",
      "---------------------\n",
      "train epoch  37\n",
      "loss : 0.0898   acc : 0.9626   miou : 0.8817\n",
      "mIoU improved from 0.8810 to 0.8817.\n"
     ]
    },
    {
     "name": "stderr",
     "output_type": "stream",
     "text": [
      "100%|██████████| 345/345 [05:46<00:00,  1.00s/it]\n"
     ]
    },
    {
     "name": "stdout",
     "output_type": "stream",
     "text": [
      "classes           IoU\n",
      "---------------------\n",
      "Pole          : 0.616\n",
      "SignSymbol    : 0.846\n",
      "Bicyclist     : 0.864\n",
      "Pedestrian    : 0.797\n",
      "Building      : 0.947\n",
      "Fence         : 0.927\n",
      "Pavement      : 0.937\n",
      "Road          : 0.981\n",
      "Car           : 0.946\n",
      "Sky           : 0.934\n",
      "Tree          : 0.917\n",
      "---------------------\n",
      "Mean IoU      : 0.883\n",
      "---------------------\n",
      "train epoch  38\n",
      "loss : 0.0885   acc : 0.9631   miou : 0.8829\n",
      "mIoU improved from 0.8817 to 0.8829.\n"
     ]
    },
    {
     "name": "stderr",
     "output_type": "stream",
     "text": [
      "100%|██████████| 345/345 [05:46<00:00,  1.00s/it]\n"
     ]
    },
    {
     "name": "stdout",
     "output_type": "stream",
     "text": [
      "classes           IoU\n",
      "---------------------\n",
      "Pole          : 0.618\n",
      "SignSymbol    : 0.847\n",
      "Bicyclist     : 0.864\n",
      "Pedestrian    : 0.798\n",
      "Building      : 0.947\n",
      "Fence         : 0.928\n",
      "Pavement      : 0.938\n",
      "Road          : 0.982\n",
      "Car           : 0.947\n",
      "Sky           : 0.934\n",
      "Tree          : 0.918\n",
      "---------------------\n",
      "Mean IoU      : 0.884\n",
      "---------------------\n",
      "train epoch  39\n",
      "loss : 0.0880   acc : 0.9634   miou : 0.8838\n",
      "mIoU improved from 0.8829 to 0.8838.\n"
     ]
    },
    {
     "name": "stderr",
     "output_type": "stream",
     "text": [
      "100%|██████████| 345/345 [05:46<00:00,  1.00s/it]\n"
     ]
    },
    {
     "name": "stdout",
     "output_type": "stream",
     "text": [
      "classes           IoU\n",
      "---------------------\n",
      "Pole          : 0.620\n",
      "SignSymbol    : 0.849\n",
      "Bicyclist     : 0.867\n",
      "Pedestrian    : 0.799\n",
      "Building      : 0.948\n",
      "Fence         : 0.928\n",
      "Pavement      : 0.938\n",
      "Road          : 0.982\n",
      "Car           : 0.947\n",
      "Sky           : 0.934\n",
      "Tree          : 0.919\n",
      "---------------------\n",
      "Mean IoU      : 0.885\n",
      "---------------------\n",
      "train epoch  40\n",
      "loss : 0.0869   acc : 0.9636   miou : 0.8846\n",
      "mIoU improved from 0.8838 to 0.8846.\n"
     ]
    },
    {
     "name": "stderr",
     "output_type": "stream",
     "text": [
      "100%|██████████| 345/345 [05:46<00:00,  1.00s/it]\n"
     ]
    },
    {
     "name": "stdout",
     "output_type": "stream",
     "text": [
      "classes           IoU\n",
      "---------------------\n",
      "Pole          : 0.623\n",
      "SignSymbol    : 0.850\n",
      "Bicyclist     : 0.868\n",
      "Pedestrian    : 0.801\n",
      "Building      : 0.949\n",
      "Fence         : 0.929\n",
      "Pavement      : 0.939\n",
      "Road          : 0.982\n",
      "Car           : 0.947\n",
      "Sky           : 0.934\n",
      "Tree          : 0.920\n",
      "---------------------\n",
      "Mean IoU      : 0.886\n",
      "---------------------\n",
      "train epoch  41\n",
      "loss : 0.0861   acc : 0.9639   miou : 0.8856\n",
      "mIoU improved from 0.8846 to 0.8856.\n"
     ]
    },
    {
     "name": "stderr",
     "output_type": "stream",
     "text": [
      "100%|██████████| 345/345 [05:46<00:00,  1.00s/it]\n"
     ]
    },
    {
     "name": "stdout",
     "output_type": "stream",
     "text": [
      "classes           IoU\n",
      "---------------------\n",
      "Pole          : 0.623\n",
      "SignSymbol    : 0.851\n",
      "Bicyclist     : 0.867\n",
      "Pedestrian    : 0.802\n",
      "Building      : 0.949\n",
      "Fence         : 0.931\n",
      "Pavement      : 0.940\n",
      "Road          : 0.982\n",
      "Car           : 0.948\n",
      "Sky           : 0.935\n",
      "Tree          : 0.920\n",
      "---------------------\n",
      "Mean IoU      : 0.886\n",
      "---------------------\n",
      "train epoch  42\n",
      "loss : 0.0852   acc : 0.9642   miou : 0.8862\n",
      "mIoU improved from 0.8856 to 0.8862.\n"
     ]
    },
    {
     "name": "stderr",
     "output_type": "stream",
     "text": [
      "100%|██████████| 345/345 [05:46<00:00,  1.00s/it]\n"
     ]
    },
    {
     "name": "stdout",
     "output_type": "stream",
     "text": [
      "classes           IoU\n",
      "---------------------\n",
      "Pole          : 0.625\n",
      "SignSymbol    : 0.852\n",
      "Bicyclist     : 0.869\n",
      "Pedestrian    : 0.804\n",
      "Building      : 0.950\n",
      "Fence         : 0.932\n",
      "Pavement      : 0.940\n",
      "Road          : 0.982\n",
      "Car           : 0.949\n",
      "Sky           : 0.935\n",
      "Tree          : 0.920\n",
      "---------------------\n",
      "Mean IoU      : 0.887\n",
      "---------------------\n",
      "train epoch  43\n",
      "loss : 0.0845   acc : 0.9644   miou : 0.8871\n",
      "mIoU improved from 0.8862 to 0.8871.\n"
     ]
    },
    {
     "name": "stderr",
     "output_type": "stream",
     "text": [
      "100%|██████████| 345/345 [05:46<00:00,  1.00s/it]\n"
     ]
    },
    {
     "name": "stdout",
     "output_type": "stream",
     "text": [
      "classes           IoU\n",
      "---------------------\n",
      "Pole          : 0.626\n",
      "SignSymbol    : 0.854\n",
      "Bicyclist     : 0.870\n",
      "Pedestrian    : 0.806\n",
      "Building      : 0.950\n",
      "Fence         : 0.932\n",
      "Pavement      : 0.941\n",
      "Road          : 0.982\n",
      "Car           : 0.949\n",
      "Sky           : 0.935\n",
      "Tree          : 0.921\n",
      "---------------------\n",
      "Mean IoU      : 0.888\n",
      "---------------------\n",
      "train epoch  44\n",
      "loss : 0.0836   acc : 0.9648   miou : 0.8879\n",
      "mIoU improved from 0.8871 to 0.8879.\n"
     ]
    },
    {
     "name": "stderr",
     "output_type": "stream",
     "text": [
      "100%|██████████| 345/345 [05:46<00:00,  1.00s/it]\n"
     ]
    },
    {
     "name": "stdout",
     "output_type": "stream",
     "text": [
      "classes           IoU\n",
      "---------------------\n",
      "Pole          : 0.628\n",
      "SignSymbol    : 0.855\n",
      "Bicyclist     : 0.871\n",
      "Pedestrian    : 0.806\n",
      "Building      : 0.950\n",
      "Fence         : 0.932\n",
      "Pavement      : 0.941\n",
      "Road          : 0.982\n",
      "Car           : 0.949\n",
      "Sky           : 0.935\n",
      "Tree          : 0.922\n",
      "---------------------\n",
      "Mean IoU      : 0.888\n",
      "---------------------\n",
      "train epoch  45\n",
      "loss : 0.0831   acc : 0.9649   miou : 0.8884\n",
      "mIoU improved from 0.8879 to 0.8884.\n"
     ]
    },
    {
     "name": "stderr",
     "output_type": "stream",
     "text": [
      "100%|██████████| 345/345 [05:46<00:00,  1.00s/it]\n"
     ]
    },
    {
     "name": "stdout",
     "output_type": "stream",
     "text": [
      "classes           IoU\n",
      "---------------------\n",
      "Pole          : 0.631\n",
      "SignSymbol    : 0.857\n",
      "Bicyclist     : 0.873\n",
      "Pedestrian    : 0.808\n",
      "Building      : 0.951\n",
      "Fence         : 0.933\n",
      "Pavement      : 0.941\n",
      "Road          : 0.982\n",
      "Car           : 0.950\n",
      "Sky           : 0.935\n",
      "Tree          : 0.922\n",
      "---------------------\n",
      "Mean IoU      : 0.889\n",
      "---------------------\n",
      "train epoch  46\n",
      "loss : 0.0828   acc : 0.9651   miou : 0.8893\n",
      "mIoU improved from 0.8884 to 0.8893.\n"
     ]
    },
    {
     "name": "stderr",
     "output_type": "stream",
     "text": [
      "100%|██████████| 345/345 [05:46<00:00,  1.00s/it]\n"
     ]
    },
    {
     "name": "stdout",
     "output_type": "stream",
     "text": [
      "classes           IoU\n",
      "---------------------\n",
      "Pole          : 0.632\n",
      "SignSymbol    : 0.858\n",
      "Bicyclist     : 0.873\n",
      "Pedestrian    : 0.808\n",
      "Building      : 0.951\n",
      "Fence         : 0.933\n",
      "Pavement      : 0.942\n",
      "Road          : 0.983\n",
      "Car           : 0.950\n",
      "Sky           : 0.935\n",
      "Tree          : 0.923\n",
      "---------------------\n",
      "Mean IoU      : 0.890\n",
      "---------------------\n",
      "train epoch  47\n",
      "loss : 0.0822   acc : 0.9653   miou : 0.8897\n",
      "mIoU improved from 0.8893 to 0.8897.\n"
     ]
    },
    {
     "name": "stderr",
     "output_type": "stream",
     "text": [
      "100%|██████████| 345/345 [05:46<00:00,  1.00s/it]\n"
     ]
    },
    {
     "name": "stdout",
     "output_type": "stream",
     "text": [
      "classes           IoU\n",
      "---------------------\n",
      "Pole          : 0.634\n",
      "SignSymbol    : 0.858\n",
      "Bicyclist     : 0.873\n",
      "Pedestrian    : 0.809\n",
      "Building      : 0.951\n",
      "Fence         : 0.934\n",
      "Pavement      : 0.943\n",
      "Road          : 0.983\n",
      "Car           : 0.950\n",
      "Sky           : 0.936\n",
      "Tree          : 0.924\n",
      "---------------------\n",
      "Mean IoU      : 0.890\n",
      "---------------------\n",
      "train epoch  48\n",
      "loss : 0.0818   acc : 0.9655   miou : 0.8904\n",
      "mIoU improved from 0.8897 to 0.8904.\n"
     ]
    },
    {
     "name": "stderr",
     "output_type": "stream",
     "text": [
      "100%|██████████| 345/345 [05:46<00:00,  1.00s/it]\n"
     ]
    },
    {
     "name": "stdout",
     "output_type": "stream",
     "text": [
      "classes           IoU\n",
      "---------------------\n",
      "Pole          : 0.636\n",
      "SignSymbol    : 0.860\n",
      "Bicyclist     : 0.874\n",
      "Pedestrian    : 0.810\n",
      "Building      : 0.952\n",
      "Fence         : 0.935\n",
      "Pavement      : 0.943\n",
      "Road          : 0.983\n",
      "Car           : 0.951\n",
      "Sky           : 0.936\n",
      "Tree          : 0.924\n",
      "---------------------\n",
      "Mean IoU      : 0.891\n",
      "---------------------\n",
      "train epoch  49\n",
      "loss : 0.0805   acc : 0.9659   miou : 0.8912\n",
      "mIoU improved from 0.8904 to 0.8912.\n"
     ]
    },
    {
     "name": "stderr",
     "output_type": "stream",
     "text": [
      "100%|██████████| 345/345 [05:46<00:00,  1.00s/it]\n"
     ]
    },
    {
     "name": "stdout",
     "output_type": "stream",
     "text": [
      "classes           IoU\n",
      "---------------------\n",
      "Pole          : 0.637\n",
      "SignSymbol    : 0.861\n",
      "Bicyclist     : 0.874\n",
      "Pedestrian    : 0.811\n",
      "Building      : 0.952\n",
      "Fence         : 0.935\n",
      "Pavement      : 0.944\n",
      "Road          : 0.983\n",
      "Car           : 0.951\n",
      "Sky           : 0.936\n",
      "Tree          : 0.924\n",
      "---------------------\n",
      "Mean IoU      : 0.892\n",
      "---------------------\n",
      "train epoch  50\n",
      "loss : 0.0802   acc : 0.9660   miou : 0.8916\n",
      "mIoU improved from 0.8912 to 0.8916.\n"
     ]
    },
    {
     "name": "stderr",
     "output_type": "stream",
     "text": [
      "100%|██████████| 345/345 [05:46<00:00,  1.00s/it]\n"
     ]
    },
    {
     "name": "stdout",
     "output_type": "stream",
     "text": [
      "classes           IoU\n",
      "---------------------\n",
      "Pole          : 0.637\n",
      "SignSymbol    : 0.862\n",
      "Bicyclist     : 0.876\n",
      "Pedestrian    : 0.813\n",
      "Building      : 0.953\n",
      "Fence         : 0.936\n",
      "Pavement      : 0.944\n",
      "Road          : 0.983\n",
      "Car           : 0.952\n",
      "Sky           : 0.936\n",
      "Tree          : 0.925\n",
      "---------------------\n",
      "Mean IoU      : 0.892\n",
      "---------------------\n",
      "train epoch  51\n",
      "loss : 0.0797   acc : 0.9662   miou : 0.8924\n",
      "mIoU improved from 0.8916 to 0.8924.\n"
     ]
    },
    {
     "name": "stderr",
     "output_type": "stream",
     "text": [
      "100%|██████████| 345/345 [05:46<00:00,  1.00s/it]\n"
     ]
    },
    {
     "name": "stdout",
     "output_type": "stream",
     "text": [
      "classes           IoU\n",
      "---------------------\n",
      "Pole          : 0.639\n",
      "SignSymbol    : 0.864\n",
      "Bicyclist     : 0.876\n",
      "Pedestrian    : 0.814\n",
      "Building      : 0.953\n",
      "Fence         : 0.937\n",
      "Pavement      : 0.945\n",
      "Road          : 0.983\n",
      "Car           : 0.952\n",
      "Sky           : 0.936\n",
      "Tree          : 0.925\n",
      "---------------------\n",
      "Mean IoU      : 0.893\n",
      "---------------------\n",
      "train epoch  52\n",
      "loss : 0.0791   acc : 0.9664   miou : 0.8931\n",
      "mIoU improved from 0.8924 to 0.8931.\n"
     ]
    },
    {
     "name": "stderr",
     "output_type": "stream",
     "text": [
      "100%|██████████| 345/345 [05:46<00:00,  1.00s/it]\n"
     ]
    },
    {
     "name": "stdout",
     "output_type": "stream",
     "text": [
      "classes           IoU\n",
      "---------------------\n",
      "Pole          : 0.641\n",
      "SignSymbol    : 0.865\n",
      "Bicyclist     : 0.876\n",
      "Pedestrian    : 0.814\n",
      "Building      : 0.953\n",
      "Fence         : 0.937\n",
      "Pavement      : 0.945\n",
      "Road          : 0.983\n",
      "Car           : 0.952\n",
      "Sky           : 0.936\n",
      "Tree          : 0.926\n",
      "---------------------\n",
      "Mean IoU      : 0.893\n",
      "---------------------\n",
      "train epoch  53\n",
      "loss : 0.0786   acc : 0.9665   miou : 0.8935\n",
      "mIoU improved from 0.8931 to 0.8935.\n"
     ]
    },
    {
     "name": "stderr",
     "output_type": "stream",
     "text": [
      "100%|██████████| 345/345 [05:46<00:00,  1.00s/it]\n"
     ]
    },
    {
     "name": "stdout",
     "output_type": "stream",
     "text": [
      "classes           IoU\n",
      "---------------------\n",
      "Pole          : 0.642\n",
      "SignSymbol    : 0.864\n",
      "Bicyclist     : 0.877\n",
      "Pedestrian    : 0.815\n",
      "Building      : 0.954\n",
      "Fence         : 0.937\n",
      "Pavement      : 0.945\n",
      "Road          : 0.983\n",
      "Car           : 0.952\n",
      "Sky           : 0.936\n",
      "Tree          : 0.926\n",
      "---------------------\n",
      "Mean IoU      : 0.894\n",
      "---------------------\n",
      "train epoch  54\n",
      "loss : 0.0784   acc : 0.9668   miou : 0.8939\n",
      "mIoU improved from 0.8935 to 0.8939.\n"
     ]
    },
    {
     "name": "stderr",
     "output_type": "stream",
     "text": [
      "100%|██████████| 345/345 [05:46<00:00,  1.00s/it]\n"
     ]
    },
    {
     "name": "stdout",
     "output_type": "stream",
     "text": [
      "classes           IoU\n",
      "---------------------\n",
      "Pole          : 0.643\n",
      "SignSymbol    : 0.865\n",
      "Bicyclist     : 0.879\n",
      "Pedestrian    : 0.816\n",
      "Building      : 0.954\n",
      "Fence         : 0.939\n",
      "Pavement      : 0.946\n",
      "Road          : 0.984\n",
      "Car           : 0.953\n",
      "Sky           : 0.936\n",
      "Tree          : 0.926\n",
      "---------------------\n",
      "Mean IoU      : 0.895\n",
      "---------------------\n",
      "train epoch  55\n",
      "loss : 0.0782   acc : 0.9669   miou : 0.8946\n",
      "mIoU improved from 0.8939 to 0.8946.\n"
     ]
    },
    {
     "name": "stderr",
     "output_type": "stream",
     "text": [
      "100%|██████████| 345/345 [05:46<00:00,  1.00s/it]\n"
     ]
    },
    {
     "name": "stdout",
     "output_type": "stream",
     "text": [
      "classes           IoU\n",
      "---------------------\n",
      "Pole          : 0.644\n",
      "SignSymbol    : 0.866\n",
      "Bicyclist     : 0.879\n",
      "Pedestrian    : 0.816\n",
      "Building      : 0.954\n",
      "Fence         : 0.939\n",
      "Pavement      : 0.946\n",
      "Road          : 0.984\n",
      "Car           : 0.953\n",
      "Sky           : 0.936\n",
      "Tree          : 0.926\n",
      "---------------------\n",
      "Mean IoU      : 0.895\n",
      "---------------------\n",
      "train epoch  56\n",
      "loss : 0.0775   acc : 0.9669   miou : 0.8949\n",
      "mIoU improved from 0.8946 to 0.8949.\n"
     ]
    },
    {
     "name": "stderr",
     "output_type": "stream",
     "text": [
      "100%|██████████| 345/345 [05:46<00:00,  1.00s/it]\n"
     ]
    },
    {
     "name": "stdout",
     "output_type": "stream",
     "text": [
      "classes           IoU\n",
      "---------------------\n",
      "Pole          : 0.644\n",
      "SignSymbol    : 0.867\n",
      "Bicyclist     : 0.880\n",
      "Pedestrian    : 0.817\n",
      "Building      : 0.954\n",
      "Fence         : 0.938\n",
      "Pavement      : 0.946\n",
      "Road          : 0.983\n",
      "Car           : 0.954\n",
      "Sky           : 0.936\n",
      "Tree          : 0.927\n",
      "---------------------\n",
      "Mean IoU      : 0.895\n",
      "---------------------\n",
      "train epoch  57\n",
      "loss : 0.0775   acc : 0.9670   miou : 0.8951\n",
      "mIoU improved from 0.8949 to 0.8951.\n"
     ]
    },
    {
     "name": "stderr",
     "output_type": "stream",
     "text": [
      "100%|██████████| 345/345 [05:46<00:00,  1.00s/it]\n"
     ]
    },
    {
     "name": "stdout",
     "output_type": "stream",
     "text": [
      "classes           IoU\n",
      "---------------------\n",
      "Pole          : 0.645\n",
      "SignSymbol    : 0.868\n",
      "Bicyclist     : 0.880\n",
      "Pedestrian    : 0.819\n",
      "Building      : 0.955\n",
      "Fence         : 0.939\n",
      "Pavement      : 0.947\n",
      "Road          : 0.984\n",
      "Car           : 0.954\n",
      "Sky           : 0.937\n",
      "Tree          : 0.927\n",
      "---------------------\n",
      "Mean IoU      : 0.896\n",
      "---------------------\n",
      "train epoch  58\n",
      "loss : 0.0763   acc : 0.9673   miou : 0.8958\n",
      "mIoU improved from 0.8951 to 0.8958.\n"
     ]
    },
    {
     "name": "stderr",
     "output_type": "stream",
     "text": [
      "100%|██████████| 345/345 [05:46<00:00,  1.00s/it]\n"
     ]
    },
    {
     "name": "stdout",
     "output_type": "stream",
     "text": [
      "classes           IoU\n",
      "---------------------\n",
      "Pole          : 0.647\n",
      "SignSymbol    : 0.869\n",
      "Bicyclist     : 0.881\n",
      "Pedestrian    : 0.819\n",
      "Building      : 0.955\n",
      "Fence         : 0.940\n",
      "Pavement      : 0.947\n",
      "Road          : 0.984\n",
      "Car           : 0.954\n",
      "Sky           : 0.937\n",
      "Tree          : 0.928\n",
      "---------------------\n",
      "Mean IoU      : 0.896\n",
      "---------------------\n",
      "train epoch  59\n",
      "loss : 0.0761   acc : 0.9675   miou : 0.8965\n",
      "mIoU improved from 0.8958 to 0.8965.\n"
     ]
    },
    {
     "name": "stderr",
     "output_type": "stream",
     "text": [
      "100%|██████████| 345/345 [05:46<00:00,  1.00s/it]\n"
     ]
    },
    {
     "name": "stdout",
     "output_type": "stream",
     "text": [
      "classes           IoU\n",
      "---------------------\n",
      "Pole          : 0.649\n",
      "SignSymbol    : 0.870\n",
      "Bicyclist     : 0.881\n",
      "Pedestrian    : 0.820\n",
      "Building      : 0.956\n",
      "Fence         : 0.940\n",
      "Pavement      : 0.947\n",
      "Road          : 0.984\n",
      "Car           : 0.954\n",
      "Sky           : 0.937\n",
      "Tree          : 0.929\n",
      "---------------------\n",
      "Mean IoU      : 0.897\n",
      "---------------------\n",
      "train epoch  60\n",
      "loss : 0.0756   acc : 0.9678   miou : 0.8970\n",
      "mIoU improved from 0.8965 to 0.8970.\n"
     ]
    },
    {
     "name": "stderr",
     "output_type": "stream",
     "text": [
      "100%|██████████| 345/345 [05:46<00:00,  1.00s/it]\n"
     ]
    },
    {
     "name": "stdout",
     "output_type": "stream",
     "text": [
      "classes           IoU\n",
      "---------------------\n",
      "Pole          : 0.649\n",
      "SignSymbol    : 0.871\n",
      "Bicyclist     : 0.882\n",
      "Pedestrian    : 0.821\n",
      "Building      : 0.956\n",
      "Fence         : 0.940\n",
      "Pavement      : 0.947\n",
      "Road          : 0.984\n",
      "Car           : 0.955\n",
      "Sky           : 0.937\n",
      "Tree          : 0.928\n",
      "---------------------\n",
      "Mean IoU      : 0.897\n",
      "---------------------\n",
      "train epoch  61\n",
      "loss : 0.0752   acc : 0.9677   miou : 0.8972\n"
     ]
    },
    {
     "name": "stderr",
     "output_type": "stream",
     "text": [
      "\r",
      "  0%|          | 0/345 [00:00<?, ?it/s]"
     ]
    },
    {
     "name": "stdout",
     "output_type": "stream",
     "text": [
      "mIoU improved from 0.8970 to 0.8972.\n"
     ]
    },
    {
     "name": "stderr",
     "output_type": "stream",
     "text": [
      "100%|██████████| 345/345 [05:46<00:00,  1.00s/it]\n"
     ]
    },
    {
     "name": "stdout",
     "output_type": "stream",
     "text": [
      "classes           IoU\n",
      "---------------------\n",
      "Pole          : 0.652\n",
      "SignSymbol    : 0.871\n",
      "Bicyclist     : 0.883\n",
      "Pedestrian    : 0.821\n",
      "Building      : 0.956\n",
      "Fence         : 0.941\n",
      "Pavement      : 0.948\n",
      "Road          : 0.984\n",
      "Car           : 0.955\n",
      "Sky           : 0.937\n",
      "Tree          : 0.929\n",
      "---------------------\n",
      "Mean IoU      : 0.898\n",
      "---------------------\n",
      "train epoch  62\n",
      "loss : 0.0747   acc : 0.9680   miou : 0.8980\n",
      "mIoU improved from 0.8972 to 0.8980.\n"
     ]
    },
    {
     "name": "stderr",
     "output_type": "stream",
     "text": [
      "100%|██████████| 345/345 [05:46<00:00,  1.00s/it]\n"
     ]
    },
    {
     "name": "stdout",
     "output_type": "stream",
     "text": [
      "classes           IoU\n",
      "---------------------\n",
      "Pole          : 0.652\n",
      "SignSymbol    : 0.873\n",
      "Bicyclist     : 0.883\n",
      "Pedestrian    : 0.823\n",
      "Building      : 0.956\n",
      "Fence         : 0.942\n",
      "Pavement      : 0.948\n",
      "Road          : 0.984\n",
      "Car           : 0.955\n",
      "Sky           : 0.937\n",
      "Tree          : 0.929\n",
      "---------------------\n",
      "Mean IoU      : 0.898\n",
      "---------------------\n",
      "train epoch  63\n",
      "loss : 0.0742   acc : 0.9681   miou : 0.8985\n",
      "mIoU improved from 0.8980 to 0.8985.\n"
     ]
    },
    {
     "name": "stderr",
     "output_type": "stream",
     "text": [
      "100%|██████████| 345/345 [05:46<00:00,  1.00s/it]\n"
     ]
    },
    {
     "name": "stdout",
     "output_type": "stream",
     "text": [
      "classes           IoU\n",
      "---------------------\n",
      "Pole          : 0.653\n",
      "SignSymbol    : 0.872\n",
      "Bicyclist     : 0.883\n",
      "Pedestrian    : 0.823\n",
      "Building      : 0.957\n",
      "Fence         : 0.942\n",
      "Pavement      : 0.949\n",
      "Road          : 0.984\n",
      "Car           : 0.956\n",
      "Sky           : 0.937\n",
      "Tree          : 0.929\n",
      "---------------------\n",
      "Mean IoU      : 0.899\n",
      "---------------------\n",
      "train epoch  64\n",
      "loss : 0.0738   acc : 0.9683   miou : 0.8987\n",
      "mIoU improved from 0.8985 to 0.8987.\n"
     ]
    },
    {
     "name": "stderr",
     "output_type": "stream",
     "text": [
      "100%|██████████| 345/345 [05:46<00:00,  1.00s/it]\n"
     ]
    },
    {
     "name": "stdout",
     "output_type": "stream",
     "text": [
      "classes           IoU\n",
      "---------------------\n",
      "Pole          : 0.654\n",
      "SignSymbol    : 0.874\n",
      "Bicyclist     : 0.885\n",
      "Pedestrian    : 0.825\n",
      "Building      : 0.957\n",
      "Fence         : 0.943\n",
      "Pavement      : 0.949\n",
      "Road          : 0.984\n",
      "Car           : 0.956\n",
      "Sky           : 0.937\n",
      "Tree          : 0.930\n",
      "---------------------\n",
      "Mean IoU      : 0.899\n",
      "---------------------\n",
      "train epoch  65\n",
      "loss : 0.0737   acc : 0.9684   miou : 0.8994\n",
      "mIoU improved from 0.8987 to 0.8994.\n"
     ]
    },
    {
     "name": "stderr",
     "output_type": "stream",
     "text": [
      "100%|██████████| 345/345 [05:46<00:00,  1.00s/it]\n"
     ]
    },
    {
     "name": "stdout",
     "output_type": "stream",
     "text": [
      "classes           IoU\n",
      "---------------------\n",
      "Pole          : 0.655\n",
      "SignSymbol    : 0.874\n",
      "Bicyclist     : 0.884\n",
      "Pedestrian    : 0.825\n",
      "Building      : 0.957\n",
      "Fence         : 0.942\n",
      "Pavement      : 0.949\n",
      "Road          : 0.984\n",
      "Car           : 0.956\n",
      "Sky           : 0.938\n",
      "Tree          : 0.930\n",
      "---------------------\n",
      "Mean IoU      : 0.899\n",
      "---------------------\n",
      "train epoch  66\n",
      "loss : 0.0734   acc : 0.9685   miou : 0.8994\n",
      "mIoU improved from 0.8994 to 0.8994.\n"
     ]
    },
    {
     "name": "stderr",
     "output_type": "stream",
     "text": [
      "100%|██████████| 345/345 [05:46<00:00,  1.00s/it]\n"
     ]
    },
    {
     "name": "stdout",
     "output_type": "stream",
     "text": [
      "classes           IoU\n",
      "---------------------\n",
      "Pole          : 0.656\n",
      "SignSymbol    : 0.875\n",
      "Bicyclist     : 0.885\n",
      "Pedestrian    : 0.825\n",
      "Building      : 0.957\n",
      "Fence         : 0.943\n",
      "Pavement      : 0.949\n",
      "Road          : 0.985\n",
      "Car           : 0.956\n",
      "Sky           : 0.938\n",
      "Tree          : 0.930\n",
      "---------------------\n",
      "Mean IoU      : 0.900\n",
      "---------------------\n",
      "train epoch  67\n",
      "loss : 0.0726   acc : 0.9687   miou : 0.9000\n",
      "mIoU improved from 0.8994 to 0.9000.\n"
     ]
    },
    {
     "name": "stderr",
     "output_type": "stream",
     "text": [
      "100%|██████████| 345/345 [05:46<00:00,  1.00s/it]\n"
     ]
    },
    {
     "name": "stdout",
     "output_type": "stream",
     "text": [
      "classes           IoU\n",
      "---------------------\n",
      "Pole          : 0.656\n",
      "SignSymbol    : 0.876\n",
      "Bicyclist     : 0.886\n",
      "Pedestrian    : 0.826\n",
      "Building      : 0.958\n",
      "Fence         : 0.943\n",
      "Pavement      : 0.950\n",
      "Road          : 0.985\n",
      "Car           : 0.957\n",
      "Sky           : 0.938\n",
      "Tree          : 0.931\n",
      "---------------------\n",
      "Mean IoU      : 0.900\n",
      "---------------------\n",
      "train epoch  68\n",
      "loss : 0.0724   acc : 0.9689   miou : 0.9005\n",
      "mIoU improved from 0.9000 to 0.9005.\n"
     ]
    },
    {
     "name": "stderr",
     "output_type": "stream",
     "text": [
      "100%|██████████| 345/345 [05:46<00:00,  1.00s/it]\n"
     ]
    },
    {
     "name": "stdout",
     "output_type": "stream",
     "text": [
      "classes           IoU\n",
      "---------------------\n",
      "Pole          : 0.658\n",
      "SignSymbol    : 0.876\n",
      "Bicyclist     : 0.887\n",
      "Pedestrian    : 0.827\n",
      "Building      : 0.958\n",
      "Fence         : 0.943\n",
      "Pavement      : 0.950\n",
      "Road          : 0.985\n",
      "Car           : 0.957\n",
      "Sky           : 0.938\n",
      "Tree          : 0.931\n",
      "---------------------\n",
      "Mean IoU      : 0.901\n",
      "---------------------\n",
      "train epoch  69\n",
      "loss : 0.0720   acc : 0.9689   miou : 0.9009\n",
      "mIoU improved from 0.9005 to 0.9009.\n"
     ]
    },
    {
     "name": "stderr",
     "output_type": "stream",
     "text": [
      "100%|██████████| 345/345 [05:46<00:00,  1.00s/it]\n"
     ]
    },
    {
     "name": "stdout",
     "output_type": "stream",
     "text": [
      "classes           IoU\n",
      "---------------------\n",
      "Pole          : 0.659\n",
      "SignSymbol    : 0.878\n",
      "Bicyclist     : 0.887\n",
      "Pedestrian    : 0.827\n",
      "Building      : 0.958\n",
      "Fence         : 0.944\n",
      "Pavement      : 0.950\n",
      "Road          : 0.985\n",
      "Car           : 0.957\n",
      "Sky           : 0.938\n",
      "Tree          : 0.931\n",
      "---------------------\n",
      "Mean IoU      : 0.901\n",
      "---------------------\n",
      "train epoch  70\n",
      "loss : 0.0714   acc : 0.9691   miou : 0.9012\n",
      "mIoU improved from 0.9009 to 0.9012.\n"
     ]
    },
    {
     "name": "stderr",
     "output_type": "stream",
     "text": [
      "100%|██████████| 345/345 [05:46<00:00,  1.00s/it]\n"
     ]
    },
    {
     "name": "stdout",
     "output_type": "stream",
     "text": [
      "classes           IoU\n",
      "---------------------\n",
      "Pole          : 0.659\n",
      "SignSymbol    : 0.878\n",
      "Bicyclist     : 0.888\n",
      "Pedestrian    : 0.828\n",
      "Building      : 0.958\n",
      "Fence         : 0.944\n",
      "Pavement      : 0.951\n",
      "Road          : 0.985\n",
      "Car           : 0.957\n",
      "Sky           : 0.938\n",
      "Tree          : 0.931\n",
      "---------------------\n",
      "Mean IoU      : 0.902\n",
      "---------------------\n",
      "train epoch  71\n",
      "loss : 0.0714   acc : 0.9692   miou : 0.9017\n",
      "mIoU improved from 0.9012 to 0.9017.\n"
     ]
    },
    {
     "name": "stderr",
     "output_type": "stream",
     "text": [
      "100%|██████████| 345/345 [05:46<00:00,  1.00s/it]\n"
     ]
    },
    {
     "name": "stdout",
     "output_type": "stream",
     "text": [
      "classes           IoU\n",
      "---------------------\n",
      "Pole          : 0.661\n",
      "SignSymbol    : 0.878\n",
      "Bicyclist     : 0.888\n",
      "Pedestrian    : 0.829\n",
      "Building      : 0.958\n",
      "Fence         : 0.945\n",
      "Pavement      : 0.951\n",
      "Road          : 0.985\n",
      "Car           : 0.958\n",
      "Sky           : 0.938\n",
      "Tree          : 0.932\n",
      "---------------------\n",
      "Mean IoU      : 0.902\n",
      "---------------------\n",
      "train epoch  72\n",
      "loss : 0.0709   acc : 0.9693   miou : 0.9020\n",
      "mIoU improved from 0.9017 to 0.9020.\n"
     ]
    },
    {
     "name": "stderr",
     "output_type": "stream",
     "text": [
      "100%|██████████| 345/345 [05:46<00:00,  1.00s/it]\n"
     ]
    },
    {
     "name": "stdout",
     "output_type": "stream",
     "text": [
      "classes           IoU\n",
      "---------------------\n",
      "Pole          : 0.661\n",
      "SignSymbol    : 0.879\n",
      "Bicyclist     : 0.889\n",
      "Pedestrian    : 0.829\n",
      "Building      : 0.959\n",
      "Fence         : 0.945\n",
      "Pavement      : 0.951\n",
      "Road          : 0.985\n",
      "Car           : 0.958\n",
      "Sky           : 0.938\n",
      "Tree          : 0.932\n",
      "---------------------\n",
      "Mean IoU      : 0.902\n",
      "---------------------\n",
      "train epoch  73\n",
      "loss : 0.0709   acc : 0.9693   miou : 0.9022\n",
      "mIoU improved from 0.9020 to 0.9022.\n"
     ]
    },
    {
     "name": "stderr",
     "output_type": "stream",
     "text": [
      "100%|██████████| 345/345 [05:46<00:00,  1.00s/it]\n"
     ]
    },
    {
     "name": "stdout",
     "output_type": "stream",
     "text": [
      "classes           IoU\n",
      "---------------------\n",
      "Pole          : 0.662\n",
      "SignSymbol    : 0.880\n",
      "Bicyclist     : 0.889\n",
      "Pedestrian    : 0.829\n",
      "Building      : 0.959\n",
      "Fence         : 0.945\n",
      "Pavement      : 0.951\n",
      "Road          : 0.985\n",
      "Car           : 0.958\n",
      "Sky           : 0.938\n",
      "Tree          : 0.932\n",
      "---------------------\n",
      "Mean IoU      : 0.903\n",
      "---------------------\n",
      "train epoch  74\n",
      "loss : 0.0708   acc : 0.9695   miou : 0.9026\n",
      "mIoU improved from 0.9022 to 0.9026.\n"
     ]
    },
    {
     "name": "stderr",
     "output_type": "stream",
     "text": [
      "100%|██████████| 345/345 [05:46<00:00,  1.00s/it]\n"
     ]
    },
    {
     "name": "stdout",
     "output_type": "stream",
     "text": [
      "classes           IoU\n",
      "---------------------\n",
      "Pole          : 0.663\n",
      "SignSymbol    : 0.880\n",
      "Bicyclist     : 0.890\n",
      "Pedestrian    : 0.830\n",
      "Building      : 0.959\n",
      "Fence         : 0.945\n",
      "Pavement      : 0.952\n",
      "Road          : 0.985\n",
      "Car           : 0.958\n",
      "Sky           : 0.938\n",
      "Tree          : 0.932\n",
      "---------------------\n",
      "Mean IoU      : 0.903\n",
      "---------------------\n",
      "train epoch  75\n",
      "loss : 0.0704   acc : 0.9695   miou : 0.9030\n"
     ]
    },
    {
     "name": "stderr",
     "output_type": "stream",
     "text": [
      "\r",
      "  0%|          | 0/345 [00:00<?, ?it/s]"
     ]
    },
    {
     "name": "stdout",
     "output_type": "stream",
     "text": [
      "mIoU improved from 0.9026 to 0.9030.\n"
     ]
    },
    {
     "name": "stderr",
     "output_type": "stream",
     "text": [
      "100%|██████████| 345/345 [05:46<00:00,  1.00s/it]\n"
     ]
    },
    {
     "name": "stdout",
     "output_type": "stream",
     "text": [
      "classes           IoU\n",
      "---------------------\n",
      "Pole          : 0.664\n",
      "SignSymbol    : 0.881\n",
      "Bicyclist     : 0.891\n",
      "Pedestrian    : 0.831\n",
      "Building      : 0.959\n",
      "Fence         : 0.946\n",
      "Pavement      : 0.952\n",
      "Road          : 0.985\n",
      "Car           : 0.958\n",
      "Sky           : 0.939\n",
      "Tree          : 0.933\n",
      "---------------------\n",
      "Mean IoU      : 0.903\n",
      "---------------------\n",
      "train epoch  76\n",
      "loss : 0.0700   acc : 0.9697   miou : 0.9035\n",
      "mIoU improved from 0.9030 to 0.9035.\n"
     ]
    },
    {
     "name": "stderr",
     "output_type": "stream",
     "text": [
      "100%|██████████| 345/345 [05:46<00:00,  1.00s/it]\n"
     ]
    },
    {
     "name": "stdout",
     "output_type": "stream",
     "text": [
      "classes           IoU\n",
      "---------------------\n",
      "Pole          : 0.665\n",
      "SignSymbol    : 0.881\n",
      "Bicyclist     : 0.890\n",
      "Pedestrian    : 0.831\n",
      "Building      : 0.959\n",
      "Fence         : 0.947\n",
      "Pavement      : 0.952\n",
      "Road          : 0.985\n",
      "Car           : 0.959\n",
      "Sky           : 0.939\n",
      "Tree          : 0.933\n",
      "---------------------\n",
      "Mean IoU      : 0.904\n",
      "---------------------\n",
      "train epoch  77\n",
      "loss : 0.0694   acc : 0.9698   miou : 0.9037\n",
      "mIoU improved from 0.9035 to 0.9037.\n"
     ]
    },
    {
     "name": "stderr",
     "output_type": "stream",
     "text": [
      "100%|██████████| 345/345 [05:46<00:00,  1.00s/it]\n"
     ]
    },
    {
     "name": "stdout",
     "output_type": "stream",
     "text": [
      "classes           IoU\n",
      "---------------------\n",
      "Pole          : 0.665\n",
      "SignSymbol    : 0.882\n",
      "Bicyclist     : 0.891\n",
      "Pedestrian    : 0.832\n",
      "Building      : 0.960\n",
      "Fence         : 0.946\n",
      "Pavement      : 0.952\n",
      "Road          : 0.985\n",
      "Car           : 0.959\n",
      "Sky           : 0.938\n",
      "Tree          : 0.933\n",
      "---------------------\n",
      "Mean IoU      : 0.904\n",
      "---------------------\n",
      "train epoch  78\n",
      "loss : 0.0695   acc : 0.9699   miou : 0.9039\n",
      "mIoU improved from 0.9037 to 0.9039.\n"
     ]
    },
    {
     "name": "stderr",
     "output_type": "stream",
     "text": [
      "100%|██████████| 345/345 [05:46<00:00,  1.00s/it]\n"
     ]
    },
    {
     "name": "stdout",
     "output_type": "stream",
     "text": [
      "classes           IoU\n",
      "---------------------\n",
      "Pole          : 0.666\n",
      "SignSymbol    : 0.882\n",
      "Bicyclist     : 0.892\n",
      "Pedestrian    : 0.833\n",
      "Building      : 0.960\n",
      "Fence         : 0.946\n",
      "Pavement      : 0.953\n",
      "Road          : 0.985\n",
      "Car           : 0.959\n",
      "Sky           : 0.939\n",
      "Tree          : 0.933\n",
      "---------------------\n",
      "Mean IoU      : 0.904\n",
      "---------------------\n",
      "train epoch  79\n",
      "loss : 0.0691   acc : 0.9700   miou : 0.9043\n",
      "mIoU improved from 0.9039 to 0.9043.\n"
     ]
    },
    {
     "name": "stderr",
     "output_type": "stream",
     "text": [
      "100%|██████████| 345/345 [05:46<00:00,  1.00s/it]\n"
     ]
    },
    {
     "name": "stdout",
     "output_type": "stream",
     "text": [
      "classes           IoU\n",
      "---------------------\n",
      "Pole          : 0.667\n",
      "SignSymbol    : 0.882\n",
      "Bicyclist     : 0.892\n",
      "Pedestrian    : 0.833\n",
      "Building      : 0.960\n",
      "Fence         : 0.947\n",
      "Pavement      : 0.953\n",
      "Road          : 0.986\n",
      "Car           : 0.959\n",
      "Sky           : 0.939\n",
      "Tree          : 0.933\n",
      "---------------------\n",
      "Mean IoU      : 0.905\n",
      "---------------------\n",
      "train epoch  80\n",
      "loss : 0.0687   acc : 0.9701   miou : 0.9046\n",
      "mIoU improved from 0.9043 to 0.9046.\n"
     ]
    },
    {
     "name": "stderr",
     "output_type": "stream",
     "text": [
      "100%|██████████| 345/345 [05:46<00:00,  1.00s/it]\n"
     ]
    },
    {
     "name": "stdout",
     "output_type": "stream",
     "text": [
      "classes           IoU\n",
      "---------------------\n",
      "Pole          : 0.669\n",
      "SignSymbol    : 0.884\n",
      "Bicyclist     : 0.893\n",
      "Pedestrian    : 0.833\n",
      "Building      : 0.960\n",
      "Fence         : 0.947\n",
      "Pavement      : 0.953\n",
      "Road          : 0.986\n",
      "Car           : 0.960\n",
      "Sky           : 0.939\n",
      "Tree          : 0.934\n",
      "---------------------\n",
      "Mean IoU      : 0.905\n",
      "---------------------\n",
      "train epoch  81\n",
      "loss : 0.0684   acc : 0.9703   miou : 0.9052\n",
      "mIoU improved from 0.9046 to 0.9052.\n"
     ]
    },
    {
     "name": "stderr",
     "output_type": "stream",
     "text": [
      "100%|██████████| 345/345 [05:46<00:00,  1.00s/it]\n"
     ]
    },
    {
     "name": "stdout",
     "output_type": "stream",
     "text": [
      "classes           IoU\n",
      "---------------------\n",
      "Pole          : 0.669\n",
      "SignSymbol    : 0.884\n",
      "Bicyclist     : 0.892\n",
      "Pedestrian    : 0.834\n",
      "Building      : 0.960\n",
      "Fence         : 0.947\n",
      "Pavement      : 0.953\n",
      "Road          : 0.986\n",
      "Car           : 0.960\n",
      "Sky           : 0.939\n",
      "Tree          : 0.934\n",
      "---------------------\n",
      "Mean IoU      : 0.905\n",
      "---------------------\n",
      "train epoch  82\n",
      "loss : 0.0683   acc : 0.9703   miou : 0.9052\n",
      "mIoU improved from 0.9052 to 0.9052.\n"
     ]
    },
    {
     "name": "stderr",
     "output_type": "stream",
     "text": [
      "100%|██████████| 345/345 [05:46<00:00,  1.00s/it]\n"
     ]
    },
    {
     "name": "stdout",
     "output_type": "stream",
     "text": [
      "classes           IoU\n",
      "---------------------\n",
      "Pole          : 0.669\n",
      "SignSymbol    : 0.884\n",
      "Bicyclist     : 0.893\n",
      "Pedestrian    : 0.834\n",
      "Building      : 0.960\n",
      "Fence         : 0.947\n",
      "Pavement      : 0.953\n",
      "Road          : 0.986\n",
      "Car           : 0.960\n",
      "Sky           : 0.939\n",
      "Tree          : 0.934\n",
      "---------------------\n",
      "Mean IoU      : 0.905\n",
      "---------------------\n",
      "train epoch  83\n",
      "loss : 0.0685   acc : 0.9703   miou : 0.9053\n",
      "mIoU improved from 0.9052 to 0.9053.\n"
     ]
    },
    {
     "name": "stderr",
     "output_type": "stream",
     "text": [
      "100%|██████████| 345/345 [05:46<00:00,  1.00s/it]\n"
     ]
    },
    {
     "name": "stdout",
     "output_type": "stream",
     "text": [
      "classes           IoU\n",
      "---------------------\n",
      "Pole          : 0.670\n",
      "SignSymbol    : 0.885\n",
      "Bicyclist     : 0.893\n",
      "Pedestrian    : 0.835\n",
      "Building      : 0.961\n",
      "Fence         : 0.948\n",
      "Pavement      : 0.953\n",
      "Road          : 0.986\n",
      "Car           : 0.960\n",
      "Sky           : 0.939\n",
      "Tree          : 0.934\n",
      "---------------------\n",
      "Mean IoU      : 0.906\n",
      "---------------------\n",
      "train epoch  84\n",
      "loss : 0.0677   acc : 0.9705   miou : 0.9058\n",
      "mIoU improved from 0.9053 to 0.9058.\n"
     ]
    },
    {
     "name": "stderr",
     "output_type": "stream",
     "text": [
      "100%|██████████| 345/345 [05:46<00:00,  1.00s/it]\n"
     ]
    },
    {
     "name": "stdout",
     "output_type": "stream",
     "text": [
      "classes           IoU\n",
      "---------------------\n",
      "Pole          : 0.671\n",
      "SignSymbol    : 0.886\n",
      "Bicyclist     : 0.894\n",
      "Pedestrian    : 0.835\n",
      "Building      : 0.961\n",
      "Fence         : 0.948\n",
      "Pavement      : 0.954\n",
      "Road          : 0.986\n",
      "Car           : 0.960\n",
      "Sky           : 0.939\n",
      "Tree          : 0.935\n",
      "---------------------\n",
      "Mean IoU      : 0.906\n",
      "---------------------\n",
      "train epoch  85\n",
      "loss : 0.0673   acc : 0.9706   miou : 0.9061\n",
      "mIoU improved from 0.9058 to 0.9061.\n"
     ]
    },
    {
     "name": "stderr",
     "output_type": "stream",
     "text": [
      "100%|██████████| 345/345 [05:46<00:00,  1.00s/it]\n"
     ]
    },
    {
     "name": "stdout",
     "output_type": "stream",
     "text": [
      "classes           IoU\n",
      "---------------------\n",
      "Pole          : 0.671\n",
      "SignSymbol    : 0.886\n",
      "Bicyclist     : 0.894\n",
      "Pedestrian    : 0.836\n",
      "Building      : 0.961\n",
      "Fence         : 0.948\n",
      "Pavement      : 0.954\n",
      "Road          : 0.986\n",
      "Car           : 0.960\n",
      "Sky           : 0.939\n",
      "Tree          : 0.934\n",
      "---------------------\n",
      "Mean IoU      : 0.906\n",
      "---------------------\n",
      "train epoch  86\n",
      "loss : 0.0676   acc : 0.9706   miou : 0.9063\n",
      "mIoU improved from 0.9061 to 0.9063.\n"
     ]
    },
    {
     "name": "stderr",
     "output_type": "stream",
     "text": [
      "100%|██████████| 345/345 [05:46<00:00,  1.00s/it]\n"
     ]
    },
    {
     "name": "stdout",
     "output_type": "stream",
     "text": [
      "classes           IoU\n",
      "---------------------\n",
      "Pole          : 0.672\n",
      "SignSymbol    : 0.886\n",
      "Bicyclist     : 0.895\n",
      "Pedestrian    : 0.836\n",
      "Building      : 0.961\n",
      "Fence         : 0.948\n",
      "Pavement      : 0.954\n",
      "Road          : 0.986\n",
      "Car           : 0.960\n",
      "Sky           : 0.939\n",
      "Tree          : 0.935\n",
      "---------------------\n",
      "Mean IoU      : 0.907\n",
      "---------------------\n",
      "train epoch  87\n",
      "loss : 0.0671   acc : 0.9708   miou : 0.9066\n",
      "mIoU improved from 0.9063 to 0.9066.\n"
     ]
    },
    {
     "name": "stderr",
     "output_type": "stream",
     "text": [
      "100%|██████████| 345/345 [05:46<00:00,  1.00s/it]\n"
     ]
    },
    {
     "name": "stdout",
     "output_type": "stream",
     "text": [
      "classes           IoU\n",
      "---------------------\n",
      "Pole          : 0.672\n",
      "SignSymbol    : 0.888\n",
      "Bicyclist     : 0.894\n",
      "Pedestrian    : 0.838\n",
      "Building      : 0.961\n",
      "Fence         : 0.948\n",
      "Pavement      : 0.954\n",
      "Road          : 0.986\n",
      "Car           : 0.961\n",
      "Sky           : 0.939\n",
      "Tree          : 0.935\n",
      "---------------------\n",
      "Mean IoU      : 0.907\n",
      "---------------------\n",
      "train epoch  88\n",
      "loss : 0.0671   acc : 0.9708   miou : 0.9069\n",
      "mIoU improved from 0.9066 to 0.9069.\n"
     ]
    },
    {
     "name": "stderr",
     "output_type": "stream",
     "text": [
      "100%|██████████| 345/345 [05:46<00:00,  1.00s/it]\n"
     ]
    },
    {
     "name": "stdout",
     "output_type": "stream",
     "text": [
      "classes           IoU\n",
      "---------------------\n",
      "Pole          : 0.673\n",
      "SignSymbol    : 0.887\n",
      "Bicyclist     : 0.895\n",
      "Pedestrian    : 0.837\n",
      "Building      : 0.961\n",
      "Fence         : 0.949\n",
      "Pavement      : 0.955\n",
      "Road          : 0.986\n",
      "Car           : 0.961\n",
      "Sky           : 0.939\n",
      "Tree          : 0.935\n",
      "---------------------\n",
      "Mean IoU      : 0.907\n",
      "---------------------\n",
      "train epoch  89\n",
      "loss : 0.0667   acc : 0.9709   miou : 0.9071\n",
      "mIoU improved from 0.9069 to 0.9071.\n"
     ]
    },
    {
     "name": "stderr",
     "output_type": "stream",
     "text": [
      "100%|██████████| 345/345 [05:46<00:00,  1.00s/it]\n"
     ]
    },
    {
     "name": "stdout",
     "output_type": "stream",
     "text": [
      "classes           IoU\n",
      "---------------------\n",
      "Pole          : 0.674\n",
      "SignSymbol    : 0.887\n",
      "Bicyclist     : 0.896\n",
      "Pedestrian    : 0.838\n",
      "Building      : 0.962\n",
      "Fence         : 0.949\n",
      "Pavement      : 0.955\n",
      "Road          : 0.986\n",
      "Car           : 0.961\n",
      "Sky           : 0.939\n",
      "Tree          : 0.935\n",
      "---------------------\n",
      "Mean IoU      : 0.908\n",
      "---------------------\n",
      "train epoch  90\n",
      "loss : 0.0666   acc : 0.9710   miou : 0.9076\n"
     ]
    },
    {
     "name": "stderr",
     "output_type": "stream",
     "text": [
      "\r",
      "  0%|          | 0/345 [00:00<?, ?it/s]"
     ]
    },
    {
     "name": "stdout",
     "output_type": "stream",
     "text": [
      "mIoU improved from 0.9071 to 0.9076.\n"
     ]
    },
    {
     "name": "stderr",
     "output_type": "stream",
     "text": [
      "100%|██████████| 345/345 [05:46<00:00,  1.00s/it]\n"
     ]
    },
    {
     "name": "stdout",
     "output_type": "stream",
     "text": [
      "classes           IoU\n",
      "---------------------\n",
      "Pole          : 0.675\n",
      "SignSymbol    : 0.888\n",
      "Bicyclist     : 0.896\n",
      "Pedestrian    : 0.839\n",
      "Building      : 0.962\n",
      "Fence         : 0.949\n",
      "Pavement      : 0.955\n",
      "Road          : 0.986\n",
      "Car           : 0.961\n",
      "Sky           : 0.939\n",
      "Tree          : 0.936\n",
      "---------------------\n",
      "Mean IoU      : 0.908\n",
      "---------------------\n",
      "train epoch  91\n",
      "loss : 0.0662   acc : 0.9711   miou : 0.9078\n",
      "mIoU improved from 0.9076 to 0.9078.\n"
     ]
    },
    {
     "name": "stderr",
     "output_type": "stream",
     "text": [
      "100%|██████████| 345/345 [05:46<00:00,  1.00s/it]\n"
     ]
    },
    {
     "name": "stdout",
     "output_type": "stream",
     "text": [
      "classes           IoU\n",
      "---------------------\n",
      "Pole          : 0.674\n",
      "SignSymbol    : 0.888\n",
      "Bicyclist     : 0.896\n",
      "Pedestrian    : 0.839\n",
      "Building      : 0.962\n",
      "Fence         : 0.950\n",
      "Pavement      : 0.955\n",
      "Road          : 0.986\n",
      "Car           : 0.961\n",
      "Sky           : 0.939\n",
      "Tree          : 0.936\n",
      "---------------------\n",
      "Mean IoU      : 0.908\n",
      "---------------------\n",
      "train epoch  92\n",
      "loss : 0.0661   acc : 0.9712   miou : 0.9079\n",
      "mIoU improved from 0.9078 to 0.9079.\n"
     ]
    },
    {
     "name": "stderr",
     "output_type": "stream",
     "text": [
      "100%|██████████| 345/345 [05:46<00:00,  1.00s/it]\n"
     ]
    },
    {
     "name": "stdout",
     "output_type": "stream",
     "text": [
      "classes           IoU\n",
      "---------------------\n",
      "Pole          : 0.676\n",
      "SignSymbol    : 0.889\n",
      "Bicyclist     : 0.897\n",
      "Pedestrian    : 0.839\n",
      "Building      : 0.962\n",
      "Fence         : 0.950\n",
      "Pavement      : 0.955\n",
      "Road          : 0.986\n",
      "Car           : 0.961\n",
      "Sky           : 0.940\n",
      "Tree          : 0.936\n",
      "---------------------\n",
      "Mean IoU      : 0.908\n",
      "---------------------\n",
      "train epoch  93\n",
      "loss : 0.0658   acc : 0.9713   miou : 0.9082\n",
      "mIoU improved from 0.9079 to 0.9082.\n"
     ]
    },
    {
     "name": "stderr",
     "output_type": "stream",
     "text": [
      "100%|██████████| 345/345 [05:46<00:00,  1.00s/it]\n"
     ]
    },
    {
     "name": "stdout",
     "output_type": "stream",
     "text": [
      "classes           IoU\n",
      "---------------------\n",
      "Pole          : 0.677\n",
      "SignSymbol    : 0.889\n",
      "Bicyclist     : 0.897\n",
      "Pedestrian    : 0.839\n",
      "Building      : 0.962\n",
      "Fence         : 0.950\n",
      "Pavement      : 0.956\n",
      "Road          : 0.986\n",
      "Car           : 0.962\n",
      "Sky           : 0.939\n",
      "Tree          : 0.936\n",
      "---------------------\n",
      "Mean IoU      : 0.909\n",
      "---------------------\n",
      "train epoch  94\n",
      "loss : 0.0655   acc : 0.9714   miou : 0.9085\n",
      "mIoU improved from 0.9082 to 0.9085.\n"
     ]
    },
    {
     "name": "stderr",
     "output_type": "stream",
     "text": [
      "100%|██████████| 345/345 [05:46<00:00,  1.00s/it]\n"
     ]
    },
    {
     "name": "stdout",
     "output_type": "stream",
     "text": [
      "classes           IoU\n",
      "---------------------\n",
      "Pole          : 0.677\n",
      "SignSymbol    : 0.890\n",
      "Bicyclist     : 0.897\n",
      "Pedestrian    : 0.840\n",
      "Building      : 0.962\n",
      "Fence         : 0.951\n",
      "Pavement      : 0.956\n",
      "Road          : 0.986\n",
      "Car           : 0.962\n",
      "Sky           : 0.940\n",
      "Tree          : 0.937\n",
      "---------------------\n",
      "Mean IoU      : 0.909\n",
      "---------------------\n",
      "train epoch  95\n",
      "loss : 0.0650   acc : 0.9715   miou : 0.9089\n",
      "mIoU improved from 0.9085 to 0.9089.\n"
     ]
    },
    {
     "name": "stderr",
     "output_type": "stream",
     "text": [
      "100%|██████████| 345/345 [05:46<00:00,  1.00s/it]\n"
     ]
    },
    {
     "name": "stdout",
     "output_type": "stream",
     "text": [
      "classes           IoU\n",
      "---------------------\n",
      "Pole          : 0.677\n",
      "SignSymbol    : 0.891\n",
      "Bicyclist     : 0.898\n",
      "Pedestrian    : 0.840\n",
      "Building      : 0.962\n",
      "Fence         : 0.950\n",
      "Pavement      : 0.956\n",
      "Road          : 0.986\n",
      "Car           : 0.962\n",
      "Sky           : 0.940\n",
      "Tree          : 0.937\n",
      "---------------------\n",
      "Mean IoU      : 0.909\n",
      "---------------------\n",
      "train epoch  96\n",
      "loss : 0.0650   acc : 0.9715   miou : 0.9090\n",
      "mIoU improved from 0.9089 to 0.9090.\n"
     ]
    },
    {
     "name": "stderr",
     "output_type": "stream",
     "text": [
      "100%|██████████| 345/345 [05:46<00:00,  1.00s/it]\n"
     ]
    },
    {
     "name": "stdout",
     "output_type": "stream",
     "text": [
      "classes           IoU\n",
      "---------------------\n",
      "Pole          : 0.679\n",
      "SignSymbol    : 0.891\n",
      "Bicyclist     : 0.898\n",
      "Pedestrian    : 0.840\n",
      "Building      : 0.963\n",
      "Fence         : 0.951\n",
      "Pavement      : 0.956\n",
      "Road          : 0.986\n",
      "Car           : 0.962\n",
      "Sky           : 0.940\n",
      "Tree          : 0.937\n",
      "---------------------\n",
      "Mean IoU      : 0.909\n",
      "---------------------\n",
      "train epoch  97\n",
      "loss : 0.0650   acc : 0.9715   miou : 0.9092\n",
      "mIoU improved from 0.9090 to 0.9092.\n"
     ]
    },
    {
     "name": "stderr",
     "output_type": "stream",
     "text": [
      "100%|██████████| 345/345 [05:46<00:00,  1.00s/it]\n"
     ]
    },
    {
     "name": "stdout",
     "output_type": "stream",
     "text": [
      "classes           IoU\n",
      "---------------------\n",
      "Pole          : 0.679\n",
      "SignSymbol    : 0.890\n",
      "Bicyclist     : 0.898\n",
      "Pedestrian    : 0.841\n",
      "Building      : 0.963\n",
      "Fence         : 0.951\n",
      "Pavement      : 0.956\n",
      "Road          : 0.986\n",
      "Car           : 0.962\n",
      "Sky           : 0.940\n",
      "Tree          : 0.937\n",
      "---------------------\n",
      "Mean IoU      : 0.909\n",
      "---------------------\n",
      "train epoch  98\n",
      "loss : 0.0649   acc : 0.9716   miou : 0.9094\n",
      "mIoU improved from 0.9092 to 0.9094.\n"
     ]
    },
    {
     "name": "stderr",
     "output_type": "stream",
     "text": [
      "100%|██████████| 345/345 [05:46<00:00,  1.00s/it]\n"
     ]
    },
    {
     "name": "stdout",
     "output_type": "stream",
     "text": [
      "classes           IoU\n",
      "---------------------\n",
      "Pole          : 0.679\n",
      "SignSymbol    : 0.891\n",
      "Bicyclist     : 0.897\n",
      "Pedestrian    : 0.841\n",
      "Building      : 0.963\n",
      "Fence         : 0.951\n",
      "Pavement      : 0.956\n",
      "Road          : 0.986\n",
      "Car           : 0.962\n",
      "Sky           : 0.940\n",
      "Tree          : 0.937\n",
      "---------------------\n",
      "Mean IoU      : 0.909\n",
      "---------------------\n",
      "train epoch  99\n",
      "loss : 0.0646   acc : 0.9717   miou : 0.9095\n",
      "mIoU improved from 0.9094 to 0.9095.\n"
     ]
    },
    {
     "name": "stderr",
     "output_type": "stream",
     "text": [
      "100%|██████████| 345/345 [05:46<00:00,  1.00s/it]\n"
     ]
    },
    {
     "name": "stdout",
     "output_type": "stream",
     "text": [
      "classes           IoU\n",
      "---------------------\n",
      "Pole          : 0.680\n",
      "SignSymbol    : 0.892\n",
      "Bicyclist     : 0.898\n",
      "Pedestrian    : 0.841\n",
      "Building      : 0.963\n",
      "Fence         : 0.952\n",
      "Pavement      : 0.956\n",
      "Road          : 0.986\n",
      "Car           : 0.963\n",
      "Sky           : 0.940\n",
      "Tree          : 0.937\n",
      "---------------------\n",
      "Mean IoU      : 0.910\n",
      "---------------------\n",
      "train epoch  100\n",
      "loss : 0.0642   acc : 0.9718   miou : 0.9099\n",
      "mIoU improved from 0.9095 to 0.9099.\n"
     ]
    }
   ],
   "source": [
    "for epoch in range(num_epoch):\n",
    "\n",
    "    loss_running = AverageMeter('Loss', ':.4e')\n",
    "    acc_running = AverageMeter('Accuracy', ':.3f')  \n",
    "    iou = iouCalc(classLabels, validClasses, voidClass = 11)\n",
    "    progress = ProgressMeter(\n",
    "        len(train_data),\n",
    "        [loss_running, acc_running],\n",
    "        prefix=\"Train, epoch: [{}]\".format(epoch))\n",
    "    \n",
    "    for batch, (x, y) in enumerate(tqdm(train_data, total=len(train_data))):\n",
    "        \n",
    "        model.train()    \n",
    "    \n",
    "        x = x.to(device)\n",
    "        y = y.to(device)\n",
    "        # zero the parameter gradients\n",
    "        optimizer.zero_grad()\n",
    "        # forward pass\n",
    "        outputs = model(x)\n",
    "        outputs = outputs['out']\n",
    "        preds = torch.argmax(outputs, 1)\n",
    "        \n",
    "        # cross-entropy loss\n",
    "        loss = criterion(outputs, y)\n",
    "\n",
    "        # backward pass\n",
    "        loss.backward()\n",
    "        optimizer.step()\n",
    "        \n",
    "        # Statistics\n",
    "        bs = x.size(0)\n",
    "        loss = loss.item()\n",
    "        loss_running.update(loss, bs)\n",
    "        corrects = torch.sum((preds == y) & (y != 12))\n",
    "        \n",
    "        nvoid = int((y==12).sum())\n",
    "        acc = corrects.double()/(bs*res-nvoid)\n",
    "        acc_running.update(acc, bs)\n",
    "        \n",
    "        # Calculate IoU scores of current batch\n",
    "        iou.evaluateBatch(preds, y)\n",
    "        \n",
    "        # progress.display(batch)\n",
    "        \n",
    "     \n",
    "    scheduler.step(loss_running.avg)\n",
    "    miou = iou.outputScores()\n",
    "    \n",
    "    print('train epoch ', epoch+1)\n",
    "    print('loss : {:.4f}   acc : {:.4f}   miou : {:.4f}'.format(loss_running.avg, acc_running.avg, miou))\n",
    "    \n",
    "    # save checkpoint per epoch\n",
    "    now = datetime.datetime.now()\n",
    "    now_time = now.strftime('%y%m%d_%H:%M')\n",
    "    \n",
    "    # save path\n",
    "    if not os.path.isdir(os.getcwd() + '/result/' + filename):\n",
    "        os.makedirs(os.getcwd() + '/result/' + filename)\n",
    "    \n",
    "    save_path = os.getcwd() + '/result/' + filename + '/'\n",
    "    \n",
    "    with open(save_path + 'train_log_epoch.csv', 'a') as epoch_log:\n",
    "            epoch_log.write('{}, {:.5f}, {:.5f}, {:.5f}\\n'.format(\n",
    "                    epoch+1, loss_running.avg, acc_running.avg, miou))\n",
    "    \n",
    "    # Save best model to file\n",
    "    torch.save({\n",
    "        'epoch' : epoch+1,\n",
    "        'model_state_dict' : model.state_dict(),\n",
    "        'optimizer_state_dict': optimizer.state_dict(),\n",
    "        'best_miou': best_miou,\n",
    "        'metrics': metrics,\n",
    "        }, save_path + now_time + '_checkpoint.pth.tar')\n",
    "    \n",
    "    # Save best model to file\n",
    "    if miou > best_miou:\n",
    "        print('mIoU improved from {:.4f} to {:.4f}.'.format(best_miou, miou))\n",
    "        best_miou = miou\n",
    "        torch.save({\n",
    "            'epoch': epoch+1,\n",
    "            'model_state_dict': model.state_dict(),\n",
    "            }, save_path + now_time + '_best_weights.pth.tar')\n"
   ]
  },
  {
   "cell_type": "code",
   "execution_count": 20,
   "id": "c2e97486",
   "metadata": {},
   "outputs": [
    {
     "data": {
      "image/png": "[encoded data removed]",
      "text/plain": [
       "<Figure size 1440x360 with 1 Axes>"
      ]
     },
     "metadata": {
      "needs_background": "light"
     },
     "output_type": "display_data"
    }
   ],
   "source": [
    "log_epoch = pd.read_csv('result/' + filename + '/train_log_epoch.csv', names = ['epoch', 'loss', 'accuracy', 'miou'])\n",
    "\n",
    "plt.figure(figsize=(20, 5))\n",
    "plt.plot(log_epoch['epoch'], log_epoch['miou'], label = 'miou')\n",
    "plt.plot(log_epoch['epoch'], log_epoch['accuracy'], label = 'accuracy')\n",
    "plt.plot(log_epoch['epoch'], log_epoch['loss'], label = 'loss')\n",
    "plt.xticks([i for i in range(1, log_epoch.shape[0]+1)])\n",
    "plt.title(\"DeepLab V3 resnet50\")\n",
    "plt.xlabel(\"epoch\")\n",
    "plt.ylabel(\"\")\n",
    "plt.legend()\n",
    "plt.show()"
   ]
  },
  {
   "cell_type": "markdown",
   "id": "308d4208",
   "metadata": {},
   "source": [
    "## validation"
   ]
  },
  {
   "cell_type": "code",
   "execution_count": 21,
   "id": "c44edcd4",
   "metadata": {},
   "outputs": [],
   "source": [
    "val_X = torch.tensor(val_x, dtype=torch.float32)\n",
    "val_Y = torch.tensor(val_y, dtype=torch.long)\n",
    "\n",
    "val_data = torch.utils.data.TensorDataset(val_X.permute(dims=(0, 3, 1, 2)), val_Y)\n",
    "\n",
    "val_data = torch.utils.data.DataLoader(val_data, batch_size=1, shuffle=True)"
   ]
  },
  {
   "cell_type": "code",
   "execution_count": 22,
   "id": "db04a703",
   "metadata": {},
   "outputs": [],
   "source": [
    "# Load best model\n",
    "\n",
    "save_path = os.getcwd() + '/result/' + filename + '/'\n",
    "result = [file for file in sorted(os.listdir(save_path), reverse=False) if file[13:] == 'checkpoint.pth.tar' ]"
   ]
  },
  {
   "cell_type": "code",
   "execution_count": 23,
   "id": "fd61d09e",
   "metadata": {},
   "outputs": [
    {
     "data": {
      "text/plain": [
       "100"
      ]
     },
     "execution_count": 23,
     "metadata": {},
     "output_type": "execute_result"
    }
   ],
   "source": [
    "len(result)"
   ]
  },
  {
   "cell_type": "code",
   "execution_count": 24,
   "id": "721e4e9f",
   "metadata": {
    "scrolled": true
   },
   "outputs": [
    {
     "name": "stderr",
     "output_type": "stream",
     "text": [
      "  2%|▏         | 1/62 [00:00<00:07,  7.96it/s]"
     ]
    },
    {
     "name": "stdout",
     "output_type": "stream",
     "text": [
      "Loaded best model weights (epoch 1) from 210606_03:35_checkpoint.pth.tar\n"
     ]
    },
    {
     "name": "stderr",
     "output_type": "stream",
     "text": [
      "100%|██████████| 62/62 [00:06<00:00,  9.34it/s]\n",
      "  0%|          | 0/62 [00:00<?, ?it/s]"
     ]
    },
    {
     "name": "stdout",
     "output_type": "stream",
     "text": [
      "classes           IoU\n",
      "---------------------\n",
      "Pole          : 0.269\n",
      "SignSymbol    : 0.344\n",
      "Bicyclist     : 0.587\n",
      "Pedestrian    : 0.399\n",
      "Building      : 0.704\n",
      "Fence         : 0.553\n",
      "Pavement      : 0.781\n",
      "Road          : 0.919\n",
      "Car           : 0.708\n",
      "Sky           : 0.857\n",
      "Tree          : 0.747\n",
      "---------------------\n",
      "Mean IoU      : 0.624\n",
      "---------------------\n",
      "validataion\n",
      "loss : 0.4561   acc : 0.8440   miou : 0.6244\n",
      "Loaded best model weights (epoch 2) from 210606_03:41_checkpoint.pth.tar\n"
     ]
    },
    {
     "name": "stderr",
     "output_type": "stream",
     "text": [
      "100%|██████████| 62/62 [00:06<00:00,  9.43it/s]\n",
      "  0%|          | 0/62 [00:00<?, ?it/s]"
     ]
    },
    {
     "name": "stdout",
     "output_type": "stream",
     "text": [
      "classes           IoU\n",
      "---------------------\n",
      "Pole          : 0.304\n",
      "SignSymbol    : 0.494\n",
      "Bicyclist     : 0.606\n",
      "Pedestrian    : 0.525\n",
      "Building      : 0.788\n",
      "Fence         : 0.677\n",
      "Pavement      : 0.792\n",
      "Road          : 0.929\n",
      "Car           : 0.843\n",
      "Sky           : 0.886\n",
      "Tree          : 0.787\n",
      "---------------------\n",
      "Mean IoU      : 0.694\n",
      "---------------------\n",
      "validataion\n",
      "loss : 0.3171   acc : 0.8811   miou : 0.6938\n",
      "Loaded best model weights (epoch 3) from 210606_03:47_checkpoint.pth.tar\n"
     ]
    },
    {
     "name": "stderr",
     "output_type": "stream",
     "text": [
      "100%|██████████| 62/62 [00:06<00:00,  9.38it/s]\n",
      "  0%|          | 0/62 [00:00<?, ?it/s]"
     ]
    },
    {
     "name": "stdout",
     "output_type": "stream",
     "text": [
      "classes           IoU\n",
      "---------------------\n",
      "Pole          : 0.387\n",
      "SignSymbol    : 0.593\n",
      "Bicyclist     : 0.685\n",
      "Pedestrian    : 0.620\n",
      "Building      : 0.838\n",
      "Fence         : 0.650\n",
      "Pavement      : 0.824\n",
      "Road          : 0.940\n",
      "Car           : 0.878\n",
      "Sky           : 0.907\n",
      "Tree          : 0.815\n",
      "---------------------\n",
      "Mean IoU      : 0.740\n",
      "---------------------\n",
      "validataion\n",
      "loss : 0.2745   acc : 0.9044   miou : 0.7398\n",
      "Loaded best model weights (epoch 4) from 210606_03:52_checkpoint.pth.tar\n"
     ]
    },
    {
     "name": "stderr",
     "output_type": "stream",
     "text": [
      "100%|██████████| 62/62 [00:06<00:00,  9.39it/s]\n",
      "  0%|          | 0/62 [00:00<?, ?it/s]"
     ]
    },
    {
     "name": "stdout",
     "output_type": "stream",
     "text": [
      "classes           IoU\n",
      "---------------------\n",
      "Pole          : 0.391\n",
      "SignSymbol    : 0.632\n",
      "Bicyclist     : 0.686\n",
      "Pedestrian    : 0.634\n",
      "Building      : 0.855\n",
      "Fence         : 0.708\n",
      "Pavement      : 0.863\n",
      "Road          : 0.953\n",
      "Car           : 0.871\n",
      "Sky           : 0.912\n",
      "Tree          : 0.823\n",
      "---------------------\n",
      "Mean IoU      : 0.757\n",
      "---------------------\n",
      "validataion\n",
      "loss : 0.2388   acc : 0.9148   miou : 0.7570\n",
      "Loaded best model weights (epoch 5) from 210606_03:58_checkpoint.pth.tar\n"
     ]
    },
    {
     "name": "stderr",
     "output_type": "stream",
     "text": [
      "100%|██████████| 62/62 [00:06<00:00,  9.37it/s]\n",
      "  0%|          | 0/62 [00:00<?, ?it/s]"
     ]
    },
    {
     "name": "stdout",
     "output_type": "stream",
     "text": [
      "classes           IoU\n",
      "---------------------\n",
      "Pole          : 0.350\n",
      "SignSymbol    : 0.580\n",
      "Bicyclist     : 0.742\n",
      "Pedestrian    : 0.625\n",
      "Building      : 0.836\n",
      "Fence         : 0.757\n",
      "Pavement      : 0.863\n",
      "Road          : 0.955\n",
      "Car           : 0.895\n",
      "Sky           : 0.908\n",
      "Tree          : 0.833\n",
      "---------------------\n",
      "Mean IoU      : 0.759\n",
      "---------------------\n",
      "validataion\n",
      "loss : 0.2176   acc : 0.9118   miou : 0.7586\n",
      "Loaded best model weights (epoch 6) from 210606_04:04_checkpoint.pth.tar\n"
     ]
    },
    {
     "name": "stderr",
     "output_type": "stream",
     "text": [
      "100%|██████████| 62/62 [00:06<00:00,  9.33it/s]\n",
      "  0%|          | 0/62 [00:00<?, ?it/s]"
     ]
    },
    {
     "name": "stdout",
     "output_type": "stream",
     "text": [
      "classes           IoU\n",
      "---------------------\n",
      "Pole          : 0.447\n",
      "SignSymbol    : 0.716\n",
      "Bicyclist     : 0.699\n",
      "Pedestrian    : 0.677\n",
      "Building      : 0.873\n",
      "Fence         : 0.783\n",
      "Pavement      : 0.875\n",
      "Road          : 0.956\n",
      "Car           : 0.896\n",
      "Sky           : 0.917\n",
      "Tree          : 0.850\n",
      "---------------------\n",
      "Mean IoU      : 0.790\n",
      "---------------------\n",
      "validataion\n",
      "loss : 0.1907   acc : 0.9262   miou : 0.7900\n",
      "Loaded best model weights (epoch 7) from 210606_04:10_checkpoint.pth.tar\n"
     ]
    },
    {
     "name": "stderr",
     "output_type": "stream",
     "text": [
      "100%|██████████| 62/62 [00:06<00:00,  9.33it/s]\n",
      "  0%|          | 0/62 [00:00<?, ?it/s]"
     ]
    },
    {
     "name": "stdout",
     "output_type": "stream",
     "text": [
      "classes           IoU\n",
      "---------------------\n",
      "Pole          : 0.451\n",
      "SignSymbol    : 0.686\n",
      "Bicyclist     : 0.742\n",
      "Pedestrian    : 0.688\n",
      "Building      : 0.875\n",
      "Fence         : 0.798\n",
      "Pavement      : 0.874\n",
      "Road          : 0.956\n",
      "Car           : 0.905\n",
      "Sky           : 0.904\n",
      "Tree          : 0.845\n",
      "---------------------\n",
      "Mean IoU      : 0.793\n",
      "---------------------\n",
      "validataion\n",
      "loss : 0.1830   acc : 0.9251   miou : 0.7930\n",
      "Loaded best model weights (epoch 8) from 210606_04:16_checkpoint.pth.tar\n"
     ]
    },
    {
     "name": "stderr",
     "output_type": "stream",
     "text": [
      "100%|██████████| 62/62 [00:06<00:00,  9.33it/s]\n",
      "  0%|          | 0/62 [00:00<?, ?it/s]"
     ]
    },
    {
     "name": "stdout",
     "output_type": "stream",
     "text": [
      "classes           IoU\n",
      "---------------------\n",
      "Pole          : 0.444\n",
      "SignSymbol    : 0.706\n",
      "Bicyclist     : 0.732\n",
      "Pedestrian    : 0.693\n",
      "Building      : 0.891\n",
      "Fence         : 0.809\n",
      "Pavement      : 0.884\n",
      "Road          : 0.959\n",
      "Car           : 0.900\n",
      "Sky           : 0.907\n",
      "Tree          : 0.855\n",
      "---------------------\n",
      "Mean IoU      : 0.798\n",
      "---------------------\n",
      "validataion\n",
      "loss : 0.1759   acc : 0.9303   miou : 0.7983\n",
      "Loaded best model weights (epoch 9) from 210606_04:21_checkpoint.pth.tar\n"
     ]
    },
    {
     "name": "stderr",
     "output_type": "stream",
     "text": [
      "100%|██████████| 62/62 [00:06<00:00,  9.32it/s]\n",
      "  0%|          | 0/62 [00:00<?, ?it/s]"
     ]
    },
    {
     "name": "stdout",
     "output_type": "stream",
     "text": [
      "classes           IoU\n",
      "---------------------\n",
      "Pole          : 0.499\n",
      "SignSymbol    : 0.736\n",
      "Bicyclist     : 0.751\n",
      "Pedestrian    : 0.704\n",
      "Building      : 0.888\n",
      "Fence         : 0.828\n",
      "Pavement      : 0.891\n",
      "Road          : 0.965\n",
      "Car           : 0.911\n",
      "Sky           : 0.915\n",
      "Tree          : 0.855\n",
      "---------------------\n",
      "Mean IoU      : 0.813\n",
      "---------------------\n",
      "validataion\n",
      "loss : 0.1624   acc : 0.9340   miou : 0.8130\n",
      "Loaded best model weights (epoch 10) from 210606_04:27_checkpoint.pth.tar\n"
     ]
    },
    {
     "name": "stderr",
     "output_type": "stream",
     "text": [
      "100%|██████████| 62/62 [00:06<00:00,  9.31it/s]\n",
      "  0%|          | 0/62 [00:00<?, ?it/s]"
     ]
    },
    {
     "name": "stdout",
     "output_type": "stream",
     "text": [
      "classes           IoU\n",
      "---------------------\n",
      "Pole          : 0.523\n",
      "SignSymbol    : 0.767\n",
      "Bicyclist     : 0.777\n",
      "Pedestrian    : 0.694\n",
      "Building      : 0.920\n",
      "Fence         : 0.850\n",
      "Pavement      : 0.897\n",
      "Road          : 0.964\n",
      "Car           : 0.913\n",
      "Sky           : 0.926\n",
      "Tree          : 0.875\n",
      "---------------------\n",
      "Mean IoU      : 0.828\n",
      "---------------------\n",
      "validataion\n",
      "loss : 0.1496   acc : 0.9441   miou : 0.8280\n",
      "Loaded best model weights (epoch 11) from 210606_04:33_checkpoint.pth.tar\n"
     ]
    },
    {
     "name": "stderr",
     "output_type": "stream",
     "text": [
      "100%|██████████| 62/62 [00:06<00:00,  9.27it/s]\n",
      "  0%|          | 0/62 [00:00<?, ?it/s]"
     ]
    },
    {
     "name": "stdout",
     "output_type": "stream",
     "text": [
      "classes           IoU\n",
      "---------------------\n",
      "Pole          : 0.518\n",
      "SignSymbol    : 0.788\n",
      "Bicyclist     : 0.783\n",
      "Pedestrian    : 0.698\n",
      "Building      : 0.905\n",
      "Fence         : 0.839\n",
      "Pavement      : 0.902\n",
      "Road          : 0.966\n",
      "Car           : 0.912\n",
      "Sky           : 0.929\n",
      "Tree          : 0.878\n",
      "---------------------\n",
      "Mean IoU      : 0.829\n",
      "---------------------\n",
      "validataion\n",
      "loss : 0.1429   acc : 0.9427   miou : 0.8289\n",
      "Loaded best model weights (epoch 12) from 210606_04:39_checkpoint.pth.tar\n"
     ]
    },
    {
     "name": "stderr",
     "output_type": "stream",
     "text": [
      "100%|██████████| 62/62 [00:06<00:00,  9.29it/s]\n",
      "  0%|          | 0/62 [00:00<?, ?it/s]"
     ]
    },
    {
     "name": "stdout",
     "output_type": "stream",
     "text": [
      "classes           IoU\n",
      "---------------------\n",
      "Pole          : 0.511\n",
      "SignSymbol    : 0.792\n",
      "Bicyclist     : 0.761\n",
      "Pedestrian    : 0.725\n",
      "Building      : 0.923\n",
      "Fence         : 0.857\n",
      "Pavement      : 0.901\n",
      "Road          : 0.966\n",
      "Car           : 0.919\n",
      "Sky           : 0.924\n",
      "Tree          : 0.881\n",
      "---------------------\n",
      "Mean IoU      : 0.833\n",
      "---------------------\n",
      "validataion\n",
      "loss : 0.1452   acc : 0.9456   miou : 0.8329\n",
      "Loaded best model weights (epoch 13) from 210606_04:44_checkpoint.pth.tar\n"
     ]
    },
    {
     "name": "stderr",
     "output_type": "stream",
     "text": [
      "100%|██████████| 62/62 [00:06<00:00,  9.27it/s]\n",
      "  0%|          | 0/62 [00:00<?, ?it/s]"
     ]
    },
    {
     "name": "stdout",
     "output_type": "stream",
     "text": [
      "classes           IoU\n",
      "---------------------\n",
      "Pole          : 0.552\n",
      "SignSymbol    : 0.796\n",
      "Bicyclist     : 0.810\n",
      "Pedestrian    : 0.738\n",
      "Building      : 0.922\n",
      "Fence         : 0.857\n",
      "Pavement      : 0.908\n",
      "Road          : 0.970\n",
      "Car           : 0.923\n",
      "Sky           : 0.927\n",
      "Tree          : 0.886\n",
      "---------------------\n",
      "Mean IoU      : 0.844\n",
      "---------------------\n",
      "validataion\n",
      "loss : 0.1301   acc : 0.9479   miou : 0.8443\n",
      "Loaded best model weights (epoch 14) from 210606_04:50_checkpoint.pth.tar\n"
     ]
    },
    {
     "name": "stderr",
     "output_type": "stream",
     "text": [
      "100%|██████████| 62/62 [00:06<00:00,  9.28it/s]\n",
      "  0%|          | 0/62 [00:00<?, ?it/s]"
     ]
    },
    {
     "name": "stdout",
     "output_type": "stream",
     "text": [
      "classes           IoU\n",
      "---------------------\n",
      "Pole          : 0.529\n",
      "SignSymbol    : 0.779\n",
      "Bicyclist     : 0.811\n",
      "Pedestrian    : 0.722\n",
      "Building      : 0.912\n",
      "Fence         : 0.853\n",
      "Pavement      : 0.902\n",
      "Road          : 0.964\n",
      "Car           : 0.915\n",
      "Sky           : 0.930\n",
      "Tree          : 0.885\n",
      "---------------------\n",
      "Mean IoU      : 0.836\n",
      "---------------------\n",
      "validataion\n",
      "loss : 0.1297   acc : 0.9446   miou : 0.8364\n",
      "Loaded best model weights (epoch 15) from 210606_04:56_checkpoint.pth.tar\n"
     ]
    },
    {
     "name": "stderr",
     "output_type": "stream",
     "text": [
      "100%|██████████| 62/62 [00:06<00:00,  9.27it/s]\n",
      "  0%|          | 0/62 [00:00<?, ?it/s]"
     ]
    },
    {
     "name": "stdout",
     "output_type": "stream",
     "text": [
      "classes           IoU\n",
      "---------------------\n",
      "Pole          : 0.554\n",
      "SignSymbol    : 0.802\n",
      "Bicyclist     : 0.812\n",
      "Pedestrian    : 0.722\n",
      "Building      : 0.923\n",
      "Fence         : 0.845\n",
      "Pavement      : 0.914\n",
      "Road          : 0.972\n",
      "Car           : 0.926\n",
      "Sky           : 0.923\n",
      "Tree          : 0.881\n",
      "---------------------\n",
      "Mean IoU      : 0.843\n",
      "---------------------\n",
      "validataion\n",
      "loss : 0.1243   acc : 0.9480   miou : 0.8432\n",
      "Loaded best model weights (epoch 16) from 210606_05:02_checkpoint.pth.tar\n"
     ]
    },
    {
     "name": "stderr",
     "output_type": "stream",
     "text": [
      "100%|██████████| 62/62 [00:06<00:00,  9.26it/s]\n",
      "  0%|          | 0/62 [00:00<?, ?it/s]"
     ]
    },
    {
     "name": "stdout",
     "output_type": "stream",
     "text": [
      "classes           IoU\n",
      "---------------------\n",
      "Pole          : 0.564\n",
      "SignSymbol    : 0.811\n",
      "Bicyclist     : 0.808\n",
      "Pedestrian    : 0.738\n",
      "Building      : 0.926\n",
      "Fence         : 0.877\n",
      "Pavement      : 0.912\n",
      "Road          : 0.970\n",
      "Car           : 0.928\n",
      "Sky           : 0.929\n",
      "Tree          : 0.885\n",
      "---------------------\n",
      "Mean IoU      : 0.850\n",
      "---------------------\n",
      "validataion\n",
      "loss : 0.1204   acc : 0.9494   miou : 0.8496\n",
      "Loaded best model weights (epoch 17) from 210606_05:07_checkpoint.pth.tar\n"
     ]
    },
    {
     "name": "stderr",
     "output_type": "stream",
     "text": [
      "100%|██████████| 62/62 [00:06<00:00,  9.25it/s]\n",
      "  0%|          | 0/62 [00:00<?, ?it/s]"
     ]
    },
    {
     "name": "stdout",
     "output_type": "stream",
     "text": [
      "classes           IoU\n",
      "---------------------\n",
      "Pole          : 0.565\n",
      "SignSymbol    : 0.818\n",
      "Bicyclist     : 0.808\n",
      "Pedestrian    : 0.752\n",
      "Building      : 0.926\n",
      "Fence         : 0.869\n",
      "Pavement      : 0.918\n",
      "Road          : 0.972\n",
      "Car           : 0.928\n",
      "Sky           : 0.931\n",
      "Tree          : 0.893\n",
      "---------------------\n",
      "Mean IoU      : 0.853\n",
      "---------------------\n",
      "validataion\n",
      "loss : 0.1174   acc : 0.9513   miou : 0.8528\n",
      "Loaded best model weights (epoch 18) from 210606_05:13_checkpoint.pth.tar\n"
     ]
    },
    {
     "name": "stderr",
     "output_type": "stream",
     "text": [
      "100%|██████████| 62/62 [00:06<00:00,  9.24it/s]\n",
      "  0%|          | 0/62 [00:00<?, ?it/s]"
     ]
    },
    {
     "name": "stdout",
     "output_type": "stream",
     "text": [
      "classes           IoU\n",
      "---------------------\n",
      "Pole          : 0.591\n",
      "SignSymbol    : 0.807\n",
      "Bicyclist     : 0.811\n",
      "Pedestrian    : 0.747\n",
      "Building      : 0.931\n",
      "Fence         : 0.875\n",
      "Pavement      : 0.921\n",
      "Road          : 0.972\n",
      "Car           : 0.931\n",
      "Sky           : 0.927\n",
      "Tree          : 0.896\n",
      "---------------------\n",
      "Mean IoU      : 0.855\n",
      "---------------------\n",
      "validataion\n",
      "loss : 0.1144   acc : 0.9529   miou : 0.8553\n",
      "Loaded best model weights (epoch 19) from 210606_05:19_checkpoint.pth.tar\n"
     ]
    },
    {
     "name": "stderr",
     "output_type": "stream",
     "text": [
      "100%|██████████| 62/62 [00:06<00:00,  9.25it/s]\n",
      "  0%|          | 0/62 [00:00<?, ?it/s]"
     ]
    },
    {
     "name": "stdout",
     "output_type": "stream",
     "text": [
      "classes           IoU\n",
      "---------------------\n",
      "Pole          : 0.560\n",
      "SignSymbol    : 0.823\n",
      "Bicyclist     : 0.813\n",
      "Pedestrian    : 0.756\n",
      "Building      : 0.926\n",
      "Fence         : 0.867\n",
      "Pavement      : 0.910\n",
      "Road          : 0.969\n",
      "Car           : 0.927\n",
      "Sky           : 0.928\n",
      "Tree          : 0.899\n",
      "---------------------\n",
      "Mean IoU      : 0.852\n",
      "---------------------\n",
      "validataion\n",
      "loss : 0.1132   acc : 0.9515   miou : 0.8525\n",
      "Loaded best model weights (epoch 20) from 210606_05:25_checkpoint.pth.tar\n"
     ]
    },
    {
     "name": "stderr",
     "output_type": "stream",
     "text": [
      "100%|██████████| 62/62 [00:06<00:00,  9.18it/s]\n",
      "  0%|          | 0/62 [00:00<?, ?it/s]"
     ]
    },
    {
     "name": "stdout",
     "output_type": "stream",
     "text": [
      "classes           IoU\n",
      "---------------------\n",
      "Pole          : 0.569\n",
      "SignSymbol    : 0.801\n",
      "Bicyclist     : 0.823\n",
      "Pedestrian    : 0.760\n",
      "Building      : 0.923\n",
      "Fence         : 0.867\n",
      "Pavement      : 0.910\n",
      "Road          : 0.969\n",
      "Car           : 0.932\n",
      "Sky           : 0.932\n",
      "Tree          : 0.896\n",
      "---------------------\n",
      "Mean IoU      : 0.853\n",
      "---------------------\n",
      "validataion\n",
      "loss : 0.1118   acc : 0.9507   miou : 0.8530\n",
      "Loaded best model weights (epoch 21) from 210606_05:31_checkpoint.pth.tar\n"
     ]
    },
    {
     "name": "stderr",
     "output_type": "stream",
     "text": [
      "100%|██████████| 62/62 [00:06<00:00,  9.23it/s]\n",
      "  0%|          | 0/62 [00:00<?, ?it/s]"
     ]
    },
    {
     "name": "stdout",
     "output_type": "stream",
     "text": [
      "classes           IoU\n",
      "---------------------\n",
      "Pole          : 0.573\n",
      "SignSymbol    : 0.832\n",
      "Bicyclist     : 0.818\n",
      "Pedestrian    : 0.759\n",
      "Building      : 0.941\n",
      "Fence         : 0.881\n",
      "Pavement      : 0.924\n",
      "Road          : 0.974\n",
      "Car           : 0.936\n",
      "Sky           : 0.927\n",
      "Tree          : 0.901\n",
      "---------------------\n",
      "Mean IoU      : 0.860\n",
      "---------------------\n",
      "validataion\n",
      "loss : 0.1087   acc : 0.9555   miou : 0.8605\n",
      "Loaded best model weights (epoch 22) from 210606_05:36_checkpoint.pth.tar\n"
     ]
    },
    {
     "name": "stderr",
     "output_type": "stream",
     "text": [
      "100%|██████████| 62/62 [00:06<00:00,  9.23it/s]\n",
      "  0%|          | 0/62 [00:00<?, ?it/s]"
     ]
    },
    {
     "name": "stdout",
     "output_type": "stream",
     "text": [
      "classes           IoU\n",
      "---------------------\n",
      "Pole          : 0.587\n",
      "SignSymbol    : 0.830\n",
      "Bicyclist     : 0.830\n",
      "Pedestrian    : 0.755\n",
      "Building      : 0.932\n",
      "Fence         : 0.885\n",
      "Pavement      : 0.924\n",
      "Road          : 0.974\n",
      "Car           : 0.934\n",
      "Sky           : 0.931\n",
      "Tree          : 0.901\n",
      "---------------------\n",
      "Mean IoU      : 0.862\n",
      "---------------------\n",
      "validataion\n",
      "loss : 0.1048   acc : 0.9547   miou : 0.8622\n",
      "Loaded best model weights (epoch 23) from 210606_05:42_checkpoint.pth.tar\n"
     ]
    },
    {
     "name": "stderr",
     "output_type": "stream",
     "text": [
      "100%|██████████| 62/62 [00:06<00:00,  9.24it/s]\n",
      "  0%|          | 0/62 [00:00<?, ?it/s]"
     ]
    },
    {
     "name": "stdout",
     "output_type": "stream",
     "text": [
      "classes           IoU\n",
      "---------------------\n",
      "Pole          : 0.569\n",
      "SignSymbol    : 0.823\n",
      "Bicyclist     : 0.808\n",
      "Pedestrian    : 0.753\n",
      "Building      : 0.934\n",
      "Fence         : 0.880\n",
      "Pavement      : 0.928\n",
      "Road          : 0.976\n",
      "Car           : 0.936\n",
      "Sky           : 0.931\n",
      "Tree          : 0.907\n",
      "---------------------\n",
      "Mean IoU      : 0.859\n",
      "---------------------\n",
      "validataion\n",
      "loss : 0.1045   acc : 0.9562   miou : 0.8585\n",
      "Loaded best model weights (epoch 24) from 210606_05:48_checkpoint.pth.tar\n"
     ]
    },
    {
     "name": "stderr",
     "output_type": "stream",
     "text": [
      "100%|██████████| 62/62 [00:06<00:00,  9.23it/s]\n",
      "  0%|          | 0/62 [00:00<?, ?it/s]"
     ]
    },
    {
     "name": "stdout",
     "output_type": "stream",
     "text": [
      "classes           IoU\n",
      "---------------------\n",
      "Pole          : 0.581\n",
      "SignSymbol    : 0.817\n",
      "Bicyclist     : 0.833\n",
      "Pedestrian    : 0.756\n",
      "Building      : 0.935\n",
      "Fence         : 0.899\n",
      "Pavement      : 0.925\n",
      "Road          : 0.975\n",
      "Car           : 0.939\n",
      "Sky           : 0.925\n",
      "Tree          : 0.901\n",
      "---------------------\n",
      "Mean IoU      : 0.862\n",
      "---------------------\n",
      "validataion\n",
      "loss : 0.1032   acc : 0.9552   miou : 0.8624\n",
      "Loaded best model weights (epoch 25) from 210606_05:54_checkpoint.pth.tar\n"
     ]
    },
    {
     "name": "stderr",
     "output_type": "stream",
     "text": [
      "100%|██████████| 62/62 [00:06<00:00,  9.24it/s]\n",
      "  0%|          | 0/62 [00:00<?, ?it/s]"
     ]
    },
    {
     "name": "stdout",
     "output_type": "stream",
     "text": [
      "classes           IoU\n",
      "---------------------\n",
      "Pole          : 0.582\n",
      "SignSymbol    : 0.822\n",
      "Bicyclist     : 0.829\n",
      "Pedestrian    : 0.760\n",
      "Building      : 0.933\n",
      "Fence         : 0.883\n",
      "Pavement      : 0.930\n",
      "Road          : 0.976\n",
      "Car           : 0.936\n",
      "Sky           : 0.936\n",
      "Tree          : 0.909\n",
      "---------------------\n",
      "Mean IoU      : 0.863\n",
      "---------------------\n",
      "validataion\n",
      "loss : 0.0995   acc : 0.9570   miou : 0.8631\n",
      "Loaded best model weights (epoch 26) from 210606_05:59_checkpoint.pth.tar\n"
     ]
    },
    {
     "name": "stderr",
     "output_type": "stream",
     "text": [
      "100%|██████████| 62/62 [00:06<00:00,  9.23it/s]\n",
      "  0%|          | 0/62 [00:00<?, ?it/s]"
     ]
    },
    {
     "name": "stdout",
     "output_type": "stream",
     "text": [
      "classes           IoU\n",
      "---------------------\n",
      "Pole          : 0.613\n",
      "SignSymbol    : 0.831\n",
      "Bicyclist     : 0.827\n",
      "Pedestrian    : 0.761\n",
      "Building      : 0.940\n",
      "Fence         : 0.892\n",
      "Pavement      : 0.931\n",
      "Road          : 0.976\n",
      "Car           : 0.941\n",
      "Sky           : 0.934\n",
      "Tree          : 0.909\n",
      "---------------------\n",
      "Mean IoU      : 0.869\n",
      "---------------------\n",
      "validataion\n",
      "loss : 0.0993   acc : 0.9584   miou : 0.8686\n",
      "Loaded best model weights (epoch 27) from 210606_06:05_checkpoint.pth.tar\n"
     ]
    },
    {
     "name": "stderr",
     "output_type": "stream",
     "text": [
      "100%|██████████| 62/62 [00:06<00:00,  9.22it/s]\n",
      "  0%|          | 0/62 [00:00<?, ?it/s]"
     ]
    },
    {
     "name": "stdout",
     "output_type": "stream",
     "text": [
      "classes           IoU\n",
      "---------------------\n",
      "Pole          : 0.600\n",
      "SignSymbol    : 0.836\n",
      "Bicyclist     : 0.827\n",
      "Pedestrian    : 0.775\n",
      "Building      : 0.940\n",
      "Fence         : 0.909\n",
      "Pavement      : 0.924\n",
      "Road          : 0.973\n",
      "Car           : 0.941\n",
      "Sky           : 0.934\n",
      "Tree          : 0.906\n",
      "---------------------\n",
      "Mean IoU      : 0.870\n",
      "---------------------\n",
      "validataion\n",
      "loss : 0.0976   acc : 0.9571   miou : 0.8696\n",
      "Loaded best model weights (epoch 28) from 210606_06:11_checkpoint.pth.tar\n"
     ]
    },
    {
     "name": "stderr",
     "output_type": "stream",
     "text": [
      "100%|██████████| 62/62 [00:06<00:00,  9.20it/s]\n",
      "  0%|          | 0/62 [00:00<?, ?it/s]"
     ]
    },
    {
     "name": "stdout",
     "output_type": "stream",
     "text": [
      "classes           IoU\n",
      "---------------------\n",
      "Pole          : 0.598\n",
      "SignSymbol    : 0.827\n",
      "Bicyclist     : 0.839\n",
      "Pedestrian    : 0.762\n",
      "Building      : 0.939\n",
      "Fence         : 0.896\n",
      "Pavement      : 0.931\n",
      "Road          : 0.977\n",
      "Car           : 0.939\n",
      "Sky           : 0.935\n",
      "Tree          : 0.912\n",
      "---------------------\n",
      "Mean IoU      : 0.869\n",
      "---------------------\n",
      "validataion\n",
      "loss : 0.0965   acc : 0.9587   miou : 0.8685\n",
      "Loaded best model weights (epoch 29) from 210606_06:17_checkpoint.pth.tar\n"
     ]
    },
    {
     "name": "stderr",
     "output_type": "stream",
     "text": [
      "100%|██████████| 62/62 [00:06<00:00,  9.21it/s]\n",
      "  0%|          | 0/62 [00:00<?, ?it/s]"
     ]
    },
    {
     "name": "stdout",
     "output_type": "stream",
     "text": [
      "classes           IoU\n",
      "---------------------\n",
      "Pole          : 0.603\n",
      "SignSymbol    : 0.827\n",
      "Bicyclist     : 0.835\n",
      "Pedestrian    : 0.774\n",
      "Building      : 0.942\n",
      "Fence         : 0.912\n",
      "Pavement      : 0.934\n",
      "Road          : 0.976\n",
      "Car           : 0.941\n",
      "Sky           : 0.934\n",
      "Tree          : 0.907\n",
      "---------------------\n",
      "Mean IoU      : 0.871\n",
      "---------------------\n",
      "validataion\n",
      "loss : 0.0944   acc : 0.9590   miou : 0.8712\n",
      "Loaded best model weights (epoch 30) from 210606_06:23_checkpoint.pth.tar\n"
     ]
    },
    {
     "name": "stderr",
     "output_type": "stream",
     "text": [
      "100%|██████████| 62/62 [00:06<00:00,  9.21it/s]\n",
      "  0%|          | 0/62 [00:00<?, ?it/s]"
     ]
    },
    {
     "name": "stdout",
     "output_type": "stream",
     "text": [
      "classes           IoU\n",
      "---------------------\n",
      "Pole          : 0.607\n",
      "SignSymbol    : 0.847\n",
      "Bicyclist     : 0.818\n",
      "Pedestrian    : 0.777\n",
      "Building      : 0.947\n",
      "Fence         : 0.915\n",
      "Pavement      : 0.928\n",
      "Road          : 0.974\n",
      "Car           : 0.937\n",
      "Sky           : 0.932\n",
      "Tree          : 0.915\n",
      "---------------------\n",
      "Mean IoU      : 0.873\n",
      "---------------------\n",
      "validataion\n",
      "loss : 0.0938   acc : 0.9601   miou : 0.8726\n",
      "Loaded best model weights (epoch 31) from 210606_06:28_checkpoint.pth.tar\n"
     ]
    },
    {
     "name": "stderr",
     "output_type": "stream",
     "text": [
      "100%|██████████| 62/62 [00:06<00:00,  9.21it/s]\n",
      "  0%|          | 0/62 [00:00<?, ?it/s]"
     ]
    },
    {
     "name": "stdout",
     "output_type": "stream",
     "text": [
      "classes           IoU\n",
      "---------------------\n",
      "Pole          : 0.620\n",
      "SignSymbol    : 0.836\n",
      "Bicyclist     : 0.845\n",
      "Pedestrian    : 0.770\n",
      "Building      : 0.943\n",
      "Fence         : 0.910\n",
      "Pavement      : 0.935\n",
      "Road          : 0.976\n",
      "Car           : 0.941\n",
      "Sky           : 0.938\n",
      "Tree          : 0.916\n",
      "---------------------\n",
      "Mean IoU      : 0.876\n",
      "---------------------\n",
      "validataion\n",
      "loss : 0.0921   acc : 0.9610   miou : 0.8755\n",
      "Loaded best model weights (epoch 32) from 210606_06:34_checkpoint.pth.tar\n"
     ]
    },
    {
     "name": "stderr",
     "output_type": "stream",
     "text": [
      "100%|██████████| 62/62 [00:06<00:00,  9.21it/s]\n",
      "  0%|          | 0/62 [00:00<?, ?it/s]"
     ]
    },
    {
     "name": "stdout",
     "output_type": "stream",
     "text": [
      "classes           IoU\n",
      "---------------------\n",
      "Pole          : 0.590\n",
      "SignSymbol    : 0.833\n",
      "Bicyclist     : 0.835\n",
      "Pedestrian    : 0.787\n",
      "Building      : 0.940\n",
      "Fence         : 0.907\n",
      "Pavement      : 0.930\n",
      "Road          : 0.975\n",
      "Car           : 0.941\n",
      "Sky           : 0.934\n",
      "Tree          : 0.913\n",
      "---------------------\n",
      "Mean IoU      : 0.871\n",
      "---------------------\n",
      "validataion\n",
      "loss : 0.0919   acc : 0.9589   miou : 0.8714\n",
      "Loaded best model weights (epoch 33) from 210606_06:40_checkpoint.pth.tar\n"
     ]
    },
    {
     "name": "stderr",
     "output_type": "stream",
     "text": [
      "100%|██████████| 62/62 [00:06<00:00,  9.20it/s]\n",
      "  0%|          | 0/62 [00:00<?, ?it/s]"
     ]
    },
    {
     "name": "stdout",
     "output_type": "stream",
     "text": [
      "classes           IoU\n",
      "---------------------\n",
      "Pole          : 0.617\n",
      "SignSymbol    : 0.845\n",
      "Bicyclist     : 0.840\n",
      "Pedestrian    : 0.778\n",
      "Building      : 0.941\n",
      "Fence         : 0.894\n",
      "Pavement      : 0.935\n",
      "Road          : 0.978\n",
      "Car           : 0.944\n",
      "Sky           : 0.936\n",
      "Tree          : 0.914\n",
      "---------------------\n",
      "Mean IoU      : 0.875\n",
      "---------------------\n",
      "validataion\n",
      "loss : 0.0905   acc : 0.9600   miou : 0.8746\n",
      "Loaded best model weights (epoch 34) from 210606_06:46_checkpoint.pth.tar\n"
     ]
    },
    {
     "name": "stderr",
     "output_type": "stream",
     "text": [
      "100%|██████████| 62/62 [00:06<00:00,  9.21it/s]\n",
      "  0%|          | 0/62 [00:00<?, ?it/s]"
     ]
    },
    {
     "name": "stdout",
     "output_type": "stream",
     "text": [
      "classes           IoU\n",
      "---------------------\n",
      "Pole          : 0.606\n",
      "SignSymbol    : 0.853\n",
      "Bicyclist     : 0.841\n",
      "Pedestrian    : 0.779\n",
      "Building      : 0.946\n",
      "Fence         : 0.900\n",
      "Pavement      : 0.936\n",
      "Road          : 0.975\n",
      "Car           : 0.943\n",
      "Sky           : 0.936\n",
      "Tree          : 0.913\n",
      "---------------------\n",
      "Mean IoU      : 0.875\n",
      "---------------------\n",
      "validataion\n",
      "loss : 0.0895   acc : 0.9605   miou : 0.8754\n",
      "Loaded best model weights (epoch 35) from 210606_06:51_checkpoint.pth.tar\n"
     ]
    },
    {
     "name": "stderr",
     "output_type": "stream",
     "text": [
      "100%|██████████| 62/62 [00:06<00:00,  9.21it/s]\n",
      "  0%|          | 0/62 [00:00<?, ?it/s]"
     ]
    },
    {
     "name": "stdout",
     "output_type": "stream",
     "text": [
      "classes           IoU\n",
      "---------------------\n",
      "Pole          : 0.605\n",
      "SignSymbol    : 0.849\n",
      "Bicyclist     : 0.843\n",
      "Pedestrian    : 0.780\n",
      "Building      : 0.944\n",
      "Fence         : 0.916\n",
      "Pavement      : 0.934\n",
      "Road          : 0.977\n",
      "Car           : 0.944\n",
      "Sky           : 0.933\n",
      "Tree          : 0.918\n",
      "---------------------\n",
      "Mean IoU      : 0.877\n",
      "---------------------\n",
      "validataion\n",
      "loss : 0.0883   acc : 0.9604   miou : 0.8765\n",
      "Loaded best model weights (epoch 36) from 210606_06:57_checkpoint.pth.tar\n"
     ]
    },
    {
     "name": "stderr",
     "output_type": "stream",
     "text": [
      "100%|██████████| 62/62 [00:06<00:00,  9.20it/s]\n",
      "  0%|          | 0/62 [00:00<?, ?it/s]"
     ]
    },
    {
     "name": "stdout",
     "output_type": "stream",
     "text": [
      "classes           IoU\n",
      "---------------------\n",
      "Pole          : 0.645\n",
      "SignSymbol    : 0.863\n",
      "Bicyclist     : 0.844\n",
      "Pedestrian    : 0.800\n",
      "Building      : 0.948\n",
      "Fence         : 0.913\n",
      "Pavement      : 0.933\n",
      "Road          : 0.977\n",
      "Car           : 0.947\n",
      "Sky           : 0.939\n",
      "Tree          : 0.918\n",
      "---------------------\n",
      "Mean IoU      : 0.884\n",
      "---------------------\n",
      "validataion\n",
      "loss : 0.0873   acc : 0.9630   miou : 0.8842\n",
      "Loaded best model weights (epoch 37) from 210606_07:03_checkpoint.pth.tar\n"
     ]
    },
    {
     "name": "stderr",
     "output_type": "stream",
     "text": [
      "100%|██████████| 62/62 [00:06<00:00,  9.22it/s]\n",
      "  0%|          | 0/62 [00:00<?, ?it/s]"
     ]
    },
    {
     "name": "stdout",
     "output_type": "stream",
     "text": [
      "classes           IoU\n",
      "---------------------\n",
      "Pole          : 0.622\n",
      "SignSymbol    : 0.859\n",
      "Bicyclist     : 0.845\n",
      "Pedestrian    : 0.772\n",
      "Building      : 0.947\n",
      "Fence         : 0.920\n",
      "Pavement      : 0.935\n",
      "Road          : 0.977\n",
      "Car           : 0.949\n",
      "Sky           : 0.937\n",
      "Tree          : 0.921\n",
      "---------------------\n",
      "Mean IoU      : 0.880\n",
      "---------------------\n",
      "validataion\n",
      "loss : 0.0864   acc : 0.9628   miou : 0.8804\n",
      "Loaded best model weights (epoch 38) from 210606_07:09_checkpoint.pth.tar\n"
     ]
    },
    {
     "name": "stderr",
     "output_type": "stream",
     "text": [
      "100%|██████████| 62/62 [00:06<00:00,  9.22it/s]\n",
      "  0%|          | 0/62 [00:00<?, ?it/s]"
     ]
    },
    {
     "name": "stdout",
     "output_type": "stream",
     "text": [
      "classes           IoU\n",
      "---------------------\n",
      "Pole          : 0.624\n",
      "SignSymbol    : 0.849\n",
      "Bicyclist     : 0.851\n",
      "Pedestrian    : 0.799\n",
      "Building      : 0.951\n",
      "Fence         : 0.925\n",
      "Pavement      : 0.942\n",
      "Road          : 0.980\n",
      "Car           : 0.950\n",
      "Sky           : 0.939\n",
      "Tree          : 0.922\n",
      "---------------------\n",
      "Mean IoU      : 0.885\n",
      "---------------------\n",
      "validataion\n",
      "loss : 0.0850   acc : 0.9646   miou : 0.8846\n",
      "Loaded best model weights (epoch 39) from 210606_07:15_checkpoint.pth.tar\n"
     ]
    },
    {
     "name": "stderr",
     "output_type": "stream",
     "text": [
      "100%|██████████| 62/62 [00:06<00:00,  9.21it/s]\n",
      "  0%|          | 0/62 [00:00<?, ?it/s]"
     ]
    },
    {
     "name": "stdout",
     "output_type": "stream",
     "text": [
      "classes           IoU\n",
      "---------------------\n",
      "Pole          : 0.621\n",
      "SignSymbol    : 0.851\n",
      "Bicyclist     : 0.847\n",
      "Pedestrian    : 0.782\n",
      "Building      : 0.950\n",
      "Fence         : 0.928\n",
      "Pavement      : 0.934\n",
      "Road          : 0.977\n",
      "Car           : 0.947\n",
      "Sky           : 0.936\n",
      "Tree          : 0.920\n",
      "---------------------\n",
      "Mean IoU      : 0.881\n",
      "---------------------\n",
      "validataion\n",
      "loss : 0.0845   acc : 0.9626   miou : 0.8811\n",
      "Loaded best model weights (epoch 40) from 210606_07:20_checkpoint.pth.tar\n"
     ]
    },
    {
     "name": "stderr",
     "output_type": "stream",
     "text": [
      "100%|██████████| 62/62 [00:06<00:00,  9.21it/s]\n",
      "  0%|          | 0/62 [00:00<?, ?it/s]"
     ]
    },
    {
     "name": "stdout",
     "output_type": "stream",
     "text": [
      "classes           IoU\n",
      "---------------------\n",
      "Pole          : 0.626\n",
      "SignSymbol    : 0.848\n",
      "Bicyclist     : 0.860\n",
      "Pedestrian    : 0.796\n",
      "Building      : 0.949\n",
      "Fence         : 0.916\n",
      "Pavement      : 0.938\n",
      "Road          : 0.977\n",
      "Car           : 0.948\n",
      "Sky           : 0.937\n",
      "Tree          : 0.921\n",
      "---------------------\n",
      "Mean IoU      : 0.883\n",
      "---------------------\n",
      "validataion\n",
      "loss : 0.0845   acc : 0.9630   miou : 0.8833\n",
      "Loaded best model weights (epoch 41) from 210606_07:26_checkpoint.pth.tar\n"
     ]
    },
    {
     "name": "stderr",
     "output_type": "stream",
     "text": [
      "100%|██████████| 62/62 [00:06<00:00,  9.21it/s]\n",
      "  0%|          | 0/62 [00:00<?, ?it/s]"
     ]
    },
    {
     "name": "stdout",
     "output_type": "stream",
     "text": [
      "classes           IoU\n",
      "---------------------\n",
      "Pole          : 0.630\n",
      "SignSymbol    : 0.862\n",
      "Bicyclist     : 0.854\n",
      "Pedestrian    : 0.808\n",
      "Building      : 0.951\n",
      "Fence         : 0.919\n",
      "Pavement      : 0.943\n",
      "Road          : 0.981\n",
      "Car           : 0.949\n",
      "Sky           : 0.942\n",
      "Tree          : 0.924\n",
      "---------------------\n",
      "Mean IoU      : 0.888\n",
      "---------------------\n",
      "validataion\n",
      "loss : 0.0824   acc : 0.9654   miou : 0.8876\n",
      "Loaded best model weights (epoch 42) from 210606_07:32_checkpoint.pth.tar\n"
     ]
    },
    {
     "name": "stderr",
     "output_type": "stream",
     "text": [
      "100%|██████████| 62/62 [00:06<00:00,  9.21it/s]\n",
      "  0%|          | 0/62 [00:00<?, ?it/s]"
     ]
    },
    {
     "name": "stdout",
     "output_type": "stream",
     "text": [
      "classes           IoU\n",
      "---------------------\n",
      "Pole          : 0.623\n",
      "SignSymbol    : 0.858\n",
      "Bicyclist     : 0.850\n",
      "Pedestrian    : 0.807\n",
      "Building      : 0.949\n",
      "Fence         : 0.920\n",
      "Pavement      : 0.943\n",
      "Road          : 0.980\n",
      "Car           : 0.948\n",
      "Sky           : 0.937\n",
      "Tree          : 0.924\n",
      "---------------------\n",
      "Mean IoU      : 0.885\n",
      "---------------------\n",
      "validataion\n",
      "loss : 0.0817   acc : 0.9642   miou : 0.8854\n",
      "Loaded best model weights (epoch 43) from 210606_07:38_checkpoint.pth.tar\n"
     ]
    },
    {
     "name": "stderr",
     "output_type": "stream",
     "text": [
      "100%|██████████| 62/62 [00:06<00:00,  9.20it/s]\n",
      "  0%|          | 0/62 [00:00<?, ?it/s]"
     ]
    },
    {
     "name": "stdout",
     "output_type": "stream",
     "text": [
      "classes           IoU\n",
      "---------------------\n",
      "Pole          : 0.634\n",
      "SignSymbol    : 0.870\n",
      "Bicyclist     : 0.855\n",
      "Pedestrian    : 0.793\n",
      "Building      : 0.949\n",
      "Fence         : 0.922\n",
      "Pavement      : 0.938\n",
      "Road          : 0.979\n",
      "Car           : 0.951\n",
      "Sky           : 0.941\n",
      "Tree          : 0.924\n",
      "---------------------\n",
      "Mean IoU      : 0.887\n",
      "---------------------\n",
      "validataion\n",
      "loss : 0.0815   acc : 0.9648   miou : 0.8869\n",
      "Loaded best model weights (epoch 44) from 210606_07:43_checkpoint.pth.tar\n"
     ]
    },
    {
     "name": "stderr",
     "output_type": "stream",
     "text": [
      "100%|██████████| 62/62 [00:06<00:00,  9.14it/s]\n",
      "  0%|          | 0/62 [00:00<?, ?it/s]"
     ]
    },
    {
     "name": "stdout",
     "output_type": "stream",
     "text": [
      "classes           IoU\n",
      "---------------------\n",
      "Pole          : 0.632\n",
      "SignSymbol    : 0.861\n",
      "Bicyclist     : 0.849\n",
      "Pedestrian    : 0.796\n",
      "Building      : 0.950\n",
      "Fence         : 0.925\n",
      "Pavement      : 0.942\n",
      "Road          : 0.978\n",
      "Car           : 0.950\n",
      "Sky           : 0.939\n",
      "Tree          : 0.926\n",
      "---------------------\n",
      "Mean IoU      : 0.886\n",
      "---------------------\n",
      "validataion\n",
      "loss : 0.0810   acc : 0.9642   miou : 0.8861\n",
      "Loaded best model weights (epoch 45) from 210606_07:49_checkpoint.pth.tar\n"
     ]
    },
    {
     "name": "stderr",
     "output_type": "stream",
     "text": [
      "100%|██████████| 62/62 [00:06<00:00,  9.20it/s]\n",
      "  0%|          | 0/62 [00:00<?, ?it/s]"
     ]
    },
    {
     "name": "stdout",
     "output_type": "stream",
     "text": [
      "classes           IoU\n",
      "---------------------\n",
      "Pole          : 0.640\n",
      "SignSymbol    : 0.864\n",
      "Bicyclist     : 0.863\n",
      "Pedestrian    : 0.803\n",
      "Building      : 0.950\n",
      "Fence         : 0.922\n",
      "Pavement      : 0.941\n",
      "Road          : 0.978\n",
      "Car           : 0.951\n",
      "Sky           : 0.938\n",
      "Tree          : 0.923\n",
      "---------------------\n",
      "Mean IoU      : 0.888\n",
      "---------------------\n",
      "validataion\n",
      "loss : 0.0802   acc : 0.9644   miou : 0.8884\n",
      "Loaded best model weights (epoch 46) from 210606_07:55_checkpoint.pth.tar\n"
     ]
    },
    {
     "name": "stderr",
     "output_type": "stream",
     "text": [
      "100%|██████████| 62/62 [00:06<00:00,  9.21it/s]\n",
      "  0%|          | 0/62 [00:00<?, ?it/s]"
     ]
    },
    {
     "name": "stdout",
     "output_type": "stream",
     "text": [
      "classes           IoU\n",
      "---------------------\n",
      "Pole          : 0.641\n",
      "SignSymbol    : 0.860\n",
      "Bicyclist     : 0.858\n",
      "Pedestrian    : 0.804\n",
      "Building      : 0.951\n",
      "Fence         : 0.917\n",
      "Pavement      : 0.941\n",
      "Road          : 0.981\n",
      "Car           : 0.951\n",
      "Sky           : 0.943\n",
      "Tree          : 0.926\n",
      "---------------------\n",
      "Mean IoU      : 0.888\n",
      "---------------------\n",
      "validataion\n",
      "loss : 0.0789   acc : 0.9658   miou : 0.8884\n",
      "Loaded best model weights (epoch 47) from 210606_08:01_checkpoint.pth.tar\n"
     ]
    },
    {
     "name": "stderr",
     "output_type": "stream",
     "text": [
      "100%|██████████| 62/62 [00:06<00:00,  9.21it/s]\n",
      "  0%|          | 0/62 [00:00<?, ?it/s]"
     ]
    },
    {
     "name": "stdout",
     "output_type": "stream",
     "text": [
      "classes           IoU\n",
      "---------------------\n",
      "Pole          : 0.642\n",
      "SignSymbol    : 0.867\n",
      "Bicyclist     : 0.866\n",
      "Pedestrian    : 0.810\n",
      "Building      : 0.950\n",
      "Fence         : 0.917\n",
      "Pavement      : 0.942\n",
      "Road          : 0.980\n",
      "Car           : 0.951\n",
      "Sky           : 0.936\n",
      "Tree          : 0.926\n",
      "---------------------\n",
      "Mean IoU      : 0.890\n",
      "---------------------\n",
      "validataion\n",
      "loss : 0.0781   acc : 0.9645   miou : 0.8898\n",
      "Loaded best model weights (epoch 48) from 210606_08:07_checkpoint.pth.tar\n"
     ]
    },
    {
     "name": "stderr",
     "output_type": "stream",
     "text": [
      "100%|██████████| 62/62 [00:06<00:00,  9.19it/s]\n",
      "  0%|          | 0/62 [00:00<?, ?it/s]"
     ]
    },
    {
     "name": "stdout",
     "output_type": "stream",
     "text": [
      "classes           IoU\n",
      "---------------------\n",
      "Pole          : 0.653\n",
      "SignSymbol    : 0.876\n",
      "Bicyclist     : 0.861\n",
      "Pedestrian    : 0.805\n",
      "Building      : 0.953\n",
      "Fence         : 0.933\n",
      "Pavement      : 0.941\n",
      "Road          : 0.980\n",
      "Car           : 0.951\n",
      "Sky           : 0.940\n",
      "Tree          : 0.928\n",
      "---------------------\n",
      "Mean IoU      : 0.893\n",
      "---------------------\n",
      "validataion\n",
      "loss : 0.0777   acc : 0.9661   miou : 0.8929\n",
      "Loaded best model weights (epoch 49) from 210606_08:12_checkpoint.pth.tar\n"
     ]
    },
    {
     "name": "stderr",
     "output_type": "stream",
     "text": [
      "100%|██████████| 62/62 [00:06<00:00,  9.20it/s]\n",
      "  0%|          | 0/62 [00:00<?, ?it/s]"
     ]
    },
    {
     "name": "stdout",
     "output_type": "stream",
     "text": [
      "classes           IoU\n",
      "---------------------\n",
      "Pole          : 0.620\n",
      "SignSymbol    : 0.872\n",
      "Bicyclist     : 0.860\n",
      "Pedestrian    : 0.815\n",
      "Building      : 0.952\n",
      "Fence         : 0.917\n",
      "Pavement      : 0.943\n",
      "Road          : 0.979\n",
      "Car           : 0.952\n",
      "Sky           : 0.934\n",
      "Tree          : 0.924\n",
      "---------------------\n",
      "Mean IoU      : 0.888\n",
      "---------------------\n",
      "validataion\n",
      "loss : 0.0778   acc : 0.9644   miou : 0.8881\n",
      "Loaded best model weights (epoch 50) from 210606_08:18_checkpoint.pth.tar\n"
     ]
    },
    {
     "name": "stderr",
     "output_type": "stream",
     "text": [
      "100%|██████████| 62/62 [00:06<00:00,  9.19it/s]\n",
      "  0%|          | 0/62 [00:00<?, ?it/s]"
     ]
    },
    {
     "name": "stdout",
     "output_type": "stream",
     "text": [
      "classes           IoU\n",
      "---------------------\n",
      "Pole          : 0.647\n",
      "SignSymbol    : 0.865\n",
      "Bicyclist     : 0.870\n",
      "Pedestrian    : 0.805\n",
      "Building      : 0.955\n",
      "Fence         : 0.931\n",
      "Pavement      : 0.945\n",
      "Road          : 0.982\n",
      "Car           : 0.955\n",
      "Sky           : 0.938\n",
      "Tree          : 0.927\n",
      "---------------------\n",
      "Mean IoU      : 0.893\n",
      "---------------------\n",
      "validataion\n",
      "loss : 0.0773   acc : 0.9666   miou : 0.8926\n",
      "Loaded best model weights (epoch 51) from 210606_08:24_checkpoint.pth.tar\n"
     ]
    },
    {
     "name": "stderr",
     "output_type": "stream",
     "text": [
      "100%|██████████| 62/62 [00:06<00:00,  9.21it/s]\n",
      "  0%|          | 0/62 [00:00<?, ?it/s]"
     ]
    },
    {
     "name": "stdout",
     "output_type": "stream",
     "text": [
      "classes           IoU\n",
      "---------------------\n",
      "Pole          : 0.647\n",
      "SignSymbol    : 0.870\n",
      "Bicyclist     : 0.855\n",
      "Pedestrian    : 0.806\n",
      "Building      : 0.953\n",
      "Fence         : 0.921\n",
      "Pavement      : 0.948\n",
      "Road          : 0.981\n",
      "Car           : 0.953\n",
      "Sky           : 0.936\n",
      "Tree          : 0.927\n",
      "---------------------\n",
      "Mean IoU      : 0.891\n",
      "---------------------\n",
      "validataion\n",
      "loss : 0.0757   acc : 0.9659   miou : 0.8907\n",
      "Loaded best model weights (epoch 52) from 210606_08:30_checkpoint.pth.tar\n"
     ]
    },
    {
     "name": "stderr",
     "output_type": "stream",
     "text": [
      "100%|██████████| 62/62 [00:06<00:00,  9.19it/s]\n",
      "  0%|          | 0/62 [00:00<?, ?it/s]"
     ]
    },
    {
     "name": "stdout",
     "output_type": "stream",
     "text": [
      "classes           IoU\n",
      "---------------------\n",
      "Pole          : 0.644\n",
      "SignSymbol    : 0.875\n",
      "Bicyclist     : 0.863\n",
      "Pedestrian    : 0.800\n",
      "Building      : 0.955\n",
      "Fence         : 0.927\n",
      "Pavement      : 0.946\n",
      "Road          : 0.981\n",
      "Car           : 0.954\n",
      "Sky           : 0.941\n",
      "Tree          : 0.931\n",
      "---------------------\n",
      "Mean IoU      : 0.892\n",
      "---------------------\n",
      "validataion\n",
      "loss : 0.0751   acc : 0.9673   miou : 0.8924\n",
      "Loaded best model weights (epoch 53) from 210606_08:35_checkpoint.pth.tar\n"
     ]
    },
    {
     "name": "stderr",
     "output_type": "stream",
     "text": [
      "100%|██████████| 62/62 [00:06<00:00,  9.19it/s]\n",
      "  0%|          | 0/62 [00:00<?, ?it/s]"
     ]
    },
    {
     "name": "stdout",
     "output_type": "stream",
     "text": [
      "classes           IoU\n",
      "---------------------\n",
      "Pole          : 0.650\n",
      "SignSymbol    : 0.868\n",
      "Bicyclist     : 0.873\n",
      "Pedestrian    : 0.811\n",
      "Building      : 0.955\n",
      "Fence         : 0.921\n",
      "Pavement      : 0.943\n",
      "Road          : 0.980\n",
      "Car           : 0.954\n",
      "Sky           : 0.938\n",
      "Tree          : 0.927\n",
      "---------------------\n",
      "Mean IoU      : 0.893\n",
      "---------------------\n",
      "validataion\n",
      "loss : 0.0756   acc : 0.9663   miou : 0.8928\n",
      "Loaded best model weights (epoch 54) from 210606_08:41_checkpoint.pth.tar\n"
     ]
    },
    {
     "name": "stderr",
     "output_type": "stream",
     "text": [
      "100%|██████████| 62/62 [00:06<00:00,  9.18it/s]\n",
      "  0%|          | 0/62 [00:00<?, ?it/s]"
     ]
    },
    {
     "name": "stdout",
     "output_type": "stream",
     "text": [
      "classes           IoU\n",
      "---------------------\n",
      "Pole          : 0.630\n",
      "SignSymbol    : 0.864\n",
      "Bicyclist     : 0.857\n",
      "Pedestrian    : 0.804\n",
      "Building      : 0.954\n",
      "Fence         : 0.930\n",
      "Pavement      : 0.943\n",
      "Road          : 0.978\n",
      "Car           : 0.953\n",
      "Sky           : 0.936\n",
      "Tree          : 0.929\n",
      "---------------------\n",
      "Mean IoU      : 0.889\n",
      "---------------------\n",
      "validataion\n",
      "loss : 0.0755   acc : 0.9653   miou : 0.8890\n",
      "Loaded best model weights (epoch 55) from 210606_08:47_checkpoint.pth.tar\n"
     ]
    },
    {
     "name": "stderr",
     "output_type": "stream",
     "text": [
      "100%|██████████| 62/62 [00:06<00:00,  9.21it/s]\n",
      "  0%|          | 0/62 [00:00<?, ?it/s]"
     ]
    },
    {
     "name": "stdout",
     "output_type": "stream",
     "text": [
      "classes           IoU\n",
      "---------------------\n",
      "Pole          : 0.657\n",
      "SignSymbol    : 0.877\n",
      "Bicyclist     : 0.855\n",
      "Pedestrian    : 0.801\n",
      "Building      : 0.955\n",
      "Fence         : 0.924\n",
      "Pavement      : 0.947\n",
      "Road          : 0.980\n",
      "Car           : 0.956\n",
      "Sky           : 0.941\n",
      "Tree          : 0.931\n",
      "---------------------\n",
      "Mean IoU      : 0.893\n",
      "---------------------\n",
      "validataion\n",
      "loss : 0.0750   acc : 0.9671   miou : 0.8929\n",
      "Loaded best model weights (epoch 56) from 210606_08:53_checkpoint.pth.tar\n"
     ]
    },
    {
     "name": "stderr",
     "output_type": "stream",
     "text": [
      "100%|██████████| 62/62 [00:06<00:00,  9.20it/s]\n",
      "  0%|          | 0/62 [00:00<?, ?it/s]"
     ]
    },
    {
     "name": "stdout",
     "output_type": "stream",
     "text": [
      "classes           IoU\n",
      "---------------------\n",
      "Pole          : 0.641\n",
      "SignSymbol    : 0.873\n",
      "Bicyclist     : 0.857\n",
      "Pedestrian    : 0.799\n",
      "Building      : 0.954\n",
      "Fence         : 0.917\n",
      "Pavement      : 0.945\n",
      "Road          : 0.980\n",
      "Car           : 0.952\n",
      "Sky           : 0.940\n",
      "Tree          : 0.931\n",
      "---------------------\n",
      "Mean IoU      : 0.890\n",
      "---------------------\n",
      "validataion\n",
      "loss : 0.0752   acc : 0.9665   miou : 0.8900\n",
      "Loaded best model weights (epoch 57) from 210606_08:59_checkpoint.pth.tar\n"
     ]
    },
    {
     "name": "stderr",
     "output_type": "stream",
     "text": [
      "100%|██████████| 62/62 [00:06<00:00,  9.21it/s]\n",
      "  0%|          | 0/62 [00:00<?, ?it/s]"
     ]
    },
    {
     "name": "stdout",
     "output_type": "stream",
     "text": [
      "classes           IoU\n",
      "---------------------\n",
      "Pole          : 0.663\n",
      "SignSymbol    : 0.873\n",
      "Bicyclist     : 0.868\n",
      "Pedestrian    : 0.806\n",
      "Building      : 0.957\n",
      "Fence         : 0.926\n",
      "Pavement      : 0.946\n",
      "Road          : 0.981\n",
      "Car           : 0.957\n",
      "Sky           : 0.942\n",
      "Tree          : 0.931\n",
      "---------------------\n",
      "Mean IoU      : 0.895\n",
      "---------------------\n",
      "validataion\n",
      "loss : 0.0736   acc : 0.9680   miou : 0.8955\n",
      "Loaded best model weights (epoch 58) from 210606_09:04_checkpoint.pth.tar\n"
     ]
    },
    {
     "name": "stderr",
     "output_type": "stream",
     "text": [
      "100%|██████████| 62/62 [00:06<00:00,  9.14it/s]\n",
      "  0%|          | 0/62 [00:00<?, ?it/s]"
     ]
    },
    {
     "name": "stdout",
     "output_type": "stream",
     "text": [
      "classes           IoU\n",
      "---------------------\n",
      "Pole          : 0.652\n",
      "SignSymbol    : 0.858\n",
      "Bicyclist     : 0.868\n",
      "Pedestrian    : 0.801\n",
      "Building      : 0.953\n",
      "Fence         : 0.914\n",
      "Pavement      : 0.949\n",
      "Road          : 0.983\n",
      "Car           : 0.954\n",
      "Sky           : 0.941\n",
      "Tree          : 0.929\n",
      "---------------------\n",
      "Mean IoU      : 0.891\n",
      "---------------------\n",
      "validataion\n",
      "loss : 0.0745   acc : 0.9668   miou : 0.8910\n",
      "Loaded best model weights (epoch 59) from 210606_09:10_checkpoint.pth.tar\n"
     ]
    },
    {
     "name": "stderr",
     "output_type": "stream",
     "text": [
      "100%|██████████| 62/62 [00:06<00:00,  9.20it/s]\n",
      "  0%|          | 0/62 [00:00<?, ?it/s]"
     ]
    },
    {
     "name": "stdout",
     "output_type": "stream",
     "text": [
      "classes           IoU\n",
      "---------------------\n",
      "Pole          : 0.651\n",
      "SignSymbol    : 0.872\n",
      "Bicyclist     : 0.869\n",
      "Pedestrian    : 0.810\n",
      "Building      : 0.952\n",
      "Fence         : 0.926\n",
      "Pavement      : 0.946\n",
      "Road          : 0.982\n",
      "Car           : 0.954\n",
      "Sky           : 0.943\n",
      "Tree          : 0.931\n",
      "---------------------\n",
      "Mean IoU      : 0.894\n",
      "---------------------\n",
      "validataion\n",
      "loss : 0.0727   acc : 0.9671   miou : 0.8941\n",
      "Loaded best model weights (epoch 60) from 210606_09:16_checkpoint.pth.tar\n"
     ]
    },
    {
     "name": "stderr",
     "output_type": "stream",
     "text": [
      "100%|██████████| 62/62 [00:06<00:00,  9.21it/s]\n",
      "  0%|          | 0/62 [00:00<?, ?it/s]"
     ]
    },
    {
     "name": "stdout",
     "output_type": "stream",
     "text": [
      "classes           IoU\n",
      "---------------------\n",
      "Pole          : 0.640\n",
      "SignSymbol    : 0.869\n",
      "Bicyclist     : 0.866\n",
      "Pedestrian    : 0.814\n",
      "Building      : 0.954\n",
      "Fence         : 0.932\n",
      "Pavement      : 0.944\n",
      "Road          : 0.980\n",
      "Car           : 0.954\n",
      "Sky           : 0.942\n",
      "Tree          : 0.934\n",
      "---------------------\n",
      "Mean IoU      : 0.894\n",
      "---------------------\n",
      "validataion\n",
      "loss : 0.0726   acc : 0.9673   miou : 0.8935\n",
      "Loaded best model weights (epoch 61) from 210606_09:22_checkpoint.pth.tar\n"
     ]
    },
    {
     "name": "stderr",
     "output_type": "stream",
     "text": [
      "100%|██████████| 62/62 [00:06<00:00,  9.20it/s]\n",
      "  0%|          | 0/62 [00:00<?, ?it/s]"
     ]
    },
    {
     "name": "stdout",
     "output_type": "stream",
     "text": [
      "classes           IoU\n",
      "---------------------\n",
      "Pole          : 0.653\n",
      "SignSymbol    : 0.860\n",
      "Bicyclist     : 0.873\n",
      "Pedestrian    : 0.810\n",
      "Building      : 0.956\n",
      "Fence         : 0.930\n",
      "Pavement      : 0.949\n",
      "Road          : 0.981\n",
      "Car           : 0.957\n",
      "Sky           : 0.940\n",
      "Tree          : 0.932\n",
      "---------------------\n",
      "Mean IoU      : 0.895\n",
      "---------------------\n",
      "validataion\n",
      "loss : 0.0724   acc : 0.9677   miou : 0.8946\n",
      "Loaded best model weights (epoch 62) from 210606_09:27_checkpoint.pth.tar\n"
     ]
    },
    {
     "name": "stderr",
     "output_type": "stream",
     "text": [
      "100%|██████████| 62/62 [00:06<00:00,  9.19it/s]\n",
      "  0%|          | 0/62 [00:00<?, ?it/s]"
     ]
    },
    {
     "name": "stdout",
     "output_type": "stream",
     "text": [
      "classes           IoU\n",
      "---------------------\n",
      "Pole          : 0.651\n",
      "SignSymbol    : 0.887\n",
      "Bicyclist     : 0.878\n",
      "Pedestrian    : 0.820\n",
      "Building      : 0.957\n",
      "Fence         : 0.934\n",
      "Pavement      : 0.947\n",
      "Road          : 0.981\n",
      "Car           : 0.957\n",
      "Sky           : 0.942\n",
      "Tree          : 0.932\n",
      "---------------------\n",
      "Mean IoU      : 0.899\n",
      "---------------------\n",
      "validataion\n",
      "loss : 0.0705   acc : 0.9681   miou : 0.8987\n",
      "Loaded best model weights (epoch 63) from 210606_09:33_checkpoint.pth.tar\n"
     ]
    },
    {
     "name": "stderr",
     "output_type": "stream",
     "text": [
      "100%|██████████| 62/62 [00:06<00:00,  9.16it/s]\n",
      "  0%|          | 0/62 [00:00<?, ?it/s]"
     ]
    },
    {
     "name": "stdout",
     "output_type": "stream",
     "text": [
      "classes           IoU\n",
      "---------------------\n",
      "Pole          : 0.655\n",
      "SignSymbol    : 0.885\n",
      "Bicyclist     : 0.873\n",
      "Pedestrian    : 0.832\n",
      "Building      : 0.961\n",
      "Fence         : 0.935\n",
      "Pavement      : 0.951\n",
      "Road          : 0.982\n",
      "Car           : 0.959\n",
      "Sky           : 0.940\n",
      "Tree          : 0.932\n",
      "---------------------\n",
      "Mean IoU      : 0.900\n",
      "---------------------\n",
      "validataion\n",
      "loss : 0.0709   acc : 0.9692   miou : 0.9004\n",
      "Loaded best model weights (epoch 64) from 210606_09:39_checkpoint.pth.tar\n"
     ]
    },
    {
     "name": "stderr",
     "output_type": "stream",
     "text": [
      "100%|██████████| 62/62 [00:06<00:00,  9.18it/s]\n",
      "  0%|          | 0/62 [00:00<?, ?it/s]"
     ]
    },
    {
     "name": "stdout",
     "output_type": "stream",
     "text": [
      "classes           IoU\n",
      "---------------------\n",
      "Pole          : 0.668\n",
      "SignSymbol    : 0.892\n",
      "Bicyclist     : 0.873\n",
      "Pedestrian    : 0.816\n",
      "Building      : 0.958\n",
      "Fence         : 0.941\n",
      "Pavement      : 0.949\n",
      "Road          : 0.982\n",
      "Car           : 0.960\n",
      "Sky           : 0.942\n",
      "Tree          : 0.934\n",
      "---------------------\n",
      "Mean IoU      : 0.901\n",
      "---------------------\n",
      "validataion\n",
      "loss : 0.0701   acc : 0.9694   miou : 0.9013\n",
      "Loaded best model weights (epoch 65) from 210606_09:45_checkpoint.pth.tar\n"
     ]
    },
    {
     "name": "stderr",
     "output_type": "stream",
     "text": [
      "100%|██████████| 62/62 [00:06<00:00,  9.18it/s]\n",
      "  0%|          | 0/62 [00:00<?, ?it/s]"
     ]
    },
    {
     "name": "stdout",
     "output_type": "stream",
     "text": [
      "classes           IoU\n",
      "---------------------\n",
      "Pole          : 0.658\n",
      "SignSymbol    : 0.882\n",
      "Bicyclist     : 0.867\n",
      "Pedestrian    : 0.821\n",
      "Building      : 0.958\n",
      "Fence         : 0.932\n",
      "Pavement      : 0.951\n",
      "Road          : 0.982\n",
      "Car           : 0.957\n",
      "Sky           : 0.942\n",
      "Tree          : 0.934\n",
      "---------------------\n",
      "Mean IoU      : 0.899\n",
      "---------------------\n",
      "validataion\n",
      "loss : 0.0704   acc : 0.9689   miou : 0.8986\n",
      "Loaded best model weights (epoch 66) from 210606_09:51_checkpoint.pth.tar\n"
     ]
    },
    {
     "name": "stderr",
     "output_type": "stream",
     "text": [
      "100%|██████████| 62/62 [00:06<00:00,  9.20it/s]\n",
      "  0%|          | 0/62 [00:00<?, ?it/s]"
     ]
    },
    {
     "name": "stdout",
     "output_type": "stream",
     "text": [
      "classes           IoU\n",
      "---------------------\n",
      "Pole          : 0.669\n",
      "SignSymbol    : 0.880\n",
      "Bicyclist     : 0.871\n",
      "Pedestrian    : 0.813\n",
      "Building      : 0.958\n",
      "Fence         : 0.934\n",
      "Pavement      : 0.951\n",
      "Road          : 0.983\n",
      "Car           : 0.958\n",
      "Sky           : 0.945\n",
      "Tree          : 0.936\n",
      "---------------------\n",
      "Mean IoU      : 0.900\n",
      "---------------------\n",
      "validataion\n",
      "loss : 0.0696   acc : 0.9698   miou : 0.8998\n",
      "Loaded best model weights (epoch 67) from 210606_09:56_checkpoint.pth.tar\n"
     ]
    },
    {
     "name": "stderr",
     "output_type": "stream",
     "text": [
      "100%|██████████| 62/62 [00:06<00:00,  9.19it/s]\n",
      "  0%|          | 0/62 [00:00<?, ?it/s]"
     ]
    },
    {
     "name": "stdout",
     "output_type": "stream",
     "text": [
      "classes           IoU\n",
      "---------------------\n",
      "Pole          : 0.658\n",
      "SignSymbol    : 0.889\n",
      "Bicyclist     : 0.864\n",
      "Pedestrian    : 0.810\n",
      "Building      : 0.958\n",
      "Fence         : 0.934\n",
      "Pavement      : 0.950\n",
      "Road          : 0.980\n",
      "Car           : 0.956\n",
      "Sky           : 0.943\n",
      "Tree          : 0.933\n",
      "---------------------\n",
      "Mean IoU      : 0.898\n",
      "---------------------\n",
      "validataion\n",
      "loss : 0.0697   acc : 0.9686   miou : 0.8978\n",
      "Loaded best model weights (epoch 68) from 210606_10:02_checkpoint.pth.tar\n"
     ]
    },
    {
     "name": "stderr",
     "output_type": "stream",
     "text": [
      "100%|██████████| 62/62 [00:06<00:00,  9.20it/s]\n",
      "  0%|          | 0/62 [00:00<?, ?it/s]"
     ]
    },
    {
     "name": "stdout",
     "output_type": "stream",
     "text": [
      "classes           IoU\n",
      "---------------------\n",
      "Pole          : 0.648\n",
      "SignSymbol    : 0.880\n",
      "Bicyclist     : 0.874\n",
      "Pedestrian    : 0.812\n",
      "Building      : 0.956\n",
      "Fence         : 0.927\n",
      "Pavement      : 0.948\n",
      "Road          : 0.980\n",
      "Car           : 0.954\n",
      "Sky           : 0.942\n",
      "Tree          : 0.933\n",
      "---------------------\n",
      "Mean IoU      : 0.896\n",
      "---------------------\n",
      "validataion\n",
      "loss : 0.0694   acc : 0.9678   miou : 0.8959\n",
      "Loaded best model weights (epoch 69) from 210606_10:08_checkpoint.pth.tar\n"
     ]
    },
    {
     "name": "stderr",
     "output_type": "stream",
     "text": [
      "100%|██████████| 62/62 [00:06<00:00,  9.21it/s]\n",
      "  0%|          | 0/62 [00:00<?, ?it/s]"
     ]
    },
    {
     "name": "stdout",
     "output_type": "stream",
     "text": [
      "classes           IoU\n",
      "---------------------\n",
      "Pole          : 0.660\n",
      "SignSymbol    : 0.883\n",
      "Bicyclist     : 0.879\n",
      "Pedestrian    : 0.819\n",
      "Building      : 0.960\n",
      "Fence         : 0.937\n",
      "Pavement      : 0.953\n",
      "Road          : 0.982\n",
      "Car           : 0.959\n",
      "Sky           : 0.941\n",
      "Tree          : 0.936\n",
      "---------------------\n",
      "Mean IoU      : 0.901\n",
      "---------------------\n",
      "validataion\n",
      "loss : 0.0689   acc : 0.9693   miou : 0.9006\n",
      "Loaded best model weights (epoch 70) from 210606_10:14_checkpoint.pth.tar\n"
     ]
    },
    {
     "name": "stderr",
     "output_type": "stream",
     "text": [
      "100%|██████████| 62/62 [00:06<00:00,  9.20it/s]\n",
      "  0%|          | 0/62 [00:00<?, ?it/s]"
     ]
    },
    {
     "name": "stdout",
     "output_type": "stream",
     "text": [
      "classes           IoU\n",
      "---------------------\n",
      "Pole          : 0.658\n",
      "SignSymbol    : 0.886\n",
      "Bicyclist     : 0.884\n",
      "Pedestrian    : 0.831\n",
      "Building      : 0.959\n",
      "Fence         : 0.936\n",
      "Pavement      : 0.952\n",
      "Road          : 0.982\n",
      "Car           : 0.959\n",
      "Sky           : 0.944\n",
      "Tree          : 0.935\n",
      "---------------------\n",
      "Mean IoU      : 0.902\n",
      "---------------------\n",
      "validataion\n",
      "loss : 0.0679   acc : 0.9698   miou : 0.9024\n",
      "Loaded best model weights (epoch 71) from 210606_10:19_checkpoint.pth.tar\n"
     ]
    },
    {
     "name": "stderr",
     "output_type": "stream",
     "text": [
      "100%|██████████| 62/62 [00:06<00:00,  9.21it/s]\n",
      "  0%|          | 0/62 [00:00<?, ?it/s]"
     ]
    },
    {
     "name": "stdout",
     "output_type": "stream",
     "text": [
      "classes           IoU\n",
      "---------------------\n",
      "Pole          : 0.656\n",
      "SignSymbol    : 0.875\n",
      "Bicyclist     : 0.877\n",
      "Pedestrian    : 0.816\n",
      "Building      : 0.956\n",
      "Fence         : 0.931\n",
      "Pavement      : 0.951\n",
      "Road          : 0.982\n",
      "Car           : 0.958\n",
      "Sky           : 0.944\n",
      "Tree          : 0.936\n",
      "---------------------\n",
      "Mean IoU      : 0.898\n",
      "---------------------\n",
      "validataion\n",
      "loss : 0.0693   acc : 0.9690   miou : 0.8983\n",
      "Loaded best model weights (epoch 72) from 210606_10:25_checkpoint.pth.tar\n"
     ]
    },
    {
     "name": "stderr",
     "output_type": "stream",
     "text": [
      "100%|██████████| 62/62 [00:06<00:00,  9.21it/s]\n",
      "  0%|          | 0/62 [00:00<?, ?it/s]"
     ]
    },
    {
     "name": "stdout",
     "output_type": "stream",
     "text": [
      "classes           IoU\n",
      "---------------------\n",
      "Pole          : 0.666\n",
      "SignSymbol    : 0.890\n",
      "Bicyclist     : 0.870\n",
      "Pedestrian    : 0.817\n",
      "Building      : 0.961\n",
      "Fence         : 0.935\n",
      "Pavement      : 0.950\n",
      "Road          : 0.982\n",
      "Car           : 0.958\n",
      "Sky           : 0.944\n",
      "Tree          : 0.934\n",
      "---------------------\n",
      "Mean IoU      : 0.901\n",
      "---------------------\n",
      "validataion\n",
      "loss : 0.0687   acc : 0.9696   miou : 0.9006\n",
      "Loaded best model weights (epoch 73) from 210606_10:31_checkpoint.pth.tar\n"
     ]
    },
    {
     "name": "stderr",
     "output_type": "stream",
     "text": [
      "100%|██████████| 62/62 [00:06<00:00,  9.21it/s]\n",
      "  0%|          | 0/62 [00:00<?, ?it/s]"
     ]
    },
    {
     "name": "stdout",
     "output_type": "stream",
     "text": [
      "classes           IoU\n",
      "---------------------\n",
      "Pole          : 0.665\n",
      "SignSymbol    : 0.880\n",
      "Bicyclist     : 0.883\n",
      "Pedestrian    : 0.819\n",
      "Building      : 0.957\n",
      "Fence         : 0.931\n",
      "Pavement      : 0.953\n",
      "Road          : 0.984\n",
      "Car           : 0.959\n",
      "Sky           : 0.943\n",
      "Tree          : 0.935\n",
      "---------------------\n",
      "Mean IoU      : 0.901\n",
      "---------------------\n",
      "validataion\n",
      "loss : 0.0680   acc : 0.9693   miou : 0.9009\n",
      "Loaded best model weights (epoch 74) from 210606_10:37_checkpoint.pth.tar\n"
     ]
    },
    {
     "name": "stderr",
     "output_type": "stream",
     "text": [
      "100%|██████████| 62/62 [00:06<00:00,  9.19it/s]\n",
      "  0%|          | 0/62 [00:00<?, ?it/s]"
     ]
    },
    {
     "name": "stdout",
     "output_type": "stream",
     "text": [
      "classes           IoU\n",
      "---------------------\n",
      "Pole          : 0.662\n",
      "SignSymbol    : 0.886\n",
      "Bicyclist     : 0.872\n",
      "Pedestrian    : 0.814\n",
      "Building      : 0.957\n",
      "Fence         : 0.934\n",
      "Pavement      : 0.948\n",
      "Road          : 0.981\n",
      "Car           : 0.957\n",
      "Sky           : 0.939\n",
      "Tree          : 0.933\n",
      "---------------------\n",
      "Mean IoU      : 0.898\n",
      "---------------------\n",
      "validataion\n",
      "loss : 0.0681   acc : 0.9682   miou : 0.8984\n",
      "Loaded best model weights (epoch 75) from 210606_10:43_checkpoint.pth.tar\n"
     ]
    },
    {
     "name": "stderr",
     "output_type": "stream",
     "text": [
      "100%|██████████| 62/62 [00:06<00:00,  9.21it/s]\n",
      "  0%|          | 0/62 [00:00<?, ?it/s]"
     ]
    },
    {
     "name": "stdout",
     "output_type": "stream",
     "text": [
      "classes           IoU\n",
      "---------------------\n",
      "Pole          : 0.661\n",
      "SignSymbol    : 0.896\n",
      "Bicyclist     : 0.883\n",
      "Pedestrian    : 0.829\n",
      "Building      : 0.960\n",
      "Fence         : 0.946\n",
      "Pavement      : 0.950\n",
      "Road          : 0.982\n",
      "Car           : 0.960\n",
      "Sky           : 0.943\n",
      "Tree          : 0.936\n",
      "---------------------\n",
      "Mean IoU      : 0.904\n",
      "---------------------\n",
      "validataion\n",
      "loss : 0.0676   acc : 0.9702   miou : 0.9042\n",
      "Loaded best model weights (epoch 76) from 210606_10:48_checkpoint.pth.tar\n"
     ]
    },
    {
     "name": "stderr",
     "output_type": "stream",
     "text": [
      "100%|██████████| 62/62 [00:06<00:00,  9.19it/s]\n",
      "  0%|          | 0/62 [00:00<?, ?it/s]"
     ]
    },
    {
     "name": "stdout",
     "output_type": "stream",
     "text": [
      "classes           IoU\n",
      "---------------------\n",
      "Pole          : 0.676\n",
      "SignSymbol    : 0.898\n",
      "Bicyclist     : 0.875\n",
      "Pedestrian    : 0.834\n",
      "Building      : 0.962\n",
      "Fence         : 0.933\n",
      "Pavement      : 0.948\n",
      "Road          : 0.981\n",
      "Car           : 0.961\n",
      "Sky           : 0.940\n",
      "Tree          : 0.936\n",
      "---------------------\n",
      "Mean IoU      : 0.904\n",
      "---------------------\n",
      "validataion\n",
      "loss : 0.0670   acc : 0.9698   miou : 0.9040\n",
      "Loaded best model weights (epoch 77) from 210606_10:54_checkpoint.pth.tar\n"
     ]
    },
    {
     "name": "stderr",
     "output_type": "stream",
     "text": [
      "100%|██████████| 62/62 [00:06<00:00,  9.13it/s]\n",
      "  0%|          | 0/62 [00:00<?, ?it/s]"
     ]
    },
    {
     "name": "stdout",
     "output_type": "stream",
     "text": [
      "classes           IoU\n",
      "---------------------\n",
      "Pole          : 0.670\n",
      "SignSymbol    : 0.885\n",
      "Bicyclist     : 0.885\n",
      "Pedestrian    : 0.823\n",
      "Building      : 0.960\n",
      "Fence         : 0.940\n",
      "Pavement      : 0.951\n",
      "Road          : 0.983\n",
      "Car           : 0.961\n",
      "Sky           : 0.942\n",
      "Tree          : 0.936\n",
      "---------------------\n",
      "Mean IoU      : 0.903\n",
      "---------------------\n",
      "validataion\n",
      "loss : 0.0654   acc : 0.9701   miou : 0.9033\n",
      "Loaded best model weights (epoch 78) from 210606_11:00_checkpoint.pth.tar\n"
     ]
    },
    {
     "name": "stderr",
     "output_type": "stream",
     "text": [
      "100%|██████████| 62/62 [00:06<00:00,  9.21it/s]\n",
      "  0%|          | 0/62 [00:00<?, ?it/s]"
     ]
    },
    {
     "name": "stdout",
     "output_type": "stream",
     "text": [
      "classes           IoU\n",
      "---------------------\n",
      "Pole          : 0.680\n",
      "SignSymbol    : 0.889\n",
      "Bicyclist     : 0.879\n",
      "Pedestrian    : 0.833\n",
      "Building      : 0.961\n",
      "Fence         : 0.938\n",
      "Pavement      : 0.954\n",
      "Road          : 0.983\n",
      "Car           : 0.961\n",
      "Sky           : 0.941\n",
      "Tree          : 0.938\n",
      "---------------------\n",
      "Mean IoU      : 0.905\n",
      "---------------------\n",
      "validataion\n",
      "loss : 0.0664   acc : 0.9703   miou : 0.9053\n",
      "Loaded best model weights (epoch 79) from 210606_11:06_checkpoint.pth.tar\n"
     ]
    },
    {
     "name": "stderr",
     "output_type": "stream",
     "text": [
      "100%|██████████| 62/62 [00:06<00:00,  9.21it/s]\n",
      "  0%|          | 0/62 [00:00<?, ?it/s]"
     ]
    },
    {
     "name": "stdout",
     "output_type": "stream",
     "text": [
      "classes           IoU\n",
      "---------------------\n",
      "Pole          : 0.660\n",
      "SignSymbol    : 0.887\n",
      "Bicyclist     : 0.879\n",
      "Pedestrian    : 0.820\n",
      "Building      : 0.962\n",
      "Fence         : 0.944\n",
      "Pavement      : 0.953\n",
      "Road          : 0.983\n",
      "Car           : 0.960\n",
      "Sky           : 0.941\n",
      "Tree          : 0.936\n",
      "---------------------\n",
      "Mean IoU      : 0.902\n",
      "---------------------\n",
      "validataion\n",
      "loss : 0.0656   acc : 0.9699   miou : 0.9023\n",
      "Loaded best model weights (epoch 80) from 210606_11:11_checkpoint.pth.tar\n"
     ]
    },
    {
     "name": "stderr",
     "output_type": "stream",
     "text": [
      "100%|██████████| 62/62 [00:06<00:00,  9.20it/s]\n",
      "  0%|          | 0/62 [00:00<?, ?it/s]"
     ]
    },
    {
     "name": "stdout",
     "output_type": "stream",
     "text": [
      "classes           IoU\n",
      "---------------------\n",
      "Pole          : 0.670\n",
      "SignSymbol    : 0.889\n",
      "Bicyclist     : 0.883\n",
      "Pedestrian    : 0.831\n",
      "Building      : 0.961\n",
      "Fence         : 0.935\n",
      "Pavement      : 0.956\n",
      "Road          : 0.984\n",
      "Car           : 0.961\n",
      "Sky           : 0.944\n",
      "Tree          : 0.938\n",
      "---------------------\n",
      "Mean IoU      : 0.905\n",
      "---------------------\n",
      "validataion\n",
      "loss : 0.0652   acc : 0.9709   miou : 0.9047\n",
      "Loaded best model weights (epoch 81) from 210606_11:17_checkpoint.pth.tar\n"
     ]
    },
    {
     "name": "stderr",
     "output_type": "stream",
     "text": [
      "100%|██████████| 62/62 [00:06<00:00,  9.20it/s]\n",
      "  0%|          | 0/62 [00:00<?, ?it/s]"
     ]
    },
    {
     "name": "stdout",
     "output_type": "stream",
     "text": [
      "classes           IoU\n",
      "---------------------\n",
      "Pole          : 0.664\n",
      "SignSymbol    : 0.893\n",
      "Bicyclist     : 0.885\n",
      "Pedestrian    : 0.819\n",
      "Building      : 0.959\n",
      "Fence         : 0.941\n",
      "Pavement      : 0.954\n",
      "Road          : 0.984\n",
      "Car           : 0.961\n",
      "Sky           : 0.943\n",
      "Tree          : 0.937\n",
      "---------------------\n",
      "Mean IoU      : 0.904\n",
      "---------------------\n",
      "validataion\n",
      "loss : 0.0650   acc : 0.9700   miou : 0.9035\n",
      "Loaded best model weights (epoch 82) from 210606_11:23_checkpoint.pth.tar\n"
     ]
    },
    {
     "name": "stderr",
     "output_type": "stream",
     "text": [
      "100%|██████████| 62/62 [00:06<00:00,  9.19it/s]\n",
      "  0%|          | 0/62 [00:00<?, ?it/s]"
     ]
    },
    {
     "name": "stdout",
     "output_type": "stream",
     "text": [
      "classes           IoU\n",
      "---------------------\n",
      "Pole          : 0.680\n",
      "SignSymbol    : 0.896\n",
      "Bicyclist     : 0.883\n",
      "Pedestrian    : 0.824\n",
      "Building      : 0.961\n",
      "Fence         : 0.931\n",
      "Pavement      : 0.955\n",
      "Road          : 0.983\n",
      "Car           : 0.960\n",
      "Sky           : 0.945\n",
      "Tree          : 0.939\n",
      "---------------------\n",
      "Mean IoU      : 0.905\n",
      "---------------------\n",
      "validataion\n",
      "loss : 0.0642   acc : 0.9711   miou : 0.9051\n",
      "Loaded best model weights (epoch 83) from 210606_11:29_checkpoint.pth.tar\n"
     ]
    },
    {
     "name": "stderr",
     "output_type": "stream",
     "text": [
      "100%|██████████| 62/62 [00:06<00:00,  9.19it/s]\n",
      "  0%|          | 0/62 [00:00<?, ?it/s]"
     ]
    },
    {
     "name": "stdout",
     "output_type": "stream",
     "text": [
      "classes           IoU\n",
      "---------------------\n",
      "Pole          : 0.681\n",
      "SignSymbol    : 0.891\n",
      "Bicyclist     : 0.883\n",
      "Pedestrian    : 0.834\n",
      "Building      : 0.962\n",
      "Fence         : 0.943\n",
      "Pavement      : 0.953\n",
      "Road          : 0.983\n",
      "Car           : 0.960\n",
      "Sky           : 0.942\n",
      "Tree          : 0.938\n",
      "---------------------\n",
      "Mean IoU      : 0.906\n",
      "---------------------\n",
      "validataion\n",
      "loss : 0.0648   acc : 0.9708   miou : 0.9063\n",
      "Loaded best model weights (epoch 84) from 210606_11:35_checkpoint.pth.tar\n"
     ]
    },
    {
     "name": "stderr",
     "output_type": "stream",
     "text": [
      "100%|██████████| 62/62 [00:06<00:00,  9.20it/s]\n",
      "  0%|          | 0/62 [00:00<?, ?it/s]"
     ]
    },
    {
     "name": "stdout",
     "output_type": "stream",
     "text": [
      "classes           IoU\n",
      "---------------------\n",
      "Pole          : 0.667\n",
      "SignSymbol    : 0.890\n",
      "Bicyclist     : 0.884\n",
      "Pedestrian    : 0.833\n",
      "Building      : 0.959\n",
      "Fence         : 0.940\n",
      "Pavement      : 0.954\n",
      "Road          : 0.983\n",
      "Car           : 0.959\n",
      "Sky           : 0.943\n",
      "Tree          : 0.938\n",
      "---------------------\n",
      "Mean IoU      : 0.905\n",
      "---------------------\n",
      "validataion\n",
      "loss : 0.0650   acc : 0.9702   miou : 0.9046\n",
      "Loaded best model weights (epoch 85) from 210606_11:40_checkpoint.pth.tar\n"
     ]
    },
    {
     "name": "stderr",
     "output_type": "stream",
     "text": [
      "100%|██████████| 62/62 [00:06<00:00,  9.20it/s]\n",
      "  0%|          | 0/62 [00:00<?, ?it/s]"
     ]
    },
    {
     "name": "stdout",
     "output_type": "stream",
     "text": [
      "classes           IoU\n",
      "---------------------\n",
      "Pole          : 0.676\n",
      "SignSymbol    : 0.891\n",
      "Bicyclist     : 0.875\n",
      "Pedestrian    : 0.823\n",
      "Building      : 0.960\n",
      "Fence         : 0.936\n",
      "Pavement      : 0.948\n",
      "Road          : 0.982\n",
      "Car           : 0.962\n",
      "Sky           : 0.943\n",
      "Tree          : 0.937\n",
      "---------------------\n",
      "Mean IoU      : 0.903\n",
      "---------------------\n",
      "validataion\n",
      "loss : 0.0648   acc : 0.9700   miou : 0.9030\n",
      "Loaded best model weights (epoch 86) from 210606_11:46_checkpoint.pth.tar\n"
     ]
    },
    {
     "name": "stderr",
     "output_type": "stream",
     "text": [
      "100%|██████████| 62/62 [00:06<00:00,  9.20it/s]\n",
      "  0%|          | 0/62 [00:00<?, ?it/s]"
     ]
    },
    {
     "name": "stdout",
     "output_type": "stream",
     "text": [
      "classes           IoU\n",
      "---------------------\n",
      "Pole          : 0.684\n",
      "SignSymbol    : 0.894\n",
      "Bicyclist     : 0.888\n",
      "Pedestrian    : 0.826\n",
      "Building      : 0.963\n",
      "Fence         : 0.935\n",
      "Pavement      : 0.953\n",
      "Road          : 0.982\n",
      "Car           : 0.962\n",
      "Sky           : 0.942\n",
      "Tree          : 0.939\n",
      "---------------------\n",
      "Mean IoU      : 0.906\n",
      "---------------------\n",
      "validataion\n",
      "loss : 0.0634   acc : 0.9710   miou : 0.9062\n",
      "Loaded best model weights (epoch 87) from 210606_11:52_checkpoint.pth.tar\n"
     ]
    },
    {
     "name": "stderr",
     "output_type": "stream",
     "text": [
      "100%|██████████| 62/62 [00:06<00:00,  9.19it/s]\n",
      "  0%|          | 0/62 [00:00<?, ?it/s]"
     ]
    },
    {
     "name": "stdout",
     "output_type": "stream",
     "text": [
      "classes           IoU\n",
      "---------------------\n",
      "Pole          : 0.682\n",
      "SignSymbol    : 0.890\n",
      "Bicyclist     : 0.886\n",
      "Pedestrian    : 0.840\n",
      "Building      : 0.960\n",
      "Fence         : 0.937\n",
      "Pavement      : 0.956\n",
      "Road          : 0.984\n",
      "Car           : 0.961\n",
      "Sky           : 0.945\n",
      "Tree          : 0.938\n",
      "---------------------\n",
      "Mean IoU      : 0.907\n",
      "---------------------\n",
      "validataion\n",
      "loss : 0.0643   acc : 0.9712   miou : 0.9073\n",
      "Loaded best model weights (epoch 88) from 210606_11:58_checkpoint.pth.tar\n"
     ]
    },
    {
     "name": "stderr",
     "output_type": "stream",
     "text": [
      "100%|██████████| 62/62 [00:06<00:00,  9.20it/s]\n",
      "  0%|          | 0/62 [00:00<?, ?it/s]"
     ]
    },
    {
     "name": "stdout",
     "output_type": "stream",
     "text": [
      "classes           IoU\n",
      "---------------------\n",
      "Pole          : 0.674\n",
      "SignSymbol    : 0.893\n",
      "Bicyclist     : 0.883\n",
      "Pedestrian    : 0.824\n",
      "Building      : 0.962\n",
      "Fence         : 0.938\n",
      "Pavement      : 0.956\n",
      "Road          : 0.983\n",
      "Car           : 0.960\n",
      "Sky           : 0.941\n",
      "Tree          : 0.939\n",
      "---------------------\n",
      "Mean IoU      : 0.905\n",
      "---------------------\n",
      "validataion\n",
      "loss : 0.0634   acc : 0.9707   miou : 0.9048\n",
      "Loaded best model weights (epoch 89) from 210606_12:03_checkpoint.pth.tar\n"
     ]
    },
    {
     "name": "stderr",
     "output_type": "stream",
     "text": [
      "100%|██████████| 62/62 [00:06<00:00,  9.18it/s]\n",
      "  0%|          | 0/62 [00:00<?, ?it/s]"
     ]
    },
    {
     "name": "stdout",
     "output_type": "stream",
     "text": [
      "classes           IoU\n",
      "---------------------\n",
      "Pole          : 0.676\n",
      "SignSymbol    : 0.892\n",
      "Bicyclist     : 0.887\n",
      "Pedestrian    : 0.830\n",
      "Building      : 0.962\n",
      "Fence         : 0.948\n",
      "Pavement      : 0.955\n",
      "Road          : 0.984\n",
      "Car           : 0.961\n",
      "Sky           : 0.942\n",
      "Tree          : 0.939\n",
      "---------------------\n",
      "Mean IoU      : 0.907\n",
      "---------------------\n",
      "validataion\n",
      "loss : 0.0625   acc : 0.9713   miou : 0.9069\n",
      "Loaded best model weights (epoch 90) from 210606_12:09_checkpoint.pth.tar\n"
     ]
    },
    {
     "name": "stderr",
     "output_type": "stream",
     "text": [
      "100%|██████████| 62/62 [00:06<00:00,  9.21it/s]\n",
      "  0%|          | 0/62 [00:00<?, ?it/s]"
     ]
    },
    {
     "name": "stdout",
     "output_type": "stream",
     "text": [
      "classes           IoU\n",
      "---------------------\n",
      "Pole          : 0.683\n",
      "SignSymbol    : 0.894\n",
      "Bicyclist     : 0.892\n",
      "Pedestrian    : 0.842\n",
      "Building      : 0.962\n",
      "Fence         : 0.939\n",
      "Pavement      : 0.951\n",
      "Road          : 0.984\n",
      "Car           : 0.963\n",
      "Sky           : 0.944\n",
      "Tree          : 0.939\n",
      "---------------------\n",
      "Mean IoU      : 0.909\n",
      "---------------------\n",
      "validataion\n",
      "loss : 0.0631   acc : 0.9714   miou : 0.9085\n",
      "Loaded best model weights (epoch 91) from 210606_12:15_checkpoint.pth.tar\n"
     ]
    },
    {
     "name": "stderr",
     "output_type": "stream",
     "text": [
      "100%|██████████| 62/62 [00:06<00:00,  9.21it/s]\n",
      "  0%|          | 0/62 [00:00<?, ?it/s]"
     ]
    },
    {
     "name": "stdout",
     "output_type": "stream",
     "text": [
      "classes           IoU\n",
      "---------------------\n",
      "Pole          : 0.688\n",
      "SignSymbol    : 0.890\n",
      "Bicyclist     : 0.885\n",
      "Pedestrian    : 0.836\n",
      "Building      : 0.965\n",
      "Fence         : 0.944\n",
      "Pavement      : 0.957\n",
      "Road          : 0.984\n",
      "Car           : 0.964\n",
      "Sky           : 0.945\n",
      "Tree          : 0.942\n",
      "---------------------\n",
      "Mean IoU      : 0.909\n",
      "---------------------\n",
      "validataion\n",
      "loss : 0.0629   acc : 0.9725   miou : 0.9090\n",
      "Loaded best model weights (epoch 92) from 210606_12:21_checkpoint.pth.tar\n"
     ]
    },
    {
     "name": "stderr",
     "output_type": "stream",
     "text": [
      "100%|██████████| 62/62 [00:06<00:00,  9.21it/s]\n",
      "  0%|          | 0/62 [00:00<?, ?it/s]"
     ]
    },
    {
     "name": "stdout",
     "output_type": "stream",
     "text": [
      "classes           IoU\n",
      "---------------------\n",
      "Pole          : 0.673\n",
      "SignSymbol    : 0.896\n",
      "Bicyclist     : 0.883\n",
      "Pedestrian    : 0.822\n",
      "Building      : 0.962\n",
      "Fence         : 0.935\n",
      "Pavement      : 0.955\n",
      "Road          : 0.983\n",
      "Car           : 0.961\n",
      "Sky           : 0.944\n",
      "Tree          : 0.939\n",
      "---------------------\n",
      "Mean IoU      : 0.905\n",
      "---------------------\n",
      "validataion\n",
      "loss : 0.0629   acc : 0.9710   miou : 0.9050\n",
      "Loaded best model weights (epoch 93) from 210606_12:27_checkpoint.pth.tar\n"
     ]
    },
    {
     "name": "stderr",
     "output_type": "stream",
     "text": [
      "100%|██████████| 62/62 [00:06<00:00,  9.21it/s]\n",
      "  0%|          | 0/62 [00:00<?, ?it/s]"
     ]
    },
    {
     "name": "stdout",
     "output_type": "stream",
     "text": [
      "classes           IoU\n",
      "---------------------\n",
      "Pole          : 0.682\n",
      "SignSymbol    : 0.897\n",
      "Bicyclist     : 0.887\n",
      "Pedestrian    : 0.827\n",
      "Building      : 0.963\n",
      "Fence         : 0.944\n",
      "Pavement      : 0.955\n",
      "Road          : 0.984\n",
      "Car           : 0.964\n",
      "Sky           : 0.944\n",
      "Tree          : 0.941\n",
      "---------------------\n",
      "Mean IoU      : 0.908\n",
      "---------------------\n",
      "validataion\n",
      "loss : 0.0625   acc : 0.9718   miou : 0.9080\n",
      "Loaded best model weights (epoch 94) from 210606_12:32_checkpoint.pth.tar\n"
     ]
    },
    {
     "name": "stderr",
     "output_type": "stream",
     "text": [
      "100%|██████████| 62/62 [00:06<00:00,  9.20it/s]\n",
      "  0%|          | 0/62 [00:00<?, ?it/s]"
     ]
    },
    {
     "name": "stdout",
     "output_type": "stream",
     "text": [
      "classes           IoU\n",
      "---------------------\n",
      "Pole          : 0.685\n",
      "SignSymbol    : 0.895\n",
      "Bicyclist     : 0.887\n",
      "Pedestrian    : 0.832\n",
      "Building      : 0.964\n",
      "Fence         : 0.942\n",
      "Pavement      : 0.952\n",
      "Road          : 0.982\n",
      "Car           : 0.962\n",
      "Sky           : 0.943\n",
      "Tree          : 0.941\n",
      "---------------------\n",
      "Mean IoU      : 0.908\n",
      "---------------------\n",
      "validataion\n",
      "loss : 0.0621   acc : 0.9715   miou : 0.9076\n",
      "Loaded best model weights (epoch 95) from 210606_12:38_checkpoint.pth.tar\n"
     ]
    },
    {
     "name": "stderr",
     "output_type": "stream",
     "text": [
      "100%|██████████| 62/62 [00:06<00:00,  9.20it/s]\n",
      "  0%|          | 0/62 [00:00<?, ?it/s]"
     ]
    },
    {
     "name": "stdout",
     "output_type": "stream",
     "text": [
      "classes           IoU\n",
      "---------------------\n",
      "Pole          : 0.688\n",
      "SignSymbol    : 0.893\n",
      "Bicyclist     : 0.885\n",
      "Pedestrian    : 0.824\n",
      "Building      : 0.964\n",
      "Fence         : 0.938\n",
      "Pavement      : 0.952\n",
      "Road          : 0.983\n",
      "Car           : 0.963\n",
      "Sky           : 0.944\n",
      "Tree          : 0.942\n",
      "---------------------\n",
      "Mean IoU      : 0.907\n",
      "---------------------\n",
      "validataion\n",
      "loss : 0.0621   acc : 0.9718   miou : 0.9070\n",
      "Loaded best model weights (epoch 96) from 210606_12:44_checkpoint.pth.tar\n"
     ]
    },
    {
     "name": "stderr",
     "output_type": "stream",
     "text": [
      "100%|██████████| 62/62 [00:06<00:00,  9.13it/s]\n",
      "  0%|          | 0/62 [00:00<?, ?it/s]"
     ]
    },
    {
     "name": "stdout",
     "output_type": "stream",
     "text": [
      "classes           IoU\n",
      "---------------------\n",
      "Pole          : 0.673\n",
      "SignSymbol    : 0.889\n",
      "Bicyclist     : 0.888\n",
      "Pedestrian    : 0.839\n",
      "Building      : 0.962\n",
      "Fence         : 0.944\n",
      "Pavement      : 0.956\n",
      "Road          : 0.984\n",
      "Car           : 0.963\n",
      "Sky           : 0.944\n",
      "Tree          : 0.940\n",
      "---------------------\n",
      "Mean IoU      : 0.908\n",
      "---------------------\n",
      "validataion\n",
      "loss : 0.0623   acc : 0.9716   miou : 0.9076\n",
      "Loaded best model weights (epoch 97) from 210606_12:50_checkpoint.pth.tar\n"
     ]
    },
    {
     "name": "stderr",
     "output_type": "stream",
     "text": [
      "100%|██████████| 62/62 [00:06<00:00,  9.19it/s]\n",
      "  0%|          | 0/62 [00:00<?, ?it/s]"
     ]
    },
    {
     "name": "stdout",
     "output_type": "stream",
     "text": [
      "classes           IoU\n",
      "---------------------\n",
      "Pole          : 0.693\n",
      "SignSymbol    : 0.892\n",
      "Bicyclist     : 0.890\n",
      "Pedestrian    : 0.838\n",
      "Building      : 0.963\n",
      "Fence         : 0.945\n",
      "Pavement      : 0.956\n",
      "Road          : 0.983\n",
      "Car           : 0.964\n",
      "Sky           : 0.944\n",
      "Tree          : 0.942\n",
      "---------------------\n",
      "Mean IoU      : 0.910\n",
      "---------------------\n",
      "validataion\n",
      "loss : 0.0610   acc : 0.9719   miou : 0.9099\n",
      "Loaded best model weights (epoch 98) from 210606_12:55_checkpoint.pth.tar\n"
     ]
    },
    {
     "name": "stderr",
     "output_type": "stream",
     "text": [
      "100%|██████████| 62/62 [00:06<00:00,  9.19it/s]\n",
      "  0%|          | 0/62 [00:00<?, ?it/s]"
     ]
    },
    {
     "name": "stdout",
     "output_type": "stream",
     "text": [
      "classes           IoU\n",
      "---------------------\n",
      "Pole          : 0.674\n",
      "SignSymbol    : 0.890\n",
      "Bicyclist     : 0.887\n",
      "Pedestrian    : 0.836\n",
      "Building      : 0.962\n",
      "Fence         : 0.942\n",
      "Pavement      : 0.957\n",
      "Road          : 0.986\n",
      "Car           : 0.964\n",
      "Sky           : 0.944\n",
      "Tree          : 0.941\n",
      "---------------------\n",
      "Mean IoU      : 0.907\n",
      "---------------------\n",
      "validataion\n",
      "loss : 0.0614   acc : 0.9719   miou : 0.9073\n",
      "Loaded best model weights (epoch 99) from 210606_13:01_checkpoint.pth.tar\n"
     ]
    },
    {
     "name": "stderr",
     "output_type": "stream",
     "text": [
      "100%|██████████| 62/62 [00:06<00:00,  9.18it/s]\n",
      "  0%|          | 0/62 [00:00<?, ?it/s]"
     ]
    },
    {
     "name": "stdout",
     "output_type": "stream",
     "text": [
      "classes           IoU\n",
      "---------------------\n",
      "Pole          : 0.684\n",
      "SignSymbol    : 0.891\n",
      "Bicyclist     : 0.890\n",
      "Pedestrian    : 0.838\n",
      "Building      : 0.963\n",
      "Fence         : 0.942\n",
      "Pavement      : 0.957\n",
      "Road          : 0.985\n",
      "Car           : 0.963\n",
      "Sky           : 0.946\n",
      "Tree          : 0.942\n",
      "---------------------\n",
      "Mean IoU      : 0.909\n",
      "---------------------\n",
      "validataion\n",
      "loss : 0.0611   acc : 0.9726   miou : 0.9093\n",
      "Loaded best model weights (epoch 100) from 210606_13:07_checkpoint.pth.tar\n"
     ]
    },
    {
     "name": "stderr",
     "output_type": "stream",
     "text": [
      "100%|██████████| 62/62 [00:06<00:00,  9.18it/s]"
     ]
    },
    {
     "name": "stdout",
     "output_type": "stream",
     "text": [
      "classes           IoU\n",
      "---------------------\n",
      "Pole          : 0.677\n",
      "SignSymbol    : 0.898\n",
      "Bicyclist     : 0.891\n",
      "Pedestrian    : 0.830\n",
      "Building      : 0.962\n",
      "Fence         : 0.946\n",
      "Pavement      : 0.953\n",
      "Road          : 0.983\n",
      "Car           : 0.963\n",
      "Sky           : 0.944\n",
      "Tree          : 0.941\n",
      "---------------------\n",
      "Mean IoU      : 0.908\n",
      "---------------------\n",
      "validataion\n",
      "loss : 0.0608   acc : 0.9713   miou : 0.9079\n"
     ]
    },
    {
     "name": "stderr",
     "output_type": "stream",
     "text": [
      "\n"
     ]
    }
   ],
   "source": [
    "for i, file in enumerate(result):\n",
    "\n",
    "    checkpoint = torch.load(save_path + file) \n",
    "    model.load_state_dict(checkpoint['model_state_dict'], strict=True)\n",
    "    print('Loaded best model weights (epoch {}) from {}'.format(checkpoint['epoch'], file))\n",
    "\n",
    "    model.eval()\n",
    "\n",
    "    loss_running = AverageMeter('Loss', ':.4e')\n",
    "    acc_running = AverageMeter('Accuracy', ':.3f')\n",
    "    iou = iouCalc(classLabels, validClasses, voidClass = 11)\n",
    "\n",
    "    batch_loss = 0.0\n",
    "    for batch, (x, y) in enumerate(tqdm(val_data, total=len(val_data))):\n",
    "\n",
    "        x = x.to(device)\n",
    "        y = y.to(device)\n",
    "\n",
    "        # forward\n",
    "        outputs = model(x)\n",
    "        outputs = outputs['out']\n",
    "\n",
    "        preds = torch.argmax(outputs, 1)\n",
    "\n",
    "        # cross-entropy loss\n",
    "        loss = criterion(outputs, y)\n",
    "\n",
    "        # Statistics\n",
    "        bs = x.size(0)\n",
    "        loss = loss.item()\n",
    "        loss_running.update(loss, bs)\n",
    "        corrects = torch.sum((preds == y) & (y != 12))\n",
    "\n",
    "        nvoid = int((y==12).sum())\n",
    "        acc = corrects.double()/(bs*res-nvoid)\n",
    "        acc_running.update(acc, bs)\n",
    "\n",
    "        # Calculate IoU scores of current batch\n",
    "        iou.evaluateBatch(preds, y)\n",
    "\n",
    "    miou = iou.outputScores()\n",
    "\n",
    "\n",
    "    with open(save_path + 'val_log_epoch.csv', 'a') as epoch_log:\n",
    "        epoch_log.write('{}, {}, {:.5f}, {:.5f}, {:.5f}\\n'.format(\n",
    "                i+1, file, loss_running.avg, acc_running.avg, miou))\n",
    "\n",
    "    print('validataion')\n",
    "    print('loss : {:.4f}   acc : {:.4f}   miou : {:.4f}'.format(loss_running.avg, acc_running.avg, miou))"
   ]
  },
  {
   "cell_type": "code",
   "execution_count": 25,
   "id": "80330e66",
   "metadata": {
    "scrolled": false
   },
   "outputs": [
    {
     "data": {
      "image/png": "[encoded data removed]",
      "text/plain": [
       "<Figure size 1440x360 with 1 Axes>"
      ]
     },
     "metadata": {
      "needs_background": "light"
     },
     "output_type": "display_data"
    }
   ],
   "source": [
    "log_epoch = pd.read_csv('result/' + filename + '/val_log_epoch.csv', names = ['epoch', 'file_name', 'loss', 'accuracy', 'miou'])\n",
    "\n",
    "plt.figure(figsize=(20, 5))\n",
    "plt.plot(log_epoch['epoch'], log_epoch['miou'], label = 'miou')\n",
    "plt.plot(log_epoch['epoch'], log_epoch['accuracy'], label = 'baccuracy')\n",
    "plt.plot(log_epoch['epoch'], log_epoch['loss'], label = 'loss')\n",
    "plt.xticks([i for i in range(1, log_epoch.shape[0]+1)])\n",
    "plt.title(\"DeepLab V3 resnet50\")\n",
    "plt.xlabel(\"epoch\")\n",
    "plt.ylabel(\"\")\n",
    "plt.legend()\n",
    "plt.show()"
   ]
  },
  {
   "cell_type": "code",
   "execution_count": 26,
   "id": "0aa10ce2",
   "metadata": {},
   "outputs": [
    {
     "data": {
      "image/png": "[encoded data removed]",
      "text/plain": [
       "<Figure size 1080x360 with 1 Axes>"
      ]
     },
     "metadata": {
      "needs_background": "light"
     },
     "output_type": "display_data"
    }
   ],
   "source": [
    "train_log_epoch = pd.read_csv('result/' + filename + '/train_log_epoch.csv', names = ['epoch', 'loss', 'accuracy', 'miou'])\n",
    "val_log_epoch = pd.read_csv('result/' + filename + '/val_log_epoch.csv', names = ['epoch', 'file_name', 'loss', 'accuracy', 'miou'])\n",
    "\n",
    "plt.figure(figsize=(15, 5))\n",
    "plt.plot(train_log_epoch['epoch'], train_log_epoch['miou'], label = 'train_miou')\n",
    "plt.plot(train_log_epoch['epoch'], train_log_epoch['accuracy'], label = 'train_accuracy')\n",
    "plt.plot(val_log_epoch['epoch'], val_log_epoch['miou'], label = 'val_miou')\n",
    "plt.plot(val_log_epoch['epoch'], val_log_epoch['accuracy'], label = 'val_accuracy')\n",
    "plt.xticks([i for i in range(1, train_log_epoch.shape[0]+1)])\n",
    "plt.title(\"train / validation\")\n",
    "plt.xlabel(\"epoch\")\n",
    "plt.ylabel(\"\")\n",
    "plt.legend()\n",
    "plt.show()"
   ]
  },
  {
   "cell_type": "markdown",
   "id": "99899f98",
   "metadata": {},
   "source": [
    "## test"
   ]
  },
  {
   "cell_type": "code",
   "execution_count": 27,
   "id": "cf16deac",
   "metadata": {},
   "outputs": [],
   "source": [
    "X = torch.tensor(test_x, dtype=torch.float32)\n",
    "Y = torch.tensor(test_y, dtype=torch.long)\n",
    "\n",
    "data = torch.utils.data.TensorDataset(X.permute(dims=(0, 3, 1, 2)), Y)\n",
    "\n",
    "test_data = torch.utils.data.DataLoader(data, batch_size=1, shuffle=True)"
   ]
  },
  {
   "cell_type": "code",
   "execution_count": 28,
   "id": "2c9aa283",
   "metadata": {},
   "outputs": [],
   "source": [
    "# Load best model\n",
    "\n",
    "save_path = os.getcwd() + '/result/' + filename + '/'\n",
    "result = [file for file in sorted(os.listdir(save_path), reverse=True) if file[13:] == 'checkpoint.pth.tar' ]"
   ]
  },
  {
   "cell_type": "code",
   "execution_count": 29,
   "id": "8566a0dd",
   "metadata": {},
   "outputs": [],
   "source": [
    "bestmodel = result[0] # 최신모델"
   ]
  },
  {
   "cell_type": "code",
   "execution_count": 30,
   "id": "9663c328",
   "metadata": {},
   "outputs": [
    {
     "name": "stdout",
     "output_type": "stream",
     "text": [
      "Loaded best model weights (epoch 100) from 06_resnet_50210606_13:07_checkpoint.pth.tar\n"
     ]
    }
   ],
   "source": [
    "checkpoint = torch.load(save_path + bestmodel) # 가장 최신 best_weights 파일 가져옴\n",
    "model.load_state_dict(checkpoint['model_state_dict'], strict=True)\n",
    "print('Loaded best model weights (epoch {}) from {}'.format(checkpoint['epoch'], filename + bestmodel))"
   ]
  },
  {
   "cell_type": "code",
   "execution_count": 31,
   "id": "5600d06f",
   "metadata": {},
   "outputs": [
    {
     "name": "stderr",
     "output_type": "stream",
     "text": [
      "100%|██████████| 141/141 [00:15<00:00,  9.39it/s]"
     ]
    },
    {
     "name": "stdout",
     "output_type": "stream",
     "text": [
      "classes           IoU\n",
      "---------------------\n",
      "Pole          : 0.501\n",
      "SignSymbol    : 0.664\n",
      "Bicyclist     : 0.811\n",
      "Pedestrian    : 0.709\n",
      "Building      : 0.922\n",
      "Fence         : 0.774\n",
      "Pavement      : 0.874\n",
      "Road          : 0.973\n",
      "Car           : 0.904\n",
      "Sky           : 0.931\n",
      "Tree          : 0.848\n",
      "---------------------\n",
      "Mean IoU      : 0.810\n",
      "---------------------\n",
      "loss : 0.6782 acc : 0.9382 miou : 0.8102\n"
     ]
    },
    {
     "name": "stderr",
     "output_type": "stream",
     "text": [
      "\n"
     ]
    }
   ],
   "source": [
    "batch_time = AverageMeter('Time', ':6.3f')\n",
    "data_time = AverageMeter('Data', ':6.3f')\n",
    "loss_running = AverageMeter('Loss', ':.4e')\n",
    "acc_running = AverageMeter('Accuracy', ':.3f')  \n",
    "iou = iouCalc(classLabels, validClasses, voidClass = 11)\n",
    "progress = ProgressMeter(\n",
    "    len(test_data),\n",
    "    [batch_time, data_time],\n",
    "    prefix='Predict: ')\n",
    "\n",
    "model.eval()\n",
    "\n",
    "batch_loss = 0.0\n",
    "for batch, (x, y) in enumerate(tqdm(test_data, total=len(test_data))):\n",
    "\n",
    "    x = x.to(device)\n",
    "    y = y.to(device)\n",
    "\n",
    "    # forward\n",
    "    outputs = model(x)\n",
    "    outputs = outputs['out']\n",
    "\n",
    "    preds = torch.argmax(outputs, 1)\n",
    "\n",
    "    # cross-entropy loss\n",
    "    loss = criterion(outputs, y)\n",
    "\n",
    "    # Statistics\n",
    "    bs = x.size(0)\n",
    "    loss = loss.item()\n",
    "    loss_running.update(loss, bs)\n",
    "    corrects = torch.sum((preds == y) & (y != 12))\n",
    "\n",
    "    nvoid = int((y==12).sum())\n",
    "    acc = corrects.double()/(bs*res-nvoid)\n",
    "    acc_running.update(acc, bs)\n",
    "\n",
    "    # Calculate IoU scores of current batch\n",
    "    iou.evaluateBatch(preds, y)\n",
    "\n",
    "miou = iou.outputScores()\n",
    "scheduler.step(loss_running.avg)\n",
    "\n",
    "print('loss : {:.4f} acc : {:.4f} miou : {:.4f}'.format(loss_running.avg, acc_running.avg, miou))"
   ]
  },
  {
   "cell_type": "code",
   "execution_count": null,
   "id": "14d86a1f",
   "metadata": {},
   "outputs": [],
   "source": []
  }
 ],
 "metadata": {
  "kernelspec": {
   "display_name": "venv_cap",
   "language": "python",
   "name": "venv_cap"
  },
  "language_info": {
   "codemirror_mode": {
    "name": "ipython",
    "version": 3
   },
   "file_extension": ".py",
   "mimetype": "text/x-python",
   "name": "python",
   "nbconvert_exporter": "python",
   "pygments_lexer": "ipython3",
   "version": "3.7.5"
  }
 },
 "nbformat": 4,
 "nbformat_minor": 5
}
