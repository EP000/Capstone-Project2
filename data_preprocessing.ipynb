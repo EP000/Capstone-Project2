{
 "cells": [
  {
   "cell_type": "code",
   "execution_count": 1,
   "metadata": {},
   "outputs": [],
   "source": [
    "import os\n",
    "import time\n",
    "import datetime\n",
    "import warnings\n",
    "import random\n",
    "from tqdm import tqdm\n",
    "\n",
    "import numpy as np\n",
    "from PIL import Image\n",
    "import torch\n",
    "import torchvision\n",
    "import torchvision.transforms.functional as TF\n",
    "\n",
    "from labels import labels"
   ]
  },
  {
   "cell_type": "code",
   "execution_count": 2,
   "metadata": {},
   "outputs": [],
   "source": [
    "# 데이터 경로\n",
    "\n",
    "origin_data_path = os.getcwd() + '/data/Original_data/'\n",
    "labeled_data_path = os.getcwd() + '/data/Labeled_data/'\n",
    "\n",
    "origin_data_list = os.listdir(origin_data_path) # x\n",
    "labeled_data_list = os.listdir(labeled_data_path) # y\n",
    "\n",
    "# 순서 랜덤하게 섞기\n",
    "random.shuffle(origin_data_list)\n",
    "random.shuffle(labeled_data_list)\n",
    "\n",
    "# 학습용: 70%, 검증용: 10%, 테스트용 20% 분할  --> {train, val, test}_{x,y}_file: file명 저장 490, 70, 140\n",
    "train_x_file = origin_data_list[:int(len(origin_data_list)*0.7)]\n",
    "train_y_file = [file_name[:-4] + '_L.png' for file_name in train_x_file]\n",
    "\n",
    "val_x_file = [file_name for file_name in origin_data_list if file_name not in train_x_file][:int(len(origin_data_list)*0.1)]\n",
    "val_y_file = [file_name[:-4] + '_L.png' for file_name in val_x_file]\n",
    "\n",
    "test_x_file = [file_name for file_name in origin_data_list if file_name not in (train_x_file + val_x_file)]\n",
    "test_y_file = [file_name[:-4] + '_L.png' for file_name in test_x_file]"
   ]
  },
  {
   "cell_type": "code",
   "execution_count": 3,
   "metadata": {},
   "outputs": [],
   "source": [
    "# color to label catId\n",
    "color2label = { label.color   : label.id for label in labels}"
   ]
  },
  {
   "cell_type": "code",
   "execution_count": 4,
   "metadata": {},
   "outputs": [
    {
     "name": "stderr",
     "output_type": "stream",
     "text": [
      "100%|████████████████████████████████████████████████████████████████████████████████| 490/490 [31:53<00:00,  3.90s/it]\n"
     ]
    }
   ],
   "source": [
    "train_y = []\n",
    "for file_name in tqdm(train_y_file):\n",
    "    image = np.array(Image.open(labeled_data_path + file_name))\n",
    "    ret = [[color2label[tuple([r[0], r[1], r[2]])] \n",
    "            if tuple([r[0], r[1], r[2]]) in color2label else 11\n",
    "            for r in row] \n",
    "           for row in image]\n",
    "    train_y.append(ret)"
   ]
  },
  {
   "cell_type": "code",
   "execution_count": 5,
   "metadata": {},
   "outputs": [
    {
     "name": "stderr",
     "output_type": "stream",
     "text": [
      "100%|██████████████████████████████████████████████████████████████████████████████████| 70/70 [04:29<00:00,  3.85s/it]\n"
     ]
    }
   ],
   "source": [
    "val_y = []\n",
    "for file_name in tqdm(val_y_file):\n",
    "    image = np.array(Image.open(labeled_data_path + file_name))\n",
    "    ret = [[color2label[tuple([r[0], r[1], r[2]])] \n",
    "            if tuple([r[0], r[1], r[2]]) in color2label else 11\n",
    "            for r in row] \n",
    "           for row in image]\n",
    "    val_y.append(ret)"
   ]
  },
  {
   "cell_type": "code",
   "execution_count": 6,
   "metadata": {},
   "outputs": [
    {
     "name": "stderr",
     "output_type": "stream",
     "text": [
      "100%|████████████████████████████████████████████████████████████████████████████████| 141/141 [08:57<00:00,  3.81s/it]\n"
     ]
    }
   ],
   "source": [
    "test_y = []\n",
    "for file_name in tqdm(test_y_file):\n",
    "    image = np.array(Image.open(labeled_data_path + file_name))\n",
    "    ret = [[color2label[tuple([r[0], r[1], r[2]])] \n",
    "            if tuple([r[0], r[1], r[2]]) in color2label else 11\n",
    "            for r in row] \n",
    "           for row in image]\n",
    "    test_y.append(ret)"
   ]
  },
  {
   "cell_type": "markdown",
   "metadata": {},
   "source": [
    "### original data {train/val/test}_x"
   ]
  },
  {
   "cell_type": "code",
   "execution_count": 59,
   "metadata": {},
   "outputs": [
    {
     "name": "stderr",
     "output_type": "stream",
     "text": [
      "100%|████████████████████████████████████████████████████████████████████████████████| 490/490 [00:07<00:00, 63.01it/s]\n"
     ]
    }
   ],
   "source": [
    "train_x_o = []\n",
    "for file_name in tqdm(train_x_file):\n",
    "    image = np.array(Image.open(origin_data_path + file_name))\n",
    "    train_x_o.append(np.array(image))"
   ]
  },
  {
   "cell_type": "code",
   "execution_count": 60,
   "metadata": {},
   "outputs": [
    {
     "name": "stderr",
     "output_type": "stream",
     "text": [
      "100%|██████████████████████████████████████████████████████████████████████████████████| 70/70 [00:01<00:00, 61.86it/s]\n"
     ]
    }
   ],
   "source": [
    "val_x_o = []\n",
    "for file_name in tqdm(val_x_file):\n",
    "    image = np.array(Image.open(origin_data_path + file_name))\n",
    "    val_x_o.append(np.array(image))"
   ]
  },
  {
   "cell_type": "code",
   "execution_count": 61,
   "metadata": {},
   "outputs": [
    {
     "name": "stderr",
     "output_type": "stream",
     "text": [
      "100%|████████████████████████████████████████████████████████████████████████████████| 141/141 [00:02<00:00, 63.11it/s]\n"
     ]
    }
   ],
   "source": [
    "test_x_o = []\n",
    "for file_name in tqdm(test_x_file):\n",
    "    image = np.array(Image.open(origin_data_path + file_name))\n",
    "    test_x_o.append(np.array(image))"
   ]
  },
  {
   "cell_type": "code",
   "execution_count": 62,
   "metadata": {},
   "outputs": [],
   "source": [
    "train_x = np.array(train_x_o)\n",
    "train_y = np.array(train_y)\n",
    "val_x = np.array(val_x_o)\n",
    "val_y = np.array(val_y)\n",
    "test_x = np.array(test_x_o)\n",
    "test_y = np.array(test_y)\n",
    "\n",
    "# save dataset\n",
    "np.savez('data_origin.npz', \n",
    "         train_x=train_x, train_y=train_y, \n",
    "         val_x=val_x, val_y=val_y, \n",
    "         test_x=test_x, test_y=test_y)"
   ]
  },
  {
   "cell_type": "markdown",
   "metadata": {},
   "source": [
    "### notrm ver1"
   ]
  },
  {
   "cell_type": "code",
   "execution_count": 44,
   "metadata": {},
   "outputs": [],
   "source": [
    "dataset_mean = [0.485, 0.456, 0.406]\n",
    "dataset_std = [0.229, 0.224, 0.225]"
   ]
  },
  {
   "cell_type": "code",
   "execution_count": 45,
   "metadata": {},
   "outputs": [
    {
     "name": "stderr",
     "output_type": "stream",
     "text": [
      "100%|████████████████████████████████████████████████████████████████████████████████| 141/141 [00:02<00:00, 48.12it/s]\n"
     ]
    }
   ],
   "source": [
    "test_x = []\n",
    "\n",
    "for file_name in tqdm(test_x_file):\n",
    "    image = np.array(Image.open(origin_data_path + file_name))\n",
    "    image = TF.to_tensor(image)\n",
    "        \n",
    "    # Normalize\n",
    "    image = TF.normalize(image, dataset_mean, dataset_std).permute(1, 2, 0)\n",
    "    \n",
    "    test_x.append(np.array(image))"
   ]
  },
  {
   "cell_type": "code",
   "execution_count": 46,
   "metadata": {},
   "outputs": [
    {
     "name": "stderr",
     "output_type": "stream",
     "text": [
      "100%|██████████████████████████████████████████████████████████████████████████████████| 70/70 [00:01<00:00, 47.84it/s]\n"
     ]
    }
   ],
   "source": [
    "val_x = []\n",
    "for file_name in tqdm(val_x_file):\n",
    "    image = np.array(Image.open(origin_data_path + file_name))\n",
    "    image = TF.to_tensor(image)\n",
    "\n",
    "    # Normalize\n",
    "    image = TF.normalize(image, dataset_mean, dataset_std).permute(1, 2, 0)\n",
    "    \n",
    "    val_x.append(np.array(image))"
   ]
  },
  {
   "cell_type": "code",
   "execution_count": 47,
   "metadata": {},
   "outputs": [
    {
     "name": "stderr",
     "output_type": "stream",
     "text": [
      "100%|████████████████████████████████████████████████████████████████████████████████| 490/490 [00:10<00:00, 47.01it/s]\n"
     ]
    }
   ],
   "source": [
    "train_x = []\n",
    "train_x_jitter = []\n",
    "for file_name in tqdm(train_x_file):\n",
    "    image = np.array(Image.open(origin_data_path + file_name))   \n",
    "\n",
    "    # From PIL to Tensor\n",
    "    image = TF.to_tensor(image)\n",
    "        \n",
    "    # Normalize\n",
    "    image = TF.normalize(image, dataset_mean, dataset_std).permute(1, 2, 0)\n",
    "    \n",
    "    train_x.append(np.array(image))"
   ]
  },
  {
   "cell_type": "code",
   "execution_count": 48,
   "metadata": {},
   "outputs": [],
   "source": [
    "train_x = np.array(train_x)\n",
    "train_y = np.array(train_y)\n",
    "val_x = np.array(val_x)\n",
    "val_y = np.array(val_y)\n",
    "test_x = np.array(test_x)\n",
    "test_y = np.array(test_y)\n",
    "\n",
    "# save dataset\n",
    "np.savez('data_norm_v1.npz', \n",
    "         train_x=train_x, train_y=train_y,\n",
    "         val_x=val_x, val_y=val_y, \n",
    "         test_x=test_x, test_y=test_y)"
   ]
  },
  {
   "cell_type": "markdown",
   "metadata": {},
   "source": [
    "### color jitter data (only train_x)"
   ]
  },
  {
   "cell_type": "code",
   "execution_count": 30,
   "metadata": {},
   "outputs": [],
   "source": [
    "# color jitter\n",
    "colorjitter_factor = 0.3\n",
    "\n",
    "bf = np.random.uniform(1-colorjitter_factor,1+colorjitter_factor) # 명도\n",
    "cf = np.random.uniform(1-colorjitter_factor,1+colorjitter_factor) # 대비\n",
    "sf = np.random.uniform(1-colorjitter_factor,1+colorjitter_factor) # 채도\n",
    "hf = np.random.uniform(-colorjitter_factor,+colorjitter_factor) # 색상"
   ]
  },
  {
   "cell_type": "markdown",
   "metadata": {},
   "source": [
    "### norm ver2 (data - dataset_mean) / dataset_std"
   ]
  },
  {
   "cell_type": "code",
   "execution_count": 31,
   "metadata": {},
   "outputs": [
    {
     "name": "stderr",
     "output_type": "stream",
     "text": [
      "100%|████████████████████████████████████████████████████████████████████████████████| 490/490 [00:06<00:00, 70.40it/s]\n"
     ]
    }
   ],
   "source": [
    "# compute dataset mean, std\n",
    "x = []\n",
    "for file_name in tqdm(train_x_file):\n",
    "    image = np.array(Image.open(origin_data_path + file_name))\n",
    "    x.append(image)\n",
    "x=np.array(x)\n",
    "\n",
    "dataset_mean = x.mean(axis=(0, 1, 2)) / 255  \n",
    "dataset_std = x.std(axis=(0, 1, 2)) / 255    "
   ]
  },
  {
   "cell_type": "code",
   "execution_count": 32,
   "metadata": {},
   "outputs": [
    {
     "name": "stderr",
     "output_type": "stream",
     "text": [
      "100%|████████████████████████████████████████████████████████████████████████████████| 141/141 [00:03<00:00, 46.97it/s]\n"
     ]
    }
   ],
   "source": [
    "test_x = []\n",
    "\n",
    "for file_name in tqdm(test_x_file):\n",
    "    image = np.array(Image.open(origin_data_path + file_name))\n",
    "    image = TF.to_tensor(image)\n",
    "        \n",
    "    # Normalize\n",
    "    image = TF.normalize(image, dataset_mean, dataset_std).permute(1, 2, 0)\n",
    "    \n",
    "    test_x.append(np.array(image))"
   ]
  },
  {
   "cell_type": "code",
   "execution_count": 33,
   "metadata": {},
   "outputs": [
    {
     "name": "stderr",
     "output_type": "stream",
     "text": [
      "100%|██████████████████████████████████████████████████████████████████████████████████| 70/70 [00:01<00:00, 48.42it/s]\n"
     ]
    }
   ],
   "source": [
    "val_x = []\n",
    "for file_name in tqdm(val_x_file):\n",
    "    image = np.array(Image.open(origin_data_path + file_name))\n",
    "    image = TF.to_tensor(image)\n",
    "\n",
    "    # Normalize\n",
    "    image = TF.normalize(image, dataset_mean, dataset_std).permute(1, 2, 0)\n",
    "    \n",
    "    val_x.append(np.array(image))"
   ]
  },
  {
   "cell_type": "code",
   "execution_count": 34,
   "metadata": {},
   "outputs": [
    {
     "name": "stderr",
     "output_type": "stream",
     "text": [
      "100%|████████████████████████████████████████████████████████████████████████████████| 490/490 [00:43<00:00, 11.31it/s]\n"
     ]
    }
   ],
   "source": [
    "train_x = []\n",
    "train_x_jitter = []\n",
    "for file_name in tqdm(train_x_file):\n",
    "    image = np.array(Image.open(origin_data_path + file_name))\n",
    "    img_jitter = Image.open(origin_data_path + file_name)\n",
    "    \n",
    "    # color jitter\n",
    "    img_jitter = TF.adjust_brightness(img_jitter, bf)\n",
    "    img_jitter = TF.adjust_contrast(img_jitter, cf)\n",
    "    img_jitter = TF.adjust_saturation(img_jitter, sf)\n",
    "    img_jitter = TF.adjust_hue(img_jitter, hf)    \n",
    "\n",
    "    # From PIL to Tensor\n",
    "    img_jitter = TF.to_tensor(img_jitter)\n",
    "    image = TF.to_tensor(image)\n",
    "        \n",
    "    # Normalize\n",
    "    image = TF.normalize(image, dataset_mean, dataset_std).permute(1, 2, 0)\n",
    "    img_jitter = TF.normalize(img_jitter, dataset_mean, dataset_std).permute(1, 2, 0)\n",
    "    \n",
    "    train_x.append(np.array(image))\n",
    "    train_x_jitter.append(np.array(img_jitter))"
   ]
  },
  {
   "cell_type": "code",
   "execution_count": 35,
   "metadata": {},
   "outputs": [],
   "source": [
    "train_x = np.array(train_x)\n",
    "train_y = np.array(train_y)\n",
    "train_x_jitter = np.array(train_x_jitter)\n",
    "val_x = np.array(val_x)\n",
    "val_y = np.array(val_y)\n",
    "test_x = np.array(test_x)\n",
    "test_y = np.array(test_y)"
   ]
  },
  {
   "cell_type": "code",
   "execution_count": 36,
   "metadata": {},
   "outputs": [],
   "source": [
    "# save dataset\n",
    "np.savez('data_norm_v2.npz', \n",
    "         train_x=train_x, train_y=train_y, \n",
    "         train_x_jitter=train_x_jitter,\n",
    "         val_x=val_x, val_y=val_y, \n",
    "         test_x=test_x, test_y=test_y)"
   ]
  }
 ],
 "metadata": {
  "kernelspec": {
   "display_name": "yooso",
   "language": "python",
   "name": "yooso_venv"
  },
  "language_info": {
   "codemirror_mode": {
    "name": "ipython",
    "version": 3
   },
   "file_extension": ".py",
   "mimetype": "text/x-python",
   "name": "python",
   "nbconvert_exporter": "python",
   "pygments_lexer": "ipython3",
   "version": "3.6.6"
  }
 },
 "nbformat": 4,
 "nbformat_minor": 4
}
