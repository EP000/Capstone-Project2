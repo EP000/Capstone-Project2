{
 "cells": [
  {
   "cell_type": "markdown",
   "metadata": {},
   "source": [
    "# Model"
   ]
  },
  {
   "cell_type": "markdown",
   "metadata": {},
   "source": [
    "### package load"
   ]
  },
  {
   "cell_type": "code",
   "execution_count": 1,
   "metadata": {},
   "outputs": [],
   "source": [
    "import datetime\n",
    "import numpy as np\n",
    "from PIL import Image\n",
    "\n",
    "import os\n",
    "import sys\n",
    "import time\n",
    "from tqdm import tqdm\n",
    "import numpy as np\n",
    "import warnings\n",
    "import random\n",
    "import torch\n",
    "import torch.nn as nn\n",
    "import torch.optim as optim\n",
    "import torchvision\n",
    "import torchvision.transforms.functional as TF\n",
    "import torch.nn.functional as F\n",
    "from torch.autograd import Variable\n",
    "\n",
    "from model import convert_bn_to_instancenorm, convert_bn_to_evonorm, convert_bn_to_groupnorm, DeepLabHead \n",
    "from helpers import AverageMeter, ProgressMeter, iouCalc, visim, vislbl\n",
    "from labels import labels"
   ]
  },
  {
   "cell_type": "markdown",
   "metadata": {},
   "source": [
    "### device"
   ]
  },
  {
   "cell_type": "code",
   "execution_count": 2,
   "metadata": {},
   "outputs": [],
   "source": [
    "device = torch.device('cuda' if torch.cuda.is_available() else 'cpu')"
   ]
  },
  {
   "cell_type": "code",
   "execution_count": 3,
   "metadata": {},
   "outputs": [],
   "source": [
    "#device = 'cpu'"
   ]
  },
  {
   "cell_type": "markdown",
   "metadata": {},
   "source": [
    "### data load"
   ]
  },
  {
   "cell_type": "code",
   "execution_count": 4,
   "metadata": {},
   "outputs": [],
   "source": [
    "npzfile = np.load('data_norm_v2.npz')\n",
    "\n",
    "train_x = npzfile['train_x_jitter']\n",
    "train_y = npzfile['train_y']\n",
    "val_x = npzfile['val_x']\n",
    "val_y = npzfile['val_y']\n",
    "test_x = npzfile['test_x']\n",
    "test_y = npzfile['test_y']\n",
    "\n",
    "npzfile.close()"
   ]
  },
  {
   "cell_type": "markdown",
   "metadata": {},
   "source": [
    "### DeepLab v3 ResNet50 "
   ]
  },
  {
   "cell_type": "code",
   "execution_count": 6,
   "metadata": {},
   "outputs": [],
   "source": [
    "model = torchvision.models.segmentation.deeplabv3_resnet50(pretrained=False).to(device)\n",
    "         # dlv3 backbone resnoet 50 :: output chnnel: 2048 --> DL input channel :: 2048\n",
    "model.classifier = DeepLabHead(2048, 12).to(device) # 12 = class num\n",
    "\n",
    "optimizer = torch.optim.SGD(model.parameters(), lr=0.01, momentum=0.9)\n",
    "scheduler = optim.lr_scheduler.CosineAnnealingLR(optimizer, T_max=2) "
   ]
  },
  {
   "cell_type": "code",
   "execution_count": 7,
   "metadata": {},
   "outputs": [],
   "source": [
    "# Initialize metrics\n",
    "best_miou = 0.0\n",
    "metrics = {'train_loss' : [],\n",
    "           'train_acc' : [],\n",
    "           'test_acc' : [],\n",
    "           'test_loss' : [],\n",
    "           'miou' : []}\n",
    "start_epoch = 0"
   ]
  },
  {
   "cell_type": "markdown",
   "metadata": {},
   "source": [
    "### Label "
   ]
  },
  {
   "cell_type": "code",
   "execution_count": 8,
   "metadata": {},
   "outputs": [],
   "source": [
    "# Create list of class names\n",
    "  # classLabels: label명\n",
    "  # validClasses: label에 해당하는 id값\n",
    "\n",
    "classLabels = []\n",
    "for label in labels:\n",
    "    if label.name not in classLabels:\n",
    "        classLabels.append(label.name)\n",
    "classLabels.append('void')\n",
    "\n",
    "validClasses = list(\n",
    "    np.unique(\n",
    "        [label.id for label in labels \n",
    "         if label.id >= 0\n",
    "        ] + [11]\n",
    "    )\n",
    ")"
   ]
  },
  {
   "cell_type": "markdown",
   "metadata": {},
   "source": [
    "### train"
   ]
  },
  {
   "cell_type": "code",
   "execution_count": 18,
   "metadata": {},
   "outputs": [],
   "source": [
    "## parameter\n",
    "\n",
    "batch_size = 2\n",
    "num_epoch = 50\n",
    "\n",
    "result_dir = os.getcwd() + '/result/' + 'jitter/'"
   ]
  },
  {
   "cell_type": "code",
   "execution_count": 10,
   "metadata": {},
   "outputs": [],
   "source": [
    "from torch.utils.data import TensorDataset, DataLoader\n",
    "\n",
    "   # X: 0~255, RGB값 가지는 이미지 데이터 (560, 720, 960, 3)\n",
    "   # Y: 0~11 label값 가지는 픽셀당 클래스 데이터 (560, 720, 960)\n",
    "X = torch.tensor(train_x, dtype=torch.float32)\n",
    "Y = torch.tensor(train_y, dtype=torch.long)\n",
    "\n",
    "data = TensorDataset(X.permute(dims=(0, 3, 1, 2)), Y)\n",
    "train_data = DataLoader(data, batch_size=batch_size, shuffle=True)"
   ]
  },
  {
   "cell_type": "code",
   "execution_count": 11,
   "metadata": {},
   "outputs": [
    {
     "data": {
      "text/plain": [
       "{'0': 3350644,\n",
       " '1': 3682379,\n",
       " '2': 1888603,\n",
       " '3': 2478108,\n",
       " '4': 81471634,\n",
       " '5': 4996800,\n",
       " '6': 23813698,\n",
       " '7': 98899475,\n",
       " '8': 16468486,\n",
       " '9': 53441175,\n",
       " '10': 37943059,\n",
       " '11': 10253939}"
      ]
     },
     "execution_count": 11,
     "metadata": {},
     "output_type": "execute_result"
    }
   ],
   "source": [
    "# Create class weight\n",
    "label_num = {str(_id): 0 for _id in validClasses}\n",
    "label_num\n",
    "\n",
    "for y in train_y.flatten():\n",
    "    label_num[str(y)] += 1\n",
    "label_num"
   ]
  },
  {
   "cell_type": "code",
   "execution_count": 10,
   "metadata": {},
   "outputs": [],
   "source": [
    "## (사용 dataset 동일할 때 kernel restart시 실행)\n",
    "label_num = {'0': 3350644,\n",
    " '1': 3682379,\n",
    " '2': 1888603,\n",
    " '3': 2478108,\n",
    " '4': 81471634,\n",
    " '5': 4996800,\n",
    " '6': 23813698,\n",
    " '7': 98899475,\n",
    " '8': 16468486,\n",
    " '9': 53441175,\n",
    " '10': 37943059,\n",
    " '11': 10253939}"
   ]
  },
  {
   "cell_type": "code",
   "execution_count": 12,
   "metadata": {},
   "outputs": [],
   "source": [
    "# delete void -- max value\n",
    "max_num = max([v for k, v in label_num.items() if k != '11'])\n",
    "weights = [max_num/num for key, num in label_num.items()]\n",
    "\n",
    "class_weights = torch.FloatTensor(weights).to(device)\n",
    "criterion = nn.CrossEntropyLoss(weight = class_weights, ignore_index=12) # weight 파라미터에 class_weight 추가"
   ]
  },
  {
   "cell_type": "code",
   "execution_count": 13,
   "metadata": {},
   "outputs": [
    {
     "data": {
      "text/plain": [
       "tensor([29.5166, 26.8575, 52.3665, 39.9093,  1.2139, 19.7926,  4.1530,  1.0000,\n",
       "         6.0054,  1.8506,  2.6065,  9.6450])"
      ]
     },
     "execution_count": 13,
     "metadata": {},
     "output_type": "execute_result"
    }
   ],
   "source": [
    "class_weights"
   ]
  },
  {
   "cell_type": "code",
   "execution_count": null,
   "metadata": {
    "scrolled": true
   },
   "outputs": [
    {
     "name": "stderr",
     "output_type": "stream",
     "text": [
      "  0%|▎                                                                               | 1/245 [00:15<1:04:46, 15.93s/it]"
     ]
    },
    {
     "name": "stdout",
     "output_type": "stream",
     "text": [
      "Train, epoch: [0][  0/245]\tLoss 2.4294e+00 (2.4294e+00)\tAccuracy 0.355 (0.355)\n"
     ]
    },
    {
     "name": "stderr",
     "output_type": "stream",
     "text": [
      "\r",
      "  1%|▋                                                                               | 2/245 [00:32<1:05:07, 16.08s/it]"
     ]
    },
    {
     "name": "stdout",
     "output_type": "stream",
     "text": [
      "Train, epoch: [0][  0/245]\tLoss 2.2819e+00 (2.3557e+00)\tAccuracy 0.422 (0.388)\n"
     ]
    },
    {
     "name": "stderr",
     "output_type": "stream",
     "text": [
      "\r",
      "  1%|▉                                                                               | 3/245 [00:48<1:05:05, 16.14s/it]"
     ]
    },
    {
     "name": "stdout",
     "output_type": "stream",
     "text": [
      "Train, epoch: [0][  0/245]\tLoss 2.2505e+00 (2.3206e+00)\tAccuracy 0.535 (0.437)\n"
     ]
    },
    {
     "name": "stderr",
     "output_type": "stream",
     "text": [
      "\r",
      "  2%|█▎                                                                              | 4/245 [01:04<1:05:33, 16.32s/it]"
     ]
    },
    {
     "name": "stdout",
     "output_type": "stream",
     "text": [
      "Train, epoch: [0][  0/245]\tLoss 2.1018e+00 (2.2659e+00)\tAccuracy 0.514 (0.456)\n"
     ]
    },
    {
     "name": "stderr",
     "output_type": "stream",
     "text": [
      "\r",
      "  2%|█▋                                                                              | 5/245 [01:21<1:05:30, 16.38s/it]"
     ]
    },
    {
     "name": "stdout",
     "output_type": "stream",
     "text": [
      "Train, epoch: [0][  0/245]\tLoss 1.9945e+00 (2.2116e+00)\tAccuracy 0.509 (0.467)\n"
     ]
    },
    {
     "name": "stderr",
     "output_type": "stream",
     "text": [
      "\r",
      "  2%|█▉                                                                              | 6/245 [01:37<1:05:14, 16.38s/it]"
     ]
    },
    {
     "name": "stdout",
     "output_type": "stream",
     "text": [
      "Train, epoch: [0][  0/245]\tLoss 1.9325e+00 (2.1651e+00)\tAccuracy 0.534 (0.478)\n"
     ]
    },
    {
     "name": "stderr",
     "output_type": "stream",
     "text": [
      "\r",
      "  3%|██▎                                                                             | 7/245 [01:54<1:04:57, 16.38s/it]"
     ]
    },
    {
     "name": "stdout",
     "output_type": "stream",
     "text": [
      "Train, epoch: [0][  0/245]\tLoss 2.0186e+00 (2.1442e+00)\tAccuracy 0.565 (0.491)\n"
     ]
    },
    {
     "name": "stderr",
     "output_type": "stream",
     "text": [
      "\r",
      "  3%|██▌                                                                             | 8/245 [02:10<1:04:35, 16.35s/it]"
     ]
    },
    {
     "name": "stdout",
     "output_type": "stream",
     "text": [
      "Train, epoch: [0][  0/245]\tLoss 2.1281e+00 (2.1422e+00)\tAccuracy 0.480 (0.489)\n"
     ]
    },
    {
     "name": "stderr",
     "output_type": "stream",
     "text": [
      "\r",
      "  4%|██▉                                                                             | 9/245 [02:26<1:04:28, 16.39s/it]"
     ]
    },
    {
     "name": "stdout",
     "output_type": "stream",
     "text": [
      "Train, epoch: [0][  0/245]\tLoss 1.9587e+00 (2.1218e+00)\tAccuracy 0.517 (0.492)\n"
     ]
    },
    {
     "name": "stderr",
     "output_type": "stream",
     "text": [
      "\r",
      "  4%|███▏                                                                           | 10/245 [02:43<1:03:56, 16.33s/it]"
     ]
    },
    {
     "name": "stdout",
     "output_type": "stream",
     "text": [
      "Train, epoch: [0][  0/245]\tLoss 1.4433e+00 (2.0539e+00)\tAccuracy 0.570 (0.500)\n"
     ]
    },
    {
     "name": "stderr",
     "output_type": "stream",
     "text": [
      "\r",
      "  4%|███▌                                                                           | 11/245 [02:59<1:03:58, 16.40s/it]"
     ]
    },
    {
     "name": "stdout",
     "output_type": "stream",
     "text": [
      "Train, epoch: [0][  0/245]\tLoss 1.6017e+00 (2.0128e+00)\tAccuracy 0.556 (0.505)\n"
     ]
    },
    {
     "name": "stderr",
     "output_type": "stream",
     "text": [
      "\r",
      "  5%|███▊                                                                           | 12/245 [03:16<1:03:59, 16.48s/it]"
     ]
    },
    {
     "name": "stdout",
     "output_type": "stream",
     "text": [
      "Train, epoch: [0][  0/245]\tLoss 1.6219e+00 (1.9802e+00)\tAccuracy 0.533 (0.507)\n"
     ]
    },
    {
     "name": "stderr",
     "output_type": "stream",
     "text": [
      "\r",
      "  5%|████▏                                                                          | 13/245 [03:33<1:04:07, 16.58s/it]"
     ]
    },
    {
     "name": "stdout",
     "output_type": "stream",
     "text": [
      "Train, epoch: [0][  0/245]\tLoss 1.4292e+00 (1.9379e+00)\tAccuracy 0.644 (0.518)\n"
     ]
    },
    {
     "name": "stderr",
     "output_type": "stream",
     "text": [
      "\r",
      "  6%|████▌                                                                          | 14/245 [03:49<1:03:18, 16.45s/it]"
     ]
    },
    {
     "name": "stdout",
     "output_type": "stream",
     "text": [
      "Train, epoch: [0][  0/245]\tLoss 1.4964e+00 (1.9063e+00)\tAccuracy 0.599 (0.524)\n"
     ]
    },
    {
     "name": "stderr",
     "output_type": "stream",
     "text": [
      "\r",
      "  6%|████▊                                                                          | 15/245 [04:05<1:03:01, 16.44s/it]"
     ]
    },
    {
     "name": "stdout",
     "output_type": "stream",
     "text": [
      "Train, epoch: [0][  0/245]\tLoss 1.5261e+00 (1.8810e+00)\tAccuracy 0.643 (0.532)\n"
     ]
    },
    {
     "name": "stderr",
     "output_type": "stream",
     "text": [
      "\r",
      "  7%|█████▏                                                                         | 16/245 [04:22<1:02:42, 16.43s/it]"
     ]
    },
    {
     "name": "stdout",
     "output_type": "stream",
     "text": [
      "Train, epoch: [0][  0/245]\tLoss 1.5745e+00 (1.8618e+00)\tAccuracy 0.570 (0.534)\n"
     ]
    },
    {
     "name": "stderr",
     "output_type": "stream",
     "text": [
      "\r",
      "  7%|█████▍                                                                         | 17/245 [04:38<1:02:46, 16.52s/it]"
     ]
    },
    {
     "name": "stdout",
     "output_type": "stream",
     "text": [
      "Train, epoch: [0][  0/245]\tLoss 1.5628e+00 (1.8442e+00)\tAccuracy 0.546 (0.535)\n"
     ]
    },
    {
     "name": "stderr",
     "output_type": "stream",
     "text": [
      "\r",
      "  7%|█████▊                                                                         | 18/245 [04:55<1:02:28, 16.51s/it]"
     ]
    },
    {
     "name": "stdout",
     "output_type": "stream",
     "text": [
      "Train, epoch: [0][  0/245]\tLoss 1.5431e+00 (1.8275e+00)\tAccuracy 0.650 (0.541)\n"
     ]
    },
    {
     "name": "stderr",
     "output_type": "stream",
     "text": [
      "\r",
      "  8%|██████▏                                                                        | 19/245 [05:12<1:02:25, 16.57s/it]"
     ]
    },
    {
     "name": "stdout",
     "output_type": "stream",
     "text": [
      "Train, epoch: [0][  0/245]\tLoss 1.2469e+00 (1.7969e+00)\tAccuracy 0.723 (0.551)\n"
     ]
    },
    {
     "name": "stderr",
     "output_type": "stream",
     "text": [
      "\r",
      "  8%|██████▍                                                                        | 20/245 [05:28<1:02:32, 16.68s/it]"
     ]
    },
    {
     "name": "stdout",
     "output_type": "stream",
     "text": [
      "Train, epoch: [0][  0/245]\tLoss 1.7027e+00 (1.7922e+00)\tAccuracy 0.684 (0.557)\n"
     ]
    },
    {
     "name": "stderr",
     "output_type": "stream",
     "text": [
      "\r",
      "  9%|██████▊                                                                        | 21/245 [05:45<1:02:08, 16.65s/it]"
     ]
    },
    {
     "name": "stdout",
     "output_type": "stream",
     "text": [
      "Train, epoch: [0][  0/245]\tLoss 1.3917e+00 (1.7732e+00)\tAccuracy 0.653 (0.562)\n"
     ]
    },
    {
     "name": "stderr",
     "output_type": "stream",
     "text": [
      "\r",
      "  9%|███████                                                                        | 22/245 [06:02<1:01:48, 16.63s/it]"
     ]
    },
    {
     "name": "stdout",
     "output_type": "stream",
     "text": [
      "Train, epoch: [0][  0/245]\tLoss 1.3123e+00 (1.7522e+00)\tAccuracy 0.728 (0.570)\n"
     ]
    },
    {
     "name": "stderr",
     "output_type": "stream",
     "text": [
      "\r",
      "  9%|███████▍                                                                       | 23/245 [06:18<1:01:19, 16.57s/it]"
     ]
    },
    {
     "name": "stdout",
     "output_type": "stream",
     "text": [
      "Train, epoch: [0][  0/245]\tLoss 1.1367e+00 (1.7255e+00)\tAccuracy 0.760 (0.578)\n"
     ]
    },
    {
     "name": "stderr",
     "output_type": "stream",
     "text": [
      "\r",
      " 10%|███████▋                                                                       | 24/245 [06:35<1:01:13, 16.62s/it]"
     ]
    },
    {
     "name": "stdout",
     "output_type": "stream",
     "text": [
      "Train, epoch: [0][  0/245]\tLoss 9.3293e-01 (1.6924e+00)\tAccuracy 0.771 (0.586)\n"
     ]
    },
    {
     "name": "stderr",
     "output_type": "stream",
     "text": [
      "\r",
      " 10%|████████                                                                       | 25/245 [06:51<1:00:36, 16.53s/it]"
     ]
    },
    {
     "name": "stdout",
     "output_type": "stream",
     "text": [
      "Train, epoch: [0][  0/245]\tLoss 1.3039e+00 (1.6769e+00)\tAccuracy 0.742 (0.592)\n"
     ]
    },
    {
     "name": "stderr",
     "output_type": "stream",
     "text": [
      "\r",
      " 11%|████████▍                                                                      | 26/245 [07:08<1:00:09, 16.48s/it]"
     ]
    },
    {
     "name": "stdout",
     "output_type": "stream",
     "text": [
      "Train, epoch: [0][  0/245]\tLoss 1.2101e+00 (1.6589e+00)\tAccuracy 0.722 (0.597)\n"
     ]
    },
    {
     "name": "stderr",
     "output_type": "stream",
     "text": [
      "\r",
      " 11%|████████▋                                                                      | 27/245 [07:24<1:00:06, 16.54s/it]"
     ]
    },
    {
     "name": "stdout",
     "output_type": "stream",
     "text": [
      "Train, epoch: [0][  0/245]\tLoss 1.0066e+00 (1.6348e+00)\tAccuracy 0.718 (0.602)\n"
     ]
    },
    {
     "name": "stderr",
     "output_type": "stream",
     "text": [
      "\r",
      " 11%|█████████                                                                      | 28/245 [07:41<1:00:00, 16.59s/it]"
     ]
    },
    {
     "name": "stdout",
     "output_type": "stream",
     "text": [
      "Train, epoch: [0][  0/245]\tLoss 8.3340e-01 (1.6062e+00)\tAccuracy 0.791 (0.608)\n"
     ]
    },
    {
     "name": "stderr",
     "output_type": "stream",
     "text": [
      "\r",
      " 12%|█████████▌                                                                       | 29/245 [07:58<59:58, 16.66s/it]"
     ]
    },
    {
     "name": "stdout",
     "output_type": "stream",
     "text": [
      "Train, epoch: [0][  0/245]\tLoss 9.9247e-01 (1.5850e+00)\tAccuracy 0.765 (0.614)\n"
     ]
    },
    {
     "name": "stderr",
     "output_type": "stream",
     "text": [
      "\r",
      " 12%|█████████▋                                                                     | 30/245 [08:15<1:00:01, 16.75s/it]"
     ]
    },
    {
     "name": "stdout",
     "output_type": "stream",
     "text": [
      "Train, epoch: [0][  0/245]\tLoss 9.7428e-01 (1.5646e+00)\tAccuracy 0.766 (0.619)\n"
     ]
    },
    {
     "name": "stderr",
     "output_type": "stream",
     "text": [
      "\r",
      " 13%|█████████▉                                                                     | 31/245 [08:33<1:01:16, 17.18s/it]"
     ]
    },
    {
     "name": "stdout",
     "output_type": "stream",
     "text": [
      "Train, epoch: [0][  0/245]\tLoss 9.4128e-01 (1.5445e+00)\tAccuracy 0.754 (0.623)\n"
     ]
    },
    {
     "name": "stderr",
     "output_type": "stream",
     "text": [
      "\r",
      " 13%|██████████▎                                                                    | 32/245 [08:50<1:00:33, 17.06s/it]"
     ]
    },
    {
     "name": "stdout",
     "output_type": "stream",
     "text": [
      "Train, epoch: [0][  0/245]\tLoss 8.5382e-01 (1.5229e+00)\tAccuracy 0.757 (0.627)\n"
     ]
    },
    {
     "name": "stderr",
     "output_type": "stream",
     "text": [
      "\r",
      " 13%|██████████▋                                                                    | 33/245 [09:07<1:00:07, 17.02s/it]"
     ]
    },
    {
     "name": "stdout",
     "output_type": "stream",
     "text": [
      "Train, epoch: [0][  0/245]\tLoss 9.5998e-01 (1.5059e+00)\tAccuracy 0.737 (0.631)\n"
     ]
    },
    {
     "name": "stderr",
     "output_type": "stream",
     "text": [
      "\r",
      " 14%|███████████▏                                                                     | 34/245 [09:24<59:58, 17.06s/it]"
     ]
    },
    {
     "name": "stdout",
     "output_type": "stream",
     "text": [
      "Train, epoch: [0][  0/245]\tLoss 1.0601e+00 (1.4928e+00)\tAccuracy 0.720 (0.633)\n"
     ]
    },
    {
     "name": "stderr",
     "output_type": "stream",
     "text": [
      "\r",
      " 14%|███████████▌                                                                     | 35/245 [09:40<59:20, 16.96s/it]"
     ]
    },
    {
     "name": "stdout",
     "output_type": "stream",
     "text": [
      "Train, epoch: [0][  0/245]\tLoss 8.1564e-01 (1.4734e+00)\tAccuracy 0.775 (0.637)\n"
     ]
    },
    {
     "name": "stderr",
     "output_type": "stream",
     "text": [
      "\r",
      " 15%|███████████▉                                                                     | 36/245 [09:57<58:58, 16.93s/it]"
     ]
    },
    {
     "name": "stdout",
     "output_type": "stream",
     "text": [
      "Train, epoch: [0][  0/245]\tLoss 7.7408e-01 (1.4540e+00)\tAccuracy 0.776 (0.641)\n"
     ]
    },
    {
     "name": "stderr",
     "output_type": "stream",
     "text": [
      "\r",
      " 15%|████████████▏                                                                    | 37/245 [10:14<58:33, 16.89s/it]"
     ]
    },
    {
     "name": "stdout",
     "output_type": "stream",
     "text": [
      "Train, epoch: [0][  0/245]\tLoss 1.1350e+00 (1.4454e+00)\tAccuracy 0.704 (0.643)\n"
     ]
    },
    {
     "name": "stderr",
     "output_type": "stream",
     "text": [
      "\r",
      " 16%|████████████▌                                                                    | 38/245 [10:31<58:10, 16.86s/it]"
     ]
    },
    {
     "name": "stdout",
     "output_type": "stream",
     "text": [
      "Train, epoch: [0][  0/245]\tLoss 7.1167e-01 (1.4261e+00)\tAccuracy 0.785 (0.647)\n"
     ]
    }
   ],
   "source": [
    "model.train()\n",
    "res = X.shape[1] * X.shape[2] # 720 * 960\n",
    "\n",
    "for epoch in range(num_epoch):\n",
    "    \n",
    "    loss_running = AverageMeter('Loss', ':.4e')\n",
    "    acc_running = AverageMeter('Accuracy', ':.3f')\n",
    "    \n",
    "    iou = iouCalc(classLabels, validClasses, voidClass = 11)\n",
    "    progress = ProgressMeter(\n",
    "        len(train_data),\n",
    "        [loss_running, acc_running],\n",
    "        prefix=\"Train, epoch: [{}]\".format(epoch))\n",
    "    \n",
    "    batch_loss = 0.0\n",
    "    for batch, (x, y) in enumerate(tqdm(train_data, total=len(train_data))):\n",
    "        x = x.to(device)\n",
    "        y = y.to(device)\n",
    "        \n",
    "        # zero the parameter gradients\n",
    "        optimizer.zero_grad()\n",
    "        \n",
    "        # forward pass\n",
    "        outputs = model(x)\n",
    "        outputs = outputs['out']\n",
    "        preds = torch.argmax(outputs, 1)\n",
    "        \n",
    "        # cross-entropy loss\n",
    "        loss = criterion(outputs, y)\n",
    "\n",
    "        # backward pass\n",
    "        loss.backward()\n",
    "        optimizer.step()\n",
    "        \n",
    "        # Statistics\n",
    "        bs = x.size(0)\n",
    "        loss = loss.item()\n",
    "        loss_running.update(loss, bs)\n",
    "        corrects = torch.sum((preds == y) & (y != 12))\n",
    "        \n",
    "        nvoid = int((y==12).sum()) \n",
    "        acc = corrects.double()/(bs*res-nvoid)\n",
    "        acc_running.update(acc, bs)\n",
    "        \n",
    "        # Calculate IoU scores of current batch\n",
    "        iou.evaluateBatch(preds, y)\n",
    "        \n",
    "        progress.display(epoch)\n",
    "        \n",
    "        \n",
    "    scheduler.step(loss_running.avg)\n",
    "    miou = iou.outputScores()\n",
    "    \n",
    "    # save checkpoint\n",
    "    now = datetime.datetime.now()\n",
    "    now_time = now.strftime('%y%m%d%H')\n",
    "    \n",
    "    # save path\n",
    "    if not os.path.isdir(result_dir):\n",
    "        os.makedirs(result_dir)\n",
    "    \n",
    "    save_path = result_dir\n",
    "    \n",
    "    with open(save_path + 'train_logs.csv', 'a') as epochs:\n",
    "            epochs.write('{}, {:.4f}, {:.4f}, {:.4f}\\n'.format(\n",
    "                    epoch+1, loss_running.avg, acc_running.avg, miou))\n",
    "            \n",
    "    # Save model to file\n",
    "    torch.save({\n",
    "        'epoch' : epoch + 1,\n",
    "        'model_state_dict' : model.state_dict(),\n",
    "        'optimizer_state_dict': optimizer.state_dict(),\n",
    "        'best_miou': best_miou,\n",
    "        'metrics': metrics,\n",
    "        }, save_path + now_time + '_E' + str(epoch+1) + '_checkpoint.pth.tar')\n",
    "    \n",
    "    # Save best model to file\n",
    "    if miou > best_miou:\n",
    "        print('mIoU improved from {:.4f} to {:.4f}.'.format(best_miou, miou))\n",
    "        best_miou = miou\n",
    "        \n",
    "    print('epoch ', epoch)\n",
    "    print('loss : {:.4f}   acc : {:.4f}   miou : {:.4f}'.format(loss_running.avg, acc_running.avg, miou))"
   ]
  },
  {
   "cell_type": "markdown",
   "metadata": {},
   "source": [
    "### val"
   ]
  },
  {
   "cell_type": "code",
   "execution_count": null,
   "metadata": {},
   "outputs": [],
   "source": [
    "X = torch.tensor(val_x, dtype=torch.float32)\n",
    "Y = torch.tensor(val_x, dtype=torch.long)\n",
    "\n",
    "data = torch.utils.data.TensorDataset(X.permute(dims=(0, 3, 1, 2)), Y)\n",
    "\n",
    "val_data = torch.utils.data.DataLoader(data, batch_size=batch_size, shuffle=True)\n",
    "\n",
    "save_path = result_dir\n",
    "result = sorted(os.listdir(save_path), reverse=True)"
   ]
  },
  {
   "cell_type": "code",
   "execution_count": null,
   "metadata": {},
   "outputs": [],
   "source": [
    "result"
   ]
  },
  {
   "cell_type": "code",
   "execution_count": null,
   "metadata": {},
   "outputs": [],
   "source": [
    "for epoch, file in enumerate(result):\n",
    "    checkpoint = torch.load(save_path + file)\n",
    "    model.load_state_dict(checkpoint['model_state_dict'], strict=True)\n",
    "    \n",
    "    model.eval()\n",
    "    \n",
    "    loss_running = AverageMeter('Loss', ':.4e')\n",
    "    acc_running = AverageMeter('Accuracy', ':.3f')\n",
    "    \n",
    "    iou = iouCalc(classLabels, validClasses, voidClass = 11)\n",
    "    \n",
    "    batch_loss = 0.0\n",
    "    \n",
    "    for batch, (x, y) in enumerate(tqdm(val_data, total=len(val_data))):\n",
    "\n",
    "        x = x.to(device)\n",
    "        y = y.to(device)\n",
    "\n",
    "        # forward\n",
    "        outputs = model(x)\n",
    "        outputs = outputs['out']\n",
    "\n",
    "        preds = torch.argmax(outputs, 1)\n",
    "\n",
    "        # cross-entropy loss\n",
    "        loss = criterion(outputs, y)\n",
    "\n",
    "        # Statistics\n",
    "        bs = x.size(0)\n",
    "        loss = loss.item()\n",
    "        loss_running.update(loss, bs)\n",
    "        corrects = torch.sum((preds == y) & (y != 12))\n",
    "\n",
    "        nvoid = int((y==12).sum())\n",
    "        acc = corrects.double()/(bs*res-nvoid)\n",
    "        acc_running.update(acc, bs)\n",
    "    \n",
    "        # Calculate IoU scores of current batch\n",
    "        iou.evaluateBatch(preds, y)\n",
    "\n",
    "    miou = iou.outputScores()\n",
    "    scheduler.step(loss_running.avg)\n",
    "    \n",
    "    with open(save_path + 'val_logs.csv', 'a') as epochs:\n",
    "            epochs.write('{}, {:.4f}, {:.4f}, {:.4f}\\n'.format(\n",
    "                    epoch+1, loss_running.avg, acc_running.avg, miou))\n",
    "    \n",
    "    print('val- epoch: {}'.format(epoch+1))\n",
    "    print('loss : {:.4f} acc : {:.4f} miou : {:.4f}'.format(loss_running.avg, acc_running.avg, miou)) "
   ]
  },
  {
   "cell_type": "markdown",
   "metadata": {},
   "source": [
    "### plot"
   ]
  },
  {
   "cell_type": "code",
   "execution_count": null,
   "metadata": {},
   "outputs": [],
   "source": [
    "train_logs = pd.read_csv(save_path + 'train_logs.csv', names = ['epoch', 'loss', 'accuracy', 'miou'])\n",
    "val_logs = pd.read_csv(save_path + 'val_logs.csv', names = ['epoch', 'loss', 'accuracy', 'miou'])\n",
    "\n",
    "plt.figure(figsize=(15, 5))\n",
    "plt.plot(train_logs['epoch'], train_logs['miou'], label = 'train_miou')\n",
    "plt.plot(train_logs['epoch'], train_logs['accuracy'], label = 'train_accuracy')\n",
    "\n",
    "plt.plot(val_logs['epoch'], val_logs['miou'], label = 'val_miou')\n",
    "plt.plot(val_logs['epoch'], val_logs['accuracy'], label = 'val_accuracy')\n",
    "\n",
    "plt.xticks([i for i in range(1, train_logs.shape[0]+1)])\n",
    "plt.title(\"Performances of train, val dataset\")\n",
    "plt.xlabel(\"epoch\")\n",
    "plt.ylabel(\"\")\n",
    "plt.legend()\n",
    "plt.show()"
   ]
  },
  {
   "cell_type": "markdown",
   "metadata": {},
   "source": [
    "### test"
   ]
  },
  {
   "cell_type": "code",
   "execution_count": 16,
   "metadata": {},
   "outputs": [],
   "source": [
    "X = torch.tensor(test_x, dtype=torch.float32)\n",
    "Y = torch.tensor(test_y, dtype=torch.long)\n",
    "\n",
    "data = torch.utils.data.TensorDataset(X.permute(dims=(0, 3, 1, 2)), Y)\n",
    "\n",
    "test_data = torch.utils.data.DataLoader(data, batch_size=batch_size, shuffle=True)\n",
    "\n",
    "#save_path = result_dir\n",
    "#result = sorted(os.listdir(save_path), reverse=True)"
   ]
  },
  {
   "cell_type": "code",
   "execution_count": 46,
   "metadata": {},
   "outputs": [
    {
     "data": {
      "text/plain": [
       "['0605_best_weights.pth.tar']"
      ]
     },
     "execution_count": 46,
     "metadata": {},
     "output_type": "execute_result"
    }
   ],
   "source": [
    "result"
   ]
  },
  {
   "cell_type": "code",
   "execution_count": 19,
   "metadata": {},
   "outputs": [
    {
     "data": {
      "text/plain": [
       "<All keys matched successfully>"
      ]
     },
     "execution_count": 19,
     "metadata": {},
     "output_type": "execute_result"
    }
   ],
   "source": [
    "checkpoint = torch.load(save_path + result[0]) # train, val 결과보고 결정 (overfitting 시작되기 전)\n",
    "model.load_state_dict(checkpoint['model_state_dict'], strict=True)"
   ]
  },
  {
   "cell_type": "code",
   "execution_count": null,
   "metadata": {},
   "outputs": [],
   "source": [
    "batch_time = AverageMeter('Time', ':6.3f')\n",
    "data_time = AverageMeter('Data', ':6.3f')\n",
    "progress = ProgressMeter(\n",
    "    len(test_data),\n",
    "    [batch_time, data_time],\n",
    "    prefix='Predict: ')\n",
    "loss_running = AverageMeter('Loss', ':.4e')\n",
    "acc_running = AverageMeter('Accuracy', ':.3f')\n",
    "    \n",
    "iou = iouCalc(classLabels, validClasses, voidClass = 11)\n",
    "\n",
    "model.eval()\n",
    "\n",
    "batch_loss = 0.0\n",
    "for batch, (x, y) in enumerate(tqdm(test_data, total=len(test_data))):\n",
    "\n",
    "    x = x.to(device)\n",
    "    y = y.to(device)\n",
    "\n",
    "    # forward\n",
    "    outputs = model(x)\n",
    "    outputs = outputs['out']\n",
    "\n",
    "    preds = torch.argmax(outputs, 1)\n",
    "\n",
    "    # cross-entropy loss\n",
    "    loss = criterion(outputs, y)\n",
    "\n",
    "    # Statistics\n",
    "    bs = x.size(0)\n",
    "    loss = loss.item()\n",
    "    loss_running.update(loss, bs)\n",
    "    corrects = torch.sum((preds == y) & (y != 12))\n",
    "\n",
    "    nvoid = int((y==12).sum())\n",
    "    acc = corrects.double()/(bs*res-nvoid)\n",
    "    acc_running.update(acc, bs)\n",
    "\n",
    "    # Calculate IoU scores of current batch\n",
    "    iou.evaluateBatch(preds, y)\n",
    "\n",
    "miou = iou.outputScores()\n",
    "scheduler.step(loss_running.avg)\n",
    "\n",
    "print('loss : {:.4f} acc : {:.4f} miou : {:.4f}'.format(loss_running.avg, acc_running.avg, miou))"
   ]
  }
 ],
 "metadata": {
  "kernelspec": {
   "display_name": "yooso",
   "language": "python",
   "name": "yooso_venv"
  },
  "language_info": {
   "codemirror_mode": {
    "name": "ipython",
    "version": 3
   },
   "file_extension": ".py",
   "mimetype": "text/x-python",
   "name": "python",
   "nbconvert_exporter": "python",
   "pygments_lexer": "ipython3",
   "version": "3.6.6"
  }
 },
 "nbformat": 4,
 "nbformat_minor": 5
}
