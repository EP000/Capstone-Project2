{
 "cells": [
  {
   "cell_type": "code",
   "execution_count": 11,
   "metadata": {},
   "outputs": [],
   "source": [
    "import pandas as pd\n",
    "import numpy as np\n",
    "from PIL import Image, ImageOps\n",
    "from tqdm import tqdm \n",
    "import os, shutil"
   ]
  },
  {
   "cell_type": "code",
   "execution_count": 3,
   "metadata": {},
   "outputs": [
    {
     "name": "stdout",
     "output_type": "stream",
     "text": [
      "(960, 720)\n"
     ]
    }
   ],
   "source": [
    "from PIL import Image\n",
    " \n",
    "image1 = Image.open('./data_cap/gray_data2/0001TP_006690_L.png')\n",
    "imag1_size = image1.size\n",
    "print(imag1_size)"
   ]
  },
  {
   "cell_type": "code",
   "execution_count": 12,
   "metadata": {},
   "outputs": [
    {
     "data": {
      "text/html": [
       "<div>\n",
       "<style scoped>\n",
       "    .dataframe tbody tr th:only-of-type {\n",
       "        vertical-align: middle;\n",
       "    }\n",
       "\n",
       "    .dataframe tbody tr th {\n",
       "        vertical-align: top;\n",
       "    }\n",
       "\n",
       "    .dataframe thead th {\n",
       "        text-align: right;\n",
       "    }\n",
       "</style>\n",
       "<table border=\"1\" class=\"dataframe\">\n",
       "  <thead>\n",
       "    <tr style=\"text-align: right;\">\n",
       "      <th></th>\n",
       "      <th>r</th>\n",
       "      <th>g</th>\n",
       "      <th>b</th>\n",
       "      <th>label</th>\n",
       "    </tr>\n",
       "  </thead>\n",
       "  <tbody>\n",
       "    <tr>\n",
       "      <td>0</td>\n",
       "      <td>128</td>\n",
       "      <td>128</td>\n",
       "      <td>102</td>\n",
       "      <td>Void</td>\n",
       "    </tr>\n",
       "    <tr>\n",
       "      <td>1</td>\n",
       "      <td>0</td>\n",
       "      <td>0</td>\n",
       "      <td>64</td>\n",
       "      <td>Pole</td>\n",
       "    </tr>\n",
       "    <tr>\n",
       "      <td>2</td>\n",
       "      <td>0</td>\n",
       "      <td>128</td>\n",
       "      <td>192</td>\n",
       "      <td>Bicyclist</td>\n",
       "    </tr>\n",
       "    <tr>\n",
       "      <td>3</td>\n",
       "      <td>128</td>\n",
       "      <td>128</td>\n",
       "      <td>21</td>\n",
       "      <td>Void</td>\n",
       "    </tr>\n",
       "    <tr>\n",
       "      <td>4</td>\n",
       "      <td>111</td>\n",
       "      <td>111</td>\n",
       "      <td>0</td>\n",
       "      <td>Void</td>\n",
       "    </tr>\n",
       "    <tr>\n",
       "      <td>...</td>\n",
       "      <td>...</td>\n",
       "      <td>...</td>\n",
       "      <td>...</td>\n",
       "      <td>...</td>\n",
       "    </tr>\n",
       "    <tr>\n",
       "      <td>81</td>\n",
       "      <td>26</td>\n",
       "      <td>26</td>\n",
       "      <td>26</td>\n",
       "      <td>Void</td>\n",
       "    </tr>\n",
       "    <tr>\n",
       "      <td>82</td>\n",
       "      <td>2</td>\n",
       "      <td>2</td>\n",
       "      <td>0</td>\n",
       "      <td>Void</td>\n",
       "    </tr>\n",
       "    <tr>\n",
       "      <td>83</td>\n",
       "      <td>128</td>\n",
       "      <td>128</td>\n",
       "      <td>69</td>\n",
       "      <td>Void</td>\n",
       "    </tr>\n",
       "    <tr>\n",
       "      <td>84</td>\n",
       "      <td>50</td>\n",
       "      <td>50</td>\n",
       "      <td>50</td>\n",
       "      <td>Void</td>\n",
       "    </tr>\n",
       "    <tr>\n",
       "      <td>85</td>\n",
       "      <td>192</td>\n",
       "      <td>0</td>\n",
       "      <td>192</td>\n",
       "      <td>Bicyclist</td>\n",
       "    </tr>\n",
       "  </tbody>\n",
       "</table>\n",
       "<p>86 rows × 4 columns</p>\n",
       "</div>"
      ],
      "text/plain": [
       "      r    g    b      label\n",
       "0   128  128  102       Void\n",
       "1     0    0   64       Pole\n",
       "2     0  128  192  Bicyclist\n",
       "3   128  128   21       Void\n",
       "4   111  111    0       Void\n",
       "..  ...  ...  ...        ...\n",
       "81   26   26   26       Void\n",
       "82    2    2    0       Void\n",
       "83  128  128   69       Void\n",
       "84   50   50   50       Void\n",
       "85  192    0  192  Bicyclist\n",
       "\n",
       "[86 rows x 4 columns]"
      ]
     },
     "execution_count": 12,
     "metadata": {},
     "output_type": "execute_result"
    }
   ],
   "source": [
    "label_data = pd.read_csv(\"./data_cap/rgb_seg.csv\")\n",
    "label_data"
   ]
  },
  {
   "cell_type": "code",
   "execution_count": 13,
   "metadata": {},
   "outputs": [
    {
     "data": {
      "text/plain": [
       "['Road',\n",
       " 'Pavement',\n",
       " 'SignSymbol',\n",
       " 'Building',\n",
       " 'Sky',\n",
       " 'Bicyclist',\n",
       " 'Car',\n",
       " 'Pedestrian',\n",
       " 'Tree',\n",
       " 'Fence',\n",
       " 'Pole',\n",
       " 'Void']"
      ]
     },
     "execution_count": 13,
     "metadata": {},
     "output_type": "execute_result"
    }
   ],
   "source": [
    "label_list = list(set(label_data['label']))\n",
    "label_list"
   ]
  },
  {
   "cell_type": "code",
   "execution_count": 14,
   "metadata": {
    "scrolled": true
   },
   "outputs": [
    {
     "data": {
      "text/html": [
       "<div>\n",
       "<style scoped>\n",
       "    .dataframe tbody tr th:only-of-type {\n",
       "        vertical-align: middle;\n",
       "    }\n",
       "\n",
       "    .dataframe tbody tr th {\n",
       "        vertical-align: top;\n",
       "    }\n",
       "\n",
       "    .dataframe thead th {\n",
       "        text-align: right;\n",
       "    }\n",
       "</style>\n",
       "<table border=\"1\" class=\"dataframe\">\n",
       "  <thead>\n",
       "    <tr style=\"text-align: right;\">\n",
       "      <th></th>\n",
       "      <th>r</th>\n",
       "      <th>g</th>\n",
       "      <th>b</th>\n",
       "      <th>label</th>\n",
       "      <th>label_num</th>\n",
       "    </tr>\n",
       "  </thead>\n",
       "  <tbody>\n",
       "    <tr>\n",
       "      <td>0</td>\n",
       "      <td>128</td>\n",
       "      <td>128</td>\n",
       "      <td>102</td>\n",
       "      <td>Void</td>\n",
       "      <td>255</td>\n",
       "    </tr>\n",
       "    <tr>\n",
       "      <td>1</td>\n",
       "      <td>0</td>\n",
       "      <td>0</td>\n",
       "      <td>64</td>\n",
       "      <td>Pole</td>\n",
       "      <td>10</td>\n",
       "    </tr>\n",
       "    <tr>\n",
       "      <td>2</td>\n",
       "      <td>0</td>\n",
       "      <td>128</td>\n",
       "      <td>192</td>\n",
       "      <td>Bicyclist</td>\n",
       "      <td>5</td>\n",
       "    </tr>\n",
       "    <tr>\n",
       "      <td>3</td>\n",
       "      <td>128</td>\n",
       "      <td>128</td>\n",
       "      <td>21</td>\n",
       "      <td>Void</td>\n",
       "      <td>255</td>\n",
       "    </tr>\n",
       "    <tr>\n",
       "      <td>4</td>\n",
       "      <td>111</td>\n",
       "      <td>111</td>\n",
       "      <td>0</td>\n",
       "      <td>Void</td>\n",
       "      <td>255</td>\n",
       "    </tr>\n",
       "    <tr>\n",
       "      <td>...</td>\n",
       "      <td>...</td>\n",
       "      <td>...</td>\n",
       "      <td>...</td>\n",
       "      <td>...</td>\n",
       "      <td>...</td>\n",
       "    </tr>\n",
       "    <tr>\n",
       "      <td>81</td>\n",
       "      <td>26</td>\n",
       "      <td>26</td>\n",
       "      <td>26</td>\n",
       "      <td>Void</td>\n",
       "      <td>255</td>\n",
       "    </tr>\n",
       "    <tr>\n",
       "      <td>82</td>\n",
       "      <td>2</td>\n",
       "      <td>2</td>\n",
       "      <td>0</td>\n",
       "      <td>Void</td>\n",
       "      <td>255</td>\n",
       "    </tr>\n",
       "    <tr>\n",
       "      <td>83</td>\n",
       "      <td>128</td>\n",
       "      <td>128</td>\n",
       "      <td>69</td>\n",
       "      <td>Void</td>\n",
       "      <td>255</td>\n",
       "    </tr>\n",
       "    <tr>\n",
       "      <td>84</td>\n",
       "      <td>50</td>\n",
       "      <td>50</td>\n",
       "      <td>50</td>\n",
       "      <td>Void</td>\n",
       "      <td>255</td>\n",
       "    </tr>\n",
       "    <tr>\n",
       "      <td>85</td>\n",
       "      <td>192</td>\n",
       "      <td>0</td>\n",
       "      <td>192</td>\n",
       "      <td>Bicyclist</td>\n",
       "      <td>5</td>\n",
       "    </tr>\n",
       "  </tbody>\n",
       "</table>\n",
       "<p>86 rows × 5 columns</p>\n",
       "</div>"
      ],
      "text/plain": [
       "      r    g    b      label  label_num\n",
       "0   128  128  102       Void        255\n",
       "1     0    0   64       Pole         10\n",
       "2     0  128  192  Bicyclist          5\n",
       "3   128  128   21       Void        255\n",
       "4   111  111    0       Void        255\n",
       "..  ...  ...  ...        ...        ...\n",
       "81   26   26   26       Void        255\n",
       "82    2    2    0       Void        255\n",
       "83  128  128   69       Void        255\n",
       "84   50   50   50       Void        255\n",
       "85  192    0  192  Bicyclist          5\n",
       "\n",
       "[86 rows x 5 columns]"
      ]
     },
     "execution_count": 14,
     "metadata": {},
     "output_type": "execute_result"
    }
   ],
   "source": [
    "#list(label_data['label'])l\n",
    "label_num = [label_list.index(label_name) for label_name in list(label_data['label'])]\n",
    "label_data['label_num'] = label_num\n",
    "\n",
    "label_data.loc[label_data['label_num']==11, 'label_num'] = 255\n",
    "\n",
    "label_data"
   ]
  },
  {
   "cell_type": "code",
   "execution_count": 15,
   "metadata": {},
   "outputs": [
    {
     "data": {
      "text/plain": [
       "(128, 128, 102)"
      ]
     },
     "execution_count": 15,
     "metadata": {},
     "output_type": "execute_result"
    }
   ],
   "source": [
    "tuple(label_data.iloc[0, 0:3])"
   ]
  },
  {
   "cell_type": "code",
   "execution_count": 16,
   "metadata": {},
   "outputs": [],
   "source": [
    "palette = {}\n",
    "for index in range(len(label_data)):\n",
    "    palette[tuple(label_data.iloc[index, 0:3])] = label_data.iloc[index, 4]"
   ]
  },
  {
   "cell_type": "code",
   "execution_count": 17,
   "metadata": {
    "scrolled": true
   },
   "outputs": [
    {
     "data": {
      "text/plain": [
       "{(128, 128, 102): 255,\n",
       " (0, 0, 64): 10,\n",
       " (0, 128, 192): 5,\n",
       " (128, 128, 21): 255,\n",
       " (111, 111, 0): 255,\n",
       " (128, 128, 77): 255,\n",
       " (108, 108, 0): 255,\n",
       " (18, 18, 0): 255,\n",
       " (128, 128, 75): 255,\n",
       " (128, 128, 54): 255,\n",
       " (154, 154, 51): 255,\n",
       " (15, 15, 15): 255,\n",
       " (64, 0, 64): 3,\n",
       " (48, 48, 0): 255,\n",
       " (128, 128, 50): 255,\n",
       " (64, 192, 128): 1,\n",
       " (64, 128, 192): 6,\n",
       " (128, 128, 128): 4,\n",
       " (64, 64, 0): 7,\n",
       " (128, 64, 64): 6,\n",
       " (192, 192, 0): 8,\n",
       " (128, 0, 0): 3,\n",
       " (63, 63, 63): 255,\n",
       " (128, 128, 104): 255,\n",
       " (50, 50, 0): 255,\n",
       " (192, 128, 64): 7,\n",
       " (60, 60, 0): 255,\n",
       " (128, 128, 192): 1,\n",
       " (192, 0, 128): 3,\n",
       " (26, 26, 0): 255,\n",
       " (102, 102, 0): 255,\n",
       " (128, 128, 6): 255,\n",
       " (51, 51, 51): 255,\n",
       " (128, 128, 126): 255,\n",
       " (77, 77, 77): 255,\n",
       " (192, 192, 128): 10,\n",
       " (128, 128, 0): 8,\n",
       " (64, 192, 0): 3,\n",
       " (64, 64, 128): 9,\n",
       " (64, 128, 64): 7,\n",
       " (192, 128, 192): 6,\n",
       " (192, 0, 64): 0,\n",
       " (64, 0, 192): 7,\n",
       " (125, 125, 125): 255,\n",
       " (110, 110, 110): 255,\n",
       " (128, 128, 68): 255,\n",
       " (128, 64, 128): 0,\n",
       " (128, 0, 192): 0,\n",
       " (64, 0, 128): 6,\n",
       " (128, 128, 64): 2,\n",
       " (192, 128, 128): 2,\n",
       " (5, 5, 0): 255,\n",
       " (128, 128, 78): 255,\n",
       " (92, 92, 92): 255,\n",
       " (113, 113, 113): 255,\n",
       " (138, 138, 20): 255,\n",
       " (171, 171, 86): 255,\n",
       " (77, 77, 0): 255,\n",
       " (51, 51, 0): 255,\n",
       " (128, 128, 51): 255,\n",
       " (36, 36, 36): 255,\n",
       " (128, 128, 30): 255,\n",
       " (128, 128, 86): 255,\n",
       " (29, 29, 0): 255,\n",
       " (128, 128, 63): 255,\n",
       " (136, 136, 15): 255,\n",
       " (128, 128, 26): 255,\n",
       " (0, 0, 192): 1,\n",
       " (0, 128, 64): 3,\n",
       " (8, 8, 8): 255,\n",
       " (128, 128, 113): 255,\n",
       " (116, 116, 116): 255,\n",
       " (128, 128, 92): 255,\n",
       " (47, 47, 0): 255,\n",
       " (191, 191, 126): 255,\n",
       " (128, 128, 3): 255,\n",
       " (128, 128, 123): 255,\n",
       " (0, 64, 64): 2,\n",
       " (0, 0, 0): 255,\n",
       " (2, 2, 2): 255,\n",
       " (48, 48, 48): 255,\n",
       " (26, 26, 26): 255,\n",
       " (2, 2, 0): 255,\n",
       " (128, 128, 69): 255,\n",
       " (50, 50, 50): 255,\n",
       " (192, 0, 192): 5}"
      ]
     },
     "execution_count": 17,
     "metadata": {},
     "output_type": "execute_result"
    }
   ],
   "source": [
    "palette"
   ]
  },
  {
   "cell_type": "code",
   "execution_count": 18,
   "metadata": {},
   "outputs": [],
   "source": [
    "def convert_from_color_segmentation(arr_3d):\n",
    "    arr_2d = np.zeros((arr_3d.shape[0], arr_3d.shape[1]), dtype=np.uint8)\n",
    "\n",
    "    for c, i in palette.items():\n",
    "        m = np.all(arr_3d == np.array(c).reshape(1, 1, 3), axis=2)\n",
    "        arr_2d[m] = i\n",
    "\n",
    "    return arr_2d"
   ]
  },
  {
   "cell_type": "code",
   "execution_count": 22,
   "metadata": {},
   "outputs": [
    {
     "name": "stderr",
     "output_type": "stream",
     "text": [
      "100%|██████████| 701/701 [20:38<00:00,  1.77s/it]\n"
     ]
    }
   ],
   "source": [
    "path = \"./data_cap/Labeled_data/\"\n",
    "file_list = os.listdir(path)\n",
    "\n",
    "for l_f in tqdm(file_list):\n",
    "    arr = np.array(Image.open(path + l_f))\n",
    "    arr_2d = convert_from_color_segmentation(arr)\n",
    "    l_f = ''.join(l_f.split('_L'))\n",
    "    Image.fromarray(arr_2d).save('../tensorflow-deeplab-v3-plus/data_cap/Gray_data/' + l_f)"
   ]
  },
  {
   "cell_type": "code",
   "execution_count": 23,
   "metadata": {},
   "outputs": [
    {
     "data": {
      "image/png": "[encoded data removed]",
      "text/plain": [
       "<PIL.PngImagePlugin.PngImageFile image mode=L size=960x720 at 0x7FA3D91CAA90>"
      ]
     },
     "execution_count": 23,
     "metadata": {},
     "output_type": "execute_result"
    }
   ],
   "source": [
    "Image.open('./data_cap/Gray_data/0001TP_006690.png')"
   ]
  }
 ],
 "metadata": {
  "kernelspec": {
   "display_name": "Python 3",
   "language": "python",
   "name": "python3"
  },
  "language_info": {
   "codemirror_mode": {
    "name": "ipython",
    "version": 3
   },
   "file_extension": ".py",
   "mimetype": "text/x-python",
   "name": "python",
   "nbconvert_exporter": "python",
   "pygments_lexer": "ipython3",
   "version": "3.8.8"
  }
 },
 "nbformat": 4,
 "nbformat_minor": 2
}
