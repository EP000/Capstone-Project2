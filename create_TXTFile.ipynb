{
 "cells": [
  {
   "cell_type": "code",
   "execution_count": 1,
   "metadata": {},
   "outputs": [],
   "source": [
    "import os\n",
    "import random"
   ]
  },
  {
   "cell_type": "code",
   "execution_count": 12,
   "metadata": {},
   "outputs": [],
   "source": [
    "f_list = [fileName.strip(\".png\") for fileName in os.listdir(\"./data_cap/Original_data\")]\n",
    "random.shuffle(f_list)\n",
    "\n",
    "length = len(f_list)\n",
    "train_index = int(length*0.6)\n",
    "val_index = train_index + int(length*0.2)\n",
    "\n",
    "train = f_list[:train_index]\n",
    "val = f_list[train_index : val_index]\n",
    "test = f_list[val_index:]\n",
    "\n",
    "with open(\"dataset/train.txt\", \"w\") as t:\n",
    "    for f_name in train:\n",
    "        t.write(f_name + \"\\n\")\n",
    "with open(\"dataset/val.txt\", \"w\") as v:\n",
    "    for f_name in val:\n",
    "        v.write(f_name + \"\\n\")\n",
    "with open(\"dataset/test.txt\", \"w\") as tt:\n",
    "    for f_name in test:\n",
    "        tt.write(f_name + \"\\n\")"
   ]
  },
  {
   "cell_type": "code",
   "execution_count": 13,
   "metadata": {},
   "outputs": [
    {
     "name": "stdout",
     "output_type": "stream",
     "text": [
      "420 140 141\n"
     ]
    }
   ],
   "source": [
    "print(len(train), len(val), len(test))"
   ]
  }
 ],
 "metadata": {
  "kernelspec": {
   "display_name": "Python 3",
   "language": "python",
   "name": "python3"
  },
  "language_info": {
   "codemirror_mode": {
    "name": "ipython",
    "version": 3
   },
   "file_extension": ".py",
   "mimetype": "text/x-python",
   "name": "python",
   "nbconvert_exporter": "python",
   "pygments_lexer": "ipython3",
   "version": "3.7.4"
  }
 },
 "nbformat": 4,
 "nbformat_minor": 2
}
